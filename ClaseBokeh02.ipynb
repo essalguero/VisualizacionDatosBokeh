{
 "cells": [
  {
   "cell_type": "markdown",
   "metadata": {},
   "source": [
    "# Clase 2 de Bokeh"
   ]
  },
  {
   "cell_type": "code",
   "execution_count": 1,
   "metadata": {},
   "outputs": [],
   "source": [
    "from bokeh.plotting import figure\n",
    "from bokeh.io import show, output_notebook"
   ]
  },
  {
   "cell_type": "code",
   "execution_count": 2,
   "metadata": {},
   "outputs": [],
   "source": [
    "from bokeh.plotting import ColumnDataSource #para poder lincar datos de distintos datasets\n",
    "from bokeh.models import CategoricalColorMapper, HoverTool"
   ]
  },
  {
   "cell_type": "code",
   "execution_count": 3,
   "metadata": {},
   "outputs": [],
   "source": [
    "import pandas as pd\n",
    "import numpy as np\n",
    "import json"
   ]
  },
  {
   "cell_type": "code",
   "execution_count": 4,
   "metadata": {},
   "outputs": [
    {
     "data": {
      "text/html": [
       "\n",
       "    <div class=\"bk-root\">\n",
       "        <a href=\"https://bokeh.pydata.org\" target=\"_blank\" class=\"bk-logo bk-logo-small bk-logo-notebook\"></a>\n",
       "        <span id=\"ba2a421e-acaa-4fde-91ec-62e54ba7c8b7\">Loading BokehJS ...</span>\n",
       "    </div>"
      ]
     },
     "metadata": {},
     "output_type": "display_data"
    },
    {
     "data": {
      "application/javascript": [
       "\n",
       "(function(root) {\n",
       "  function now() {\n",
       "    return new Date();\n",
       "  }\n",
       "\n",
       "  var force = true;\n",
       "\n",
       "  if (typeof (root._bokeh_onload_callbacks) === \"undefined\" || force === true) {\n",
       "    root._bokeh_onload_callbacks = [];\n",
       "    root._bokeh_is_loading = undefined;\n",
       "  }\n",
       "\n",
       "  var JS_MIME_TYPE = 'application/javascript';\n",
       "  var HTML_MIME_TYPE = 'text/html';\n",
       "  var EXEC_MIME_TYPE = 'application/vnd.bokehjs_exec.v0+json';\n",
       "  var CLASS_NAME = 'output_bokeh rendered_html';\n",
       "\n",
       "  /**\n",
       "   * Render data to the DOM node\n",
       "   */\n",
       "  function render(props, node) {\n",
       "    var script = document.createElement(\"script\");\n",
       "    node.appendChild(script);\n",
       "  }\n",
       "\n",
       "  /**\n",
       "   * Handle when an output is cleared or removed\n",
       "   */\n",
       "  function handleClearOutput(event, handle) {\n",
       "    var cell = handle.cell;\n",
       "\n",
       "    var id = cell.output_area._bokeh_element_id;\n",
       "    var server_id = cell.output_area._bokeh_server_id;\n",
       "    // Clean up Bokeh references\n",
       "    if (id !== undefined) {\n",
       "      Bokeh.index[id].model.document.clear();\n",
       "      delete Bokeh.index[id];\n",
       "    }\n",
       "\n",
       "    if (server_id !== undefined) {\n",
       "      // Clean up Bokeh references\n",
       "      var cmd = \"from bokeh.io.state import curstate; print(curstate().uuid_to_server['\" + server_id + \"'].get_sessions()[0].document.roots[0]._id)\";\n",
       "      cell.notebook.kernel.execute(cmd, {\n",
       "        iopub: {\n",
       "          output: function(msg) {\n",
       "            var element_id = msg.content.text.trim();\n",
       "            Bokeh.index[element_id].model.document.clear();\n",
       "            delete Bokeh.index[element_id];\n",
       "          }\n",
       "        }\n",
       "      });\n",
       "      // Destroy server and session\n",
       "      var cmd = \"import bokeh.io.notebook as ion; ion.destroy_server('\" + server_id + \"')\";\n",
       "      cell.notebook.kernel.execute(cmd);\n",
       "    }\n",
       "  }\n",
       "\n",
       "  /**\n",
       "   * Handle when a new output is added\n",
       "   */\n",
       "  function handleAddOutput(event, handle) {\n",
       "    var output_area = handle.output_area;\n",
       "    var output = handle.output;\n",
       "\n",
       "    // limit handleAddOutput to display_data with EXEC_MIME_TYPE content only\n",
       "    if ((output.output_type != \"display_data\") || (!output.data.hasOwnProperty(EXEC_MIME_TYPE))) {\n",
       "      return\n",
       "    }\n",
       "\n",
       "    var toinsert = output_area.element.find(\".\" + CLASS_NAME.split(' ')[0]);\n",
       "\n",
       "    if (output.metadata[EXEC_MIME_TYPE][\"id\"] !== undefined) {\n",
       "      toinsert[toinsert.length - 1].firstChild.textContent = output.data[JS_MIME_TYPE];\n",
       "      // store reference to embed id on output_area\n",
       "      output_area._bokeh_element_id = output.metadata[EXEC_MIME_TYPE][\"id\"];\n",
       "    }\n",
       "    if (output.metadata[EXEC_MIME_TYPE][\"server_id\"] !== undefined) {\n",
       "      var bk_div = document.createElement(\"div\");\n",
       "      bk_div.innerHTML = output.data[HTML_MIME_TYPE];\n",
       "      var script_attrs = bk_div.children[0].attributes;\n",
       "      for (var i = 0; i < script_attrs.length; i++) {\n",
       "        toinsert[toinsert.length - 1].firstChild.setAttribute(script_attrs[i].name, script_attrs[i].value);\n",
       "      }\n",
       "      // store reference to server id on output_area\n",
       "      output_area._bokeh_server_id = output.metadata[EXEC_MIME_TYPE][\"server_id\"];\n",
       "    }\n",
       "  }\n",
       "\n",
       "  function register_renderer(events, OutputArea) {\n",
       "\n",
       "    function append_mime(data, metadata, element) {\n",
       "      // create a DOM node to render to\n",
       "      var toinsert = this.create_output_subarea(\n",
       "        metadata,\n",
       "        CLASS_NAME,\n",
       "        EXEC_MIME_TYPE\n",
       "      );\n",
       "      this.keyboard_manager.register_events(toinsert);\n",
       "      // Render to node\n",
       "      var props = {data: data, metadata: metadata[EXEC_MIME_TYPE]};\n",
       "      render(props, toinsert[toinsert.length - 1]);\n",
       "      element.append(toinsert);\n",
       "      return toinsert\n",
       "    }\n",
       "\n",
       "    /* Handle when an output is cleared or removed */\n",
       "    events.on('clear_output.CodeCell', handleClearOutput);\n",
       "    events.on('delete.Cell', handleClearOutput);\n",
       "\n",
       "    /* Handle when a new output is added */\n",
       "    events.on('output_added.OutputArea', handleAddOutput);\n",
       "\n",
       "    /**\n",
       "     * Register the mime type and append_mime function with output_area\n",
       "     */\n",
       "    OutputArea.prototype.register_mime_type(EXEC_MIME_TYPE, append_mime, {\n",
       "      /* Is output safe? */\n",
       "      safe: true,\n",
       "      /* Index of renderer in `output_area.display_order` */\n",
       "      index: 0\n",
       "    });\n",
       "  }\n",
       "\n",
       "  // register the mime type if in Jupyter Notebook environment and previously unregistered\n",
       "  if (root.Jupyter !== undefined) {\n",
       "    var events = require('base/js/events');\n",
       "    var OutputArea = require('notebook/js/outputarea').OutputArea;\n",
       "\n",
       "    if (OutputArea.prototype.mime_types().indexOf(EXEC_MIME_TYPE) == -1) {\n",
       "      register_renderer(events, OutputArea);\n",
       "    }\n",
       "  }\n",
       "\n",
       "  \n",
       "  if (typeof (root._bokeh_timeout) === \"undefined\" || force === true) {\n",
       "    root._bokeh_timeout = Date.now() + 5000;\n",
       "    root._bokeh_failed_load = false;\n",
       "  }\n",
       "\n",
       "  var NB_LOAD_WARNING = {'data': {'text/html':\n",
       "     \"<div style='background-color: #fdd'>\\n\"+\n",
       "     \"<p>\\n\"+\n",
       "     \"BokehJS does not appear to have successfully loaded. If loading BokehJS from CDN, this \\n\"+\n",
       "     \"may be due to a slow or bad network connection. Possible fixes:\\n\"+\n",
       "     \"</p>\\n\"+\n",
       "     \"<ul>\\n\"+\n",
       "     \"<li>re-rerun `output_notebook()` to attempt to load from CDN again, or</li>\\n\"+\n",
       "     \"<li>use INLINE resources instead, as so:</li>\\n\"+\n",
       "     \"</ul>\\n\"+\n",
       "     \"<code>\\n\"+\n",
       "     \"from bokeh.resources import INLINE\\n\"+\n",
       "     \"output_notebook(resources=INLINE)\\n\"+\n",
       "     \"</code>\\n\"+\n",
       "     \"</div>\"}};\n",
       "\n",
       "  function display_loaded() {\n",
       "    var el = document.getElementById(\"ba2a421e-acaa-4fde-91ec-62e54ba7c8b7\");\n",
       "    if (el != null) {\n",
       "      el.textContent = \"BokehJS is loading...\";\n",
       "    }\n",
       "    if (root.Bokeh !== undefined) {\n",
       "      if (el != null) {\n",
       "        el.textContent = \"BokehJS \" + root.Bokeh.version + \" successfully loaded.\";\n",
       "      }\n",
       "    } else if (Date.now() < root._bokeh_timeout) {\n",
       "      setTimeout(display_loaded, 100)\n",
       "    }\n",
       "  }\n",
       "\n",
       "\n",
       "  function run_callbacks() {\n",
       "    try {\n",
       "      root._bokeh_onload_callbacks.forEach(function(callback) { callback() });\n",
       "    }\n",
       "    finally {\n",
       "      delete root._bokeh_onload_callbacks\n",
       "    }\n",
       "    console.info(\"Bokeh: all callbacks have finished\");\n",
       "  }\n",
       "\n",
       "  function load_libs(js_urls, callback) {\n",
       "    root._bokeh_onload_callbacks.push(callback);\n",
       "    if (root._bokeh_is_loading > 0) {\n",
       "      console.log(\"Bokeh: BokehJS is being loaded, scheduling callback at\", now());\n",
       "      return null;\n",
       "    }\n",
       "    if (js_urls == null || js_urls.length === 0) {\n",
       "      run_callbacks();\n",
       "      return null;\n",
       "    }\n",
       "    console.log(\"Bokeh: BokehJS not loaded, scheduling load and callback at\", now());\n",
       "    root._bokeh_is_loading = js_urls.length;\n",
       "    for (var i = 0; i < js_urls.length; i++) {\n",
       "      var url = js_urls[i];\n",
       "      var s = document.createElement('script');\n",
       "      s.src = url;\n",
       "      s.async = false;\n",
       "      s.onreadystatechange = s.onload = function() {\n",
       "        root._bokeh_is_loading--;\n",
       "        if (root._bokeh_is_loading === 0) {\n",
       "          console.log(\"Bokeh: all BokehJS libraries loaded\");\n",
       "          run_callbacks()\n",
       "        }\n",
       "      };\n",
       "      s.onerror = function() {\n",
       "        console.warn(\"failed to load library \" + url);\n",
       "      };\n",
       "      console.log(\"Bokeh: injecting script tag for BokehJS library: \", url);\n",
       "      document.getElementsByTagName(\"head\")[0].appendChild(s);\n",
       "    }\n",
       "  };var element = document.getElementById(\"ba2a421e-acaa-4fde-91ec-62e54ba7c8b7\");\n",
       "  if (element == null) {\n",
       "    console.log(\"Bokeh: ERROR: autoload.js configured with elementid 'ba2a421e-acaa-4fde-91ec-62e54ba7c8b7' but no matching script tag was found. \")\n",
       "    return false;\n",
       "  }\n",
       "\n",
       "  var js_urls = [\"https://cdn.pydata.org/bokeh/release/bokeh-0.12.15.min.js\", \"https://cdn.pydata.org/bokeh/release/bokeh-widgets-0.12.15.min.js\", \"https://cdn.pydata.org/bokeh/release/bokeh-tables-0.12.15.min.js\", \"https://cdn.pydata.org/bokeh/release/bokeh-gl-0.12.15.min.js\"];\n",
       "\n",
       "  var inline_js = [\n",
       "    function(Bokeh) {\n",
       "      Bokeh.set_log_level(\"info\");\n",
       "    },\n",
       "    \n",
       "    function(Bokeh) {\n",
       "      \n",
       "    },\n",
       "    function(Bokeh) {\n",
       "      console.log(\"Bokeh: injecting CSS: https://cdn.pydata.org/bokeh/release/bokeh-0.12.15.min.css\");\n",
       "      Bokeh.embed.inject_css(\"https://cdn.pydata.org/bokeh/release/bokeh-0.12.15.min.css\");\n",
       "      console.log(\"Bokeh: injecting CSS: https://cdn.pydata.org/bokeh/release/bokeh-widgets-0.12.15.min.css\");\n",
       "      Bokeh.embed.inject_css(\"https://cdn.pydata.org/bokeh/release/bokeh-widgets-0.12.15.min.css\");\n",
       "      console.log(\"Bokeh: injecting CSS: https://cdn.pydata.org/bokeh/release/bokeh-tables-0.12.15.min.css\");\n",
       "      Bokeh.embed.inject_css(\"https://cdn.pydata.org/bokeh/release/bokeh-tables-0.12.15.min.css\");\n",
       "    }\n",
       "  ];\n",
       "\n",
       "  function run_inline_js() {\n",
       "    \n",
       "    if ((root.Bokeh !== undefined) || (force === true)) {\n",
       "      for (var i = 0; i < inline_js.length; i++) {\n",
       "        inline_js[i].call(root, root.Bokeh);\n",
       "      }if (force === true) {\n",
       "        display_loaded();\n",
       "      }} else if (Date.now() < root._bokeh_timeout) {\n",
       "      setTimeout(run_inline_js, 100);\n",
       "    } else if (!root._bokeh_failed_load) {\n",
       "      console.log(\"Bokeh: BokehJS failed to load within specified timeout.\");\n",
       "      root._bokeh_failed_load = true;\n",
       "    } else if (force !== true) {\n",
       "      var cell = $(document.getElementById(\"ba2a421e-acaa-4fde-91ec-62e54ba7c8b7\")).parents('.cell').data().cell;\n",
       "      cell.output_area.append_execute_result(NB_LOAD_WARNING)\n",
       "    }\n",
       "\n",
       "  }\n",
       "\n",
       "  if (root._bokeh_is_loading === 0) {\n",
       "    console.log(\"Bokeh: BokehJS loaded, going straight to plotting\");\n",
       "    run_inline_js();\n",
       "  } else {\n",
       "    load_libs(js_urls, function() {\n",
       "      console.log(\"Bokeh: BokehJS plotting callback run at\", now());\n",
       "      run_inline_js();\n",
       "    });\n",
       "  }\n",
       "}(window));"
      ],
      "application/vnd.bokehjs_load.v0+json": "\n(function(root) {\n  function now() {\n    return new Date();\n  }\n\n  var force = true;\n\n  if (typeof (root._bokeh_onload_callbacks) === \"undefined\" || force === true) {\n    root._bokeh_onload_callbacks = [];\n    root._bokeh_is_loading = undefined;\n  }\n\n  \n\n  \n  if (typeof (root._bokeh_timeout) === \"undefined\" || force === true) {\n    root._bokeh_timeout = Date.now() + 5000;\n    root._bokeh_failed_load = false;\n  }\n\n  var NB_LOAD_WARNING = {'data': {'text/html':\n     \"<div style='background-color: #fdd'>\\n\"+\n     \"<p>\\n\"+\n     \"BokehJS does not appear to have successfully loaded. If loading BokehJS from CDN, this \\n\"+\n     \"may be due to a slow or bad network connection. Possible fixes:\\n\"+\n     \"</p>\\n\"+\n     \"<ul>\\n\"+\n     \"<li>re-rerun `output_notebook()` to attempt to load from CDN again, or</li>\\n\"+\n     \"<li>use INLINE resources instead, as so:</li>\\n\"+\n     \"</ul>\\n\"+\n     \"<code>\\n\"+\n     \"from bokeh.resources import INLINE\\n\"+\n     \"output_notebook(resources=INLINE)\\n\"+\n     \"</code>\\n\"+\n     \"</div>\"}};\n\n  function display_loaded() {\n    var el = document.getElementById(\"ba2a421e-acaa-4fde-91ec-62e54ba7c8b7\");\n    if (el != null) {\n      el.textContent = \"BokehJS is loading...\";\n    }\n    if (root.Bokeh !== undefined) {\n      if (el != null) {\n        el.textContent = \"BokehJS \" + root.Bokeh.version + \" successfully loaded.\";\n      }\n    } else if (Date.now() < root._bokeh_timeout) {\n      setTimeout(display_loaded, 100)\n    }\n  }\n\n\n  function run_callbacks() {\n    try {\n      root._bokeh_onload_callbacks.forEach(function(callback) { callback() });\n    }\n    finally {\n      delete root._bokeh_onload_callbacks\n    }\n    console.info(\"Bokeh: all callbacks have finished\");\n  }\n\n  function load_libs(js_urls, callback) {\n    root._bokeh_onload_callbacks.push(callback);\n    if (root._bokeh_is_loading > 0) {\n      console.log(\"Bokeh: BokehJS is being loaded, scheduling callback at\", now());\n      return null;\n    }\n    if (js_urls == null || js_urls.length === 0) {\n      run_callbacks();\n      return null;\n    }\n    console.log(\"Bokeh: BokehJS not loaded, scheduling load and callback at\", now());\n    root._bokeh_is_loading = js_urls.length;\n    for (var i = 0; i < js_urls.length; i++) {\n      var url = js_urls[i];\n      var s = document.createElement('script');\n      s.src = url;\n      s.async = false;\n      s.onreadystatechange = s.onload = function() {\n        root._bokeh_is_loading--;\n        if (root._bokeh_is_loading === 0) {\n          console.log(\"Bokeh: all BokehJS libraries loaded\");\n          run_callbacks()\n        }\n      };\n      s.onerror = function() {\n        console.warn(\"failed to load library \" + url);\n      };\n      console.log(\"Bokeh: injecting script tag for BokehJS library: \", url);\n      document.getElementsByTagName(\"head\")[0].appendChild(s);\n    }\n  };var element = document.getElementById(\"ba2a421e-acaa-4fde-91ec-62e54ba7c8b7\");\n  if (element == null) {\n    console.log(\"Bokeh: ERROR: autoload.js configured with elementid 'ba2a421e-acaa-4fde-91ec-62e54ba7c8b7' but no matching script tag was found. \")\n    return false;\n  }\n\n  var js_urls = [\"https://cdn.pydata.org/bokeh/release/bokeh-0.12.15.min.js\", \"https://cdn.pydata.org/bokeh/release/bokeh-widgets-0.12.15.min.js\", \"https://cdn.pydata.org/bokeh/release/bokeh-tables-0.12.15.min.js\", \"https://cdn.pydata.org/bokeh/release/bokeh-gl-0.12.15.min.js\"];\n\n  var inline_js = [\n    function(Bokeh) {\n      Bokeh.set_log_level(\"info\");\n    },\n    \n    function(Bokeh) {\n      \n    },\n    function(Bokeh) {\n      console.log(\"Bokeh: injecting CSS: https://cdn.pydata.org/bokeh/release/bokeh-0.12.15.min.css\");\n      Bokeh.embed.inject_css(\"https://cdn.pydata.org/bokeh/release/bokeh-0.12.15.min.css\");\n      console.log(\"Bokeh: injecting CSS: https://cdn.pydata.org/bokeh/release/bokeh-widgets-0.12.15.min.css\");\n      Bokeh.embed.inject_css(\"https://cdn.pydata.org/bokeh/release/bokeh-widgets-0.12.15.min.css\");\n      console.log(\"Bokeh: injecting CSS: https://cdn.pydata.org/bokeh/release/bokeh-tables-0.12.15.min.css\");\n      Bokeh.embed.inject_css(\"https://cdn.pydata.org/bokeh/release/bokeh-tables-0.12.15.min.css\");\n    }\n  ];\n\n  function run_inline_js() {\n    \n    if ((root.Bokeh !== undefined) || (force === true)) {\n      for (var i = 0; i < inline_js.length; i++) {\n        inline_js[i].call(root, root.Bokeh);\n      }if (force === true) {\n        display_loaded();\n      }} else if (Date.now() < root._bokeh_timeout) {\n      setTimeout(run_inline_js, 100);\n    } else if (!root._bokeh_failed_load) {\n      console.log(\"Bokeh: BokehJS failed to load within specified timeout.\");\n      root._bokeh_failed_load = true;\n    } else if (force !== true) {\n      var cell = $(document.getElementById(\"ba2a421e-acaa-4fde-91ec-62e54ba7c8b7\")).parents('.cell').data().cell;\n      cell.output_area.append_execute_result(NB_LOAD_WARNING)\n    }\n\n  }\n\n  if (root._bokeh_is_loading === 0) {\n    console.log(\"Bokeh: BokehJS loaded, going straight to plotting\");\n    run_inline_js();\n  } else {\n    load_libs(js_urls, function() {\n      console.log(\"Bokeh: BokehJS plotting callback run at\", now());\n      run_inline_js();\n    });\n  }\n}(window));"
     },
     "metadata": {},
     "output_type": "display_data"
    }
   ],
   "source": [
    "output_notebook()"
   ]
  },
  {
   "cell_type": "code",
   "execution_count": 5,
   "metadata": {},
   "outputs": [
    {
     "data": {
      "text/html": [
       "\n",
       "<div class=\"bk-root\">\n",
       "    <div class=\"bk-plotdiv\" id=\"3de7d264-5718-4827-b036-c1877beb3df7\"></div>\n",
       "</div>"
      ]
     },
     "metadata": {},
     "output_type": "display_data"
    },
    {
     "data": {
      "application/javascript": [
       "(function(root) {\n",
       "  function embed_document(root) {\n",
       "    \n",
       "  var docs_json = {\"1b103855-9668-48c9-a0f2-b2405b2f6758\":{\"roots\":{\"references\":[{\"attributes\":{\"overlay\":{\"id\":\"636729bf-b7f3-4ffb-a566-a0d85ebfacc4\",\"type\":\"BoxAnnotation\"}},\"id\":\"2a22e922-2c9e-4d01-aa93-cd46d7e9a643\",\"type\":\"BoxZoomTool\"},{\"attributes\":{},\"id\":\"a4bf245c-31cc-4689-85a7-578205322f66\",\"type\":\"SaveTool\"},{\"attributes\":{},\"id\":\"557cd9da-a111-4d24-b6af-54e58f956a88\",\"type\":\"LinearScale\"},{\"attributes\":{},\"id\":\"e9ac729f-9fea-411f-9b2e-6014ed169326\",\"type\":\"ResetTool\"},{\"attributes\":{},\"id\":\"18742578-8779-4009-b1da-1955e83f1e37\",\"type\":\"HelpTool\"},{\"attributes\":{},\"id\":\"5487a5e9-9882-41dd-893b-60cb4a57b383\",\"type\":\"LinearScale\"},{\"attributes\":{},\"id\":\"8f5de965-a256-4d81-83be-daf98461c03e\",\"type\":\"BasicTickFormatter\"},{\"attributes\":{\"fill_alpha\":{\"value\":0.1},\"fill_color\":{\"value\":\"#1f77b4\"},\"line_alpha\":{\"value\":0.1},\"line_color\":{\"value\":\"#1f77b4\"},\"x\":{\"field\":\"x\"},\"y\":{\"field\":\"y\"}},\"id\":\"18c1f6bc-4893-472e-991f-7ab51ff6eae3\",\"type\":\"Circle\"},{\"attributes\":{},\"id\":\"e94c77d0-1257-4df0-9af4-7745600aedcd\",\"type\":\"BasicTickFormatter\"},{\"attributes\":{\"formatter\":{\"id\":\"e94c77d0-1257-4df0-9af4-7745600aedcd\",\"type\":\"BasicTickFormatter\"},\"plot\":{\"id\":\"7ab80040-8fe9-44f4-871d-c3767c5d381c\",\"subtype\":\"Figure\",\"type\":\"Plot\"},\"ticker\":{\"id\":\"22b0b9f2-3ed6-425e-bd05-7b423388b10c\",\"type\":\"BasicTicker\"}},\"id\":\"7db60d10-ca78-4ceb-90db-22913ab15237\",\"type\":\"LinearAxis\"},{\"attributes\":{},\"id\":\"22b0b9f2-3ed6-425e-bd05-7b423388b10c\",\"type\":\"BasicTicker\"},{\"attributes\":{\"data_source\":{\"id\":\"0f894b30-6b17-46b8-ad97-bfeccafa13ad\",\"type\":\"ColumnDataSource\"},\"glyph\":{\"id\":\"0316f540-62be-4d40-a6ae-bd3f5703ff61\",\"type\":\"Circle\"},\"hover_glyph\":null,\"muted_glyph\":null,\"nonselection_glyph\":{\"id\":\"18c1f6bc-4893-472e-991f-7ab51ff6eae3\",\"type\":\"Circle\"},\"selection_glyph\":null,\"view\":{\"id\":\"698dd674-8f4c-43b2-8f16-edc36c0f1d5d\",\"type\":\"CDSView\"}},\"id\":\"8fa43b37-cc27-48b0-bbc4-96a3f02dce3d\",\"type\":\"GlyphRenderer\"},{\"attributes\":{\"plot\":{\"id\":\"7ab80040-8fe9-44f4-871d-c3767c5d381c\",\"subtype\":\"Figure\",\"type\":\"Plot\"},\"ticker\":{\"id\":\"22b0b9f2-3ed6-425e-bd05-7b423388b10c\",\"type\":\"BasicTicker\"}},\"id\":\"a47b8958-2870-4325-b98f-a8ad458e8aa3\",\"type\":\"Grid\"},{\"attributes\":{\"source\":{\"id\":\"0f894b30-6b17-46b8-ad97-bfeccafa13ad\",\"type\":\"ColumnDataSource\"}},\"id\":\"698dd674-8f4c-43b2-8f16-edc36c0f1d5d\",\"type\":\"CDSView\"},{\"attributes\":{\"formatter\":{\"id\":\"8f5de965-a256-4d81-83be-daf98461c03e\",\"type\":\"BasicTickFormatter\"},\"plot\":{\"id\":\"7ab80040-8fe9-44f4-871d-c3767c5d381c\",\"subtype\":\"Figure\",\"type\":\"Plot\"},\"ticker\":{\"id\":\"aac77d4c-e245-48d7-bb8d-fd45b801954d\",\"type\":\"BasicTicker\"}},\"id\":\"42aadc51-f006-4b43-85bf-f22df4fae65f\",\"type\":\"LinearAxis\"},{\"attributes\":{\"plot\":null,\"text\":\"\"},\"id\":\"9a6ef331-16e8-46ac-a32e-7b7de802989d\",\"type\":\"Title\"},{\"attributes\":{},\"id\":\"aac77d4c-e245-48d7-bb8d-fd45b801954d\",\"type\":\"BasicTicker\"},{\"attributes\":{\"fill_color\":{\"value\":\"#1f77b4\"},\"line_color\":{\"value\":\"#1f77b4\"},\"x\":{\"field\":\"x\"},\"y\":{\"field\":\"y\"}},\"id\":\"0316f540-62be-4d40-a6ae-bd3f5703ff61\",\"type\":\"Circle\"},{\"attributes\":{\"dimension\":1,\"plot\":{\"id\":\"7ab80040-8fe9-44f4-871d-c3767c5d381c\",\"subtype\":\"Figure\",\"type\":\"Plot\"},\"ticker\":{\"id\":\"aac77d4c-e245-48d7-bb8d-fd45b801954d\",\"type\":\"BasicTicker\"}},\"id\":\"5b43a5f9-bca0-43ab-9793-630ddd051b12\",\"type\":\"Grid\"},{\"attributes\":{\"bottom_units\":\"screen\",\"fill_alpha\":{\"value\":0.5},\"fill_color\":{\"value\":\"lightgrey\"},\"left_units\":\"screen\",\"level\":\"overlay\",\"line_alpha\":{\"value\":1.0},\"line_color\":{\"value\":\"black\"},\"line_dash\":[4,4],\"line_width\":{\"value\":2},\"plot\":null,\"render_mode\":\"css\",\"right_units\":\"screen\",\"top_units\":\"screen\"},\"id\":\"636729bf-b7f3-4ffb-a566-a0d85ebfacc4\",\"type\":\"BoxAnnotation\"},{\"attributes\":{\"callback\":null,\"column_names\":[\"x\",\"y\"],\"data\":{\"x\":[1,2,3,4,5],\"y\":[6,7,8,9,3]},\"selected\":null,\"selection_policy\":null},\"id\":\"0f894b30-6b17-46b8-ad97-bfeccafa13ad\",\"type\":\"ColumnDataSource\"},{\"attributes\":{\"below\":[{\"id\":\"7db60d10-ca78-4ceb-90db-22913ab15237\",\"type\":\"LinearAxis\"}],\"left\":[{\"id\":\"42aadc51-f006-4b43-85bf-f22df4fae65f\",\"type\":\"LinearAxis\"}],\"renderers\":[{\"id\":\"7db60d10-ca78-4ceb-90db-22913ab15237\",\"type\":\"LinearAxis\"},{\"id\":\"a47b8958-2870-4325-b98f-a8ad458e8aa3\",\"type\":\"Grid\"},{\"id\":\"42aadc51-f006-4b43-85bf-f22df4fae65f\",\"type\":\"LinearAxis\"},{\"id\":\"5b43a5f9-bca0-43ab-9793-630ddd051b12\",\"type\":\"Grid\"},{\"id\":\"636729bf-b7f3-4ffb-a566-a0d85ebfacc4\",\"type\":\"BoxAnnotation\"},{\"id\":\"8fa43b37-cc27-48b0-bbc4-96a3f02dce3d\",\"type\":\"GlyphRenderer\"}],\"title\":{\"id\":\"9a6ef331-16e8-46ac-a32e-7b7de802989d\",\"type\":\"Title\"},\"toolbar\":{\"id\":\"e2b5c6ff-45c7-43ff-8cc8-7d94d01fbf05\",\"type\":\"Toolbar\"},\"x_range\":{\"id\":\"05ebe20a-4aec-4515-b519-70f3b8852254\",\"type\":\"DataRange1d\"},\"x_scale\":{\"id\":\"557cd9da-a111-4d24-b6af-54e58f956a88\",\"type\":\"LinearScale\"},\"y_range\":{\"id\":\"5cf0a7e3-6857-4c53-a133-8861e305a32d\",\"type\":\"DataRange1d\"},\"y_scale\":{\"id\":\"5487a5e9-9882-41dd-893b-60cb4a57b383\",\"type\":\"LinearScale\"}},\"id\":\"7ab80040-8fe9-44f4-871d-c3767c5d381c\",\"subtype\":\"Figure\",\"type\":\"Plot\"},{\"attributes\":{},\"id\":\"18373477-adb9-44aa-a261-b4df5a1fe8e1\",\"type\":\"PanTool\"},{\"attributes\":{\"active_drag\":\"auto\",\"active_inspect\":\"auto\",\"active_scroll\":\"auto\",\"active_tap\":\"auto\",\"tools\":[{\"id\":\"18373477-adb9-44aa-a261-b4df5a1fe8e1\",\"type\":\"PanTool\"},{\"id\":\"fda4ca81-3185-458d-a760-f8ff7a9fb415\",\"type\":\"WheelZoomTool\"},{\"id\":\"2a22e922-2c9e-4d01-aa93-cd46d7e9a643\",\"type\":\"BoxZoomTool\"},{\"id\":\"a4bf245c-31cc-4689-85a7-578205322f66\",\"type\":\"SaveTool\"},{\"id\":\"e9ac729f-9fea-411f-9b2e-6014ed169326\",\"type\":\"ResetTool\"},{\"id\":\"18742578-8779-4009-b1da-1955e83f1e37\",\"type\":\"HelpTool\"}]},\"id\":\"e2b5c6ff-45c7-43ff-8cc8-7d94d01fbf05\",\"type\":\"Toolbar\"},{\"attributes\":{\"callback\":null},\"id\":\"05ebe20a-4aec-4515-b519-70f3b8852254\",\"type\":\"DataRange1d\"},{\"attributes\":{},\"id\":\"fda4ca81-3185-458d-a760-f8ff7a9fb415\",\"type\":\"WheelZoomTool\"},{\"attributes\":{\"callback\":null},\"id\":\"5cf0a7e3-6857-4c53-a133-8861e305a32d\",\"type\":\"DataRange1d\"}],\"root_ids\":[\"7ab80040-8fe9-44f4-871d-c3767c5d381c\"]},\"title\":\"Bokeh Application\",\"version\":\"0.12.15\"}};\n",
       "  var render_items = [{\"docid\":\"1b103855-9668-48c9-a0f2-b2405b2f6758\",\"elementid\":\"3de7d264-5718-4827-b036-c1877beb3df7\",\"modelid\":\"7ab80040-8fe9-44f4-871d-c3767c5d381c\"}];\n",
       "  root.Bokeh.embed.embed_items_notebook(docs_json, render_items);\n",
       "\n",
       "  }\n",
       "  if (root.Bokeh !== undefined) {\n",
       "    embed_document(root);\n",
       "  } else {\n",
       "    var attempts = 0;\n",
       "    var timer = setInterval(function(root) {\n",
       "      if (root.Bokeh !== undefined) {\n",
       "        embed_document(root);\n",
       "        clearInterval(timer);\n",
       "      }\n",
       "      attempts++;\n",
       "      if (attempts > 100) {\n",
       "        console.log(\"Bokeh: ERROR: Unable to run BokehJS code because BokehJS library is missing\")\n",
       "        clearInterval(timer);\n",
       "      }\n",
       "    }, 10, root)\n",
       "  }\n",
       "})(window);"
      ],
      "application/vnd.bokehjs_exec.v0+json": ""
     },
     "metadata": {
      "application/vnd.bokehjs_exec.v0+json": {
       "id": "7ab80040-8fe9-44f4-871d-c3767c5d381c"
      }
     },
     "output_type": "display_data"
    }
   ],
   "source": [
    "p = figure()\n",
    "p.circle([1,2,3,4,5], [6, 7, 8, 9, 3])\n",
    "show(p)"
   ]
  },
  {
   "cell_type": "code",
   "execution_count": 6,
   "metadata": {},
   "outputs": [
    {
     "data": {
      "text/html": [
       "<div>\n",
       "<style scoped>\n",
       "    .dataframe tbody tr th:only-of-type {\n",
       "        vertical-align: middle;\n",
       "    }\n",
       "\n",
       "    .dataframe tbody tr th {\n",
       "        vertical-align: top;\n",
       "    }\n",
       "\n",
       "    .dataframe thead th {\n",
       "        text-align: right;\n",
       "    }\n",
       "</style>\n",
       "<table border=\"1\" class=\"dataframe\">\n",
       "  <thead>\n",
       "    <tr style=\"text-align: right;\">\n",
       "      <th></th>\n",
       "      <th>Name</th>\n",
       "      <th>Country</th>\n",
       "      <th>Medal</th>\n",
       "      <th>Time</th>\n",
       "      <th>Year</th>\n",
       "    </tr>\n",
       "  </thead>\n",
       "  <tbody>\n",
       "    <tr>\n",
       "      <th>0</th>\n",
       "      <td>Usain Bolt</td>\n",
       "      <td>JAM</td>\n",
       "      <td>GOLD</td>\n",
       "      <td>9.63</td>\n",
       "      <td>2012</td>\n",
       "    </tr>\n",
       "    <tr>\n",
       "      <th>1</th>\n",
       "      <td>Yohan Blake</td>\n",
       "      <td>JAM</td>\n",
       "      <td>SILVER</td>\n",
       "      <td>9.75</td>\n",
       "      <td>2012</td>\n",
       "    </tr>\n",
       "    <tr>\n",
       "      <th>2</th>\n",
       "      <td>Justin Gatlin</td>\n",
       "      <td>USA</td>\n",
       "      <td>BRONZE</td>\n",
       "      <td>9.79</td>\n",
       "      <td>2012</td>\n",
       "    </tr>\n",
       "    <tr>\n",
       "      <th>3</th>\n",
       "      <td>Usain Bolt</td>\n",
       "      <td>JAM</td>\n",
       "      <td>GOLD</td>\n",
       "      <td>9.69</td>\n",
       "      <td>2008</td>\n",
       "    </tr>\n",
       "    <tr>\n",
       "      <th>4</th>\n",
       "      <td>Richard Thompson</td>\n",
       "      <td>TRI</td>\n",
       "      <td>SILVER</td>\n",
       "      <td>9.89</td>\n",
       "      <td>2008</td>\n",
       "    </tr>\n",
       "  </tbody>\n",
       "</table>\n",
       "</div>"
      ],
      "text/plain": [
       "               Name Country   Medal  Time  Year\n",
       "0        Usain Bolt     JAM    GOLD  9.63  2012\n",
       "1       Yohan Blake     JAM  SILVER  9.75  2012\n",
       "2     Justin Gatlin     USA  BRONZE  9.79  2012\n",
       "3        Usain Bolt     JAM    GOLD  9.69  2008\n",
       "4  Richard Thompson     TRI  SILVER  9.89  2008"
      ]
     },
     "execution_count": 6,
     "metadata": {},
     "output_type": "execute_result"
    }
   ],
   "source": [
    "df = pd.read_csv(\"100m.csv\")\n",
    "df.drop('color', axis = 1, inplace = True)\n",
    "df.head()"
   ]
  },
  {
   "cell_type": "code",
   "execution_count": 7,
   "metadata": {},
   "outputs": [],
   "source": [
    "source = ColumnDataSource(df)"
   ]
  },
  {
   "cell_type": "code",
   "execution_count": 8,
   "metadata": {},
   "outputs": [],
   "source": [
    "color_mapper = CategoricalColorMapper(factors = ['GOLD', 'SILVER', 'BRONZE'], palette = ['goldenrod', 'silver', 'saddlebrown'])"
   ]
  },
  {
   "cell_type": "code",
   "execution_count": 9,
   "metadata": {},
   "outputs": [
    {
     "data": {
      "text/html": [
       "\n",
       "<div class=\"bk-root\">\n",
       "    <div class=\"bk-plotdiv\" id=\"81f037f4-d861-4a49-89b9-f1f69536178a\"></div>\n",
       "</div>"
      ]
     },
     "metadata": {},
     "output_type": "display_data"
    },
    {
     "data": {
      "application/javascript": [
       "(function(root) {\n",
       "  function embed_document(root) {\n",
       "    \n",
       "  var docs_json = {\"e7e76da9-6887-437b-9669-21a3b966a9d0\":{\"roots\":{\"references\":[{\"attributes\":{\"formatter\":{\"id\":\"01782fcf-0dc0-4793-9cbf-7a08a500adbd\",\"type\":\"BasicTickFormatter\"},\"plot\":{\"id\":\"ec8da204-5cbb-444b-8f30-7dc958a9c7a6\",\"subtype\":\"Figure\",\"type\":\"Plot\"},\"ticker\":{\"id\":\"cfff6b14-f405-4d9b-a5c8-8b48950d7766\",\"type\":\"BasicTicker\"}},\"id\":\"1163ff56-a87a-499f-aa82-e8ef552c3dd8\",\"type\":\"LinearAxis\"},{\"attributes\":{\"callback\":null,\"column_names\":[\"Name\",\"Country\",\"Medal\",\"Time\",\"Year\",\"index\"],\"data\":{\"Country\":[\"JAM\",\"JAM\",\"USA\",\"JAM\",\"TRI\",\"USA\",\"USA\",\"POR\",\"USA\",\"USA\",\"TRI\",\"BAR\",\"CAN\",\"NAM\",\"TRI\",\"GBR\",\"NAM\",\"USA\",\"USA\",\"GBR\",\"USA\",\"USA\",\"USA\",\"CAN\",\"GBR\",\"CUB\",\"BUL\",\"TRI\",\"JAM\",\"URS\",\"URS\",\"USA\",\"JAM\",\"USA\",\"JAM\",\"USA\",\"USA\",\"CUB\",\"CAN\",\"EUA\",\"USA\",\"GBR\",\"USA\",\"USA\",\"AUS\",\"USA\",\"JAM\",\"GBR\",\"USA\",\"USA\",\"PAN\",\"USA\",\"USA\",\"NED\",\"USA\",\"USA\",\"GER\",\"CAN\",\"GBR\",\"GER\",\"GBR\",\"USA\",\"NZL\",\"USA\",\"USA\",\"GBR\",\"USA\",\"USA\",\"USA\",\"RSA\",\"USA\",\"CAN\",\"USA\",\"USA\",\"AUS\",\"USA\",\"USA\",\"USA\",\"USA\",\"USA\",\"AUS\",\"USA\",\"GER\",\"HUN\",\"USA\"],\"Medal\":[\"GOLD\",\"SILVER\",\"BRONZE\",\"GOLD\",\"SILVER\",\"BRONZE\",\"GOLD\",\"SILVER\",\"BRONZE\",\"GOLD\",\"SILVER\",\"BRONZE\",\"GOLD\",\"SILVER\",\"BRONZE\",\"GOLD\",\"SILVER\",\"BRONZE\",\"GOLD\",\"SILVER\",\"BRONZE\",\"GOLD\",\"SILVER\",\"BRONZE\",\"GOLD\",\"SILVER\",\"BRONZE\",\"GOLD\",\"SILVER\",\"BRONZE\",\"GOLD\",\"SILVER\",\"BRONZE\",\"GOLD\",\"SILVER\",\"BRONZE\",\"GOLD\",\"SILVER\",\"BRONZE\",\"GOLD\",\"SILVER\",\"BRONZE\",\"GOLD\",\"SILVER\",\"BRONZE\",\"GOLD\",\"SILVER\",\"BRONZE\",\"GOLD\",\"SILVER\",\"BRONZE\",\"GOLD\",\"SILVER\",\"BRONZE\",\"GOLD\",\"SILVER\",\"BRONZE\",\"GOLD\",\"SILVER\",\"BRONZE\",\"GOLD\",\"SILVER\",\"BRONZE\",\"GOLD\",\"SILVER\",\"BRONZE\",\"GOLD\",\"SILVER\",\"BRONZE\",\"GOLD\",\"SILVER\",\"BRONZE\",\"GOLD\",\"SILVER\",\"BRONZE\",\"GOLD\",\"SILVER\",\"BRONZE\",\"GOLD\",\"SILVER\",\"BRONZE\",\"GOLD\",\"SILVER\",\"BRONZE\",\"BRONZE\"],\"Name\":[\"Usain Bolt\",\"Yohan Blake\",\"Justin Gatlin\",\"Usain Bolt\",\"Richard Thompson\",\"Walter Dix\",\"Justin Gatlin\",\"Francis Obikwelu\",\"Maurice Greene\",\"Maurice Greene\",\"Ato Boldon\",\"Obadele Thompson\",\"Donovan Bailey\",\"Frankie Fredericks\",\"Ato Boldon\",\"Linford Christie\",\"Frankie Fredericks\",\"Dennis Mitchell\",\"Carl Lewis\",\"Linford Christie\",\"Calvin Smith\",\"Carl Lewis\",\"Sam Graddy\",\"Ben Johnson\",\"Allan Wells\",\"Silvio Leonard Tartabull\",\"Petar Petrov\",\"Hasely Crawford\",\"Donald Quarrie\",\"Valery Borzov\",\"Valery Borzov\",\"Robert Taylor\",\"Lennox Miller\",\"Jim Hines\",\"Lennox Miller\",\"Charles Greene\",\"Bob Hayes\",\"Enrique Figuerola Camue\",\"Harry Jerome\",\"Armin Hary\",\"David Sime\",\"Peter Radford\",\"Bobby Joe Morrow\",\"W. Thane Baker\",\"Hector Hogan\",\"Lindy Remigino\",\"Herbert McKenley\",\"E. McDonald Bailey\",\"W. Harrison Dillard\",\"H. Norwood \\\"Barney\\\" Ewell\",\"Lloyd LaBeach\",\"Jesse Owens\",\"Ralph Metcalfe\",\"Martinus Osendarp\",\"T. \\\"Eddie\\\" Tolan\",\"Ralph Metcalfe\",\"Arthur Jonath\",\"Percy Williams\",\"John \\\"Jack\\\" London\",\"Georg Lammers\",\"Harold Abrahams\",\"Jackson Scholz\",\"Arthur Porritt\",\"Charles Paddock\",\"Morris Kirksey\",\"Harry Edward\",\"Ralph Craig\",\"Alvah Meyer\",\"Donald Lippincott\",\"Reginald Walker\",\"James Rector\",\"Robert Kerr\",\"Charles \\\"Archie\\\" Hahn\",\"Fay Moulton\",\"Nigel Barker\",\"Charles \\\"Archie\\\" Hahn\",\"Nathaniel Cartmell\",\"Bill Hogenson\",\"Frank Jarvis\",\"J. Walter Tewksbury\",\"Stanley Rowley\",\"Thomas Burke\",\"Fritz Hofmann\",\"Alojz Sokol\",\"Francis Lane\"],\"Time\":{\"__ndarray__\":\"w/UoXI9CI0AAAAAAAIAjQBSuR+F6lCNA4XoUrkdhI0BI4XoUrscjQFK4HoXr0SNAMzMzMzOzI0C4HoXrUbgjQD0K16NwvSNAPQrXo3C9I0B7FK5H4fojQBSuR+F6FCRArkfhehSuI0BI4XoUrscjQM3MzMzMzCNA7FG4HoXrI0AK16NwPQokQBSuR+F6FCRA16NwPQrXI0BxPQrXo/AjQHsUrkfh+iNAexSuR+H6I0DhehSuR2EkQHE9CtejcCRAAAAAAACAJEAAAAAAAIAkQEjhehSuxyRAH4XrUbgeJEApXI/C9SgkQEjhehSuRyRASOF6FK5HJEB7FK5H4XokQClcj8L1qCRAZmZmZmbmI0AUrkfhehQkQKRwPQrXIyRAAAAAAAAAJEBmZmZmZmYkQGZmZmZmZiRAZmZmZmZmJEBmZmZmZmYkQJqZmZmZmSRAAAAAAAAAJUAAAAAAAAAlQDMzMzMzMyVAzczMzMzMJEDNzMzMzMwkQM3MzMzMzCRAmpmZmZmZJEDNzMzMzMwkQM3MzMzMzCRAmpmZmZmZJEDNzMzMzMwkQAAAAAAAACVAmpmZmZmZJECamZmZmZkkQM3MzMzMzCRAmpmZmZmZJUDNzMzMzMwlQM3MzMzMzCVAMzMzMzMzJUCamZmZmZklQM3MzMzMzCVAmpmZmZmZJUDNzMzMzMwlQM3MzMzMzCVAmpmZmZmZJUDNzMzMzMwlQM3MzMzMzCVAmpmZmZmZJUAAAAAAAAAmQAAAAAAAACZAZmZmZmZmJkCamZmZmZkmQJqZmZmZmSZAAAAAAAAAJkBmZmZmZmYmQGZmZmZmZiZAAAAAAAAAJkAzMzMzMzMmQGZmZmZmZiZAAAAAAAAAKEBmZmZmZmYoQDMzMzMzMylAMzMzMzMzKUA=\",\"dtype\":\"float64\",\"shape\":[85]},\"Year\":[2012,2012,2012,2008,2008,2008,2004,2004,2004,2000,2000,2000,1996,1996,1996,1992,1992,1992,1988,1988,1988,1984,1984,1984,1980,1980,1980,1976,1976,1976,1972,1972,1972,1968,1968,1968,1964,1964,1964,1960,1960,1960,1956,1956,1956,1952,1952,1952,1948,1948,1948,1936,1936,1936,1932,1932,1932,1928,1928,1928,1924,1924,1924,1920,1920,1920,1912,1912,1912,1908,1908,1908,1906,1906,1906,1904,1904,1904,1900,1900,1900,1896,1896,1896,1896],\"index\":[0,1,2,3,4,5,6,7,8,9,10,11,12,13,14,15,16,17,18,19,20,21,22,23,24,25,26,27,28,29,30,31,32,33,34,35,36,37,38,39,40,41,42,43,44,45,46,47,48,49,50,51,52,53,54,55,56,57,58,59,60,61,62,63,64,65,66,67,68,69,70,71,72,73,74,75,76,77,78,79,80,81,82,83,84]},\"selected\":null,\"selection_policy\":null},\"id\":\"8c009438-5a56-4d5a-9cc9-599dcb8f923d\",\"type\":\"ColumnDataSource\"},{\"attributes\":{\"dimension\":1,\"plot\":{\"id\":\"ec8da204-5cbb-444b-8f30-7dc958a9c7a6\",\"subtype\":\"Figure\",\"type\":\"Plot\"},\"ticker\":{\"id\":\"cfff6b14-f405-4d9b-a5c8-8b48950d7766\",\"type\":\"BasicTicker\"}},\"id\":\"5cfc823f-f156-4f10-9394-095de7dd03b4\",\"type\":\"Grid\"},{\"attributes\":{},\"id\":\"41856f13-7efd-4803-8f8b-2ad0d1632264\",\"type\":\"WheelZoomTool\"},{\"attributes\":{\"source\":{\"id\":\"8c009438-5a56-4d5a-9cc9-599dcb8f923d\",\"type\":\"ColumnDataSource\"}},\"id\":\"5a163af8-d8ee-4abb-86d2-b37fdf622a6c\",\"type\":\"CDSView\"},{\"attributes\":{\"fill_alpha\":{\"value\":0.1},\"fill_color\":{\"value\":\"#1f77b4\"},\"line_alpha\":{\"value\":0.1},\"line_color\":{\"value\":\"#1f77b4\"},\"size\":{\"units\":\"screen\",\"value\":8},\"x\":{\"field\":\"Year\"},\"y\":{\"field\":\"Time\"}},\"id\":\"bc38ee1e-7db2-4dca-a19e-020384ab387a\",\"type\":\"Circle\"},{\"attributes\":{\"overlay\":{\"id\":\"0820a49b-13e4-4049-ba84-e1d8469d038d\",\"type\":\"BoxAnnotation\"}},\"id\":\"7bdd8007-8afb-4619-a837-1e2096f2aab2\",\"type\":\"BoxZoomTool\"},{\"attributes\":{\"below\":[{\"id\":\"a6441eb1-ab10-4865-b5a5-08bae976170c\",\"type\":\"LinearAxis\"}],\"left\":[{\"id\":\"1163ff56-a87a-499f-aa82-e8ef552c3dd8\",\"type\":\"LinearAxis\"}],\"renderers\":[{\"id\":\"a6441eb1-ab10-4865-b5a5-08bae976170c\",\"type\":\"LinearAxis\"},{\"id\":\"0b95b332-160a-4c70-a46f-18738a1fed92\",\"type\":\"Grid\"},{\"id\":\"1163ff56-a87a-499f-aa82-e8ef552c3dd8\",\"type\":\"LinearAxis\"},{\"id\":\"5cfc823f-f156-4f10-9394-095de7dd03b4\",\"type\":\"Grid\"},{\"id\":\"0820a49b-13e4-4049-ba84-e1d8469d038d\",\"type\":\"BoxAnnotation\"},{\"id\":\"e5a004c1-1980-44a8-a5a9-53c0b55bb187\",\"type\":\"Legend\"},{\"id\":\"b16c8884-283b-46d6-b669-34d055fe3b48\",\"type\":\"GlyphRenderer\"}],\"title\":{\"id\":\"3f03d46f-52b6-4c27-85b8-60f50b61f5ee\",\"type\":\"Title\"},\"toolbar\":{\"id\":\"5d7c00a5-ad05-4c57-974b-0417af2ba8c2\",\"type\":\"Toolbar\"},\"x_range\":{\"id\":\"d71796ab-f845-4d23-9694-f947e36eeec2\",\"type\":\"DataRange1d\"},\"x_scale\":{\"id\":\"d55f3d3a-4f40-4790-b3ba-7ca030debd9f\",\"type\":\"LinearScale\"},\"y_range\":{\"id\":\"2ab3eb10-e592-4be4-b21b-14754101bd2c\",\"type\":\"DataRange1d\"},\"y_scale\":{\"id\":\"3df3152f-155a-4195-821a-390fb8d1ae71\",\"type\":\"LinearScale\"}},\"id\":\"ec8da204-5cbb-444b-8f30-7dc958a9c7a6\",\"subtype\":\"Figure\",\"type\":\"Plot\"},{\"attributes\":{\"plot\":{\"id\":\"ec8da204-5cbb-444b-8f30-7dc958a9c7a6\",\"subtype\":\"Figure\",\"type\":\"Plot\"},\"ticker\":{\"id\":\"1c1c20e3-ad85-42ee-b805-27165eef7dd5\",\"type\":\"BasicTicker\"}},\"id\":\"0b95b332-160a-4c70-a46f-18738a1fed92\",\"type\":\"Grid\"},{\"attributes\":{\"formatter\":{\"id\":\"a34a6c3f-756a-4126-b566-aeafd08dde40\",\"type\":\"BasicTickFormatter\"},\"plot\":{\"id\":\"ec8da204-5cbb-444b-8f30-7dc958a9c7a6\",\"subtype\":\"Figure\",\"type\":\"Plot\"},\"ticker\":{\"id\":\"1c1c20e3-ad85-42ee-b805-27165eef7dd5\",\"type\":\"BasicTicker\"}},\"id\":\"a6441eb1-ab10-4865-b5a5-08bae976170c\",\"type\":\"LinearAxis\"},{\"attributes\":{\"fill_color\":{\"field\":\"Medal\",\"transform\":{\"id\":\"05bde19e-2c17-478a-ba24-07a4a652b182\",\"type\":\"CategoricalColorMapper\"}},\"line_color\":{\"field\":\"Medal\",\"transform\":{\"id\":\"05bde19e-2c17-478a-ba24-07a4a652b182\",\"type\":\"CategoricalColorMapper\"}},\"size\":{\"units\":\"screen\",\"value\":8},\"x\":{\"field\":\"Year\"},\"y\":{\"field\":\"Time\"}},\"id\":\"3e8b12dc-59ca-471f-8d39-c446e42104bd\",\"type\":\"Circle\"},{\"attributes\":{},\"id\":\"041463df-bd90-4be9-9bdc-7171fbdcf3af\",\"type\":\"PanTool\"},{\"attributes\":{},\"id\":\"1c1c20e3-ad85-42ee-b805-27165eef7dd5\",\"type\":\"BasicTicker\"},{\"attributes\":{\"callback\":null},\"id\":\"2ab3eb10-e592-4be4-b21b-14754101bd2c\",\"type\":\"DataRange1d\"},{\"attributes\":{\"bottom_units\":\"screen\",\"fill_alpha\":{\"value\":0.5},\"fill_color\":{\"value\":\"lightgrey\"},\"left_units\":\"screen\",\"level\":\"overlay\",\"line_alpha\":{\"value\":1.0},\"line_color\":{\"value\":\"black\"},\"line_dash\":[4,4],\"line_width\":{\"value\":2},\"plot\":null,\"render_mode\":\"css\",\"right_units\":\"screen\",\"top_units\":\"screen\"},\"id\":\"0820a49b-13e4-4049-ba84-e1d8469d038d\",\"type\":\"BoxAnnotation\"},{\"attributes\":{},\"id\":\"a34a6c3f-756a-4126-b566-aeafd08dde40\",\"type\":\"BasicTickFormatter\"},{\"attributes\":{\"active_drag\":\"auto\",\"active_inspect\":\"auto\",\"active_scroll\":\"auto\",\"active_tap\":\"auto\",\"tools\":[{\"id\":\"041463df-bd90-4be9-9bdc-7171fbdcf3af\",\"type\":\"PanTool\"},{\"id\":\"41856f13-7efd-4803-8f8b-2ad0d1632264\",\"type\":\"WheelZoomTool\"},{\"id\":\"7bdd8007-8afb-4619-a837-1e2096f2aab2\",\"type\":\"BoxZoomTool\"},{\"id\":\"a30caa0d-c12e-4140-9a86-3da7f1d61bd1\",\"type\":\"SaveTool\"},{\"id\":\"9b6e375e-c7ec-4719-b430-df4bfdc36b56\",\"type\":\"ResetTool\"},{\"id\":\"e25e7b34-64f5-48fd-8fec-268a335a8dc1\",\"type\":\"HelpTool\"}]},\"id\":\"5d7c00a5-ad05-4c57-974b-0417af2ba8c2\",\"type\":\"Toolbar\"},{\"attributes\":{},\"id\":\"a30caa0d-c12e-4140-9a86-3da7f1d61bd1\",\"type\":\"SaveTool\"},{\"attributes\":{},\"id\":\"9b6e375e-c7ec-4719-b430-df4bfdc36b56\",\"type\":\"ResetTool\"},{\"attributes\":{},\"id\":\"d55f3d3a-4f40-4790-b3ba-7ca030debd9f\",\"type\":\"LinearScale\"},{\"attributes\":{\"plot\":null,\"text\":\"\"},\"id\":\"3f03d46f-52b6-4c27-85b8-60f50b61f5ee\",\"type\":\"Title\"},{\"attributes\":{\"callback\":null},\"id\":\"d71796ab-f845-4d23-9694-f947e36eeec2\",\"type\":\"DataRange1d\"},{\"attributes\":{\"factors\":[\"GOLD\",\"SILVER\",\"BRONZE\"],\"palette\":[\"goldenrod\",\"silver\",\"saddlebrown\"]},\"id\":\"05bde19e-2c17-478a-ba24-07a4a652b182\",\"type\":\"CategoricalColorMapper\"},{\"attributes\":{\"items\":[{\"id\":\"ac6d841f-c08c-43c2-8e10-a95b35ed2c43\",\"type\":\"LegendItem\"}],\"plot\":{\"id\":\"ec8da204-5cbb-444b-8f30-7dc958a9c7a6\",\"subtype\":\"Figure\",\"type\":\"Plot\"}},\"id\":\"e5a004c1-1980-44a8-a5a9-53c0b55bb187\",\"type\":\"Legend\"},{\"attributes\":{},\"id\":\"cfff6b14-f405-4d9b-a5c8-8b48950d7766\",\"type\":\"BasicTicker\"},{\"attributes\":{\"data_source\":{\"id\":\"8c009438-5a56-4d5a-9cc9-599dcb8f923d\",\"type\":\"ColumnDataSource\"},\"glyph\":{\"id\":\"3e8b12dc-59ca-471f-8d39-c446e42104bd\",\"type\":\"Circle\"},\"hover_glyph\":null,\"muted_glyph\":null,\"nonselection_glyph\":{\"id\":\"bc38ee1e-7db2-4dca-a19e-020384ab387a\",\"type\":\"Circle\"},\"selection_glyph\":null,\"view\":{\"id\":\"5a163af8-d8ee-4abb-86d2-b37fdf622a6c\",\"type\":\"CDSView\"}},\"id\":\"b16c8884-283b-46d6-b669-34d055fe3b48\",\"type\":\"GlyphRenderer\"},{\"attributes\":{},\"id\":\"01782fcf-0dc0-4793-9cbf-7a08a500adbd\",\"type\":\"BasicTickFormatter\"},{\"attributes\":{},\"id\":\"e25e7b34-64f5-48fd-8fec-268a335a8dc1\",\"type\":\"HelpTool\"},{\"attributes\":{\"label\":{\"field\":\"Medal\"},\"renderers\":[{\"id\":\"b16c8884-283b-46d6-b669-34d055fe3b48\",\"type\":\"GlyphRenderer\"}]},\"id\":\"ac6d841f-c08c-43c2-8e10-a95b35ed2c43\",\"type\":\"LegendItem\"},{\"attributes\":{},\"id\":\"3df3152f-155a-4195-821a-390fb8d1ae71\",\"type\":\"LinearScale\"}],\"root_ids\":[\"ec8da204-5cbb-444b-8f30-7dc958a9c7a6\"]},\"title\":\"Bokeh Application\",\"version\":\"0.12.15\"}};\n",
       "  var render_items = [{\"docid\":\"e7e76da9-6887-437b-9669-21a3b966a9d0\",\"elementid\":\"81f037f4-d861-4a49-89b9-f1f69536178a\",\"modelid\":\"ec8da204-5cbb-444b-8f30-7dc958a9c7a6\"}];\n",
       "  root.Bokeh.embed.embed_items_notebook(docs_json, render_items);\n",
       "\n",
       "  }\n",
       "  if (root.Bokeh !== undefined) {\n",
       "    embed_document(root);\n",
       "  } else {\n",
       "    var attempts = 0;\n",
       "    var timer = setInterval(function(root) {\n",
       "      if (root.Bokeh !== undefined) {\n",
       "        embed_document(root);\n",
       "        clearInterval(timer);\n",
       "      }\n",
       "      attempts++;\n",
       "      if (attempts > 100) {\n",
       "        console.log(\"Bokeh: ERROR: Unable to run BokehJS code because BokehJS library is missing\")\n",
       "        clearInterval(timer);\n",
       "      }\n",
       "    }, 10, root)\n",
       "  }\n",
       "})(window);"
      ],
      "application/vnd.bokehjs_exec.v0+json": ""
     },
     "metadata": {
      "application/vnd.bokehjs_exec.v0+json": {
       "id": "ec8da204-5cbb-444b-8f30-7dc958a9c7a6"
      }
     },
     "output_type": "display_data"
    }
   ],
   "source": [
    "p = figure()\n",
    "p.circle('Year', 'Time', source = source, color = {'field':'Medal', 'transform':color_mapper}, size = 8, legend = 'Medal')\n",
    "show(p)"
   ]
  },
  {
   "cell_type": "code",
   "execution_count": 16,
   "metadata": {},
   "outputs": [],
   "source": [
    "from bokeh.layouts import column, row"
   ]
  },
  {
   "cell_type": "code",
   "execution_count": 10,
   "metadata": {},
   "outputs": [
    {
     "name": "stdout",
     "output_type": "stream",
     "text": [
      "[0, 1, 2, 3, 4, 5, 6, 7, 8, 9, 10]\n",
      "[10, 9, 8, 7, 6, 5, 4, 3, 2, 1, 0]\n",
      "[5, 4, 3, 2, 1, 0, 1, 2, 3, 4, 5]\n"
     ]
    }
   ],
   "source": [
    "x = list(range(11))\n",
    "y0, y1, y2 = x, [10 - i for i in x], [abs(i - 5) for i in x]\n",
    "print(y0)\n",
    "print(y1)\n",
    "print(y2)"
   ]
  },
  {
   "cell_type": "code",
   "execution_count": 11,
   "metadata": {},
   "outputs": [
    {
     "data": {
      "text/html": [
       "<div style=\"display: table;\"><div style=\"display: table-row;\"><div style=\"display: table-cell;\"><b title=\"bokeh.models.renderers.GlyphRenderer\">GlyphRenderer</b>(</div><div style=\"display: table-cell;\">id&nbsp;=&nbsp;'658b2298-944b-43f8-963b-0d1c56572a3e', <span id=\"f767ecc7-6405-496c-a265-0441b1a43432\" style=\"cursor: pointer;\">&hellip;)</span></div></div><div class=\"d2fe5180-5c11-4e80-bdf7-c32aa361cd2b\" style=\"display: none;\"><div style=\"display: table-cell;\"></div><div style=\"display: table-cell;\">data_source&nbsp;=&nbsp;ColumnDataSource(id='27b98372-fbbb-434f-875d-e5c03f2e7922', ...),</div></div><div class=\"d2fe5180-5c11-4e80-bdf7-c32aa361cd2b\" style=\"display: none;\"><div style=\"display: table-cell;\"></div><div style=\"display: table-cell;\">glyph&nbsp;=&nbsp;Circle(id='38aa872c-822a-4b54-9e07-ff5e59e2f855', ...),</div></div><div class=\"d2fe5180-5c11-4e80-bdf7-c32aa361cd2b\" style=\"display: none;\"><div style=\"display: table-cell;\"></div><div style=\"display: table-cell;\">hover_glyph&nbsp;=&nbsp;None,</div></div><div class=\"d2fe5180-5c11-4e80-bdf7-c32aa361cd2b\" style=\"display: none;\"><div style=\"display: table-cell;\"></div><div style=\"display: table-cell;\">js_event_callbacks&nbsp;=&nbsp;{},</div></div><div class=\"d2fe5180-5c11-4e80-bdf7-c32aa361cd2b\" style=\"display: none;\"><div style=\"display: table-cell;\"></div><div style=\"display: table-cell;\">js_property_callbacks&nbsp;=&nbsp;{},</div></div><div class=\"d2fe5180-5c11-4e80-bdf7-c32aa361cd2b\" style=\"display: none;\"><div style=\"display: table-cell;\"></div><div style=\"display: table-cell;\">level&nbsp;=&nbsp;'glyph',</div></div><div class=\"d2fe5180-5c11-4e80-bdf7-c32aa361cd2b\" style=\"display: none;\"><div style=\"display: table-cell;\"></div><div style=\"display: table-cell;\">muted&nbsp;=&nbsp;False,</div></div><div class=\"d2fe5180-5c11-4e80-bdf7-c32aa361cd2b\" style=\"display: none;\"><div style=\"display: table-cell;\"></div><div style=\"display: table-cell;\">muted_glyph&nbsp;=&nbsp;None,</div></div><div class=\"d2fe5180-5c11-4e80-bdf7-c32aa361cd2b\" style=\"display: none;\"><div style=\"display: table-cell;\"></div><div style=\"display: table-cell;\">name&nbsp;=&nbsp;None,</div></div><div class=\"d2fe5180-5c11-4e80-bdf7-c32aa361cd2b\" style=\"display: none;\"><div style=\"display: table-cell;\"></div><div style=\"display: table-cell;\">nonselection_glyph&nbsp;=&nbsp;Circle(id='b5e241ee-5b09-480f-9a3c-401b04f2e78c', ...),</div></div><div class=\"d2fe5180-5c11-4e80-bdf7-c32aa361cd2b\" style=\"display: none;\"><div style=\"display: table-cell;\"></div><div style=\"display: table-cell;\">selection_glyph&nbsp;=&nbsp;None,</div></div><div class=\"d2fe5180-5c11-4e80-bdf7-c32aa361cd2b\" style=\"display: none;\"><div style=\"display: table-cell;\"></div><div style=\"display: table-cell;\">subscribed_events&nbsp;=&nbsp;[],</div></div><div class=\"d2fe5180-5c11-4e80-bdf7-c32aa361cd2b\" style=\"display: none;\"><div style=\"display: table-cell;\"></div><div style=\"display: table-cell;\">tags&nbsp;=&nbsp;[],</div></div><div class=\"d2fe5180-5c11-4e80-bdf7-c32aa361cd2b\" style=\"display: none;\"><div style=\"display: table-cell;\"></div><div style=\"display: table-cell;\">view&nbsp;=&nbsp;CDSView(id='8ffa2de6-3153-4c42-b63c-657435b39f83', ...),</div></div><div class=\"d2fe5180-5c11-4e80-bdf7-c32aa361cd2b\" style=\"display: none;\"><div style=\"display: table-cell;\"></div><div style=\"display: table-cell;\">visible&nbsp;=&nbsp;True,</div></div><div class=\"d2fe5180-5c11-4e80-bdf7-c32aa361cd2b\" style=\"display: none;\"><div style=\"display: table-cell;\"></div><div style=\"display: table-cell;\">x_range_name&nbsp;=&nbsp;'default',</div></div><div class=\"d2fe5180-5c11-4e80-bdf7-c32aa361cd2b\" style=\"display: none;\"><div style=\"display: table-cell;\"></div><div style=\"display: table-cell;\">y_range_name&nbsp;=&nbsp;'default')</div></div></div>\n",
       "<script>\n",
       "(function() {\n",
       "  var expanded = false;\n",
       "  var ellipsis = document.getElementById(\"f767ecc7-6405-496c-a265-0441b1a43432\");\n",
       "  ellipsis.addEventListener(\"click\", function() {\n",
       "    var rows = document.getElementsByClassName(\"d2fe5180-5c11-4e80-bdf7-c32aa361cd2b\");\n",
       "    for (var i = 0; i < rows.length; i++) {\n",
       "      var el = rows[i];\n",
       "      el.style.display = expanded ? \"none\" : \"table-row\";\n",
       "    }\n",
       "    ellipsis.innerHTML = expanded ? \"&hellip;)\" : \"&lsaquo;&lsaquo;&lsaquo;\";\n",
       "    expanded = !expanded;\n",
       "  });\n",
       "})();\n",
       "</script>\n"
      ],
      "text/plain": [
       "GlyphRenderer(id='658b2298-944b-43f8-963b-0d1c56572a3e', ...)"
      ]
     },
     "execution_count": 11,
     "metadata": {},
     "output_type": "execute_result"
    }
   ],
   "source": [
    "s1 = figure(width = 250, height = 250)\n",
    "s2 = figure(width = 250, height = 250)\n",
    "s3 = figure(width = 250, height = 250)\n",
    "\n",
    "s1.circle(x, y0, size = 10, color = 'navy', alpha = 0.5)\n",
    "s2.circle(x, y1, size = 10, color = 'firebrick', alpha = 0.5)\n",
    "s3.circle(x, y2, size = 10, color = 'olive', alpha = 0.5)"
   ]
  },
  {
   "cell_type": "code",
   "execution_count": 14,
   "metadata": {},
   "outputs": [
    {
     "data": {
      "text/html": [
       "\n",
       "<div class=\"bk-root\">\n",
       "    <div class=\"bk-plotdiv\" id=\"17d80fde-ba9e-4eed-9231-3817d9b1426a\"></div>\n",
       "</div>"
      ]
     },
     "metadata": {},
     "output_type": "display_data"
    },
    {
     "data": {
      "application/javascript": [
       "(function(root) {\n",
       "  function embed_document(root) {\n",
       "    \n",
       "  var docs_json = {\"28b4c664-2cd0-4d27-8598-d73702ba1c97\":{\"roots\":{\"references\":[{\"attributes\":{\"below\":[{\"id\":\"e34aacc2-36cd-4426-80e8-6e54f1af5e7f\",\"type\":\"LinearAxis\"}],\"left\":[{\"id\":\"a75ff07e-4c0e-4ceb-a8f3-c34d9527e5a4\",\"type\":\"LinearAxis\"}],\"plot_height\":250,\"plot_width\":250,\"renderers\":[{\"id\":\"e34aacc2-36cd-4426-80e8-6e54f1af5e7f\",\"type\":\"LinearAxis\"},{\"id\":\"a5946b65-2694-4f93-ad50-9656795f088d\",\"type\":\"Grid\"},{\"id\":\"a75ff07e-4c0e-4ceb-a8f3-c34d9527e5a4\",\"type\":\"LinearAxis\"},{\"id\":\"8773a192-94ae-4b46-825c-4b8d60901349\",\"type\":\"Grid\"},{\"id\":\"a46227fe-0733-4450-bec5-cfd887c4b2b3\",\"type\":\"BoxAnnotation\"},{\"id\":\"658b2298-944b-43f8-963b-0d1c56572a3e\",\"type\":\"GlyphRenderer\"}],\"title\":{\"id\":\"dc5fe422-f2d3-482a-912f-b3e40c2a3c88\",\"type\":\"Title\"},\"toolbar\":{\"id\":\"f53048c1-9633-4b0c-9363-4bab72b891ad\",\"type\":\"Toolbar\"},\"x_range\":{\"id\":\"73c92dd8-78a3-4296-9d2d-41699c44c84b\",\"type\":\"DataRange1d\"},\"x_scale\":{\"id\":\"37a90728-2131-454b-8af7-064d3ca540e5\",\"type\":\"LinearScale\"},\"y_range\":{\"id\":\"3c7186c4-c3ec-4d6f-a8c8-0a0c175a6f81\",\"type\":\"DataRange1d\"},\"y_scale\":{\"id\":\"37e305b9-0a51-4473-815d-6534da404d4b\",\"type\":\"LinearScale\"}},\"id\":\"da566268-d153-4a43-9d63-4696119412b6\",\"subtype\":\"Figure\",\"type\":\"Plot\"},{\"attributes\":{\"dimension\":1,\"plot\":{\"id\":\"da566268-d153-4a43-9d63-4696119412b6\",\"subtype\":\"Figure\",\"type\":\"Plot\"},\"ticker\":{\"id\":\"aa42e8fc-1659-4d40-80e4-d9bed1075e61\",\"type\":\"BasicTicker\"}},\"id\":\"8773a192-94ae-4b46-825c-4b8d60901349\",\"type\":\"Grid\"},{\"attributes\":{},\"id\":\"37a90728-2131-454b-8af7-064d3ca540e5\",\"type\":\"LinearScale\"},{\"attributes\":{\"fill_alpha\":{\"value\":0.1},\"fill_color\":{\"value\":\"#1f77b4\"},\"line_alpha\":{\"value\":0.1},\"line_color\":{\"value\":\"#1f77b4\"},\"size\":{\"units\":\"screen\",\"value\":10},\"x\":{\"field\":\"x\"},\"y\":{\"field\":\"y\"}},\"id\":\"b5e241ee-5b09-480f-9a3c-401b04f2e78c\",\"type\":\"Circle\"},{\"attributes\":{\"formatter\":{\"id\":\"82921f24-6cbe-4f01-984b-239823617076\",\"type\":\"BasicTickFormatter\"},\"plot\":{\"id\":\"da566268-d153-4a43-9d63-4696119412b6\",\"subtype\":\"Figure\",\"type\":\"Plot\"},\"ticker\":{\"id\":\"aa42e8fc-1659-4d40-80e4-d9bed1075e61\",\"type\":\"BasicTicker\"}},\"id\":\"a75ff07e-4c0e-4ceb-a8f3-c34d9527e5a4\",\"type\":\"LinearAxis\"},{\"attributes\":{},\"id\":\"714ebfd3-e319-46ef-885a-0425af58f95e\",\"type\":\"SaveTool\"},{\"attributes\":{\"plot\":null,\"text\":\"\"},\"id\":\"dc5fe422-f2d3-482a-912f-b3e40c2a3c88\",\"type\":\"Title\"},{\"attributes\":{},\"id\":\"aa42e8fc-1659-4d40-80e4-d9bed1075e61\",\"type\":\"BasicTicker\"},{\"attributes\":{},\"id\":\"37e305b9-0a51-4473-815d-6534da404d4b\",\"type\":\"LinearScale\"},{\"attributes\":{},\"id\":\"82921f24-6cbe-4f01-984b-239823617076\",\"type\":\"BasicTickFormatter\"},{\"attributes\":{\"bottom_units\":\"screen\",\"fill_alpha\":{\"value\":0.5},\"fill_color\":{\"value\":\"lightgrey\"},\"left_units\":\"screen\",\"level\":\"overlay\",\"line_alpha\":{\"value\":1.0},\"line_color\":{\"value\":\"black\"},\"line_dash\":[4,4],\"line_width\":{\"value\":2},\"plot\":null,\"render_mode\":\"css\",\"right_units\":\"screen\",\"top_units\":\"screen\"},\"id\":\"a46227fe-0733-4450-bec5-cfd887c4b2b3\",\"type\":\"BoxAnnotation\"},{\"attributes\":{\"callback\":null},\"id\":\"3c7186c4-c3ec-4d6f-a8c8-0a0c175a6f81\",\"type\":\"DataRange1d\"},{\"attributes\":{\"fill_alpha\":{\"value\":0.5},\"fill_color\":{\"value\":\"olive\"},\"line_alpha\":{\"value\":0.5},\"line_color\":{\"value\":\"olive\"},\"size\":{\"units\":\"screen\",\"value\":10},\"x\":{\"field\":\"x\"},\"y\":{\"field\":\"y\"}},\"id\":\"38aa872c-822a-4b54-9e07-ff5e59e2f855\",\"type\":\"Circle\"},{\"attributes\":{},\"id\":\"4883f5b1-3e28-4809-af39-ca7ee0159da3\",\"type\":\"PanTool\"},{\"attributes\":{\"data_source\":{\"id\":\"27b98372-fbbb-434f-875d-e5c03f2e7922\",\"type\":\"ColumnDataSource\"},\"glyph\":{\"id\":\"38aa872c-822a-4b54-9e07-ff5e59e2f855\",\"type\":\"Circle\"},\"hover_glyph\":null,\"muted_glyph\":null,\"nonselection_glyph\":{\"id\":\"b5e241ee-5b09-480f-9a3c-401b04f2e78c\",\"type\":\"Circle\"},\"selection_glyph\":null,\"view\":{\"id\":\"8ffa2de6-3153-4c42-b63c-657435b39f83\",\"type\":\"CDSView\"}},\"id\":\"658b2298-944b-43f8-963b-0d1c56572a3e\",\"type\":\"GlyphRenderer\"},{\"attributes\":{},\"id\":\"77e958d0-2c51-404a-a279-8a10fd734324\",\"type\":\"HelpTool\"},{\"attributes\":{\"source\":{\"id\":\"27b98372-fbbb-434f-875d-e5c03f2e7922\",\"type\":\"ColumnDataSource\"}},\"id\":\"8ffa2de6-3153-4c42-b63c-657435b39f83\",\"type\":\"CDSView\"},{\"attributes\":{},\"id\":\"ee65c008-f52b-405c-a7d7-5e604998921b\",\"type\":\"WheelZoomTool\"},{\"attributes\":{\"overlay\":{\"id\":\"a46227fe-0733-4450-bec5-cfd887c4b2b3\",\"type\":\"BoxAnnotation\"}},\"id\":\"3f541706-05fa-4621-a97d-80435827b9eb\",\"type\":\"BoxZoomTool\"},{\"attributes\":{\"plot\":{\"id\":\"da566268-d153-4a43-9d63-4696119412b6\",\"subtype\":\"Figure\",\"type\":\"Plot\"},\"ticker\":{\"id\":\"913cc438-0f27-4ed0-a1b1-7d8d83a0f2e9\",\"type\":\"BasicTicker\"}},\"id\":\"a5946b65-2694-4f93-ad50-9656795f088d\",\"type\":\"Grid\"},{\"attributes\":{\"callback\":null},\"id\":\"73c92dd8-78a3-4296-9d2d-41699c44c84b\",\"type\":\"DataRange1d\"},{\"attributes\":{},\"id\":\"2cf423dc-359d-46de-86aa-7ea2e49390ef\",\"type\":\"ResetTool\"},{\"attributes\":{\"callback\":null,\"column_names\":[\"x\",\"y\"],\"data\":{\"x\":[0,1,2,3,4,5,6,7,8,9,10],\"y\":[5,4,3,2,1,0,1,2,3,4,5]},\"selected\":null,\"selection_policy\":null},\"id\":\"27b98372-fbbb-434f-875d-e5c03f2e7922\",\"type\":\"ColumnDataSource\"},{\"attributes\":{},\"id\":\"4aafffe6-1a86-452d-b0d9-01ff5feb3d7d\",\"type\":\"BasicTickFormatter\"},{\"attributes\":{\"active_drag\":\"auto\",\"active_inspect\":\"auto\",\"active_scroll\":\"auto\",\"active_tap\":\"auto\",\"tools\":[{\"id\":\"4883f5b1-3e28-4809-af39-ca7ee0159da3\",\"type\":\"PanTool\"},{\"id\":\"ee65c008-f52b-405c-a7d7-5e604998921b\",\"type\":\"WheelZoomTool\"},{\"id\":\"3f541706-05fa-4621-a97d-80435827b9eb\",\"type\":\"BoxZoomTool\"},{\"id\":\"714ebfd3-e319-46ef-885a-0425af58f95e\",\"type\":\"SaveTool\"},{\"id\":\"2cf423dc-359d-46de-86aa-7ea2e49390ef\",\"type\":\"ResetTool\"},{\"id\":\"77e958d0-2c51-404a-a279-8a10fd734324\",\"type\":\"HelpTool\"}]},\"id\":\"f53048c1-9633-4b0c-9363-4bab72b891ad\",\"type\":\"Toolbar\"},{\"attributes\":{},\"id\":\"913cc438-0f27-4ed0-a1b1-7d8d83a0f2e9\",\"type\":\"BasicTicker\"},{\"attributes\":{\"formatter\":{\"id\":\"4aafffe6-1a86-452d-b0d9-01ff5feb3d7d\",\"type\":\"BasicTickFormatter\"},\"plot\":{\"id\":\"da566268-d153-4a43-9d63-4696119412b6\",\"subtype\":\"Figure\",\"type\":\"Plot\"},\"ticker\":{\"id\":\"913cc438-0f27-4ed0-a1b1-7d8d83a0f2e9\",\"type\":\"BasicTicker\"}},\"id\":\"e34aacc2-36cd-4426-80e8-6e54f1af5e7f\",\"type\":\"LinearAxis\"}],\"root_ids\":[\"da566268-d153-4a43-9d63-4696119412b6\"]},\"title\":\"Bokeh Application\",\"version\":\"0.12.15\"}};\n",
       "  var render_items = [{\"docid\":\"28b4c664-2cd0-4d27-8598-d73702ba1c97\",\"elementid\":\"17d80fde-ba9e-4eed-9231-3817d9b1426a\",\"modelid\":\"da566268-d153-4a43-9d63-4696119412b6\"}];\n",
       "  root.Bokeh.embed.embed_items_notebook(docs_json, render_items);\n",
       "\n",
       "  }\n",
       "  if (root.Bokeh !== undefined) {\n",
       "    embed_document(root);\n",
       "  } else {\n",
       "    var attempts = 0;\n",
       "    var timer = setInterval(function(root) {\n",
       "      if (root.Bokeh !== undefined) {\n",
       "        embed_document(root);\n",
       "        clearInterval(timer);\n",
       "      }\n",
       "      attempts++;\n",
       "      if (attempts > 100) {\n",
       "        console.log(\"Bokeh: ERROR: Unable to run BokehJS code because BokehJS library is missing\")\n",
       "        clearInterval(timer);\n",
       "      }\n",
       "    }, 10, root)\n",
       "  }\n",
       "})(window);"
      ],
      "application/vnd.bokehjs_exec.v0+json": ""
     },
     "metadata": {
      "application/vnd.bokehjs_exec.v0+json": {
       "id": "da566268-d153-4a43-9d63-4696119412b6"
      }
     },
     "output_type": "display_data"
    }
   ],
   "source": [
    "show(s3)"
   ]
  },
  {
   "cell_type": "code",
   "execution_count": 19,
   "metadata": {},
   "outputs": [
    {
     "data": {
      "text/html": [
       "\n",
       "<div class=\"bk-root\">\n",
       "    <div class=\"bk-plotdiv\" id=\"18aaca07-7867-4854-ab65-6fa726aee465\"></div>\n",
       "</div>"
      ]
     },
     "metadata": {},
     "output_type": "display_data"
    },
    {
     "data": {
      "application/javascript": [
       "(function(root) {\n",
       "  function embed_document(root) {\n",
       "    \n",
       "  var docs_json = {\"2a2aab4a-43a7-41cd-9f22-cc353694454e\":{\"roots\":{\"references\":[{\"attributes\":{\"children\":[{\"id\":\"c26cf22c-094b-4247-a82d-f3156a030de9\",\"subtype\":\"Figure\",\"type\":\"Plot\"},{\"id\":\"3a678d05-6c7c-4982-8d8f-60493b9c3009\",\"subtype\":\"Figure\",\"type\":\"Plot\"},{\"id\":\"da566268-d153-4a43-9d63-4696119412b6\",\"subtype\":\"Figure\",\"type\":\"Plot\"}]},\"id\":\"ee6d81e6-4415-447c-b397-3bbdbc29a1d4\",\"type\":\"Row\"},{\"attributes\":{\"formatter\":{\"id\":\"284545fd-2374-4936-be3c-546d78a3f4df\",\"type\":\"BasicTickFormatter\"},\"plot\":{\"id\":\"3a678d05-6c7c-4982-8d8f-60493b9c3009\",\"subtype\":\"Figure\",\"type\":\"Plot\"},\"ticker\":{\"id\":\"350aea0b-af14-4d81-b5b0-0f1f862ae009\",\"type\":\"BasicTicker\"}},\"id\":\"fb3bf150-6698-4eb9-b8c5-2dc5d0bb2b13\",\"type\":\"LinearAxis\"},{\"attributes\":{},\"id\":\"37a90728-2131-454b-8af7-064d3ca540e5\",\"type\":\"LinearScale\"},{\"attributes\":{},\"id\":\"350aea0b-af14-4d81-b5b0-0f1f862ae009\",\"type\":\"BasicTicker\"},{\"attributes\":{\"dimension\":1,\"plot\":{\"id\":\"3a678d05-6c7c-4982-8d8f-60493b9c3009\",\"subtype\":\"Figure\",\"type\":\"Plot\"},\"ticker\":{\"id\":\"350aea0b-af14-4d81-b5b0-0f1f862ae009\",\"type\":\"BasicTicker\"}},\"id\":\"fc0bfbfe-db69-4505-96bb-a7f3a150e943\",\"type\":\"Grid\"},{\"attributes\":{},\"id\":\"37e305b9-0a51-4473-815d-6534da404d4b\",\"type\":\"LinearScale\"},{\"attributes\":{\"callback\":null},\"id\":\"3c7186c4-c3ec-4d6f-a8c8-0a0c175a6f81\",\"type\":\"DataRange1d\"},{\"attributes\":{\"data_source\":{\"id\":\"076e6d7c-bd02-48ec-8c08-aa7307c58d22\",\"type\":\"ColumnDataSource\"},\"glyph\":{\"id\":\"c74961ea-1513-4d02-95e5-e8cad7de4d79\",\"type\":\"Circle\"},\"hover_glyph\":null,\"muted_glyph\":null,\"nonselection_glyph\":{\"id\":\"2f59e63c-4750-4d76-8968-5e39f3192990\",\"type\":\"Circle\"},\"selection_glyph\":null,\"view\":{\"id\":\"088be46a-886a-4d1a-839d-65513fa6dad0\",\"type\":\"CDSView\"}},\"id\":\"d2e1457a-166a-41bd-b072-e4897256c294\",\"type\":\"GlyphRenderer\"},{\"attributes\":{\"bottom_units\":\"screen\",\"fill_alpha\":{\"value\":0.5},\"fill_color\":{\"value\":\"lightgrey\"},\"left_units\":\"screen\",\"level\":\"overlay\",\"line_alpha\":{\"value\":1.0},\"line_color\":{\"value\":\"black\"},\"line_dash\":[4,4],\"line_width\":{\"value\":2},\"plot\":null,\"render_mode\":\"css\",\"right_units\":\"screen\",\"top_units\":\"screen\"},\"id\":\"4b0ca30b-730f-46bd-a5f3-e4a1f067d662\",\"type\":\"BoxAnnotation\"},{\"attributes\":{},\"id\":\"c32a3811-6717-4acc-84e0-f5d9a28803ff\",\"type\":\"PanTool\"},{\"attributes\":{\"plot\":{\"id\":\"da566268-d153-4a43-9d63-4696119412b6\",\"subtype\":\"Figure\",\"type\":\"Plot\"},\"ticker\":{\"id\":\"913cc438-0f27-4ed0-a1b1-7d8d83a0f2e9\",\"type\":\"BasicTicker\"}},\"id\":\"a5946b65-2694-4f93-ad50-9656795f088d\",\"type\":\"Grid\"},{\"attributes\":{},\"id\":\"e98a40b5-8820-4d94-a424-fc78c728819e\",\"type\":\"WheelZoomTool\"},{\"attributes\":{\"overlay\":{\"id\":\"4b0ca30b-730f-46bd-a5f3-e4a1f067d662\",\"type\":\"BoxAnnotation\"}},\"id\":\"ad516fa8-2ca6-44e8-8f74-9238d6cf49cc\",\"type\":\"BoxZoomTool\"},{\"attributes\":{},\"id\":\"c378e457-9f7b-419e-975c-c39b8fb25ca6\",\"type\":\"SaveTool\"},{\"attributes\":{},\"id\":\"8f08d10c-0dc7-4036-b73b-20a1a6719e26\",\"type\":\"ResetTool\"},{\"attributes\":{},\"id\":\"ba876b64-13bc-4c5d-ac88-51f8b59ebc61\",\"type\":\"HelpTool\"},{\"attributes\":{},\"id\":\"913cc438-0f27-4ed0-a1b1-7d8d83a0f2e9\",\"type\":\"BasicTicker\"},{\"attributes\":{\"formatter\":{\"id\":\"4aafffe6-1a86-452d-b0d9-01ff5feb3d7d\",\"type\":\"BasicTickFormatter\"},\"plot\":{\"id\":\"da566268-d153-4a43-9d63-4696119412b6\",\"subtype\":\"Figure\",\"type\":\"Plot\"},\"ticker\":{\"id\":\"913cc438-0f27-4ed0-a1b1-7d8d83a0f2e9\",\"type\":\"BasicTicker\"}},\"id\":\"e34aacc2-36cd-4426-80e8-6e54f1af5e7f\",\"type\":\"LinearAxis\"},{\"attributes\":{\"source\":{\"id\":\"076e6d7c-bd02-48ec-8c08-aa7307c58d22\",\"type\":\"ColumnDataSource\"}},\"id\":\"088be46a-886a-4d1a-839d-65513fa6dad0\",\"type\":\"CDSView\"},{\"attributes\":{\"dimension\":1,\"plot\":{\"id\":\"da566268-d153-4a43-9d63-4696119412b6\",\"subtype\":\"Figure\",\"type\":\"Plot\"},\"ticker\":{\"id\":\"aa42e8fc-1659-4d40-80e4-d9bed1075e61\",\"type\":\"BasicTicker\"}},\"id\":\"8773a192-94ae-4b46-825c-4b8d60901349\",\"type\":\"Grid\"},{\"attributes\":{\"fill_alpha\":{\"value\":0.1},\"fill_color\":{\"value\":\"#1f77b4\"},\"line_alpha\":{\"value\":0.1},\"line_color\":{\"value\":\"#1f77b4\"},\"size\":{\"units\":\"screen\",\"value\":10},\"x\":{\"field\":\"x\"},\"y\":{\"field\":\"y\"}},\"id\":\"2f59e63c-4750-4d76-8968-5e39f3192990\",\"type\":\"Circle\"},{\"attributes\":{\"fill_alpha\":{\"value\":0.5},\"fill_color\":{\"value\":\"firebrick\"},\"line_alpha\":{\"value\":0.5},\"line_color\":{\"value\":\"firebrick\"},\"size\":{\"units\":\"screen\",\"value\":10},\"x\":{\"field\":\"x\"},\"y\":{\"field\":\"y\"}},\"id\":\"2965514e-e48c-4ee9-a9f5-b818df6580c8\",\"type\":\"Circle\"},{\"attributes\":{\"formatter\":{\"id\":\"82921f24-6cbe-4f01-984b-239823617076\",\"type\":\"BasicTickFormatter\"},\"plot\":{\"id\":\"da566268-d153-4a43-9d63-4696119412b6\",\"subtype\":\"Figure\",\"type\":\"Plot\"},\"ticker\":{\"id\":\"aa42e8fc-1659-4d40-80e4-d9bed1075e61\",\"type\":\"BasicTicker\"}},\"id\":\"a75ff07e-4c0e-4ceb-a8f3-c34d9527e5a4\",\"type\":\"LinearAxis\"},{\"attributes\":{},\"id\":\"714ebfd3-e319-46ef-885a-0425af58f95e\",\"type\":\"SaveTool\"},{\"attributes\":{},\"id\":\"aa42e8fc-1659-4d40-80e4-d9bed1075e61\",\"type\":\"BasicTicker\"},{\"attributes\":{\"bottom_units\":\"screen\",\"fill_alpha\":{\"value\":0.5},\"fill_color\":{\"value\":\"lightgrey\"},\"left_units\":\"screen\",\"level\":\"overlay\",\"line_alpha\":{\"value\":1.0},\"line_color\":{\"value\":\"black\"},\"line_dash\":[4,4],\"line_width\":{\"value\":2},\"plot\":null,\"render_mode\":\"css\",\"right_units\":\"screen\",\"top_units\":\"screen\"},\"id\":\"a46227fe-0733-4450-bec5-cfd887c4b2b3\",\"type\":\"BoxAnnotation\"},{\"attributes\":{},\"id\":\"4883f5b1-3e28-4809-af39-ca7ee0159da3\",\"type\":\"PanTool\"},{\"attributes\":{},\"id\":\"77e958d0-2c51-404a-a279-8a10fd734324\",\"type\":\"HelpTool\"},{\"attributes\":{},\"id\":\"ee65c008-f52b-405c-a7d7-5e604998921b\",\"type\":\"WheelZoomTool\"},{\"attributes\":{\"overlay\":{\"id\":\"a46227fe-0733-4450-bec5-cfd887c4b2b3\",\"type\":\"BoxAnnotation\"}},\"id\":\"3f541706-05fa-4621-a97d-80435827b9eb\",\"type\":\"BoxZoomTool\"},{\"attributes\":{},\"id\":\"067c58ea-eda7-4444-8612-09fe4fa72539\",\"type\":\"BasicTickFormatter\"},{\"attributes\":{\"callback\":null,\"column_names\":[\"x\",\"y\"],\"data\":{\"x\":[0,1,2,3,4,5,6,7,8,9,10],\"y\":[5,4,3,2,1,0,1,2,3,4,5]},\"selected\":null,\"selection_policy\":null},\"id\":\"27b98372-fbbb-434f-875d-e5c03f2e7922\",\"type\":\"ColumnDataSource\"},{\"attributes\":{\"plot\":null,\"text\":\"\"},\"id\":\"0c47fe82-4b93-4caa-ab07-b5f2f7df390f\",\"type\":\"Title\"},{\"attributes\":{},\"id\":\"4aafffe6-1a86-452d-b0d9-01ff5feb3d7d\",\"type\":\"BasicTickFormatter\"},{\"attributes\":{\"data_source\":{\"id\":\"9e226db4-f84d-458e-85ac-2b02c110efa5\",\"type\":\"ColumnDataSource\"},\"glyph\":{\"id\":\"2965514e-e48c-4ee9-a9f5-b818df6580c8\",\"type\":\"Circle\"},\"hover_glyph\":null,\"muted_glyph\":null,\"nonselection_glyph\":{\"id\":\"ed48250c-cc09-4785-b411-ade66e00b00c\",\"type\":\"Circle\"},\"selection_glyph\":null,\"view\":{\"id\":\"dbdc0d6e-dfaa-473c-8fad-21830947094a\",\"type\":\"CDSView\"}},\"id\":\"a51acfa9-9ced-4766-91d8-951f31d69ae4\",\"type\":\"GlyphRenderer\"},{\"attributes\":{},\"id\":\"1670f657-a23d-4efe-b183-9690bfc20d8c\",\"type\":\"BasicTickFormatter\"},{\"attributes\":{\"plot\":null,\"text\":\"\"},\"id\":\"3c17624b-5505-427e-af6d-4b7858ef6190\",\"type\":\"Title\"},{\"attributes\":{\"fill_alpha\":{\"value\":0.1},\"fill_color\":{\"value\":\"#1f77b4\"},\"line_alpha\":{\"value\":0.1},\"line_color\":{\"value\":\"#1f77b4\"},\"size\":{\"units\":\"screen\",\"value\":10},\"x\":{\"field\":\"x\"},\"y\":{\"field\":\"y\"}},\"id\":\"ed48250c-cc09-4785-b411-ade66e00b00c\",\"type\":\"Circle\"},{\"attributes\":{\"source\":{\"id\":\"9e226db4-f84d-458e-85ac-2b02c110efa5\",\"type\":\"ColumnDataSource\"}},\"id\":\"dbdc0d6e-dfaa-473c-8fad-21830947094a\",\"type\":\"CDSView\"},{\"attributes\":{\"active_drag\":\"auto\",\"active_inspect\":\"auto\",\"active_scroll\":\"auto\",\"active_tap\":\"auto\",\"tools\":[{\"id\":\"25793404-859f-4425-9782-c3ca0845d618\",\"type\":\"PanTool\"},{\"id\":\"0b480144-d3cf-4025-9910-cd0564e575a4\",\"type\":\"WheelZoomTool\"},{\"id\":\"f5793fe4-6504-4882-953a-52c5b547f381\",\"type\":\"BoxZoomTool\"},{\"id\":\"8c0fc476-df5c-4851-97c7-9f1eb81ff717\",\"type\":\"SaveTool\"},{\"id\":\"dcdca5b9-30c4-4946-9fba-22741a1fa898\",\"type\":\"ResetTool\"},{\"id\":\"9d2cc34c-e174-43ee-a551-495475a67d60\",\"type\":\"HelpTool\"}]},\"id\":\"783e278c-3932-4547-991b-2317637145fa\",\"type\":\"Toolbar\"},{\"attributes\":{},\"id\":\"284545fd-2374-4936-be3c-546d78a3f4df\",\"type\":\"BasicTickFormatter\"},{\"attributes\":{\"fill_alpha\":{\"value\":0.5},\"fill_color\":{\"value\":\"navy\"},\"line_alpha\":{\"value\":0.5},\"line_color\":{\"value\":\"navy\"},\"size\":{\"units\":\"screen\",\"value\":10},\"x\":{\"field\":\"x\"},\"y\":{\"field\":\"y\"}},\"id\":\"c74961ea-1513-4d02-95e5-e8cad7de4d79\",\"type\":\"Circle\"},{\"attributes\":{\"below\":[{\"id\":\"53ab312b-7c24-4d5a-beb1-9c156bbd43a0\",\"type\":\"LinearAxis\"}],\"left\":[{\"id\":\"738bf704-9137-468b-a472-a2636dea868d\",\"type\":\"LinearAxis\"}],\"plot_height\":250,\"plot_width\":250,\"renderers\":[{\"id\":\"53ab312b-7c24-4d5a-beb1-9c156bbd43a0\",\"type\":\"LinearAxis\"},{\"id\":\"b39fe1d1-2d6b-44d8-b80f-000c95fdc881\",\"type\":\"Grid\"},{\"id\":\"738bf704-9137-468b-a472-a2636dea868d\",\"type\":\"LinearAxis\"},{\"id\":\"e15d60cb-7f46-4755-ac85-09f07c25482c\",\"type\":\"Grid\"},{\"id\":\"fd573cd8-825f-40c5-b4db-f185c3df57ca\",\"type\":\"BoxAnnotation\"},{\"id\":\"d2e1457a-166a-41bd-b072-e4897256c294\",\"type\":\"GlyphRenderer\"}],\"title\":{\"id\":\"0c47fe82-4b93-4caa-ab07-b5f2f7df390f\",\"type\":\"Title\"},\"toolbar\":{\"id\":\"783e278c-3932-4547-991b-2317637145fa\",\"type\":\"Toolbar\"},\"x_range\":{\"id\":\"3a591f12-73e8-4ce3-94b2-440e52f4151e\",\"type\":\"DataRange1d\"},\"x_scale\":{\"id\":\"60c99aa0-83c3-410e-b374-7ecb02c38c7c\",\"type\":\"LinearScale\"},\"y_range\":{\"id\":\"e5dd27ef-95e9-4437-851b-402d4043b42c\",\"type\":\"DataRange1d\"},\"y_scale\":{\"id\":\"ec5b3347-77b2-419a-973e-299d846d427c\",\"type\":\"LinearScale\"}},\"id\":\"c26cf22c-094b-4247-a82d-f3156a030de9\",\"subtype\":\"Figure\",\"type\":\"Plot\"},{\"attributes\":{\"fill_alpha\":{\"value\":0.1},\"fill_color\":{\"value\":\"#1f77b4\"},\"line_alpha\":{\"value\":0.1},\"line_color\":{\"value\":\"#1f77b4\"},\"size\":{\"units\":\"screen\",\"value\":10},\"x\":{\"field\":\"x\"},\"y\":{\"field\":\"y\"}},\"id\":\"b5e241ee-5b09-480f-9a3c-401b04f2e78c\",\"type\":\"Circle\"},{\"attributes\":{\"below\":[{\"id\":\"530028cc-9b94-4067-bfa2-39c8fa4f1eae\",\"type\":\"LinearAxis\"}],\"left\":[{\"id\":\"fb3bf150-6698-4eb9-b8c5-2dc5d0bb2b13\",\"type\":\"LinearAxis\"}],\"plot_height\":250,\"plot_width\":250,\"renderers\":[{\"id\":\"530028cc-9b94-4067-bfa2-39c8fa4f1eae\",\"type\":\"LinearAxis\"},{\"id\":\"96681fa9-3820-4193-a7f5-07223ccd4b7f\",\"type\":\"Grid\"},{\"id\":\"fb3bf150-6698-4eb9-b8c5-2dc5d0bb2b13\",\"type\":\"LinearAxis\"},{\"id\":\"fc0bfbfe-db69-4505-96bb-a7f3a150e943\",\"type\":\"Grid\"},{\"id\":\"4b0ca30b-730f-46bd-a5f3-e4a1f067d662\",\"type\":\"BoxAnnotation\"},{\"id\":\"a51acfa9-9ced-4766-91d8-951f31d69ae4\",\"type\":\"GlyphRenderer\"}],\"title\":{\"id\":\"3c17624b-5505-427e-af6d-4b7858ef6190\",\"type\":\"Title\"},\"toolbar\":{\"id\":\"a2574ec4-58d0-4857-8744-d027b3a5f274\",\"type\":\"Toolbar\"},\"x_range\":{\"id\":\"1e0d01e1-f423-49ad-8a47-c8b05c39a815\",\"type\":\"DataRange1d\"},\"x_scale\":{\"id\":\"d6a1faef-06ce-4585-8bd8-417c5a17016c\",\"type\":\"LinearScale\"},\"y_range\":{\"id\":\"9a80b55c-9d67-4fe0-8b97-1ccc17d98a4d\",\"type\":\"DataRange1d\"},\"y_scale\":{\"id\":\"bb019008-84b6-4327-9189-827e344b1940\",\"type\":\"LinearScale\"}},\"id\":\"3a678d05-6c7c-4982-8d8f-60493b9c3009\",\"subtype\":\"Figure\",\"type\":\"Plot\"},{\"attributes\":{\"plot\":null,\"text\":\"\"},\"id\":\"dc5fe422-f2d3-482a-912f-b3e40c2a3c88\",\"type\":\"Title\"},{\"attributes\":{\"plot\":{\"id\":\"3a678d05-6c7c-4982-8d8f-60493b9c3009\",\"subtype\":\"Figure\",\"type\":\"Plot\"},\"ticker\":{\"id\":\"046b650e-7f9f-4294-91d0-8957ef4f2bc3\",\"type\":\"BasicTicker\"}},\"id\":\"96681fa9-3820-4193-a7f5-07223ccd4b7f\",\"type\":\"Grid\"},{\"attributes\":{},\"id\":\"82921f24-6cbe-4f01-984b-239823617076\",\"type\":\"BasicTickFormatter\"},{\"attributes\":{\"callback\":null},\"id\":\"3a591f12-73e8-4ce3-94b2-440e52f4151e\",\"type\":\"DataRange1d\"},{\"attributes\":{\"fill_alpha\":{\"value\":0.5},\"fill_color\":{\"value\":\"olive\"},\"line_alpha\":{\"value\":0.5},\"line_color\":{\"value\":\"olive\"},\"size\":{\"units\":\"screen\",\"value\":10},\"x\":{\"field\":\"x\"},\"y\":{\"field\":\"y\"}},\"id\":\"38aa872c-822a-4b54-9e07-ff5e59e2f855\",\"type\":\"Circle\"},{\"attributes\":{\"active_drag\":\"auto\",\"active_inspect\":\"auto\",\"active_scroll\":\"auto\",\"active_tap\":\"auto\",\"tools\":[{\"id\":\"c32a3811-6717-4acc-84e0-f5d9a28803ff\",\"type\":\"PanTool\"},{\"id\":\"e98a40b5-8820-4d94-a424-fc78c728819e\",\"type\":\"WheelZoomTool\"},{\"id\":\"ad516fa8-2ca6-44e8-8f74-9238d6cf49cc\",\"type\":\"BoxZoomTool\"},{\"id\":\"c378e457-9f7b-419e-975c-c39b8fb25ca6\",\"type\":\"SaveTool\"},{\"id\":\"8f08d10c-0dc7-4036-b73b-20a1a6719e26\",\"type\":\"ResetTool\"},{\"id\":\"ba876b64-13bc-4c5d-ac88-51f8b59ebc61\",\"type\":\"HelpTool\"}]},\"id\":\"a2574ec4-58d0-4857-8744-d027b3a5f274\",\"type\":\"Toolbar\"},{\"attributes\":{\"data_source\":{\"id\":\"27b98372-fbbb-434f-875d-e5c03f2e7922\",\"type\":\"ColumnDataSource\"},\"glyph\":{\"id\":\"38aa872c-822a-4b54-9e07-ff5e59e2f855\",\"type\":\"Circle\"},\"hover_glyph\":null,\"muted_glyph\":null,\"nonselection_glyph\":{\"id\":\"b5e241ee-5b09-480f-9a3c-401b04f2e78c\",\"type\":\"Circle\"},\"selection_glyph\":null,\"view\":{\"id\":\"8ffa2de6-3153-4c42-b63c-657435b39f83\",\"type\":\"CDSView\"}},\"id\":\"658b2298-944b-43f8-963b-0d1c56572a3e\",\"type\":\"GlyphRenderer\"},{\"attributes\":{\"callback\":null},\"id\":\"e5dd27ef-95e9-4437-851b-402d4043b42c\",\"type\":\"DataRange1d\"},{\"attributes\":{\"source\":{\"id\":\"27b98372-fbbb-434f-875d-e5c03f2e7922\",\"type\":\"ColumnDataSource\"}},\"id\":\"8ffa2de6-3153-4c42-b63c-657435b39f83\",\"type\":\"CDSView\"},{\"attributes\":{},\"id\":\"60c99aa0-83c3-410e-b374-7ecb02c38c7c\",\"type\":\"LinearScale\"},{\"attributes\":{},\"id\":\"ec5b3347-77b2-419a-973e-299d846d427c\",\"type\":\"LinearScale\"},{\"attributes\":{\"plot\":{\"id\":\"c26cf22c-094b-4247-a82d-f3156a030de9\",\"subtype\":\"Figure\",\"type\":\"Plot\"},\"ticker\":{\"id\":\"4ff5e710-23df-4961-8667-2b20fab282c8\",\"type\":\"BasicTicker\"}},\"id\":\"b39fe1d1-2d6b-44d8-b80f-000c95fdc881\",\"type\":\"Grid\"},{\"attributes\":{\"formatter\":{\"id\":\"067c58ea-eda7-4444-8612-09fe4fa72539\",\"type\":\"BasicTickFormatter\"},\"plot\":{\"id\":\"c26cf22c-094b-4247-a82d-f3156a030de9\",\"subtype\":\"Figure\",\"type\":\"Plot\"},\"ticker\":{\"id\":\"4ff5e710-23df-4961-8667-2b20fab282c8\",\"type\":\"BasicTicker\"}},\"id\":\"53ab312b-7c24-4d5a-beb1-9c156bbd43a0\",\"type\":\"LinearAxis\"},{\"attributes\":{},\"id\":\"4ff5e710-23df-4961-8667-2b20fab282c8\",\"type\":\"BasicTicker\"},{\"attributes\":{\"formatter\":{\"id\":\"50ab9936-01c9-4de2-b850-18c637e433c9\",\"type\":\"BasicTickFormatter\"},\"plot\":{\"id\":\"c26cf22c-094b-4247-a82d-f3156a030de9\",\"subtype\":\"Figure\",\"type\":\"Plot\"},\"ticker\":{\"id\":\"feb7a390-ee7f-4b8f-a58d-ef3ad0be1af6\",\"type\":\"BasicTicker\"}},\"id\":\"738bf704-9137-468b-a472-a2636dea868d\",\"type\":\"LinearAxis\"},{\"attributes\":{},\"id\":\"feb7a390-ee7f-4b8f-a58d-ef3ad0be1af6\",\"type\":\"BasicTicker\"},{\"attributes\":{\"dimension\":1,\"plot\":{\"id\":\"c26cf22c-094b-4247-a82d-f3156a030de9\",\"subtype\":\"Figure\",\"type\":\"Plot\"},\"ticker\":{\"id\":\"feb7a390-ee7f-4b8f-a58d-ef3ad0be1af6\",\"type\":\"BasicTicker\"}},\"id\":\"e15d60cb-7f46-4755-ac85-09f07c25482c\",\"type\":\"Grid\"},{\"attributes\":{\"callback\":null},\"id\":\"1e0d01e1-f423-49ad-8a47-c8b05c39a815\",\"type\":\"DataRange1d\"},{\"attributes\":{\"below\":[{\"id\":\"e34aacc2-36cd-4426-80e8-6e54f1af5e7f\",\"type\":\"LinearAxis\"}],\"left\":[{\"id\":\"a75ff07e-4c0e-4ceb-a8f3-c34d9527e5a4\",\"type\":\"LinearAxis\"}],\"plot_height\":250,\"plot_width\":250,\"renderers\":[{\"id\":\"e34aacc2-36cd-4426-80e8-6e54f1af5e7f\",\"type\":\"LinearAxis\"},{\"id\":\"a5946b65-2694-4f93-ad50-9656795f088d\",\"type\":\"Grid\"},{\"id\":\"a75ff07e-4c0e-4ceb-a8f3-c34d9527e5a4\",\"type\":\"LinearAxis\"},{\"id\":\"8773a192-94ae-4b46-825c-4b8d60901349\",\"type\":\"Grid\"},{\"id\":\"a46227fe-0733-4450-bec5-cfd887c4b2b3\",\"type\":\"BoxAnnotation\"},{\"id\":\"658b2298-944b-43f8-963b-0d1c56572a3e\",\"type\":\"GlyphRenderer\"}],\"title\":{\"id\":\"dc5fe422-f2d3-482a-912f-b3e40c2a3c88\",\"type\":\"Title\"},\"toolbar\":{\"id\":\"f53048c1-9633-4b0c-9363-4bab72b891ad\",\"type\":\"Toolbar\"},\"x_range\":{\"id\":\"73c92dd8-78a3-4296-9d2d-41699c44c84b\",\"type\":\"DataRange1d\"},\"x_scale\":{\"id\":\"37a90728-2131-454b-8af7-064d3ca540e5\",\"type\":\"LinearScale\"},\"y_range\":{\"id\":\"3c7186c4-c3ec-4d6f-a8c8-0a0c175a6f81\",\"type\":\"DataRange1d\"},\"y_scale\":{\"id\":\"37e305b9-0a51-4473-815d-6534da404d4b\",\"type\":\"LinearScale\"}},\"id\":\"da566268-d153-4a43-9d63-4696119412b6\",\"subtype\":\"Figure\",\"type\":\"Plot\"},{\"attributes\":{\"callback\":null,\"column_names\":[\"x\",\"y\"],\"data\":{\"x\":[0,1,2,3,4,5,6,7,8,9,10],\"y\":[10,9,8,7,6,5,4,3,2,1,0]},\"selected\":null,\"selection_policy\":null},\"id\":\"9e226db4-f84d-458e-85ac-2b02c110efa5\",\"type\":\"ColumnDataSource\"},{\"attributes\":{\"bottom_units\":\"screen\",\"fill_alpha\":{\"value\":0.5},\"fill_color\":{\"value\":\"lightgrey\"},\"left_units\":\"screen\",\"level\":\"overlay\",\"line_alpha\":{\"value\":1.0},\"line_color\":{\"value\":\"black\"},\"line_dash\":[4,4],\"line_width\":{\"value\":2},\"plot\":null,\"render_mode\":\"css\",\"right_units\":\"screen\",\"top_units\":\"screen\"},\"id\":\"fd573cd8-825f-40c5-b4db-f185c3df57ca\",\"type\":\"BoxAnnotation\"},{\"attributes\":{},\"id\":\"25793404-859f-4425-9782-c3ca0845d618\",\"type\":\"PanTool\"},{\"attributes\":{\"callback\":null},\"id\":\"9a80b55c-9d67-4fe0-8b97-1ccc17d98a4d\",\"type\":\"DataRange1d\"},{\"attributes\":{},\"id\":\"0b480144-d3cf-4025-9910-cd0564e575a4\",\"type\":\"WheelZoomTool\"},{\"attributes\":{\"overlay\":{\"id\":\"fd573cd8-825f-40c5-b4db-f185c3df57ca\",\"type\":\"BoxAnnotation\"}},\"id\":\"f5793fe4-6504-4882-953a-52c5b547f381\",\"type\":\"BoxZoomTool\"},{\"attributes\":{},\"id\":\"8c0fc476-df5c-4851-97c7-9f1eb81ff717\",\"type\":\"SaveTool\"},{\"attributes\":{},\"id\":\"dcdca5b9-30c4-4946-9fba-22741a1fa898\",\"type\":\"ResetTool\"},{\"attributes\":{},\"id\":\"9d2cc34c-e174-43ee-a551-495475a67d60\",\"type\":\"HelpTool\"},{\"attributes\":{\"callback\":null},\"id\":\"73c92dd8-78a3-4296-9d2d-41699c44c84b\",\"type\":\"DataRange1d\"},{\"attributes\":{},\"id\":\"2cf423dc-359d-46de-86aa-7ea2e49390ef\",\"type\":\"ResetTool\"},{\"attributes\":{},\"id\":\"d6a1faef-06ce-4585-8bd8-417c5a17016c\",\"type\":\"LinearScale\"},{\"attributes\":{\"callback\":null,\"column_names\":[\"x\",\"y\"],\"data\":{\"x\":[0,1,2,3,4,5,6,7,8,9,10],\"y\":[0,1,2,3,4,5,6,7,8,9,10]},\"selected\":null,\"selection_policy\":null},\"id\":\"076e6d7c-bd02-48ec-8c08-aa7307c58d22\",\"type\":\"ColumnDataSource\"},{\"attributes\":{},\"id\":\"046b650e-7f9f-4294-91d0-8957ef4f2bc3\",\"type\":\"BasicTicker\"},{\"attributes\":{},\"id\":\"50ab9936-01c9-4de2-b850-18c637e433c9\",\"type\":\"BasicTickFormatter\"},{\"attributes\":{\"active_drag\":\"auto\",\"active_inspect\":\"auto\",\"active_scroll\":\"auto\",\"active_tap\":\"auto\",\"tools\":[{\"id\":\"4883f5b1-3e28-4809-af39-ca7ee0159da3\",\"type\":\"PanTool\"},{\"id\":\"ee65c008-f52b-405c-a7d7-5e604998921b\",\"type\":\"WheelZoomTool\"},{\"id\":\"3f541706-05fa-4621-a97d-80435827b9eb\",\"type\":\"BoxZoomTool\"},{\"id\":\"714ebfd3-e319-46ef-885a-0425af58f95e\",\"type\":\"SaveTool\"},{\"id\":\"2cf423dc-359d-46de-86aa-7ea2e49390ef\",\"type\":\"ResetTool\"},{\"id\":\"77e958d0-2c51-404a-a279-8a10fd734324\",\"type\":\"HelpTool\"}]},\"id\":\"f53048c1-9633-4b0c-9363-4bab72b891ad\",\"type\":\"Toolbar\"},{\"attributes\":{},\"id\":\"bb019008-84b6-4327-9189-827e344b1940\",\"type\":\"LinearScale\"},{\"attributes\":{\"formatter\":{\"id\":\"1670f657-a23d-4efe-b183-9690bfc20d8c\",\"type\":\"BasicTickFormatter\"},\"plot\":{\"id\":\"3a678d05-6c7c-4982-8d8f-60493b9c3009\",\"subtype\":\"Figure\",\"type\":\"Plot\"},\"ticker\":{\"id\":\"046b650e-7f9f-4294-91d0-8957ef4f2bc3\",\"type\":\"BasicTicker\"}},\"id\":\"530028cc-9b94-4067-bfa2-39c8fa4f1eae\",\"type\":\"LinearAxis\"}],\"root_ids\":[\"ee6d81e6-4415-447c-b397-3bbdbc29a1d4\"]},\"title\":\"Bokeh Application\",\"version\":\"0.12.15\"}};\n",
       "  var render_items = [{\"docid\":\"2a2aab4a-43a7-41cd-9f22-cc353694454e\",\"elementid\":\"18aaca07-7867-4854-ab65-6fa726aee465\",\"modelid\":\"ee6d81e6-4415-447c-b397-3bbdbc29a1d4\"}];\n",
       "  root.Bokeh.embed.embed_items_notebook(docs_json, render_items);\n",
       "\n",
       "  }\n",
       "  if (root.Bokeh !== undefined) {\n",
       "    embed_document(root);\n",
       "  } else {\n",
       "    var attempts = 0;\n",
       "    var timer = setInterval(function(root) {\n",
       "      if (root.Bokeh !== undefined) {\n",
       "        embed_document(root);\n",
       "        clearInterval(timer);\n",
       "      }\n",
       "      attempts++;\n",
       "      if (attempts > 100) {\n",
       "        console.log(\"Bokeh: ERROR: Unable to run BokehJS code because BokehJS library is missing\")\n",
       "        clearInterval(timer);\n",
       "      }\n",
       "    }, 10, root)\n",
       "  }\n",
       "})(window);"
      ],
      "application/vnd.bokehjs_exec.v0+json": ""
     },
     "metadata": {
      "application/vnd.bokehjs_exec.v0+json": {
       "id": "ee6d81e6-4415-447c-b397-3bbdbc29a1d4"
      }
     },
     "output_type": "display_data"
    }
   ],
   "source": [
    "p = figure()\n",
    "p = row(s1, s2, s3)\n",
    "show(p)"
   ]
  },
  {
   "cell_type": "code",
   "execution_count": 20,
   "metadata": {},
   "outputs": [
    {
     "data": {
      "text/html": [
       "\n",
       "<div class=\"bk-root\">\n",
       "    <div class=\"bk-plotdiv\" id=\"9fa70020-6be0-46e5-ab52-cd2bf147fa9d\"></div>\n",
       "</div>"
      ]
     },
     "metadata": {},
     "output_type": "display_data"
    },
    {
     "data": {
      "application/javascript": [
       "(function(root) {\n",
       "  function embed_document(root) {\n",
       "    \n",
       "  var docs_json = {\"b8126d42-b35b-40f6-ba8c-559ebe120367\":{\"roots\":{\"references\":[{\"attributes\":{\"formatter\":{\"id\":\"284545fd-2374-4936-be3c-546d78a3f4df\",\"type\":\"BasicTickFormatter\"},\"plot\":{\"id\":\"3a678d05-6c7c-4982-8d8f-60493b9c3009\",\"subtype\":\"Figure\",\"type\":\"Plot\"},\"ticker\":{\"id\":\"350aea0b-af14-4d81-b5b0-0f1f862ae009\",\"type\":\"BasicTicker\"}},\"id\":\"fb3bf150-6698-4eb9-b8c5-2dc5d0bb2b13\",\"type\":\"LinearAxis\"},{\"attributes\":{},\"id\":\"37a90728-2131-454b-8af7-064d3ca540e5\",\"type\":\"LinearScale\"},{\"attributes\":{},\"id\":\"350aea0b-af14-4d81-b5b0-0f1f862ae009\",\"type\":\"BasicTicker\"},{\"attributes\":{\"dimension\":1,\"plot\":{\"id\":\"3a678d05-6c7c-4982-8d8f-60493b9c3009\",\"subtype\":\"Figure\",\"type\":\"Plot\"},\"ticker\":{\"id\":\"350aea0b-af14-4d81-b5b0-0f1f862ae009\",\"type\":\"BasicTicker\"}},\"id\":\"fc0bfbfe-db69-4505-96bb-a7f3a150e943\",\"type\":\"Grid\"},{\"attributes\":{},\"id\":\"37e305b9-0a51-4473-815d-6534da404d4b\",\"type\":\"LinearScale\"},{\"attributes\":{\"callback\":null},\"id\":\"3c7186c4-c3ec-4d6f-a8c8-0a0c175a6f81\",\"type\":\"DataRange1d\"},{\"attributes\":{\"data_source\":{\"id\":\"076e6d7c-bd02-48ec-8c08-aa7307c58d22\",\"type\":\"ColumnDataSource\"},\"glyph\":{\"id\":\"c74961ea-1513-4d02-95e5-e8cad7de4d79\",\"type\":\"Circle\"},\"hover_glyph\":null,\"muted_glyph\":null,\"nonselection_glyph\":{\"id\":\"2f59e63c-4750-4d76-8968-5e39f3192990\",\"type\":\"Circle\"},\"selection_glyph\":null,\"view\":{\"id\":\"088be46a-886a-4d1a-839d-65513fa6dad0\",\"type\":\"CDSView\"}},\"id\":\"d2e1457a-166a-41bd-b072-e4897256c294\",\"type\":\"GlyphRenderer\"},{\"attributes\":{\"bottom_units\":\"screen\",\"fill_alpha\":{\"value\":0.5},\"fill_color\":{\"value\":\"lightgrey\"},\"left_units\":\"screen\",\"level\":\"overlay\",\"line_alpha\":{\"value\":1.0},\"line_color\":{\"value\":\"black\"},\"line_dash\":[4,4],\"line_width\":{\"value\":2},\"plot\":null,\"render_mode\":\"css\",\"right_units\":\"screen\",\"top_units\":\"screen\"},\"id\":\"4b0ca30b-730f-46bd-a5f3-e4a1f067d662\",\"type\":\"BoxAnnotation\"},{\"attributes\":{},\"id\":\"c32a3811-6717-4acc-84e0-f5d9a28803ff\",\"type\":\"PanTool\"},{\"attributes\":{\"plot\":{\"id\":\"da566268-d153-4a43-9d63-4696119412b6\",\"subtype\":\"Figure\",\"type\":\"Plot\"},\"ticker\":{\"id\":\"913cc438-0f27-4ed0-a1b1-7d8d83a0f2e9\",\"type\":\"BasicTicker\"}},\"id\":\"a5946b65-2694-4f93-ad50-9656795f088d\",\"type\":\"Grid\"},{\"attributes\":{},\"id\":\"e98a40b5-8820-4d94-a424-fc78c728819e\",\"type\":\"WheelZoomTool\"},{\"attributes\":{\"overlay\":{\"id\":\"4b0ca30b-730f-46bd-a5f3-e4a1f067d662\",\"type\":\"BoxAnnotation\"}},\"id\":\"ad516fa8-2ca6-44e8-8f74-9238d6cf49cc\",\"type\":\"BoxZoomTool\"},{\"attributes\":{},\"id\":\"c378e457-9f7b-419e-975c-c39b8fb25ca6\",\"type\":\"SaveTool\"},{\"attributes\":{},\"id\":\"8f08d10c-0dc7-4036-b73b-20a1a6719e26\",\"type\":\"ResetTool\"},{\"attributes\":{},\"id\":\"ba876b64-13bc-4c5d-ac88-51f8b59ebc61\",\"type\":\"HelpTool\"},{\"attributes\":{\"children\":[{\"id\":\"c26cf22c-094b-4247-a82d-f3156a030de9\",\"subtype\":\"Figure\",\"type\":\"Plot\"},{\"id\":\"3a678d05-6c7c-4982-8d8f-60493b9c3009\",\"subtype\":\"Figure\",\"type\":\"Plot\"},{\"id\":\"da566268-d153-4a43-9d63-4696119412b6\",\"subtype\":\"Figure\",\"type\":\"Plot\"}]},\"id\":\"9bc80227-12da-4843-9c9d-2c2738bfce46\",\"type\":\"Column\"},{\"attributes\":{},\"id\":\"913cc438-0f27-4ed0-a1b1-7d8d83a0f2e9\",\"type\":\"BasicTicker\"},{\"attributes\":{\"formatter\":{\"id\":\"4aafffe6-1a86-452d-b0d9-01ff5feb3d7d\",\"type\":\"BasicTickFormatter\"},\"plot\":{\"id\":\"da566268-d153-4a43-9d63-4696119412b6\",\"subtype\":\"Figure\",\"type\":\"Plot\"},\"ticker\":{\"id\":\"913cc438-0f27-4ed0-a1b1-7d8d83a0f2e9\",\"type\":\"BasicTicker\"}},\"id\":\"e34aacc2-36cd-4426-80e8-6e54f1af5e7f\",\"type\":\"LinearAxis\"},{\"attributes\":{\"source\":{\"id\":\"076e6d7c-bd02-48ec-8c08-aa7307c58d22\",\"type\":\"ColumnDataSource\"}},\"id\":\"088be46a-886a-4d1a-839d-65513fa6dad0\",\"type\":\"CDSView\"},{\"attributes\":{\"dimension\":1,\"plot\":{\"id\":\"da566268-d153-4a43-9d63-4696119412b6\",\"subtype\":\"Figure\",\"type\":\"Plot\"},\"ticker\":{\"id\":\"aa42e8fc-1659-4d40-80e4-d9bed1075e61\",\"type\":\"BasicTicker\"}},\"id\":\"8773a192-94ae-4b46-825c-4b8d60901349\",\"type\":\"Grid\"},{\"attributes\":{\"fill_alpha\":{\"value\":0.1},\"fill_color\":{\"value\":\"#1f77b4\"},\"line_alpha\":{\"value\":0.1},\"line_color\":{\"value\":\"#1f77b4\"},\"size\":{\"units\":\"screen\",\"value\":10},\"x\":{\"field\":\"x\"},\"y\":{\"field\":\"y\"}},\"id\":\"2f59e63c-4750-4d76-8968-5e39f3192990\",\"type\":\"Circle\"},{\"attributes\":{\"fill_alpha\":{\"value\":0.5},\"fill_color\":{\"value\":\"firebrick\"},\"line_alpha\":{\"value\":0.5},\"line_color\":{\"value\":\"firebrick\"},\"size\":{\"units\":\"screen\",\"value\":10},\"x\":{\"field\":\"x\"},\"y\":{\"field\":\"y\"}},\"id\":\"2965514e-e48c-4ee9-a9f5-b818df6580c8\",\"type\":\"Circle\"},{\"attributes\":{\"formatter\":{\"id\":\"82921f24-6cbe-4f01-984b-239823617076\",\"type\":\"BasicTickFormatter\"},\"plot\":{\"id\":\"da566268-d153-4a43-9d63-4696119412b6\",\"subtype\":\"Figure\",\"type\":\"Plot\"},\"ticker\":{\"id\":\"aa42e8fc-1659-4d40-80e4-d9bed1075e61\",\"type\":\"BasicTicker\"}},\"id\":\"a75ff07e-4c0e-4ceb-a8f3-c34d9527e5a4\",\"type\":\"LinearAxis\"},{\"attributes\":{},\"id\":\"714ebfd3-e319-46ef-885a-0425af58f95e\",\"type\":\"SaveTool\"},{\"attributes\":{},\"id\":\"aa42e8fc-1659-4d40-80e4-d9bed1075e61\",\"type\":\"BasicTicker\"},{\"attributes\":{\"bottom_units\":\"screen\",\"fill_alpha\":{\"value\":0.5},\"fill_color\":{\"value\":\"lightgrey\"},\"left_units\":\"screen\",\"level\":\"overlay\",\"line_alpha\":{\"value\":1.0},\"line_color\":{\"value\":\"black\"},\"line_dash\":[4,4],\"line_width\":{\"value\":2},\"plot\":null,\"render_mode\":\"css\",\"right_units\":\"screen\",\"top_units\":\"screen\"},\"id\":\"a46227fe-0733-4450-bec5-cfd887c4b2b3\",\"type\":\"BoxAnnotation\"},{\"attributes\":{},\"id\":\"4883f5b1-3e28-4809-af39-ca7ee0159da3\",\"type\":\"PanTool\"},{\"attributes\":{},\"id\":\"77e958d0-2c51-404a-a279-8a10fd734324\",\"type\":\"HelpTool\"},{\"attributes\":{},\"id\":\"ee65c008-f52b-405c-a7d7-5e604998921b\",\"type\":\"WheelZoomTool\"},{\"attributes\":{\"overlay\":{\"id\":\"a46227fe-0733-4450-bec5-cfd887c4b2b3\",\"type\":\"BoxAnnotation\"}},\"id\":\"3f541706-05fa-4621-a97d-80435827b9eb\",\"type\":\"BoxZoomTool\"},{\"attributes\":{},\"id\":\"067c58ea-eda7-4444-8612-09fe4fa72539\",\"type\":\"BasicTickFormatter\"},{\"attributes\":{\"callback\":null,\"column_names\":[\"x\",\"y\"],\"data\":{\"x\":[0,1,2,3,4,5,6,7,8,9,10],\"y\":[5,4,3,2,1,0,1,2,3,4,5]},\"selected\":null,\"selection_policy\":null},\"id\":\"27b98372-fbbb-434f-875d-e5c03f2e7922\",\"type\":\"ColumnDataSource\"},{\"attributes\":{\"plot\":null,\"text\":\"\"},\"id\":\"0c47fe82-4b93-4caa-ab07-b5f2f7df390f\",\"type\":\"Title\"},{\"attributes\":{},\"id\":\"4aafffe6-1a86-452d-b0d9-01ff5feb3d7d\",\"type\":\"BasicTickFormatter\"},{\"attributes\":{\"data_source\":{\"id\":\"9e226db4-f84d-458e-85ac-2b02c110efa5\",\"type\":\"ColumnDataSource\"},\"glyph\":{\"id\":\"2965514e-e48c-4ee9-a9f5-b818df6580c8\",\"type\":\"Circle\"},\"hover_glyph\":null,\"muted_glyph\":null,\"nonselection_glyph\":{\"id\":\"ed48250c-cc09-4785-b411-ade66e00b00c\",\"type\":\"Circle\"},\"selection_glyph\":null,\"view\":{\"id\":\"dbdc0d6e-dfaa-473c-8fad-21830947094a\",\"type\":\"CDSView\"}},\"id\":\"a51acfa9-9ced-4766-91d8-951f31d69ae4\",\"type\":\"GlyphRenderer\"},{\"attributes\":{},\"id\":\"1670f657-a23d-4efe-b183-9690bfc20d8c\",\"type\":\"BasicTickFormatter\"},{\"attributes\":{\"plot\":null,\"text\":\"\"},\"id\":\"3c17624b-5505-427e-af6d-4b7858ef6190\",\"type\":\"Title\"},{\"attributes\":{\"fill_alpha\":{\"value\":0.1},\"fill_color\":{\"value\":\"#1f77b4\"},\"line_alpha\":{\"value\":0.1},\"line_color\":{\"value\":\"#1f77b4\"},\"size\":{\"units\":\"screen\",\"value\":10},\"x\":{\"field\":\"x\"},\"y\":{\"field\":\"y\"}},\"id\":\"ed48250c-cc09-4785-b411-ade66e00b00c\",\"type\":\"Circle\"},{\"attributes\":{\"source\":{\"id\":\"9e226db4-f84d-458e-85ac-2b02c110efa5\",\"type\":\"ColumnDataSource\"}},\"id\":\"dbdc0d6e-dfaa-473c-8fad-21830947094a\",\"type\":\"CDSView\"},{\"attributes\":{\"active_drag\":\"auto\",\"active_inspect\":\"auto\",\"active_scroll\":\"auto\",\"active_tap\":\"auto\",\"tools\":[{\"id\":\"25793404-859f-4425-9782-c3ca0845d618\",\"type\":\"PanTool\"},{\"id\":\"0b480144-d3cf-4025-9910-cd0564e575a4\",\"type\":\"WheelZoomTool\"},{\"id\":\"f5793fe4-6504-4882-953a-52c5b547f381\",\"type\":\"BoxZoomTool\"},{\"id\":\"8c0fc476-df5c-4851-97c7-9f1eb81ff717\",\"type\":\"SaveTool\"},{\"id\":\"dcdca5b9-30c4-4946-9fba-22741a1fa898\",\"type\":\"ResetTool\"},{\"id\":\"9d2cc34c-e174-43ee-a551-495475a67d60\",\"type\":\"HelpTool\"}]},\"id\":\"783e278c-3932-4547-991b-2317637145fa\",\"type\":\"Toolbar\"},{\"attributes\":{},\"id\":\"284545fd-2374-4936-be3c-546d78a3f4df\",\"type\":\"BasicTickFormatter\"},{\"attributes\":{\"fill_alpha\":{\"value\":0.5},\"fill_color\":{\"value\":\"navy\"},\"line_alpha\":{\"value\":0.5},\"line_color\":{\"value\":\"navy\"},\"size\":{\"units\":\"screen\",\"value\":10},\"x\":{\"field\":\"x\"},\"y\":{\"field\":\"y\"}},\"id\":\"c74961ea-1513-4d02-95e5-e8cad7de4d79\",\"type\":\"Circle\"},{\"attributes\":{\"below\":[{\"id\":\"53ab312b-7c24-4d5a-beb1-9c156bbd43a0\",\"type\":\"LinearAxis\"}],\"left\":[{\"id\":\"738bf704-9137-468b-a472-a2636dea868d\",\"type\":\"LinearAxis\"}],\"plot_height\":250,\"plot_width\":250,\"renderers\":[{\"id\":\"53ab312b-7c24-4d5a-beb1-9c156bbd43a0\",\"type\":\"LinearAxis\"},{\"id\":\"b39fe1d1-2d6b-44d8-b80f-000c95fdc881\",\"type\":\"Grid\"},{\"id\":\"738bf704-9137-468b-a472-a2636dea868d\",\"type\":\"LinearAxis\"},{\"id\":\"e15d60cb-7f46-4755-ac85-09f07c25482c\",\"type\":\"Grid\"},{\"id\":\"fd573cd8-825f-40c5-b4db-f185c3df57ca\",\"type\":\"BoxAnnotation\"},{\"id\":\"d2e1457a-166a-41bd-b072-e4897256c294\",\"type\":\"GlyphRenderer\"}],\"title\":{\"id\":\"0c47fe82-4b93-4caa-ab07-b5f2f7df390f\",\"type\":\"Title\"},\"toolbar\":{\"id\":\"783e278c-3932-4547-991b-2317637145fa\",\"type\":\"Toolbar\"},\"x_range\":{\"id\":\"3a591f12-73e8-4ce3-94b2-440e52f4151e\",\"type\":\"DataRange1d\"},\"x_scale\":{\"id\":\"60c99aa0-83c3-410e-b374-7ecb02c38c7c\",\"type\":\"LinearScale\"},\"y_range\":{\"id\":\"e5dd27ef-95e9-4437-851b-402d4043b42c\",\"type\":\"DataRange1d\"},\"y_scale\":{\"id\":\"ec5b3347-77b2-419a-973e-299d846d427c\",\"type\":\"LinearScale\"}},\"id\":\"c26cf22c-094b-4247-a82d-f3156a030de9\",\"subtype\":\"Figure\",\"type\":\"Plot\"},{\"attributes\":{\"fill_alpha\":{\"value\":0.1},\"fill_color\":{\"value\":\"#1f77b4\"},\"line_alpha\":{\"value\":0.1},\"line_color\":{\"value\":\"#1f77b4\"},\"size\":{\"units\":\"screen\",\"value\":10},\"x\":{\"field\":\"x\"},\"y\":{\"field\":\"y\"}},\"id\":\"b5e241ee-5b09-480f-9a3c-401b04f2e78c\",\"type\":\"Circle\"},{\"attributes\":{\"below\":[{\"id\":\"530028cc-9b94-4067-bfa2-39c8fa4f1eae\",\"type\":\"LinearAxis\"}],\"left\":[{\"id\":\"fb3bf150-6698-4eb9-b8c5-2dc5d0bb2b13\",\"type\":\"LinearAxis\"}],\"plot_height\":250,\"plot_width\":250,\"renderers\":[{\"id\":\"530028cc-9b94-4067-bfa2-39c8fa4f1eae\",\"type\":\"LinearAxis\"},{\"id\":\"96681fa9-3820-4193-a7f5-07223ccd4b7f\",\"type\":\"Grid\"},{\"id\":\"fb3bf150-6698-4eb9-b8c5-2dc5d0bb2b13\",\"type\":\"LinearAxis\"},{\"id\":\"fc0bfbfe-db69-4505-96bb-a7f3a150e943\",\"type\":\"Grid\"},{\"id\":\"4b0ca30b-730f-46bd-a5f3-e4a1f067d662\",\"type\":\"BoxAnnotation\"},{\"id\":\"a51acfa9-9ced-4766-91d8-951f31d69ae4\",\"type\":\"GlyphRenderer\"}],\"title\":{\"id\":\"3c17624b-5505-427e-af6d-4b7858ef6190\",\"type\":\"Title\"},\"toolbar\":{\"id\":\"a2574ec4-58d0-4857-8744-d027b3a5f274\",\"type\":\"Toolbar\"},\"x_range\":{\"id\":\"1e0d01e1-f423-49ad-8a47-c8b05c39a815\",\"type\":\"DataRange1d\"},\"x_scale\":{\"id\":\"d6a1faef-06ce-4585-8bd8-417c5a17016c\",\"type\":\"LinearScale\"},\"y_range\":{\"id\":\"9a80b55c-9d67-4fe0-8b97-1ccc17d98a4d\",\"type\":\"DataRange1d\"},\"y_scale\":{\"id\":\"bb019008-84b6-4327-9189-827e344b1940\",\"type\":\"LinearScale\"}},\"id\":\"3a678d05-6c7c-4982-8d8f-60493b9c3009\",\"subtype\":\"Figure\",\"type\":\"Plot\"},{\"attributes\":{\"plot\":null,\"text\":\"\"},\"id\":\"dc5fe422-f2d3-482a-912f-b3e40c2a3c88\",\"type\":\"Title\"},{\"attributes\":{\"plot\":{\"id\":\"3a678d05-6c7c-4982-8d8f-60493b9c3009\",\"subtype\":\"Figure\",\"type\":\"Plot\"},\"ticker\":{\"id\":\"046b650e-7f9f-4294-91d0-8957ef4f2bc3\",\"type\":\"BasicTicker\"}},\"id\":\"96681fa9-3820-4193-a7f5-07223ccd4b7f\",\"type\":\"Grid\"},{\"attributes\":{},\"id\":\"82921f24-6cbe-4f01-984b-239823617076\",\"type\":\"BasicTickFormatter\"},{\"attributes\":{\"callback\":null},\"id\":\"3a591f12-73e8-4ce3-94b2-440e52f4151e\",\"type\":\"DataRange1d\"},{\"attributes\":{\"fill_alpha\":{\"value\":0.5},\"fill_color\":{\"value\":\"olive\"},\"line_alpha\":{\"value\":0.5},\"line_color\":{\"value\":\"olive\"},\"size\":{\"units\":\"screen\",\"value\":10},\"x\":{\"field\":\"x\"},\"y\":{\"field\":\"y\"}},\"id\":\"38aa872c-822a-4b54-9e07-ff5e59e2f855\",\"type\":\"Circle\"},{\"attributes\":{\"active_drag\":\"auto\",\"active_inspect\":\"auto\",\"active_scroll\":\"auto\",\"active_tap\":\"auto\",\"tools\":[{\"id\":\"c32a3811-6717-4acc-84e0-f5d9a28803ff\",\"type\":\"PanTool\"},{\"id\":\"e98a40b5-8820-4d94-a424-fc78c728819e\",\"type\":\"WheelZoomTool\"},{\"id\":\"ad516fa8-2ca6-44e8-8f74-9238d6cf49cc\",\"type\":\"BoxZoomTool\"},{\"id\":\"c378e457-9f7b-419e-975c-c39b8fb25ca6\",\"type\":\"SaveTool\"},{\"id\":\"8f08d10c-0dc7-4036-b73b-20a1a6719e26\",\"type\":\"ResetTool\"},{\"id\":\"ba876b64-13bc-4c5d-ac88-51f8b59ebc61\",\"type\":\"HelpTool\"}]},\"id\":\"a2574ec4-58d0-4857-8744-d027b3a5f274\",\"type\":\"Toolbar\"},{\"attributes\":{\"data_source\":{\"id\":\"27b98372-fbbb-434f-875d-e5c03f2e7922\",\"type\":\"ColumnDataSource\"},\"glyph\":{\"id\":\"38aa872c-822a-4b54-9e07-ff5e59e2f855\",\"type\":\"Circle\"},\"hover_glyph\":null,\"muted_glyph\":null,\"nonselection_glyph\":{\"id\":\"b5e241ee-5b09-480f-9a3c-401b04f2e78c\",\"type\":\"Circle\"},\"selection_glyph\":null,\"view\":{\"id\":\"8ffa2de6-3153-4c42-b63c-657435b39f83\",\"type\":\"CDSView\"}},\"id\":\"658b2298-944b-43f8-963b-0d1c56572a3e\",\"type\":\"GlyphRenderer\"},{\"attributes\":{\"callback\":null},\"id\":\"e5dd27ef-95e9-4437-851b-402d4043b42c\",\"type\":\"DataRange1d\"},{\"attributes\":{\"source\":{\"id\":\"27b98372-fbbb-434f-875d-e5c03f2e7922\",\"type\":\"ColumnDataSource\"}},\"id\":\"8ffa2de6-3153-4c42-b63c-657435b39f83\",\"type\":\"CDSView\"},{\"attributes\":{},\"id\":\"60c99aa0-83c3-410e-b374-7ecb02c38c7c\",\"type\":\"LinearScale\"},{\"attributes\":{},\"id\":\"ec5b3347-77b2-419a-973e-299d846d427c\",\"type\":\"LinearScale\"},{\"attributes\":{\"plot\":{\"id\":\"c26cf22c-094b-4247-a82d-f3156a030de9\",\"subtype\":\"Figure\",\"type\":\"Plot\"},\"ticker\":{\"id\":\"4ff5e710-23df-4961-8667-2b20fab282c8\",\"type\":\"BasicTicker\"}},\"id\":\"b39fe1d1-2d6b-44d8-b80f-000c95fdc881\",\"type\":\"Grid\"},{\"attributes\":{\"formatter\":{\"id\":\"067c58ea-eda7-4444-8612-09fe4fa72539\",\"type\":\"BasicTickFormatter\"},\"plot\":{\"id\":\"c26cf22c-094b-4247-a82d-f3156a030de9\",\"subtype\":\"Figure\",\"type\":\"Plot\"},\"ticker\":{\"id\":\"4ff5e710-23df-4961-8667-2b20fab282c8\",\"type\":\"BasicTicker\"}},\"id\":\"53ab312b-7c24-4d5a-beb1-9c156bbd43a0\",\"type\":\"LinearAxis\"},{\"attributes\":{},\"id\":\"4ff5e710-23df-4961-8667-2b20fab282c8\",\"type\":\"BasicTicker\"},{\"attributes\":{\"formatter\":{\"id\":\"50ab9936-01c9-4de2-b850-18c637e433c9\",\"type\":\"BasicTickFormatter\"},\"plot\":{\"id\":\"c26cf22c-094b-4247-a82d-f3156a030de9\",\"subtype\":\"Figure\",\"type\":\"Plot\"},\"ticker\":{\"id\":\"feb7a390-ee7f-4b8f-a58d-ef3ad0be1af6\",\"type\":\"BasicTicker\"}},\"id\":\"738bf704-9137-468b-a472-a2636dea868d\",\"type\":\"LinearAxis\"},{\"attributes\":{},\"id\":\"feb7a390-ee7f-4b8f-a58d-ef3ad0be1af6\",\"type\":\"BasicTicker\"},{\"attributes\":{\"dimension\":1,\"plot\":{\"id\":\"c26cf22c-094b-4247-a82d-f3156a030de9\",\"subtype\":\"Figure\",\"type\":\"Plot\"},\"ticker\":{\"id\":\"feb7a390-ee7f-4b8f-a58d-ef3ad0be1af6\",\"type\":\"BasicTicker\"}},\"id\":\"e15d60cb-7f46-4755-ac85-09f07c25482c\",\"type\":\"Grid\"},{\"attributes\":{\"callback\":null},\"id\":\"1e0d01e1-f423-49ad-8a47-c8b05c39a815\",\"type\":\"DataRange1d\"},{\"attributes\":{\"below\":[{\"id\":\"e34aacc2-36cd-4426-80e8-6e54f1af5e7f\",\"type\":\"LinearAxis\"}],\"left\":[{\"id\":\"a75ff07e-4c0e-4ceb-a8f3-c34d9527e5a4\",\"type\":\"LinearAxis\"}],\"plot_height\":250,\"plot_width\":250,\"renderers\":[{\"id\":\"e34aacc2-36cd-4426-80e8-6e54f1af5e7f\",\"type\":\"LinearAxis\"},{\"id\":\"a5946b65-2694-4f93-ad50-9656795f088d\",\"type\":\"Grid\"},{\"id\":\"a75ff07e-4c0e-4ceb-a8f3-c34d9527e5a4\",\"type\":\"LinearAxis\"},{\"id\":\"8773a192-94ae-4b46-825c-4b8d60901349\",\"type\":\"Grid\"},{\"id\":\"a46227fe-0733-4450-bec5-cfd887c4b2b3\",\"type\":\"BoxAnnotation\"},{\"id\":\"658b2298-944b-43f8-963b-0d1c56572a3e\",\"type\":\"GlyphRenderer\"}],\"title\":{\"id\":\"dc5fe422-f2d3-482a-912f-b3e40c2a3c88\",\"type\":\"Title\"},\"toolbar\":{\"id\":\"f53048c1-9633-4b0c-9363-4bab72b891ad\",\"type\":\"Toolbar\"},\"x_range\":{\"id\":\"73c92dd8-78a3-4296-9d2d-41699c44c84b\",\"type\":\"DataRange1d\"},\"x_scale\":{\"id\":\"37a90728-2131-454b-8af7-064d3ca540e5\",\"type\":\"LinearScale\"},\"y_range\":{\"id\":\"3c7186c4-c3ec-4d6f-a8c8-0a0c175a6f81\",\"type\":\"DataRange1d\"},\"y_scale\":{\"id\":\"37e305b9-0a51-4473-815d-6534da404d4b\",\"type\":\"LinearScale\"}},\"id\":\"da566268-d153-4a43-9d63-4696119412b6\",\"subtype\":\"Figure\",\"type\":\"Plot\"},{\"attributes\":{\"callback\":null,\"column_names\":[\"x\",\"y\"],\"data\":{\"x\":[0,1,2,3,4,5,6,7,8,9,10],\"y\":[10,9,8,7,6,5,4,3,2,1,0]},\"selected\":null,\"selection_policy\":null},\"id\":\"9e226db4-f84d-458e-85ac-2b02c110efa5\",\"type\":\"ColumnDataSource\"},{\"attributes\":{\"bottom_units\":\"screen\",\"fill_alpha\":{\"value\":0.5},\"fill_color\":{\"value\":\"lightgrey\"},\"left_units\":\"screen\",\"level\":\"overlay\",\"line_alpha\":{\"value\":1.0},\"line_color\":{\"value\":\"black\"},\"line_dash\":[4,4],\"line_width\":{\"value\":2},\"plot\":null,\"render_mode\":\"css\",\"right_units\":\"screen\",\"top_units\":\"screen\"},\"id\":\"fd573cd8-825f-40c5-b4db-f185c3df57ca\",\"type\":\"BoxAnnotation\"},{\"attributes\":{},\"id\":\"25793404-859f-4425-9782-c3ca0845d618\",\"type\":\"PanTool\"},{\"attributes\":{\"callback\":null},\"id\":\"9a80b55c-9d67-4fe0-8b97-1ccc17d98a4d\",\"type\":\"DataRange1d\"},{\"attributes\":{},\"id\":\"0b480144-d3cf-4025-9910-cd0564e575a4\",\"type\":\"WheelZoomTool\"},{\"attributes\":{\"overlay\":{\"id\":\"fd573cd8-825f-40c5-b4db-f185c3df57ca\",\"type\":\"BoxAnnotation\"}},\"id\":\"f5793fe4-6504-4882-953a-52c5b547f381\",\"type\":\"BoxZoomTool\"},{\"attributes\":{},\"id\":\"8c0fc476-df5c-4851-97c7-9f1eb81ff717\",\"type\":\"SaveTool\"},{\"attributes\":{},\"id\":\"dcdca5b9-30c4-4946-9fba-22741a1fa898\",\"type\":\"ResetTool\"},{\"attributes\":{},\"id\":\"9d2cc34c-e174-43ee-a551-495475a67d60\",\"type\":\"HelpTool\"},{\"attributes\":{\"callback\":null},\"id\":\"73c92dd8-78a3-4296-9d2d-41699c44c84b\",\"type\":\"DataRange1d\"},{\"attributes\":{},\"id\":\"2cf423dc-359d-46de-86aa-7ea2e49390ef\",\"type\":\"ResetTool\"},{\"attributes\":{},\"id\":\"d6a1faef-06ce-4585-8bd8-417c5a17016c\",\"type\":\"LinearScale\"},{\"attributes\":{\"callback\":null,\"column_names\":[\"x\",\"y\"],\"data\":{\"x\":[0,1,2,3,4,5,6,7,8,9,10],\"y\":[0,1,2,3,4,5,6,7,8,9,10]},\"selected\":null,\"selection_policy\":null},\"id\":\"076e6d7c-bd02-48ec-8c08-aa7307c58d22\",\"type\":\"ColumnDataSource\"},{\"attributes\":{},\"id\":\"046b650e-7f9f-4294-91d0-8957ef4f2bc3\",\"type\":\"BasicTicker\"},{\"attributes\":{},\"id\":\"50ab9936-01c9-4de2-b850-18c637e433c9\",\"type\":\"BasicTickFormatter\"},{\"attributes\":{\"active_drag\":\"auto\",\"active_inspect\":\"auto\",\"active_scroll\":\"auto\",\"active_tap\":\"auto\",\"tools\":[{\"id\":\"4883f5b1-3e28-4809-af39-ca7ee0159da3\",\"type\":\"PanTool\"},{\"id\":\"ee65c008-f52b-405c-a7d7-5e604998921b\",\"type\":\"WheelZoomTool\"},{\"id\":\"3f541706-05fa-4621-a97d-80435827b9eb\",\"type\":\"BoxZoomTool\"},{\"id\":\"714ebfd3-e319-46ef-885a-0425af58f95e\",\"type\":\"SaveTool\"},{\"id\":\"2cf423dc-359d-46de-86aa-7ea2e49390ef\",\"type\":\"ResetTool\"},{\"id\":\"77e958d0-2c51-404a-a279-8a10fd734324\",\"type\":\"HelpTool\"}]},\"id\":\"f53048c1-9633-4b0c-9363-4bab72b891ad\",\"type\":\"Toolbar\"},{\"attributes\":{},\"id\":\"bb019008-84b6-4327-9189-827e344b1940\",\"type\":\"LinearScale\"},{\"attributes\":{\"formatter\":{\"id\":\"1670f657-a23d-4efe-b183-9690bfc20d8c\",\"type\":\"BasicTickFormatter\"},\"plot\":{\"id\":\"3a678d05-6c7c-4982-8d8f-60493b9c3009\",\"subtype\":\"Figure\",\"type\":\"Plot\"},\"ticker\":{\"id\":\"046b650e-7f9f-4294-91d0-8957ef4f2bc3\",\"type\":\"BasicTicker\"}},\"id\":\"530028cc-9b94-4067-bfa2-39c8fa4f1eae\",\"type\":\"LinearAxis\"}],\"root_ids\":[\"9bc80227-12da-4843-9c9d-2c2738bfce46\"]},\"title\":\"Bokeh Application\",\"version\":\"0.12.15\"}};\n",
       "  var render_items = [{\"docid\":\"b8126d42-b35b-40f6-ba8c-559ebe120367\",\"elementid\":\"9fa70020-6be0-46e5-ab52-cd2bf147fa9d\",\"modelid\":\"9bc80227-12da-4843-9c9d-2c2738bfce46\"}];\n",
       "  root.Bokeh.embed.embed_items_notebook(docs_json, render_items);\n",
       "\n",
       "  }\n",
       "  if (root.Bokeh !== undefined) {\n",
       "    embed_document(root);\n",
       "  } else {\n",
       "    var attempts = 0;\n",
       "    var timer = setInterval(function(root) {\n",
       "      if (root.Bokeh !== undefined) {\n",
       "        embed_document(root);\n",
       "        clearInterval(timer);\n",
       "      }\n",
       "      attempts++;\n",
       "      if (attempts > 100) {\n",
       "        console.log(\"Bokeh: ERROR: Unable to run BokehJS code because BokehJS library is missing\")\n",
       "        clearInterval(timer);\n",
       "      }\n",
       "    }, 10, root)\n",
       "  }\n",
       "})(window);"
      ],
      "application/vnd.bokehjs_exec.v0+json": ""
     },
     "metadata": {
      "application/vnd.bokehjs_exec.v0+json": {
       "id": "9bc80227-12da-4843-9c9d-2c2738bfce46"
      }
     },
     "output_type": "display_data"
    }
   ],
   "source": [
    "p = figure\n",
    "p = column(s1, s2, s3)\n",
    "show(p)"
   ]
  },
  {
   "cell_type": "code",
   "execution_count": 21,
   "metadata": {},
   "outputs": [],
   "source": [
    "from bokeh.layouts import gridplot"
   ]
  },
  {
   "cell_type": "code",
   "execution_count": 23,
   "metadata": {},
   "outputs": [],
   "source": [
    "layout = gridplot([[None, s1], [s2, s3]])"
   ]
  },
  {
   "cell_type": "code",
   "execution_count": 24,
   "metadata": {},
   "outputs": [
    {
     "data": {
      "text/html": [
       "\n",
       "<div class=\"bk-root\">\n",
       "    <div class=\"bk-plotdiv\" id=\"8fe16602-02a0-4663-9af0-cab7d11744b2\"></div>\n",
       "</div>"
      ]
     },
     "metadata": {},
     "output_type": "display_data"
    },
    {
     "data": {
      "application/javascript": [
       "(function(root) {\n",
       "  function embed_document(root) {\n",
       "    \n",
       "  var docs_json = {\"3e3dbc57-7f65-454b-b8c9-45a56ec5e797\":{\"roots\":{\"references\":[{\"attributes\":{\"formatter\":{\"id\":\"284545fd-2374-4936-be3c-546d78a3f4df\",\"type\":\"BasicTickFormatter\"},\"plot\":{\"id\":\"3a678d05-6c7c-4982-8d8f-60493b9c3009\",\"subtype\":\"Figure\",\"type\":\"Plot\"},\"ticker\":{\"id\":\"350aea0b-af14-4d81-b5b0-0f1f862ae009\",\"type\":\"BasicTicker\"}},\"id\":\"fb3bf150-6698-4eb9-b8c5-2dc5d0bb2b13\",\"type\":\"LinearAxis\"},{\"attributes\":{},\"id\":\"37a90728-2131-454b-8af7-064d3ca540e5\",\"type\":\"LinearScale\"},{\"attributes\":{},\"id\":\"350aea0b-af14-4d81-b5b0-0f1f862ae009\",\"type\":\"BasicTicker\"},{\"attributes\":{\"dimension\":1,\"plot\":{\"id\":\"3a678d05-6c7c-4982-8d8f-60493b9c3009\",\"subtype\":\"Figure\",\"type\":\"Plot\"},\"ticker\":{\"id\":\"350aea0b-af14-4d81-b5b0-0f1f862ae009\",\"type\":\"BasicTicker\"}},\"id\":\"fc0bfbfe-db69-4505-96bb-a7f3a150e943\",\"type\":\"Grid\"},{\"attributes\":{},\"id\":\"37e305b9-0a51-4473-815d-6534da404d4b\",\"type\":\"LinearScale\"},{\"attributes\":{\"callback\":null},\"id\":\"3c7186c4-c3ec-4d6f-a8c8-0a0c175a6f81\",\"type\":\"DataRange1d\"},{\"attributes\":{\"data_source\":{\"id\":\"076e6d7c-bd02-48ec-8c08-aa7307c58d22\",\"type\":\"ColumnDataSource\"},\"glyph\":{\"id\":\"c74961ea-1513-4d02-95e5-e8cad7de4d79\",\"type\":\"Circle\"},\"hover_glyph\":null,\"muted_glyph\":null,\"nonselection_glyph\":{\"id\":\"2f59e63c-4750-4d76-8968-5e39f3192990\",\"type\":\"Circle\"},\"selection_glyph\":null,\"view\":{\"id\":\"088be46a-886a-4d1a-839d-65513fa6dad0\",\"type\":\"CDSView\"}},\"id\":\"d2e1457a-166a-41bd-b072-e4897256c294\",\"type\":\"GlyphRenderer\"},{\"attributes\":{\"bottom_units\":\"screen\",\"fill_alpha\":{\"value\":0.5},\"fill_color\":{\"value\":\"lightgrey\"},\"left_units\":\"screen\",\"level\":\"overlay\",\"line_alpha\":{\"value\":1.0},\"line_color\":{\"value\":\"black\"},\"line_dash\":[4,4],\"line_width\":{\"value\":2},\"plot\":null,\"render_mode\":\"css\",\"right_units\":\"screen\",\"top_units\":\"screen\"},\"id\":\"4b0ca30b-730f-46bd-a5f3-e4a1f067d662\",\"type\":\"BoxAnnotation\"},{\"attributes\":{},\"id\":\"c32a3811-6717-4acc-84e0-f5d9a28803ff\",\"type\":\"PanTool\"},{\"attributes\":{\"plot\":{\"id\":\"da566268-d153-4a43-9d63-4696119412b6\",\"subtype\":\"Figure\",\"type\":\"Plot\"},\"ticker\":{\"id\":\"913cc438-0f27-4ed0-a1b1-7d8d83a0f2e9\",\"type\":\"BasicTicker\"}},\"id\":\"a5946b65-2694-4f93-ad50-9656795f088d\",\"type\":\"Grid\"},{\"attributes\":{},\"id\":\"e98a40b5-8820-4d94-a424-fc78c728819e\",\"type\":\"WheelZoomTool\"},{\"attributes\":{\"overlay\":{\"id\":\"4b0ca30b-730f-46bd-a5f3-e4a1f067d662\",\"type\":\"BoxAnnotation\"}},\"id\":\"ad516fa8-2ca6-44e8-8f74-9238d6cf49cc\",\"type\":\"BoxZoomTool\"},{\"attributes\":{},\"id\":\"c378e457-9f7b-419e-975c-c39b8fb25ca6\",\"type\":\"SaveTool\"},{\"attributes\":{},\"id\":\"8f08d10c-0dc7-4036-b73b-20a1a6719e26\",\"type\":\"ResetTool\"},{\"attributes\":{},\"id\":\"ba876b64-13bc-4c5d-ac88-51f8b59ebc61\",\"type\":\"HelpTool\"},{\"attributes\":{},\"id\":\"913cc438-0f27-4ed0-a1b1-7d8d83a0f2e9\",\"type\":\"BasicTicker\"},{\"attributes\":{\"formatter\":{\"id\":\"4aafffe6-1a86-452d-b0d9-01ff5feb3d7d\",\"type\":\"BasicTickFormatter\"},\"plot\":{\"id\":\"da566268-d153-4a43-9d63-4696119412b6\",\"subtype\":\"Figure\",\"type\":\"Plot\"},\"ticker\":{\"id\":\"913cc438-0f27-4ed0-a1b1-7d8d83a0f2e9\",\"type\":\"BasicTicker\"}},\"id\":\"e34aacc2-36cd-4426-80e8-6e54f1af5e7f\",\"type\":\"LinearAxis\"},{\"attributes\":{\"source\":{\"id\":\"076e6d7c-bd02-48ec-8c08-aa7307c58d22\",\"type\":\"ColumnDataSource\"}},\"id\":\"088be46a-886a-4d1a-839d-65513fa6dad0\",\"type\":\"CDSView\"},{\"attributes\":{\"dimension\":1,\"plot\":{\"id\":\"da566268-d153-4a43-9d63-4696119412b6\",\"subtype\":\"Figure\",\"type\":\"Plot\"},\"ticker\":{\"id\":\"aa42e8fc-1659-4d40-80e4-d9bed1075e61\",\"type\":\"BasicTicker\"}},\"id\":\"8773a192-94ae-4b46-825c-4b8d60901349\",\"type\":\"Grid\"},{\"attributes\":{\"fill_alpha\":{\"value\":0.1},\"fill_color\":{\"value\":\"#1f77b4\"},\"line_alpha\":{\"value\":0.1},\"line_color\":{\"value\":\"#1f77b4\"},\"size\":{\"units\":\"screen\",\"value\":10},\"x\":{\"field\":\"x\"},\"y\":{\"field\":\"y\"}},\"id\":\"2f59e63c-4750-4d76-8968-5e39f3192990\",\"type\":\"Circle\"},{\"attributes\":{\"fill_alpha\":{\"value\":0.5},\"fill_color\":{\"value\":\"firebrick\"},\"line_alpha\":{\"value\":0.5},\"line_color\":{\"value\":\"firebrick\"},\"size\":{\"units\":\"screen\",\"value\":10},\"x\":{\"field\":\"x\"},\"y\":{\"field\":\"y\"}},\"id\":\"2965514e-e48c-4ee9-a9f5-b818df6580c8\",\"type\":\"Circle\"},{\"attributes\":{\"formatter\":{\"id\":\"82921f24-6cbe-4f01-984b-239823617076\",\"type\":\"BasicTickFormatter\"},\"plot\":{\"id\":\"da566268-d153-4a43-9d63-4696119412b6\",\"subtype\":\"Figure\",\"type\":\"Plot\"},\"ticker\":{\"id\":\"aa42e8fc-1659-4d40-80e4-d9bed1075e61\",\"type\":\"BasicTicker\"}},\"id\":\"a75ff07e-4c0e-4ceb-a8f3-c34d9527e5a4\",\"type\":\"LinearAxis\"},{\"attributes\":{},\"id\":\"714ebfd3-e319-46ef-885a-0425af58f95e\",\"type\":\"SaveTool\"},{\"attributes\":{},\"id\":\"aa42e8fc-1659-4d40-80e4-d9bed1075e61\",\"type\":\"BasicTicker\"},{\"attributes\":{\"bottom_units\":\"screen\",\"fill_alpha\":{\"value\":0.5},\"fill_color\":{\"value\":\"lightgrey\"},\"left_units\":\"screen\",\"level\":\"overlay\",\"line_alpha\":{\"value\":1.0},\"line_color\":{\"value\":\"black\"},\"line_dash\":[4,4],\"line_width\":{\"value\":2},\"plot\":null,\"render_mode\":\"css\",\"right_units\":\"screen\",\"top_units\":\"screen\"},\"id\":\"a46227fe-0733-4450-bec5-cfd887c4b2b3\",\"type\":\"BoxAnnotation\"},{\"attributes\":{},\"id\":\"4883f5b1-3e28-4809-af39-ca7ee0159da3\",\"type\":\"PanTool\"},{\"attributes\":{},\"id\":\"77e958d0-2c51-404a-a279-8a10fd734324\",\"type\":\"HelpTool\"},{\"attributes\":{},\"id\":\"ee65c008-f52b-405c-a7d7-5e604998921b\",\"type\":\"WheelZoomTool\"},{\"attributes\":{\"overlay\":{\"id\":\"a46227fe-0733-4450-bec5-cfd887c4b2b3\",\"type\":\"BoxAnnotation\"}},\"id\":\"3f541706-05fa-4621-a97d-80435827b9eb\",\"type\":\"BoxZoomTool\"},{\"attributes\":{},\"id\":\"067c58ea-eda7-4444-8612-09fe4fa72539\",\"type\":\"BasicTickFormatter\"},{\"attributes\":{\"callback\":null,\"column_names\":[\"x\",\"y\"],\"data\":{\"x\":[0,1,2,3,4,5,6,7,8,9,10],\"y\":[5,4,3,2,1,0,1,2,3,4,5]},\"selected\":null,\"selection_policy\":null},\"id\":\"27b98372-fbbb-434f-875d-e5c03f2e7922\",\"type\":\"ColumnDataSource\"},{\"attributes\":{\"height\":250,\"width\":250},\"id\":\"3bf1ad27-84dc-4354-884c-cf1deace5a06\",\"type\":\"Spacer\"},{\"attributes\":{\"plot\":null,\"text\":\"\"},\"id\":\"0c47fe82-4b93-4caa-ab07-b5f2f7df390f\",\"type\":\"Title\"},{\"attributes\":{},\"id\":\"4aafffe6-1a86-452d-b0d9-01ff5feb3d7d\",\"type\":\"BasicTickFormatter\"},{\"attributes\":{\"data_source\":{\"id\":\"9e226db4-f84d-458e-85ac-2b02c110efa5\",\"type\":\"ColumnDataSource\"},\"glyph\":{\"id\":\"2965514e-e48c-4ee9-a9f5-b818df6580c8\",\"type\":\"Circle\"},\"hover_glyph\":null,\"muted_glyph\":null,\"nonselection_glyph\":{\"id\":\"ed48250c-cc09-4785-b411-ade66e00b00c\",\"type\":\"Circle\"},\"selection_glyph\":null,\"view\":{\"id\":\"dbdc0d6e-dfaa-473c-8fad-21830947094a\",\"type\":\"CDSView\"}},\"id\":\"a51acfa9-9ced-4766-91d8-951f31d69ae4\",\"type\":\"GlyphRenderer\"},{\"attributes\":{},\"id\":\"1670f657-a23d-4efe-b183-9690bfc20d8c\",\"type\":\"BasicTickFormatter\"},{\"attributes\":{\"plot\":null,\"text\":\"\"},\"id\":\"3c17624b-5505-427e-af6d-4b7858ef6190\",\"type\":\"Title\"},{\"attributes\":{\"fill_alpha\":{\"value\":0.1},\"fill_color\":{\"value\":\"#1f77b4\"},\"line_alpha\":{\"value\":0.1},\"line_color\":{\"value\":\"#1f77b4\"},\"size\":{\"units\":\"screen\",\"value\":10},\"x\":{\"field\":\"x\"},\"y\":{\"field\":\"y\"}},\"id\":\"ed48250c-cc09-4785-b411-ade66e00b00c\",\"type\":\"Circle\"},{\"attributes\":{\"children\":[{\"id\":\"3a678d05-6c7c-4982-8d8f-60493b9c3009\",\"subtype\":\"Figure\",\"type\":\"Plot\"},{\"id\":\"da566268-d153-4a43-9d63-4696119412b6\",\"subtype\":\"Figure\",\"type\":\"Plot\"}]},\"id\":\"5be19f88-1a55-4b7b-b5b5-ad5169f8df78\",\"type\":\"Row\"},{\"attributes\":{\"source\":{\"id\":\"9e226db4-f84d-458e-85ac-2b02c110efa5\",\"type\":\"ColumnDataSource\"}},\"id\":\"dbdc0d6e-dfaa-473c-8fad-21830947094a\",\"type\":\"CDSView\"},{\"attributes\":{},\"id\":\"284545fd-2374-4936-be3c-546d78a3f4df\",\"type\":\"BasicTickFormatter\"},{\"attributes\":{\"active_drag\":\"auto\",\"active_inspect\":\"auto\",\"active_scroll\":\"auto\",\"active_tap\":\"auto\",\"tools\":[{\"id\":\"25793404-859f-4425-9782-c3ca0845d618\",\"type\":\"PanTool\"},{\"id\":\"0b480144-d3cf-4025-9910-cd0564e575a4\",\"type\":\"WheelZoomTool\"},{\"id\":\"f5793fe4-6504-4882-953a-52c5b547f381\",\"type\":\"BoxZoomTool\"},{\"id\":\"8c0fc476-df5c-4851-97c7-9f1eb81ff717\",\"type\":\"SaveTool\"},{\"id\":\"dcdca5b9-30c4-4946-9fba-22741a1fa898\",\"type\":\"ResetTool\"},{\"id\":\"9d2cc34c-e174-43ee-a551-495475a67d60\",\"type\":\"HelpTool\"}]},\"id\":\"783e278c-3932-4547-991b-2317637145fa\",\"type\":\"Toolbar\"},{\"attributes\":{\"toolbar\":{\"id\":\"8184561d-10a9-4788-a61d-ff0e7df6cb7c\",\"type\":\"ProxyToolbar\"},\"toolbar_location\":\"above\"},\"id\":\"b9ea5cf4-8baf-4b41-8364-5b689889ecbc\",\"type\":\"ToolbarBox\"},{\"attributes\":{\"fill_alpha\":{\"value\":0.5},\"fill_color\":{\"value\":\"navy\"},\"line_alpha\":{\"value\":0.5},\"line_color\":{\"value\":\"navy\"},\"size\":{\"units\":\"screen\",\"value\":10},\"x\":{\"field\":\"x\"},\"y\":{\"field\":\"y\"}},\"id\":\"c74961ea-1513-4d02-95e5-e8cad7de4d79\",\"type\":\"Circle\"},{\"attributes\":{\"fill_alpha\":{\"value\":0.1},\"fill_color\":{\"value\":\"#1f77b4\"},\"line_alpha\":{\"value\":0.1},\"line_color\":{\"value\":\"#1f77b4\"},\"size\":{\"units\":\"screen\",\"value\":10},\"x\":{\"field\":\"x\"},\"y\":{\"field\":\"y\"}},\"id\":\"b5e241ee-5b09-480f-9a3c-401b04f2e78c\",\"type\":\"Circle\"},{\"attributes\":{\"below\":[{\"id\":\"53ab312b-7c24-4d5a-beb1-9c156bbd43a0\",\"type\":\"LinearAxis\"}],\"left\":[{\"id\":\"738bf704-9137-468b-a472-a2636dea868d\",\"type\":\"LinearAxis\"}],\"plot_height\":250,\"plot_width\":250,\"renderers\":[{\"id\":\"53ab312b-7c24-4d5a-beb1-9c156bbd43a0\",\"type\":\"LinearAxis\"},{\"id\":\"b39fe1d1-2d6b-44d8-b80f-000c95fdc881\",\"type\":\"Grid\"},{\"id\":\"738bf704-9137-468b-a472-a2636dea868d\",\"type\":\"LinearAxis\"},{\"id\":\"e15d60cb-7f46-4755-ac85-09f07c25482c\",\"type\":\"Grid\"},{\"id\":\"fd573cd8-825f-40c5-b4db-f185c3df57ca\",\"type\":\"BoxAnnotation\"},{\"id\":\"d2e1457a-166a-41bd-b072-e4897256c294\",\"type\":\"GlyphRenderer\"}],\"title\":{\"id\":\"0c47fe82-4b93-4caa-ab07-b5f2f7df390f\",\"type\":\"Title\"},\"toolbar\":{\"id\":\"783e278c-3932-4547-991b-2317637145fa\",\"type\":\"Toolbar\"},\"toolbar_location\":null,\"x_range\":{\"id\":\"3a591f12-73e8-4ce3-94b2-440e52f4151e\",\"type\":\"DataRange1d\"},\"x_scale\":{\"id\":\"60c99aa0-83c3-410e-b374-7ecb02c38c7c\",\"type\":\"LinearScale\"},\"y_range\":{\"id\":\"e5dd27ef-95e9-4437-851b-402d4043b42c\",\"type\":\"DataRange1d\"},\"y_scale\":{\"id\":\"ec5b3347-77b2-419a-973e-299d846d427c\",\"type\":\"LinearScale\"}},\"id\":\"c26cf22c-094b-4247-a82d-f3156a030de9\",\"subtype\":\"Figure\",\"type\":\"Plot\"},{\"attributes\":{\"plot\":null,\"text\":\"\"},\"id\":\"dc5fe422-f2d3-482a-912f-b3e40c2a3c88\",\"type\":\"Title\"},{\"attributes\":{\"below\":[{\"id\":\"530028cc-9b94-4067-bfa2-39c8fa4f1eae\",\"type\":\"LinearAxis\"}],\"left\":[{\"id\":\"fb3bf150-6698-4eb9-b8c5-2dc5d0bb2b13\",\"type\":\"LinearAxis\"}],\"plot_height\":250,\"plot_width\":250,\"renderers\":[{\"id\":\"530028cc-9b94-4067-bfa2-39c8fa4f1eae\",\"type\":\"LinearAxis\"},{\"id\":\"96681fa9-3820-4193-a7f5-07223ccd4b7f\",\"type\":\"Grid\"},{\"id\":\"fb3bf150-6698-4eb9-b8c5-2dc5d0bb2b13\",\"type\":\"LinearAxis\"},{\"id\":\"fc0bfbfe-db69-4505-96bb-a7f3a150e943\",\"type\":\"Grid\"},{\"id\":\"4b0ca30b-730f-46bd-a5f3-e4a1f067d662\",\"type\":\"BoxAnnotation\"},{\"id\":\"a51acfa9-9ced-4766-91d8-951f31d69ae4\",\"type\":\"GlyphRenderer\"}],\"title\":{\"id\":\"3c17624b-5505-427e-af6d-4b7858ef6190\",\"type\":\"Title\"},\"toolbar\":{\"id\":\"a2574ec4-58d0-4857-8744-d027b3a5f274\",\"type\":\"Toolbar\"},\"toolbar_location\":null,\"x_range\":{\"id\":\"1e0d01e1-f423-49ad-8a47-c8b05c39a815\",\"type\":\"DataRange1d\"},\"x_scale\":{\"id\":\"d6a1faef-06ce-4585-8bd8-417c5a17016c\",\"type\":\"LinearScale\"},\"y_range\":{\"id\":\"9a80b55c-9d67-4fe0-8b97-1ccc17d98a4d\",\"type\":\"DataRange1d\"},\"y_scale\":{\"id\":\"bb019008-84b6-4327-9189-827e344b1940\",\"type\":\"LinearScale\"}},\"id\":\"3a678d05-6c7c-4982-8d8f-60493b9c3009\",\"subtype\":\"Figure\",\"type\":\"Plot\"},{\"attributes\":{},\"id\":\"82921f24-6cbe-4f01-984b-239823617076\",\"type\":\"BasicTickFormatter\"},{\"attributes\":{\"plot\":{\"id\":\"3a678d05-6c7c-4982-8d8f-60493b9c3009\",\"subtype\":\"Figure\",\"type\":\"Plot\"},\"ticker\":{\"id\":\"046b650e-7f9f-4294-91d0-8957ef4f2bc3\",\"type\":\"BasicTicker\"}},\"id\":\"96681fa9-3820-4193-a7f5-07223ccd4b7f\",\"type\":\"Grid\"},{\"attributes\":{\"fill_alpha\":{\"value\":0.5},\"fill_color\":{\"value\":\"olive\"},\"line_alpha\":{\"value\":0.5},\"line_color\":{\"value\":\"olive\"},\"size\":{\"units\":\"screen\",\"value\":10},\"x\":{\"field\":\"x\"},\"y\":{\"field\":\"y\"}},\"id\":\"38aa872c-822a-4b54-9e07-ff5e59e2f855\",\"type\":\"Circle\"},{\"attributes\":{\"callback\":null},\"id\":\"3a591f12-73e8-4ce3-94b2-440e52f4151e\",\"type\":\"DataRange1d\"},{\"attributes\":{\"data_source\":{\"id\":\"27b98372-fbbb-434f-875d-e5c03f2e7922\",\"type\":\"ColumnDataSource\"},\"glyph\":{\"id\":\"38aa872c-822a-4b54-9e07-ff5e59e2f855\",\"type\":\"Circle\"},\"hover_glyph\":null,\"muted_glyph\":null,\"nonselection_glyph\":{\"id\":\"b5e241ee-5b09-480f-9a3c-401b04f2e78c\",\"type\":\"Circle\"},\"selection_glyph\":null,\"view\":{\"id\":\"8ffa2de6-3153-4c42-b63c-657435b39f83\",\"type\":\"CDSView\"}},\"id\":\"658b2298-944b-43f8-963b-0d1c56572a3e\",\"type\":\"GlyphRenderer\"},{\"attributes\":{\"active_drag\":\"auto\",\"active_inspect\":\"auto\",\"active_scroll\":\"auto\",\"active_tap\":\"auto\",\"tools\":[{\"id\":\"c32a3811-6717-4acc-84e0-f5d9a28803ff\",\"type\":\"PanTool\"},{\"id\":\"e98a40b5-8820-4d94-a424-fc78c728819e\",\"type\":\"WheelZoomTool\"},{\"id\":\"ad516fa8-2ca6-44e8-8f74-9238d6cf49cc\",\"type\":\"BoxZoomTool\"},{\"id\":\"c378e457-9f7b-419e-975c-c39b8fb25ca6\",\"type\":\"SaveTool\"},{\"id\":\"8f08d10c-0dc7-4036-b73b-20a1a6719e26\",\"type\":\"ResetTool\"},{\"id\":\"ba876b64-13bc-4c5d-ac88-51f8b59ebc61\",\"type\":\"HelpTool\"}]},\"id\":\"a2574ec4-58d0-4857-8744-d027b3a5f274\",\"type\":\"Toolbar\"},{\"attributes\":{\"source\":{\"id\":\"27b98372-fbbb-434f-875d-e5c03f2e7922\",\"type\":\"ColumnDataSource\"}},\"id\":\"8ffa2de6-3153-4c42-b63c-657435b39f83\",\"type\":\"CDSView\"},{\"attributes\":{\"callback\":null},\"id\":\"e5dd27ef-95e9-4437-851b-402d4043b42c\",\"type\":\"DataRange1d\"},{\"attributes\":{},\"id\":\"60c99aa0-83c3-410e-b374-7ecb02c38c7c\",\"type\":\"LinearScale\"},{\"attributes\":{},\"id\":\"ec5b3347-77b2-419a-973e-299d846d427c\",\"type\":\"LinearScale\"},{\"attributes\":{\"plot\":{\"id\":\"c26cf22c-094b-4247-a82d-f3156a030de9\",\"subtype\":\"Figure\",\"type\":\"Plot\"},\"ticker\":{\"id\":\"4ff5e710-23df-4961-8667-2b20fab282c8\",\"type\":\"BasicTicker\"}},\"id\":\"b39fe1d1-2d6b-44d8-b80f-000c95fdc881\",\"type\":\"Grid\"},{\"attributes\":{\"children\":[{\"id\":\"4963c07d-23a4-4097-a3a6-4a84e05a54ce\",\"type\":\"Row\"},{\"id\":\"5be19f88-1a55-4b7b-b5b5-ad5169f8df78\",\"type\":\"Row\"}]},\"id\":\"dbec8fec-01c2-4176-8dbc-050b1160bd28\",\"type\":\"Column\"},{\"attributes\":{\"formatter\":{\"id\":\"067c58ea-eda7-4444-8612-09fe4fa72539\",\"type\":\"BasicTickFormatter\"},\"plot\":{\"id\":\"c26cf22c-094b-4247-a82d-f3156a030de9\",\"subtype\":\"Figure\",\"type\":\"Plot\"},\"ticker\":{\"id\":\"4ff5e710-23df-4961-8667-2b20fab282c8\",\"type\":\"BasicTicker\"}},\"id\":\"53ab312b-7c24-4d5a-beb1-9c156bbd43a0\",\"type\":\"LinearAxis\"},{\"attributes\":{},\"id\":\"4ff5e710-23df-4961-8667-2b20fab282c8\",\"type\":\"BasicTicker\"},{\"attributes\":{\"children\":[{\"id\":\"b9ea5cf4-8baf-4b41-8364-5b689889ecbc\",\"type\":\"ToolbarBox\"},{\"id\":\"dbec8fec-01c2-4176-8dbc-050b1160bd28\",\"type\":\"Column\"}]},\"id\":\"df50af8d-7b6e-4a27-86a0-2b8d2daef3c1\",\"type\":\"Column\"},{\"attributes\":{\"formatter\":{\"id\":\"50ab9936-01c9-4de2-b850-18c637e433c9\",\"type\":\"BasicTickFormatter\"},\"plot\":{\"id\":\"c26cf22c-094b-4247-a82d-f3156a030de9\",\"subtype\":\"Figure\",\"type\":\"Plot\"},\"ticker\":{\"id\":\"feb7a390-ee7f-4b8f-a58d-ef3ad0be1af6\",\"type\":\"BasicTicker\"}},\"id\":\"738bf704-9137-468b-a472-a2636dea868d\",\"type\":\"LinearAxis\"},{\"attributes\":{},\"id\":\"feb7a390-ee7f-4b8f-a58d-ef3ad0be1af6\",\"type\":\"BasicTicker\"},{\"attributes\":{\"dimension\":1,\"plot\":{\"id\":\"c26cf22c-094b-4247-a82d-f3156a030de9\",\"subtype\":\"Figure\",\"type\":\"Plot\"},\"ticker\":{\"id\":\"feb7a390-ee7f-4b8f-a58d-ef3ad0be1af6\",\"type\":\"BasicTicker\"}},\"id\":\"e15d60cb-7f46-4755-ac85-09f07c25482c\",\"type\":\"Grid\"},{\"attributes\":{\"callback\":null},\"id\":\"1e0d01e1-f423-49ad-8a47-c8b05c39a815\",\"type\":\"DataRange1d\"},{\"attributes\":{\"below\":[{\"id\":\"e34aacc2-36cd-4426-80e8-6e54f1af5e7f\",\"type\":\"LinearAxis\"}],\"left\":[{\"id\":\"a75ff07e-4c0e-4ceb-a8f3-c34d9527e5a4\",\"type\":\"LinearAxis\"}],\"plot_height\":250,\"plot_width\":250,\"renderers\":[{\"id\":\"e34aacc2-36cd-4426-80e8-6e54f1af5e7f\",\"type\":\"LinearAxis\"},{\"id\":\"a5946b65-2694-4f93-ad50-9656795f088d\",\"type\":\"Grid\"},{\"id\":\"a75ff07e-4c0e-4ceb-a8f3-c34d9527e5a4\",\"type\":\"LinearAxis\"},{\"id\":\"8773a192-94ae-4b46-825c-4b8d60901349\",\"type\":\"Grid\"},{\"id\":\"a46227fe-0733-4450-bec5-cfd887c4b2b3\",\"type\":\"BoxAnnotation\"},{\"id\":\"658b2298-944b-43f8-963b-0d1c56572a3e\",\"type\":\"GlyphRenderer\"}],\"title\":{\"id\":\"dc5fe422-f2d3-482a-912f-b3e40c2a3c88\",\"type\":\"Title\"},\"toolbar\":{\"id\":\"f53048c1-9633-4b0c-9363-4bab72b891ad\",\"type\":\"Toolbar\"},\"toolbar_location\":null,\"x_range\":{\"id\":\"73c92dd8-78a3-4296-9d2d-41699c44c84b\",\"type\":\"DataRange1d\"},\"x_scale\":{\"id\":\"37a90728-2131-454b-8af7-064d3ca540e5\",\"type\":\"LinearScale\"},\"y_range\":{\"id\":\"3c7186c4-c3ec-4d6f-a8c8-0a0c175a6f81\",\"type\":\"DataRange1d\"},\"y_scale\":{\"id\":\"37e305b9-0a51-4473-815d-6534da404d4b\",\"type\":\"LinearScale\"}},\"id\":\"da566268-d153-4a43-9d63-4696119412b6\",\"subtype\":\"Figure\",\"type\":\"Plot\"},{\"attributes\":{\"callback\":null,\"column_names\":[\"x\",\"y\"],\"data\":{\"x\":[0,1,2,3,4,5,6,7,8,9,10],\"y\":[10,9,8,7,6,5,4,3,2,1,0]},\"selected\":null,\"selection_policy\":null},\"id\":\"9e226db4-f84d-458e-85ac-2b02c110efa5\",\"type\":\"ColumnDataSource\"},{\"attributes\":{\"bottom_units\":\"screen\",\"fill_alpha\":{\"value\":0.5},\"fill_color\":{\"value\":\"lightgrey\"},\"left_units\":\"screen\",\"level\":\"overlay\",\"line_alpha\":{\"value\":1.0},\"line_color\":{\"value\":\"black\"},\"line_dash\":[4,4],\"line_width\":{\"value\":2},\"plot\":null,\"render_mode\":\"css\",\"right_units\":\"screen\",\"top_units\":\"screen\"},\"id\":\"fd573cd8-825f-40c5-b4db-f185c3df57ca\",\"type\":\"BoxAnnotation\"},{\"attributes\":{},\"id\":\"25793404-859f-4425-9782-c3ca0845d618\",\"type\":\"PanTool\"},{\"attributes\":{\"callback\":null},\"id\":\"9a80b55c-9d67-4fe0-8b97-1ccc17d98a4d\",\"type\":\"DataRange1d\"},{\"attributes\":{\"tools\":[{\"id\":\"25793404-859f-4425-9782-c3ca0845d618\",\"type\":\"PanTool\"},{\"id\":\"0b480144-d3cf-4025-9910-cd0564e575a4\",\"type\":\"WheelZoomTool\"},{\"id\":\"f5793fe4-6504-4882-953a-52c5b547f381\",\"type\":\"BoxZoomTool\"},{\"id\":\"8c0fc476-df5c-4851-97c7-9f1eb81ff717\",\"type\":\"SaveTool\"},{\"id\":\"dcdca5b9-30c4-4946-9fba-22741a1fa898\",\"type\":\"ResetTool\"},{\"id\":\"9d2cc34c-e174-43ee-a551-495475a67d60\",\"type\":\"HelpTool\"},{\"id\":\"c32a3811-6717-4acc-84e0-f5d9a28803ff\",\"type\":\"PanTool\"},{\"id\":\"e98a40b5-8820-4d94-a424-fc78c728819e\",\"type\":\"WheelZoomTool\"},{\"id\":\"ad516fa8-2ca6-44e8-8f74-9238d6cf49cc\",\"type\":\"BoxZoomTool\"},{\"id\":\"c378e457-9f7b-419e-975c-c39b8fb25ca6\",\"type\":\"SaveTool\"},{\"id\":\"8f08d10c-0dc7-4036-b73b-20a1a6719e26\",\"type\":\"ResetTool\"},{\"id\":\"ba876b64-13bc-4c5d-ac88-51f8b59ebc61\",\"type\":\"HelpTool\"},{\"id\":\"4883f5b1-3e28-4809-af39-ca7ee0159da3\",\"type\":\"PanTool\"},{\"id\":\"ee65c008-f52b-405c-a7d7-5e604998921b\",\"type\":\"WheelZoomTool\"},{\"id\":\"3f541706-05fa-4621-a97d-80435827b9eb\",\"type\":\"BoxZoomTool\"},{\"id\":\"714ebfd3-e319-46ef-885a-0425af58f95e\",\"type\":\"SaveTool\"},{\"id\":\"2cf423dc-359d-46de-86aa-7ea2e49390ef\",\"type\":\"ResetTool\"},{\"id\":\"77e958d0-2c51-404a-a279-8a10fd734324\",\"type\":\"HelpTool\"}]},\"id\":\"8184561d-10a9-4788-a61d-ff0e7df6cb7c\",\"type\":\"ProxyToolbar\"},{\"attributes\":{},\"id\":\"0b480144-d3cf-4025-9910-cd0564e575a4\",\"type\":\"WheelZoomTool\"},{\"attributes\":{\"children\":[{\"id\":\"3bf1ad27-84dc-4354-884c-cf1deace5a06\",\"type\":\"Spacer\"},{\"id\":\"c26cf22c-094b-4247-a82d-f3156a030de9\",\"subtype\":\"Figure\",\"type\":\"Plot\"}]},\"id\":\"4963c07d-23a4-4097-a3a6-4a84e05a54ce\",\"type\":\"Row\"},{\"attributes\":{\"overlay\":{\"id\":\"fd573cd8-825f-40c5-b4db-f185c3df57ca\",\"type\":\"BoxAnnotation\"}},\"id\":\"f5793fe4-6504-4882-953a-52c5b547f381\",\"type\":\"BoxZoomTool\"},{\"attributes\":{},\"id\":\"8c0fc476-df5c-4851-97c7-9f1eb81ff717\",\"type\":\"SaveTool\"},{\"attributes\":{},\"id\":\"dcdca5b9-30c4-4946-9fba-22741a1fa898\",\"type\":\"ResetTool\"},{\"attributes\":{},\"id\":\"9d2cc34c-e174-43ee-a551-495475a67d60\",\"type\":\"HelpTool\"},{\"attributes\":{},\"id\":\"2cf423dc-359d-46de-86aa-7ea2e49390ef\",\"type\":\"ResetTool\"},{\"attributes\":{\"callback\":null},\"id\":\"73c92dd8-78a3-4296-9d2d-41699c44c84b\",\"type\":\"DataRange1d\"},{\"attributes\":{},\"id\":\"d6a1faef-06ce-4585-8bd8-417c5a17016c\",\"type\":\"LinearScale\"},{\"attributes\":{\"callback\":null,\"column_names\":[\"x\",\"y\"],\"data\":{\"x\":[0,1,2,3,4,5,6,7,8,9,10],\"y\":[0,1,2,3,4,5,6,7,8,9,10]},\"selected\":null,\"selection_policy\":null},\"id\":\"076e6d7c-bd02-48ec-8c08-aa7307c58d22\",\"type\":\"ColumnDataSource\"},{\"attributes\":{},\"id\":\"046b650e-7f9f-4294-91d0-8957ef4f2bc3\",\"type\":\"BasicTicker\"},{\"attributes\":{},\"id\":\"50ab9936-01c9-4de2-b850-18c637e433c9\",\"type\":\"BasicTickFormatter\"},{\"attributes\":{\"active_drag\":\"auto\",\"active_inspect\":\"auto\",\"active_scroll\":\"auto\",\"active_tap\":\"auto\",\"tools\":[{\"id\":\"4883f5b1-3e28-4809-af39-ca7ee0159da3\",\"type\":\"PanTool\"},{\"id\":\"ee65c008-f52b-405c-a7d7-5e604998921b\",\"type\":\"WheelZoomTool\"},{\"id\":\"3f541706-05fa-4621-a97d-80435827b9eb\",\"type\":\"BoxZoomTool\"},{\"id\":\"714ebfd3-e319-46ef-885a-0425af58f95e\",\"type\":\"SaveTool\"},{\"id\":\"2cf423dc-359d-46de-86aa-7ea2e49390ef\",\"type\":\"ResetTool\"},{\"id\":\"77e958d0-2c51-404a-a279-8a10fd734324\",\"type\":\"HelpTool\"}]},\"id\":\"f53048c1-9633-4b0c-9363-4bab72b891ad\",\"type\":\"Toolbar\"},{\"attributes\":{},\"id\":\"bb019008-84b6-4327-9189-827e344b1940\",\"type\":\"LinearScale\"},{\"attributes\":{\"formatter\":{\"id\":\"1670f657-a23d-4efe-b183-9690bfc20d8c\",\"type\":\"BasicTickFormatter\"},\"plot\":{\"id\":\"3a678d05-6c7c-4982-8d8f-60493b9c3009\",\"subtype\":\"Figure\",\"type\":\"Plot\"},\"ticker\":{\"id\":\"046b650e-7f9f-4294-91d0-8957ef4f2bc3\",\"type\":\"BasicTicker\"}},\"id\":\"530028cc-9b94-4067-bfa2-39c8fa4f1eae\",\"type\":\"LinearAxis\"}],\"root_ids\":[\"df50af8d-7b6e-4a27-86a0-2b8d2daef3c1\"]},\"title\":\"Bokeh Application\",\"version\":\"0.12.15\"}};\n",
       "  var render_items = [{\"docid\":\"3e3dbc57-7f65-454b-b8c9-45a56ec5e797\",\"elementid\":\"8fe16602-02a0-4663-9af0-cab7d11744b2\",\"modelid\":\"df50af8d-7b6e-4a27-86a0-2b8d2daef3c1\"}];\n",
       "  root.Bokeh.embed.embed_items_notebook(docs_json, render_items);\n",
       "\n",
       "  }\n",
       "  if (root.Bokeh !== undefined) {\n",
       "    embed_document(root);\n",
       "  } else {\n",
       "    var attempts = 0;\n",
       "    var timer = setInterval(function(root) {\n",
       "      if (root.Bokeh !== undefined) {\n",
       "        embed_document(root);\n",
       "        clearInterval(timer);\n",
       "      }\n",
       "      attempts++;\n",
       "      if (attempts > 100) {\n",
       "        console.log(\"Bokeh: ERROR: Unable to run BokehJS code because BokehJS library is missing\")\n",
       "        clearInterval(timer);\n",
       "      }\n",
       "    }, 10, root)\n",
       "  }\n",
       "})(window);"
      ],
      "application/vnd.bokehjs_exec.v0+json": ""
     },
     "metadata": {
      "application/vnd.bokehjs_exec.v0+json": {
       "id": "df50af8d-7b6e-4a27-86a0-2b8d2daef3c1"
      }
     },
     "output_type": "display_data"
    }
   ],
   "source": [
    "show(layout)"
   ]
  },
  {
   "cell_type": "markdown",
   "metadata": {},
   "source": [
    "### Crear pestañas para tener mas de un gráfico"
   ]
  },
  {
   "cell_type": "code",
   "execution_count": 25,
   "metadata": {},
   "outputs": [],
   "source": [
    "from bokeh.models.widgets import Tabs, Panel"
   ]
  },
  {
   "cell_type": "code",
   "execution_count": 28,
   "metadata": {},
   "outputs": [
    {
     "data": {
      "text/html": [
       "\n",
       "<div class=\"bk-root\">\n",
       "    <div class=\"bk-plotdiv\" id=\"18f278b1-56cb-4702-9b96-4f06189df4c0\"></div>\n",
       "</div>"
      ]
     },
     "metadata": {},
     "output_type": "display_data"
    },
    {
     "data": {
      "application/javascript": [
       "(function(root) {\n",
       "  function embed_document(root) {\n",
       "    \n",
       "  var docs_json = {\"9a2f91e8-c31b-4284-b757-6febf761cb84\":{\"roots\":{\"references\":[{\"attributes\":{\"formatter\":{\"id\":\"284545fd-2374-4936-be3c-546d78a3f4df\",\"type\":\"BasicTickFormatter\"},\"plot\":{\"id\":\"3a678d05-6c7c-4982-8d8f-60493b9c3009\",\"subtype\":\"Figure\",\"type\":\"Plot\"},\"ticker\":{\"id\":\"350aea0b-af14-4d81-b5b0-0f1f862ae009\",\"type\":\"BasicTicker\"}},\"id\":\"fb3bf150-6698-4eb9-b8c5-2dc5d0bb2b13\",\"type\":\"LinearAxis\"},{\"attributes\":{},\"id\":\"37a90728-2131-454b-8af7-064d3ca540e5\",\"type\":\"LinearScale\"},{\"attributes\":{},\"id\":\"350aea0b-af14-4d81-b5b0-0f1f862ae009\",\"type\":\"BasicTicker\"},{\"attributes\":{\"dimension\":1,\"plot\":{\"id\":\"3a678d05-6c7c-4982-8d8f-60493b9c3009\",\"subtype\":\"Figure\",\"type\":\"Plot\"},\"ticker\":{\"id\":\"350aea0b-af14-4d81-b5b0-0f1f862ae009\",\"type\":\"BasicTicker\"}},\"id\":\"fc0bfbfe-db69-4505-96bb-a7f3a150e943\",\"type\":\"Grid\"},{\"attributes\":{},\"id\":\"37e305b9-0a51-4473-815d-6534da404d4b\",\"type\":\"LinearScale\"},{\"attributes\":{\"children\":[{\"id\":\"c26cf22c-094b-4247-a82d-f3156a030de9\",\"subtype\":\"Figure\",\"type\":\"Plot\"},{\"id\":\"3a678d05-6c7c-4982-8d8f-60493b9c3009\",\"subtype\":\"Figure\",\"type\":\"Plot\"}]},\"id\":\"c02f32f6-8fde-4e58-a9e9-6821887b4c94\",\"type\":\"Row\"},{\"attributes\":{\"callback\":null},\"id\":\"3c7186c4-c3ec-4d6f-a8c8-0a0c175a6f81\",\"type\":\"DataRange1d\"},{\"attributes\":{\"data_source\":{\"id\":\"076e6d7c-bd02-48ec-8c08-aa7307c58d22\",\"type\":\"ColumnDataSource\"},\"glyph\":{\"id\":\"c74961ea-1513-4d02-95e5-e8cad7de4d79\",\"type\":\"Circle\"},\"hover_glyph\":null,\"muted_glyph\":null,\"nonselection_glyph\":{\"id\":\"2f59e63c-4750-4d76-8968-5e39f3192990\",\"type\":\"Circle\"},\"selection_glyph\":null,\"view\":{\"id\":\"088be46a-886a-4d1a-839d-65513fa6dad0\",\"type\":\"CDSView\"}},\"id\":\"d2e1457a-166a-41bd-b072-e4897256c294\",\"type\":\"GlyphRenderer\"},{\"attributes\":{\"children\":[{\"id\":\"da566268-d153-4a43-9d63-4696119412b6\",\"subtype\":\"Figure\",\"type\":\"Plot\"}]},\"id\":\"5bed3056-7ec6-469f-9f42-b6b968d85171\",\"type\":\"Row\"},{\"attributes\":{\"callback\":null,\"tabs\":[{\"id\":\"a4231f59-00ce-42ec-8dc1-1d93f5a2f377\",\"type\":\"Panel\"},{\"id\":\"f41cb076-038e-4702-be3e-25bae5b28fbe\",\"type\":\"Panel\"}]},\"id\":\"a68dcf0e-d9c1-4d60-9b67-800a78d5b439\",\"type\":\"Tabs\"},{\"attributes\":{\"bottom_units\":\"screen\",\"fill_alpha\":{\"value\":0.5},\"fill_color\":{\"value\":\"lightgrey\"},\"left_units\":\"screen\",\"level\":\"overlay\",\"line_alpha\":{\"value\":1.0},\"line_color\":{\"value\":\"black\"},\"line_dash\":[4,4],\"line_width\":{\"value\":2},\"plot\":null,\"render_mode\":\"css\",\"right_units\":\"screen\",\"top_units\":\"screen\"},\"id\":\"4b0ca30b-730f-46bd-a5f3-e4a1f067d662\",\"type\":\"BoxAnnotation\"},{\"attributes\":{\"child\":{\"id\":\"c02f32f6-8fde-4e58-a9e9-6821887b4c94\",\"type\":\"Row\"},\"title\":\"first\"},\"id\":\"a4231f59-00ce-42ec-8dc1-1d93f5a2f377\",\"type\":\"Panel\"},{\"attributes\":{},\"id\":\"c32a3811-6717-4acc-84e0-f5d9a28803ff\",\"type\":\"PanTool\"},{\"attributes\":{\"plot\":{\"id\":\"da566268-d153-4a43-9d63-4696119412b6\",\"subtype\":\"Figure\",\"type\":\"Plot\"},\"ticker\":{\"id\":\"913cc438-0f27-4ed0-a1b1-7d8d83a0f2e9\",\"type\":\"BasicTicker\"}},\"id\":\"a5946b65-2694-4f93-ad50-9656795f088d\",\"type\":\"Grid\"},{\"attributes\":{\"child\":{\"id\":\"5bed3056-7ec6-469f-9f42-b6b968d85171\",\"type\":\"Row\"},\"title\":\"second\"},\"id\":\"f41cb076-038e-4702-be3e-25bae5b28fbe\",\"type\":\"Panel\"},{\"attributes\":{},\"id\":\"e98a40b5-8820-4d94-a424-fc78c728819e\",\"type\":\"WheelZoomTool\"},{\"attributes\":{\"overlay\":{\"id\":\"4b0ca30b-730f-46bd-a5f3-e4a1f067d662\",\"type\":\"BoxAnnotation\"}},\"id\":\"ad516fa8-2ca6-44e8-8f74-9238d6cf49cc\",\"type\":\"BoxZoomTool\"},{\"attributes\":{},\"id\":\"c378e457-9f7b-419e-975c-c39b8fb25ca6\",\"type\":\"SaveTool\"},{\"attributes\":{},\"id\":\"8f08d10c-0dc7-4036-b73b-20a1a6719e26\",\"type\":\"ResetTool\"},{\"attributes\":{},\"id\":\"ba876b64-13bc-4c5d-ac88-51f8b59ebc61\",\"type\":\"HelpTool\"},{\"attributes\":{},\"id\":\"913cc438-0f27-4ed0-a1b1-7d8d83a0f2e9\",\"type\":\"BasicTicker\"},{\"attributes\":{\"formatter\":{\"id\":\"4aafffe6-1a86-452d-b0d9-01ff5feb3d7d\",\"type\":\"BasicTickFormatter\"},\"plot\":{\"id\":\"da566268-d153-4a43-9d63-4696119412b6\",\"subtype\":\"Figure\",\"type\":\"Plot\"},\"ticker\":{\"id\":\"913cc438-0f27-4ed0-a1b1-7d8d83a0f2e9\",\"type\":\"BasicTicker\"}},\"id\":\"e34aacc2-36cd-4426-80e8-6e54f1af5e7f\",\"type\":\"LinearAxis\"},{\"attributes\":{\"source\":{\"id\":\"076e6d7c-bd02-48ec-8c08-aa7307c58d22\",\"type\":\"ColumnDataSource\"}},\"id\":\"088be46a-886a-4d1a-839d-65513fa6dad0\",\"type\":\"CDSView\"},{\"attributes\":{\"dimension\":1,\"plot\":{\"id\":\"da566268-d153-4a43-9d63-4696119412b6\",\"subtype\":\"Figure\",\"type\":\"Plot\"},\"ticker\":{\"id\":\"aa42e8fc-1659-4d40-80e4-d9bed1075e61\",\"type\":\"BasicTicker\"}},\"id\":\"8773a192-94ae-4b46-825c-4b8d60901349\",\"type\":\"Grid\"},{\"attributes\":{\"fill_alpha\":{\"value\":0.1},\"fill_color\":{\"value\":\"#1f77b4\"},\"line_alpha\":{\"value\":0.1},\"line_color\":{\"value\":\"#1f77b4\"},\"size\":{\"units\":\"screen\",\"value\":10},\"x\":{\"field\":\"x\"},\"y\":{\"field\":\"y\"}},\"id\":\"2f59e63c-4750-4d76-8968-5e39f3192990\",\"type\":\"Circle\"},{\"attributes\":{\"fill_alpha\":{\"value\":0.5},\"fill_color\":{\"value\":\"firebrick\"},\"line_alpha\":{\"value\":0.5},\"line_color\":{\"value\":\"firebrick\"},\"size\":{\"units\":\"screen\",\"value\":10},\"x\":{\"field\":\"x\"},\"y\":{\"field\":\"y\"}},\"id\":\"2965514e-e48c-4ee9-a9f5-b818df6580c8\",\"type\":\"Circle\"},{\"attributes\":{\"formatter\":{\"id\":\"82921f24-6cbe-4f01-984b-239823617076\",\"type\":\"BasicTickFormatter\"},\"plot\":{\"id\":\"da566268-d153-4a43-9d63-4696119412b6\",\"subtype\":\"Figure\",\"type\":\"Plot\"},\"ticker\":{\"id\":\"aa42e8fc-1659-4d40-80e4-d9bed1075e61\",\"type\":\"BasicTicker\"}},\"id\":\"a75ff07e-4c0e-4ceb-a8f3-c34d9527e5a4\",\"type\":\"LinearAxis\"},{\"attributes\":{},\"id\":\"714ebfd3-e319-46ef-885a-0425af58f95e\",\"type\":\"SaveTool\"},{\"attributes\":{},\"id\":\"aa42e8fc-1659-4d40-80e4-d9bed1075e61\",\"type\":\"BasicTicker\"},{\"attributes\":{\"bottom_units\":\"screen\",\"fill_alpha\":{\"value\":0.5},\"fill_color\":{\"value\":\"lightgrey\"},\"left_units\":\"screen\",\"level\":\"overlay\",\"line_alpha\":{\"value\":1.0},\"line_color\":{\"value\":\"black\"},\"line_dash\":[4,4],\"line_width\":{\"value\":2},\"plot\":null,\"render_mode\":\"css\",\"right_units\":\"screen\",\"top_units\":\"screen\"},\"id\":\"a46227fe-0733-4450-bec5-cfd887c4b2b3\",\"type\":\"BoxAnnotation\"},{\"attributes\":{},\"id\":\"4883f5b1-3e28-4809-af39-ca7ee0159da3\",\"type\":\"PanTool\"},{\"attributes\":{},\"id\":\"77e958d0-2c51-404a-a279-8a10fd734324\",\"type\":\"HelpTool\"},{\"attributes\":{},\"id\":\"ee65c008-f52b-405c-a7d7-5e604998921b\",\"type\":\"WheelZoomTool\"},{\"attributes\":{\"overlay\":{\"id\":\"a46227fe-0733-4450-bec5-cfd887c4b2b3\",\"type\":\"BoxAnnotation\"}},\"id\":\"3f541706-05fa-4621-a97d-80435827b9eb\",\"type\":\"BoxZoomTool\"},{\"attributes\":{},\"id\":\"067c58ea-eda7-4444-8612-09fe4fa72539\",\"type\":\"BasicTickFormatter\"},{\"attributes\":{\"callback\":null,\"column_names\":[\"x\",\"y\"],\"data\":{\"x\":[0,1,2,3,4,5,6,7,8,9,10],\"y\":[5,4,3,2,1,0,1,2,3,4,5]},\"selected\":null,\"selection_policy\":null},\"id\":\"27b98372-fbbb-434f-875d-e5c03f2e7922\",\"type\":\"ColumnDataSource\"},{\"attributes\":{\"plot\":null,\"text\":\"\"},\"id\":\"0c47fe82-4b93-4caa-ab07-b5f2f7df390f\",\"type\":\"Title\"},{\"attributes\":{},\"id\":\"4aafffe6-1a86-452d-b0d9-01ff5feb3d7d\",\"type\":\"BasicTickFormatter\"},{\"attributes\":{\"data_source\":{\"id\":\"9e226db4-f84d-458e-85ac-2b02c110efa5\",\"type\":\"ColumnDataSource\"},\"glyph\":{\"id\":\"2965514e-e48c-4ee9-a9f5-b818df6580c8\",\"type\":\"Circle\"},\"hover_glyph\":null,\"muted_glyph\":null,\"nonselection_glyph\":{\"id\":\"ed48250c-cc09-4785-b411-ade66e00b00c\",\"type\":\"Circle\"},\"selection_glyph\":null,\"view\":{\"id\":\"dbdc0d6e-dfaa-473c-8fad-21830947094a\",\"type\":\"CDSView\"}},\"id\":\"a51acfa9-9ced-4766-91d8-951f31d69ae4\",\"type\":\"GlyphRenderer\"},{\"attributes\":{},\"id\":\"1670f657-a23d-4efe-b183-9690bfc20d8c\",\"type\":\"BasicTickFormatter\"},{\"attributes\":{\"plot\":null,\"text\":\"\"},\"id\":\"3c17624b-5505-427e-af6d-4b7858ef6190\",\"type\":\"Title\"},{\"attributes\":{\"fill_alpha\":{\"value\":0.1},\"fill_color\":{\"value\":\"#1f77b4\"},\"line_alpha\":{\"value\":0.1},\"line_color\":{\"value\":\"#1f77b4\"},\"size\":{\"units\":\"screen\",\"value\":10},\"x\":{\"field\":\"x\"},\"y\":{\"field\":\"y\"}},\"id\":\"ed48250c-cc09-4785-b411-ade66e00b00c\",\"type\":\"Circle\"},{\"attributes\":{\"source\":{\"id\":\"9e226db4-f84d-458e-85ac-2b02c110efa5\",\"type\":\"ColumnDataSource\"}},\"id\":\"dbdc0d6e-dfaa-473c-8fad-21830947094a\",\"type\":\"CDSView\"},{\"attributes\":{},\"id\":\"284545fd-2374-4936-be3c-546d78a3f4df\",\"type\":\"BasicTickFormatter\"},{\"attributes\":{\"active_drag\":\"auto\",\"active_inspect\":\"auto\",\"active_scroll\":\"auto\",\"active_tap\":\"auto\",\"tools\":[{\"id\":\"25793404-859f-4425-9782-c3ca0845d618\",\"type\":\"PanTool\"},{\"id\":\"0b480144-d3cf-4025-9910-cd0564e575a4\",\"type\":\"WheelZoomTool\"},{\"id\":\"f5793fe4-6504-4882-953a-52c5b547f381\",\"type\":\"BoxZoomTool\"},{\"id\":\"8c0fc476-df5c-4851-97c7-9f1eb81ff717\",\"type\":\"SaveTool\"},{\"id\":\"dcdca5b9-30c4-4946-9fba-22741a1fa898\",\"type\":\"ResetTool\"},{\"id\":\"9d2cc34c-e174-43ee-a551-495475a67d60\",\"type\":\"HelpTool\"}]},\"id\":\"783e278c-3932-4547-991b-2317637145fa\",\"type\":\"Toolbar\"},{\"attributes\":{\"fill_alpha\":{\"value\":0.5},\"fill_color\":{\"value\":\"navy\"},\"line_alpha\":{\"value\":0.5},\"line_color\":{\"value\":\"navy\"},\"size\":{\"units\":\"screen\",\"value\":10},\"x\":{\"field\":\"x\"},\"y\":{\"field\":\"y\"}},\"id\":\"c74961ea-1513-4d02-95e5-e8cad7de4d79\",\"type\":\"Circle\"},{\"attributes\":{\"fill_alpha\":{\"value\":0.1},\"fill_color\":{\"value\":\"#1f77b4\"},\"line_alpha\":{\"value\":0.1},\"line_color\":{\"value\":\"#1f77b4\"},\"size\":{\"units\":\"screen\",\"value\":10},\"x\":{\"field\":\"x\"},\"y\":{\"field\":\"y\"}},\"id\":\"b5e241ee-5b09-480f-9a3c-401b04f2e78c\",\"type\":\"Circle\"},{\"attributes\":{\"below\":[{\"id\":\"53ab312b-7c24-4d5a-beb1-9c156bbd43a0\",\"type\":\"LinearAxis\"}],\"left\":[{\"id\":\"738bf704-9137-468b-a472-a2636dea868d\",\"type\":\"LinearAxis\"}],\"plot_height\":250,\"plot_width\":250,\"renderers\":[{\"id\":\"53ab312b-7c24-4d5a-beb1-9c156bbd43a0\",\"type\":\"LinearAxis\"},{\"id\":\"b39fe1d1-2d6b-44d8-b80f-000c95fdc881\",\"type\":\"Grid\"},{\"id\":\"738bf704-9137-468b-a472-a2636dea868d\",\"type\":\"LinearAxis\"},{\"id\":\"e15d60cb-7f46-4755-ac85-09f07c25482c\",\"type\":\"Grid\"},{\"id\":\"fd573cd8-825f-40c5-b4db-f185c3df57ca\",\"type\":\"BoxAnnotation\"},{\"id\":\"d2e1457a-166a-41bd-b072-e4897256c294\",\"type\":\"GlyphRenderer\"}],\"title\":{\"id\":\"0c47fe82-4b93-4caa-ab07-b5f2f7df390f\",\"type\":\"Title\"},\"toolbar\":{\"id\":\"783e278c-3932-4547-991b-2317637145fa\",\"type\":\"Toolbar\"},\"toolbar_location\":null,\"x_range\":{\"id\":\"3a591f12-73e8-4ce3-94b2-440e52f4151e\",\"type\":\"DataRange1d\"},\"x_scale\":{\"id\":\"60c99aa0-83c3-410e-b374-7ecb02c38c7c\",\"type\":\"LinearScale\"},\"y_range\":{\"id\":\"e5dd27ef-95e9-4437-851b-402d4043b42c\",\"type\":\"DataRange1d\"},\"y_scale\":{\"id\":\"ec5b3347-77b2-419a-973e-299d846d427c\",\"type\":\"LinearScale\"}},\"id\":\"c26cf22c-094b-4247-a82d-f3156a030de9\",\"subtype\":\"Figure\",\"type\":\"Plot\"},{\"attributes\":{\"plot\":null,\"text\":\"\"},\"id\":\"dc5fe422-f2d3-482a-912f-b3e40c2a3c88\",\"type\":\"Title\"},{\"attributes\":{\"below\":[{\"id\":\"530028cc-9b94-4067-bfa2-39c8fa4f1eae\",\"type\":\"LinearAxis\"}],\"left\":[{\"id\":\"fb3bf150-6698-4eb9-b8c5-2dc5d0bb2b13\",\"type\":\"LinearAxis\"}],\"plot_height\":250,\"plot_width\":250,\"renderers\":[{\"id\":\"530028cc-9b94-4067-bfa2-39c8fa4f1eae\",\"type\":\"LinearAxis\"},{\"id\":\"96681fa9-3820-4193-a7f5-07223ccd4b7f\",\"type\":\"Grid\"},{\"id\":\"fb3bf150-6698-4eb9-b8c5-2dc5d0bb2b13\",\"type\":\"LinearAxis\"},{\"id\":\"fc0bfbfe-db69-4505-96bb-a7f3a150e943\",\"type\":\"Grid\"},{\"id\":\"4b0ca30b-730f-46bd-a5f3-e4a1f067d662\",\"type\":\"BoxAnnotation\"},{\"id\":\"a51acfa9-9ced-4766-91d8-951f31d69ae4\",\"type\":\"GlyphRenderer\"}],\"title\":{\"id\":\"3c17624b-5505-427e-af6d-4b7858ef6190\",\"type\":\"Title\"},\"toolbar\":{\"id\":\"a2574ec4-58d0-4857-8744-d027b3a5f274\",\"type\":\"Toolbar\"},\"toolbar_location\":null,\"x_range\":{\"id\":\"1e0d01e1-f423-49ad-8a47-c8b05c39a815\",\"type\":\"DataRange1d\"},\"x_scale\":{\"id\":\"d6a1faef-06ce-4585-8bd8-417c5a17016c\",\"type\":\"LinearScale\"},\"y_range\":{\"id\":\"9a80b55c-9d67-4fe0-8b97-1ccc17d98a4d\",\"type\":\"DataRange1d\"},\"y_scale\":{\"id\":\"bb019008-84b6-4327-9189-827e344b1940\",\"type\":\"LinearScale\"}},\"id\":\"3a678d05-6c7c-4982-8d8f-60493b9c3009\",\"subtype\":\"Figure\",\"type\":\"Plot\"},{\"attributes\":{},\"id\":\"82921f24-6cbe-4f01-984b-239823617076\",\"type\":\"BasicTickFormatter\"},{\"attributes\":{\"plot\":{\"id\":\"3a678d05-6c7c-4982-8d8f-60493b9c3009\",\"subtype\":\"Figure\",\"type\":\"Plot\"},\"ticker\":{\"id\":\"046b650e-7f9f-4294-91d0-8957ef4f2bc3\",\"type\":\"BasicTicker\"}},\"id\":\"96681fa9-3820-4193-a7f5-07223ccd4b7f\",\"type\":\"Grid\"},{\"attributes\":{\"fill_alpha\":{\"value\":0.5},\"fill_color\":{\"value\":\"olive\"},\"line_alpha\":{\"value\":0.5},\"line_color\":{\"value\":\"olive\"},\"size\":{\"units\":\"screen\",\"value\":10},\"x\":{\"field\":\"x\"},\"y\":{\"field\":\"y\"}},\"id\":\"38aa872c-822a-4b54-9e07-ff5e59e2f855\",\"type\":\"Circle\"},{\"attributes\":{\"callback\":null},\"id\":\"3a591f12-73e8-4ce3-94b2-440e52f4151e\",\"type\":\"DataRange1d\"},{\"attributes\":{\"data_source\":{\"id\":\"27b98372-fbbb-434f-875d-e5c03f2e7922\",\"type\":\"ColumnDataSource\"},\"glyph\":{\"id\":\"38aa872c-822a-4b54-9e07-ff5e59e2f855\",\"type\":\"Circle\"},\"hover_glyph\":null,\"muted_glyph\":null,\"nonselection_glyph\":{\"id\":\"b5e241ee-5b09-480f-9a3c-401b04f2e78c\",\"type\":\"Circle\"},\"selection_glyph\":null,\"view\":{\"id\":\"8ffa2de6-3153-4c42-b63c-657435b39f83\",\"type\":\"CDSView\"}},\"id\":\"658b2298-944b-43f8-963b-0d1c56572a3e\",\"type\":\"GlyphRenderer\"},{\"attributes\":{\"active_drag\":\"auto\",\"active_inspect\":\"auto\",\"active_scroll\":\"auto\",\"active_tap\":\"auto\",\"tools\":[{\"id\":\"c32a3811-6717-4acc-84e0-f5d9a28803ff\",\"type\":\"PanTool\"},{\"id\":\"e98a40b5-8820-4d94-a424-fc78c728819e\",\"type\":\"WheelZoomTool\"},{\"id\":\"ad516fa8-2ca6-44e8-8f74-9238d6cf49cc\",\"type\":\"BoxZoomTool\"},{\"id\":\"c378e457-9f7b-419e-975c-c39b8fb25ca6\",\"type\":\"SaveTool\"},{\"id\":\"8f08d10c-0dc7-4036-b73b-20a1a6719e26\",\"type\":\"ResetTool\"},{\"id\":\"ba876b64-13bc-4c5d-ac88-51f8b59ebc61\",\"type\":\"HelpTool\"}]},\"id\":\"a2574ec4-58d0-4857-8744-d027b3a5f274\",\"type\":\"Toolbar\"},{\"attributes\":{\"source\":{\"id\":\"27b98372-fbbb-434f-875d-e5c03f2e7922\",\"type\":\"ColumnDataSource\"}},\"id\":\"8ffa2de6-3153-4c42-b63c-657435b39f83\",\"type\":\"CDSView\"},{\"attributes\":{\"callback\":null},\"id\":\"e5dd27ef-95e9-4437-851b-402d4043b42c\",\"type\":\"DataRange1d\"},{\"attributes\":{},\"id\":\"60c99aa0-83c3-410e-b374-7ecb02c38c7c\",\"type\":\"LinearScale\"},{\"attributes\":{},\"id\":\"ec5b3347-77b2-419a-973e-299d846d427c\",\"type\":\"LinearScale\"},{\"attributes\":{\"plot\":{\"id\":\"c26cf22c-094b-4247-a82d-f3156a030de9\",\"subtype\":\"Figure\",\"type\":\"Plot\"},\"ticker\":{\"id\":\"4ff5e710-23df-4961-8667-2b20fab282c8\",\"type\":\"BasicTicker\"}},\"id\":\"b39fe1d1-2d6b-44d8-b80f-000c95fdc881\",\"type\":\"Grid\"},{\"attributes\":{\"formatter\":{\"id\":\"067c58ea-eda7-4444-8612-09fe4fa72539\",\"type\":\"BasicTickFormatter\"},\"plot\":{\"id\":\"c26cf22c-094b-4247-a82d-f3156a030de9\",\"subtype\":\"Figure\",\"type\":\"Plot\"},\"ticker\":{\"id\":\"4ff5e710-23df-4961-8667-2b20fab282c8\",\"type\":\"BasicTicker\"}},\"id\":\"53ab312b-7c24-4d5a-beb1-9c156bbd43a0\",\"type\":\"LinearAxis\"},{\"attributes\":{},\"id\":\"4ff5e710-23df-4961-8667-2b20fab282c8\",\"type\":\"BasicTicker\"},{\"attributes\":{\"formatter\":{\"id\":\"50ab9936-01c9-4de2-b850-18c637e433c9\",\"type\":\"BasicTickFormatter\"},\"plot\":{\"id\":\"c26cf22c-094b-4247-a82d-f3156a030de9\",\"subtype\":\"Figure\",\"type\":\"Plot\"},\"ticker\":{\"id\":\"feb7a390-ee7f-4b8f-a58d-ef3ad0be1af6\",\"type\":\"BasicTicker\"}},\"id\":\"738bf704-9137-468b-a472-a2636dea868d\",\"type\":\"LinearAxis\"},{\"attributes\":{},\"id\":\"feb7a390-ee7f-4b8f-a58d-ef3ad0be1af6\",\"type\":\"BasicTicker\"},{\"attributes\":{\"dimension\":1,\"plot\":{\"id\":\"c26cf22c-094b-4247-a82d-f3156a030de9\",\"subtype\":\"Figure\",\"type\":\"Plot\"},\"ticker\":{\"id\":\"feb7a390-ee7f-4b8f-a58d-ef3ad0be1af6\",\"type\":\"BasicTicker\"}},\"id\":\"e15d60cb-7f46-4755-ac85-09f07c25482c\",\"type\":\"Grid\"},{\"attributes\":{\"callback\":null},\"id\":\"1e0d01e1-f423-49ad-8a47-c8b05c39a815\",\"type\":\"DataRange1d\"},{\"attributes\":{\"below\":[{\"id\":\"e34aacc2-36cd-4426-80e8-6e54f1af5e7f\",\"type\":\"LinearAxis\"}],\"left\":[{\"id\":\"a75ff07e-4c0e-4ceb-a8f3-c34d9527e5a4\",\"type\":\"LinearAxis\"}],\"plot_height\":250,\"plot_width\":250,\"renderers\":[{\"id\":\"e34aacc2-36cd-4426-80e8-6e54f1af5e7f\",\"type\":\"LinearAxis\"},{\"id\":\"a5946b65-2694-4f93-ad50-9656795f088d\",\"type\":\"Grid\"},{\"id\":\"a75ff07e-4c0e-4ceb-a8f3-c34d9527e5a4\",\"type\":\"LinearAxis\"},{\"id\":\"8773a192-94ae-4b46-825c-4b8d60901349\",\"type\":\"Grid\"},{\"id\":\"a46227fe-0733-4450-bec5-cfd887c4b2b3\",\"type\":\"BoxAnnotation\"},{\"id\":\"658b2298-944b-43f8-963b-0d1c56572a3e\",\"type\":\"GlyphRenderer\"}],\"title\":{\"id\":\"dc5fe422-f2d3-482a-912f-b3e40c2a3c88\",\"type\":\"Title\"},\"toolbar\":{\"id\":\"f53048c1-9633-4b0c-9363-4bab72b891ad\",\"type\":\"Toolbar\"},\"toolbar_location\":null,\"x_range\":{\"id\":\"73c92dd8-78a3-4296-9d2d-41699c44c84b\",\"type\":\"DataRange1d\"},\"x_scale\":{\"id\":\"37a90728-2131-454b-8af7-064d3ca540e5\",\"type\":\"LinearScale\"},\"y_range\":{\"id\":\"3c7186c4-c3ec-4d6f-a8c8-0a0c175a6f81\",\"type\":\"DataRange1d\"},\"y_scale\":{\"id\":\"37e305b9-0a51-4473-815d-6534da404d4b\",\"type\":\"LinearScale\"}},\"id\":\"da566268-d153-4a43-9d63-4696119412b6\",\"subtype\":\"Figure\",\"type\":\"Plot\"},{\"attributes\":{\"callback\":null,\"column_names\":[\"x\",\"y\"],\"data\":{\"x\":[0,1,2,3,4,5,6,7,8,9,10],\"y\":[10,9,8,7,6,5,4,3,2,1,0]},\"selected\":null,\"selection_policy\":null},\"id\":\"9e226db4-f84d-458e-85ac-2b02c110efa5\",\"type\":\"ColumnDataSource\"},{\"attributes\":{\"bottom_units\":\"screen\",\"fill_alpha\":{\"value\":0.5},\"fill_color\":{\"value\":\"lightgrey\"},\"left_units\":\"screen\",\"level\":\"overlay\",\"line_alpha\":{\"value\":1.0},\"line_color\":{\"value\":\"black\"},\"line_dash\":[4,4],\"line_width\":{\"value\":2},\"plot\":null,\"render_mode\":\"css\",\"right_units\":\"screen\",\"top_units\":\"screen\"},\"id\":\"fd573cd8-825f-40c5-b4db-f185c3df57ca\",\"type\":\"BoxAnnotation\"},{\"attributes\":{},\"id\":\"25793404-859f-4425-9782-c3ca0845d618\",\"type\":\"PanTool\"},{\"attributes\":{\"callback\":null},\"id\":\"9a80b55c-9d67-4fe0-8b97-1ccc17d98a4d\",\"type\":\"DataRange1d\"},{\"attributes\":{},\"id\":\"0b480144-d3cf-4025-9910-cd0564e575a4\",\"type\":\"WheelZoomTool\"},{\"attributes\":{\"overlay\":{\"id\":\"fd573cd8-825f-40c5-b4db-f185c3df57ca\",\"type\":\"BoxAnnotation\"}},\"id\":\"f5793fe4-6504-4882-953a-52c5b547f381\",\"type\":\"BoxZoomTool\"},{\"attributes\":{},\"id\":\"8c0fc476-df5c-4851-97c7-9f1eb81ff717\",\"type\":\"SaveTool\"},{\"attributes\":{},\"id\":\"dcdca5b9-30c4-4946-9fba-22741a1fa898\",\"type\":\"ResetTool\"},{\"attributes\":{},\"id\":\"9d2cc34c-e174-43ee-a551-495475a67d60\",\"type\":\"HelpTool\"},{\"attributes\":{\"callback\":null},\"id\":\"73c92dd8-78a3-4296-9d2d-41699c44c84b\",\"type\":\"DataRange1d\"},{\"attributes\":{},\"id\":\"2cf423dc-359d-46de-86aa-7ea2e49390ef\",\"type\":\"ResetTool\"},{\"attributes\":{},\"id\":\"d6a1faef-06ce-4585-8bd8-417c5a17016c\",\"type\":\"LinearScale\"},{\"attributes\":{\"callback\":null,\"column_names\":[\"x\",\"y\"],\"data\":{\"x\":[0,1,2,3,4,5,6,7,8,9,10],\"y\":[0,1,2,3,4,5,6,7,8,9,10]},\"selected\":null,\"selection_policy\":null},\"id\":\"076e6d7c-bd02-48ec-8c08-aa7307c58d22\",\"type\":\"ColumnDataSource\"},{\"attributes\":{},\"id\":\"046b650e-7f9f-4294-91d0-8957ef4f2bc3\",\"type\":\"BasicTicker\"},{\"attributes\":{},\"id\":\"50ab9936-01c9-4de2-b850-18c637e433c9\",\"type\":\"BasicTickFormatter\"},{\"attributes\":{\"active_drag\":\"auto\",\"active_inspect\":\"auto\",\"active_scroll\":\"auto\",\"active_tap\":\"auto\",\"tools\":[{\"id\":\"4883f5b1-3e28-4809-af39-ca7ee0159da3\",\"type\":\"PanTool\"},{\"id\":\"ee65c008-f52b-405c-a7d7-5e604998921b\",\"type\":\"WheelZoomTool\"},{\"id\":\"3f541706-05fa-4621-a97d-80435827b9eb\",\"type\":\"BoxZoomTool\"},{\"id\":\"714ebfd3-e319-46ef-885a-0425af58f95e\",\"type\":\"SaveTool\"},{\"id\":\"2cf423dc-359d-46de-86aa-7ea2e49390ef\",\"type\":\"ResetTool\"},{\"id\":\"77e958d0-2c51-404a-a279-8a10fd734324\",\"type\":\"HelpTool\"}]},\"id\":\"f53048c1-9633-4b0c-9363-4bab72b891ad\",\"type\":\"Toolbar\"},{\"attributes\":{},\"id\":\"bb019008-84b6-4327-9189-827e344b1940\",\"type\":\"LinearScale\"},{\"attributes\":{\"formatter\":{\"id\":\"1670f657-a23d-4efe-b183-9690bfc20d8c\",\"type\":\"BasicTickFormatter\"},\"plot\":{\"id\":\"3a678d05-6c7c-4982-8d8f-60493b9c3009\",\"subtype\":\"Figure\",\"type\":\"Plot\"},\"ticker\":{\"id\":\"046b650e-7f9f-4294-91d0-8957ef4f2bc3\",\"type\":\"BasicTicker\"}},\"id\":\"530028cc-9b94-4067-bfa2-39c8fa4f1eae\",\"type\":\"LinearAxis\"}],\"root_ids\":[\"a68dcf0e-d9c1-4d60-9b67-800a78d5b439\"]},\"title\":\"Bokeh Application\",\"version\":\"0.12.15\"}};\n",
       "  var render_items = [{\"docid\":\"9a2f91e8-c31b-4284-b757-6febf761cb84\",\"elementid\":\"18f278b1-56cb-4702-9b96-4f06189df4c0\",\"modelid\":\"a68dcf0e-d9c1-4d60-9b67-800a78d5b439\"}];\n",
       "  root.Bokeh.embed.embed_items_notebook(docs_json, render_items);\n",
       "\n",
       "  }\n",
       "  if (root.Bokeh !== undefined) {\n",
       "    embed_document(root);\n",
       "  } else {\n",
       "    var attempts = 0;\n",
       "    var timer = setInterval(function(root) {\n",
       "      if (root.Bokeh !== undefined) {\n",
       "        embed_document(root);\n",
       "        clearInterval(timer);\n",
       "      }\n",
       "      attempts++;\n",
       "      if (attempts > 100) {\n",
       "        console.log(\"Bokeh: ERROR: Unable to run BokehJS code because BokehJS library is missing\")\n",
       "        clearInterval(timer);\n",
       "      }\n",
       "    }, 10, root)\n",
       "  }\n",
       "})(window);"
      ],
      "application/vnd.bokehjs_exec.v0+json": ""
     },
     "metadata": {
      "application/vnd.bokehjs_exec.v0+json": {
       "id": "a68dcf0e-d9c1-4d60-9b67-800a78d5b439"
      }
     },
     "output_type": "display_data"
    }
   ],
   "source": [
    "first = Panel(child = row(s1, s2), title = 'first')\n",
    "second = Panel(child = row(s3), title = 'second')\n",
    "tabs = Tabs(tabs = [first, second])\n",
    "show(tabs)"
   ]
  },
  {
   "cell_type": "code",
   "execution_count": 30,
   "metadata": {},
   "outputs": [],
   "source": [
    "s1 = figure(width = 250, height = 250)\n",
    "s2 = figure(width = 250, height = 250)\n",
    "s3 = figure(width = 250, height = 250)\n",
    "\n",
    "s1.circle(x, y0, size = 10, color = 'navy', alpha = 0.5)\n",
    "s2.triangle(x, y1, size = 10, color = 'firebrick', alpha = 0.5)\n",
    "s3.square(x, y2, size = 10, color = 'olive', alpha = 0.5)\n",
    "\n",
    "layout = row(s1, s2, s3)\n",
    "s3.x_range = s2.x_range = s1.x_range\n",
    "s3.y_range = s2.y_range = s1.y_range"
   ]
  },
  {
   "cell_type": "code",
   "execution_count": 31,
   "metadata": {},
   "outputs": [
    {
     "data": {
      "text/html": [
       "\n",
       "<div class=\"bk-root\">\n",
       "    <div class=\"bk-plotdiv\" id=\"562f49d6-0e6d-4883-b33f-86cf7c84a92c\"></div>\n",
       "</div>"
      ]
     },
     "metadata": {},
     "output_type": "display_data"
    },
    {
     "data": {
      "application/javascript": [
       "(function(root) {\n",
       "  function embed_document(root) {\n",
       "    \n",
       "  var docs_json = {\"9e2bebba-a2f0-4218-b96b-c8f02451b9a1\":{\"roots\":{\"references\":[{\"attributes\":{\"dimension\":1,\"plot\":{\"id\":\"33402d4e-9443-4d3f-b592-85382a96536d\",\"subtype\":\"Figure\",\"type\":\"Plot\"},\"ticker\":{\"id\":\"7c1dbefb-988e-4c32-8615-4325df4b8da5\",\"type\":\"BasicTicker\"}},\"id\":\"84dc1ed2-f879-4dec-aad4-1222be5115c1\",\"type\":\"Grid\"},{\"attributes\":{\"source\":{\"id\":\"b77a3c67-f23b-4f3e-9900-db9bb7847969\",\"type\":\"ColumnDataSource\"}},\"id\":\"eb2849c4-7458-4a2a-a5e6-9e1956f177bc\",\"type\":\"CDSView\"},{\"attributes\":{},\"id\":\"a1ae4c60-fefb-41da-89ef-417f2d836ee7\",\"type\":\"ResetTool\"},{\"attributes\":{},\"id\":\"f602f3ba-3b11-4011-bda0-9494591a89b7\",\"type\":\"BasicTickFormatter\"},{\"attributes\":{},\"id\":\"6e7630a4-5b96-489d-8e34-ecf2deea0351\",\"type\":\"SaveTool\"},{\"attributes\":{\"fill_alpha\":{\"value\":0.1},\"fill_color\":{\"value\":\"#1f77b4\"},\"line_alpha\":{\"value\":0.1},\"line_color\":{\"value\":\"#1f77b4\"},\"size\":{\"units\":\"screen\",\"value\":10},\"x\":{\"field\":\"x\"},\"y\":{\"field\":\"y\"}},\"id\":\"577524c1-880d-4198-acf7-f1ae9ec59ad7\",\"type\":\"Square\"},{\"attributes\":{\"overlay\":{\"id\":\"3935c3a3-2dc0-48a7-a770-07fb1aed6c93\",\"type\":\"BoxAnnotation\"}},\"id\":\"9f400ce5-4cf5-4726-b63e-2dcef6899ce1\",\"type\":\"BoxZoomTool\"},{\"attributes\":{},\"id\":\"7177f473-70b8-4af5-8e52-146a18888cb7\",\"type\":\"WheelZoomTool\"},{\"attributes\":{},\"id\":\"2617bd0e-a6e5-4551-946e-40bf7241d94f\",\"type\":\"PanTool\"},{\"attributes\":{\"data_source\":{\"id\":\"e7ca82d5-faed-4ef7-af64-a7db3f0622dd\",\"type\":\"ColumnDataSource\"},\"glyph\":{\"id\":\"dd70b485-3e10-4f46-b437-402076fa9f2c\",\"type\":\"Square\"},\"hover_glyph\":null,\"muted_glyph\":null,\"nonselection_glyph\":{\"id\":\"577524c1-880d-4198-acf7-f1ae9ec59ad7\",\"type\":\"Square\"},\"selection_glyph\":null,\"view\":{\"id\":\"7bc0dcab-9b96-474c-aba4-1b2a94abcc24\",\"type\":\"CDSView\"}},\"id\":\"0a48a956-6dcd-48c5-a924-09c588fae22a\",\"type\":\"GlyphRenderer\"},{\"attributes\":{\"callback\":null,\"column_names\":[\"x\",\"y\"],\"data\":{\"x\":[0,1,2,3,4,5,6,7,8,9,10],\"y\":[10,9,8,7,6,5,4,3,2,1,0]},\"selected\":null,\"selection_policy\":null},\"id\":\"c4dd162d-3e18-49dc-bfdd-d7eb15afa9f5\",\"type\":\"ColumnDataSource\"},{\"attributes\":{\"fill_alpha\":{\"value\":0.1},\"fill_color\":{\"value\":\"#1f77b4\"},\"line_alpha\":{\"value\":0.1},\"line_color\":{\"value\":\"#1f77b4\"},\"size\":{\"units\":\"screen\",\"value\":10},\"x\":{\"field\":\"x\"},\"y\":{\"field\":\"y\"}},\"id\":\"4c0a6301-a718-4584-8a9a-986a7ec42d36\",\"type\":\"Circle\"},{\"attributes\":{\"fill_alpha\":{\"value\":0.5},\"fill_color\":{\"value\":\"olive\"},\"line_alpha\":{\"value\":0.5},\"line_color\":{\"value\":\"olive\"},\"size\":{\"units\":\"screen\",\"value\":10},\"x\":{\"field\":\"x\"},\"y\":{\"field\":\"y\"}},\"id\":\"dd70b485-3e10-4f46-b437-402076fa9f2c\",\"type\":\"Square\"},{\"attributes\":{\"fill_alpha\":{\"value\":0.5},\"fill_color\":{\"value\":\"navy\"},\"line_alpha\":{\"value\":0.5},\"line_color\":{\"value\":\"navy\"},\"size\":{\"units\":\"screen\",\"value\":10},\"x\":{\"field\":\"x\"},\"y\":{\"field\":\"y\"}},\"id\":\"162cb797-1795-4bc5-9414-2dae636baf31\",\"type\":\"Circle\"},{\"attributes\":{\"plot\":null,\"text\":\"\"},\"id\":\"67353768-69a1-4539-9e2c-ec404b16065b\",\"type\":\"Title\"},{\"attributes\":{\"callback\":null,\"column_names\":[\"x\",\"y\"],\"data\":{\"x\":[0,1,2,3,4,5,6,7,8,9,10],\"y\":[0,1,2,3,4,5,6,7,8,9,10]},\"selected\":null,\"selection_policy\":null},\"id\":\"b77a3c67-f23b-4f3e-9900-db9bb7847969\",\"type\":\"ColumnDataSource\"},{\"attributes\":{},\"id\":\"06a199c1-42da-46d7-bc2f-a924e6107dd0\",\"type\":\"HelpTool\"},{\"attributes\":{\"source\":{\"id\":\"e7ca82d5-faed-4ef7-af64-a7db3f0622dd\",\"type\":\"ColumnDataSource\"}},\"id\":\"7bc0dcab-9b96-474c-aba4-1b2a94abcc24\",\"type\":\"CDSView\"},{\"attributes\":{\"below\":[{\"id\":\"e1fba223-bc1e-4b44-a933-a78332b849ba\",\"type\":\"LinearAxis\"}],\"left\":[{\"id\":\"5c9da134-247a-4f90-b501-34aee05b29aa\",\"type\":\"LinearAxis\"}],\"plot_height\":250,\"plot_width\":250,\"renderers\":[{\"id\":\"e1fba223-bc1e-4b44-a933-a78332b849ba\",\"type\":\"LinearAxis\"},{\"id\":\"06787d55-0724-43df-b384-13aa2feaa301\",\"type\":\"Grid\"},{\"id\":\"5c9da134-247a-4f90-b501-34aee05b29aa\",\"type\":\"LinearAxis\"},{\"id\":\"3a38b3ec-4459-46c2-b29e-a4ac2ba4f266\",\"type\":\"Grid\"},{\"id\":\"50b97785-5b15-467d-832c-b92c2fa74e7f\",\"type\":\"BoxAnnotation\"},{\"id\":\"8c8216b8-3f7a-4e64-a73a-7c39f81cb83f\",\"type\":\"GlyphRenderer\"}],\"title\":{\"id\":\"4c272d15-725e-423c-9446-821ab59bef7b\",\"type\":\"Title\"},\"toolbar\":{\"id\":\"f9597437-87b8-45d2-82df-52edf8149d54\",\"type\":\"Toolbar\"},\"x_range\":{\"id\":\"c7fd62a0-d016-47a8-9d38-2e91d0c7789f\",\"type\":\"DataRange1d\"},\"x_scale\":{\"id\":\"18488127-4b78-4897-922a-f65082914fb7\",\"type\":\"LinearScale\"},\"y_range\":{\"id\":\"064323d3-0965-4b2f-8f9d-eefd38973488\",\"type\":\"DataRange1d\"},\"y_scale\":{\"id\":\"49dfa614-4a71-4696-b5f9-99a5a8ef3ccf\",\"type\":\"LinearScale\"}},\"id\":\"d8e2404c-bcf9-4dad-97c3-0bbc90871f5b\",\"subtype\":\"Figure\",\"type\":\"Plot\"},{\"attributes\":{\"below\":[{\"id\":\"ed4a4742-c772-40ec-945e-70cea99d16b7\",\"type\":\"LinearAxis\"}],\"left\":[{\"id\":\"48a174e3-f327-453f-880b-e2b5acfee1f9\",\"type\":\"LinearAxis\"}],\"plot_height\":250,\"plot_width\":250,\"renderers\":[{\"id\":\"ed4a4742-c772-40ec-945e-70cea99d16b7\",\"type\":\"LinearAxis\"},{\"id\":\"2ee153b6-691e-4046-8da7-c239a30a0b9a\",\"type\":\"Grid\"},{\"id\":\"48a174e3-f327-453f-880b-e2b5acfee1f9\",\"type\":\"LinearAxis\"},{\"id\":\"a3d695fa-aa5e-4d52-87b4-900a2a01918d\",\"type\":\"Grid\"},{\"id\":\"bde4d33b-f616-48f5-8213-db68759fc535\",\"type\":\"BoxAnnotation\"},{\"id\":\"25779e16-a200-48c7-b553-3ecb1c31f033\",\"type\":\"GlyphRenderer\"}],\"title\":{\"id\":\"5f03d39d-c943-4496-9426-0fc4d1556d23\",\"type\":\"Title\"},\"toolbar\":{\"id\":\"e21de12c-8b49-49dd-87b6-7206fc92200f\",\"type\":\"Toolbar\"},\"x_range\":{\"id\":\"c7fd62a0-d016-47a8-9d38-2e91d0c7789f\",\"type\":\"DataRange1d\"},\"x_scale\":{\"id\":\"c13a7900-fa10-4ed6-868b-020fe08cc6c4\",\"type\":\"LinearScale\"},\"y_range\":{\"id\":\"064323d3-0965-4b2f-8f9d-eefd38973488\",\"type\":\"DataRange1d\"},\"y_scale\":{\"id\":\"605beb30-6b6a-479b-bcaa-0745cd44180d\",\"type\":\"LinearScale\"}},\"id\":\"47b40944-b012-46ed-9553-f19a32f2f031\",\"subtype\":\"Figure\",\"type\":\"Plot\"},{\"attributes\":{},\"id\":\"3ddf0e95-d3eb-4920-b2c7-a5ea7d233c6f\",\"type\":\"BasicTickFormatter\"},{\"attributes\":{\"formatter\":{\"id\":\"3ddf0e95-d3eb-4920-b2c7-a5ea7d233c6f\",\"type\":\"BasicTickFormatter\"},\"plot\":{\"id\":\"33402d4e-9443-4d3f-b592-85382a96536d\",\"subtype\":\"Figure\",\"type\":\"Plot\"},\"ticker\":{\"id\":\"0ad95732-20a5-4341-bbd3-a9a2fb73c8fb\",\"type\":\"BasicTicker\"}},\"id\":\"b215d65e-409b-4044-af12-6c6b60e93b7d\",\"type\":\"LinearAxis\"},{\"attributes\":{\"active_drag\":\"auto\",\"active_inspect\":\"auto\",\"active_scroll\":\"auto\",\"active_tap\":\"auto\",\"tools\":[{\"id\":\"2617bd0e-a6e5-4551-946e-40bf7241d94f\",\"type\":\"PanTool\"},{\"id\":\"7177f473-70b8-4af5-8e52-146a18888cb7\",\"type\":\"WheelZoomTool\"},{\"id\":\"9f400ce5-4cf5-4726-b63e-2dcef6899ce1\",\"type\":\"BoxZoomTool\"},{\"id\":\"6e7630a4-5b96-489d-8e34-ecf2deea0351\",\"type\":\"SaveTool\"},{\"id\":\"a1ae4c60-fefb-41da-89ef-417f2d836ee7\",\"type\":\"ResetTool\"},{\"id\":\"06a199c1-42da-46d7-bc2f-a924e6107dd0\",\"type\":\"HelpTool\"}]},\"id\":\"a4942594-a695-4d4d-94df-5694e226a52d\",\"type\":\"Toolbar\"},{\"attributes\":{\"active_drag\":\"auto\",\"active_inspect\":\"auto\",\"active_scroll\":\"auto\",\"active_tap\":\"auto\",\"tools\":[{\"id\":\"c59c5086-15cc-4ef2-a5bd-6c05caf893c4\",\"type\":\"PanTool\"},{\"id\":\"3ae3aee6-7b59-4293-8e91-433100e1191f\",\"type\":\"WheelZoomTool\"},{\"id\":\"13359075-2280-41c8-84e5-ed6717a0e4ce\",\"type\":\"BoxZoomTool\"},{\"id\":\"8bbae4de-5194-4c56-90a8-9182bc2cdc40\",\"type\":\"SaveTool\"},{\"id\":\"df82c6c8-43a2-4bb8-9e92-138fa4fadc82\",\"type\":\"ResetTool\"},{\"id\":\"e646fea3-2232-4172-b9ff-307632183b79\",\"type\":\"HelpTool\"}]},\"id\":\"f9597437-87b8-45d2-82df-52edf8149d54\",\"type\":\"Toolbar\"},{\"attributes\":{},\"id\":\"ec4568d9-8788-4a48-a534-785994f3e85d\",\"type\":\"LinearScale\"},{\"attributes\":{\"callback\":null},\"id\":\"c7fd62a0-d016-47a8-9d38-2e91d0c7789f\",\"type\":\"DataRange1d\"},{\"attributes\":{},\"id\":\"09a164f4-f7fd-4386-b92d-5ad026362972\",\"type\":\"LinearScale\"},{\"attributes\":{\"callback\":null},\"id\":\"064323d3-0965-4b2f-8f9d-eefd38973488\",\"type\":\"DataRange1d\"},{\"attributes\":{\"plot\":{\"id\":\"33402d4e-9443-4d3f-b592-85382a96536d\",\"subtype\":\"Figure\",\"type\":\"Plot\"},\"ticker\":{\"id\":\"0ad95732-20a5-4341-bbd3-a9a2fb73c8fb\",\"type\":\"BasicTicker\"}},\"id\":\"e07484f0-0641-4f11-8903-fe7b50496034\",\"type\":\"Grid\"},{\"attributes\":{},\"id\":\"18488127-4b78-4897-922a-f65082914fb7\",\"type\":\"LinearScale\"},{\"attributes\":{},\"id\":\"0ad95732-20a5-4341-bbd3-a9a2fb73c8fb\",\"type\":\"BasicTicker\"},{\"attributes\":{},\"id\":\"49dfa614-4a71-4696-b5f9-99a5a8ef3ccf\",\"type\":\"LinearScale\"},{\"attributes\":{\"formatter\":{\"id\":\"f602f3ba-3b11-4011-bda0-9494591a89b7\",\"type\":\"BasicTickFormatter\"},\"plot\":{\"id\":\"33402d4e-9443-4d3f-b592-85382a96536d\",\"subtype\":\"Figure\",\"type\":\"Plot\"},\"ticker\":{\"id\":\"7c1dbefb-988e-4c32-8615-4325df4b8da5\",\"type\":\"BasicTicker\"}},\"id\":\"1ee19071-00ac-421c-85cb-a4be04712fa8\",\"type\":\"LinearAxis\"},{\"attributes\":{\"plot\":{\"id\":\"d8e2404c-bcf9-4dad-97c3-0bbc90871f5b\",\"subtype\":\"Figure\",\"type\":\"Plot\"},\"ticker\":{\"id\":\"8b9e7d3e-c050-444d-b4ba-58eb917528b6\",\"type\":\"BasicTicker\"}},\"id\":\"06787d55-0724-43df-b384-13aa2feaa301\",\"type\":\"Grid\"},{\"attributes\":{},\"id\":\"7c1dbefb-988e-4c32-8615-4325df4b8da5\",\"type\":\"BasicTicker\"},{\"attributes\":{\"formatter\":{\"id\":\"fcfb2e1a-b2a0-4c3f-9218-0e92b81b8188\",\"type\":\"BasicTickFormatter\"},\"plot\":{\"id\":\"d8e2404c-bcf9-4dad-97c3-0bbc90871f5b\",\"subtype\":\"Figure\",\"type\":\"Plot\"},\"ticker\":{\"id\":\"8b9e7d3e-c050-444d-b4ba-58eb917528b6\",\"type\":\"BasicTicker\"}},\"id\":\"e1fba223-bc1e-4b44-a933-a78332b849ba\",\"type\":\"LinearAxis\"},{\"attributes\":{},\"id\":\"8b9e7d3e-c050-444d-b4ba-58eb917528b6\",\"type\":\"BasicTicker\"},{\"attributes\":{\"children\":[{\"id\":\"d8e2404c-bcf9-4dad-97c3-0bbc90871f5b\",\"subtype\":\"Figure\",\"type\":\"Plot\"},{\"id\":\"47b40944-b012-46ed-9553-f19a32f2f031\",\"subtype\":\"Figure\",\"type\":\"Plot\"},{\"id\":\"33402d4e-9443-4d3f-b592-85382a96536d\",\"subtype\":\"Figure\",\"type\":\"Plot\"}]},\"id\":\"974d533c-d500-406d-9800-b34c2632df7d\",\"type\":\"Row\"},{\"attributes\":{\"formatter\":{\"id\":\"140dd399-179d-4f3c-872a-3100bf729777\",\"type\":\"BasicTickFormatter\"},\"plot\":{\"id\":\"d8e2404c-bcf9-4dad-97c3-0bbc90871f5b\",\"subtype\":\"Figure\",\"type\":\"Plot\"},\"ticker\":{\"id\":\"bffc4f18-10bc-4fdb-9d85-d27aef25f7ac\",\"type\":\"BasicTicker\"}},\"id\":\"5c9da134-247a-4f90-b501-34aee05b29aa\",\"type\":\"LinearAxis\"},{\"attributes\":{\"bottom_units\":\"screen\",\"fill_alpha\":{\"value\":0.5},\"fill_color\":{\"value\":\"lightgrey\"},\"left_units\":\"screen\",\"level\":\"overlay\",\"line_alpha\":{\"value\":1.0},\"line_color\":{\"value\":\"black\"},\"line_dash\":[4,4],\"line_width\":{\"value\":2},\"plot\":null,\"render_mode\":\"css\",\"right_units\":\"screen\",\"top_units\":\"screen\"},\"id\":\"3935c3a3-2dc0-48a7-a770-07fb1aed6c93\",\"type\":\"BoxAnnotation\"},{\"attributes\":{},\"id\":\"bffc4f18-10bc-4fdb-9d85-d27aef25f7ac\",\"type\":\"BasicTicker\"},{\"attributes\":{\"dimension\":1,\"plot\":{\"id\":\"d8e2404c-bcf9-4dad-97c3-0bbc90871f5b\",\"subtype\":\"Figure\",\"type\":\"Plot\"},\"ticker\":{\"id\":\"bffc4f18-10bc-4fdb-9d85-d27aef25f7ac\",\"type\":\"BasicTicker\"}},\"id\":\"3a38b3ec-4459-46c2-b29e-a4ac2ba4f266\",\"type\":\"Grid\"},{\"attributes\":{\"data_source\":{\"id\":\"b77a3c67-f23b-4f3e-9900-db9bb7847969\",\"type\":\"ColumnDataSource\"},\"glyph\":{\"id\":\"162cb797-1795-4bc5-9414-2dae636baf31\",\"type\":\"Circle\"},\"hover_glyph\":null,\"muted_glyph\":null,\"nonselection_glyph\":{\"id\":\"4c0a6301-a718-4584-8a9a-986a7ec42d36\",\"type\":\"Circle\"},\"selection_glyph\":null,\"view\":{\"id\":\"eb2849c4-7458-4a2a-a5e6-9e1956f177bc\",\"type\":\"CDSView\"}},\"id\":\"8c8216b8-3f7a-4e64-a73a-7c39f81cb83f\",\"type\":\"GlyphRenderer\"},{\"attributes\":{\"active_drag\":\"auto\",\"active_inspect\":\"auto\",\"active_scroll\":\"auto\",\"active_tap\":\"auto\",\"tools\":[{\"id\":\"fbefbdf2-26a2-4935-95e2-ac64d1245bd8\",\"type\":\"PanTool\"},{\"id\":\"1a515945-0b67-494e-9a7e-c88d72793a7c\",\"type\":\"WheelZoomTool\"},{\"id\":\"cebee390-195b-42a7-b332-4a161e5237fb\",\"type\":\"BoxZoomTool\"},{\"id\":\"45c3322f-17cc-48bc-a30b-346a0f2f69d1\",\"type\":\"SaveTool\"},{\"id\":\"39509294-b157-4179-b31a-b4b9bdc542be\",\"type\":\"ResetTool\"},{\"id\":\"0f4e7dd1-c806-429d-a2a5-1fd338abad14\",\"type\":\"HelpTool\"}]},\"id\":\"e21de12c-8b49-49dd-87b6-7206fc92200f\",\"type\":\"Toolbar\"},{\"attributes\":{\"below\":[{\"id\":\"b215d65e-409b-4044-af12-6c6b60e93b7d\",\"type\":\"LinearAxis\"}],\"left\":[{\"id\":\"1ee19071-00ac-421c-85cb-a4be04712fa8\",\"type\":\"LinearAxis\"}],\"plot_height\":250,\"plot_width\":250,\"renderers\":[{\"id\":\"b215d65e-409b-4044-af12-6c6b60e93b7d\",\"type\":\"LinearAxis\"},{\"id\":\"e07484f0-0641-4f11-8903-fe7b50496034\",\"type\":\"Grid\"},{\"id\":\"1ee19071-00ac-421c-85cb-a4be04712fa8\",\"type\":\"LinearAxis\"},{\"id\":\"84dc1ed2-f879-4dec-aad4-1222be5115c1\",\"type\":\"Grid\"},{\"id\":\"3935c3a3-2dc0-48a7-a770-07fb1aed6c93\",\"type\":\"BoxAnnotation\"},{\"id\":\"0a48a956-6dcd-48c5-a924-09c588fae22a\",\"type\":\"GlyphRenderer\"}],\"title\":{\"id\":\"67353768-69a1-4539-9e2c-ec404b16065b\",\"type\":\"Title\"},\"toolbar\":{\"id\":\"a4942594-a695-4d4d-94df-5694e226a52d\",\"type\":\"Toolbar\"},\"x_range\":{\"id\":\"c7fd62a0-d016-47a8-9d38-2e91d0c7789f\",\"type\":\"DataRange1d\"},\"x_scale\":{\"id\":\"ec4568d9-8788-4a48-a534-785994f3e85d\",\"type\":\"LinearScale\"},\"y_range\":{\"id\":\"064323d3-0965-4b2f-8f9d-eefd38973488\",\"type\":\"DataRange1d\"},\"y_scale\":{\"id\":\"09a164f4-f7fd-4386-b92d-5ad026362972\",\"type\":\"LinearScale\"}},\"id\":\"33402d4e-9443-4d3f-b592-85382a96536d\",\"subtype\":\"Figure\",\"type\":\"Plot\"},{\"attributes\":{\"bottom_units\":\"screen\",\"fill_alpha\":{\"value\":0.5},\"fill_color\":{\"value\":\"lightgrey\"},\"left_units\":\"screen\",\"level\":\"overlay\",\"line_alpha\":{\"value\":1.0},\"line_color\":{\"value\":\"black\"},\"line_dash\":[4,4],\"line_width\":{\"value\":2},\"plot\":null,\"render_mode\":\"css\",\"right_units\":\"screen\",\"top_units\":\"screen\"},\"id\":\"50b97785-5b15-467d-832c-b92c2fa74e7f\",\"type\":\"BoxAnnotation\"},{\"attributes\":{},\"id\":\"c59c5086-15cc-4ef2-a5bd-6c05caf893c4\",\"type\":\"PanTool\"},{\"attributes\":{},\"id\":\"3ae3aee6-7b59-4293-8e91-433100e1191f\",\"type\":\"WheelZoomTool\"},{\"attributes\":{\"overlay\":{\"id\":\"50b97785-5b15-467d-832c-b92c2fa74e7f\",\"type\":\"BoxAnnotation\"}},\"id\":\"13359075-2280-41c8-84e5-ed6717a0e4ce\",\"type\":\"BoxZoomTool\"},{\"attributes\":{},\"id\":\"8bbae4de-5194-4c56-90a8-9182bc2cdc40\",\"type\":\"SaveTool\"},{\"attributes\":{\"fill_alpha\":{\"value\":0.5},\"fill_color\":{\"value\":\"firebrick\"},\"line_alpha\":{\"value\":0.5},\"line_color\":{\"value\":\"firebrick\"},\"size\":{\"units\":\"screen\",\"value\":10},\"x\":{\"field\":\"x\"},\"y\":{\"field\":\"y\"}},\"id\":\"f5038e6e-d309-43df-8234-4914175b01e0\",\"type\":\"Triangle\"},{\"attributes\":{},\"id\":\"df82c6c8-43a2-4bb8-9e92-138fa4fadc82\",\"type\":\"ResetTool\"},{\"attributes\":{\"callback\":null,\"column_names\":[\"x\",\"y\"],\"data\":{\"x\":[0,1,2,3,4,5,6,7,8,9,10],\"y\":[5,4,3,2,1,0,1,2,3,4,5]},\"selected\":null,\"selection_policy\":null},\"id\":\"e7ca82d5-faed-4ef7-af64-a7db3f0622dd\",\"type\":\"ColumnDataSource\"},{\"attributes\":{},\"id\":\"e646fea3-2232-4172-b9ff-307632183b79\",\"type\":\"HelpTool\"},{\"attributes\":{\"plot\":null,\"text\":\"\"},\"id\":\"5f03d39d-c943-4496-9426-0fc4d1556d23\",\"type\":\"Title\"},{\"attributes\":{\"plot\":{\"id\":\"47b40944-b012-46ed-9553-f19a32f2f031\",\"subtype\":\"Figure\",\"type\":\"Plot\"},\"ticker\":{\"id\":\"c4b4d9e2-0fb8-412d-9f17-ca21e8fe435f\",\"type\":\"BasicTicker\"}},\"id\":\"2ee153b6-691e-4046-8da7-c239a30a0b9a\",\"type\":\"Grid\"},{\"attributes\":{},\"id\":\"c13a7900-fa10-4ed6-868b-020fe08cc6c4\",\"type\":\"LinearScale\"},{\"attributes\":{\"fill_alpha\":{\"value\":0.1},\"fill_color\":{\"value\":\"#1f77b4\"},\"line_alpha\":{\"value\":0.1},\"line_color\":{\"value\":\"#1f77b4\"},\"size\":{\"units\":\"screen\",\"value\":10},\"x\":{\"field\":\"x\"},\"y\":{\"field\":\"y\"}},\"id\":\"906ce829-c863-49b9-a1d4-8e3d94c9a3cb\",\"type\":\"Triangle\"},{\"attributes\":{},\"id\":\"605beb30-6b6a-479b-bcaa-0745cd44180d\",\"type\":\"LinearScale\"},{\"attributes\":{\"data_source\":{\"id\":\"c4dd162d-3e18-49dc-bfdd-d7eb15afa9f5\",\"type\":\"ColumnDataSource\"},\"glyph\":{\"id\":\"f5038e6e-d309-43df-8234-4914175b01e0\",\"type\":\"Triangle\"},\"hover_glyph\":null,\"muted_glyph\":null,\"nonselection_glyph\":{\"id\":\"906ce829-c863-49b9-a1d4-8e3d94c9a3cb\",\"type\":\"Triangle\"},\"selection_glyph\":null,\"view\":{\"id\":\"305e0922-3fb8-4196-b442-e32f7259485a\",\"type\":\"CDSView\"}},\"id\":\"25779e16-a200-48c7-b553-3ecb1c31f033\",\"type\":\"GlyphRenderer\"},{\"attributes\":{\"formatter\":{\"id\":\"816fc913-7790-404d-a6b9-b20f8257b858\",\"type\":\"BasicTickFormatter\"},\"plot\":{\"id\":\"47b40944-b012-46ed-9553-f19a32f2f031\",\"subtype\":\"Figure\",\"type\":\"Plot\"},\"ticker\":{\"id\":\"c4b4d9e2-0fb8-412d-9f17-ca21e8fe435f\",\"type\":\"BasicTicker\"}},\"id\":\"ed4a4742-c772-40ec-945e-70cea99d16b7\",\"type\":\"LinearAxis\"},{\"attributes\":{\"source\":{\"id\":\"c4dd162d-3e18-49dc-bfdd-d7eb15afa9f5\",\"type\":\"ColumnDataSource\"}},\"id\":\"305e0922-3fb8-4196-b442-e32f7259485a\",\"type\":\"CDSView\"},{\"attributes\":{},\"id\":\"816fc913-7790-404d-a6b9-b20f8257b858\",\"type\":\"BasicTickFormatter\"},{\"attributes\":{\"formatter\":{\"id\":\"b6974eba-b25c-42cd-a9e6-13165c535d9e\",\"type\":\"BasicTickFormatter\"},\"plot\":{\"id\":\"47b40944-b012-46ed-9553-f19a32f2f031\",\"subtype\":\"Figure\",\"type\":\"Plot\"},\"ticker\":{\"id\":\"7a48ecd8-c327-4234-af90-677e0bebcf67\",\"type\":\"BasicTicker\"}},\"id\":\"48a174e3-f327-453f-880b-e2b5acfee1f9\",\"type\":\"LinearAxis\"},{\"attributes\":{},\"id\":\"c4b4d9e2-0fb8-412d-9f17-ca21e8fe435f\",\"type\":\"BasicTicker\"},{\"attributes\":{\"dimension\":1,\"plot\":{\"id\":\"47b40944-b012-46ed-9553-f19a32f2f031\",\"subtype\":\"Figure\",\"type\":\"Plot\"},\"ticker\":{\"id\":\"7a48ecd8-c327-4234-af90-677e0bebcf67\",\"type\":\"BasicTicker\"}},\"id\":\"a3d695fa-aa5e-4d52-87b4-900a2a01918d\",\"type\":\"Grid\"},{\"attributes\":{},\"id\":\"7a48ecd8-c327-4234-af90-677e0bebcf67\",\"type\":\"BasicTicker\"},{\"attributes\":{},\"id\":\"fcfb2e1a-b2a0-4c3f-9218-0e92b81b8188\",\"type\":\"BasicTickFormatter\"},{\"attributes\":{\"bottom_units\":\"screen\",\"fill_alpha\":{\"value\":0.5},\"fill_color\":{\"value\":\"lightgrey\"},\"left_units\":\"screen\",\"level\":\"overlay\",\"line_alpha\":{\"value\":1.0},\"line_color\":{\"value\":\"black\"},\"line_dash\":[4,4],\"line_width\":{\"value\":2},\"plot\":null,\"render_mode\":\"css\",\"right_units\":\"screen\",\"top_units\":\"screen\"},\"id\":\"bde4d33b-f616-48f5-8213-db68759fc535\",\"type\":\"BoxAnnotation\"},{\"attributes\":{\"plot\":null,\"text\":\"\"},\"id\":\"4c272d15-725e-423c-9446-821ab59bef7b\",\"type\":\"Title\"},{\"attributes\":{},\"id\":\"fbefbdf2-26a2-4935-95e2-ac64d1245bd8\",\"type\":\"PanTool\"},{\"attributes\":{},\"id\":\"140dd399-179d-4f3c-872a-3100bf729777\",\"type\":\"BasicTickFormatter\"},{\"attributes\":{},\"id\":\"1a515945-0b67-494e-9a7e-c88d72793a7c\",\"type\":\"WheelZoomTool\"},{\"attributes\":{\"overlay\":{\"id\":\"bde4d33b-f616-48f5-8213-db68759fc535\",\"type\":\"BoxAnnotation\"}},\"id\":\"cebee390-195b-42a7-b332-4a161e5237fb\",\"type\":\"BoxZoomTool\"},{\"attributes\":{},\"id\":\"45c3322f-17cc-48bc-a30b-346a0f2f69d1\",\"type\":\"SaveTool\"},{\"attributes\":{},\"id\":\"39509294-b157-4179-b31a-b4b9bdc542be\",\"type\":\"ResetTool\"},{\"attributes\":{},\"id\":\"b6974eba-b25c-42cd-a9e6-13165c535d9e\",\"type\":\"BasicTickFormatter\"},{\"attributes\":{},\"id\":\"0f4e7dd1-c806-429d-a2a5-1fd338abad14\",\"type\":\"HelpTool\"}],\"root_ids\":[\"974d533c-d500-406d-9800-b34c2632df7d\"]},\"title\":\"Bokeh Application\",\"version\":\"0.12.15\"}};\n",
       "  var render_items = [{\"docid\":\"9e2bebba-a2f0-4218-b96b-c8f02451b9a1\",\"elementid\":\"562f49d6-0e6d-4883-b33f-86cf7c84a92c\",\"modelid\":\"974d533c-d500-406d-9800-b34c2632df7d\"}];\n",
       "  root.Bokeh.embed.embed_items_notebook(docs_json, render_items);\n",
       "\n",
       "  }\n",
       "  if (root.Bokeh !== undefined) {\n",
       "    embed_document(root);\n",
       "  } else {\n",
       "    var attempts = 0;\n",
       "    var timer = setInterval(function(root) {\n",
       "      if (root.Bokeh !== undefined) {\n",
       "        embed_document(root);\n",
       "        clearInterval(timer);\n",
       "      }\n",
       "      attempts++;\n",
       "      if (attempts > 100) {\n",
       "        console.log(\"Bokeh: ERROR: Unable to run BokehJS code because BokehJS library is missing\")\n",
       "        clearInterval(timer);\n",
       "      }\n",
       "    }, 10, root)\n",
       "  }\n",
       "})(window);"
      ],
      "application/vnd.bokehjs_exec.v0+json": ""
     },
     "metadata": {
      "application/vnd.bokehjs_exec.v0+json": {
       "id": "974d533c-d500-406d-9800-b34c2632df7d"
      }
     },
     "output_type": "display_data"
    }
   ],
   "source": [
    "show(layout)"
   ]
  },
  {
   "cell_type": "code",
   "execution_count": null,
   "metadata": {},
   "outputs": [],
   "source": []
  }
 ],
 "metadata": {
  "kernelspec": {
   "display_name": "Python 3",
   "language": "python",
   "name": "python3"
  },
  "language_info": {
   "codemirror_mode": {
    "name": "ipython",
    "version": 3
   },
   "file_extension": ".py",
   "mimetype": "text/x-python",
   "name": "python",
   "nbconvert_exporter": "python",
   "pygments_lexer": "ipython3",
   "version": "3.6.5"
  }
 },
 "nbformat": 4,
 "nbformat_minor": 2
}
