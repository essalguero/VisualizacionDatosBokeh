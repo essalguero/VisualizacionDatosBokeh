{
 "cells": [
  {
   "cell_type": "markdown",
   "metadata": {},
   "source": [
    "# Bokeh "
   ]
  },
  {
   "cell_type": "code",
   "execution_count": 1,
   "metadata": {},
   "outputs": [],
   "source": [
    "import pandas as pd"
   ]
  },
  {
   "cell_type": "code",
   "execution_count": 2,
   "metadata": {},
   "outputs": [],
   "source": [
    "from bokeh.plotting import figure"
   ]
  },
  {
   "cell_type": "code",
   "execution_count": 3,
   "metadata": {},
   "outputs": [],
   "source": [
    "from bokeh.io import show, output_notebook, output_file"
   ]
  },
  {
   "cell_type": "markdown",
   "metadata": {},
   "source": [
    "## Ejemplo plot"
   ]
  },
  {
   "cell_type": "code",
   "execution_count": 4,
   "metadata": {},
   "outputs": [
    {
     "data": {
      "text/html": [
       "\n",
       "    <div class=\"bk-root\">\n",
       "        <a href=\"https://bokeh.pydata.org\" target=\"_blank\" class=\"bk-logo bk-logo-small bk-logo-notebook\"></a>\n",
       "        <span id=\"8232dccf-4f83-494f-a189-3302e00bccd7\">Loading BokehJS ...</span>\n",
       "    </div>"
      ]
     },
     "metadata": {},
     "output_type": "display_data"
    },
    {
     "data": {
      "application/javascript": [
       "\n",
       "(function(root) {\n",
       "  function now() {\n",
       "    return new Date();\n",
       "  }\n",
       "\n",
       "  var force = true;\n",
       "\n",
       "  if (typeof (root._bokeh_onload_callbacks) === \"undefined\" || force === true) {\n",
       "    root._bokeh_onload_callbacks = [];\n",
       "    root._bokeh_is_loading = undefined;\n",
       "  }\n",
       "\n",
       "  var JS_MIME_TYPE = 'application/javascript';\n",
       "  var HTML_MIME_TYPE = 'text/html';\n",
       "  var EXEC_MIME_TYPE = 'application/vnd.bokehjs_exec.v0+json';\n",
       "  var CLASS_NAME = 'output_bokeh rendered_html';\n",
       "\n",
       "  /**\n",
       "   * Render data to the DOM node\n",
       "   */\n",
       "  function render(props, node) {\n",
       "    var script = document.createElement(\"script\");\n",
       "    node.appendChild(script);\n",
       "  }\n",
       "\n",
       "  /**\n",
       "   * Handle when an output is cleared or removed\n",
       "   */\n",
       "  function handleClearOutput(event, handle) {\n",
       "    var cell = handle.cell;\n",
       "\n",
       "    var id = cell.output_area._bokeh_element_id;\n",
       "    var server_id = cell.output_area._bokeh_server_id;\n",
       "    // Clean up Bokeh references\n",
       "    if (id !== undefined) {\n",
       "      Bokeh.index[id].model.document.clear();\n",
       "      delete Bokeh.index[id];\n",
       "    }\n",
       "\n",
       "    if (server_id !== undefined) {\n",
       "      // Clean up Bokeh references\n",
       "      var cmd = \"from bokeh.io.state import curstate; print(curstate().uuid_to_server['\" + server_id + \"'].get_sessions()[0].document.roots[0]._id)\";\n",
       "      cell.notebook.kernel.execute(cmd, {\n",
       "        iopub: {\n",
       "          output: function(msg) {\n",
       "            var element_id = msg.content.text.trim();\n",
       "            Bokeh.index[element_id].model.document.clear();\n",
       "            delete Bokeh.index[element_id];\n",
       "          }\n",
       "        }\n",
       "      });\n",
       "      // Destroy server and session\n",
       "      var cmd = \"import bokeh.io.notebook as ion; ion.destroy_server('\" + server_id + \"')\";\n",
       "      cell.notebook.kernel.execute(cmd);\n",
       "    }\n",
       "  }\n",
       "\n",
       "  /**\n",
       "   * Handle when a new output is added\n",
       "   */\n",
       "  function handleAddOutput(event, handle) {\n",
       "    var output_area = handle.output_area;\n",
       "    var output = handle.output;\n",
       "\n",
       "    // limit handleAddOutput to display_data with EXEC_MIME_TYPE content only\n",
       "    if ((output.output_type != \"display_data\") || (!output.data.hasOwnProperty(EXEC_MIME_TYPE))) {\n",
       "      return\n",
       "    }\n",
       "\n",
       "    var toinsert = output_area.element.find(\".\" + CLASS_NAME.split(' ')[0]);\n",
       "\n",
       "    if (output.metadata[EXEC_MIME_TYPE][\"id\"] !== undefined) {\n",
       "      toinsert[toinsert.length - 1].firstChild.textContent = output.data[JS_MIME_TYPE];\n",
       "      // store reference to embed id on output_area\n",
       "      output_area._bokeh_element_id = output.metadata[EXEC_MIME_TYPE][\"id\"];\n",
       "    }\n",
       "    if (output.metadata[EXEC_MIME_TYPE][\"server_id\"] !== undefined) {\n",
       "      var bk_div = document.createElement(\"div\");\n",
       "      bk_div.innerHTML = output.data[HTML_MIME_TYPE];\n",
       "      var script_attrs = bk_div.children[0].attributes;\n",
       "      for (var i = 0; i < script_attrs.length; i++) {\n",
       "        toinsert[toinsert.length - 1].firstChild.setAttribute(script_attrs[i].name, script_attrs[i].value);\n",
       "      }\n",
       "      // store reference to server id on output_area\n",
       "      output_area._bokeh_server_id = output.metadata[EXEC_MIME_TYPE][\"server_id\"];\n",
       "    }\n",
       "  }\n",
       "\n",
       "  function register_renderer(events, OutputArea) {\n",
       "\n",
       "    function append_mime(data, metadata, element) {\n",
       "      // create a DOM node to render to\n",
       "      var toinsert = this.create_output_subarea(\n",
       "        metadata,\n",
       "        CLASS_NAME,\n",
       "        EXEC_MIME_TYPE\n",
       "      );\n",
       "      this.keyboard_manager.register_events(toinsert);\n",
       "      // Render to node\n",
       "      var props = {data: data, metadata: metadata[EXEC_MIME_TYPE]};\n",
       "      render(props, toinsert[toinsert.length - 1]);\n",
       "      element.append(toinsert);\n",
       "      return toinsert\n",
       "    }\n",
       "\n",
       "    /* Handle when an output is cleared or removed */\n",
       "    events.on('clear_output.CodeCell', handleClearOutput);\n",
       "    events.on('delete.Cell', handleClearOutput);\n",
       "\n",
       "    /* Handle when a new output is added */\n",
       "    events.on('output_added.OutputArea', handleAddOutput);\n",
       "\n",
       "    /**\n",
       "     * Register the mime type and append_mime function with output_area\n",
       "     */\n",
       "    OutputArea.prototype.register_mime_type(EXEC_MIME_TYPE, append_mime, {\n",
       "      /* Is output safe? */\n",
       "      safe: true,\n",
       "      /* Index of renderer in `output_area.display_order` */\n",
       "      index: 0\n",
       "    });\n",
       "  }\n",
       "\n",
       "  // register the mime type if in Jupyter Notebook environment and previously unregistered\n",
       "  if (root.Jupyter !== undefined) {\n",
       "    var events = require('base/js/events');\n",
       "    var OutputArea = require('notebook/js/outputarea').OutputArea;\n",
       "\n",
       "    if (OutputArea.prototype.mime_types().indexOf(EXEC_MIME_TYPE) == -1) {\n",
       "      register_renderer(events, OutputArea);\n",
       "    }\n",
       "  }\n",
       "\n",
       "  \n",
       "  if (typeof (root._bokeh_timeout) === \"undefined\" || force === true) {\n",
       "    root._bokeh_timeout = Date.now() + 5000;\n",
       "    root._bokeh_failed_load = false;\n",
       "  }\n",
       "\n",
       "  var NB_LOAD_WARNING = {'data': {'text/html':\n",
       "     \"<div style='background-color: #fdd'>\\n\"+\n",
       "     \"<p>\\n\"+\n",
       "     \"BokehJS does not appear to have successfully loaded. If loading BokehJS from CDN, this \\n\"+\n",
       "     \"may be due to a slow or bad network connection. Possible fixes:\\n\"+\n",
       "     \"</p>\\n\"+\n",
       "     \"<ul>\\n\"+\n",
       "     \"<li>re-rerun `output_notebook()` to attempt to load from CDN again, or</li>\\n\"+\n",
       "     \"<li>use INLINE resources instead, as so:</li>\\n\"+\n",
       "     \"</ul>\\n\"+\n",
       "     \"<code>\\n\"+\n",
       "     \"from bokeh.resources import INLINE\\n\"+\n",
       "     \"output_notebook(resources=INLINE)\\n\"+\n",
       "     \"</code>\\n\"+\n",
       "     \"</div>\"}};\n",
       "\n",
       "  function display_loaded() {\n",
       "    var el = document.getElementById(\"8232dccf-4f83-494f-a189-3302e00bccd7\");\n",
       "    if (el != null) {\n",
       "      el.textContent = \"BokehJS is loading...\";\n",
       "    }\n",
       "    if (root.Bokeh !== undefined) {\n",
       "      if (el != null) {\n",
       "        el.textContent = \"BokehJS \" + root.Bokeh.version + \" successfully loaded.\";\n",
       "      }\n",
       "    } else if (Date.now() < root._bokeh_timeout) {\n",
       "      setTimeout(display_loaded, 100)\n",
       "    }\n",
       "  }\n",
       "\n",
       "\n",
       "  function run_callbacks() {\n",
       "    try {\n",
       "      root._bokeh_onload_callbacks.forEach(function(callback) { callback() });\n",
       "    }\n",
       "    finally {\n",
       "      delete root._bokeh_onload_callbacks\n",
       "    }\n",
       "    console.info(\"Bokeh: all callbacks have finished\");\n",
       "  }\n",
       "\n",
       "  function load_libs(js_urls, callback) {\n",
       "    root._bokeh_onload_callbacks.push(callback);\n",
       "    if (root._bokeh_is_loading > 0) {\n",
       "      console.log(\"Bokeh: BokehJS is being loaded, scheduling callback at\", now());\n",
       "      return null;\n",
       "    }\n",
       "    if (js_urls == null || js_urls.length === 0) {\n",
       "      run_callbacks();\n",
       "      return null;\n",
       "    }\n",
       "    console.log(\"Bokeh: BokehJS not loaded, scheduling load and callback at\", now());\n",
       "    root._bokeh_is_loading = js_urls.length;\n",
       "    for (var i = 0; i < js_urls.length; i++) {\n",
       "      var url = js_urls[i];\n",
       "      var s = document.createElement('script');\n",
       "      s.src = url;\n",
       "      s.async = false;\n",
       "      s.onreadystatechange = s.onload = function() {\n",
       "        root._bokeh_is_loading--;\n",
       "        if (root._bokeh_is_loading === 0) {\n",
       "          console.log(\"Bokeh: all BokehJS libraries loaded\");\n",
       "          run_callbacks()\n",
       "        }\n",
       "      };\n",
       "      s.onerror = function() {\n",
       "        console.warn(\"failed to load library \" + url);\n",
       "      };\n",
       "      console.log(\"Bokeh: injecting script tag for BokehJS library: \", url);\n",
       "      document.getElementsByTagName(\"head\")[0].appendChild(s);\n",
       "    }\n",
       "  };var element = document.getElementById(\"8232dccf-4f83-494f-a189-3302e00bccd7\");\n",
       "  if (element == null) {\n",
       "    console.log(\"Bokeh: ERROR: autoload.js configured with elementid '8232dccf-4f83-494f-a189-3302e00bccd7' but no matching script tag was found. \")\n",
       "    return false;\n",
       "  }\n",
       "\n",
       "  var js_urls = [\"https://cdn.pydata.org/bokeh/release/bokeh-0.12.15.min.js\", \"https://cdn.pydata.org/bokeh/release/bokeh-widgets-0.12.15.min.js\", \"https://cdn.pydata.org/bokeh/release/bokeh-tables-0.12.15.min.js\", \"https://cdn.pydata.org/bokeh/release/bokeh-gl-0.12.15.min.js\"];\n",
       "\n",
       "  var inline_js = [\n",
       "    function(Bokeh) {\n",
       "      Bokeh.set_log_level(\"info\");\n",
       "    },\n",
       "    \n",
       "    function(Bokeh) {\n",
       "      \n",
       "    },\n",
       "    function(Bokeh) {\n",
       "      console.log(\"Bokeh: injecting CSS: https://cdn.pydata.org/bokeh/release/bokeh-0.12.15.min.css\");\n",
       "      Bokeh.embed.inject_css(\"https://cdn.pydata.org/bokeh/release/bokeh-0.12.15.min.css\");\n",
       "      console.log(\"Bokeh: injecting CSS: https://cdn.pydata.org/bokeh/release/bokeh-widgets-0.12.15.min.css\");\n",
       "      Bokeh.embed.inject_css(\"https://cdn.pydata.org/bokeh/release/bokeh-widgets-0.12.15.min.css\");\n",
       "      console.log(\"Bokeh: injecting CSS: https://cdn.pydata.org/bokeh/release/bokeh-tables-0.12.15.min.css\");\n",
       "      Bokeh.embed.inject_css(\"https://cdn.pydata.org/bokeh/release/bokeh-tables-0.12.15.min.css\");\n",
       "    }\n",
       "  ];\n",
       "\n",
       "  function run_inline_js() {\n",
       "    \n",
       "    if ((root.Bokeh !== undefined) || (force === true)) {\n",
       "      for (var i = 0; i < inline_js.length; i++) {\n",
       "        inline_js[i].call(root, root.Bokeh);\n",
       "      }if (force === true) {\n",
       "        display_loaded();\n",
       "      }} else if (Date.now() < root._bokeh_timeout) {\n",
       "      setTimeout(run_inline_js, 100);\n",
       "    } else if (!root._bokeh_failed_load) {\n",
       "      console.log(\"Bokeh: BokehJS failed to load within specified timeout.\");\n",
       "      root._bokeh_failed_load = true;\n",
       "    } else if (force !== true) {\n",
       "      var cell = $(document.getElementById(\"8232dccf-4f83-494f-a189-3302e00bccd7\")).parents('.cell').data().cell;\n",
       "      cell.output_area.append_execute_result(NB_LOAD_WARNING)\n",
       "    }\n",
       "\n",
       "  }\n",
       "\n",
       "  if (root._bokeh_is_loading === 0) {\n",
       "    console.log(\"Bokeh: BokehJS loaded, going straight to plotting\");\n",
       "    run_inline_js();\n",
       "  } else {\n",
       "    load_libs(js_urls, function() {\n",
       "      console.log(\"Bokeh: BokehJS plotting callback run at\", now());\n",
       "      run_inline_js();\n",
       "    });\n",
       "  }\n",
       "}(window));"
      ],
      "application/vnd.bokehjs_load.v0+json": "\n(function(root) {\n  function now() {\n    return new Date();\n  }\n\n  var force = true;\n\n  if (typeof (root._bokeh_onload_callbacks) === \"undefined\" || force === true) {\n    root._bokeh_onload_callbacks = [];\n    root._bokeh_is_loading = undefined;\n  }\n\n  \n\n  \n  if (typeof (root._bokeh_timeout) === \"undefined\" || force === true) {\n    root._bokeh_timeout = Date.now() + 5000;\n    root._bokeh_failed_load = false;\n  }\n\n  var NB_LOAD_WARNING = {'data': {'text/html':\n     \"<div style='background-color: #fdd'>\\n\"+\n     \"<p>\\n\"+\n     \"BokehJS does not appear to have successfully loaded. If loading BokehJS from CDN, this \\n\"+\n     \"may be due to a slow or bad network connection. Possible fixes:\\n\"+\n     \"</p>\\n\"+\n     \"<ul>\\n\"+\n     \"<li>re-rerun `output_notebook()` to attempt to load from CDN again, or</li>\\n\"+\n     \"<li>use INLINE resources instead, as so:</li>\\n\"+\n     \"</ul>\\n\"+\n     \"<code>\\n\"+\n     \"from bokeh.resources import INLINE\\n\"+\n     \"output_notebook(resources=INLINE)\\n\"+\n     \"</code>\\n\"+\n     \"</div>\"}};\n\n  function display_loaded() {\n    var el = document.getElementById(\"8232dccf-4f83-494f-a189-3302e00bccd7\");\n    if (el != null) {\n      el.textContent = \"BokehJS is loading...\";\n    }\n    if (root.Bokeh !== undefined) {\n      if (el != null) {\n        el.textContent = \"BokehJS \" + root.Bokeh.version + \" successfully loaded.\";\n      }\n    } else if (Date.now() < root._bokeh_timeout) {\n      setTimeout(display_loaded, 100)\n    }\n  }\n\n\n  function run_callbacks() {\n    try {\n      root._bokeh_onload_callbacks.forEach(function(callback) { callback() });\n    }\n    finally {\n      delete root._bokeh_onload_callbacks\n    }\n    console.info(\"Bokeh: all callbacks have finished\");\n  }\n\n  function load_libs(js_urls, callback) {\n    root._bokeh_onload_callbacks.push(callback);\n    if (root._bokeh_is_loading > 0) {\n      console.log(\"Bokeh: BokehJS is being loaded, scheduling callback at\", now());\n      return null;\n    }\n    if (js_urls == null || js_urls.length === 0) {\n      run_callbacks();\n      return null;\n    }\n    console.log(\"Bokeh: BokehJS not loaded, scheduling load and callback at\", now());\n    root._bokeh_is_loading = js_urls.length;\n    for (var i = 0; i < js_urls.length; i++) {\n      var url = js_urls[i];\n      var s = document.createElement('script');\n      s.src = url;\n      s.async = false;\n      s.onreadystatechange = s.onload = function() {\n        root._bokeh_is_loading--;\n        if (root._bokeh_is_loading === 0) {\n          console.log(\"Bokeh: all BokehJS libraries loaded\");\n          run_callbacks()\n        }\n      };\n      s.onerror = function() {\n        console.warn(\"failed to load library \" + url);\n      };\n      console.log(\"Bokeh: injecting script tag for BokehJS library: \", url);\n      document.getElementsByTagName(\"head\")[0].appendChild(s);\n    }\n  };var element = document.getElementById(\"8232dccf-4f83-494f-a189-3302e00bccd7\");\n  if (element == null) {\n    console.log(\"Bokeh: ERROR: autoload.js configured with elementid '8232dccf-4f83-494f-a189-3302e00bccd7' but no matching script tag was found. \")\n    return false;\n  }\n\n  var js_urls = [\"https://cdn.pydata.org/bokeh/release/bokeh-0.12.15.min.js\", \"https://cdn.pydata.org/bokeh/release/bokeh-widgets-0.12.15.min.js\", \"https://cdn.pydata.org/bokeh/release/bokeh-tables-0.12.15.min.js\", \"https://cdn.pydata.org/bokeh/release/bokeh-gl-0.12.15.min.js\"];\n\n  var inline_js = [\n    function(Bokeh) {\n      Bokeh.set_log_level(\"info\");\n    },\n    \n    function(Bokeh) {\n      \n    },\n    function(Bokeh) {\n      console.log(\"Bokeh: injecting CSS: https://cdn.pydata.org/bokeh/release/bokeh-0.12.15.min.css\");\n      Bokeh.embed.inject_css(\"https://cdn.pydata.org/bokeh/release/bokeh-0.12.15.min.css\");\n      console.log(\"Bokeh: injecting CSS: https://cdn.pydata.org/bokeh/release/bokeh-widgets-0.12.15.min.css\");\n      Bokeh.embed.inject_css(\"https://cdn.pydata.org/bokeh/release/bokeh-widgets-0.12.15.min.css\");\n      console.log(\"Bokeh: injecting CSS: https://cdn.pydata.org/bokeh/release/bokeh-tables-0.12.15.min.css\");\n      Bokeh.embed.inject_css(\"https://cdn.pydata.org/bokeh/release/bokeh-tables-0.12.15.min.css\");\n    }\n  ];\n\n  function run_inline_js() {\n    \n    if ((root.Bokeh !== undefined) || (force === true)) {\n      for (var i = 0; i < inline_js.length; i++) {\n        inline_js[i].call(root, root.Bokeh);\n      }if (force === true) {\n        display_loaded();\n      }} else if (Date.now() < root._bokeh_timeout) {\n      setTimeout(run_inline_js, 100);\n    } else if (!root._bokeh_failed_load) {\n      console.log(\"Bokeh: BokehJS failed to load within specified timeout.\");\n      root._bokeh_failed_load = true;\n    } else if (force !== true) {\n      var cell = $(document.getElementById(\"8232dccf-4f83-494f-a189-3302e00bccd7\")).parents('.cell').data().cell;\n      cell.output_area.append_execute_result(NB_LOAD_WARNING)\n    }\n\n  }\n\n  if (root._bokeh_is_loading === 0) {\n    console.log(\"Bokeh: BokehJS loaded, going straight to plotting\");\n    run_inline_js();\n  } else {\n    load_libs(js_urls, function() {\n      console.log(\"Bokeh: BokehJS plotting callback run at\", now());\n      run_inline_js();\n    });\n  }\n}(window));"
     },
     "metadata": {},
     "output_type": "display_data"
    }
   ],
   "source": [
    "output_notebook()"
   ]
  },
  {
   "cell_type": "code",
   "execution_count": 5,
   "metadata": {},
   "outputs": [
    {
     "data": {
      "text/html": [
       "\n",
       "<div class=\"bk-root\">\n",
       "    <div class=\"bk-plotdiv\" id=\"661c58d6-0757-4514-8519-158c0c75e019\"></div>\n",
       "</div>"
      ]
     },
     "metadata": {},
     "output_type": "display_data"
    },
    {
     "data": {
      "application/javascript": [
       "(function(root) {\n",
       "  function embed_document(root) {\n",
       "    \n",
       "  var docs_json = {\"899ea3a8-50ce-4789-a020-872898041216\":{\"roots\":{\"references\":[{\"attributes\":{},\"id\":\"a951e8bc-e61b-4153-a2b8-96845ab31e37\",\"type\":\"BasicTicker\"},{\"attributes\":{},\"id\":\"5b2e707c-9a5b-46e4-ad3c-70922a5c90c7\",\"type\":\"BasicTicker\"},{\"attributes\":{\"dimension\":1,\"plot\":{\"id\":\"ef0b7ab0-0146-484e-9b7c-8d08ea7251b8\",\"subtype\":\"Figure\",\"type\":\"Plot\"},\"ticker\":{\"id\":\"a951e8bc-e61b-4153-a2b8-96845ab31e37\",\"type\":\"BasicTicker\"}},\"id\":\"50b47434-8dc2-4a5f-9a5e-71deed2496c6\",\"type\":\"Grid\"},{\"attributes\":{\"bottom_units\":\"screen\",\"fill_alpha\":{\"value\":0.5},\"fill_color\":{\"value\":\"lightgrey\"},\"left_units\":\"screen\",\"level\":\"overlay\",\"line_alpha\":{\"value\":1.0},\"line_color\":{\"value\":\"black\"},\"line_dash\":[4,4],\"line_width\":{\"value\":2},\"plot\":null,\"render_mode\":\"css\",\"right_units\":\"screen\",\"top_units\":\"screen\"},\"id\":\"93e49f8e-7031-44a2-81b4-644324d6c533\",\"type\":\"BoxAnnotation\"},{\"attributes\":{\"source\":{\"id\":\"c7fd6ee8-ff98-4bee-930c-eefa816e7d52\",\"type\":\"ColumnDataSource\"}},\"id\":\"cf5eb6f4-0076-45b8-8004-8bcdd53252c5\",\"type\":\"CDSView\"},{\"attributes\":{\"below\":[{\"id\":\"e15e1c6c-d5d2-4c1b-9cc7-b681fa9055d0\",\"type\":\"LinearAxis\"}],\"left\":[{\"id\":\"c639b03d-58a3-4042-8f84-935778c9d56e\",\"type\":\"LinearAxis\"}],\"plot_height\":400,\"plot_width\":400,\"renderers\":[{\"id\":\"e15e1c6c-d5d2-4c1b-9cc7-b681fa9055d0\",\"type\":\"LinearAxis\"},{\"id\":\"2bdc4f82-ef93-4b6d-bb3f-995b11716a41\",\"type\":\"Grid\"},{\"id\":\"c639b03d-58a3-4042-8f84-935778c9d56e\",\"type\":\"LinearAxis\"},{\"id\":\"50b47434-8dc2-4a5f-9a5e-71deed2496c6\",\"type\":\"Grid\"},{\"id\":\"93e49f8e-7031-44a2-81b4-644324d6c533\",\"type\":\"BoxAnnotation\"},{\"id\":\"01e35ce0-51a4-4cd9-ad7c-f18d19fdc3c2\",\"type\":\"GlyphRenderer\"}],\"title\":{\"id\":\"1760be42-f158-47ef-998c-0497d1d6b34a\",\"type\":\"Title\"},\"toolbar\":{\"id\":\"f94b839e-93d1-4d52-a8a8-c94139867971\",\"type\":\"Toolbar\"},\"x_range\":{\"id\":\"4e3ed7c6-75fa-4deb-a3b3-35ea52668687\",\"type\":\"DataRange1d\"},\"x_scale\":{\"id\":\"75d7492b-e3a9-417d-80a6-347ebc0c5fa3\",\"type\":\"LinearScale\"},\"y_range\":{\"id\":\"8ced4039-f962-4c85-98bf-c4b762c76b02\",\"type\":\"DataRange1d\"},\"y_scale\":{\"id\":\"c9d2939d-d79c-42c3-a5bf-757bf8cda984\",\"type\":\"LinearScale\"}},\"id\":\"ef0b7ab0-0146-484e-9b7c-8d08ea7251b8\",\"subtype\":\"Figure\",\"type\":\"Plot\"},{\"attributes\":{\"fill_alpha\":{\"value\":0.1},\"fill_color\":{\"value\":\"#1f77b4\"},\"line_alpha\":{\"value\":0.1},\"line_color\":{\"value\":\"#1f77b4\"},\"size\":{\"field\":\"size\",\"units\":\"screen\"},\"x\":{\"field\":\"x\"},\"y\":{\"field\":\"y\"}},\"id\":\"7409b151-5b1a-4a83-9fbf-aa3ae73c1b71\",\"type\":\"Circle\"},{\"attributes\":{\"data_source\":{\"id\":\"c7fd6ee8-ff98-4bee-930c-eefa816e7d52\",\"type\":\"ColumnDataSource\"},\"glyph\":{\"id\":\"ff7bc916-45dc-476d-bf94-9968cd881279\",\"type\":\"Circle\"},\"hover_glyph\":null,\"muted_glyph\":null,\"nonselection_glyph\":{\"id\":\"7409b151-5b1a-4a83-9fbf-aa3ae73c1b71\",\"type\":\"Circle\"},\"selection_glyph\":null,\"view\":{\"id\":\"cf5eb6f4-0076-45b8-8004-8bcdd53252c5\",\"type\":\"CDSView\"}},\"id\":\"01e35ce0-51a4-4cd9-ad7c-f18d19fdc3c2\",\"type\":\"GlyphRenderer\"},{\"attributes\":{\"callback\":null,\"column_names\":[\"size\",\"x\",\"y\",\"fill_alpha\"],\"data\":{\"fill_alpha\":[0.5,0.2,0.2,1,1],\"size\":[10,15,20,25,30],\"x\":[1,2,3,4,5],\"y\":[6,7,2,4,5]},\"selected\":null,\"selection_policy\":null},\"id\":\"c7fd6ee8-ff98-4bee-930c-eefa816e7d52\",\"type\":\"ColumnDataSource\"},{\"attributes\":{},\"id\":\"bbab89e5-1eb5-4e9e-b38d-ceccdba4140a\",\"type\":\"PanTool\"},{\"attributes\":{\"active_drag\":\"auto\",\"active_inspect\":\"auto\",\"active_scroll\":\"auto\",\"active_tap\":\"auto\",\"tools\":[{\"id\":\"bbab89e5-1eb5-4e9e-b38d-ceccdba4140a\",\"type\":\"PanTool\"},{\"id\":\"8696b5da-d0d7-4840-8476-20c1cfc1a9f3\",\"type\":\"WheelZoomTool\"},{\"id\":\"897fb191-dfea-4256-b98c-bbb0abb9578e\",\"type\":\"BoxZoomTool\"},{\"id\":\"b470b956-a0b6-4dd1-81e7-495bfddef396\",\"type\":\"SaveTool\"},{\"id\":\"079ccd1e-253b-4aa3-be82-20038f61cef1\",\"type\":\"ResetTool\"},{\"id\":\"b2032331-5d2d-4081-b90f-df1d8a21f07d\",\"type\":\"HelpTool\"}]},\"id\":\"f94b839e-93d1-4d52-a8a8-c94139867971\",\"type\":\"Toolbar\"},{\"attributes\":{},\"id\":\"8696b5da-d0d7-4840-8476-20c1cfc1a9f3\",\"type\":\"WheelZoomTool\"},{\"attributes\":{},\"id\":\"30967fd4-9bfa-466c-9846-988309c47e88\",\"type\":\"BasicTickFormatter\"},{\"attributes\":{},\"id\":\"2f6c8f1b-38ea-48c4-8389-c85fc21d7a4b\",\"type\":\"BasicTickFormatter\"},{\"attributes\":{\"callback\":null},\"id\":\"4e3ed7c6-75fa-4deb-a3b3-35ea52668687\",\"type\":\"DataRange1d\"},{\"attributes\":{\"overlay\":{\"id\":\"93e49f8e-7031-44a2-81b4-644324d6c533\",\"type\":\"BoxAnnotation\"}},\"id\":\"897fb191-dfea-4256-b98c-bbb0abb9578e\",\"type\":\"BoxZoomTool\"},{\"attributes\":{\"plot\":null,\"text\":\"\"},\"id\":\"1760be42-f158-47ef-998c-0497d1d6b34a\",\"type\":\"Title\"},{\"attributes\":{},\"id\":\"b470b956-a0b6-4dd1-81e7-495bfddef396\",\"type\":\"SaveTool\"},{\"attributes\":{\"callback\":null},\"id\":\"8ced4039-f962-4c85-98bf-c4b762c76b02\",\"type\":\"DataRange1d\"},{\"attributes\":{},\"id\":\"75d7492b-e3a9-417d-80a6-347ebc0c5fa3\",\"type\":\"LinearScale\"},{\"attributes\":{},\"id\":\"c9d2939d-d79c-42c3-a5bf-757bf8cda984\",\"type\":\"LinearScale\"},{\"attributes\":{},\"id\":\"079ccd1e-253b-4aa3-be82-20038f61cef1\",\"type\":\"ResetTool\"},{\"attributes\":{},\"id\":\"b2032331-5d2d-4081-b90f-df1d8a21f07d\",\"type\":\"HelpTool\"},{\"attributes\":{\"formatter\":{\"id\":\"2f6c8f1b-38ea-48c4-8389-c85fc21d7a4b\",\"type\":\"BasicTickFormatter\"},\"plot\":{\"id\":\"ef0b7ab0-0146-484e-9b7c-8d08ea7251b8\",\"subtype\":\"Figure\",\"type\":\"Plot\"},\"ticker\":{\"id\":\"5b2e707c-9a5b-46e4-ad3c-70922a5c90c7\",\"type\":\"BasicTicker\"}},\"id\":\"e15e1c6c-d5d2-4c1b-9cc7-b681fa9055d0\",\"type\":\"LinearAxis\"},{\"attributes\":{\"fill_alpha\":{\"field\":\"fill_alpha\"},\"fill_color\":{\"value\":\"orange\"},\"line_color\":{\"value\":\"navy\"},\"size\":{\"field\":\"size\",\"units\":\"screen\"},\"x\":{\"field\":\"x\"},\"y\":{\"field\":\"y\"}},\"id\":\"ff7bc916-45dc-476d-bf94-9968cd881279\",\"type\":\"Circle\"},{\"attributes\":{\"plot\":{\"id\":\"ef0b7ab0-0146-484e-9b7c-8d08ea7251b8\",\"subtype\":\"Figure\",\"type\":\"Plot\"},\"ticker\":{\"id\":\"5b2e707c-9a5b-46e4-ad3c-70922a5c90c7\",\"type\":\"BasicTicker\"}},\"id\":\"2bdc4f82-ef93-4b6d-bb3f-995b11716a41\",\"type\":\"Grid\"},{\"attributes\":{\"formatter\":{\"id\":\"30967fd4-9bfa-466c-9846-988309c47e88\",\"type\":\"BasicTickFormatter\"},\"plot\":{\"id\":\"ef0b7ab0-0146-484e-9b7c-8d08ea7251b8\",\"subtype\":\"Figure\",\"type\":\"Plot\"},\"ticker\":{\"id\":\"a951e8bc-e61b-4153-a2b8-96845ab31e37\",\"type\":\"BasicTicker\"}},\"id\":\"c639b03d-58a3-4042-8f84-935778c9d56e\",\"type\":\"LinearAxis\"}],\"root_ids\":[\"ef0b7ab0-0146-484e-9b7c-8d08ea7251b8\"]},\"title\":\"Bokeh Application\",\"version\":\"0.12.15\"}};\n",
       "  var render_items = [{\"docid\":\"899ea3a8-50ce-4789-a020-872898041216\",\"elementid\":\"661c58d6-0757-4514-8519-158c0c75e019\",\"modelid\":\"ef0b7ab0-0146-484e-9b7c-8d08ea7251b8\"}];\n",
       "  root.Bokeh.embed.embed_items_notebook(docs_json, render_items);\n",
       "\n",
       "  }\n",
       "  if (root.Bokeh !== undefined) {\n",
       "    embed_document(root);\n",
       "  } else {\n",
       "    var attempts = 0;\n",
       "    var timer = setInterval(function(root) {\n",
       "      if (root.Bokeh !== undefined) {\n",
       "        embed_document(root);\n",
       "        clearInterval(timer);\n",
       "      }\n",
       "      attempts++;\n",
       "      if (attempts > 100) {\n",
       "        console.log(\"Bokeh: ERROR: Unable to run BokehJS code because BokehJS library is missing\")\n",
       "        clearInterval(timer);\n",
       "      }\n",
       "    }, 10, root)\n",
       "  }\n",
       "})(window);"
      ],
      "application/vnd.bokehjs_exec.v0+json": ""
     },
     "metadata": {
      "application/vnd.bokehjs_exec.v0+json": {
       "id": "ef0b7ab0-0146-484e-9b7c-8d08ea7251b8"
      }
     },
     "output_type": "display_data"
    }
   ],
   "source": [
    "# Create a plot\n",
    "p = figure(plot_width = 400, plot_height = 400)\n",
    "\n",
    "# Display a scater plot (several points)\n",
    "p.circle([1, 2, 3, 4, 5], [6, 7, 2, 4, 5], size = [10, 15, 20, 25, 30], line_color = \"navy\", \n",
    "         fill_color = \"orange\", fill_alpha = [0.5, 0.2, 0.2, 1, 1])\n",
    "\n",
    "# Display plot\n",
    "show(p)"
   ]
  },
  {
   "cell_type": "markdown",
   "metadata": {},
   "source": [
    "## Pandas Dataframe"
   ]
  },
  {
   "cell_type": "code",
   "execution_count": 6,
   "metadata": {},
   "outputs": [],
   "source": [
    "import pandas as pd"
   ]
  },
  {
   "cell_type": "code",
   "execution_count": 7,
   "metadata": {},
   "outputs": [],
   "source": [
    "df = pd.read_csv(\"female_literacy_birth_rate.csv\")"
   ]
  },
  {
   "cell_type": "code",
   "execution_count": 8,
   "metadata": {},
   "outputs": [
    {
     "data": {
      "text/html": [
       "<div>\n",
       "<style scoped>\n",
       "    .dataframe tbody tr th:only-of-type {\n",
       "        vertical-align: middle;\n",
       "    }\n",
       "\n",
       "    .dataframe tbody tr th {\n",
       "        vertical-align: top;\n",
       "    }\n",
       "\n",
       "    .dataframe thead th {\n",
       "        text-align: right;\n",
       "    }\n",
       "</style>\n",
       "<table border=\"1\" class=\"dataframe\">\n",
       "  <thead>\n",
       "    <tr style=\"text-align: right;\">\n",
       "      <th></th>\n",
       "      <th>Country</th>\n",
       "      <th>Continent</th>\n",
       "      <th>female literacy</th>\n",
       "      <th>fertility</th>\n",
       "      <th>population</th>\n",
       "    </tr>\n",
       "  </thead>\n",
       "  <tbody>\n",
       "    <tr>\n",
       "      <th>0</th>\n",
       "      <td>Chine</td>\n",
       "      <td>ASI</td>\n",
       "      <td>90.5</td>\n",
       "      <td>1.769</td>\n",
       "      <td>1.324655e+09</td>\n",
       "    </tr>\n",
       "    <tr>\n",
       "      <th>1</th>\n",
       "      <td>Inde</td>\n",
       "      <td>ASI</td>\n",
       "      <td>50.8</td>\n",
       "      <td>2.682</td>\n",
       "      <td>1.139965e+09</td>\n",
       "    </tr>\n",
       "    <tr>\n",
       "      <th>2</th>\n",
       "      <td>USA</td>\n",
       "      <td>NAM</td>\n",
       "      <td>99.0</td>\n",
       "      <td>2.077</td>\n",
       "      <td>3.040600e+08</td>\n",
       "    </tr>\n",
       "    <tr>\n",
       "      <th>3</th>\n",
       "      <td>Indonésie</td>\n",
       "      <td>ASI</td>\n",
       "      <td>88.8</td>\n",
       "      <td>2.132</td>\n",
       "      <td>2.273451e+08</td>\n",
       "    </tr>\n",
       "    <tr>\n",
       "      <th>4</th>\n",
       "      <td>Brésil</td>\n",
       "      <td>LAT</td>\n",
       "      <td>90.2</td>\n",
       "      <td>1.827</td>\n",
       "      <td>1.919715e+08</td>\n",
       "    </tr>\n",
       "  </tbody>\n",
       "</table>\n",
       "</div>"
      ],
      "text/plain": [
       "    Country  Continent  female literacy  fertility    population\n",
       "0      Chine       ASI             90.5      1.769  1.324655e+09\n",
       "1       Inde       ASI             50.8      2.682  1.139965e+09\n",
       "2        USA       NAM             99.0      2.077  3.040600e+08\n",
       "3  Indonésie       ASI             88.8      2.132  2.273451e+08\n",
       "4     Brésil       LAT             90.2      1.827  1.919715e+08"
      ]
     },
     "execution_count": 8,
     "metadata": {},
     "output_type": "execute_result"
    }
   ],
   "source": [
    "df.head()"
   ]
  },
  {
   "cell_type": "code",
   "execution_count": 9,
   "metadata": {},
   "outputs": [
    {
     "data": {
      "text/html": [
       "<div>\n",
       "<style scoped>\n",
       "    .dataframe tbody tr th:only-of-type {\n",
       "        vertical-align: middle;\n",
       "    }\n",
       "\n",
       "    .dataframe tbody tr th {\n",
       "        vertical-align: top;\n",
       "    }\n",
       "\n",
       "    .dataframe thead th {\n",
       "        text-align: right;\n",
       "    }\n",
       "</style>\n",
       "<table border=\"1\" class=\"dataframe\">\n",
       "  <thead>\n",
       "    <tr style=\"text-align: right;\">\n",
       "      <th></th>\n",
       "      <th>Country</th>\n",
       "      <th>Continent</th>\n",
       "      <th>female literacy</th>\n",
       "      <th>fertility</th>\n",
       "      <th>population</th>\n",
       "    </tr>\n",
       "  </thead>\n",
       "  <tbody>\n",
       "    <tr>\n",
       "      <th>157</th>\n",
       "      <td>Vanuatu</td>\n",
       "      <td>OCE</td>\n",
       "      <td>79.5</td>\n",
       "      <td>3.883</td>\n",
       "      <td>233866.0</td>\n",
       "    </tr>\n",
       "    <tr>\n",
       "      <th>158</th>\n",
       "      <td>Samoa</td>\n",
       "      <td>OCE</td>\n",
       "      <td>98.5</td>\n",
       "      <td>3.852</td>\n",
       "      <td>178869.0</td>\n",
       "    </tr>\n",
       "    <tr>\n",
       "      <th>159</th>\n",
       "      <td>Sao Tomé-et-Principe</td>\n",
       "      <td>AF</td>\n",
       "      <td>83.3</td>\n",
       "      <td>3.718</td>\n",
       "      <td>160174.0</td>\n",
       "    </tr>\n",
       "    <tr>\n",
       "      <th>160</th>\n",
       "      <td>Aruba</td>\n",
       "      <td>LAT</td>\n",
       "      <td>98.0</td>\n",
       "      <td>1.732</td>\n",
       "      <td>105455.0</td>\n",
       "    </tr>\n",
       "    <tr>\n",
       "      <th>161</th>\n",
       "      <td>Tonga</td>\n",
       "      <td>ASI</td>\n",
       "      <td>99.1</td>\n",
       "      <td>3.928</td>\n",
       "      <td>103566.0</td>\n",
       "    </tr>\n",
       "  </tbody>\n",
       "</table>\n",
       "</div>"
      ],
      "text/plain": [
       "                 Country  Continent  female literacy  fertility  population\n",
       "157               Vanuatu       OCE             79.5      3.883    233866.0\n",
       "158                 Samoa       OCE             98.5      3.852    178869.0\n",
       "159  Sao Tomé-et-Principe        AF             83.3      3.718    160174.0\n",
       "160                 Aruba       LAT             98.0      1.732    105455.0\n",
       "161                 Tonga       ASI             99.1      3.928    103566.0"
      ]
     },
     "execution_count": 9,
     "metadata": {},
     "output_type": "execute_result"
    }
   ],
   "source": [
    "df.tail()"
   ]
  },
  {
   "cell_type": "code",
   "execution_count": 10,
   "metadata": {},
   "outputs": [
    {
     "data": {
      "text/plain": [
       "Index(['Country ', 'Continent', 'female literacy', 'fertility', 'population'], dtype='object')"
      ]
     },
     "execution_count": 10,
     "metadata": {},
     "output_type": "execute_result"
    }
   ],
   "source": [
    "# See defined columns\n",
    "df.columns"
   ]
  },
  {
   "cell_type": "code",
   "execution_count": 11,
   "metadata": {},
   "outputs": [
    {
     "data": {
      "text/plain": [
       "(162, 5)"
      ]
     },
     "execution_count": 11,
     "metadata": {},
     "output_type": "execute_result"
    }
   ],
   "source": [
    "# Devuelve forma de los datos -> filas y columnas\n",
    "df.shape"
   ]
  },
  {
   "cell_type": "code",
   "execution_count": 12,
   "metadata": {},
   "outputs": [
    {
     "name": "stdout",
     "output_type": "stream",
     "text": [
      "<class 'pandas.core.frame.DataFrame'>\n",
      "RangeIndex: 162 entries, 0 to 161\n",
      "Data columns (total 5 columns):\n",
      "Country            162 non-null object\n",
      "Continent          162 non-null object\n",
      "female literacy    162 non-null float64\n",
      "fertility          162 non-null float64\n",
      "population         162 non-null float64\n",
      "dtypes: float64(3), object(2)\n",
      "memory usage: 6.4+ KB\n"
     ]
    }
   ],
   "source": [
    "# information about the objects -> How the data is specified and interpreted\n",
    "df.info()"
   ]
  },
  {
   "cell_type": "code",
   "execution_count": 13,
   "metadata": {},
   "outputs": [
    {
     "data": {
      "text/plain": [
       "0      ASI\n",
       "1      ASI\n",
       "2      NAM\n",
       "3      ASI\n",
       "4      LAT\n",
       "5      ASI\n",
       "6      ASI\n",
       "7       AF\n",
       "8      EUR\n",
       "9      ASI\n",
       "10     LAT\n",
       "11     ASI\n",
       "12     ASI\n",
       "13     EUR\n",
       "14      AF\n",
       "15      AF\n",
       "16     ASI\n",
       "17     ASI\n",
       "18     ASI\n",
       "19      AF\n",
       "20     EUR\n",
       "21     EUR\n",
       "22     EUR\n",
       "23     ASI\n",
       "24      AF\n",
       "25     ASI\n",
       "26     EUR\n",
       "27     EUR\n",
       "28     LAT\n",
       "29      AF\n",
       "      ... \n",
       "132     AF\n",
       "133    EUR\n",
       "134    EUR\n",
       "135     AF\n",
       "136     AF\n",
       "137     AF\n",
       "138     AF\n",
       "139    EUR\n",
       "140    LAT\n",
       "141    ASI\n",
       "142     AF\n",
       "143     AF\n",
       "144    EUR\n",
       "145    ASI\n",
       "146    ASI\n",
       "147     AF\n",
       "148     AF\n",
       "149    ASI\n",
       "150    LAT\n",
       "151     AF\n",
       "152    EUR\n",
       "153    ASI\n",
       "154    LAT\n",
       "155    EUR\n",
       "156    ASI\n",
       "157    OCE\n",
       "158    OCE\n",
       "159     AF\n",
       "160    LAT\n",
       "161    ASI\n",
       "Name: Continent, Length: 162, dtype: object"
      ]
     },
     "execution_count": 13,
     "metadata": {},
     "output_type": "execute_result"
    }
   ],
   "source": [
    "#Access to a column -> accesing the column directly\n",
    "df.Continent"
   ]
  },
  {
   "cell_type": "code",
   "execution_count": 14,
   "metadata": {},
   "outputs": [
    {
     "data": {
      "text/plain": [
       "99.0    15\n",
       "99.7     4\n",
       "99.8     3\n",
       "91.5     3\n",
       "98.5     3\n",
       "Name: female literacy, dtype: int64"
      ]
     },
     "execution_count": 14,
     "metadata": {},
     "output_type": "execute_result"
    }
   ],
   "source": [
    "# Also with square-braquets\n",
    "df['female literacy'].value_counts().head()"
   ]
  },
  {
   "cell_type": "code",
   "execution_count": 15,
   "metadata": {
    "scrolled": true
   },
   "outputs": [
    {
     "data": {
      "text/html": [
       "<div>\n",
       "<style scoped>\n",
       "    .dataframe tbody tr th:only-of-type {\n",
       "        vertical-align: middle;\n",
       "    }\n",
       "\n",
       "    .dataframe tbody tr th {\n",
       "        vertical-align: top;\n",
       "    }\n",
       "\n",
       "    .dataframe thead th {\n",
       "        text-align: right;\n",
       "    }\n",
       "</style>\n",
       "<table border=\"1\" class=\"dataframe\">\n",
       "  <thead>\n",
       "    <tr style=\"text-align: right;\">\n",
       "      <th></th>\n",
       "      <th>female literacy</th>\n",
       "      <th>fertility</th>\n",
       "      <th>population</th>\n",
       "    </tr>\n",
       "  </thead>\n",
       "  <tbody>\n",
       "    <tr>\n",
       "      <th>count</th>\n",
       "      <td>162.000000</td>\n",
       "      <td>162.000000</td>\n",
       "      <td>1.620000e+02</td>\n",
       "    </tr>\n",
       "    <tr>\n",
       "      <th>mean</th>\n",
       "      <td>80.107407</td>\n",
       "      <td>2.878673</td>\n",
       "      <td>4.068708e+07</td>\n",
       "    </tr>\n",
       "    <tr>\n",
       "      <th>std</th>\n",
       "      <td>23.052415</td>\n",
       "      <td>1.427597</td>\n",
       "      <td>1.409695e+08</td>\n",
       "    </tr>\n",
       "    <tr>\n",
       "      <th>min</th>\n",
       "      <td>12.600000</td>\n",
       "      <td>0.966000</td>\n",
       "      <td>1.035660e+05</td>\n",
       "    </tr>\n",
       "    <tr>\n",
       "      <th>25%</th>\n",
       "      <td>66.425000</td>\n",
       "      <td>1.823250</td>\n",
       "      <td>3.368292e+06</td>\n",
       "    </tr>\n",
       "    <tr>\n",
       "      <th>50%</th>\n",
       "      <td>90.000000</td>\n",
       "      <td>2.367500</td>\n",
       "      <td>9.707404e+06</td>\n",
       "    </tr>\n",
       "    <tr>\n",
       "      <th>75%</th>\n",
       "      <td>98.500000</td>\n",
       "      <td>3.880250</td>\n",
       "      <td>2.882991e+07</td>\n",
       "    </tr>\n",
       "    <tr>\n",
       "      <th>max</th>\n",
       "      <td>100.000000</td>\n",
       "      <td>7.069000</td>\n",
       "      <td>1.324655e+09</td>\n",
       "    </tr>\n",
       "  </tbody>\n",
       "</table>\n",
       "</div>"
      ],
      "text/plain": [
       "       female literacy   fertility    population\n",
       "count       162.000000  162.000000  1.620000e+02\n",
       "mean         80.107407    2.878673  4.068708e+07\n",
       "std          23.052415    1.427597  1.409695e+08\n",
       "min          12.600000    0.966000  1.035660e+05\n",
       "25%          66.425000    1.823250  3.368292e+06\n",
       "50%          90.000000    2.367500  9.707404e+06\n",
       "75%          98.500000    3.880250  2.882991e+07\n",
       "max         100.000000    7.069000  1.324655e+09"
      ]
     },
     "execution_count": 15,
     "metadata": {},
     "output_type": "execute_result"
    }
   ],
   "source": [
    "# Statistics data about the columns\n",
    "df.describe()"
   ]
  },
  {
   "cell_type": "markdown",
   "metadata": {},
   "source": [
    "### Visualizar Dataframes"
   ]
  },
  {
   "cell_type": "code",
   "execution_count": 16,
   "metadata": {},
   "outputs": [
    {
     "data": {
      "text/html": [
       "<div>\n",
       "<style scoped>\n",
       "    .dataframe tbody tr th:only-of-type {\n",
       "        vertical-align: middle;\n",
       "    }\n",
       "\n",
       "    .dataframe tbody tr th {\n",
       "        vertical-align: top;\n",
       "    }\n",
       "\n",
       "    .dataframe thead th {\n",
       "        text-align: right;\n",
       "    }\n",
       "</style>\n",
       "<table border=\"1\" class=\"dataframe\">\n",
       "  <thead>\n",
       "    <tr style=\"text-align: right;\">\n",
       "      <th></th>\n",
       "      <th>Country</th>\n",
       "      <th>Continent</th>\n",
       "      <th>female literacy</th>\n",
       "      <th>fertility</th>\n",
       "      <th>population</th>\n",
       "    </tr>\n",
       "  </thead>\n",
       "  <tbody>\n",
       "    <tr>\n",
       "      <th>0</th>\n",
       "      <td>Chine</td>\n",
       "      <td>ASI</td>\n",
       "      <td>90.5</td>\n",
       "      <td>1.769</td>\n",
       "      <td>1.324655e+09</td>\n",
       "    </tr>\n",
       "    <tr>\n",
       "      <th>1</th>\n",
       "      <td>Inde</td>\n",
       "      <td>ASI</td>\n",
       "      <td>50.8</td>\n",
       "      <td>2.682</td>\n",
       "      <td>1.139965e+09</td>\n",
       "    </tr>\n",
       "    <tr>\n",
       "      <th>2</th>\n",
       "      <td>USA</td>\n",
       "      <td>NAM</td>\n",
       "      <td>99.0</td>\n",
       "      <td>2.077</td>\n",
       "      <td>3.040600e+08</td>\n",
       "    </tr>\n",
       "    <tr>\n",
       "      <th>3</th>\n",
       "      <td>Indonésie</td>\n",
       "      <td>ASI</td>\n",
       "      <td>88.8</td>\n",
       "      <td>2.132</td>\n",
       "      <td>2.273451e+08</td>\n",
       "    </tr>\n",
       "    <tr>\n",
       "      <th>4</th>\n",
       "      <td>Brésil</td>\n",
       "      <td>LAT</td>\n",
       "      <td>90.2</td>\n",
       "      <td>1.827</td>\n",
       "      <td>1.919715e+08</td>\n",
       "    </tr>\n",
       "  </tbody>\n",
       "</table>\n",
       "</div>"
      ],
      "text/plain": [
       "    Country  Continent  female literacy  fertility    population\n",
       "0      Chine       ASI             90.5      1.769  1.324655e+09\n",
       "1       Inde       ASI             50.8      2.682  1.139965e+09\n",
       "2        USA       NAM             99.0      2.077  3.040600e+08\n",
       "3  Indonésie       ASI             88.8      2.132  2.273451e+08\n",
       "4     Brésil       LAT             90.2      1.827  1.919715e+08"
      ]
     },
     "execution_count": 16,
     "metadata": {},
     "output_type": "execute_result"
    }
   ],
   "source": [
    "df.head()"
   ]
  },
  {
   "cell_type": "code",
   "execution_count": 17,
   "metadata": {},
   "outputs": [
    {
     "data": {
      "text/html": [
       "\n",
       "<div class=\"bk-root\">\n",
       "    <div class=\"bk-plotdiv\" id=\"efe72dff-5754-4aca-83cd-d29f16114c5c\"></div>\n",
       "</div>"
      ]
     },
     "metadata": {},
     "output_type": "display_data"
    },
    {
     "data": {
      "application/javascript": [
       "(function(root) {\n",
       "  function embed_document(root) {\n",
       "    \n",
       "  var docs_json = {\"25c3528a-3ac5-4798-8b95-29a67561d0aa\":{\"roots\":{\"references\":[{\"attributes\":{\"source\":{\"id\":\"3173bd62-da16-4fa4-b772-96f52eba241f\",\"type\":\"ColumnDataSource\"}},\"id\":\"f8457cdd-9a73-45bb-b020-a91c2fbbe8c6\",\"type\":\"CDSView\"},{\"attributes\":{\"dimension\":1,\"plot\":{\"id\":\"375d7b48-b152-4b5d-8724-6ecf9145803d\",\"subtype\":\"Figure\",\"type\":\"Plot\"},\"ticker\":{\"id\":\"ebb7e952-fa9e-4547-8394-8190e8ef39db\",\"type\":\"BasicTicker\"}},\"id\":\"941b5c73-7af5-48cb-854a-14367c311578\",\"type\":\"Grid\"},{\"attributes\":{},\"id\":\"0ac1b2dd-1950-4e77-b455-3db28f23ab47\",\"type\":\"BasicTickFormatter\"},{\"attributes\":{\"below\":[{\"id\":\"4ef9c7d5-924f-4c90-9a78-7251fea15027\",\"type\":\"LinearAxis\"}],\"left\":[{\"id\":\"2e40b5f7-225d-4b39-a854-d75309e0d192\",\"type\":\"LinearAxis\"}],\"renderers\":[{\"id\":\"4ef9c7d5-924f-4c90-9a78-7251fea15027\",\"type\":\"LinearAxis\"},{\"id\":\"6c98026e-96df-456a-97c0-84f0d9275778\",\"type\":\"Grid\"},{\"id\":\"2e40b5f7-225d-4b39-a854-d75309e0d192\",\"type\":\"LinearAxis\"},{\"id\":\"941b5c73-7af5-48cb-854a-14367c311578\",\"type\":\"Grid\"},{\"id\":\"bcf45b9f-32b8-4674-a15b-a317b7e8ec1f\",\"type\":\"BoxAnnotation\"},{\"id\":\"676062ba-0b24-4585-aec7-c71a6678799d\",\"type\":\"GlyphRenderer\"}],\"title\":{\"id\":\"240f5b53-aa1d-4f53-92a3-e07d6dd7ac81\",\"type\":\"Title\"},\"toolbar\":{\"id\":\"764293bc-6f01-4e8f-8376-298246ce6020\",\"type\":\"Toolbar\"},\"x_range\":{\"id\":\"0f82341c-ff3c-427e-bb8b-43dbe21b6256\",\"type\":\"DataRange1d\"},\"x_scale\":{\"id\":\"aff18973-5359-4141-9bf4-24b50f34de83\",\"type\":\"LinearScale\"},\"y_range\":{\"id\":\"9a9f2cdb-2b81-48da-95b8-2aac0702db4f\",\"type\":\"DataRange1d\"},\"y_scale\":{\"id\":\"4ba0ab32-45f2-4ac4-a9fe-73c219a08b2a\",\"type\":\"LinearScale\"}},\"id\":\"375d7b48-b152-4b5d-8724-6ecf9145803d\",\"subtype\":\"Figure\",\"type\":\"Plot\"},{\"attributes\":{\"plot\":null,\"text\":\"\"},\"id\":\"240f5b53-aa1d-4f53-92a3-e07d6dd7ac81\",\"type\":\"Title\"},{\"attributes\":{\"callback\":null,\"column_names\":[\"size\",\"x\",\"y\"],\"data\":{\"size\":{\"__ndarray__\":\"N4lBYOWOYEDtK2qLxn9cQA4tsp3vZz5A0qS5ugi8NkAEYzN2eDIzQC9+vz10nDBA1pS/1gAAMECY43BBET4uQKNwPQrXYyxAQq1p3nGKKUDPFJVoJEUlQHrxjwjXESJADYbf8v09IUANR6F2CWwgQMkS5/IwTiBAJpJDH4ckIEBlNzP60ZAdQJkttM5TyBxAyko4mV30GkBRZ+4h4bMZQKmLb4M16RhAec5xycyQGEAAXlWs0O4XQCBpJs5A0xNACyQofox5E0A2qz5XW3ETQBu7RPXWgBJAd1jywuc4EkDVw+EWPQESQBlQFI1a/hBAdqDzvwGKEEAfniXICOgPQJpjL8oiAw9AYiQgyyeADkBOLiF6rX8LQPUtc7ospgpAERyXcVNTCUCN8ieF1EgJQO38kdikkQhAwS4vZYU3B0CLprOTwREHQP+bcuAwDAdADAIrhxZZBkBENLqD2NkFQIp/jkWJnAVA8Pz9vW+3A0CWMyWjFA4DQNYG3RRFrgJApkHRPIBVAkAHUJ1Y8ecBQA3OlmL9NQFAw6UZQRl5AEDul09WDHcAQBk0mZb9HwBAwUExaNeT/j/4hy09mor+P2ZRM/9D1fw/oq/FE+bi+j+LUp1pHVD6PyNraF5pFPk/OLHRg8xf+D8AvoAD/8D3P3/5v37jhvc/aovGNZlM9z8bMQ6J1uX1P36d5cP9kfU/ZZOy+0RU9D9dXzXgPTH0P4ZovpTL8PM/yNsAIrOJ8z8TUzO1tvrxP/ON6J517fE/WBjH7Tx28T9gQIqVLCLxP09ev7vw/vA/VAbE2s6t8D/1Zz9SRIbwP2rCUU2kD/A/H+0kx0LZ7z/+Qo8YPXfvP6snTkkxG+8/WO672GoF7z/t8NdkjfruP0cscwS6gO0/EDtT6LzG6z8+chAZ+7frPwO23spt1uk/02Uxsfl46D8kXp7OFWXoP6/KKhFNhec/ET2ETI1r5z+InSl0XmPnP+TFeIMe4OU/oCmFirsL5T8U56ij46rkP6tVYG0xJOQ/HQJHAg324z98sDFUatvjP8AklSnmoOM/KRAs/Trm4j/7kSIyrCLiP+PQEa+hyuE/Ii6l01+U4T/J6rGIvADhP6T8pNqn4+A/EUGLW7sj4D+qDan9MYjfP7d6Tnrf+N4/w4YCET2E3j8An2nTIuzcPyb9vRQetNw/N/jCZKpg3D9QcLGiBlPcP0j019Byxds/e3q2WJuQ2z/8Uj9vKlLbPy73bpgN19o/ECOERxtH2D9nCp3X2CXYP3yFu2npQNc/DFC/sKHA1T+duYeE733VP+c+lMOCVtU/8H6BxYaT1D9dlyvN9x3UP491zNR/sdM/PVgQFInT0T/eve1Tn3XRP9/98V61MtE/TbOKSF7n0D/dq/tsiQHNP+BCwwcbQ8s/JhGGppE7yj8yYH/IESHKP9F7vsFy38k/cdAU8CGXyD+Orz2zJEDFP86oVORrKsQ/WGw40VOJwj/wbfqzHynBP2nZpOw+EcE/NtII7CBlwD8igavhxz3APzk3t1OE5b0/yu9+JgwUtj9q3Qa139qzP3ndbL3wlLE/boGpCx3gsD9c8cP3tHmwP+n7X2S48Ko//kutUtVfqj9AQ0mSMYipP/J2hNOCF6U/OsssQrEVpD/CkmHL4UmhPzvH26VoQKA/gUDCixk8nz+2lagoqPKXP1V3G4rxUJI/C/WqhN1mkD/IsfUM4ZiFP6PMYVLXNYU/\",\"dtype\":\"float64\",\"shape\":[162]},\"x\":{\"__ndarray__\":\"6Pup8dJN/D/b+X5qvHQFQARWDi2ynQBAdJMYBFYOAUAIrBxaZDv9P2Dl0CLb+Q5A6Pup8dJNAkD91HjpJrEUQH0/NV66SfY//tR46SYx9D9zaJHtfD8BQGmR7Xw/NQhA3SQGgZVDAEDJdr6fGi/1P7tJDAIrhwZA8tJNYhDYFEDNzMzMzMwAQOXQItv5fvw/8/3UeOkm/T9uEoPAyqEXQH9qvHSTGP4/bhKDwMqh/T89CtejcD32P3Noke18PwJACtejcD0KBEAv3SQGgZXzPy2yne+nxvU/sXJoke189z8IrBxaZDsDQBSuR+F6FBZACKwcWmQ7EEBjEFg5tMgBQFYOLbKdbxNAE4PAyqFF9D8j2/l+arwCQN0kBoGVQ/k/arx0kxgEGUB56SYxCKwCQOSlm8QgsA9AhetRuB4FGkA9CtejcD0EQC/dJAaBlQZAlkOLbOf7A0CWQ4ts5/sBQKrx0k1iEARAUrgehetRCEBEi2zn+6n9P+F6FK5H4RBAZmZmZmZmFECR7Xw/Nd4TQDMzMzMzM/U/dJMYBFYOEkD8qfHSTWIJQBFYObTIdgJAexSuR+F6EkBEi2zn+ykSQEA1XrpJjBZAN4lBYOXQ/j/AyqFFtvP7PycxCKwcWgJAd76fGi9dF0BSuB6F69EVQC2yne+nRhxArBxaZDvfBkDfT42XbhIQQLTIdr6fGgRAH4XrUbieFUCmm8QgsPIWQIGVQ4ts5wpAj8L1KFyPE0ApXI/C9Sj2PxSuR+F6FPg/bef7qfFSGEAlBoGVQ4v8P0A1XrpJDPY/MzMzMzMz9z/b+X5qvHT9P+xRuB6F6/U/TDeJQWDlBEA3iUFg5VAVQFK4HoXrURVALIcW2c73CkDl0CLb+X70P1YOLbKd7/0/001iEFg5AUBPjZduEoMVQM3MzMzMzBFAXI/C9Shc9z9g5dAi2/n2P5duEoPAyvk/hetRuB6FCUBqvHSTGAQGQM3MzMzMzApACtejcD0KEEBEi2zn+6kQQIlBYOXQIgVAN4lBYOXQB0BSuB6F61ELQFyPwvUoXAJA8/3UeOkmCEARWDm0yHYFQClcj8L1qBRAL90kBoGV/T/GSzeJQWD9P7+fGi/dJARAcT0K16NwA0DqJjEIrBwSQGiR7Xw/NfQ/KVyPwvUo/j9KDAIrhxb/P/yp8dJNYv4/30+Nl24S9z9zaJHtfD//P30/NV66yRJAHFpkO99P+T8zMzMzMzMAQNv5fmq8dP0/JQaBlUMLFEAxCKwcWmTzP9R46SYxCPg/VOOlm8QgBECsHFpkO9/1P4PAyqFFtgBAWmQ730+NEUBEi2zn+6n9PyyHFtnO9/s/bef7qfHSB0Cd76fGSzcBQEw3iUFg5QJAAyuHFtnO/z83iUFg5dD2P1K4HoXrUQpA6SYxCKwcCkBg5dAi2/n2P30/NV66SfY/+n5qvHSTBkDGSzeJQeATQIlBYOXQohZA7FG4HoXrCUBKDAIrhxb7PyYxCKwcWvo/4XoUrkfhAkB46SYxCKz8P5qZmZmZmQtAqMZLN4lB+D93vp8aL90BQBsv3SQGgQRAbhKDwMohFUAUrkfhehQPQLbz/dR46e4/lkOLbOf7AkDo+6nx0k0FQGq8dJMYBPQ/0SLb+X5qAEAshxbZzvcKQFg5tMh2vgBAAAAAAAAAAECq8dJNYhAPQDeJQWDl0A5AWDm0yHa+DUCDwMqhRbb7PwaBlUOLbA9A\",\"dtype\":\"float64\",\"shape\":[162]},\"y\":{\"__ndarray__\":\"AAAAAACgVkBmZmZmZmZJQAAAAAAAwFhAMzMzMzMzVkDNzMzMzIxWQAAAAAAAAERAZmZmZmbmSEBmZmZmZmZIQJqZmZmZ2VhAAAAAAADAWEAAAAAAAOBWQJqZmZmZeVdAzczMzMyMVkAAAAAAAMBYQGZmZmZm5kxAzczMzMzMNkAzMzMzM1NUQM3MzMzMTFNAAAAAAADgVkDNzMzMzAxMQAAAAAAAwFhAAAAAAADAWEAAAAAAAKBYQM3MzMzMTFZAZmZmZmYGVkBmZmZmZiZYQGZmZmZm5lhAmpmZmZk5WECamZmZmVlXQDMzMzMzk1BAzczMzMzMTUDNzMzMzGxYQDMzMzMzs1RAMzMzMzPTWEAzMzMzM/NPQAAAAAAAwFhAMzMzMzOzUEDNzMzMzAxGQM3MzMzMTFFAMzMzMzMzKUBmZmZmZiZVQDMzMzMzs0ZAmpmZmZm5V0CamZmZmblYQDMzMzMzc1ZAzczMzMwMVEAAAAAAAABZQGZmZmZmpk1AZmZmZmZmRUDNzMzMzAxEQJqZmZmZOVhAZmZmZmYmRkDNzMzMzExTQGZmZmZmRlZAMzMzMzNTUEAzMzMzM/NQQAAAAAAAgExAzczMzMysWEAAAAAAAMBYQAAAAAAA4FhAmpmZmZmZNUAzMzMzM3NQQDMzMzMzMy5AmpmZmZm5UUDNzMzMzCxRQM3MzMzMbFRAMzMzMzMzMkAAAAAAAIBOQDMzMzMzM1ZAAAAAAACAQECamZmZmflXQDMzMzMz81hAZmZmZmbmNUAAAAAAAMBYQJqZmZmZOVdAAAAAAADAWEAAAAAAAMBRQJqZmZmZuVhAMzMzMzMTVkBmZmZmZmY6QGZmZmZmhlBAAAAAAACAVUDNzMzMzOxYQAAAAAAAwFhAzczMzMzMWECamZmZmRk8QDMzMzMz801AAAAAAADAWECamZmZmXlYQM3MzMzMDFhAAAAAAADgVECamZmZmflXQAAAAAAA4FhAzczMzMzMS0CamZmZmdlKQDMzMzMzU1RAAAAAAABgV0CamZmZmZlPQJqZmZmZWVRAmpmZmZk5VkCamZmZmXlTQGZmZmZm5jxAAAAAAADAWEAAAAAAAABZQGZmZmZmxlhAMzMzMzPTWEAAAAAAAEBLQGZmZmZm5lZAAAAAAAAAWUDNzMzMzAxYQAAAAAAA4FZAAAAAAACAWEAAAAAAAMBYQM3MzMzMjERAzczMzMzsWEAAAAAAAMBYQAAAAAAAgFVAAAAAAACASkCamZmZmflXQDMzMzMzc1hAMzMzMzMzV0DNzMzMzOxYQAAAAAAAoFhAAAAAAADASEDNzMzMzKxYQJqZmZmZ2VhAmpmZmZk5VEBmZmZmZkZXQDMzMzMzs1ZAMzMzMzNzWEAzMzMzM/NYQM3MzMzM7FVAZmZmZmbGV0CamZmZmdlXQM3MzMzM7FhAAAAAAADgVEBmZmZmZiZBQAAAAAAAQEJAzczMzMzMVEAzMzMzM/NYQM3MzMzMjFhAmpmZmZmZVkAzMzMzMzNVQGZmZmZmZlVAzczMzMwsWECamZmZmVlWQJqZmZmZWUNAZmZmZmZGVkAzMzMzM/NQQM3MzMzMrFZAmpmZmZkZVkAzMzMzM9NTQAAAAAAAYFdAMzMzMzNTV0AAAAAAACBYQAAAAAAAwFhAmpmZmZmZWEAAAAAAAOBTQAAAAAAAoFhAMzMzMzPTVEAAAAAAAIBYQGZmZmZmxlhA\",\"dtype\":\"float64\",\"shape\":[162]}},\"selected\":null,\"selection_policy\":null},\"id\":\"3173bd62-da16-4fa4-b772-96f52eba241f\",\"type\":\"ColumnDataSource\"},{\"attributes\":{\"bottom_units\":\"screen\",\"fill_alpha\":{\"value\":0.5},\"fill_color\":{\"value\":\"lightgrey\"},\"left_units\":\"screen\",\"level\":\"overlay\",\"line_alpha\":{\"value\":1.0},\"line_color\":{\"value\":\"black\"},\"line_dash\":[4,4],\"line_width\":{\"value\":2},\"plot\":null,\"render_mode\":\"css\",\"right_units\":\"screen\",\"top_units\":\"screen\"},\"id\":\"bcf45b9f-32b8-4674-a15b-a317b7e8ec1f\",\"type\":\"BoxAnnotation\"},{\"attributes\":{},\"id\":\"ea6aad3a-d2f2-45e2-a41d-89e7acc88f8b\",\"type\":\"PanTool\"},{\"attributes\":{\"active_drag\":\"auto\",\"active_inspect\":\"auto\",\"active_scroll\":\"auto\",\"active_tap\":\"auto\",\"tools\":[{\"id\":\"ea6aad3a-d2f2-45e2-a41d-89e7acc88f8b\",\"type\":\"PanTool\"},{\"id\":\"cc52daf4-d2e2-4a4c-acb3-139b77ff7e83\",\"type\":\"WheelZoomTool\"},{\"id\":\"15663e79-afe0-4e39-be99-a34746855e97\",\"type\":\"BoxZoomTool\"},{\"id\":\"d12072cc-5312-4b34-aa31-cbdb946dbfd4\",\"type\":\"SaveTool\"},{\"id\":\"0439b67c-612e-4bfe-a218-6b6362042220\",\"type\":\"ResetTool\"},{\"id\":\"6f79092f-3f3a-4066-bfc7-07cf7420022e\",\"type\":\"HelpTool\"}]},\"id\":\"764293bc-6f01-4e8f-8376-298246ce6020\",\"type\":\"Toolbar\"},{\"attributes\":{\"callback\":null},\"id\":\"0f82341c-ff3c-427e-bb8b-43dbe21b6256\",\"type\":\"DataRange1d\"},{\"attributes\":{},\"id\":\"cc52daf4-d2e2-4a4c-acb3-139b77ff7e83\",\"type\":\"WheelZoomTool\"},{\"attributes\":{\"overlay\":{\"id\":\"bcf45b9f-32b8-4674-a15b-a317b7e8ec1f\",\"type\":\"BoxAnnotation\"}},\"id\":\"15663e79-afe0-4e39-be99-a34746855e97\",\"type\":\"BoxZoomTool\"},{\"attributes\":{\"callback\":null},\"id\":\"9a9f2cdb-2b81-48da-95b8-2aac0702db4f\",\"type\":\"DataRange1d\"},{\"attributes\":{},\"id\":\"d12072cc-5312-4b34-aa31-cbdb946dbfd4\",\"type\":\"SaveTool\"},{\"attributes\":{},\"id\":\"aff18973-5359-4141-9bf4-24b50f34de83\",\"type\":\"LinearScale\"},{\"attributes\":{},\"id\":\"0439b67c-612e-4bfe-a218-6b6362042220\",\"type\":\"ResetTool\"},{\"attributes\":{},\"id\":\"4ba0ab32-45f2-4ac4-a9fe-73c219a08b2a\",\"type\":\"LinearScale\"},{\"attributes\":{},\"id\":\"6f79092f-3f3a-4066-bfc7-07cf7420022e\",\"type\":\"HelpTool\"},{\"attributes\":{\"axis_label\":\"fertility (children per woman)\",\"formatter\":{\"id\":\"39bfb1a4-e32f-4ee6-bf79-9cf522fe38d1\",\"type\":\"BasicTickFormatter\"},\"plot\":{\"id\":\"375d7b48-b152-4b5d-8724-6ecf9145803d\",\"subtype\":\"Figure\",\"type\":\"Plot\"},\"ticker\":{\"id\":\"a9c8c7c9-488d-4994-bd12-e17161a62e6e\",\"type\":\"BasicTicker\"}},\"id\":\"4ef9c7d5-924f-4c90-9a78-7251fea15027\",\"type\":\"LinearAxis\"},{\"attributes\":{},\"id\":\"a9c8c7c9-488d-4994-bd12-e17161a62e6e\",\"type\":\"BasicTicker\"},{\"attributes\":{\"data_source\":{\"id\":\"3173bd62-da16-4fa4-b772-96f52eba241f\",\"type\":\"ColumnDataSource\"},\"glyph\":{\"id\":\"1372c2a4-b712-426c-ab51-5e20912d495b\",\"type\":\"Circle\"},\"hover_glyph\":null,\"muted_glyph\":null,\"nonselection_glyph\":{\"id\":\"6bc30157-cc9b-4239-9a57-e48c6fdd439c\",\"type\":\"Circle\"},\"selection_glyph\":null,\"view\":{\"id\":\"f8457cdd-9a73-45bb-b020-a91c2fbbe8c6\",\"type\":\"CDSView\"}},\"id\":\"676062ba-0b24-4585-aec7-c71a6678799d\",\"type\":\"GlyphRenderer\"},{\"attributes\":{\"fill_alpha\":{\"value\":0.1},\"fill_color\":{\"value\":\"#1f77b4\"},\"line_alpha\":{\"value\":0.1},\"line_color\":{\"value\":\"#1f77b4\"},\"size\":{\"field\":\"size\",\"units\":\"screen\"},\"x\":{\"field\":\"x\"},\"y\":{\"field\":\"y\"}},\"id\":\"6bc30157-cc9b-4239-9a57-e48c6fdd439c\",\"type\":\"Circle\"},{\"attributes\":{\"plot\":{\"id\":\"375d7b48-b152-4b5d-8724-6ecf9145803d\",\"subtype\":\"Figure\",\"type\":\"Plot\"},\"ticker\":{\"id\":\"a9c8c7c9-488d-4994-bd12-e17161a62e6e\",\"type\":\"BasicTicker\"}},\"id\":\"6c98026e-96df-456a-97c0-84f0d9275778\",\"type\":\"Grid\"},{\"attributes\":{},\"id\":\"39bfb1a4-e32f-4ee6-bf79-9cf522fe38d1\",\"type\":\"BasicTickFormatter\"},{\"attributes\":{\"fill_alpha\":{\"value\":0.5},\"fill_color\":{\"value\":\"#1f77b4\"},\"line_color\":{\"value\":\"#1f77b4\"},\"size\":{\"field\":\"size\",\"units\":\"screen\"},\"x\":{\"field\":\"x\"},\"y\":{\"field\":\"y\"}},\"id\":\"1372c2a4-b712-426c-ab51-5e20912d495b\",\"type\":\"Circle\"},{\"attributes\":{\"axis_label\":\"female literacy (% population)\",\"formatter\":{\"id\":\"0ac1b2dd-1950-4e77-b455-3db28f23ab47\",\"type\":\"BasicTickFormatter\"},\"plot\":{\"id\":\"375d7b48-b152-4b5d-8724-6ecf9145803d\",\"subtype\":\"Figure\",\"type\":\"Plot\"},\"ticker\":{\"id\":\"ebb7e952-fa9e-4547-8394-8190e8ef39db\",\"type\":\"BasicTicker\"}},\"id\":\"2e40b5f7-225d-4b39-a854-d75309e0d192\",\"type\":\"LinearAxis\"},{\"attributes\":{},\"id\":\"ebb7e952-fa9e-4547-8394-8190e8ef39db\",\"type\":\"BasicTicker\"}],\"root_ids\":[\"375d7b48-b152-4b5d-8724-6ecf9145803d\"]},\"title\":\"Bokeh Application\",\"version\":\"0.12.15\"}};\n",
       "  var render_items = [{\"docid\":\"25c3528a-3ac5-4798-8b95-29a67561d0aa\",\"elementid\":\"efe72dff-5754-4aca-83cd-d29f16114c5c\",\"modelid\":\"375d7b48-b152-4b5d-8724-6ecf9145803d\"}];\n",
       "  root.Bokeh.embed.embed_items_notebook(docs_json, render_items);\n",
       "\n",
       "  }\n",
       "  if (root.Bokeh !== undefined) {\n",
       "    embed_document(root);\n",
       "  } else {\n",
       "    var attempts = 0;\n",
       "    var timer = setInterval(function(root) {\n",
       "      if (root.Bokeh !== undefined) {\n",
       "        embed_document(root);\n",
       "        clearInterval(timer);\n",
       "      }\n",
       "      attempts++;\n",
       "      if (attempts > 100) {\n",
       "        console.log(\"Bokeh: ERROR: Unable to run BokehJS code because BokehJS library is missing\")\n",
       "        clearInterval(timer);\n",
       "      }\n",
       "    }, 10, root)\n",
       "  }\n",
       "})(window);"
      ],
      "application/vnd.bokehjs_exec.v0+json": ""
     },
     "metadata": {
      "application/vnd.bokehjs_exec.v0+json": {
       "id": "375d7b48-b152-4b5d-8724-6ecf9145803d"
      }
     },
     "output_type": "display_data"
    }
   ],
   "source": [
    "p = figure(plot_width = 600, plot_height = 600, \n",
    "           x_axis_label = 'fertility (children per woman)',\n",
    "           y_axis_label = 'female literacy (% population)')\n",
    "p.circle(df['fertility'], df['female literacy'], size = 0.0000001 * df['population'], fill_alpha = 0.5)\n",
    "show(p)"
   ]
  },
  {
   "cell_type": "code",
   "execution_count": 18,
   "metadata": {},
   "outputs": [],
   "source": [
    "# Crear dos datasets con los datos solo de Latinoamerica y africa\n",
    "df_LAT = df[df.Continent =='LAT']\n",
    "df_AF = df[df.Continent == 'AF']"
   ]
  },
  {
   "cell_type": "code",
   "execution_count": 19,
   "metadata": {},
   "outputs": [
    {
     "data": {
      "text/html": [
       "\n",
       "<div class=\"bk-root\">\n",
       "    <div class=\"bk-plotdiv\" id=\"6b40fc7c-84c2-4bae-8ef1-c83f7fcb4469\"></div>\n",
       "</div>"
      ]
     },
     "metadata": {},
     "output_type": "display_data"
    },
    {
     "data": {
      "application/javascript": [
       "(function(root) {\n",
       "  function embed_document(root) {\n",
       "    \n",
       "  var docs_json = {\"ad9625b0-80c3-4090-8cf1-c9f15ecda945\":{\"roots\":{\"references\":[{\"attributes\":{\"source\":{\"id\":\"6de49099-ecc5-452f-8bf7-8623f6cb152f\",\"type\":\"ColumnDataSource\"}},\"id\":\"685b05ce-76ac-40db-bc7e-2b9ac89c225f\",\"type\":\"CDSView\"},{\"attributes\":{\"fill_color\":{\"value\":\"#1f77b4\"},\"line_color\":{\"value\":\"#1f77b4\"},\"x\":{\"field\":\"x\"},\"y\":{\"field\":\"y\"}},\"id\":\"88a61eea-350c-4e26-b176-2f168785a798\",\"type\":\"X\"},{\"attributes\":{\"below\":[{\"id\":\"74fa0eb4-9c2e-427e-a2e3-c770bbfad352\",\"type\":\"LinearAxis\"}],\"left\":[{\"id\":\"db4cd552-007f-4af3-9723-e67a5b95406a\",\"type\":\"LinearAxis\"}],\"renderers\":[{\"id\":\"74fa0eb4-9c2e-427e-a2e3-c770bbfad352\",\"type\":\"LinearAxis\"},{\"id\":\"d53eb66b-1120-40a7-b51c-d09357149b89\",\"type\":\"Grid\"},{\"id\":\"db4cd552-007f-4af3-9723-e67a5b95406a\",\"type\":\"LinearAxis\"},{\"id\":\"e5cbce00-96e9-4d7a-b291-98a9ed8f1cf2\",\"type\":\"Grid\"},{\"id\":\"f64acb3d-681c-42a9-8dc5-b0d6507bf0ab\",\"type\":\"BoxAnnotation\"},{\"id\":\"a711508b-3805-406e-8f7f-9458b4ca2f19\",\"type\":\"GlyphRenderer\"},{\"id\":\"c688b52c-836f-4c32-ac92-50e83a701794\",\"type\":\"GlyphRenderer\"}],\"title\":{\"id\":\"200dfbbc-1cec-4651-9933-6e86b205dfd0\",\"type\":\"Title\"},\"toolbar\":{\"id\":\"f0ec1ab3-2e23-4460-903e-c909fa71dd30\",\"type\":\"Toolbar\"},\"x_range\":{\"id\":\"556d0b89-647d-4eed-912d-47f5c64da026\",\"type\":\"DataRange1d\"},\"x_scale\":{\"id\":\"b7f93380-13b7-4a4c-9404-5e7f05d0cb91\",\"type\":\"LinearScale\"},\"y_range\":{\"id\":\"a2c8ce4b-3d13-48d2-bb54-65c3d2cad17f\",\"type\":\"DataRange1d\"},\"y_scale\":{\"id\":\"5a8a065d-0ed2-4f8b-a0bd-c0c52c269eb1\",\"type\":\"LinearScale\"}},\"id\":\"b34a5d1b-4797-400a-ac66-f77a0ced4701\",\"subtype\":\"Figure\",\"type\":\"Plot\"},{\"attributes\":{\"fill_alpha\":{\"value\":0.1},\"fill_color\":{\"value\":\"#1f77b4\"},\"line_alpha\":{\"value\":0.1},\"line_color\":{\"value\":\"#1f77b4\"},\"x\":{\"field\":\"x\"},\"y\":{\"field\":\"y\"}},\"id\":\"a5d25c14-2b51-41f1-b6e4-7573e7eeeec0\",\"type\":\"Circle\"},{\"attributes\":{\"active_drag\":\"auto\",\"active_inspect\":\"auto\",\"active_scroll\":\"auto\",\"active_tap\":\"auto\",\"tools\":[{\"id\":\"e1b5ca35-70dd-431c-a371-16a6e1cbcb2d\",\"type\":\"PanTool\"},{\"id\":\"937636ad-c502-4937-b8f0-380d6102cb8b\",\"type\":\"WheelZoomTool\"},{\"id\":\"b53702da-94db-4e05-a63f-f771d6571f5a\",\"type\":\"BoxZoomTool\"},{\"id\":\"fcb43ad8-d787-428c-9444-5be46454072d\",\"type\":\"SaveTool\"},{\"id\":\"20e052c7-3ae3-4361-b150-7b0bbda2153a\",\"type\":\"ResetTool\"},{\"id\":\"c6b32f97-ba69-4e3f-a7f4-1bcc8580c507\",\"type\":\"HelpTool\"}]},\"id\":\"f0ec1ab3-2e23-4460-903e-c909fa71dd30\",\"type\":\"Toolbar\"},{\"attributes\":{\"callback\":null},\"id\":\"556d0b89-647d-4eed-912d-47f5c64da026\",\"type\":\"DataRange1d\"},{\"attributes\":{\"plot\":null,\"text\":\"\"},\"id\":\"200dfbbc-1cec-4651-9933-6e86b205dfd0\",\"type\":\"Title\"},{\"attributes\":{\"callback\":null},\"id\":\"a2c8ce4b-3d13-48d2-bb54-65c3d2cad17f\",\"type\":\"DataRange1d\"},{\"attributes\":{},\"id\":\"b7f93380-13b7-4a4c-9404-5e7f05d0cb91\",\"type\":\"LinearScale\"},{\"attributes\":{},\"id\":\"5a8a065d-0ed2-4f8b-a0bd-c0c52c269eb1\",\"type\":\"LinearScale\"},{\"attributes\":{\"fill_alpha\":{\"value\":0.1},\"fill_color\":{\"value\":\"#1f77b4\"},\"line_alpha\":{\"value\":0.1},\"line_color\":{\"value\":\"#1f77b4\"},\"x\":{\"field\":\"x\"},\"y\":{\"field\":\"y\"}},\"id\":\"f1d799d1-259c-450c-b0a0-011552376749\",\"type\":\"X\"},{\"attributes\":{\"axis_label\":\"fertility (children per woman)\",\"formatter\":{\"id\":\"c0b17578-315f-4314-8a12-64e5510f5d23\",\"type\":\"BasicTickFormatter\"},\"plot\":{\"id\":\"b34a5d1b-4797-400a-ac66-f77a0ced4701\",\"subtype\":\"Figure\",\"type\":\"Plot\"},\"ticker\":{\"id\":\"2ed4e737-6425-43d7-acc5-963e8de85dff\",\"type\":\"BasicTicker\"}},\"id\":\"74fa0eb4-9c2e-427e-a2e3-c770bbfad352\",\"type\":\"LinearAxis\"},{\"attributes\":{},\"id\":\"2ed4e737-6425-43d7-acc5-963e8de85dff\",\"type\":\"BasicTicker\"},{\"attributes\":{},\"id\":\"c0b17578-315f-4314-8a12-64e5510f5d23\",\"type\":\"BasicTickFormatter\"},{\"attributes\":{\"plot\":{\"id\":\"b34a5d1b-4797-400a-ac66-f77a0ced4701\",\"subtype\":\"Figure\",\"type\":\"Plot\"},\"ticker\":{\"id\":\"2ed4e737-6425-43d7-acc5-963e8de85dff\",\"type\":\"BasicTicker\"}},\"id\":\"d53eb66b-1120-40a7-b51c-d09357149b89\",\"type\":\"Grid\"},{\"attributes\":{\"axis_label\":\"female literacy (% population)\",\"formatter\":{\"id\":\"1a904ffb-d568-44ee-a5ac-43abef65d236\",\"type\":\"BasicTickFormatter\"},\"plot\":{\"id\":\"b34a5d1b-4797-400a-ac66-f77a0ced4701\",\"subtype\":\"Figure\",\"type\":\"Plot\"},\"ticker\":{\"id\":\"44de1302-45f9-459b-9ba3-166b98f9cf30\",\"type\":\"BasicTicker\"}},\"id\":\"db4cd552-007f-4af3-9723-e67a5b95406a\",\"type\":\"LinearAxis\"},{\"attributes\":{},\"id\":\"44de1302-45f9-459b-9ba3-166b98f9cf30\",\"type\":\"BasicTicker\"},{\"attributes\":{\"dimension\":1,\"plot\":{\"id\":\"b34a5d1b-4797-400a-ac66-f77a0ced4701\",\"subtype\":\"Figure\",\"type\":\"Plot\"},\"ticker\":{\"id\":\"44de1302-45f9-459b-9ba3-166b98f9cf30\",\"type\":\"BasicTicker\"}},\"id\":\"e5cbce00-96e9-4d7a-b291-98a9ed8f1cf2\",\"type\":\"Grid\"},{\"attributes\":{\"fill_color\":{\"value\":\"#1f77b4\"},\"line_color\":{\"value\":\"#1f77b4\"},\"x\":{\"field\":\"x\"},\"y\":{\"field\":\"y\"}},\"id\":\"db7021b7-2fbb-4a72-8381-3b9a6f8d3c0d\",\"type\":\"Circle\"},{\"attributes\":{\"callback\":null,\"column_names\":[\"x\",\"y\"],\"data\":{\"x\":{\"__ndarray__\":\"CKwcWmQ7/T9zaJHtfD8BQAisHFpkOwNAYxBYObTIAUA9CtejcD0EQJZDi2zn+wNAN4lBYOXQ/j/fT42XbhIQQLTIdr6fGgRAFK5H4XoU+D9MN4lBYOUEQCyHFtnO9wpAhetRuB6FCUA3iUFg5dAHQFyPwvUoXAJAEVg5tMh2BUBKDAIrhxb/P1TjpZvEIARAg8DKoUW2AEBMN4lBYOUCQCYxCKwcWvo/lkOLbOf7AkAshxbZzvcKQIPAyqFFtvs/\",\"dtype\":\"float64\",\"shape\":[24]},\"y\":{\"__ndarray__\":\"zczMzMyMVkAAAAAAAOBWQJqZmZmZWVdAzczMzMxsWEBmZmZmZiZVQJqZmZmZuVdAzczMzMysWEDNzMzMzCxRQM3MzMzMbFRAMzMzMzPzWEAzMzMzMxNWQAAAAAAAgFVAAAAAAADgVEAAAAAAAGBXQJqZmZmZWVRAmpmZmZl5U0DNzMzMzAxYQDMzMzMzM1dAAAAAAACgWEAzMzMzM7NWQM3MzMzMjFhAmpmZmZkZVkAAAAAAACBYQAAAAAAAgFhA\",\"dtype\":\"float64\",\"shape\":[24]}},\"selected\":null,\"selection_policy\":null},\"id\":\"0da8ca51-7404-4e3d-be8c-f77d74fbe8e3\",\"type\":\"ColumnDataSource\"},{\"attributes\":{\"bottom_units\":\"screen\",\"fill_alpha\":{\"value\":0.5},\"fill_color\":{\"value\":\"lightgrey\"},\"left_units\":\"screen\",\"level\":\"overlay\",\"line_alpha\":{\"value\":1.0},\"line_color\":{\"value\":\"black\"},\"line_dash\":[4,4],\"line_width\":{\"value\":2},\"plot\":null,\"render_mode\":\"css\",\"right_units\":\"screen\",\"top_units\":\"screen\"},\"id\":\"f64acb3d-681c-42a9-8dc5-b0d6507bf0ab\",\"type\":\"BoxAnnotation\"},{\"attributes\":{},\"id\":\"e1b5ca35-70dd-431c-a371-16a6e1cbcb2d\",\"type\":\"PanTool\"},{\"attributes\":{\"data_source\":{\"id\":\"0da8ca51-7404-4e3d-be8c-f77d74fbe8e3\",\"type\":\"ColumnDataSource\"},\"glyph\":{\"id\":\"db7021b7-2fbb-4a72-8381-3b9a6f8d3c0d\",\"type\":\"Circle\"},\"hover_glyph\":null,\"muted_glyph\":null,\"nonselection_glyph\":{\"id\":\"a5d25c14-2b51-41f1-b6e4-7573e7eeeec0\",\"type\":\"Circle\"},\"selection_glyph\":null,\"view\":{\"id\":\"d112a4bf-a8ef-4f37-968c-d692a19173aa\",\"type\":\"CDSView\"}},\"id\":\"a711508b-3805-406e-8f7f-9458b4ca2f19\",\"type\":\"GlyphRenderer\"},{\"attributes\":{},\"id\":\"937636ad-c502-4937-b8f0-380d6102cb8b\",\"type\":\"WheelZoomTool\"},{\"attributes\":{\"overlay\":{\"id\":\"f64acb3d-681c-42a9-8dc5-b0d6507bf0ab\",\"type\":\"BoxAnnotation\"}},\"id\":\"b53702da-94db-4e05-a63f-f771d6571f5a\",\"type\":\"BoxZoomTool\"},{\"attributes\":{},\"id\":\"fcb43ad8-d787-428c-9444-5be46454072d\",\"type\":\"SaveTool\"},{\"attributes\":{},\"id\":\"20e052c7-3ae3-4361-b150-7b0bbda2153a\",\"type\":\"ResetTool\"},{\"attributes\":{},\"id\":\"c6b32f97-ba69-4e3f-a7f4-1bcc8580c507\",\"type\":\"HelpTool\"},{\"attributes\":{\"data_source\":{\"id\":\"6de49099-ecc5-452f-8bf7-8623f6cb152f\",\"type\":\"ColumnDataSource\"},\"glyph\":{\"id\":\"88a61eea-350c-4e26-b176-2f168785a798\",\"type\":\"X\"},\"hover_glyph\":null,\"muted_glyph\":null,\"nonselection_glyph\":{\"id\":\"f1d799d1-259c-450c-b0a0-011552376749\",\"type\":\"X\"},\"selection_glyph\":null,\"view\":{\"id\":\"685b05ce-76ac-40db-bc7e-2b9ac89c225f\",\"type\":\"CDSView\"}},\"id\":\"c688b52c-836f-4c32-ac92-50e83a701794\",\"type\":\"GlyphRenderer\"},{\"attributes\":{\"source\":{\"id\":\"0da8ca51-7404-4e3d-be8c-f77d74fbe8e3\",\"type\":\"ColumnDataSource\"}},\"id\":\"d112a4bf-a8ef-4f37-968c-d692a19173aa\",\"type\":\"CDSView\"},{\"attributes\":{},\"id\":\"1a904ffb-d568-44ee-a5ac-43abef65d236\",\"type\":\"BasicTickFormatter\"},{\"attributes\":{\"callback\":null,\"column_names\":[\"x\",\"y\"],\"data\":{\"x\":{\"__ndarray__\":\"/dR46SaxFEC7SQwCK4cGQPLSTWIQ2BRAbhKDwMqhF0AK16NwPQoEQBSuR+F6FBZACKwcWmQ7EEBWDi2ynW8TQCPb+X5qvAJAarx0kxgEGUB56SYxCKwCQOF6FK5H4RBAke18PzXeE0B0kxgEVg4SQHsUrkfhehJARIts5/spEkBANV66SYwWQHe+nxovXRdAUrgehevRFUAtsp3vp0YcQB+F61G4nhVAppvEILDyFkCBlUOLbOcKQI/C9ShcjxNAbef7qfFSGEDb+X5qvHT9PzeJQWDlUBVAUrgehetRFUBPjZduEoMVQM3MzMzMzBFARIts5/upEECJQWDl0CIFQClcj8L1qBRA6iYxCKwcEkB9PzVeuskSQCUGgZVDCxRAWmQ730+NEUBSuB6F61EKQOkmMQisHApA+n5qvHSTBkDGSzeJQeATQIlBYOXQohZA7FG4HoXrCUB46SYxCKz8P5qZmZmZmQtAbhKDwMohFUAUrkfhehQPQOj7qfHSTQVAWDm0yHa+DUA=\",\"dtype\":\"float64\",\"shape\":[49]},\"y\":{\"__ndarray__\":\"ZmZmZmZmSEBmZmZmZuZMQM3MzMzMzDZAzczMzMwMTEBmZmZmZgZWQDMzMzMzk1BAzczMzMzMTUAzMzMzM7NUQDMzMzMz809AMzMzMzOzUEDNzMzMzAxGQGZmZmZmpk1AzczMzMwMREBmZmZmZiZGQDMzMzMzU1BAMzMzMzPzUEAAAAAAAIBMQJqZmZmZmTVAMzMzMzNzUEAzMzMzMzMuQDMzMzMzMzJAAAAAAACATkAzMzMzMzNWQAAAAAAAgEBAZmZmZmbmNUAAAAAAAMBRQGZmZmZmZjpAZmZmZmaGUECamZmZmRk8QDMzMzMz801AmpmZmZnZSkAzMzMzM1NUQGZmZmZm5jxAAAAAAABAS0DNzMzMzIxEQAAAAAAAgEpAAAAAAADASEDNzMzMzOxVQGZmZmZmxldAAAAAAADgVEBmZmZmZiZBQAAAAAAAQEJAzczMzMzMVEAzMzMzMzNVQGZmZmZmZlVAZmZmZmZGVkAzMzMzM/NQQDMzMzMz01NAMzMzMzPTVEA=\",\"dtype\":\"float64\",\"shape\":[49]}},\"selected\":null,\"selection_policy\":null},\"id\":\"6de49099-ecc5-452f-8bf7-8623f6cb152f\",\"type\":\"ColumnDataSource\"}],\"root_ids\":[\"b34a5d1b-4797-400a-ac66-f77a0ced4701\"]},\"title\":\"Bokeh Application\",\"version\":\"0.12.15\"}};\n",
       "  var render_items = [{\"docid\":\"ad9625b0-80c3-4090-8cf1-c9f15ecda945\",\"elementid\":\"6b40fc7c-84c2-4bae-8ef1-c83f7fcb4469\",\"modelid\":\"b34a5d1b-4797-400a-ac66-f77a0ced4701\"}];\n",
       "  root.Bokeh.embed.embed_items_notebook(docs_json, render_items);\n",
       "\n",
       "  }\n",
       "  if (root.Bokeh !== undefined) {\n",
       "    embed_document(root);\n",
       "  } else {\n",
       "    var attempts = 0;\n",
       "    var timer = setInterval(function(root) {\n",
       "      if (root.Bokeh !== undefined) {\n",
       "        embed_document(root);\n",
       "        clearInterval(timer);\n",
       "      }\n",
       "      attempts++;\n",
       "      if (attempts > 100) {\n",
       "        console.log(\"Bokeh: ERROR: Unable to run BokehJS code because BokehJS library is missing\")\n",
       "        clearInterval(timer);\n",
       "      }\n",
       "    }, 10, root)\n",
       "  }\n",
       "})(window);"
      ],
      "application/vnd.bokehjs_exec.v0+json": ""
     },
     "metadata": {
      "application/vnd.bokehjs_exec.v0+json": {
       "id": "b34a5d1b-4797-400a-ac66-f77a0ced4701"
      }
     },
     "output_type": "display_data"
    }
   ],
   "source": [
    "# Hacer el mismo gráfico con los datasets filtrados (conjuntamente, cada uno una marca distinta en el gráfico)\n",
    "p = figure(plot_width = 600, plot_height = 600, \n",
    "           x_axis_label = 'fertility (children per woman)',\n",
    "           y_axis_label = 'female literacy (% population)')\n",
    "p.circle(df_LAT['fertility'], df_LAT['female literacy'])\n",
    "p.x(df_AF['fertility'], df_AF['female literacy'])\n",
    "show(p)"
   ]
  },
  {
   "cell_type": "code",
   "execution_count": 20,
   "metadata": {},
   "outputs": [
    {
     "data": {
      "text/html": [
       "\n",
       "<div class=\"bk-root\">\n",
       "    <div class=\"bk-plotdiv\" id=\"8e3b8416-622d-4811-81d3-211b0cea647b\"></div>\n",
       "</div>"
      ]
     },
     "metadata": {},
     "output_type": "display_data"
    },
    {
     "data": {
      "application/javascript": [
       "(function(root) {\n",
       "  function embed_document(root) {\n",
       "    \n",
       "  var docs_json = {\"0fb229e9-9e85-48ba-be98-f906d28eb390\":{\"roots\":{\"references\":[{\"attributes\":{},\"id\":\"b2d36931-f55b-4ae3-8326-3881f4856b29\",\"type\":\"PanTool\"},{\"attributes\":{\"bottom_units\":\"screen\",\"fill_alpha\":{\"value\":0.5},\"fill_color\":{\"value\":\"lightgrey\"},\"left_units\":\"screen\",\"level\":\"overlay\",\"line_alpha\":{\"value\":1.0},\"line_color\":{\"value\":\"black\"},\"line_dash\":[4,4],\"line_width\":{\"value\":2},\"plot\":null,\"render_mode\":\"css\",\"right_units\":\"screen\",\"top_units\":\"screen\"},\"id\":\"f1ec76bb-c7ac-4d0d-b415-2fcf7e2e62de\",\"type\":\"BoxAnnotation\"},{\"attributes\":{},\"id\":\"f425548e-9f13-4d09-b445-e1a6c32cb265\",\"type\":\"WheelZoomTool\"},{\"attributes\":{\"fill_alpha\":{\"value\":0.7},\"fill_color\":{\"value\":\"blue\"},\"line_alpha\":{\"value\":0.7},\"line_color\":{\"value\":\"blue\"},\"size\":{\"units\":\"screen\",\"value\":10},\"x\":{\"field\":\"x\"},\"y\":{\"field\":\"y\"}},\"id\":\"2dbd71e3-2016-4bb9-acb6-d3cc80d1000c\",\"type\":\"Circle\"},{\"attributes\":{\"data_source\":{\"id\":\"d553a888-f4b2-418f-b0cf-2103f7bf4663\",\"type\":\"ColumnDataSource\"},\"glyph\":{\"id\":\"2dbd71e3-2016-4bb9-acb6-d3cc80d1000c\",\"type\":\"Circle\"},\"hover_glyph\":null,\"muted_glyph\":null,\"nonselection_glyph\":{\"id\":\"126386d0-86b5-40d0-83f5-e6d657b41083\",\"type\":\"Circle\"},\"selection_glyph\":null,\"view\":{\"id\":\"bbaba00b-fa36-4ee0-bbb4-c11639525895\",\"type\":\"CDSView\"}},\"id\":\"135845ce-1781-42a9-bad4-f8ed846762ee\",\"type\":\"GlyphRenderer\"},{\"attributes\":{\"overlay\":{\"id\":\"f1ec76bb-c7ac-4d0d-b415-2fcf7e2e62de\",\"type\":\"BoxAnnotation\"}},\"id\":\"74091b0a-564b-4675-8ce8-b0e4c46aef46\",\"type\":\"BoxZoomTool\"},{\"attributes\":{},\"id\":\"51405096-307b-4ea9-b59c-cd838ec53b7b\",\"type\":\"SaveTool\"},{\"attributes\":{},\"id\":\"67d7364a-9cf8-47ee-90e4-705739a9f8c4\",\"type\":\"ResetTool\"},{\"attributes\":{\"fill_alpha\":{\"value\":0.1},\"fill_color\":{\"value\":\"#1f77b4\"},\"line_alpha\":{\"value\":0.1},\"line_color\":{\"value\":\"#1f77b4\"},\"size\":{\"units\":\"screen\",\"value\":10},\"x\":{\"field\":\"x\"},\"y\":{\"field\":\"y\"}},\"id\":\"126386d0-86b5-40d0-83f5-e6d657b41083\",\"type\":\"Circle\"},{\"attributes\":{},\"id\":\"6a31baf2-0951-4c5d-8b25-30b95bdb923d\",\"type\":\"HelpTool\"},{\"attributes\":{\"plot\":null,\"text\":\"\"},\"id\":\"66655463-4ae7-4f98-8e7e-e289b50bbc1b\",\"type\":\"Title\"},{\"attributes\":{},\"id\":\"cd353ab0-92b0-4634-a61c-6524e3b96b00\",\"type\":\"BasicTickFormatter\"},{\"attributes\":{},\"id\":\"7f394a19-579c-4f99-a4ed-60e2dff25de3\",\"type\":\"BasicTickFormatter\"},{\"attributes\":{\"active_drag\":\"auto\",\"active_inspect\":\"auto\",\"active_scroll\":\"auto\",\"active_tap\":\"auto\",\"tools\":[{\"id\":\"b2d36931-f55b-4ae3-8326-3881f4856b29\",\"type\":\"PanTool\"},{\"id\":\"f425548e-9f13-4d09-b445-e1a6c32cb265\",\"type\":\"WheelZoomTool\"},{\"id\":\"74091b0a-564b-4675-8ce8-b0e4c46aef46\",\"type\":\"BoxZoomTool\"},{\"id\":\"51405096-307b-4ea9-b59c-cd838ec53b7b\",\"type\":\"SaveTool\"},{\"id\":\"67d7364a-9cf8-47ee-90e4-705739a9f8c4\",\"type\":\"ResetTool\"},{\"id\":\"6a31baf2-0951-4c5d-8b25-30b95bdb923d\",\"type\":\"HelpTool\"}]},\"id\":\"9ce5a4ef-78c3-4e31-afb0-fb80aec5c0b3\",\"type\":\"Toolbar\"},{\"attributes\":{\"source\":{\"id\":\"816398a9-4b42-4d61-a0dc-9a78e0a98b0e\",\"type\":\"ColumnDataSource\"}},\"id\":\"28098855-f100-4ca2-9e22-b7a1147450cf\",\"type\":\"CDSView\"},{\"attributes\":{\"callback\":null,\"column_names\":[\"x\",\"y\"],\"data\":{\"x\":{\"__ndarray__\":\"CKwcWmQ7/T9zaJHtfD8BQAisHFpkOwNAYxBYObTIAUA9CtejcD0EQJZDi2zn+wNAN4lBYOXQ/j/fT42XbhIQQLTIdr6fGgRAFK5H4XoU+D9MN4lBYOUEQCyHFtnO9wpAhetRuB6FCUA3iUFg5dAHQFyPwvUoXAJAEVg5tMh2BUBKDAIrhxb/P1TjpZvEIARAg8DKoUW2AEBMN4lBYOUCQCYxCKwcWvo/lkOLbOf7AkAshxbZzvcKQIPAyqFFtvs/\",\"dtype\":\"float64\",\"shape\":[24]},\"y\":{\"__ndarray__\":\"zczMzMyMVkAAAAAAAOBWQJqZmZmZWVdAzczMzMxsWEBmZmZmZiZVQJqZmZmZuVdAzczMzMysWEDNzMzMzCxRQM3MzMzMbFRAMzMzMzPzWEAzMzMzMxNWQAAAAAAAgFVAAAAAAADgVEAAAAAAAGBXQJqZmZmZWVRAmpmZmZl5U0DNzMzMzAxYQDMzMzMzM1dAAAAAAACgWEAzMzMzM7NWQM3MzMzMjFhAmpmZmZkZVkAAAAAAACBYQAAAAAAAgFhA\",\"dtype\":\"float64\",\"shape\":[24]}},\"selected\":null,\"selection_policy\":null},\"id\":\"d553a888-f4b2-418f-b0cf-2103f7bf4663\",\"type\":\"ColumnDataSource\"},{\"attributes\":{\"dimension\":1,\"plot\":{\"id\":\"fa8e45ce-1aec-41e4-8ca5-52baf668102d\",\"subtype\":\"Figure\",\"type\":\"Plot\"},\"ticker\":{\"id\":\"4ce32ff3-6ec8-420a-a932-ddfd8fda7342\",\"type\":\"BasicTicker\"}},\"id\":\"72a7c89b-3d54-47d7-bb42-6aa4c6107219\",\"type\":\"Grid\"},{\"attributes\":{\"data_source\":{\"id\":\"816398a9-4b42-4d61-a0dc-9a78e0a98b0e\",\"type\":\"ColumnDataSource\"},\"glyph\":{\"id\":\"a72a92f9-bad8-4c4f-80bb-6ebe37b449ea\",\"type\":\"Circle\"},\"hover_glyph\":null,\"muted_glyph\":null,\"nonselection_glyph\":{\"id\":\"801dbd6d-bdda-447f-80e6-bc7fe7ffa30d\",\"type\":\"Circle\"},\"selection_glyph\":null,\"view\":{\"id\":\"28098855-f100-4ca2-9e22-b7a1147450cf\",\"type\":\"CDSView\"}},\"id\":\"223e039f-8cf6-4e9a-b429-4be4c3c5a67e\",\"type\":\"GlyphRenderer\"},{\"attributes\":{\"fill_alpha\":{\"value\":0.1},\"fill_color\":{\"value\":\"#1f77b4\"},\"line_alpha\":{\"value\":0.1},\"line_color\":{\"value\":\"#1f77b4\"},\"size\":{\"units\":\"screen\",\"value\":10},\"x\":{\"field\":\"x\"},\"y\":{\"field\":\"y\"}},\"id\":\"801dbd6d-bdda-447f-80e6-bc7fe7ffa30d\",\"type\":\"Circle\"},{\"attributes\":{\"callback\":null},\"id\":\"976b4f89-0e39-4b77-9a99-c2293bfbf24f\",\"type\":\"DataRange1d\"},{\"attributes\":{\"below\":[{\"id\":\"76035eea-3cff-45c8-aaa3-dfe1db14a68b\",\"type\":\"LinearAxis\"}],\"left\":[{\"id\":\"ce26e2cf-3dcf-4478-9127-9e53b5f119be\",\"type\":\"LinearAxis\"}],\"renderers\":[{\"id\":\"76035eea-3cff-45c8-aaa3-dfe1db14a68b\",\"type\":\"LinearAxis\"},{\"id\":\"5e2bae5a-df26-4f23-978b-a7c32dc39a4c\",\"type\":\"Grid\"},{\"id\":\"ce26e2cf-3dcf-4478-9127-9e53b5f119be\",\"type\":\"LinearAxis\"},{\"id\":\"72a7c89b-3d54-47d7-bb42-6aa4c6107219\",\"type\":\"Grid\"},{\"id\":\"f1ec76bb-c7ac-4d0d-b415-2fcf7e2e62de\",\"type\":\"BoxAnnotation\"},{\"id\":\"135845ce-1781-42a9-bad4-f8ed846762ee\",\"type\":\"GlyphRenderer\"},{\"id\":\"223e039f-8cf6-4e9a-b429-4be4c3c5a67e\",\"type\":\"GlyphRenderer\"}],\"title\":{\"id\":\"66655463-4ae7-4f98-8e7e-e289b50bbc1b\",\"type\":\"Title\"},\"toolbar\":{\"id\":\"9ce5a4ef-78c3-4e31-afb0-fb80aec5c0b3\",\"type\":\"Toolbar\"},\"x_range\":{\"id\":\"976b4f89-0e39-4b77-9a99-c2293bfbf24f\",\"type\":\"DataRange1d\"},\"x_scale\":{\"id\":\"ea2154c4-3b5b-48b5-af90-d013d81f219a\",\"type\":\"LinearScale\"},\"y_range\":{\"id\":\"3d9ff708-eee8-4119-9daf-5ec251328b43\",\"type\":\"DataRange1d\"},\"y_scale\":{\"id\":\"84d047b5-fc7f-47c7-98b2-ea3afb7e9175\",\"type\":\"LinearScale\"}},\"id\":\"fa8e45ce-1aec-41e4-8ca5-52baf668102d\",\"subtype\":\"Figure\",\"type\":\"Plot\"},{\"attributes\":{\"callback\":null},\"id\":\"3d9ff708-eee8-4119-9daf-5ec251328b43\",\"type\":\"DataRange1d\"},{\"attributes\":{},\"id\":\"8fdbd1e0-c2a3-478c-b373-c6e885804bdc\",\"type\":\"BasicTicker\"},{\"attributes\":{},\"id\":\"4ce32ff3-6ec8-420a-a932-ddfd8fda7342\",\"type\":\"BasicTicker\"},{\"attributes\":{},\"id\":\"84d047b5-fc7f-47c7-98b2-ea3afb7e9175\",\"type\":\"LinearScale\"},{\"attributes\":{\"source\":{\"id\":\"d553a888-f4b2-418f-b0cf-2103f7bf4663\",\"type\":\"ColumnDataSource\"}},\"id\":\"bbaba00b-fa36-4ee0-bbb4-c11639525895\",\"type\":\"CDSView\"},{\"attributes\":{\"axis_label\":\"fertility (children per woman)\",\"formatter\":{\"id\":\"cd353ab0-92b0-4634-a61c-6524e3b96b00\",\"type\":\"BasicTickFormatter\"},\"plot\":{\"id\":\"fa8e45ce-1aec-41e4-8ca5-52baf668102d\",\"subtype\":\"Figure\",\"type\":\"Plot\"},\"ticker\":{\"id\":\"8fdbd1e0-c2a3-478c-b373-c6e885804bdc\",\"type\":\"BasicTicker\"}},\"id\":\"76035eea-3cff-45c8-aaa3-dfe1db14a68b\",\"type\":\"LinearAxis\"},{\"attributes\":{\"axis_label\":\"female literacy (% population)\",\"formatter\":{\"id\":\"7f394a19-579c-4f99-a4ed-60e2dff25de3\",\"type\":\"BasicTickFormatter\"},\"plot\":{\"id\":\"fa8e45ce-1aec-41e4-8ca5-52baf668102d\",\"subtype\":\"Figure\",\"type\":\"Plot\"},\"ticker\":{\"id\":\"4ce32ff3-6ec8-420a-a932-ddfd8fda7342\",\"type\":\"BasicTicker\"}},\"id\":\"ce26e2cf-3dcf-4478-9127-9e53b5f119be\",\"type\":\"LinearAxis\"},{\"attributes\":{\"plot\":{\"id\":\"fa8e45ce-1aec-41e4-8ca5-52baf668102d\",\"subtype\":\"Figure\",\"type\":\"Plot\"},\"ticker\":{\"id\":\"8fdbd1e0-c2a3-478c-b373-c6e885804bdc\",\"type\":\"BasicTicker\"}},\"id\":\"5e2bae5a-df26-4f23-978b-a7c32dc39a4c\",\"type\":\"Grid\"},{\"attributes\":{\"callback\":null,\"column_names\":[\"x\",\"y\"],\"data\":{\"x\":{\"__ndarray__\":\"/dR46SaxFEC7SQwCK4cGQPLSTWIQ2BRAbhKDwMqhF0AK16NwPQoEQBSuR+F6FBZACKwcWmQ7EEBWDi2ynW8TQCPb+X5qvAJAarx0kxgEGUB56SYxCKwCQOF6FK5H4RBAke18PzXeE0B0kxgEVg4SQHsUrkfhehJARIts5/spEkBANV66SYwWQHe+nxovXRdAUrgehevRFUAtsp3vp0YcQB+F61G4nhVAppvEILDyFkCBlUOLbOcKQI/C9ShcjxNAbef7qfFSGEDb+X5qvHT9PzeJQWDlUBVAUrgehetRFUBPjZduEoMVQM3MzMzMzBFARIts5/upEECJQWDl0CIFQClcj8L1qBRA6iYxCKwcEkB9PzVeuskSQCUGgZVDCxRAWmQ730+NEUBSuB6F61EKQOkmMQisHApA+n5qvHSTBkDGSzeJQeATQIlBYOXQohZA7FG4HoXrCUB46SYxCKz8P5qZmZmZmQtAbhKDwMohFUAUrkfhehQPQOj7qfHSTQVAWDm0yHa+DUA=\",\"dtype\":\"float64\",\"shape\":[49]},\"y\":{\"__ndarray__\":\"ZmZmZmZmSEBmZmZmZuZMQM3MzMzMzDZAzczMzMwMTEBmZmZmZgZWQDMzMzMzk1BAzczMzMzMTUAzMzMzM7NUQDMzMzMz809AMzMzMzOzUEDNzMzMzAxGQGZmZmZmpk1AzczMzMwMREBmZmZmZiZGQDMzMzMzU1BAMzMzMzPzUEAAAAAAAIBMQJqZmZmZmTVAMzMzMzNzUEAzMzMzMzMuQDMzMzMzMzJAAAAAAACATkAzMzMzMzNWQAAAAAAAgEBAZmZmZmbmNUAAAAAAAMBRQGZmZmZmZjpAZmZmZmaGUECamZmZmRk8QDMzMzMz801AmpmZmZnZSkAzMzMzM1NUQGZmZmZm5jxAAAAAAABAS0DNzMzMzIxEQAAAAAAAgEpAAAAAAADASEDNzMzMzOxVQGZmZmZmxldAAAAAAADgVEBmZmZmZiZBQAAAAAAAQEJAzczMzMzMVEAzMzMzMzNVQGZmZmZmZlVAZmZmZmZGVkAzMzMzM/NQQDMzMzMz01NAMzMzMzPTVEA=\",\"dtype\":\"float64\",\"shape\":[49]}},\"selected\":null,\"selection_policy\":null},\"id\":\"816398a9-4b42-4d61-a0dc-9a78e0a98b0e\",\"type\":\"ColumnDataSource\"},{\"attributes\":{},\"id\":\"ea2154c4-3b5b-48b5-af90-d013d81f219a\",\"type\":\"LinearScale\"},{\"attributes\":{\"fill_alpha\":{\"value\":0.7},\"fill_color\":{\"value\":\"red\"},\"line_alpha\":{\"value\":0.7},\"line_color\":{\"value\":\"red\"},\"size\":{\"units\":\"screen\",\"value\":10},\"x\":{\"field\":\"x\"},\"y\":{\"field\":\"y\"}},\"id\":\"a72a92f9-bad8-4c4f-80bb-6ebe37b449ea\",\"type\":\"Circle\"}],\"root_ids\":[\"fa8e45ce-1aec-41e4-8ca5-52baf668102d\"]},\"title\":\"Bokeh Application\",\"version\":\"0.12.15\"}};\n",
       "  var render_items = [{\"docid\":\"0fb229e9-9e85-48ba-be98-f906d28eb390\",\"elementid\":\"8e3b8416-622d-4811-81d3-211b0cea647b\",\"modelid\":\"fa8e45ce-1aec-41e4-8ca5-52baf668102d\"}];\n",
       "  root.Bokeh.embed.embed_items_notebook(docs_json, render_items);\n",
       "\n",
       "  }\n",
       "  if (root.Bokeh !== undefined) {\n",
       "    embed_document(root);\n",
       "  } else {\n",
       "    var attempts = 0;\n",
       "    var timer = setInterval(function(root) {\n",
       "      if (root.Bokeh !== undefined) {\n",
       "        embed_document(root);\n",
       "        clearInterval(timer);\n",
       "      }\n",
       "      attempts++;\n",
       "      if (attempts > 100) {\n",
       "        console.log(\"Bokeh: ERROR: Unable to run BokehJS code because BokehJS library is missing\")\n",
       "        clearInterval(timer);\n",
       "      }\n",
       "    }, 10, root)\n",
       "  }\n",
       "})(window);"
      ],
      "application/vnd.bokehjs_exec.v0+json": ""
     },
     "metadata": {
      "application/vnd.bokehjs_exec.v0+json": {
       "id": "fa8e45ce-1aec-41e4-8ca5-52baf668102d"
      }
     },
     "output_type": "display_data"
    }
   ],
   "source": [
    "# Hacer el mismo gráfico con los datasets filtrados (conjuntamente, cada uno una marca distinta en el gráfico)\n",
    "p = figure(plot_width = 600, plot_height = 600, \n",
    "           x_axis_label = 'fertility (children per woman)',\n",
    "           y_axis_label = 'female literacy (% population)')\n",
    "p.circle(df_LAT['fertility'], df_LAT['female literacy'], size = 10, color = 'blue', alpha = 0.7)\n",
    "p.circle(df_AF['fertility'], df_AF['female literacy'], size = 10, color = 'red', alpha = 0.7)\n",
    "show(p)"
   ]
  },
  {
   "cell_type": "code",
   "execution_count": 21,
   "metadata": {},
   "outputs": [
    {
     "data": {
      "text/html": [
       "\n",
       "<div class=\"bk-root\">\n",
       "    <div class=\"bk-plotdiv\" id=\"5c7e025f-e502-40aa-90a5-bc771ab51bd4\"></div>\n",
       "</div>"
      ]
     },
     "metadata": {},
     "output_type": "display_data"
    },
    {
     "data": {
      "application/javascript": [
       "(function(root) {\n",
       "  function embed_document(root) {\n",
       "    \n",
       "  var docs_json = {\"dba44c5c-23ce-47aa-a3c0-91d67bcf4685\":{\"roots\":{\"references\":[{\"attributes\":{},\"id\":\"8a3e8eb4-65c8-420c-b553-2e2b9199ca9b\",\"type\":\"LinearScale\"},{\"attributes\":{\"fill_alpha\":{\"value\":0.1},\"fill_color\":{\"value\":\"#1f77b4\"},\"line_alpha\":{\"value\":0.1},\"line_color\":{\"value\":\"#1f77b4\"},\"size\":{\"units\":\"screen\",\"value\":10},\"x\":{\"field\":\"x\"},\"y\":{\"field\":\"y\"}},\"id\":\"910effd4-9bce-4fee-9a5e-e9cae98240b6\",\"type\":\"Circle\"},{\"attributes\":{\"callback\":null},\"id\":\"8941ed30-3287-4f9f-95ec-f3c9e9594612\",\"type\":\"DataRange1d\"},{\"attributes\":{\"active_drag\":\"auto\",\"active_inspect\":\"auto\",\"active_scroll\":\"auto\",\"active_tap\":\"auto\",\"tools\":[{\"id\":\"fe98abca-d2aa-4d48-ad4d-ccc584992e95\",\"type\":\"PanTool\"},{\"id\":\"2f30715a-a3bf-4ca5-b79a-26ff075bd366\",\"type\":\"WheelZoomTool\"},{\"id\":\"c4118450-fdfd-4499-9976-d9ec9738f57c\",\"type\":\"BoxZoomTool\"},{\"id\":\"0cb1ebc0-0043-4a67-a070-73f7209692cf\",\"type\":\"SaveTool\"},{\"id\":\"a23fab04-bb77-46af-b72d-d6aa7b512ac8\",\"type\":\"ResetTool\"},{\"id\":\"df0182b4-d6cc-4384-b9e1-278dd3eb4932\",\"type\":\"HelpTool\"}]},\"id\":\"21af48ca-04ca-404e-8201-e0b0a5589fff\",\"type\":\"Toolbar\"},{\"attributes\":{},\"id\":\"a23fab04-bb77-46af-b72d-d6aa7b512ac8\",\"type\":\"ResetTool\"},{\"attributes\":{\"fill_alpha\":{\"value\":0.7},\"fill_color\":{\"value\":\"red\"},\"line_alpha\":{\"value\":0.7},\"line_color\":{\"value\":\"red\"},\"size\":{\"units\":\"screen\",\"value\":10},\"x\":{\"field\":\"x\"},\"y\":{\"field\":\"y\"}},\"id\":\"3724de4f-52ba-4aab-b506-c83165975b1f\",\"type\":\"Circle\"},{\"attributes\":{},\"id\":\"7a64d654-ae95-4ab2-bf49-7666ad637c46\",\"type\":\"BasicTickFormatter\"},{\"attributes\":{},\"id\":\"bacc9ae8-adb4-43eb-9cbf-4996bb244731\",\"type\":\"LinearScale\"},{\"attributes\":{\"data_source\":{\"id\":\"50aa64e1-50e8-453c-8f9c-ab3541b3ab88\",\"type\":\"ColumnDataSource\"},\"glyph\":{\"id\":\"3724de4f-52ba-4aab-b506-c83165975b1f\",\"type\":\"Circle\"},\"hover_glyph\":null,\"muted_glyph\":null,\"nonselection_glyph\":{\"id\":\"436d4c96-60fe-4d2b-af90-548d54710ec5\",\"type\":\"Circle\"},\"selection_glyph\":null,\"view\":{\"id\":\"03e40cfd-6316-4c0d-b76a-39258c22e06f\",\"type\":\"CDSView\"}},\"id\":\"c8e628e7-3ffa-4d32-8c82-3cf5ece07611\",\"type\":\"GlyphRenderer\"},{\"attributes\":{\"axis_label\":\"female literacy (% population)\",\"formatter\":{\"id\":\"7a64d654-ae95-4ab2-bf49-7666ad637c46\",\"type\":\"BasicTickFormatter\"},\"plot\":{\"id\":\"6cb7290c-281d-48ae-9406-5705aee26744\",\"subtype\":\"Figure\",\"type\":\"Plot\"},\"ticker\":{\"id\":\"4f7cd5d7-14d3-4b5c-8fa4-6276bdf9d04c\",\"type\":\"BasicTicker\"}},\"id\":\"2d927a65-e4a9-48c9-84ce-cd082fc565cf\",\"type\":\"LinearAxis\"},{\"attributes\":{},\"id\":\"47a7a437-064c-42d9-b21d-e9f06beed6a0\",\"type\":\"BasicTicker\"},{\"attributes\":{\"axis_label\":\"fertility (children per woman)\",\"formatter\":{\"id\":\"55b83b3f-483d-41c7-b8c6-c15e81943029\",\"type\":\"BasicTickFormatter\"},\"plot\":{\"id\":\"6cb7290c-281d-48ae-9406-5705aee26744\",\"subtype\":\"Figure\",\"type\":\"Plot\"},\"ticker\":{\"id\":\"47a7a437-064c-42d9-b21d-e9f06beed6a0\",\"type\":\"BasicTicker\"}},\"id\":\"d65eb962-b81e-4a32-998a-be0a5a6ad435\",\"type\":\"LinearAxis\"},{\"attributes\":{\"plot\":{\"id\":\"6cb7290c-281d-48ae-9406-5705aee26744\",\"subtype\":\"Figure\",\"type\":\"Plot\"},\"ticker\":{\"id\":\"47a7a437-064c-42d9-b21d-e9f06beed6a0\",\"type\":\"BasicTicker\"}},\"id\":\"c5a2ab48-28f4-4a2e-a4f4-7ae6a7dcea22\",\"type\":\"Grid\"},{\"attributes\":{\"dimension\":1,\"plot\":{\"id\":\"6cb7290c-281d-48ae-9406-5705aee26744\",\"subtype\":\"Figure\",\"type\":\"Plot\"},\"ticker\":{\"id\":\"4f7cd5d7-14d3-4b5c-8fa4-6276bdf9d04c\",\"type\":\"BasicTicker\"}},\"id\":\"b756bf5b-a995-466e-b8b8-7d9dc76fbf48\",\"type\":\"Grid\"},{\"attributes\":{},\"id\":\"4f7cd5d7-14d3-4b5c-8fa4-6276bdf9d04c\",\"type\":\"BasicTicker\"},{\"attributes\":{},\"id\":\"2f30715a-a3bf-4ca5-b79a-26ff075bd366\",\"type\":\"WheelZoomTool\"},{\"attributes\":{\"fill_alpha\":{\"value\":0.7},\"fill_color\":{\"value\":\"blue\"},\"line_alpha\":{\"value\":0.7},\"line_color\":{\"value\":\"blue\"},\"size\":{\"units\":\"screen\",\"value\":10},\"x\":{\"field\":\"x\"},\"y\":{\"field\":\"y\"}},\"id\":\"fa97c0ad-b6c7-4948-9312-32c355264891\",\"type\":\"Circle\"},{\"attributes\":{},\"id\":\"fe98abca-d2aa-4d48-ad4d-ccc584992e95\",\"type\":\"PanTool\"},{\"attributes\":{\"bottom_units\":\"screen\",\"fill_alpha\":{\"value\":0.5},\"fill_color\":{\"value\":\"lightgrey\"},\"left_units\":\"screen\",\"level\":\"overlay\",\"line_alpha\":{\"value\":1.0},\"line_color\":{\"value\":\"black\"},\"line_dash\":[4,4],\"line_width\":{\"value\":2},\"plot\":null,\"render_mode\":\"css\",\"right_units\":\"screen\",\"top_units\":\"screen\"},\"id\":\"27aa8b7c-1346-4141-a2b8-c4d3e966110e\",\"type\":\"BoxAnnotation\"},{\"attributes\":{\"callback\":null,\"column_names\":[\"x\",\"y\"],\"data\":{\"x\":{\"__ndarray__\":\"/dR46SaxFEC7SQwCK4cGQPLSTWIQ2BRAbhKDwMqhF0AK16NwPQoEQBSuR+F6FBZACKwcWmQ7EEBWDi2ynW8TQCPb+X5qvAJAarx0kxgEGUB56SYxCKwCQOF6FK5H4RBAke18PzXeE0B0kxgEVg4SQHsUrkfhehJARIts5/spEkBANV66SYwWQHe+nxovXRdAUrgehevRFUAtsp3vp0YcQB+F61G4nhVAppvEILDyFkCBlUOLbOcKQI/C9ShcjxNAbef7qfFSGEDb+X5qvHT9PzeJQWDlUBVAUrgehetRFUBPjZduEoMVQM3MzMzMzBFARIts5/upEECJQWDl0CIFQClcj8L1qBRA6iYxCKwcEkB9PzVeuskSQCUGgZVDCxRAWmQ730+NEUBSuB6F61EKQOkmMQisHApA+n5qvHSTBkDGSzeJQeATQIlBYOXQohZA7FG4HoXrCUB46SYxCKz8P5qZmZmZmQtAbhKDwMohFUAUrkfhehQPQOj7qfHSTQVAWDm0yHa+DUA=\",\"dtype\":\"float64\",\"shape\":[49]},\"y\":{\"__ndarray__\":\"ZmZmZmZmSEBmZmZmZuZMQM3MzMzMzDZAzczMzMwMTEBmZmZmZgZWQDMzMzMzk1BAzczMzMzMTUAzMzMzM7NUQDMzMzMz809AMzMzMzOzUEDNzMzMzAxGQGZmZmZmpk1AzczMzMwMREBmZmZmZiZGQDMzMzMzU1BAMzMzMzPzUEAAAAAAAIBMQJqZmZmZmTVAMzMzMzNzUEAzMzMzMzMuQDMzMzMzMzJAAAAAAACATkAzMzMzMzNWQAAAAAAAgEBAZmZmZmbmNUAAAAAAAMBRQGZmZmZmZjpAZmZmZmaGUECamZmZmRk8QDMzMzMz801AmpmZmZnZSkAzMzMzM1NUQGZmZmZm5jxAAAAAAABAS0DNzMzMzIxEQAAAAAAAgEpAAAAAAADASEDNzMzMzOxVQGZmZmZmxldAAAAAAADgVEBmZmZmZiZBQAAAAAAAQEJAzczMzMzMVEAzMzMzMzNVQGZmZmZmZlVAZmZmZmZGVkAzMzMzM/NQQDMzMzMz01NAMzMzMzPTVEA=\",\"dtype\":\"float64\",\"shape\":[49]}},\"selected\":null,\"selection_policy\":null},\"id\":\"50aa64e1-50e8-453c-8f9c-ab3541b3ab88\",\"type\":\"ColumnDataSource\"},{\"attributes\":{\"overlay\":{\"id\":\"27aa8b7c-1346-4141-a2b8-c4d3e966110e\",\"type\":\"BoxAnnotation\"}},\"id\":\"c4118450-fdfd-4499-9976-d9ec9738f57c\",\"type\":\"BoxZoomTool\"},{\"attributes\":{\"data_source\":{\"id\":\"f2f9bcee-20a1-4dfa-b985-d892ee354431\",\"type\":\"ColumnDataSource\"},\"glyph\":{\"id\":\"fa97c0ad-b6c7-4948-9312-32c355264891\",\"type\":\"Circle\"},\"hover_glyph\":null,\"muted_glyph\":null,\"nonselection_glyph\":{\"id\":\"910effd4-9bce-4fee-9a5e-e9cae98240b6\",\"type\":\"Circle\"},\"selection_glyph\":null,\"view\":{\"id\":\"d87aac71-b25e-4711-8784-0dd77ac1b319\",\"type\":\"CDSView\"}},\"id\":\"f4416278-f3d1-4dd3-8ce3-d97ac6582dca\",\"type\":\"GlyphRenderer\"},{\"attributes\":{},\"id\":\"0cb1ebc0-0043-4a67-a070-73f7209692cf\",\"type\":\"SaveTool\"},{\"attributes\":{\"callback\":null},\"id\":\"db0299c4-6e56-4a24-9cab-d0a4c307355b\",\"type\":\"DataRange1d\"},{\"attributes\":{\"label\":{\"value\":\"LAT\"},\"renderers\":[{\"id\":\"f4416278-f3d1-4dd3-8ce3-d97ac6582dca\",\"type\":\"GlyphRenderer\"}]},\"id\":\"ddfe5cfc-e38a-4b3f-bf9c-5e61b72931fa\",\"type\":\"LegendItem\"},{\"attributes\":{},\"id\":\"df0182b4-d6cc-4384-b9e1-278dd3eb4932\",\"type\":\"HelpTool\"},{\"attributes\":{\"below\":[{\"id\":\"d65eb962-b81e-4a32-998a-be0a5a6ad435\",\"type\":\"LinearAxis\"}],\"left\":[{\"id\":\"2d927a65-e4a9-48c9-84ce-cd082fc565cf\",\"type\":\"LinearAxis\"}],\"renderers\":[{\"id\":\"d65eb962-b81e-4a32-998a-be0a5a6ad435\",\"type\":\"LinearAxis\"},{\"id\":\"c5a2ab48-28f4-4a2e-a4f4-7ae6a7dcea22\",\"type\":\"Grid\"},{\"id\":\"2d927a65-e4a9-48c9-84ce-cd082fc565cf\",\"type\":\"LinearAxis\"},{\"id\":\"b756bf5b-a995-466e-b8b8-7d9dc76fbf48\",\"type\":\"Grid\"},{\"id\":\"27aa8b7c-1346-4141-a2b8-c4d3e966110e\",\"type\":\"BoxAnnotation\"},{\"id\":\"8a482578-4bba-43f9-bc7f-fe84803ca6f7\",\"type\":\"Legend\"},{\"id\":\"f4416278-f3d1-4dd3-8ce3-d97ac6582dca\",\"type\":\"GlyphRenderer\"},{\"id\":\"c8e628e7-3ffa-4d32-8c82-3cf5ece07611\",\"type\":\"GlyphRenderer\"}],\"title\":{\"id\":\"04d15336-239e-4704-b073-84c8518fc27b\",\"type\":\"Title\"},\"toolbar\":{\"id\":\"21af48ca-04ca-404e-8201-e0b0a5589fff\",\"type\":\"Toolbar\"},\"x_range\":{\"id\":\"8941ed30-3287-4f9f-95ec-f3c9e9594612\",\"type\":\"DataRange1d\"},\"x_scale\":{\"id\":\"8a3e8eb4-65c8-420c-b553-2e2b9199ca9b\",\"type\":\"LinearScale\"},\"y_range\":{\"id\":\"db0299c4-6e56-4a24-9cab-d0a4c307355b\",\"type\":\"DataRange1d\"},\"y_scale\":{\"id\":\"bacc9ae8-adb4-43eb-9cbf-4996bb244731\",\"type\":\"LinearScale\"}},\"id\":\"6cb7290c-281d-48ae-9406-5705aee26744\",\"subtype\":\"Figure\",\"type\":\"Plot\"},{\"attributes\":{\"items\":[{\"id\":\"ddfe5cfc-e38a-4b3f-bf9c-5e61b72931fa\",\"type\":\"LegendItem\"},{\"id\":\"71d5308e-f48d-46db-a94a-dacab61abc99\",\"type\":\"LegendItem\"}],\"location\":\"bottom_left\",\"plot\":{\"id\":\"6cb7290c-281d-48ae-9406-5705aee26744\",\"subtype\":\"Figure\",\"type\":\"Plot\"}},\"id\":\"8a482578-4bba-43f9-bc7f-fe84803ca6f7\",\"type\":\"Legend\"},{\"attributes\":{\"fill_alpha\":{\"value\":0.1},\"fill_color\":{\"value\":\"#1f77b4\"},\"line_alpha\":{\"value\":0.1},\"line_color\":{\"value\":\"#1f77b4\"},\"size\":{\"units\":\"screen\",\"value\":10},\"x\":{\"field\":\"x\"},\"y\":{\"field\":\"y\"}},\"id\":\"436d4c96-60fe-4d2b-af90-548d54710ec5\",\"type\":\"Circle\"},{\"attributes\":{\"source\":{\"id\":\"50aa64e1-50e8-453c-8f9c-ab3541b3ab88\",\"type\":\"ColumnDataSource\"}},\"id\":\"03e40cfd-6316-4c0d-b76a-39258c22e06f\",\"type\":\"CDSView\"},{\"attributes\":{\"source\":{\"id\":\"f2f9bcee-20a1-4dfa-b985-d892ee354431\",\"type\":\"ColumnDataSource\"}},\"id\":\"d87aac71-b25e-4711-8784-0dd77ac1b319\",\"type\":\"CDSView\"},{\"attributes\":{\"label\":{\"value\":\"AF\"},\"renderers\":[{\"id\":\"c8e628e7-3ffa-4d32-8c82-3cf5ece07611\",\"type\":\"GlyphRenderer\"}]},\"id\":\"71d5308e-f48d-46db-a94a-dacab61abc99\",\"type\":\"LegendItem\"},{\"attributes\":{\"callback\":null,\"column_names\":[\"x\",\"y\"],\"data\":{\"x\":{\"__ndarray__\":\"CKwcWmQ7/T9zaJHtfD8BQAisHFpkOwNAYxBYObTIAUA9CtejcD0EQJZDi2zn+wNAN4lBYOXQ/j/fT42XbhIQQLTIdr6fGgRAFK5H4XoU+D9MN4lBYOUEQCyHFtnO9wpAhetRuB6FCUA3iUFg5dAHQFyPwvUoXAJAEVg5tMh2BUBKDAIrhxb/P1TjpZvEIARAg8DKoUW2AEBMN4lBYOUCQCYxCKwcWvo/lkOLbOf7AkAshxbZzvcKQIPAyqFFtvs/\",\"dtype\":\"float64\",\"shape\":[24]},\"y\":{\"__ndarray__\":\"zczMzMyMVkAAAAAAAOBWQJqZmZmZWVdAzczMzMxsWEBmZmZmZiZVQJqZmZmZuVdAzczMzMysWEDNzMzMzCxRQM3MzMzMbFRAMzMzMzPzWEAzMzMzMxNWQAAAAAAAgFVAAAAAAADgVEAAAAAAAGBXQJqZmZmZWVRAmpmZmZl5U0DNzMzMzAxYQDMzMzMzM1dAAAAAAACgWEAzMzMzM7NWQM3MzMzMjFhAmpmZmZkZVkAAAAAAACBYQAAAAAAAgFhA\",\"dtype\":\"float64\",\"shape\":[24]}},\"selected\":null,\"selection_policy\":null},\"id\":\"f2f9bcee-20a1-4dfa-b985-d892ee354431\",\"type\":\"ColumnDataSource\"},{\"attributes\":{\"plot\":null,\"text\":\"\"},\"id\":\"04d15336-239e-4704-b073-84c8518fc27b\",\"type\":\"Title\"},{\"attributes\":{},\"id\":\"55b83b3f-483d-41c7-b8c6-c15e81943029\",\"type\":\"BasicTickFormatter\"}],\"root_ids\":[\"6cb7290c-281d-48ae-9406-5705aee26744\"]},\"title\":\"Bokeh Application\",\"version\":\"0.12.15\"}};\n",
       "  var render_items = [{\"docid\":\"dba44c5c-23ce-47aa-a3c0-91d67bcf4685\",\"elementid\":\"5c7e025f-e502-40aa-90a5-bc771ab51bd4\",\"modelid\":\"6cb7290c-281d-48ae-9406-5705aee26744\"}];\n",
       "  root.Bokeh.embed.embed_items_notebook(docs_json, render_items);\n",
       "\n",
       "  }\n",
       "  if (root.Bokeh !== undefined) {\n",
       "    embed_document(root);\n",
       "  } else {\n",
       "    var attempts = 0;\n",
       "    var timer = setInterval(function(root) {\n",
       "      if (root.Bokeh !== undefined) {\n",
       "        embed_document(root);\n",
       "        clearInterval(timer);\n",
       "      }\n",
       "      attempts++;\n",
       "      if (attempts > 100) {\n",
       "        console.log(\"Bokeh: ERROR: Unable to run BokehJS code because BokehJS library is missing\")\n",
       "        clearInterval(timer);\n",
       "      }\n",
       "    }, 10, root)\n",
       "  }\n",
       "})(window);"
      ],
      "application/vnd.bokehjs_exec.v0+json": ""
     },
     "metadata": {
      "application/vnd.bokehjs_exec.v0+json": {
       "id": "6cb7290c-281d-48ae-9406-5705aee26744"
      }
     },
     "output_type": "display_data"
    }
   ],
   "source": [
    "# Hacer el mismo gráfico con los datasets filtrados incluyendo una leyenda\n",
    "p = figure(plot_width = 600, plot_height = 600, \n",
    "           x_axis_label = 'fertility (children per woman)',\n",
    "           y_axis_label = 'female literacy (% population)')\n",
    "p.circle(df_LAT['fertility'], df_LAT['female literacy'], size = 10, color = 'blue', alpha = 0.7, legend = 'LAT')\n",
    "p.circle(df_AF['fertility'], df_AF['female literacy'], size = 10, color = 'red', alpha = 0.7, legend = 'AF')\n",
    "p.legend.location = 'bottom_left'\n",
    "show(p)"
   ]
  },
  {
   "cell_type": "code",
   "execution_count": 22,
   "metadata": {},
   "outputs": [
    {
     "data": {
      "text/html": [
       "\n",
       "<div class=\"bk-root\">\n",
       "    <div class=\"bk-plotdiv\" id=\"8bfc1e83-8015-4ecb-98e4-a000c1a88b3b\"></div>\n",
       "</div>"
      ]
     },
     "metadata": {},
     "output_type": "display_data"
    },
    {
     "data": {
      "application/javascript": [
       "(function(root) {\n",
       "  function embed_document(root) {\n",
       "    \n",
       "  var docs_json = {\"db419a65-54be-464f-951b-28d16187985f\":{\"roots\":{\"references\":[{\"attributes\":{\"callback\":null,\"column_names\":[\"x\",\"y\"],\"data\":{\"x\":[1,2,3,4,5],\"y\":[6,7,2,4,5]},\"selected\":null,\"selection_policy\":null},\"id\":\"d45efc6e-b717-4364-a180-1fe6e9cfe048\",\"type\":\"ColumnDataSource\"},{\"attributes\":{\"plot\":{\"id\":\"8f06321a-d093-4a33-a49b-2235c5339b72\",\"subtype\":\"Figure\",\"type\":\"Plot\"},\"ticker\":{\"id\":\"f2188762-a804-4e63-be6c-05505c571715\",\"type\":\"BasicTicker\"}},\"id\":\"8e094a46-eb67-41ba-89d6-5fd8c90ae33f\",\"type\":\"Grid\"},{\"attributes\":{\"callback\":null},\"id\":\"a564af24-6c9b-46f6-bdc0-e229f13fd9f8\",\"type\":\"DataRange1d\"},{\"attributes\":{\"formatter\":{\"id\":\"9287ef97-b3d8-4478-be9e-a83c976de149\",\"type\":\"BasicTickFormatter\"},\"plot\":{\"id\":\"8f06321a-d093-4a33-a49b-2235c5339b72\",\"subtype\":\"Figure\",\"type\":\"Plot\"},\"ticker\":{\"id\":\"f2188762-a804-4e63-be6c-05505c571715\",\"type\":\"BasicTicker\"}},\"id\":\"88bc81e5-f2e9-4691-ab7c-b676427cc982\",\"type\":\"LinearAxis\"},{\"attributes\":{\"bottom_units\":\"screen\",\"fill_alpha\":{\"value\":0.5},\"fill_color\":{\"value\":\"lightgrey\"},\"left_units\":\"screen\",\"level\":\"overlay\",\"line_alpha\":{\"value\":1.0},\"line_color\":{\"value\":\"black\"},\"line_dash\":[4,4],\"line_width\":{\"value\":2},\"plot\":null,\"render_mode\":\"css\",\"right_units\":\"screen\",\"top_units\":\"screen\"},\"id\":\"6fa9a27e-d4b6-43f2-b6d1-4aef2992f08d\",\"type\":\"BoxAnnotation\"},{\"attributes\":{},\"id\":\"a5f53de1-0a97-4bf6-baba-e39dc604d8b3\",\"type\":\"SaveTool\"},{\"attributes\":{},\"id\":\"9287ef97-b3d8-4478-be9e-a83c976de149\",\"type\":\"BasicTickFormatter\"},{\"attributes\":{\"formatter\":{\"id\":\"b2122bf9-0945-4c40-839d-77534d44ff3e\",\"type\":\"BasicTickFormatter\"},\"plot\":{\"id\":\"8f06321a-d093-4a33-a49b-2235c5339b72\",\"subtype\":\"Figure\",\"type\":\"Plot\"},\"ticker\":{\"id\":\"e9cda6ad-746b-466a-bcd9-9d28d08c576d\",\"type\":\"BasicTicker\"}},\"id\":\"5a24aaab-f871-4058-9106-ed2f2e7a8794\",\"type\":\"LinearAxis\"},{\"attributes\":{\"data_source\":{\"id\":\"d45efc6e-b717-4364-a180-1fe6e9cfe048\",\"type\":\"ColumnDataSource\"},\"glyph\":{\"id\":\"c2ac0255-222b-41f4-970a-3ca8c767f169\",\"type\":\"Line\"},\"hover_glyph\":null,\"muted_glyph\":null,\"nonselection_glyph\":{\"id\":\"e580ab7e-fe50-4481-a527-36d66171b1df\",\"type\":\"Line\"},\"selection_glyph\":null,\"view\":{\"id\":\"a9ab0580-ea3b-442b-ae4f-531f08ebb703\",\"type\":\"CDSView\"}},\"id\":\"69588dfe-6bd3-40b7-8556-145b1a4f71b3\",\"type\":\"GlyphRenderer\"},{\"attributes\":{},\"id\":\"f2188762-a804-4e63-be6c-05505c571715\",\"type\":\"BasicTicker\"},{\"attributes\":{},\"id\":\"9f0e4562-f728-48c2-92d8-b9ed5afb4e9e\",\"type\":\"WheelZoomTool\"},{\"attributes\":{\"overlay\":{\"id\":\"6fa9a27e-d4b6-43f2-b6d1-4aef2992f08d\",\"type\":\"BoxAnnotation\"}},\"id\":\"6e85746f-5e2c-462e-8e62-694743d60d18\",\"type\":\"BoxZoomTool\"},{\"attributes\":{},\"id\":\"cb0a346d-a002-42ff-ae49-8621a7474871\",\"type\":\"LinearScale\"},{\"attributes\":{},\"id\":\"e9cda6ad-746b-466a-bcd9-9d28d08c576d\",\"type\":\"BasicTicker\"},{\"attributes\":{},\"id\":\"e89c6ef6-aeba-4d47-b112-ef913334f28b\",\"type\":\"PanTool\"},{\"attributes\":{},\"id\":\"bb3adc7e-aa73-43db-bef2-7a8fe0795159\",\"type\":\"LinearScale\"},{\"attributes\":{\"line_color\":\"red\",\"line_width\":5,\"x\":{\"field\":\"x\"},\"y\":{\"field\":\"y\"}},\"id\":\"c2ac0255-222b-41f4-970a-3ca8c767f169\",\"type\":\"Line\"},{\"attributes\":{\"line_alpha\":0.1,\"line_color\":\"#1f77b4\",\"line_width\":5,\"x\":{\"field\":\"x\"},\"y\":{\"field\":\"y\"}},\"id\":\"e580ab7e-fe50-4481-a527-36d66171b1df\",\"type\":\"Line\"},{\"attributes\":{\"callback\":null},\"id\":\"ed2d0a1b-330a-428c-bd88-9a8d60702d79\",\"type\":\"DataRange1d\"},{\"attributes\":{},\"id\":\"b2122bf9-0945-4c40-839d-77534d44ff3e\",\"type\":\"BasicTickFormatter\"},{\"attributes\":{\"active_drag\":\"auto\",\"active_inspect\":\"auto\",\"active_scroll\":\"auto\",\"active_tap\":\"auto\",\"tools\":[{\"id\":\"e89c6ef6-aeba-4d47-b112-ef913334f28b\",\"type\":\"PanTool\"},{\"id\":\"9f0e4562-f728-48c2-92d8-b9ed5afb4e9e\",\"type\":\"WheelZoomTool\"},{\"id\":\"6e85746f-5e2c-462e-8e62-694743d60d18\",\"type\":\"BoxZoomTool\"},{\"id\":\"a5f53de1-0a97-4bf6-baba-e39dc604d8b3\",\"type\":\"SaveTool\"},{\"id\":\"4f0eae3b-b517-4015-9958-810fd6d70e5f\",\"type\":\"ResetTool\"},{\"id\":\"edb7e04f-2fa6-407f-ad37-d636ad038db9\",\"type\":\"HelpTool\"}]},\"id\":\"ca87ac82-0b22-4771-b64f-41985d5b2772\",\"type\":\"Toolbar\"},{\"attributes\":{\"plot\":null,\"text\":\"\"},\"id\":\"65993e21-7f7c-4b9f-bb01-b5ec14e6a923\",\"type\":\"Title\"},{\"attributes\":{},\"id\":\"4f0eae3b-b517-4015-9958-810fd6d70e5f\",\"type\":\"ResetTool\"},{\"attributes\":{\"below\":[{\"id\":\"88bc81e5-f2e9-4691-ab7c-b676427cc982\",\"type\":\"LinearAxis\"}],\"left\":[{\"id\":\"5a24aaab-f871-4058-9106-ed2f2e7a8794\",\"type\":\"LinearAxis\"}],\"plot_height\":300,\"plot_width\":300,\"renderers\":[{\"id\":\"88bc81e5-f2e9-4691-ab7c-b676427cc982\",\"type\":\"LinearAxis\"},{\"id\":\"8e094a46-eb67-41ba-89d6-5fd8c90ae33f\",\"type\":\"Grid\"},{\"id\":\"5a24aaab-f871-4058-9106-ed2f2e7a8794\",\"type\":\"LinearAxis\"},{\"id\":\"ffa2aa29-ba93-4853-aeec-c20687288647\",\"type\":\"Grid\"},{\"id\":\"6fa9a27e-d4b6-43f2-b6d1-4aef2992f08d\",\"type\":\"BoxAnnotation\"},{\"id\":\"69588dfe-6bd3-40b7-8556-145b1a4f71b3\",\"type\":\"GlyphRenderer\"}],\"title\":{\"id\":\"65993e21-7f7c-4b9f-bb01-b5ec14e6a923\",\"type\":\"Title\"},\"toolbar\":{\"id\":\"ca87ac82-0b22-4771-b64f-41985d5b2772\",\"type\":\"Toolbar\"},\"x_range\":{\"id\":\"a564af24-6c9b-46f6-bdc0-e229f13fd9f8\",\"type\":\"DataRange1d\"},\"x_scale\":{\"id\":\"bb3adc7e-aa73-43db-bef2-7a8fe0795159\",\"type\":\"LinearScale\"},\"y_range\":{\"id\":\"ed2d0a1b-330a-428c-bd88-9a8d60702d79\",\"type\":\"DataRange1d\"},\"y_scale\":{\"id\":\"cb0a346d-a002-42ff-ae49-8621a7474871\",\"type\":\"LinearScale\"}},\"id\":\"8f06321a-d093-4a33-a49b-2235c5339b72\",\"subtype\":\"Figure\",\"type\":\"Plot\"},{\"attributes\":{\"dimension\":1,\"plot\":{\"id\":\"8f06321a-d093-4a33-a49b-2235c5339b72\",\"subtype\":\"Figure\",\"type\":\"Plot\"},\"ticker\":{\"id\":\"e9cda6ad-746b-466a-bcd9-9d28d08c576d\",\"type\":\"BasicTicker\"}},\"id\":\"ffa2aa29-ba93-4853-aeec-c20687288647\",\"type\":\"Grid\"},{\"attributes\":{\"source\":{\"id\":\"d45efc6e-b717-4364-a180-1fe6e9cfe048\",\"type\":\"ColumnDataSource\"}},\"id\":\"a9ab0580-ea3b-442b-ae4f-531f08ebb703\",\"type\":\"CDSView\"},{\"attributes\":{},\"id\":\"edb7e04f-2fa6-407f-ad37-d636ad038db9\",\"type\":\"HelpTool\"}],\"root_ids\":[\"8f06321a-d093-4a33-a49b-2235c5339b72\"]},\"title\":\"Bokeh Application\",\"version\":\"0.12.15\"}};\n",
       "  var render_items = [{\"docid\":\"db419a65-54be-464f-951b-28d16187985f\",\"elementid\":\"8bfc1e83-8015-4ecb-98e4-a000c1a88b3b\",\"modelid\":\"8f06321a-d093-4a33-a49b-2235c5339b72\"}];\n",
       "  root.Bokeh.embed.embed_items_notebook(docs_json, render_items);\n",
       "\n",
       "  }\n",
       "  if (root.Bokeh !== undefined) {\n",
       "    embed_document(root);\n",
       "  } else {\n",
       "    var attempts = 0;\n",
       "    var timer = setInterval(function(root) {\n",
       "      if (root.Bokeh !== undefined) {\n",
       "        embed_document(root);\n",
       "        clearInterval(timer);\n",
       "      }\n",
       "      attempts++;\n",
       "      if (attempts > 100) {\n",
       "        console.log(\"Bokeh: ERROR: Unable to run BokehJS code because BokehJS library is missing\")\n",
       "        clearInterval(timer);\n",
       "      }\n",
       "    }, 10, root)\n",
       "  }\n",
       "})(window);"
      ],
      "application/vnd.bokehjs_exec.v0+json": ""
     },
     "metadata": {
      "application/vnd.bokehjs_exec.v0+json": {
       "id": "8f06321a-d093-4a33-a49b-2235c5339b72"
      }
     },
     "output_type": "display_data"
    }
   ],
   "source": [
    "p = figure(plot_width = 300, plot_height = 300)\n",
    "p.line([1, 2, 3, 4, 5], [6, 7, 2, 4, 5], line_color = \"red\", line_width = 5)\n",
    "show(p)"
   ]
  },
  {
   "cell_type": "code",
   "execution_count": 23,
   "metadata": {},
   "outputs": [],
   "source": [
    "AAPL = pd.read_csv(\"https://api.iextrading.com/1.0/stock/aapl/chart/5y?format=csv\", parse_dates=['date'])"
   ]
  },
  {
   "cell_type": "code",
   "execution_count": 24,
   "metadata": {},
   "outputs": [
    {
     "data": {
      "text/plain": [
       "Index(['date', 'open', 'high', 'low', 'close', 'volume', 'unadjustedVolume',\n",
       "       'change', 'changePercent', 'vwap', 'label', 'changeOverTime'],\n",
       "      dtype='object')"
      ]
     },
     "execution_count": 24,
     "metadata": {},
     "output_type": "execute_result"
    }
   ],
   "source": [
    "AAPL.columns"
   ]
  },
  {
   "cell_type": "code",
   "execution_count": 25,
   "metadata": {},
   "outputs": [
    {
     "data": {
      "text/html": [
       "<div>\n",
       "<style scoped>\n",
       "    .dataframe tbody tr th:only-of-type {\n",
       "        vertical-align: middle;\n",
       "    }\n",
       "\n",
       "    .dataframe tbody tr th {\n",
       "        vertical-align: top;\n",
       "    }\n",
       "\n",
       "    .dataframe thead th {\n",
       "        text-align: right;\n",
       "    }\n",
       "</style>\n",
       "<table border=\"1\" class=\"dataframe\">\n",
       "  <thead>\n",
       "    <tr style=\"text-align: right;\">\n",
       "      <th></th>\n",
       "      <th>date</th>\n",
       "      <th>open</th>\n",
       "      <th>high</th>\n",
       "      <th>low</th>\n",
       "      <th>close</th>\n",
       "      <th>volume</th>\n",
       "      <th>unadjustedVolume</th>\n",
       "      <th>change</th>\n",
       "      <th>changePercent</th>\n",
       "      <th>vwap</th>\n",
       "      <th>label</th>\n",
       "      <th>changeOverTime</th>\n",
       "    </tr>\n",
       "  </thead>\n",
       "  <tbody>\n",
       "    <tr>\n",
       "      <th>0</th>\n",
       "      <td>2013-04-29</td>\n",
       "      <td>54.6770</td>\n",
       "      <td>56.3893</td>\n",
       "      <td>54.6185</td>\n",
       "      <td>55.9345</td>\n",
       "      <td>159958876</td>\n",
       "      <td>22851268</td>\n",
       "      <td>1.679500</td>\n",
       "      <td>3.096</td>\n",
       "      <td>55.7966</td>\n",
       "      <td>Apr 29, 13</td>\n",
       "      <td>0.000000</td>\n",
       "    </tr>\n",
       "    <tr>\n",
       "      <th>1</th>\n",
       "      <td>2013-04-30</td>\n",
       "      <td>56.5821</td>\n",
       "      <td>57.9021</td>\n",
       "      <td>56.1881</td>\n",
       "      <td>57.5809</td>\n",
       "      <td>172737600</td>\n",
       "      <td>24676800</td>\n",
       "      <td>1.646400</td>\n",
       "      <td>2.943</td>\n",
       "      <td>57.1781</td>\n",
       "      <td>Apr 30, 13</td>\n",
       "      <td>0.029434</td>\n",
       "    </tr>\n",
       "    <tr>\n",
       "      <th>2</th>\n",
       "      <td>2013-05-01</td>\n",
       "      <td>57.7993</td>\n",
       "      <td>57.8604</td>\n",
       "      <td>56.4898</td>\n",
       "      <td>57.1270</td>\n",
       "      <td>126720237</td>\n",
       "      <td>18102891</td>\n",
       "      <td>-0.453855</td>\n",
       "      <td>-0.788</td>\n",
       "      <td>57.1217</td>\n",
       "      <td>May 1, 13</td>\n",
       "      <td>0.021320</td>\n",
       "    </tr>\n",
       "    <tr>\n",
       "      <th>3</th>\n",
       "      <td>2013-05-02</td>\n",
       "      <td>57.4508</td>\n",
       "      <td>58.3364</td>\n",
       "      <td>57.3013</td>\n",
       "      <td>57.9372</td>\n",
       "      <td>105449078</td>\n",
       "      <td>15064154</td>\n",
       "      <td>0.810175</td>\n",
       "      <td>1.418</td>\n",
       "      <td>58.0741</td>\n",
       "      <td>May 2, 13</td>\n",
       "      <td>0.035804</td>\n",
       "    </tr>\n",
       "    <tr>\n",
       "      <th>4</th>\n",
       "      <td>2013-05-03</td>\n",
       "      <td>58.6901</td>\n",
       "      <td>58.9398</td>\n",
       "      <td>58.4092</td>\n",
       "      <td>58.5172</td>\n",
       "      <td>90319201</td>\n",
       "      <td>12902743</td>\n",
       "      <td>0.579995</td>\n",
       "      <td>1.001</td>\n",
       "      <td>58.6445</td>\n",
       "      <td>May 3, 13</td>\n",
       "      <td>0.046174</td>\n",
       "    </tr>\n",
       "  </tbody>\n",
       "</table>\n",
       "</div>"
      ],
      "text/plain": [
       "        date     open     high      low    close     volume  unadjustedVolume  \\\n",
       "0 2013-04-29  54.6770  56.3893  54.6185  55.9345  159958876          22851268   \n",
       "1 2013-04-30  56.5821  57.9021  56.1881  57.5809  172737600          24676800   \n",
       "2 2013-05-01  57.7993  57.8604  56.4898  57.1270  126720237          18102891   \n",
       "3 2013-05-02  57.4508  58.3364  57.3013  57.9372  105449078          15064154   \n",
       "4 2013-05-03  58.6901  58.9398  58.4092  58.5172   90319201          12902743   \n",
       "\n",
       "     change  changePercent     vwap       label  changeOverTime  \n",
       "0  1.679500          3.096  55.7966  Apr 29, 13        0.000000  \n",
       "1  1.646400          2.943  57.1781  Apr 30, 13        0.029434  \n",
       "2 -0.453855         -0.788  57.1217   May 1, 13        0.021320  \n",
       "3  0.810175          1.418  58.0741   May 2, 13        0.035804  \n",
       "4  0.579995          1.001  58.6445   May 3, 13        0.046174  "
      ]
     },
     "execution_count": 25,
     "metadata": {},
     "output_type": "execute_result"
    }
   ],
   "source": [
    "AAPL.head()"
   ]
  },
  {
   "cell_type": "code",
   "execution_count": 26,
   "metadata": {},
   "outputs": [
    {
     "data": {
      "text/html": [
       "\n",
       "<div class=\"bk-root\">\n",
       "    <div class=\"bk-plotdiv\" id=\"cf37e375-2bf2-4405-a16a-faf2bee2a5a0\"></div>\n",
       "</div>"
      ]
     },
     "metadata": {},
     "output_type": "display_data"
    },
    {
     "data": {
      "application/javascript": [
       "(function(root) {\n",
       "  function embed_document(root) {\n",
       "    \n",
       "  var docs_json = {\"944a8faa-f94a-44fe-8c9e-45ac80d27986\":{\"roots\":{\"references\":[{\"attributes\":{\"plot\":{\"id\":\"b52853a6-0707-4b13-9ef7-2af69d9585ba\",\"subtype\":\"Figure\",\"type\":\"Plot\"},\"ticker\":{\"id\":\"08bf7cc4-01f2-428f-a8e3-88abe6f87813\",\"type\":\"DatetimeTicker\"}},\"id\":\"cfe44898-3def-4365-ab70-014cac18ff21\",\"type\":\"Grid\"},{\"attributes\":{\"axis_label\":\"US Dollards\",\"formatter\":{\"id\":\"6cb3b251-5656-40a9-8505-c6b036bc0518\",\"type\":\"BasicTickFormatter\"},\"plot\":{\"id\":\"b52853a6-0707-4b13-9ef7-2af69d9585ba\",\"subtype\":\"Figure\",\"type\":\"Plot\"},\"ticker\":{\"id\":\"cba575a9-1fb3-442d-8f75-f8384e3f7ddd\",\"type\":\"BasicTicker\"}},\"id\":\"e0b3b38e-da80-4670-9c48-c24fb97ef77b\",\"type\":\"LinearAxis\"},{\"attributes\":{},\"id\":\"cba575a9-1fb3-442d-8f75-f8384e3f7ddd\",\"type\":\"BasicTicker\"},{\"attributes\":{\"dimension\":1,\"plot\":{\"id\":\"b52853a6-0707-4b13-9ef7-2af69d9585ba\",\"subtype\":\"Figure\",\"type\":\"Plot\"},\"ticker\":{\"id\":\"cba575a9-1fb3-442d-8f75-f8384e3f7ddd\",\"type\":\"BasicTicker\"}},\"id\":\"bbb6d738-0bcd-4f7d-9a1a-b56812676a2d\",\"type\":\"Grid\"},{\"attributes\":{\"callback\":null,\"column_names\":[\"x\",\"y\"],\"data\":{\"x\":{\"__ndarray__\":\"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\",\"dtype\":\"float64\",\"shape\":[1260]},\"y\":{\"__ndarray__\":\"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\",\"dtype\":\"float64\",\"shape\":[1260]}},\"selected\":null,\"selection_policy\":null},\"id\":\"dc2d8613-fcdf-496d-a5b0-054b583e8049\",\"type\":\"ColumnDataSource\"},{\"attributes\":{\"bottom_units\":\"screen\",\"fill_alpha\":{\"value\":0.5},\"fill_color\":{\"value\":\"lightgrey\"},\"left_units\":\"screen\",\"level\":\"overlay\",\"line_alpha\":{\"value\":1.0},\"line_color\":{\"value\":\"black\"},\"line_dash\":[4,4],\"line_width\":{\"value\":2},\"plot\":null,\"render_mode\":\"css\",\"right_units\":\"screen\",\"top_units\":\"screen\"},\"id\":\"c9686ec9-ce4f-4182-bced-ce892da77d16\",\"type\":\"BoxAnnotation\"},{\"attributes\":{},\"id\":\"26e51f14-9899-4bec-a1a1-675066653813\",\"type\":\"PanTool\"},{\"attributes\":{},\"id\":\"0cc505b5-87c6-45f9-8158-8af0b42db515\",\"type\":\"DatetimeTickFormatter\"},{\"attributes\":{},\"id\":\"98737f82-5252-4db4-b561-0ae609df721a\",\"type\":\"WheelZoomTool\"},{\"attributes\":{\"overlay\":{\"id\":\"c9686ec9-ce4f-4182-bced-ce892da77d16\",\"type\":\"BoxAnnotation\"}},\"id\":\"fed79420-3a43-407f-9526-c35fec65d069\",\"type\":\"BoxZoomTool\"},{\"attributes\":{},\"id\":\"59b27cbd-5f56-45bc-842c-d7154e2f66d8\",\"type\":\"SaveTool\"},{\"attributes\":{},\"id\":\"ce484900-a8a6-4c34-9285-97b509357093\",\"type\":\"ResetTool\"},{\"attributes\":{},\"id\":\"c435e2ce-d0aa-4fc4-8e98-363408b713e2\",\"type\":\"HelpTool\"},{\"attributes\":{\"data_source\":{\"id\":\"dc2d8613-fcdf-496d-a5b0-054b583e8049\",\"type\":\"ColumnDataSource\"},\"glyph\":{\"id\":\"4564d485-b0ee-4ae6-bcad-c28ca3dc064f\",\"type\":\"Line\"},\"hover_glyph\":null,\"muted_glyph\":null,\"nonselection_glyph\":{\"id\":\"f83692ee-0c55-41cf-987b-06de604180a7\",\"type\":\"Line\"},\"selection_glyph\":null,\"view\":{\"id\":\"840c127f-46c9-40ad-a744-b593d6dc53ff\",\"type\":\"CDSView\"}},\"id\":\"73a78031-e470-481c-9f93-e78ae8dec953\",\"type\":\"GlyphRenderer\"},{\"attributes\":{\"line_color\":\"#1f77b4\",\"x\":{\"field\":\"x\"},\"y\":{\"field\":\"y\"}},\"id\":\"4564d485-b0ee-4ae6-bcad-c28ca3dc064f\",\"type\":\"Line\"},{\"attributes\":{\"line_alpha\":0.1,\"line_color\":\"#1f77b4\",\"x\":{\"field\":\"x\"},\"y\":{\"field\":\"y\"}},\"id\":\"f83692ee-0c55-41cf-987b-06de604180a7\",\"type\":\"Line\"},{\"attributes\":{\"source\":{\"id\":\"dc2d8613-fcdf-496d-a5b0-054b583e8049\",\"type\":\"ColumnDataSource\"}},\"id\":\"840c127f-46c9-40ad-a744-b593d6dc53ff\",\"type\":\"CDSView\"},{\"attributes\":{},\"id\":\"6cb3b251-5656-40a9-8505-c6b036bc0518\",\"type\":\"BasicTickFormatter\"},{\"attributes\":{\"days\":[1,15]},\"id\":\"72c91f42-9fb0-414c-8475-511d62edbb3d\",\"type\":\"DaysTicker\"},{\"attributes\":{\"days\":[1,8,15,22]},\"id\":\"e7b83ed0-99a4-4e9b-86f7-add87c91c7fe\",\"type\":\"DaysTicker\"},{\"attributes\":{\"base\":60,\"mantissas\":[1,2,5,10,15,20,30],\"max_interval\":1800000.0,\"min_interval\":1000.0,\"num_minor_ticks\":0},\"id\":\"56d4f2d5-16d2-4c27-83b1-892f53d4b4df\",\"type\":\"AdaptiveTicker\"},{\"attributes\":{\"mantissas\":[1,2,5],\"max_interval\":500.0,\"num_minor_ticks\":0},\"id\":\"881b123f-5e76-48f8-8754-3acb99dcc17f\",\"type\":\"AdaptiveTicker\"},{\"attributes\":{\"below\":[{\"id\":\"53c54114-9343-4ac0-a355-45b52e0210dd\",\"type\":\"DatetimeAxis\"}],\"left\":[{\"id\":\"e0b3b38e-da80-4670-9c48-c24fb97ef77b\",\"type\":\"LinearAxis\"}],\"plot_height\":400,\"plot_width\":400,\"renderers\":[{\"id\":\"53c54114-9343-4ac0-a355-45b52e0210dd\",\"type\":\"DatetimeAxis\"},{\"id\":\"cfe44898-3def-4365-ab70-014cac18ff21\",\"type\":\"Grid\"},{\"id\":\"e0b3b38e-da80-4670-9c48-c24fb97ef77b\",\"type\":\"LinearAxis\"},{\"id\":\"bbb6d738-0bcd-4f7d-9a1a-b56812676a2d\",\"type\":\"Grid\"},{\"id\":\"c9686ec9-ce4f-4182-bced-ce892da77d16\",\"type\":\"BoxAnnotation\"},{\"id\":\"73a78031-e470-481c-9f93-e78ae8dec953\",\"type\":\"GlyphRenderer\"}],\"title\":{\"id\":\"70620118-af03-4693-9916-aa680616caa1\",\"type\":\"Title\"},\"toolbar\":{\"id\":\"8f0133f0-d985-4f3c-8673-5cd1e19a0c6a\",\"type\":\"Toolbar\"},\"x_range\":{\"id\":\"6b4ad37b-73fe-4656-b85a-740f5681807a\",\"type\":\"DataRange1d\"},\"x_scale\":{\"id\":\"d983ca91-5a85-43d0-8c59-956d1b7b0c14\",\"type\":\"LinearScale\"},\"y_range\":{\"id\":\"dd2027f2-eb20-412a-8495-b46b30042838\",\"type\":\"DataRange1d\"},\"y_scale\":{\"id\":\"b63715f8-8a7b-45f7-93c6-c814d45aaac5\",\"type\":\"LinearScale\"}},\"id\":\"b52853a6-0707-4b13-9ef7-2af69d9585ba\",\"subtype\":\"Figure\",\"type\":\"Plot\"},{\"attributes\":{\"base\":24,\"mantissas\":[1,2,4,6,8,12],\"max_interval\":43200000.0,\"min_interval\":3600000.0,\"num_minor_ticks\":0},\"id\":\"11beadaa-ce68-4735-8649-079dc8151ef1\",\"type\":\"AdaptiveTicker\"},{\"attributes\":{\"days\":[1,2,3,4,5,6,7,8,9,10,11,12,13,14,15,16,17,18,19,20,21,22,23,24,25,26,27,28,29,30,31]},\"id\":\"7af93df8-d7b7-4ef0-a1e6-1104d29d0592\",\"type\":\"DaysTicker\"},{\"attributes\":{\"active_drag\":\"auto\",\"active_inspect\":\"auto\",\"active_scroll\":\"auto\",\"active_tap\":\"auto\",\"tools\":[{\"id\":\"26e51f14-9899-4bec-a1a1-675066653813\",\"type\":\"PanTool\"},{\"id\":\"98737f82-5252-4db4-b561-0ae609df721a\",\"type\":\"WheelZoomTool\"},{\"id\":\"fed79420-3a43-407f-9526-c35fec65d069\",\"type\":\"BoxZoomTool\"},{\"id\":\"59b27cbd-5f56-45bc-842c-d7154e2f66d8\",\"type\":\"SaveTool\"},{\"id\":\"ce484900-a8a6-4c34-9285-97b509357093\",\"type\":\"ResetTool\"},{\"id\":\"c435e2ce-d0aa-4fc4-8e98-363408b713e2\",\"type\":\"HelpTool\"}]},\"id\":\"8f0133f0-d985-4f3c-8673-5cd1e19a0c6a\",\"type\":\"Toolbar\"},{\"attributes\":{\"days\":[1,4,7,10,13,16,19,22,25,28]},\"id\":\"392cc27c-ccc7-406c-b1f3-4db9cb7e6eb3\",\"type\":\"DaysTicker\"},{\"attributes\":{\"callback\":null},\"id\":\"6b4ad37b-73fe-4656-b85a-740f5681807a\",\"type\":\"DataRange1d\"},{\"attributes\":{\"months\":[0,1,2,3,4,5,6,7,8,9,10,11]},\"id\":\"d258b406-7276-458b-aa4b-929c77ae6040\",\"type\":\"MonthsTicker\"},{\"attributes\":{\"plot\":null,\"text\":\"\"},\"id\":\"70620118-af03-4693-9916-aa680616caa1\",\"type\":\"Title\"},{\"attributes\":{\"months\":[0,2,4,6,8,10]},\"id\":\"702f8c27-5bb1-4083-95f5-42ac3f779a1d\",\"type\":\"MonthsTicker\"},{\"attributes\":{\"callback\":null},\"id\":\"dd2027f2-eb20-412a-8495-b46b30042838\",\"type\":\"DataRange1d\"},{\"attributes\":{\"months\":[0,4,8]},\"id\":\"be407be1-4893-4ee3-9c5a-83798610a07a\",\"type\":\"MonthsTicker\"},{\"attributes\":{},\"id\":\"d983ca91-5a85-43d0-8c59-956d1b7b0c14\",\"type\":\"LinearScale\"},{\"attributes\":{\"months\":[0,6]},\"id\":\"433f431f-6444-42c0-8ce6-d7e92fc5df56\",\"type\":\"MonthsTicker\"},{\"attributes\":{},\"id\":\"b63715f8-8a7b-45f7-93c6-c814d45aaac5\",\"type\":\"LinearScale\"},{\"attributes\":{},\"id\":\"02b69f47-1ddd-4577-b303-87238c5e3f55\",\"type\":\"YearsTicker\"},{\"attributes\":{\"num_minor_ticks\":5,\"tickers\":[{\"id\":\"881b123f-5e76-48f8-8754-3acb99dcc17f\",\"type\":\"AdaptiveTicker\"},{\"id\":\"56d4f2d5-16d2-4c27-83b1-892f53d4b4df\",\"type\":\"AdaptiveTicker\"},{\"id\":\"11beadaa-ce68-4735-8649-079dc8151ef1\",\"type\":\"AdaptiveTicker\"},{\"id\":\"7af93df8-d7b7-4ef0-a1e6-1104d29d0592\",\"type\":\"DaysTicker\"},{\"id\":\"392cc27c-ccc7-406c-b1f3-4db9cb7e6eb3\",\"type\":\"DaysTicker\"},{\"id\":\"e7b83ed0-99a4-4e9b-86f7-add87c91c7fe\",\"type\":\"DaysTicker\"},{\"id\":\"72c91f42-9fb0-414c-8475-511d62edbb3d\",\"type\":\"DaysTicker\"},{\"id\":\"d258b406-7276-458b-aa4b-929c77ae6040\",\"type\":\"MonthsTicker\"},{\"id\":\"702f8c27-5bb1-4083-95f5-42ac3f779a1d\",\"type\":\"MonthsTicker\"},{\"id\":\"be407be1-4893-4ee3-9c5a-83798610a07a\",\"type\":\"MonthsTicker\"},{\"id\":\"433f431f-6444-42c0-8ce6-d7e92fc5df56\",\"type\":\"MonthsTicker\"},{\"id\":\"02b69f47-1ddd-4577-b303-87238c5e3f55\",\"type\":\"YearsTicker\"}]},\"id\":\"08bf7cc4-01f2-428f-a8e3-88abe6f87813\",\"type\":\"DatetimeTicker\"},{\"attributes\":{\"axis_label\":\"Date\",\"formatter\":{\"id\":\"0cc505b5-87c6-45f9-8158-8af0b42db515\",\"type\":\"DatetimeTickFormatter\"},\"plot\":{\"id\":\"b52853a6-0707-4b13-9ef7-2af69d9585ba\",\"subtype\":\"Figure\",\"type\":\"Plot\"},\"ticker\":{\"id\":\"08bf7cc4-01f2-428f-a8e3-88abe6f87813\",\"type\":\"DatetimeTicker\"}},\"id\":\"53c54114-9343-4ac0-a355-45b52e0210dd\",\"type\":\"DatetimeAxis\"}],\"root_ids\":[\"b52853a6-0707-4b13-9ef7-2af69d9585ba\"]},\"title\":\"Bokeh Application\",\"version\":\"0.12.15\"}};\n",
       "  var render_items = [{\"docid\":\"944a8faa-f94a-44fe-8c9e-45ac80d27986\",\"elementid\":\"cf37e375-2bf2-4405-a16a-faf2bee2a5a0\",\"modelid\":\"b52853a6-0707-4b13-9ef7-2af69d9585ba\"}];\n",
       "  root.Bokeh.embed.embed_items_notebook(docs_json, render_items);\n",
       "\n",
       "  }\n",
       "  if (root.Bokeh !== undefined) {\n",
       "    embed_document(root);\n",
       "  } else {\n",
       "    var attempts = 0;\n",
       "    var timer = setInterval(function(root) {\n",
       "      if (root.Bokeh !== undefined) {\n",
       "        embed_document(root);\n",
       "        clearInterval(timer);\n",
       "      }\n",
       "      attempts++;\n",
       "      if (attempts > 100) {\n",
       "        console.log(\"Bokeh: ERROR: Unable to run BokehJS code because BokehJS library is missing\")\n",
       "        clearInterval(timer);\n",
       "      }\n",
       "    }, 10, root)\n",
       "  }\n",
       "})(window);"
      ],
      "application/vnd.bokehjs_exec.v0+json": ""
     },
     "metadata": {
      "application/vnd.bokehjs_exec.v0+json": {
       "id": "b52853a6-0707-4b13-9ef7-2af69d9585ba"
      }
     },
     "output_type": "display_data"
    }
   ],
   "source": [
    "applePlot = figure(plot_height = 400, plot_width = 400, x_axis_type = \"datetime\", x_axis_label = 'Date', y_axis_label = 'US Dollards')\n",
    "companyValue = AAPL['close'] * AAPL['volume']\n",
    "applePlot.line(AAPL['date'], companyValue)\n",
    "show(applePlot)"
   ]
  },
  {
   "cell_type": "code",
   "execution_count": 27,
   "metadata": {},
   "outputs": [
    {
     "data": {
      "text/html": [
       "\n",
       "<div class=\"bk-root\">\n",
       "    <div class=\"bk-plotdiv\" id=\"db7389a5-32aa-4e5b-8d2f-2285d5200011\"></div>\n",
       "</div>"
      ]
     },
     "metadata": {},
     "output_type": "display_data"
    },
    {
     "data": {
      "application/javascript": [
       "(function(root) {\n",
       "  function embed_document(root) {\n",
       "    \n",
       "  var docs_json = {\"22156aaf-6e58-4baa-8550-de43abfdff05\":{\"roots\":{\"references\":[{\"attributes\":{},\"id\":\"3a7ebb95-aae6-4fe0-9cac-74569532be05\",\"type\":\"HelpTool\"},{\"attributes\":{\"below\":[{\"id\":\"b963d697-cab7-4ca4-b12e-c7d3a0e3af1c\",\"type\":\"LinearAxis\"}],\"left\":[{\"id\":\"961f6a1c-8644-4411-a4c5-cc16f94db11d\",\"type\":\"LinearAxis\"}],\"plot_height\":300,\"plot_width\":300,\"renderers\":[{\"id\":\"b963d697-cab7-4ca4-b12e-c7d3a0e3af1c\",\"type\":\"LinearAxis\"},{\"id\":\"163fb0a8-deeb-4040-9fb8-9faee24ee8ad\",\"type\":\"Grid\"},{\"id\":\"961f6a1c-8644-4411-a4c5-cc16f94db11d\",\"type\":\"LinearAxis\"},{\"id\":\"9cc2b36f-f080-41c1-a791-918c97b04249\",\"type\":\"Grid\"},{\"id\":\"57b304db-31bf-42ab-8d9b-f2b832ebd26d\",\"type\":\"BoxAnnotation\"},{\"id\":\"b2c1ac89-c464-42aa-b5a7-09198f81f0f8\",\"type\":\"GlyphRenderer\"}],\"title\":{\"id\":\"2ec96afe-6242-4649-aff5-07eaab26189b\",\"type\":\"Title\"},\"toolbar\":{\"id\":\"fb0d261b-78e2-4560-9a8b-5d43d118f99e\",\"type\":\"Toolbar\"},\"x_range\":{\"id\":\"f436efe4-eeff-44a2-af7d-135528539724\",\"type\":\"DataRange1d\"},\"x_scale\":{\"id\":\"4821fdd2-7604-47c1-b70c-8875572c6555\",\"type\":\"LinearScale\"},\"y_range\":{\"id\":\"afacdbac-78b3-4c3e-8f77-7f7a408ea9a7\",\"type\":\"DataRange1d\"},\"y_scale\":{\"id\":\"7d84f53f-734d-4538-9fa6-bf1e8e075f24\",\"type\":\"LinearScale\"}},\"id\":\"90e4bca2-dec7-4434-842c-218c25b6fa0b\",\"subtype\":\"Figure\",\"type\":\"Plot\"},{\"attributes\":{\"plot\":null,\"text\":\"\"},\"id\":\"2ec96afe-6242-4649-aff5-07eaab26189b\",\"type\":\"Title\"},{\"attributes\":{},\"id\":\"a5e0da2f-dba9-4f6b-80af-a8c0e9ef3f4f\",\"type\":\"BasicTickFormatter\"},{\"attributes\":{\"plot\":{\"id\":\"90e4bca2-dec7-4434-842c-218c25b6fa0b\",\"subtype\":\"Figure\",\"type\":\"Plot\"},\"ticker\":{\"id\":\"0575ee73-5d7b-4713-9f42-273422bf3568\",\"type\":\"BasicTicker\"}},\"id\":\"163fb0a8-deeb-4040-9fb8-9faee24ee8ad\",\"type\":\"Grid\"},{\"attributes\":{\"callback\":null,\"column_names\":[\"x\",\"top\"],\"data\":{\"top\":[6,7,2,4,5],\"x\":[1,2,3,4,5]},\"selected\":null,\"selection_policy\":null},\"id\":\"28aca03c-4346-48f6-b26d-bfe9f11f1e9b\",\"type\":\"ColumnDataSource\"},{\"attributes\":{\"active_drag\":\"auto\",\"active_inspect\":\"auto\",\"active_scroll\":\"auto\",\"active_tap\":\"auto\",\"tools\":[{\"id\":\"23ddc8c4-a911-4cff-8422-0bef6ae712d3\",\"type\":\"PanTool\"},{\"id\":\"eed07332-b0da-4c10-a865-9f0bd5e9f077\",\"type\":\"WheelZoomTool\"},{\"id\":\"24ca96be-6890-438f-a3f5-dba97d2065ea\",\"type\":\"BoxZoomTool\"},{\"id\":\"927f8672-4e3f-49db-8f59-0d1cc78abe70\",\"type\":\"SaveTool\"},{\"id\":\"8a4b1c98-3d50-4892-b6b6-c84b5f9426a0\",\"type\":\"ResetTool\"},{\"id\":\"3a7ebb95-aae6-4fe0-9cac-74569532be05\",\"type\":\"HelpTool\"}]},\"id\":\"fb0d261b-78e2-4560-9a8b-5d43d118f99e\",\"type\":\"Toolbar\"},{\"attributes\":{\"formatter\":{\"id\":\"a5e0da2f-dba9-4f6b-80af-a8c0e9ef3f4f\",\"type\":\"BasicTickFormatter\"},\"plot\":{\"id\":\"90e4bca2-dec7-4434-842c-218c25b6fa0b\",\"subtype\":\"Figure\",\"type\":\"Plot\"},\"ticker\":{\"id\":\"0575ee73-5d7b-4713-9f42-273422bf3568\",\"type\":\"BasicTicker\"}},\"id\":\"b963d697-cab7-4ca4-b12e-c7d3a0e3af1c\",\"type\":\"LinearAxis\"},{\"attributes\":{\"source\":{\"id\":\"28aca03c-4346-48f6-b26d-bfe9f11f1e9b\",\"type\":\"ColumnDataSource\"}},\"id\":\"e53cf7a4-fd5c-4e48-8377-182713423828\",\"type\":\"CDSView\"},{\"attributes\":{},\"id\":\"0575ee73-5d7b-4713-9f42-273422bf3568\",\"type\":\"BasicTicker\"},{\"attributes\":{},\"id\":\"7d84f53f-734d-4538-9fa6-bf1e8e075f24\",\"type\":\"LinearScale\"},{\"attributes\":{\"formatter\":{\"id\":\"578c0dcc-2e29-4fc8-9ed5-068c9299926f\",\"type\":\"BasicTickFormatter\"},\"plot\":{\"id\":\"90e4bca2-dec7-4434-842c-218c25b6fa0b\",\"subtype\":\"Figure\",\"type\":\"Plot\"},\"ticker\":{\"id\":\"e9001c92-6f06-4828-a067-a25431e5342a\",\"type\":\"BasicTicker\"}},\"id\":\"961f6a1c-8644-4411-a4c5-cc16f94db11d\",\"type\":\"LinearAxis\"},{\"attributes\":{},\"id\":\"e9001c92-6f06-4828-a067-a25431e5342a\",\"type\":\"BasicTicker\"},{\"attributes\":{\"dimension\":1,\"plot\":{\"id\":\"90e4bca2-dec7-4434-842c-218c25b6fa0b\",\"subtype\":\"Figure\",\"type\":\"Plot\"},\"ticker\":{\"id\":\"e9001c92-6f06-4828-a067-a25431e5342a\",\"type\":\"BasicTicker\"}},\"id\":\"9cc2b36f-f080-41c1-a791-918c97b04249\",\"type\":\"Grid\"},{\"attributes\":{\"callback\":null},\"id\":\"afacdbac-78b3-4c3e-8f77-7f7a408ea9a7\",\"type\":\"DataRange1d\"},{\"attributes\":{\"data_source\":{\"id\":\"28aca03c-4346-48f6-b26d-bfe9f11f1e9b\",\"type\":\"ColumnDataSource\"},\"glyph\":{\"id\":\"668ed254-42c5-4200-8d5c-456bcb6cdbcb\",\"type\":\"VBar\"},\"hover_glyph\":null,\"muted_glyph\":null,\"nonselection_glyph\":{\"id\":\"e23020be-2d8e-41d4-b0d6-f9565b19ff10\",\"type\":\"VBar\"},\"selection_glyph\":null,\"view\":{\"id\":\"e53cf7a4-fd5c-4e48-8377-182713423828\",\"type\":\"CDSView\"}},\"id\":\"b2c1ac89-c464-42aa-b5a7-09198f81f0f8\",\"type\":\"GlyphRenderer\"},{\"attributes\":{},\"id\":\"4821fdd2-7604-47c1-b70c-8875572c6555\",\"type\":\"LinearScale\"},{\"attributes\":{\"fill_alpha\":{\"value\":0.1},\"fill_color\":{\"value\":\"#1f77b4\"},\"line_alpha\":{\"value\":0.1},\"line_color\":{\"value\":\"#1f77b4\"},\"top\":{\"field\":\"top\"},\"width\":{\"value\":0.5},\"x\":{\"field\":\"x\"}},\"id\":\"e23020be-2d8e-41d4-b0d6-f9565b19ff10\",\"type\":\"VBar\"},{\"attributes\":{\"callback\":null},\"id\":\"f436efe4-eeff-44a2-af7d-135528539724\",\"type\":\"DataRange1d\"},{\"attributes\":{\"bottom_units\":\"screen\",\"fill_alpha\":{\"value\":0.5},\"fill_color\":{\"value\":\"lightgrey\"},\"left_units\":\"screen\",\"level\":\"overlay\",\"line_alpha\":{\"value\":1.0},\"line_color\":{\"value\":\"black\"},\"line_dash\":[4,4],\"line_width\":{\"value\":2},\"plot\":null,\"render_mode\":\"css\",\"right_units\":\"screen\",\"top_units\":\"screen\"},\"id\":\"57b304db-31bf-42ab-8d9b-f2b832ebd26d\",\"type\":\"BoxAnnotation\"},{\"attributes\":{},\"id\":\"23ddc8c4-a911-4cff-8422-0bef6ae712d3\",\"type\":\"PanTool\"},{\"attributes\":{},\"id\":\"578c0dcc-2e29-4fc8-9ed5-068c9299926f\",\"type\":\"BasicTickFormatter\"},{\"attributes\":{\"fill_color\":{\"value\":\"firebrick\"},\"line_color\":{\"value\":\"firebrick\"},\"top\":{\"field\":\"top\"},\"width\":{\"value\":0.5},\"x\":{\"field\":\"x\"}},\"id\":\"668ed254-42c5-4200-8d5c-456bcb6cdbcb\",\"type\":\"VBar\"},{\"attributes\":{},\"id\":\"eed07332-b0da-4c10-a865-9f0bd5e9f077\",\"type\":\"WheelZoomTool\"},{\"attributes\":{\"overlay\":{\"id\":\"57b304db-31bf-42ab-8d9b-f2b832ebd26d\",\"type\":\"BoxAnnotation\"}},\"id\":\"24ca96be-6890-438f-a3f5-dba97d2065ea\",\"type\":\"BoxZoomTool\"},{\"attributes\":{},\"id\":\"927f8672-4e3f-49db-8f59-0d1cc78abe70\",\"type\":\"SaveTool\"},{\"attributes\":{},\"id\":\"8a4b1c98-3d50-4892-b6b6-c84b5f9426a0\",\"type\":\"ResetTool\"}],\"root_ids\":[\"90e4bca2-dec7-4434-842c-218c25b6fa0b\"]},\"title\":\"Bokeh Application\",\"version\":\"0.12.15\"}};\n",
       "  var render_items = [{\"docid\":\"22156aaf-6e58-4baa-8550-de43abfdff05\",\"elementid\":\"db7389a5-32aa-4e5b-8d2f-2285d5200011\",\"modelid\":\"90e4bca2-dec7-4434-842c-218c25b6fa0b\"}];\n",
       "  root.Bokeh.embed.embed_items_notebook(docs_json, render_items);\n",
       "\n",
       "  }\n",
       "  if (root.Bokeh !== undefined) {\n",
       "    embed_document(root);\n",
       "  } else {\n",
       "    var attempts = 0;\n",
       "    var timer = setInterval(function(root) {\n",
       "      if (root.Bokeh !== undefined) {\n",
       "        embed_document(root);\n",
       "        clearInterval(timer);\n",
       "      }\n",
       "      attempts++;\n",
       "      if (attempts > 100) {\n",
       "        console.log(\"Bokeh: ERROR: Unable to run BokehJS code because BokehJS library is missing\")\n",
       "        clearInterval(timer);\n",
       "      }\n",
       "    }, 10, root)\n",
       "  }\n",
       "})(window);"
      ],
      "application/vnd.bokehjs_exec.v0+json": ""
     },
     "metadata": {
      "application/vnd.bokehjs_exec.v0+json": {
       "id": "90e4bca2-dec7-4434-842c-218c25b6fa0b"
      }
     },
     "output_type": "display_data"
    }
   ],
   "source": [
    "p = figure(plot_width = 300, plot_height = 300)\n",
    "p.vbar(x = [1, 2, 3, 4, 5], width = 0.5, top = [6, 7, 2, 4, 5], color = \"firebrick\")\n",
    "show(p)"
   ]
  },
  {
   "cell_type": "code",
   "execution_count": 28,
   "metadata": {},
   "outputs": [
    {
     "data": {
      "text/html": [
       "\n",
       "<div class=\"bk-root\">\n",
       "    <div class=\"bk-plotdiv\" id=\"a0704e1d-83ba-4064-b35a-9de40148bf99\"></div>\n",
       "</div>"
      ]
     },
     "metadata": {},
     "output_type": "display_data"
    },
    {
     "data": {
      "application/javascript": [
       "(function(root) {\n",
       "  function embed_document(root) {\n",
       "    \n",
       "  var docs_json = {\"2259f761-6ee3-43df-8436-6ee84b70a39e\":{\"roots\":{\"references\":[{\"attributes\":{\"overlay\":{\"id\":\"67e90665-eeca-48c7-b8b2-f372025c7b07\",\"type\":\"BoxAnnotation\"}},\"id\":\"4cf3eadb-cc0c-4943-9576-b38a03ebdc18\",\"type\":\"BoxZoomTool\"},{\"attributes\":{\"formatter\":{\"id\":\"a49671b5-4a35-4ab4-bf17-f618a0271a0e\",\"type\":\"BasicTickFormatter\"},\"plot\":{\"id\":\"baf8a187-2d80-4d9d-8e96-1cc50fb4887d\",\"subtype\":\"Figure\",\"type\":\"Plot\"},\"ticker\":{\"id\":\"bd35d0e3-dca4-4482-a474-f9ac1f1ff110\",\"type\":\"BasicTicker\"}},\"id\":\"225d65b6-9dfc-4594-b7e4-d19809ede357\",\"type\":\"LinearAxis\"},{\"attributes\":{\"fill_color\":{\"field\":\"fill_color\"},\"line_color\":{\"value\":\"white\"},\"xs\":{\"field\":\"xs\"},\"ys\":{\"field\":\"ys\"}},\"id\":\"650c3e64-566b-429f-b9ae-ce2bd372537e\",\"type\":\"Patches\"},{\"attributes\":{},\"id\":\"bd35d0e3-dca4-4482-a474-f9ac1f1ff110\",\"type\":\"BasicTicker\"},{\"attributes\":{},\"id\":\"b7c20ca6-7904-4272-9fb6-92b290079d30\",\"type\":\"LinearScale\"},{\"attributes\":{\"fill_alpha\":{\"value\":0.1},\"fill_color\":{\"value\":\"#1f77b4\"},\"line_alpha\":{\"value\":0.1},\"line_color\":{\"value\":\"#1f77b4\"},\"xs\":{\"field\":\"xs\"},\"ys\":{\"field\":\"ys\"}},\"id\":\"97f5e749-eef1-4950-999a-fa49f3901744\",\"type\":\"Patches\"},{\"attributes\":{\"dimension\":1,\"plot\":{\"id\":\"baf8a187-2d80-4d9d-8e96-1cc50fb4887d\",\"subtype\":\"Figure\",\"type\":\"Plot\"},\"ticker\":{\"id\":\"bd35d0e3-dca4-4482-a474-f9ac1f1ff110\",\"type\":\"BasicTicker\"}},\"id\":\"2d7c0e90-f27a-4aa4-add3-38d5b26c4583\",\"type\":\"Grid\"},{\"attributes\":{\"source\":{\"id\":\"5146705e-e6fa-40c2-b853-30776fff0c1e\",\"type\":\"ColumnDataSource\"}},\"id\":\"2860f59b-814d-48c6-b3c6-af7c44fe1425\",\"type\":\"CDSView\"},{\"attributes\":{\"plot\":null,\"text\":\"\"},\"id\":\"4a60d5f5-d108-4fe5-9307-67e7e101345c\",\"type\":\"Title\"},{\"attributes\":{\"data_source\":{\"id\":\"5146705e-e6fa-40c2-b853-30776fff0c1e\",\"type\":\"ColumnDataSource\"},\"glyph\":{\"id\":\"650c3e64-566b-429f-b9ae-ce2bd372537e\",\"type\":\"Patches\"},\"hover_glyph\":null,\"muted_glyph\":null,\"nonselection_glyph\":{\"id\":\"97f5e749-eef1-4950-999a-fa49f3901744\",\"type\":\"Patches\"},\"selection_glyph\":null,\"view\":{\"id\":\"2860f59b-814d-48c6-b3c6-af7c44fe1425\",\"type\":\"CDSView\"}},\"id\":\"e62baf89-6bda-4038-bfca-e92a26ae1e2e\",\"type\":\"GlyphRenderer\"},{\"attributes\":{\"formatter\":{\"id\":\"186f8c98-fe3c-439f-86c1-a8afaaa2f57e\",\"type\":\"BasicTickFormatter\"},\"plot\":{\"id\":\"baf8a187-2d80-4d9d-8e96-1cc50fb4887d\",\"subtype\":\"Figure\",\"type\":\"Plot\"},\"ticker\":{\"id\":\"3def1935-b103-41ac-8b40-9cb13ab70dba\",\"type\":\"BasicTicker\"}},\"id\":\"ff4e5e33-c85d-48d2-800b-6046287bcf40\",\"type\":\"LinearAxis\"},{\"attributes\":{},\"id\":\"50085972-928a-498c-983b-48420b3a5438\",\"type\":\"LinearScale\"},{\"attributes\":{},\"id\":\"e0d7fa3d-792d-4e0f-b8d5-6363a7a06fed\",\"type\":\"HelpTool\"},{\"attributes\":{},\"id\":\"3def1935-b103-41ac-8b40-9cb13ab70dba\",\"type\":\"BasicTicker\"},{\"attributes\":{\"plot\":{\"id\":\"baf8a187-2d80-4d9d-8e96-1cc50fb4887d\",\"subtype\":\"Figure\",\"type\":\"Plot\"},\"ticker\":{\"id\":\"3def1935-b103-41ac-8b40-9cb13ab70dba\",\"type\":\"BasicTicker\"}},\"id\":\"ebe951aa-4ba9-45da-b63d-8dc8cd276ccf\",\"type\":\"Grid\"},{\"attributes\":{},\"id\":\"186f8c98-fe3c-439f-86c1-a8afaaa2f57e\",\"type\":\"BasicTickFormatter\"},{\"attributes\":{\"below\":[{\"id\":\"ff4e5e33-c85d-48d2-800b-6046287bcf40\",\"type\":\"LinearAxis\"}],\"left\":[{\"id\":\"225d65b6-9dfc-4594-b7e4-d19809ede357\",\"type\":\"LinearAxis\"}],\"renderers\":[{\"id\":\"ff4e5e33-c85d-48d2-800b-6046287bcf40\",\"type\":\"LinearAxis\"},{\"id\":\"ebe951aa-4ba9-45da-b63d-8dc8cd276ccf\",\"type\":\"Grid\"},{\"id\":\"225d65b6-9dfc-4594-b7e4-d19809ede357\",\"type\":\"LinearAxis\"},{\"id\":\"2d7c0e90-f27a-4aa4-add3-38d5b26c4583\",\"type\":\"Grid\"},{\"id\":\"67e90665-eeca-48c7-b8b2-f372025c7b07\",\"type\":\"BoxAnnotation\"},{\"id\":\"e62baf89-6bda-4038-bfca-e92a26ae1e2e\",\"type\":\"GlyphRenderer\"}],\"title\":{\"id\":\"4a60d5f5-d108-4fe5-9307-67e7e101345c\",\"type\":\"Title\"},\"toolbar\":{\"id\":\"6d90b32a-497a-45a6-9d77-c5b1a625f358\",\"type\":\"Toolbar\"},\"x_range\":{\"id\":\"37c55c29-b746-4972-9f16-4cef4d6bde77\",\"type\":\"DataRange1d\"},\"x_scale\":{\"id\":\"b7c20ca6-7904-4272-9fb6-92b290079d30\",\"type\":\"LinearScale\"},\"y_range\":{\"id\":\"3dd0abc9-41a1-4556-bbf3-99bac209cccc\",\"type\":\"DataRange1d\"},\"y_scale\":{\"id\":\"50085972-928a-498c-983b-48420b3a5438\",\"type\":\"LinearScale\"}},\"id\":\"baf8a187-2d80-4d9d-8e96-1cc50fb4887d\",\"subtype\":\"Figure\",\"type\":\"Plot\"},{\"attributes\":{},\"id\":\"a49671b5-4a35-4ab4-bf17-f618a0271a0e\",\"type\":\"BasicTickFormatter\"},{\"attributes\":{\"callback\":null},\"id\":\"3dd0abc9-41a1-4556-bbf3-99bac209cccc\",\"type\":\"DataRange1d\"},{\"attributes\":{},\"id\":\"962eddb4-7d7b-403e-a520-7cba0e3cb2b4\",\"type\":\"ResetTool\"},{\"attributes\":{},\"id\":\"4a9dfa7d-a7e3-4d42-8444-883915bc2d96\",\"type\":\"PanTool\"},{\"attributes\":{\"active_drag\":\"auto\",\"active_inspect\":\"auto\",\"active_scroll\":\"auto\",\"active_tap\":\"auto\",\"tools\":[{\"id\":\"4a9dfa7d-a7e3-4d42-8444-883915bc2d96\",\"type\":\"PanTool\"},{\"id\":\"a40e8fdd-3232-4d0b-bdfd-0e7f0d5d7df3\",\"type\":\"WheelZoomTool\"},{\"id\":\"4cf3eadb-cc0c-4943-9576-b38a03ebdc18\",\"type\":\"BoxZoomTool\"},{\"id\":\"f764ad01-5f30-4cc2-bb6a-a01cbc9b1e90\",\"type\":\"SaveTool\"},{\"id\":\"962eddb4-7d7b-403e-a520-7cba0e3cb2b4\",\"type\":\"ResetTool\"},{\"id\":\"e0d7fa3d-792d-4e0f-b8d5-6363a7a06fed\",\"type\":\"HelpTool\"}]},\"id\":\"6d90b32a-497a-45a6-9d77-c5b1a625f358\",\"type\":\"Toolbar\"},{\"attributes\":{},\"id\":\"f764ad01-5f30-4cc2-bb6a-a01cbc9b1e90\",\"type\":\"SaveTool\"},{\"attributes\":{\"bottom_units\":\"screen\",\"fill_alpha\":{\"value\":0.5},\"fill_color\":{\"value\":\"lightgrey\"},\"left_units\":\"screen\",\"level\":\"overlay\",\"line_alpha\":{\"value\":1.0},\"line_color\":{\"value\":\"black\"},\"line_dash\":[4,4],\"line_width\":{\"value\":2},\"plot\":null,\"render_mode\":\"css\",\"right_units\":\"screen\",\"top_units\":\"screen\"},\"id\":\"67e90665-eeca-48c7-b8b2-f372025c7b07\",\"type\":\"BoxAnnotation\"},{\"attributes\":{},\"id\":\"a40e8fdd-3232-4d0b-bdfd-0e7f0d5d7df3\",\"type\":\"WheelZoomTool\"},{\"attributes\":{\"callback\":null},\"id\":\"37c55c29-b746-4972-9f16-4cef4d6bde77\",\"type\":\"DataRange1d\"},{\"attributes\":{\"callback\":null,\"column_names\":[\"xs\",\"ys\",\"fill_color\"],\"data\":{\"fill_color\":[\"red\",\"blue\",\"green\"],\"xs\":[[1,1,2,2],[2,2,4],[2,2,3,3]],\"ys\":[[2,5,5,2],[3,5,5],[2,3,4,2]]},\"selected\":null,\"selection_policy\":null},\"id\":\"5146705e-e6fa-40c2-b853-30776fff0c1e\",\"type\":\"ColumnDataSource\"}],\"root_ids\":[\"baf8a187-2d80-4d9d-8e96-1cc50fb4887d\"]},\"title\":\"Bokeh Application\",\"version\":\"0.12.15\"}};\n",
       "  var render_items = [{\"docid\":\"2259f761-6ee3-43df-8436-6ee84b70a39e\",\"elementid\":\"a0704e1d-83ba-4064-b35a-9de40148bf99\",\"modelid\":\"baf8a187-2d80-4d9d-8e96-1cc50fb4887d\"}];\n",
       "  root.Bokeh.embed.embed_items_notebook(docs_json, render_items);\n",
       "\n",
       "  }\n",
       "  if (root.Bokeh !== undefined) {\n",
       "    embed_document(root);\n",
       "  } else {\n",
       "    var attempts = 0;\n",
       "    var timer = setInterval(function(root) {\n",
       "      if (root.Bokeh !== undefined) {\n",
       "        embed_document(root);\n",
       "        clearInterval(timer);\n",
       "      }\n",
       "      attempts++;\n",
       "      if (attempts > 100) {\n",
       "        console.log(\"Bokeh: ERROR: Unable to run BokehJS code because BokehJS library is missing\")\n",
       "        clearInterval(timer);\n",
       "      }\n",
       "    }, 10, root)\n",
       "  }\n",
       "})(window);"
      ],
      "application/vnd.bokehjs_exec.v0+json": ""
     },
     "metadata": {
      "application/vnd.bokehjs_exec.v0+json": {
       "id": "baf8a187-2d80-4d9d-8e96-1cc50fb4887d"
      }
     },
     "output_type": "display_data"
    }
   ],
   "source": [
    "xs = [[1, 1, 2, 2], [2, 2, 4], [2, 2, 3, 3]]\n",
    "ys = [[2, 5, 5, 2], [3, 5, 5], [2, 3, 4, 2]]\n",
    "p = figure()\n",
    "p.patches(xs, ys, fill_color = [\"red\", \"blue\", \"green\"], line_color = \"white\")\n",
    "show(p)"
   ]
  },
  {
   "cell_type": "code",
   "execution_count": 29,
   "metadata": {},
   "outputs": [],
   "source": [
    "import json"
   ]
  },
  {
   "cell_type": "code",
   "execution_count": 30,
   "metadata": {},
   "outputs": [],
   "source": [
    "with open(\"states.json\", 'r') as f:\n",
    "    states = json.load(f)"
   ]
  },
  {
   "cell_type": "code",
   "execution_count": 31,
   "metadata": {},
   "outputs": [
    {
     "data": {
      "text/plain": [
       "dict_keys(['az', 'co', 'nm', 'ut'])"
      ]
     },
     "execution_count": 31,
     "metadata": {},
     "output_type": "execute_result"
    }
   ],
   "source": [
    "states.keys()"
   ]
  },
  {
   "cell_type": "code",
   "execution_count": 32,
   "metadata": {},
   "outputs": [
    {
     "data": {
      "text/plain": [
       "dict_keys(['lons', 'lats'])"
      ]
     },
     "execution_count": 32,
     "metadata": {},
     "output_type": "execute_result"
    }
   ],
   "source": [
    "states['az'].keys()"
   ]
  },
  {
   "cell_type": "code",
   "execution_count": 33,
   "metadata": {},
   "outputs": [
    {
     "data": {
      "text/html": [
       "\n",
       "<div class=\"bk-root\">\n",
       "    <div class=\"bk-plotdiv\" id=\"6a53ce4b-47b9-4044-b49d-34c3c6a7312a\"></div>\n",
       "</div>"
      ]
     },
     "metadata": {},
     "output_type": "display_data"
    },
    {
     "data": {
      "application/javascript": [
       "(function(root) {\n",
       "  function embed_document(root) {\n",
       "    \n",
       "  var docs_json = {\"a5ee8289-14ae-4d22-8002-51b4ff798fee\":{\"roots\":{\"references\":[{\"attributes\":{},\"id\":\"f2a9f42c-3f1e-486c-b883-9960bf02dde7\",\"type\":\"BasicTicker\"},{\"attributes\":{},\"id\":\"6821701f-bafd-4df8-8642-34be80de0f46\",\"type\":\"WheelZoomTool\"},{\"attributes\":{},\"id\":\"5238ae1b-2ca2-4637-8cef-535fbd3f8efe\",\"type\":\"BasicTickFormatter\"},{\"attributes\":{\"dimension\":1,\"plot\":{\"id\":\"0d629a38-4e23-423e-94eb-80371800fd4d\",\"subtype\":\"Figure\",\"type\":\"Plot\"},\"ticker\":{\"id\":\"de119734-a6a5-4fd7-97dc-d34c627fae67\",\"type\":\"BasicTicker\"}},\"id\":\"e9d064db-e66e-4736-b75d-b25822e2b642\",\"type\":\"Grid\"},{\"attributes\":{\"plot\":null,\"text\":\"\"},\"id\":\"d9f823a4-d907-4473-816f-f2955d2e2077\",\"type\":\"Title\"},{\"attributes\":{},\"id\":\"16003adc-d2a7-4d20-a199-7ad55dd15025\",\"type\":\"PanTool\"},{\"attributes\":{\"formatter\":{\"id\":\"5238ae1b-2ca2-4637-8cef-535fbd3f8efe\",\"type\":\"BasicTickFormatter\"},\"plot\":{\"id\":\"0d629a38-4e23-423e-94eb-80371800fd4d\",\"subtype\":\"Figure\",\"type\":\"Plot\"},\"ticker\":{\"id\":\"f2a9f42c-3f1e-486c-b883-9960bf02dde7\",\"type\":\"BasicTicker\"}},\"id\":\"93987b88-a492-4ab3-8a2d-aae29e6c1ff7\",\"type\":\"LinearAxis\"},{\"attributes\":{\"source\":{\"id\":\"a2b11c5e-90ba-4c55-b2d0-1cdc55306b0e\",\"type\":\"ColumnDataSource\"}},\"id\":\"cd068ab6-895b-4d28-b7e4-f8a9ad3ccef8\",\"type\":\"CDSView\"},{\"attributes\":{\"plot\":{\"id\":\"0d629a38-4e23-423e-94eb-80371800fd4d\",\"subtype\":\"Figure\",\"type\":\"Plot\"},\"ticker\":{\"id\":\"f2a9f42c-3f1e-486c-b883-9960bf02dde7\",\"type\":\"BasicTicker\"}},\"id\":\"d3838bef-1294-4cd9-9dc9-d9867039e8fb\",\"type\":\"Grid\"},{\"attributes\":{\"bottom_units\":\"screen\",\"fill_alpha\":{\"value\":0.5},\"fill_color\":{\"value\":\"lightgrey\"},\"left_units\":\"screen\",\"level\":\"overlay\",\"line_alpha\":{\"value\":1.0},\"line_color\":{\"value\":\"black\"},\"line_dash\":[4,4],\"line_width\":{\"value\":2},\"plot\":null,\"render_mode\":\"css\",\"right_units\":\"screen\",\"top_units\":\"screen\"},\"id\":\"3dc8ae7a-c6a7-4920-bdbd-3c25921f2784\",\"type\":\"BoxAnnotation\"},{\"attributes\":{},\"id\":\"90e77835-699f-4360-beb1-31a78216b0c7\",\"type\":\"LinearScale\"},{\"attributes\":{\"fill_color\":{\"field\":\"fill_color\"},\"line_color\":{\"value\":\"white\"},\"xs\":{\"field\":\"xs\"},\"ys\":{\"field\":\"ys\"}},\"id\":\"2947d2f1-5ef6-487c-93a5-8f80fae381a4\",\"type\":\"Patches\"},{\"attributes\":{\"formatter\":{\"id\":\"4800f649-7480-4bf9-b822-eecae68d7156\",\"type\":\"BasicTickFormatter\"},\"plot\":{\"id\":\"0d629a38-4e23-423e-94eb-80371800fd4d\",\"subtype\":\"Figure\",\"type\":\"Plot\"},\"ticker\":{\"id\":\"de119734-a6a5-4fd7-97dc-d34c627fae67\",\"type\":\"BasicTicker\"}},\"id\":\"63340d14-ba9d-4f3f-aec2-4827801eaa83\",\"type\":\"LinearAxis\"},{\"attributes\":{\"below\":[{\"id\":\"93987b88-a492-4ab3-8a2d-aae29e6c1ff7\",\"type\":\"LinearAxis\"}],\"left\":[{\"id\":\"63340d14-ba9d-4f3f-aec2-4827801eaa83\",\"type\":\"LinearAxis\"}],\"renderers\":[{\"id\":\"93987b88-a492-4ab3-8a2d-aae29e6c1ff7\",\"type\":\"LinearAxis\"},{\"id\":\"d3838bef-1294-4cd9-9dc9-d9867039e8fb\",\"type\":\"Grid\"},{\"id\":\"63340d14-ba9d-4f3f-aec2-4827801eaa83\",\"type\":\"LinearAxis\"},{\"id\":\"e9d064db-e66e-4736-b75d-b25822e2b642\",\"type\":\"Grid\"},{\"id\":\"3dc8ae7a-c6a7-4920-bdbd-3c25921f2784\",\"type\":\"BoxAnnotation\"},{\"id\":\"17414e26-9911-4b07-9769-84f88d8529c4\",\"type\":\"GlyphRenderer\"}],\"title\":{\"id\":\"d9f823a4-d907-4473-816f-f2955d2e2077\",\"type\":\"Title\"},\"toolbar\":{\"id\":\"4653aeaf-6233-4728-8b56-b4b33e40ca91\",\"type\":\"Toolbar\"},\"x_range\":{\"id\":\"adf3b208-deb0-41f4-b8f6-cedbe3336827\",\"type\":\"DataRange1d\"},\"x_scale\":{\"id\":\"13c346a0-49c8-4e4e-8061-ca7cbe6f2807\",\"type\":\"LinearScale\"},\"y_range\":{\"id\":\"3ddf039f-3466-479e-a564-6626fe4c006e\",\"type\":\"DataRange1d\"},\"y_scale\":{\"id\":\"90e77835-699f-4360-beb1-31a78216b0c7\",\"type\":\"LinearScale\"}},\"id\":\"0d629a38-4e23-423e-94eb-80371800fd4d\",\"subtype\":\"Figure\",\"type\":\"Plot\"},{\"attributes\":{\"fill_alpha\":{\"value\":0.1},\"fill_color\":{\"value\":\"#1f77b4\"},\"line_alpha\":{\"value\":0.1},\"line_color\":{\"value\":\"#1f77b4\"},\"xs\":{\"field\":\"xs\"},\"ys\":{\"field\":\"ys\"}},\"id\":\"9368b7b6-7c20-4db3-8b53-be295552319a\",\"type\":\"Patches\"},{\"attributes\":{\"active_drag\":\"auto\",\"active_inspect\":\"auto\",\"active_scroll\":\"auto\",\"active_tap\":\"auto\",\"tools\":[{\"id\":\"16003adc-d2a7-4d20-a199-7ad55dd15025\",\"type\":\"PanTool\"},{\"id\":\"6821701f-bafd-4df8-8642-34be80de0f46\",\"type\":\"WheelZoomTool\"},{\"id\":\"50ab9714-cc47-4410-ba76-5f219b07b833\",\"type\":\"BoxZoomTool\"},{\"id\":\"3932b27c-7f4f-41f2-8bd1-1420f7d33e9c\",\"type\":\"SaveTool\"},{\"id\":\"8f8f3e9e-89e9-4334-ab1a-cdb639a2e3c8\",\"type\":\"ResetTool\"},{\"id\":\"578e233d-af56-487e-b7bd-d0ace87e7b39\",\"type\":\"HelpTool\"}]},\"id\":\"4653aeaf-6233-4728-8b56-b4b33e40ca91\",\"type\":\"Toolbar\"},{\"attributes\":{},\"id\":\"de119734-a6a5-4fd7-97dc-d34c627fae67\",\"type\":\"BasicTicker\"},{\"attributes\":{},\"id\":\"8f8f3e9e-89e9-4334-ab1a-cdb639a2e3c8\",\"type\":\"ResetTool\"},{\"attributes\":{\"callback\":null},\"id\":\"adf3b208-deb0-41f4-b8f6-cedbe3336827\",\"type\":\"DataRange1d\"},{\"attributes\":{},\"id\":\"578e233d-af56-487e-b7bd-d0ace87e7b39\",\"type\":\"HelpTool\"},{\"attributes\":{\"data_source\":{\"id\":\"a2b11c5e-90ba-4c55-b2d0-1cdc55306b0e\",\"type\":\"ColumnDataSource\"},\"glyph\":{\"id\":\"2947d2f1-5ef6-487c-93a5-8f80fae381a4\",\"type\":\"Patches\"},\"hover_glyph\":null,\"muted_glyph\":null,\"nonselection_glyph\":{\"id\":\"9368b7b6-7c20-4db3-8b53-be295552319a\",\"type\":\"Patches\"},\"selection_glyph\":null,\"view\":{\"id\":\"cd068ab6-895b-4d28-b7e4-f8a9ad3ccef8\",\"type\":\"CDSView\"}},\"id\":\"17414e26-9911-4b07-9769-84f88d8529c4\",\"type\":\"GlyphRenderer\"},{\"attributes\":{\"callback\":null,\"column_names\":[\"xs\",\"ys\",\"fill_color\"],\"data\":{\"fill_color\":[\"red\",\"blue\",\"green\",\"yellow\"],\"xs\":[[-114.63332,-114.63349,-114.63423,-114.60899,-114.63064,-114.57354,-114.58031,-114.61121,-114.6768,-114.66076,-114.65449,-114.68702,-114.69704,-114.70415,-114.67489,-114.70883,-114.74365,-114.73513,-114.6729,-114.51122,-114.32346,-114.22646,-114.1139,-114.04404,-114.04338,-114.04736,-114.05013999999998,-114.0506,-114.0506,-114.05052,-113.94557,-113.86852,-113.62465,-113.4727,-113.32097,-113.17698,-113.02079,-112.99281,-112.96895,-112.75086,-112.48455,-112.32985,-111.99142,-111.58602,-111.39598,-111.2523,-111.03957,-110.73783,-110.54945,-110.272,-110.13851,-109.83491,-109.43568,-109.26993,-109.04538,-109.04522,-109.04522,-109.04531,-109.04544,-109.04547,-109.04579,-109.04575,-109.04601,-109.04578,-109.04606,-109.04621000000002,-109.04636,-109.04662,-109.04644,-109.04598,-109.04603,-109.04633,-109.04692,-109.047,-109.04691,-109.0474,-109.04762,-109.04764,-109.04811,-109.04905,-109.04911,-109.05004,-109.0587,-109.25062,-109.30069,-109.33682,-109.38186,-109.45105,-109.5287,-109.62562,-109.79302,-109.97582,-110.20503,-110.49327,-110.56918,-110.65415,-110.77828,-110.87564,-110.93778,-110.94286,-110.97553,-111.12565,-111.24082,-111.29191000000002,-111.32558,-111.3574,-111.38483,-111.44337,-111.47861,-111.49725,-111.53479,-111.56975,-111.62412,-111.66,-111.73365,-111.79498,-111.9182,-111.97172,-111.99115,-112.02937,-112.09378999999998,-112.13972,-112.15906,-112.21295,-112.32605,-112.39932,-112.43603,-112.52208,-112.57141,-112.63294,-112.67695,-112.72356,-112.75567,-112.8055,-112.83423,-112.8711,-112.90863,-113.20884,-113.2279,-113.30313999999998,-113.61086,-113.78489,-113.90756,-113.97121,-114.11135,-114.20719,-114.25558999999998,-114.28755,-114.38472,-114.61337,-114.77804,-114.81394,-114.81518,-114.80524,-114.81037,-114.81335,-114.80551,-114.80529,-114.79282,-114.79206,-114.79555,-114.81362,-114.80894,-114.80404,-114.80093,-114.80804,-114.80891,-114.80192,-114.79518,-114.7819,-114.77309,-114.76427,-114.74805,-114.74638,-114.74505,-114.74456,-114.74203,-114.74,-114.73874,-114.73062,-114.72924,-114.72377,-114.71994,-114.71919,-114.69096,-114.63501,-114.58576,-114.46563,-114.48131,-114.62973,-114.68157,-114.72123,-114.61185,-114.5402,-114.49649,-114.52801,-114.51318,-114.49813,-114.4355,-114.35765,-114.26017,-114.14737,-114.29195,-114.38169,-114.44166,-114.48236,-114.56953,-114.63305],[-109.04984,-109.06017,-109.06015,-109.05655,-109.05305,-109.05158,-109.05119,-109.05077,-109.05132,-109.05077,-109.05087,-109.05088,-109.05093,-109.05088,-109.05051,-109.04899,-109.04907,-109.05008,-109.03134,-108.83854,-108.6996,-108.59802,-108.46524,-108.25764,-108.10567,-107.91411,-107.75063,-107.55479,-107.35937,-107.27483,-107.12561,-106.9166,-106.59389,-106.32621,-106.06118,-105.82273,-105.60473,-105.46928,-105.2756,-105.07514,-104.86787,-104.58704,-104.24506,-104.0535,-104.05325,-104.05153,-103.90732,-103.61529,-103.46471,-103.30624,-103.00202,-102.88728,-102.76668,-102.55879,-102.38345,-102.23951,-102.12861,-102.05156,-102.05154,-102.05152,-102.05145,-102.05143,-102.05144,-102.05144,-102.0515,-102.0515,-102.05152,-102.05131,-102.05145,-102.05176,-102.05176,-102.05174,-102.05174,-102.05139,-102.0506,-102.04955,-102.04907,-102.04875,-102.04802,-102.04541,-102.04514,-102.04524,-102.04494,-102.04501,-102.04479,-102.04452,-102.04447,-102.04431,-102.04456,-102.04402,-102.04286,-102.04166,-102.04179,-102.04178,-102.04192,-102.04196,-102.04199,-102.0421,-102.04209,-102.04538,-102.05418,-102.07425,-102.09059,-102.17511,-102.19751,-102.24848,-102.26493,-102.29933,-102.34378,-102.35537,-102.40232,-102.49444,-102.52468,-102.57091,-102.62547,-102.68337,-102.7059,-102.77324,-102.81507,-102.86545,-102.89315,-102.9279,-102.97961,-102.98698,-103.00214,-103.0022,-103.01356,-103.26061,-103.53892,-103.92627,-104.17265,-104.49245,-104.76311,-105.15658,-105.50752,-105.6576,-105.93761,-106.15386,-106.4654,-106.61906,-106.73137,-106.89142,-107.00562,-107.25094,-107.4121,-107.49519,-107.8669,-108.20233,-108.52833,-108.7496,-108.8978,-109.04518,-109.04522,-109.04531,-109.04519,-109.04583,-109.04582,-109.04191000000002,-109.04159,-109.04304,-109.04232,-109.0498],[-103.55583,-104.00265,-104.64165,-105.14679,-105.90075,-106.55721,-106.63119,-106.62216,-106.63325,-106.61103,-106.54568,-106.52834,-106.52861,-106.53181,-106.55963,-106.56993,-106.60042,-106.61408,-106.62967,-106.67613,-106.68194,-106.7505,-106.75874,-106.77057,-106.82052,-106.87555,-106.89949,-106.93928,-106.96546,-106.98754,-106.99317,-106.99823,-106.99882,-107.00056,-107.12556,-107.2773,-107.29766,-107.3093,-107.32402,-107.35469,-107.37629,-107.39716,-107.42244,-107.47074,-107.50261,-107.53069,-107.5835,-107.62497,-107.6266,-107.62774,-107.62988,-107.63241,-107.63786,-107.64356,-107.65173,-107.66987,-107.70084,-107.70821,-107.75058,-107.7889,-107.84105,-107.86238,-107.8711,-107.88551,-107.90473,-107.964,-108.00059,-108.044,-108.05664,-108.07876,-108.08267,-108.1052,-108.15227,-108.17096,-108.1986,-108.20839,-108.20844,-108.20841,-108.2084,-108.20838,-108.20837,-108.2083,-108.20814,-108.20819,-108.20835,-108.20869,-108.20855,-108.20852,-108.20849,-108.20839,-108.20848,-108.20854,-108.20857,-108.36757,-108.38904,-108.44606,-108.47535,-108.53011,-108.61731,-108.65709,-108.70766,-108.71907,-108.72702,-108.73503,-108.73904,-108.7506,-108.75906,-108.82206,-108.86103,-108.88692,-109.00061,-109.05004,-109.05004,-109.04911,-109.04905,-109.04811,-109.04764,-109.04762,-109.0474,-109.04691,-109.047,-109.04692,-109.04633,-109.04603,-109.04598,-109.04644,-109.04662,-109.04636,-109.04621000000002,-109.04606,-109.04578,-109.04601,-109.04575,-109.04579,-109.04547,-109.04544,-109.04531,-109.04522,-109.04522,-109.04518,-108.8978,-108.7496,-108.52833,-108.20233,-107.8669,-107.49519,-107.4121,-107.25094,-107.00562,-106.89142,-106.73137,-106.61906,-106.4654,-106.15386,-105.93761,-105.6576,-105.50752,-105.15658,-104.76311,-104.49245,-104.17265,-103.92627,-103.53892,-103.26061,-103.01356,-103.0022,-103.0022,-103.00232,-103.00232,-103.00228,-103.00227,-103.00224,-103.00223,-103.00218,-103.00206,-103.00213,-103.00215,-103.0021,-103.00214,-103.00218,-103.00237,-103.00218,-103.0023,-103.00226,-103.00223,-103.00226,-103.0023,-103.00233,-103.00233,-103.00228,-103.00228,-103.00245,-103.00243,-103.02394,-103.04133,-103.04249,-103.04239,-103.04283,-103.04312,-103.04338,-103.04362,-103.04374,-103.04376,-103.04993,-103.05727,-103.06464,-103.06478,-103.53275],[-114.04392,-114.04391,-114.04375,-114.04195,-114.04061000000002,-114.04055,-114.0398,-114.04172,-114.0391,-113.80254,-113.64886,-113.49562,-113.36362,-113.20505,-113.10627,-112.96233,-112.83266,-112.78175,-112.68558,-112.58229,-112.45023,-112.26534,-112.1985,-112.10309,-111.98965,-111.9304,-111.88098,-111.82932,-111.73177,-111.51913,-111.4087,-111.26009,-111.14884,-111.04934,-111.04668999999998,-111.04682,-111.04631,-111.04601,-111.0458,-111.04611,-111.04648,-111.04667,-111.04688,-111.04686,-110.94406,-110.86384,-110.70521,-110.55878,-110.43401,-110.34177,-110.25071,-110.14713,-110.0004,-109.90645,-109.75044,-109.67348,-109.63381,-109.51776,-109.43099,-109.30329,-109.05847,-109.05008,-109.04907,-109.04899,-109.05051,-109.05088,-109.05093,-109.05088,-109.05087,-109.05077,-109.05132,-109.05077,-109.05119,-109.05158,-109.05305,-109.05655,-109.06015,-109.06017,-109.04984,-109.0498,-109.04232,-109.04304,-109.04159,-109.04191000000002,-109.04582,-109.04583,-109.04519,-109.04531,-109.04522,-109.04538,-109.26993,-109.43568,-109.83491,-110.13851,-110.272,-110.54945,-110.73783,-111.03957,-111.2523,-111.39598,-111.58602,-111.99142,-112.32985,-112.48455,-112.75086,-112.96895,-112.99281,-113.02079,-113.17698,-113.32097,-113.4727,-113.62465,-113.86852,-113.94557,-114.05052,-114.0506,-114.05187,-114.05264,-114.05198,-114.04939,-114.05013,-114.04997,-114.04992,-114.04916,-114.04833,-114.04885,-114.04841,-114.04779,-114.0473,-114.04757,-114.04727,-114.04658,-114.04644,-114.04619,-114.04558]],\"ys\":[[34.87057,35.00186,35.00332,35.07971,35.117909999999995,35.142309999999995,35.21811,35.37012,35.49125,35.5417,35.60517,35.66942,35.73579,35.81412,35.86436,35.9167,35.98542,36.05493,36.11546,36.15058,36.10119,36.01461,36.09833,36.21464,36.37619,36.60322,36.817,36.99997000000001,37.0004,37.0004,36.99998,36.99998,36.99998,36.99998,36.99998,36.99998,37.00022,37.00017,37.00012,37.00048,37.00094,37.00105,37.00097,37.00166,37.00147,37.00102,37.00247,37.00325,37.00383,36.99828,36.99845,36.99831,36.9991,36.99926,36.99908,36.99908,36.99897,36.8531,36.70384,36.54513,36.41637,36.29154000000001,36.18724,36.03128,35.93088,35.81044,35.65092,35.45859,35.30697,34.91388,34.71264,34.44558,34.08446,33.71335,33.3477,33.07165,32.70386,32.40743,32.1771,31.870690000000003,31.63698,31.3325,31.33252,31.3338,31.33396,31.334,31.33394,31.33406,31.33393,31.33408,31.333990000000004,31.33341,31.33363,31.33296,31.33299,31.33305,31.33363,31.33328,31.33281,31.33283,31.33257,31.34898,31.38586,31.40231,31.41305,31.42333,31.43196,31.45068,31.46195,31.4678,31.47995,31.490990000000004,31.50825,31.51945,31.54305,31.56227,31.6012,31.61823,31.62425,31.63623,31.65645,31.67094,31.67701,31.69377,31.72891,31.75165,31.76301,31.78954,31.80473,31.82357,31.837020000000006,31.8513,31.861320000000006,31.87666,31.885140000000003,31.89671,31.907870000000006,31.99917,32.0054,32.02905,32.12566,32.17992,32.21797,32.2376,32.28088,32.31044,32.32538,32.33509,32.36468,32.43408,32.48373,32.495259999999995,32.50602,32.50999,32.518390000000004,32.524190000000004,32.53277,32.54351,32.55396,32.56772,32.56625,32.56133,32.57093,32.58137,32.5955,32.60317,32.61295,32.6238,32.62325,32.6247,32.63705,32.65006,32.66489,32.66985,32.67414,32.6785,32.68221,32.68517,32.68732,32.6986,32.70545,32.71192,32.71829,32.71943,32.73946,32.73137,32.73487,32.87408,32.97206,33.03255,33.23376,33.39691,33.471309999999995,33.58709,33.6969,33.84446,33.91285,33.96372,34.04257,34.12866,34.17212,34.31087,34.41527,34.47903,34.64288,34.71453,34.79181,34.86997],[38.215,38.40118,38.60929,38.81393,38.95788,39.11656,39.22605,39.36423,39.56752,39.79876,40.03782,40.18844,40.2929,40.41493,40.50615,40.68445,40.87296,41.00066,41.00051,41.00013,41.0001,40.99996,41.00008,41.00011,41.00139,41.00205,41.00197,41.00228,41.00305,41.00283,41.00305,41.00315,41.00213,40.99927,40.997,40.99701,40.99722,40.99766,40.99818,40.9983,40.99826,41.00153,41.00162,41.00139,41.00141,41.00153,41.00166,41.0017,41.00185,41.00191,41.00239000000001,41.00231,41.00234,41.00243,41.00245,41.00235,41.00247,40.97899,40.9255,40.87501,40.82214000000001,40.75901,40.71742,40.69984,40.65115,40.61334,40.55651,40.48846,40.31022,40.1605,40.01399,40.00308,40.00061,39.87098,39.67645,39.53889,39.40853,39.33572,39.24305,38.84279,38.66387,38.59586,38.52933,38.47219000000001,38.41997,38.30634000000001,38.26504,38.17556,38.05734,37.94303,37.80941,37.68749,37.49347,37.45597,37.3385,37.22191,37.10676,36.99352,36.99302,36.99306,36.99305,36.99311,36.99325,36.99357,36.99367,36.9942,36.99439,36.99425,36.99441,36.99457,36.99479,36.99494,36.99487,36.99513,36.99504,36.9952,36.99557,36.99885,36.99977,36.99959000000001,36.99944,36.99908,36.99855,36.99852,37.0001,37.0001,37.00021,36.99956,36.99892,36.99669,36.99511,36.99367,36.9935,36.99527,36.99589,36.99578,36.99556,36.99469000000001,36.99378,36.99303,36.99263,37.00014,37.00001,37.00001,37.0,37.00001,37.0,36.99924,36.99927,36.99887,36.99885,36.99908,36.99908,37.01706,37.09597,37.20443,37.35363,37.5667,37.7899,37.97469,38.10272,38.21472],[32.00032,32.00001,32.000409999999995,32.0005,32.00198,32.00076,31.98981,31.93601,31.90997,31.84661,31.8054,31.78318,31.78328,31.78391,31.78394,31.78395,31.783990000000006,31.784,31.784090000000006,31.78395,31.78393,31.78371,31.78394,31.78404,31.78385,31.78384,31.783790000000003,31.78378,31.78381,31.7837,31.783690000000004,31.78367,31.78367,31.78355,31.78354,31.78377,31.78367,31.78366,31.78367,31.78365,31.78367,31.78365,31.7836,31.78365,31.78366,31.78365,31.783690000000004,31.78365,31.78374,31.78374,31.78374,31.78374,31.7837,31.78371,31.78371,31.78368,31.78368,31.78368,31.78361,31.78363,31.78365,31.7836,31.783590000000004,31.783590000000004,31.7836,31.78363,31.78365,31.78361,31.78357,31.78351,31.7835,31.78353,31.78357,31.78358,31.783590000000004,31.7836,31.74465,31.72969,31.72323,31.7194,31.71733,31.68878,31.62561,31.58935,31.5608,31.52581,31.50105,31.4998,31.47883,31.429170000000006,31.37656,31.3561,31.3334,31.3334,31.33341,31.33347,31.333440000000003,31.33336,31.33329,31.33323,31.33319,31.333070000000006,31.33298,31.3329,31.33285,31.33273,31.33261,31.33226,31.332320000000006,31.33231,31.33217,31.33224,31.3325,31.63698,31.870690000000003,32.1771,32.40743,32.70386,33.07165,33.3477,33.71335,34.08446,34.44558,34.71264,34.91388,35.30697,35.45859,35.65092,35.81044,35.93088,36.03128,36.18724,36.29154000000001,36.41637,36.54513,36.70384,36.8531,36.99897,36.99908,36.99908,36.99885,36.99887,36.99927,36.99924,37.0,37.00001,37.0,37.00001,37.00001,37.00014,36.99263,36.99303,36.99378,36.99469000000001,36.99556,36.99578,36.99589,36.99527,36.9935,36.99367,36.99511,36.99669,36.99892,36.99956,37.00021,37.0001,37.00006,36.9686,36.95031,36.91582,36.91402,36.90243,36.89755,36.86996,36.81735,36.76898,36.74295,36.7193,36.7013,36.68525,36.67653,36.65329000000001,36.6278,36.60265,36.5919,36.56927,36.56386,36.54875,36.52963,36.51475,36.50609,36.50046,36.5004,36.50042,35.76515,35.21202,35.1362,34.88888,34.67259,34.53564,34.40999,34.271809999999995,34.03983,33.71754,33.35051,33.00011,32.59516,32.00034],[40.68928,40.68985,40.76026,41.05548,41.36,41.59062,41.89425,41.99372,41.99367,41.98895,41.99102,41.99331,41.99384000000001,41.99645,41.99735,41.99841,41.99938,41.99973,42.00021,42.00054,42.00099,42.00111,42.00116,41.99763,41.99834,41.99861,41.99856,41.99875,41.99926,41.99951,42.00063,42.00132,42.00154000000001,42.00159,42.00157,42.00034,41.83664,41.64119,41.52149,41.41513,41.36572,41.20441,41.10318,41.00917000000001,40.9976,40.99725,40.99635,40.99635,40.99485,40.99533,40.99609,40.99634,40.99734,40.99766,40.99797,40.99841,40.9983,40.99871,40.99964,41.00064,41.00069000000001,41.00066,40.87296,40.68445,40.50615,40.41493,40.2929,40.18844,40.03782,39.79876,39.56752,39.36423,39.22605,39.11656,38.95788,38.81393,38.60929,38.40118,38.215,38.21472,38.10272,37.97469,37.7899,37.5667,37.35363,37.20443,37.09597,37.01706,36.99908,36.99908,36.99926,36.9991,36.99831,36.99845,36.99828,37.00383,37.00325,37.00247,37.00102,37.00147,37.00166,37.00097,37.00105,37.00094,37.00048,37.00012,37.00017,37.00022,36.99998,36.99998,36.99998,36.99998,36.99998,36.99998,37.0004,37.0004,37.13439,37.47222,37.70735,37.77873,37.95499,38.20495,38.55049,38.75165,38.90545,39.08777,39.23851,39.36296,39.45715,39.61018,39.75817,39.99994,40.09896,40.30302,40.4958]]},\"selected\":null,\"selection_policy\":null},\"id\":\"a2b11c5e-90ba-4c55-b2d0-1cdc55306b0e\",\"type\":\"ColumnDataSource\"},{\"attributes\":{},\"id\":\"4800f649-7480-4bf9-b822-eecae68d7156\",\"type\":\"BasicTickFormatter\"},{\"attributes\":{},\"id\":\"13c346a0-49c8-4e4e-8061-ca7cbe6f2807\",\"type\":\"LinearScale\"},{\"attributes\":{},\"id\":\"3932b27c-7f4f-41f2-8bd1-1420f7d33e9c\",\"type\":\"SaveTool\"},{\"attributes\":{\"callback\":null},\"id\":\"3ddf039f-3466-479e-a564-6626fe4c006e\",\"type\":\"DataRange1d\"},{\"attributes\":{\"overlay\":{\"id\":\"3dc8ae7a-c6a7-4920-bdbd-3c25921f2784\",\"type\":\"BoxAnnotation\"}},\"id\":\"50ab9714-cc47-4410-ba76-5f219b07b833\",\"type\":\"BoxZoomTool\"}],\"root_ids\":[\"0d629a38-4e23-423e-94eb-80371800fd4d\"]},\"title\":\"Bokeh Application\",\"version\":\"0.12.15\"}};\n",
       "  var render_items = [{\"docid\":\"a5ee8289-14ae-4d22-8002-51b4ff798fee\",\"elementid\":\"6a53ce4b-47b9-4044-b49d-34c3c6a7312a\",\"modelid\":\"0d629a38-4e23-423e-94eb-80371800fd4d\"}];\n",
       "  root.Bokeh.embed.embed_items_notebook(docs_json, render_items);\n",
       "\n",
       "  }\n",
       "  if (root.Bokeh !== undefined) {\n",
       "    embed_document(root);\n",
       "  } else {\n",
       "    var attempts = 0;\n",
       "    var timer = setInterval(function(root) {\n",
       "      if (root.Bokeh !== undefined) {\n",
       "        embed_document(root);\n",
       "        clearInterval(timer);\n",
       "      }\n",
       "      attempts++;\n",
       "      if (attempts > 100) {\n",
       "        console.log(\"Bokeh: ERROR: Unable to run BokehJS code because BokehJS library is missing\")\n",
       "        clearInterval(timer);\n",
       "      }\n",
       "    }, 10, root)\n",
       "  }\n",
       "})(window);"
      ],
      "application/vnd.bokehjs_exec.v0+json": ""
     },
     "metadata": {
      "application/vnd.bokehjs_exec.v0+json": {
       "id": "0d629a38-4e23-423e-94eb-80371800fd4d"
      }
     },
     "output_type": "display_data"
    }
   ],
   "source": [
    "states_xs = []\n",
    "states_ys = []\n",
    "for key in states.keys():\n",
    "    states_xs.append(states[key]['lons'])\n",
    "    states_ys.append(states[key]['lats'])\n",
    "    \n",
    "p = figure()\n",
    "p.patches(states_xs, states_ys, fill_color = [\"red\", \"blue\", \"green\", \"yellow\"], line_color = \"white\")\n",
    "show(p)"
   ]
  },
  {
   "cell_type": "code",
   "execution_count": 34,
   "metadata": {},
   "outputs": [],
   "source": [
    "import numpy as np"
   ]
  },
  {
   "cell_type": "code",
   "execution_count": 35,
   "metadata": {},
   "outputs": [
    {
     "data": {
      "text/html": [
       "\n",
       "<div class=\"bk-root\">\n",
       "    <div class=\"bk-plotdiv\" id=\"1458a77c-0030-42dc-ab07-78276ef10305\"></div>\n",
       "</div>"
      ]
     },
     "metadata": {},
     "output_type": "display_data"
    },
    {
     "data": {
      "application/javascript": [
       "(function(root) {\n",
       "  function embed_document(root) {\n",
       "    \n",
       "  var docs_json = {\"1f5616c0-cd3b-4ba1-b626-b4a4d67bc604\":{\"roots\":{\"references\":[{\"attributes\":{\"data_source\":{\"id\":\"b369ebe9-e9a8-483b-a43d-d072bf075f4a\",\"type\":\"ColumnDataSource\"},\"glyph\":{\"id\":\"c4f0ed28-2d5a-435b-b625-467f25d35558\",\"type\":\"Circle\"},\"hover_glyph\":null,\"muted_glyph\":null,\"nonselection_glyph\":{\"id\":\"ccf62f8b-aaeb-4f2b-bf3c-17dc42f0b53c\",\"type\":\"Circle\"},\"selection_glyph\":null,\"view\":{\"id\":\"629e6d91-da61-4958-a5e7-2900e5e5fa3a\",\"type\":\"CDSView\"}},\"id\":\"f36fbfbc-ef7a-4b71-a23f-e09de5365b1b\",\"type\":\"GlyphRenderer\"},{\"attributes\":{\"bottom_units\":\"screen\",\"fill_alpha\":{\"value\":0.5},\"fill_color\":{\"value\":\"lightgrey\"},\"left_units\":\"screen\",\"level\":\"overlay\",\"line_alpha\":{\"value\":1.0},\"line_color\":{\"value\":\"black\"},\"line_dash\":[4,4],\"line_width\":{\"value\":2},\"plot\":null,\"render_mode\":\"css\",\"right_units\":\"screen\",\"top_units\":\"screen\"},\"id\":\"1a396f90-b0fc-43f5-8579-32ad906e75c5\",\"type\":\"BoxAnnotation\"},{\"attributes\":{},\"id\":\"946f9784-49ba-4f01-8559-0c58d85cd01a\",\"type\":\"HelpTool\"},{\"attributes\":{\"plot\":null,\"text\":\"\"},\"id\":\"d082940f-b988-4c1f-9fc1-80deb89f11a0\",\"type\":\"Title\"},{\"attributes\":{\"formatter\":{\"id\":\"478e5db8-a9ac-4ac5-ac69-64b2a0871143\",\"type\":\"BasicTickFormatter\"},\"plot\":{\"id\":\"920bf762-70db-468e-b30d-8f4425ed9472\",\"subtype\":\"Figure\",\"type\":\"Plot\"},\"ticker\":{\"id\":\"b9aad5aa-0a1b-4103-86d6-d8770e2e77af\",\"type\":\"BasicTicker\"}},\"id\":\"13f4d9df-f19a-4aad-8155-11601a878b8a\",\"type\":\"LinearAxis\"},{\"attributes\":{},\"id\":\"cb57b8ec-4964-4fdc-8179-652f8abeafd0\",\"type\":\"ResetTool\"},{\"attributes\":{\"dimension\":1,\"plot\":{\"id\":\"920bf762-70db-468e-b30d-8f4425ed9472\",\"subtype\":\"Figure\",\"type\":\"Plot\"},\"ticker\":{\"id\":\"b9aad5aa-0a1b-4103-86d6-d8770e2e77af\",\"type\":\"BasicTicker\"}},\"id\":\"dd9a8735-11f5-4e3a-aab9-fabe1e9cf47a\",\"type\":\"Grid\"},{\"attributes\":{\"callback\":null,\"column_names\":[\"x\",\"y\"],\"data\":{\"x\":{\"__ndarray__\":\"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\",\"dtype\":\"float64\",\"shape\":[200]},\"y\":{\"__ndarray__\":\"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\",\"dtype\":\"float64\",\"shape\":[200]}},\"selected\":null,\"selection_policy\":null},\"id\":\"b369ebe9-e9a8-483b-a43d-d072bf075f4a\",\"type\":\"ColumnDataSource\"},{\"attributes\":{\"active_drag\":\"auto\",\"active_inspect\":\"auto\",\"active_scroll\":\"auto\",\"active_tap\":\"auto\",\"tools\":[{\"id\":\"d766ebe3-c6ee-47df-9e6b-b30d68836f42\",\"type\":\"PanTool\"},{\"id\":\"01a682f5-a3d9-4688-b057-a7a89e7c5c50\",\"type\":\"WheelZoomTool\"},{\"id\":\"64279300-d52a-4193-a139-9b43195227ad\",\"type\":\"BoxZoomTool\"},{\"id\":\"ac539c00-c87e-4218-ba9f-0673b853bfbd\",\"type\":\"SaveTool\"},{\"id\":\"cb57b8ec-4964-4fdc-8179-652f8abeafd0\",\"type\":\"ResetTool\"},{\"id\":\"946f9784-49ba-4f01-8559-0c58d85cd01a\",\"type\":\"HelpTool\"}]},\"id\":\"0afc4627-b049-4797-8c80-bb7d15e780d3\",\"type\":\"Toolbar\"},{\"attributes\":{\"below\":[{\"id\":\"1a3c9502-4e18-4771-96ba-e98f2bce268a\",\"type\":\"LinearAxis\"}],\"left\":[{\"id\":\"13f4d9df-f19a-4aad-8155-11601a878b8a\",\"type\":\"LinearAxis\"}],\"renderers\":[{\"id\":\"1a3c9502-4e18-4771-96ba-e98f2bce268a\",\"type\":\"LinearAxis\"},{\"id\":\"302acb49-3c7c-467b-a1e8-978050323764\",\"type\":\"Grid\"},{\"id\":\"13f4d9df-f19a-4aad-8155-11601a878b8a\",\"type\":\"LinearAxis\"},{\"id\":\"dd9a8735-11f5-4e3a-aab9-fabe1e9cf47a\",\"type\":\"Grid\"},{\"id\":\"1a396f90-b0fc-43f5-8579-32ad906e75c5\",\"type\":\"BoxAnnotation\"},{\"id\":\"f36fbfbc-ef7a-4b71-a23f-e09de5365b1b\",\"type\":\"GlyphRenderer\"}],\"title\":{\"id\":\"d082940f-b988-4c1f-9fc1-80deb89f11a0\",\"type\":\"Title\"},\"toolbar\":{\"id\":\"0afc4627-b049-4797-8c80-bb7d15e780d3\",\"type\":\"Toolbar\"},\"x_range\":{\"id\":\"ed130a66-dcd6-40a6-b950-e081519b26a4\",\"type\":\"DataRange1d\"},\"x_scale\":{\"id\":\"2367d46a-a42b-4b7e-9d48-47e3ef096745\",\"type\":\"LinearScale\"},\"y_range\":{\"id\":\"abe94586-2b16-4d03-82f9-b52fa1f46d35\",\"type\":\"DataRange1d\"},\"y_scale\":{\"id\":\"2db9faa7-76df-4571-a978-4c9a81e11f8a\",\"type\":\"LinearScale\"}},\"id\":\"920bf762-70db-468e-b30d-8f4425ed9472\",\"subtype\":\"Figure\",\"type\":\"Plot\"},{\"attributes\":{},\"id\":\"d766ebe3-c6ee-47df-9e6b-b30d68836f42\",\"type\":\"PanTool\"},{\"attributes\":{},\"id\":\"2367d46a-a42b-4b7e-9d48-47e3ef096745\",\"type\":\"LinearScale\"},{\"attributes\":{},\"id\":\"01a682f5-a3d9-4688-b057-a7a89e7c5c50\",\"type\":\"WheelZoomTool\"},{\"attributes\":{\"overlay\":{\"id\":\"1a396f90-b0fc-43f5-8579-32ad906e75c5\",\"type\":\"BoxAnnotation\"}},\"id\":\"64279300-d52a-4193-a139-9b43195227ad\",\"type\":\"BoxZoomTool\"},{\"attributes\":{\"fill_alpha\":{\"value\":0.1},\"fill_color\":{\"value\":\"#1f77b4\"},\"line_alpha\":{\"value\":0.1},\"line_color\":{\"value\":\"#1f77b4\"},\"x\":{\"field\":\"x\"},\"y\":{\"field\":\"y\"}},\"id\":\"ccf62f8b-aaeb-4f2b-bf3c-17dc42f0b53c\",\"type\":\"Circle\"},{\"attributes\":{},\"id\":\"2f65c210-f3f6-4c04-84bd-b29d781c6e1e\",\"type\":\"BasicTicker\"},{\"attributes\":{\"formatter\":{\"id\":\"f615a068-99dd-43e2-bc47-6dff05d665bc\",\"type\":\"BasicTickFormatter\"},\"plot\":{\"id\":\"920bf762-70db-468e-b30d-8f4425ed9472\",\"subtype\":\"Figure\",\"type\":\"Plot\"},\"ticker\":{\"id\":\"2f65c210-f3f6-4c04-84bd-b29d781c6e1e\",\"type\":\"BasicTicker\"}},\"id\":\"1a3c9502-4e18-4771-96ba-e98f2bce268a\",\"type\":\"LinearAxis\"},{\"attributes\":{\"fill_color\":{\"value\":\"#1f77b4\"},\"line_color\":{\"value\":\"#1f77b4\"},\"x\":{\"field\":\"x\"},\"y\":{\"field\":\"y\"}},\"id\":\"c4f0ed28-2d5a-435b-b625-467f25d35558\",\"type\":\"Circle\"},{\"attributes\":{},\"id\":\"ac539c00-c87e-4218-ba9f-0673b853bfbd\",\"type\":\"SaveTool\"},{\"attributes\":{\"callback\":null},\"id\":\"ed130a66-dcd6-40a6-b950-e081519b26a4\",\"type\":\"DataRange1d\"},{\"attributes\":{\"plot\":{\"id\":\"920bf762-70db-468e-b30d-8f4425ed9472\",\"subtype\":\"Figure\",\"type\":\"Plot\"},\"ticker\":{\"id\":\"2f65c210-f3f6-4c04-84bd-b29d781c6e1e\",\"type\":\"BasicTicker\"}},\"id\":\"302acb49-3c7c-467b-a1e8-978050323764\",\"type\":\"Grid\"},{\"attributes\":{},\"id\":\"2db9faa7-76df-4571-a978-4c9a81e11f8a\",\"type\":\"LinearScale\"},{\"attributes\":{},\"id\":\"478e5db8-a9ac-4ac5-ac69-64b2a0871143\",\"type\":\"BasicTickFormatter\"},{\"attributes\":{},\"id\":\"b9aad5aa-0a1b-4103-86d6-d8770e2e77af\",\"type\":\"BasicTicker\"},{\"attributes\":{\"source\":{\"id\":\"b369ebe9-e9a8-483b-a43d-d072bf075f4a\",\"type\":\"ColumnDataSource\"}},\"id\":\"629e6d91-da61-4958-a5e7-2900e5e5fa3a\",\"type\":\"CDSView\"},{\"attributes\":{\"callback\":null},\"id\":\"abe94586-2b16-4d03-82f9-b52fa1f46d35\",\"type\":\"DataRange1d\"},{\"attributes\":{},\"id\":\"f615a068-99dd-43e2-bc47-6dff05d665bc\",\"type\":\"BasicTickFormatter\"}],\"root_ids\":[\"920bf762-70db-468e-b30d-8f4425ed9472\"]},\"title\":\"Bokeh Application\",\"version\":\"0.12.15\"}};\n",
       "  var render_items = [{\"docid\":\"1f5616c0-cd3b-4ba1-b626-b4a4d67bc604\",\"elementid\":\"1458a77c-0030-42dc-ab07-78276ef10305\",\"modelid\":\"920bf762-70db-468e-b30d-8f4425ed9472\"}];\n",
       "  root.Bokeh.embed.embed_items_notebook(docs_json, render_items);\n",
       "\n",
       "  }\n",
       "  if (root.Bokeh !== undefined) {\n",
       "    embed_document(root);\n",
       "  } else {\n",
       "    var attempts = 0;\n",
       "    var timer = setInterval(function(root) {\n",
       "      if (root.Bokeh !== undefined) {\n",
       "        embed_document(root);\n",
       "        clearInterval(timer);\n",
       "      }\n",
       "      attempts++;\n",
       "      if (attempts > 100) {\n",
       "        console.log(\"Bokeh: ERROR: Unable to run BokehJS code because BokehJS library is missing\")\n",
       "        clearInterval(timer);\n",
       "      }\n",
       "    }, 10, root)\n",
       "  }\n",
       "})(window);"
      ],
      "application/vnd.bokehjs_exec.v0+json": ""
     },
     "metadata": {
      "application/vnd.bokehjs_exec.v0+json": {
       "id": "920bf762-70db-468e-b30d-8f4425ed9472"
      }
     },
     "output_type": "display_data"
    }
   ],
   "source": [
    "x = np.linspace(0, 2 * np.pi, 200)\n",
    "y = np.cos(x)\n",
    "\n",
    "p = figure()\n",
    "p.circle(x, y)\n",
    "show(p)"
   ]
  },
  {
   "cell_type": "markdown",
   "metadata": {},
   "source": [
    "### Ejemplo linea con puntos"
   ]
  },
  {
   "cell_type": "code",
   "execution_count": 36,
   "metadata": {},
   "outputs": [
    {
     "data": {
      "text/html": [
       "\n",
       "<div class=\"bk-root\">\n",
       "    <div class=\"bk-plotdiv\" id=\"e5fe6533-8c03-4830-934e-4c32f22ab0fe\"></div>\n",
       "</div>"
      ]
     },
     "metadata": {},
     "output_type": "display_data"
    },
    {
     "data": {
      "application/javascript": [
       "(function(root) {\n",
       "  function embed_document(root) {\n",
       "    \n",
       "  var docs_json = {\"d69ef417-1506-46be-bd1a-36c6002a032a\":{\"roots\":{\"references\":[{\"attributes\":{\"line_alpha\":0.1,\"line_color\":\"#1f77b4\",\"line_width\":2,\"x\":{\"field\":\"x\"},\"y\":{\"field\":\"y\"}},\"id\":\"8daf3888-b47b-4c2f-a9ff-80c31fe6019a\",\"type\":\"Line\"},{\"attributes\":{},\"id\":\"45431c5d-433a-4627-b585-93d35145181c\",\"type\":\"LinearScale\"},{\"attributes\":{},\"id\":\"cd09e142-9b24-4fd0-b6de-16a6950c498c\",\"type\":\"LinearScale\"},{\"attributes\":{\"plot\":{\"id\":\"bc18e75e-7dfe-4466-8502-dfa0a9c6de76\",\"subtype\":\"Figure\",\"type\":\"Plot\"},\"ticker\":{\"id\":\"772ee599-d769-465e-bbaf-01c79bc54d40\",\"type\":\"BasicTicker\"}},\"id\":\"c8ba42bd-e308-4603-982c-bbab1c2be553\",\"type\":\"Grid\"},{\"attributes\":{\"formatter\":{\"id\":\"c4fd344b-0c0f-46c2-ad67-da08dc6976fd\",\"type\":\"BasicTickFormatter\"},\"plot\":{\"id\":\"bc18e75e-7dfe-4466-8502-dfa0a9c6de76\",\"subtype\":\"Figure\",\"type\":\"Plot\"},\"ticker\":{\"id\":\"772ee599-d769-465e-bbaf-01c79bc54d40\",\"type\":\"BasicTicker\"}},\"id\":\"1779495b-d0ff-4a53-bceb-937595099a78\",\"type\":\"LinearAxis\"},{\"attributes\":{},\"id\":\"772ee599-d769-465e-bbaf-01c79bc54d40\",\"type\":\"BasicTicker\"},{\"attributes\":{\"formatter\":{\"id\":\"c40982a0-91af-4c13-a325-d83fb9bb47ce\",\"type\":\"BasicTickFormatter\"},\"plot\":{\"id\":\"bc18e75e-7dfe-4466-8502-dfa0a9c6de76\",\"subtype\":\"Figure\",\"type\":\"Plot\"},\"ticker\":{\"id\":\"6f533610-6921-4bcf-a24f-75515e40abdb\",\"type\":\"BasicTicker\"}},\"id\":\"673ac5f0-b0a8-40c8-83b6-b6c96a5fe845\",\"type\":\"LinearAxis\"},{\"attributes\":{},\"id\":\"6f533610-6921-4bcf-a24f-75515e40abdb\",\"type\":\"BasicTicker\"},{\"attributes\":{\"dimension\":1,\"plot\":{\"id\":\"bc18e75e-7dfe-4466-8502-dfa0a9c6de76\",\"subtype\":\"Figure\",\"type\":\"Plot\"},\"ticker\":{\"id\":\"6f533610-6921-4bcf-a24f-75515e40abdb\",\"type\":\"BasicTicker\"}},\"id\":\"0e8f2084-9598-4464-b9e2-e0d5f4912008\",\"type\":\"Grid\"},{\"attributes\":{\"data_source\":{\"id\":\"b0942f7f-7447-4541-bf04-469a68b1f66d\",\"type\":\"ColumnDataSource\"},\"glyph\":{\"id\":\"b2030866-9223-4315-9a2a-8c49133317d3\",\"type\":\"Line\"},\"hover_glyph\":null,\"muted_glyph\":null,\"nonselection_glyph\":{\"id\":\"8daf3888-b47b-4c2f-a9ff-80c31fe6019a\",\"type\":\"Line\"},\"selection_glyph\":null,\"view\":{\"id\":\"42e186c8-1dae-4564-a977-cc428b33982e\",\"type\":\"CDSView\"}},\"id\":\"3fa1d954-37a1-4974-b625-955418dfce35\",\"type\":\"GlyphRenderer\"},{\"attributes\":{},\"id\":\"c4fd344b-0c0f-46c2-ad67-da08dc6976fd\",\"type\":\"BasicTickFormatter\"},{\"attributes\":{\"bottom_units\":\"screen\",\"fill_alpha\":{\"value\":0.5},\"fill_color\":{\"value\":\"lightgrey\"},\"left_units\":\"screen\",\"level\":\"overlay\",\"line_alpha\":{\"value\":1.0},\"line_color\":{\"value\":\"black\"},\"line_dash\":[4,4],\"line_width\":{\"value\":2},\"plot\":null,\"render_mode\":\"css\",\"right_units\":\"screen\",\"top_units\":\"screen\"},\"id\":\"d1370fc3-a091-4b7e-94d2-19e87a3ebe1d\",\"type\":\"BoxAnnotation\"},{\"attributes\":{},\"id\":\"ec12ddc1-343e-4fce-98e3-cc6b92e0b760\",\"type\":\"PanTool\"},{\"attributes\":{\"callback\":null,\"column_names\":[\"x\",\"y\"],\"data\":{\"x\":[1,2,3,4,5],\"y\":[6,7,8,7,3]},\"selected\":null,\"selection_policy\":null},\"id\":\"b60ba6d0-2166-4cbb-99a0-cc07f76b3c3b\",\"type\":\"ColumnDataSource\"},{\"attributes\":{\"source\":{\"id\":\"b0942f7f-7447-4541-bf04-469a68b1f66d\",\"type\":\"ColumnDataSource\"}},\"id\":\"42e186c8-1dae-4564-a977-cc428b33982e\",\"type\":\"CDSView\"},{\"attributes\":{},\"id\":\"c78c7269-82a3-4707-9573-256922ef71f0\",\"type\":\"WheelZoomTool\"},{\"attributes\":{\"overlay\":{\"id\":\"d1370fc3-a091-4b7e-94d2-19e87a3ebe1d\",\"type\":\"BoxAnnotation\"}},\"id\":\"e13da5e6-d534-432e-a042-afa964a48a2c\",\"type\":\"BoxZoomTool\"},{\"attributes\":{},\"id\":\"bb6c9166-0512-4a49-b1e8-b3f3139d0a0c\",\"type\":\"SaveTool\"},{\"attributes\":{},\"id\":\"d34341ee-3f2f-4602-b15e-f000053fd4d3\",\"type\":\"ResetTool\"},{\"attributes\":{},\"id\":\"9bd16000-4594-4719-848f-494e7c063396\",\"type\":\"HelpTool\"},{\"attributes\":{},\"id\":\"c40982a0-91af-4c13-a325-d83fb9bb47ce\",\"type\":\"BasicTickFormatter\"},{\"attributes\":{\"source\":{\"id\":\"b60ba6d0-2166-4cbb-99a0-cc07f76b3c3b\",\"type\":\"ColumnDataSource\"}},\"id\":\"b34c34cf-af52-4d1e-b45f-17db2ba53c86\",\"type\":\"CDSView\"},{\"attributes\":{\"callback\":null},\"id\":\"8627f41d-34cb-488c-ab26-89783eb54dda\",\"type\":\"DataRange1d\"},{\"attributes\":{\"callback\":null},\"id\":\"b76f071c-7fb3-4e64-af0a-c6de42b70604\",\"type\":\"DataRange1d\"},{\"attributes\":{\"plot\":null,\"text\":\"\"},\"id\":\"74ee7a61-0ea8-47ee-8473-966d59437a46\",\"type\":\"Title\"},{\"attributes\":{\"below\":[{\"id\":\"1779495b-d0ff-4a53-bceb-937595099a78\",\"type\":\"LinearAxis\"}],\"left\":[{\"id\":\"673ac5f0-b0a8-40c8-83b6-b6c96a5fe845\",\"type\":\"LinearAxis\"}],\"plot_height\":400,\"plot_width\":400,\"renderers\":[{\"id\":\"1779495b-d0ff-4a53-bceb-937595099a78\",\"type\":\"LinearAxis\"},{\"id\":\"c8ba42bd-e308-4603-982c-bbab1c2be553\",\"type\":\"Grid\"},{\"id\":\"673ac5f0-b0a8-40c8-83b6-b6c96a5fe845\",\"type\":\"LinearAxis\"},{\"id\":\"0e8f2084-9598-4464-b9e2-e0d5f4912008\",\"type\":\"Grid\"},{\"id\":\"d1370fc3-a091-4b7e-94d2-19e87a3ebe1d\",\"type\":\"BoxAnnotation\"},{\"id\":\"3fa1d954-37a1-4974-b625-955418dfce35\",\"type\":\"GlyphRenderer\"},{\"id\":\"dc8e6d8d-3ff1-4946-b254-391686cbca97\",\"type\":\"GlyphRenderer\"}],\"title\":{\"id\":\"74ee7a61-0ea8-47ee-8473-966d59437a46\",\"type\":\"Title\"},\"toolbar\":{\"id\":\"83555d52-f614-4b25-9aea-8f04e961e402\",\"type\":\"Toolbar\"},\"x_range\":{\"id\":\"8627f41d-34cb-488c-ab26-89783eb54dda\",\"type\":\"DataRange1d\"},\"x_scale\":{\"id\":\"45431c5d-433a-4627-b585-93d35145181c\",\"type\":\"LinearScale\"},\"y_range\":{\"id\":\"b76f071c-7fb3-4e64-af0a-c6de42b70604\",\"type\":\"DataRange1d\"},\"y_scale\":{\"id\":\"cd09e142-9b24-4fd0-b6de-16a6950c498c\",\"type\":\"LinearScale\"}},\"id\":\"bc18e75e-7dfe-4466-8502-dfa0a9c6de76\",\"subtype\":\"Figure\",\"type\":\"Plot\"},{\"attributes\":{\"active_drag\":\"auto\",\"active_inspect\":\"auto\",\"active_scroll\":\"auto\",\"active_tap\":\"auto\",\"tools\":[{\"id\":\"ec12ddc1-343e-4fce-98e3-cc6b92e0b760\",\"type\":\"PanTool\"},{\"id\":\"c78c7269-82a3-4707-9573-256922ef71f0\",\"type\":\"WheelZoomTool\"},{\"id\":\"e13da5e6-d534-432e-a042-afa964a48a2c\",\"type\":\"BoxZoomTool\"},{\"id\":\"bb6c9166-0512-4a49-b1e8-b3f3139d0a0c\",\"type\":\"SaveTool\"},{\"id\":\"d34341ee-3f2f-4602-b15e-f000053fd4d3\",\"type\":\"ResetTool\"},{\"id\":\"9bd16000-4594-4719-848f-494e7c063396\",\"type\":\"HelpTool\"}]},\"id\":\"83555d52-f614-4b25-9aea-8f04e961e402\",\"type\":\"Toolbar\"},{\"attributes\":{\"fill_color\":{\"value\":\"white\"},\"line_color\":{\"value\":\"#1f77b4\"},\"size\":{\"units\":\"screen\",\"value\":8},\"x\":{\"field\":\"x\"},\"y\":{\"field\":\"y\"}},\"id\":\"b1adb2db-393a-476c-a01a-e16738972e54\",\"type\":\"Circle\"},{\"attributes\":{\"callback\":null,\"column_names\":[\"x\",\"y\"],\"data\":{\"x\":[1,2,3,4,5],\"y\":[6,7,8,7,3]},\"selected\":null,\"selection_policy\":null},\"id\":\"b0942f7f-7447-4541-bf04-469a68b1f66d\",\"type\":\"ColumnDataSource\"},{\"attributes\":{\"fill_alpha\":{\"value\":0.1},\"fill_color\":{\"value\":\"#1f77b4\"},\"line_alpha\":{\"value\":0.1},\"line_color\":{\"value\":\"#1f77b4\"},\"size\":{\"units\":\"screen\",\"value\":8},\"x\":{\"field\":\"x\"},\"y\":{\"field\":\"y\"}},\"id\":\"c526d9c3-d646-4222-bfd7-8c219fdd2e44\",\"type\":\"Circle\"},{\"attributes\":{\"line_color\":\"#1f77b4\",\"line_width\":2,\"x\":{\"field\":\"x\"},\"y\":{\"field\":\"y\"}},\"id\":\"b2030866-9223-4315-9a2a-8c49133317d3\",\"type\":\"Line\"},{\"attributes\":{\"data_source\":{\"id\":\"b60ba6d0-2166-4cbb-99a0-cc07f76b3c3b\",\"type\":\"ColumnDataSource\"},\"glyph\":{\"id\":\"b1adb2db-393a-476c-a01a-e16738972e54\",\"type\":\"Circle\"},\"hover_glyph\":null,\"muted_glyph\":null,\"nonselection_glyph\":{\"id\":\"c526d9c3-d646-4222-bfd7-8c219fdd2e44\",\"type\":\"Circle\"},\"selection_glyph\":null,\"view\":{\"id\":\"b34c34cf-af52-4d1e-b45f-17db2ba53c86\",\"type\":\"CDSView\"}},\"id\":\"dc8e6d8d-3ff1-4946-b254-391686cbca97\",\"type\":\"GlyphRenderer\"}],\"root_ids\":[\"bc18e75e-7dfe-4466-8502-dfa0a9c6de76\"]},\"title\":\"Bokeh Application\",\"version\":\"0.12.15\"}};\n",
       "  var render_items = [{\"docid\":\"d69ef417-1506-46be-bd1a-36c6002a032a\",\"elementid\":\"e5fe6533-8c03-4830-934e-4c32f22ab0fe\",\"modelid\":\"bc18e75e-7dfe-4466-8502-dfa0a9c6de76\"}];\n",
       "  root.Bokeh.embed.embed_items_notebook(docs_json, render_items);\n",
       "\n",
       "  }\n",
       "  if (root.Bokeh !== undefined) {\n",
       "    embed_document(root);\n",
       "  } else {\n",
       "    var attempts = 0;\n",
       "    var timer = setInterval(function(root) {\n",
       "      if (root.Bokeh !== undefined) {\n",
       "        embed_document(root);\n",
       "        clearInterval(timer);\n",
       "      }\n",
       "      attempts++;\n",
       "      if (attempts > 100) {\n",
       "        console.log(\"Bokeh: ERROR: Unable to run BokehJS code because BokehJS library is missing\")\n",
       "        clearInterval(timer);\n",
       "      }\n",
       "    }, 10, root)\n",
       "  }\n",
       "})(window);"
      ],
      "application/vnd.bokehjs_exec.v0+json": ""
     },
     "metadata": {
      "application/vnd.bokehjs_exec.v0+json": {
       "id": "bc18e75e-7dfe-4466-8502-dfa0a9c6de76"
      }
     },
     "output_type": "display_data"
    }
   ],
   "source": [
    "x = [1, 2, 3, 4, 5]\n",
    "y = [6, 7, 8, 7, 3]\n",
    "\n",
    "p = figure(plot_width = 400, plot_height = 400)\n",
    "p.line(x, y, line_width = 2)\n",
    "p.circle(x, y, fill_color = 'white', size = 8)\n",
    "#output_file(\"ejemplo.html\")\n",
    "show(p)"
   ]
  },
  {
   "cell_type": "markdown",
   "metadata": {},
   "source": [
    "### Generar column data source manualmente"
   ]
  },
  {
   "cell_type": "code",
   "execution_count": 37,
   "metadata": {},
   "outputs": [
    {
     "data": {
      "text/html": [
       "\n",
       "<div class=\"bk-root\">\n",
       "    <div class=\"bk-plotdiv\" id=\"32e0a5b6-ba66-47fa-ba4a-b627e6834d34\"></div>\n",
       "</div>"
      ]
     },
     "metadata": {},
     "output_type": "display_data"
    },
    {
     "data": {
      "application/javascript": [
       "(function(root) {\n",
       "  function embed_document(root) {\n",
       "    \n",
       "  var docs_json = {\"68b65d1b-fdd6-422b-bb27-64aa005d3d49\":{\"roots\":{\"references\":[{\"attributes\":{},\"id\":\"ebe70827-daed-4141-abd7-f42a76c2856d\",\"type\":\"PanTool\"},{\"attributes\":{},\"id\":\"30507c89-7951-4f6c-80ea-51603f944e0c\",\"type\":\"HelpTool\"},{\"attributes\":{\"callback\":null},\"id\":\"2cab60c7-3df5-4af1-97cc-11d1440efeb1\",\"type\":\"DataRange1d\"},{\"attributes\":{},\"id\":\"9c871717-16db-45be-bf9f-3f51c5f92f61\",\"type\":\"BasicTicker\"},{\"attributes\":{\"callback\":null},\"id\":\"979527a7-7504-4fe6-a24c-f1f043012625\",\"type\":\"DataRange1d\"},{\"attributes\":{},\"id\":\"4b15d25a-4ee8-4486-9831-279361fb866c\",\"type\":\"LinearScale\"},{\"attributes\":{},\"id\":\"9fc2a195-cf8c-4c18-a68d-a5ebbb0ea765\",\"type\":\"LinearScale\"},{\"attributes\":{},\"id\":\"66da5727-56c5-4d9b-a0cb-8b88aaf7b0a0\",\"type\":\"BasicTicker\"},{\"attributes\":{\"overlay\":{\"id\":\"0964dc79-2d67-4301-9763-1de4764148cb\",\"type\":\"BoxAnnotation\"}},\"id\":\"0c0091c4-eb79-4cc6-8ab5-cab834cb264c\",\"type\":\"BoxZoomTool\"},{\"attributes\":{\"fill_alpha\":{\"value\":0.1},\"fill_color\":{\"value\":\"#1f77b4\"},\"line_alpha\":{\"value\":0.1},\"line_color\":{\"value\":\"#1f77b4\"},\"size\":{\"field\":\"size\",\"units\":\"screen\"},\"x\":{\"field\":\"x\"},\"y\":{\"field\":\"y\"}},\"id\":\"7b8b63aa-b751-4f0c-9300-84c81da64f7c\",\"type\":\"Circle\"},{\"attributes\":{\"active_drag\":\"auto\",\"active_inspect\":\"auto\",\"active_scroll\":\"auto\",\"active_tap\":\"auto\",\"tools\":[{\"id\":\"ebe70827-daed-4141-abd7-f42a76c2856d\",\"type\":\"PanTool\"},{\"id\":\"1f02c6d7-64c8-4fa2-9a21-6ed07350a37e\",\"type\":\"WheelZoomTool\"},{\"id\":\"0c0091c4-eb79-4cc6-8ab5-cab834cb264c\",\"type\":\"BoxZoomTool\"},{\"id\":\"e59b2a9d-5d71-422d-91d3-98498340dc33\",\"type\":\"SaveTool\"},{\"id\":\"34bc67a3-97c4-4037-98ca-892a7eafb75c\",\"type\":\"ResetTool\"},{\"id\":\"30507c89-7951-4f6c-80ea-51603f944e0c\",\"type\":\"HelpTool\"}]},\"id\":\"ef8dc507-308b-40d6-8cf2-1b8a9692c42a\",\"type\":\"Toolbar\"},{\"attributes\":{},\"id\":\"e59b2a9d-5d71-422d-91d3-98498340dc33\",\"type\":\"SaveTool\"},{\"attributes\":{\"plot\":null,\"text\":\"\"},\"id\":\"8595106a-7e79-4d5e-ad3c-cd1ecf51559c\",\"type\":\"Title\"},{\"attributes\":{\"callback\":null,\"column_names\":[\"size\",\"x\",\"y\",\"fill_alpha\"],\"data\":{\"fill_alpha\":[0.5,0.2,0.2,1,1],\"size\":[10,15,20,25,30],\"x\":[1,2,3,4,5],\"y\":[6,7,2,4,5]},\"selected\":null,\"selection_policy\":null},\"id\":\"f240b18b-9dc6-4639-ae9d-e031947335cf\",\"type\":\"ColumnDataSource\"},{\"attributes\":{\"data_source\":{\"id\":\"f240b18b-9dc6-4639-ae9d-e031947335cf\",\"type\":\"ColumnDataSource\"},\"glyph\":{\"id\":\"95e7e6a6-1e75-4dd6-8eaf-07ecc1b2ab1f\",\"type\":\"Circle\"},\"hover_glyph\":null,\"muted_glyph\":null,\"nonselection_glyph\":{\"id\":\"7b8b63aa-b751-4f0c-9300-84c81da64f7c\",\"type\":\"Circle\"},\"selection_glyph\":null,\"view\":{\"id\":\"16b0a483-e13a-46b2-a902-34c764fb7c6b\",\"type\":\"CDSView\"}},\"id\":\"1abe84cf-2c43-4884-a262-21a778b9ee81\",\"type\":\"GlyphRenderer\"},{\"attributes\":{\"formatter\":{\"id\":\"9d1b06af-6bcc-4299-ac88-8bf95a4b17f8\",\"type\":\"BasicTickFormatter\"},\"plot\":{\"id\":\"a5c1851f-3a96-4ae1-8eba-a0a53ab74869\",\"subtype\":\"Figure\",\"type\":\"Plot\"},\"ticker\":{\"id\":\"9c871717-16db-45be-bf9f-3f51c5f92f61\",\"type\":\"BasicTicker\"}},\"id\":\"2a30b1b1-6c87-4931-9b9b-10cd1db92b7c\",\"type\":\"LinearAxis\"},{\"attributes\":{\"source\":{\"id\":\"f240b18b-9dc6-4639-ae9d-e031947335cf\",\"type\":\"ColumnDataSource\"}},\"id\":\"16b0a483-e13a-46b2-a902-34c764fb7c6b\",\"type\":\"CDSView\"},{\"attributes\":{\"formatter\":{\"id\":\"4f779a8f-5ec8-411a-8348-bab8a2d90cbd\",\"type\":\"BasicTickFormatter\"},\"plot\":{\"id\":\"a5c1851f-3a96-4ae1-8eba-a0a53ab74869\",\"subtype\":\"Figure\",\"type\":\"Plot\"},\"ticker\":{\"id\":\"66da5727-56c5-4d9b-a0cb-8b88aaf7b0a0\",\"type\":\"BasicTicker\"}},\"id\":\"e3b0b4d4-565f-4317-8a14-d9c3db1d1d50\",\"type\":\"LinearAxis\"},{\"attributes\":{\"dimension\":1,\"plot\":{\"id\":\"a5c1851f-3a96-4ae1-8eba-a0a53ab74869\",\"subtype\":\"Figure\",\"type\":\"Plot\"},\"ticker\":{\"id\":\"66da5727-56c5-4d9b-a0cb-8b88aaf7b0a0\",\"type\":\"BasicTicker\"}},\"id\":\"3a9537ba-646d-414c-aa76-93a4eb64af88\",\"type\":\"Grid\"},{\"attributes\":{\"plot\":{\"id\":\"a5c1851f-3a96-4ae1-8eba-a0a53ab74869\",\"subtype\":\"Figure\",\"type\":\"Plot\"},\"ticker\":{\"id\":\"9c871717-16db-45be-bf9f-3f51c5f92f61\",\"type\":\"BasicTicker\"}},\"id\":\"c676d4c0-db2e-4d6d-a49c-2c7720a529a0\",\"type\":\"Grid\"},{\"attributes\":{\"bottom_units\":\"screen\",\"fill_alpha\":{\"value\":0.5},\"fill_color\":{\"value\":\"lightgrey\"},\"left_units\":\"screen\",\"level\":\"overlay\",\"line_alpha\":{\"value\":1.0},\"line_color\":{\"value\":\"black\"},\"line_dash\":[4,4],\"line_width\":{\"value\":2},\"plot\":null,\"render_mode\":\"css\",\"right_units\":\"screen\",\"top_units\":\"screen\"},\"id\":\"0964dc79-2d67-4301-9763-1de4764148cb\",\"type\":\"BoxAnnotation\"},{\"attributes\":{},\"id\":\"1f02c6d7-64c8-4fa2-9a21-6ed07350a37e\",\"type\":\"WheelZoomTool\"},{\"attributes\":{},\"id\":\"34bc67a3-97c4-4037-98ca-892a7eafb75c\",\"type\":\"ResetTool\"},{\"attributes\":{\"fill_alpha\":{\"field\":\"fill_alpha\"},\"fill_color\":{\"value\":\"orange\"},\"line_color\":{\"value\":\"navy\"},\"size\":{\"field\":\"size\",\"units\":\"screen\"},\"x\":{\"field\":\"x\"},\"y\":{\"field\":\"y\"}},\"id\":\"95e7e6a6-1e75-4dd6-8eaf-07ecc1b2ab1f\",\"type\":\"Circle\"},{\"attributes\":{\"below\":[{\"id\":\"2a30b1b1-6c87-4931-9b9b-10cd1db92b7c\",\"type\":\"LinearAxis\"}],\"left\":[{\"id\":\"e3b0b4d4-565f-4317-8a14-d9c3db1d1d50\",\"type\":\"LinearAxis\"}],\"plot_height\":400,\"plot_width\":400,\"renderers\":[{\"id\":\"2a30b1b1-6c87-4931-9b9b-10cd1db92b7c\",\"type\":\"LinearAxis\"},{\"id\":\"c676d4c0-db2e-4d6d-a49c-2c7720a529a0\",\"type\":\"Grid\"},{\"id\":\"e3b0b4d4-565f-4317-8a14-d9c3db1d1d50\",\"type\":\"LinearAxis\"},{\"id\":\"3a9537ba-646d-414c-aa76-93a4eb64af88\",\"type\":\"Grid\"},{\"id\":\"0964dc79-2d67-4301-9763-1de4764148cb\",\"type\":\"BoxAnnotation\"},{\"id\":\"1abe84cf-2c43-4884-a262-21a778b9ee81\",\"type\":\"GlyphRenderer\"}],\"title\":{\"id\":\"8595106a-7e79-4d5e-ad3c-cd1ecf51559c\",\"type\":\"Title\"},\"toolbar\":{\"id\":\"ef8dc507-308b-40d6-8cf2-1b8a9692c42a\",\"type\":\"Toolbar\"},\"x_range\":{\"id\":\"2cab60c7-3df5-4af1-97cc-11d1440efeb1\",\"type\":\"DataRange1d\"},\"x_scale\":{\"id\":\"9fc2a195-cf8c-4c18-a68d-a5ebbb0ea765\",\"type\":\"LinearScale\"},\"y_range\":{\"id\":\"979527a7-7504-4fe6-a24c-f1f043012625\",\"type\":\"DataRange1d\"},\"y_scale\":{\"id\":\"4b15d25a-4ee8-4486-9831-279361fb866c\",\"type\":\"LinearScale\"}},\"id\":\"a5c1851f-3a96-4ae1-8eba-a0a53ab74869\",\"subtype\":\"Figure\",\"type\":\"Plot\"},{\"attributes\":{},\"id\":\"9d1b06af-6bcc-4299-ac88-8bf95a4b17f8\",\"type\":\"BasicTickFormatter\"},{\"attributes\":{},\"id\":\"4f779a8f-5ec8-411a-8348-bab8a2d90cbd\",\"type\":\"BasicTickFormatter\"}],\"root_ids\":[\"a5c1851f-3a96-4ae1-8eba-a0a53ab74869\"]},\"title\":\"Bokeh Application\",\"version\":\"0.12.15\"}};\n",
       "  var render_items = [{\"docid\":\"68b65d1b-fdd6-422b-bb27-64aa005d3d49\",\"elementid\":\"32e0a5b6-ba66-47fa-ba4a-b627e6834d34\",\"modelid\":\"a5c1851f-3a96-4ae1-8eba-a0a53ab74869\"}];\n",
       "  root.Bokeh.embed.embed_items_notebook(docs_json, render_items);\n",
       "\n",
       "  }\n",
       "  if (root.Bokeh !== undefined) {\n",
       "    embed_document(root);\n",
       "  } else {\n",
       "    var attempts = 0;\n",
       "    var timer = setInterval(function(root) {\n",
       "      if (root.Bokeh !== undefined) {\n",
       "        embed_document(root);\n",
       "        clearInterval(timer);\n",
       "      }\n",
       "      attempts++;\n",
       "      if (attempts > 100) {\n",
       "        console.log(\"Bokeh: ERROR: Unable to run BokehJS code because BokehJS library is missing\")\n",
       "        clearInterval(timer);\n",
       "      }\n",
       "    }, 10, root)\n",
       "  }\n",
       "})(window);"
      ],
      "application/vnd.bokehjs_exec.v0+json": ""
     },
     "metadata": {
      "application/vnd.bokehjs_exec.v0+json": {
       "id": "a5c1851f-3a96-4ae1-8eba-a0a53ab74869"
      }
     },
     "output_type": "display_data"
    }
   ],
   "source": [
    "# Create a plot\n",
    "p = figure(plot_width = 400, plot_height = 400)\n",
    "\n",
    "# Display a scater plot (several points)\n",
    "p.circle([1, 2, 3, 4, 5], [6, 7, 2, 4, 5], size = [10, 15, 20, 25, 30], line_color = \"navy\", \n",
    "         fill_color = \"orange\", fill_alpha = [0.5, 0.2, 0.2, 1, 1])\n",
    "\n",
    "# Display plot\n",
    "show(p)"
   ]
  },
  {
   "cell_type": "code",
   "execution_count": 38,
   "metadata": {},
   "outputs": [],
   "source": [
    "from bokeh.plotting import ColumnDataSource\n",
    "datos = {\n",
    "    'edad':[1, 2, 3, 4, 5],\n",
    "    'altura':[6, 7, 2, 4, 5]\n",
    "}\n",
    "source1 = ColumnDataSource(data = datos)"
   ]
  },
  {
   "cell_type": "code",
   "execution_count": 39,
   "metadata": {},
   "outputs": [
    {
     "data": {
      "text/html": [
       "\n",
       "<div class=\"bk-root\">\n",
       "    <div class=\"bk-plotdiv\" id=\"5d3dbe9e-ed4b-45f7-a109-2dcfb654d6b5\"></div>\n",
       "</div>"
      ]
     },
     "metadata": {},
     "output_type": "display_data"
    },
    {
     "data": {
      "application/javascript": [
       "(function(root) {\n",
       "  function embed_document(root) {\n",
       "    \n",
       "  var docs_json = {\"23e93b65-6a71-4fdd-aacb-0c2d6ba44648\":{\"roots\":{\"references\":[{\"attributes\":{\"plot\":null,\"text\":\"\"},\"id\":\"4ee153ff-3367-4d7c-9c45-bdb0171ff746\",\"type\":\"Title\"},{\"attributes\":{},\"id\":\"fb758f9e-90ec-4772-8638-dbfdabb54613\",\"type\":\"BasicTickFormatter\"},{\"attributes\":{},\"id\":\"078291a4-b6ba-43d8-b6f3-a93e4629fdd5\",\"type\":\"BasicTickFormatter\"},{\"attributes\":{\"bottom_units\":\"screen\",\"fill_alpha\":{\"value\":0.5},\"fill_color\":{\"value\":\"lightgrey\"},\"left_units\":\"screen\",\"level\":\"overlay\",\"line_alpha\":{\"value\":1.0},\"line_color\":{\"value\":\"black\"},\"line_dash\":[4,4],\"line_width\":{\"value\":2},\"plot\":null,\"render_mode\":\"css\",\"right_units\":\"screen\",\"top_units\":\"screen\"},\"id\":\"604caa51-d7e7-4a74-ae1c-430618e6bd2f\",\"type\":\"BoxAnnotation\"},{\"attributes\":{\"active_drag\":\"auto\",\"active_inspect\":\"auto\",\"active_scroll\":\"auto\",\"active_tap\":\"auto\",\"tools\":[{\"id\":\"8e2f7adc-4bf8-4411-8b2e-cf7bd4874588\",\"type\":\"PanTool\"},{\"id\":\"7daa5062-eaee-4623-a215-f593ce45a73e\",\"type\":\"WheelZoomTool\"},{\"id\":\"287c0cf1-0306-4722-b9d8-ef7a8d8d4df1\",\"type\":\"BoxZoomTool\"},{\"id\":\"8a41df70-dda7-4704-b404-889077211ff8\",\"type\":\"SaveTool\"},{\"id\":\"c019de5d-d1ea-4edd-af52-7d819104dfc9\",\"type\":\"ResetTool\"},{\"id\":\"86c4359f-7753-4499-935e-c0ca5a2250f0\",\"type\":\"HelpTool\"}]},\"id\":\"cbb8045a-03de-4c78-b400-161743225321\",\"type\":\"Toolbar\"},{\"attributes\":{},\"id\":\"8e2f7adc-4bf8-4411-8b2e-cf7bd4874588\",\"type\":\"PanTool\"},{\"attributes\":{\"fill_alpha\":{\"value\":0.5},\"fill_color\":{\"value\":\"orange\"},\"line_color\":{\"value\":\"navy\"},\"size\":{\"units\":\"screen\",\"value\":15},\"x\":{\"field\":\"edad\"},\"y\":{\"field\":\"altura\"}},\"id\":\"0e94d4ed-519f-4f17-86b0-fc98c56808fd\",\"type\":\"Circle\"},{\"attributes\":{},\"id\":\"86ffc799-49bf-4448-8b8d-b6337dfe6764\",\"type\":\"LinearScale\"},{\"attributes\":{},\"id\":\"7daa5062-eaee-4623-a215-f593ce45a73e\",\"type\":\"WheelZoomTool\"},{\"attributes\":{\"callback\":null},\"id\":\"29f0c072-3a8b-4baf-bccc-8f9357cb55f5\",\"type\":\"DataRange1d\"},{\"attributes\":{\"overlay\":{\"id\":\"604caa51-d7e7-4a74-ae1c-430618e6bd2f\",\"type\":\"BoxAnnotation\"}},\"id\":\"287c0cf1-0306-4722-b9d8-ef7a8d8d4df1\",\"type\":\"BoxZoomTool\"},{\"attributes\":{\"plot\":{\"id\":\"92bb759d-a62a-4e64-be57-1f4a1652dc34\",\"subtype\":\"Figure\",\"type\":\"Plot\"},\"ticker\":{\"id\":\"928a380a-1fc2-45e0-8d37-0d0ed23c3381\",\"type\":\"BasicTicker\"}},\"id\":\"0239b1e9-f025-41fe-8c3b-862a54a1c556\",\"type\":\"Grid\"},{\"attributes\":{},\"id\":\"8a41df70-dda7-4704-b404-889077211ff8\",\"type\":\"SaveTool\"},{\"attributes\":{},\"id\":\"2130ab36-e37d-40f0-9ef4-7e16ebddabbd\",\"type\":\"LinearScale\"},{\"attributes\":{},\"id\":\"c019de5d-d1ea-4edd-af52-7d819104dfc9\",\"type\":\"ResetTool\"},{\"attributes\":{\"data_source\":{\"id\":\"7e7fd5be-7870-482a-820f-401a7c1887ab\",\"type\":\"ColumnDataSource\"},\"glyph\":{\"id\":\"0e94d4ed-519f-4f17-86b0-fc98c56808fd\",\"type\":\"Circle\"},\"hover_glyph\":null,\"muted_glyph\":null,\"nonselection_glyph\":{\"id\":\"1f91cff3-7837-4c31-90de-d6d94f279e6d\",\"type\":\"Circle\"},\"selection_glyph\":null,\"view\":{\"id\":\"9b27c5fb-c1ed-4da0-94e0-8bb046f36042\",\"type\":\"CDSView\"}},\"id\":\"4a37d127-93fb-4b9e-82d0-8641cdd04bba\",\"type\":\"GlyphRenderer\"},{\"attributes\":{\"dimension\":1,\"plot\":{\"id\":\"92bb759d-a62a-4e64-be57-1f4a1652dc34\",\"subtype\":\"Figure\",\"type\":\"Plot\"},\"ticker\":{\"id\":\"692e2122-f5c5-491d-88ac-13d699af3a83\",\"type\":\"BasicTicker\"}},\"id\":\"61f79a8b-be55-4fe4-9f46-47a0e3f5468b\",\"type\":\"Grid\"},{\"attributes\":{},\"id\":\"86c4359f-7753-4499-935e-c0ca5a2250f0\",\"type\":\"HelpTool\"},{\"attributes\":{\"formatter\":{\"id\":\"fb758f9e-90ec-4772-8638-dbfdabb54613\",\"type\":\"BasicTickFormatter\"},\"plot\":{\"id\":\"92bb759d-a62a-4e64-be57-1f4a1652dc34\",\"subtype\":\"Figure\",\"type\":\"Plot\"},\"ticker\":{\"id\":\"692e2122-f5c5-491d-88ac-13d699af3a83\",\"type\":\"BasicTicker\"}},\"id\":\"e0412af9-3252-48fc-8fd3-392c31723dad\",\"type\":\"LinearAxis\"},{\"attributes\":{},\"id\":\"928a380a-1fc2-45e0-8d37-0d0ed23c3381\",\"type\":\"BasicTicker\"},{\"attributes\":{\"formatter\":{\"id\":\"078291a4-b6ba-43d8-b6f3-a93e4629fdd5\",\"type\":\"BasicTickFormatter\"},\"plot\":{\"id\":\"92bb759d-a62a-4e64-be57-1f4a1652dc34\",\"subtype\":\"Figure\",\"type\":\"Plot\"},\"ticker\":{\"id\":\"928a380a-1fc2-45e0-8d37-0d0ed23c3381\",\"type\":\"BasicTicker\"}},\"id\":\"4daa60ea-2f6c-4f49-8dfb-dfa89ddc0ff4\",\"type\":\"LinearAxis\"},{\"attributes\":{\"source\":{\"id\":\"7e7fd5be-7870-482a-820f-401a7c1887ab\",\"type\":\"ColumnDataSource\"}},\"id\":\"9b27c5fb-c1ed-4da0-94e0-8bb046f36042\",\"type\":\"CDSView\"},{\"attributes\":{\"callback\":null},\"id\":\"d3dddd57-183a-4057-8931-380be90059b2\",\"type\":\"DataRange1d\"},{\"attributes\":{\"below\":[{\"id\":\"4daa60ea-2f6c-4f49-8dfb-dfa89ddc0ff4\",\"type\":\"LinearAxis\"}],\"left\":[{\"id\":\"e0412af9-3252-48fc-8fd3-392c31723dad\",\"type\":\"LinearAxis\"}],\"plot_height\":400,\"plot_width\":400,\"renderers\":[{\"id\":\"4daa60ea-2f6c-4f49-8dfb-dfa89ddc0ff4\",\"type\":\"LinearAxis\"},{\"id\":\"0239b1e9-f025-41fe-8c3b-862a54a1c556\",\"type\":\"Grid\"},{\"id\":\"e0412af9-3252-48fc-8fd3-392c31723dad\",\"type\":\"LinearAxis\"},{\"id\":\"61f79a8b-be55-4fe4-9f46-47a0e3f5468b\",\"type\":\"Grid\"},{\"id\":\"604caa51-d7e7-4a74-ae1c-430618e6bd2f\",\"type\":\"BoxAnnotation\"},{\"id\":\"4a37d127-93fb-4b9e-82d0-8641cdd04bba\",\"type\":\"GlyphRenderer\"}],\"title\":{\"id\":\"4ee153ff-3367-4d7c-9c45-bdb0171ff746\",\"type\":\"Title\"},\"toolbar\":{\"id\":\"cbb8045a-03de-4c78-b400-161743225321\",\"type\":\"Toolbar\"},\"x_range\":{\"id\":\"d3dddd57-183a-4057-8931-380be90059b2\",\"type\":\"DataRange1d\"},\"x_scale\":{\"id\":\"86ffc799-49bf-4448-8b8d-b6337dfe6764\",\"type\":\"LinearScale\"},\"y_range\":{\"id\":\"29f0c072-3a8b-4baf-bccc-8f9357cb55f5\",\"type\":\"DataRange1d\"},\"y_scale\":{\"id\":\"2130ab36-e37d-40f0-9ef4-7e16ebddabbd\",\"type\":\"LinearScale\"}},\"id\":\"92bb759d-a62a-4e64-be57-1f4a1652dc34\",\"subtype\":\"Figure\",\"type\":\"Plot\"},{\"attributes\":{\"callback\":null,\"column_names\":[\"edad\",\"altura\"],\"data\":{\"altura\":[6,7,2,4,5],\"edad\":[1,2,3,4,5]},\"selected\":null,\"selection_policy\":null},\"id\":\"7e7fd5be-7870-482a-820f-401a7c1887ab\",\"type\":\"ColumnDataSource\"},{\"attributes\":{},\"id\":\"692e2122-f5c5-491d-88ac-13d699af3a83\",\"type\":\"BasicTicker\"},{\"attributes\":{\"fill_alpha\":{\"value\":0.1},\"fill_color\":{\"value\":\"#1f77b4\"},\"line_alpha\":{\"value\":0.1},\"line_color\":{\"value\":\"#1f77b4\"},\"size\":{\"units\":\"screen\",\"value\":15},\"x\":{\"field\":\"edad\"},\"y\":{\"field\":\"altura\"}},\"id\":\"1f91cff3-7837-4c31-90de-d6d94f279e6d\",\"type\":\"Circle\"}],\"root_ids\":[\"92bb759d-a62a-4e64-be57-1f4a1652dc34\"]},\"title\":\"Bokeh Application\",\"version\":\"0.12.15\"}};\n",
       "  var render_items = [{\"docid\":\"23e93b65-6a71-4fdd-aacb-0c2d6ba44648\",\"elementid\":\"5d3dbe9e-ed4b-45f7-a109-2dcfb654d6b5\",\"modelid\":\"92bb759d-a62a-4e64-be57-1f4a1652dc34\"}];\n",
       "  root.Bokeh.embed.embed_items_notebook(docs_json, render_items);\n",
       "\n",
       "  }\n",
       "  if (root.Bokeh !== undefined) {\n",
       "    embed_document(root);\n",
       "  } else {\n",
       "    var attempts = 0;\n",
       "    var timer = setInterval(function(root) {\n",
       "      if (root.Bokeh !== undefined) {\n",
       "        embed_document(root);\n",
       "        clearInterval(timer);\n",
       "      }\n",
       "      attempts++;\n",
       "      if (attempts > 100) {\n",
       "        console.log(\"Bokeh: ERROR: Unable to run BokehJS code because BokehJS library is missing\")\n",
       "        clearInterval(timer);\n",
       "      }\n",
       "    }, 10, root)\n",
       "  }\n",
       "})(window);"
      ],
      "application/vnd.bokehjs_exec.v0+json": ""
     },
     "metadata": {
      "application/vnd.bokehjs_exec.v0+json": {
       "id": "92bb759d-a62a-4e64-be57-1f4a1652dc34"
      }
     },
     "output_type": "display_data"
    }
   ],
   "source": [
    "p = figure(plot_width = 400, plot_height = 400)\n",
    "p.circle('edad', 'altura', size = 15, line_color = \"navy\", fill_color = \"orange\", fill_alpha = 0.5, source = source1)\n",
    "show(p)"
   ]
  },
  {
   "cell_type": "markdown",
   "metadata": {},
   "source": [
    "### Ejemplo de flores"
   ]
  },
  {
   "cell_type": "code",
   "execution_count": 40,
   "metadata": {},
   "outputs": [
    {
     "data": {
      "text/html": [
       "<div>\n",
       "<style scoped>\n",
       "    .dataframe tbody tr th:only-of-type {\n",
       "        vertical-align: middle;\n",
       "    }\n",
       "\n",
       "    .dataframe tbody tr th {\n",
       "        vertical-align: top;\n",
       "    }\n",
       "\n",
       "    .dataframe thead th {\n",
       "        text-align: right;\n",
       "    }\n",
       "</style>\n",
       "<table border=\"1\" class=\"dataframe\">\n",
       "  <thead>\n",
       "    <tr style=\"text-align: right;\">\n",
       "      <th></th>\n",
       "      <th>sepal_length</th>\n",
       "      <th>sepal_width</th>\n",
       "      <th>petal_length</th>\n",
       "      <th>petal_width</th>\n",
       "      <th>species</th>\n",
       "    </tr>\n",
       "  </thead>\n",
       "  <tbody>\n",
       "    <tr>\n",
       "      <th>0</th>\n",
       "      <td>5.1</td>\n",
       "      <td>3.5</td>\n",
       "      <td>1.4</td>\n",
       "      <td>0.2</td>\n",
       "      <td>setosa</td>\n",
       "    </tr>\n",
       "    <tr>\n",
       "      <th>1</th>\n",
       "      <td>4.9</td>\n",
       "      <td>3.0</td>\n",
       "      <td>1.4</td>\n",
       "      <td>0.2</td>\n",
       "      <td>setosa</td>\n",
       "    </tr>\n",
       "    <tr>\n",
       "      <th>2</th>\n",
       "      <td>4.7</td>\n",
       "      <td>3.2</td>\n",
       "      <td>1.3</td>\n",
       "      <td>0.2</td>\n",
       "      <td>setosa</td>\n",
       "    </tr>\n",
       "    <tr>\n",
       "      <th>3</th>\n",
       "      <td>4.6</td>\n",
       "      <td>3.1</td>\n",
       "      <td>1.5</td>\n",
       "      <td>0.2</td>\n",
       "      <td>setosa</td>\n",
       "    </tr>\n",
       "    <tr>\n",
       "      <th>4</th>\n",
       "      <td>5.0</td>\n",
       "      <td>3.6</td>\n",
       "      <td>1.4</td>\n",
       "      <td>0.2</td>\n",
       "      <td>setosa</td>\n",
       "    </tr>\n",
       "  </tbody>\n",
       "</table>\n",
       "</div>"
      ],
      "text/plain": [
       "   sepal_length  sepal_width  petal_length  petal_width species\n",
       "0           5.1          3.5           1.4          0.2  setosa\n",
       "1           4.9          3.0           1.4          0.2  setosa\n",
       "2           4.7          3.2           1.3          0.2  setosa\n",
       "3           4.6          3.1           1.5          0.2  setosa\n",
       "4           5.0          3.6           1.4          0.2  setosa"
      ]
     },
     "execution_count": 40,
     "metadata": {},
     "output_type": "execute_result"
    }
   ],
   "source": [
    "from bokeh.sampledata.iris import flowers as df\n",
    "df.head()"
   ]
  },
  {
   "cell_type": "code",
   "execution_count": 41,
   "metadata": {},
   "outputs": [],
   "source": [
    "source = ColumnDataSource(df)"
   ]
  },
  {
   "cell_type": "code",
   "execution_count": 42,
   "metadata": {},
   "outputs": [
    {
     "data": {
      "text/html": [
       "\n",
       "<div class=\"bk-root\">\n",
       "    <div class=\"bk-plotdiv\" id=\"76037dd4-7e9f-489b-91c7-38542ab1f353\"></div>\n",
       "</div>"
      ]
     },
     "metadata": {},
     "output_type": "display_data"
    },
    {
     "data": {
      "application/javascript": [
       "(function(root) {\n",
       "  function embed_document(root) {\n",
       "    \n",
       "  var docs_json = {\"cdead3ff-f3a5-420c-bef9-0a88483317a2\":{\"roots\":{\"references\":[{\"attributes\":{\"formatter\":{\"id\":\"37b0fa97-ff06-4362-b867-196b4a9822f5\",\"type\":\"BasicTickFormatter\"},\"plot\":{\"id\":\"4482aab4-a428-4c73-8cbc-85bbfca3c4f0\",\"subtype\":\"Figure\",\"type\":\"Plot\"},\"ticker\":{\"id\":\"cd4e3af8-4cfc-42bb-bb32-1e746b4e9c10\",\"type\":\"BasicTicker\"}},\"id\":\"e1554b7f-b7eb-4ea1-9ee9-4c31ad9a33f9\",\"type\":\"LinearAxis\"},{\"attributes\":{\"dimension\":1,\"plot\":{\"id\":\"4482aab4-a428-4c73-8cbc-85bbfca3c4f0\",\"subtype\":\"Figure\",\"type\":\"Plot\"},\"ticker\":{\"id\":\"883349f8-780f-46e5-adf1-d9e9272374a6\",\"type\":\"BasicTicker\"}},\"id\":\"81b87816-fb44-4b66-9ec2-bca3a8c3debe\",\"type\":\"Grid\"},{\"attributes\":{\"plot\":null,\"text\":\"\"},\"id\":\"b427afec-41da-425f-8870-d216d4692e98\",\"type\":\"Title\"},{\"attributes\":{\"data_source\":{\"id\":\"c867f0b9-5bca-4750-8107-059688fbd7cf\",\"type\":\"ColumnDataSource\"},\"glyph\":{\"id\":\"a23237e4-6da8-40d1-86f2-02911db30d04\",\"type\":\"Circle\"},\"hover_glyph\":null,\"muted_glyph\":null,\"nonselection_glyph\":{\"id\":\"720a55e2-98dd-4d7e-8440-4fcd34791b7d\",\"type\":\"Circle\"},\"selection_glyph\":null,\"view\":{\"id\":\"7c95a44b-1cac-4f73-b2b1-46985027db45\",\"type\":\"CDSView\"}},\"id\":\"b1557100-056f-4bfc-be81-3bd7204da721\",\"type\":\"GlyphRenderer\"},{\"attributes\":{},\"id\":\"ca8d1854-5ff1-4f74-a077-cac99f8e79ec\",\"type\":\"LinearScale\"},{\"attributes\":{\"callback\":null},\"id\":\"07ea7e27-1f85-4743-ac1a-befb8bc556c7\",\"type\":\"DataRange1d\"},{\"attributes\":{},\"id\":\"883349f8-780f-46e5-adf1-d9e9272374a6\",\"type\":\"BasicTicker\"},{\"attributes\":{\"fill_color\":{\"value\":\"#1f77b4\"},\"line_color\":{\"value\":\"#1f77b4\"},\"x\":{\"field\":\"petal_length\"},\"y\":{\"field\":\"petal_width\"}},\"id\":\"a23237e4-6da8-40d1-86f2-02911db30d04\",\"type\":\"Circle\"},{\"attributes\":{\"plot\":{\"id\":\"4482aab4-a428-4c73-8cbc-85bbfca3c4f0\",\"subtype\":\"Figure\",\"type\":\"Plot\"},\"ticker\":{\"id\":\"cd4e3af8-4cfc-42bb-bb32-1e746b4e9c10\",\"type\":\"BasicTicker\"}},\"id\":\"31b2719c-2cda-41a5-8d28-0ce66229d2b2\",\"type\":\"Grid\"},{\"attributes\":{},\"id\":\"cd4e3af8-4cfc-42bb-bb32-1e746b4e9c10\",\"type\":\"BasicTicker\"},{\"attributes\":{\"source\":{\"id\":\"c867f0b9-5bca-4750-8107-059688fbd7cf\",\"type\":\"ColumnDataSource\"}},\"id\":\"7c95a44b-1cac-4f73-b2b1-46985027db45\",\"type\":\"CDSView\"},{\"attributes\":{},\"id\":\"37b0fa97-ff06-4362-b867-196b4a9822f5\",\"type\":\"BasicTickFormatter\"},{\"attributes\":{\"callback\":null,\"column_names\":[\"sepal_length\",\"sepal_width\",\"petal_length\",\"petal_width\",\"species\",\"index\"],\"data\":{\"index\":[0,1,2,3,4,5,6,7,8,9,10,11,12,13,14,15,16,17,18,19,20,21,22,23,24,25,26,27,28,29,30,31,32,33,34,35,36,37,38,39,40,41,42,43,44,45,46,47,48,49,50,51,52,53,54,55,56,57,58,59,60,61,62,63,64,65,66,67,68,69,70,71,72,73,74,75,76,77,78,79,80,81,82,83,84,85,86,87,88,89,90,91,92,93,94,95,96,97,98,99,100,101,102,103,104,105,106,107,108,109,110,111,112,113,114,115,116,117,118,119,120,121,122,123,124,125,126,127,128,129,130,131,132,133,134,135,136,137,138,139,140,141,142,143,144,145,146,147,148,149],\"petal_length\":{\"__ndarray__\":\"ZmZmZmZm9j9mZmZmZmb2P83MzMzMzPQ/AAAAAAAA+D9mZmZmZmb2PzMzMzMzM/s/ZmZmZmZm9j8AAAAAAAD4P2ZmZmZmZvY/AAAAAAAA+D8AAAAAAAD4P5qZmZmZmfk/ZmZmZmZm9j+amZmZmZnxPzMzMzMzM/M/AAAAAAAA+D/NzMzMzMz0P2ZmZmZmZvY/MzMzMzMz+z8AAAAAAAD4PzMzMzMzM/s/AAAAAAAA+D8AAAAAAADwPzMzMzMzM/s/ZmZmZmZm/j+amZmZmZn5P5qZmZmZmfk/AAAAAAAA+D9mZmZmZmb2P5qZmZmZmfk/mpmZmZmZ+T8AAAAAAAD4PwAAAAAAAPg/ZmZmZmZm9j8AAAAAAAD4PzMzMzMzM/M/zczMzMzM9D9mZmZmZmb2P83MzMzMzPQ/AAAAAAAA+D/NzMzMzMz0P83MzMzMzPQ/zczMzMzM9D+amZmZmZn5P2ZmZmZmZv4/ZmZmZmZm9j+amZmZmZn5P2ZmZmZmZvY/AAAAAAAA+D9mZmZmZmb2P83MzMzMzBJAAAAAAAAAEkCamZmZmZkTQAAAAAAAABBAZmZmZmZmEkAAAAAAAAASQM3MzMzMzBJAZmZmZmZmCkBmZmZmZmYSQDMzMzMzMw9AAAAAAAAADEDNzMzMzMwQQAAAAAAAABBAzczMzMzMEkDNzMzMzMwMQJqZmZmZmRFAAAAAAAAAEkBmZmZmZmYQQAAAAAAAABJAMzMzMzMzD0AzMzMzMzMTQAAAAAAAABBAmpmZmZmZE0DNzMzMzMwSQDMzMzMzMxFAmpmZmZmZEUAzMzMzMzMTQAAAAAAAABRAAAAAAAAAEkAAAAAAAAAMQGZmZmZmZg5AmpmZmZmZDUAzMzMzMzMPQGZmZmZmZhRAAAAAAAAAEkAAAAAAAAASQM3MzMzMzBJAmpmZmZmZEUBmZmZmZmYQQAAAAAAAABBAmpmZmZmZEUBmZmZmZmYSQAAAAAAAABBAZmZmZmZmCkDNzMzMzMwQQM3MzMzMzBBAzczMzMzMEEAzMzMzMzMRQAAAAAAAAAhAZmZmZmZmEEAAAAAAAAAYQGZmZmZmZhRAmpmZmZmZF0BmZmZmZmYWQDMzMzMzMxdAZmZmZmZmGkAAAAAAAAASQDMzMzMzMxlAMzMzMzMzF0BmZmZmZmYYQGZmZmZmZhRAMzMzMzMzFUAAAAAAAAAWQAAAAAAAABRAZmZmZmZmFEAzMzMzMzMVQAAAAAAAABZAzczMzMzMGkCamZmZmZkbQAAAAAAAABRAzczMzMzMFkCamZmZmZkTQM3MzMzMzBpAmpmZmZmZE0DNzMzMzMwWQAAAAAAAABhAMzMzMzMzE0CamZmZmZkTQGZmZmZmZhZAMzMzMzMzF0BmZmZmZmYYQJqZmZmZmRlAZmZmZmZmFkBmZmZmZmYUQGZmZmZmZhZAZmZmZmZmGEBmZmZmZmYWQAAAAAAAABZAMzMzMzMzE0CamZmZmZkVQGZmZmZmZhZAZmZmZmZmFEBmZmZmZmYUQJqZmZmZmRdAzczMzMzMFkDNzMzMzMwUQAAAAAAAABRAzczMzMzMFECamZmZmZkVQGZmZmZmZhRA\",\"dtype\":\"float64\",\"shape\":[150]},\"petal_width\":{\"__ndarray__\":\"mpmZmZmZyT+amZmZmZnJP5qZmZmZmck/mpmZmZmZyT+amZmZmZnJP5qZmZmZmdk/MzMzMzMz0z+amZmZmZnJP5qZmZmZmck/mpmZmZmZuT+amZmZmZnJP5qZmZmZmck/mpmZmZmZuT+amZmZmZm5P5qZmZmZmck/mpmZmZmZ2T+amZmZmZnZPzMzMzMzM9M/MzMzMzMz0z8zMzMzMzPTP5qZmZmZmck/mpmZmZmZ2T+amZmZmZnJPwAAAAAAAOA/mpmZmZmZyT+amZmZmZnJP5qZmZmZmdk/mpmZmZmZyT+amZmZmZnJP5qZmZmZmck/mpmZmZmZyT+amZmZmZnZP5qZmZmZmbk/mpmZmZmZyT+amZmZmZnJP5qZmZmZmck/mpmZmZmZyT+amZmZmZm5P5qZmZmZmck/mpmZmZmZyT8zMzMzMzPTPzMzMzMzM9M/mpmZmZmZyT8zMzMzMzPjP5qZmZmZmdk/MzMzMzMz0z+amZmZmZnJP5qZmZmZmck/mpmZmZmZyT+amZmZmZnJP2ZmZmZmZvY/AAAAAAAA+D8AAAAAAAD4P83MzMzMzPQ/AAAAAAAA+D/NzMzMzMz0P5qZmZmZmfk/AAAAAAAA8D/NzMzMzMz0P2ZmZmZmZvY/AAAAAAAA8D8AAAAAAAD4PwAAAAAAAPA/ZmZmZmZm9j/NzMzMzMz0P2ZmZmZmZvY/AAAAAAAA+D8AAAAAAADwPwAAAAAAAPg/mpmZmZmZ8T/NzMzMzMz8P83MzMzMzPQ/AAAAAAAA+D8zMzMzMzPzP83MzMzMzPQ/ZmZmZmZm9j9mZmZmZmb2PzMzMzMzM/s/AAAAAAAA+D8AAAAAAADwP5qZmZmZmfE/AAAAAAAA8D8zMzMzMzPzP5qZmZmZmfk/AAAAAAAA+D+amZmZmZn5PwAAAAAAAPg/zczMzMzM9D/NzMzMzMz0P83MzMzMzPQ/MzMzMzMz8z9mZmZmZmb2PzMzMzMzM/M/AAAAAAAA8D/NzMzMzMz0PzMzMzMzM/M/zczMzMzM9D/NzMzMzMz0P5qZmZmZmfE/zczMzMzM9D8AAAAAAAAEQGZmZmZmZv4/zczMzMzMAEDNzMzMzMz8P5qZmZmZmQFAzczMzMzMAEAzMzMzMzP7P83MzMzMzPw/zczMzMzM/D8AAAAAAAAEQAAAAAAAAABAZmZmZmZm/j/NzMzMzMwAQAAAAAAAAABAMzMzMzMzA0BmZmZmZmYCQM3MzMzMzPw/mpmZmZmZAUBmZmZmZmYCQAAAAAAAAPg/ZmZmZmZmAkAAAAAAAAAAQAAAAAAAAABAzczMzMzM/D/NzMzMzMwAQM3MzMzMzPw/zczMzMzM/D/NzMzMzMz8P83MzMzMzABAmpmZmZmZ+T9mZmZmZmb+PwAAAAAAAABAmpmZmZmZAUAAAAAAAAD4P2ZmZmZmZvY/ZmZmZmZmAkAzMzMzMzMDQM3MzMzMzPw/zczMzMzM/D/NzMzMzMwAQDMzMzMzMwNAZmZmZmZmAkBmZmZmZmb+P2ZmZmZmZgJAAAAAAAAABEBmZmZmZmYCQGZmZmZmZv4/AAAAAAAAAEBmZmZmZmYCQM3MzMzMzPw/\",\"dtype\":\"float64\",\"shape\":[150]},\"sepal_length\":{\"__ndarray__\":\"ZmZmZmZmFECamZmZmZkTQM3MzMzMzBJAZmZmZmZmEkAAAAAAAAAUQJqZmZmZmRVAZmZmZmZmEkAAAAAAAAAUQJqZmZmZmRFAmpmZmZmZE0CamZmZmZkVQDMzMzMzMxNAMzMzMzMzE0AzMzMzMzMRQDMzMzMzMxdAzczMzMzMFkCamZmZmZkVQGZmZmZmZhRAzczMzMzMFkBmZmZmZmYUQJqZmZmZmRVAZmZmZmZmFEBmZmZmZmYSQGZmZmZmZhRAMzMzMzMzE0AAAAAAAAAUQAAAAAAAABRAzczMzMzMFEDNzMzMzMwUQM3MzMzMzBJAMzMzMzMzE0CamZmZmZkVQM3MzMzMzBRAAAAAAAAAFkCamZmZmZkTQAAAAAAAABRAAAAAAAAAFkCamZmZmZkTQJqZmZmZmRFAZmZmZmZmFEAAAAAAAAAUQAAAAAAAABJAmpmZmZmZEUAAAAAAAAAUQGZmZmZmZhRAMzMzMzMzE0BmZmZmZmYUQGZmZmZmZhJAMzMzMzMzFUAAAAAAAAAUQAAAAAAAABxAmpmZmZmZGUCamZmZmZkbQAAAAAAAABZAAAAAAAAAGkDNzMzMzMwWQDMzMzMzMxlAmpmZmZmZE0BmZmZmZmYaQM3MzMzMzBRAAAAAAAAAFECamZmZmZkXQAAAAAAAABhAZmZmZmZmGEBmZmZmZmYWQM3MzMzMzBpAZmZmZmZmFkAzMzMzMzMXQM3MzMzMzBhAZmZmZmZmFkCamZmZmZkXQGZmZmZmZhhAMzMzMzMzGUBmZmZmZmYYQJqZmZmZmRlAZmZmZmZmGkAzMzMzMzMbQM3MzMzMzBpAAAAAAAAAGEDNzMzMzMwWQAAAAAAAABZAAAAAAAAAFkAzMzMzMzMXQAAAAAAAABhAmpmZmZmZFUAAAAAAAAAYQM3MzMzMzBpAMzMzMzMzGUBmZmZmZmYWQAAAAAAAABZAAAAAAAAAFkBmZmZmZmYYQDMzMzMzMxdAAAAAAAAAFEBmZmZmZmYWQM3MzMzMzBZAzczMzMzMFkDNzMzMzMwYQGZmZmZmZhRAzczMzMzMFkAzMzMzMzMZQDMzMzMzMxdAZmZmZmZmHEAzMzMzMzMZQAAAAAAAABpAZmZmZmZmHkCamZmZmZkTQDMzMzMzMx1AzczMzMzMGkDNzMzMzMwcQAAAAAAAABpAmpmZmZmZGUAzMzMzMzMbQM3MzMzMzBZAMzMzMzMzF0CamZmZmZkZQAAAAAAAABpAzczMzMzMHkDNzMzMzMweQAAAAAAAABhAmpmZmZmZG0BmZmZmZmYWQM3MzMzMzB5AMzMzMzMzGUDNzMzMzMwaQM3MzMzMzBxAzczMzMzMGEBmZmZmZmYYQJqZmZmZmRlAzczMzMzMHECamZmZmZkdQJqZmZmZmR9AmpmZmZmZGUAzMzMzMzMZQGZmZmZmZhhAzczMzMzMHkAzMzMzMzMZQJqZmZmZmRlAAAAAAAAAGECamZmZmZkbQM3MzMzMzBpAmpmZmZmZG0AzMzMzMzMXQDMzMzMzMxtAzczMzMzMGkDNzMzMzMwaQDMzMzMzMxlAAAAAAAAAGkDNzMzMzMwYQJqZmZmZmRdA\",\"dtype\":\"float64\",\"shape\":[150]},\"sepal_width\":{\"__ndarray__\":\"AAAAAAAADEAAAAAAAAAIQJqZmZmZmQlAzczMzMzMCEDNzMzMzMwMQDMzMzMzMw9AMzMzMzMzC0AzMzMzMzMLQDMzMzMzMwdAzczMzMzMCECamZmZmZkNQDMzMzMzMwtAAAAAAAAACEAAAAAAAAAIQAAAAAAAABBAmpmZmZmZEUAzMzMzMzMPQAAAAAAAAAxAZmZmZmZmDkBmZmZmZmYOQDMzMzMzMwtAmpmZmZmZDUDNzMzMzMwMQGZmZmZmZgpAMzMzMzMzC0AAAAAAAAAIQDMzMzMzMwtAAAAAAAAADEAzMzMzMzMLQJqZmZmZmQlAzczMzMzMCEAzMzMzMzMLQGZmZmZmZhBAzczMzMzMEEDNzMzMzMwIQJqZmZmZmQlAAAAAAAAADEDNzMzMzMwMQAAAAAAAAAhAMzMzMzMzC0AAAAAAAAAMQGZmZmZmZgJAmpmZmZmZCUAAAAAAAAAMQGZmZmZmZg5AAAAAAAAACEBmZmZmZmYOQJqZmZmZmQlAmpmZmZmZDUBmZmZmZmYKQJqZmZmZmQlAmpmZmZmZCUDNzMzMzMwIQGZmZmZmZgJAZmZmZmZmBkBmZmZmZmYGQGZmZmZmZgpAMzMzMzMzA0AzMzMzMzMHQJqZmZmZmQVAAAAAAAAAAEAAAAAAAAAIQJqZmZmZmQFAMzMzMzMzB0AzMzMzMzMHQM3MzMzMzAhAAAAAAAAACECamZmZmZkFQJqZmZmZmQFAAAAAAAAABECamZmZmZkJQGZmZmZmZgZAAAAAAAAABEBmZmZmZmYGQDMzMzMzMwdAAAAAAAAACEBmZmZmZmYGQAAAAAAAAAhAMzMzMzMzB0DNzMzMzMwEQDMzMzMzMwNAMzMzMzMzA0CamZmZmZkFQJqZmZmZmQVAAAAAAAAACEAzMzMzMzMLQM3MzMzMzAhAZmZmZmZmAkAAAAAAAAAIQAAAAAAAAARAzczMzMzMBEAAAAAAAAAIQM3MzMzMzARAZmZmZmZmAkCamZmZmZkFQAAAAAAAAAhAMzMzMzMzB0AzMzMzMzMHQAAAAAAAAARAZmZmZmZmBkBmZmZmZmYKQJqZmZmZmQVAAAAAAAAACEAzMzMzMzMHQAAAAAAAAAhAAAAAAAAACEAAAAAAAAAEQDMzMzMzMwdAAAAAAAAABEDNzMzMzMwMQJqZmZmZmQlAmpmZmZmZBUAAAAAAAAAIQAAAAAAAAARAZmZmZmZmBkCamZmZmZkJQAAAAAAAAAhAZmZmZmZmDkDNzMzMzMwEQJqZmZmZmQFAmpmZmZmZCUBmZmZmZmYGQGZmZmZmZgZAmpmZmZmZBUBmZmZmZmYKQJqZmZmZmQlAZmZmZmZmBkAAAAAAAAAIQGZmZmZmZgZAAAAAAAAACEBmZmZmZmYGQGZmZmZmZg5AZmZmZmZmBkBmZmZmZmYGQM3MzMzMzARAAAAAAAAACEAzMzMzMzMLQM3MzMzMzAhAAAAAAAAACEDNzMzMzMwIQM3MzMzMzAhAzczMzMzMCECamZmZmZkFQJqZmZmZmQlAZmZmZmZmCkAAAAAAAAAIQAAAAAAAAARAAAAAAAAACEAzMzMzMzMLQAAAAAAAAAhA\",\"dtype\":\"float64\",\"shape\":[150]},\"species\":[\"setosa\",\"setosa\",\"setosa\",\"setosa\",\"setosa\",\"setosa\",\"setosa\",\"setosa\",\"setosa\",\"setosa\",\"setosa\",\"setosa\",\"setosa\",\"setosa\",\"setosa\",\"setosa\",\"setosa\",\"setosa\",\"setosa\",\"setosa\",\"setosa\",\"setosa\",\"setosa\",\"setosa\",\"setosa\",\"setosa\",\"setosa\",\"setosa\",\"setosa\",\"setosa\",\"setosa\",\"setosa\",\"setosa\",\"setosa\",\"setosa\",\"setosa\",\"setosa\",\"setosa\",\"setosa\",\"setosa\",\"setosa\",\"setosa\",\"setosa\",\"setosa\",\"setosa\",\"setosa\",\"setosa\",\"setosa\",\"setosa\",\"setosa\",\"versicolor\",\"versicolor\",\"versicolor\",\"versicolor\",\"versicolor\",\"versicolor\",\"versicolor\",\"versicolor\",\"versicolor\",\"versicolor\",\"versicolor\",\"versicolor\",\"versicolor\",\"versicolor\",\"versicolor\",\"versicolor\",\"versicolor\",\"versicolor\",\"versicolor\",\"versicolor\",\"versicolor\",\"versicolor\",\"versicolor\",\"versicolor\",\"versicolor\",\"versicolor\",\"versicolor\",\"versicolor\",\"versicolor\",\"versicolor\",\"versicolor\",\"versicolor\",\"versicolor\",\"versicolor\",\"versicolor\",\"versicolor\",\"versicolor\",\"versicolor\",\"versicolor\",\"versicolor\",\"versicolor\",\"versicolor\",\"versicolor\",\"versicolor\",\"versicolor\",\"versicolor\",\"versicolor\",\"versicolor\",\"versicolor\",\"versicolor\",\"virginica\",\"virginica\",\"virginica\",\"virginica\",\"virginica\",\"virginica\",\"virginica\",\"virginica\",\"virginica\",\"virginica\",\"virginica\",\"virginica\",\"virginica\",\"virginica\",\"virginica\",\"virginica\",\"virginica\",\"virginica\",\"virginica\",\"virginica\",\"virginica\",\"virginica\",\"virginica\",\"virginica\",\"virginica\",\"virginica\",\"virginica\",\"virginica\",\"virginica\",\"virginica\",\"virginica\",\"virginica\",\"virginica\",\"virginica\",\"virginica\",\"virginica\",\"virginica\",\"virginica\",\"virginica\",\"virginica\",\"virginica\",\"virginica\",\"virginica\",\"virginica\",\"virginica\",\"virginica\",\"virginica\",\"virginica\",\"virginica\",\"virginica\"]},\"selected\":null,\"selection_policy\":null},\"id\":\"c867f0b9-5bca-4750-8107-059688fbd7cf\",\"type\":\"ColumnDataSource\"},{\"attributes\":{\"bottom_units\":\"screen\",\"fill_alpha\":{\"value\":0.5},\"fill_color\":{\"value\":\"lightgrey\"},\"left_units\":\"screen\",\"level\":\"overlay\",\"line_alpha\":{\"value\":1.0},\"line_color\":{\"value\":\"black\"},\"line_dash\":[4,4],\"line_width\":{\"value\":2},\"plot\":null,\"render_mode\":\"css\",\"right_units\":\"screen\",\"top_units\":\"screen\"},\"id\":\"e2895fbb-7f01-4b49-b819-bd5babf74d4e\",\"type\":\"BoxAnnotation\"},{\"attributes\":{},\"id\":\"fac7f0b7-f81f-469d-a58b-c53193959e63\",\"type\":\"PanTool\"},{\"attributes\":{},\"id\":\"455f5b7c-13d4-41b2-81e6-915bf219442b\",\"type\":\"WheelZoomTool\"},{\"attributes\":{},\"id\":\"b9b35579-aaa9-45da-8ded-cc3675a9af72\",\"type\":\"ResetTool\"},{\"attributes\":{\"below\":[{\"id\":\"e1554b7f-b7eb-4ea1-9ee9-4c31ad9a33f9\",\"type\":\"LinearAxis\"}],\"left\":[{\"id\":\"8749bd0c-c9a1-42b9-b62b-0d3045279eef\",\"type\":\"LinearAxis\"}],\"plot_height\":400,\"plot_width\":400,\"renderers\":[{\"id\":\"e1554b7f-b7eb-4ea1-9ee9-4c31ad9a33f9\",\"type\":\"LinearAxis\"},{\"id\":\"31b2719c-2cda-41a5-8d28-0ce66229d2b2\",\"type\":\"Grid\"},{\"id\":\"8749bd0c-c9a1-42b9-b62b-0d3045279eef\",\"type\":\"LinearAxis\"},{\"id\":\"81b87816-fb44-4b66-9ec2-bca3a8c3debe\",\"type\":\"Grid\"},{\"id\":\"e2895fbb-7f01-4b49-b819-bd5babf74d4e\",\"type\":\"BoxAnnotation\"},{\"id\":\"b1557100-056f-4bfc-be81-3bd7204da721\",\"type\":\"GlyphRenderer\"}],\"title\":{\"id\":\"b427afec-41da-425f-8870-d216d4692e98\",\"type\":\"Title\"},\"toolbar\":{\"id\":\"90d27757-364f-42b0-a7c8-d4b56c94e84d\",\"type\":\"Toolbar\"},\"x_range\":{\"id\":\"1ab2d55e-5875-4bc1-a3f0-21da9eeb8bfd\",\"type\":\"DataRange1d\"},\"x_scale\":{\"id\":\"ca8d1854-5ff1-4f74-a077-cac99f8e79ec\",\"type\":\"LinearScale\"},\"y_range\":{\"id\":\"07ea7e27-1f85-4743-ac1a-befb8bc556c7\",\"type\":\"DataRange1d\"},\"y_scale\":{\"id\":\"704972d1-3b57-482e-a832-186a47a0e849\",\"type\":\"LinearScale\"}},\"id\":\"4482aab4-a428-4c73-8cbc-85bbfca3c4f0\",\"subtype\":\"Figure\",\"type\":\"Plot\"},{\"attributes\":{\"active_drag\":\"auto\",\"active_inspect\":\"auto\",\"active_scroll\":\"auto\",\"active_tap\":\"auto\",\"tools\":[{\"id\":\"fac7f0b7-f81f-469d-a58b-c53193959e63\",\"type\":\"PanTool\"},{\"id\":\"455f5b7c-13d4-41b2-81e6-915bf219442b\",\"type\":\"WheelZoomTool\"},{\"id\":\"0b5e7553-f0e7-4483-a5a6-87548dcd96da\",\"type\":\"BoxZoomTool\"},{\"id\":\"72da6184-71f0-4f3c-a8be-c6baff62cf01\",\"type\":\"SaveTool\"},{\"id\":\"b9b35579-aaa9-45da-8ded-cc3675a9af72\",\"type\":\"ResetTool\"},{\"id\":\"f5257a3c-a6c0-4130-9c0e-e9203c2a23bd\",\"type\":\"HelpTool\"}]},\"id\":\"90d27757-364f-42b0-a7c8-d4b56c94e84d\",\"type\":\"Toolbar\"},{\"attributes\":{},\"id\":\"704972d1-3b57-482e-a832-186a47a0e849\",\"type\":\"LinearScale\"},{\"attributes\":{},\"id\":\"72da6184-71f0-4f3c-a8be-c6baff62cf01\",\"type\":\"SaveTool\"},{\"attributes\":{\"overlay\":{\"id\":\"e2895fbb-7f01-4b49-b819-bd5babf74d4e\",\"type\":\"BoxAnnotation\"}},\"id\":\"0b5e7553-f0e7-4483-a5a6-87548dcd96da\",\"type\":\"BoxZoomTool\"},{\"attributes\":{},\"id\":\"f5257a3c-a6c0-4130-9c0e-e9203c2a23bd\",\"type\":\"HelpTool\"},{\"attributes\":{},\"id\":\"291b9122-0fb6-477f-afdd-09f78bdfc5b8\",\"type\":\"BasicTickFormatter\"},{\"attributes\":{\"callback\":null},\"id\":\"1ab2d55e-5875-4bc1-a3f0-21da9eeb8bfd\",\"type\":\"DataRange1d\"},{\"attributes\":{\"formatter\":{\"id\":\"291b9122-0fb6-477f-afdd-09f78bdfc5b8\",\"type\":\"BasicTickFormatter\"},\"plot\":{\"id\":\"4482aab4-a428-4c73-8cbc-85bbfca3c4f0\",\"subtype\":\"Figure\",\"type\":\"Plot\"},\"ticker\":{\"id\":\"883349f8-780f-46e5-adf1-d9e9272374a6\",\"type\":\"BasicTicker\"}},\"id\":\"8749bd0c-c9a1-42b9-b62b-0d3045279eef\",\"type\":\"LinearAxis\"},{\"attributes\":{\"fill_alpha\":{\"value\":0.1},\"fill_color\":{\"value\":\"#1f77b4\"},\"line_alpha\":{\"value\":0.1},\"line_color\":{\"value\":\"#1f77b4\"},\"x\":{\"field\":\"petal_length\"},\"y\":{\"field\":\"petal_width\"}},\"id\":\"720a55e2-98dd-4d7e-8440-4fcd34791b7d\",\"type\":\"Circle\"}],\"root_ids\":[\"4482aab4-a428-4c73-8cbc-85bbfca3c4f0\"]},\"title\":\"Bokeh Application\",\"version\":\"0.12.15\"}};\n",
       "  var render_items = [{\"docid\":\"cdead3ff-f3a5-420c-bef9-0a88483317a2\",\"elementid\":\"76037dd4-7e9f-489b-91c7-38542ab1f353\",\"modelid\":\"4482aab4-a428-4c73-8cbc-85bbfca3c4f0\"}];\n",
       "  root.Bokeh.embed.embed_items_notebook(docs_json, render_items);\n",
       "\n",
       "  }\n",
       "  if (root.Bokeh !== undefined) {\n",
       "    embed_document(root);\n",
       "  } else {\n",
       "    var attempts = 0;\n",
       "    var timer = setInterval(function(root) {\n",
       "      if (root.Bokeh !== undefined) {\n",
       "        embed_document(root);\n",
       "        clearInterval(timer);\n",
       "      }\n",
       "      attempts++;\n",
       "      if (attempts > 100) {\n",
       "        console.log(\"Bokeh: ERROR: Unable to run BokehJS code because BokehJS library is missing\")\n",
       "        clearInterval(timer);\n",
       "      }\n",
       "    }, 10, root)\n",
       "  }\n",
       "})(window);"
      ],
      "application/vnd.bokehjs_exec.v0+json": ""
     },
     "metadata": {
      "application/vnd.bokehjs_exec.v0+json": {
       "id": "4482aab4-a428-4c73-8cbc-85bbfca3c4f0"
      }
     },
     "output_type": "display_data"
    }
   ],
   "source": [
    "p = figure(plot_width = 400, plot_height = 400)\n",
    "p.circle('petal_length', 'petal_width', source = source)\n",
    "show(p)"
   ]
  },
  {
   "cell_type": "markdown",
   "metadata": {},
   "source": [
    "### Ejemplo 100m"
   ]
  },
  {
   "cell_type": "code",
   "execution_count": 43,
   "metadata": {},
   "outputs": [],
   "source": [
    "fileData = pd.read_csv(\"100m.csv\")"
   ]
  },
  {
   "cell_type": "code",
   "execution_count": 44,
   "metadata": {},
   "outputs": [
    {
     "data": {
      "text/plain": [
       "Index(['Name', 'Country', 'Medal', 'Time', 'Year', 'color'], dtype='object')"
      ]
     },
     "execution_count": 44,
     "metadata": {},
     "output_type": "execute_result"
    }
   ],
   "source": [
    "fileData.columns"
   ]
  },
  {
   "cell_type": "code",
   "execution_count": 45,
   "metadata": {},
   "outputs": [
    {
     "data": {
      "text/html": [
       "\n",
       "<div class=\"bk-root\">\n",
       "    <div class=\"bk-plotdiv\" id=\"e39b9fe8-52be-4fba-866c-bcbc32ff0dde\"></div>\n",
       "</div>"
      ]
     },
     "metadata": {},
     "output_type": "display_data"
    },
    {
     "data": {
      "application/javascript": [
       "(function(root) {\n",
       "  function embed_document(root) {\n",
       "    \n",
       "  var docs_json = {\"6dd0144f-f701-4700-9f6e-1827b4874261\":{\"roots\":{\"references\":[{\"attributes\":{\"formatter\":{\"id\":\"9f3ca298-2ed1-4d63-865c-14c9e141c0ef\",\"type\":\"BasicTickFormatter\"},\"plot\":{\"id\":\"d9e72398-fd73-4f72-a5ab-7c564cc4c894\",\"subtype\":\"Figure\",\"type\":\"Plot\"},\"ticker\":{\"id\":\"7c2d7c61-8185-40d4-ade2-0de7b7b5eef3\",\"type\":\"BasicTicker\"}},\"id\":\"6f3f0549-6d9e-480c-a4d4-c80dd63febe4\",\"type\":\"LinearAxis\"},{\"attributes\":{},\"id\":\"3c1ff1d3-fad6-4ef8-bc26-5184680a35dc\",\"type\":\"ResetTool\"},{\"attributes\":{},\"id\":\"7c2d7c61-8185-40d4-ade2-0de7b7b5eef3\",\"type\":\"BasicTicker\"},{\"attributes\":{\"dimension\":1,\"plot\":{\"id\":\"d9e72398-fd73-4f72-a5ab-7c564cc4c894\",\"subtype\":\"Figure\",\"type\":\"Plot\"},\"ticker\":{\"id\":\"7c2d7c61-8185-40d4-ade2-0de7b7b5eef3\",\"type\":\"BasicTicker\"}},\"id\":\"e8544d52-d0a9-409b-9787-1e3c627c4b53\",\"type\":\"Grid\"},{\"attributes\":{\"data_source\":{\"id\":\"730aac8b-d4f1-43bd-9bfb-4da688f46e5d\",\"type\":\"ColumnDataSource\"},\"glyph\":{\"id\":\"0bab59aa-ea32-4b2a-83b1-5d816b836f22\",\"type\":\"Circle\"},\"hover_glyph\":null,\"muted_glyph\":null,\"nonselection_glyph\":{\"id\":\"a99d52e6-956b-457b-bb32-a12a2771abcc\",\"type\":\"Circle\"},\"selection_glyph\":null,\"view\":{\"id\":\"223a1fc8-9079-47cb-8c1d-3dc4ca816bf1\",\"type\":\"CDSView\"}},\"id\":\"4ba1a1fc-ba5b-4a65-8dfc-c51c950e1728\",\"type\":\"GlyphRenderer\"},{\"attributes\":{\"below\":[{\"id\":\"9170658b-8e96-4e0a-b38e-b0ea0bcf344c\",\"type\":\"LinearAxis\"}],\"left\":[{\"id\":\"6f3f0549-6d9e-480c-a4d4-c80dd63febe4\",\"type\":\"LinearAxis\"}],\"plot_height\":400,\"plot_width\":400,\"renderers\":[{\"id\":\"9170658b-8e96-4e0a-b38e-b0ea0bcf344c\",\"type\":\"LinearAxis\"},{\"id\":\"4ba711d8-91c5-450c-ad97-27d54d616a00\",\"type\":\"Grid\"},{\"id\":\"6f3f0549-6d9e-480c-a4d4-c80dd63febe4\",\"type\":\"LinearAxis\"},{\"id\":\"e8544d52-d0a9-409b-9787-1e3c627c4b53\",\"type\":\"Grid\"},{\"id\":\"37d32bff-4270-44ab-9734-145bb1b708b7\",\"type\":\"BoxAnnotation\"},{\"id\":\"4ba1a1fc-ba5b-4a65-8dfc-c51c950e1728\",\"type\":\"GlyphRenderer\"}],\"title\":{\"id\":\"4f341a04-a5f5-4116-9d60-00277ddd4f25\",\"type\":\"Title\"},\"toolbar\":{\"id\":\"45fcd457-0a70-4478-a98b-1d5d3f1bee18\",\"type\":\"Toolbar\"},\"x_range\":{\"id\":\"368541be-6f9c-4380-8417-8e2867fdf96e\",\"type\":\"DataRange1d\"},\"x_scale\":{\"id\":\"50f8c42b-f4fd-46ff-a79f-de88529f5a9b\",\"type\":\"LinearScale\"},\"y_range\":{\"id\":\"c967130a-7bad-432a-851f-2a314f73cdbb\",\"type\":\"DataRange1d\"},\"y_scale\":{\"id\":\"6d9ac3c8-68ca-4893-93da-877d4d0df1d7\",\"type\":\"LinearScale\"}},\"id\":\"d9e72398-fd73-4f72-a5ab-7c564cc4c894\",\"subtype\":\"Figure\",\"type\":\"Plot\"},{\"attributes\":{\"fill_color\":{\"field\":\"color\"},\"line_color\":{\"field\":\"color\"},\"x\":{\"field\":\"Year\"},\"y\":{\"field\":\"Time\"}},\"id\":\"0bab59aa-ea32-4b2a-83b1-5d816b836f22\",\"type\":\"Circle\"},{\"attributes\":{\"callback\":null,\"column_names\":[\"Name\",\"Country\",\"Medal\",\"Time\",\"Year\",\"color\",\"index\"],\"data\":{\"Country\":[\"JAM\",\"JAM\",\"USA\",\"JAM\",\"TRI\",\"USA\",\"USA\",\"POR\",\"USA\",\"USA\",\"TRI\",\"BAR\",\"CAN\",\"NAM\",\"TRI\",\"GBR\",\"NAM\",\"USA\",\"USA\",\"GBR\",\"USA\",\"USA\",\"USA\",\"CAN\",\"GBR\",\"CUB\",\"BUL\",\"TRI\",\"JAM\",\"URS\",\"URS\",\"USA\",\"JAM\",\"USA\",\"JAM\",\"USA\",\"USA\",\"CUB\",\"CAN\",\"EUA\",\"USA\",\"GBR\",\"USA\",\"USA\",\"AUS\",\"USA\",\"JAM\",\"GBR\",\"USA\",\"USA\",\"PAN\",\"USA\",\"USA\",\"NED\",\"USA\",\"USA\",\"GER\",\"CAN\",\"GBR\",\"GER\",\"GBR\",\"USA\",\"NZL\",\"USA\",\"USA\",\"GBR\",\"USA\",\"USA\",\"USA\",\"RSA\",\"USA\",\"CAN\",\"USA\",\"USA\",\"AUS\",\"USA\",\"USA\",\"USA\",\"USA\",\"USA\",\"AUS\",\"USA\",\"GER\",\"HUN\",\"USA\"],\"Medal\":[\"GOLD\",\"SILVER\",\"BRONZE\",\"GOLD\",\"SILVER\",\"BRONZE\",\"GOLD\",\"SILVER\",\"BRONZE\",\"GOLD\",\"SILVER\",\"BRONZE\",\"GOLD\",\"SILVER\",\"BRONZE\",\"GOLD\",\"SILVER\",\"BRONZE\",\"GOLD\",\"SILVER\",\"BRONZE\",\"GOLD\",\"SILVER\",\"BRONZE\",\"GOLD\",\"SILVER\",\"BRONZE\",\"GOLD\",\"SILVER\",\"BRONZE\",\"GOLD\",\"SILVER\",\"BRONZE\",\"GOLD\",\"SILVER\",\"BRONZE\",\"GOLD\",\"SILVER\",\"BRONZE\",\"GOLD\",\"SILVER\",\"BRONZE\",\"GOLD\",\"SILVER\",\"BRONZE\",\"GOLD\",\"SILVER\",\"BRONZE\",\"GOLD\",\"SILVER\",\"BRONZE\",\"GOLD\",\"SILVER\",\"BRONZE\",\"GOLD\",\"SILVER\",\"BRONZE\",\"GOLD\",\"SILVER\",\"BRONZE\",\"GOLD\",\"SILVER\",\"BRONZE\",\"GOLD\",\"SILVER\",\"BRONZE\",\"GOLD\",\"SILVER\",\"BRONZE\",\"GOLD\",\"SILVER\",\"BRONZE\",\"GOLD\",\"SILVER\",\"BRONZE\",\"GOLD\",\"SILVER\",\"BRONZE\",\"GOLD\",\"SILVER\",\"BRONZE\",\"GOLD\",\"SILVER\",\"BRONZE\",\"BRONZE\"],\"Name\":[\"Usain Bolt\",\"Yohan Blake\",\"Justin Gatlin\",\"Usain Bolt\",\"Richard Thompson\",\"Walter Dix\",\"Justin Gatlin\",\"Francis Obikwelu\",\"Maurice Greene\",\"Maurice Greene\",\"Ato Boldon\",\"Obadele Thompson\",\"Donovan Bailey\",\"Frankie Fredericks\",\"Ato Boldon\",\"Linford Christie\",\"Frankie Fredericks\",\"Dennis Mitchell\",\"Carl Lewis\",\"Linford Christie\",\"Calvin Smith\",\"Carl Lewis\",\"Sam Graddy\",\"Ben Johnson\",\"Allan Wells\",\"Silvio Leonard Tartabull\",\"Petar Petrov\",\"Hasely Crawford\",\"Donald Quarrie\",\"Valery Borzov\",\"Valery Borzov\",\"Robert Taylor\",\"Lennox Miller\",\"Jim Hines\",\"Lennox Miller\",\"Charles Greene\",\"Bob Hayes\",\"Enrique Figuerola Camue\",\"Harry Jerome\",\"Armin Hary\",\"David Sime\",\"Peter Radford\",\"Bobby Joe Morrow\",\"W. Thane Baker\",\"Hector Hogan\",\"Lindy Remigino\",\"Herbert McKenley\",\"E. McDonald Bailey\",\"W. Harrison Dillard\",\"H. Norwood \\\"Barney\\\" Ewell\",\"Lloyd LaBeach\",\"Jesse Owens\",\"Ralph Metcalfe\",\"Martinus Osendarp\",\"T. \\\"Eddie\\\" Tolan\",\"Ralph Metcalfe\",\"Arthur Jonath\",\"Percy Williams\",\"John \\\"Jack\\\" London\",\"Georg Lammers\",\"Harold Abrahams\",\"Jackson Scholz\",\"Arthur Porritt\",\"Charles Paddock\",\"Morris Kirksey\",\"Harry Edward\",\"Ralph Craig\",\"Alvah Meyer\",\"Donald Lippincott\",\"Reginald Walker\",\"James Rector\",\"Robert Kerr\",\"Charles \\\"Archie\\\" Hahn\",\"Fay Moulton\",\"Nigel Barker\",\"Charles \\\"Archie\\\" Hahn\",\"Nathaniel Cartmell\",\"Bill Hogenson\",\"Frank Jarvis\",\"J. Walter Tewksbury\",\"Stanley Rowley\",\"Thomas Burke\",\"Fritz Hofmann\",\"Alojz Sokol\",\"Francis Lane\"],\"Time\":{\"__ndarray__\":\"w/UoXI9CI0AAAAAAAIAjQBSuR+F6lCNA4XoUrkdhI0BI4XoUrscjQFK4HoXr0SNAMzMzMzOzI0C4HoXrUbgjQD0K16NwvSNAPQrXo3C9I0B7FK5H4fojQBSuR+F6FCRArkfhehSuI0BI4XoUrscjQM3MzMzMzCNA7FG4HoXrI0AK16NwPQokQBSuR+F6FCRA16NwPQrXI0BxPQrXo/AjQHsUrkfh+iNAexSuR+H6I0DhehSuR2EkQHE9CtejcCRAAAAAAACAJEAAAAAAAIAkQEjhehSuxyRAH4XrUbgeJEApXI/C9SgkQEjhehSuRyRASOF6FK5HJEB7FK5H4XokQClcj8L1qCRAZmZmZmbmI0AUrkfhehQkQKRwPQrXIyRAAAAAAAAAJEBmZmZmZmYkQGZmZmZmZiRAZmZmZmZmJEBmZmZmZmYkQJqZmZmZmSRAAAAAAAAAJUAAAAAAAAAlQDMzMzMzMyVAzczMzMzMJEDNzMzMzMwkQM3MzMzMzCRAmpmZmZmZJEDNzMzMzMwkQM3MzMzMzCRAmpmZmZmZJEDNzMzMzMwkQAAAAAAAACVAmpmZmZmZJECamZmZmZkkQM3MzMzMzCRAmpmZmZmZJUDNzMzMzMwlQM3MzMzMzCVAMzMzMzMzJUCamZmZmZklQM3MzMzMzCVAmpmZmZmZJUDNzMzMzMwlQM3MzMzMzCVAmpmZmZmZJUDNzMzMzMwlQM3MzMzMzCVAmpmZmZmZJUAAAAAAAAAmQAAAAAAAACZAZmZmZmZmJkCamZmZmZkmQJqZmZmZmSZAAAAAAAAAJkBmZmZmZmYmQGZmZmZmZiZAAAAAAAAAJkAzMzMzMzMmQGZmZmZmZiZAAAAAAAAAKEBmZmZmZmYoQDMzMzMzMylAMzMzMzMzKUA=\",\"dtype\":\"float64\",\"shape\":[85]},\"Year\":[2012,2012,2012,2008,2008,2008,2004,2004,2004,2000,2000,2000,1996,1996,1996,1992,1992,1992,1988,1988,1988,1984,1984,1984,1980,1980,1980,1976,1976,1976,1972,1972,1972,1968,1968,1968,1964,1964,1964,1960,1960,1960,1956,1956,1956,1952,1952,1952,1948,1948,1948,1936,1936,1936,1932,1932,1932,1928,1928,1928,1924,1924,1924,1920,1920,1920,1912,1912,1912,1908,1908,1908,1906,1906,1906,1904,1904,1904,1900,1900,1900,1896,1896,1896,1896],\"color\":[\"goldenrod\",\"silver\",\"saddlebrown\",\"goldenrod\",\"silver\",\"saddlebrown\",\"goldenrod\",\"silver\",\"saddlebrown\",\"goldenrod\",\"silver\",\"saddlebrown\",\"goldenrod\",\"silver\",\"saddlebrown\",\"goldenrod\",\"silver\",\"saddlebrown\",\"goldenrod\",\"silver\",\"saddlebrown\",\"goldenrod\",\"silver\",\"saddlebrown\",\"goldenrod\",\"silver\",\"saddlebrown\",\"goldenrod\",\"silver\",\"saddlebrown\",\"goldenrod\",\"silver\",\"saddlebrown\",\"goldenrod\",\"silver\",\"saddlebrown\",\"goldenrod\",\"silver\",\"saddlebrown\",\"goldenrod\",\"silver\",\"saddlebrown\",\"goldenrod\",\"silver\",\"saddlebrown\",\"goldenrod\",\"silver\",\"saddlebrown\",\"goldenrod\",\"silver\",\"saddlebrown\",\"goldenrod\",\"silver\",\"saddlebrown\",\"goldenrod\",\"silver\",\"saddlebrown\",\"goldenrod\",\"silver\",\"saddlebrown\",\"goldenrod\",\"silver\",\"saddlebrown\",\"goldenrod\",\"silver\",\"saddlebrown\",\"goldenrod\",\"silver\",\"saddlebrown\",\"goldenrod\",\"silver\",\"saddlebrown\",\"goldenrod\",\"silver\",\"saddlebrown\",\"goldenrod\",\"silver\",\"saddlebrown\",\"goldenrod\",\"silver\",\"saddlebrown\",\"goldenrod\",\"silver\",\"saddlebrown\",\"saddlebrown\"],\"index\":[0,1,2,3,4,5,6,7,8,9,10,11,12,13,14,15,16,17,18,19,20,21,22,23,24,25,26,27,28,29,30,31,32,33,34,35,36,37,38,39,40,41,42,43,44,45,46,47,48,49,50,51,52,53,54,55,56,57,58,59,60,61,62,63,64,65,66,67,68,69,70,71,72,73,74,75,76,77,78,79,80,81,82,83,84]},\"selected\":null,\"selection_policy\":null},\"id\":\"730aac8b-d4f1-43bd-9bfb-4da688f46e5d\",\"type\":\"ColumnDataSource\"},{\"attributes\":{\"bottom_units\":\"screen\",\"fill_alpha\":{\"value\":0.5},\"fill_color\":{\"value\":\"lightgrey\"},\"left_units\":\"screen\",\"level\":\"overlay\",\"line_alpha\":{\"value\":1.0},\"line_color\":{\"value\":\"black\"},\"line_dash\":[4,4],\"line_width\":{\"value\":2},\"plot\":null,\"render_mode\":\"css\",\"right_units\":\"screen\",\"top_units\":\"screen\"},\"id\":\"37d32bff-4270-44ab-9734-145bb1b708b7\",\"type\":\"BoxAnnotation\"},{\"attributes\":{},\"id\":\"9f3ca298-2ed1-4d63-865c-14c9e141c0ef\",\"type\":\"BasicTickFormatter\"},{\"attributes\":{},\"id\":\"14f43576-6c88-47ea-8c05-6a530c23e918\",\"type\":\"PanTool\"},{\"attributes\":{\"source\":{\"id\":\"730aac8b-d4f1-43bd-9bfb-4da688f46e5d\",\"type\":\"ColumnDataSource\"}},\"id\":\"223a1fc8-9079-47cb-8c1d-3dc4ca816bf1\",\"type\":\"CDSView\"},{\"attributes\":{},\"id\":\"6d9ac3c8-68ca-4893-93da-877d4d0df1d7\",\"type\":\"LinearScale\"},{\"attributes\":{},\"id\":\"d597c1dd-ae8e-4092-ba01-0b3e6a50f30b\",\"type\":\"WheelZoomTool\"},{\"attributes\":{},\"id\":\"50f8c42b-f4fd-46ff-a79f-de88529f5a9b\",\"type\":\"LinearScale\"},{\"attributes\":{\"overlay\":{\"id\":\"37d32bff-4270-44ab-9734-145bb1b708b7\",\"type\":\"BoxAnnotation\"}},\"id\":\"269e204c-3580-4919-97cc-141fc7b4119d\",\"type\":\"BoxZoomTool\"},{\"attributes\":{\"callback\":null},\"id\":\"c967130a-7bad-432a-851f-2a314f73cdbb\",\"type\":\"DataRange1d\"},{\"attributes\":{\"plot\":null,\"text\":\"\"},\"id\":\"4f341a04-a5f5-4116-9d60-00277ddd4f25\",\"type\":\"Title\"},{\"attributes\":{\"fill_alpha\":{\"value\":0.1},\"fill_color\":{\"value\":\"#1f77b4\"},\"line_alpha\":{\"value\":0.1},\"line_color\":{\"value\":\"#1f77b4\"},\"x\":{\"field\":\"Year\"},\"y\":{\"field\":\"Time\"}},\"id\":\"a99d52e6-956b-457b-bb32-a12a2771abcc\",\"type\":\"Circle\"},{\"attributes\":{},\"id\":\"c986b75d-951b-4100-b790-fc8849be76d7\",\"type\":\"HelpTool\"},{\"attributes\":{},\"id\":\"aa5a5afe-53f9-4959-8583-6649e8dd2aad\",\"type\":\"SaveTool\"},{\"attributes\":{\"callback\":null},\"id\":\"368541be-6f9c-4380-8417-8e2867fdf96e\",\"type\":\"DataRange1d\"},{\"attributes\":{\"active_drag\":\"auto\",\"active_inspect\":\"auto\",\"active_scroll\":\"auto\",\"active_tap\":\"auto\",\"tools\":[{\"id\":\"14f43576-6c88-47ea-8c05-6a530c23e918\",\"type\":\"PanTool\"},{\"id\":\"d597c1dd-ae8e-4092-ba01-0b3e6a50f30b\",\"type\":\"WheelZoomTool\"},{\"id\":\"269e204c-3580-4919-97cc-141fc7b4119d\",\"type\":\"BoxZoomTool\"},{\"id\":\"aa5a5afe-53f9-4959-8583-6649e8dd2aad\",\"type\":\"SaveTool\"},{\"id\":\"3c1ff1d3-fad6-4ef8-bc26-5184680a35dc\",\"type\":\"ResetTool\"},{\"id\":\"c986b75d-951b-4100-b790-fc8849be76d7\",\"type\":\"HelpTool\"}]},\"id\":\"45fcd457-0a70-4478-a98b-1d5d3f1bee18\",\"type\":\"Toolbar\"},{\"attributes\":{},\"id\":\"771eca5e-6a8a-4784-8979-1e7bdeb573df\",\"type\":\"BasicTickFormatter\"},{\"attributes\":{\"plot\":{\"id\":\"d9e72398-fd73-4f72-a5ab-7c564cc4c894\",\"subtype\":\"Figure\",\"type\":\"Plot\"},\"ticker\":{\"id\":\"9737a2e6-8b2a-43a5-a531-787c453ad129\",\"type\":\"BasicTicker\"}},\"id\":\"4ba711d8-91c5-450c-ad97-27d54d616a00\",\"type\":\"Grid\"},{\"attributes\":{\"formatter\":{\"id\":\"771eca5e-6a8a-4784-8979-1e7bdeb573df\",\"type\":\"BasicTickFormatter\"},\"plot\":{\"id\":\"d9e72398-fd73-4f72-a5ab-7c564cc4c894\",\"subtype\":\"Figure\",\"type\":\"Plot\"},\"ticker\":{\"id\":\"9737a2e6-8b2a-43a5-a531-787c453ad129\",\"type\":\"BasicTicker\"}},\"id\":\"9170658b-8e96-4e0a-b38e-b0ea0bcf344c\",\"type\":\"LinearAxis\"},{\"attributes\":{},\"id\":\"9737a2e6-8b2a-43a5-a531-787c453ad129\",\"type\":\"BasicTicker\"}],\"root_ids\":[\"d9e72398-fd73-4f72-a5ab-7c564cc4c894\"]},\"title\":\"Bokeh Application\",\"version\":\"0.12.15\"}};\n",
       "  var render_items = [{\"docid\":\"6dd0144f-f701-4700-9f6e-1827b4874261\",\"elementid\":\"e39b9fe8-52be-4fba-866c-bcbc32ff0dde\",\"modelid\":\"d9e72398-fd73-4f72-a5ab-7c564cc4c894\"}];\n",
       "  root.Bokeh.embed.embed_items_notebook(docs_json, render_items);\n",
       "\n",
       "  }\n",
       "  if (root.Bokeh !== undefined) {\n",
       "    embed_document(root);\n",
       "  } else {\n",
       "    var attempts = 0;\n",
       "    var timer = setInterval(function(root) {\n",
       "      if (root.Bokeh !== undefined) {\n",
       "        embed_document(root);\n",
       "        clearInterval(timer);\n",
       "      }\n",
       "      attempts++;\n",
       "      if (attempts > 100) {\n",
       "        console.log(\"Bokeh: ERROR: Unable to run BokehJS code because BokehJS library is missing\")\n",
       "        clearInterval(timer);\n",
       "      }\n",
       "    }, 10, root)\n",
       "  }\n",
       "})(window);"
      ],
      "application/vnd.bokehjs_exec.v0+json": ""
     },
     "metadata": {
      "application/vnd.bokehjs_exec.v0+json": {
       "id": "d9e72398-fd73-4f72-a5ab-7c564cc4c894"
      }
     },
     "output_type": "display_data"
    }
   ],
   "source": [
    "dataSource = ColumnDataSource(fileData)\n",
    "p = figure(plot_width = 400, plot_height = 400)\n",
    "p.circle('Year', 'Time', source = dataSource, fill_color = 'color', line_color = 'color')\n",
    "show(p)"
   ]
  },
  {
   "cell_type": "markdown",
   "metadata": {},
   "source": [
    "### Mapear una columna a valores"
   ]
  },
  {
   "cell_type": "code",
   "execution_count": 46,
   "metadata": {},
   "outputs": [],
   "source": [
    "from bokeh.models import CategoricalColorMapper"
   ]
  },
  {
   "cell_type": "code",
   "execution_count": 47,
   "metadata": {},
   "outputs": [],
   "source": [
    "from bokeh.sampledata.autompg import autompg as df"
   ]
  },
  {
   "cell_type": "code",
   "execution_count": 48,
   "metadata": {},
   "outputs": [
    {
     "data": {
      "text/html": [
       "<div>\n",
       "<style scoped>\n",
       "    .dataframe tbody tr th:only-of-type {\n",
       "        vertical-align: middle;\n",
       "    }\n",
       "\n",
       "    .dataframe tbody tr th {\n",
       "        vertical-align: top;\n",
       "    }\n",
       "\n",
       "    .dataframe thead th {\n",
       "        text-align: right;\n",
       "    }\n",
       "</style>\n",
       "<table border=\"1\" class=\"dataframe\">\n",
       "  <thead>\n",
       "    <tr style=\"text-align: right;\">\n",
       "      <th></th>\n",
       "      <th>mpg</th>\n",
       "      <th>cyl</th>\n",
       "      <th>displ</th>\n",
       "      <th>hp</th>\n",
       "      <th>weight</th>\n",
       "      <th>accel</th>\n",
       "      <th>yr</th>\n",
       "      <th>origin</th>\n",
       "      <th>name</th>\n",
       "    </tr>\n",
       "  </thead>\n",
       "  <tbody>\n",
       "    <tr>\n",
       "      <th>0</th>\n",
       "      <td>18.0</td>\n",
       "      <td>8</td>\n",
       "      <td>307.0</td>\n",
       "      <td>130</td>\n",
       "      <td>3504</td>\n",
       "      <td>12.0</td>\n",
       "      <td>70</td>\n",
       "      <td>1</td>\n",
       "      <td>chevrolet chevelle malibu</td>\n",
       "    </tr>\n",
       "    <tr>\n",
       "      <th>1</th>\n",
       "      <td>15.0</td>\n",
       "      <td>8</td>\n",
       "      <td>350.0</td>\n",
       "      <td>165</td>\n",
       "      <td>3693</td>\n",
       "      <td>11.5</td>\n",
       "      <td>70</td>\n",
       "      <td>1</td>\n",
       "      <td>buick skylark 320</td>\n",
       "    </tr>\n",
       "    <tr>\n",
       "      <th>2</th>\n",
       "      <td>18.0</td>\n",
       "      <td>8</td>\n",
       "      <td>318.0</td>\n",
       "      <td>150</td>\n",
       "      <td>3436</td>\n",
       "      <td>11.0</td>\n",
       "      <td>70</td>\n",
       "      <td>1</td>\n",
       "      <td>plymouth satellite</td>\n",
       "    </tr>\n",
       "    <tr>\n",
       "      <th>3</th>\n",
       "      <td>16.0</td>\n",
       "      <td>8</td>\n",
       "      <td>304.0</td>\n",
       "      <td>150</td>\n",
       "      <td>3433</td>\n",
       "      <td>12.0</td>\n",
       "      <td>70</td>\n",
       "      <td>1</td>\n",
       "      <td>amc rebel sst</td>\n",
       "    </tr>\n",
       "    <tr>\n",
       "      <th>4</th>\n",
       "      <td>17.0</td>\n",
       "      <td>8</td>\n",
       "      <td>302.0</td>\n",
       "      <td>140</td>\n",
       "      <td>3449</td>\n",
       "      <td>10.5</td>\n",
       "      <td>70</td>\n",
       "      <td>1</td>\n",
       "      <td>ford torino</td>\n",
       "    </tr>\n",
       "  </tbody>\n",
       "</table>\n",
       "</div>"
      ],
      "text/plain": [
       "    mpg  cyl  displ   hp  weight  accel  yr  origin                       name\n",
       "0  18.0    8  307.0  130    3504   12.0  70       1  chevrolet chevelle malibu\n",
       "1  15.0    8  350.0  165    3693   11.5  70       1          buick skylark 320\n",
       "2  18.0    8  318.0  150    3436   11.0  70       1         plymouth satellite\n",
       "3  16.0    8  304.0  150    3433   12.0  70       1              amc rebel sst\n",
       "4  17.0    8  302.0  140    3449   10.5  70       1                ford torino"
      ]
     },
     "execution_count": 48,
     "metadata": {},
     "output_type": "execute_result"
    }
   ],
   "source": [
    "df.head()"
   ]
  },
  {
   "cell_type": "code",
   "execution_count": 49,
   "metadata": {},
   "outputs": [
    {
     "name": "stdout",
     "output_type": "stream",
     "text": [
      "<class 'pandas.core.frame.DataFrame'>\n",
      "RangeIndex: 392 entries, 0 to 391\n",
      "Data columns (total 9 columns):\n",
      "mpg       392 non-null float64\n",
      "cyl       392 non-null int64\n",
      "displ     392 non-null float64\n",
      "hp        392 non-null int64\n",
      "weight    392 non-null int64\n",
      "accel     392 non-null float64\n",
      "yr        392 non-null int64\n",
      "origin    392 non-null int64\n",
      "name      392 non-null object\n",
      "dtypes: float64(3), int64(5), object(1)\n",
      "memory usage: 27.6+ KB\n"
     ]
    }
   ],
   "source": [
    "df.info()"
   ]
  },
  {
   "cell_type": "code",
   "execution_count": 50,
   "metadata": {},
   "outputs": [],
   "source": [
    "df['origin'] = df['origin'].astype('str') # Cambiar el tipo de datos de origin"
   ]
  },
  {
   "cell_type": "code",
   "execution_count": 51,
   "metadata": {},
   "outputs": [
    {
     "name": "stdout",
     "output_type": "stream",
     "text": [
      "<class 'pandas.core.frame.DataFrame'>\n",
      "RangeIndex: 392 entries, 0 to 391\n",
      "Data columns (total 9 columns):\n",
      "mpg       392 non-null float64\n",
      "cyl       392 non-null int64\n",
      "displ     392 non-null float64\n",
      "hp        392 non-null int64\n",
      "weight    392 non-null int64\n",
      "accel     392 non-null float64\n",
      "yr        392 non-null int64\n",
      "origin    392 non-null object\n",
      "name      392 non-null object\n",
      "dtypes: float64(3), int64(4), object(2)\n",
      "memory usage: 27.6+ KB\n"
     ]
    }
   ],
   "source": [
    "df.info()"
   ]
  },
  {
   "cell_type": "code",
   "execution_count": 52,
   "metadata": {},
   "outputs": [],
   "source": [
    "source = ColumnDataSource(df)\n",
    "color_mapper = CategoricalColorMapper(factors = ['1', '2', '3'], palette = ['red', 'green', 'blue'])"
   ]
  },
  {
   "cell_type": "code",
   "execution_count": 53,
   "metadata": {},
   "outputs": [
    {
     "data": {
      "text/html": [
       "\n",
       "<div class=\"bk-root\">\n",
       "    <div class=\"bk-plotdiv\" id=\"69456104-fe61-4d0b-b991-22c6514db60d\"></div>\n",
       "</div>"
      ]
     },
     "metadata": {},
     "output_type": "display_data"
    },
    {
     "data": {
      "application/javascript": [
       "(function(root) {\n",
       "  function embed_document(root) {\n",
       "    \n",
       "  var docs_json = {\"b3cee376-099e-4c12-b7ad-275babf8412e\":{\"roots\":{\"references\":[{\"attributes\":{\"plot\":null,\"text\":\"\"},\"id\":\"5856a753-948c-4610-bf57-e222ffe7a6f0\",\"type\":\"Title\"},{\"attributes\":{\"fill_color\":{\"field\":\"origin\",\"transform\":{\"id\":\"4a9aedd8-dda0-4dae-8981-d7fb2ff8e774\",\"type\":\"CategoricalColorMapper\"}},\"line_color\":{\"field\":\"origin\",\"transform\":{\"id\":\"4a9aedd8-dda0-4dae-8981-d7fb2ff8e774\",\"type\":\"CategoricalColorMapper\"}},\"x\":{\"field\":\"weight\"},\"y\":{\"field\":\"mpg\"}},\"id\":\"3f80d4a0-f3ca-4650-9d27-15137835c745\",\"type\":\"Circle\"},{\"attributes\":{\"items\":[{\"id\":\"f3dea915-dd0c-46a5-a242-4a57f9cf9ade\",\"type\":\"LegendItem\"}],\"plot\":{\"id\":\"546fc256-0d6c-47a3-8a5c-67416d864a67\",\"subtype\":\"Figure\",\"type\":\"Plot\"}},\"id\":\"cb407d60-11a6-43be-882c-dc8e16776e9c\",\"type\":\"Legend\"},{\"attributes\":{\"dimension\":1,\"plot\":{\"id\":\"546fc256-0d6c-47a3-8a5c-67416d864a67\",\"subtype\":\"Figure\",\"type\":\"Plot\"},\"ticker\":{\"id\":\"454d0b14-cf6f-4eb2-89d6-52289a964f52\",\"type\":\"BasicTicker\"}},\"id\":\"fc6afec7-7697-4cc2-bc6b-285dcf840895\",\"type\":\"Grid\"},{\"attributes\":{\"fill_alpha\":{\"value\":0.1},\"fill_color\":{\"value\":\"#1f77b4\"},\"line_alpha\":{\"value\":0.1},\"line_color\":{\"value\":\"#1f77b4\"},\"x\":{\"field\":\"weight\"},\"y\":{\"field\":\"mpg\"}},\"id\":\"8e700ad7-53dd-47c6-8a3c-c00e32463ea2\",\"type\":\"Circle\"},{\"attributes\":{},\"id\":\"77cb3d24-266b-4f70-95b8-1b2082639e88\",\"type\":\"BasicTickFormatter\"},{\"attributes\":{\"bottom_units\":\"screen\",\"fill_alpha\":{\"value\":0.5},\"fill_color\":{\"value\":\"lightgrey\"},\"left_units\":\"screen\",\"level\":\"overlay\",\"line_alpha\":{\"value\":1.0},\"line_color\":{\"value\":\"black\"},\"line_dash\":[4,4],\"line_width\":{\"value\":2},\"plot\":null,\"render_mode\":\"css\",\"right_units\":\"screen\",\"top_units\":\"screen\"},\"id\":\"06f1e1e2-0f45-4aa2-8300-35a6b2f72be2\",\"type\":\"BoxAnnotation\"},{\"attributes\":{},\"id\":\"40667321-0df7-4753-8ed0-5d8206a9baa3\",\"type\":\"PanTool\"},{\"attributes\":{\"active_drag\":\"auto\",\"active_inspect\":\"auto\",\"active_scroll\":\"auto\",\"active_tap\":\"auto\",\"tools\":[{\"id\":\"40667321-0df7-4753-8ed0-5d8206a9baa3\",\"type\":\"PanTool\"},{\"id\":\"880bf053-98f6-48ff-a418-d7ac9797af98\",\"type\":\"WheelZoomTool\"},{\"id\":\"3b44b9f0-3a36-431c-b521-22f0a39aacd3\",\"type\":\"BoxZoomTool\"},{\"id\":\"4fa9b2b3-964b-441c-9112-a8674b80c3bf\",\"type\":\"SaveTool\"},{\"id\":\"12a047f6-0725-4e91-b8b0-4be8e49b8212\",\"type\":\"ResetTool\"},{\"id\":\"5e102221-5ac7-4a23-8dcc-5ae3226ee4b4\",\"type\":\"HelpTool\"}]},\"id\":\"b52bc69e-aee3-4c2f-964a-bffba2fe65c9\",\"type\":\"Toolbar\"},{\"attributes\":{},\"id\":\"d8a85c25-7fe3-42c5-a51b-d67cab6e0c82\",\"type\":\"BasicTickFormatter\"},{\"attributes\":{\"callback\":null},\"id\":\"6cf576c8-5ddd-43e4-b0af-1b7a174921db\",\"type\":\"DataRange1d\"},{\"attributes\":{\"factors\":[\"1\",\"2\",\"3\"],\"palette\":[\"red\",\"green\",\"blue\"]},\"id\":\"4a9aedd8-dda0-4dae-8981-d7fb2ff8e774\",\"type\":\"CategoricalColorMapper\"},{\"attributes\":{},\"id\":\"880bf053-98f6-48ff-a418-d7ac9797af98\",\"type\":\"WheelZoomTool\"},{\"attributes\":{\"data_source\":{\"id\":\"4ea9b55d-3be3-4301-a5d3-3671d93c5f82\",\"type\":\"ColumnDataSource\"},\"glyph\":{\"id\":\"3f80d4a0-f3ca-4650-9d27-15137835c745\",\"type\":\"Circle\"},\"hover_glyph\":null,\"muted_glyph\":null,\"nonselection_glyph\":{\"id\":\"8e700ad7-53dd-47c6-8a3c-c00e32463ea2\",\"type\":\"Circle\"},\"selection_glyph\":null,\"view\":{\"id\":\"d3dc081c-b3dd-4378-8aff-78ec35fc347e\",\"type\":\"CDSView\"}},\"id\":\"78e8d1a1-bf74-42f5-9127-138f46f9d60c\",\"type\":\"GlyphRenderer\"},{\"attributes\":{\"callback\":null,\"column_names\":[\"mpg\",\"cyl\",\"displ\",\"hp\",\"weight\",\"accel\",\"yr\",\"origin\",\"name\",\"index\"],\"data\":{\"accel\":{\"__ndarray__\":\"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\",\"dtype\":\"float64\",\"shape\":[392]},\"cyl\":[8,8,8,8,8,8,8,8,8,8,8,8,8,8,4,6,6,6,4,4,4,4,4,4,6,8,8,8,8,4,4,4,6,6,6,6,6,8,8,8,8,8,8,8,6,4,6,6,4,4,4,4,4,4,4,4,4,4,4,4,4,8,8,8,8,8,8,8,8,8,3,8,8,8,8,4,4,4,4,4,4,4,4,4,8,8,8,8,8,8,8,8,8,8,8,8,6,6,6,6,6,4,8,8,8,8,6,4,4,4,3,4,6,4,8,8,4,4,4,4,8,4,6,8,6,6,6,4,4,4,4,6,6,6,8,8,8,8,8,4,4,4,4,4,4,4,4,4,4,4,6,6,6,6,8,8,8,8,6,6,6,6,6,8,8,4,4,6,4,4,4,4,6,4,6,4,4,4,4,4,4,4,4,4,4,8,8,8,8,6,6,6,6,4,4,4,4,6,6,6,6,4,4,4,4,4,8,4,6,6,8,8,8,8,4,4,4,4,4,8,8,8,8,6,6,6,6,8,8,8,8,4,4,4,4,4,4,4,4,6,4,3,4,4,4,4,4,8,8,8,6,6,6,4,6,6,6,6,6,6,8,6,8,8,4,4,4,4,4,4,4,4,5,6,4,6,4,4,6,6,4,6,6,8,8,8,8,8,8,8,8,4,4,4,4,5,8,4,8,4,4,4,4,4,6,6,4,4,4,4,4,4,4,4,6,4,4,4,4,4,4,4,4,4,4,5,4,4,4,4,6,3,4,4,4,4,4,6,4,4,4,4,4,4,4,4,4,4,4,4,4,4,4,4,4,6,6,6,6,8,6,6,4,4,4,4,4,4,4,4,4,4,4,4,4,4,4,4,4,4,6,6,4,6,4,4,4,4,4,4,4,4],\"displ\":{\"__ndarray__\":\"AAAAAAAwc0AAAAAAAOB1QAAAAAAA4HNAAAAAAAAAc0AAAAAAAOByQAAAAAAA0HpAAAAAAABgfEAAAAAAAIB7QAAAAAAAcHxAAAAAAABgeEAAAAAAAPB3QAAAAAAAQHVAAAAAAAAAeUAAAAAAAHB8QAAAAAAAQFxAAAAAAADAaEAAAAAAAOBoQAAAAAAAAGlAAAAAAABAWEAAAAAAAEBYQAAAAAAAgFtAAAAAAADAWkAAAAAAAABaQAAAAAAAQF5AAAAAAADgaEAAAAAAAIB2QAAAAAAAMHNAAAAAAADgc0AAAAAAAABzQAAAAAAAQFhAAAAAAACAYUAAAAAAAEBcQAAAAAAAAG1AAAAAAAAgbEAAAAAAAEBvQAAAAAAAQG9AAAAAAAAAbUAAAAAAAOB1QAAAAAAAAHlAAAAAAADwdUAAAAAAAOBzQAAAAAAA8HdAAAAAAAAAeUAAAAAAAAB5QAAAAAAAIHBAAAAAAACAYUAAAAAAAEBvQAAAAAAAQG9AAAAAAACAXkAAAAAAAABdQAAAAAAAwFNAAAAAAAAAVkAAAAAAAMBRQAAAAAAAAFJAAAAAAABAWEAAAAAAAMBWQAAAAAAAQFxAAAAAAABgWEAAAAAAAEBYQAAAAAAAgGFAAAAAAACAXkAAAAAAAOB1QAAAAAAAAHlAAAAAAADgc0AAAAAAAPB1QAAAAAAAAHNAAAAAAADQekAAAAAAAOB1QAAAAAAA4HVAAAAAAAAAeUAAAAAAAIBRQAAAAAAAAHNAAAAAAAAwc0AAAAAAAOByQAAAAAAA4HNAAAAAAABAXkAAAAAAAEBeQAAAAAAAAF5AAAAAAAAAWEAAAAAAAIBeQAAAAAAAQFhAAAAAAAAAXkAAAAAAAIBYQAAAAAAAQFhAAAAAAADgdUAAAAAAAABzQAAAAAAA4HVAAAAAAADgckAAAAAAAOBzQAAAAAAA0HpAAAAAAAAAeUAAAAAAAPB1QAAAAAAA4HNAAAAAAACAe0AAAAAAAHB8QAAAAAAAgHZAAAAAAAAgbEAAAAAAAEBvQAAAAAAAAG1AAAAAAABAb0AAAAAAAMBoQAAAAAAAQFhAAAAAAAAAeUAAAAAAAAB5QAAAAAAAgHZAAAAAAADgdUAAAAAAAABtQAAAAAAAQFhAAAAAAACAYUAAAAAAAABbQAAAAAAAgFFAAAAAAACAXkAAAAAAAGBjQAAAAAAAgFhAAAAAAADgdUAAAAAAAAB5QAAAAAAAAFFAAAAAAAAAXUAAAAAAAIBcQAAAAAAAQF5AAAAAAADgc0AAAAAAAEBeQAAAAAAAgGNAAAAAAADgdUAAAAAAAMBoQAAAAAAAAG1AAAAAAABAb0AAAAAAAMBTQAAAAAAAgF5AAAAAAADAUUAAAAAAAIBhQAAAAAAAQG9AAAAAAAAgcEAAAAAAACBsQAAAAAAA4HJAAAAAAADgdUAAAAAAAOBzQAAAAAAA4HJAAAAAAAAAc0AAAAAAAIBYQAAAAAAAwFNAAAAAAABAWEAAAAAAAABTQAAAAAAAwFRAAAAAAACAVkAAAAAAAIBWQAAAAAAAAF1AAAAAAAAAXkAAAAAAAABbQAAAAAAAwFNAAAAAAAAgbEAAAAAAAEBvQAAAAAAAQG9AAAAAAABAb0AAAAAAAAB5QAAAAAAA4HVAAAAAAADgc0AAAAAAAPB1QAAAAAAA4GxAAAAAAABAb0AAAAAAACBwQAAAAAAAIGxAAAAAAADgbEAAAAAAAGBwQAAAAAAA4HJAAAAAAABAWEAAAAAAAIBhQAAAAAAAAG1AAAAAAACAYUAAAAAAAMBgQAAAAAAAgFZAAAAAAADAXUAAAAAAAGBlQAAAAAAAgFZAAAAAAAAAbUAAAAAAAMBcQAAAAAAAAF5AAAAAAABAXkAAAAAAAEBeQAAAAAAAwFZAAAAAAADAWkAAAAAAAABdQAAAAAAAgGFAAAAAAACAWEAAAAAAAEBZQAAAAAAAEHNAAAAAAADgc0AAAAAAAABzQAAAAAAA8HVAAAAAAAAgbEAAAAAAAEBvQAAAAAAAAGlAAAAAAAAAbUAAAAAAAEBVQAAAAAAAgFhAAAAAAACAVkAAAAAAAMBWQAAAAAAAIGxAAAAAAABAb0AAAAAAAEBvQAAAAAAAIHBAAAAAAABAWEAAAAAAAEBVQAAAAAAAQFhAAAAAAACAYUAAAAAAAEBgQAAAAAAA4HNAAAAAAAAAXkAAAAAAAIBjQAAAAAAAAGVAAAAAAADgdUAAAAAAAOB1QAAAAAAA4HJAAAAAAADgc0AAAAAAAIBYQAAAAAAAwFtAAAAAAADAU0AAAAAAAIBeQAAAAAAAQFVAAAAAAAAQc0AAAAAAAEBwQAAAAAAA4HNAAAAAAADgckAAAAAAAEBvQAAAAAAA4GxAAAAAAAAgbEAAAAAAAEBvQAAAAAAAAHlAAAAAAADgdUAAAAAAAAB5QAAAAAAA8HVAAAAAAABAWEAAAAAAAOBiQAAAAAAAQFhAAAAAAACAYUAAAAAAAIBYQAAAAAAAgFhAAAAAAABAWEAAAAAAAEBYQAAAAAAAQGJAAAAAAABAXkAAAAAAAABUQAAAAAAAgFZAAAAAAACAWEAAAAAAAIBTQAAAAAAAQFVAAAAAAADAVkAAAAAAAEBwQAAAAAAA4HNAAAAAAADgckAAAAAAAOBsQAAAAAAAAGlAAAAAAAAAaUAAAAAAAIBhQAAAAAAAIGxAAAAAAAAAbUAAAAAAAOBsQAAAAAAAAGlAAAAAAAAgbEAAAAAAACBwQAAAAAAAEHNAAAAAAADgbEAAAAAAAOByQAAAAAAA4HNAAAAAAACAWEAAAAAAAMBgQAAAAAAAwF1AAAAAAABAWkAAAAAAAMBgQAAAAAAAgGNAAAAAAADgYkAAAAAAAMBdQAAAAAAAYGBAAAAAAABgZEAAAAAAAEBeQAAAAAAAYGRAAAAAAABAVkAAAAAAAIBYQAAAAAAA4GxAAAAAAAAAaUAAAAAAAIBhQAAAAAAAAG1AAAAAAAAgbEAAAAAAABBzQAAAAAAA4HJAAAAAAADwdUAAAAAAAOBzQAAAAAAA4HVAAAAAAADwdUAAAAAAALBwQAAAAAAAgHZAAAAAAABAVkAAAAAAAIBVQAAAAAAAgFhAAAAAAABAXkAAAAAAAOBmQAAAAAAA4HVAAAAAAACgYUAAAAAAAEBwQAAAAAAAQFpAAAAAAABAWkAAAAAAAEBVQAAAAAAAwFZAAAAAAADgYkAAAAAAAKBlQAAAAAAAoGVAAAAAAADgYkAAAAAAAIBYQAAAAAAAQFZAAAAAAACAWEAAAAAAAIBVQAAAAAAA4GJAAAAAAACAYUAAAAAAAOBiQAAAAAAAIGxAAAAAAABAWEAAAAAAAMBgQAAAAAAAAF5AAAAAAADAXUAAAAAAAABbQAAAAAAAgFVAAAAAAACAY0AAAAAAAEBVQAAAAAAAgFZAAAAAAACAVkAAAAAAAEBeQAAAAAAAQGJAAAAAAADAVkAAAAAAAEBYQAAAAAAAQFZAAAAAAAAAZUAAAAAAAIBRQAAAAAAAgF5AAAAAAADAWkAAAAAAAOBgQAAAAAAA4GJAAAAAAACAY0AAAAAAAKBlQAAAAAAA4GBAAAAAAADAU0AAAAAAAIBVQAAAAAAAQFRAAAAAAABAWEAAAAAAAEBVQAAAAAAAQFZAAAAAAADAVkAAAAAAAEBaQAAAAAAAgFhAAAAAAACAWEAAAAAAAEBaQAAAAAAAwFpAAAAAAAAAW0AAAAAAAMBdQAAAAAAAAF5AAAAAAACgYUAAAAAAACBiQAAAAAAAAGVAAAAAAABAYkAAAAAAAOBsQAAAAAAA4HVAAAAAAAAAaUAAAAAAACBsQAAAAAAAAFxAAAAAAAAAXEAAAAAAAABcQAAAAAAAAFxAAAAAAADgYEAAAAAAAOBiQAAAAAAAgGFAAAAAAABAWkAAAAAAAMBWQAAAAAAAwFZAAAAAAABAWkAAAAAAAIBYQAAAAAAAAF5AAAAAAADAWkAAAAAAAABbQAAAAAAAwFZAAAAAAADAVkAAAAAAAMBWQAAAAAAAoGZAAAAAAABgcEAAAAAAAIBjQAAAAAAAAG1AAAAAAAAAYkAAAAAAAOBgQAAAAAAA4GJAAAAAAACAYUAAAAAAAEBYQAAAAAAA4GBAAAAAAAAAXkAAAAAAAMBdQA==\",\"dtype\":\"float64\",\"shape\":[392]},\"hp\":[130,165,150,150,140,198,220,215,225,190,170,160,150,225,95,95,97,85,88,46,87,90,95,113,90,215,200,210,193,88,90,95,100,105,100,88,100,165,175,153,150,180,170,175,110,72,100,88,86,90,70,76,65,69,60,70,95,80,54,90,86,165,175,150,153,150,208,155,160,190,97,150,130,140,150,112,76,87,69,86,92,97,80,88,175,150,145,137,150,198,150,158,150,215,225,175,105,100,100,88,95,46,150,167,170,180,100,88,72,94,90,85,107,90,145,230,49,75,91,112,150,110,122,180,95,100,100,67,80,65,75,100,110,105,140,150,150,140,150,83,67,78,52,61,75,75,75,97,93,67,95,105,72,72,170,145,150,148,110,105,110,95,110,110,129,75,83,100,78,96,71,97,97,70,90,95,88,98,115,53,86,81,92,79,83,140,150,120,152,100,105,81,90,52,60,70,53,100,78,110,95,71,70,75,72,102,150,88,108,120,180,145,130,150,68,80,58,96,70,145,110,145,130,110,105,100,98,180,170,190,149,78,88,75,89,63,83,67,78,97,110,110,48,66,52,70,60,110,140,139,105,95,85,88,100,90,105,85,110,120,145,165,139,140,68,95,97,75,95,105,85,97,103,125,115,133,71,68,115,85,88,90,110,130,129,138,135,155,142,125,150,71,65,80,80,77,125,71,90,70,70,65,69,90,115,115,90,76,60,70,65,90,88,90,90,78,90,75,92,75,65,105,65,48,48,67,67,67,67,62,132,100,88,72,84,84,92,110,84,58,64,60,67,65,62,68,63,65,65,74,75,75,100,74,80,76,116,120,110,105,88,85,88,88,88,85,84,90,92,74,68,68,63,70,88,75,70,67,67,67,110,85,92,112,96,84,90,86,52,84,79,82],\"index\":[0,1,2,3,4,5,6,7,8,9,10,11,12,13,14,15,16,17,18,19,20,21,22,23,24,25,26,27,28,29,30,31,32,33,34,35,36,37,38,39,40,41,42,43,44,45,46,47,48,49,50,51,52,53,54,55,56,57,58,59,60,61,62,63,64,65,66,67,68,69,70,71,72,73,74,75,76,77,78,79,80,81,82,83,84,85,86,87,88,89,90,91,92,93,94,95,96,97,98,99,100,101,102,103,104,105,106,107,108,109,110,111,112,113,114,115,116,117,118,119,120,121,122,123,124,125,126,127,128,129,130,131,132,133,134,135,136,137,138,139,140,141,142,143,144,145,146,147,148,149,150,151,152,153,154,155,156,157,158,159,160,161,162,163,164,165,166,167,168,169,170,171,172,173,174,175,176,177,178,179,180,181,182,183,184,185,186,187,188,189,190,191,192,193,194,195,196,197,198,199,200,201,202,203,204,205,206,207,208,209,210,211,212,213,214,215,216,217,218,219,220,221,222,223,224,225,226,227,228,229,230,231,232,233,234,235,236,237,238,239,240,241,242,243,244,245,246,247,248,249,250,251,252,253,254,255,256,257,258,259,260,261,262,263,264,265,266,267,268,269,270,271,272,273,274,275,276,277,278,279,280,281,282,283,284,285,286,287,288,289,290,291,292,293,294,295,296,297,298,299,300,301,302,303,304,305,306,307,308,309,310,311,312,313,314,315,316,317,318,319,320,321,322,323,324,325,326,327,328,329,330,331,332,333,334,335,336,337,338,339,340,341,342,343,344,345,346,347,348,349,350,351,352,353,354,355,356,357,358,359,360,361,362,363,364,365,366,367,368,369,370,371,372,373,374,375,376,377,378,379,380,381,382,383,384,385,386,387,388,389,390,391],\"mpg\":{\"__ndarray__\":\"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\",\"dtype\":\"float64\",\"shape\":[392]},\"name\":[\"chevrolet chevelle malibu\",\"buick skylark 320\",\"plymouth satellite\",\"amc rebel sst\",\"ford torino\",\"ford galaxie 500\",\"chevrolet impala\",\"plymouth fury iii\",\"pontiac catalina\",\"amc ambassador dpl\",\"dodge challenger se\",\"plymouth 'cuda 340\",\"chevrolet monte carlo\",\"buick estate wagon (sw)\",\"toyota corona mark ii\",\"plymouth duster\",\"amc hornet\",\"ford maverick\",\"datsun pl510\",\"volkswagen 1131 deluxe sedan\",\"peugeot 504\",\"audi 100 ls\",\"saab 99e\",\"bmw 2002\",\"amc gremlin\",\"ford f250\",\"chevy c20\",\"dodge d200\",\"hi 1200d\",\"datsun pl510\",\"chevrolet vega 2300\",\"toyota corona\",\"amc gremlin\",\"plymouth satellite custom\",\"chevrolet chevelle malibu\",\"ford torino 500\",\"amc matador\",\"chevrolet impala\",\"pontiac catalina brougham\",\"ford galaxie 500\",\"plymouth fury iii\",\"dodge monaco (sw)\",\"ford country squire (sw)\",\"pontiac safari (sw)\",\"amc hornet sportabout (sw)\",\"chevrolet vega (sw)\",\"pontiac firebird\",\"ford mustang\",\"mercury capri 2000\",\"opel 1900\",\"peugeot 304\",\"fiat 124b\",\"toyota corolla 1200\",\"datsun 1200\",\"volkswagen model 111\",\"plymouth cricket\",\"toyota corona hardtop\",\"dodge colt hardtop\",\"volkswagen type 3\",\"chevrolet vega\",\"ford pinto runabout\",\"chevrolet impala\",\"pontiac catalina\",\"plymouth fury iii\",\"ford galaxie 500\",\"amc ambassador sst\",\"mercury marquis\",\"buick lesabre custom\",\"oldsmobile delta 88 royale\",\"chrysler newport royal\",\"mazda rx2 coupe\",\"amc matador (sw)\",\"chevrolet chevelle concours (sw)\",\"ford gran torino (sw)\",\"plymouth satellite custom (sw)\",\"volvo 145e (sw)\",\"volkswagen 411 (sw)\",\"peugeot 504 (sw)\",\"renault 12 (sw)\",\"ford pinto (sw)\",\"datsun 510 (sw)\",\"toyouta corona mark ii (sw)\",\"dodge colt (sw)\",\"toyota corolla 1600 (sw)\",\"buick century 350\",\"amc matador\",\"chevrolet malibu\",\"ford gran torino\",\"dodge coronet custom\",\"mercury marquis brougham\",\"chevrolet caprice classic\",\"ford ltd\",\"plymouth fury gran sedan\",\"chrysler new yorker brougham\",\"buick electra 225 custom\",\"amc ambassador brougham\",\"plymouth valiant\",\"chevrolet nova custom\",\"amc hornet\",\"ford maverick\",\"plymouth duster\",\"volkswagen super beetle\",\"chevrolet impala\",\"ford country\",\"plymouth custom suburb\",\"oldsmobile vista cruiser\",\"amc gremlin\",\"toyota carina\",\"chevrolet vega\",\"datsun 610\",\"maxda rx3\",\"ford pinto\",\"mercury capri v6\",\"fiat 124 sport coupe\",\"chevrolet monte carlo s\",\"pontiac grand prix\",\"fiat 128\",\"opel manta\",\"audi 100ls\",\"volvo 144ea\",\"dodge dart custom\",\"saab 99le\",\"toyota mark ii\",\"oldsmobile omega\",\"plymouth duster\",\"amc hornet\",\"chevrolet nova\",\"datsun b210\",\"ford pinto\",\"toyota corolla 1200\",\"chevrolet vega\",\"chevrolet chevelle malibu classic\",\"amc matador\",\"plymouth satellite sebring\",\"ford gran torino\",\"buick century luxus (sw)\",\"dodge coronet custom (sw)\",\"ford gran torino (sw)\",\"amc matador (sw)\",\"audi fox\",\"volkswagen dasher\",\"opel manta\",\"toyota corona\",\"datsun 710\",\"dodge colt\",\"fiat 128\",\"fiat 124 tc\",\"honda civic\",\"subaru\",\"fiat x1.9\",\"plymouth valiant custom\",\"chevrolet nova\",\"mercury monarch\",\"ford maverick\",\"pontiac catalina\",\"chevrolet bel air\",\"plymouth grand fury\",\"ford ltd\",\"buick century\",\"chevroelt chevelle malibu\",\"amc matador\",\"plymouth fury\",\"buick skyhawk\",\"chevrolet monza 2+2\",\"ford mustang ii\",\"toyota corolla\",\"ford pinto\",\"amc gremlin\",\"pontiac astro\",\"toyota corona\",\"volkswagen dasher\",\"datsun 710\",\"ford pinto\",\"volkswagen rabbit\",\"amc pacer\",\"audi 100ls\",\"peugeot 504\",\"volvo 244dl\",\"saab 99le\",\"honda civic cvcc\",\"fiat 131\",\"opel 1900\",\"capri ii\",\"dodge colt\",\"renault 12tl\",\"chevrolet chevelle malibu classic\",\"dodge coronet brougham\",\"amc matador\",\"ford gran torino\",\"plymouth valiant\",\"chevrolet nova\",\"ford maverick\",\"amc hornet\",\"chevrolet chevette\",\"chevrolet woody\",\"vw rabbit\",\"honda civic\",\"dodge aspen se\",\"ford granada ghia\",\"pontiac ventura sj\",\"amc pacer d/l\",\"volkswagen rabbit\",\"datsun b-210\",\"toyota corolla\",\"ford pinto\",\"volvo 245\",\"plymouth volare premier v8\",\"peugeot 504\",\"toyota mark ii\",\"mercedes-benz 280s\",\"cadillac seville\",\"chevy c10\",\"ford f108\",\"dodge d100\",\"honda accord cvcc\",\"buick opel isuzu deluxe\",\"renault 5 gtl\",\"plymouth arrow gs\",\"datsun f-10 hatchback\",\"chevrolet caprice classic\",\"oldsmobile cutlass supreme\",\"dodge monaco brougham\",\"mercury cougar brougham\",\"chevrolet concours\",\"buick skylark\",\"plymouth volare custom\",\"ford granada\",\"pontiac grand prix lj\",\"chevrolet monte carlo landau\",\"chrysler cordoba\",\"ford thunderbird\",\"volkswagen rabbit custom\",\"pontiac sunbird coupe\",\"toyota corolla liftback\",\"ford mustang ii 2+2\",\"chevrolet chevette\",\"dodge colt m/m\",\"subaru dl\",\"volkswagen dasher\",\"datsun 810\",\"bmw 320i\",\"mazda rx-4\",\"volkswagen rabbit custom diesel\",\"ford fiesta\",\"mazda glc deluxe\",\"datsun b210 gx\",\"honda civic cvcc\",\"oldsmobile cutlass salon brougham\",\"dodge diplomat\",\"mercury monarch ghia\",\"pontiac phoenix lj\",\"chevrolet malibu\",\"ford fairmont (auto)\",\"ford fairmont (man)\",\"plymouth volare\",\"amc concord\",\"buick century special\",\"mercury zephyr\",\"dodge aspen\",\"amc concord d/l\",\"chevrolet monte carlo landau\",\"buick regal sport coupe (turbo)\",\"ford futura\",\"dodge magnum xe\",\"chevrolet chevette\",\"toyota corona\",\"datsun 510\",\"dodge omni\",\"toyota celica gt liftback\",\"plymouth sapporo\",\"oldsmobile starfire sx\",\"datsun 200-sx\",\"audi 5000\",\"volvo 264gl\",\"saab 99gle\",\"peugeot 604sl\",\"volkswagen scirocco\",\"honda accord lx\",\"pontiac lemans v6\",\"mercury zephyr 6\",\"ford fairmont 4\",\"amc concord dl 6\",\"dodge aspen 6\",\"chevrolet caprice classic\",\"ford ltd landau\",\"mercury grand marquis\",\"dodge st. regis\",\"buick estate wagon (sw)\",\"ford country squire (sw)\",\"chevrolet malibu classic (sw)\",\"chrysler lebaron town @ country (sw)\",\"vw rabbit custom\",\"maxda glc deluxe\",\"dodge colt hatchback custom\",\"amc spirit dl\",\"mercedes benz 300d\",\"cadillac eldorado\",\"peugeot 504\",\"oldsmobile cutlass salon brougham\",\"plymouth horizon\",\"plymouth horizon tc3\",\"datsun 210\",\"fiat strada custom\",\"buick skylark limited\",\"chevrolet citation\",\"oldsmobile omega brougham\",\"pontiac phoenix\",\"vw rabbit\",\"toyota corolla tercel\",\"chevrolet chevette\",\"datsun 310\",\"chevrolet citation\",\"ford fairmont\",\"amc concord\",\"dodge aspen\",\"audi 4000\",\"toyota corona liftback\",\"mazda 626\",\"datsun 510 hatchback\",\"toyota corolla\",\"mazda glc\",\"dodge colt\",\"datsun 210\",\"vw rabbit c (diesel)\",\"vw dasher (diesel)\",\"audi 5000s (diesel)\",\"mercedes-benz 240d\",\"honda civic 1500 gl\",\"subaru dl\",\"vokswagen rabbit\",\"datsun 280-zx\",\"mazda rx-7 gs\",\"triumph tr7 coupe\",\"honda accord\",\"plymouth reliant\",\"buick skylark\",\"dodge aries wagon (sw)\",\"chevrolet citation\",\"plymouth reliant\",\"toyota starlet\",\"plymouth champ\",\"honda civic 1300\",\"subaru\",\"datsun 210 mpg\",\"toyota tercel\",\"mazda glc 4\",\"plymouth horizon 4\",\"ford escort 4w\",\"ford escort 2h\",\"volkswagen jetta\",\"honda prelude\",\"toyota corolla\",\"datsun 200sx\",\"mazda 626\",\"peugeot 505s turbo diesel\",\"volvo diesel\",\"toyota cressida\",\"datsun 810 maxima\",\"buick century\",\"oldsmobile cutlass ls\",\"ford granada gl\",\"chrysler lebaron salon\",\"chevrolet cavalier\",\"chevrolet cavalier wagon\",\"chevrolet cavalier 2-door\",\"pontiac j2000 se hatchback\",\"dodge aries se\",\"pontiac phoenix\",\"ford fairmont futura\",\"volkswagen rabbit l\",\"mazda glc custom l\",\"mazda glc custom\",\"plymouth horizon miser\",\"mercury lynx l\",\"nissan stanza xe\",\"honda accord\",\"toyota corolla\",\"honda civic\",\"honda civic (auto)\",\"datsun 310 gx\",\"buick century limited\",\"oldsmobile cutlass ciera (diesel)\",\"chrysler lebaron medallion\",\"ford granada l\",\"toyota celica gt\",\"dodge charger 2.2\",\"chevrolet camaro\",\"ford mustang gl\",\"vw pickup\",\"dodge rampage\",\"ford ranger\",\"chevy s-10\"],\"origin\":[\"1\",\"1\",\"1\",\"1\",\"1\",\"1\",\"1\",\"1\",\"1\",\"1\",\"1\",\"1\",\"1\",\"1\",\"3\",\"1\",\"1\",\"1\",\"3\",\"2\",\"2\",\"2\",\"2\",\"2\",\"1\",\"1\",\"1\",\"1\",\"1\",\"3\",\"1\",\"3\",\"1\",\"1\",\"1\",\"1\",\"1\",\"1\",\"1\",\"1\",\"1\",\"1\",\"1\",\"1\",\"1\",\"1\",\"1\",\"1\",\"1\",\"2\",\"2\",\"2\",\"3\",\"3\",\"2\",\"1\",\"3\",\"1\",\"2\",\"1\",\"1\",\"1\",\"1\",\"1\",\"1\",\"1\",\"1\",\"1\",\"1\",\"1\",\"3\",\"1\",\"1\",\"1\",\"1\",\"2\",\"2\",\"2\",\"2\",\"1\",\"3\",\"3\",\"1\",\"3\",\"1\",\"1\",\"1\",\"1\",\"1\",\"1\",\"1\",\"1\",\"1\",\"1\",\"1\",\"1\",\"1\",\"1\",\"1\",\"1\",\"1\",\"2\",\"1\",\"1\",\"1\",\"1\",\"1\",\"3\",\"1\",\"3\",\"3\",\"1\",\"1\",\"2\",\"1\",\"1\",\"2\",\"2\",\"2\",\"2\",\"1\",\"2\",\"3\",\"1\",\"1\",\"1\",\"1\",\"3\",\"1\",\"3\",\"1\",\"1\",\"1\",\"1\",\"1\",\"1\",\"1\",\"1\",\"1\",\"2\",\"2\",\"2\",\"3\",\"3\",\"1\",\"2\",\"2\",\"3\",\"3\",\"2\",\"1\",\"1\",\"1\",\"1\",\"1\",\"1\",\"1\",\"1\",\"1\",\"1\",\"1\",\"1\",\"1\",\"1\",\"1\",\"3\",\"1\",\"1\",\"1\",\"3\",\"2\",\"3\",\"1\",\"2\",\"1\",\"2\",\"2\",\"2\",\"2\",\"3\",\"2\",\"2\",\"1\",\"1\",\"2\",\"1\",\"1\",\"1\",\"1\",\"1\",\"1\",\"1\",\"1\",\"1\",\"1\",\"2\",\"3\",\"1\",\"1\",\"1\",\"1\",\"2\",\"3\",\"3\",\"1\",\"2\",\"1\",\"2\",\"3\",\"2\",\"1\",\"1\",\"1\",\"1\",\"3\",\"1\",\"2\",\"1\",\"3\",\"1\",\"1\",\"1\",\"1\",\"1\",\"1\",\"1\",\"1\",\"1\",\"1\",\"1\",\"1\",\"2\",\"1\",\"3\",\"1\",\"1\",\"1\",\"3\",\"2\",\"3\",\"2\",\"3\",\"2\",\"1\",\"3\",\"3\",\"3\",\"1\",\"1\",\"1\",\"1\",\"1\",\"1\",\"1\",\"1\",\"1\",\"1\",\"1\",\"1\",\"1\",\"1\",\"1\",\"1\",\"1\",\"1\",\"3\",\"3\",\"1\",\"3\",\"1\",\"1\",\"3\",\"2\",\"2\",\"2\",\"2\",\"2\",\"3\",\"1\",\"1\",\"1\",\"1\",\"1\",\"1\",\"1\",\"1\",\"1\",\"1\",\"1\",\"1\",\"1\",\"2\",\"3\",\"1\",\"1\",\"2\",\"1\",\"2\",\"1\",\"1\",\"1\",\"3\",\"2\",\"1\",\"1\",\"1\",\"1\",\"2\",\"3\",\"1\",\"3\",\"1\",\"1\",\"1\",\"1\",\"2\",\"3\",\"3\",\"3\",\"3\",\"3\",\"1\",\"3\",\"2\",\"2\",\"2\",\"2\",\"3\",\"3\",\"2\",\"3\",\"3\",\"2\",\"3\",\"1\",\"1\",\"1\",\"1\",\"1\",\"3\",\"1\",\"3\",\"3\",\"3\",\"3\",\"3\",\"1\",\"1\",\"1\",\"2\",\"3\",\"3\",\"3\",\"3\",\"2\",\"2\",\"3\",\"3\",\"1\",\"1\",\"1\",\"1\",\"1\",\"1\",\"1\",\"1\",\"1\",\"1\",\"1\",\"2\",\"3\",\"3\",\"1\",\"1\",\"3\",\"3\",\"3\",\"3\",\"3\",\"3\",\"1\",\"1\",\"1\",\"1\",\"3\",\"1\",\"1\",\"1\",\"2\",\"1\",\"1\",\"1\"],\"weight\":[3504,3693,3436,3433,3449,4341,4354,4312,4425,3850,3563,3609,3761,3086,2372,2833,2774,2587,2130,1835,2672,2430,2375,2234,2648,4615,4376,4382,4732,2130,2264,2228,2634,3439,3329,3302,3288,4209,4464,4154,4096,4955,4746,5140,2962,2408,3282,3139,2220,2123,2074,2065,1773,1613,1834,1955,2278,2126,2254,2408,2226,4274,4385,4135,4129,3672,4633,4502,4456,4422,2330,3892,4098,4294,4077,2933,2511,2979,2189,2395,2288,2506,2164,2100,4100,3672,3988,4042,3777,4952,4464,4363,4237,4735,4951,3821,3121,3278,2945,3021,2904,1950,4997,4906,4654,4499,2789,2279,2401,2379,2124,2310,2472,2265,4082,4278,1867,2158,2582,2868,3399,2660,2807,3664,3102,2901,3336,1950,2451,1836,2542,3781,3632,3613,4141,4699,4457,4638,4257,2219,1963,2300,1649,2003,2125,2108,2246,2489,2391,2000,3264,3459,3432,3158,4668,4440,4498,4657,3907,3897,3730,3785,3039,3221,3169,2171,2639,2914,2592,2702,2223,2545,2984,1937,3211,2694,2957,2945,2671,1795,2464,2220,2572,2255,2202,4215,4190,3962,4215,3233,3353,3012,3085,2035,2164,1937,1795,3651,3574,3645,3193,1825,1990,2155,2565,3150,3940,3270,2930,3820,4380,4055,3870,3755,2045,2155,1825,2300,1945,3880,4060,4140,4295,3520,3425,3630,3525,4220,4165,4325,4335,1940,2740,2265,2755,2051,2075,1985,2190,2815,2600,2720,1985,1800,1985,2070,1800,3365,3735,3570,3535,3155,2965,2720,3430,3210,3380,3070,3620,3410,3425,3445,3205,4080,2155,2560,2300,2230,2515,2745,2855,2405,2830,3140,2795,3410,1990,2135,3245,2990,2890,3265,3360,3840,3725,3955,3830,4360,4054,3605,3940,1925,1975,1915,2670,3530,3900,3190,3420,2200,2150,2020,2130,2670,2595,2700,2556,2144,1968,2120,2019,2678,2870,3003,3381,2188,2711,2542,2434,2265,2110,2800,2110,2085,2335,2950,3250,1850,2145,1845,2910,2420,2500,2290,2490,2635,2620,2725,2385,1755,1875,1760,2065,1975,2050,1985,2215,2045,2380,2190,2210,2350,2615,2635,3230,3160,2900,2930,3415,3725,3060,3465,2605,2640,2395,2575,2525,2735,2865,1980,2025,1970,2125,2125,2160,2205,2245,1965,1965,1995,2945,3015,2585,2835,2665,2370,2950,2790,2130,2295,2625,2720],\"yr\":[70,70,70,70,70,70,70,70,70,70,70,70,70,70,70,70,70,70,70,70,70,70,70,70,70,70,70,70,70,71,71,71,71,71,71,71,71,71,71,71,71,71,71,71,71,71,71,71,71,71,71,71,71,71,71,71,72,72,72,72,72,72,72,72,72,72,72,72,72,72,72,72,72,72,72,72,72,72,72,72,72,72,72,72,73,73,73,73,73,73,73,73,73,73,73,73,73,73,73,73,73,73,73,73,73,73,73,73,73,73,73,73,73,73,73,73,73,73,73,73,73,73,73,73,74,74,74,74,74,74,74,74,74,74,74,74,74,74,74,74,74,74,74,74,74,74,74,74,74,74,75,75,75,75,75,75,75,75,75,75,75,75,75,75,75,75,75,75,75,75,75,75,75,75,75,75,75,75,75,75,76,76,76,76,76,76,76,76,76,76,76,76,76,76,76,76,76,76,76,76,76,76,76,76,76,76,76,76,76,76,76,76,76,76,77,77,77,77,77,77,77,77,77,77,77,77,77,77,77,77,77,77,77,77,77,77,77,77,77,77,77,77,78,78,78,78,78,78,78,78,78,78,78,78,78,78,78,78,78,78,78,78,78,78,78,78,78,78,78,78,78,78,78,78,78,78,78,78,79,79,79,79,79,79,79,79,79,79,79,79,79,79,79,79,79,79,79,79,79,79,79,79,79,79,79,79,79,80,80,80,80,80,80,80,80,80,80,80,80,80,80,80,80,80,80,80,80,80,80,80,80,80,80,80,81,81,81,81,81,81,81,81,81,81,81,81,81,81,81,81,81,81,81,81,81,81,81,81,81,81,81,81,82,82,82,82,82,82,82,82,82,82,82,82,82,82,82,82,82,82,82,82,82,82,82,82,82,82,82,82,82,82]},\"selected\":null,\"selection_policy\":null},\"id\":\"4ea9b55d-3be3-4301-a5d3-3671d93c5f82\",\"type\":\"ColumnDataSource\"},{\"attributes\":{\"overlay\":{\"id\":\"06f1e1e2-0f45-4aa2-8300-35a6b2f72be2\",\"type\":\"BoxAnnotation\"}},\"id\":\"3b44b9f0-3a36-431c-b521-22f0a39aacd3\",\"type\":\"BoxZoomTool\"},{\"attributes\":{\"callback\":null},\"id\":\"167b031f-385d-43de-949f-02a6e750cc03\",\"type\":\"DataRange1d\"},{\"attributes\":{},\"id\":\"4fa9b2b3-964b-441c-9112-a8674b80c3bf\",\"type\":\"SaveTool\"},{\"attributes\":{},\"id\":\"e936c90c-e8e0-43f0-8e68-e584c9ed2ee7\",\"type\":\"LinearScale\"},{\"attributes\":{},\"id\":\"12a047f6-0725-4e91-b8b0-4be8e49b8212\",\"type\":\"ResetTool\"},{\"attributes\":{},\"id\":\"1198ec0f-993b-4999-a3f7-88b0ee9097e9\",\"type\":\"LinearScale\"},{\"attributes\":{},\"id\":\"5e102221-5ac7-4a23-8dcc-5ae3226ee4b4\",\"type\":\"HelpTool\"},{\"attributes\":{\"plot\":{\"id\":\"546fc256-0d6c-47a3-8a5c-67416d864a67\",\"subtype\":\"Figure\",\"type\":\"Plot\"},\"ticker\":{\"id\":\"17b046de-1f99-4410-a1ee-a0c4d799ef6b\",\"type\":\"BasicTicker\"}},\"id\":\"08063bd7-f4c5-4713-a506-3006b93d0c19\",\"type\":\"Grid\"},{\"attributes\":{\"label\":{\"field\":\"origin\"},\"renderers\":[{\"id\":\"78e8d1a1-bf74-42f5-9127-138f46f9d60c\",\"type\":\"GlyphRenderer\"}]},\"id\":\"f3dea915-dd0c-46a5-a242-4a57f9cf9ade\",\"type\":\"LegendItem\"},{\"attributes\":{\"formatter\":{\"id\":\"77cb3d24-266b-4f70-95b8-1b2082639e88\",\"type\":\"BasicTickFormatter\"},\"plot\":{\"id\":\"546fc256-0d6c-47a3-8a5c-67416d864a67\",\"subtype\":\"Figure\",\"type\":\"Plot\"},\"ticker\":{\"id\":\"17b046de-1f99-4410-a1ee-a0c4d799ef6b\",\"type\":\"BasicTicker\"}},\"id\":\"3e797ac6-081a-4e1c-a543-456bf855cc4b\",\"type\":\"LinearAxis\"},{\"attributes\":{},\"id\":\"17b046de-1f99-4410-a1ee-a0c4d799ef6b\",\"type\":\"BasicTicker\"},{\"attributes\":{\"source\":{\"id\":\"4ea9b55d-3be3-4301-a5d3-3671d93c5f82\",\"type\":\"ColumnDataSource\"}},\"id\":\"d3dc081c-b3dd-4378-8aff-78ec35fc347e\",\"type\":\"CDSView\"},{\"attributes\":{\"formatter\":{\"id\":\"d8a85c25-7fe3-42c5-a51b-d67cab6e0c82\",\"type\":\"BasicTickFormatter\"},\"plot\":{\"id\":\"546fc256-0d6c-47a3-8a5c-67416d864a67\",\"subtype\":\"Figure\",\"type\":\"Plot\"},\"ticker\":{\"id\":\"454d0b14-cf6f-4eb2-89d6-52289a964f52\",\"type\":\"BasicTicker\"}},\"id\":\"a9090942-a50c-45ba-bac9-a6e57f1737e0\",\"type\":\"LinearAxis\"},{\"attributes\":{\"below\":[{\"id\":\"3e797ac6-081a-4e1c-a543-456bf855cc4b\",\"type\":\"LinearAxis\"}],\"left\":[{\"id\":\"a9090942-a50c-45ba-bac9-a6e57f1737e0\",\"type\":\"LinearAxis\"}],\"renderers\":[{\"id\":\"3e797ac6-081a-4e1c-a543-456bf855cc4b\",\"type\":\"LinearAxis\"},{\"id\":\"08063bd7-f4c5-4713-a506-3006b93d0c19\",\"type\":\"Grid\"},{\"id\":\"a9090942-a50c-45ba-bac9-a6e57f1737e0\",\"type\":\"LinearAxis\"},{\"id\":\"fc6afec7-7697-4cc2-bc6b-285dcf840895\",\"type\":\"Grid\"},{\"id\":\"06f1e1e2-0f45-4aa2-8300-35a6b2f72be2\",\"type\":\"BoxAnnotation\"},{\"id\":\"cb407d60-11a6-43be-882c-dc8e16776e9c\",\"type\":\"Legend\"},{\"id\":\"78e8d1a1-bf74-42f5-9127-138f46f9d60c\",\"type\":\"GlyphRenderer\"}],\"title\":{\"id\":\"5856a753-948c-4610-bf57-e222ffe7a6f0\",\"type\":\"Title\"},\"toolbar\":{\"id\":\"b52bc69e-aee3-4c2f-964a-bffba2fe65c9\",\"type\":\"Toolbar\"},\"x_range\":{\"id\":\"6cf576c8-5ddd-43e4-b0af-1b7a174921db\",\"type\":\"DataRange1d\"},\"x_scale\":{\"id\":\"e936c90c-e8e0-43f0-8e68-e584c9ed2ee7\",\"type\":\"LinearScale\"},\"y_range\":{\"id\":\"167b031f-385d-43de-949f-02a6e750cc03\",\"type\":\"DataRange1d\"},\"y_scale\":{\"id\":\"1198ec0f-993b-4999-a3f7-88b0ee9097e9\",\"type\":\"LinearScale\"}},\"id\":\"546fc256-0d6c-47a3-8a5c-67416d864a67\",\"subtype\":\"Figure\",\"type\":\"Plot\"},{\"attributes\":{},\"id\":\"454d0b14-cf6f-4eb2-89d6-52289a964f52\",\"type\":\"BasicTicker\"}],\"root_ids\":[\"546fc256-0d6c-47a3-8a5c-67416d864a67\"]},\"title\":\"Bokeh Application\",\"version\":\"0.12.15\"}};\n",
       "  var render_items = [{\"docid\":\"b3cee376-099e-4c12-b7ad-275babf8412e\",\"elementid\":\"69456104-fe61-4d0b-b991-22c6514db60d\",\"modelid\":\"546fc256-0d6c-47a3-8a5c-67416d864a67\"}];\n",
       "  root.Bokeh.embed.embed_items_notebook(docs_json, render_items);\n",
       "\n",
       "  }\n",
       "  if (root.Bokeh !== undefined) {\n",
       "    embed_document(root);\n",
       "  } else {\n",
       "    var attempts = 0;\n",
       "    var timer = setInterval(function(root) {\n",
       "      if (root.Bokeh !== undefined) {\n",
       "        embed_document(root);\n",
       "        clearInterval(timer);\n",
       "      }\n",
       "      attempts++;\n",
       "      if (attempts > 100) {\n",
       "        console.log(\"Bokeh: ERROR: Unable to run BokehJS code because BokehJS library is missing\")\n",
       "        clearInterval(timer);\n",
       "      }\n",
       "    }, 10, root)\n",
       "  }\n",
       "})(window);"
      ],
      "application/vnd.bokehjs_exec.v0+json": ""
     },
     "metadata": {
      "application/vnd.bokehjs_exec.v0+json": {
       "id": "546fc256-0d6c-47a3-8a5c-67416d864a67"
      }
     },
     "output_type": "display_data"
    }
   ],
   "source": [
    "p = figure()\n",
    "p.circle('weight', 'mpg', source = source,\n",
    "        color = {'field': 'origin', 'transform': color_mapper},\n",
    "        legend = 'origin')\n",
    "show(p)"
   ]
  },
  {
   "cell_type": "code",
   "execution_count": 54,
   "metadata": {},
   "outputs": [
    {
     "data": {
      "text/html": [
       "<div>\n",
       "<style scoped>\n",
       "    .dataframe tbody tr th:only-of-type {\n",
       "        vertical-align: middle;\n",
       "    }\n",
       "\n",
       "    .dataframe tbody tr th {\n",
       "        vertical-align: top;\n",
       "    }\n",
       "\n",
       "    .dataframe thead th {\n",
       "        text-align: right;\n",
       "    }\n",
       "</style>\n",
       "<table border=\"1\" class=\"dataframe\">\n",
       "  <thead>\n",
       "    <tr style=\"text-align: right;\">\n",
       "      <th></th>\n",
       "      <th>Name</th>\n",
       "      <th>Country</th>\n",
       "      <th>Medal</th>\n",
       "      <th>Time</th>\n",
       "      <th>Year</th>\n",
       "    </tr>\n",
       "  </thead>\n",
       "  <tbody>\n",
       "    <tr>\n",
       "      <th>0</th>\n",
       "      <td>Usain Bolt</td>\n",
       "      <td>JAM</td>\n",
       "      <td>GOLD</td>\n",
       "      <td>9.63</td>\n",
       "      <td>2012</td>\n",
       "    </tr>\n",
       "    <tr>\n",
       "      <th>1</th>\n",
       "      <td>Yohan Blake</td>\n",
       "      <td>JAM</td>\n",
       "      <td>SILVER</td>\n",
       "      <td>9.75</td>\n",
       "      <td>2012</td>\n",
       "    </tr>\n",
       "    <tr>\n",
       "      <th>2</th>\n",
       "      <td>Justin Gatlin</td>\n",
       "      <td>USA</td>\n",
       "      <td>BRONZE</td>\n",
       "      <td>9.79</td>\n",
       "      <td>2012</td>\n",
       "    </tr>\n",
       "    <tr>\n",
       "      <th>3</th>\n",
       "      <td>Usain Bolt</td>\n",
       "      <td>JAM</td>\n",
       "      <td>GOLD</td>\n",
       "      <td>9.69</td>\n",
       "      <td>2008</td>\n",
       "    </tr>\n",
       "    <tr>\n",
       "      <th>4</th>\n",
       "      <td>Richard Thompson</td>\n",
       "      <td>TRI</td>\n",
       "      <td>SILVER</td>\n",
       "      <td>9.89</td>\n",
       "      <td>2008</td>\n",
       "    </tr>\n",
       "  </tbody>\n",
       "</table>\n",
       "</div>"
      ],
      "text/plain": [
       "               Name Country   Medal  Time  Year\n",
       "0        Usain Bolt     JAM    GOLD  9.63  2012\n",
       "1       Yohan Blake     JAM  SILVER  9.75  2012\n",
       "2     Justin Gatlin     USA  BRONZE  9.79  2012\n",
       "3        Usain Bolt     JAM    GOLD  9.69  2008\n",
       "4  Richard Thompson     TRI  SILVER  9.89  2008"
      ]
     },
     "execution_count": 54,
     "metadata": {},
     "output_type": "execute_result"
    }
   ],
   "source": [
    "fileData = pd.read_csv(\"100m.csv\")\n",
    "fileData.drop('color', axis = 1, inplace = True)\n",
    "fileData.head()"
   ]
  },
  {
   "cell_type": "code",
   "execution_count": 55,
   "metadata": {},
   "outputs": [
    {
     "data": {
      "text/html": [
       "\n",
       "<div class=\"bk-root\">\n",
       "    <div class=\"bk-plotdiv\" id=\"81cccb6c-c5cc-4c07-99ca-e3c660b0801f\"></div>\n",
       "</div>"
      ]
     },
     "metadata": {},
     "output_type": "display_data"
    },
    {
     "data": {
      "application/javascript": [
       "(function(root) {\n",
       "  function embed_document(root) {\n",
       "    \n",
       "  var docs_json = {\"9cbf8024-e872-488e-ad15-1164ce7c1fcd\":{\"roots\":{\"references\":[{\"attributes\":{},\"id\":\"df5a5b45-5cb3-4665-a709-e0a859153003\",\"type\":\"BasicTickFormatter\"},{\"attributes\":{\"bottom_units\":\"screen\",\"fill_alpha\":{\"value\":0.5},\"fill_color\":{\"value\":\"lightgrey\"},\"left_units\":\"screen\",\"level\":\"overlay\",\"line_alpha\":{\"value\":1.0},\"line_color\":{\"value\":\"black\"},\"line_dash\":[4,4],\"line_width\":{\"value\":2},\"plot\":null,\"render_mode\":\"css\",\"right_units\":\"screen\",\"top_units\":\"screen\"},\"id\":\"ba867425-2e96-40d6-8d8b-f58e7e3e279c\",\"type\":\"BoxAnnotation\"},{\"attributes\":{},\"id\":\"b3e3509a-2bdb-40de-af1b-c7e5395538fb\",\"type\":\"LinearScale\"},{\"attributes\":{},\"id\":\"642548d0-9f00-4b01-8b9a-02bd4dbf13d2\",\"type\":\"ResetTool\"},{\"attributes\":{\"callback\":null},\"id\":\"54db5e74-adb0-48ad-9e46-5d7b702664a3\",\"type\":\"DataRange1d\"},{\"attributes\":{\"items\":[{\"id\":\"1f960367-d8aa-4241-ade3-ac1b10e43b8d\",\"type\":\"LegendItem\"}],\"plot\":{\"id\":\"80d72dc7-ccb9-4a24-8146-cda592ae9795\",\"subtype\":\"Figure\",\"type\":\"Plot\"}},\"id\":\"4765fea2-1578-473f-9d78-4a2f6b5e0aad\",\"type\":\"Legend\"},{\"attributes\":{},\"id\":\"36d28a32-12d7-48e0-b8de-8449b7b35975\",\"type\":\"HelpTool\"},{\"attributes\":{\"formatter\":{\"id\":\"df5a5b45-5cb3-4665-a709-e0a859153003\",\"type\":\"BasicTickFormatter\"},\"plot\":{\"id\":\"80d72dc7-ccb9-4a24-8146-cda592ae9795\",\"subtype\":\"Figure\",\"type\":\"Plot\"},\"ticker\":{\"id\":\"cefd1d29-bdb9-478d-93c5-a3ae27466260\",\"type\":\"BasicTicker\"}},\"id\":\"dcd1cebc-a4e5-4faf-8da5-50bbcfae9bd4\",\"type\":\"LinearAxis\"},{\"attributes\":{\"plot\":null,\"text\":\"\"},\"id\":\"48d6136a-1fd9-450b-a8dd-5147464ce386\",\"type\":\"Title\"},{\"attributes\":{},\"id\":\"cefd1d29-bdb9-478d-93c5-a3ae27466260\",\"type\":\"BasicTicker\"},{\"attributes\":{\"fill_alpha\":{\"value\":0.1},\"fill_color\":{\"value\":\"#1f77b4\"},\"line_alpha\":{\"value\":0.1},\"line_color\":{\"value\":\"#1f77b4\"},\"size\":{\"units\":\"screen\",\"value\":8},\"x\":{\"field\":\"Year\"},\"y\":{\"field\":\"Time\"}},\"id\":\"dc8f3492-b1b4-4d1a-847f-7208f8475b30\",\"type\":\"Circle\"},{\"attributes\":{\"plot\":{\"id\":\"80d72dc7-ccb9-4a24-8146-cda592ae9795\",\"subtype\":\"Figure\",\"type\":\"Plot\"},\"ticker\":{\"id\":\"cefd1d29-bdb9-478d-93c5-a3ae27466260\",\"type\":\"BasicTicker\"}},\"id\":\"8b5c1d5a-3bd4-48c4-8c1b-b1ab7e3bb2ef\",\"type\":\"Grid\"},{\"attributes\":{\"callback\":null,\"column_names\":[\"Name\",\"Country\",\"Medal\",\"Time\",\"Year\",\"index\"],\"data\":{\"Country\":[\"JAM\",\"JAM\",\"USA\",\"JAM\",\"TRI\",\"USA\",\"USA\",\"POR\",\"USA\",\"USA\",\"TRI\",\"BAR\",\"CAN\",\"NAM\",\"TRI\",\"GBR\",\"NAM\",\"USA\",\"USA\",\"GBR\",\"USA\",\"USA\",\"USA\",\"CAN\",\"GBR\",\"CUB\",\"BUL\",\"TRI\",\"JAM\",\"URS\",\"URS\",\"USA\",\"JAM\",\"USA\",\"JAM\",\"USA\",\"USA\",\"CUB\",\"CAN\",\"EUA\",\"USA\",\"GBR\",\"USA\",\"USA\",\"AUS\",\"USA\",\"JAM\",\"GBR\",\"USA\",\"USA\",\"PAN\",\"USA\",\"USA\",\"NED\",\"USA\",\"USA\",\"GER\",\"CAN\",\"GBR\",\"GER\",\"GBR\",\"USA\",\"NZL\",\"USA\",\"USA\",\"GBR\",\"USA\",\"USA\",\"USA\",\"RSA\",\"USA\",\"CAN\",\"USA\",\"USA\",\"AUS\",\"USA\",\"USA\",\"USA\",\"USA\",\"USA\",\"AUS\",\"USA\",\"GER\",\"HUN\",\"USA\"],\"Medal\":[\"GOLD\",\"SILVER\",\"BRONZE\",\"GOLD\",\"SILVER\",\"BRONZE\",\"GOLD\",\"SILVER\",\"BRONZE\",\"GOLD\",\"SILVER\",\"BRONZE\",\"GOLD\",\"SILVER\",\"BRONZE\",\"GOLD\",\"SILVER\",\"BRONZE\",\"GOLD\",\"SILVER\",\"BRONZE\",\"GOLD\",\"SILVER\",\"BRONZE\",\"GOLD\",\"SILVER\",\"BRONZE\",\"GOLD\",\"SILVER\",\"BRONZE\",\"GOLD\",\"SILVER\",\"BRONZE\",\"GOLD\",\"SILVER\",\"BRONZE\",\"GOLD\",\"SILVER\",\"BRONZE\",\"GOLD\",\"SILVER\",\"BRONZE\",\"GOLD\",\"SILVER\",\"BRONZE\",\"GOLD\",\"SILVER\",\"BRONZE\",\"GOLD\",\"SILVER\",\"BRONZE\",\"GOLD\",\"SILVER\",\"BRONZE\",\"GOLD\",\"SILVER\",\"BRONZE\",\"GOLD\",\"SILVER\",\"BRONZE\",\"GOLD\",\"SILVER\",\"BRONZE\",\"GOLD\",\"SILVER\",\"BRONZE\",\"GOLD\",\"SILVER\",\"BRONZE\",\"GOLD\",\"SILVER\",\"BRONZE\",\"GOLD\",\"SILVER\",\"BRONZE\",\"GOLD\",\"SILVER\",\"BRONZE\",\"GOLD\",\"SILVER\",\"BRONZE\",\"GOLD\",\"SILVER\",\"BRONZE\",\"BRONZE\"],\"Name\":[\"Usain Bolt\",\"Yohan Blake\",\"Justin Gatlin\",\"Usain Bolt\",\"Richard Thompson\",\"Walter Dix\",\"Justin Gatlin\",\"Francis Obikwelu\",\"Maurice Greene\",\"Maurice Greene\",\"Ato Boldon\",\"Obadele Thompson\",\"Donovan Bailey\",\"Frankie Fredericks\",\"Ato Boldon\",\"Linford Christie\",\"Frankie Fredericks\",\"Dennis Mitchell\",\"Carl Lewis\",\"Linford Christie\",\"Calvin Smith\",\"Carl Lewis\",\"Sam Graddy\",\"Ben Johnson\",\"Allan Wells\",\"Silvio Leonard Tartabull\",\"Petar Petrov\",\"Hasely Crawford\",\"Donald Quarrie\",\"Valery Borzov\",\"Valery Borzov\",\"Robert Taylor\",\"Lennox Miller\",\"Jim Hines\",\"Lennox Miller\",\"Charles Greene\",\"Bob Hayes\",\"Enrique Figuerola Camue\",\"Harry Jerome\",\"Armin Hary\",\"David Sime\",\"Peter Radford\",\"Bobby Joe Morrow\",\"W. Thane Baker\",\"Hector Hogan\",\"Lindy Remigino\",\"Herbert McKenley\",\"E. McDonald Bailey\",\"W. Harrison Dillard\",\"H. Norwood \\\"Barney\\\" Ewell\",\"Lloyd LaBeach\",\"Jesse Owens\",\"Ralph Metcalfe\",\"Martinus Osendarp\",\"T. \\\"Eddie\\\" Tolan\",\"Ralph Metcalfe\",\"Arthur Jonath\",\"Percy Williams\",\"John \\\"Jack\\\" London\",\"Georg Lammers\",\"Harold Abrahams\",\"Jackson Scholz\",\"Arthur Porritt\",\"Charles Paddock\",\"Morris Kirksey\",\"Harry Edward\",\"Ralph Craig\",\"Alvah Meyer\",\"Donald Lippincott\",\"Reginald Walker\",\"James Rector\",\"Robert Kerr\",\"Charles \\\"Archie\\\" Hahn\",\"Fay Moulton\",\"Nigel Barker\",\"Charles \\\"Archie\\\" Hahn\",\"Nathaniel Cartmell\",\"Bill Hogenson\",\"Frank Jarvis\",\"J. Walter Tewksbury\",\"Stanley Rowley\",\"Thomas Burke\",\"Fritz Hofmann\",\"Alojz Sokol\",\"Francis Lane\"],\"Time\":{\"__ndarray__\":\"w/UoXI9CI0AAAAAAAIAjQBSuR+F6lCNA4XoUrkdhI0BI4XoUrscjQFK4HoXr0SNAMzMzMzOzI0C4HoXrUbgjQD0K16NwvSNAPQrXo3C9I0B7FK5H4fojQBSuR+F6FCRArkfhehSuI0BI4XoUrscjQM3MzMzMzCNA7FG4HoXrI0AK16NwPQokQBSuR+F6FCRA16NwPQrXI0BxPQrXo/AjQHsUrkfh+iNAexSuR+H6I0DhehSuR2EkQHE9CtejcCRAAAAAAACAJEAAAAAAAIAkQEjhehSuxyRAH4XrUbgeJEApXI/C9SgkQEjhehSuRyRASOF6FK5HJEB7FK5H4XokQClcj8L1qCRAZmZmZmbmI0AUrkfhehQkQKRwPQrXIyRAAAAAAAAAJEBmZmZmZmYkQGZmZmZmZiRAZmZmZmZmJEBmZmZmZmYkQJqZmZmZmSRAAAAAAAAAJUAAAAAAAAAlQDMzMzMzMyVAzczMzMzMJEDNzMzMzMwkQM3MzMzMzCRAmpmZmZmZJEDNzMzMzMwkQM3MzMzMzCRAmpmZmZmZJEDNzMzMzMwkQAAAAAAAACVAmpmZmZmZJECamZmZmZkkQM3MzMzMzCRAmpmZmZmZJUDNzMzMzMwlQM3MzMzMzCVAMzMzMzMzJUCamZmZmZklQM3MzMzMzCVAmpmZmZmZJUDNzMzMzMwlQM3MzMzMzCVAmpmZmZmZJUDNzMzMzMwlQM3MzMzMzCVAmpmZmZmZJUAAAAAAAAAmQAAAAAAAACZAZmZmZmZmJkCamZmZmZkmQJqZmZmZmSZAAAAAAAAAJkBmZmZmZmYmQGZmZmZmZiZAAAAAAAAAJkAzMzMzMzMmQGZmZmZmZiZAAAAAAAAAKEBmZmZmZmYoQDMzMzMzMylAMzMzMzMzKUA=\",\"dtype\":\"float64\",\"shape\":[85]},\"Year\":[2012,2012,2012,2008,2008,2008,2004,2004,2004,2000,2000,2000,1996,1996,1996,1992,1992,1992,1988,1988,1988,1984,1984,1984,1980,1980,1980,1976,1976,1976,1972,1972,1972,1968,1968,1968,1964,1964,1964,1960,1960,1960,1956,1956,1956,1952,1952,1952,1948,1948,1948,1936,1936,1936,1932,1932,1932,1928,1928,1928,1924,1924,1924,1920,1920,1920,1912,1912,1912,1908,1908,1908,1906,1906,1906,1904,1904,1904,1900,1900,1900,1896,1896,1896,1896],\"index\":[0,1,2,3,4,5,6,7,8,9,10,11,12,13,14,15,16,17,18,19,20,21,22,23,24,25,26,27,28,29,30,31,32,33,34,35,36,37,38,39,40,41,42,43,44,45,46,47,48,49,50,51,52,53,54,55,56,57,58,59,60,61,62,63,64,65,66,67,68,69,70,71,72,73,74,75,76,77,78,79,80,81,82,83,84]},\"selected\":null,\"selection_policy\":null},\"id\":\"fc25aa93-a327-4894-b5fe-95f6044bb179\",\"type\":\"ColumnDataSource\"},{\"attributes\":{\"formatter\":{\"id\":\"564c794b-b74a-45ea-9213-35c6b76500bb\",\"type\":\"BasicTickFormatter\"},\"plot\":{\"id\":\"80d72dc7-ccb9-4a24-8146-cda592ae9795\",\"subtype\":\"Figure\",\"type\":\"Plot\"},\"ticker\":{\"id\":\"d6cc3db9-1ef7-4212-ab3f-e619e9f4ce41\",\"type\":\"BasicTicker\"}},\"id\":\"9be28a0e-25da-4974-87e7-381ec36bbc17\",\"type\":\"LinearAxis\"},{\"attributes\":{\"factors\":[\"GOLD\",\"SILVER\",\"BRONZE\"],\"palette\":[\"goldenrod\",\"silver\",\"saddlebrown\"]},\"id\":\"4c8f11ac-761d-455e-949f-3800defccbf9\",\"type\":\"CategoricalColorMapper\"},{\"attributes\":{},\"id\":\"d6cc3db9-1ef7-4212-ab3f-e619e9f4ce41\",\"type\":\"BasicTicker\"},{\"attributes\":{\"dimension\":1,\"plot\":{\"id\":\"80d72dc7-ccb9-4a24-8146-cda592ae9795\",\"subtype\":\"Figure\",\"type\":\"Plot\"},\"ticker\":{\"id\":\"d6cc3db9-1ef7-4212-ab3f-e619e9f4ce41\",\"type\":\"BasicTicker\"}},\"id\":\"f63e4fc3-a7b6-43af-a587-ff4ba00c24c1\",\"type\":\"Grid\"},{\"attributes\":{\"below\":[{\"id\":\"dcd1cebc-a4e5-4faf-8da5-50bbcfae9bd4\",\"type\":\"LinearAxis\"}],\"left\":[{\"id\":\"9be28a0e-25da-4974-87e7-381ec36bbc17\",\"type\":\"LinearAxis\"}],\"plot_height\":400,\"plot_width\":400,\"renderers\":[{\"id\":\"dcd1cebc-a4e5-4faf-8da5-50bbcfae9bd4\",\"type\":\"LinearAxis\"},{\"id\":\"8b5c1d5a-3bd4-48c4-8c1b-b1ab7e3bb2ef\",\"type\":\"Grid\"},{\"id\":\"9be28a0e-25da-4974-87e7-381ec36bbc17\",\"type\":\"LinearAxis\"},{\"id\":\"f63e4fc3-a7b6-43af-a587-ff4ba00c24c1\",\"type\":\"Grid\"},{\"id\":\"ba867425-2e96-40d6-8d8b-f58e7e3e279c\",\"type\":\"BoxAnnotation\"},{\"id\":\"4765fea2-1578-473f-9d78-4a2f6b5e0aad\",\"type\":\"Legend\"},{\"id\":\"f018f89c-a310-455b-97d8-2e0c069883c2\",\"type\":\"GlyphRenderer\"}],\"title\":{\"id\":\"48d6136a-1fd9-450b-a8dd-5147464ce386\",\"type\":\"Title\"},\"toolbar\":{\"id\":\"e93f29b2-6833-43d9-9729-332285c59ded\",\"type\":\"Toolbar\"},\"x_range\":{\"id\":\"e9845848-64e8-4fa8-9e00-a87410bd379a\",\"type\":\"DataRange1d\"},\"x_scale\":{\"id\":\"1b53a4e5-8ca9-4a10-a0e0-41b2e6d69a3d\",\"type\":\"LinearScale\"},\"y_range\":{\"id\":\"54db5e74-adb0-48ad-9e46-5d7b702664a3\",\"type\":\"DataRange1d\"},\"y_scale\":{\"id\":\"b3e3509a-2bdb-40de-af1b-c7e5395538fb\",\"type\":\"LinearScale\"}},\"id\":\"80d72dc7-ccb9-4a24-8146-cda592ae9795\",\"subtype\":\"Figure\",\"type\":\"Plot\"},{\"attributes\":{\"source\":{\"id\":\"fc25aa93-a327-4894-b5fe-95f6044bb179\",\"type\":\"ColumnDataSource\"}},\"id\":\"fbfccb11-c9b3-407f-b7c2-14948f3ff6e7\",\"type\":\"CDSView\"},{\"attributes\":{\"label\":{\"field\":\"Medal\"},\"renderers\":[{\"id\":\"f018f89c-a310-455b-97d8-2e0c069883c2\",\"type\":\"GlyphRenderer\"}]},\"id\":\"1f960367-d8aa-4241-ade3-ac1b10e43b8d\",\"type\":\"LegendItem\"},{\"attributes\":{\"fill_color\":{\"field\":\"Medal\",\"transform\":{\"id\":\"4c8f11ac-761d-455e-949f-3800defccbf9\",\"type\":\"CategoricalColorMapper\"}},\"line_color\":{\"field\":\"Medal\",\"transform\":{\"id\":\"4c8f11ac-761d-455e-949f-3800defccbf9\",\"type\":\"CategoricalColorMapper\"}},\"size\":{\"units\":\"screen\",\"value\":8},\"x\":{\"field\":\"Year\"},\"y\":{\"field\":\"Time\"}},\"id\":\"c3d5d6c9-e706-44e3-a6e7-8719fe4e82eb\",\"type\":\"Circle\"},{\"attributes\":{\"data_source\":{\"id\":\"fc25aa93-a327-4894-b5fe-95f6044bb179\",\"type\":\"ColumnDataSource\"},\"glyph\":{\"id\":\"c3d5d6c9-e706-44e3-a6e7-8719fe4e82eb\",\"type\":\"Circle\"},\"hover_glyph\":null,\"muted_glyph\":null,\"nonselection_glyph\":{\"id\":\"dc8f3492-b1b4-4d1a-847f-7208f8475b30\",\"type\":\"Circle\"},\"selection_glyph\":null,\"view\":{\"id\":\"fbfccb11-c9b3-407f-b7c2-14948f3ff6e7\",\"type\":\"CDSView\"}},\"id\":\"f018f89c-a310-455b-97d8-2e0c069883c2\",\"type\":\"GlyphRenderer\"},{\"attributes\":{},\"id\":\"564c794b-b74a-45ea-9213-35c6b76500bb\",\"type\":\"BasicTickFormatter\"},{\"attributes\":{},\"id\":\"ba81dd9c-b9a8-4834-a597-74a64ea3b658\",\"type\":\"PanTool\"},{\"attributes\":{},\"id\":\"ff18372a-c3eb-4322-9306-4208983b5311\",\"type\":\"SaveTool\"},{\"attributes\":{},\"id\":\"1b53a4e5-8ca9-4a10-a0e0-41b2e6d69a3d\",\"type\":\"LinearScale\"},{\"attributes\":{},\"id\":\"8ae84875-190c-41b7-bae8-609dde766267\",\"type\":\"WheelZoomTool\"},{\"attributes\":{\"callback\":null},\"id\":\"e9845848-64e8-4fa8-9e00-a87410bd379a\",\"type\":\"DataRange1d\"},{\"attributes\":{\"overlay\":{\"id\":\"ba867425-2e96-40d6-8d8b-f58e7e3e279c\",\"type\":\"BoxAnnotation\"}},\"id\":\"171c79fc-719b-445f-9783-7b3ec33e5969\",\"type\":\"BoxZoomTool\"},{\"attributes\":{\"active_drag\":\"auto\",\"active_inspect\":\"auto\",\"active_scroll\":\"auto\",\"active_tap\":\"auto\",\"tools\":[{\"id\":\"ba81dd9c-b9a8-4834-a597-74a64ea3b658\",\"type\":\"PanTool\"},{\"id\":\"8ae84875-190c-41b7-bae8-609dde766267\",\"type\":\"WheelZoomTool\"},{\"id\":\"171c79fc-719b-445f-9783-7b3ec33e5969\",\"type\":\"BoxZoomTool\"},{\"id\":\"ff18372a-c3eb-4322-9306-4208983b5311\",\"type\":\"SaveTool\"},{\"id\":\"642548d0-9f00-4b01-8b9a-02bd4dbf13d2\",\"type\":\"ResetTool\"},{\"id\":\"36d28a32-12d7-48e0-b8de-8449b7b35975\",\"type\":\"HelpTool\"}]},\"id\":\"e93f29b2-6833-43d9-9729-332285c59ded\",\"type\":\"Toolbar\"}],\"root_ids\":[\"80d72dc7-ccb9-4a24-8146-cda592ae9795\"]},\"title\":\"Bokeh Application\",\"version\":\"0.12.15\"}};\n",
       "  var render_items = [{\"docid\":\"9cbf8024-e872-488e-ad15-1164ce7c1fcd\",\"elementid\":\"81cccb6c-c5cc-4c07-99ca-e3c660b0801f\",\"modelid\":\"80d72dc7-ccb9-4a24-8146-cda592ae9795\"}];\n",
       "  root.Bokeh.embed.embed_items_notebook(docs_json, render_items);\n",
       "\n",
       "  }\n",
       "  if (root.Bokeh !== undefined) {\n",
       "    embed_document(root);\n",
       "  } else {\n",
       "    var attempts = 0;\n",
       "    var timer = setInterval(function(root) {\n",
       "      if (root.Bokeh !== undefined) {\n",
       "        embed_document(root);\n",
       "        clearInterval(timer);\n",
       "      }\n",
       "      attempts++;\n",
       "      if (attempts > 100) {\n",
       "        console.log(\"Bokeh: ERROR: Unable to run BokehJS code because BokehJS library is missing\")\n",
       "        clearInterval(timer);\n",
       "      }\n",
       "    }, 10, root)\n",
       "  }\n",
       "})(window);"
      ],
      "application/vnd.bokehjs_exec.v0+json": ""
     },
     "metadata": {
      "application/vnd.bokehjs_exec.v0+json": {
       "id": "80d72dc7-ccb9-4a24-8146-cda592ae9795"
      }
     },
     "output_type": "display_data"
    }
   ],
   "source": [
    "color_mapper = CategoricalColorMapper(factors = ['GOLD', 'SILVER', 'BRONZE'], palette = ['goldenrod', 'silver', 'saddlebrown'])\n",
    "\n",
    "dataSource = ColumnDataSource(fileData)\n",
    "\n",
    "p = figure(plot_width = 400, plot_height = 400)\n",
    "p.circle('Year', 'Time', source = dataSource, color = {'field' : 'Medal', 'transform': color_mapper}, legend = 'Medal', size = 8)\n",
    "show(p)"
   ]
  },
  {
   "cell_type": "markdown",
   "metadata": {},
   "source": [
    "### Bokeh Model tools"
   ]
  },
  {
   "cell_type": "code",
   "execution_count": 56,
   "metadata": {},
   "outputs": [
    {
     "data": {
      "text/html": [
       "\n",
       "<div class=\"bk-root\">\n",
       "    <div class=\"bk-plotdiv\" id=\"a012df36-4ab7-45ec-ad1a-ec47f834aa56\"></div>\n",
       "</div>"
      ]
     },
     "metadata": {},
     "output_type": "display_data"
    },
    {
     "data": {
      "application/javascript": [
       "(function(root) {\n",
       "  function embed_document(root) {\n",
       "    \n",
       "  var docs_json = {\"a39891b6-96a2-4d44-a3fb-0a9cb3df8ea0\":{\"roots\":{\"references\":[{\"attributes\":{},\"id\":\"b1007f45-be52-4c2a-a937-9494001aedb6\",\"type\":\"ResetTool\"},{\"attributes\":{\"fill_color\":{\"value\":\"#1f77b4\"},\"line_color\":{\"value\":\"#1f77b4\"},\"x\":{\"field\":\"Year\"},\"y\":{\"field\":\"Time\"}},\"id\":\"3ab59952-5486-476a-8d79-5403554f6a5c\",\"type\":\"Circle\"},{\"attributes\":{\"axis_label\":\"Time(s)\",\"formatter\":{\"id\":\"61e9d0c8-a2ea-4753-a096-405ed834d343\",\"type\":\"BasicTickFormatter\"},\"plot\":{\"id\":\"ca911e26-d5cc-495a-96dd-62748044d971\",\"subtype\":\"Figure\",\"type\":\"Plot\"},\"ticker\":{\"id\":\"5f214f70-f7e4-4c31-9971-803e876cfa1d\",\"type\":\"BasicTicker\"}},\"id\":\"3ad5ef62-1f2a-45d3-b386-a556ad72b175\",\"type\":\"LinearAxis\"},{\"attributes\":{\"bottom_units\":\"screen\",\"fill_alpha\":{\"value\":0.5},\"fill_color\":{\"value\":\"lightgrey\"},\"left_units\":\"screen\",\"level\":\"overlay\",\"line_alpha\":{\"value\":1.0},\"line_color\":{\"value\":\"black\"},\"line_dash\":[4,4],\"line_width\":{\"value\":2},\"plot\":null,\"render_mode\":\"css\",\"right_units\":\"screen\",\"top_units\":\"screen\"},\"id\":\"b409a043-65d0-416f-9d51-0de0726f9171\",\"type\":\"BoxAnnotation\"},{\"attributes\":{\"below\":[{\"id\":\"818e60bd-be55-413d-96ca-c8486c8bc069\",\"type\":\"LinearAxis\"}],\"left\":[{\"id\":\"3ad5ef62-1f2a-45d3-b386-a556ad72b175\",\"type\":\"LinearAxis\"}],\"renderers\":[{\"id\":\"818e60bd-be55-413d-96ca-c8486c8bc069\",\"type\":\"LinearAxis\"},{\"id\":\"26111469-b416-4a90-b23a-dc967930d125\",\"type\":\"Grid\"},{\"id\":\"3ad5ef62-1f2a-45d3-b386-a556ad72b175\",\"type\":\"LinearAxis\"},{\"id\":\"e1e87a54-93e2-4ff2-a6cb-d071ecbcb408\",\"type\":\"Grid\"},{\"id\":\"4d352088-719d-402c-b27d-38f3a47bff02\",\"type\":\"PolyAnnotation\"},{\"id\":\"b409a043-65d0-416f-9d51-0de0726f9171\",\"type\":\"BoxAnnotation\"},{\"id\":\"d55820aa-811f-43b4-b97c-60db02cff046\",\"type\":\"GlyphRenderer\"}],\"title\":{\"id\":\"689fc863-c4ea-4b73-a60c-b34097f93301\",\"type\":\"Title\"},\"toolbar\":{\"id\":\"d7a7fcd8-cbfe-4e5d-85b1-7f89302ba69f\",\"type\":\"Toolbar\"},\"x_range\":{\"id\":\"965a88cf-b374-447e-868c-c0e4f40ca80a\",\"type\":\"DataRange1d\"},\"x_scale\":{\"id\":\"a4963abb-a42e-4883-b96e-7b68b36ebd5e\",\"type\":\"LinearScale\"},\"y_range\":{\"id\":\"699b812c-1474-411a-a2c7-0ee99e8b1bec\",\"type\":\"DataRange1d\"},\"y_scale\":{\"id\":\"0085c099-6fc5-4eff-94c7-3435a983dda9\",\"type\":\"LinearScale\"}},\"id\":\"ca911e26-d5cc-495a-96dd-62748044d971\",\"subtype\":\"Figure\",\"type\":\"Plot\"},{\"attributes\":{\"fill_color\":{\"value\":\"red\"},\"line_color\":{\"value\":\"red\"},\"x\":{\"field\":\"Year\"},\"y\":{\"field\":\"Time\"}},\"id\":\"c68ff664-f286-4bbf-be81-6ce2a10a545c\",\"type\":\"Circle\"},{\"attributes\":{},\"id\":\"61e9d0c8-a2ea-4753-a096-405ed834d343\",\"type\":\"BasicTickFormatter\"},{\"attributes\":{\"callback\":null,\"overlay\":{\"id\":\"4d352088-719d-402c-b27d-38f3a47bff02\",\"type\":\"PolyAnnotation\"}},\"id\":\"48732830-b719-4231-9852-6a696732fd8e\",\"type\":\"LassoSelectTool\"},{\"attributes\":{\"callback\":null,\"column_names\":[\"Name\",\"Country\",\"Medal\",\"Time\",\"Year\",\"index\"],\"data\":{\"Country\":[\"JAM\",\"JAM\",\"USA\",\"JAM\",\"TRI\",\"USA\",\"USA\",\"POR\",\"USA\",\"USA\",\"TRI\",\"BAR\",\"CAN\",\"NAM\",\"TRI\",\"GBR\",\"NAM\",\"USA\",\"USA\",\"GBR\",\"USA\",\"USA\",\"USA\",\"CAN\",\"GBR\",\"CUB\",\"BUL\",\"TRI\",\"JAM\",\"URS\",\"URS\",\"USA\",\"JAM\",\"USA\",\"JAM\",\"USA\",\"USA\",\"CUB\",\"CAN\",\"EUA\",\"USA\",\"GBR\",\"USA\",\"USA\",\"AUS\",\"USA\",\"JAM\",\"GBR\",\"USA\",\"USA\",\"PAN\",\"USA\",\"USA\",\"NED\",\"USA\",\"USA\",\"GER\",\"CAN\",\"GBR\",\"GER\",\"GBR\",\"USA\",\"NZL\",\"USA\",\"USA\",\"GBR\",\"USA\",\"USA\",\"USA\",\"RSA\",\"USA\",\"CAN\",\"USA\",\"USA\",\"AUS\",\"USA\",\"USA\",\"USA\",\"USA\",\"USA\",\"AUS\",\"USA\",\"GER\",\"HUN\",\"USA\"],\"Medal\":[\"GOLD\",\"SILVER\",\"BRONZE\",\"GOLD\",\"SILVER\",\"BRONZE\",\"GOLD\",\"SILVER\",\"BRONZE\",\"GOLD\",\"SILVER\",\"BRONZE\",\"GOLD\",\"SILVER\",\"BRONZE\",\"GOLD\",\"SILVER\",\"BRONZE\",\"GOLD\",\"SILVER\",\"BRONZE\",\"GOLD\",\"SILVER\",\"BRONZE\",\"GOLD\",\"SILVER\",\"BRONZE\",\"GOLD\",\"SILVER\",\"BRONZE\",\"GOLD\",\"SILVER\",\"BRONZE\",\"GOLD\",\"SILVER\",\"BRONZE\",\"GOLD\",\"SILVER\",\"BRONZE\",\"GOLD\",\"SILVER\",\"BRONZE\",\"GOLD\",\"SILVER\",\"BRONZE\",\"GOLD\",\"SILVER\",\"BRONZE\",\"GOLD\",\"SILVER\",\"BRONZE\",\"GOLD\",\"SILVER\",\"BRONZE\",\"GOLD\",\"SILVER\",\"BRONZE\",\"GOLD\",\"SILVER\",\"BRONZE\",\"GOLD\",\"SILVER\",\"BRONZE\",\"GOLD\",\"SILVER\",\"BRONZE\",\"GOLD\",\"SILVER\",\"BRONZE\",\"GOLD\",\"SILVER\",\"BRONZE\",\"GOLD\",\"SILVER\",\"BRONZE\",\"GOLD\",\"SILVER\",\"BRONZE\",\"GOLD\",\"SILVER\",\"BRONZE\",\"GOLD\",\"SILVER\",\"BRONZE\",\"BRONZE\"],\"Name\":[\"Usain Bolt\",\"Yohan Blake\",\"Justin Gatlin\",\"Usain Bolt\",\"Richard Thompson\",\"Walter Dix\",\"Justin Gatlin\",\"Francis Obikwelu\",\"Maurice Greene\",\"Maurice Greene\",\"Ato Boldon\",\"Obadele Thompson\",\"Donovan Bailey\",\"Frankie Fredericks\",\"Ato Boldon\",\"Linford Christie\",\"Frankie Fredericks\",\"Dennis Mitchell\",\"Carl Lewis\",\"Linford Christie\",\"Calvin Smith\",\"Carl Lewis\",\"Sam Graddy\",\"Ben Johnson\",\"Allan Wells\",\"Silvio Leonard Tartabull\",\"Petar Petrov\",\"Hasely Crawford\",\"Donald Quarrie\",\"Valery Borzov\",\"Valery Borzov\",\"Robert Taylor\",\"Lennox Miller\",\"Jim Hines\",\"Lennox Miller\",\"Charles Greene\",\"Bob Hayes\",\"Enrique Figuerola Camue\",\"Harry Jerome\",\"Armin Hary\",\"David Sime\",\"Peter Radford\",\"Bobby Joe Morrow\",\"W. Thane Baker\",\"Hector Hogan\",\"Lindy Remigino\",\"Herbert McKenley\",\"E. McDonald Bailey\",\"W. Harrison Dillard\",\"H. Norwood \\\"Barney\\\" Ewell\",\"Lloyd LaBeach\",\"Jesse Owens\",\"Ralph Metcalfe\",\"Martinus Osendarp\",\"T. \\\"Eddie\\\" Tolan\",\"Ralph Metcalfe\",\"Arthur Jonath\",\"Percy Williams\",\"John \\\"Jack\\\" London\",\"Georg Lammers\",\"Harold Abrahams\",\"Jackson Scholz\",\"Arthur Porritt\",\"Charles Paddock\",\"Morris Kirksey\",\"Harry Edward\",\"Ralph Craig\",\"Alvah Meyer\",\"Donald Lippincott\",\"Reginald Walker\",\"James Rector\",\"Robert Kerr\",\"Charles \\\"Archie\\\" Hahn\",\"Fay Moulton\",\"Nigel Barker\",\"Charles \\\"Archie\\\" Hahn\",\"Nathaniel Cartmell\",\"Bill Hogenson\",\"Frank Jarvis\",\"J. Walter Tewksbury\",\"Stanley Rowley\",\"Thomas Burke\",\"Fritz Hofmann\",\"Alojz Sokol\",\"Francis Lane\"],\"Time\":{\"__ndarray__\":\"w/UoXI9CI0AAAAAAAIAjQBSuR+F6lCNA4XoUrkdhI0BI4XoUrscjQFK4HoXr0SNAMzMzMzOzI0C4HoXrUbgjQD0K16NwvSNAPQrXo3C9I0B7FK5H4fojQBSuR+F6FCRArkfhehSuI0BI4XoUrscjQM3MzMzMzCNA7FG4HoXrI0AK16NwPQokQBSuR+F6FCRA16NwPQrXI0BxPQrXo/AjQHsUrkfh+iNAexSuR+H6I0DhehSuR2EkQHE9CtejcCRAAAAAAACAJEAAAAAAAIAkQEjhehSuxyRAH4XrUbgeJEApXI/C9SgkQEjhehSuRyRASOF6FK5HJEB7FK5H4XokQClcj8L1qCRAZmZmZmbmI0AUrkfhehQkQKRwPQrXIyRAAAAAAAAAJEBmZmZmZmYkQGZmZmZmZiRAZmZmZmZmJEBmZmZmZmYkQJqZmZmZmSRAAAAAAAAAJUAAAAAAAAAlQDMzMzMzMyVAzczMzMzMJEDNzMzMzMwkQM3MzMzMzCRAmpmZmZmZJEDNzMzMzMwkQM3MzMzMzCRAmpmZmZmZJEDNzMzMzMwkQAAAAAAAACVAmpmZmZmZJECamZmZmZkkQM3MzMzMzCRAmpmZmZmZJUDNzMzMzMwlQM3MzMzMzCVAMzMzMzMzJUCamZmZmZklQM3MzMzMzCVAmpmZmZmZJUDNzMzMzMwlQM3MzMzMzCVAmpmZmZmZJUDNzMzMzMwlQM3MzMzMzCVAmpmZmZmZJUAAAAAAAAAmQAAAAAAAACZAZmZmZmZmJkCamZmZmZkmQJqZmZmZmSZAAAAAAAAAJkBmZmZmZmYmQGZmZmZmZiZAAAAAAAAAJkAzMzMzMzMmQGZmZmZmZiZAAAAAAAAAKEBmZmZmZmYoQDMzMzMzMylAMzMzMzMzKUA=\",\"dtype\":\"float64\",\"shape\":[85]},\"Year\":[2012,2012,2012,2008,2008,2008,2004,2004,2004,2000,2000,2000,1996,1996,1996,1992,1992,1992,1988,1988,1988,1984,1984,1984,1980,1980,1980,1976,1976,1976,1972,1972,1972,1968,1968,1968,1964,1964,1964,1960,1960,1960,1956,1956,1956,1952,1952,1952,1948,1948,1948,1936,1936,1936,1932,1932,1932,1928,1928,1928,1924,1924,1924,1920,1920,1920,1912,1912,1912,1908,1908,1908,1906,1906,1906,1904,1904,1904,1900,1900,1900,1896,1896,1896,1896],\"index\":[0,1,2,3,4,5,6,7,8,9,10,11,12,13,14,15,16,17,18,19,20,21,22,23,24,25,26,27,28,29,30,31,32,33,34,35,36,37,38,39,40,41,42,43,44,45,46,47,48,49,50,51,52,53,54,55,56,57,58,59,60,61,62,63,64,65,66,67,68,69,70,71,72,73,74,75,76,77,78,79,80,81,82,83,84]},\"selected\":null,\"selection_policy\":null},\"id\":\"fc25aa93-a327-4894-b5fe-95f6044bb179\",\"type\":\"ColumnDataSource\"},{\"attributes\":{},\"id\":\"c53fdc14-fe4c-42e2-ac99-8b70375cfcd6\",\"type\":\"BasicTickFormatter\"},{\"attributes\":{},\"id\":\"b469b068-0529-404a-be58-5e183cbd7062\",\"type\":\"BasicTicker\"},{\"attributes\":{\"source\":{\"id\":\"fc25aa93-a327-4894-b5fe-95f6044bb179\",\"type\":\"ColumnDataSource\"}},\"id\":\"c7875197-8bcf-47ed-9dee-b951b1a15e19\",\"type\":\"CDSView\"},{\"attributes\":{\"axis_label\":\"Year\",\"formatter\":{\"id\":\"c53fdc14-fe4c-42e2-ac99-8b70375cfcd6\",\"type\":\"BasicTickFormatter\"},\"plot\":{\"id\":\"ca911e26-d5cc-495a-96dd-62748044d971\",\"subtype\":\"Figure\",\"type\":\"Plot\"},\"ticker\":{\"id\":\"b469b068-0529-404a-be58-5e183cbd7062\",\"type\":\"BasicTicker\"}},\"id\":\"818e60bd-be55-413d-96ca-c8486c8bc069\",\"type\":\"LinearAxis\"},{\"attributes\":{\"plot\":null,\"text\":\"\"},\"id\":\"689fc863-c4ea-4b73-a60c-b34097f93301\",\"type\":\"Title\"},{\"attributes\":{\"fill_alpha\":{\"value\":0.3},\"fill_color\":{\"value\":\"#1f77b4\"},\"line_alpha\":{\"value\":0.3},\"line_color\":{\"value\":\"#1f77b4\"},\"x\":{\"field\":\"Year\"},\"y\":{\"field\":\"Time\"}},\"id\":\"dae83ddc-715c-4edf-8f00-506a541f7180\",\"type\":\"Circle\"},{\"attributes\":{\"plot\":{\"id\":\"ca911e26-d5cc-495a-96dd-62748044d971\",\"subtype\":\"Figure\",\"type\":\"Plot\"},\"ticker\":{\"id\":\"b469b068-0529-404a-be58-5e183cbd7062\",\"type\":\"BasicTicker\"}},\"id\":\"26111469-b416-4a90-b23a-dc967930d125\",\"type\":\"Grid\"},{\"attributes\":{},\"id\":\"0085c099-6fc5-4eff-94c7-3435a983dda9\",\"type\":\"LinearScale\"},{\"attributes\":{\"fill_alpha\":{\"value\":0.5},\"fill_color\":{\"value\":\"lightgrey\"},\"level\":\"overlay\",\"line_alpha\":{\"value\":1.0},\"line_color\":{\"value\":\"black\"},\"line_dash\":[4,4],\"line_width\":{\"value\":2},\"plot\":null,\"xs_units\":\"screen\",\"ys_units\":\"screen\"},\"id\":\"4d352088-719d-402c-b27d-38f3a47bff02\",\"type\":\"PolyAnnotation\"},{\"attributes\":{},\"id\":\"a4963abb-a42e-4883-b96e-7b68b36ebd5e\",\"type\":\"LinearScale\"},{\"attributes\":{},\"id\":\"5f214f70-f7e4-4c31-9971-803e876cfa1d\",\"type\":\"BasicTicker\"},{\"attributes\":{\"dimension\":1,\"plot\":{\"id\":\"ca911e26-d5cc-495a-96dd-62748044d971\",\"subtype\":\"Figure\",\"type\":\"Plot\"},\"ticker\":{\"id\":\"5f214f70-f7e4-4c31-9971-803e876cfa1d\",\"type\":\"BasicTicker\"}},\"id\":\"e1e87a54-93e2-4ff2-a6cb-d071ecbcb408\",\"type\":\"Grid\"},{\"attributes\":{\"active_drag\":\"auto\",\"active_inspect\":\"auto\",\"active_scroll\":\"auto\",\"active_tap\":\"auto\",\"tools\":[{\"id\":\"48732830-b719-4231-9852-6a696732fd8e\",\"type\":\"LassoSelectTool\"},{\"id\":\"6750c7a4-4b04-4040-bf07-a7f9fe73c373\",\"type\":\"BoxSelectTool\"},{\"id\":\"b1007f45-be52-4c2a-a937-9494001aedb6\",\"type\":\"ResetTool\"}]},\"id\":\"d7a7fcd8-cbfe-4e5d-85b1-7f89302ba69f\",\"type\":\"Toolbar\"},{\"attributes\":{\"data_source\":{\"id\":\"fc25aa93-a327-4894-b5fe-95f6044bb179\",\"type\":\"ColumnDataSource\"},\"glyph\":{\"id\":\"3ab59952-5486-476a-8d79-5403554f6a5c\",\"type\":\"Circle\"},\"hover_glyph\":null,\"muted_glyph\":null,\"nonselection_glyph\":{\"id\":\"dae83ddc-715c-4edf-8f00-506a541f7180\",\"type\":\"Circle\"},\"selection_glyph\":{\"id\":\"c68ff664-f286-4bbf-be81-6ce2a10a545c\",\"type\":\"Circle\"},\"view\":{\"id\":\"c7875197-8bcf-47ed-9dee-b951b1a15e19\",\"type\":\"CDSView\"}},\"id\":\"d55820aa-811f-43b4-b97c-60db02cff046\",\"type\":\"GlyphRenderer\"},{\"attributes\":{\"callback\":null},\"id\":\"699b812c-1474-411a-a2c7-0ee99e8b1bec\",\"type\":\"DataRange1d\"},{\"attributes\":{\"callback\":null,\"overlay\":{\"id\":\"b409a043-65d0-416f-9d51-0de0726f9171\",\"type\":\"BoxAnnotation\"},\"renderers\":[{\"id\":\"d55820aa-811f-43b4-b97c-60db02cff046\",\"type\":\"GlyphRenderer\"}]},\"id\":\"6750c7a4-4b04-4040-bf07-a7f9fe73c373\",\"type\":\"BoxSelectTool\"},{\"attributes\":{\"callback\":null},\"id\":\"965a88cf-b374-447e-868c-c0e4f40ca80a\",\"type\":\"DataRange1d\"}],\"root_ids\":[\"ca911e26-d5cc-495a-96dd-62748044d971\"]},\"title\":\"Bokeh Application\",\"version\":\"0.12.15\"}};\n",
       "  var render_items = [{\"docid\":\"a39891b6-96a2-4d44-a3fb-0a9cb3df8ea0\",\"elementid\":\"a012df36-4ab7-45ec-ad1a-ec47f834aa56\",\"modelid\":\"ca911e26-d5cc-495a-96dd-62748044d971\"}];\n",
       "  root.Bokeh.embed.embed_items_notebook(docs_json, render_items);\n",
       "\n",
       "  }\n",
       "  if (root.Bokeh !== undefined) {\n",
       "    embed_document(root);\n",
       "  } else {\n",
       "    var attempts = 0;\n",
       "    var timer = setInterval(function(root) {\n",
       "      if (root.Bokeh !== undefined) {\n",
       "        embed_document(root);\n",
       "        clearInterval(timer);\n",
       "      }\n",
       "      attempts++;\n",
       "      if (attempts > 100) {\n",
       "        console.log(\"Bokeh: ERROR: Unable to run BokehJS code because BokehJS library is missing\")\n",
       "        clearInterval(timer);\n",
       "      }\n",
       "    }, 10, root)\n",
       "  }\n",
       "})(window);"
      ],
      "application/vnd.bokehjs_exec.v0+json": ""
     },
     "metadata": {
      "application/vnd.bokehjs_exec.v0+json": {
       "id": "ca911e26-d5cc-495a-96dd-62748044d971"
      }
     },
     "output_type": "display_data"
    }
   ],
   "source": [
    "p = figure(tools = 'lasso_select, box_select, reset', x_axis_label = \"Year\", y_axis_label = \"Time(s)\")\n",
    "p.circle('Year', 'Time', source = dataSource, selection_color = 'red', nonselection_alpha = 0.3)\n",
    "show(p)"
   ]
  },
  {
   "cell_type": "markdown",
   "metadata": {},
   "source": [
    "### Ejemplo Models"
   ]
  },
  {
   "cell_type": "code",
   "execution_count": 57,
   "metadata": {},
   "outputs": [],
   "source": [
    "x = np.random.uniform(size = 1000)\n",
    "y = np.random.uniform(size = 1000)"
   ]
  },
  {
   "cell_type": "code",
   "execution_count": 58,
   "metadata": {},
   "outputs": [
    {
     "data": {
      "text/html": [
       "\n",
       "<div class=\"bk-root\">\n",
       "    <div class=\"bk-plotdiv\" id=\"1d20bab2-0a9f-4ebe-855d-5cc6f6f65bee\"></div>\n",
       "</div>"
      ]
     },
     "metadata": {},
     "output_type": "display_data"
    },
    {
     "data": {
      "application/javascript": [
       "(function(root) {\n",
       "  function embed_document(root) {\n",
       "    \n",
       "  var docs_json = {\"e74cb0a0-b2cc-4a94-8849-4f6ff210d85c\":{\"roots\":{\"references\":[{\"attributes\":{\"callback\":null},\"id\":\"8032abcc-0f2f-4a3c-96a2-99a3b50bfa14\",\"type\":\"DataRange1d\"},{\"attributes\":{},\"id\":\"588a1661-df51-49eb-a840-d9efcd29f947\",\"type\":\"LinearScale\"},{\"attributes\":{},\"id\":\"fd1c76a1-7e96-45ce-a7f2-7cbef4bd2edc\",\"type\":\"LinearScale\"},{\"attributes\":{},\"id\":\"d677c15c-9c8b-4a06-9e02-e3acf3f3ce2b\",\"type\":\"BasicTickFormatter\"},{\"attributes\":{\"callback\":null},\"id\":\"0bb74508-1a48-47bd-b961-62e94923fcf1\",\"type\":\"DataRange1d\"},{\"attributes\":{\"callback\":null,\"mode\":\"hline\",\"tooltips\":null},\"id\":\"5e65565e-bbbb-4c3b-8fe2-1e20cfef8f56\",\"type\":\"HoverTool\"},{\"attributes\":{\"below\":[{\"id\":\"3b93e4d6-f860-4ec7-85f3-260397ccd3d9\",\"type\":\"LinearAxis\"}],\"left\":[{\"id\":\"fd13debf-7c43-458a-8a05-bf42763ba5dd\",\"type\":\"LinearAxis\"}],\"renderers\":[{\"id\":\"3b93e4d6-f860-4ec7-85f3-260397ccd3d9\",\"type\":\"LinearAxis\"},{\"id\":\"6e880b25-4faf-4e8f-ac53-fccc71b5f885\",\"type\":\"Grid\"},{\"id\":\"fd13debf-7c43-458a-8a05-bf42763ba5dd\",\"type\":\"LinearAxis\"},{\"id\":\"07b7df63-ad32-4dfd-8d3a-2b17ab3bbc44\",\"type\":\"Grid\"},{\"id\":\"68614eba-8ac8-4983-b9b1-1c055cd12281\",\"type\":\"GlyphRenderer\"}],\"title\":{\"id\":\"85b4750e-aaf4-4ae2-b9bb-1ba64889dded\",\"type\":\"Title\"},\"toolbar\":{\"id\":\"3a70fe10-2581-413a-b16a-7c222c600512\",\"type\":\"Toolbar\"},\"x_range\":{\"id\":\"8032abcc-0f2f-4a3c-96a2-99a3b50bfa14\",\"type\":\"DataRange1d\"},\"x_scale\":{\"id\":\"588a1661-df51-49eb-a840-d9efcd29f947\",\"type\":\"LinearScale\"},\"y_range\":{\"id\":\"0bb74508-1a48-47bd-b961-62e94923fcf1\",\"type\":\"DataRange1d\"},\"y_scale\":{\"id\":\"fd1c76a1-7e96-45ce-a7f2-7cbef4bd2edc\",\"type\":\"LinearScale\"}},\"id\":\"1e26bc6e-6227-42aa-b89d-f588be0dce72\",\"subtype\":\"Figure\",\"type\":\"Plot\"},{\"attributes\":{\"callback\":null,\"column_names\":[\"x\",\"y\"],\"data\":{\"x\":{\"__ndarray__\":\"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\",\"dtype\":\"float64\",\"shape\":[1000]},\"y\":{\"__ndarray__\":\"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\",\"dtype\":\"float64\",\"shape\":[1000]}},\"selected\":null,\"selection_policy\":null},\"id\":\"ca93f1bb-5cce-40b4-ad71-ee454a6d42fc\",\"type\":\"ColumnDataSource\"},{\"attributes\":{\"formatter\":{\"id\":\"d677c15c-9c8b-4a06-9e02-e3acf3f3ce2b\",\"type\":\"BasicTickFormatter\"},\"plot\":{\"id\":\"1e26bc6e-6227-42aa-b89d-f588be0dce72\",\"subtype\":\"Figure\",\"type\":\"Plot\"},\"ticker\":{\"id\":\"cd8cfe5b-7046-473d-94df-84fe420f2f6a\",\"type\":\"BasicTicker\"}},\"id\":\"fd13debf-7c43-458a-8a05-bf42763ba5dd\",\"type\":\"LinearAxis\"},{\"attributes\":{\"fill_color\":{\"value\":\"#1f77b4\"},\"line_color\":{\"value\":\"#1f77b4\"},\"size\":{\"units\":\"screen\",\"value\":15},\"x\":{\"field\":\"x\"},\"y\":{\"field\":\"y\"}},\"id\":\"39f4e671-26be-4d44-ba3e-97a36c23b830\",\"type\":\"Circle\"},{\"attributes\":{\"plot\":{\"id\":\"1e26bc6e-6227-42aa-b89d-f588be0dce72\",\"subtype\":\"Figure\",\"type\":\"Plot\"},\"ticker\":{\"id\":\"bf7d31e3-024b-4025-a507-5af7d396a9f7\",\"type\":\"BasicTicker\"}},\"id\":\"6e880b25-4faf-4e8f-ac53-fccc71b5f885\",\"type\":\"Grid\"},{\"attributes\":{},\"id\":\"cd8cfe5b-7046-473d-94df-84fe420f2f6a\",\"type\":\"BasicTicker\"},{\"attributes\":{\"source\":{\"id\":\"ca93f1bb-5cce-40b4-ad71-ee454a6d42fc\",\"type\":\"ColumnDataSource\"}},\"id\":\"de922a87-b6b9-4c3f-a710-da9e86e2010b\",\"type\":\"CDSView\"},{\"attributes\":{\"plot\":null,\"text\":\"\"},\"id\":\"85b4750e-aaf4-4ae2-b9bb-1ba64889dded\",\"type\":\"Title\"},{\"attributes\":{},\"id\":\"159a9449-e9ba-41c1-9549-72cce6beee6e\",\"type\":\"CrosshairTool\"},{\"attributes\":{\"fill_alpha\":{\"value\":0.1},\"fill_color\":{\"value\":\"#1f77b4\"},\"line_alpha\":{\"value\":0.1},\"line_color\":{\"value\":\"#1f77b4\"},\"size\":{\"units\":\"screen\",\"value\":15},\"x\":{\"field\":\"x\"},\"y\":{\"field\":\"y\"}},\"id\":\"4f4903f6-94a3-4482-b7d9-e63836275fa1\",\"type\":\"Circle\"},{\"attributes\":{\"dimension\":1,\"plot\":{\"id\":\"1e26bc6e-6227-42aa-b89d-f588be0dce72\",\"subtype\":\"Figure\",\"type\":\"Plot\"},\"ticker\":{\"id\":\"cd8cfe5b-7046-473d-94df-84fe420f2f6a\",\"type\":\"BasicTicker\"}},\"id\":\"07b7df63-ad32-4dfd-8d3a-2b17ab3bbc44\",\"type\":\"Grid\"},{\"attributes\":{\"fill_color\":{\"value\":\"red\"},\"line_color\":{\"value\":\"red\"},\"size\":{\"units\":\"screen\",\"value\":15},\"x\":{\"field\":\"x\"},\"y\":{\"field\":\"y\"}},\"id\":\"43b3683a-e7ec-42c6-9c08-3a4704b73522\",\"type\":\"Circle\"},{\"attributes\":{\"formatter\":{\"id\":\"08de0ee2-2137-49f4-b7e7-65a6e572084e\",\"type\":\"BasicTickFormatter\"},\"plot\":{\"id\":\"1e26bc6e-6227-42aa-b89d-f588be0dce72\",\"subtype\":\"Figure\",\"type\":\"Plot\"},\"ticker\":{\"id\":\"bf7d31e3-024b-4025-a507-5af7d396a9f7\",\"type\":\"BasicTicker\"}},\"id\":\"3b93e4d6-f860-4ec7-85f3-260397ccd3d9\",\"type\":\"LinearAxis\"},{\"attributes\":{},\"id\":\"bf7d31e3-024b-4025-a507-5af7d396a9f7\",\"type\":\"BasicTicker\"},{\"attributes\":{\"data_source\":{\"id\":\"ca93f1bb-5cce-40b4-ad71-ee454a6d42fc\",\"type\":\"ColumnDataSource\"},\"glyph\":{\"id\":\"39f4e671-26be-4d44-ba3e-97a36c23b830\",\"type\":\"Circle\"},\"hover_glyph\":{\"id\":\"43b3683a-e7ec-42c6-9c08-3a4704b73522\",\"type\":\"Circle\"},\"muted_glyph\":null,\"nonselection_glyph\":{\"id\":\"4f4903f6-94a3-4482-b7d9-e63836275fa1\",\"type\":\"Circle\"},\"selection_glyph\":null,\"view\":{\"id\":\"de922a87-b6b9-4c3f-a710-da9e86e2010b\",\"type\":\"CDSView\"}},\"id\":\"68614eba-8ac8-4983-b9b1-1c055cd12281\",\"type\":\"GlyphRenderer\"},{\"attributes\":{},\"id\":\"08de0ee2-2137-49f4-b7e7-65a6e572084e\",\"type\":\"BasicTickFormatter\"},{\"attributes\":{\"active_drag\":\"auto\",\"active_inspect\":\"auto\",\"active_scroll\":\"auto\",\"active_tap\":\"auto\",\"tools\":[{\"id\":\"5e65565e-bbbb-4c3b-8fe2-1e20cfef8f56\",\"type\":\"HoverTool\"},{\"id\":\"159a9449-e9ba-41c1-9549-72cce6beee6e\",\"type\":\"CrosshairTool\"}]},\"id\":\"3a70fe10-2581-413a-b16a-7c222c600512\",\"type\":\"Toolbar\"}],\"root_ids\":[\"1e26bc6e-6227-42aa-b89d-f588be0dce72\"]},\"title\":\"Bokeh Application\",\"version\":\"0.12.15\"}};\n",
       "  var render_items = [{\"docid\":\"e74cb0a0-b2cc-4a94-8849-4f6ff210d85c\",\"elementid\":\"1d20bab2-0a9f-4ebe-855d-5cc6f6f65bee\",\"modelid\":\"1e26bc6e-6227-42aa-b89d-f588be0dce72\"}];\n",
       "  root.Bokeh.embed.embed_items_notebook(docs_json, render_items);\n",
       "\n",
       "  }\n",
       "  if (root.Bokeh !== undefined) {\n",
       "    embed_document(root);\n",
       "  } else {\n",
       "    var attempts = 0;\n",
       "    var timer = setInterval(function(root) {\n",
       "      if (root.Bokeh !== undefined) {\n",
       "        embed_document(root);\n",
       "        clearInterval(timer);\n",
       "      }\n",
       "      attempts++;\n",
       "      if (attempts > 100) {\n",
       "        console.log(\"Bokeh: ERROR: Unable to run BokehJS code because BokehJS library is missing\")\n",
       "        clearInterval(timer);\n",
       "      }\n",
       "    }, 10, root)\n",
       "  }\n",
       "})(window);"
      ],
      "application/vnd.bokehjs_exec.v0+json": ""
     },
     "metadata": {
      "application/vnd.bokehjs_exec.v0+json": {
       "id": "1e26bc6e-6227-42aa-b89d-f588be0dce72"
      }
     },
     "output_type": "display_data"
    }
   ],
   "source": [
    "from bokeh.models import HoverTool\n",
    "hover= HoverTool(tooltips = None, mode = 'hline')\n",
    "p = figure(tools = [hover, 'crosshair'])\n",
    "p.circle(x, y, size = 15, hover_color = 'red')\n",
    "show(p)"
   ]
  },
  {
   "cell_type": "code",
   "execution_count": 59,
   "metadata": {},
   "outputs": [
    {
     "data": {
      "text/html": [
       "<div>\n",
       "<style scoped>\n",
       "    .dataframe tbody tr th:only-of-type {\n",
       "        vertical-align: middle;\n",
       "    }\n",
       "\n",
       "    .dataframe tbody tr th {\n",
       "        vertical-align: top;\n",
       "    }\n",
       "\n",
       "    .dataframe thead th {\n",
       "        text-align: right;\n",
       "    }\n",
       "</style>\n",
       "<table border=\"1\" class=\"dataframe\">\n",
       "  <thead>\n",
       "    <tr style=\"text-align: right;\">\n",
       "      <th></th>\n",
       "      <th>datetime</th>\n",
       "      <th>isig</th>\n",
       "      <th>glucose</th>\n",
       "    </tr>\n",
       "  </thead>\n",
       "  <tbody>\n",
       "    <tr>\n",
       "      <th>0</th>\n",
       "      <td>2010-10-07 00:03:00</td>\n",
       "      <td>22.10</td>\n",
       "      <td>150</td>\n",
       "    </tr>\n",
       "    <tr>\n",
       "      <th>1</th>\n",
       "      <td>2010-10-07 00:08:00</td>\n",
       "      <td>21.46</td>\n",
       "      <td>152</td>\n",
       "    </tr>\n",
       "    <tr>\n",
       "      <th>2</th>\n",
       "      <td>2010-10-07 00:13:00</td>\n",
       "      <td>21.06</td>\n",
       "      <td>149</td>\n",
       "    </tr>\n",
       "    <tr>\n",
       "      <th>3</th>\n",
       "      <td>2010-10-07 00:18:00</td>\n",
       "      <td>20.96</td>\n",
       "      <td>147</td>\n",
       "    </tr>\n",
       "    <tr>\n",
       "      <th>4</th>\n",
       "      <td>2010-10-07 00:23:00</td>\n",
       "      <td>21.52</td>\n",
       "      <td>148</td>\n",
       "    </tr>\n",
       "  </tbody>\n",
       "</table>\n",
       "</div>"
      ],
      "text/plain": [
       "             datetime   isig  glucose\n",
       "0 2010-10-07 00:03:00  22.10      150\n",
       "1 2010-10-07 00:08:00  21.46      152\n",
       "2 2010-10-07 00:13:00  21.06      149\n",
       "3 2010-10-07 00:18:00  20.96      147\n",
       "4 2010-10-07 00:23:00  21.52      148"
      ]
     },
     "execution_count": 59,
     "metadata": {},
     "output_type": "execute_result"
    }
   ],
   "source": [
    "df = pd.read_csv('glucose.csv', parse_dates = ['datetime'])\n",
    "df.head()"
   ]
  },
  {
   "cell_type": "code",
   "execution_count": 60,
   "metadata": {},
   "outputs": [
    {
     "data": {
      "text/html": [
       "\n",
       "<div class=\"bk-root\">\n",
       "    <div class=\"bk-plotdiv\" id=\"d38dbf39-fc2c-447a-b30d-d916d4b2be49\"></div>\n",
       "</div>"
      ]
     },
     "metadata": {},
     "output_type": "display_data"
    },
    {
     "data": {
      "application/javascript": [
       "(function(root) {\n",
       "  function embed_document(root) {\n",
       "    \n",
       "  var docs_json = {\"e2a1d958-4934-47a2-a0d0-76b0618cc027\":{\"roots\":{\"references\":[{\"attributes\":{\"axis_label\":\"Time of the day\",\"formatter\":{\"id\":\"4a1a8e19-d800-4377-b630-c9c12f5a0663\",\"type\":\"DatetimeTickFormatter\"},\"plot\":{\"id\":\"b94be191-8b3f-4305-8f2e-f657a999b10a\",\"subtype\":\"Figure\",\"type\":\"Plot\"},\"ticker\":{\"id\":\"b53aaa82-8c35-4d1f-8600-0c40d909ed3e\",\"type\":\"DatetimeTicker\"}},\"id\":\"dbb6a782-c9de-4034-aab9-f1ac015a77de\",\"type\":\"DatetimeAxis\"},{\"attributes\":{\"num_minor_ticks\":5,\"tickers\":[{\"id\":\"8f999b54-dc11-46be-822f-edd036748e71\",\"type\":\"AdaptiveTicker\"},{\"id\":\"26174982-4701-4eaf-bbdb-bf48a03f9b28\",\"type\":\"AdaptiveTicker\"},{\"id\":\"18b8efa9-73a0-45c7-a98d-50b652ffa150\",\"type\":\"AdaptiveTicker\"},{\"id\":\"377b0b02-30db-4c0d-9052-72d0e01f9cff\",\"type\":\"DaysTicker\"},{\"id\":\"5e17bd69-f717-4570-93e3-6139e0600e8e\",\"type\":\"DaysTicker\"},{\"id\":\"0bcea934-5185-4df3-83d3-d460bcf8f33e\",\"type\":\"DaysTicker\"},{\"id\":\"ea9c2049-af74-4ba9-b7c4-6f15c852001d\",\"type\":\"DaysTicker\"},{\"id\":\"a9d89a0a-8808-47ef-9e09-2703521f5366\",\"type\":\"MonthsTicker\"},{\"id\":\"59345bec-7906-4ba5-9211-dcc5c84cef29\",\"type\":\"MonthsTicker\"},{\"id\":\"eb63cb42-6fa6-4741-90bb-f5661049f2d2\",\"type\":\"MonthsTicker\"},{\"id\":\"c2464e5b-25f2-4226-a82c-6707b7e4336c\",\"type\":\"MonthsTicker\"},{\"id\":\"1f528409-345e-4dfb-89e5-4b6e144483cd\",\"type\":\"YearsTicker\"}]},\"id\":\"b53aaa82-8c35-4d1f-8600-0c40d909ed3e\",\"type\":\"DatetimeTicker\"},{\"attributes\":{\"axis_label\":\"Blood Glucose (mg/dL)\",\"formatter\":{\"id\":\"1fb98762-86ea-45a9-99a1-26f5a0d418ce\",\"type\":\"BasicTickFormatter\"},\"plot\":{\"id\":\"b94be191-8b3f-4305-8f2e-f657a999b10a\",\"subtype\":\"Figure\",\"type\":\"Plot\"},\"ticker\":{\"id\":\"bae24314-9a2e-42f7-bb67-147cec549c21\",\"type\":\"BasicTicker\"}},\"id\":\"dc216c25-d060-4086-8e15-bd604790a4d2\",\"type\":\"LinearAxis\"},{\"attributes\":{},\"id\":\"bae24314-9a2e-42f7-bb67-147cec549c21\",\"type\":\"BasicTicker\"},{\"attributes\":{\"dimension\":1,\"plot\":{\"id\":\"b94be191-8b3f-4305-8f2e-f657a999b10a\",\"subtype\":\"Figure\",\"type\":\"Plot\"},\"ticker\":{\"id\":\"bae24314-9a2e-42f7-bb67-147cec549c21\",\"type\":\"BasicTicker\"}},\"id\":\"be60dd98-230b-420d-aa95-87cc2441f28b\",\"type\":\"Grid\"},{\"attributes\":{\"days\":[1,15]},\"id\":\"ea9c2049-af74-4ba9-b7c4-6f15c852001d\",\"type\":\"DaysTicker\"},{\"attributes\":{\"line_alpha\":0.9,\"line_color\":\"#1f77b4\",\"line_dash\":[2,4],\"x\":{\"field\":\"datetime\"},\"y\":{\"field\":\"glucose\"}},\"id\":\"0e430d1e-4c8c-45bf-9725-f3169c28706a\",\"type\":\"Line\"},{\"attributes\":{\"bottom_units\":\"screen\",\"fill_alpha\":{\"value\":0.5},\"fill_color\":{\"value\":\"lightgrey\"},\"left_units\":\"screen\",\"level\":\"overlay\",\"line_alpha\":{\"value\":1.0},\"line_color\":{\"value\":\"black\"},\"line_dash\":[4,4],\"line_width\":{\"value\":2},\"plot\":null,\"render_mode\":\"css\",\"right_units\":\"screen\",\"top_units\":\"screen\"},\"id\":\"a35d686d-98a7-4187-8ba6-9a1d1f17f5b0\",\"type\":\"BoxAnnotation\"},{\"attributes\":{},\"id\":\"9f9e1802-ba67-4d46-bf35-61dc1ccdbcbe\",\"type\":\"PanTool\"},{\"attributes\":{\"days\":[1,4,7,10,13,16,19,22,25,28]},\"id\":\"5e17bd69-f717-4570-93e3-6139e0600e8e\",\"type\":\"DaysTicker\"},{\"attributes\":{},\"id\":\"e29b9928-3dfb-450f-a12a-4ac421dc3af2\",\"type\":\"WheelZoomTool\"},{\"attributes\":{\"overlay\":{\"id\":\"a35d686d-98a7-4187-8ba6-9a1d1f17f5b0\",\"type\":\"BoxAnnotation\"}},\"id\":\"28d3e8ef-bb31-4022-91b7-2e73a92ff0ac\",\"type\":\"BoxZoomTool\"},{\"attributes\":{},\"id\":\"8711e606-077c-44df-abf9-35ba1857048a\",\"type\":\"SaveTool\"},{\"attributes\":{},\"id\":\"094fd7eb-3e1c-4541-ac7b-33292ccaf2e8\",\"type\":\"ResetTool\"},{\"attributes\":{},\"id\":\"24eef594-eed6-4cf3-b236-d3e389ba1d63\",\"type\":\"HelpTool\"},{\"attributes\":{\"source\":{\"id\":\"6cdcced6-0f47-49c4-b005-dd4b6fb1fb6c\",\"type\":\"ColumnDataSource\"}},\"id\":\"1f35b068-c896-4d06-b3ad-043957073fda\",\"type\":\"CDSView\"},{\"attributes\":{\"months\":[0,4,8]},\"id\":\"eb63cb42-6fa6-4741-90bb-f5661049f2d2\",\"type\":\"MonthsTicker\"},{\"attributes\":{\"months\":[0,1,2,3,4,5,6,7,8,9,10,11]},\"id\":\"a9d89a0a-8808-47ef-9e09-2703521f5366\",\"type\":\"MonthsTicker\"},{\"attributes\":{\"months\":[0,2,4,6,8,10]},\"id\":\"59345bec-7906-4ba5-9211-dcc5c84cef29\",\"type\":\"MonthsTicker\"},{\"attributes\":{\"months\":[0,6]},\"id\":\"c2464e5b-25f2-4226-a82c-6707b7e4336c\",\"type\":\"MonthsTicker\"},{\"attributes\":{\"fill_alpha\":{\"value\":0.5},\"fill_color\":{\"value\":\"firebrick\"},\"line_alpha\":{\"value\":0.5},\"line_color\":{\"value\":\"white\"},\"size\":{\"units\":\"screen\",\"value\":10},\"x\":{\"field\":\"datetime\"},\"y\":{\"field\":\"glucose\"}},\"id\":\"b9647750-c974-4593-aebb-7abe5f455d94\",\"type\":\"Circle\"},{\"attributes\":{\"below\":[{\"id\":\"dbb6a782-c9de-4034-aab9-f1ac015a77de\",\"type\":\"DatetimeAxis\"}],\"left\":[{\"id\":\"dc216c25-d060-4086-8e15-bd604790a4d2\",\"type\":\"LinearAxis\"}],\"renderers\":[{\"id\":\"dbb6a782-c9de-4034-aab9-f1ac015a77de\",\"type\":\"DatetimeAxis\"},{\"id\":\"2c04449c-7685-43b1-abc7-6f409e66319b\",\"type\":\"Grid\"},{\"id\":\"dc216c25-d060-4086-8e15-bd604790a4d2\",\"type\":\"LinearAxis\"},{\"id\":\"be60dd98-230b-420d-aa95-87cc2441f28b\",\"type\":\"Grid\"},{\"id\":\"a35d686d-98a7-4187-8ba6-9a1d1f17f5b0\",\"type\":\"BoxAnnotation\"},{\"id\":\"c119735c-c645-4b02-a383-d66c7878e263\",\"type\":\"GlyphRenderer\"},{\"id\":\"6bdee903-f4f2-456c-8b08-bec122583463\",\"type\":\"GlyphRenderer\"}],\"title\":{\"id\":\"340df1db-2d1d-4498-beb1-8b4c353b494a\",\"type\":\"Title\"},\"toolbar\":{\"id\":\"8cc4a0f8-c540-4d53-b043-75c7dc5f6c31\",\"type\":\"Toolbar\"},\"x_range\":{\"id\":\"94d6d6c3-9131-4f24-8719-90b2d337b389\",\"type\":\"DataRange1d\"},\"x_scale\":{\"id\":\"f4d2d75c-6ce2-4f82-a89c-4f6843c000b5\",\"type\":\"LinearScale\"},\"y_range\":{\"id\":\"9e9e3869-fdb9-4f1d-ba85-5fb496f5670f\",\"type\":\"DataRange1d\"},\"y_scale\":{\"id\":\"0826a23e-22ef-4ea5-aaf1-c32a479085fd\",\"type\":\"LinearScale\"}},\"id\":\"b94be191-8b3f-4305-8f2e-f657a999b10a\",\"subtype\":\"Figure\",\"type\":\"Plot\"},{\"attributes\":{},\"id\":\"1fb98762-86ea-45a9-99a1-26f5a0d418ce\",\"type\":\"BasicTickFormatter\"},{\"attributes\":{\"callback\":null,\"mode\":\"hline\",\"tooltips\":null},\"id\":\"dd86c514-987a-49de-bab5-61738aae6393\",\"type\":\"HoverTool\"},{\"attributes\":{\"callback\":null,\"column_names\":[\"datetime\",\"isig\",\"glucose\",\"index\"],\"data\":{\"datetime\":{\"__ndarray__\":\"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\",\"dtype\":\"float64\",\"shape\":[288]},\"glucose\":[150,152,149,147,148,150,152,152,152,151,151,150,149,147,146,143,140,138,136,137,138,140,138,135,132,130,129,129,129,130,130,129,128,128,128,129,129,128,127,126,125,125,125,125,124,124,121,120,120,123,124,123,122,120,115,113,114,114,115,116,115,112,111,111,109,108,107,107,110,113,114,115,115,115,114,113,113,116,119,120,121,121,122,123,124,125,126,126,126,126,126,127,127,125,122,118,115,111,112,115,117,120,124,127,131,137,143,148,153,159,166,172,178,184,191,199,206,212,217,223,229,232,233,235,237,240,241,243,246,247,246,243,240,234,229,225,221,217,216,215,215,215,212,208,203,199,196,194,190,185,180,177,163,158,152,149,153,163,174,182,188,192,195,197,201,204,205,203,199,195,189,184,176,169,162,150,138,128,119,110,100,90,80,73,68,64,63,63,66,68,70,71,72,74,80,94,116,141,164,183,198,210,220,228,233,237,241,247,252,256,260,259,258,256,251,245,238,234,227,221,215,208,207,207,203,201,201,199,179,176,171,163,152,137,119,98,77,61,50,45,47,59,71,86,99,109,116,117,115,111,107,102,96,91,90,94,97,97,95,92,87,84,84,83,84,86,86,86,84,82,82,81,81,82,84,87,89,91,92,94,93,93,94,96,100,101,99,97],\"index\":[0,1,2,3,4,5,6,7,8,9,10,11,12,13,14,15,16,17,18,19,20,21,22,23,24,25,26,27,28,29,30,31,32,33,34,35,36,37,38,39,40,41,42,43,44,45,46,47,48,49,50,51,52,53,54,55,56,57,58,59,60,61,62,63,64,65,66,67,68,69,70,71,72,73,74,75,76,77,78,79,80,81,82,83,84,85,86,87,88,89,90,91,92,93,94,95,96,97,98,99,100,101,102,103,104,105,106,107,108,109,110,111,112,113,114,115,116,117,118,119,120,121,122,123,124,125,126,127,128,129,130,131,132,133,134,135,136,137,138,139,140,141,142,143,144,145,146,147,148,149,150,151,152,153,154,155,156,157,158,159,160,161,162,163,164,165,166,167,168,169,170,171,172,173,174,175,176,177,178,179,180,181,182,183,184,185,186,187,188,189,190,191,192,193,194,195,196,197,198,199,200,201,202,203,204,205,206,207,208,209,210,211,212,213,214,215,216,217,218,219,220,221,222,223,224,225,226,227,228,229,230,231,232,233,234,235,236,237,238,239,240,241,242,243,244,245,246,247,248,249,250,251,252,253,254,255,256,257,258,259,260,261,262,263,264,265,266,267,268,269,270,271,272,273,274,275,276,277,278,279,280,281,282,283,284,285,286,287],\"isig\":{\"__ndarray__\":\"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\",\"dtype\":\"float64\",\"shape\":[288]}},\"selected\":null,\"selection_policy\":null},\"id\":\"6cdcced6-0f47-49c4-b005-dd4b6fb1fb6c\",\"type\":\"ColumnDataSource\"},{\"attributes\":{},\"id\":\"1f528409-345e-4dfb-89e5-4b6e144483cd\",\"type\":\"YearsTicker\"},{\"attributes\":{\"plot\":null,\"text\":\"\"},\"id\":\"340df1db-2d1d-4498-beb1-8b4c353b494a\",\"type\":\"Title\"},{\"attributes\":{\"base\":60,\"mantissas\":[1,2,5,10,15,20,30],\"max_interval\":1800000.0,\"min_interval\":1000.0,\"num_minor_ticks\":0},\"id\":\"26174982-4701-4eaf-bbdb-bf48a03f9b28\",\"type\":\"AdaptiveTicker\"},{\"attributes\":{\"fill_alpha\":{\"value\":0.1},\"fill_color\":{\"value\":\"#1f77b4\"},\"line_alpha\":{\"value\":0.1},\"line_color\":{\"value\":\"#1f77b4\"},\"size\":{\"units\":\"screen\",\"value\":10},\"x\":{\"field\":\"datetime\"},\"y\":{\"field\":\"glucose\"}},\"id\":\"d7dc428d-5419-4974-a689-7c7a04ab1cf8\",\"type\":\"Circle\"},{\"attributes\":{\"days\":[1,2,3,4,5,6,7,8,9,10,11,12,13,14,15,16,17,18,19,20,21,22,23,24,25,26,27,28,29,30,31]},\"id\":\"377b0b02-30db-4c0d-9052-72d0e01f9cff\",\"type\":\"DaysTicker\"},{\"attributes\":{\"fill_alpha\":{\"value\":0.1},\"fill_color\":{\"value\":\"#1f77b4\"},\"line_alpha\":{\"value\":0.1},\"line_color\":{\"value\":null},\"size\":{\"units\":\"screen\",\"value\":10},\"x\":{\"field\":\"datetime\"},\"y\":{\"field\":\"glucose\"}},\"id\":\"23de4471-ddae-4d1b-80bb-37f0ed7a5e33\",\"type\":\"Circle\"},{\"attributes\":{\"data_source\":{\"id\":\"6cdcced6-0f47-49c4-b005-dd4b6fb1fb6c\",\"type\":\"ColumnDataSource\"},\"glyph\":{\"id\":\"23de4471-ddae-4d1b-80bb-37f0ed7a5e33\",\"type\":\"Circle\"},\"hover_glyph\":{\"id\":\"b9647750-c974-4593-aebb-7abe5f455d94\",\"type\":\"Circle\"},\"muted_glyph\":null,\"nonselection_glyph\":{\"id\":\"d7dc428d-5419-4974-a689-7c7a04ab1cf8\",\"type\":\"Circle\"},\"selection_glyph\":null,\"view\":{\"id\":\"68354afc-5bae-4f61-adc0-9bd2d66b2aee\",\"type\":\"CDSView\"}},\"id\":\"6bdee903-f4f2-456c-8b08-bec122583463\",\"type\":\"GlyphRenderer\"},{\"attributes\":{\"callback\":null},\"id\":\"94d6d6c3-9131-4f24-8719-90b2d337b389\",\"type\":\"DataRange1d\"},{\"attributes\":{\"source\":{\"id\":\"6cdcced6-0f47-49c4-b005-dd4b6fb1fb6c\",\"type\":\"ColumnDataSource\"}},\"id\":\"68354afc-5bae-4f61-adc0-9bd2d66b2aee\",\"type\":\"CDSView\"},{\"attributes\":{\"active_drag\":\"auto\",\"active_inspect\":\"auto\",\"active_scroll\":\"auto\",\"active_tap\":\"auto\",\"tools\":[{\"id\":\"9f9e1802-ba67-4d46-bf35-61dc1ccdbcbe\",\"type\":\"PanTool\"},{\"id\":\"e29b9928-3dfb-450f-a12a-4ac421dc3af2\",\"type\":\"WheelZoomTool\"},{\"id\":\"28d3e8ef-bb31-4022-91b7-2e73a92ff0ac\",\"type\":\"BoxZoomTool\"},{\"id\":\"8711e606-077c-44df-abf9-35ba1857048a\",\"type\":\"SaveTool\"},{\"id\":\"094fd7eb-3e1c-4541-ac7b-33292ccaf2e8\",\"type\":\"ResetTool\"},{\"id\":\"24eef594-eed6-4cf3-b236-d3e389ba1d63\",\"type\":\"HelpTool\"},{\"id\":\"dd86c514-987a-49de-bab5-61738aae6393\",\"type\":\"HoverTool\"}]},\"id\":\"8cc4a0f8-c540-4d53-b043-75c7dc5f6c31\",\"type\":\"Toolbar\"},{\"attributes\":{\"days\":[1,8,15,22]},\"id\":\"0bcea934-5185-4df3-83d3-d460bcf8f33e\",\"type\":\"DaysTicker\"},{\"attributes\":{},\"id\":\"4a1a8e19-d800-4377-b630-c9c12f5a0663\",\"type\":\"DatetimeTickFormatter\"},{\"attributes\":{\"base\":24,\"mantissas\":[1,2,4,6,8,12],\"max_interval\":43200000.0,\"min_interval\":3600000.0,\"num_minor_ticks\":0},\"id\":\"18b8efa9-73a0-45c7-a98d-50b652ffa150\",\"type\":\"AdaptiveTicker\"},{\"attributes\":{\"callback\":null},\"id\":\"9e9e3869-fdb9-4f1d-ba85-5fb496f5670f\",\"type\":\"DataRange1d\"},{\"attributes\":{\"data_source\":{\"id\":\"6cdcced6-0f47-49c4-b005-dd4b6fb1fb6c\",\"type\":\"ColumnDataSource\"},\"glyph\":{\"id\":\"0e430d1e-4c8c-45bf-9725-f3169c28706a\",\"type\":\"Line\"},\"hover_glyph\":null,\"muted_glyph\":null,\"nonselection_glyph\":{\"id\":\"7f0be186-479a-4943-87e1-f35aaeca5f61\",\"type\":\"Line\"},\"selection_glyph\":null,\"view\":{\"id\":\"1f35b068-c896-4d06-b3ad-043957073fda\",\"type\":\"CDSView\"}},\"id\":\"c119735c-c645-4b02-a383-d66c7878e263\",\"type\":\"GlyphRenderer\"},{\"attributes\":{\"line_alpha\":0.1,\"line_color\":\"#1f77b4\",\"line_dash\":[2,4],\"x\":{\"field\":\"datetime\"},\"y\":{\"field\":\"glucose\"}},\"id\":\"7f0be186-479a-4943-87e1-f35aaeca5f61\",\"type\":\"Line\"},{\"attributes\":{},\"id\":\"f4d2d75c-6ce2-4f82-a89c-4f6843c000b5\",\"type\":\"LinearScale\"},{\"attributes\":{\"mantissas\":[1,2,5],\"max_interval\":500.0,\"num_minor_ticks\":0},\"id\":\"8f999b54-dc11-46be-822f-edd036748e71\",\"type\":\"AdaptiveTicker\"},{\"attributes\":{},\"id\":\"0826a23e-22ef-4ea5-aaf1-c32a479085fd\",\"type\":\"LinearScale\"},{\"attributes\":{\"plot\":{\"id\":\"b94be191-8b3f-4305-8f2e-f657a999b10a\",\"subtype\":\"Figure\",\"type\":\"Plot\"},\"ticker\":{\"id\":\"b53aaa82-8c35-4d1f-8600-0c40d909ed3e\",\"type\":\"DatetimeTicker\"}},\"id\":\"2c04449c-7685-43b1-abc7-6f409e66319b\",\"type\":\"Grid\"}],\"root_ids\":[\"b94be191-8b3f-4305-8f2e-f657a999b10a\"]},\"title\":\"Bokeh Application\",\"version\":\"0.12.15\"}};\n",
       "  var render_items = [{\"docid\":\"e2a1d958-4934-47a2-a0d0-76b0618cc027\",\"elementid\":\"d38dbf39-fc2c-447a-b30d-d916d4b2be49\",\"modelid\":\"b94be191-8b3f-4305-8f2e-f657a999b10a\"}];\n",
       "  root.Bokeh.embed.embed_items_notebook(docs_json, render_items);\n",
       "\n",
       "  }\n",
       "  if (root.Bokeh !== undefined) {\n",
       "    embed_document(root);\n",
       "  } else {\n",
       "    var attempts = 0;\n",
       "    var timer = setInterval(function(root) {\n",
       "      if (root.Bokeh !== undefined) {\n",
       "        embed_document(root);\n",
       "        clearInterval(timer);\n",
       "      }\n",
       "      attempts++;\n",
       "      if (attempts > 100) {\n",
       "        console.log(\"Bokeh: ERROR: Unable to run BokehJS code because BokehJS library is missing\")\n",
       "        clearInterval(timer);\n",
       "      }\n",
       "    }, 10, root)\n",
       "  }\n",
       "})(window);"
      ],
      "application/vnd.bokehjs_exec.v0+json": ""
     },
     "metadata": {
      "application/vnd.bokehjs_exec.v0+json": {
       "id": "b94be191-8b3f-4305-8f2e-f657a999b10a"
      }
     },
     "output_type": "display_data"
    }
   ],
   "source": [
    "source = ColumnDataSource(df)\n",
    "p = figure(x_axis_type = \"datetime\", x_axis_label = 'Time of the day', y_axis_label = 'Blood Glucose (mg/dL)')\n",
    "p.line('datetime', 'glucose', line_dash = 'dotted', alpha = 0.9, source = source)\n",
    "p.circle('datetime', 'glucose', source = source, alpha = 0.1, line_color = None, size = 10, hover_fill_color = 'firebrick',\n",
    "        hover_line_color = 'white', hover_alpha = 0.5)\n",
    "hover = HoverTool(tooltips = None, mode = 'hline')\n",
    "p.add_tools(hover)\n",
    "show(p)"
   ]
  },
  {
   "cell_type": "markdown",
   "metadata": {},
   "source": [
    "### Ejercicio 4 - "
   ]
  },
  {
   "cell_type": "code",
   "execution_count": 61,
   "metadata": {},
   "outputs": [
    {
     "data": {
      "text/html": [
       "<div>\n",
       "<style scoped>\n",
       "    .dataframe tbody tr th:only-of-type {\n",
       "        vertical-align: middle;\n",
       "    }\n",
       "\n",
       "    .dataframe tbody tr th {\n",
       "        vertical-align: top;\n",
       "    }\n",
       "\n",
       "    .dataframe thead th {\n",
       "        text-align: right;\n",
       "    }\n",
       "</style>\n",
       "<table border=\"1\" class=\"dataframe\">\n",
       "  <thead>\n",
       "    <tr style=\"text-align: right;\">\n",
       "      <th></th>\n",
       "      <th>Country</th>\n",
       "      <th>Continent</th>\n",
       "      <th>female literacy</th>\n",
       "      <th>fertility</th>\n",
       "      <th>population</th>\n",
       "      <th>scaledPopulation</th>\n",
       "    </tr>\n",
       "  </thead>\n",
       "  <tbody>\n",
       "    <tr>\n",
       "      <th>0</th>\n",
       "      <td>Chine</td>\n",
       "      <td>ASI</td>\n",
       "      <td>90.5</td>\n",
       "      <td>1.769</td>\n",
       "      <td>1.324655e+09</td>\n",
       "      <td>132.465500</td>\n",
       "    </tr>\n",
       "    <tr>\n",
       "      <th>1</th>\n",
       "      <td>Inde</td>\n",
       "      <td>ASI</td>\n",
       "      <td>50.8</td>\n",
       "      <td>2.682</td>\n",
       "      <td>1.139965e+09</td>\n",
       "      <td>113.996493</td>\n",
       "    </tr>\n",
       "    <tr>\n",
       "      <th>2</th>\n",
       "      <td>USA</td>\n",
       "      <td>NAM</td>\n",
       "      <td>99.0</td>\n",
       "      <td>2.077</td>\n",
       "      <td>3.040600e+08</td>\n",
       "      <td>30.406000</td>\n",
       "    </tr>\n",
       "    <tr>\n",
       "      <th>3</th>\n",
       "      <td>Indonésie</td>\n",
       "      <td>ASI</td>\n",
       "      <td>88.8</td>\n",
       "      <td>2.132</td>\n",
       "      <td>2.273451e+08</td>\n",
       "      <td>22.734508</td>\n",
       "    </tr>\n",
       "    <tr>\n",
       "      <th>4</th>\n",
       "      <td>Brésil</td>\n",
       "      <td>LAT</td>\n",
       "      <td>90.2</td>\n",
       "      <td>1.827</td>\n",
       "      <td>1.919715e+08</td>\n",
       "      <td>19.197151</td>\n",
       "    </tr>\n",
       "  </tbody>\n",
       "</table>\n",
       "</div>"
      ],
      "text/plain": [
       "    Country  Continent  female literacy  fertility    population  \\\n",
       "0      Chine       ASI             90.5      1.769  1.324655e+09   \n",
       "1       Inde       ASI             50.8      2.682  1.139965e+09   \n",
       "2        USA       NAM             99.0      2.077  3.040600e+08   \n",
       "3  Indonésie       ASI             88.8      2.132  2.273451e+08   \n",
       "4     Brésil       LAT             90.2      1.827  1.919715e+08   \n",
       "\n",
       "   scaledPopulation  \n",
       "0        132.465500  \n",
       "1        113.996493  \n",
       "2         30.406000  \n",
       "3         22.734508  \n",
       "4         19.197151  "
      ]
     },
     "execution_count": 61,
     "metadata": {},
     "output_type": "execute_result"
    }
   ],
   "source": [
    "fileData = pd.read_csv(\"female_literacy_birth_rate.csv\")\n",
    "fileData['scaledPopulation'] = fileData['population'] * 0.0000001\n",
    "dataSource = ColumnDataSource(fileData)\n",
    "fileData.head()"
   ]
  },
  {
   "cell_type": "code",
   "execution_count": 62,
   "metadata": {},
   "outputs": [
    {
     "data": {
      "text/plain": [
       "['#1f77b4', '#ff7f0e', '#2ca02c', '#d62728', '#9467bd', '#8c564b']"
      ]
     },
     "execution_count": 62,
     "metadata": {},
     "output_type": "execute_result"
    }
   ],
   "source": [
    "from bokeh.palettes import d3\n",
    "d3['Category10'][6]"
   ]
  },
  {
   "cell_type": "code",
   "execution_count": 63,
   "metadata": {},
   "outputs": [
    {
     "data": {
      "text/plain": [
       "['ASI', 'NAM', 'LAT', 'AF', 'EUR', 'OCE']"
      ]
     },
     "execution_count": 63,
     "metadata": {},
     "output_type": "execute_result"
    }
   ],
   "source": [
    "factores = list(fileData['Continent'].unique())\n",
    "factores"
   ]
  },
  {
   "cell_type": "code",
   "execution_count": 64,
   "metadata": {},
   "outputs": [],
   "source": [
    "color_mapper = CategoricalColorMapper(factors = factores, \n",
    "                                      palette = d3['Category10'][6])"
   ]
  },
  {
   "cell_type": "code",
   "execution_count": 71,
   "metadata": {},
   "outputs": [
    {
     "data": {
      "text/html": [
       "\n",
       "<div class=\"bk-root\">\n",
       "    <div class=\"bk-plotdiv\" id=\"216238f4-9278-49a0-845a-cc79111538af\"></div>\n",
       "</div>"
      ]
     },
     "metadata": {},
     "output_type": "display_data"
    },
    {
     "data": {
      "application/javascript": [
       "(function(root) {\n",
       "  function embed_document(root) {\n",
       "    \n",
       "  var docs_json = {\"53dd5755-53c0-42d9-a81e-fd19b8a9ad04\":{\"roots\":{\"references\":[{\"attributes\":{},\"id\":\"2530fd58-f88b-419d-a19f-abcc1dd46a82\",\"type\":\"SaveTool\"},{\"attributes\":{\"plot\":{\"id\":\"e00ae970-edea-4e5c-9948-ddd018ac202d\",\"subtype\":\"Figure\",\"type\":\"Plot\"},\"ticker\":{\"id\":\"c1b5a769-cca8-4e7c-9eaf-d9a4870553fb\",\"type\":\"BasicTicker\"}},\"id\":\"1f9e33d5-1d76-421a-8030-e424182172d9\",\"type\":\"Grid\"},{\"attributes\":{\"callback\":null,\"column_names\":[\"Country \",\"Continent\",\"female literacy\",\"fertility\",\"population\",\"scaledPopulation\",\"index\"],\"data\":{\"Continent\":[\"ASI\",\"ASI\",\"NAM\",\"ASI\",\"LAT\",\"ASI\",\"ASI\",\"AF\",\"EUR\",\"ASI\",\"LAT\",\"ASI\",\"ASI\",\"EUR\",\"AF\",\"AF\",\"ASI\",\"ASI\",\"ASI\",\"AF\",\"EUR\",\"EUR\",\"EUR\",\"ASI\",\"AF\",\"ASI\",\"EUR\",\"EUR\",\"LAT\",\"AF\",\"AF\",\"LAT\",\"AF\",\"EUR\",\"AF\",\"NAM\",\"AF\",\"AF\",\"ASI\",\"ASI\",\"LAT\",\"ASI\",\"LAT\",\"ASI\",\"ASI\",\"ASI\",\"ASI\",\"AF\",\"ASI\",\"AF\",\"EUR\",\"AF\",\"ASI\",\"ASI\",\"AF\",\"AF\",\"AF\",\"LAT\",\"EUR\",\"ASI\",\"AF\",\"AF\",\"AF\",\"ASI\",\"LAT\",\"LAT\",\"AF\",\"AF\",\"AF\",\"AF\",\"EUR\",\"LAT\",\"AF\",\"EUR\",\"EUR\",\"EUR\",\"AF\",\"EUR\",\"LAT\",\"AF\",\"AF\",\"LAT\",\"EUR\",\"EUR\",\"ASI\",\"AF\",\"AF\",\"EUR\",\"EUR\",\"EUR\",\"LAT\",\"ASI\",\"ASI\",\"OCE\",\"AF\",\"AF\",\"LAT\",\"ASI\",\"LAT\",\"ASI\",\"LAT\",\"AF\",\"EUR\",\"EUR\",\"ASI\",\"ASI\",\"AF\",\"ASI\",\"EUR\",\"LAT\",\"ASI\",\"EUR\",\"EUR\",\"AF\",\"ASI\",\"OCE\",\"ASI\",\"AF\",\"EUR\",\"EUR\",\"LAT\",\"EUR\",\"LAT\",\"AF\",\"EUR\",\"ASI\",\"ASI\",\"ASI\",\"LAT\",\"ASI\",\"EUR\",\"AF\",\"AF\",\"EUR\",\"EUR\",\"AF\",\"AF\",\"AF\",\"AF\",\"EUR\",\"LAT\",\"ASI\",\"AF\",\"AF\",\"EUR\",\"ASI\",\"ASI\",\"AF\",\"AF\",\"ASI\",\"LAT\",\"AF\",\"EUR\",\"ASI\",\"LAT\",\"EUR\",\"ASI\",\"OCE\",\"OCE\",\"AF\",\"LAT\",\"ASI\"],\"Country \":[\"Chine\",\"Inde\",\"USA\",\"Indon\\u00e9sie\",\"Br\\u00e9sil\",\"Pakistan\",\"Bangladesh\",\"Nig\\u00e9ria\",\"F\\u00e9d\\u00e9ration de Russie\",\"Japan\",\"Mexique\",\"Philippines\",\"Viet Nam\",\"Germany\",\"Egypte\",\"Ethiopie\",\"Turquie\",\"Iran R\\u00e9publique islamique d'\",\"Tha\\u00eflande\",\"R\\u00e9p. D\\u00e9mocratique du Congo\",\"France\",\"UK\",\"Italie\",\"Myanmar\",\"Afrique du Sud\",\"South Korea\",\"Ukraine\",\"Espagne\",\"Colombie\",\"R\\u00e9publique-Unie de Tanzanie\",\"Soudan\",\"Argentine\",\"Kenya\",\"Pologne\",\"Alg\\u00e9rie\",\"Canada\",\"Ouganda\",\"Maroc\",\"Iraq\",\"Afghanistan\",\"P\\u00e9rou\",\"N\\u00e9pal\",\"Venezuela\",\"Ouzb\\u00e9kistan\",\"Malaisie\",\"Arabie saoudite\",\"R\\u00e9p. populaire d\\u00e9mocratique de Cor\\u00e9e\",\"Ghana\",\"Y\\u00e9men\",\"Mozambique\",\"Roumanie\",\"C\\u00f4te d'Ivoire\",\"R\\u00e9publique arabe syrienne\",\"Sri Lanka\",\"Madagascar\",\"Cameroun\",\"Angola\",\"Chili\",\"Netherlands\",\"Kazakhstan\",\"Burkina Faso\",\"Malawi\",\"Niger\",\"Cambodge\",\"Guatemala\",\"Equateur\",\"Mali\",\"Zambie\",\"Zimbabwe\",\"S\\u00e9n\\u00e9gal\",\"Gr\\u00e8ce\",\"Cuba\",\"Tchad\",\"Belgium\",\"Portugal\",\"Czech rep\",\"Tunisie\",\"Hongrie\",\"R\\u00e9publique dominicaine\",\"Guin\\u00e9e\",\"Rwanda\",\"Bolivie\",\"B\\u00e9larus\",\"Sweden\",\"Azerba\\u00efdjan\",\"B\\u00e9nin\",\"Burundi\",\"Switzerland\",\"Bulgarie\",\"Serbie\",\"Honduras\",\"Israel\",\"Tadjikistan\",\"Papouasie-Nouvelle-Guin\\u00e9e\",\"Togo\",\"Jamahiriya arabe libyenne\",\"Paraguay\",\"R\\u00e9p. d\\u00e9mocratique populaire lao\",\"El Salvador\",\"Jordanie\",\"Nicaragua\",\"Sierra Leone\",\"Denmark\",\"Finland\",\"Kirghizistan\",\"Turkm\\u00e9nistan\",\"Erythr\\u00e9e\",\"Singapour\",\"Norway\",\"Costa Rica\",\"Emirats arabes unis\",\"Croatie\",\"Ireland\",\"R\\u00e9publique centrafricaine\",\"G\\u00e9orgie\",\"New Zealand\",\"Liban\",\"Lib\\u00e9ria\",\"Bosnie-Herz\\u00e9govine\",\"R\\u00e9publique de Moldova\",\"Panama\",\"Lituanie\",\"Uruguay\",\"Mauritanie\",\"Albanie\",\"Arm\\u00e9nie\",\"Oman\",\"Kowe\\u00eft\",\"Jama\\u00efque\",\"Mongolie\",\"Lettonie\",\"Namibie\",\"Lesotho\",\"L'ex-R\\u00e9p. yougoslave de Mac\\u00e9doine\",\"Slov\\u00e9nie\",\"Botswana\",\"Gambie\",\"Guin\\u00e9e-Bissau\",\"Gabon\",\"Estonie\",\"Trinit\\u00e9-et-Tobago\",\"Qatar\",\"Maurice\",\"Swaziland\",\"Chypre\",\"Bahre\\u00efn\",\"Bhoutan\",\"Guin\\u00e9e \\u00e9quatoriale\",\"Comores\",\"Macao Chine\",\"Suriname\",\"Cap-Vert\",\"Malte\",\"Brun\\u00e9i Darussalam\",\"Bahamas\",\"Iceland\",\"Maldives\",\"Vanuatu\",\"Samoa\",\"Sao Tom\\u00e9-et-Principe\",\"Aruba\",\"Tonga\"],\"female literacy\":{\"__ndarray__\":\"AAAAAACgVkBmZmZmZmZJQAAAAAAAwFhAMzMzMzMzVkDNzMzMzIxWQAAAAAAAAERAZmZmZmbmSEBmZmZmZmZIQJqZmZmZ2VhAAAAAAADAWEAAAAAAAOBWQJqZmZmZeVdAzczMzMyMVkAAAAAAAMBYQGZmZmZm5kxAzczMzMzMNkAzMzMzM1NUQM3MzMzMTFNAAAAAAADgVkDNzMzMzAxMQAAAAAAAwFhAAAAAAADAWEAAAAAAAKBYQM3MzMzMTFZAZmZmZmYGVkBmZmZmZiZYQGZmZmZm5lhAmpmZmZk5WECamZmZmVlXQDMzMzMzk1BAzczMzMzMTUDNzMzMzGxYQDMzMzMzs1RAMzMzMzPTWEAzMzMzM/NPQAAAAAAAwFhAMzMzMzOzUEDNzMzMzAxGQM3MzMzMTFFAMzMzMzMzKUBmZmZmZiZVQDMzMzMzs0ZAmpmZmZm5V0CamZmZmblYQDMzMzMzc1ZAzczMzMwMVEAAAAAAAABZQGZmZmZmpk1AZmZmZmZmRUDNzMzMzAxEQJqZmZmZOVhAZmZmZmYmRkDNzMzMzExTQGZmZmZmRlZAMzMzMzNTUEAzMzMzM/NQQAAAAAAAgExAzczMzMysWEAAAAAAAMBYQAAAAAAA4FhAmpmZmZmZNUAzMzMzM3NQQDMzMzMzMy5AmpmZmZm5UUDNzMzMzCxRQM3MzMzMbFRAMzMzMzMzMkAAAAAAAIBOQDMzMzMzM1ZAAAAAAACAQECamZmZmflXQDMzMzMz81hAZmZmZmbmNUAAAAAAAMBYQJqZmZmZOVdAAAAAAADAWEAAAAAAAMBRQJqZmZmZuVhAMzMzMzMTVkBmZmZmZmY6QGZmZmZmhlBAAAAAAACAVUDNzMzMzOxYQAAAAAAAwFhAzczMzMzMWECamZmZmRk8QDMzMzMz801AAAAAAADAWECamZmZmXlYQM3MzMzMDFhAAAAAAADgVECamZmZmflXQAAAAAAA4FhAzczMzMzMS0CamZmZmdlKQDMzMzMzU1RAAAAAAABgV0CamZmZmZlPQJqZmZmZWVRAmpmZmZk5VkCamZmZmXlTQGZmZmZm5jxAAAAAAADAWEAAAAAAAABZQGZmZmZmxlhAMzMzMzPTWEAAAAAAAEBLQGZmZmZm5lZAAAAAAAAAWUDNzMzMzAxYQAAAAAAA4FZAAAAAAACAWEAAAAAAAMBYQM3MzMzMjERAzczMzMzsWEAAAAAAAMBYQAAAAAAAgFVAAAAAAACASkCamZmZmflXQDMzMzMzc1hAMzMzMzMzV0DNzMzMzOxYQAAAAAAAoFhAAAAAAADASEDNzMzMzKxYQJqZmZmZ2VhAmpmZmZk5VEBmZmZmZkZXQDMzMzMzs1ZAMzMzMzNzWEAzMzMzM/NYQM3MzMzM7FVAZmZmZmbGV0CamZmZmdlXQM3MzMzM7FhAAAAAAADgVEBmZmZmZiZBQAAAAAAAQEJAzczMzMzMVEAzMzMzM/NYQM3MzMzMjFhAmpmZmZmZVkAzMzMzMzNVQGZmZmZmZlVAzczMzMwsWECamZmZmVlWQJqZmZmZWUNAZmZmZmZGVkAzMzMzM/NQQM3MzMzMrFZAmpmZmZkZVkAzMzMzM9NTQAAAAAAAYFdAMzMzMzNTV0AAAAAAACBYQAAAAAAAwFhAmpmZmZmZWEAAAAAAAOBTQAAAAAAAoFhAMzMzMzPTVEAAAAAAAIBYQGZmZmZmxlhA\",\"dtype\":\"float64\",\"shape\":[162]},\"fertility\":{\"__ndarray__\":\"6Pup8dJN/D/b+X5qvHQFQARWDi2ynQBAdJMYBFYOAUAIrBxaZDv9P2Dl0CLb+Q5A6Pup8dJNAkD91HjpJrEUQH0/NV66SfY//tR46SYx9D9zaJHtfD8BQGmR7Xw/NQhA3SQGgZVDAEDJdr6fGi/1P7tJDAIrhwZA8tJNYhDYFEDNzMzMzMwAQOXQItv5fvw/8/3UeOkm/T9uEoPAyqEXQH9qvHSTGP4/bhKDwMqh/T89CtejcD32P3Noke18PwJACtejcD0KBEAv3SQGgZXzPy2yne+nxvU/sXJoke189z8IrBxaZDsDQBSuR+F6FBZACKwcWmQ7EEBjEFg5tMgBQFYOLbKdbxNAE4PAyqFF9D8j2/l+arwCQN0kBoGVQ/k/arx0kxgEGUB56SYxCKwCQOSlm8QgsA9AhetRuB4FGkA9CtejcD0EQC/dJAaBlQZAlkOLbOf7A0CWQ4ts5/sBQKrx0k1iEARAUrgehetRCEBEi2zn+6n9P+F6FK5H4RBAZmZmZmZmFECR7Xw/Nd4TQDMzMzMzM/U/dJMYBFYOEkD8qfHSTWIJQBFYObTIdgJAexSuR+F6EkBEi2zn+ykSQEA1XrpJjBZAN4lBYOXQ/j/AyqFFtvP7PycxCKwcWgJAd76fGi9dF0BSuB6F69EVQC2yne+nRhxArBxaZDvfBkDfT42XbhIQQLTIdr6fGgRAH4XrUbieFUCmm8QgsPIWQIGVQ4ts5wpAj8L1KFyPE0ApXI/C9Sj2PxSuR+F6FPg/bef7qfFSGEAlBoGVQ4v8P0A1XrpJDPY/MzMzMzMz9z/b+X5qvHT9P+xRuB6F6/U/TDeJQWDlBEA3iUFg5VAVQFK4HoXrURVALIcW2c73CkDl0CLb+X70P1YOLbKd7/0/001iEFg5AUBPjZduEoMVQM3MzMzMzBFAXI/C9Shc9z9g5dAi2/n2P5duEoPAyvk/hetRuB6FCUBqvHSTGAQGQM3MzMzMzApACtejcD0KEEBEi2zn+6kQQIlBYOXQIgVAN4lBYOXQB0BSuB6F61ELQFyPwvUoXAJA8/3UeOkmCEARWDm0yHYFQClcj8L1qBRAL90kBoGV/T/GSzeJQWD9P7+fGi/dJARAcT0K16NwA0DqJjEIrBwSQGiR7Xw/NfQ/KVyPwvUo/j9KDAIrhxb/P/yp8dJNYv4/30+Nl24S9z9zaJHtfD//P30/NV66yRJAHFpkO99P+T8zMzMzMzMAQNv5fmq8dP0/JQaBlUMLFEAxCKwcWmTzP9R46SYxCPg/VOOlm8QgBECsHFpkO9/1P4PAyqFFtgBAWmQ730+NEUBEi2zn+6n9PyyHFtnO9/s/bef7qfHSB0Cd76fGSzcBQEw3iUFg5QJAAyuHFtnO/z83iUFg5dD2P1K4HoXrUQpA6SYxCKwcCkBg5dAi2/n2P30/NV66SfY/+n5qvHSTBkDGSzeJQeATQIlBYOXQohZA7FG4HoXrCUBKDAIrhxb7PyYxCKwcWvo/4XoUrkfhAkB46SYxCKz8P5qZmZmZmQtAqMZLN4lB+D93vp8aL90BQBsv3SQGgQRAbhKDwMohFUAUrkfhehQPQLbz/dR46e4/lkOLbOf7AkDo+6nx0k0FQGq8dJMYBPQ/0SLb+X5qAEAshxbZzvcKQFg5tMh2vgBAAAAAAAAAAECq8dJNYhAPQDeJQWDl0A5AWDm0yHa+DUCDwMqhRbb7PwaBlUOLbA9A\",\"dtype\":\"float64\",\"shape\":[162]},\"index\":[0,1,2,3,4,5,6,7,8,9,10,11,12,13,14,15,16,17,18,19,20,21,22,23,24,25,26,27,28,29,30,31,32,33,34,35,36,37,38,39,40,41,42,43,44,45,46,47,48,49,50,51,52,53,54,55,56,57,58,59,60,61,62,63,64,65,66,67,68,69,70,71,72,73,74,75,76,77,78,79,80,81,82,83,84,85,86,87,88,89,90,91,92,93,94,95,96,97,98,99,100,101,102,103,104,105,106,107,108,109,110,111,112,113,114,115,116,117,118,119,120,121,122,123,124,125,126,127,128,129,130,131,132,133,134,135,136,137,138,139,140,141,142,143,144,145,146,147,148,149,150,151,152,153,154,155,156,157,158,159,160,161],\"population\":{\"__ndarray__\":\"AAAAZii900EAAAABn/zQQQAAAGCWH7JBAAAAdAUaq0EAAABkgeKmQQAAAP5RzaNBAAAAANESo0EAAAC8oQaiQQAAAGD466BBAAAAAG9ynkEAAACIHVuZQQAAAFRuipVBAAAAdOONlEEAAABEmpOTQQAAABAGcJNBAAAAaFs+k0EAAABQXp+RQQAAAIjdJ5FBAAAAPPAQkEEAAADY06OOQQAAAMA5so1BAAAAcNVIjUEAAACYu4eMQQAAAFgsoodBAAAAwDw3h0EAAADAeC2HQQAAAMDADoZBAAAAIAC5hUEAAAAApHaFQQAAAJgGQoRBAAAAWFS3g0EAAAAghwSDQQAAAAAYfIJBAAAA+AUugkEAAACQ+WOAQQAAAICqxH9BAAAAELowfkEAAAAANyR+QQAAAADXSX1BAAAAsDqte0EAAADANYB7QQAAAGCTeXtBAAAAgBGkekEAAABAYgx6QQAAABBMw3lBAAAAYAOBd0EAAAAQILd2QQAAAPDoRHZBAAAA0BbbdUEAAABQfFh1QQAAAGBZhHRBAAAAYCyjc0EAAACguqBzQQAAAMDyOHNBAAAA0ME5ckEAAAAQQDRyQQAAAMCTL3FBAAAAAIcGcEEAAAAgE15vQQAAACC65W1BAAAAgGsObUEAAADAHFFsQQAAAMDXC2xBAAAAAFvGa0EAAAAArhpqQQAAAAC6tmlBAAAAAPk7aEEAAABgNxJoQQAAAOBjxWdBAAAAoH1KZ0EAAADA3G5lQQAAAOAPX2VBAAAAYPDQZEEAAAAgumxkQQAAAKC5QmRBAAAAAALiY0EAAAAA37JjQQAAAIB1JWNBAAAA4Lj7YkEAAADgS8FiQQAAAMBuimJBAAAAIHR9YkEAAABA+nZiQQAAAKDGlWFBAAAAgFSOYEEAAADAiIVgQQAAAIADzV5BAAAAwG4sXUEAAADAuBRdQQAAAEDzCVxBAAAAQEHrW0EAAAAAgOFbQQAAAMDcE1pBAAAAgK0WWUEAAABAO6NYQQAAAECpAlhBAAAAwKfLV0EAAABA56tXQQAAAIAlZldBAAAAwJ6HVkEAAABAf55VQQAAAECLNVVBAAAAQN30VEEAAADA3URUQQAAAAAzIlRBAAAAgGg9U0EAAABAZ8tSQQAAAAD6dVJBAAAAAHUwUkEAAACANT1RQQAAAMDRG1FBAAAAABTqUEEAAADA8uFQQQAAAMCPjVBBAAAAwBBuUEEAAAAA2UhQQQAAAADv/k9BAAAAAPzwTEEAAAAAVslMQQAAAIBsuEtBAAAAgFPuSUEAAACA0Z5JQQAAAADSb0lBAAAAgGGHSEEAAACAPftHQQAAAIDveUdBAAAAgChARUEAAACANNBEQQAAAABwgERBAAAAAKAmREEAAAAA90lBQQAAAADfP0BBAAAAAJVFP0EAAAAA/iU/QQAAAADE1z5BAAAAAGJQPUEAAAAAKFU5QQAAAAAWCjhBAAAAAN8YNkEAAAAAA3U0QQAAAACMWDRBAAAAAF6LM0EAAAAAdlwzQQAAAADa0TFBAAAAAMRRKkEAAAAAQqsnQQAAAACK9SRBAAAAAPodJEEAAAAA5qMjQQAAAADEDiBBAAAAANBwH0EAAAAAwG8eQQAAAAC4JBlBAAAAAGDxF0EAAAAAEJwUQQAAAACYXxNBAAAAAAyeEkEAAAAAUIwMQQAAAACo1QVBAAAAAHCNA0EAAAAA8L75QAAAAADgSPlA\",\"dtype\":\"float64\",\"shape\":[162]},\"scaledPopulation\":{\"__ndarray__\":\"N4lBYOWOYEDtK2qLxn9cQA4tsp3vZz5A0qS5ugi8NkAEYzN2eDIzQC9+vz10nDBA1pS/1gAAMECY43BBET4uQKNwPQrXYyxAQq1p3nGKKUDPFJVoJEUlQHrxjwjXESJADYbf8v09IUANR6F2CWwgQMkS5/IwTiBAJpJDH4ckIEBlNzP60ZAdQJkttM5TyBxAyko4mV30GkBRZ+4h4bMZQKmLb4M16RhAec5xycyQGEAAXlWs0O4XQCBpJs5A0xNACyQofox5E0A2qz5XW3ETQBu7RPXWgBJAd1jywuc4EkDVw+EWPQESQBlQFI1a/hBAdqDzvwGKEEAfniXICOgPQJpjL8oiAw9AYiQgyyeADkBOLiF6rX8LQPUtc7ospgpAERyXcVNTCUCN8ieF1EgJQO38kdikkQhAwS4vZYU3B0CLprOTwREHQP+bcuAwDAdADAIrhxZZBkBENLqD2NkFQIp/jkWJnAVA8Pz9vW+3A0CWMyWjFA4DQNYG3RRFrgJApkHRPIBVAkAHUJ1Y8ecBQA3OlmL9NQFAw6UZQRl5AEDul09WDHcAQBk0mZb9HwBAwUExaNeT/j/4hy09mor+P2ZRM/9D1fw/oq/FE+bi+j+LUp1pHVD6PyNraF5pFPk/OLHRg8xf+D8AvoAD/8D3P3/5v37jhvc/aovGNZlM9z8bMQ6J1uX1P36d5cP9kfU/ZZOy+0RU9D9dXzXgPTH0P4ZovpTL8PM/yNsAIrOJ8z8TUzO1tvrxP/ON6J517fE/WBjH7Tx28T9gQIqVLCLxP09ev7vw/vA/VAbE2s6t8D/1Zz9SRIbwP2rCUU2kD/A/H+0kx0LZ7z/+Qo8YPXfvP6snTkkxG+8/WO672GoF7z/t8NdkjfruP0cscwS6gO0/EDtT6LzG6z8+chAZ+7frPwO23spt1uk/02Uxsfl46D8kXp7OFWXoP6/KKhFNhec/ET2ETI1r5z+InSl0XmPnP+TFeIMe4OU/oCmFirsL5T8U56ij46rkP6tVYG0xJOQ/HQJHAg324z98sDFUatvjP8AklSnmoOM/KRAs/Trm4j/7kSIyrCLiP+PQEa+hyuE/Ii6l01+U4T/J6rGIvADhP6T8pNqn4+A/EUGLW7sj4D+qDan9MYjfP7d6Tnrf+N4/w4YCET2E3j8An2nTIuzcPyb9vRQetNw/N/jCZKpg3D9QcLGiBlPcP0j019Byxds/e3q2WJuQ2z/8Uj9vKlLbPy73bpgN19o/ECOERxtH2D9nCp3X2CXYP3yFu2npQNc/DFC/sKHA1T+duYeE733VP+c+lMOCVtU/8H6BxYaT1D9dlyvN9x3UP491zNR/sdM/PVgQFInT0T/eve1Tn3XRP9/98V61MtE/TbOKSF7n0D/dq/tsiQHNP+BCwwcbQ8s/JhGGppE7yj8yYH/IESHKP9F7vsFy38k/cdAU8CGXyD+Orz2zJEDFP86oVORrKsQ/WGw40VOJwj/wbfqzHynBP2nZpOw+EcE/NtII7CBlwD8igavhxz3APzk3t1OE5b0/yu9+JgwUtj9q3Qa139qzP3ndbL3wlLE/boGpCx3gsD9c8cP3tHmwP+n7X2S48Ko//kutUtVfqj9AQ0mSMYipP/J2hNOCF6U/OsssQrEVpD/CkmHL4UmhPzvH26VoQKA/gUDCixk8nz+2lagoqPKXP1V3G4rxUJI/C/WqhN1mkD/IsfUM4ZiFP6PMYVLXNYU/\",\"dtype\":\"float64\",\"shape\":[162]}},\"selected\":null,\"selection_policy\":null},\"id\":\"84e03568-1c29-4d2e-87dd-39b243cdb31c\",\"type\":\"ColumnDataSource\"},{\"attributes\":{},\"id\":\"ec9c2423-80f5-4710-b3ec-3d904e0e0b27\",\"type\":\"ResetTool\"},{\"attributes\":{\"axis_label\":\"Adult female literacy (%)\",\"formatter\":{\"id\":\"7fc6be10-a465-4cda-a7f2-54b0ec7911eb\",\"type\":\"BasicTickFormatter\"},\"plot\":{\"id\":\"e00ae970-edea-4e5c-9948-ddd018ac202d\",\"subtype\":\"Figure\",\"type\":\"Plot\"},\"ticker\":{\"id\":\"c1b5a769-cca8-4e7c-9eaf-d9a4870553fb\",\"type\":\"BasicTicker\"}},\"id\":\"c91f3453-dbc1-40f2-b092-f78e4cf192be\",\"type\":\"LinearAxis\"},{\"attributes\":{},\"id\":\"a29ebe90-a3a3-4d25-91a0-df6cb519f12f\",\"type\":\"HelpTool\"},{\"attributes\":{},\"id\":\"c1b5a769-cca8-4e7c-9eaf-d9a4870553fb\",\"type\":\"BasicTicker\"},{\"attributes\":{\"axis_label\":\"fertility (children per woman)\",\"formatter\":{\"id\":\"7bda0a97-a011-4f9c-986f-c026fec93216\",\"type\":\"BasicTickFormatter\"},\"plot\":{\"id\":\"e00ae970-edea-4e5c-9948-ddd018ac202d\",\"subtype\":\"Figure\",\"type\":\"Plot\"},\"ticker\":{\"id\":\"60a0f107-78c7-4631-98ec-74bf67c5cdd1\",\"type\":\"BasicTicker\"}},\"id\":\"0fcb0eaf-2a5d-41cf-b0a8-dda865dd7ed7\",\"type\":\"LinearAxis\"},{\"attributes\":{\"plot\":null,\"text\":\"\"},\"id\":\"45ed9cd9-c80f-494a-b764-549c7c8e4cc9\",\"type\":\"Title\"},{\"attributes\":{},\"id\":\"60a0f107-78c7-4631-98ec-74bf67c5cdd1\",\"type\":\"BasicTicker\"},{\"attributes\":{},\"id\":\"7bda0a97-a011-4f9c-986f-c026fec93216\",\"type\":\"BasicTickFormatter\"},{\"attributes\":{\"dimension\":1,\"plot\":{\"id\":\"e00ae970-edea-4e5c-9948-ddd018ac202d\",\"subtype\":\"Figure\",\"type\":\"Plot\"},\"ticker\":{\"id\":\"60a0f107-78c7-4631-98ec-74bf67c5cdd1\",\"type\":\"BasicTicker\"}},\"id\":\"390a7d29-7599-40d6-ba1e-e9070d5bf13b\",\"type\":\"Grid\"},{\"attributes\":{\"data_source\":{\"id\":\"84e03568-1c29-4d2e-87dd-39b243cdb31c\",\"type\":\"ColumnDataSource\"},\"glyph\":{\"id\":\"3e633188-e7c9-4514-b450-b4824391456a\",\"type\":\"Circle\"},\"hover_glyph\":null,\"muted_glyph\":null,\"nonselection_glyph\":{\"id\":\"0c289c50-2a9c-43bc-b972-21accde89d88\",\"type\":\"Circle\"},\"selection_glyph\":null,\"view\":{\"id\":\"5ac0afcf-4ab7-43a8-a99b-388ebc9d271c\",\"type\":\"CDSView\"}},\"id\":\"f043a513-8885-4058-8d9f-ce337d14e2c3\",\"type\":\"GlyphRenderer\"},{\"attributes\":{\"fill_alpha\":{\"value\":0.8},\"fill_color\":{\"field\":\"Continent\",\"transform\":{\"id\":\"87658d1f-5382-495f-a005-1845c192614e\",\"type\":\"CategoricalColorMapper\"}},\"line_alpha\":{\"value\":0.8},\"line_color\":{\"value\":\"gray\"},\"line_width\":{\"value\":0.5},\"size\":{\"field\":\"scaledPopulation\",\"units\":\"screen\"},\"x\":{\"field\":\"female literacy\"},\"y\":{\"field\":\"fertility\"}},\"id\":\"3e633188-e7c9-4514-b450-b4824391456a\",\"type\":\"Circle\"},{\"attributes\":{\"bottom_units\":\"screen\",\"fill_alpha\":{\"value\":0.5},\"fill_color\":{\"value\":\"lightgrey\"},\"left_units\":\"screen\",\"level\":\"overlay\",\"line_alpha\":{\"value\":1.0},\"line_color\":{\"value\":\"black\"},\"line_dash\":[4,4],\"line_width\":{\"value\":2},\"plot\":null,\"render_mode\":\"css\",\"right_units\":\"screen\",\"top_units\":\"screen\"},\"id\":\"389f375a-3b9a-44dd-8a6b-f0a2604b3080\",\"type\":\"BoxAnnotation\"},{\"attributes\":{\"below\":[{\"id\":\"c91f3453-dbc1-40f2-b092-f78e4cf192be\",\"type\":\"LinearAxis\"}],\"left\":[{\"id\":\"0fcb0eaf-2a5d-41cf-b0a8-dda865dd7ed7\",\"type\":\"LinearAxis\"}],\"plot_height\":480,\"plot_width\":960,\"renderers\":[{\"id\":\"c91f3453-dbc1-40f2-b092-f78e4cf192be\",\"type\":\"LinearAxis\"},{\"id\":\"1f9e33d5-1d76-421a-8030-e424182172d9\",\"type\":\"Grid\"},{\"id\":\"0fcb0eaf-2a5d-41cf-b0a8-dda865dd7ed7\",\"type\":\"LinearAxis\"},{\"id\":\"390a7d29-7599-40d6-ba1e-e9070d5bf13b\",\"type\":\"Grid\"},{\"id\":\"389f375a-3b9a-44dd-8a6b-f0a2604b3080\",\"type\":\"BoxAnnotation\"},{\"id\":\"05927cc2-4eca-4721-84cd-56b92818b991\",\"type\":\"Legend\"},{\"id\":\"f043a513-8885-4058-8d9f-ce337d14e2c3\",\"type\":\"GlyphRenderer\"}],\"title\":{\"id\":\"45ed9cd9-c80f-494a-b764-549c7c8e4cc9\",\"type\":\"Title\"},\"toolbar\":{\"id\":\"9c6aee57-c90d-4161-a002-20cdf4fd8837\",\"type\":\"Toolbar\"},\"x_range\":{\"id\":\"b16d53e7-47f5-4356-a2ef-b42702581400\",\"type\":\"DataRange1d\"},\"x_scale\":{\"id\":\"fde735fc-c099-4a34-93d3-7d6b82b1eb67\",\"type\":\"LinearScale\"},\"y_range\":{\"id\":\"3ac503f8-5206-4801-b738-538464a0b2ae\",\"type\":\"DataRange1d\"},\"y_scale\":{\"id\":\"c180320b-67c9-4e03-8f9a-1db510937d0e\",\"type\":\"LinearScale\"}},\"id\":\"e00ae970-edea-4e5c-9948-ddd018ac202d\",\"subtype\":\"Figure\",\"type\":\"Plot\"},{\"attributes\":{},\"id\":\"eb57dceb-da1f-42a0-8a7d-76313e10331c\",\"type\":\"PanTool\"},{\"attributes\":{},\"id\":\"7fc6be10-a465-4cda-a7f2-54b0ec7911eb\",\"type\":\"BasicTickFormatter\"},{\"attributes\":{\"label\":{\"field\":\"Continent\"},\"renderers\":[{\"id\":\"f043a513-8885-4058-8d9f-ce337d14e2c3\",\"type\":\"GlyphRenderer\"}]},\"id\":\"0009203a-a520-41ca-9f29-88c0fabd087e\",\"type\":\"LegendItem\"},{\"attributes\":{\"source\":{\"id\":\"84e03568-1c29-4d2e-87dd-39b243cdb31c\",\"type\":\"ColumnDataSource\"}},\"id\":\"5ac0afcf-4ab7-43a8-a99b-388ebc9d271c\",\"type\":\"CDSView\"},{\"attributes\":{\"items\":[{\"id\":\"0009203a-a520-41ca-9f29-88c0fabd087e\",\"type\":\"LegendItem\"}],\"location\":\"bottom_left\",\"plot\":{\"id\":\"e00ae970-edea-4e5c-9948-ddd018ac202d\",\"subtype\":\"Figure\",\"type\":\"Plot\"}},\"id\":\"05927cc2-4eca-4721-84cd-56b92818b991\",\"type\":\"Legend\"},{\"attributes\":{\"active_drag\":\"auto\",\"active_inspect\":\"auto\",\"active_scroll\":\"auto\",\"active_tap\":\"auto\",\"tools\":[{\"id\":\"eb57dceb-da1f-42a0-8a7d-76313e10331c\",\"type\":\"PanTool\"},{\"id\":\"cfef7b04-1f3c-48a2-9e0d-ba3f3748339a\",\"type\":\"WheelZoomTool\"},{\"id\":\"dde8d63e-3b76-4f15-9791-7f9091dbd6f9\",\"type\":\"BoxZoomTool\"},{\"id\":\"2530fd58-f88b-419d-a19f-abcc1dd46a82\",\"type\":\"SaveTool\"},{\"id\":\"ec9c2423-80f5-4710-b3ec-3d904e0e0b27\",\"type\":\"ResetTool\"},{\"id\":\"a29ebe90-a3a3-4d25-91a0-df6cb519f12f\",\"type\":\"HelpTool\"}]},\"id\":\"9c6aee57-c90d-4161-a002-20cdf4fd8837\",\"type\":\"Toolbar\"},{\"attributes\":{\"factors\":[\"ASI\",\"NAM\",\"LAT\",\"AF\",\"EUR\",\"OCE\"],\"palette\":[\"#1f77b4\",\"#ff7f0e\",\"#2ca02c\",\"#d62728\",\"#9467bd\",\"#8c564b\"]},\"id\":\"87658d1f-5382-495f-a005-1845c192614e\",\"type\":\"CategoricalColorMapper\"},{\"attributes\":{\"callback\":null},\"id\":\"b16d53e7-47f5-4356-a2ef-b42702581400\",\"type\":\"DataRange1d\"},{\"attributes\":{\"fill_alpha\":{\"value\":0.1},\"fill_color\":{\"value\":\"#1f77b4\"},\"line_alpha\":{\"value\":0.1},\"line_color\":{\"value\":\"#1f77b4\"},\"line_width\":{\"value\":0.5},\"size\":{\"field\":\"scaledPopulation\",\"units\":\"screen\"},\"x\":{\"field\":\"female literacy\"},\"y\":{\"field\":\"fertility\"}},\"id\":\"0c289c50-2a9c-43bc-b972-21accde89d88\",\"type\":\"Circle\"},{\"attributes\":{},\"id\":\"cfef7b04-1f3c-48a2-9e0d-ba3f3748339a\",\"type\":\"WheelZoomTool\"},{\"attributes\":{\"callback\":null},\"id\":\"3ac503f8-5206-4801-b738-538464a0b2ae\",\"type\":\"DataRange1d\"},{\"attributes\":{},\"id\":\"fde735fc-c099-4a34-93d3-7d6b82b1eb67\",\"type\":\"LinearScale\"},{\"attributes\":{\"overlay\":{\"id\":\"389f375a-3b9a-44dd-8a6b-f0a2604b3080\",\"type\":\"BoxAnnotation\"}},\"id\":\"dde8d63e-3b76-4f15-9791-7f9091dbd6f9\",\"type\":\"BoxZoomTool\"},{\"attributes\":{},\"id\":\"c180320b-67c9-4e03-8f9a-1db510937d0e\",\"type\":\"LinearScale\"}],\"root_ids\":[\"e00ae970-edea-4e5c-9948-ddd018ac202d\"]},\"title\":\"Bokeh Application\",\"version\":\"0.12.15\"}};\n",
       "  var render_items = [{\"docid\":\"53dd5755-53c0-42d9-a81e-fd19b8a9ad04\",\"elementid\":\"216238f4-9278-49a0-845a-cc79111538af\",\"modelid\":\"e00ae970-edea-4e5c-9948-ddd018ac202d\"}];\n",
       "  root.Bokeh.embed.embed_items_notebook(docs_json, render_items);\n",
       "\n",
       "  }\n",
       "  if (root.Bokeh !== undefined) {\n",
       "    embed_document(root);\n",
       "  } else {\n",
       "    var attempts = 0;\n",
       "    var timer = setInterval(function(root) {\n",
       "      if (root.Bokeh !== undefined) {\n",
       "        embed_document(root);\n",
       "        clearInterval(timer);\n",
       "      }\n",
       "      attempts++;\n",
       "      if (attempts > 100) {\n",
       "        console.log(\"Bokeh: ERROR: Unable to run BokehJS code because BokehJS library is missing\")\n",
       "        clearInterval(timer);\n",
       "      }\n",
       "    }, 10, root)\n",
       "  }\n",
       "})(window);"
      ],
      "application/vnd.bokehjs_exec.v0+json": ""
     },
     "metadata": {
      "application/vnd.bokehjs_exec.v0+json": {
       "id": "e00ae970-edea-4e5c-9948-ddd018ac202d"
      }
     },
     "output_type": "display_data"
    }
   ],
   "source": [
    "p = figure(x_axis_label = 'Adult female literacy (%)', y_axis_label = 'fertility (children per woman)',\n",
    "          plot_width = 960, plot_height = 480)\n",
    "p.circle('female literacy', 'fertility', source = dataSource, \n",
    "         color = {'field' : 'Continent', 'transform': color_mapper}, \n",
    "         legend = 'Continent', size = 'scaledPopulation', alpha = 0.8, line_color = 'gray',\n",
    "        line_width = 0.5)\n",
    "p.legend.location = 'bottom_left'\n",
    "show(p)"
   ]
  },
  {
   "cell_type": "code",
   "execution_count": null,
   "metadata": {},
   "outputs": [],
   "source": []
  }
 ],
 "metadata": {
  "kernelspec": {
   "display_name": "Python 3",
   "language": "python",
   "name": "python3"
  },
  "language_info": {
   "codemirror_mode": {
    "name": "ipython",
    "version": 3
   },
   "file_extension": ".py",
   "mimetype": "text/x-python",
   "name": "python",
   "nbconvert_exporter": "python",
   "pygments_lexer": "ipython3",
   "version": "3.6.5"
  }
 },
 "nbformat": 4,
 "nbformat_minor": 2
}
