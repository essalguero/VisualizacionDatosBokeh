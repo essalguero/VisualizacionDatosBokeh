{
 "cells": [
  {
   "cell_type": "markdown",
   "metadata": {},
   "source": [
    "# Bokeh "
   ]
  },
  {
   "cell_type": "code",
   "execution_count": 1,
   "metadata": {},
   "outputs": [],
   "source": [
    "import pandas as pd"
   ]
  },
  {
   "cell_type": "code",
   "execution_count": 2,
   "metadata": {},
   "outputs": [],
   "source": [
    "from bokeh.plotting import figure"
   ]
  },
  {
   "cell_type": "code",
   "execution_count": 3,
   "metadata": {},
   "outputs": [],
   "source": [
    "from bokeh.io import show, output_notebook, output_file"
   ]
  },
  {
   "cell_type": "markdown",
   "metadata": {},
   "source": [
    "## Ejemplo plot"
   ]
  },
  {
   "cell_type": "code",
   "execution_count": 4,
   "metadata": {},
   "outputs": [
    {
     "data": {
      "text/html": [
       "\n",
       "    <div class=\"bk-root\">\n",
       "        <a href=\"https://bokeh.pydata.org\" target=\"_blank\" class=\"bk-logo bk-logo-small bk-logo-notebook\"></a>\n",
       "        <span id=\"55b7ab73-f7ae-42d7-a1e3-25147baa449e\">Loading BokehJS ...</span>\n",
       "    </div>"
      ]
     },
     "metadata": {},
     "output_type": "display_data"
    },
    {
     "data": {
      "application/javascript": [
       "\n",
       "(function(root) {\n",
       "  function now() {\n",
       "    return new Date();\n",
       "  }\n",
       "\n",
       "  var force = true;\n",
       "\n",
       "  if (typeof (root._bokeh_onload_callbacks) === \"undefined\" || force === true) {\n",
       "    root._bokeh_onload_callbacks = [];\n",
       "    root._bokeh_is_loading = undefined;\n",
       "  }\n",
       "\n",
       "  var JS_MIME_TYPE = 'application/javascript';\n",
       "  var HTML_MIME_TYPE = 'text/html';\n",
       "  var EXEC_MIME_TYPE = 'application/vnd.bokehjs_exec.v0+json';\n",
       "  var CLASS_NAME = 'output_bokeh rendered_html';\n",
       "\n",
       "  /**\n",
       "   * Render data to the DOM node\n",
       "   */\n",
       "  function render(props, node) {\n",
       "    var script = document.createElement(\"script\");\n",
       "    node.appendChild(script);\n",
       "  }\n",
       "\n",
       "  /**\n",
       "   * Handle when an output is cleared or removed\n",
       "   */\n",
       "  function handleClearOutput(event, handle) {\n",
       "    var cell = handle.cell;\n",
       "\n",
       "    var id = cell.output_area._bokeh_element_id;\n",
       "    var server_id = cell.output_area._bokeh_server_id;\n",
       "    // Clean up Bokeh references\n",
       "    if (id !== undefined) {\n",
       "      Bokeh.index[id].model.document.clear();\n",
       "      delete Bokeh.index[id];\n",
       "    }\n",
       "\n",
       "    if (server_id !== undefined) {\n",
       "      // Clean up Bokeh references\n",
       "      var cmd = \"from bokeh.io.state import curstate; print(curstate().uuid_to_server['\" + server_id + \"'].get_sessions()[0].document.roots[0]._id)\";\n",
       "      cell.notebook.kernel.execute(cmd, {\n",
       "        iopub: {\n",
       "          output: function(msg) {\n",
       "            var element_id = msg.content.text.trim();\n",
       "            Bokeh.index[element_id].model.document.clear();\n",
       "            delete Bokeh.index[element_id];\n",
       "          }\n",
       "        }\n",
       "      });\n",
       "      // Destroy server and session\n",
       "      var cmd = \"import bokeh.io.notebook as ion; ion.destroy_server('\" + server_id + \"')\";\n",
       "      cell.notebook.kernel.execute(cmd);\n",
       "    }\n",
       "  }\n",
       "\n",
       "  /**\n",
       "   * Handle when a new output is added\n",
       "   */\n",
       "  function handleAddOutput(event, handle) {\n",
       "    var output_area = handle.output_area;\n",
       "    var output = handle.output;\n",
       "\n",
       "    // limit handleAddOutput to display_data with EXEC_MIME_TYPE content only\n",
       "    if ((output.output_type != \"display_data\") || (!output.data.hasOwnProperty(EXEC_MIME_TYPE))) {\n",
       "      return\n",
       "    }\n",
       "\n",
       "    var toinsert = output_area.element.find(\".\" + CLASS_NAME.split(' ')[0]);\n",
       "\n",
       "    if (output.metadata[EXEC_MIME_TYPE][\"id\"] !== undefined) {\n",
       "      toinsert[toinsert.length - 1].firstChild.textContent = output.data[JS_MIME_TYPE];\n",
       "      // store reference to embed id on output_area\n",
       "      output_area._bokeh_element_id = output.metadata[EXEC_MIME_TYPE][\"id\"];\n",
       "    }\n",
       "    if (output.metadata[EXEC_MIME_TYPE][\"server_id\"] !== undefined) {\n",
       "      var bk_div = document.createElement(\"div\");\n",
       "      bk_div.innerHTML = output.data[HTML_MIME_TYPE];\n",
       "      var script_attrs = bk_div.children[0].attributes;\n",
       "      for (var i = 0; i < script_attrs.length; i++) {\n",
       "        toinsert[toinsert.length - 1].firstChild.setAttribute(script_attrs[i].name, script_attrs[i].value);\n",
       "      }\n",
       "      // store reference to server id on output_area\n",
       "      output_area._bokeh_server_id = output.metadata[EXEC_MIME_TYPE][\"server_id\"];\n",
       "    }\n",
       "  }\n",
       "\n",
       "  function register_renderer(events, OutputArea) {\n",
       "\n",
       "    function append_mime(data, metadata, element) {\n",
       "      // create a DOM node to render to\n",
       "      var toinsert = this.create_output_subarea(\n",
       "        metadata,\n",
       "        CLASS_NAME,\n",
       "        EXEC_MIME_TYPE\n",
       "      );\n",
       "      this.keyboard_manager.register_events(toinsert);\n",
       "      // Render to node\n",
       "      var props = {data: data, metadata: metadata[EXEC_MIME_TYPE]};\n",
       "      render(props, toinsert[toinsert.length - 1]);\n",
       "      element.append(toinsert);\n",
       "      return toinsert\n",
       "    }\n",
       "\n",
       "    /* Handle when an output is cleared or removed */\n",
       "    events.on('clear_output.CodeCell', handleClearOutput);\n",
       "    events.on('delete.Cell', handleClearOutput);\n",
       "\n",
       "    /* Handle when a new output is added */\n",
       "    events.on('output_added.OutputArea', handleAddOutput);\n",
       "\n",
       "    /**\n",
       "     * Register the mime type and append_mime function with output_area\n",
       "     */\n",
       "    OutputArea.prototype.register_mime_type(EXEC_MIME_TYPE, append_mime, {\n",
       "      /* Is output safe? */\n",
       "      safe: true,\n",
       "      /* Index of renderer in `output_area.display_order` */\n",
       "      index: 0\n",
       "    });\n",
       "  }\n",
       "\n",
       "  // register the mime type if in Jupyter Notebook environment and previously unregistered\n",
       "  if (root.Jupyter !== undefined) {\n",
       "    var events = require('base/js/events');\n",
       "    var OutputArea = require('notebook/js/outputarea').OutputArea;\n",
       "\n",
       "    if (OutputArea.prototype.mime_types().indexOf(EXEC_MIME_TYPE) == -1) {\n",
       "      register_renderer(events, OutputArea);\n",
       "    }\n",
       "  }\n",
       "\n",
       "  \n",
       "  if (typeof (root._bokeh_timeout) === \"undefined\" || force === true) {\n",
       "    root._bokeh_timeout = Date.now() + 5000;\n",
       "    root._bokeh_failed_load = false;\n",
       "  }\n",
       "\n",
       "  var NB_LOAD_WARNING = {'data': {'text/html':\n",
       "     \"<div style='background-color: #fdd'>\\n\"+\n",
       "     \"<p>\\n\"+\n",
       "     \"BokehJS does not appear to have successfully loaded. If loading BokehJS from CDN, this \\n\"+\n",
       "     \"may be due to a slow or bad network connection. Possible fixes:\\n\"+\n",
       "     \"</p>\\n\"+\n",
       "     \"<ul>\\n\"+\n",
       "     \"<li>re-rerun `output_notebook()` to attempt to load from CDN again, or</li>\\n\"+\n",
       "     \"<li>use INLINE resources instead, as so:</li>\\n\"+\n",
       "     \"</ul>\\n\"+\n",
       "     \"<code>\\n\"+\n",
       "     \"from bokeh.resources import INLINE\\n\"+\n",
       "     \"output_notebook(resources=INLINE)\\n\"+\n",
       "     \"</code>\\n\"+\n",
       "     \"</div>\"}};\n",
       "\n",
       "  function display_loaded() {\n",
       "    var el = document.getElementById(\"55b7ab73-f7ae-42d7-a1e3-25147baa449e\");\n",
       "    if (el != null) {\n",
       "      el.textContent = \"BokehJS is loading...\";\n",
       "    }\n",
       "    if (root.Bokeh !== undefined) {\n",
       "      if (el != null) {\n",
       "        el.textContent = \"BokehJS \" + root.Bokeh.version + \" successfully loaded.\";\n",
       "      }\n",
       "    } else if (Date.now() < root._bokeh_timeout) {\n",
       "      setTimeout(display_loaded, 100)\n",
       "    }\n",
       "  }\n",
       "\n",
       "\n",
       "  function run_callbacks() {\n",
       "    try {\n",
       "      root._bokeh_onload_callbacks.forEach(function(callback) { callback() });\n",
       "    }\n",
       "    finally {\n",
       "      delete root._bokeh_onload_callbacks\n",
       "    }\n",
       "    console.info(\"Bokeh: all callbacks have finished\");\n",
       "  }\n",
       "\n",
       "  function load_libs(js_urls, callback) {\n",
       "    root._bokeh_onload_callbacks.push(callback);\n",
       "    if (root._bokeh_is_loading > 0) {\n",
       "      console.log(\"Bokeh: BokehJS is being loaded, scheduling callback at\", now());\n",
       "      return null;\n",
       "    }\n",
       "    if (js_urls == null || js_urls.length === 0) {\n",
       "      run_callbacks();\n",
       "      return null;\n",
       "    }\n",
       "    console.log(\"Bokeh: BokehJS not loaded, scheduling load and callback at\", now());\n",
       "    root._bokeh_is_loading = js_urls.length;\n",
       "    for (var i = 0; i < js_urls.length; i++) {\n",
       "      var url = js_urls[i];\n",
       "      var s = document.createElement('script');\n",
       "      s.src = url;\n",
       "      s.async = false;\n",
       "      s.onreadystatechange = s.onload = function() {\n",
       "        root._bokeh_is_loading--;\n",
       "        if (root._bokeh_is_loading === 0) {\n",
       "          console.log(\"Bokeh: all BokehJS libraries loaded\");\n",
       "          run_callbacks()\n",
       "        }\n",
       "      };\n",
       "      s.onerror = function() {\n",
       "        console.warn(\"failed to load library \" + url);\n",
       "      };\n",
       "      console.log(\"Bokeh: injecting script tag for BokehJS library: \", url);\n",
       "      document.getElementsByTagName(\"head\")[0].appendChild(s);\n",
       "    }\n",
       "  };var element = document.getElementById(\"55b7ab73-f7ae-42d7-a1e3-25147baa449e\");\n",
       "  if (element == null) {\n",
       "    console.log(\"Bokeh: ERROR: autoload.js configured with elementid '55b7ab73-f7ae-42d7-a1e3-25147baa449e' but no matching script tag was found. \")\n",
       "    return false;\n",
       "  }\n",
       "\n",
       "  var js_urls = [\"https://cdn.pydata.org/bokeh/release/bokeh-0.12.15.min.js\", \"https://cdn.pydata.org/bokeh/release/bokeh-widgets-0.12.15.min.js\", \"https://cdn.pydata.org/bokeh/release/bokeh-tables-0.12.15.min.js\", \"https://cdn.pydata.org/bokeh/release/bokeh-gl-0.12.15.min.js\"];\n",
       "\n",
       "  var inline_js = [\n",
       "    function(Bokeh) {\n",
       "      Bokeh.set_log_level(\"info\");\n",
       "    },\n",
       "    \n",
       "    function(Bokeh) {\n",
       "      \n",
       "    },\n",
       "    function(Bokeh) {\n",
       "      console.log(\"Bokeh: injecting CSS: https://cdn.pydata.org/bokeh/release/bokeh-0.12.15.min.css\");\n",
       "      Bokeh.embed.inject_css(\"https://cdn.pydata.org/bokeh/release/bokeh-0.12.15.min.css\");\n",
       "      console.log(\"Bokeh: injecting CSS: https://cdn.pydata.org/bokeh/release/bokeh-widgets-0.12.15.min.css\");\n",
       "      Bokeh.embed.inject_css(\"https://cdn.pydata.org/bokeh/release/bokeh-widgets-0.12.15.min.css\");\n",
       "      console.log(\"Bokeh: injecting CSS: https://cdn.pydata.org/bokeh/release/bokeh-tables-0.12.15.min.css\");\n",
       "      Bokeh.embed.inject_css(\"https://cdn.pydata.org/bokeh/release/bokeh-tables-0.12.15.min.css\");\n",
       "    }\n",
       "  ];\n",
       "\n",
       "  function run_inline_js() {\n",
       "    \n",
       "    if ((root.Bokeh !== undefined) || (force === true)) {\n",
       "      for (var i = 0; i < inline_js.length; i++) {\n",
       "        inline_js[i].call(root, root.Bokeh);\n",
       "      }if (force === true) {\n",
       "        display_loaded();\n",
       "      }} else if (Date.now() < root._bokeh_timeout) {\n",
       "      setTimeout(run_inline_js, 100);\n",
       "    } else if (!root._bokeh_failed_load) {\n",
       "      console.log(\"Bokeh: BokehJS failed to load within specified timeout.\");\n",
       "      root._bokeh_failed_load = true;\n",
       "    } else if (force !== true) {\n",
       "      var cell = $(document.getElementById(\"55b7ab73-f7ae-42d7-a1e3-25147baa449e\")).parents('.cell').data().cell;\n",
       "      cell.output_area.append_execute_result(NB_LOAD_WARNING)\n",
       "    }\n",
       "\n",
       "  }\n",
       "\n",
       "  if (root._bokeh_is_loading === 0) {\n",
       "    console.log(\"Bokeh: BokehJS loaded, going straight to plotting\");\n",
       "    run_inline_js();\n",
       "  } else {\n",
       "    load_libs(js_urls, function() {\n",
       "      console.log(\"Bokeh: BokehJS plotting callback run at\", now());\n",
       "      run_inline_js();\n",
       "    });\n",
       "  }\n",
       "}(window));"
      ],
      "application/vnd.bokehjs_load.v0+json": "\n(function(root) {\n  function now() {\n    return new Date();\n  }\n\n  var force = true;\n\n  if (typeof (root._bokeh_onload_callbacks) === \"undefined\" || force === true) {\n    root._bokeh_onload_callbacks = [];\n    root._bokeh_is_loading = undefined;\n  }\n\n  \n\n  \n  if (typeof (root._bokeh_timeout) === \"undefined\" || force === true) {\n    root._bokeh_timeout = Date.now() + 5000;\n    root._bokeh_failed_load = false;\n  }\n\n  var NB_LOAD_WARNING = {'data': {'text/html':\n     \"<div style='background-color: #fdd'>\\n\"+\n     \"<p>\\n\"+\n     \"BokehJS does not appear to have successfully loaded. If loading BokehJS from CDN, this \\n\"+\n     \"may be due to a slow or bad network connection. Possible fixes:\\n\"+\n     \"</p>\\n\"+\n     \"<ul>\\n\"+\n     \"<li>re-rerun `output_notebook()` to attempt to load from CDN again, or</li>\\n\"+\n     \"<li>use INLINE resources instead, as so:</li>\\n\"+\n     \"</ul>\\n\"+\n     \"<code>\\n\"+\n     \"from bokeh.resources import INLINE\\n\"+\n     \"output_notebook(resources=INLINE)\\n\"+\n     \"</code>\\n\"+\n     \"</div>\"}};\n\n  function display_loaded() {\n    var el = document.getElementById(\"55b7ab73-f7ae-42d7-a1e3-25147baa449e\");\n    if (el != null) {\n      el.textContent = \"BokehJS is loading...\";\n    }\n    if (root.Bokeh !== undefined) {\n      if (el != null) {\n        el.textContent = \"BokehJS \" + root.Bokeh.version + \" successfully loaded.\";\n      }\n    } else if (Date.now() < root._bokeh_timeout) {\n      setTimeout(display_loaded, 100)\n    }\n  }\n\n\n  function run_callbacks() {\n    try {\n      root._bokeh_onload_callbacks.forEach(function(callback) { callback() });\n    }\n    finally {\n      delete root._bokeh_onload_callbacks\n    }\n    console.info(\"Bokeh: all callbacks have finished\");\n  }\n\n  function load_libs(js_urls, callback) {\n    root._bokeh_onload_callbacks.push(callback);\n    if (root._bokeh_is_loading > 0) {\n      console.log(\"Bokeh: BokehJS is being loaded, scheduling callback at\", now());\n      return null;\n    }\n    if (js_urls == null || js_urls.length === 0) {\n      run_callbacks();\n      return null;\n    }\n    console.log(\"Bokeh: BokehJS not loaded, scheduling load and callback at\", now());\n    root._bokeh_is_loading = js_urls.length;\n    for (var i = 0; i < js_urls.length; i++) {\n      var url = js_urls[i];\n      var s = document.createElement('script');\n      s.src = url;\n      s.async = false;\n      s.onreadystatechange = s.onload = function() {\n        root._bokeh_is_loading--;\n        if (root._bokeh_is_loading === 0) {\n          console.log(\"Bokeh: all BokehJS libraries loaded\");\n          run_callbacks()\n        }\n      };\n      s.onerror = function() {\n        console.warn(\"failed to load library \" + url);\n      };\n      console.log(\"Bokeh: injecting script tag for BokehJS library: \", url);\n      document.getElementsByTagName(\"head\")[0].appendChild(s);\n    }\n  };var element = document.getElementById(\"55b7ab73-f7ae-42d7-a1e3-25147baa449e\");\n  if (element == null) {\n    console.log(\"Bokeh: ERROR: autoload.js configured with elementid '55b7ab73-f7ae-42d7-a1e3-25147baa449e' but no matching script tag was found. \")\n    return false;\n  }\n\n  var js_urls = [\"https://cdn.pydata.org/bokeh/release/bokeh-0.12.15.min.js\", \"https://cdn.pydata.org/bokeh/release/bokeh-widgets-0.12.15.min.js\", \"https://cdn.pydata.org/bokeh/release/bokeh-tables-0.12.15.min.js\", \"https://cdn.pydata.org/bokeh/release/bokeh-gl-0.12.15.min.js\"];\n\n  var inline_js = [\n    function(Bokeh) {\n      Bokeh.set_log_level(\"info\");\n    },\n    \n    function(Bokeh) {\n      \n    },\n    function(Bokeh) {\n      console.log(\"Bokeh: injecting CSS: https://cdn.pydata.org/bokeh/release/bokeh-0.12.15.min.css\");\n      Bokeh.embed.inject_css(\"https://cdn.pydata.org/bokeh/release/bokeh-0.12.15.min.css\");\n      console.log(\"Bokeh: injecting CSS: https://cdn.pydata.org/bokeh/release/bokeh-widgets-0.12.15.min.css\");\n      Bokeh.embed.inject_css(\"https://cdn.pydata.org/bokeh/release/bokeh-widgets-0.12.15.min.css\");\n      console.log(\"Bokeh: injecting CSS: https://cdn.pydata.org/bokeh/release/bokeh-tables-0.12.15.min.css\");\n      Bokeh.embed.inject_css(\"https://cdn.pydata.org/bokeh/release/bokeh-tables-0.12.15.min.css\");\n    }\n  ];\n\n  function run_inline_js() {\n    \n    if ((root.Bokeh !== undefined) || (force === true)) {\n      for (var i = 0; i < inline_js.length; i++) {\n        inline_js[i].call(root, root.Bokeh);\n      }if (force === true) {\n        display_loaded();\n      }} else if (Date.now() < root._bokeh_timeout) {\n      setTimeout(run_inline_js, 100);\n    } else if (!root._bokeh_failed_load) {\n      console.log(\"Bokeh: BokehJS failed to load within specified timeout.\");\n      root._bokeh_failed_load = true;\n    } else if (force !== true) {\n      var cell = $(document.getElementById(\"55b7ab73-f7ae-42d7-a1e3-25147baa449e\")).parents('.cell').data().cell;\n      cell.output_area.append_execute_result(NB_LOAD_WARNING)\n    }\n\n  }\n\n  if (root._bokeh_is_loading === 0) {\n    console.log(\"Bokeh: BokehJS loaded, going straight to plotting\");\n    run_inline_js();\n  } else {\n    load_libs(js_urls, function() {\n      console.log(\"Bokeh: BokehJS plotting callback run at\", now());\n      run_inline_js();\n    });\n  }\n}(window));"
     },
     "metadata": {},
     "output_type": "display_data"
    }
   ],
   "source": [
    "output_notebook()"
   ]
  },
  {
   "cell_type": "code",
   "execution_count": 5,
   "metadata": {},
   "outputs": [
    {
     "data": {
      "text/html": [
       "\n",
       "<div class=\"bk-root\">\n",
       "    <div class=\"bk-plotdiv\" id=\"fee15e2a-ce58-4675-a2f1-25d7aaae12bf\"></div>\n",
       "</div>"
      ]
     },
     "metadata": {},
     "output_type": "display_data"
    },
    {
     "data": {
      "application/javascript": [
       "(function(root) {\n",
       "  function embed_document(root) {\n",
       "    \n",
       "  var docs_json = {\"2c6dcebf-f80a-477f-9a0d-1937f5603302\":{\"roots\":{\"references\":[{\"attributes\":{},\"id\":\"439926af-85fc-45a6-87ff-618dbe63293c\",\"type\":\"BasicTicker\"},{\"attributes\":{\"dimension\":1,\"plot\":{\"id\":\"4b6d086f-c2b5-4a04-8521-12e30ff3220f\",\"subtype\":\"Figure\",\"type\":\"Plot\"},\"ticker\":{\"id\":\"439926af-85fc-45a6-87ff-618dbe63293c\",\"type\":\"BasicTicker\"}},\"id\":\"58dac6ee-abff-4325-932d-1839dff74b91\",\"type\":\"Grid\"},{\"attributes\":{\"bottom_units\":\"screen\",\"fill_alpha\":{\"value\":0.5},\"fill_color\":{\"value\":\"lightgrey\"},\"left_units\":\"screen\",\"level\":\"overlay\",\"line_alpha\":{\"value\":1.0},\"line_color\":{\"value\":\"black\"},\"line_dash\":[4,4],\"line_width\":{\"value\":2},\"plot\":null,\"render_mode\":\"css\",\"right_units\":\"screen\",\"top_units\":\"screen\"},\"id\":\"78ea3db5-ff85-446d-bdae-b5b7c22524d7\",\"type\":\"BoxAnnotation\"},{\"attributes\":{\"below\":[{\"id\":\"b77e1377-9fdc-4960-beb1-9f2202750fb3\",\"type\":\"LinearAxis\"}],\"left\":[{\"id\":\"81bf7d4f-7374-42b9-b4ff-00b87d0a6e1b\",\"type\":\"LinearAxis\"}],\"plot_height\":400,\"plot_width\":400,\"renderers\":[{\"id\":\"b77e1377-9fdc-4960-beb1-9f2202750fb3\",\"type\":\"LinearAxis\"},{\"id\":\"bf272524-9a4a-47f7-9c71-418cf9bb7b2d\",\"type\":\"Grid\"},{\"id\":\"81bf7d4f-7374-42b9-b4ff-00b87d0a6e1b\",\"type\":\"LinearAxis\"},{\"id\":\"58dac6ee-abff-4325-932d-1839dff74b91\",\"type\":\"Grid\"},{\"id\":\"78ea3db5-ff85-446d-bdae-b5b7c22524d7\",\"type\":\"BoxAnnotation\"},{\"id\":\"e40268ba-60e5-4168-9c52-0725ccbd9a05\",\"type\":\"GlyphRenderer\"}],\"title\":{\"id\":\"04ee1b82-035e-42c3-89cf-7d26a0694c45\",\"type\":\"Title\"},\"toolbar\":{\"id\":\"21593df9-94ac-45b4-8f52-89d33a27533e\",\"type\":\"Toolbar\"},\"x_range\":{\"id\":\"3649d27e-18c4-43ab-81d3-3be66911cfa9\",\"type\":\"DataRange1d\"},\"x_scale\":{\"id\":\"2d23666d-47b4-4d4f-927a-fc271386d2f3\",\"type\":\"LinearScale\"},\"y_range\":{\"id\":\"5e10a601-7e0a-4e9c-ab0d-349be6146569\",\"type\":\"DataRange1d\"},\"y_scale\":{\"id\":\"9b2ad976-39af-4f15-9541-c00f2fc4c6d9\",\"type\":\"LinearScale\"}},\"id\":\"4b6d086f-c2b5-4a04-8521-12e30ff3220f\",\"subtype\":\"Figure\",\"type\":\"Plot\"},{\"attributes\":{\"fill_alpha\":{\"value\":0.1},\"fill_color\":{\"value\":\"#1f77b4\"},\"line_alpha\":{\"value\":0.1},\"line_color\":{\"value\":\"#1f77b4\"},\"size\":{\"field\":\"size\",\"units\":\"screen\"},\"x\":{\"field\":\"x\"},\"y\":{\"field\":\"y\"}},\"id\":\"6acf5ece-dd60-4b3a-8621-7ae157638a95\",\"type\":\"Circle\"},{\"attributes\":{\"source\":{\"id\":\"35b5c46f-3964-417e-981c-d339dfb468c9\",\"type\":\"ColumnDataSource\"}},\"id\":\"7193a58a-893e-4dd8-94d6-fb742395c369\",\"type\":\"CDSView\"},{\"attributes\":{\"callback\":null,\"column_names\":[\"size\",\"x\",\"y\",\"fill_alpha\"],\"data\":{\"fill_alpha\":[0.5,0.2,0.2,1,1],\"size\":[10,15,20,25,30],\"x\":[1,2,3,4,5],\"y\":[6,7,2,4,5]},\"selected\":null,\"selection_policy\":null},\"id\":\"35b5c46f-3964-417e-981c-d339dfb468c9\",\"type\":\"ColumnDataSource\"},{\"attributes\":{},\"id\":\"3f7b3ba6-4a91-4a17-ad8a-94bc10497b80\",\"type\":\"PanTool\"},{\"attributes\":{\"overlay\":{\"id\":\"78ea3db5-ff85-446d-bdae-b5b7c22524d7\",\"type\":\"BoxAnnotation\"}},\"id\":\"68af3293-e2a8-4b25-a82d-360c9783be4c\",\"type\":\"BoxZoomTool\"},{\"attributes\":{\"data_source\":{\"id\":\"35b5c46f-3964-417e-981c-d339dfb468c9\",\"type\":\"ColumnDataSource\"},\"glyph\":{\"id\":\"9bfe00b0-d0da-4f1b-b0ba-67f9f9bf7b1a\",\"type\":\"Circle\"},\"hover_glyph\":null,\"muted_glyph\":null,\"nonselection_glyph\":{\"id\":\"6acf5ece-dd60-4b3a-8621-7ae157638a95\",\"type\":\"Circle\"},\"selection_glyph\":null,\"view\":{\"id\":\"7193a58a-893e-4dd8-94d6-fb742395c369\",\"type\":\"CDSView\"}},\"id\":\"e40268ba-60e5-4168-9c52-0725ccbd9a05\",\"type\":\"GlyphRenderer\"},{\"attributes\":{\"active_drag\":\"auto\",\"active_inspect\":\"auto\",\"active_scroll\":\"auto\",\"active_tap\":\"auto\",\"tools\":[{\"id\":\"3f7b3ba6-4a91-4a17-ad8a-94bc10497b80\",\"type\":\"PanTool\"},{\"id\":\"fd3cd414-569e-4cd2-af47-663607e76fb9\",\"type\":\"WheelZoomTool\"},{\"id\":\"68af3293-e2a8-4b25-a82d-360c9783be4c\",\"type\":\"BoxZoomTool\"},{\"id\":\"aa48f682-e95e-48d7-ab90-ae51f9b86d37\",\"type\":\"SaveTool\"},{\"id\":\"ece5ed9e-478b-4b61-89dd-81952618201a\",\"type\":\"ResetTool\"},{\"id\":\"1d7d874c-30e5-4a49-9460-b6bdae69e258\",\"type\":\"HelpTool\"}]},\"id\":\"21593df9-94ac-45b4-8f52-89d33a27533e\",\"type\":\"Toolbar\"},{\"attributes\":{},\"id\":\"c5c89381-3834-436d-bcc6-00942a1a782d\",\"type\":\"BasicTickFormatter\"},{\"attributes\":{\"callback\":null},\"id\":\"3649d27e-18c4-43ab-81d3-3be66911cfa9\",\"type\":\"DataRange1d\"},{\"attributes\":{\"plot\":null,\"text\":\"\"},\"id\":\"04ee1b82-035e-42c3-89cf-7d26a0694c45\",\"type\":\"Title\"},{\"attributes\":{},\"id\":\"f0927409-1649-45f2-a1c8-75b7caccab0d\",\"type\":\"BasicTickFormatter\"},{\"attributes\":{},\"id\":\"fd3cd414-569e-4cd2-af47-663607e76fb9\",\"type\":\"WheelZoomTool\"},{\"attributes\":{},\"id\":\"aa48f682-e95e-48d7-ab90-ae51f9b86d37\",\"type\":\"SaveTool\"},{\"attributes\":{},\"id\":\"ece5ed9e-478b-4b61-89dd-81952618201a\",\"type\":\"ResetTool\"},{\"attributes\":{\"callback\":null},\"id\":\"5e10a601-7e0a-4e9c-ab0d-349be6146569\",\"type\":\"DataRange1d\"},{\"attributes\":{},\"id\":\"1d7d874c-30e5-4a49-9460-b6bdae69e258\",\"type\":\"HelpTool\"},{\"attributes\":{},\"id\":\"2d23666d-47b4-4d4f-927a-fc271386d2f3\",\"type\":\"LinearScale\"},{\"attributes\":{},\"id\":\"9b2ad976-39af-4f15-9541-c00f2fc4c6d9\",\"type\":\"LinearScale\"},{\"attributes\":{\"fill_alpha\":{\"field\":\"fill_alpha\"},\"fill_color\":{\"value\":\"orange\"},\"line_color\":{\"value\":\"navy\"},\"size\":{\"field\":\"size\",\"units\":\"screen\"},\"x\":{\"field\":\"x\"},\"y\":{\"field\":\"y\"}},\"id\":\"9bfe00b0-d0da-4f1b-b0ba-67f9f9bf7b1a\",\"type\":\"Circle\"},{\"attributes\":{\"formatter\":{\"id\":\"c5c89381-3834-436d-bcc6-00942a1a782d\",\"type\":\"BasicTickFormatter\"},\"plot\":{\"id\":\"4b6d086f-c2b5-4a04-8521-12e30ff3220f\",\"subtype\":\"Figure\",\"type\":\"Plot\"},\"ticker\":{\"id\":\"10843573-ca1f-44ec-b648-7ce193c37ca0\",\"type\":\"BasicTicker\"}},\"id\":\"b77e1377-9fdc-4960-beb1-9f2202750fb3\",\"type\":\"LinearAxis\"},{\"attributes\":{},\"id\":\"10843573-ca1f-44ec-b648-7ce193c37ca0\",\"type\":\"BasicTicker\"},{\"attributes\":{\"plot\":{\"id\":\"4b6d086f-c2b5-4a04-8521-12e30ff3220f\",\"subtype\":\"Figure\",\"type\":\"Plot\"},\"ticker\":{\"id\":\"10843573-ca1f-44ec-b648-7ce193c37ca0\",\"type\":\"BasicTicker\"}},\"id\":\"bf272524-9a4a-47f7-9c71-418cf9bb7b2d\",\"type\":\"Grid\"},{\"attributes\":{\"formatter\":{\"id\":\"f0927409-1649-45f2-a1c8-75b7caccab0d\",\"type\":\"BasicTickFormatter\"},\"plot\":{\"id\":\"4b6d086f-c2b5-4a04-8521-12e30ff3220f\",\"subtype\":\"Figure\",\"type\":\"Plot\"},\"ticker\":{\"id\":\"439926af-85fc-45a6-87ff-618dbe63293c\",\"type\":\"BasicTicker\"}},\"id\":\"81bf7d4f-7374-42b9-b4ff-00b87d0a6e1b\",\"type\":\"LinearAxis\"}],\"root_ids\":[\"4b6d086f-c2b5-4a04-8521-12e30ff3220f\"]},\"title\":\"Bokeh Application\",\"version\":\"0.12.15\"}};\n",
       "  var render_items = [{\"docid\":\"2c6dcebf-f80a-477f-9a0d-1937f5603302\",\"elementid\":\"fee15e2a-ce58-4675-a2f1-25d7aaae12bf\",\"modelid\":\"4b6d086f-c2b5-4a04-8521-12e30ff3220f\"}];\n",
       "  root.Bokeh.embed.embed_items_notebook(docs_json, render_items);\n",
       "\n",
       "  }\n",
       "  if (root.Bokeh !== undefined) {\n",
       "    embed_document(root);\n",
       "  } else {\n",
       "    var attempts = 0;\n",
       "    var timer = setInterval(function(root) {\n",
       "      if (root.Bokeh !== undefined) {\n",
       "        embed_document(root);\n",
       "        clearInterval(timer);\n",
       "      }\n",
       "      attempts++;\n",
       "      if (attempts > 100) {\n",
       "        console.log(\"Bokeh: ERROR: Unable to run BokehJS code because BokehJS library is missing\")\n",
       "        clearInterval(timer);\n",
       "      }\n",
       "    }, 10, root)\n",
       "  }\n",
       "})(window);"
      ],
      "application/vnd.bokehjs_exec.v0+json": ""
     },
     "metadata": {
      "application/vnd.bokehjs_exec.v0+json": {
       "id": "4b6d086f-c2b5-4a04-8521-12e30ff3220f"
      }
     },
     "output_type": "display_data"
    }
   ],
   "source": [
    "# Create a plot\n",
    "p = figure(plot_width = 400, plot_height = 400)\n",
    "\n",
    "# Display a scater plot (several points)\n",
    "p.circle([1, 2, 3, 4, 5], [6, 7, 2, 4, 5], size = [10, 15, 20, 25, 30], line_color = \"navy\", \n",
    "         fill_color = \"orange\", fill_alpha = [0.5, 0.2, 0.2, 1, 1])\n",
    "\n",
    "# Display plot\n",
    "show(p)"
   ]
  },
  {
   "cell_type": "markdown",
   "metadata": {},
   "source": [
    "## Pandas Dataframe"
   ]
  },
  {
   "cell_type": "code",
   "execution_count": 6,
   "metadata": {},
   "outputs": [],
   "source": [
    "import pandas as pd"
   ]
  },
  {
   "cell_type": "code",
   "execution_count": 7,
   "metadata": {},
   "outputs": [],
   "source": [
    "df = pd.read_csv(\"female_literacy_birth_rate.csv\")"
   ]
  },
  {
   "cell_type": "code",
   "execution_count": 8,
   "metadata": {},
   "outputs": [
    {
     "data": {
      "text/html": [
       "<div>\n",
       "<style scoped>\n",
       "    .dataframe tbody tr th:only-of-type {\n",
       "        vertical-align: middle;\n",
       "    }\n",
       "\n",
       "    .dataframe tbody tr th {\n",
       "        vertical-align: top;\n",
       "    }\n",
       "\n",
       "    .dataframe thead th {\n",
       "        text-align: right;\n",
       "    }\n",
       "</style>\n",
       "<table border=\"1\" class=\"dataframe\">\n",
       "  <thead>\n",
       "    <tr style=\"text-align: right;\">\n",
       "      <th></th>\n",
       "      <th>Country</th>\n",
       "      <th>Continent</th>\n",
       "      <th>female literacy</th>\n",
       "      <th>fertility</th>\n",
       "      <th>population</th>\n",
       "    </tr>\n",
       "  </thead>\n",
       "  <tbody>\n",
       "    <tr>\n",
       "      <th>0</th>\n",
       "      <td>Chine</td>\n",
       "      <td>ASI</td>\n",
       "      <td>90.5</td>\n",
       "      <td>1.769</td>\n",
       "      <td>1.324655e+09</td>\n",
       "    </tr>\n",
       "    <tr>\n",
       "      <th>1</th>\n",
       "      <td>Inde</td>\n",
       "      <td>ASI</td>\n",
       "      <td>50.8</td>\n",
       "      <td>2.682</td>\n",
       "      <td>1.139965e+09</td>\n",
       "    </tr>\n",
       "    <tr>\n",
       "      <th>2</th>\n",
       "      <td>USA</td>\n",
       "      <td>NAM</td>\n",
       "      <td>99.0</td>\n",
       "      <td>2.077</td>\n",
       "      <td>3.040600e+08</td>\n",
       "    </tr>\n",
       "    <tr>\n",
       "      <th>3</th>\n",
       "      <td>Indonésie</td>\n",
       "      <td>ASI</td>\n",
       "      <td>88.8</td>\n",
       "      <td>2.132</td>\n",
       "      <td>2.273451e+08</td>\n",
       "    </tr>\n",
       "    <tr>\n",
       "      <th>4</th>\n",
       "      <td>Brésil</td>\n",
       "      <td>LAT</td>\n",
       "      <td>90.2</td>\n",
       "      <td>1.827</td>\n",
       "      <td>1.919715e+08</td>\n",
       "    </tr>\n",
       "  </tbody>\n",
       "</table>\n",
       "</div>"
      ],
      "text/plain": [
       "    Country  Continent  female literacy  fertility    population\n",
       "0      Chine       ASI             90.5      1.769  1.324655e+09\n",
       "1       Inde       ASI             50.8      2.682  1.139965e+09\n",
       "2        USA       NAM             99.0      2.077  3.040600e+08\n",
       "3  Indonésie       ASI             88.8      2.132  2.273451e+08\n",
       "4     Brésil       LAT             90.2      1.827  1.919715e+08"
      ]
     },
     "execution_count": 8,
     "metadata": {},
     "output_type": "execute_result"
    }
   ],
   "source": [
    "df.head()"
   ]
  },
  {
   "cell_type": "code",
   "execution_count": 9,
   "metadata": {},
   "outputs": [
    {
     "data": {
      "text/html": [
       "<div>\n",
       "<style scoped>\n",
       "    .dataframe tbody tr th:only-of-type {\n",
       "        vertical-align: middle;\n",
       "    }\n",
       "\n",
       "    .dataframe tbody tr th {\n",
       "        vertical-align: top;\n",
       "    }\n",
       "\n",
       "    .dataframe thead th {\n",
       "        text-align: right;\n",
       "    }\n",
       "</style>\n",
       "<table border=\"1\" class=\"dataframe\">\n",
       "  <thead>\n",
       "    <tr style=\"text-align: right;\">\n",
       "      <th></th>\n",
       "      <th>Country</th>\n",
       "      <th>Continent</th>\n",
       "      <th>female literacy</th>\n",
       "      <th>fertility</th>\n",
       "      <th>population</th>\n",
       "    </tr>\n",
       "  </thead>\n",
       "  <tbody>\n",
       "    <tr>\n",
       "      <th>157</th>\n",
       "      <td>Vanuatu</td>\n",
       "      <td>OCE</td>\n",
       "      <td>79.5</td>\n",
       "      <td>3.883</td>\n",
       "      <td>233866.0</td>\n",
       "    </tr>\n",
       "    <tr>\n",
       "      <th>158</th>\n",
       "      <td>Samoa</td>\n",
       "      <td>OCE</td>\n",
       "      <td>98.5</td>\n",
       "      <td>3.852</td>\n",
       "      <td>178869.0</td>\n",
       "    </tr>\n",
       "    <tr>\n",
       "      <th>159</th>\n",
       "      <td>Sao Tomé-et-Principe</td>\n",
       "      <td>AF</td>\n",
       "      <td>83.3</td>\n",
       "      <td>3.718</td>\n",
       "      <td>160174.0</td>\n",
       "    </tr>\n",
       "    <tr>\n",
       "      <th>160</th>\n",
       "      <td>Aruba</td>\n",
       "      <td>LAT</td>\n",
       "      <td>98.0</td>\n",
       "      <td>1.732</td>\n",
       "      <td>105455.0</td>\n",
       "    </tr>\n",
       "    <tr>\n",
       "      <th>161</th>\n",
       "      <td>Tonga</td>\n",
       "      <td>ASI</td>\n",
       "      <td>99.1</td>\n",
       "      <td>3.928</td>\n",
       "      <td>103566.0</td>\n",
       "    </tr>\n",
       "  </tbody>\n",
       "</table>\n",
       "</div>"
      ],
      "text/plain": [
       "                 Country  Continent  female literacy  fertility  population\n",
       "157               Vanuatu       OCE             79.5      3.883    233866.0\n",
       "158                 Samoa       OCE             98.5      3.852    178869.0\n",
       "159  Sao Tomé-et-Principe        AF             83.3      3.718    160174.0\n",
       "160                 Aruba       LAT             98.0      1.732    105455.0\n",
       "161                 Tonga       ASI             99.1      3.928    103566.0"
      ]
     },
     "execution_count": 9,
     "metadata": {},
     "output_type": "execute_result"
    }
   ],
   "source": [
    "df.tail()"
   ]
  },
  {
   "cell_type": "code",
   "execution_count": 10,
   "metadata": {},
   "outputs": [
    {
     "data": {
      "text/plain": [
       "Index(['Country ', 'Continent', 'female literacy', 'fertility', 'population'], dtype='object')"
      ]
     },
     "execution_count": 10,
     "metadata": {},
     "output_type": "execute_result"
    }
   ],
   "source": [
    "# See defined columns\n",
    "df.columns"
   ]
  },
  {
   "cell_type": "code",
   "execution_count": 11,
   "metadata": {},
   "outputs": [
    {
     "data": {
      "text/plain": [
       "(162, 5)"
      ]
     },
     "execution_count": 11,
     "metadata": {},
     "output_type": "execute_result"
    }
   ],
   "source": [
    "# Devuelve forma de los datos -> filas y columnas\n",
    "df.shape"
   ]
  },
  {
   "cell_type": "code",
   "execution_count": 12,
   "metadata": {},
   "outputs": [
    {
     "name": "stdout",
     "output_type": "stream",
     "text": [
      "<class 'pandas.core.frame.DataFrame'>\n",
      "RangeIndex: 162 entries, 0 to 161\n",
      "Data columns (total 5 columns):\n",
      "Country            162 non-null object\n",
      "Continent          162 non-null object\n",
      "female literacy    162 non-null float64\n",
      "fertility          162 non-null float64\n",
      "population         162 non-null float64\n",
      "dtypes: float64(3), object(2)\n",
      "memory usage: 6.4+ KB\n"
     ]
    }
   ],
   "source": [
    "# information about the objects -> How the data is specified and interpreted\n",
    "df.info()"
   ]
  },
  {
   "cell_type": "code",
   "execution_count": 13,
   "metadata": {},
   "outputs": [
    {
     "data": {
      "text/plain": [
       "0      ASI\n",
       "1      ASI\n",
       "2      NAM\n",
       "3      ASI\n",
       "4      LAT\n",
       "5      ASI\n",
       "6      ASI\n",
       "7       AF\n",
       "8      EUR\n",
       "9      ASI\n",
       "10     LAT\n",
       "11     ASI\n",
       "12     ASI\n",
       "13     EUR\n",
       "14      AF\n",
       "15      AF\n",
       "16     ASI\n",
       "17     ASI\n",
       "18     ASI\n",
       "19      AF\n",
       "20     EUR\n",
       "21     EUR\n",
       "22     EUR\n",
       "23     ASI\n",
       "24      AF\n",
       "25     ASI\n",
       "26     EUR\n",
       "27     EUR\n",
       "28     LAT\n",
       "29      AF\n",
       "      ... \n",
       "132     AF\n",
       "133    EUR\n",
       "134    EUR\n",
       "135     AF\n",
       "136     AF\n",
       "137     AF\n",
       "138     AF\n",
       "139    EUR\n",
       "140    LAT\n",
       "141    ASI\n",
       "142     AF\n",
       "143     AF\n",
       "144    EUR\n",
       "145    ASI\n",
       "146    ASI\n",
       "147     AF\n",
       "148     AF\n",
       "149    ASI\n",
       "150    LAT\n",
       "151     AF\n",
       "152    EUR\n",
       "153    ASI\n",
       "154    LAT\n",
       "155    EUR\n",
       "156    ASI\n",
       "157    OCE\n",
       "158    OCE\n",
       "159     AF\n",
       "160    LAT\n",
       "161    ASI\n",
       "Name: Continent, Length: 162, dtype: object"
      ]
     },
     "execution_count": 13,
     "metadata": {},
     "output_type": "execute_result"
    }
   ],
   "source": [
    "#Access to a column -> accesing the column directly\n",
    "df.Continent"
   ]
  },
  {
   "cell_type": "code",
   "execution_count": 14,
   "metadata": {},
   "outputs": [
    {
     "data": {
      "text/plain": [
       "99.0    15\n",
       "99.7     4\n",
       "99.8     3\n",
       "91.5     3\n",
       "98.5     3\n",
       "Name: female literacy, dtype: int64"
      ]
     },
     "execution_count": 14,
     "metadata": {},
     "output_type": "execute_result"
    }
   ],
   "source": [
    "# Also with square-braquets\n",
    "df['female literacy'].value_counts().head()"
   ]
  },
  {
   "cell_type": "code",
   "execution_count": 15,
   "metadata": {
    "scrolled": true
   },
   "outputs": [
    {
     "data": {
      "text/html": [
       "<div>\n",
       "<style scoped>\n",
       "    .dataframe tbody tr th:only-of-type {\n",
       "        vertical-align: middle;\n",
       "    }\n",
       "\n",
       "    .dataframe tbody tr th {\n",
       "        vertical-align: top;\n",
       "    }\n",
       "\n",
       "    .dataframe thead th {\n",
       "        text-align: right;\n",
       "    }\n",
       "</style>\n",
       "<table border=\"1\" class=\"dataframe\">\n",
       "  <thead>\n",
       "    <tr style=\"text-align: right;\">\n",
       "      <th></th>\n",
       "      <th>female literacy</th>\n",
       "      <th>fertility</th>\n",
       "      <th>population</th>\n",
       "    </tr>\n",
       "  </thead>\n",
       "  <tbody>\n",
       "    <tr>\n",
       "      <th>count</th>\n",
       "      <td>162.000000</td>\n",
       "      <td>162.000000</td>\n",
       "      <td>1.620000e+02</td>\n",
       "    </tr>\n",
       "    <tr>\n",
       "      <th>mean</th>\n",
       "      <td>80.107407</td>\n",
       "      <td>2.878673</td>\n",
       "      <td>4.068708e+07</td>\n",
       "    </tr>\n",
       "    <tr>\n",
       "      <th>std</th>\n",
       "      <td>23.052415</td>\n",
       "      <td>1.427597</td>\n",
       "      <td>1.409695e+08</td>\n",
       "    </tr>\n",
       "    <tr>\n",
       "      <th>min</th>\n",
       "      <td>12.600000</td>\n",
       "      <td>0.966000</td>\n",
       "      <td>1.035660e+05</td>\n",
       "    </tr>\n",
       "    <tr>\n",
       "      <th>25%</th>\n",
       "      <td>66.425000</td>\n",
       "      <td>1.823250</td>\n",
       "      <td>3.368292e+06</td>\n",
       "    </tr>\n",
       "    <tr>\n",
       "      <th>50%</th>\n",
       "      <td>90.000000</td>\n",
       "      <td>2.367500</td>\n",
       "      <td>9.707404e+06</td>\n",
       "    </tr>\n",
       "    <tr>\n",
       "      <th>75%</th>\n",
       "      <td>98.500000</td>\n",
       "      <td>3.880250</td>\n",
       "      <td>2.882991e+07</td>\n",
       "    </tr>\n",
       "    <tr>\n",
       "      <th>max</th>\n",
       "      <td>100.000000</td>\n",
       "      <td>7.069000</td>\n",
       "      <td>1.324655e+09</td>\n",
       "    </tr>\n",
       "  </tbody>\n",
       "</table>\n",
       "</div>"
      ],
      "text/plain": [
       "       female literacy   fertility    population\n",
       "count       162.000000  162.000000  1.620000e+02\n",
       "mean         80.107407    2.878673  4.068708e+07\n",
       "std          23.052415    1.427597  1.409695e+08\n",
       "min          12.600000    0.966000  1.035660e+05\n",
       "25%          66.425000    1.823250  3.368292e+06\n",
       "50%          90.000000    2.367500  9.707404e+06\n",
       "75%          98.500000    3.880250  2.882991e+07\n",
       "max         100.000000    7.069000  1.324655e+09"
      ]
     },
     "execution_count": 15,
     "metadata": {},
     "output_type": "execute_result"
    }
   ],
   "source": [
    "# Statistics data about the columns\n",
    "df.describe()"
   ]
  },
  {
   "cell_type": "markdown",
   "metadata": {},
   "source": [
    "### Visualizar Dataframes"
   ]
  },
  {
   "cell_type": "code",
   "execution_count": 16,
   "metadata": {},
   "outputs": [
    {
     "data": {
      "text/html": [
       "<div>\n",
       "<style scoped>\n",
       "    .dataframe tbody tr th:only-of-type {\n",
       "        vertical-align: middle;\n",
       "    }\n",
       "\n",
       "    .dataframe tbody tr th {\n",
       "        vertical-align: top;\n",
       "    }\n",
       "\n",
       "    .dataframe thead th {\n",
       "        text-align: right;\n",
       "    }\n",
       "</style>\n",
       "<table border=\"1\" class=\"dataframe\">\n",
       "  <thead>\n",
       "    <tr style=\"text-align: right;\">\n",
       "      <th></th>\n",
       "      <th>Country</th>\n",
       "      <th>Continent</th>\n",
       "      <th>female literacy</th>\n",
       "      <th>fertility</th>\n",
       "      <th>population</th>\n",
       "    </tr>\n",
       "  </thead>\n",
       "  <tbody>\n",
       "    <tr>\n",
       "      <th>0</th>\n",
       "      <td>Chine</td>\n",
       "      <td>ASI</td>\n",
       "      <td>90.5</td>\n",
       "      <td>1.769</td>\n",
       "      <td>1.324655e+09</td>\n",
       "    </tr>\n",
       "    <tr>\n",
       "      <th>1</th>\n",
       "      <td>Inde</td>\n",
       "      <td>ASI</td>\n",
       "      <td>50.8</td>\n",
       "      <td>2.682</td>\n",
       "      <td>1.139965e+09</td>\n",
       "    </tr>\n",
       "    <tr>\n",
       "      <th>2</th>\n",
       "      <td>USA</td>\n",
       "      <td>NAM</td>\n",
       "      <td>99.0</td>\n",
       "      <td>2.077</td>\n",
       "      <td>3.040600e+08</td>\n",
       "    </tr>\n",
       "    <tr>\n",
       "      <th>3</th>\n",
       "      <td>Indonésie</td>\n",
       "      <td>ASI</td>\n",
       "      <td>88.8</td>\n",
       "      <td>2.132</td>\n",
       "      <td>2.273451e+08</td>\n",
       "    </tr>\n",
       "    <tr>\n",
       "      <th>4</th>\n",
       "      <td>Brésil</td>\n",
       "      <td>LAT</td>\n",
       "      <td>90.2</td>\n",
       "      <td>1.827</td>\n",
       "      <td>1.919715e+08</td>\n",
       "    </tr>\n",
       "  </tbody>\n",
       "</table>\n",
       "</div>"
      ],
      "text/plain": [
       "    Country  Continent  female literacy  fertility    population\n",
       "0      Chine       ASI             90.5      1.769  1.324655e+09\n",
       "1       Inde       ASI             50.8      2.682  1.139965e+09\n",
       "2        USA       NAM             99.0      2.077  3.040600e+08\n",
       "3  Indonésie       ASI             88.8      2.132  2.273451e+08\n",
       "4     Brésil       LAT             90.2      1.827  1.919715e+08"
      ]
     },
     "execution_count": 16,
     "metadata": {},
     "output_type": "execute_result"
    }
   ],
   "source": [
    "df.head()"
   ]
  },
  {
   "cell_type": "code",
   "execution_count": 17,
   "metadata": {},
   "outputs": [
    {
     "data": {
      "text/html": [
       "\n",
       "<div class=\"bk-root\">\n",
       "    <div class=\"bk-plotdiv\" id=\"acacb416-9c8e-49e9-9bc7-15049e02bc4e\"></div>\n",
       "</div>"
      ]
     },
     "metadata": {},
     "output_type": "display_data"
    },
    {
     "data": {
      "application/javascript": [
       "(function(root) {\n",
       "  function embed_document(root) {\n",
       "    \n",
       "  var docs_json = {\"1193a949-2a64-4c2e-a5c7-408f82c50ffd\":{\"roots\":{\"references\":[{\"attributes\":{},\"id\":\"56a2fc97-0d65-4322-b006-c017dcb3fa14\",\"type\":\"BasicTickFormatter\"},{\"attributes\":{\"below\":[{\"id\":\"e093e8e2-a966-42ee-97bb-ba7f79364e3c\",\"type\":\"LinearAxis\"}],\"left\":[{\"id\":\"3e006b51-8caa-4232-bc44-6496b1839359\",\"type\":\"LinearAxis\"}],\"renderers\":[{\"id\":\"e093e8e2-a966-42ee-97bb-ba7f79364e3c\",\"type\":\"LinearAxis\"},{\"id\":\"e57e8460-de34-421f-bca9-8163edcfe2b9\",\"type\":\"Grid\"},{\"id\":\"3e006b51-8caa-4232-bc44-6496b1839359\",\"type\":\"LinearAxis\"},{\"id\":\"50eaedc9-da36-4be8-b1ba-97b04eb4635e\",\"type\":\"Grid\"},{\"id\":\"4435c474-2a4e-4c73-b403-bf55e0ebb3ce\",\"type\":\"BoxAnnotation\"},{\"id\":\"08cd51ad-b783-4246-9cdd-93a0297edf66\",\"type\":\"GlyphRenderer\"}],\"title\":{\"id\":\"852bebbc-5f10-49fe-b693-b9082b9433e8\",\"type\":\"Title\"},\"toolbar\":{\"id\":\"e243f282-ce65-4e47-99b5-02b2b9075d82\",\"type\":\"Toolbar\"},\"x_range\":{\"id\":\"50b7d9ee-53a5-460a-abfb-7da1a2b577f1\",\"type\":\"DataRange1d\"},\"x_scale\":{\"id\":\"90aad1e9-4530-4ff1-beb8-42f6d25b6bd6\",\"type\":\"LinearScale\"},\"y_range\":{\"id\":\"88d8e0df-a0ec-4cb4-962a-e74a8337bab2\",\"type\":\"DataRange1d\"},\"y_scale\":{\"id\":\"ec281ae8-8311-4c1b-8954-49c1bbcbd242\",\"type\":\"LinearScale\"}},\"id\":\"0daf2524-d09e-44e9-b5d4-5fa341b9da97\",\"subtype\":\"Figure\",\"type\":\"Plot\"},{\"attributes\":{\"plot\":null,\"text\":\"\"},\"id\":\"852bebbc-5f10-49fe-b693-b9082b9433e8\",\"type\":\"Title\"},{\"attributes\":{\"callback\":null,\"column_names\":[\"size\",\"x\",\"y\"],\"data\":{\"size\":{\"__ndarray__\":\"N4lBYOWOYEDtK2qLxn9cQA4tsp3vZz5A0qS5ugi8NkAEYzN2eDIzQC9+vz10nDBA1pS/1gAAMECY43BBET4uQKNwPQrXYyxAQq1p3nGKKUDPFJVoJEUlQHrxjwjXESJADYbf8v09IUANR6F2CWwgQMkS5/IwTiBAJpJDH4ckIEBlNzP60ZAdQJkttM5TyBxAyko4mV30GkBRZ+4h4bMZQKmLb4M16RhAec5xycyQGEAAXlWs0O4XQCBpJs5A0xNACyQofox5E0A2qz5XW3ETQBu7RPXWgBJAd1jywuc4EkDVw+EWPQESQBlQFI1a/hBAdqDzvwGKEEAfniXICOgPQJpjL8oiAw9AYiQgyyeADkBOLiF6rX8LQPUtc7ospgpAERyXcVNTCUCN8ieF1EgJQO38kdikkQhAwS4vZYU3B0CLprOTwREHQP+bcuAwDAdADAIrhxZZBkBENLqD2NkFQIp/jkWJnAVA8Pz9vW+3A0CWMyWjFA4DQNYG3RRFrgJApkHRPIBVAkAHUJ1Y8ecBQA3OlmL9NQFAw6UZQRl5AEDul09WDHcAQBk0mZb9HwBAwUExaNeT/j/4hy09mor+P2ZRM/9D1fw/oq/FE+bi+j+LUp1pHVD6PyNraF5pFPk/OLHRg8xf+D8AvoAD/8D3P3/5v37jhvc/aovGNZlM9z8bMQ6J1uX1P36d5cP9kfU/ZZOy+0RU9D9dXzXgPTH0P4ZovpTL8PM/yNsAIrOJ8z8TUzO1tvrxP/ON6J517fE/WBjH7Tx28T9gQIqVLCLxP09ev7vw/vA/VAbE2s6t8D/1Zz9SRIbwP2rCUU2kD/A/H+0kx0LZ7z/+Qo8YPXfvP6snTkkxG+8/WO672GoF7z/t8NdkjfruP0cscwS6gO0/EDtT6LzG6z8+chAZ+7frPwO23spt1uk/02Uxsfl46D8kXp7OFWXoP6/KKhFNhec/ET2ETI1r5z+InSl0XmPnP+TFeIMe4OU/oCmFirsL5T8U56ij46rkP6tVYG0xJOQ/HQJHAg324z98sDFUatvjP8AklSnmoOM/KRAs/Trm4j/7kSIyrCLiP+PQEa+hyuE/Ii6l01+U4T/J6rGIvADhP6T8pNqn4+A/EUGLW7sj4D+qDan9MYjfP7d6Tnrf+N4/w4YCET2E3j8An2nTIuzcPyb9vRQetNw/N/jCZKpg3D9QcLGiBlPcP0j019Byxds/e3q2WJuQ2z/8Uj9vKlLbPy73bpgN19o/ECOERxtH2D9nCp3X2CXYP3yFu2npQNc/DFC/sKHA1T+duYeE733VP+c+lMOCVtU/8H6BxYaT1D9dlyvN9x3UP491zNR/sdM/PVgQFInT0T/eve1Tn3XRP9/98V61MtE/TbOKSF7n0D/dq/tsiQHNP+BCwwcbQ8s/JhGGppE7yj8yYH/IESHKP9F7vsFy38k/cdAU8CGXyD+Orz2zJEDFP86oVORrKsQ/WGw40VOJwj/wbfqzHynBP2nZpOw+EcE/NtII7CBlwD8igavhxz3APzk3t1OE5b0/yu9+JgwUtj9q3Qa139qzP3ndbL3wlLE/boGpCx3gsD9c8cP3tHmwP+n7X2S48Ko//kutUtVfqj9AQ0mSMYipP/J2hNOCF6U/OsssQrEVpD/CkmHL4UmhPzvH26VoQKA/gUDCixk8nz+2lagoqPKXP1V3G4rxUJI/C/WqhN1mkD/IsfUM4ZiFP6PMYVLXNYU/\",\"dtype\":\"float64\",\"shape\":[162]},\"x\":{\"__ndarray__\":\"6Pup8dJN/D/b+X5qvHQFQARWDi2ynQBAdJMYBFYOAUAIrBxaZDv9P2Dl0CLb+Q5A6Pup8dJNAkD91HjpJrEUQH0/NV66SfY//tR46SYx9D9zaJHtfD8BQGmR7Xw/NQhA3SQGgZVDAEDJdr6fGi/1P7tJDAIrhwZA8tJNYhDYFEDNzMzMzMwAQOXQItv5fvw/8/3UeOkm/T9uEoPAyqEXQH9qvHSTGP4/bhKDwMqh/T89CtejcD32P3Noke18PwJACtejcD0KBEAv3SQGgZXzPy2yne+nxvU/sXJoke189z8IrBxaZDsDQBSuR+F6FBZACKwcWmQ7EEBjEFg5tMgBQFYOLbKdbxNAE4PAyqFF9D8j2/l+arwCQN0kBoGVQ/k/arx0kxgEGUB56SYxCKwCQOSlm8QgsA9AhetRuB4FGkA9CtejcD0EQC/dJAaBlQZAlkOLbOf7A0CWQ4ts5/sBQKrx0k1iEARAUrgehetRCEBEi2zn+6n9P+F6FK5H4RBAZmZmZmZmFECR7Xw/Nd4TQDMzMzMzM/U/dJMYBFYOEkD8qfHSTWIJQBFYObTIdgJAexSuR+F6EkBEi2zn+ykSQEA1XrpJjBZAN4lBYOXQ/j/AyqFFtvP7PycxCKwcWgJAd76fGi9dF0BSuB6F69EVQC2yne+nRhxArBxaZDvfBkDfT42XbhIQQLTIdr6fGgRAH4XrUbieFUCmm8QgsPIWQIGVQ4ts5wpAj8L1KFyPE0ApXI/C9Sj2PxSuR+F6FPg/bef7qfFSGEAlBoGVQ4v8P0A1XrpJDPY/MzMzMzMz9z/b+X5qvHT9P+xRuB6F6/U/TDeJQWDlBEA3iUFg5VAVQFK4HoXrURVALIcW2c73CkDl0CLb+X70P1YOLbKd7/0/001iEFg5AUBPjZduEoMVQM3MzMzMzBFAXI/C9Shc9z9g5dAi2/n2P5duEoPAyvk/hetRuB6FCUBqvHSTGAQGQM3MzMzMzApACtejcD0KEEBEi2zn+6kQQIlBYOXQIgVAN4lBYOXQB0BSuB6F61ELQFyPwvUoXAJA8/3UeOkmCEARWDm0yHYFQClcj8L1qBRAL90kBoGV/T/GSzeJQWD9P7+fGi/dJARAcT0K16NwA0DqJjEIrBwSQGiR7Xw/NfQ/KVyPwvUo/j9KDAIrhxb/P/yp8dJNYv4/30+Nl24S9z9zaJHtfD//P30/NV66yRJAHFpkO99P+T8zMzMzMzMAQNv5fmq8dP0/JQaBlUMLFEAxCKwcWmTzP9R46SYxCPg/VOOlm8QgBECsHFpkO9/1P4PAyqFFtgBAWmQ730+NEUBEi2zn+6n9PyyHFtnO9/s/bef7qfHSB0Cd76fGSzcBQEw3iUFg5QJAAyuHFtnO/z83iUFg5dD2P1K4HoXrUQpA6SYxCKwcCkBg5dAi2/n2P30/NV66SfY/+n5qvHSTBkDGSzeJQeATQIlBYOXQohZA7FG4HoXrCUBKDAIrhxb7PyYxCKwcWvo/4XoUrkfhAkB46SYxCKz8P5qZmZmZmQtAqMZLN4lB+D93vp8aL90BQBsv3SQGgQRAbhKDwMohFUAUrkfhehQPQLbz/dR46e4/lkOLbOf7AkDo+6nx0k0FQGq8dJMYBPQ/0SLb+X5qAEAshxbZzvcKQFg5tMh2vgBAAAAAAAAAAECq8dJNYhAPQDeJQWDl0A5AWDm0yHa+DUCDwMqhRbb7PwaBlUOLbA9A\",\"dtype\":\"float64\",\"shape\":[162]},\"y\":{\"__ndarray__\":\"AAAAAACgVkBmZmZmZmZJQAAAAAAAwFhAMzMzMzMzVkDNzMzMzIxWQAAAAAAAAERAZmZmZmbmSEBmZmZmZmZIQJqZmZmZ2VhAAAAAAADAWEAAAAAAAOBWQJqZmZmZeVdAzczMzMyMVkAAAAAAAMBYQGZmZmZm5kxAzczMzMzMNkAzMzMzM1NUQM3MzMzMTFNAAAAAAADgVkDNzMzMzAxMQAAAAAAAwFhAAAAAAADAWEAAAAAAAKBYQM3MzMzMTFZAZmZmZmYGVkBmZmZmZiZYQGZmZmZm5lhAmpmZmZk5WECamZmZmVlXQDMzMzMzk1BAzczMzMzMTUDNzMzMzGxYQDMzMzMzs1RAMzMzMzPTWEAzMzMzM/NPQAAAAAAAwFhAMzMzMzOzUEDNzMzMzAxGQM3MzMzMTFFAMzMzMzMzKUBmZmZmZiZVQDMzMzMzs0ZAmpmZmZm5V0CamZmZmblYQDMzMzMzc1ZAzczMzMwMVEAAAAAAAABZQGZmZmZmpk1AZmZmZmZmRUDNzMzMzAxEQJqZmZmZOVhAZmZmZmYmRkDNzMzMzExTQGZmZmZmRlZAMzMzMzNTUEAzMzMzM/NQQAAAAAAAgExAzczMzMysWEAAAAAAAMBYQAAAAAAA4FhAmpmZmZmZNUAzMzMzM3NQQDMzMzMzMy5AmpmZmZm5UUDNzMzMzCxRQM3MzMzMbFRAMzMzMzMzMkAAAAAAAIBOQDMzMzMzM1ZAAAAAAACAQECamZmZmflXQDMzMzMz81hAZmZmZmbmNUAAAAAAAMBYQJqZmZmZOVdAAAAAAADAWEAAAAAAAMBRQJqZmZmZuVhAMzMzMzMTVkBmZmZmZmY6QGZmZmZmhlBAAAAAAACAVUDNzMzMzOxYQAAAAAAAwFhAzczMzMzMWECamZmZmRk8QDMzMzMz801AAAAAAADAWECamZmZmXlYQM3MzMzMDFhAAAAAAADgVECamZmZmflXQAAAAAAA4FhAzczMzMzMS0CamZmZmdlKQDMzMzMzU1RAAAAAAABgV0CamZmZmZlPQJqZmZmZWVRAmpmZmZk5VkCamZmZmXlTQGZmZmZm5jxAAAAAAADAWEAAAAAAAABZQGZmZmZmxlhAMzMzMzPTWEAAAAAAAEBLQGZmZmZm5lZAAAAAAAAAWUDNzMzMzAxYQAAAAAAA4FZAAAAAAACAWEAAAAAAAMBYQM3MzMzMjERAzczMzMzsWEAAAAAAAMBYQAAAAAAAgFVAAAAAAACASkCamZmZmflXQDMzMzMzc1hAMzMzMzMzV0DNzMzMzOxYQAAAAAAAoFhAAAAAAADASEDNzMzMzKxYQJqZmZmZ2VhAmpmZmZk5VEBmZmZmZkZXQDMzMzMzs1ZAMzMzMzNzWEAzMzMzM/NYQM3MzMzM7FVAZmZmZmbGV0CamZmZmdlXQM3MzMzM7FhAAAAAAADgVEBmZmZmZiZBQAAAAAAAQEJAzczMzMzMVEAzMzMzM/NYQM3MzMzMjFhAmpmZmZmZVkAzMzMzMzNVQGZmZmZmZlVAzczMzMwsWECamZmZmVlWQJqZmZmZWUNAZmZmZmZGVkAzMzMzM/NQQM3MzMzMrFZAmpmZmZkZVkAzMzMzM9NTQAAAAAAAYFdAMzMzMzNTV0AAAAAAACBYQAAAAAAAwFhAmpmZmZmZWEAAAAAAAOBTQAAAAAAAoFhAMzMzMzPTVEAAAAAAAIBYQGZmZmZmxlhA\",\"dtype\":\"float64\",\"shape\":[162]}},\"selected\":null,\"selection_policy\":null},\"id\":\"e191645b-b3ef-4d51-a476-28f1d2ae8c66\",\"type\":\"ColumnDataSource\"},{\"attributes\":{\"bottom_units\":\"screen\",\"fill_alpha\":{\"value\":0.5},\"fill_color\":{\"value\":\"lightgrey\"},\"left_units\":\"screen\",\"level\":\"overlay\",\"line_alpha\":{\"value\":1.0},\"line_color\":{\"value\":\"black\"},\"line_dash\":[4,4],\"line_width\":{\"value\":2},\"plot\":null,\"render_mode\":\"css\",\"right_units\":\"screen\",\"top_units\":\"screen\"},\"id\":\"4435c474-2a4e-4c73-b403-bf55e0ebb3ce\",\"type\":\"BoxAnnotation\"},{\"attributes\":{},\"id\":\"41bab954-b695-4d65-9aab-b8db15a4659b\",\"type\":\"PanTool\"},{\"attributes\":{\"active_drag\":\"auto\",\"active_inspect\":\"auto\",\"active_scroll\":\"auto\",\"active_tap\":\"auto\",\"tools\":[{\"id\":\"41bab954-b695-4d65-9aab-b8db15a4659b\",\"type\":\"PanTool\"},{\"id\":\"59367c9a-0ea9-4ed7-98a6-b7b6c2a6c520\",\"type\":\"WheelZoomTool\"},{\"id\":\"eacbb746-0272-460e-be72-2eef8a47aaba\",\"type\":\"BoxZoomTool\"},{\"id\":\"cc91dbd6-3c04-4f8f-bd0f-dd8e8e81447a\",\"type\":\"SaveTool\"},{\"id\":\"8059eb39-97d1-4500-b4d4-8582ad3e8d63\",\"type\":\"ResetTool\"},{\"id\":\"4751dac0-8ca3-4e0f-8099-3585c359ab5b\",\"type\":\"HelpTool\"}]},\"id\":\"e243f282-ce65-4e47-99b5-02b2b9075d82\",\"type\":\"Toolbar\"},{\"attributes\":{\"callback\":null},\"id\":\"50b7d9ee-53a5-460a-abfb-7da1a2b577f1\",\"type\":\"DataRange1d\"},{\"attributes\":{},\"id\":\"59367c9a-0ea9-4ed7-98a6-b7b6c2a6c520\",\"type\":\"WheelZoomTool\"},{\"attributes\":{\"overlay\":{\"id\":\"4435c474-2a4e-4c73-b403-bf55e0ebb3ce\",\"type\":\"BoxAnnotation\"}},\"id\":\"eacbb746-0272-460e-be72-2eef8a47aaba\",\"type\":\"BoxZoomTool\"},{\"attributes\":{\"callback\":null},\"id\":\"88d8e0df-a0ec-4cb4-962a-e74a8337bab2\",\"type\":\"DataRange1d\"},{\"attributes\":{},\"id\":\"cc91dbd6-3c04-4f8f-bd0f-dd8e8e81447a\",\"type\":\"SaveTool\"},{\"attributes\":{},\"id\":\"90aad1e9-4530-4ff1-beb8-42f6d25b6bd6\",\"type\":\"LinearScale\"},{\"attributes\":{},\"id\":\"8059eb39-97d1-4500-b4d4-8582ad3e8d63\",\"type\":\"ResetTool\"},{\"attributes\":{},\"id\":\"ec281ae8-8311-4c1b-8954-49c1bbcbd242\",\"type\":\"LinearScale\"},{\"attributes\":{},\"id\":\"4751dac0-8ca3-4e0f-8099-3585c359ab5b\",\"type\":\"HelpTool\"},{\"attributes\":{\"fill_alpha\":{\"value\":0.5},\"fill_color\":{\"value\":\"#1f77b4\"},\"line_color\":{\"value\":\"#1f77b4\"},\"size\":{\"field\":\"size\",\"units\":\"screen\"},\"x\":{\"field\":\"x\"},\"y\":{\"field\":\"y\"}},\"id\":\"5e8c1f59-29b8-4efd-8e1b-5be09bc62c2c\",\"type\":\"Circle\"},{\"attributes\":{\"axis_label\":\"fertility (children per woman)\",\"formatter\":{\"id\":\"56a2fc97-0d65-4322-b006-c017dcb3fa14\",\"type\":\"BasicTickFormatter\"},\"plot\":{\"id\":\"0daf2524-d09e-44e9-b5d4-5fa341b9da97\",\"subtype\":\"Figure\",\"type\":\"Plot\"},\"ticker\":{\"id\":\"61dc019c-5281-44ff-b12a-76359176ef16\",\"type\":\"BasicTicker\"}},\"id\":\"e093e8e2-a966-42ee-97bb-ba7f79364e3c\",\"type\":\"LinearAxis\"},{\"attributes\":{},\"id\":\"61dc019c-5281-44ff-b12a-76359176ef16\",\"type\":\"BasicTicker\"},{\"attributes\":{\"plot\":{\"id\":\"0daf2524-d09e-44e9-b5d4-5fa341b9da97\",\"subtype\":\"Figure\",\"type\":\"Plot\"},\"ticker\":{\"id\":\"61dc019c-5281-44ff-b12a-76359176ef16\",\"type\":\"BasicTicker\"}},\"id\":\"e57e8460-de34-421f-bca9-8163edcfe2b9\",\"type\":\"Grid\"},{\"attributes\":{},\"id\":\"74924403-f461-424a-a442-06fe8f17422f\",\"type\":\"BasicTickFormatter\"},{\"attributes\":{\"fill_alpha\":{\"value\":0.1},\"fill_color\":{\"value\":\"#1f77b4\"},\"line_alpha\":{\"value\":0.1},\"line_color\":{\"value\":\"#1f77b4\"},\"size\":{\"field\":\"size\",\"units\":\"screen\"},\"x\":{\"field\":\"x\"},\"y\":{\"field\":\"y\"}},\"id\":\"ce1d729e-c2d5-4dfd-9ded-1ee6164d276a\",\"type\":\"Circle\"},{\"attributes\":{\"axis_label\":\"female literacy (% population)\",\"formatter\":{\"id\":\"74924403-f461-424a-a442-06fe8f17422f\",\"type\":\"BasicTickFormatter\"},\"plot\":{\"id\":\"0daf2524-d09e-44e9-b5d4-5fa341b9da97\",\"subtype\":\"Figure\",\"type\":\"Plot\"},\"ticker\":{\"id\":\"c342f1c2-880a-4244-8cc0-f3a24d0adfaa\",\"type\":\"BasicTicker\"}},\"id\":\"3e006b51-8caa-4232-bc44-6496b1839359\",\"type\":\"LinearAxis\"},{\"attributes\":{\"source\":{\"id\":\"e191645b-b3ef-4d51-a476-28f1d2ae8c66\",\"type\":\"ColumnDataSource\"}},\"id\":\"a61bb8a9-9a22-4067-93df-afc30b29af31\",\"type\":\"CDSView\"},{\"attributes\":{},\"id\":\"c342f1c2-880a-4244-8cc0-f3a24d0adfaa\",\"type\":\"BasicTicker\"},{\"attributes\":{\"data_source\":{\"id\":\"e191645b-b3ef-4d51-a476-28f1d2ae8c66\",\"type\":\"ColumnDataSource\"},\"glyph\":{\"id\":\"5e8c1f59-29b8-4efd-8e1b-5be09bc62c2c\",\"type\":\"Circle\"},\"hover_glyph\":null,\"muted_glyph\":null,\"nonselection_glyph\":{\"id\":\"ce1d729e-c2d5-4dfd-9ded-1ee6164d276a\",\"type\":\"Circle\"},\"selection_glyph\":null,\"view\":{\"id\":\"a61bb8a9-9a22-4067-93df-afc30b29af31\",\"type\":\"CDSView\"}},\"id\":\"08cd51ad-b783-4246-9cdd-93a0297edf66\",\"type\":\"GlyphRenderer\"},{\"attributes\":{\"dimension\":1,\"plot\":{\"id\":\"0daf2524-d09e-44e9-b5d4-5fa341b9da97\",\"subtype\":\"Figure\",\"type\":\"Plot\"},\"ticker\":{\"id\":\"c342f1c2-880a-4244-8cc0-f3a24d0adfaa\",\"type\":\"BasicTicker\"}},\"id\":\"50eaedc9-da36-4be8-b1ba-97b04eb4635e\",\"type\":\"Grid\"}],\"root_ids\":[\"0daf2524-d09e-44e9-b5d4-5fa341b9da97\"]},\"title\":\"Bokeh Application\",\"version\":\"0.12.15\"}};\n",
       "  var render_items = [{\"docid\":\"1193a949-2a64-4c2e-a5c7-408f82c50ffd\",\"elementid\":\"acacb416-9c8e-49e9-9bc7-15049e02bc4e\",\"modelid\":\"0daf2524-d09e-44e9-b5d4-5fa341b9da97\"}];\n",
       "  root.Bokeh.embed.embed_items_notebook(docs_json, render_items);\n",
       "\n",
       "  }\n",
       "  if (root.Bokeh !== undefined) {\n",
       "    embed_document(root);\n",
       "  } else {\n",
       "    var attempts = 0;\n",
       "    var timer = setInterval(function(root) {\n",
       "      if (root.Bokeh !== undefined) {\n",
       "        embed_document(root);\n",
       "        clearInterval(timer);\n",
       "      }\n",
       "      attempts++;\n",
       "      if (attempts > 100) {\n",
       "        console.log(\"Bokeh: ERROR: Unable to run BokehJS code because BokehJS library is missing\")\n",
       "        clearInterval(timer);\n",
       "      }\n",
       "    }, 10, root)\n",
       "  }\n",
       "})(window);"
      ],
      "application/vnd.bokehjs_exec.v0+json": ""
     },
     "metadata": {
      "application/vnd.bokehjs_exec.v0+json": {
       "id": "0daf2524-d09e-44e9-b5d4-5fa341b9da97"
      }
     },
     "output_type": "display_data"
    }
   ],
   "source": [
    "p = figure(plot_width = 600, plot_height = 600, \n",
    "           x_axis_label = 'fertility (children per woman)',\n",
    "           y_axis_label = 'female literacy (% population)')\n",
    "p.circle(df['fertility'], df['female literacy'], size = 0.0000001 * df['population'], fill_alpha = 0.5)\n",
    "show(p)"
   ]
  },
  {
   "cell_type": "code",
   "execution_count": 18,
   "metadata": {},
   "outputs": [],
   "source": [
    "# Crear dos datasets con los datos solo de Latinoamerica y africa\n",
    "df_LAT = df[df.Continent =='LAT']\n",
    "df_AF = df[df.Continent == 'AF']"
   ]
  },
  {
   "cell_type": "code",
   "execution_count": 19,
   "metadata": {},
   "outputs": [
    {
     "data": {
      "text/html": [
       "\n",
       "<div class=\"bk-root\">\n",
       "    <div class=\"bk-plotdiv\" id=\"eb988e05-d16d-4687-a469-e645f1fc5d74\"></div>\n",
       "</div>"
      ]
     },
     "metadata": {},
     "output_type": "display_data"
    },
    {
     "data": {
      "application/javascript": [
       "(function(root) {\n",
       "  function embed_document(root) {\n",
       "    \n",
       "  var docs_json = {\"9825d41f-563c-4be6-8c99-9d858d05ca2b\":{\"roots\":{\"references\":[{\"attributes\":{\"fill_alpha\":{\"value\":0.1},\"fill_color\":{\"value\":\"#1f77b4\"},\"line_alpha\":{\"value\":0.1},\"line_color\":{\"value\":\"#1f77b4\"},\"x\":{\"field\":\"x\"},\"y\":{\"field\":\"y\"}},\"id\":\"79f03168-4756-438f-afe9-51c34e7b3aef\",\"type\":\"X\"},{\"attributes\":{\"below\":[{\"id\":\"f7e4be25-27c2-4f38-a4b1-357e9cfb6644\",\"type\":\"LinearAxis\"}],\"left\":[{\"id\":\"078ee599-fac3-4857-8ec3-b72bc28c3b4f\",\"type\":\"LinearAxis\"}],\"renderers\":[{\"id\":\"f7e4be25-27c2-4f38-a4b1-357e9cfb6644\",\"type\":\"LinearAxis\"},{\"id\":\"9fc89721-48b5-4cce-85ec-4e0d7b308a4a\",\"type\":\"Grid\"},{\"id\":\"078ee599-fac3-4857-8ec3-b72bc28c3b4f\",\"type\":\"LinearAxis\"},{\"id\":\"62291546-2ebe-4142-8c7c-6b0660cb83b1\",\"type\":\"Grid\"},{\"id\":\"bda7f7e6-2332-44f8-a527-cfa4d68765fb\",\"type\":\"BoxAnnotation\"},{\"id\":\"b9ea8cc1-d8ef-475b-8479-67c2583b63d2\",\"type\":\"GlyphRenderer\"},{\"id\":\"15ac3dac-0999-4e60-83f5-a551cfdfe70a\",\"type\":\"GlyphRenderer\"}],\"title\":{\"id\":\"37bba05a-ef28-4e1f-a83c-ad866eb52816\",\"type\":\"Title\"},\"toolbar\":{\"id\":\"1d56a3ef-0e47-4e40-bacb-c7e8198cf3b3\",\"type\":\"Toolbar\"},\"x_range\":{\"id\":\"f32f24ea-030b-47f0-872a-8be08ae7aef6\",\"type\":\"DataRange1d\"},\"x_scale\":{\"id\":\"c2bf06c2-e387-47b0-bc4b-a5c9ee351d91\",\"type\":\"LinearScale\"},\"y_range\":{\"id\":\"5bce69b7-537d-44ee-b1d9-397226946c31\",\"type\":\"DataRange1d\"},\"y_scale\":{\"id\":\"5c76b14c-e1c1-44ca-9fbc-bdfcfd3c313f\",\"type\":\"LinearScale\"}},\"id\":\"8e4088de-4014-4818-b197-c5d680fb0f72\",\"subtype\":\"Figure\",\"type\":\"Plot\"},{\"attributes\":{\"fill_alpha\":{\"value\":0.1},\"fill_color\":{\"value\":\"#1f77b4\"},\"line_alpha\":{\"value\":0.1},\"line_color\":{\"value\":\"#1f77b4\"},\"x\":{\"field\":\"x\"},\"y\":{\"field\":\"y\"}},\"id\":\"714bd3b9-fb99-48aa-aebc-68bb94f11837\",\"type\":\"Circle\"},{\"attributes\":{\"active_drag\":\"auto\",\"active_inspect\":\"auto\",\"active_scroll\":\"auto\",\"active_tap\":\"auto\",\"tools\":[{\"id\":\"03b7a0b1-5746-4170-a703-ce624d340529\",\"type\":\"PanTool\"},{\"id\":\"b706ca54-2933-409f-b149-b43c3df3cd46\",\"type\":\"WheelZoomTool\"},{\"id\":\"b32b8952-b4f5-44ef-abac-411ba488c609\",\"type\":\"BoxZoomTool\"},{\"id\":\"ce7ce957-0fef-42ed-ad38-c82e84db672c\",\"type\":\"SaveTool\"},{\"id\":\"2b177a7b-63ee-4448-9f83-bcab1cd8fb4c\",\"type\":\"ResetTool\"},{\"id\":\"e2ace7a5-c4c8-48cd-8e22-77f36da17a65\",\"type\":\"HelpTool\"}]},\"id\":\"1d56a3ef-0e47-4e40-bacb-c7e8198cf3b3\",\"type\":\"Toolbar\"},{\"attributes\":{\"callback\":null},\"id\":\"f32f24ea-030b-47f0-872a-8be08ae7aef6\",\"type\":\"DataRange1d\"},{\"attributes\":{},\"id\":\"0e89a2cb-b3f7-498f-8783-42d003ea02c2\",\"type\":\"BasicTickFormatter\"},{\"attributes\":{\"callback\":null},\"id\":\"5bce69b7-537d-44ee-b1d9-397226946c31\",\"type\":\"DataRange1d\"},{\"attributes\":{},\"id\":\"c2bf06c2-e387-47b0-bc4b-a5c9ee351d91\",\"type\":\"LinearScale\"},{\"attributes\":{},\"id\":\"5c76b14c-e1c1-44ca-9fbc-bdfcfd3c313f\",\"type\":\"LinearScale\"},{\"attributes\":{\"plot\":{\"id\":\"8e4088de-4014-4818-b197-c5d680fb0f72\",\"subtype\":\"Figure\",\"type\":\"Plot\"},\"ticker\":{\"id\":\"2e034656-ad62-4cdf-bf4c-015099404ace\",\"type\":\"BasicTicker\"}},\"id\":\"9fc89721-48b5-4cce-85ec-4e0d7b308a4a\",\"type\":\"Grid\"},{\"attributes\":{\"axis_label\":\"fertility (children per woman)\",\"formatter\":{\"id\":\"c60707bd-4d45-4d0d-9082-65993fef5b5c\",\"type\":\"BasicTickFormatter\"},\"plot\":{\"id\":\"8e4088de-4014-4818-b197-c5d680fb0f72\",\"subtype\":\"Figure\",\"type\":\"Plot\"},\"ticker\":{\"id\":\"2e034656-ad62-4cdf-bf4c-015099404ace\",\"type\":\"BasicTicker\"}},\"id\":\"f7e4be25-27c2-4f38-a4b1-357e9cfb6644\",\"type\":\"LinearAxis\"},{\"attributes\":{},\"id\":\"2e034656-ad62-4cdf-bf4c-015099404ace\",\"type\":\"BasicTicker\"},{\"attributes\":{},\"id\":\"c60707bd-4d45-4d0d-9082-65993fef5b5c\",\"type\":\"BasicTickFormatter\"},{\"attributes\":{\"axis_label\":\"female literacy (% population)\",\"formatter\":{\"id\":\"0e89a2cb-b3f7-498f-8783-42d003ea02c2\",\"type\":\"BasicTickFormatter\"},\"plot\":{\"id\":\"8e4088de-4014-4818-b197-c5d680fb0f72\",\"subtype\":\"Figure\",\"type\":\"Plot\"},\"ticker\":{\"id\":\"90cd64d1-b6c4-47be-97b3-cf9b6eebce87\",\"type\":\"BasicTicker\"}},\"id\":\"078ee599-fac3-4857-8ec3-b72bc28c3b4f\",\"type\":\"LinearAxis\"},{\"attributes\":{},\"id\":\"90cd64d1-b6c4-47be-97b3-cf9b6eebce87\",\"type\":\"BasicTicker\"},{\"attributes\":{\"dimension\":1,\"plot\":{\"id\":\"8e4088de-4014-4818-b197-c5d680fb0f72\",\"subtype\":\"Figure\",\"type\":\"Plot\"},\"ticker\":{\"id\":\"90cd64d1-b6c4-47be-97b3-cf9b6eebce87\",\"type\":\"BasicTicker\"}},\"id\":\"62291546-2ebe-4142-8c7c-6b0660cb83b1\",\"type\":\"Grid\"},{\"attributes\":{\"fill_color\":{\"value\":\"#1f77b4\"},\"line_color\":{\"value\":\"#1f77b4\"},\"x\":{\"field\":\"x\"},\"y\":{\"field\":\"y\"}},\"id\":\"633726ae-6130-44e7-ac53-53789fcc721d\",\"type\":\"Circle\"},{\"attributes\":{\"callback\":null,\"column_names\":[\"x\",\"y\"],\"data\":{\"x\":{\"__ndarray__\":\"CKwcWmQ7/T9zaJHtfD8BQAisHFpkOwNAYxBYObTIAUA9CtejcD0EQJZDi2zn+wNAN4lBYOXQ/j/fT42XbhIQQLTIdr6fGgRAFK5H4XoU+D9MN4lBYOUEQCyHFtnO9wpAhetRuB6FCUA3iUFg5dAHQFyPwvUoXAJAEVg5tMh2BUBKDAIrhxb/P1TjpZvEIARAg8DKoUW2AEBMN4lBYOUCQCYxCKwcWvo/lkOLbOf7AkAshxbZzvcKQIPAyqFFtvs/\",\"dtype\":\"float64\",\"shape\":[24]},\"y\":{\"__ndarray__\":\"zczMzMyMVkAAAAAAAOBWQJqZmZmZWVdAzczMzMxsWEBmZmZmZiZVQJqZmZmZuVdAzczMzMysWEDNzMzMzCxRQM3MzMzMbFRAMzMzMzPzWEAzMzMzMxNWQAAAAAAAgFVAAAAAAADgVEAAAAAAAGBXQJqZmZmZWVRAmpmZmZl5U0DNzMzMzAxYQDMzMzMzM1dAAAAAAACgWEAzMzMzM7NWQM3MzMzMjFhAmpmZmZkZVkAAAAAAACBYQAAAAAAAgFhA\",\"dtype\":\"float64\",\"shape\":[24]}},\"selected\":null,\"selection_policy\":null},\"id\":\"f84f22db-629b-4da4-8719-6d9cabf06ebf\",\"type\":\"ColumnDataSource\"},{\"attributes\":{\"bottom_units\":\"screen\",\"fill_alpha\":{\"value\":0.5},\"fill_color\":{\"value\":\"lightgrey\"},\"left_units\":\"screen\",\"level\":\"overlay\",\"line_alpha\":{\"value\":1.0},\"line_color\":{\"value\":\"black\"},\"line_dash\":[4,4],\"line_width\":{\"value\":2},\"plot\":null,\"render_mode\":\"css\",\"right_units\":\"screen\",\"top_units\":\"screen\"},\"id\":\"bda7f7e6-2332-44f8-a527-cfa4d68765fb\",\"type\":\"BoxAnnotation\"},{\"attributes\":{},\"id\":\"03b7a0b1-5746-4170-a703-ce624d340529\",\"type\":\"PanTool\"},{\"attributes\":{\"data_source\":{\"id\":\"f84f22db-629b-4da4-8719-6d9cabf06ebf\",\"type\":\"ColumnDataSource\"},\"glyph\":{\"id\":\"633726ae-6130-44e7-ac53-53789fcc721d\",\"type\":\"Circle\"},\"hover_glyph\":null,\"muted_glyph\":null,\"nonselection_glyph\":{\"id\":\"714bd3b9-fb99-48aa-aebc-68bb94f11837\",\"type\":\"Circle\"},\"selection_glyph\":null,\"view\":{\"id\":\"d139d991-c551-4ad9-a90e-191487e15998\",\"type\":\"CDSView\"}},\"id\":\"b9ea8cc1-d8ef-475b-8479-67c2583b63d2\",\"type\":\"GlyphRenderer\"},{\"attributes\":{},\"id\":\"b706ca54-2933-409f-b149-b43c3df3cd46\",\"type\":\"WheelZoomTool\"},{\"attributes\":{\"overlay\":{\"id\":\"bda7f7e6-2332-44f8-a527-cfa4d68765fb\",\"type\":\"BoxAnnotation\"}},\"id\":\"b32b8952-b4f5-44ef-abac-411ba488c609\",\"type\":\"BoxZoomTool\"},{\"attributes\":{},\"id\":\"ce7ce957-0fef-42ed-ad38-c82e84db672c\",\"type\":\"SaveTool\"},{\"attributes\":{},\"id\":\"2b177a7b-63ee-4448-9f83-bcab1cd8fb4c\",\"type\":\"ResetTool\"},{\"attributes\":{},\"id\":\"e2ace7a5-c4c8-48cd-8e22-77f36da17a65\",\"type\":\"HelpTool\"},{\"attributes\":{\"plot\":null,\"text\":\"\"},\"id\":\"37bba05a-ef28-4e1f-a83c-ad866eb52816\",\"type\":\"Title\"},{\"attributes\":{\"source\":{\"id\":\"f84f22db-629b-4da4-8719-6d9cabf06ebf\",\"type\":\"ColumnDataSource\"}},\"id\":\"d139d991-c551-4ad9-a90e-191487e15998\",\"type\":\"CDSView\"},{\"attributes\":{\"fill_color\":{\"value\":\"#1f77b4\"},\"line_color\":{\"value\":\"#1f77b4\"},\"x\":{\"field\":\"x\"},\"y\":{\"field\":\"y\"}},\"id\":\"3011e9cc-7ae3-4604-b0af-eeda272a32a3\",\"type\":\"X\"},{\"attributes\":{\"source\":{\"id\":\"201150f9-99f5-4bb8-8b6c-43c51a3a3e29\",\"type\":\"ColumnDataSource\"}},\"id\":\"b8424dee-b110-40fe-b7dd-4d895f7758fa\",\"type\":\"CDSView\"},{\"attributes\":{\"callback\":null,\"column_names\":[\"x\",\"y\"],\"data\":{\"x\":{\"__ndarray__\":\"/dR46SaxFEC7SQwCK4cGQPLSTWIQ2BRAbhKDwMqhF0AK16NwPQoEQBSuR+F6FBZACKwcWmQ7EEBWDi2ynW8TQCPb+X5qvAJAarx0kxgEGUB56SYxCKwCQOF6FK5H4RBAke18PzXeE0B0kxgEVg4SQHsUrkfhehJARIts5/spEkBANV66SYwWQHe+nxovXRdAUrgehevRFUAtsp3vp0YcQB+F61G4nhVAppvEILDyFkCBlUOLbOcKQI/C9ShcjxNAbef7qfFSGEDb+X5qvHT9PzeJQWDlUBVAUrgehetRFUBPjZduEoMVQM3MzMzMzBFARIts5/upEECJQWDl0CIFQClcj8L1qBRA6iYxCKwcEkB9PzVeuskSQCUGgZVDCxRAWmQ730+NEUBSuB6F61EKQOkmMQisHApA+n5qvHSTBkDGSzeJQeATQIlBYOXQohZA7FG4HoXrCUB46SYxCKz8P5qZmZmZmQtAbhKDwMohFUAUrkfhehQPQOj7qfHSTQVAWDm0yHa+DUA=\",\"dtype\":\"float64\",\"shape\":[49]},\"y\":{\"__ndarray__\":\"ZmZmZmZmSEBmZmZmZuZMQM3MzMzMzDZAzczMzMwMTEBmZmZmZgZWQDMzMzMzk1BAzczMzMzMTUAzMzMzM7NUQDMzMzMz809AMzMzMzOzUEDNzMzMzAxGQGZmZmZmpk1AzczMzMwMREBmZmZmZiZGQDMzMzMzU1BAMzMzMzPzUEAAAAAAAIBMQJqZmZmZmTVAMzMzMzNzUEAzMzMzMzMuQDMzMzMzMzJAAAAAAACATkAzMzMzMzNWQAAAAAAAgEBAZmZmZmbmNUAAAAAAAMBRQGZmZmZmZjpAZmZmZmaGUECamZmZmRk8QDMzMzMz801AmpmZmZnZSkAzMzMzM1NUQGZmZmZm5jxAAAAAAABAS0DNzMzMzIxEQAAAAAAAgEpAAAAAAADASEDNzMzMzOxVQGZmZmZmxldAAAAAAADgVEBmZmZmZiZBQAAAAAAAQEJAzczMzMzMVEAzMzMzMzNVQGZmZmZmZlVAZmZmZmZGVkAzMzMzM/NQQDMzMzMz01NAMzMzMzPTVEA=\",\"dtype\":\"float64\",\"shape\":[49]}},\"selected\":null,\"selection_policy\":null},\"id\":\"201150f9-99f5-4bb8-8b6c-43c51a3a3e29\",\"type\":\"ColumnDataSource\"},{\"attributes\":{\"data_source\":{\"id\":\"201150f9-99f5-4bb8-8b6c-43c51a3a3e29\",\"type\":\"ColumnDataSource\"},\"glyph\":{\"id\":\"3011e9cc-7ae3-4604-b0af-eeda272a32a3\",\"type\":\"X\"},\"hover_glyph\":null,\"muted_glyph\":null,\"nonselection_glyph\":{\"id\":\"79f03168-4756-438f-afe9-51c34e7b3aef\",\"type\":\"X\"},\"selection_glyph\":null,\"view\":{\"id\":\"b8424dee-b110-40fe-b7dd-4d895f7758fa\",\"type\":\"CDSView\"}},\"id\":\"15ac3dac-0999-4e60-83f5-a551cfdfe70a\",\"type\":\"GlyphRenderer\"}],\"root_ids\":[\"8e4088de-4014-4818-b197-c5d680fb0f72\"]},\"title\":\"Bokeh Application\",\"version\":\"0.12.15\"}};\n",
       "  var render_items = [{\"docid\":\"9825d41f-563c-4be6-8c99-9d858d05ca2b\",\"elementid\":\"eb988e05-d16d-4687-a469-e645f1fc5d74\",\"modelid\":\"8e4088de-4014-4818-b197-c5d680fb0f72\"}];\n",
       "  root.Bokeh.embed.embed_items_notebook(docs_json, render_items);\n",
       "\n",
       "  }\n",
       "  if (root.Bokeh !== undefined) {\n",
       "    embed_document(root);\n",
       "  } else {\n",
       "    var attempts = 0;\n",
       "    var timer = setInterval(function(root) {\n",
       "      if (root.Bokeh !== undefined) {\n",
       "        embed_document(root);\n",
       "        clearInterval(timer);\n",
       "      }\n",
       "      attempts++;\n",
       "      if (attempts > 100) {\n",
       "        console.log(\"Bokeh: ERROR: Unable to run BokehJS code because BokehJS library is missing\")\n",
       "        clearInterval(timer);\n",
       "      }\n",
       "    }, 10, root)\n",
       "  }\n",
       "})(window);"
      ],
      "application/vnd.bokehjs_exec.v0+json": ""
     },
     "metadata": {
      "application/vnd.bokehjs_exec.v0+json": {
       "id": "8e4088de-4014-4818-b197-c5d680fb0f72"
      }
     },
     "output_type": "display_data"
    }
   ],
   "source": [
    "# Hacer el mismo gráfico con los datasets filtrados (conjuntamente, cada uno una marca distinta en el gráfico)\n",
    "p = figure(plot_width = 600, plot_height = 600, \n",
    "           x_axis_label = 'fertility (children per woman)',\n",
    "           y_axis_label = 'female literacy (% population)')\n",
    "p.circle(df_LAT['fertility'], df_LAT['female literacy'])\n",
    "p.x(df_AF['fertility'], df_AF['female literacy'])\n",
    "show(p)"
   ]
  },
  {
   "cell_type": "code",
   "execution_count": 20,
   "metadata": {},
   "outputs": [
    {
     "data": {
      "text/html": [
       "\n",
       "<div class=\"bk-root\">\n",
       "    <div class=\"bk-plotdiv\" id=\"e476ef20-65da-490d-8936-ca1bf3f3a7df\"></div>\n",
       "</div>"
      ]
     },
     "metadata": {},
     "output_type": "display_data"
    },
    {
     "data": {
      "application/javascript": [
       "(function(root) {\n",
       "  function embed_document(root) {\n",
       "    \n",
       "  var docs_json = {\"ea314069-fadd-44cc-9b6c-cf00f107de8a\":{\"roots\":{\"references\":[{\"attributes\":{\"bottom_units\":\"screen\",\"fill_alpha\":{\"value\":0.5},\"fill_color\":{\"value\":\"lightgrey\"},\"left_units\":\"screen\",\"level\":\"overlay\",\"line_alpha\":{\"value\":1.0},\"line_color\":{\"value\":\"black\"},\"line_dash\":[4,4],\"line_width\":{\"value\":2},\"plot\":null,\"render_mode\":\"css\",\"right_units\":\"screen\",\"top_units\":\"screen\"},\"id\":\"6fbfd22d-8044-45cf-8bf0-ae27a14236f9\",\"type\":\"BoxAnnotation\"},{\"attributes\":{},\"id\":\"0360abc1-77cf-4f25-87b1-407d7c49fd28\",\"type\":\"WheelZoomTool\"},{\"attributes\":{},\"id\":\"032a62c4-6a46-4055-9560-6875f383d90a\",\"type\":\"PanTool\"},{\"attributes\":{},\"id\":\"371bf7f2-a966-4510-af3d-4bbbac24e25a\",\"type\":\"BasicTicker\"},{\"attributes\":{\"overlay\":{\"id\":\"6fbfd22d-8044-45cf-8bf0-ae27a14236f9\",\"type\":\"BoxAnnotation\"}},\"id\":\"c519b0ad-72ad-4044-8b5a-7333f0a87065\",\"type\":\"BoxZoomTool\"},{\"attributes\":{\"callback\":null},\"id\":\"2cf22b9e-6282-49ea-8bde-5d2a298afd46\",\"type\":\"DataRange1d\"},{\"attributes\":{},\"id\":\"e3017675-0beb-4905-b44d-0298e194e7a9\",\"type\":\"SaveTool\"},{\"attributes\":{},\"id\":\"e8a992c7-3363-45a0-b924-9dc72e4b121c\",\"type\":\"ResetTool\"},{\"attributes\":{},\"id\":\"746a3cee-bc3a-448e-a26a-35f007f31e15\",\"type\":\"HelpTool\"},{\"attributes\":{},\"id\":\"b862ebcd-3418-41df-ab44-159a7d89bb22\",\"type\":\"BasicTickFormatter\"},{\"attributes\":{},\"id\":\"0dad4c6c-50e2-4dbb-af5e-f997ce1697d8\",\"type\":\"BasicTickFormatter\"},{\"attributes\":{\"fill_alpha\":{\"value\":0.1},\"fill_color\":{\"value\":\"#1f77b4\"},\"line_alpha\":{\"value\":0.1},\"line_color\":{\"value\":\"#1f77b4\"},\"size\":{\"units\":\"screen\",\"value\":10},\"x\":{\"field\":\"x\"},\"y\":{\"field\":\"y\"}},\"id\":\"79f74508-e8cc-4f6b-8c9d-71e4333ae9df\",\"type\":\"Circle\"},{\"attributes\":{\"source\":{\"id\":\"9983c40d-e6ef-4a5d-9377-8f5ea3ba7051\",\"type\":\"ColumnDataSource\"}},\"id\":\"9aaceae0-c4eb-42e1-8283-7ad840726f8c\",\"type\":\"CDSView\"},{\"attributes\":{\"fill_alpha\":{\"value\":0.7},\"fill_color\":{\"value\":\"red\"},\"line_alpha\":{\"value\":0.7},\"line_color\":{\"value\":\"red\"},\"size\":{\"units\":\"screen\",\"value\":10},\"x\":{\"field\":\"x\"},\"y\":{\"field\":\"y\"}},\"id\":\"b985a41b-c5b6-48ba-93c7-1624ed600352\",\"type\":\"Circle\"},{\"attributes\":{\"source\":{\"id\":\"59c823e9-64c2-4a4f-b164-e4104d0f4d61\",\"type\":\"ColumnDataSource\"}},\"id\":\"b20942fc-ce1d-4aa6-8e69-c3de628fb111\",\"type\":\"CDSView\"},{\"attributes\":{\"below\":[{\"id\":\"d05e89b0-b868-4736-a67c-88f3e4ef3ee4\",\"type\":\"LinearAxis\"}],\"left\":[{\"id\":\"96f5fc5c-b19d-4c4b-88f9-91da307ce09b\",\"type\":\"LinearAxis\"}],\"renderers\":[{\"id\":\"d05e89b0-b868-4736-a67c-88f3e4ef3ee4\",\"type\":\"LinearAxis\"},{\"id\":\"6935a00f-41b4-4379-b8fb-2f640467ef61\",\"type\":\"Grid\"},{\"id\":\"96f5fc5c-b19d-4c4b-88f9-91da307ce09b\",\"type\":\"LinearAxis\"},{\"id\":\"aec12dc9-19e7-4b06-bca6-dc5fc2206634\",\"type\":\"Grid\"},{\"id\":\"6fbfd22d-8044-45cf-8bf0-ae27a14236f9\",\"type\":\"BoxAnnotation\"},{\"id\":\"7dbd3ba9-dce1-49ea-bc6f-d4d69d3c9c31\",\"type\":\"GlyphRenderer\"},{\"id\":\"42cdf925-96a4-47e4-998a-fc541808ab7e\",\"type\":\"GlyphRenderer\"}],\"title\":{\"id\":\"36f1cd5d-4e68-4e5a-9489-b7764890c8f9\",\"type\":\"Title\"},\"toolbar\":{\"id\":\"001e7fe9-a1de-42c7-bf29-e89827d0f3df\",\"type\":\"Toolbar\"},\"x_range\":{\"id\":\"2cf22b9e-6282-49ea-8bde-5d2a298afd46\",\"type\":\"DataRange1d\"},\"x_scale\":{\"id\":\"a16d8d87-af1d-4574-a75d-77ace2ad082a\",\"type\":\"LinearScale\"},\"y_range\":{\"id\":\"0e08fa1b-9574-4aae-b2b1-b03162c5c0e6\",\"type\":\"DataRange1d\"},\"y_scale\":{\"id\":\"2c91e87e-7579-432e-ae87-02e714ea23d3\",\"type\":\"LinearScale\"}},\"id\":\"2b0e7b32-fafc-4374-a7f0-6ee9768ca69b\",\"subtype\":\"Figure\",\"type\":\"Plot\"},{\"attributes\":{\"data_source\":{\"id\":\"59c823e9-64c2-4a4f-b164-e4104d0f4d61\",\"type\":\"ColumnDataSource\"},\"glyph\":{\"id\":\"b985a41b-c5b6-48ba-93c7-1624ed600352\",\"type\":\"Circle\"},\"hover_glyph\":null,\"muted_glyph\":null,\"nonselection_glyph\":{\"id\":\"79f74508-e8cc-4f6b-8c9d-71e4333ae9df\",\"type\":\"Circle\"},\"selection_glyph\":null,\"view\":{\"id\":\"b20942fc-ce1d-4aa6-8e69-c3de628fb111\",\"type\":\"CDSView\"}},\"id\":\"42cdf925-96a4-47e4-998a-fc541808ab7e\",\"type\":\"GlyphRenderer\"},{\"attributes\":{\"callback\":null,\"column_names\":[\"x\",\"y\"],\"data\":{\"x\":{\"__ndarray__\":\"CKwcWmQ7/T9zaJHtfD8BQAisHFpkOwNAYxBYObTIAUA9CtejcD0EQJZDi2zn+wNAN4lBYOXQ/j/fT42XbhIQQLTIdr6fGgRAFK5H4XoU+D9MN4lBYOUEQCyHFtnO9wpAhetRuB6FCUA3iUFg5dAHQFyPwvUoXAJAEVg5tMh2BUBKDAIrhxb/P1TjpZvEIARAg8DKoUW2AEBMN4lBYOUCQCYxCKwcWvo/lkOLbOf7AkAshxbZzvcKQIPAyqFFtvs/\",\"dtype\":\"float64\",\"shape\":[24]},\"y\":{\"__ndarray__\":\"zczMzMyMVkAAAAAAAOBWQJqZmZmZWVdAzczMzMxsWEBmZmZmZiZVQJqZmZmZuVdAzczMzMysWEDNzMzMzCxRQM3MzMzMbFRAMzMzMzPzWEAzMzMzMxNWQAAAAAAAgFVAAAAAAADgVEAAAAAAAGBXQJqZmZmZWVRAmpmZmZl5U0DNzMzMzAxYQDMzMzMzM1dAAAAAAACgWEAzMzMzM7NWQM3MzMzMjFhAmpmZmZkZVkAAAAAAACBYQAAAAAAAgFhA\",\"dtype\":\"float64\",\"shape\":[24]}},\"selected\":null,\"selection_policy\":null},\"id\":\"9983c40d-e6ef-4a5d-9377-8f5ea3ba7051\",\"type\":\"ColumnDataSource\"},{\"attributes\":{\"dimension\":1,\"plot\":{\"id\":\"2b0e7b32-fafc-4374-a7f0-6ee9768ca69b\",\"subtype\":\"Figure\",\"type\":\"Plot\"},\"ticker\":{\"id\":\"371bf7f2-a966-4510-af3d-4bbbac24e25a\",\"type\":\"BasicTicker\"}},\"id\":\"aec12dc9-19e7-4b06-bca6-dc5fc2206634\",\"type\":\"Grid\"},{\"attributes\":{\"active_drag\":\"auto\",\"active_inspect\":\"auto\",\"active_scroll\":\"auto\",\"active_tap\":\"auto\",\"tools\":[{\"id\":\"032a62c4-6a46-4055-9560-6875f383d90a\",\"type\":\"PanTool\"},{\"id\":\"0360abc1-77cf-4f25-87b1-407d7c49fd28\",\"type\":\"WheelZoomTool\"},{\"id\":\"c519b0ad-72ad-4044-8b5a-7333f0a87065\",\"type\":\"BoxZoomTool\"},{\"id\":\"e3017675-0beb-4905-b44d-0298e194e7a9\",\"type\":\"SaveTool\"},{\"id\":\"e8a992c7-3363-45a0-b924-9dc72e4b121c\",\"type\":\"ResetTool\"},{\"id\":\"746a3cee-bc3a-448e-a26a-35f007f31e15\",\"type\":\"HelpTool\"}]},\"id\":\"001e7fe9-a1de-42c7-bf29-e89827d0f3df\",\"type\":\"Toolbar\"},{\"attributes\":{},\"id\":\"2c91e87e-7579-432e-ae87-02e714ea23d3\",\"type\":\"LinearScale\"},{\"attributes\":{},\"id\":\"3ef2577b-9d0e-4da5-8468-0e0ff291c54b\",\"type\":\"BasicTicker\"},{\"attributes\":{\"axis_label\":\"female literacy (% population)\",\"formatter\":{\"id\":\"b862ebcd-3418-41df-ab44-159a7d89bb22\",\"type\":\"BasicTickFormatter\"},\"plot\":{\"id\":\"2b0e7b32-fafc-4374-a7f0-6ee9768ca69b\",\"subtype\":\"Figure\",\"type\":\"Plot\"},\"ticker\":{\"id\":\"371bf7f2-a966-4510-af3d-4bbbac24e25a\",\"type\":\"BasicTicker\"}},\"id\":\"96f5fc5c-b19d-4c4b-88f9-91da307ce09b\",\"type\":\"LinearAxis\"},{\"attributes\":{\"fill_alpha\":{\"value\":0.1},\"fill_color\":{\"value\":\"#1f77b4\"},\"line_alpha\":{\"value\":0.1},\"line_color\":{\"value\":\"#1f77b4\"},\"size\":{\"units\":\"screen\",\"value\":10},\"x\":{\"field\":\"x\"},\"y\":{\"field\":\"y\"}},\"id\":\"67627b56-1324-4e77-bb00-a2c6a0d3dad1\",\"type\":\"Circle\"},{\"attributes\":{\"callback\":null,\"column_names\":[\"x\",\"y\"],\"data\":{\"x\":{\"__ndarray__\":\"/dR46SaxFEC7SQwCK4cGQPLSTWIQ2BRAbhKDwMqhF0AK16NwPQoEQBSuR+F6FBZACKwcWmQ7EEBWDi2ynW8TQCPb+X5qvAJAarx0kxgEGUB56SYxCKwCQOF6FK5H4RBAke18PzXeE0B0kxgEVg4SQHsUrkfhehJARIts5/spEkBANV66SYwWQHe+nxovXRdAUrgehevRFUAtsp3vp0YcQB+F61G4nhVAppvEILDyFkCBlUOLbOcKQI/C9ShcjxNAbef7qfFSGEDb+X5qvHT9PzeJQWDlUBVAUrgehetRFUBPjZduEoMVQM3MzMzMzBFARIts5/upEECJQWDl0CIFQClcj8L1qBRA6iYxCKwcEkB9PzVeuskSQCUGgZVDCxRAWmQ730+NEUBSuB6F61EKQOkmMQisHApA+n5qvHSTBkDGSzeJQeATQIlBYOXQohZA7FG4HoXrCUB46SYxCKz8P5qZmZmZmQtAbhKDwMohFUAUrkfhehQPQOj7qfHSTQVAWDm0yHa+DUA=\",\"dtype\":\"float64\",\"shape\":[49]},\"y\":{\"__ndarray__\":\"ZmZmZmZmSEBmZmZmZuZMQM3MzMzMzDZAzczMzMwMTEBmZmZmZgZWQDMzMzMzk1BAzczMzMzMTUAzMzMzM7NUQDMzMzMz809AMzMzMzOzUEDNzMzMzAxGQGZmZmZmpk1AzczMzMwMREBmZmZmZiZGQDMzMzMzU1BAMzMzMzPzUEAAAAAAAIBMQJqZmZmZmTVAMzMzMzNzUEAzMzMzMzMuQDMzMzMzMzJAAAAAAACATkAzMzMzMzNWQAAAAAAAgEBAZmZmZmbmNUAAAAAAAMBRQGZmZmZmZjpAZmZmZmaGUECamZmZmRk8QDMzMzMz801AmpmZmZnZSkAzMzMzM1NUQGZmZmZm5jxAAAAAAABAS0DNzMzMzIxEQAAAAAAAgEpAAAAAAADASEDNzMzMzOxVQGZmZmZmxldAAAAAAADgVEBmZmZmZiZBQAAAAAAAQEJAzczMzMzMVEAzMzMzMzNVQGZmZmZmZlVAZmZmZmZGVkAzMzMzM/NQQDMzMzMz01NAMzMzMzPTVEA=\",\"dtype\":\"float64\",\"shape\":[49]}},\"selected\":null,\"selection_policy\":null},\"id\":\"59c823e9-64c2-4a4f-b164-e4104d0f4d61\",\"type\":\"ColumnDataSource\"},{\"attributes\":{},\"id\":\"a16d8d87-af1d-4574-a75d-77ace2ad082a\",\"type\":\"LinearScale\"},{\"attributes\":{\"plot\":null,\"text\":\"\"},\"id\":\"36f1cd5d-4e68-4e5a-9489-b7764890c8f9\",\"type\":\"Title\"},{\"attributes\":{\"fill_alpha\":{\"value\":0.7},\"fill_color\":{\"value\":\"blue\"},\"line_alpha\":{\"value\":0.7},\"line_color\":{\"value\":\"blue\"},\"size\":{\"units\":\"screen\",\"value\":10},\"x\":{\"field\":\"x\"},\"y\":{\"field\":\"y\"}},\"id\":\"207dde2b-f387-492f-9d2f-0ebb04b15413\",\"type\":\"Circle\"},{\"attributes\":{\"plot\":{\"id\":\"2b0e7b32-fafc-4374-a7f0-6ee9768ca69b\",\"subtype\":\"Figure\",\"type\":\"Plot\"},\"ticker\":{\"id\":\"3ef2577b-9d0e-4da5-8468-0e0ff291c54b\",\"type\":\"BasicTicker\"}},\"id\":\"6935a00f-41b4-4379-b8fb-2f640467ef61\",\"type\":\"Grid\"},{\"attributes\":{\"callback\":null},\"id\":\"0e08fa1b-9574-4aae-b2b1-b03162c5c0e6\",\"type\":\"DataRange1d\"},{\"attributes\":{\"axis_label\":\"fertility (children per woman)\",\"formatter\":{\"id\":\"0dad4c6c-50e2-4dbb-af5e-f997ce1697d8\",\"type\":\"BasicTickFormatter\"},\"plot\":{\"id\":\"2b0e7b32-fafc-4374-a7f0-6ee9768ca69b\",\"subtype\":\"Figure\",\"type\":\"Plot\"},\"ticker\":{\"id\":\"3ef2577b-9d0e-4da5-8468-0e0ff291c54b\",\"type\":\"BasicTicker\"}},\"id\":\"d05e89b0-b868-4736-a67c-88f3e4ef3ee4\",\"type\":\"LinearAxis\"},{\"attributes\":{\"data_source\":{\"id\":\"9983c40d-e6ef-4a5d-9377-8f5ea3ba7051\",\"type\":\"ColumnDataSource\"},\"glyph\":{\"id\":\"207dde2b-f387-492f-9d2f-0ebb04b15413\",\"type\":\"Circle\"},\"hover_glyph\":null,\"muted_glyph\":null,\"nonselection_glyph\":{\"id\":\"67627b56-1324-4e77-bb00-a2c6a0d3dad1\",\"type\":\"Circle\"},\"selection_glyph\":null,\"view\":{\"id\":\"9aaceae0-c4eb-42e1-8283-7ad840726f8c\",\"type\":\"CDSView\"}},\"id\":\"7dbd3ba9-dce1-49ea-bc6f-d4d69d3c9c31\",\"type\":\"GlyphRenderer\"}],\"root_ids\":[\"2b0e7b32-fafc-4374-a7f0-6ee9768ca69b\"]},\"title\":\"Bokeh Application\",\"version\":\"0.12.15\"}};\n",
       "  var render_items = [{\"docid\":\"ea314069-fadd-44cc-9b6c-cf00f107de8a\",\"elementid\":\"e476ef20-65da-490d-8936-ca1bf3f3a7df\",\"modelid\":\"2b0e7b32-fafc-4374-a7f0-6ee9768ca69b\"}];\n",
       "  root.Bokeh.embed.embed_items_notebook(docs_json, render_items);\n",
       "\n",
       "  }\n",
       "  if (root.Bokeh !== undefined) {\n",
       "    embed_document(root);\n",
       "  } else {\n",
       "    var attempts = 0;\n",
       "    var timer = setInterval(function(root) {\n",
       "      if (root.Bokeh !== undefined) {\n",
       "        embed_document(root);\n",
       "        clearInterval(timer);\n",
       "      }\n",
       "      attempts++;\n",
       "      if (attempts > 100) {\n",
       "        console.log(\"Bokeh: ERROR: Unable to run BokehJS code because BokehJS library is missing\")\n",
       "        clearInterval(timer);\n",
       "      }\n",
       "    }, 10, root)\n",
       "  }\n",
       "})(window);"
      ],
      "application/vnd.bokehjs_exec.v0+json": ""
     },
     "metadata": {
      "application/vnd.bokehjs_exec.v0+json": {
       "id": "2b0e7b32-fafc-4374-a7f0-6ee9768ca69b"
      }
     },
     "output_type": "display_data"
    }
   ],
   "source": [
    "# Hacer el mismo gráfico con los datasets filtrados (conjuntamente, cada uno una marca distinta en el gráfico)\n",
    "p = figure(plot_width = 600, plot_height = 600, \n",
    "           x_axis_label = 'fertility (children per woman)',\n",
    "           y_axis_label = 'female literacy (% population)')\n",
    "p.circle(df_LAT['fertility'], df_LAT['female literacy'], size = 10, color = 'blue', alpha = 0.7)\n",
    "p.circle(df_AF['fertility'], df_AF['female literacy'], size = 10, color = 'red', alpha = 0.7)\n",
    "show(p)"
   ]
  },
  {
   "cell_type": "code",
   "execution_count": 21,
   "metadata": {},
   "outputs": [
    {
     "data": {
      "text/html": [
       "\n",
       "<div class=\"bk-root\">\n",
       "    <div class=\"bk-plotdiv\" id=\"ae7beb53-5b48-4ae9-acb7-c8e35b4fedfa\"></div>\n",
       "</div>"
      ]
     },
     "metadata": {},
     "output_type": "display_data"
    },
    {
     "data": {
      "application/javascript": [
       "(function(root) {\n",
       "  function embed_document(root) {\n",
       "    \n",
       "  var docs_json = {\"de9a3c7c-2c18-4c4d-ac48-e00276a38279\":{\"roots\":{\"references\":[{\"attributes\":{\"label\":{\"value\":\"LAT\"},\"renderers\":[{\"id\":\"cc2ae70e-5401-4b0e-a00d-dd9b03d7abe9\",\"type\":\"GlyphRenderer\"}]},\"id\":\"5b7dc525-f976-4960-8b73-e0683d438967\",\"type\":\"LegendItem\"},{\"attributes\":{\"fill_alpha\":{\"value\":0.7},\"fill_color\":{\"value\":\"red\"},\"line_alpha\":{\"value\":0.7},\"line_color\":{\"value\":\"red\"},\"size\":{\"units\":\"screen\",\"value\":10},\"x\":{\"field\":\"x\"},\"y\":{\"field\":\"y\"}},\"id\":\"dca91afa-e05e-4d55-8639-e3206f0ffc2d\",\"type\":\"Circle\"},{\"attributes\":{},\"id\":\"4eeb713e-ba4b-4c58-9c19-df79eb2036b3\",\"type\":\"LinearScale\"},{\"attributes\":{\"callback\":null},\"id\":\"619dfe81-ba5e-4d32-b634-682bb985fc70\",\"type\":\"DataRange1d\"},{\"attributes\":{},\"id\":\"47c1ba8a-93cd-4eb1-8e75-6d6a2c4fafce\",\"type\":\"BasicTicker\"},{\"attributes\":{\"axis_label\":\"fertility (children per woman)\",\"formatter\":{\"id\":\"b3a9ce52-0d3f-4381-b5c7-7ececfce6525\",\"type\":\"BasicTickFormatter\"},\"plot\":{\"id\":\"75416ca3-e370-4fdc-8418-8c73e7490ca0\",\"subtype\":\"Figure\",\"type\":\"Plot\"},\"ticker\":{\"id\":\"47c1ba8a-93cd-4eb1-8e75-6d6a2c4fafce\",\"type\":\"BasicTicker\"}},\"id\":\"2c5df191-bfa2-4578-905e-1d0d0ea00c70\",\"type\":\"LinearAxis\"},{\"attributes\":{\"plot\":{\"id\":\"75416ca3-e370-4fdc-8418-8c73e7490ca0\",\"subtype\":\"Figure\",\"type\":\"Plot\"},\"ticker\":{\"id\":\"47c1ba8a-93cd-4eb1-8e75-6d6a2c4fafce\",\"type\":\"BasicTicker\"}},\"id\":\"b700d982-65bf-45d4-a02d-cafe969b3d94\",\"type\":\"Grid\"},{\"attributes\":{},\"id\":\"81c3618a-4d2c-42d6-b7bb-29b0952097f9\",\"type\":\"LinearScale\"},{\"attributes\":{},\"id\":\"5ded519f-7592-456c-a3f4-3beb2a9c8fd5\",\"type\":\"HelpTool\"},{\"attributes\":{},\"id\":\"f10b514c-fab4-4b49-9e7d-70da2fdeb361\",\"type\":\"SaveTool\"},{\"attributes\":{\"axis_label\":\"female literacy (% population)\",\"formatter\":{\"id\":\"f64d718c-25fc-474b-860b-4ab530b64327\",\"type\":\"BasicTickFormatter\"},\"plot\":{\"id\":\"75416ca3-e370-4fdc-8418-8c73e7490ca0\",\"subtype\":\"Figure\",\"type\":\"Plot\"},\"ticker\":{\"id\":\"5dd1c393-a6f6-42c5-aa68-e2adbdc3e8b2\",\"type\":\"BasicTicker\"}},\"id\":\"f82b9050-269a-47df-a86d-60a441ab922f\",\"type\":\"LinearAxis\"},{\"attributes\":{\"fill_alpha\":{\"value\":0.1},\"fill_color\":{\"value\":\"#1f77b4\"},\"line_alpha\":{\"value\":0.1},\"line_color\":{\"value\":\"#1f77b4\"},\"size\":{\"units\":\"screen\",\"value\":10},\"x\":{\"field\":\"x\"},\"y\":{\"field\":\"y\"}},\"id\":\"b1afb49f-eef0-472f-bbfc-fa3fcaa5c47e\",\"type\":\"Circle\"},{\"attributes\":{\"plot\":null,\"text\":\"\"},\"id\":\"02e95f57-5301-4373-b850-ed82f648ec0b\",\"type\":\"Title\"},{\"attributes\":{},\"id\":\"d2ee7993-2bf1-4d96-837f-b620907db403\",\"type\":\"ResetTool\"},{\"attributes\":{\"overlay\":{\"id\":\"44482bf5-a849-4419-953c-6d9eadecc1da\",\"type\":\"BoxAnnotation\"}},\"id\":\"e5ed69aa-e524-4c6d-8083-119b4ccdf90e\",\"type\":\"BoxZoomTool\"},{\"attributes\":{\"data_source\":{\"id\":\"8ed9d122-ab98-4d23-9bf6-6caab4006cd3\",\"type\":\"ColumnDataSource\"},\"glyph\":{\"id\":\"dca91afa-e05e-4d55-8639-e3206f0ffc2d\",\"type\":\"Circle\"},\"hover_glyph\":null,\"muted_glyph\":null,\"nonselection_glyph\":{\"id\":\"b1afb49f-eef0-472f-bbfc-fa3fcaa5c47e\",\"type\":\"Circle\"},\"selection_glyph\":null,\"view\":{\"id\":\"0a489b2b-2065-455c-9e78-a7ecded6657e\",\"type\":\"CDSView\"}},\"id\":\"12ef6ae2-7ebb-4781-a5ce-7b4247eadc7a\",\"type\":\"GlyphRenderer\"},{\"attributes\":{},\"id\":\"61e0438a-95fa-4d09-9dda-e6253313667f\",\"type\":\"WheelZoomTool\"},{\"attributes\":{\"data_source\":{\"id\":\"19e04a91-a440-4be8-8ac7-d78b060c34d9\",\"type\":\"ColumnDataSource\"},\"glyph\":{\"id\":\"e0fc5c38-621c-4085-820d-6c273baeb592\",\"type\":\"Circle\"},\"hover_glyph\":null,\"muted_glyph\":null,\"nonselection_glyph\":{\"id\":\"0a17b700-c02a-4a42-9ae9-0f2628c629d5\",\"type\":\"Circle\"},\"selection_glyph\":null,\"view\":{\"id\":\"c6859602-23a4-4e66-a81c-c71016792a01\",\"type\":\"CDSView\"}},\"id\":\"cc2ae70e-5401-4b0e-a00d-dd9b03d7abe9\",\"type\":\"GlyphRenderer\"},{\"attributes\":{},\"id\":\"296903c0-e429-4146-9a50-f5c597398866\",\"type\":\"PanTool\"},{\"attributes\":{\"bottom_units\":\"screen\",\"fill_alpha\":{\"value\":0.5},\"fill_color\":{\"value\":\"lightgrey\"},\"left_units\":\"screen\",\"level\":\"overlay\",\"line_alpha\":{\"value\":1.0},\"line_color\":{\"value\":\"black\"},\"line_dash\":[4,4],\"line_width\":{\"value\":2},\"plot\":null,\"render_mode\":\"css\",\"right_units\":\"screen\",\"top_units\":\"screen\"},\"id\":\"44482bf5-a849-4419-953c-6d9eadecc1da\",\"type\":\"BoxAnnotation\"},{\"attributes\":{\"callback\":null,\"column_names\":[\"x\",\"y\"],\"data\":{\"x\":{\"__ndarray__\":\"/dR46SaxFEC7SQwCK4cGQPLSTWIQ2BRAbhKDwMqhF0AK16NwPQoEQBSuR+F6FBZACKwcWmQ7EEBWDi2ynW8TQCPb+X5qvAJAarx0kxgEGUB56SYxCKwCQOF6FK5H4RBAke18PzXeE0B0kxgEVg4SQHsUrkfhehJARIts5/spEkBANV66SYwWQHe+nxovXRdAUrgehevRFUAtsp3vp0YcQB+F61G4nhVAppvEILDyFkCBlUOLbOcKQI/C9ShcjxNAbef7qfFSGEDb+X5qvHT9PzeJQWDlUBVAUrgehetRFUBPjZduEoMVQM3MzMzMzBFARIts5/upEECJQWDl0CIFQClcj8L1qBRA6iYxCKwcEkB9PzVeuskSQCUGgZVDCxRAWmQ730+NEUBSuB6F61EKQOkmMQisHApA+n5qvHSTBkDGSzeJQeATQIlBYOXQohZA7FG4HoXrCUB46SYxCKz8P5qZmZmZmQtAbhKDwMohFUAUrkfhehQPQOj7qfHSTQVAWDm0yHa+DUA=\",\"dtype\":\"float64\",\"shape\":[49]},\"y\":{\"__ndarray__\":\"ZmZmZmZmSEBmZmZmZuZMQM3MzMzMzDZAzczMzMwMTEBmZmZmZgZWQDMzMzMzk1BAzczMzMzMTUAzMzMzM7NUQDMzMzMz809AMzMzMzOzUEDNzMzMzAxGQGZmZmZmpk1AzczMzMwMREBmZmZmZiZGQDMzMzMzU1BAMzMzMzPzUEAAAAAAAIBMQJqZmZmZmTVAMzMzMzNzUEAzMzMzMzMuQDMzMzMzMzJAAAAAAACATkAzMzMzMzNWQAAAAAAAgEBAZmZmZmbmNUAAAAAAAMBRQGZmZmZmZjpAZmZmZmaGUECamZmZmRk8QDMzMzMz801AmpmZmZnZSkAzMzMzM1NUQGZmZmZm5jxAAAAAAABAS0DNzMzMzIxEQAAAAAAAgEpAAAAAAADASEDNzMzMzOxVQGZmZmZmxldAAAAAAADgVEBmZmZmZiZBQAAAAAAAQEJAzczMzMzMVEAzMzMzMzNVQGZmZmZmZlVAZmZmZmZGVkAzMzMzM/NQQDMzMzMz01NAMzMzMzPTVEA=\",\"dtype\":\"float64\",\"shape\":[49]}},\"selected\":null,\"selection_policy\":null},\"id\":\"8ed9d122-ab98-4d23-9bf6-6caab4006cd3\",\"type\":\"ColumnDataSource\"},{\"attributes\":{\"callback\":null,\"column_names\":[\"x\",\"y\"],\"data\":{\"x\":{\"__ndarray__\":\"CKwcWmQ7/T9zaJHtfD8BQAisHFpkOwNAYxBYObTIAUA9CtejcD0EQJZDi2zn+wNAN4lBYOXQ/j/fT42XbhIQQLTIdr6fGgRAFK5H4XoU+D9MN4lBYOUEQCyHFtnO9wpAhetRuB6FCUA3iUFg5dAHQFyPwvUoXAJAEVg5tMh2BUBKDAIrhxb/P1TjpZvEIARAg8DKoUW2AEBMN4lBYOUCQCYxCKwcWvo/lkOLbOf7AkAshxbZzvcKQIPAyqFFtvs/\",\"dtype\":\"float64\",\"shape\":[24]},\"y\":{\"__ndarray__\":\"zczMzMyMVkAAAAAAAOBWQJqZmZmZWVdAzczMzMxsWEBmZmZmZiZVQJqZmZmZuVdAzczMzMysWEDNzMzMzCxRQM3MzMzMbFRAMzMzMzPzWEAzMzMzMxNWQAAAAAAAgFVAAAAAAADgVEAAAAAAAGBXQJqZmZmZWVRAmpmZmZl5U0DNzMzMzAxYQDMzMzMzM1dAAAAAAACgWEAzMzMzM7NWQM3MzMzMjFhAmpmZmZkZVkAAAAAAACBYQAAAAAAAgFhA\",\"dtype\":\"float64\",\"shape\":[24]}},\"selected\":null,\"selection_policy\":null},\"id\":\"19e04a91-a440-4be8-8ac7-d78b060c34d9\",\"type\":\"ColumnDataSource\"},{\"attributes\":{\"fill_alpha\":{\"value\":0.7},\"fill_color\":{\"value\":\"blue\"},\"line_alpha\":{\"value\":0.7},\"line_color\":{\"value\":\"blue\"},\"size\":{\"units\":\"screen\",\"value\":10},\"x\":{\"field\":\"x\"},\"y\":{\"field\":\"y\"}},\"id\":\"e0fc5c38-621c-4085-820d-6c273baeb592\",\"type\":\"Circle\"},{\"attributes\":{\"dimension\":1,\"plot\":{\"id\":\"75416ca3-e370-4fdc-8418-8c73e7490ca0\",\"subtype\":\"Figure\",\"type\":\"Plot\"},\"ticker\":{\"id\":\"5dd1c393-a6f6-42c5-aa68-e2adbdc3e8b2\",\"type\":\"BasicTicker\"}},\"id\":\"7438d769-e7f2-4ffb-a518-5867bf334ab3\",\"type\":\"Grid\"},{\"attributes\":{\"below\":[{\"id\":\"2c5df191-bfa2-4578-905e-1d0d0ea00c70\",\"type\":\"LinearAxis\"}],\"left\":[{\"id\":\"f82b9050-269a-47df-a86d-60a441ab922f\",\"type\":\"LinearAxis\"}],\"renderers\":[{\"id\":\"2c5df191-bfa2-4578-905e-1d0d0ea00c70\",\"type\":\"LinearAxis\"},{\"id\":\"b700d982-65bf-45d4-a02d-cafe969b3d94\",\"type\":\"Grid\"},{\"id\":\"f82b9050-269a-47df-a86d-60a441ab922f\",\"type\":\"LinearAxis\"},{\"id\":\"7438d769-e7f2-4ffb-a518-5867bf334ab3\",\"type\":\"Grid\"},{\"id\":\"44482bf5-a849-4419-953c-6d9eadecc1da\",\"type\":\"BoxAnnotation\"},{\"id\":\"24627d50-799b-4eb6-94a2-522893f0e34c\",\"type\":\"Legend\"},{\"id\":\"cc2ae70e-5401-4b0e-a00d-dd9b03d7abe9\",\"type\":\"GlyphRenderer\"},{\"id\":\"12ef6ae2-7ebb-4781-a5ce-7b4247eadc7a\",\"type\":\"GlyphRenderer\"}],\"title\":{\"id\":\"02e95f57-5301-4373-b850-ed82f648ec0b\",\"type\":\"Title\"},\"toolbar\":{\"id\":\"50378439-f1a3-41b7-9f73-6020f5f3b114\",\"type\":\"Toolbar\"},\"x_range\":{\"id\":\"02164e0b-f6b4-4649-aada-cf1cef93fac5\",\"type\":\"DataRange1d\"},\"x_scale\":{\"id\":\"4eeb713e-ba4b-4c58-9c19-df79eb2036b3\",\"type\":\"LinearScale\"},\"y_range\":{\"id\":\"619dfe81-ba5e-4d32-b634-682bb985fc70\",\"type\":\"DataRange1d\"},\"y_scale\":{\"id\":\"81c3618a-4d2c-42d6-b7bb-29b0952097f9\",\"type\":\"LinearScale\"}},\"id\":\"75416ca3-e370-4fdc-8418-8c73e7490ca0\",\"subtype\":\"Figure\",\"type\":\"Plot\"},{\"attributes\":{},\"id\":\"5dd1c393-a6f6-42c5-aa68-e2adbdc3e8b2\",\"type\":\"BasicTicker\"},{\"attributes\":{\"label\":{\"value\":\"AF\"},\"renderers\":[{\"id\":\"12ef6ae2-7ebb-4781-a5ce-7b4247eadc7a\",\"type\":\"GlyphRenderer\"}]},\"id\":\"e6110d7e-9fb5-40d3-b1d8-54bac3c233a5\",\"type\":\"LegendItem\"},{\"attributes\":{},\"id\":\"b3a9ce52-0d3f-4381-b5c7-7ececfce6525\",\"type\":\"BasicTickFormatter\"},{\"attributes\":{\"source\":{\"id\":\"19e04a91-a440-4be8-8ac7-d78b060c34d9\",\"type\":\"ColumnDataSource\"}},\"id\":\"c6859602-23a4-4e66-a81c-c71016792a01\",\"type\":\"CDSView\"},{\"attributes\":{},\"id\":\"f64d718c-25fc-474b-860b-4ab530b64327\",\"type\":\"BasicTickFormatter\"},{\"attributes\":{\"items\":[{\"id\":\"5b7dc525-f976-4960-8b73-e0683d438967\",\"type\":\"LegendItem\"},{\"id\":\"e6110d7e-9fb5-40d3-b1d8-54bac3c233a5\",\"type\":\"LegendItem\"}],\"location\":\"bottom_left\",\"plot\":{\"id\":\"75416ca3-e370-4fdc-8418-8c73e7490ca0\",\"subtype\":\"Figure\",\"type\":\"Plot\"}},\"id\":\"24627d50-799b-4eb6-94a2-522893f0e34c\",\"type\":\"Legend\"},{\"attributes\":{\"fill_alpha\":{\"value\":0.1},\"fill_color\":{\"value\":\"#1f77b4\"},\"line_alpha\":{\"value\":0.1},\"line_color\":{\"value\":\"#1f77b4\"},\"size\":{\"units\":\"screen\",\"value\":10},\"x\":{\"field\":\"x\"},\"y\":{\"field\":\"y\"}},\"id\":\"0a17b700-c02a-4a42-9ae9-0f2628c629d5\",\"type\":\"Circle\"},{\"attributes\":{\"source\":{\"id\":\"8ed9d122-ab98-4d23-9bf6-6caab4006cd3\",\"type\":\"ColumnDataSource\"}},\"id\":\"0a489b2b-2065-455c-9e78-a7ecded6657e\",\"type\":\"CDSView\"},{\"attributes\":{\"callback\":null},\"id\":\"02164e0b-f6b4-4649-aada-cf1cef93fac5\",\"type\":\"DataRange1d\"},{\"attributes\":{\"active_drag\":\"auto\",\"active_inspect\":\"auto\",\"active_scroll\":\"auto\",\"active_tap\":\"auto\",\"tools\":[{\"id\":\"296903c0-e429-4146-9a50-f5c597398866\",\"type\":\"PanTool\"},{\"id\":\"61e0438a-95fa-4d09-9dda-e6253313667f\",\"type\":\"WheelZoomTool\"},{\"id\":\"e5ed69aa-e524-4c6d-8083-119b4ccdf90e\",\"type\":\"BoxZoomTool\"},{\"id\":\"f10b514c-fab4-4b49-9e7d-70da2fdeb361\",\"type\":\"SaveTool\"},{\"id\":\"d2ee7993-2bf1-4d96-837f-b620907db403\",\"type\":\"ResetTool\"},{\"id\":\"5ded519f-7592-456c-a3f4-3beb2a9c8fd5\",\"type\":\"HelpTool\"}]},\"id\":\"50378439-f1a3-41b7-9f73-6020f5f3b114\",\"type\":\"Toolbar\"}],\"root_ids\":[\"75416ca3-e370-4fdc-8418-8c73e7490ca0\"]},\"title\":\"Bokeh Application\",\"version\":\"0.12.15\"}};\n",
       "  var render_items = [{\"docid\":\"de9a3c7c-2c18-4c4d-ac48-e00276a38279\",\"elementid\":\"ae7beb53-5b48-4ae9-acb7-c8e35b4fedfa\",\"modelid\":\"75416ca3-e370-4fdc-8418-8c73e7490ca0\"}];\n",
       "  root.Bokeh.embed.embed_items_notebook(docs_json, render_items);\n",
       "\n",
       "  }\n",
       "  if (root.Bokeh !== undefined) {\n",
       "    embed_document(root);\n",
       "  } else {\n",
       "    var attempts = 0;\n",
       "    var timer = setInterval(function(root) {\n",
       "      if (root.Bokeh !== undefined) {\n",
       "        embed_document(root);\n",
       "        clearInterval(timer);\n",
       "      }\n",
       "      attempts++;\n",
       "      if (attempts > 100) {\n",
       "        console.log(\"Bokeh: ERROR: Unable to run BokehJS code because BokehJS library is missing\")\n",
       "        clearInterval(timer);\n",
       "      }\n",
       "    }, 10, root)\n",
       "  }\n",
       "})(window);"
      ],
      "application/vnd.bokehjs_exec.v0+json": ""
     },
     "metadata": {
      "application/vnd.bokehjs_exec.v0+json": {
       "id": "75416ca3-e370-4fdc-8418-8c73e7490ca0"
      }
     },
     "output_type": "display_data"
    }
   ],
   "source": [
    "# Hacer el mismo gráfico con los datasets filtrados incluyendo una leyenda\n",
    "p = figure(plot_width = 600, plot_height = 600, \n",
    "           x_axis_label = 'fertility (children per woman)',\n",
    "           y_axis_label = 'female literacy (% population)')\n",
    "p.circle(df_LAT['fertility'], df_LAT['female literacy'], size = 10, color = 'blue', alpha = 0.7, legend = 'LAT')\n",
    "p.circle(df_AF['fertility'], df_AF['female literacy'], size = 10, color = 'red', alpha = 0.7, legend = 'AF')\n",
    "p.legend.location = 'bottom_left'\n",
    "show(p)"
   ]
  },
  {
   "cell_type": "code",
   "execution_count": 22,
   "metadata": {},
   "outputs": [
    {
     "data": {
      "text/html": [
       "\n",
       "<div class=\"bk-root\">\n",
       "    <div class=\"bk-plotdiv\" id=\"065b9d5d-d11f-4c4c-9c6e-48333c355998\"></div>\n",
       "</div>"
      ]
     },
     "metadata": {},
     "output_type": "display_data"
    },
    {
     "data": {
      "application/javascript": [
       "(function(root) {\n",
       "  function embed_document(root) {\n",
       "    \n",
       "  var docs_json = {\"1c0015b7-4699-4bd1-8efd-4d96d6d62924\":{\"roots\":{\"references\":[{\"attributes\":{\"plot\":{\"id\":\"1d0d476b-98c6-44cc-918f-daafa7d47d29\",\"subtype\":\"Figure\",\"type\":\"Plot\"},\"ticker\":{\"id\":\"8be6814c-d7c2-42a4-aaa4-8a134fcd9d72\",\"type\":\"BasicTicker\"}},\"id\":\"2bc0889d-a55a-44d9-b06c-eee0bf04a865\",\"type\":\"Grid\"},{\"attributes\":{},\"id\":\"9d8d2dee-e084-4795-8dd2-3f8f9f6f5443\",\"type\":\"ResetTool\"},{\"attributes\":{\"formatter\":{\"id\":\"11d9d52c-e96b-41bc-a3b2-abd28d336525\",\"type\":\"BasicTickFormatter\"},\"plot\":{\"id\":\"1d0d476b-98c6-44cc-918f-daafa7d47d29\",\"subtype\":\"Figure\",\"type\":\"Plot\"},\"ticker\":{\"id\":\"8be6814c-d7c2-42a4-aaa4-8a134fcd9d72\",\"type\":\"BasicTicker\"}},\"id\":\"ecaa06ab-6c2e-4e71-8a5b-dd20c2fe7304\",\"type\":\"LinearAxis\"},{\"attributes\":{\"line_alpha\":0.1,\"line_color\":\"#1f77b4\",\"line_width\":5,\"x\":{\"field\":\"x\"},\"y\":{\"field\":\"y\"}},\"id\":\"e52d9130-6e4e-44ef-94a0-1e3e73493a77\",\"type\":\"Line\"},{\"attributes\":{\"source\":{\"id\":\"df4bb867-2f6f-4607-a0be-8521910f7e14\",\"type\":\"ColumnDataSource\"}},\"id\":\"61777adb-64fb-4452-b25f-08c408e3671a\",\"type\":\"CDSView\"},{\"attributes\":{\"callback\":null},\"id\":\"adba57a6-3a6a-4ec6-8a29-4e5e6f1c5243\",\"type\":\"DataRange1d\"},{\"attributes\":{},\"id\":\"4f2c4ef3-92b2-4cb1-abe4-02ef865cfcf9\",\"type\":\"BasicTickFormatter\"},{\"attributes\":{},\"id\":\"1402e6be-6e20-4092-89f6-55e4a94dbbb9\",\"type\":\"SaveTool\"},{\"attributes\":{\"bottom_units\":\"screen\",\"fill_alpha\":{\"value\":0.5},\"fill_color\":{\"value\":\"lightgrey\"},\"left_units\":\"screen\",\"level\":\"overlay\",\"line_alpha\":{\"value\":1.0},\"line_color\":{\"value\":\"black\"},\"line_dash\":[4,4],\"line_width\":{\"value\":2},\"plot\":null,\"render_mode\":\"css\",\"right_units\":\"screen\",\"top_units\":\"screen\"},\"id\":\"413b1c7b-91df-403b-866e-bf68a2b245f5\",\"type\":\"BoxAnnotation\"},{\"attributes\":{\"callback\":null},\"id\":\"e5be4d37-2f73-42d2-871b-19cb76f487b0\",\"type\":\"DataRange1d\"},{\"attributes\":{},\"id\":\"06afebcc-bc21-495f-8c3a-493e5a2111ec\",\"type\":\"PanTool\"},{\"attributes\":{\"line_color\":\"red\",\"line_width\":5,\"x\":{\"field\":\"x\"},\"y\":{\"field\":\"y\"}},\"id\":\"2c733c15-8c86-4fae-93a5-b43caa00a667\",\"type\":\"Line\"},{\"attributes\":{},\"id\":\"772f1bb2-8317-4f3c-bc1d-bd18c21f5d87\",\"type\":\"WheelZoomTool\"},{\"attributes\":{\"active_drag\":\"auto\",\"active_inspect\":\"auto\",\"active_scroll\":\"auto\",\"active_tap\":\"auto\",\"tools\":[{\"id\":\"06afebcc-bc21-495f-8c3a-493e5a2111ec\",\"type\":\"PanTool\"},{\"id\":\"772f1bb2-8317-4f3c-bc1d-bd18c21f5d87\",\"type\":\"WheelZoomTool\"},{\"id\":\"fb469e9b-65ef-4071-b7b1-159364a412a7\",\"type\":\"BoxZoomTool\"},{\"id\":\"1402e6be-6e20-4092-89f6-55e4a94dbbb9\",\"type\":\"SaveTool\"},{\"id\":\"9d8d2dee-e084-4795-8dd2-3f8f9f6f5443\",\"type\":\"ResetTool\"},{\"id\":\"40a87e27-c6de-4b51-84ac-d377be29ea20\",\"type\":\"HelpTool\"}]},\"id\":\"22a2ff14-1969-4bf4-ade2-42f656f70fa8\",\"type\":\"Toolbar\"},{\"attributes\":{\"below\":[{\"id\":\"ecaa06ab-6c2e-4e71-8a5b-dd20c2fe7304\",\"type\":\"LinearAxis\"}],\"left\":[{\"id\":\"7dadbe5b-a742-41c7-b2bf-17c858ce0a0f\",\"type\":\"LinearAxis\"}],\"plot_height\":300,\"plot_width\":300,\"renderers\":[{\"id\":\"ecaa06ab-6c2e-4e71-8a5b-dd20c2fe7304\",\"type\":\"LinearAxis\"},{\"id\":\"2bc0889d-a55a-44d9-b06c-eee0bf04a865\",\"type\":\"Grid\"},{\"id\":\"7dadbe5b-a742-41c7-b2bf-17c858ce0a0f\",\"type\":\"LinearAxis\"},{\"id\":\"44d1280f-2d1d-4575-8ea5-ec3ae590bf04\",\"type\":\"Grid\"},{\"id\":\"413b1c7b-91df-403b-866e-bf68a2b245f5\",\"type\":\"BoxAnnotation\"},{\"id\":\"d90665fe-31fd-4f62-8e8b-d7f8e43c333a\",\"type\":\"GlyphRenderer\"}],\"title\":{\"id\":\"a5fb45cf-7de6-4c79-9bed-6f01f91c714d\",\"type\":\"Title\"},\"toolbar\":{\"id\":\"22a2ff14-1969-4bf4-ade2-42f656f70fa8\",\"type\":\"Toolbar\"},\"x_range\":{\"id\":\"adba57a6-3a6a-4ec6-8a29-4e5e6f1c5243\",\"type\":\"DataRange1d\"},\"x_scale\":{\"id\":\"ed40ce7d-11f5-4df1-b980-60d3f068742a\",\"type\":\"LinearScale\"},\"y_range\":{\"id\":\"e5be4d37-2f73-42d2-871b-19cb76f487b0\",\"type\":\"DataRange1d\"},\"y_scale\":{\"id\":\"61281746-722e-4f2d-a6a9-5f0993da0cd0\",\"type\":\"LinearScale\"}},\"id\":\"1d0d476b-98c6-44cc-918f-daafa7d47d29\",\"subtype\":\"Figure\",\"type\":\"Plot\"},{\"attributes\":{\"data_source\":{\"id\":\"df4bb867-2f6f-4607-a0be-8521910f7e14\",\"type\":\"ColumnDataSource\"},\"glyph\":{\"id\":\"2c733c15-8c86-4fae-93a5-b43caa00a667\",\"type\":\"Line\"},\"hover_glyph\":null,\"muted_glyph\":null,\"nonselection_glyph\":{\"id\":\"e52d9130-6e4e-44ef-94a0-1e3e73493a77\",\"type\":\"Line\"},\"selection_glyph\":null,\"view\":{\"id\":\"61777adb-64fb-4452-b25f-08c408e3671a\",\"type\":\"CDSView\"}},\"id\":\"d90665fe-31fd-4f62-8e8b-d7f8e43c333a\",\"type\":\"GlyphRenderer\"},{\"attributes\":{},\"id\":\"11d9d52c-e96b-41bc-a3b2-abd28d336525\",\"type\":\"BasicTickFormatter\"},{\"attributes\":{},\"id\":\"8be6814c-d7c2-42a4-aaa4-8a134fcd9d72\",\"type\":\"BasicTicker\"},{\"attributes\":{},\"id\":\"9218704e-925f-44e4-8910-d77725677f6e\",\"type\":\"BasicTicker\"},{\"attributes\":{\"overlay\":{\"id\":\"413b1c7b-91df-403b-866e-bf68a2b245f5\",\"type\":\"BoxAnnotation\"}},\"id\":\"fb469e9b-65ef-4071-b7b1-159364a412a7\",\"type\":\"BoxZoomTool\"},{\"attributes\":{},\"id\":\"40a87e27-c6de-4b51-84ac-d377be29ea20\",\"type\":\"HelpTool\"},{\"attributes\":{\"callback\":null,\"column_names\":[\"x\",\"y\"],\"data\":{\"x\":[1,2,3,4,5],\"y\":[6,7,2,4,5]},\"selected\":null,\"selection_policy\":null},\"id\":\"df4bb867-2f6f-4607-a0be-8521910f7e14\",\"type\":\"ColumnDataSource\"},{\"attributes\":{\"dimension\":1,\"plot\":{\"id\":\"1d0d476b-98c6-44cc-918f-daafa7d47d29\",\"subtype\":\"Figure\",\"type\":\"Plot\"},\"ticker\":{\"id\":\"9218704e-925f-44e4-8910-d77725677f6e\",\"type\":\"BasicTicker\"}},\"id\":\"44d1280f-2d1d-4575-8ea5-ec3ae590bf04\",\"type\":\"Grid\"},{\"attributes\":{},\"id\":\"61281746-722e-4f2d-a6a9-5f0993da0cd0\",\"type\":\"LinearScale\"},{\"attributes\":{},\"id\":\"ed40ce7d-11f5-4df1-b980-60d3f068742a\",\"type\":\"LinearScale\"},{\"attributes\":{\"formatter\":{\"id\":\"4f2c4ef3-92b2-4cb1-abe4-02ef865cfcf9\",\"type\":\"BasicTickFormatter\"},\"plot\":{\"id\":\"1d0d476b-98c6-44cc-918f-daafa7d47d29\",\"subtype\":\"Figure\",\"type\":\"Plot\"},\"ticker\":{\"id\":\"9218704e-925f-44e4-8910-d77725677f6e\",\"type\":\"BasicTicker\"}},\"id\":\"7dadbe5b-a742-41c7-b2bf-17c858ce0a0f\",\"type\":\"LinearAxis\"},{\"attributes\":{\"plot\":null,\"text\":\"\"},\"id\":\"a5fb45cf-7de6-4c79-9bed-6f01f91c714d\",\"type\":\"Title\"}],\"root_ids\":[\"1d0d476b-98c6-44cc-918f-daafa7d47d29\"]},\"title\":\"Bokeh Application\",\"version\":\"0.12.15\"}};\n",
       "  var render_items = [{\"docid\":\"1c0015b7-4699-4bd1-8efd-4d96d6d62924\",\"elementid\":\"065b9d5d-d11f-4c4c-9c6e-48333c355998\",\"modelid\":\"1d0d476b-98c6-44cc-918f-daafa7d47d29\"}];\n",
       "  root.Bokeh.embed.embed_items_notebook(docs_json, render_items);\n",
       "\n",
       "  }\n",
       "  if (root.Bokeh !== undefined) {\n",
       "    embed_document(root);\n",
       "  } else {\n",
       "    var attempts = 0;\n",
       "    var timer = setInterval(function(root) {\n",
       "      if (root.Bokeh !== undefined) {\n",
       "        embed_document(root);\n",
       "        clearInterval(timer);\n",
       "      }\n",
       "      attempts++;\n",
       "      if (attempts > 100) {\n",
       "        console.log(\"Bokeh: ERROR: Unable to run BokehJS code because BokehJS library is missing\")\n",
       "        clearInterval(timer);\n",
       "      }\n",
       "    }, 10, root)\n",
       "  }\n",
       "})(window);"
      ],
      "application/vnd.bokehjs_exec.v0+json": ""
     },
     "metadata": {
      "application/vnd.bokehjs_exec.v0+json": {
       "id": "1d0d476b-98c6-44cc-918f-daafa7d47d29"
      }
     },
     "output_type": "display_data"
    }
   ],
   "source": [
    "p = figure(plot_width = 300, plot_height = 300)\n",
    "p.line([1, 2, 3, 4, 5], [6, 7, 2, 4, 5], line_color = \"red\", line_width = 5)\n",
    "show(p)"
   ]
  },
  {
   "cell_type": "code",
   "execution_count": 23,
   "metadata": {},
   "outputs": [],
   "source": [
    "AAPL = pd.read_csv(\"https://api.iextrading.com/1.0/stock/aapl/chart/5y?format=csv\", parse_dates=['date'])"
   ]
  },
  {
   "cell_type": "code",
   "execution_count": 24,
   "metadata": {},
   "outputs": [
    {
     "data": {
      "text/plain": [
       "Index(['date', 'open', 'high', 'low', 'close', 'volume', 'unadjustedVolume',\n",
       "       'change', 'changePercent', 'vwap', 'label', 'changeOverTime'],\n",
       "      dtype='object')"
      ]
     },
     "execution_count": 24,
     "metadata": {},
     "output_type": "execute_result"
    }
   ],
   "source": [
    "AAPL.columns"
   ]
  },
  {
   "cell_type": "code",
   "execution_count": 25,
   "metadata": {},
   "outputs": [
    {
     "data": {
      "text/html": [
       "<div>\n",
       "<style scoped>\n",
       "    .dataframe tbody tr th:only-of-type {\n",
       "        vertical-align: middle;\n",
       "    }\n",
       "\n",
       "    .dataframe tbody tr th {\n",
       "        vertical-align: top;\n",
       "    }\n",
       "\n",
       "    .dataframe thead th {\n",
       "        text-align: right;\n",
       "    }\n",
       "</style>\n",
       "<table border=\"1\" class=\"dataframe\">\n",
       "  <thead>\n",
       "    <tr style=\"text-align: right;\">\n",
       "      <th></th>\n",
       "      <th>date</th>\n",
       "      <th>open</th>\n",
       "      <th>high</th>\n",
       "      <th>low</th>\n",
       "      <th>close</th>\n",
       "      <th>volume</th>\n",
       "      <th>unadjustedVolume</th>\n",
       "      <th>change</th>\n",
       "      <th>changePercent</th>\n",
       "      <th>vwap</th>\n",
       "      <th>label</th>\n",
       "      <th>changeOverTime</th>\n",
       "    </tr>\n",
       "  </thead>\n",
       "  <tbody>\n",
       "    <tr>\n",
       "      <th>0</th>\n",
       "      <td>2013-04-29</td>\n",
       "      <td>54.6770</td>\n",
       "      <td>56.3893</td>\n",
       "      <td>54.6185</td>\n",
       "      <td>55.9345</td>\n",
       "      <td>159958876</td>\n",
       "      <td>22851268</td>\n",
       "      <td>1.679500</td>\n",
       "      <td>3.096</td>\n",
       "      <td>55.7966</td>\n",
       "      <td>Apr 29, 13</td>\n",
       "      <td>0.000000</td>\n",
       "    </tr>\n",
       "    <tr>\n",
       "      <th>1</th>\n",
       "      <td>2013-04-30</td>\n",
       "      <td>56.5821</td>\n",
       "      <td>57.9021</td>\n",
       "      <td>56.1881</td>\n",
       "      <td>57.5809</td>\n",
       "      <td>172737600</td>\n",
       "      <td>24676800</td>\n",
       "      <td>1.646400</td>\n",
       "      <td>2.943</td>\n",
       "      <td>57.1781</td>\n",
       "      <td>Apr 30, 13</td>\n",
       "      <td>0.029434</td>\n",
       "    </tr>\n",
       "    <tr>\n",
       "      <th>2</th>\n",
       "      <td>2013-05-01</td>\n",
       "      <td>57.7993</td>\n",
       "      <td>57.8604</td>\n",
       "      <td>56.4898</td>\n",
       "      <td>57.1270</td>\n",
       "      <td>126720237</td>\n",
       "      <td>18102891</td>\n",
       "      <td>-0.453855</td>\n",
       "      <td>-0.788</td>\n",
       "      <td>57.1217</td>\n",
       "      <td>May 1, 13</td>\n",
       "      <td>0.021320</td>\n",
       "    </tr>\n",
       "    <tr>\n",
       "      <th>3</th>\n",
       "      <td>2013-05-02</td>\n",
       "      <td>57.4508</td>\n",
       "      <td>58.3364</td>\n",
       "      <td>57.3013</td>\n",
       "      <td>57.9372</td>\n",
       "      <td>105449078</td>\n",
       "      <td>15064154</td>\n",
       "      <td>0.810175</td>\n",
       "      <td>1.418</td>\n",
       "      <td>58.0741</td>\n",
       "      <td>May 2, 13</td>\n",
       "      <td>0.035804</td>\n",
       "    </tr>\n",
       "    <tr>\n",
       "      <th>4</th>\n",
       "      <td>2013-05-03</td>\n",
       "      <td>58.6901</td>\n",
       "      <td>58.9398</td>\n",
       "      <td>58.4092</td>\n",
       "      <td>58.5172</td>\n",
       "      <td>90319201</td>\n",
       "      <td>12902743</td>\n",
       "      <td>0.579995</td>\n",
       "      <td>1.001</td>\n",
       "      <td>58.6445</td>\n",
       "      <td>May 3, 13</td>\n",
       "      <td>0.046174</td>\n",
       "    </tr>\n",
       "  </tbody>\n",
       "</table>\n",
       "</div>"
      ],
      "text/plain": [
       "        date     open     high      low    close     volume  unadjustedVolume  \\\n",
       "0 2013-04-29  54.6770  56.3893  54.6185  55.9345  159958876          22851268   \n",
       "1 2013-04-30  56.5821  57.9021  56.1881  57.5809  172737600          24676800   \n",
       "2 2013-05-01  57.7993  57.8604  56.4898  57.1270  126720237          18102891   \n",
       "3 2013-05-02  57.4508  58.3364  57.3013  57.9372  105449078          15064154   \n",
       "4 2013-05-03  58.6901  58.9398  58.4092  58.5172   90319201          12902743   \n",
       "\n",
       "     change  changePercent     vwap       label  changeOverTime  \n",
       "0  1.679500          3.096  55.7966  Apr 29, 13        0.000000  \n",
       "1  1.646400          2.943  57.1781  Apr 30, 13        0.029434  \n",
       "2 -0.453855         -0.788  57.1217   May 1, 13        0.021320  \n",
       "3  0.810175          1.418  58.0741   May 2, 13        0.035804  \n",
       "4  0.579995          1.001  58.6445   May 3, 13        0.046174  "
      ]
     },
     "execution_count": 25,
     "metadata": {},
     "output_type": "execute_result"
    }
   ],
   "source": [
    "AAPL.head()"
   ]
  },
  {
   "cell_type": "code",
   "execution_count": 26,
   "metadata": {},
   "outputs": [
    {
     "data": {
      "text/html": [
       "\n",
       "<div class=\"bk-root\">\n",
       "    <div class=\"bk-plotdiv\" id=\"ceca49c9-1977-4345-9116-1fa989f15e0c\"></div>\n",
       "</div>"
      ]
     },
     "metadata": {},
     "output_type": "display_data"
    },
    {
     "data": {
      "application/javascript": [
       "(function(root) {\n",
       "  function embed_document(root) {\n",
       "    \n",
       "  var docs_json = {\"8f1d45e7-d267-4890-9c8e-be348fbf1bf4\":{\"roots\":{\"references\":[{\"attributes\":{\"axis_label\":\"US Dollards\",\"formatter\":{\"id\":\"b0be4159-0b87-448a-b8a5-27783d6bf779\",\"type\":\"BasicTickFormatter\"},\"plot\":{\"id\":\"851eade5-42a3-49f7-9126-9abb654c9e8e\",\"subtype\":\"Figure\",\"type\":\"Plot\"},\"ticker\":{\"id\":\"aeb6dd33-93c7-4749-a1af-fe58c25f80fa\",\"type\":\"BasicTicker\"}},\"id\":\"e885c807-4bfb-48f0-a445-73a6708457ee\",\"type\":\"LinearAxis\"},{\"attributes\":{\"data_source\":{\"id\":\"bdd2e0de-ab06-4814-9b97-ee44a67cc47d\",\"type\":\"ColumnDataSource\"},\"glyph\":{\"id\":\"045d7f3c-1b72-4e4d-b241-81d5bd47e29e\",\"type\":\"Line\"},\"hover_glyph\":null,\"muted_glyph\":null,\"nonselection_glyph\":{\"id\":\"5067a7bb-b431-47e3-a4a7-9ae6a0c2b156\",\"type\":\"Line\"},\"selection_glyph\":null,\"view\":{\"id\":\"33366c00-8bec-4e99-89d7-96f57becd35f\",\"type\":\"CDSView\"}},\"id\":\"2cc579ac-40ed-4b91-b5e3-db53478727d9\",\"type\":\"GlyphRenderer\"},{\"attributes\":{},\"id\":\"aeb6dd33-93c7-4749-a1af-fe58c25f80fa\",\"type\":\"BasicTicker\"},{\"attributes\":{\"dimension\":1,\"plot\":{\"id\":\"851eade5-42a3-49f7-9126-9abb654c9e8e\",\"subtype\":\"Figure\",\"type\":\"Plot\"},\"ticker\":{\"id\":\"aeb6dd33-93c7-4749-a1af-fe58c25f80fa\",\"type\":\"BasicTicker\"}},\"id\":\"e24911e2-e552-4ee0-b119-660a327d15fa\",\"type\":\"Grid\"},{\"attributes\":{\"callback\":null,\"column_names\":[\"x\",\"y\"],\"data\":{\"x\":{\"__ndarray__\":\"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\",\"dtype\":\"float64\",\"shape\":[1260]},\"y\":{\"__ndarray__\":\"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\",\"dtype\":\"float64\",\"shape\":[1260]}},\"selected\":null,\"selection_policy\":null},\"id\":\"bdd2e0de-ab06-4814-9b97-ee44a67cc47d\",\"type\":\"ColumnDataSource\"},{\"attributes\":{\"bottom_units\":\"screen\",\"fill_alpha\":{\"value\":0.5},\"fill_color\":{\"value\":\"lightgrey\"},\"left_units\":\"screen\",\"level\":\"overlay\",\"line_alpha\":{\"value\":1.0},\"line_color\":{\"value\":\"black\"},\"line_dash\":[4,4],\"line_width\":{\"value\":2},\"plot\":null,\"render_mode\":\"css\",\"right_units\":\"screen\",\"top_units\":\"screen\"},\"id\":\"a9a0b743-3ae6-43f5-9c5d-68b671208505\",\"type\":\"BoxAnnotation\"},{\"attributes\":{},\"id\":\"b9059964-0ff3-4325-ae77-6d7a06921467\",\"type\":\"PanTool\"},{\"attributes\":{},\"id\":\"b0be4159-0b87-448a-b8a5-27783d6bf779\",\"type\":\"BasicTickFormatter\"},{\"attributes\":{},\"id\":\"f26f15ef-1e9f-4120-8c82-b104f27105ea\",\"type\":\"WheelZoomTool\"},{\"attributes\":{\"overlay\":{\"id\":\"a9a0b743-3ae6-43f5-9c5d-68b671208505\",\"type\":\"BoxAnnotation\"}},\"id\":\"84af8379-5898-4dab-8f7b-edc9526b0965\",\"type\":\"BoxZoomTool\"},{\"attributes\":{},\"id\":\"84b63ca5-e2cf-450a-8f9a-62a3357095d2\",\"type\":\"SaveTool\"},{\"attributes\":{},\"id\":\"65918bac-6384-4d40-8acb-0a66a42e7ccb\",\"type\":\"ResetTool\"},{\"attributes\":{},\"id\":\"5d0d0f80-9d6f-48f6-9457-ef8cea598fe1\",\"type\":\"HelpTool\"},{\"attributes\":{},\"id\":\"7f8a77b6-d600-460a-b1f4-300f389c1fa3\",\"type\":\"DatetimeTickFormatter\"},{\"attributes\":{\"line_color\":\"#1f77b4\",\"x\":{\"field\":\"x\"},\"y\":{\"field\":\"y\"}},\"id\":\"045d7f3c-1b72-4e4d-b241-81d5bd47e29e\",\"type\":\"Line\"},{\"attributes\":{\"source\":{\"id\":\"bdd2e0de-ab06-4814-9b97-ee44a67cc47d\",\"type\":\"ColumnDataSource\"}},\"id\":\"33366c00-8bec-4e99-89d7-96f57becd35f\",\"type\":\"CDSView\"},{\"attributes\":{\"plot\":null,\"text\":\"\"},\"id\":\"416dec1d-f5ba-4996-bb55-b03a6e11afca\",\"type\":\"Title\"},{\"attributes\":{\"mantissas\":[1,2,5],\"max_interval\":500.0,\"num_minor_ticks\":0},\"id\":\"f8a99797-889a-40eb-a65e-d7bffbca8ecd\",\"type\":\"AdaptiveTicker\"},{\"attributes\":{\"base\":60,\"mantissas\":[1,2,5,10,15,20,30],\"max_interval\":1800000.0,\"min_interval\":1000.0,\"num_minor_ticks\":0},\"id\":\"f47d17a1-f3f2-4370-9cea-b2e28f0e9a6e\",\"type\":\"AdaptiveTicker\"},{\"attributes\":{\"days\":[1,15]},\"id\":\"d97d7217-6013-4818-84be-5828199113e5\",\"type\":\"DaysTicker\"},{\"attributes\":{\"below\":[{\"id\":\"00f3d67c-845e-4a17-ad64-528821c6dbaf\",\"type\":\"DatetimeAxis\"}],\"left\":[{\"id\":\"e885c807-4bfb-48f0-a445-73a6708457ee\",\"type\":\"LinearAxis\"}],\"plot_height\":400,\"plot_width\":400,\"renderers\":[{\"id\":\"00f3d67c-845e-4a17-ad64-528821c6dbaf\",\"type\":\"DatetimeAxis\"},{\"id\":\"b1c89e58-297b-454f-867e-72d1a80818b2\",\"type\":\"Grid\"},{\"id\":\"e885c807-4bfb-48f0-a445-73a6708457ee\",\"type\":\"LinearAxis\"},{\"id\":\"e24911e2-e552-4ee0-b119-660a327d15fa\",\"type\":\"Grid\"},{\"id\":\"a9a0b743-3ae6-43f5-9c5d-68b671208505\",\"type\":\"BoxAnnotation\"},{\"id\":\"2cc579ac-40ed-4b91-b5e3-db53478727d9\",\"type\":\"GlyphRenderer\"}],\"title\":{\"id\":\"416dec1d-f5ba-4996-bb55-b03a6e11afca\",\"type\":\"Title\"},\"toolbar\":{\"id\":\"b7cf4730-ce7a-4bee-a2be-b3efc416a581\",\"type\":\"Toolbar\"},\"x_range\":{\"id\":\"dcd684b4-4210-4e3a-9602-ec19552e7d19\",\"type\":\"DataRange1d\"},\"x_scale\":{\"id\":\"fa6d6143-bec5-40b9-8936-b070ff840707\",\"type\":\"LinearScale\"},\"y_range\":{\"id\":\"042cd33a-e5f6-458d-b40d-8721f1cac677\",\"type\":\"DataRange1d\"},\"y_scale\":{\"id\":\"47aa6ff9-692d-4407-a1a8-f107a606e34c\",\"type\":\"LinearScale\"}},\"id\":\"851eade5-42a3-49f7-9126-9abb654c9e8e\",\"subtype\":\"Figure\",\"type\":\"Plot\"},{\"attributes\":{\"base\":24,\"mantissas\":[1,2,4,6,8,12],\"max_interval\":43200000.0,\"min_interval\":3600000.0,\"num_minor_ticks\":0},\"id\":\"396af18a-a93d-481c-b119-5d816c62d32d\",\"type\":\"AdaptiveTicker\"},{\"attributes\":{\"days\":[1,8,15,22]},\"id\":\"463972f3-2b5f-4b24-960c-2395930ca8f4\",\"type\":\"DaysTicker\"},{\"attributes\":{\"days\":[1,2,3,4,5,6,7,8,9,10,11,12,13,14,15,16,17,18,19,20,21,22,23,24,25,26,27,28,29,30,31]},\"id\":\"7b4012c4-3fb0-4ce0-aad0-039fda6fef4b\",\"type\":\"DaysTicker\"},{\"attributes\":{\"active_drag\":\"auto\",\"active_inspect\":\"auto\",\"active_scroll\":\"auto\",\"active_tap\":\"auto\",\"tools\":[{\"id\":\"b9059964-0ff3-4325-ae77-6d7a06921467\",\"type\":\"PanTool\"},{\"id\":\"f26f15ef-1e9f-4120-8c82-b104f27105ea\",\"type\":\"WheelZoomTool\"},{\"id\":\"84af8379-5898-4dab-8f7b-edc9526b0965\",\"type\":\"BoxZoomTool\"},{\"id\":\"84b63ca5-e2cf-450a-8f9a-62a3357095d2\",\"type\":\"SaveTool\"},{\"id\":\"65918bac-6384-4d40-8acb-0a66a42e7ccb\",\"type\":\"ResetTool\"},{\"id\":\"5d0d0f80-9d6f-48f6-9457-ef8cea598fe1\",\"type\":\"HelpTool\"}]},\"id\":\"b7cf4730-ce7a-4bee-a2be-b3efc416a581\",\"type\":\"Toolbar\"},{\"attributes\":{\"days\":[1,4,7,10,13,16,19,22,25,28]},\"id\":\"a0b61215-1c4f-496b-b2ee-0165b9a242f1\",\"type\":\"DaysTicker\"},{\"attributes\":{\"callback\":null},\"id\":\"dcd684b4-4210-4e3a-9602-ec19552e7d19\",\"type\":\"DataRange1d\"},{\"attributes\":{\"months\":[0,1,2,3,4,5,6,7,8,9,10,11]},\"id\":\"a3cb19d5-a458-4b3c-90e0-48d9869b3d83\",\"type\":\"MonthsTicker\"},{\"attributes\":{\"line_alpha\":0.1,\"line_color\":\"#1f77b4\",\"x\":{\"field\":\"x\"},\"y\":{\"field\":\"y\"}},\"id\":\"5067a7bb-b431-47e3-a4a7-9ae6a0c2b156\",\"type\":\"Line\"},{\"attributes\":{\"months\":[0,2,4,6,8,10]},\"id\":\"f546760e-0cb9-4d8f-ade0-c9441ca18d6e\",\"type\":\"MonthsTicker\"},{\"attributes\":{\"callback\":null},\"id\":\"042cd33a-e5f6-458d-b40d-8721f1cac677\",\"type\":\"DataRange1d\"},{\"attributes\":{\"months\":[0,4,8]},\"id\":\"56c5d9dc-1706-4ca6-9a52-c02a51c43662\",\"type\":\"MonthsTicker\"},{\"attributes\":{},\"id\":\"fa6d6143-bec5-40b9-8936-b070ff840707\",\"type\":\"LinearScale\"},{\"attributes\":{\"months\":[0,6]},\"id\":\"78412490-1a15-4774-86c6-d2c97e086ca4\",\"type\":\"MonthsTicker\"},{\"attributes\":{},\"id\":\"47aa6ff9-692d-4407-a1a8-f107a606e34c\",\"type\":\"LinearScale\"},{\"attributes\":{},\"id\":\"9003edce-9571-4f64-b36b-bb16078b2621\",\"type\":\"YearsTicker\"},{\"attributes\":{\"plot\":{\"id\":\"851eade5-42a3-49f7-9126-9abb654c9e8e\",\"subtype\":\"Figure\",\"type\":\"Plot\"},\"ticker\":{\"id\":\"b9ba3785-ddad-4161-b84e-fe6e63e2adac\",\"type\":\"DatetimeTicker\"}},\"id\":\"b1c89e58-297b-454f-867e-72d1a80818b2\",\"type\":\"Grid\"},{\"attributes\":{\"axis_label\":\"Date\",\"formatter\":{\"id\":\"7f8a77b6-d600-460a-b1f4-300f389c1fa3\",\"type\":\"DatetimeTickFormatter\"},\"plot\":{\"id\":\"851eade5-42a3-49f7-9126-9abb654c9e8e\",\"subtype\":\"Figure\",\"type\":\"Plot\"},\"ticker\":{\"id\":\"b9ba3785-ddad-4161-b84e-fe6e63e2adac\",\"type\":\"DatetimeTicker\"}},\"id\":\"00f3d67c-845e-4a17-ad64-528821c6dbaf\",\"type\":\"DatetimeAxis\"},{\"attributes\":{\"num_minor_ticks\":5,\"tickers\":[{\"id\":\"f8a99797-889a-40eb-a65e-d7bffbca8ecd\",\"type\":\"AdaptiveTicker\"},{\"id\":\"f47d17a1-f3f2-4370-9cea-b2e28f0e9a6e\",\"type\":\"AdaptiveTicker\"},{\"id\":\"396af18a-a93d-481c-b119-5d816c62d32d\",\"type\":\"AdaptiveTicker\"},{\"id\":\"7b4012c4-3fb0-4ce0-aad0-039fda6fef4b\",\"type\":\"DaysTicker\"},{\"id\":\"a0b61215-1c4f-496b-b2ee-0165b9a242f1\",\"type\":\"DaysTicker\"},{\"id\":\"463972f3-2b5f-4b24-960c-2395930ca8f4\",\"type\":\"DaysTicker\"},{\"id\":\"d97d7217-6013-4818-84be-5828199113e5\",\"type\":\"DaysTicker\"},{\"id\":\"a3cb19d5-a458-4b3c-90e0-48d9869b3d83\",\"type\":\"MonthsTicker\"},{\"id\":\"f546760e-0cb9-4d8f-ade0-c9441ca18d6e\",\"type\":\"MonthsTicker\"},{\"id\":\"56c5d9dc-1706-4ca6-9a52-c02a51c43662\",\"type\":\"MonthsTicker\"},{\"id\":\"78412490-1a15-4774-86c6-d2c97e086ca4\",\"type\":\"MonthsTicker\"},{\"id\":\"9003edce-9571-4f64-b36b-bb16078b2621\",\"type\":\"YearsTicker\"}]},\"id\":\"b9ba3785-ddad-4161-b84e-fe6e63e2adac\",\"type\":\"DatetimeTicker\"}],\"root_ids\":[\"851eade5-42a3-49f7-9126-9abb654c9e8e\"]},\"title\":\"Bokeh Application\",\"version\":\"0.12.15\"}};\n",
       "  var render_items = [{\"docid\":\"8f1d45e7-d267-4890-9c8e-be348fbf1bf4\",\"elementid\":\"ceca49c9-1977-4345-9116-1fa989f15e0c\",\"modelid\":\"851eade5-42a3-49f7-9126-9abb654c9e8e\"}];\n",
       "  root.Bokeh.embed.embed_items_notebook(docs_json, render_items);\n",
       "\n",
       "  }\n",
       "  if (root.Bokeh !== undefined) {\n",
       "    embed_document(root);\n",
       "  } else {\n",
       "    var attempts = 0;\n",
       "    var timer = setInterval(function(root) {\n",
       "      if (root.Bokeh !== undefined) {\n",
       "        embed_document(root);\n",
       "        clearInterval(timer);\n",
       "      }\n",
       "      attempts++;\n",
       "      if (attempts > 100) {\n",
       "        console.log(\"Bokeh: ERROR: Unable to run BokehJS code because BokehJS library is missing\")\n",
       "        clearInterval(timer);\n",
       "      }\n",
       "    }, 10, root)\n",
       "  }\n",
       "})(window);"
      ],
      "application/vnd.bokehjs_exec.v0+json": ""
     },
     "metadata": {
      "application/vnd.bokehjs_exec.v0+json": {
       "id": "851eade5-42a3-49f7-9126-9abb654c9e8e"
      }
     },
     "output_type": "display_data"
    }
   ],
   "source": [
    "applePlot = figure(plot_height = 400, plot_width = 400, x_axis_type = \"datetime\", x_axis_label = 'Date', y_axis_label = 'US Dollards')\n",
    "companyValue = AAPL['close'] * AAPL['volume']\n",
    "applePlot.line(AAPL['date'], companyValue)\n",
    "show(applePlot)"
   ]
  },
  {
   "cell_type": "code",
   "execution_count": 27,
   "metadata": {},
   "outputs": [
    {
     "data": {
      "text/html": [
       "\n",
       "<div class=\"bk-root\">\n",
       "    <div class=\"bk-plotdiv\" id=\"db081091-4c3a-4ce8-be8a-e09304537a8b\"></div>\n",
       "</div>"
      ]
     },
     "metadata": {},
     "output_type": "display_data"
    },
    {
     "data": {
      "application/javascript": [
       "(function(root) {\n",
       "  function embed_document(root) {\n",
       "    \n",
       "  var docs_json = {\"b772f58f-2f6f-4cef-b7b8-4ac99d1d0da7\":{\"roots\":{\"references\":[{\"attributes\":{},\"id\":\"464209c5-102f-406b-9327-d100a7ce5c75\",\"type\":\"SaveTool\"},{\"attributes\":{\"fill_color\":{\"value\":\"firebrick\"},\"line_color\":{\"value\":\"firebrick\"},\"top\":{\"field\":\"top\"},\"width\":{\"value\":0.5},\"x\":{\"field\":\"x\"}},\"id\":\"349dec77-9012-4863-b9b8-07e1783b3fd5\",\"type\":\"VBar\"},{\"attributes\":{},\"id\":\"02c089ee-6b97-4214-96e3-cf339f579b55\",\"type\":\"ResetTool\"},{\"attributes\":{\"callback\":null},\"id\":\"b0d39ae7-aba6-4b92-9461-5b201184c6fe\",\"type\":\"DataRange1d\"},{\"attributes\":{\"active_drag\":\"auto\",\"active_inspect\":\"auto\",\"active_scroll\":\"auto\",\"active_tap\":\"auto\",\"tools\":[{\"id\":\"a7f6dbd8-a2b8-42d5-8c49-c0a2c1772187\",\"type\":\"PanTool\"},{\"id\":\"15bbf256-81ff-4484-a5ad-4cc34671d067\",\"type\":\"WheelZoomTool\"},{\"id\":\"f1d63fd1-0bd4-4bc7-a020-cf6f11b3efa7\",\"type\":\"BoxZoomTool\"},{\"id\":\"464209c5-102f-406b-9327-d100a7ce5c75\",\"type\":\"SaveTool\"},{\"id\":\"02c089ee-6b97-4214-96e3-cf339f579b55\",\"type\":\"ResetTool\"},{\"id\":\"fedf317c-b577-4ca3-b8e0-2a079c53fc5f\",\"type\":\"HelpTool\"}]},\"id\":\"4391cb95-b010-4bbe-9cf9-7b8dffbe29d2\",\"type\":\"Toolbar\"},{\"attributes\":{\"plot\":{\"id\":\"3657d5d8-738b-48f8-a4af-1077e4451034\",\"subtype\":\"Figure\",\"type\":\"Plot\"},\"ticker\":{\"id\":\"c4dc50ab-9dea-4928-ab59-a59dfa446acf\",\"type\":\"BasicTicker\"}},\"id\":\"4be5d9ef-1def-450a-9525-79532a04666b\",\"type\":\"Grid\"},{\"attributes\":{},\"id\":\"fedf317c-b577-4ca3-b8e0-2a079c53fc5f\",\"type\":\"HelpTool\"},{\"attributes\":{\"plot\":null,\"text\":\"\"},\"id\":\"9c9832ad-390b-4cef-ab70-a6ec25224ba8\",\"type\":\"Title\"},{\"attributes\":{\"formatter\":{\"id\":\"42161e69-2959-4fcd-b096-c753dfce5635\",\"type\":\"BasicTickFormatter\"},\"plot\":{\"id\":\"3657d5d8-738b-48f8-a4af-1077e4451034\",\"subtype\":\"Figure\",\"type\":\"Plot\"},\"ticker\":{\"id\":\"c4dc50ab-9dea-4928-ab59-a59dfa446acf\",\"type\":\"BasicTicker\"}},\"id\":\"b2079fbc-371f-40a8-b430-532055b79e5d\",\"type\":\"LinearAxis\"},{\"attributes\":{},\"id\":\"62edf088-c9da-49a1-8e0d-09f89489252c\",\"type\":\"LinearScale\"},{\"attributes\":{\"callback\":null},\"id\":\"4e63d83f-c470-4c51-b628-68d1dd8ad0e5\",\"type\":\"DataRange1d\"},{\"attributes\":{},\"id\":\"c4dc50ab-9dea-4928-ab59-a59dfa446acf\",\"type\":\"BasicTicker\"},{\"attributes\":{\"source\":{\"id\":\"79c8939d-abd1-4269-8fc8-90ad96da601f\",\"type\":\"ColumnDataSource\"}},\"id\":\"f18d045c-b68a-453f-aeeb-986ec2feec35\",\"type\":\"CDSView\"},{\"attributes\":{},\"id\":\"3d9067dc-4ce2-40a6-b513-a279024c76aa\",\"type\":\"LinearScale\"},{\"attributes\":{\"formatter\":{\"id\":\"d5337c06-0160-4bda-a418-968d2eb7609c\",\"type\":\"BasicTickFormatter\"},\"plot\":{\"id\":\"3657d5d8-738b-48f8-a4af-1077e4451034\",\"subtype\":\"Figure\",\"type\":\"Plot\"},\"ticker\":{\"id\":\"bc5567d4-190e-48cd-9078-183170cf7e81\",\"type\":\"BasicTicker\"}},\"id\":\"34fef988-061f-4331-8cbd-12bab59ad000\",\"type\":\"LinearAxis\"},{\"attributes\":{},\"id\":\"42161e69-2959-4fcd-b096-c753dfce5635\",\"type\":\"BasicTickFormatter\"},{\"attributes\":{},\"id\":\"bc5567d4-190e-48cd-9078-183170cf7e81\",\"type\":\"BasicTicker\"},{\"attributes\":{\"dimension\":1,\"plot\":{\"id\":\"3657d5d8-738b-48f8-a4af-1077e4451034\",\"subtype\":\"Figure\",\"type\":\"Plot\"},\"ticker\":{\"id\":\"bc5567d4-190e-48cd-9078-183170cf7e81\",\"type\":\"BasicTicker\"}},\"id\":\"644bcec8-63a7-4914-909c-3192f5c13972\",\"type\":\"Grid\"},{\"attributes\":{\"data_source\":{\"id\":\"79c8939d-abd1-4269-8fc8-90ad96da601f\",\"type\":\"ColumnDataSource\"},\"glyph\":{\"id\":\"349dec77-9012-4863-b9b8-07e1783b3fd5\",\"type\":\"VBar\"},\"hover_glyph\":null,\"muted_glyph\":null,\"nonselection_glyph\":{\"id\":\"5abbe123-d56e-4a7f-8b8e-355c2c6a7baa\",\"type\":\"VBar\"},\"selection_glyph\":null,\"view\":{\"id\":\"f18d045c-b68a-453f-aeeb-986ec2feec35\",\"type\":\"CDSView\"}},\"id\":\"d9065692-b902-46ad-9931-eee01813ddad\",\"type\":\"GlyphRenderer\"},{\"attributes\":{\"fill_alpha\":{\"value\":0.1},\"fill_color\":{\"value\":\"#1f77b4\"},\"line_alpha\":{\"value\":0.1},\"line_color\":{\"value\":\"#1f77b4\"},\"top\":{\"field\":\"top\"},\"width\":{\"value\":0.5},\"x\":{\"field\":\"x\"}},\"id\":\"5abbe123-d56e-4a7f-8b8e-355c2c6a7baa\",\"type\":\"VBar\"},{\"attributes\":{\"below\":[{\"id\":\"b2079fbc-371f-40a8-b430-532055b79e5d\",\"type\":\"LinearAxis\"}],\"left\":[{\"id\":\"34fef988-061f-4331-8cbd-12bab59ad000\",\"type\":\"LinearAxis\"}],\"plot_height\":300,\"plot_width\":300,\"renderers\":[{\"id\":\"b2079fbc-371f-40a8-b430-532055b79e5d\",\"type\":\"LinearAxis\"},{\"id\":\"4be5d9ef-1def-450a-9525-79532a04666b\",\"type\":\"Grid\"},{\"id\":\"34fef988-061f-4331-8cbd-12bab59ad000\",\"type\":\"LinearAxis\"},{\"id\":\"644bcec8-63a7-4914-909c-3192f5c13972\",\"type\":\"Grid\"},{\"id\":\"b02b612d-85fa-4742-a16f-ffad2e452ebe\",\"type\":\"BoxAnnotation\"},{\"id\":\"d9065692-b902-46ad-9931-eee01813ddad\",\"type\":\"GlyphRenderer\"}],\"title\":{\"id\":\"9c9832ad-390b-4cef-ab70-a6ec25224ba8\",\"type\":\"Title\"},\"toolbar\":{\"id\":\"4391cb95-b010-4bbe-9cf9-7b8dffbe29d2\",\"type\":\"Toolbar\"},\"x_range\":{\"id\":\"4e63d83f-c470-4c51-b628-68d1dd8ad0e5\",\"type\":\"DataRange1d\"},\"x_scale\":{\"id\":\"3d9067dc-4ce2-40a6-b513-a279024c76aa\",\"type\":\"LinearScale\"},\"y_range\":{\"id\":\"b0d39ae7-aba6-4b92-9461-5b201184c6fe\",\"type\":\"DataRange1d\"},\"y_scale\":{\"id\":\"62edf088-c9da-49a1-8e0d-09f89489252c\",\"type\":\"LinearScale\"}},\"id\":\"3657d5d8-738b-48f8-a4af-1077e4451034\",\"subtype\":\"Figure\",\"type\":\"Plot\"},{\"attributes\":{},\"id\":\"d5337c06-0160-4bda-a418-968d2eb7609c\",\"type\":\"BasicTickFormatter\"},{\"attributes\":{\"bottom_units\":\"screen\",\"fill_alpha\":{\"value\":0.5},\"fill_color\":{\"value\":\"lightgrey\"},\"left_units\":\"screen\",\"level\":\"overlay\",\"line_alpha\":{\"value\":1.0},\"line_color\":{\"value\":\"black\"},\"line_dash\":[4,4],\"line_width\":{\"value\":2},\"plot\":null,\"render_mode\":\"css\",\"right_units\":\"screen\",\"top_units\":\"screen\"},\"id\":\"b02b612d-85fa-4742-a16f-ffad2e452ebe\",\"type\":\"BoxAnnotation\"},{\"attributes\":{\"callback\":null,\"column_names\":[\"x\",\"top\"],\"data\":{\"top\":[6,7,2,4,5],\"x\":[1,2,3,4,5]},\"selected\":null,\"selection_policy\":null},\"id\":\"79c8939d-abd1-4269-8fc8-90ad96da601f\",\"type\":\"ColumnDataSource\"},{\"attributes\":{},\"id\":\"a7f6dbd8-a2b8-42d5-8c49-c0a2c1772187\",\"type\":\"PanTool\"},{\"attributes\":{},\"id\":\"15bbf256-81ff-4484-a5ad-4cc34671d067\",\"type\":\"WheelZoomTool\"},{\"attributes\":{\"overlay\":{\"id\":\"b02b612d-85fa-4742-a16f-ffad2e452ebe\",\"type\":\"BoxAnnotation\"}},\"id\":\"f1d63fd1-0bd4-4bc7-a020-cf6f11b3efa7\",\"type\":\"BoxZoomTool\"}],\"root_ids\":[\"3657d5d8-738b-48f8-a4af-1077e4451034\"]},\"title\":\"Bokeh Application\",\"version\":\"0.12.15\"}};\n",
       "  var render_items = [{\"docid\":\"b772f58f-2f6f-4cef-b7b8-4ac99d1d0da7\",\"elementid\":\"db081091-4c3a-4ce8-be8a-e09304537a8b\",\"modelid\":\"3657d5d8-738b-48f8-a4af-1077e4451034\"}];\n",
       "  root.Bokeh.embed.embed_items_notebook(docs_json, render_items);\n",
       "\n",
       "  }\n",
       "  if (root.Bokeh !== undefined) {\n",
       "    embed_document(root);\n",
       "  } else {\n",
       "    var attempts = 0;\n",
       "    var timer = setInterval(function(root) {\n",
       "      if (root.Bokeh !== undefined) {\n",
       "        embed_document(root);\n",
       "        clearInterval(timer);\n",
       "      }\n",
       "      attempts++;\n",
       "      if (attempts > 100) {\n",
       "        console.log(\"Bokeh: ERROR: Unable to run BokehJS code because BokehJS library is missing\")\n",
       "        clearInterval(timer);\n",
       "      }\n",
       "    }, 10, root)\n",
       "  }\n",
       "})(window);"
      ],
      "application/vnd.bokehjs_exec.v0+json": ""
     },
     "metadata": {
      "application/vnd.bokehjs_exec.v0+json": {
       "id": "3657d5d8-738b-48f8-a4af-1077e4451034"
      }
     },
     "output_type": "display_data"
    }
   ],
   "source": [
    "p = figure(plot_width = 300, plot_height = 300)\n",
    "p.vbar(x = [1, 2, 3, 4, 5], width = 0.5, top = [6, 7, 2, 4, 5], color = \"firebrick\")\n",
    "show(p)"
   ]
  },
  {
   "cell_type": "code",
   "execution_count": 28,
   "metadata": {},
   "outputs": [
    {
     "data": {
      "text/html": [
       "\n",
       "<div class=\"bk-root\">\n",
       "    <div class=\"bk-plotdiv\" id=\"15a41243-3f36-4bfc-a2d6-d23740f48311\"></div>\n",
       "</div>"
      ]
     },
     "metadata": {},
     "output_type": "display_data"
    },
    {
     "data": {
      "application/javascript": [
       "(function(root) {\n",
       "  function embed_document(root) {\n",
       "    \n",
       "  var docs_json = {\"0c7da1ba-073c-4b6f-93f0-fd416136804d\":{\"roots\":{\"references\":[{\"attributes\":{\"formatter\":{\"id\":\"621318f5-e5d4-4bd5-b6de-d27ffd1d0232\",\"type\":\"BasicTickFormatter\"},\"plot\":{\"id\":\"70699221-a199-4956-be8a-b65b097aa982\",\"subtype\":\"Figure\",\"type\":\"Plot\"},\"ticker\":{\"id\":\"1751db53-38ee-405a-8515-2ccc7bba148e\",\"type\":\"BasicTicker\"}},\"id\":\"a239006f-714c-4267-8622-5eb750271afa\",\"type\":\"LinearAxis\"},{\"attributes\":{},\"id\":\"1751db53-38ee-405a-8515-2ccc7bba148e\",\"type\":\"BasicTicker\"},{\"attributes\":{\"callback\":null},\"id\":\"1db196eb-4ce4-4ec5-8b85-ae237103c5c1\",\"type\":\"DataRange1d\"},{\"attributes\":{\"data_source\":{\"id\":\"43275897-1f57-4f7d-be21-fca74beb4372\",\"type\":\"ColumnDataSource\"},\"glyph\":{\"id\":\"0a09cdc2-2192-41dd-847c-12c429a286d1\",\"type\":\"Patches\"},\"hover_glyph\":null,\"muted_glyph\":null,\"nonselection_glyph\":{\"id\":\"44cf8b41-3527-4882-b32f-d5521ae33052\",\"type\":\"Patches\"},\"selection_glyph\":null,\"view\":{\"id\":\"4c21579d-5b00-40e4-9e8a-32f4b752c2be\",\"type\":\"CDSView\"}},\"id\":\"c8407713-513b-4df9-b0b7-73100f23734b\",\"type\":\"GlyphRenderer\"},{\"attributes\":{\"source\":{\"id\":\"43275897-1f57-4f7d-be21-fca74beb4372\",\"type\":\"ColumnDataSource\"}},\"id\":\"4c21579d-5b00-40e4-9e8a-32f4b752c2be\",\"type\":\"CDSView\"},{\"attributes\":{\"fill_color\":{\"field\":\"fill_color\"},\"line_color\":{\"value\":\"white\"},\"xs\":{\"field\":\"xs\"},\"ys\":{\"field\":\"ys\"}},\"id\":\"0a09cdc2-2192-41dd-847c-12c429a286d1\",\"type\":\"Patches\"},{\"attributes\":{},\"id\":\"9d1f5bd8-765e-475e-b447-5c64b20e00c1\",\"type\":\"LinearScale\"},{\"attributes\":{},\"id\":\"621318f5-e5d4-4bd5-b6de-d27ffd1d0232\",\"type\":\"BasicTickFormatter\"},{\"attributes\":{\"plot\":{\"id\":\"70699221-a199-4956-be8a-b65b097aa982\",\"subtype\":\"Figure\",\"type\":\"Plot\"},\"ticker\":{\"id\":\"6a0209d1-2523-44a0-93b7-c3e56d0a7db9\",\"type\":\"BasicTicker\"}},\"id\":\"25080858-2e9c-491e-af77-23758b944794\",\"type\":\"Grid\"},{\"attributes\":{},\"id\":\"6a0209d1-2523-44a0-93b7-c3e56d0a7db9\",\"type\":\"BasicTicker\"},{\"attributes\":{\"plot\":null,\"text\":\"\"},\"id\":\"f37cf90e-280d-45da-b775-c1f1ddcd9339\",\"type\":\"Title\"},{\"attributes\":{\"dimension\":1,\"plot\":{\"id\":\"70699221-a199-4956-be8a-b65b097aa982\",\"subtype\":\"Figure\",\"type\":\"Plot\"},\"ticker\":{\"id\":\"1751db53-38ee-405a-8515-2ccc7bba148e\",\"type\":\"BasicTicker\"}},\"id\":\"4c2ec62e-14bd-45aa-9790-6875123cdc0a\",\"type\":\"Grid\"},{\"attributes\":{},\"id\":\"69b06e1b-5aef-4cc6-b2b2-a1e940c1daea\",\"type\":\"BasicTickFormatter\"},{\"attributes\":{},\"id\":\"9f6257c3-d3df-4224-8d99-138bcb1859ed\",\"type\":\"HelpTool\"},{\"attributes\":{\"fill_alpha\":{\"value\":0.1},\"fill_color\":{\"value\":\"#1f77b4\"},\"line_alpha\":{\"value\":0.1},\"line_color\":{\"value\":\"#1f77b4\"},\"xs\":{\"field\":\"xs\"},\"ys\":{\"field\":\"ys\"}},\"id\":\"44cf8b41-3527-4882-b32f-d5521ae33052\",\"type\":\"Patches\"},{\"attributes\":{\"below\":[{\"id\":\"d1269818-119d-4e31-91e5-f3ffc85057fb\",\"type\":\"LinearAxis\"}],\"left\":[{\"id\":\"a239006f-714c-4267-8622-5eb750271afa\",\"type\":\"LinearAxis\"}],\"renderers\":[{\"id\":\"d1269818-119d-4e31-91e5-f3ffc85057fb\",\"type\":\"LinearAxis\"},{\"id\":\"25080858-2e9c-491e-af77-23758b944794\",\"type\":\"Grid\"},{\"id\":\"a239006f-714c-4267-8622-5eb750271afa\",\"type\":\"LinearAxis\"},{\"id\":\"4c2ec62e-14bd-45aa-9790-6875123cdc0a\",\"type\":\"Grid\"},{\"id\":\"436634e3-fb68-4b29-9244-2b84ff3df90b\",\"type\":\"BoxAnnotation\"},{\"id\":\"c8407713-513b-4df9-b0b7-73100f23734b\",\"type\":\"GlyphRenderer\"}],\"title\":{\"id\":\"f37cf90e-280d-45da-b775-c1f1ddcd9339\",\"type\":\"Title\"},\"toolbar\":{\"id\":\"d9439adf-5772-4fc2-b897-8ca01c41f944\",\"type\":\"Toolbar\"},\"x_range\":{\"id\":\"f03d2bf1-6e6f-4443-b31c-e1c3eebf2793\",\"type\":\"DataRange1d\"},\"x_scale\":{\"id\":\"b5718db4-cdd8-49bc-bef5-d1ff3dab4ebe\",\"type\":\"LinearScale\"},\"y_range\":{\"id\":\"1db196eb-4ce4-4ec5-8b85-ae237103c5c1\",\"type\":\"DataRange1d\"},\"y_scale\":{\"id\":\"9d1f5bd8-765e-475e-b447-5c64b20e00c1\",\"type\":\"LinearScale\"}},\"id\":\"70699221-a199-4956-be8a-b65b097aa982\",\"subtype\":\"Figure\",\"type\":\"Plot\"},{\"attributes\":{},\"id\":\"d8124808-6907-490b-afcb-512acb8195f1\",\"type\":\"PanTool\"},{\"attributes\":{\"bottom_units\":\"screen\",\"fill_alpha\":{\"value\":0.5},\"fill_color\":{\"value\":\"lightgrey\"},\"left_units\":\"screen\",\"level\":\"overlay\",\"line_alpha\":{\"value\":1.0},\"line_color\":{\"value\":\"black\"},\"line_dash\":[4,4],\"line_width\":{\"value\":2},\"plot\":null,\"render_mode\":\"css\",\"right_units\":\"screen\",\"top_units\":\"screen\"},\"id\":\"436634e3-fb68-4b29-9244-2b84ff3df90b\",\"type\":\"BoxAnnotation\"},{\"attributes\":{\"callback\":null,\"column_names\":[\"xs\",\"ys\",\"fill_color\"],\"data\":{\"fill_color\":[\"red\",\"blue\",\"green\"],\"xs\":[[1,1,2,2],[2,2,4],[2,2,3,3]],\"ys\":[[2,5,5,2],[3,5,5],[2,3,4,2]]},\"selected\":null,\"selection_policy\":null},\"id\":\"43275897-1f57-4f7d-be21-fca74beb4372\",\"type\":\"ColumnDataSource\"},{\"attributes\":{\"active_drag\":\"auto\",\"active_inspect\":\"auto\",\"active_scroll\":\"auto\",\"active_tap\":\"auto\",\"tools\":[{\"id\":\"d8124808-6907-490b-afcb-512acb8195f1\",\"type\":\"PanTool\"},{\"id\":\"f15aced5-8a67-49ba-95de-92fa7707079e\",\"type\":\"WheelZoomTool\"},{\"id\":\"9918ba2d-50bc-434e-9b9c-17f2e9a484eb\",\"type\":\"BoxZoomTool\"},{\"id\":\"1706fb3b-6d28-4a78-9908-7c907a3ba5c5\",\"type\":\"SaveTool\"},{\"id\":\"6e6a1915-747a-4044-9fc5-e14c061dae04\",\"type\":\"ResetTool\"},{\"id\":\"9f6257c3-d3df-4224-8d99-138bcb1859ed\",\"type\":\"HelpTool\"}]},\"id\":\"d9439adf-5772-4fc2-b897-8ca01c41f944\",\"type\":\"Toolbar\"},{\"attributes\":{\"formatter\":{\"id\":\"69b06e1b-5aef-4cc6-b2b2-a1e940c1daea\",\"type\":\"BasicTickFormatter\"},\"plot\":{\"id\":\"70699221-a199-4956-be8a-b65b097aa982\",\"subtype\":\"Figure\",\"type\":\"Plot\"},\"ticker\":{\"id\":\"6a0209d1-2523-44a0-93b7-c3e56d0a7db9\",\"type\":\"BasicTicker\"}},\"id\":\"d1269818-119d-4e31-91e5-f3ffc85057fb\",\"type\":\"LinearAxis\"},{\"attributes\":{},\"id\":\"f15aced5-8a67-49ba-95de-92fa7707079e\",\"type\":\"WheelZoomTool\"},{\"attributes\":{},\"id\":\"6e6a1915-747a-4044-9fc5-e14c061dae04\",\"type\":\"ResetTool\"},{\"attributes\":{},\"id\":\"b5718db4-cdd8-49bc-bef5-d1ff3dab4ebe\",\"type\":\"LinearScale\"},{\"attributes\":{},\"id\":\"1706fb3b-6d28-4a78-9908-7c907a3ba5c5\",\"type\":\"SaveTool\"},{\"attributes\":{\"overlay\":{\"id\":\"436634e3-fb68-4b29-9244-2b84ff3df90b\",\"type\":\"BoxAnnotation\"}},\"id\":\"9918ba2d-50bc-434e-9b9c-17f2e9a484eb\",\"type\":\"BoxZoomTool\"},{\"attributes\":{\"callback\":null},\"id\":\"f03d2bf1-6e6f-4443-b31c-e1c3eebf2793\",\"type\":\"DataRange1d\"}],\"root_ids\":[\"70699221-a199-4956-be8a-b65b097aa982\"]},\"title\":\"Bokeh Application\",\"version\":\"0.12.15\"}};\n",
       "  var render_items = [{\"docid\":\"0c7da1ba-073c-4b6f-93f0-fd416136804d\",\"elementid\":\"15a41243-3f36-4bfc-a2d6-d23740f48311\",\"modelid\":\"70699221-a199-4956-be8a-b65b097aa982\"}];\n",
       "  root.Bokeh.embed.embed_items_notebook(docs_json, render_items);\n",
       "\n",
       "  }\n",
       "  if (root.Bokeh !== undefined) {\n",
       "    embed_document(root);\n",
       "  } else {\n",
       "    var attempts = 0;\n",
       "    var timer = setInterval(function(root) {\n",
       "      if (root.Bokeh !== undefined) {\n",
       "        embed_document(root);\n",
       "        clearInterval(timer);\n",
       "      }\n",
       "      attempts++;\n",
       "      if (attempts > 100) {\n",
       "        console.log(\"Bokeh: ERROR: Unable to run BokehJS code because BokehJS library is missing\")\n",
       "        clearInterval(timer);\n",
       "      }\n",
       "    }, 10, root)\n",
       "  }\n",
       "})(window);"
      ],
      "application/vnd.bokehjs_exec.v0+json": ""
     },
     "metadata": {
      "application/vnd.bokehjs_exec.v0+json": {
       "id": "70699221-a199-4956-be8a-b65b097aa982"
      }
     },
     "output_type": "display_data"
    }
   ],
   "source": [
    "xs = [[1, 1, 2, 2], [2, 2, 4], [2, 2, 3, 3]]\n",
    "ys = [[2, 5, 5, 2], [3, 5, 5], [2, 3, 4, 2]]\n",
    "p = figure()\n",
    "p.patches(xs, ys, fill_color = [\"red\", \"blue\", \"green\"], line_color = \"white\")\n",
    "show(p)"
   ]
  },
  {
   "cell_type": "code",
   "execution_count": 29,
   "metadata": {},
   "outputs": [],
   "source": [
    "import json"
   ]
  },
  {
   "cell_type": "code",
   "execution_count": 30,
   "metadata": {},
   "outputs": [],
   "source": [
    "with open(\"states.json\", 'r') as f:\n",
    "    states = json.load(f)"
   ]
  },
  {
   "cell_type": "code",
   "execution_count": 31,
   "metadata": {},
   "outputs": [
    {
     "data": {
      "text/plain": [
       "dict_keys(['az', 'co', 'nm', 'ut'])"
      ]
     },
     "execution_count": 31,
     "metadata": {},
     "output_type": "execute_result"
    }
   ],
   "source": [
    "states.keys()"
   ]
  },
  {
   "cell_type": "code",
   "execution_count": 32,
   "metadata": {},
   "outputs": [
    {
     "data": {
      "text/plain": [
       "dict_keys(['lons', 'lats'])"
      ]
     },
     "execution_count": 32,
     "metadata": {},
     "output_type": "execute_result"
    }
   ],
   "source": [
    "states['az'].keys()"
   ]
  },
  {
   "cell_type": "code",
   "execution_count": 33,
   "metadata": {},
   "outputs": [
    {
     "data": {
      "text/html": [
       "\n",
       "<div class=\"bk-root\">\n",
       "    <div class=\"bk-plotdiv\" id=\"f3e6628e-1ac5-41c6-a589-54ec140af182\"></div>\n",
       "</div>"
      ]
     },
     "metadata": {},
     "output_type": "display_data"
    },
    {
     "data": {
      "application/javascript": [
       "(function(root) {\n",
       "  function embed_document(root) {\n",
       "    \n",
       "  var docs_json = {\"ac02bd7a-00bb-4ab1-8141-87e3181f0ba3\":{\"roots\":{\"references\":[{\"attributes\":{\"source\":{\"id\":\"ff575af4-769b-4e0b-a076-ae0c451e8eaf\",\"type\":\"ColumnDataSource\"}},\"id\":\"414b9bcc-1688-4b76-bb0d-3b5982691546\",\"type\":\"CDSView\"},{\"attributes\":{\"plot\":{\"id\":\"9efc940c-07a7-486d-8cdb-444015324ed7\",\"subtype\":\"Figure\",\"type\":\"Plot\"},\"ticker\":{\"id\":\"f2bdea24-4c7f-43dc-a442-6cd5293282d9\",\"type\":\"BasicTicker\"}},\"id\":\"85e458f8-5560-4f29-b1da-85c5445fb46c\",\"type\":\"Grid\"},{\"attributes\":{},\"id\":\"366f4f45-5042-48ca-987f-78bd28d67c5a\",\"type\":\"LinearScale\"},{\"attributes\":{\"fill_alpha\":{\"value\":0.1},\"fill_color\":{\"value\":\"#1f77b4\"},\"line_alpha\":{\"value\":0.1},\"line_color\":{\"value\":\"#1f77b4\"},\"xs\":{\"field\":\"xs\"},\"ys\":{\"field\":\"ys\"}},\"id\":\"9ab56157-b8c3-4920-a365-d12993894557\",\"type\":\"Patches\"},{\"attributes\":{},\"id\":\"018373f7-e1a5-4e3d-bd46-9f1275455f60\",\"type\":\"WheelZoomTool\"},{\"attributes\":{\"dimension\":1,\"plot\":{\"id\":\"9efc940c-07a7-486d-8cdb-444015324ed7\",\"subtype\":\"Figure\",\"type\":\"Plot\"},\"ticker\":{\"id\":\"08b2fcb6-e988-4f50-b299-a4d6e4458e75\",\"type\":\"BasicTicker\"}},\"id\":\"007a343c-23c3-4b51-957a-0884aeba2eb7\",\"type\":\"Grid\"},{\"attributes\":{},\"id\":\"08b2fcb6-e988-4f50-b299-a4d6e4458e75\",\"type\":\"BasicTicker\"},{\"attributes\":{\"formatter\":{\"id\":\"ee997039-11fa-48fc-8cf0-9097d3c71f9d\",\"type\":\"BasicTickFormatter\"},\"plot\":{\"id\":\"9efc940c-07a7-486d-8cdb-444015324ed7\",\"subtype\":\"Figure\",\"type\":\"Plot\"},\"ticker\":{\"id\":\"f2bdea24-4c7f-43dc-a442-6cd5293282d9\",\"type\":\"BasicTicker\"}},\"id\":\"41a1b64e-c739-42d6-ac8c-7338d81bc216\",\"type\":\"LinearAxis\"},{\"attributes\":{\"data_source\":{\"id\":\"ff575af4-769b-4e0b-a076-ae0c451e8eaf\",\"type\":\"ColumnDataSource\"},\"glyph\":{\"id\":\"3070b415-7a75-4e46-b5be-8def4ba7b680\",\"type\":\"Patches\"},\"hover_glyph\":null,\"muted_glyph\":null,\"nonselection_glyph\":{\"id\":\"9ab56157-b8c3-4920-a365-d12993894557\",\"type\":\"Patches\"},\"selection_glyph\":null,\"view\":{\"id\":\"414b9bcc-1688-4b76-bb0d-3b5982691546\",\"type\":\"CDSView\"}},\"id\":\"0a45691c-97a2-4894-9f58-dacb682c9727\",\"type\":\"GlyphRenderer\"},{\"attributes\":{\"fill_color\":{\"field\":\"fill_color\"},\"line_color\":{\"value\":\"white\"},\"xs\":{\"field\":\"xs\"},\"ys\":{\"field\":\"ys\"}},\"id\":\"3070b415-7a75-4e46-b5be-8def4ba7b680\",\"type\":\"Patches\"},{\"attributes\":{\"callback\":null},\"id\":\"cd8b5407-7fa3-4cbf-bcaa-71519605c2c8\",\"type\":\"DataRange1d\"},{\"attributes\":{},\"id\":\"f2bdea24-4c7f-43dc-a442-6cd5293282d9\",\"type\":\"BasicTicker\"},{\"attributes\":{\"overlay\":{\"id\":\"340b306d-22d9-440b-ae4d-9c9690033dce\",\"type\":\"BoxAnnotation\"}},\"id\":\"5fbd0ec2-64ea-474d-86c6-a9835595f9de\",\"type\":\"BoxZoomTool\"},{\"attributes\":{\"callback\":null,\"column_names\":[\"xs\",\"ys\",\"fill_color\"],\"data\":{\"fill_color\":[\"red\",\"blue\",\"green\",\"yellow\"],\"xs\":[[-114.63332,-114.63349,-114.63423,-114.60899,-114.63064,-114.57354,-114.58031,-114.61121,-114.6768,-114.66076,-114.65449,-114.68702,-114.69704,-114.70415,-114.67489,-114.70883,-114.74365,-114.73513,-114.6729,-114.51122,-114.32346,-114.22646,-114.1139,-114.04404,-114.04338,-114.04736,-114.05013999999998,-114.0506,-114.0506,-114.05052,-113.94557,-113.86852,-113.62465,-113.4727,-113.32097,-113.17698,-113.02079,-112.99281,-112.96895,-112.75086,-112.48455,-112.32985,-111.99142,-111.58602,-111.39598,-111.2523,-111.03957,-110.73783,-110.54945,-110.272,-110.13851,-109.83491,-109.43568,-109.26993,-109.04538,-109.04522,-109.04522,-109.04531,-109.04544,-109.04547,-109.04579,-109.04575,-109.04601,-109.04578,-109.04606,-109.04621000000002,-109.04636,-109.04662,-109.04644,-109.04598,-109.04603,-109.04633,-109.04692,-109.047,-109.04691,-109.0474,-109.04762,-109.04764,-109.04811,-109.04905,-109.04911,-109.05004,-109.0587,-109.25062,-109.30069,-109.33682,-109.38186,-109.45105,-109.5287,-109.62562,-109.79302,-109.97582,-110.20503,-110.49327,-110.56918,-110.65415,-110.77828,-110.87564,-110.93778,-110.94286,-110.97553,-111.12565,-111.24082,-111.29191000000002,-111.32558,-111.3574,-111.38483,-111.44337,-111.47861,-111.49725,-111.53479,-111.56975,-111.62412,-111.66,-111.73365,-111.79498,-111.9182,-111.97172,-111.99115,-112.02937,-112.09378999999998,-112.13972,-112.15906,-112.21295,-112.32605,-112.39932,-112.43603,-112.52208,-112.57141,-112.63294,-112.67695,-112.72356,-112.75567,-112.8055,-112.83423,-112.8711,-112.90863,-113.20884,-113.2279,-113.30313999999998,-113.61086,-113.78489,-113.90756,-113.97121,-114.11135,-114.20719,-114.25558999999998,-114.28755,-114.38472,-114.61337,-114.77804,-114.81394,-114.81518,-114.80524,-114.81037,-114.81335,-114.80551,-114.80529,-114.79282,-114.79206,-114.79555,-114.81362,-114.80894,-114.80404,-114.80093,-114.80804,-114.80891,-114.80192,-114.79518,-114.7819,-114.77309,-114.76427,-114.74805,-114.74638,-114.74505,-114.74456,-114.74203,-114.74,-114.73874,-114.73062,-114.72924,-114.72377,-114.71994,-114.71919,-114.69096,-114.63501,-114.58576,-114.46563,-114.48131,-114.62973,-114.68157,-114.72123,-114.61185,-114.5402,-114.49649,-114.52801,-114.51318,-114.49813,-114.4355,-114.35765,-114.26017,-114.14737,-114.29195,-114.38169,-114.44166,-114.48236,-114.56953,-114.63305],[-109.04984,-109.06017,-109.06015,-109.05655,-109.05305,-109.05158,-109.05119,-109.05077,-109.05132,-109.05077,-109.05087,-109.05088,-109.05093,-109.05088,-109.05051,-109.04899,-109.04907,-109.05008,-109.03134,-108.83854,-108.6996,-108.59802,-108.46524,-108.25764,-108.10567,-107.91411,-107.75063,-107.55479,-107.35937,-107.27483,-107.12561,-106.9166,-106.59389,-106.32621,-106.06118,-105.82273,-105.60473,-105.46928,-105.2756,-105.07514,-104.86787,-104.58704,-104.24506,-104.0535,-104.05325,-104.05153,-103.90732,-103.61529,-103.46471,-103.30624,-103.00202,-102.88728,-102.76668,-102.55879,-102.38345,-102.23951,-102.12861,-102.05156,-102.05154,-102.05152,-102.05145,-102.05143,-102.05144,-102.05144,-102.0515,-102.0515,-102.05152,-102.05131,-102.05145,-102.05176,-102.05176,-102.05174,-102.05174,-102.05139,-102.0506,-102.04955,-102.04907,-102.04875,-102.04802,-102.04541,-102.04514,-102.04524,-102.04494,-102.04501,-102.04479,-102.04452,-102.04447,-102.04431,-102.04456,-102.04402,-102.04286,-102.04166,-102.04179,-102.04178,-102.04192,-102.04196,-102.04199,-102.0421,-102.04209,-102.04538,-102.05418,-102.07425,-102.09059,-102.17511,-102.19751,-102.24848,-102.26493,-102.29933,-102.34378,-102.35537,-102.40232,-102.49444,-102.52468,-102.57091,-102.62547,-102.68337,-102.7059,-102.77324,-102.81507,-102.86545,-102.89315,-102.9279,-102.97961,-102.98698,-103.00214,-103.0022,-103.01356,-103.26061,-103.53892,-103.92627,-104.17265,-104.49245,-104.76311,-105.15658,-105.50752,-105.6576,-105.93761,-106.15386,-106.4654,-106.61906,-106.73137,-106.89142,-107.00562,-107.25094,-107.4121,-107.49519,-107.8669,-108.20233,-108.52833,-108.7496,-108.8978,-109.04518,-109.04522,-109.04531,-109.04519,-109.04583,-109.04582,-109.04191000000002,-109.04159,-109.04304,-109.04232,-109.0498],[-103.55583,-104.00265,-104.64165,-105.14679,-105.90075,-106.55721,-106.63119,-106.62216,-106.63325,-106.61103,-106.54568,-106.52834,-106.52861,-106.53181,-106.55963,-106.56993,-106.60042,-106.61408,-106.62967,-106.67613,-106.68194,-106.7505,-106.75874,-106.77057,-106.82052,-106.87555,-106.89949,-106.93928,-106.96546,-106.98754,-106.99317,-106.99823,-106.99882,-107.00056,-107.12556,-107.2773,-107.29766,-107.3093,-107.32402,-107.35469,-107.37629,-107.39716,-107.42244,-107.47074,-107.50261,-107.53069,-107.5835,-107.62497,-107.6266,-107.62774,-107.62988,-107.63241,-107.63786,-107.64356,-107.65173,-107.66987,-107.70084,-107.70821,-107.75058,-107.7889,-107.84105,-107.86238,-107.8711,-107.88551,-107.90473,-107.964,-108.00059,-108.044,-108.05664,-108.07876,-108.08267,-108.1052,-108.15227,-108.17096,-108.1986,-108.20839,-108.20844,-108.20841,-108.2084,-108.20838,-108.20837,-108.2083,-108.20814,-108.20819,-108.20835,-108.20869,-108.20855,-108.20852,-108.20849,-108.20839,-108.20848,-108.20854,-108.20857,-108.36757,-108.38904,-108.44606,-108.47535,-108.53011,-108.61731,-108.65709,-108.70766,-108.71907,-108.72702,-108.73503,-108.73904,-108.7506,-108.75906,-108.82206,-108.86103,-108.88692,-109.00061,-109.05004,-109.05004,-109.04911,-109.04905,-109.04811,-109.04764,-109.04762,-109.0474,-109.04691,-109.047,-109.04692,-109.04633,-109.04603,-109.04598,-109.04644,-109.04662,-109.04636,-109.04621000000002,-109.04606,-109.04578,-109.04601,-109.04575,-109.04579,-109.04547,-109.04544,-109.04531,-109.04522,-109.04522,-109.04518,-108.8978,-108.7496,-108.52833,-108.20233,-107.8669,-107.49519,-107.4121,-107.25094,-107.00562,-106.89142,-106.73137,-106.61906,-106.4654,-106.15386,-105.93761,-105.6576,-105.50752,-105.15658,-104.76311,-104.49245,-104.17265,-103.92627,-103.53892,-103.26061,-103.01356,-103.0022,-103.0022,-103.00232,-103.00232,-103.00228,-103.00227,-103.00224,-103.00223,-103.00218,-103.00206,-103.00213,-103.00215,-103.0021,-103.00214,-103.00218,-103.00237,-103.00218,-103.0023,-103.00226,-103.00223,-103.00226,-103.0023,-103.00233,-103.00233,-103.00228,-103.00228,-103.00245,-103.00243,-103.02394,-103.04133,-103.04249,-103.04239,-103.04283,-103.04312,-103.04338,-103.04362,-103.04374,-103.04376,-103.04993,-103.05727,-103.06464,-103.06478,-103.53275],[-114.04392,-114.04391,-114.04375,-114.04195,-114.04061000000002,-114.04055,-114.0398,-114.04172,-114.0391,-113.80254,-113.64886,-113.49562,-113.36362,-113.20505,-113.10627,-112.96233,-112.83266,-112.78175,-112.68558,-112.58229,-112.45023,-112.26534,-112.1985,-112.10309,-111.98965,-111.9304,-111.88098,-111.82932,-111.73177,-111.51913,-111.4087,-111.26009,-111.14884,-111.04934,-111.04668999999998,-111.04682,-111.04631,-111.04601,-111.0458,-111.04611,-111.04648,-111.04667,-111.04688,-111.04686,-110.94406,-110.86384,-110.70521,-110.55878,-110.43401,-110.34177,-110.25071,-110.14713,-110.0004,-109.90645,-109.75044,-109.67348,-109.63381,-109.51776,-109.43099,-109.30329,-109.05847,-109.05008,-109.04907,-109.04899,-109.05051,-109.05088,-109.05093,-109.05088,-109.05087,-109.05077,-109.05132,-109.05077,-109.05119,-109.05158,-109.05305,-109.05655,-109.06015,-109.06017,-109.04984,-109.0498,-109.04232,-109.04304,-109.04159,-109.04191000000002,-109.04582,-109.04583,-109.04519,-109.04531,-109.04522,-109.04538,-109.26993,-109.43568,-109.83491,-110.13851,-110.272,-110.54945,-110.73783,-111.03957,-111.2523,-111.39598,-111.58602,-111.99142,-112.32985,-112.48455,-112.75086,-112.96895,-112.99281,-113.02079,-113.17698,-113.32097,-113.4727,-113.62465,-113.86852,-113.94557,-114.05052,-114.0506,-114.05187,-114.05264,-114.05198,-114.04939,-114.05013,-114.04997,-114.04992,-114.04916,-114.04833,-114.04885,-114.04841,-114.04779,-114.0473,-114.04757,-114.04727,-114.04658,-114.04644,-114.04619,-114.04558]],\"ys\":[[34.87057,35.00186,35.00332,35.07971,35.117909999999995,35.142309999999995,35.21811,35.37012,35.49125,35.5417,35.60517,35.66942,35.73579,35.81412,35.86436,35.9167,35.98542,36.05493,36.11546,36.15058,36.10119,36.01461,36.09833,36.21464,36.37619,36.60322,36.817,36.99997000000001,37.0004,37.0004,36.99998,36.99998,36.99998,36.99998,36.99998,36.99998,37.00022,37.00017,37.00012,37.00048,37.00094,37.00105,37.00097,37.00166,37.00147,37.00102,37.00247,37.00325,37.00383,36.99828,36.99845,36.99831,36.9991,36.99926,36.99908,36.99908,36.99897,36.8531,36.70384,36.54513,36.41637,36.29154000000001,36.18724,36.03128,35.93088,35.81044,35.65092,35.45859,35.30697,34.91388,34.71264,34.44558,34.08446,33.71335,33.3477,33.07165,32.70386,32.40743,32.1771,31.870690000000003,31.63698,31.3325,31.33252,31.3338,31.33396,31.334,31.33394,31.33406,31.33393,31.33408,31.333990000000004,31.33341,31.33363,31.33296,31.33299,31.33305,31.33363,31.33328,31.33281,31.33283,31.33257,31.34898,31.38586,31.40231,31.41305,31.42333,31.43196,31.45068,31.46195,31.4678,31.47995,31.490990000000004,31.50825,31.51945,31.54305,31.56227,31.6012,31.61823,31.62425,31.63623,31.65645,31.67094,31.67701,31.69377,31.72891,31.75165,31.76301,31.78954,31.80473,31.82357,31.837020000000006,31.8513,31.861320000000006,31.87666,31.885140000000003,31.89671,31.907870000000006,31.99917,32.0054,32.02905,32.12566,32.17992,32.21797,32.2376,32.28088,32.31044,32.32538,32.33509,32.36468,32.43408,32.48373,32.495259999999995,32.50602,32.50999,32.518390000000004,32.524190000000004,32.53277,32.54351,32.55396,32.56772,32.56625,32.56133,32.57093,32.58137,32.5955,32.60317,32.61295,32.6238,32.62325,32.6247,32.63705,32.65006,32.66489,32.66985,32.67414,32.6785,32.68221,32.68517,32.68732,32.6986,32.70545,32.71192,32.71829,32.71943,32.73946,32.73137,32.73487,32.87408,32.97206,33.03255,33.23376,33.39691,33.471309999999995,33.58709,33.6969,33.84446,33.91285,33.96372,34.04257,34.12866,34.17212,34.31087,34.41527,34.47903,34.64288,34.71453,34.79181,34.86997],[38.215,38.40118,38.60929,38.81393,38.95788,39.11656,39.22605,39.36423,39.56752,39.79876,40.03782,40.18844,40.2929,40.41493,40.50615,40.68445,40.87296,41.00066,41.00051,41.00013,41.0001,40.99996,41.00008,41.00011,41.00139,41.00205,41.00197,41.00228,41.00305,41.00283,41.00305,41.00315,41.00213,40.99927,40.997,40.99701,40.99722,40.99766,40.99818,40.9983,40.99826,41.00153,41.00162,41.00139,41.00141,41.00153,41.00166,41.0017,41.00185,41.00191,41.00239000000001,41.00231,41.00234,41.00243,41.00245,41.00235,41.00247,40.97899,40.9255,40.87501,40.82214000000001,40.75901,40.71742,40.69984,40.65115,40.61334,40.55651,40.48846,40.31022,40.1605,40.01399,40.00308,40.00061,39.87098,39.67645,39.53889,39.40853,39.33572,39.24305,38.84279,38.66387,38.59586,38.52933,38.47219000000001,38.41997,38.30634000000001,38.26504,38.17556,38.05734,37.94303,37.80941,37.68749,37.49347,37.45597,37.3385,37.22191,37.10676,36.99352,36.99302,36.99306,36.99305,36.99311,36.99325,36.99357,36.99367,36.9942,36.99439,36.99425,36.99441,36.99457,36.99479,36.99494,36.99487,36.99513,36.99504,36.9952,36.99557,36.99885,36.99977,36.99959000000001,36.99944,36.99908,36.99855,36.99852,37.0001,37.0001,37.00021,36.99956,36.99892,36.99669,36.99511,36.99367,36.9935,36.99527,36.99589,36.99578,36.99556,36.99469000000001,36.99378,36.99303,36.99263,37.00014,37.00001,37.00001,37.0,37.00001,37.0,36.99924,36.99927,36.99887,36.99885,36.99908,36.99908,37.01706,37.09597,37.20443,37.35363,37.5667,37.7899,37.97469,38.10272,38.21472],[32.00032,32.00001,32.000409999999995,32.0005,32.00198,32.00076,31.98981,31.93601,31.90997,31.84661,31.8054,31.78318,31.78328,31.78391,31.78394,31.78395,31.783990000000006,31.784,31.784090000000006,31.78395,31.78393,31.78371,31.78394,31.78404,31.78385,31.78384,31.783790000000003,31.78378,31.78381,31.7837,31.783690000000004,31.78367,31.78367,31.78355,31.78354,31.78377,31.78367,31.78366,31.78367,31.78365,31.78367,31.78365,31.7836,31.78365,31.78366,31.78365,31.783690000000004,31.78365,31.78374,31.78374,31.78374,31.78374,31.7837,31.78371,31.78371,31.78368,31.78368,31.78368,31.78361,31.78363,31.78365,31.7836,31.783590000000004,31.783590000000004,31.7836,31.78363,31.78365,31.78361,31.78357,31.78351,31.7835,31.78353,31.78357,31.78358,31.783590000000004,31.7836,31.74465,31.72969,31.72323,31.7194,31.71733,31.68878,31.62561,31.58935,31.5608,31.52581,31.50105,31.4998,31.47883,31.429170000000006,31.37656,31.3561,31.3334,31.3334,31.33341,31.33347,31.333440000000003,31.33336,31.33329,31.33323,31.33319,31.333070000000006,31.33298,31.3329,31.33285,31.33273,31.33261,31.33226,31.332320000000006,31.33231,31.33217,31.33224,31.3325,31.63698,31.870690000000003,32.1771,32.40743,32.70386,33.07165,33.3477,33.71335,34.08446,34.44558,34.71264,34.91388,35.30697,35.45859,35.65092,35.81044,35.93088,36.03128,36.18724,36.29154000000001,36.41637,36.54513,36.70384,36.8531,36.99897,36.99908,36.99908,36.99885,36.99887,36.99927,36.99924,37.0,37.00001,37.0,37.00001,37.00001,37.00014,36.99263,36.99303,36.99378,36.99469000000001,36.99556,36.99578,36.99589,36.99527,36.9935,36.99367,36.99511,36.99669,36.99892,36.99956,37.00021,37.0001,37.00006,36.9686,36.95031,36.91582,36.91402,36.90243,36.89755,36.86996,36.81735,36.76898,36.74295,36.7193,36.7013,36.68525,36.67653,36.65329000000001,36.6278,36.60265,36.5919,36.56927,36.56386,36.54875,36.52963,36.51475,36.50609,36.50046,36.5004,36.50042,35.76515,35.21202,35.1362,34.88888,34.67259,34.53564,34.40999,34.271809999999995,34.03983,33.71754,33.35051,33.00011,32.59516,32.00034],[40.68928,40.68985,40.76026,41.05548,41.36,41.59062,41.89425,41.99372,41.99367,41.98895,41.99102,41.99331,41.99384000000001,41.99645,41.99735,41.99841,41.99938,41.99973,42.00021,42.00054,42.00099,42.00111,42.00116,41.99763,41.99834,41.99861,41.99856,41.99875,41.99926,41.99951,42.00063,42.00132,42.00154000000001,42.00159,42.00157,42.00034,41.83664,41.64119,41.52149,41.41513,41.36572,41.20441,41.10318,41.00917000000001,40.9976,40.99725,40.99635,40.99635,40.99485,40.99533,40.99609,40.99634,40.99734,40.99766,40.99797,40.99841,40.9983,40.99871,40.99964,41.00064,41.00069000000001,41.00066,40.87296,40.68445,40.50615,40.41493,40.2929,40.18844,40.03782,39.79876,39.56752,39.36423,39.22605,39.11656,38.95788,38.81393,38.60929,38.40118,38.215,38.21472,38.10272,37.97469,37.7899,37.5667,37.35363,37.20443,37.09597,37.01706,36.99908,36.99908,36.99926,36.9991,36.99831,36.99845,36.99828,37.00383,37.00325,37.00247,37.00102,37.00147,37.00166,37.00097,37.00105,37.00094,37.00048,37.00012,37.00017,37.00022,36.99998,36.99998,36.99998,36.99998,36.99998,36.99998,37.0004,37.0004,37.13439,37.47222,37.70735,37.77873,37.95499,38.20495,38.55049,38.75165,38.90545,39.08777,39.23851,39.36296,39.45715,39.61018,39.75817,39.99994,40.09896,40.30302,40.4958]]},\"selected\":null,\"selection_policy\":null},\"id\":\"ff575af4-769b-4e0b-a076-ae0c451e8eaf\",\"type\":\"ColumnDataSource\"},{\"attributes\":{},\"id\":\"8df9e289-9aaf-450e-a3a7-18e1f0c7a451\",\"type\":\"HelpTool\"},{\"attributes\":{\"below\":[{\"id\":\"41a1b64e-c739-42d6-ac8c-7338d81bc216\",\"type\":\"LinearAxis\"}],\"left\":[{\"id\":\"c2ec6a3a-b301-4d52-b783-c16e87bb0a8a\",\"type\":\"LinearAxis\"}],\"renderers\":[{\"id\":\"41a1b64e-c739-42d6-ac8c-7338d81bc216\",\"type\":\"LinearAxis\"},{\"id\":\"85e458f8-5560-4f29-b1da-85c5445fb46c\",\"type\":\"Grid\"},{\"id\":\"c2ec6a3a-b301-4d52-b783-c16e87bb0a8a\",\"type\":\"LinearAxis\"},{\"id\":\"007a343c-23c3-4b51-957a-0884aeba2eb7\",\"type\":\"Grid\"},{\"id\":\"340b306d-22d9-440b-ae4d-9c9690033dce\",\"type\":\"BoxAnnotation\"},{\"id\":\"0a45691c-97a2-4894-9f58-dacb682c9727\",\"type\":\"GlyphRenderer\"}],\"title\":{\"id\":\"2f304188-9bb1-43ab-9420-19586bc09ec8\",\"type\":\"Title\"},\"toolbar\":{\"id\":\"5efa20a0-a948-402e-b178-f1bb39f1b80e\",\"type\":\"Toolbar\"},\"x_range\":{\"id\":\"087d1c13-235e-4bdc-ac6f-8600fbd7b437\",\"type\":\"DataRange1d\"},\"x_scale\":{\"id\":\"84530c5c-f687-4e70-8991-c9bf42b94fd6\",\"type\":\"LinearScale\"},\"y_range\":{\"id\":\"cd8b5407-7fa3-4cbf-bcaa-71519605c2c8\",\"type\":\"DataRange1d\"},\"y_scale\":{\"id\":\"366f4f45-5042-48ca-987f-78bd28d67c5a\",\"type\":\"LinearScale\"}},\"id\":\"9efc940c-07a7-486d-8cdb-444015324ed7\",\"subtype\":\"Figure\",\"type\":\"Plot\"},{\"attributes\":{},\"id\":\"f3e400db-45d0-4062-a0de-55321b9822b0\",\"type\":\"ResetTool\"},{\"attributes\":{\"callback\":null},\"id\":\"087d1c13-235e-4bdc-ac6f-8600fbd7b437\",\"type\":\"DataRange1d\"},{\"attributes\":{\"plot\":null,\"text\":\"\"},\"id\":\"2f304188-9bb1-43ab-9420-19586bc09ec8\",\"type\":\"Title\"},{\"attributes\":{},\"id\":\"dce79f4c-0c71-43de-84a6-2c6e80d6a38f\",\"type\":\"SaveTool\"},{\"attributes\":{},\"id\":\"d82c86c6-15cb-4a31-9899-5bbfea7b1e8d\",\"type\":\"PanTool\"},{\"attributes\":{\"bottom_units\":\"screen\",\"fill_alpha\":{\"value\":0.5},\"fill_color\":{\"value\":\"lightgrey\"},\"left_units\":\"screen\",\"level\":\"overlay\",\"line_alpha\":{\"value\":1.0},\"line_color\":{\"value\":\"black\"},\"line_dash\":[4,4],\"line_width\":{\"value\":2},\"plot\":null,\"render_mode\":\"css\",\"right_units\":\"screen\",\"top_units\":\"screen\"},\"id\":\"340b306d-22d9-440b-ae4d-9c9690033dce\",\"type\":\"BoxAnnotation\"},{\"attributes\":{},\"id\":\"84530c5c-f687-4e70-8991-c9bf42b94fd6\",\"type\":\"LinearScale\"},{\"attributes\":{\"active_drag\":\"auto\",\"active_inspect\":\"auto\",\"active_scroll\":\"auto\",\"active_tap\":\"auto\",\"tools\":[{\"id\":\"d82c86c6-15cb-4a31-9899-5bbfea7b1e8d\",\"type\":\"PanTool\"},{\"id\":\"018373f7-e1a5-4e3d-bd46-9f1275455f60\",\"type\":\"WheelZoomTool\"},{\"id\":\"5fbd0ec2-64ea-474d-86c6-a9835595f9de\",\"type\":\"BoxZoomTool\"},{\"id\":\"dce79f4c-0c71-43de-84a6-2c6e80d6a38f\",\"type\":\"SaveTool\"},{\"id\":\"f3e400db-45d0-4062-a0de-55321b9822b0\",\"type\":\"ResetTool\"},{\"id\":\"8df9e289-9aaf-450e-a3a7-18e1f0c7a451\",\"type\":\"HelpTool\"}]},\"id\":\"5efa20a0-a948-402e-b178-f1bb39f1b80e\",\"type\":\"Toolbar\"},{\"attributes\":{},\"id\":\"06b490f0-7501-4fd3-8588-a6d8819bc893\",\"type\":\"BasicTickFormatter\"},{\"attributes\":{},\"id\":\"ee997039-11fa-48fc-8cf0-9097d3c71f9d\",\"type\":\"BasicTickFormatter\"},{\"attributes\":{\"formatter\":{\"id\":\"06b490f0-7501-4fd3-8588-a6d8819bc893\",\"type\":\"BasicTickFormatter\"},\"plot\":{\"id\":\"9efc940c-07a7-486d-8cdb-444015324ed7\",\"subtype\":\"Figure\",\"type\":\"Plot\"},\"ticker\":{\"id\":\"08b2fcb6-e988-4f50-b299-a4d6e4458e75\",\"type\":\"BasicTicker\"}},\"id\":\"c2ec6a3a-b301-4d52-b783-c16e87bb0a8a\",\"type\":\"LinearAxis\"}],\"root_ids\":[\"9efc940c-07a7-486d-8cdb-444015324ed7\"]},\"title\":\"Bokeh Application\",\"version\":\"0.12.15\"}};\n",
       "  var render_items = [{\"docid\":\"ac02bd7a-00bb-4ab1-8141-87e3181f0ba3\",\"elementid\":\"f3e6628e-1ac5-41c6-a589-54ec140af182\",\"modelid\":\"9efc940c-07a7-486d-8cdb-444015324ed7\"}];\n",
       "  root.Bokeh.embed.embed_items_notebook(docs_json, render_items);\n",
       "\n",
       "  }\n",
       "  if (root.Bokeh !== undefined) {\n",
       "    embed_document(root);\n",
       "  } else {\n",
       "    var attempts = 0;\n",
       "    var timer = setInterval(function(root) {\n",
       "      if (root.Bokeh !== undefined) {\n",
       "        embed_document(root);\n",
       "        clearInterval(timer);\n",
       "      }\n",
       "      attempts++;\n",
       "      if (attempts > 100) {\n",
       "        console.log(\"Bokeh: ERROR: Unable to run BokehJS code because BokehJS library is missing\")\n",
       "        clearInterval(timer);\n",
       "      }\n",
       "    }, 10, root)\n",
       "  }\n",
       "})(window);"
      ],
      "application/vnd.bokehjs_exec.v0+json": ""
     },
     "metadata": {
      "application/vnd.bokehjs_exec.v0+json": {
       "id": "9efc940c-07a7-486d-8cdb-444015324ed7"
      }
     },
     "output_type": "display_data"
    }
   ],
   "source": [
    "states_xs = []\n",
    "states_ys = []\n",
    "for key in states.keys():\n",
    "    states_xs.append(states[key]['lons'])\n",
    "    states_ys.append(states[key]['lats'])\n",
    "    \n",
    "p = figure()\n",
    "p.patches(states_xs, states_ys, fill_color = [\"red\", \"blue\", \"green\", \"yellow\"], line_color = \"white\")\n",
    "show(p)"
   ]
  },
  {
   "cell_type": "code",
   "execution_count": 34,
   "metadata": {},
   "outputs": [],
   "source": [
    "import numpy as np"
   ]
  },
  {
   "cell_type": "code",
   "execution_count": 35,
   "metadata": {},
   "outputs": [
    {
     "data": {
      "text/html": [
       "\n",
       "<div class=\"bk-root\">\n",
       "    <div class=\"bk-plotdiv\" id=\"bd2ee4b1-277d-4426-8da9-8c9421d6f1b7\"></div>\n",
       "</div>"
      ]
     },
     "metadata": {},
     "output_type": "display_data"
    },
    {
     "data": {
      "application/javascript": [
       "(function(root) {\n",
       "  function embed_document(root) {\n",
       "    \n",
       "  var docs_json = {\"dd33c67d-4297-420c-9e8b-f4cdfd7f84f6\":{\"roots\":{\"references\":[{\"attributes\":{\"bottom_units\":\"screen\",\"fill_alpha\":{\"value\":0.5},\"fill_color\":{\"value\":\"lightgrey\"},\"left_units\":\"screen\",\"level\":\"overlay\",\"line_alpha\":{\"value\":1.0},\"line_color\":{\"value\":\"black\"},\"line_dash\":[4,4],\"line_width\":{\"value\":2},\"plot\":null,\"render_mode\":\"css\",\"right_units\":\"screen\",\"top_units\":\"screen\"},\"id\":\"2ab21f94-1843-45d3-af5f-1d425adfb70a\",\"type\":\"BoxAnnotation\"},{\"attributes\":{\"callback\":null},\"id\":\"1ef5fe3a-8225-4ca2-8d8b-9626979cff8d\",\"type\":\"DataRange1d\"},{\"attributes\":{},\"id\":\"b64fe504-8fb7-4a7e-a834-1345a804eff3\",\"type\":\"PanTool\"},{\"attributes\":{\"fill_alpha\":{\"value\":0.1},\"fill_color\":{\"value\":\"#1f77b4\"},\"line_alpha\":{\"value\":0.1},\"line_color\":{\"value\":\"#1f77b4\"},\"x\":{\"field\":\"x\"},\"y\":{\"field\":\"y\"}},\"id\":\"c8d2411e-5d35-4827-91e1-c70ec361895e\",\"type\":\"Circle\"},{\"attributes\":{},\"id\":\"14aa1c3a-359b-4b3e-869b-183a44ff7c53\",\"type\":\"HelpTool\"},{\"attributes\":{},\"id\":\"aba26d13-1662-440b-95e2-3dca9c53a754\",\"type\":\"BasicTickFormatter\"},{\"attributes\":{\"active_drag\":\"auto\",\"active_inspect\":\"auto\",\"active_scroll\":\"auto\",\"active_tap\":\"auto\",\"tools\":[{\"id\":\"b64fe504-8fb7-4a7e-a834-1345a804eff3\",\"type\":\"PanTool\"},{\"id\":\"6c915d0c-8842-4c12-986c-2dc63edd87e4\",\"type\":\"WheelZoomTool\"},{\"id\":\"daa72dfa-1fd6-4448-bbbf-cf20e93d94ea\",\"type\":\"BoxZoomTool\"},{\"id\":\"1a32f1b7-e21a-4c38-961c-452fcabfb345\",\"type\":\"SaveTool\"},{\"id\":\"a0bbea2d-6dc2-4b62-9689-fae724dca222\",\"type\":\"ResetTool\"},{\"id\":\"14aa1c3a-359b-4b3e-869b-183a44ff7c53\",\"type\":\"HelpTool\"}]},\"id\":\"6e8e1285-9b8b-4c99-8d1d-298af77f178e\",\"type\":\"Toolbar\"},{\"attributes\":{\"formatter\":{\"id\":\"aba26d13-1662-440b-95e2-3dca9c53a754\",\"type\":\"BasicTickFormatter\"},\"plot\":{\"id\":\"eb9efd40-32c9-463f-8331-eaadc98a7f86\",\"subtype\":\"Figure\",\"type\":\"Plot\"},\"ticker\":{\"id\":\"ac9fcfbc-2292-4965-815e-e327147135df\",\"type\":\"BasicTicker\"}},\"id\":\"dda40a65-fc7a-4164-a790-355f558ae97a\",\"type\":\"LinearAxis\"},{\"attributes\":{\"below\":[{\"id\":\"dda40a65-fc7a-4164-a790-355f558ae97a\",\"type\":\"LinearAxis\"}],\"left\":[{\"id\":\"e402a11a-1806-469c-9375-62d7ddfe5b77\",\"type\":\"LinearAxis\"}],\"renderers\":[{\"id\":\"dda40a65-fc7a-4164-a790-355f558ae97a\",\"type\":\"LinearAxis\"},{\"id\":\"5979278d-a286-4482-8e4a-1093d092e1d4\",\"type\":\"Grid\"},{\"id\":\"e402a11a-1806-469c-9375-62d7ddfe5b77\",\"type\":\"LinearAxis\"},{\"id\":\"df711cdf-bc60-4181-9e84-d671b7a8b615\",\"type\":\"Grid\"},{\"id\":\"2ab21f94-1843-45d3-af5f-1d425adfb70a\",\"type\":\"BoxAnnotation\"},{\"id\":\"22a815bc-15fb-4876-bfdf-3347d08f5942\",\"type\":\"GlyphRenderer\"}],\"title\":{\"id\":\"9a9390a8-e5b8-4fa5-b698-3ca6396436b2\",\"type\":\"Title\"},\"toolbar\":{\"id\":\"6e8e1285-9b8b-4c99-8d1d-298af77f178e\",\"type\":\"Toolbar\"},\"x_range\":{\"id\":\"1ef5fe3a-8225-4ca2-8d8b-9626979cff8d\",\"type\":\"DataRange1d\"},\"x_scale\":{\"id\":\"856ff6cd-26c0-4c2a-966e-6af9c85583bf\",\"type\":\"LinearScale\"},\"y_range\":{\"id\":\"9a67f560-7faa-42c8-be42-9b7be34bd5ad\",\"type\":\"DataRange1d\"},\"y_scale\":{\"id\":\"41e78d19-b470-4421-8095-3df135acb79d\",\"type\":\"LinearScale\"}},\"id\":\"eb9efd40-32c9-463f-8331-eaadc98a7f86\",\"subtype\":\"Figure\",\"type\":\"Plot\"},{\"attributes\":{},\"id\":\"205ffde0-122d-4882-a814-3a050ef38a31\",\"type\":\"BasicTickFormatter\"},{\"attributes\":{},\"id\":\"a0bbea2d-6dc2-4b62-9689-fae724dca222\",\"type\":\"ResetTool\"},{\"attributes\":{\"callback\":null,\"column_names\":[\"x\",\"y\"],\"data\":{\"x\":{\"__ndarray__\":\"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\",\"dtype\":\"float64\",\"shape\":[200]},\"y\":{\"__ndarray__\":\"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\",\"dtype\":\"float64\",\"shape\":[200]}},\"selected\":null,\"selection_policy\":null},\"id\":\"9a004fa2-f87e-473f-b57f-f3e474540c98\",\"type\":\"ColumnDataSource\"},{\"attributes\":{\"fill_color\":{\"value\":\"#1f77b4\"},\"line_color\":{\"value\":\"#1f77b4\"},\"x\":{\"field\":\"x\"},\"y\":{\"field\":\"y\"}},\"id\":\"96643a4e-6429-4012-bd5b-c0925813763d\",\"type\":\"Circle\"},{\"attributes\":{},\"id\":\"6c915d0c-8842-4c12-986c-2dc63edd87e4\",\"type\":\"WheelZoomTool\"},{\"attributes\":{\"formatter\":{\"id\":\"205ffde0-122d-4882-a814-3a050ef38a31\",\"type\":\"BasicTickFormatter\"},\"plot\":{\"id\":\"eb9efd40-32c9-463f-8331-eaadc98a7f86\",\"subtype\":\"Figure\",\"type\":\"Plot\"},\"ticker\":{\"id\":\"3f1e18f5-c425-458f-b274-4aa83849064d\",\"type\":\"BasicTicker\"}},\"id\":\"e402a11a-1806-469c-9375-62d7ddfe5b77\",\"type\":\"LinearAxis\"},{\"attributes\":{\"dimension\":1,\"plot\":{\"id\":\"eb9efd40-32c9-463f-8331-eaadc98a7f86\",\"subtype\":\"Figure\",\"type\":\"Plot\"},\"ticker\":{\"id\":\"3f1e18f5-c425-458f-b274-4aa83849064d\",\"type\":\"BasicTicker\"}},\"id\":\"df711cdf-bc60-4181-9e84-d671b7a8b615\",\"type\":\"Grid\"},{\"attributes\":{\"source\":{\"id\":\"9a004fa2-f87e-473f-b57f-f3e474540c98\",\"type\":\"ColumnDataSource\"}},\"id\":\"b65e72c4-620e-460c-b83d-81443a1b1d46\",\"type\":\"CDSView\"},{\"attributes\":{\"callback\":null},\"id\":\"9a67f560-7faa-42c8-be42-9b7be34bd5ad\",\"type\":\"DataRange1d\"},{\"attributes\":{\"data_source\":{\"id\":\"9a004fa2-f87e-473f-b57f-f3e474540c98\",\"type\":\"ColumnDataSource\"},\"glyph\":{\"id\":\"96643a4e-6429-4012-bd5b-c0925813763d\",\"type\":\"Circle\"},\"hover_glyph\":null,\"muted_glyph\":null,\"nonselection_glyph\":{\"id\":\"c8d2411e-5d35-4827-91e1-c70ec361895e\",\"type\":\"Circle\"},\"selection_glyph\":null,\"view\":{\"id\":\"b65e72c4-620e-460c-b83d-81443a1b1d46\",\"type\":\"CDSView\"}},\"id\":\"22a815bc-15fb-4876-bfdf-3347d08f5942\",\"type\":\"GlyphRenderer\"},{\"attributes\":{},\"id\":\"1a32f1b7-e21a-4c38-961c-452fcabfb345\",\"type\":\"SaveTool\"},{\"attributes\":{},\"id\":\"41e78d19-b470-4421-8095-3df135acb79d\",\"type\":\"LinearScale\"},{\"attributes\":{},\"id\":\"856ff6cd-26c0-4c2a-966e-6af9c85583bf\",\"type\":\"LinearScale\"},{\"attributes\":{\"plot\":null,\"text\":\"\"},\"id\":\"9a9390a8-e5b8-4fa5-b698-3ca6396436b2\",\"type\":\"Title\"},{\"attributes\":{\"overlay\":{\"id\":\"2ab21f94-1843-45d3-af5f-1d425adfb70a\",\"type\":\"BoxAnnotation\"}},\"id\":\"daa72dfa-1fd6-4448-bbbf-cf20e93d94ea\",\"type\":\"BoxZoomTool\"},{\"attributes\":{},\"id\":\"ac9fcfbc-2292-4965-815e-e327147135df\",\"type\":\"BasicTicker\"},{\"attributes\":{},\"id\":\"3f1e18f5-c425-458f-b274-4aa83849064d\",\"type\":\"BasicTicker\"},{\"attributes\":{\"plot\":{\"id\":\"eb9efd40-32c9-463f-8331-eaadc98a7f86\",\"subtype\":\"Figure\",\"type\":\"Plot\"},\"ticker\":{\"id\":\"ac9fcfbc-2292-4965-815e-e327147135df\",\"type\":\"BasicTicker\"}},\"id\":\"5979278d-a286-4482-8e4a-1093d092e1d4\",\"type\":\"Grid\"}],\"root_ids\":[\"eb9efd40-32c9-463f-8331-eaadc98a7f86\"]},\"title\":\"Bokeh Application\",\"version\":\"0.12.15\"}};\n",
       "  var render_items = [{\"docid\":\"dd33c67d-4297-420c-9e8b-f4cdfd7f84f6\",\"elementid\":\"bd2ee4b1-277d-4426-8da9-8c9421d6f1b7\",\"modelid\":\"eb9efd40-32c9-463f-8331-eaadc98a7f86\"}];\n",
       "  root.Bokeh.embed.embed_items_notebook(docs_json, render_items);\n",
       "\n",
       "  }\n",
       "  if (root.Bokeh !== undefined) {\n",
       "    embed_document(root);\n",
       "  } else {\n",
       "    var attempts = 0;\n",
       "    var timer = setInterval(function(root) {\n",
       "      if (root.Bokeh !== undefined) {\n",
       "        embed_document(root);\n",
       "        clearInterval(timer);\n",
       "      }\n",
       "      attempts++;\n",
       "      if (attempts > 100) {\n",
       "        console.log(\"Bokeh: ERROR: Unable to run BokehJS code because BokehJS library is missing\")\n",
       "        clearInterval(timer);\n",
       "      }\n",
       "    }, 10, root)\n",
       "  }\n",
       "})(window);"
      ],
      "application/vnd.bokehjs_exec.v0+json": ""
     },
     "metadata": {
      "application/vnd.bokehjs_exec.v0+json": {
       "id": "eb9efd40-32c9-463f-8331-eaadc98a7f86"
      }
     },
     "output_type": "display_data"
    }
   ],
   "source": [
    "x = np.linspace(0, 2 * np.pi, 200)\n",
    "y = np.cos(x)\n",
    "\n",
    "p = figure()\n",
    "p.circle(x, y)\n",
    "show(p)"
   ]
  },
  {
   "cell_type": "markdown",
   "metadata": {},
   "source": [
    "### Ejemplo linea con puntos"
   ]
  },
  {
   "cell_type": "code",
   "execution_count": 36,
   "metadata": {},
   "outputs": [
    {
     "data": {
      "text/html": [
       "\n",
       "<div class=\"bk-root\">\n",
       "    <div class=\"bk-plotdiv\" id=\"14ba9715-e8cd-4a13-a07d-0fddcec1355a\"></div>\n",
       "</div>"
      ]
     },
     "metadata": {},
     "output_type": "display_data"
    },
    {
     "data": {
      "application/javascript": [
       "(function(root) {\n",
       "  function embed_document(root) {\n",
       "    \n",
       "  var docs_json = {\"8522a32f-7f17-4007-bf7d-c5156c46d8bb\":{\"roots\":{\"references\":[{\"attributes\":{\"line_alpha\":0.1,\"line_color\":\"#1f77b4\",\"line_width\":2,\"x\":{\"field\":\"x\"},\"y\":{\"field\":\"y\"}},\"id\":\"04defa15-1e8a-429f-8d01-e6a35b1bef47\",\"type\":\"Line\"},{\"attributes\":{},\"id\":\"5b4f79ed-7e22-4ff9-badb-618fa82ef366\",\"type\":\"LinearScale\"},{\"attributes\":{},\"id\":\"4969ce91-c23c-43ac-ac74-472a0893cfc2\",\"type\":\"LinearScale\"},{\"attributes\":{\"plot\":{\"id\":\"0ffbebee-ea6a-41f7-bcbf-e4e57dd1da19\",\"subtype\":\"Figure\",\"type\":\"Plot\"},\"ticker\":{\"id\":\"30979a5d-f007-472f-a7b1-6881194981ae\",\"type\":\"BasicTicker\"}},\"id\":\"055e8114-7c67-4df6-aae9-d53954676d2e\",\"type\":\"Grid\"},{\"attributes\":{\"formatter\":{\"id\":\"45d0b04e-37d9-4501-bca3-0e14dd2155a4\",\"type\":\"BasicTickFormatter\"},\"plot\":{\"id\":\"0ffbebee-ea6a-41f7-bcbf-e4e57dd1da19\",\"subtype\":\"Figure\",\"type\":\"Plot\"},\"ticker\":{\"id\":\"30979a5d-f007-472f-a7b1-6881194981ae\",\"type\":\"BasicTicker\"}},\"id\":\"40bdd92d-151c-4646-b88a-e602daf179a0\",\"type\":\"LinearAxis\"},{\"attributes\":{},\"id\":\"30979a5d-f007-472f-a7b1-6881194981ae\",\"type\":\"BasicTicker\"},{\"attributes\":{\"formatter\":{\"id\":\"69e7fb7c-dc56-4940-8f12-71dc36ffb075\",\"type\":\"BasicTickFormatter\"},\"plot\":{\"id\":\"0ffbebee-ea6a-41f7-bcbf-e4e57dd1da19\",\"subtype\":\"Figure\",\"type\":\"Plot\"},\"ticker\":{\"id\":\"ad7c87f6-4b24-43fa-b374-bb29945421ec\",\"type\":\"BasicTicker\"}},\"id\":\"791c8088-491c-4fa1-bb3a-bd2e41781116\",\"type\":\"LinearAxis\"},{\"attributes\":{},\"id\":\"ad7c87f6-4b24-43fa-b374-bb29945421ec\",\"type\":\"BasicTicker\"},{\"attributes\":{\"dimension\":1,\"plot\":{\"id\":\"0ffbebee-ea6a-41f7-bcbf-e4e57dd1da19\",\"subtype\":\"Figure\",\"type\":\"Plot\"},\"ticker\":{\"id\":\"ad7c87f6-4b24-43fa-b374-bb29945421ec\",\"type\":\"BasicTicker\"}},\"id\":\"19fda278-5e97-4580-9f29-967be7148607\",\"type\":\"Grid\"},{\"attributes\":{\"data_source\":{\"id\":\"52b3912f-0782-4ecb-a83a-bc1cb797ecc0\",\"type\":\"ColumnDataSource\"},\"glyph\":{\"id\":\"cfb27028-9816-44c4-994e-7ce220868d6c\",\"type\":\"Line\"},\"hover_glyph\":null,\"muted_glyph\":null,\"nonselection_glyph\":{\"id\":\"04defa15-1e8a-429f-8d01-e6a35b1bef47\",\"type\":\"Line\"},\"selection_glyph\":null,\"view\":{\"id\":\"13fdc8a7-c43f-4fb5-9b43-6b9fc6c9a602\",\"type\":\"CDSView\"}},\"id\":\"9c42bc65-4920-4165-8c95-ff35e307b99e\",\"type\":\"GlyphRenderer\"},{\"attributes\":{},\"id\":\"69e7fb7c-dc56-4940-8f12-71dc36ffb075\",\"type\":\"BasicTickFormatter\"},{\"attributes\":{\"bottom_units\":\"screen\",\"fill_alpha\":{\"value\":0.5},\"fill_color\":{\"value\":\"lightgrey\"},\"left_units\":\"screen\",\"level\":\"overlay\",\"line_alpha\":{\"value\":1.0},\"line_color\":{\"value\":\"black\"},\"line_dash\":[4,4],\"line_width\":{\"value\":2},\"plot\":null,\"render_mode\":\"css\",\"right_units\":\"screen\",\"top_units\":\"screen\"},\"id\":\"f31b0bc1-4914-4bc8-8a41-3fdc9550a807\",\"type\":\"BoxAnnotation\"},{\"attributes\":{},\"id\":\"00c7e2b5-7a78-47e0-92b4-2862d74482f8\",\"type\":\"PanTool\"},{\"attributes\":{\"source\":{\"id\":\"52b3912f-0782-4ecb-a83a-bc1cb797ecc0\",\"type\":\"ColumnDataSource\"}},\"id\":\"13fdc8a7-c43f-4fb5-9b43-6b9fc6c9a602\",\"type\":\"CDSView\"},{\"attributes\":{\"callback\":null},\"id\":\"38a80cfb-647f-4191-858f-adf7be101c9b\",\"type\":\"DataRange1d\"},{\"attributes\":{},\"id\":\"10502474-8850-4e74-9de9-6f8012884324\",\"type\":\"WheelZoomTool\"},{\"attributes\":{\"overlay\":{\"id\":\"f31b0bc1-4914-4bc8-8a41-3fdc9550a807\",\"type\":\"BoxAnnotation\"}},\"id\":\"351848a4-4c5f-4045-a942-36172d18d123\",\"type\":\"BoxZoomTool\"},{\"attributes\":{},\"id\":\"a372391c-c374-47f3-88a5-d3bf6c00962b\",\"type\":\"SaveTool\"},{\"attributes\":{},\"id\":\"4f60ec57-afa2-4202-8557-1eb040afae5e\",\"type\":\"ResetTool\"},{\"attributes\":{},\"id\":\"292c3a45-9b76-4e2e-92c1-5c68f1b4ade0\",\"type\":\"HelpTool\"},{\"attributes\":{},\"id\":\"45d0b04e-37d9-4501-bca3-0e14dd2155a4\",\"type\":\"BasicTickFormatter\"},{\"attributes\":{\"active_drag\":\"auto\",\"active_inspect\":\"auto\",\"active_scroll\":\"auto\",\"active_tap\":\"auto\",\"tools\":[{\"id\":\"00c7e2b5-7a78-47e0-92b4-2862d74482f8\",\"type\":\"PanTool\"},{\"id\":\"10502474-8850-4e74-9de9-6f8012884324\",\"type\":\"WheelZoomTool\"},{\"id\":\"351848a4-4c5f-4045-a942-36172d18d123\",\"type\":\"BoxZoomTool\"},{\"id\":\"a372391c-c374-47f3-88a5-d3bf6c00962b\",\"type\":\"SaveTool\"},{\"id\":\"4f60ec57-afa2-4202-8557-1eb040afae5e\",\"type\":\"ResetTool\"},{\"id\":\"292c3a45-9b76-4e2e-92c1-5c68f1b4ade0\",\"type\":\"HelpTool\"}]},\"id\":\"37cfbed2-05f7-4e3d-92b6-14ab799f6adf\",\"type\":\"Toolbar\"},{\"attributes\":{\"callback\":null,\"column_names\":[\"x\",\"y\"],\"data\":{\"x\":[1,2,3,4,5],\"y\":[6,7,8,7,3]},\"selected\":null,\"selection_policy\":null},\"id\":\"05d3fe00-d461-482b-a193-6b022e72b427\",\"type\":\"ColumnDataSource\"},{\"attributes\":{\"plot\":null,\"text\":\"\"},\"id\":\"aef0693a-f173-4020-9a29-6f8c155f1d57\",\"type\":\"Title\"},{\"attributes\":{\"fill_color\":{\"value\":\"white\"},\"line_color\":{\"value\":\"#1f77b4\"},\"size\":{\"units\":\"screen\",\"value\":8},\"x\":{\"field\":\"x\"},\"y\":{\"field\":\"y\"}},\"id\":\"2a239efa-f1a2-4009-ace1-dbf36efd40aa\",\"type\":\"Circle\"},{\"attributes\":{\"below\":[{\"id\":\"40bdd92d-151c-4646-b88a-e602daf179a0\",\"type\":\"LinearAxis\"}],\"left\":[{\"id\":\"791c8088-491c-4fa1-bb3a-bd2e41781116\",\"type\":\"LinearAxis\"}],\"plot_height\":400,\"plot_width\":400,\"renderers\":[{\"id\":\"40bdd92d-151c-4646-b88a-e602daf179a0\",\"type\":\"LinearAxis\"},{\"id\":\"055e8114-7c67-4df6-aae9-d53954676d2e\",\"type\":\"Grid\"},{\"id\":\"791c8088-491c-4fa1-bb3a-bd2e41781116\",\"type\":\"LinearAxis\"},{\"id\":\"19fda278-5e97-4580-9f29-967be7148607\",\"type\":\"Grid\"},{\"id\":\"f31b0bc1-4914-4bc8-8a41-3fdc9550a807\",\"type\":\"BoxAnnotation\"},{\"id\":\"9c42bc65-4920-4165-8c95-ff35e307b99e\",\"type\":\"GlyphRenderer\"},{\"id\":\"ae20285b-a0f5-4fb7-a1a2-eb97df300a7c\",\"type\":\"GlyphRenderer\"}],\"title\":{\"id\":\"aef0693a-f173-4020-9a29-6f8c155f1d57\",\"type\":\"Title\"},\"toolbar\":{\"id\":\"37cfbed2-05f7-4e3d-92b6-14ab799f6adf\",\"type\":\"Toolbar\"},\"x_range\":{\"id\":\"57f74aa0-caf9-42eb-b8d4-59e0a6604de5\",\"type\":\"DataRange1d\"},\"x_scale\":{\"id\":\"5b4f79ed-7e22-4ff9-badb-618fa82ef366\",\"type\":\"LinearScale\"},\"y_range\":{\"id\":\"38a80cfb-647f-4191-858f-adf7be101c9b\",\"type\":\"DataRange1d\"},\"y_scale\":{\"id\":\"4969ce91-c23c-43ac-ac74-472a0893cfc2\",\"type\":\"LinearScale\"}},\"id\":\"0ffbebee-ea6a-41f7-bcbf-e4e57dd1da19\",\"subtype\":\"Figure\",\"type\":\"Plot\"},{\"attributes\":{\"fill_alpha\":{\"value\":0.1},\"fill_color\":{\"value\":\"#1f77b4\"},\"line_alpha\":{\"value\":0.1},\"line_color\":{\"value\":\"#1f77b4\"},\"size\":{\"units\":\"screen\",\"value\":8},\"x\":{\"field\":\"x\"},\"y\":{\"field\":\"y\"}},\"id\":\"09f3cfd8-1861-4900-9f69-cc3f57a3925c\",\"type\":\"Circle\"},{\"attributes\":{\"callback\":null},\"id\":\"57f74aa0-caf9-42eb-b8d4-59e0a6604de5\",\"type\":\"DataRange1d\"},{\"attributes\":{\"data_source\":{\"id\":\"05d3fe00-d461-482b-a193-6b022e72b427\",\"type\":\"ColumnDataSource\"},\"glyph\":{\"id\":\"2a239efa-f1a2-4009-ace1-dbf36efd40aa\",\"type\":\"Circle\"},\"hover_glyph\":null,\"muted_glyph\":null,\"nonselection_glyph\":{\"id\":\"09f3cfd8-1861-4900-9f69-cc3f57a3925c\",\"type\":\"Circle\"},\"selection_glyph\":null,\"view\":{\"id\":\"5a19bb52-f0a3-4bf9-bc9f-cf250619a8ef\",\"type\":\"CDSView\"}},\"id\":\"ae20285b-a0f5-4fb7-a1a2-eb97df300a7c\",\"type\":\"GlyphRenderer\"},{\"attributes\":{\"line_color\":\"#1f77b4\",\"line_width\":2,\"x\":{\"field\":\"x\"},\"y\":{\"field\":\"y\"}},\"id\":\"cfb27028-9816-44c4-994e-7ce220868d6c\",\"type\":\"Line\"},{\"attributes\":{\"callback\":null,\"column_names\":[\"x\",\"y\"],\"data\":{\"x\":[1,2,3,4,5],\"y\":[6,7,8,7,3]},\"selected\":null,\"selection_policy\":null},\"id\":\"52b3912f-0782-4ecb-a83a-bc1cb797ecc0\",\"type\":\"ColumnDataSource\"},{\"attributes\":{\"source\":{\"id\":\"05d3fe00-d461-482b-a193-6b022e72b427\",\"type\":\"ColumnDataSource\"}},\"id\":\"5a19bb52-f0a3-4bf9-bc9f-cf250619a8ef\",\"type\":\"CDSView\"}],\"root_ids\":[\"0ffbebee-ea6a-41f7-bcbf-e4e57dd1da19\"]},\"title\":\"Bokeh Application\",\"version\":\"0.12.15\"}};\n",
       "  var render_items = [{\"docid\":\"8522a32f-7f17-4007-bf7d-c5156c46d8bb\",\"elementid\":\"14ba9715-e8cd-4a13-a07d-0fddcec1355a\",\"modelid\":\"0ffbebee-ea6a-41f7-bcbf-e4e57dd1da19\"}];\n",
       "  root.Bokeh.embed.embed_items_notebook(docs_json, render_items);\n",
       "\n",
       "  }\n",
       "  if (root.Bokeh !== undefined) {\n",
       "    embed_document(root);\n",
       "  } else {\n",
       "    var attempts = 0;\n",
       "    var timer = setInterval(function(root) {\n",
       "      if (root.Bokeh !== undefined) {\n",
       "        embed_document(root);\n",
       "        clearInterval(timer);\n",
       "      }\n",
       "      attempts++;\n",
       "      if (attempts > 100) {\n",
       "        console.log(\"Bokeh: ERROR: Unable to run BokehJS code because BokehJS library is missing\")\n",
       "        clearInterval(timer);\n",
       "      }\n",
       "    }, 10, root)\n",
       "  }\n",
       "})(window);"
      ],
      "application/vnd.bokehjs_exec.v0+json": ""
     },
     "metadata": {
      "application/vnd.bokehjs_exec.v0+json": {
       "id": "0ffbebee-ea6a-41f7-bcbf-e4e57dd1da19"
      }
     },
     "output_type": "display_data"
    }
   ],
   "source": [
    "x = [1, 2, 3, 4, 5]\n",
    "y = [6, 7, 8, 7, 3]\n",
    "\n",
    "p = figure(plot_width = 400, plot_height = 400)\n",
    "p.line(x, y, line_width = 2)\n",
    "p.circle(x, y, fill_color = 'white', size = 8)\n",
    "#output_file(\"ejemplo.html\")\n",
    "show(p)"
   ]
  },
  {
   "cell_type": "markdown",
   "metadata": {},
   "source": [
    "### Generar column data source manualmente"
   ]
  },
  {
   "cell_type": "code",
   "execution_count": 37,
   "metadata": {},
   "outputs": [
    {
     "data": {
      "text/html": [
       "\n",
       "<div class=\"bk-root\">\n",
       "    <div class=\"bk-plotdiv\" id=\"40ff2a94-6b23-4e06-aa30-0b8cbbc6fea6\"></div>\n",
       "</div>"
      ]
     },
     "metadata": {},
     "output_type": "display_data"
    },
    {
     "data": {
      "application/javascript": [
       "(function(root) {\n",
       "  function embed_document(root) {\n",
       "    \n",
       "  var docs_json = {\"af504c50-225a-4135-ac15-c27cb3c3958c\":{\"roots\":{\"references\":[{\"attributes\":{},\"id\":\"789d2e49-9bd0-4a40-8cde-4e27b19da4a0\",\"type\":\"BasicTickFormatter\"},{\"attributes\":{},\"id\":\"e45e3fa6-c226-4990-b71c-a8be58f047d2\",\"type\":\"ResetTool\"},{\"attributes\":{},\"id\":\"5589a4fe-8cd3-4a4d-a229-7bb0b1b11be2\",\"type\":\"LinearScale\"},{\"attributes\":{\"callback\":null},\"id\":\"7f8b6cd7-64fb-435a-8cd6-bd7ecd42863d\",\"type\":\"DataRange1d\"},{\"attributes\":{},\"id\":\"c9176a5b-a76b-430d-8737-58f2f961df3b\",\"type\":\"LinearScale\"},{\"attributes\":{\"plot\":null,\"text\":\"\"},\"id\":\"c663bdcb-68ce-466f-9c03-857389df2b31\",\"type\":\"Title\"},{\"attributes\":{\"callback\":null},\"id\":\"abf90935-dd2e-4686-b34d-53e148dc696b\",\"type\":\"DataRange1d\"},{\"attributes\":{\"source\":{\"id\":\"1fa3666f-1de4-4397-820b-7f82f600ef12\",\"type\":\"ColumnDataSource\"}},\"id\":\"db89959c-ba2f-47bb-9ae9-f3255ccd6383\",\"type\":\"CDSView\"},{\"attributes\":{\"fill_alpha\":{\"value\":0.1},\"fill_color\":{\"value\":\"#1f77b4\"},\"line_alpha\":{\"value\":0.1},\"line_color\":{\"value\":\"#1f77b4\"},\"size\":{\"field\":\"size\",\"units\":\"screen\"},\"x\":{\"field\":\"x\"},\"y\":{\"field\":\"y\"}},\"id\":\"295c7d6a-bd37-4fc7-bb32-7b23bee5249a\",\"type\":\"Circle\"},{\"attributes\":{\"active_drag\":\"auto\",\"active_inspect\":\"auto\",\"active_scroll\":\"auto\",\"active_tap\":\"auto\",\"tools\":[{\"id\":\"c75d0a4b-c682-4532-9288-d3590ea0b973\",\"type\":\"PanTool\"},{\"id\":\"2ad79620-bc6c-40a5-ac43-684d98d31dda\",\"type\":\"WheelZoomTool\"},{\"id\":\"1326a557-3eef-455f-ace9-ea9e048e1a92\",\"type\":\"BoxZoomTool\"},{\"id\":\"9c9c8545-c1f8-4921-a171-74740c02e53f\",\"type\":\"SaveTool\"},{\"id\":\"e45e3fa6-c226-4990-b71c-a8be58f047d2\",\"type\":\"ResetTool\"},{\"id\":\"b969e27a-e962-4df3-a880-e1efb6604462\",\"type\":\"HelpTool\"}]},\"id\":\"167a534b-00e9-46f0-a53a-9f62531a9bbb\",\"type\":\"Toolbar\"},{\"attributes\":{\"formatter\":{\"id\":\"789d2e49-9bd0-4a40-8cde-4e27b19da4a0\",\"type\":\"BasicTickFormatter\"},\"plot\":{\"id\":\"e0de2b2d-1782-4d91-9dd0-f87818a4ca7e\",\"subtype\":\"Figure\",\"type\":\"Plot\"},\"ticker\":{\"id\":\"3e311bcc-57f7-4f8f-af2b-2897c8c3977a\",\"type\":\"BasicTicker\"}},\"id\":\"7d0c85bd-6f75-411b-8a15-6247048abb95\",\"type\":\"LinearAxis\"},{\"attributes\":{\"below\":[{\"id\":\"7d0c85bd-6f75-411b-8a15-6247048abb95\",\"type\":\"LinearAxis\"}],\"left\":[{\"id\":\"810183b3-2b9b-43cc-bbab-61fbf7aa1fba\",\"type\":\"LinearAxis\"}],\"plot_height\":400,\"plot_width\":400,\"renderers\":[{\"id\":\"7d0c85bd-6f75-411b-8a15-6247048abb95\",\"type\":\"LinearAxis\"},{\"id\":\"bbfb5306-3b83-4ac3-9c08-d41bfd6152cb\",\"type\":\"Grid\"},{\"id\":\"810183b3-2b9b-43cc-bbab-61fbf7aa1fba\",\"type\":\"LinearAxis\"},{\"id\":\"cc877538-3d73-4c3c-b581-cdd3298ed621\",\"type\":\"Grid\"},{\"id\":\"e25a0777-d452-4505-b837-fec30b48b8f5\",\"type\":\"BoxAnnotation\"},{\"id\":\"019c6ffd-5e56-4d55-83bd-704524766eee\",\"type\":\"GlyphRenderer\"}],\"title\":{\"id\":\"c663bdcb-68ce-466f-9c03-857389df2b31\",\"type\":\"Title\"},\"toolbar\":{\"id\":\"167a534b-00e9-46f0-a53a-9f62531a9bbb\",\"type\":\"Toolbar\"},\"x_range\":{\"id\":\"7f8b6cd7-64fb-435a-8cd6-bd7ecd42863d\",\"type\":\"DataRange1d\"},\"x_scale\":{\"id\":\"5589a4fe-8cd3-4a4d-a229-7bb0b1b11be2\",\"type\":\"LinearScale\"},\"y_range\":{\"id\":\"abf90935-dd2e-4686-b34d-53e148dc696b\",\"type\":\"DataRange1d\"},\"y_scale\":{\"id\":\"c9176a5b-a76b-430d-8737-58f2f961df3b\",\"type\":\"LinearScale\"}},\"id\":\"e0de2b2d-1782-4d91-9dd0-f87818a4ca7e\",\"subtype\":\"Figure\",\"type\":\"Plot\"},{\"attributes\":{},\"id\":\"b969e27a-e962-4df3-a880-e1efb6604462\",\"type\":\"HelpTool\"},{\"attributes\":{\"plot\":{\"id\":\"e0de2b2d-1782-4d91-9dd0-f87818a4ca7e\",\"subtype\":\"Figure\",\"type\":\"Plot\"},\"ticker\":{\"id\":\"3e311bcc-57f7-4f8f-af2b-2897c8c3977a\",\"type\":\"BasicTicker\"}},\"id\":\"bbfb5306-3b83-4ac3-9c08-d41bfd6152cb\",\"type\":\"Grid\"},{\"attributes\":{},\"id\":\"9c9c8545-c1f8-4921-a171-74740c02e53f\",\"type\":\"SaveTool\"},{\"attributes\":{\"formatter\":{\"id\":\"b2a431c4-29ee-4583-a187-0ccd3878023b\",\"type\":\"BasicTickFormatter\"},\"plot\":{\"id\":\"e0de2b2d-1782-4d91-9dd0-f87818a4ca7e\",\"subtype\":\"Figure\",\"type\":\"Plot\"},\"ticker\":{\"id\":\"a9c9c3c3-d96a-4d3b-9d1b-109fb26afe4d\",\"type\":\"BasicTicker\"}},\"id\":\"810183b3-2b9b-43cc-bbab-61fbf7aa1fba\",\"type\":\"LinearAxis\"},{\"attributes\":{\"overlay\":{\"id\":\"e25a0777-d452-4505-b837-fec30b48b8f5\",\"type\":\"BoxAnnotation\"}},\"id\":\"1326a557-3eef-455f-ace9-ea9e048e1a92\",\"type\":\"BoxZoomTool\"},{\"attributes\":{},\"id\":\"3e311bcc-57f7-4f8f-af2b-2897c8c3977a\",\"type\":\"BasicTicker\"},{\"attributes\":{},\"id\":\"b2a431c4-29ee-4583-a187-0ccd3878023b\",\"type\":\"BasicTickFormatter\"},{\"attributes\":{},\"id\":\"2ad79620-bc6c-40a5-ac43-684d98d31dda\",\"type\":\"WheelZoomTool\"},{\"attributes\":{\"data_source\":{\"id\":\"1fa3666f-1de4-4397-820b-7f82f600ef12\",\"type\":\"ColumnDataSource\"},\"glyph\":{\"id\":\"6ca73bd8-e14a-47cb-9fd9-11c9b7ece962\",\"type\":\"Circle\"},\"hover_glyph\":null,\"muted_glyph\":null,\"nonselection_glyph\":{\"id\":\"295c7d6a-bd37-4fc7-bb32-7b23bee5249a\",\"type\":\"Circle\"},\"selection_glyph\":null,\"view\":{\"id\":\"db89959c-ba2f-47bb-9ae9-f3255ccd6383\",\"type\":\"CDSView\"}},\"id\":\"019c6ffd-5e56-4d55-83bd-704524766eee\",\"type\":\"GlyphRenderer\"},{\"attributes\":{\"fill_alpha\":{\"field\":\"fill_alpha\"},\"fill_color\":{\"value\":\"orange\"},\"line_color\":{\"value\":\"navy\"},\"size\":{\"field\":\"size\",\"units\":\"screen\"},\"x\":{\"field\":\"x\"},\"y\":{\"field\":\"y\"}},\"id\":\"6ca73bd8-e14a-47cb-9fd9-11c9b7ece962\",\"type\":\"Circle\"},{\"attributes\":{\"callback\":null,\"column_names\":[\"size\",\"x\",\"y\",\"fill_alpha\"],\"data\":{\"fill_alpha\":[0.5,0.2,0.2,1,1],\"size\":[10,15,20,25,30],\"x\":[1,2,3,4,5],\"y\":[6,7,2,4,5]},\"selected\":null,\"selection_policy\":null},\"id\":\"1fa3666f-1de4-4397-820b-7f82f600ef12\",\"type\":\"ColumnDataSource\"},{\"attributes\":{\"dimension\":1,\"plot\":{\"id\":\"e0de2b2d-1782-4d91-9dd0-f87818a4ca7e\",\"subtype\":\"Figure\",\"type\":\"Plot\"},\"ticker\":{\"id\":\"a9c9c3c3-d96a-4d3b-9d1b-109fb26afe4d\",\"type\":\"BasicTicker\"}},\"id\":\"cc877538-3d73-4c3c-b581-cdd3298ed621\",\"type\":\"Grid\"},{\"attributes\":{},\"id\":\"a9c9c3c3-d96a-4d3b-9d1b-109fb26afe4d\",\"type\":\"BasicTicker\"},{\"attributes\":{},\"id\":\"c75d0a4b-c682-4532-9288-d3590ea0b973\",\"type\":\"PanTool\"},{\"attributes\":{\"bottom_units\":\"screen\",\"fill_alpha\":{\"value\":0.5},\"fill_color\":{\"value\":\"lightgrey\"},\"left_units\":\"screen\",\"level\":\"overlay\",\"line_alpha\":{\"value\":1.0},\"line_color\":{\"value\":\"black\"},\"line_dash\":[4,4],\"line_width\":{\"value\":2},\"plot\":null,\"render_mode\":\"css\",\"right_units\":\"screen\",\"top_units\":\"screen\"},\"id\":\"e25a0777-d452-4505-b837-fec30b48b8f5\",\"type\":\"BoxAnnotation\"}],\"root_ids\":[\"e0de2b2d-1782-4d91-9dd0-f87818a4ca7e\"]},\"title\":\"Bokeh Application\",\"version\":\"0.12.15\"}};\n",
       "  var render_items = [{\"docid\":\"af504c50-225a-4135-ac15-c27cb3c3958c\",\"elementid\":\"40ff2a94-6b23-4e06-aa30-0b8cbbc6fea6\",\"modelid\":\"e0de2b2d-1782-4d91-9dd0-f87818a4ca7e\"}];\n",
       "  root.Bokeh.embed.embed_items_notebook(docs_json, render_items);\n",
       "\n",
       "  }\n",
       "  if (root.Bokeh !== undefined) {\n",
       "    embed_document(root);\n",
       "  } else {\n",
       "    var attempts = 0;\n",
       "    var timer = setInterval(function(root) {\n",
       "      if (root.Bokeh !== undefined) {\n",
       "        embed_document(root);\n",
       "        clearInterval(timer);\n",
       "      }\n",
       "      attempts++;\n",
       "      if (attempts > 100) {\n",
       "        console.log(\"Bokeh: ERROR: Unable to run BokehJS code because BokehJS library is missing\")\n",
       "        clearInterval(timer);\n",
       "      }\n",
       "    }, 10, root)\n",
       "  }\n",
       "})(window);"
      ],
      "application/vnd.bokehjs_exec.v0+json": ""
     },
     "metadata": {
      "application/vnd.bokehjs_exec.v0+json": {
       "id": "e0de2b2d-1782-4d91-9dd0-f87818a4ca7e"
      }
     },
     "output_type": "display_data"
    }
   ],
   "source": [
    "# Create a plot\n",
    "p = figure(plot_width = 400, plot_height = 400)\n",
    "\n",
    "# Display a scater plot (several points)\n",
    "p.circle([1, 2, 3, 4, 5], [6, 7, 2, 4, 5], size = [10, 15, 20, 25, 30], line_color = \"navy\", \n",
    "         fill_color = \"orange\", fill_alpha = [0.5, 0.2, 0.2, 1, 1])\n",
    "\n",
    "# Display plot\n",
    "show(p)"
   ]
  },
  {
   "cell_type": "code",
   "execution_count": 38,
   "metadata": {},
   "outputs": [],
   "source": [
    "from bokeh.plotting import ColumnDataSource\n",
    "datos = {\n",
    "    'edad':[1, 2, 3, 4, 5],\n",
    "    'altura':[6, 7, 2, 4, 5]\n",
    "}\n",
    "source1 = ColumnDataSource(data = datos)"
   ]
  },
  {
   "cell_type": "code",
   "execution_count": 39,
   "metadata": {},
   "outputs": [
    {
     "data": {
      "text/html": [
       "\n",
       "<div class=\"bk-root\">\n",
       "    <div class=\"bk-plotdiv\" id=\"fcc0d2dc-2e23-4c6d-b709-4cf98100a103\"></div>\n",
       "</div>"
      ]
     },
     "metadata": {},
     "output_type": "display_data"
    },
    {
     "data": {
      "application/javascript": [
       "(function(root) {\n",
       "  function embed_document(root) {\n",
       "    \n",
       "  var docs_json = {\"068d4536-1c9b-4674-938b-d18355ce63e7\":{\"roots\":{\"references\":[{\"attributes\":{\"fill_alpha\":{\"value\":0.1},\"fill_color\":{\"value\":\"#1f77b4\"},\"line_alpha\":{\"value\":0.1},\"line_color\":{\"value\":\"#1f77b4\"},\"size\":{\"units\":\"screen\",\"value\":15},\"x\":{\"field\":\"edad\"},\"y\":{\"field\":\"altura\"}},\"id\":\"4e6c1b35-987e-4f6d-8621-3058e303c1df\",\"type\":\"Circle\"},{\"attributes\":{\"formatter\":{\"id\":\"335dc05d-9147-4b08-a0cf-7b63d664edd0\",\"type\":\"BasicTickFormatter\"},\"plot\":{\"id\":\"619e0833-7fd0-45d4-ba44-f9240555e1e1\",\"subtype\":\"Figure\",\"type\":\"Plot\"},\"ticker\":{\"id\":\"db305e96-e873-42e0-ab12-a5d3f7391df6\",\"type\":\"BasicTicker\"}},\"id\":\"adeb2449-3ac9-45c6-b1b6-4f69e7b0800c\",\"type\":\"LinearAxis\"},{\"attributes\":{},\"id\":\"bef0982d-36a0-48a9-9a32-34597787c6f0\",\"type\":\"LinearScale\"},{\"attributes\":{\"plot\":null,\"text\":\"\"},\"id\":\"6b631b17-ed5f-490c-9017-8f3fd2173fb5\",\"type\":\"Title\"},{\"attributes\":{\"callback\":null},\"id\":\"2d510e0b-b16b-4ac0-8392-982e09932e95\",\"type\":\"DataRange1d\"},{\"attributes\":{},\"id\":\"335dc05d-9147-4b08-a0cf-7b63d664edd0\",\"type\":\"BasicTickFormatter\"},{\"attributes\":{\"callback\":null},\"id\":\"d1aa0c8e-9060-4b3d-a602-62b21df0258b\",\"type\":\"DataRange1d\"},{\"attributes\":{},\"id\":\"b6b11a2c-2470-4d22-9f17-4c38eeb5f330\",\"type\":\"BasicTickFormatter\"},{\"attributes\":{\"callback\":null,\"column_names\":[\"edad\",\"altura\"],\"data\":{\"altura\":[6,7,2,4,5],\"edad\":[1,2,3,4,5]},\"selected\":null,\"selection_policy\":null},\"id\":\"a7dbc482-150a-44b0-bf6d-cf88dada72dd\",\"type\":\"ColumnDataSource\"},{\"attributes\":{\"bottom_units\":\"screen\",\"fill_alpha\":{\"value\":0.5},\"fill_color\":{\"value\":\"lightgrey\"},\"left_units\":\"screen\",\"level\":\"overlay\",\"line_alpha\":{\"value\":1.0},\"line_color\":{\"value\":\"black\"},\"line_dash\":[4,4],\"line_width\":{\"value\":2},\"plot\":null,\"render_mode\":\"css\",\"right_units\":\"screen\",\"top_units\":\"screen\"},\"id\":\"5868d701-1786-4074-a060-da3977961aa3\",\"type\":\"BoxAnnotation\"},{\"attributes\":{\"formatter\":{\"id\":\"b6b11a2c-2470-4d22-9f17-4c38eeb5f330\",\"type\":\"BasicTickFormatter\"},\"plot\":{\"id\":\"619e0833-7fd0-45d4-ba44-f9240555e1e1\",\"subtype\":\"Figure\",\"type\":\"Plot\"},\"ticker\":{\"id\":\"577b51b1-edca-4d4f-b0a0-b59fbad47035\",\"type\":\"BasicTicker\"}},\"id\":\"c93fc300-21fe-41d3-aea3-02d3538f8098\",\"type\":\"LinearAxis\"},{\"attributes\":{},\"id\":\"b32b183e-c27e-438c-8a60-7292ddab37d4\",\"type\":\"PanTool\"},{\"attributes\":{\"below\":[{\"id\":\"adeb2449-3ac9-45c6-b1b6-4f69e7b0800c\",\"type\":\"LinearAxis\"}],\"left\":[{\"id\":\"c93fc300-21fe-41d3-aea3-02d3538f8098\",\"type\":\"LinearAxis\"}],\"plot_height\":400,\"plot_width\":400,\"renderers\":[{\"id\":\"adeb2449-3ac9-45c6-b1b6-4f69e7b0800c\",\"type\":\"LinearAxis\"},{\"id\":\"e6c51ef7-45b1-4254-bf2f-3d063f2d146a\",\"type\":\"Grid\"},{\"id\":\"c93fc300-21fe-41d3-aea3-02d3538f8098\",\"type\":\"LinearAxis\"},{\"id\":\"885d2d4c-030a-4607-b9b8-4e4a2be71e50\",\"type\":\"Grid\"},{\"id\":\"5868d701-1786-4074-a060-da3977961aa3\",\"type\":\"BoxAnnotation\"},{\"id\":\"8d71c925-c52c-4f58-96e7-0ba538dce4e5\",\"type\":\"GlyphRenderer\"}],\"title\":{\"id\":\"6b631b17-ed5f-490c-9017-8f3fd2173fb5\",\"type\":\"Title\"},\"toolbar\":{\"id\":\"1f804808-75bc-4381-9ac9-d59acb2be1c1\",\"type\":\"Toolbar\"},\"x_range\":{\"id\":\"d1aa0c8e-9060-4b3d-a602-62b21df0258b\",\"type\":\"DataRange1d\"},\"x_scale\":{\"id\":\"bef0982d-36a0-48a9-9a32-34597787c6f0\",\"type\":\"LinearScale\"},\"y_range\":{\"id\":\"2d510e0b-b16b-4ac0-8392-982e09932e95\",\"type\":\"DataRange1d\"},\"y_scale\":{\"id\":\"218b1ae9-fef9-452e-b0a5-004d1a2f9239\",\"type\":\"LinearScale\"}},\"id\":\"619e0833-7fd0-45d4-ba44-f9240555e1e1\",\"subtype\":\"Figure\",\"type\":\"Plot\"},{\"attributes\":{},\"id\":\"12450c6f-e7d3-4dec-8b9f-9a8e5f99f427\",\"type\":\"WheelZoomTool\"},{\"attributes\":{},\"id\":\"577b51b1-edca-4d4f-b0a0-b59fbad47035\",\"type\":\"BasicTicker\"},{\"attributes\":{\"source\":{\"id\":\"a7dbc482-150a-44b0-bf6d-cf88dada72dd\",\"type\":\"ColumnDataSource\"}},\"id\":\"ddfa8ad2-0aef-4f9f-b801-181f25d78f30\",\"type\":\"CDSView\"},{\"attributes\":{\"overlay\":{\"id\":\"5868d701-1786-4074-a060-da3977961aa3\",\"type\":\"BoxAnnotation\"}},\"id\":\"24d7bd77-172e-441b-934d-a166280b8602\",\"type\":\"BoxZoomTool\"},{\"attributes\":{},\"id\":\"2ebbf3c6-8279-4f59-8783-8869b09a153c\",\"type\":\"SaveTool\"},{\"attributes\":{},\"id\":\"b409ba51-80e3-4443-a824-0a68dd10112b\",\"type\":\"ResetTool\"},{\"attributes\":{},\"id\":\"eea39824-d250-4d40-9ba2-88be519d0612\",\"type\":\"HelpTool\"},{\"attributes\":{},\"id\":\"218b1ae9-fef9-452e-b0a5-004d1a2f9239\",\"type\":\"LinearScale\"},{\"attributes\":{\"dimension\":1,\"plot\":{\"id\":\"619e0833-7fd0-45d4-ba44-f9240555e1e1\",\"subtype\":\"Figure\",\"type\":\"Plot\"},\"ticker\":{\"id\":\"577b51b1-edca-4d4f-b0a0-b59fbad47035\",\"type\":\"BasicTicker\"}},\"id\":\"885d2d4c-030a-4607-b9b8-4e4a2be71e50\",\"type\":\"Grid\"},{\"attributes\":{},\"id\":\"db305e96-e873-42e0-ab12-a5d3f7391df6\",\"type\":\"BasicTicker\"},{\"attributes\":{\"fill_alpha\":{\"value\":0.5},\"fill_color\":{\"value\":\"orange\"},\"line_color\":{\"value\":\"navy\"},\"size\":{\"units\":\"screen\",\"value\":15},\"x\":{\"field\":\"edad\"},\"y\":{\"field\":\"altura\"}},\"id\":\"7a221f43-6dec-47d8-b967-f1eeca63cb07\",\"type\":\"Circle\"},{\"attributes\":{\"data_source\":{\"id\":\"a7dbc482-150a-44b0-bf6d-cf88dada72dd\",\"type\":\"ColumnDataSource\"},\"glyph\":{\"id\":\"7a221f43-6dec-47d8-b967-f1eeca63cb07\",\"type\":\"Circle\"},\"hover_glyph\":null,\"muted_glyph\":null,\"nonselection_glyph\":{\"id\":\"4e6c1b35-987e-4f6d-8621-3058e303c1df\",\"type\":\"Circle\"},\"selection_glyph\":null,\"view\":{\"id\":\"ddfa8ad2-0aef-4f9f-b801-181f25d78f30\",\"type\":\"CDSView\"}},\"id\":\"8d71c925-c52c-4f58-96e7-0ba538dce4e5\",\"type\":\"GlyphRenderer\"},{\"attributes\":{\"plot\":{\"id\":\"619e0833-7fd0-45d4-ba44-f9240555e1e1\",\"subtype\":\"Figure\",\"type\":\"Plot\"},\"ticker\":{\"id\":\"db305e96-e873-42e0-ab12-a5d3f7391df6\",\"type\":\"BasicTicker\"}},\"id\":\"e6c51ef7-45b1-4254-bf2f-3d063f2d146a\",\"type\":\"Grid\"},{\"attributes\":{\"active_drag\":\"auto\",\"active_inspect\":\"auto\",\"active_scroll\":\"auto\",\"active_tap\":\"auto\",\"tools\":[{\"id\":\"b32b183e-c27e-438c-8a60-7292ddab37d4\",\"type\":\"PanTool\"},{\"id\":\"12450c6f-e7d3-4dec-8b9f-9a8e5f99f427\",\"type\":\"WheelZoomTool\"},{\"id\":\"24d7bd77-172e-441b-934d-a166280b8602\",\"type\":\"BoxZoomTool\"},{\"id\":\"2ebbf3c6-8279-4f59-8783-8869b09a153c\",\"type\":\"SaveTool\"},{\"id\":\"b409ba51-80e3-4443-a824-0a68dd10112b\",\"type\":\"ResetTool\"},{\"id\":\"eea39824-d250-4d40-9ba2-88be519d0612\",\"type\":\"HelpTool\"}]},\"id\":\"1f804808-75bc-4381-9ac9-d59acb2be1c1\",\"type\":\"Toolbar\"}],\"root_ids\":[\"619e0833-7fd0-45d4-ba44-f9240555e1e1\"]},\"title\":\"Bokeh Application\",\"version\":\"0.12.15\"}};\n",
       "  var render_items = [{\"docid\":\"068d4536-1c9b-4674-938b-d18355ce63e7\",\"elementid\":\"fcc0d2dc-2e23-4c6d-b709-4cf98100a103\",\"modelid\":\"619e0833-7fd0-45d4-ba44-f9240555e1e1\"}];\n",
       "  root.Bokeh.embed.embed_items_notebook(docs_json, render_items);\n",
       "\n",
       "  }\n",
       "  if (root.Bokeh !== undefined) {\n",
       "    embed_document(root);\n",
       "  } else {\n",
       "    var attempts = 0;\n",
       "    var timer = setInterval(function(root) {\n",
       "      if (root.Bokeh !== undefined) {\n",
       "        embed_document(root);\n",
       "        clearInterval(timer);\n",
       "      }\n",
       "      attempts++;\n",
       "      if (attempts > 100) {\n",
       "        console.log(\"Bokeh: ERROR: Unable to run BokehJS code because BokehJS library is missing\")\n",
       "        clearInterval(timer);\n",
       "      }\n",
       "    }, 10, root)\n",
       "  }\n",
       "})(window);"
      ],
      "application/vnd.bokehjs_exec.v0+json": ""
     },
     "metadata": {
      "application/vnd.bokehjs_exec.v0+json": {
       "id": "619e0833-7fd0-45d4-ba44-f9240555e1e1"
      }
     },
     "output_type": "display_data"
    }
   ],
   "source": [
    "p = figure(plot_width = 400, plot_height = 400)\n",
    "p.circle('edad', 'altura', size = 15, line_color = \"navy\", fill_color = \"orange\", fill_alpha = 0.5, source = source1)\n",
    "show(p)"
   ]
  },
  {
   "cell_type": "markdown",
   "metadata": {},
   "source": [
    "### Ejemplo de flores"
   ]
  },
  {
   "cell_type": "code",
   "execution_count": 40,
   "metadata": {},
   "outputs": [
    {
     "data": {
      "text/html": [
       "<div>\n",
       "<style scoped>\n",
       "    .dataframe tbody tr th:only-of-type {\n",
       "        vertical-align: middle;\n",
       "    }\n",
       "\n",
       "    .dataframe tbody tr th {\n",
       "        vertical-align: top;\n",
       "    }\n",
       "\n",
       "    .dataframe thead th {\n",
       "        text-align: right;\n",
       "    }\n",
       "</style>\n",
       "<table border=\"1\" class=\"dataframe\">\n",
       "  <thead>\n",
       "    <tr style=\"text-align: right;\">\n",
       "      <th></th>\n",
       "      <th>sepal_length</th>\n",
       "      <th>sepal_width</th>\n",
       "      <th>petal_length</th>\n",
       "      <th>petal_width</th>\n",
       "      <th>species</th>\n",
       "    </tr>\n",
       "  </thead>\n",
       "  <tbody>\n",
       "    <tr>\n",
       "      <th>0</th>\n",
       "      <td>5.1</td>\n",
       "      <td>3.5</td>\n",
       "      <td>1.4</td>\n",
       "      <td>0.2</td>\n",
       "      <td>setosa</td>\n",
       "    </tr>\n",
       "    <tr>\n",
       "      <th>1</th>\n",
       "      <td>4.9</td>\n",
       "      <td>3.0</td>\n",
       "      <td>1.4</td>\n",
       "      <td>0.2</td>\n",
       "      <td>setosa</td>\n",
       "    </tr>\n",
       "    <tr>\n",
       "      <th>2</th>\n",
       "      <td>4.7</td>\n",
       "      <td>3.2</td>\n",
       "      <td>1.3</td>\n",
       "      <td>0.2</td>\n",
       "      <td>setosa</td>\n",
       "    </tr>\n",
       "    <tr>\n",
       "      <th>3</th>\n",
       "      <td>4.6</td>\n",
       "      <td>3.1</td>\n",
       "      <td>1.5</td>\n",
       "      <td>0.2</td>\n",
       "      <td>setosa</td>\n",
       "    </tr>\n",
       "    <tr>\n",
       "      <th>4</th>\n",
       "      <td>5.0</td>\n",
       "      <td>3.6</td>\n",
       "      <td>1.4</td>\n",
       "      <td>0.2</td>\n",
       "      <td>setosa</td>\n",
       "    </tr>\n",
       "  </tbody>\n",
       "</table>\n",
       "</div>"
      ],
      "text/plain": [
       "   sepal_length  sepal_width  petal_length  petal_width species\n",
       "0           5.1          3.5           1.4          0.2  setosa\n",
       "1           4.9          3.0           1.4          0.2  setosa\n",
       "2           4.7          3.2           1.3          0.2  setosa\n",
       "3           4.6          3.1           1.5          0.2  setosa\n",
       "4           5.0          3.6           1.4          0.2  setosa"
      ]
     },
     "execution_count": 40,
     "metadata": {},
     "output_type": "execute_result"
    }
   ],
   "source": [
    "from bokeh.sampledata.iris import flowers as df\n",
    "df.head()"
   ]
  },
  {
   "cell_type": "code",
   "execution_count": 41,
   "metadata": {},
   "outputs": [],
   "source": [
    "source = ColumnDataSource(df)"
   ]
  },
  {
   "cell_type": "code",
   "execution_count": 42,
   "metadata": {},
   "outputs": [
    {
     "data": {
      "text/html": [
       "\n",
       "<div class=\"bk-root\">\n",
       "    <div class=\"bk-plotdiv\" id=\"0f3b2546-2c94-46d3-ac80-6147e327d6da\"></div>\n",
       "</div>"
      ]
     },
     "metadata": {},
     "output_type": "display_data"
    },
    {
     "data": {
      "application/javascript": [
       "(function(root) {\n",
       "  function embed_document(root) {\n",
       "    \n",
       "  var docs_json = {\"ef7b67a7-d9b5-4d11-affe-b95db97e9ea1\":{\"roots\":{\"references\":[{\"attributes\":{},\"id\":\"6a2024f1-a5e4-4a7e-a56f-6e01cad78e9c\",\"type\":\"LinearScale\"},{\"attributes\":{},\"id\":\"5293af25-7c2d-4f2c-84dc-6315247f5597\",\"type\":\"WheelZoomTool\"},{\"attributes\":{},\"id\":\"8956b0c1-8d8e-48b5-adaa-c219076e3331\",\"type\":\"BasicTickFormatter\"},{\"attributes\":{\"overlay\":{\"id\":\"ccf94878-a2f6-4c7a-9c58-8dbe5aa9f5c8\",\"type\":\"BoxAnnotation\"}},\"id\":\"08219345-b292-490a-afda-18e7a9258de5\",\"type\":\"BoxZoomTool\"},{\"attributes\":{\"plot\":{\"id\":\"a2a1f652-f261-48d2-bebf-1aa912e2e74c\",\"subtype\":\"Figure\",\"type\":\"Plot\"},\"ticker\":{\"id\":\"1842d3ca-4f83-47ed-bd4e-7f174cda7c55\",\"type\":\"BasicTicker\"}},\"id\":\"60ddf749-5620-4f89-9e02-27e8821d3246\",\"type\":\"Grid\"},{\"attributes\":{},\"id\":\"d17e34be-bbb5-42cb-ae88-0d1b8aa9bab1\",\"type\":\"PanTool\"},{\"attributes\":{\"bottom_units\":\"screen\",\"fill_alpha\":{\"value\":0.5},\"fill_color\":{\"value\":\"lightgrey\"},\"left_units\":\"screen\",\"level\":\"overlay\",\"line_alpha\":{\"value\":1.0},\"line_color\":{\"value\":\"black\"},\"line_dash\":[4,4],\"line_width\":{\"value\":2},\"plot\":null,\"render_mode\":\"css\",\"right_units\":\"screen\",\"top_units\":\"screen\"},\"id\":\"ccf94878-a2f6-4c7a-9c58-8dbe5aa9f5c8\",\"type\":\"BoxAnnotation\"},{\"attributes\":{},\"id\":\"d2f1dc31-c1f5-453a-865c-7e212c3d7a81\",\"type\":\"LinearScale\"},{\"attributes\":{\"plot\":null,\"text\":\"\"},\"id\":\"c102f156-fe01-4a81-9cff-e496be21b0e6\",\"type\":\"Title\"},{\"attributes\":{},\"id\":\"f98cebd7-f78c-4295-b250-cbaee275ab2f\",\"type\":\"BasicTicker\"},{\"attributes\":{\"fill_color\":{\"value\":\"#1f77b4\"},\"line_color\":{\"value\":\"#1f77b4\"},\"x\":{\"field\":\"petal_length\"},\"y\":{\"field\":\"petal_width\"}},\"id\":\"619ae0df-afc6-4454-8bf3-540a4ca4fe23\",\"type\":\"Circle\"},{\"attributes\":{\"formatter\":{\"id\":\"ae5aa589-f236-43f6-9dca-ad0da202b558\",\"type\":\"BasicTickFormatter\"},\"plot\":{\"id\":\"a2a1f652-f261-48d2-bebf-1aa912e2e74c\",\"subtype\":\"Figure\",\"type\":\"Plot\"},\"ticker\":{\"id\":\"f98cebd7-f78c-4295-b250-cbaee275ab2f\",\"type\":\"BasicTicker\"}},\"id\":\"f1a964ad-a376-45eb-9c4a-88b02f64b967\",\"type\":\"LinearAxis\"},{\"attributes\":{\"fill_alpha\":{\"value\":0.1},\"fill_color\":{\"value\":\"#1f77b4\"},\"line_alpha\":{\"value\":0.1},\"line_color\":{\"value\":\"#1f77b4\"},\"x\":{\"field\":\"petal_length\"},\"y\":{\"field\":\"petal_width\"}},\"id\":\"e4b01198-7efe-4f87-95bb-89e95ae3d703\",\"type\":\"Circle\"},{\"attributes\":{\"dimension\":1,\"plot\":{\"id\":\"a2a1f652-f261-48d2-bebf-1aa912e2e74c\",\"subtype\":\"Figure\",\"type\":\"Plot\"},\"ticker\":{\"id\":\"f98cebd7-f78c-4295-b250-cbaee275ab2f\",\"type\":\"BasicTicker\"}},\"id\":\"8151eb06-c56c-4585-bfb0-0cf098f5c4c2\",\"type\":\"Grid\"},{\"attributes\":{\"data_source\":{\"id\":\"eb6518d4-c4db-4360-a722-78f11e060d5e\",\"type\":\"ColumnDataSource\"},\"glyph\":{\"id\":\"619ae0df-afc6-4454-8bf3-540a4ca4fe23\",\"type\":\"Circle\"},\"hover_glyph\":null,\"muted_glyph\":null,\"nonselection_glyph\":{\"id\":\"e4b01198-7efe-4f87-95bb-89e95ae3d703\",\"type\":\"Circle\"},\"selection_glyph\":null,\"view\":{\"id\":\"bee81c43-285f-4553-add6-a16cf7a374a7\",\"type\":\"CDSView\"}},\"id\":\"f83dbd46-1379-4b93-9f26-4811d420d4f5\",\"type\":\"GlyphRenderer\"},{\"attributes\":{\"callback\":null,\"column_names\":[\"sepal_length\",\"sepal_width\",\"petal_length\",\"petal_width\",\"species\",\"index\"],\"data\":{\"index\":[0,1,2,3,4,5,6,7,8,9,10,11,12,13,14,15,16,17,18,19,20,21,22,23,24,25,26,27,28,29,30,31,32,33,34,35,36,37,38,39,40,41,42,43,44,45,46,47,48,49,50,51,52,53,54,55,56,57,58,59,60,61,62,63,64,65,66,67,68,69,70,71,72,73,74,75,76,77,78,79,80,81,82,83,84,85,86,87,88,89,90,91,92,93,94,95,96,97,98,99,100,101,102,103,104,105,106,107,108,109,110,111,112,113,114,115,116,117,118,119,120,121,122,123,124,125,126,127,128,129,130,131,132,133,134,135,136,137,138,139,140,141,142,143,144,145,146,147,148,149],\"petal_length\":{\"__ndarray__\":\"ZmZmZmZm9j9mZmZmZmb2P83MzMzMzPQ/AAAAAAAA+D9mZmZmZmb2PzMzMzMzM/s/ZmZmZmZm9j8AAAAAAAD4P2ZmZmZmZvY/AAAAAAAA+D8AAAAAAAD4P5qZmZmZmfk/ZmZmZmZm9j+amZmZmZnxPzMzMzMzM/M/AAAAAAAA+D/NzMzMzMz0P2ZmZmZmZvY/MzMzMzMz+z8AAAAAAAD4PzMzMzMzM/s/AAAAAAAA+D8AAAAAAADwPzMzMzMzM/s/ZmZmZmZm/j+amZmZmZn5P5qZmZmZmfk/AAAAAAAA+D9mZmZmZmb2P5qZmZmZmfk/mpmZmZmZ+T8AAAAAAAD4PwAAAAAAAPg/ZmZmZmZm9j8AAAAAAAD4PzMzMzMzM/M/zczMzMzM9D9mZmZmZmb2P83MzMzMzPQ/AAAAAAAA+D/NzMzMzMz0P83MzMzMzPQ/zczMzMzM9D+amZmZmZn5P2ZmZmZmZv4/ZmZmZmZm9j+amZmZmZn5P2ZmZmZmZvY/AAAAAAAA+D9mZmZmZmb2P83MzMzMzBJAAAAAAAAAEkCamZmZmZkTQAAAAAAAABBAZmZmZmZmEkAAAAAAAAASQM3MzMzMzBJAZmZmZmZmCkBmZmZmZmYSQDMzMzMzMw9AAAAAAAAADEDNzMzMzMwQQAAAAAAAABBAzczMzMzMEkDNzMzMzMwMQJqZmZmZmRFAAAAAAAAAEkBmZmZmZmYQQAAAAAAAABJAMzMzMzMzD0AzMzMzMzMTQAAAAAAAABBAmpmZmZmZE0DNzMzMzMwSQDMzMzMzMxFAmpmZmZmZEUAzMzMzMzMTQAAAAAAAABRAAAAAAAAAEkAAAAAAAAAMQGZmZmZmZg5AmpmZmZmZDUAzMzMzMzMPQGZmZmZmZhRAAAAAAAAAEkAAAAAAAAASQM3MzMzMzBJAmpmZmZmZEUBmZmZmZmYQQAAAAAAAABBAmpmZmZmZEUBmZmZmZmYSQAAAAAAAABBAZmZmZmZmCkDNzMzMzMwQQM3MzMzMzBBAzczMzMzMEEAzMzMzMzMRQAAAAAAAAAhAZmZmZmZmEEAAAAAAAAAYQGZmZmZmZhRAmpmZmZmZF0BmZmZmZmYWQDMzMzMzMxdAZmZmZmZmGkAAAAAAAAASQDMzMzMzMxlAMzMzMzMzF0BmZmZmZmYYQGZmZmZmZhRAMzMzMzMzFUAAAAAAAAAWQAAAAAAAABRAZmZmZmZmFEAzMzMzMzMVQAAAAAAAABZAzczMzMzMGkCamZmZmZkbQAAAAAAAABRAzczMzMzMFkCamZmZmZkTQM3MzMzMzBpAmpmZmZmZE0DNzMzMzMwWQAAAAAAAABhAMzMzMzMzE0CamZmZmZkTQGZmZmZmZhZAMzMzMzMzF0BmZmZmZmYYQJqZmZmZmRlAZmZmZmZmFkBmZmZmZmYUQGZmZmZmZhZAZmZmZmZmGEBmZmZmZmYWQAAAAAAAABZAMzMzMzMzE0CamZmZmZkVQGZmZmZmZhZAZmZmZmZmFEBmZmZmZmYUQJqZmZmZmRdAzczMzMzMFkDNzMzMzMwUQAAAAAAAABRAzczMzMzMFECamZmZmZkVQGZmZmZmZhRA\",\"dtype\":\"float64\",\"shape\":[150]},\"petal_width\":{\"__ndarray__\":\"mpmZmZmZyT+amZmZmZnJP5qZmZmZmck/mpmZmZmZyT+amZmZmZnJP5qZmZmZmdk/MzMzMzMz0z+amZmZmZnJP5qZmZmZmck/mpmZmZmZuT+amZmZmZnJP5qZmZmZmck/mpmZmZmZuT+amZmZmZm5P5qZmZmZmck/mpmZmZmZ2T+amZmZmZnZPzMzMzMzM9M/MzMzMzMz0z8zMzMzMzPTP5qZmZmZmck/mpmZmZmZ2T+amZmZmZnJPwAAAAAAAOA/mpmZmZmZyT+amZmZmZnJP5qZmZmZmdk/mpmZmZmZyT+amZmZmZnJP5qZmZmZmck/mpmZmZmZyT+amZmZmZnZP5qZmZmZmbk/mpmZmZmZyT+amZmZmZnJP5qZmZmZmck/mpmZmZmZyT+amZmZmZm5P5qZmZmZmck/mpmZmZmZyT8zMzMzMzPTPzMzMzMzM9M/mpmZmZmZyT8zMzMzMzPjP5qZmZmZmdk/MzMzMzMz0z+amZmZmZnJP5qZmZmZmck/mpmZmZmZyT+amZmZmZnJP2ZmZmZmZvY/AAAAAAAA+D8AAAAAAAD4P83MzMzMzPQ/AAAAAAAA+D/NzMzMzMz0P5qZmZmZmfk/AAAAAAAA8D/NzMzMzMz0P2ZmZmZmZvY/AAAAAAAA8D8AAAAAAAD4PwAAAAAAAPA/ZmZmZmZm9j/NzMzMzMz0P2ZmZmZmZvY/AAAAAAAA+D8AAAAAAADwPwAAAAAAAPg/mpmZmZmZ8T/NzMzMzMz8P83MzMzMzPQ/AAAAAAAA+D8zMzMzMzPzP83MzMzMzPQ/ZmZmZmZm9j9mZmZmZmb2PzMzMzMzM/s/AAAAAAAA+D8AAAAAAADwP5qZmZmZmfE/AAAAAAAA8D8zMzMzMzPzP5qZmZmZmfk/AAAAAAAA+D+amZmZmZn5PwAAAAAAAPg/zczMzMzM9D/NzMzMzMz0P83MzMzMzPQ/MzMzMzMz8z9mZmZmZmb2PzMzMzMzM/M/AAAAAAAA8D/NzMzMzMz0PzMzMzMzM/M/zczMzMzM9D/NzMzMzMz0P5qZmZmZmfE/zczMzMzM9D8AAAAAAAAEQGZmZmZmZv4/zczMzMzMAEDNzMzMzMz8P5qZmZmZmQFAzczMzMzMAEAzMzMzMzP7P83MzMzMzPw/zczMzMzM/D8AAAAAAAAEQAAAAAAAAABAZmZmZmZm/j/NzMzMzMwAQAAAAAAAAABAMzMzMzMzA0BmZmZmZmYCQM3MzMzMzPw/mpmZmZmZAUBmZmZmZmYCQAAAAAAAAPg/ZmZmZmZmAkAAAAAAAAAAQAAAAAAAAABAzczMzMzM/D/NzMzMzMwAQM3MzMzMzPw/zczMzMzM/D/NzMzMzMz8P83MzMzMzABAmpmZmZmZ+T9mZmZmZmb+PwAAAAAAAABAmpmZmZmZAUAAAAAAAAD4P2ZmZmZmZvY/ZmZmZmZmAkAzMzMzMzMDQM3MzMzMzPw/zczMzMzM/D/NzMzMzMwAQDMzMzMzMwNAZmZmZmZmAkBmZmZmZmb+P2ZmZmZmZgJAAAAAAAAABEBmZmZmZmYCQGZmZmZmZv4/AAAAAAAAAEBmZmZmZmYCQM3MzMzMzPw/\",\"dtype\":\"float64\",\"shape\":[150]},\"sepal_length\":{\"__ndarray__\":\"ZmZmZmZmFECamZmZmZkTQM3MzMzMzBJAZmZmZmZmEkAAAAAAAAAUQJqZmZmZmRVAZmZmZmZmEkAAAAAAAAAUQJqZmZmZmRFAmpmZmZmZE0CamZmZmZkVQDMzMzMzMxNAMzMzMzMzE0AzMzMzMzMRQDMzMzMzMxdAzczMzMzMFkCamZmZmZkVQGZmZmZmZhRAzczMzMzMFkBmZmZmZmYUQJqZmZmZmRVAZmZmZmZmFEBmZmZmZmYSQGZmZmZmZhRAMzMzMzMzE0AAAAAAAAAUQAAAAAAAABRAzczMzMzMFEDNzMzMzMwUQM3MzMzMzBJAMzMzMzMzE0CamZmZmZkVQM3MzMzMzBRAAAAAAAAAFkCamZmZmZkTQAAAAAAAABRAAAAAAAAAFkCamZmZmZkTQJqZmZmZmRFAZmZmZmZmFEAAAAAAAAAUQAAAAAAAABJAmpmZmZmZEUAAAAAAAAAUQGZmZmZmZhRAMzMzMzMzE0BmZmZmZmYUQGZmZmZmZhJAMzMzMzMzFUAAAAAAAAAUQAAAAAAAABxAmpmZmZmZGUCamZmZmZkbQAAAAAAAABZAAAAAAAAAGkDNzMzMzMwWQDMzMzMzMxlAmpmZmZmZE0BmZmZmZmYaQM3MzMzMzBRAAAAAAAAAFECamZmZmZkXQAAAAAAAABhAZmZmZmZmGEBmZmZmZmYWQM3MzMzMzBpAZmZmZmZmFkAzMzMzMzMXQM3MzMzMzBhAZmZmZmZmFkCamZmZmZkXQGZmZmZmZhhAMzMzMzMzGUBmZmZmZmYYQJqZmZmZmRlAZmZmZmZmGkAzMzMzMzMbQM3MzMzMzBpAAAAAAAAAGEDNzMzMzMwWQAAAAAAAABZAAAAAAAAAFkAzMzMzMzMXQAAAAAAAABhAmpmZmZmZFUAAAAAAAAAYQM3MzMzMzBpAMzMzMzMzGUBmZmZmZmYWQAAAAAAAABZAAAAAAAAAFkBmZmZmZmYYQDMzMzMzMxdAAAAAAAAAFEBmZmZmZmYWQM3MzMzMzBZAzczMzMzMFkDNzMzMzMwYQGZmZmZmZhRAzczMzMzMFkAzMzMzMzMZQDMzMzMzMxdAZmZmZmZmHEAzMzMzMzMZQAAAAAAAABpAZmZmZmZmHkCamZmZmZkTQDMzMzMzMx1AzczMzMzMGkDNzMzMzMwcQAAAAAAAABpAmpmZmZmZGUAzMzMzMzMbQM3MzMzMzBZAMzMzMzMzF0CamZmZmZkZQAAAAAAAABpAzczMzMzMHkDNzMzMzMweQAAAAAAAABhAmpmZmZmZG0BmZmZmZmYWQM3MzMzMzB5AMzMzMzMzGUDNzMzMzMwaQM3MzMzMzBxAzczMzMzMGEBmZmZmZmYYQJqZmZmZmRlAzczMzMzMHECamZmZmZkdQJqZmZmZmR9AmpmZmZmZGUAzMzMzMzMZQGZmZmZmZhhAzczMzMzMHkAzMzMzMzMZQJqZmZmZmRlAAAAAAAAAGECamZmZmZkbQM3MzMzMzBpAmpmZmZmZG0AzMzMzMzMXQDMzMzMzMxtAzczMzMzMGkDNzMzMzMwaQDMzMzMzMxlAAAAAAAAAGkDNzMzMzMwYQJqZmZmZmRdA\",\"dtype\":\"float64\",\"shape\":[150]},\"sepal_width\":{\"__ndarray__\":\"AAAAAAAADEAAAAAAAAAIQJqZmZmZmQlAzczMzMzMCEDNzMzMzMwMQDMzMzMzMw9AMzMzMzMzC0AzMzMzMzMLQDMzMzMzMwdAzczMzMzMCECamZmZmZkNQDMzMzMzMwtAAAAAAAAACEAAAAAAAAAIQAAAAAAAABBAmpmZmZmZEUAzMzMzMzMPQAAAAAAAAAxAZmZmZmZmDkBmZmZmZmYOQDMzMzMzMwtAmpmZmZmZDUDNzMzMzMwMQGZmZmZmZgpAMzMzMzMzC0AAAAAAAAAIQDMzMzMzMwtAAAAAAAAADEAzMzMzMzMLQJqZmZmZmQlAzczMzMzMCEAzMzMzMzMLQGZmZmZmZhBAzczMzMzMEEDNzMzMzMwIQJqZmZmZmQlAAAAAAAAADEDNzMzMzMwMQAAAAAAAAAhAMzMzMzMzC0AAAAAAAAAMQGZmZmZmZgJAmpmZmZmZCUAAAAAAAAAMQGZmZmZmZg5AAAAAAAAACEBmZmZmZmYOQJqZmZmZmQlAmpmZmZmZDUBmZmZmZmYKQJqZmZmZmQlAmpmZmZmZCUDNzMzMzMwIQGZmZmZmZgJAZmZmZmZmBkBmZmZmZmYGQGZmZmZmZgpAMzMzMzMzA0AzMzMzMzMHQJqZmZmZmQVAAAAAAAAAAEAAAAAAAAAIQJqZmZmZmQFAMzMzMzMzB0AzMzMzMzMHQM3MzMzMzAhAAAAAAAAACECamZmZmZkFQJqZmZmZmQFAAAAAAAAABECamZmZmZkJQGZmZmZmZgZAAAAAAAAABEBmZmZmZmYGQDMzMzMzMwdAAAAAAAAACEBmZmZmZmYGQAAAAAAAAAhAMzMzMzMzB0DNzMzMzMwEQDMzMzMzMwNAMzMzMzMzA0CamZmZmZkFQJqZmZmZmQVAAAAAAAAACEAzMzMzMzMLQM3MzMzMzAhAZmZmZmZmAkAAAAAAAAAIQAAAAAAAAARAzczMzMzMBEAAAAAAAAAIQM3MzMzMzARAZmZmZmZmAkCamZmZmZkFQAAAAAAAAAhAMzMzMzMzB0AzMzMzMzMHQAAAAAAAAARAZmZmZmZmBkBmZmZmZmYKQJqZmZmZmQVAAAAAAAAACEAzMzMzMzMHQAAAAAAAAAhAAAAAAAAACEAAAAAAAAAEQDMzMzMzMwdAAAAAAAAABEDNzMzMzMwMQJqZmZmZmQlAmpmZmZmZBUAAAAAAAAAIQAAAAAAAAARAZmZmZmZmBkCamZmZmZkJQAAAAAAAAAhAZmZmZmZmDkDNzMzMzMwEQJqZmZmZmQFAmpmZmZmZCUBmZmZmZmYGQGZmZmZmZgZAmpmZmZmZBUBmZmZmZmYKQJqZmZmZmQlAZmZmZmZmBkAAAAAAAAAIQGZmZmZmZgZAAAAAAAAACEBmZmZmZmYGQGZmZmZmZg5AZmZmZmZmBkBmZmZmZmYGQM3MzMzMzARAAAAAAAAACEAzMzMzMzMLQM3MzMzMzAhAAAAAAAAACEDNzMzMzMwIQM3MzMzMzAhAzczMzMzMCECamZmZmZkFQJqZmZmZmQlAZmZmZmZmCkAAAAAAAAAIQAAAAAAAAARAAAAAAAAACEAzMzMzMzMLQAAAAAAAAAhA\",\"dtype\":\"float64\",\"shape\":[150]},\"species\":[\"setosa\",\"setosa\",\"setosa\",\"setosa\",\"setosa\",\"setosa\",\"setosa\",\"setosa\",\"setosa\",\"setosa\",\"setosa\",\"setosa\",\"setosa\",\"setosa\",\"setosa\",\"setosa\",\"setosa\",\"setosa\",\"setosa\",\"setosa\",\"setosa\",\"setosa\",\"setosa\",\"setosa\",\"setosa\",\"setosa\",\"setosa\",\"setosa\",\"setosa\",\"setosa\",\"setosa\",\"setosa\",\"setosa\",\"setosa\",\"setosa\",\"setosa\",\"setosa\",\"setosa\",\"setosa\",\"setosa\",\"setosa\",\"setosa\",\"setosa\",\"setosa\",\"setosa\",\"setosa\",\"setosa\",\"setosa\",\"setosa\",\"setosa\",\"versicolor\",\"versicolor\",\"versicolor\",\"versicolor\",\"versicolor\",\"versicolor\",\"versicolor\",\"versicolor\",\"versicolor\",\"versicolor\",\"versicolor\",\"versicolor\",\"versicolor\",\"versicolor\",\"versicolor\",\"versicolor\",\"versicolor\",\"versicolor\",\"versicolor\",\"versicolor\",\"versicolor\",\"versicolor\",\"versicolor\",\"versicolor\",\"versicolor\",\"versicolor\",\"versicolor\",\"versicolor\",\"versicolor\",\"versicolor\",\"versicolor\",\"versicolor\",\"versicolor\",\"versicolor\",\"versicolor\",\"versicolor\",\"versicolor\",\"versicolor\",\"versicolor\",\"versicolor\",\"versicolor\",\"versicolor\",\"versicolor\",\"versicolor\",\"versicolor\",\"versicolor\",\"versicolor\",\"versicolor\",\"versicolor\",\"versicolor\",\"virginica\",\"virginica\",\"virginica\",\"virginica\",\"virginica\",\"virginica\",\"virginica\",\"virginica\",\"virginica\",\"virginica\",\"virginica\",\"virginica\",\"virginica\",\"virginica\",\"virginica\",\"virginica\",\"virginica\",\"virginica\",\"virginica\",\"virginica\",\"virginica\",\"virginica\",\"virginica\",\"virginica\",\"virginica\",\"virginica\",\"virginica\",\"virginica\",\"virginica\",\"virginica\",\"virginica\",\"virginica\",\"virginica\",\"virginica\",\"virginica\",\"virginica\",\"virginica\",\"virginica\",\"virginica\",\"virginica\",\"virginica\",\"virginica\",\"virginica\",\"virginica\",\"virginica\",\"virginica\",\"virginica\",\"virginica\",\"virginica\",\"virginica\"]},\"selected\":null,\"selection_policy\":null},\"id\":\"eb6518d4-c4db-4360-a722-78f11e060d5e\",\"type\":\"ColumnDataSource\"},{\"attributes\":{\"callback\":null},\"id\":\"f0c9e407-22b7-4189-988b-0bbdbec7c552\",\"type\":\"DataRange1d\"},{\"attributes\":{\"formatter\":{\"id\":\"8956b0c1-8d8e-48b5-adaa-c219076e3331\",\"type\":\"BasicTickFormatter\"},\"plot\":{\"id\":\"a2a1f652-f261-48d2-bebf-1aa912e2e74c\",\"subtype\":\"Figure\",\"type\":\"Plot\"},\"ticker\":{\"id\":\"1842d3ca-4f83-47ed-bd4e-7f174cda7c55\",\"type\":\"BasicTicker\"}},\"id\":\"e8d30cd0-77bb-4c81-8e02-3b6f0cfbe07c\",\"type\":\"LinearAxis\"},{\"attributes\":{\"source\":{\"id\":\"eb6518d4-c4db-4360-a722-78f11e060d5e\",\"type\":\"ColumnDataSource\"}},\"id\":\"bee81c43-285f-4553-add6-a16cf7a374a7\",\"type\":\"CDSView\"},{\"attributes\":{},\"id\":\"1842d3ca-4f83-47ed-bd4e-7f174cda7c55\",\"type\":\"BasicTicker\"},{\"attributes\":{\"callback\":null},\"id\":\"ee441306-d37e-49d3-a905-8c1b98de62f8\",\"type\":\"DataRange1d\"},{\"attributes\":{},\"id\":\"ae5aa589-f236-43f6-9dca-ad0da202b558\",\"type\":\"BasicTickFormatter\"},{\"attributes\":{},\"id\":\"aaa623cc-1c1a-443b-97b1-965d10fe7a8e\",\"type\":\"HelpTool\"},{\"attributes\":{\"active_drag\":\"auto\",\"active_inspect\":\"auto\",\"active_scroll\":\"auto\",\"active_tap\":\"auto\",\"tools\":[{\"id\":\"d17e34be-bbb5-42cb-ae88-0d1b8aa9bab1\",\"type\":\"PanTool\"},{\"id\":\"5293af25-7c2d-4f2c-84dc-6315247f5597\",\"type\":\"WheelZoomTool\"},{\"id\":\"08219345-b292-490a-afda-18e7a9258de5\",\"type\":\"BoxZoomTool\"},{\"id\":\"fec8f560-9a22-4476-a271-45ce9484b600\",\"type\":\"SaveTool\"},{\"id\":\"1dda8ab9-aac1-4c76-a6d2-a5be1b2fdfd9\",\"type\":\"ResetTool\"},{\"id\":\"aaa623cc-1c1a-443b-97b1-965d10fe7a8e\",\"type\":\"HelpTool\"}]},\"id\":\"def08a4a-018d-4e91-9b19-4e92daccef6a\",\"type\":\"Toolbar\"},{\"attributes\":{},\"id\":\"1dda8ab9-aac1-4c76-a6d2-a5be1b2fdfd9\",\"type\":\"ResetTool\"},{\"attributes\":{},\"id\":\"fec8f560-9a22-4476-a271-45ce9484b600\",\"type\":\"SaveTool\"},{\"attributes\":{\"below\":[{\"id\":\"e8d30cd0-77bb-4c81-8e02-3b6f0cfbe07c\",\"type\":\"LinearAxis\"}],\"left\":[{\"id\":\"f1a964ad-a376-45eb-9c4a-88b02f64b967\",\"type\":\"LinearAxis\"}],\"plot_height\":400,\"plot_width\":400,\"renderers\":[{\"id\":\"e8d30cd0-77bb-4c81-8e02-3b6f0cfbe07c\",\"type\":\"LinearAxis\"},{\"id\":\"60ddf749-5620-4f89-9e02-27e8821d3246\",\"type\":\"Grid\"},{\"id\":\"f1a964ad-a376-45eb-9c4a-88b02f64b967\",\"type\":\"LinearAxis\"},{\"id\":\"8151eb06-c56c-4585-bfb0-0cf098f5c4c2\",\"type\":\"Grid\"},{\"id\":\"ccf94878-a2f6-4c7a-9c58-8dbe5aa9f5c8\",\"type\":\"BoxAnnotation\"},{\"id\":\"f83dbd46-1379-4b93-9f26-4811d420d4f5\",\"type\":\"GlyphRenderer\"}],\"title\":{\"id\":\"c102f156-fe01-4a81-9cff-e496be21b0e6\",\"type\":\"Title\"},\"toolbar\":{\"id\":\"def08a4a-018d-4e91-9b19-4e92daccef6a\",\"type\":\"Toolbar\"},\"x_range\":{\"id\":\"ee441306-d37e-49d3-a905-8c1b98de62f8\",\"type\":\"DataRange1d\"},\"x_scale\":{\"id\":\"6a2024f1-a5e4-4a7e-a56f-6e01cad78e9c\",\"type\":\"LinearScale\"},\"y_range\":{\"id\":\"f0c9e407-22b7-4189-988b-0bbdbec7c552\",\"type\":\"DataRange1d\"},\"y_scale\":{\"id\":\"d2f1dc31-c1f5-453a-865c-7e212c3d7a81\",\"type\":\"LinearScale\"}},\"id\":\"a2a1f652-f261-48d2-bebf-1aa912e2e74c\",\"subtype\":\"Figure\",\"type\":\"Plot\"}],\"root_ids\":[\"a2a1f652-f261-48d2-bebf-1aa912e2e74c\"]},\"title\":\"Bokeh Application\",\"version\":\"0.12.15\"}};\n",
       "  var render_items = [{\"docid\":\"ef7b67a7-d9b5-4d11-affe-b95db97e9ea1\",\"elementid\":\"0f3b2546-2c94-46d3-ac80-6147e327d6da\",\"modelid\":\"a2a1f652-f261-48d2-bebf-1aa912e2e74c\"}];\n",
       "  root.Bokeh.embed.embed_items_notebook(docs_json, render_items);\n",
       "\n",
       "  }\n",
       "  if (root.Bokeh !== undefined) {\n",
       "    embed_document(root);\n",
       "  } else {\n",
       "    var attempts = 0;\n",
       "    var timer = setInterval(function(root) {\n",
       "      if (root.Bokeh !== undefined) {\n",
       "        embed_document(root);\n",
       "        clearInterval(timer);\n",
       "      }\n",
       "      attempts++;\n",
       "      if (attempts > 100) {\n",
       "        console.log(\"Bokeh: ERROR: Unable to run BokehJS code because BokehJS library is missing\")\n",
       "        clearInterval(timer);\n",
       "      }\n",
       "    }, 10, root)\n",
       "  }\n",
       "})(window);"
      ],
      "application/vnd.bokehjs_exec.v0+json": ""
     },
     "metadata": {
      "application/vnd.bokehjs_exec.v0+json": {
       "id": "a2a1f652-f261-48d2-bebf-1aa912e2e74c"
      }
     },
     "output_type": "display_data"
    }
   ],
   "source": [
    "p = figure(plot_width = 400, plot_height = 400)\n",
    "p.circle('petal_length', 'petal_width', source = source)\n",
    "show(p)"
   ]
  },
  {
   "cell_type": "markdown",
   "metadata": {},
   "source": [
    "### Ejemplo 100m"
   ]
  },
  {
   "cell_type": "code",
   "execution_count": 43,
   "metadata": {},
   "outputs": [],
   "source": [
    "fileData = pd.read_csv(\"100m.csv\")"
   ]
  },
  {
   "cell_type": "code",
   "execution_count": 44,
   "metadata": {},
   "outputs": [
    {
     "data": {
      "text/plain": [
       "Index(['Name', 'Country', 'Medal', 'Time', 'Year', 'color'], dtype='object')"
      ]
     },
     "execution_count": 44,
     "metadata": {},
     "output_type": "execute_result"
    }
   ],
   "source": [
    "fileData.columns"
   ]
  },
  {
   "cell_type": "code",
   "execution_count": 45,
   "metadata": {},
   "outputs": [
    {
     "data": {
      "text/html": [
       "\n",
       "<div class=\"bk-root\">\n",
       "    <div class=\"bk-plotdiv\" id=\"87e397e6-051f-478c-8458-aa2f4520153f\"></div>\n",
       "</div>"
      ]
     },
     "metadata": {},
     "output_type": "display_data"
    },
    {
     "data": {
      "application/javascript": [
       "(function(root) {\n",
       "  function embed_document(root) {\n",
       "    \n",
       "  var docs_json = {\"44f369d7-374e-448c-9e62-a02abe6c0d33\":{\"roots\":{\"references\":[{\"attributes\":{\"formatter\":{\"id\":\"2f032cb5-6ebb-46e4-8886-efc17d0db22d\",\"type\":\"BasicTickFormatter\"},\"plot\":{\"id\":\"f32456e4-1d44-4081-aefb-8aa5dc70d607\",\"subtype\":\"Figure\",\"type\":\"Plot\"},\"ticker\":{\"id\":\"4b15c3a4-97fd-4378-b1ad-ccee954b17e1\",\"type\":\"BasicTicker\"}},\"id\":\"6546abf9-39bc-48c9-8ee3-290875361593\",\"type\":\"LinearAxis\"},{\"attributes\":{},\"id\":\"4b15c3a4-97fd-4378-b1ad-ccee954b17e1\",\"type\":\"BasicTicker\"},{\"attributes\":{\"formatter\":{\"id\":\"3f067b74-15a8-4eb5-8f82-ec3bb4b1cb8b\",\"type\":\"BasicTickFormatter\"},\"plot\":{\"id\":\"f32456e4-1d44-4081-aefb-8aa5dc70d607\",\"subtype\":\"Figure\",\"type\":\"Plot\"},\"ticker\":{\"id\":\"6c1bc862-9d85-4b50-8014-cda8c510f470\",\"type\":\"BasicTicker\"}},\"id\":\"a8b4ddff-f0b5-44f5-977c-bc45d345e418\",\"type\":\"LinearAxis\"},{\"attributes\":{},\"id\":\"6c1bc862-9d85-4b50-8014-cda8c510f470\",\"type\":\"BasicTicker\"},{\"attributes\":{\"below\":[{\"id\":\"6546abf9-39bc-48c9-8ee3-290875361593\",\"type\":\"LinearAxis\"}],\"left\":[{\"id\":\"a8b4ddff-f0b5-44f5-977c-bc45d345e418\",\"type\":\"LinearAxis\"}],\"plot_height\":400,\"plot_width\":400,\"renderers\":[{\"id\":\"6546abf9-39bc-48c9-8ee3-290875361593\",\"type\":\"LinearAxis\"},{\"id\":\"1a7dbd68-e8a1-41c2-a31a-d331d774fa59\",\"type\":\"Grid\"},{\"id\":\"a8b4ddff-f0b5-44f5-977c-bc45d345e418\",\"type\":\"LinearAxis\"},{\"id\":\"ce76d012-fb06-4982-b5fd-69b6443714ab\",\"type\":\"Grid\"},{\"id\":\"c3a0309e-d13f-4d99-99aa-984c63d73f6e\",\"type\":\"BoxAnnotation\"},{\"id\":\"2efe7c0c-0023-46f1-ac39-ed084c6aa2a9\",\"type\":\"GlyphRenderer\"}],\"title\":{\"id\":\"194ee8b0-eb72-4657-a803-de9a77b6c891\",\"type\":\"Title\"},\"toolbar\":{\"id\":\"2bc505eb-aa16-47c4-9ab1-3f5f0210cbde\",\"type\":\"Toolbar\"},\"x_range\":{\"id\":\"ef965c13-0671-4b4c-923a-d9c8010e025e\",\"type\":\"DataRange1d\"},\"x_scale\":{\"id\":\"416dcf9b-7b37-46fc-a7c8-201faa401e62\",\"type\":\"LinearScale\"},\"y_range\":{\"id\":\"3467876d-70f6-43b8-a784-f97d8238b0c2\",\"type\":\"DataRange1d\"},\"y_scale\":{\"id\":\"d222559b-75b3-4d7e-937f-5c7e92b70cc6\",\"type\":\"LinearScale\"}},\"id\":\"f32456e4-1d44-4081-aefb-8aa5dc70d607\",\"subtype\":\"Figure\",\"type\":\"Plot\"},{\"attributes\":{\"dimension\":1,\"plot\":{\"id\":\"f32456e4-1d44-4081-aefb-8aa5dc70d607\",\"subtype\":\"Figure\",\"type\":\"Plot\"},\"ticker\":{\"id\":\"6c1bc862-9d85-4b50-8014-cda8c510f470\",\"type\":\"BasicTicker\"}},\"id\":\"ce76d012-fb06-4982-b5fd-69b6443714ab\",\"type\":\"Grid\"},{\"attributes\":{\"callback\":null,\"column_names\":[\"Name\",\"Country\",\"Medal\",\"Time\",\"Year\",\"color\",\"index\"],\"data\":{\"Country\":[\"JAM\",\"JAM\",\"USA\",\"JAM\",\"TRI\",\"USA\",\"USA\",\"POR\",\"USA\",\"USA\",\"TRI\",\"BAR\",\"CAN\",\"NAM\",\"TRI\",\"GBR\",\"NAM\",\"USA\",\"USA\",\"GBR\",\"USA\",\"USA\",\"USA\",\"CAN\",\"GBR\",\"CUB\",\"BUL\",\"TRI\",\"JAM\",\"URS\",\"URS\",\"USA\",\"JAM\",\"USA\",\"JAM\",\"USA\",\"USA\",\"CUB\",\"CAN\",\"EUA\",\"USA\",\"GBR\",\"USA\",\"USA\",\"AUS\",\"USA\",\"JAM\",\"GBR\",\"USA\",\"USA\",\"PAN\",\"USA\",\"USA\",\"NED\",\"USA\",\"USA\",\"GER\",\"CAN\",\"GBR\",\"GER\",\"GBR\",\"USA\",\"NZL\",\"USA\",\"USA\",\"GBR\",\"USA\",\"USA\",\"USA\",\"RSA\",\"USA\",\"CAN\",\"USA\",\"USA\",\"AUS\",\"USA\",\"USA\",\"USA\",\"USA\",\"USA\",\"AUS\",\"USA\",\"GER\",\"HUN\",\"USA\"],\"Medal\":[\"GOLD\",\"SILVER\",\"BRONZE\",\"GOLD\",\"SILVER\",\"BRONZE\",\"GOLD\",\"SILVER\",\"BRONZE\",\"GOLD\",\"SILVER\",\"BRONZE\",\"GOLD\",\"SILVER\",\"BRONZE\",\"GOLD\",\"SILVER\",\"BRONZE\",\"GOLD\",\"SILVER\",\"BRONZE\",\"GOLD\",\"SILVER\",\"BRONZE\",\"GOLD\",\"SILVER\",\"BRONZE\",\"GOLD\",\"SILVER\",\"BRONZE\",\"GOLD\",\"SILVER\",\"BRONZE\",\"GOLD\",\"SILVER\",\"BRONZE\",\"GOLD\",\"SILVER\",\"BRONZE\",\"GOLD\",\"SILVER\",\"BRONZE\",\"GOLD\",\"SILVER\",\"BRONZE\",\"GOLD\",\"SILVER\",\"BRONZE\",\"GOLD\",\"SILVER\",\"BRONZE\",\"GOLD\",\"SILVER\",\"BRONZE\",\"GOLD\",\"SILVER\",\"BRONZE\",\"GOLD\",\"SILVER\",\"BRONZE\",\"GOLD\",\"SILVER\",\"BRONZE\",\"GOLD\",\"SILVER\",\"BRONZE\",\"GOLD\",\"SILVER\",\"BRONZE\",\"GOLD\",\"SILVER\",\"BRONZE\",\"GOLD\",\"SILVER\",\"BRONZE\",\"GOLD\",\"SILVER\",\"BRONZE\",\"GOLD\",\"SILVER\",\"BRONZE\",\"GOLD\",\"SILVER\",\"BRONZE\",\"BRONZE\"],\"Name\":[\"Usain Bolt\",\"Yohan Blake\",\"Justin Gatlin\",\"Usain Bolt\",\"Richard Thompson\",\"Walter Dix\",\"Justin Gatlin\",\"Francis Obikwelu\",\"Maurice Greene\",\"Maurice Greene\",\"Ato Boldon\",\"Obadele Thompson\",\"Donovan Bailey\",\"Frankie Fredericks\",\"Ato Boldon\",\"Linford Christie\",\"Frankie Fredericks\",\"Dennis Mitchell\",\"Carl Lewis\",\"Linford Christie\",\"Calvin Smith\",\"Carl Lewis\",\"Sam Graddy\",\"Ben Johnson\",\"Allan Wells\",\"Silvio Leonard Tartabull\",\"Petar Petrov\",\"Hasely Crawford\",\"Donald Quarrie\",\"Valery Borzov\",\"Valery Borzov\",\"Robert Taylor\",\"Lennox Miller\",\"Jim Hines\",\"Lennox Miller\",\"Charles Greene\",\"Bob Hayes\",\"Enrique Figuerola Camue\",\"Harry Jerome\",\"Armin Hary\",\"David Sime\",\"Peter Radford\",\"Bobby Joe Morrow\",\"W. Thane Baker\",\"Hector Hogan\",\"Lindy Remigino\",\"Herbert McKenley\",\"E. McDonald Bailey\",\"W. Harrison Dillard\",\"H. Norwood \\\"Barney\\\" Ewell\",\"Lloyd LaBeach\",\"Jesse Owens\",\"Ralph Metcalfe\",\"Martinus Osendarp\",\"T. \\\"Eddie\\\" Tolan\",\"Ralph Metcalfe\",\"Arthur Jonath\",\"Percy Williams\",\"John \\\"Jack\\\" London\",\"Georg Lammers\",\"Harold Abrahams\",\"Jackson Scholz\",\"Arthur Porritt\",\"Charles Paddock\",\"Morris Kirksey\",\"Harry Edward\",\"Ralph Craig\",\"Alvah Meyer\",\"Donald Lippincott\",\"Reginald Walker\",\"James Rector\",\"Robert Kerr\",\"Charles \\\"Archie\\\" Hahn\",\"Fay Moulton\",\"Nigel Barker\",\"Charles \\\"Archie\\\" Hahn\",\"Nathaniel Cartmell\",\"Bill Hogenson\",\"Frank Jarvis\",\"J. Walter Tewksbury\",\"Stanley Rowley\",\"Thomas Burke\",\"Fritz Hofmann\",\"Alojz Sokol\",\"Francis Lane\"],\"Time\":{\"__ndarray__\":\"w/UoXI9CI0AAAAAAAIAjQBSuR+F6lCNA4XoUrkdhI0BI4XoUrscjQFK4HoXr0SNAMzMzMzOzI0C4HoXrUbgjQD0K16NwvSNAPQrXo3C9I0B7FK5H4fojQBSuR+F6FCRArkfhehSuI0BI4XoUrscjQM3MzMzMzCNA7FG4HoXrI0AK16NwPQokQBSuR+F6FCRA16NwPQrXI0BxPQrXo/AjQHsUrkfh+iNAexSuR+H6I0DhehSuR2EkQHE9CtejcCRAAAAAAACAJEAAAAAAAIAkQEjhehSuxyRAH4XrUbgeJEApXI/C9SgkQEjhehSuRyRASOF6FK5HJEB7FK5H4XokQClcj8L1qCRAZmZmZmbmI0AUrkfhehQkQKRwPQrXIyRAAAAAAAAAJEBmZmZmZmYkQGZmZmZmZiRAZmZmZmZmJEBmZmZmZmYkQJqZmZmZmSRAAAAAAAAAJUAAAAAAAAAlQDMzMzMzMyVAzczMzMzMJEDNzMzMzMwkQM3MzMzMzCRAmpmZmZmZJEDNzMzMzMwkQM3MzMzMzCRAmpmZmZmZJEDNzMzMzMwkQAAAAAAAACVAmpmZmZmZJECamZmZmZkkQM3MzMzMzCRAmpmZmZmZJUDNzMzMzMwlQM3MzMzMzCVAMzMzMzMzJUCamZmZmZklQM3MzMzMzCVAmpmZmZmZJUDNzMzMzMwlQM3MzMzMzCVAmpmZmZmZJUDNzMzMzMwlQM3MzMzMzCVAmpmZmZmZJUAAAAAAAAAmQAAAAAAAACZAZmZmZmZmJkCamZmZmZkmQJqZmZmZmSZAAAAAAAAAJkBmZmZmZmYmQGZmZmZmZiZAAAAAAAAAJkAzMzMzMzMmQGZmZmZmZiZAAAAAAAAAKEBmZmZmZmYoQDMzMzMzMylAMzMzMzMzKUA=\",\"dtype\":\"float64\",\"shape\":[85]},\"Year\":[2012,2012,2012,2008,2008,2008,2004,2004,2004,2000,2000,2000,1996,1996,1996,1992,1992,1992,1988,1988,1988,1984,1984,1984,1980,1980,1980,1976,1976,1976,1972,1972,1972,1968,1968,1968,1964,1964,1964,1960,1960,1960,1956,1956,1956,1952,1952,1952,1948,1948,1948,1936,1936,1936,1932,1932,1932,1928,1928,1928,1924,1924,1924,1920,1920,1920,1912,1912,1912,1908,1908,1908,1906,1906,1906,1904,1904,1904,1900,1900,1900,1896,1896,1896,1896],\"color\":[\"goldenrod\",\"silver\",\"saddlebrown\",\"goldenrod\",\"silver\",\"saddlebrown\",\"goldenrod\",\"silver\",\"saddlebrown\",\"goldenrod\",\"silver\",\"saddlebrown\",\"goldenrod\",\"silver\",\"saddlebrown\",\"goldenrod\",\"silver\",\"saddlebrown\",\"goldenrod\",\"silver\",\"saddlebrown\",\"goldenrod\",\"silver\",\"saddlebrown\",\"goldenrod\",\"silver\",\"saddlebrown\",\"goldenrod\",\"silver\",\"saddlebrown\",\"goldenrod\",\"silver\",\"saddlebrown\",\"goldenrod\",\"silver\",\"saddlebrown\",\"goldenrod\",\"silver\",\"saddlebrown\",\"goldenrod\",\"silver\",\"saddlebrown\",\"goldenrod\",\"silver\",\"saddlebrown\",\"goldenrod\",\"silver\",\"saddlebrown\",\"goldenrod\",\"silver\",\"saddlebrown\",\"goldenrod\",\"silver\",\"saddlebrown\",\"goldenrod\",\"silver\",\"saddlebrown\",\"goldenrod\",\"silver\",\"saddlebrown\",\"goldenrod\",\"silver\",\"saddlebrown\",\"goldenrod\",\"silver\",\"saddlebrown\",\"goldenrod\",\"silver\",\"saddlebrown\",\"goldenrod\",\"silver\",\"saddlebrown\",\"goldenrod\",\"silver\",\"saddlebrown\",\"goldenrod\",\"silver\",\"saddlebrown\",\"goldenrod\",\"silver\",\"saddlebrown\",\"goldenrod\",\"silver\",\"saddlebrown\",\"saddlebrown\"],\"index\":[0,1,2,3,4,5,6,7,8,9,10,11,12,13,14,15,16,17,18,19,20,21,22,23,24,25,26,27,28,29,30,31,32,33,34,35,36,37,38,39,40,41,42,43,44,45,46,47,48,49,50,51,52,53,54,55,56,57,58,59,60,61,62,63,64,65,66,67,68,69,70,71,72,73,74,75,76,77,78,79,80,81,82,83,84]},\"selected\":null,\"selection_policy\":null},\"id\":\"bb0c401f-c801-4b09-9a4a-098cfb49429a\",\"type\":\"ColumnDataSource\"},{\"attributes\":{\"source\":{\"id\":\"bb0c401f-c801-4b09-9a4a-098cfb49429a\",\"type\":\"ColumnDataSource\"}},\"id\":\"45a8553f-86ac-4f93-93e2-c84e5da6e597\",\"type\":\"CDSView\"},{\"attributes\":{\"fill_alpha\":{\"value\":0.1},\"fill_color\":{\"value\":\"#1f77b4\"},\"line_alpha\":{\"value\":0.1},\"line_color\":{\"value\":\"#1f77b4\"},\"x\":{\"field\":\"Year\"},\"y\":{\"field\":\"Time\"}},\"id\":\"4302c01c-e816-488a-b6d7-516b4f82af57\",\"type\":\"Circle\"},{\"attributes\":{\"plot\":null,\"text\":\"\"},\"id\":\"194ee8b0-eb72-4657-a803-de9a77b6c891\",\"type\":\"Title\"},{\"attributes\":{\"fill_color\":{\"field\":\"color\"},\"line_color\":{\"field\":\"color\"},\"x\":{\"field\":\"Year\"},\"y\":{\"field\":\"Time\"}},\"id\":\"13a23f19-dda0-4899-9df9-7ec1a9840d8a\",\"type\":\"Circle\"},{\"attributes\":{},\"id\":\"2f032cb5-6ebb-46e4-8886-efc17d0db22d\",\"type\":\"BasicTickFormatter\"},{\"attributes\":{\"bottom_units\":\"screen\",\"fill_alpha\":{\"value\":0.5},\"fill_color\":{\"value\":\"lightgrey\"},\"left_units\":\"screen\",\"level\":\"overlay\",\"line_alpha\":{\"value\":1.0},\"line_color\":{\"value\":\"black\"},\"line_dash\":[4,4],\"line_width\":{\"value\":2},\"plot\":null,\"render_mode\":\"css\",\"right_units\":\"screen\",\"top_units\":\"screen\"},\"id\":\"c3a0309e-d13f-4d99-99aa-984c63d73f6e\",\"type\":\"BoxAnnotation\"},{\"attributes\":{},\"id\":\"8a89e22d-0d79-49a5-9175-207a2af7dac5\",\"type\":\"PanTool\"},{\"attributes\":{},\"id\":\"434dc39a-a980-4898-a554-b20ea533e153\",\"type\":\"HelpTool\"},{\"attributes\":{},\"id\":\"d222559b-75b3-4d7e-937f-5c7e92b70cc6\",\"type\":\"LinearScale\"},{\"attributes\":{},\"id\":\"1c2d67e7-8588-4e54-a870-c78aef661255\",\"type\":\"WheelZoomTool\"},{\"attributes\":{},\"id\":\"416dcf9b-7b37-46fc-a7c8-201faa401e62\",\"type\":\"LinearScale\"},{\"attributes\":{\"overlay\":{\"id\":\"c3a0309e-d13f-4d99-99aa-984c63d73f6e\",\"type\":\"BoxAnnotation\"}},\"id\":\"7fd5ada5-d11b-481d-8da1-9f528b4a303c\",\"type\":\"BoxZoomTool\"},{\"attributes\":{\"callback\":null},\"id\":\"3467876d-70f6-43b8-a784-f97d8238b0c2\",\"type\":\"DataRange1d\"},{\"attributes\":{},\"id\":\"9e24a74b-a954-4835-a761-09f9cb5e37f4\",\"type\":\"SaveTool\"},{\"attributes\":{\"data_source\":{\"id\":\"bb0c401f-c801-4b09-9a4a-098cfb49429a\",\"type\":\"ColumnDataSource\"},\"glyph\":{\"id\":\"13a23f19-dda0-4899-9df9-7ec1a9840d8a\",\"type\":\"Circle\"},\"hover_glyph\":null,\"muted_glyph\":null,\"nonselection_glyph\":{\"id\":\"4302c01c-e816-488a-b6d7-516b4f82af57\",\"type\":\"Circle\"},\"selection_glyph\":null,\"view\":{\"id\":\"45a8553f-86ac-4f93-93e2-c84e5da6e597\",\"type\":\"CDSView\"}},\"id\":\"2efe7c0c-0023-46f1-ac39-ed084c6aa2a9\",\"type\":\"GlyphRenderer\"},{\"attributes\":{\"callback\":null},\"id\":\"ef965c13-0671-4b4c-923a-d9c8010e025e\",\"type\":\"DataRange1d\"},{\"attributes\":{\"active_drag\":\"auto\",\"active_inspect\":\"auto\",\"active_scroll\":\"auto\",\"active_tap\":\"auto\",\"tools\":[{\"id\":\"8a89e22d-0d79-49a5-9175-207a2af7dac5\",\"type\":\"PanTool\"},{\"id\":\"1c2d67e7-8588-4e54-a870-c78aef661255\",\"type\":\"WheelZoomTool\"},{\"id\":\"7fd5ada5-d11b-481d-8da1-9f528b4a303c\",\"type\":\"BoxZoomTool\"},{\"id\":\"9e24a74b-a954-4835-a761-09f9cb5e37f4\",\"type\":\"SaveTool\"},{\"id\":\"4752d38d-1cad-4293-8239-025735bcf1d8\",\"type\":\"ResetTool\"},{\"id\":\"434dc39a-a980-4898-a554-b20ea533e153\",\"type\":\"HelpTool\"}]},\"id\":\"2bc505eb-aa16-47c4-9ab1-3f5f0210cbde\",\"type\":\"Toolbar\"},{\"attributes\":{},\"id\":\"4752d38d-1cad-4293-8239-025735bcf1d8\",\"type\":\"ResetTool\"},{\"attributes\":{},\"id\":\"3f067b74-15a8-4eb5-8f82-ec3bb4b1cb8b\",\"type\":\"BasicTickFormatter\"},{\"attributes\":{\"plot\":{\"id\":\"f32456e4-1d44-4081-aefb-8aa5dc70d607\",\"subtype\":\"Figure\",\"type\":\"Plot\"},\"ticker\":{\"id\":\"4b15c3a4-97fd-4378-b1ad-ccee954b17e1\",\"type\":\"BasicTicker\"}},\"id\":\"1a7dbd68-e8a1-41c2-a31a-d331d774fa59\",\"type\":\"Grid\"}],\"root_ids\":[\"f32456e4-1d44-4081-aefb-8aa5dc70d607\"]},\"title\":\"Bokeh Application\",\"version\":\"0.12.15\"}};\n",
       "  var render_items = [{\"docid\":\"44f369d7-374e-448c-9e62-a02abe6c0d33\",\"elementid\":\"87e397e6-051f-478c-8458-aa2f4520153f\",\"modelid\":\"f32456e4-1d44-4081-aefb-8aa5dc70d607\"}];\n",
       "  root.Bokeh.embed.embed_items_notebook(docs_json, render_items);\n",
       "\n",
       "  }\n",
       "  if (root.Bokeh !== undefined) {\n",
       "    embed_document(root);\n",
       "  } else {\n",
       "    var attempts = 0;\n",
       "    var timer = setInterval(function(root) {\n",
       "      if (root.Bokeh !== undefined) {\n",
       "        embed_document(root);\n",
       "        clearInterval(timer);\n",
       "      }\n",
       "      attempts++;\n",
       "      if (attempts > 100) {\n",
       "        console.log(\"Bokeh: ERROR: Unable to run BokehJS code because BokehJS library is missing\")\n",
       "        clearInterval(timer);\n",
       "      }\n",
       "    }, 10, root)\n",
       "  }\n",
       "})(window);"
      ],
      "application/vnd.bokehjs_exec.v0+json": ""
     },
     "metadata": {
      "application/vnd.bokehjs_exec.v0+json": {
       "id": "f32456e4-1d44-4081-aefb-8aa5dc70d607"
      }
     },
     "output_type": "display_data"
    }
   ],
   "source": [
    "dataSource = ColumnDataSource(fileData)\n",
    "p = figure(plot_width = 400, plot_height = 400)\n",
    "p.circle('Year', 'Time', source = dataSource, fill_color = 'color', line_color = 'color')\n",
    "show(p)"
   ]
  },
  {
   "cell_type": "markdown",
   "metadata": {},
   "source": [
    "### Mapear una columna a valores"
   ]
  },
  {
   "cell_type": "code",
   "execution_count": 46,
   "metadata": {},
   "outputs": [],
   "source": [
    "from bokeh.models import CategoricalColorMapper"
   ]
  },
  {
   "cell_type": "code",
   "execution_count": 47,
   "metadata": {},
   "outputs": [],
   "source": [
    "from bokeh.sampledata.autompg import autompg as df"
   ]
  },
  {
   "cell_type": "code",
   "execution_count": 48,
   "metadata": {},
   "outputs": [
    {
     "data": {
      "text/html": [
       "<div>\n",
       "<style scoped>\n",
       "    .dataframe tbody tr th:only-of-type {\n",
       "        vertical-align: middle;\n",
       "    }\n",
       "\n",
       "    .dataframe tbody tr th {\n",
       "        vertical-align: top;\n",
       "    }\n",
       "\n",
       "    .dataframe thead th {\n",
       "        text-align: right;\n",
       "    }\n",
       "</style>\n",
       "<table border=\"1\" class=\"dataframe\">\n",
       "  <thead>\n",
       "    <tr style=\"text-align: right;\">\n",
       "      <th></th>\n",
       "      <th>mpg</th>\n",
       "      <th>cyl</th>\n",
       "      <th>displ</th>\n",
       "      <th>hp</th>\n",
       "      <th>weight</th>\n",
       "      <th>accel</th>\n",
       "      <th>yr</th>\n",
       "      <th>origin</th>\n",
       "      <th>name</th>\n",
       "    </tr>\n",
       "  </thead>\n",
       "  <tbody>\n",
       "    <tr>\n",
       "      <th>0</th>\n",
       "      <td>18.0</td>\n",
       "      <td>8</td>\n",
       "      <td>307.0</td>\n",
       "      <td>130</td>\n",
       "      <td>3504</td>\n",
       "      <td>12.0</td>\n",
       "      <td>70</td>\n",
       "      <td>1</td>\n",
       "      <td>chevrolet chevelle malibu</td>\n",
       "    </tr>\n",
       "    <tr>\n",
       "      <th>1</th>\n",
       "      <td>15.0</td>\n",
       "      <td>8</td>\n",
       "      <td>350.0</td>\n",
       "      <td>165</td>\n",
       "      <td>3693</td>\n",
       "      <td>11.5</td>\n",
       "      <td>70</td>\n",
       "      <td>1</td>\n",
       "      <td>buick skylark 320</td>\n",
       "    </tr>\n",
       "    <tr>\n",
       "      <th>2</th>\n",
       "      <td>18.0</td>\n",
       "      <td>8</td>\n",
       "      <td>318.0</td>\n",
       "      <td>150</td>\n",
       "      <td>3436</td>\n",
       "      <td>11.0</td>\n",
       "      <td>70</td>\n",
       "      <td>1</td>\n",
       "      <td>plymouth satellite</td>\n",
       "    </tr>\n",
       "    <tr>\n",
       "      <th>3</th>\n",
       "      <td>16.0</td>\n",
       "      <td>8</td>\n",
       "      <td>304.0</td>\n",
       "      <td>150</td>\n",
       "      <td>3433</td>\n",
       "      <td>12.0</td>\n",
       "      <td>70</td>\n",
       "      <td>1</td>\n",
       "      <td>amc rebel sst</td>\n",
       "    </tr>\n",
       "    <tr>\n",
       "      <th>4</th>\n",
       "      <td>17.0</td>\n",
       "      <td>8</td>\n",
       "      <td>302.0</td>\n",
       "      <td>140</td>\n",
       "      <td>3449</td>\n",
       "      <td>10.5</td>\n",
       "      <td>70</td>\n",
       "      <td>1</td>\n",
       "      <td>ford torino</td>\n",
       "    </tr>\n",
       "  </tbody>\n",
       "</table>\n",
       "</div>"
      ],
      "text/plain": [
       "    mpg  cyl  displ   hp  weight  accel  yr  origin                       name\n",
       "0  18.0    8  307.0  130    3504   12.0  70       1  chevrolet chevelle malibu\n",
       "1  15.0    8  350.0  165    3693   11.5  70       1          buick skylark 320\n",
       "2  18.0    8  318.0  150    3436   11.0  70       1         plymouth satellite\n",
       "3  16.0    8  304.0  150    3433   12.0  70       1              amc rebel sst\n",
       "4  17.0    8  302.0  140    3449   10.5  70       1                ford torino"
      ]
     },
     "execution_count": 48,
     "metadata": {},
     "output_type": "execute_result"
    }
   ],
   "source": [
    "df.head()"
   ]
  },
  {
   "cell_type": "code",
   "execution_count": 49,
   "metadata": {},
   "outputs": [
    {
     "name": "stdout",
     "output_type": "stream",
     "text": [
      "<class 'pandas.core.frame.DataFrame'>\n",
      "RangeIndex: 392 entries, 0 to 391\n",
      "Data columns (total 9 columns):\n",
      "mpg       392 non-null float64\n",
      "cyl       392 non-null int64\n",
      "displ     392 non-null float64\n",
      "hp        392 non-null int64\n",
      "weight    392 non-null int64\n",
      "accel     392 non-null float64\n",
      "yr        392 non-null int64\n",
      "origin    392 non-null int64\n",
      "name      392 non-null object\n",
      "dtypes: float64(3), int64(5), object(1)\n",
      "memory usage: 27.6+ KB\n"
     ]
    }
   ],
   "source": [
    "df.info()"
   ]
  },
  {
   "cell_type": "code",
   "execution_count": 50,
   "metadata": {},
   "outputs": [],
   "source": [
    "df['origin'] = df['origin'].astype('str') # Cambiar el tipo de datos de origin"
   ]
  },
  {
   "cell_type": "code",
   "execution_count": 51,
   "metadata": {},
   "outputs": [
    {
     "name": "stdout",
     "output_type": "stream",
     "text": [
      "<class 'pandas.core.frame.DataFrame'>\n",
      "RangeIndex: 392 entries, 0 to 391\n",
      "Data columns (total 9 columns):\n",
      "mpg       392 non-null float64\n",
      "cyl       392 non-null int64\n",
      "displ     392 non-null float64\n",
      "hp        392 non-null int64\n",
      "weight    392 non-null int64\n",
      "accel     392 non-null float64\n",
      "yr        392 non-null int64\n",
      "origin    392 non-null object\n",
      "name      392 non-null object\n",
      "dtypes: float64(3), int64(4), object(2)\n",
      "memory usage: 27.6+ KB\n"
     ]
    }
   ],
   "source": [
    "df.info()"
   ]
  },
  {
   "cell_type": "code",
   "execution_count": 52,
   "metadata": {},
   "outputs": [],
   "source": [
    "source = ColumnDataSource(df)\n",
    "color_mapper = CategoricalColorMapper(factors = ['1', '2', '3'], palette = ['red', 'green', 'blue'])"
   ]
  },
  {
   "cell_type": "code",
   "execution_count": 53,
   "metadata": {},
   "outputs": [
    {
     "data": {
      "text/html": [
       "\n",
       "<div class=\"bk-root\">\n",
       "    <div class=\"bk-plotdiv\" id=\"47904058-9591-4244-b140-3b27d634480d\"></div>\n",
       "</div>"
      ]
     },
     "metadata": {},
     "output_type": "display_data"
    },
    {
     "data": {
      "application/javascript": [
       "(function(root) {\n",
       "  function embed_document(root) {\n",
       "    \n",
       "  var docs_json = {\"ac37b556-6ae8-491c-8b7f-66e49f36ea20\":{\"roots\":{\"references\":[{\"attributes\":{\"formatter\":{\"id\":\"70e8946b-d7cb-4a00-b66b-9443440fffac\",\"type\":\"BasicTickFormatter\"},\"plot\":{\"id\":\"02545452-3439-4060-af99-1e8fbc41a8bc\",\"subtype\":\"Figure\",\"type\":\"Plot\"},\"ticker\":{\"id\":\"4ad6dd13-37a2-4aa2-a0d6-ff3fdf04d171\",\"type\":\"BasicTicker\"}},\"id\":\"b97045a3-f9a7-4a9c-88d4-dec2cf55cf6f\",\"type\":\"LinearAxis\"},{\"attributes\":{\"data_source\":{\"id\":\"08b2253c-fbf8-4cec-a9d5-92ec56b9ca16\",\"type\":\"ColumnDataSource\"},\"glyph\":{\"id\":\"f71d1dec-3356-4d70-bf96-2ea8bed197d6\",\"type\":\"Circle\"},\"hover_glyph\":null,\"muted_glyph\":null,\"nonselection_glyph\":{\"id\":\"b911af02-fabe-4663-b16b-66b7a0b73ed7\",\"type\":\"Circle\"},\"selection_glyph\":null,\"view\":{\"id\":\"c0fc64f6-3961-4893-a35b-9181caf54a89\",\"type\":\"CDSView\"}},\"id\":\"999e581c-4073-40d6-916c-62ce1c53ad9f\",\"type\":\"GlyphRenderer\"},{\"attributes\":{},\"id\":\"4ad6dd13-37a2-4aa2-a0d6-ff3fdf04d171\",\"type\":\"BasicTicker\"},{\"attributes\":{\"label\":{\"field\":\"origin\"},\"renderers\":[{\"id\":\"999e581c-4073-40d6-916c-62ce1c53ad9f\",\"type\":\"GlyphRenderer\"}]},\"id\":\"358ff752-4bd7-409c-8db8-f1a6185ab14b\",\"type\":\"LegendItem\"},{\"attributes\":{\"fill_color\":{\"field\":\"origin\",\"transform\":{\"id\":\"ec851a91-a5d6-401f-a2eb-e3c6e3fb5de5\",\"type\":\"CategoricalColorMapper\"}},\"line_color\":{\"field\":\"origin\",\"transform\":{\"id\":\"ec851a91-a5d6-401f-a2eb-e3c6e3fb5de5\",\"type\":\"CategoricalColorMapper\"}},\"x\":{\"field\":\"weight\"},\"y\":{\"field\":\"mpg\"}},\"id\":\"f71d1dec-3356-4d70-bf96-2ea8bed197d6\",\"type\":\"Circle\"},{\"attributes\":{\"items\":[{\"id\":\"358ff752-4bd7-409c-8db8-f1a6185ab14b\",\"type\":\"LegendItem\"}],\"plot\":{\"id\":\"02545452-3439-4060-af99-1e8fbc41a8bc\",\"subtype\":\"Figure\",\"type\":\"Plot\"}},\"id\":\"ad1fe2c6-4533-44c9-917f-844f898023e1\",\"type\":\"Legend\"},{\"attributes\":{\"formatter\":{\"id\":\"7f001363-a2bf-4cce-9f91-88e9fa3e893c\",\"type\":\"BasicTickFormatter\"},\"plot\":{\"id\":\"02545452-3439-4060-af99-1e8fbc41a8bc\",\"subtype\":\"Figure\",\"type\":\"Plot\"},\"ticker\":{\"id\":\"802d7a81-a094-4a88-b2c9-817751049234\",\"type\":\"BasicTicker\"}},\"id\":\"188e8fe8-3d50-4a9c-a1f8-d070a639bbda\",\"type\":\"LinearAxis\"},{\"attributes\":{},\"id\":\"802d7a81-a094-4a88-b2c9-817751049234\",\"type\":\"BasicTicker\"},{\"attributes\":{\"dimension\":1,\"plot\":{\"id\":\"02545452-3439-4060-af99-1e8fbc41a8bc\",\"subtype\":\"Figure\",\"type\":\"Plot\"},\"ticker\":{\"id\":\"802d7a81-a094-4a88-b2c9-817751049234\",\"type\":\"BasicTicker\"}},\"id\":\"ac0a7305-4291-4798-9e98-10c096482524\",\"type\":\"Grid\"},{\"attributes\":{\"fill_alpha\":{\"value\":0.1},\"fill_color\":{\"value\":\"#1f77b4\"},\"line_alpha\":{\"value\":0.1},\"line_color\":{\"value\":\"#1f77b4\"},\"x\":{\"field\":\"weight\"},\"y\":{\"field\":\"mpg\"}},\"id\":\"b911af02-fabe-4663-b16b-66b7a0b73ed7\",\"type\":\"Circle\"},{\"attributes\":{},\"id\":\"7f001363-a2bf-4cce-9f91-88e9fa3e893c\",\"type\":\"BasicTickFormatter\"},{\"attributes\":{\"below\":[{\"id\":\"b97045a3-f9a7-4a9c-88d4-dec2cf55cf6f\",\"type\":\"LinearAxis\"}],\"left\":[{\"id\":\"188e8fe8-3d50-4a9c-a1f8-d070a639bbda\",\"type\":\"LinearAxis\"}],\"renderers\":[{\"id\":\"b97045a3-f9a7-4a9c-88d4-dec2cf55cf6f\",\"type\":\"LinearAxis\"},{\"id\":\"16f99f18-a323-488d-ab53-054f43ecb093\",\"type\":\"Grid\"},{\"id\":\"188e8fe8-3d50-4a9c-a1f8-d070a639bbda\",\"type\":\"LinearAxis\"},{\"id\":\"ac0a7305-4291-4798-9e98-10c096482524\",\"type\":\"Grid\"},{\"id\":\"d34ca1a6-45d9-4dc5-b37d-48b2efe3400e\",\"type\":\"BoxAnnotation\"},{\"id\":\"ad1fe2c6-4533-44c9-917f-844f898023e1\",\"type\":\"Legend\"},{\"id\":\"999e581c-4073-40d6-916c-62ce1c53ad9f\",\"type\":\"GlyphRenderer\"}],\"title\":{\"id\":\"4e0c918e-193f-4e77-a29b-6838a24b8aeb\",\"type\":\"Title\"},\"toolbar\":{\"id\":\"b3b6df2e-bd62-4eea-b7b3-f88d4ebab50e\",\"type\":\"Toolbar\"},\"x_range\":{\"id\":\"ac552efa-40c4-4900-80d4-9b7af3e87e5e\",\"type\":\"DataRange1d\"},\"x_scale\":{\"id\":\"cbd773cd-175f-4751-8327-3ea86bbf61a9\",\"type\":\"LinearScale\"},\"y_range\":{\"id\":\"eb6d394d-615f-41dd-a766-9649a29622de\",\"type\":\"DataRange1d\"},\"y_scale\":{\"id\":\"57e240dd-1a8e-4ee0-8251-412398923250\",\"type\":\"LinearScale\"}},\"id\":\"02545452-3439-4060-af99-1e8fbc41a8bc\",\"subtype\":\"Figure\",\"type\":\"Plot\"},{\"attributes\":{\"bottom_units\":\"screen\",\"fill_alpha\":{\"value\":0.5},\"fill_color\":{\"value\":\"lightgrey\"},\"left_units\":\"screen\",\"level\":\"overlay\",\"line_alpha\":{\"value\":1.0},\"line_color\":{\"value\":\"black\"},\"line_dash\":[4,4],\"line_width\":{\"value\":2},\"plot\":null,\"render_mode\":\"css\",\"right_units\":\"screen\",\"top_units\":\"screen\"},\"id\":\"d34ca1a6-45d9-4dc5-b37d-48b2efe3400e\",\"type\":\"BoxAnnotation\"},{\"attributes\":{\"source\":{\"id\":\"08b2253c-fbf8-4cec-a9d5-92ec56b9ca16\",\"type\":\"ColumnDataSource\"}},\"id\":\"c0fc64f6-3961-4893-a35b-9181caf54a89\",\"type\":\"CDSView\"},{\"attributes\":{\"factors\":[\"1\",\"2\",\"3\"],\"palette\":[\"red\",\"green\",\"blue\"]},\"id\":\"ec851a91-a5d6-401f-a2eb-e3c6e3fb5de5\",\"type\":\"CategoricalColorMapper\"},{\"attributes\":{},\"id\":\"cc55cebf-ad09-4b7a-a198-0574ff413cde\",\"type\":\"PanTool\"},{\"attributes\":{\"active_drag\":\"auto\",\"active_inspect\":\"auto\",\"active_scroll\":\"auto\",\"active_tap\":\"auto\",\"tools\":[{\"id\":\"cc55cebf-ad09-4b7a-a198-0574ff413cde\",\"type\":\"PanTool\"},{\"id\":\"fe829f0a-566f-4fc0-828d-341b6bdd9d51\",\"type\":\"WheelZoomTool\"},{\"id\":\"37ccad79-efb1-4525-af79-85355635406e\",\"type\":\"BoxZoomTool\"},{\"id\":\"0e53cc79-7a84-4530-9e7c-dd81699b2a74\",\"type\":\"SaveTool\"},{\"id\":\"e666b0bd-fc30-421e-80fe-0d041b4fef44\",\"type\":\"ResetTool\"},{\"id\":\"9b38374d-c7ac-4577-86a6-a91961f8a181\",\"type\":\"HelpTool\"}]},\"id\":\"b3b6df2e-bd62-4eea-b7b3-f88d4ebab50e\",\"type\":\"Toolbar\"},{\"attributes\":{\"callback\":null,\"column_names\":[\"mpg\",\"cyl\",\"displ\",\"hp\",\"weight\",\"accel\",\"yr\",\"origin\",\"name\",\"index\"],\"data\":{\"accel\":{\"__ndarray__\":\"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\",\"dtype\":\"float64\",\"shape\":[392]},\"cyl\":[8,8,8,8,8,8,8,8,8,8,8,8,8,8,4,6,6,6,4,4,4,4,4,4,6,8,8,8,8,4,4,4,6,6,6,6,6,8,8,8,8,8,8,8,6,4,6,6,4,4,4,4,4,4,4,4,4,4,4,4,4,8,8,8,8,8,8,8,8,8,3,8,8,8,8,4,4,4,4,4,4,4,4,4,8,8,8,8,8,8,8,8,8,8,8,8,6,6,6,6,6,4,8,8,8,8,6,4,4,4,3,4,6,4,8,8,4,4,4,4,8,4,6,8,6,6,6,4,4,4,4,6,6,6,8,8,8,8,8,4,4,4,4,4,4,4,4,4,4,4,6,6,6,6,8,8,8,8,6,6,6,6,6,8,8,4,4,6,4,4,4,4,6,4,6,4,4,4,4,4,4,4,4,4,4,8,8,8,8,6,6,6,6,4,4,4,4,6,6,6,6,4,4,4,4,4,8,4,6,6,8,8,8,8,4,4,4,4,4,8,8,8,8,6,6,6,6,8,8,8,8,4,4,4,4,4,4,4,4,6,4,3,4,4,4,4,4,8,8,8,6,6,6,4,6,6,6,6,6,6,8,6,8,8,4,4,4,4,4,4,4,4,5,6,4,6,4,4,6,6,4,6,6,8,8,8,8,8,8,8,8,4,4,4,4,5,8,4,8,4,4,4,4,4,6,6,4,4,4,4,4,4,4,4,6,4,4,4,4,4,4,4,4,4,4,5,4,4,4,4,6,3,4,4,4,4,4,6,4,4,4,4,4,4,4,4,4,4,4,4,4,4,4,4,4,6,6,6,6,8,6,6,4,4,4,4,4,4,4,4,4,4,4,4,4,4,4,4,4,4,6,6,4,6,4,4,4,4,4,4,4,4],\"displ\":{\"__ndarray__\":\"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\",\"dtype\":\"float64\",\"shape\":[392]},\"hp\":[130,165,150,150,140,198,220,215,225,190,170,160,150,225,95,95,97,85,88,46,87,90,95,113,90,215,200,210,193,88,90,95,100,105,100,88,100,165,175,153,150,180,170,175,110,72,100,88,86,90,70,76,65,69,60,70,95,80,54,90,86,165,175,150,153,150,208,155,160,190,97,150,130,140,150,112,76,87,69,86,92,97,80,88,175,150,145,137,150,198,150,158,150,215,225,175,105,100,100,88,95,46,150,167,170,180,100,88,72,94,90,85,107,90,145,230,49,75,91,112,150,110,122,180,95,100,100,67,80,65,75,100,110,105,140,150,150,140,150,83,67,78,52,61,75,75,75,97,93,67,95,105,72,72,170,145,150,148,110,105,110,95,110,110,129,75,83,100,78,96,71,97,97,70,90,95,88,98,115,53,86,81,92,79,83,140,150,120,152,100,105,81,90,52,60,70,53,100,78,110,95,71,70,75,72,102,150,88,108,120,180,145,130,150,68,80,58,96,70,145,110,145,130,110,105,100,98,180,170,190,149,78,88,75,89,63,83,67,78,97,110,110,48,66,52,70,60,110,140,139,105,95,85,88,100,90,105,85,110,120,145,165,139,140,68,95,97,75,95,105,85,97,103,125,115,133,71,68,115,85,88,90,110,130,129,138,135,155,142,125,150,71,65,80,80,77,125,71,90,70,70,65,69,90,115,115,90,76,60,70,65,90,88,90,90,78,90,75,92,75,65,105,65,48,48,67,67,67,67,62,132,100,88,72,84,84,92,110,84,58,64,60,67,65,62,68,63,65,65,74,75,75,100,74,80,76,116,120,110,105,88,85,88,88,88,85,84,90,92,74,68,68,63,70,88,75,70,67,67,67,110,85,92,112,96,84,90,86,52,84,79,82],\"index\":[0,1,2,3,4,5,6,7,8,9,10,11,12,13,14,15,16,17,18,19,20,21,22,23,24,25,26,27,28,29,30,31,32,33,34,35,36,37,38,39,40,41,42,43,44,45,46,47,48,49,50,51,52,53,54,55,56,57,58,59,60,61,62,63,64,65,66,67,68,69,70,71,72,73,74,75,76,77,78,79,80,81,82,83,84,85,86,87,88,89,90,91,92,93,94,95,96,97,98,99,100,101,102,103,104,105,106,107,108,109,110,111,112,113,114,115,116,117,118,119,120,121,122,123,124,125,126,127,128,129,130,131,132,133,134,135,136,137,138,139,140,141,142,143,144,145,146,147,148,149,150,151,152,153,154,155,156,157,158,159,160,161,162,163,164,165,166,167,168,169,170,171,172,173,174,175,176,177,178,179,180,181,182,183,184,185,186,187,188,189,190,191,192,193,194,195,196,197,198,199,200,201,202,203,204,205,206,207,208,209,210,211,212,213,214,215,216,217,218,219,220,221,222,223,224,225,226,227,228,229,230,231,232,233,234,235,236,237,238,239,240,241,242,243,244,245,246,247,248,249,250,251,252,253,254,255,256,257,258,259,260,261,262,263,264,265,266,267,268,269,270,271,272,273,274,275,276,277,278,279,280,281,282,283,284,285,286,287,288,289,290,291,292,293,294,295,296,297,298,299,300,301,302,303,304,305,306,307,308,309,310,311,312,313,314,315,316,317,318,319,320,321,322,323,324,325,326,327,328,329,330,331,332,333,334,335,336,337,338,339,340,341,342,343,344,345,346,347,348,349,350,351,352,353,354,355,356,357,358,359,360,361,362,363,364,365,366,367,368,369,370,371,372,373,374,375,376,377,378,379,380,381,382,383,384,385,386,387,388,389,390,391],\"mpg\":{\"__ndarray__\":\"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\",\"dtype\":\"float64\",\"shape\":[392]},\"name\":[\"chevrolet chevelle malibu\",\"buick skylark 320\",\"plymouth satellite\",\"amc rebel sst\",\"ford torino\",\"ford galaxie 500\",\"chevrolet impala\",\"plymouth fury iii\",\"pontiac catalina\",\"amc ambassador dpl\",\"dodge challenger se\",\"plymouth 'cuda 340\",\"chevrolet monte carlo\",\"buick estate wagon (sw)\",\"toyota corona mark ii\",\"plymouth duster\",\"amc hornet\",\"ford maverick\",\"datsun pl510\",\"volkswagen 1131 deluxe sedan\",\"peugeot 504\",\"audi 100 ls\",\"saab 99e\",\"bmw 2002\",\"amc gremlin\",\"ford f250\",\"chevy c20\",\"dodge d200\",\"hi 1200d\",\"datsun pl510\",\"chevrolet vega 2300\",\"toyota corona\",\"amc gremlin\",\"plymouth satellite custom\",\"chevrolet chevelle malibu\",\"ford torino 500\",\"amc matador\",\"chevrolet impala\",\"pontiac catalina brougham\",\"ford galaxie 500\",\"plymouth fury iii\",\"dodge monaco (sw)\",\"ford country squire (sw)\",\"pontiac safari (sw)\",\"amc hornet sportabout (sw)\",\"chevrolet vega (sw)\",\"pontiac firebird\",\"ford mustang\",\"mercury capri 2000\",\"opel 1900\",\"peugeot 304\",\"fiat 124b\",\"toyota corolla 1200\",\"datsun 1200\",\"volkswagen model 111\",\"plymouth cricket\",\"toyota corona hardtop\",\"dodge colt hardtop\",\"volkswagen type 3\",\"chevrolet vega\",\"ford pinto runabout\",\"chevrolet impala\",\"pontiac catalina\",\"plymouth fury iii\",\"ford galaxie 500\",\"amc ambassador sst\",\"mercury marquis\",\"buick lesabre custom\",\"oldsmobile delta 88 royale\",\"chrysler newport royal\",\"mazda rx2 coupe\",\"amc matador (sw)\",\"chevrolet chevelle concours (sw)\",\"ford gran torino (sw)\",\"plymouth satellite custom (sw)\",\"volvo 145e (sw)\",\"volkswagen 411 (sw)\",\"peugeot 504 (sw)\",\"renault 12 (sw)\",\"ford pinto (sw)\",\"datsun 510 (sw)\",\"toyouta corona mark ii (sw)\",\"dodge colt (sw)\",\"toyota corolla 1600 (sw)\",\"buick century 350\",\"amc matador\",\"chevrolet malibu\",\"ford gran torino\",\"dodge coronet custom\",\"mercury marquis brougham\",\"chevrolet caprice classic\",\"ford ltd\",\"plymouth fury gran sedan\",\"chrysler new yorker brougham\",\"buick electra 225 custom\",\"amc ambassador brougham\",\"plymouth valiant\",\"chevrolet nova custom\",\"amc hornet\",\"ford maverick\",\"plymouth duster\",\"volkswagen super beetle\",\"chevrolet impala\",\"ford country\",\"plymouth custom suburb\",\"oldsmobile vista cruiser\",\"amc gremlin\",\"toyota carina\",\"chevrolet vega\",\"datsun 610\",\"maxda rx3\",\"ford pinto\",\"mercury capri v6\",\"fiat 124 sport coupe\",\"chevrolet monte carlo s\",\"pontiac grand prix\",\"fiat 128\",\"opel manta\",\"audi 100ls\",\"volvo 144ea\",\"dodge dart custom\",\"saab 99le\",\"toyota mark ii\",\"oldsmobile omega\",\"plymouth duster\",\"amc hornet\",\"chevrolet nova\",\"datsun b210\",\"ford pinto\",\"toyota corolla 1200\",\"chevrolet vega\",\"chevrolet chevelle malibu classic\",\"amc matador\",\"plymouth satellite sebring\",\"ford gran torino\",\"buick century luxus (sw)\",\"dodge coronet custom (sw)\",\"ford gran torino (sw)\",\"amc matador (sw)\",\"audi fox\",\"volkswagen dasher\",\"opel manta\",\"toyota corona\",\"datsun 710\",\"dodge colt\",\"fiat 128\",\"fiat 124 tc\",\"honda civic\",\"subaru\",\"fiat x1.9\",\"plymouth valiant custom\",\"chevrolet nova\",\"mercury monarch\",\"ford maverick\",\"pontiac catalina\",\"chevrolet bel air\",\"plymouth grand fury\",\"ford ltd\",\"buick century\",\"chevroelt chevelle malibu\",\"amc matador\",\"plymouth fury\",\"buick skyhawk\",\"chevrolet monza 2+2\",\"ford mustang ii\",\"toyota corolla\",\"ford pinto\",\"amc gremlin\",\"pontiac astro\",\"toyota corona\",\"volkswagen dasher\",\"datsun 710\",\"ford pinto\",\"volkswagen rabbit\",\"amc pacer\",\"audi 100ls\",\"peugeot 504\",\"volvo 244dl\",\"saab 99le\",\"honda civic cvcc\",\"fiat 131\",\"opel 1900\",\"capri ii\",\"dodge colt\",\"renault 12tl\",\"chevrolet chevelle malibu classic\",\"dodge coronet brougham\",\"amc matador\",\"ford gran torino\",\"plymouth valiant\",\"chevrolet nova\",\"ford maverick\",\"amc hornet\",\"chevrolet chevette\",\"chevrolet woody\",\"vw rabbit\",\"honda civic\",\"dodge aspen se\",\"ford granada ghia\",\"pontiac ventura sj\",\"amc pacer d/l\",\"volkswagen rabbit\",\"datsun b-210\",\"toyota corolla\",\"ford pinto\",\"volvo 245\",\"plymouth volare premier v8\",\"peugeot 504\",\"toyota mark ii\",\"mercedes-benz 280s\",\"cadillac seville\",\"chevy c10\",\"ford f108\",\"dodge d100\",\"honda accord cvcc\",\"buick opel isuzu deluxe\",\"renault 5 gtl\",\"plymouth arrow gs\",\"datsun f-10 hatchback\",\"chevrolet caprice classic\",\"oldsmobile cutlass supreme\",\"dodge monaco brougham\",\"mercury cougar brougham\",\"chevrolet concours\",\"buick skylark\",\"plymouth volare custom\",\"ford granada\",\"pontiac grand prix lj\",\"chevrolet monte carlo landau\",\"chrysler cordoba\",\"ford thunderbird\",\"volkswagen rabbit custom\",\"pontiac sunbird coupe\",\"toyota corolla liftback\",\"ford mustang ii 2+2\",\"chevrolet chevette\",\"dodge colt m/m\",\"subaru dl\",\"volkswagen dasher\",\"datsun 810\",\"bmw 320i\",\"mazda rx-4\",\"volkswagen rabbit custom diesel\",\"ford fiesta\",\"mazda glc deluxe\",\"datsun b210 gx\",\"honda civic cvcc\",\"oldsmobile cutlass salon brougham\",\"dodge diplomat\",\"mercury monarch ghia\",\"pontiac phoenix lj\",\"chevrolet malibu\",\"ford fairmont (auto)\",\"ford fairmont (man)\",\"plymouth volare\",\"amc concord\",\"buick century special\",\"mercury zephyr\",\"dodge aspen\",\"amc concord d/l\",\"chevrolet monte carlo landau\",\"buick regal sport coupe (turbo)\",\"ford futura\",\"dodge magnum xe\",\"chevrolet chevette\",\"toyota corona\",\"datsun 510\",\"dodge omni\",\"toyota celica gt liftback\",\"plymouth sapporo\",\"oldsmobile starfire sx\",\"datsun 200-sx\",\"audi 5000\",\"volvo 264gl\",\"saab 99gle\",\"peugeot 604sl\",\"volkswagen scirocco\",\"honda accord lx\",\"pontiac lemans v6\",\"mercury zephyr 6\",\"ford fairmont 4\",\"amc concord dl 6\",\"dodge aspen 6\",\"chevrolet caprice classic\",\"ford ltd landau\",\"mercury grand marquis\",\"dodge st. regis\",\"buick estate wagon (sw)\",\"ford country squire (sw)\",\"chevrolet malibu classic (sw)\",\"chrysler lebaron town @ country (sw)\",\"vw rabbit custom\",\"maxda glc deluxe\",\"dodge colt hatchback custom\",\"amc spirit dl\",\"mercedes benz 300d\",\"cadillac eldorado\",\"peugeot 504\",\"oldsmobile cutlass salon brougham\",\"plymouth horizon\",\"plymouth horizon tc3\",\"datsun 210\",\"fiat strada custom\",\"buick skylark limited\",\"chevrolet citation\",\"oldsmobile omega brougham\",\"pontiac phoenix\",\"vw rabbit\",\"toyota corolla tercel\",\"chevrolet chevette\",\"datsun 310\",\"chevrolet citation\",\"ford fairmont\",\"amc concord\",\"dodge aspen\",\"audi 4000\",\"toyota corona liftback\",\"mazda 626\",\"datsun 510 hatchback\",\"toyota corolla\",\"mazda glc\",\"dodge colt\",\"datsun 210\",\"vw rabbit c (diesel)\",\"vw dasher (diesel)\",\"audi 5000s (diesel)\",\"mercedes-benz 240d\",\"honda civic 1500 gl\",\"subaru dl\",\"vokswagen rabbit\",\"datsun 280-zx\",\"mazda rx-7 gs\",\"triumph tr7 coupe\",\"honda accord\",\"plymouth reliant\",\"buick skylark\",\"dodge aries wagon (sw)\",\"chevrolet citation\",\"plymouth reliant\",\"toyota starlet\",\"plymouth champ\",\"honda civic 1300\",\"subaru\",\"datsun 210 mpg\",\"toyota tercel\",\"mazda glc 4\",\"plymouth horizon 4\",\"ford escort 4w\",\"ford escort 2h\",\"volkswagen jetta\",\"honda prelude\",\"toyota corolla\",\"datsun 200sx\",\"mazda 626\",\"peugeot 505s turbo diesel\",\"volvo diesel\",\"toyota cressida\",\"datsun 810 maxima\",\"buick century\",\"oldsmobile cutlass ls\",\"ford granada gl\",\"chrysler lebaron salon\",\"chevrolet cavalier\",\"chevrolet cavalier wagon\",\"chevrolet cavalier 2-door\",\"pontiac j2000 se hatchback\",\"dodge aries se\",\"pontiac phoenix\",\"ford fairmont futura\",\"volkswagen rabbit l\",\"mazda glc custom l\",\"mazda glc custom\",\"plymouth horizon miser\",\"mercury lynx l\",\"nissan stanza xe\",\"honda accord\",\"toyota corolla\",\"honda civic\",\"honda civic (auto)\",\"datsun 310 gx\",\"buick century limited\",\"oldsmobile cutlass ciera (diesel)\",\"chrysler lebaron medallion\",\"ford granada l\",\"toyota celica gt\",\"dodge charger 2.2\",\"chevrolet camaro\",\"ford mustang gl\",\"vw pickup\",\"dodge rampage\",\"ford ranger\",\"chevy s-10\"],\"origin\":[\"1\",\"1\",\"1\",\"1\",\"1\",\"1\",\"1\",\"1\",\"1\",\"1\",\"1\",\"1\",\"1\",\"1\",\"3\",\"1\",\"1\",\"1\",\"3\",\"2\",\"2\",\"2\",\"2\",\"2\",\"1\",\"1\",\"1\",\"1\",\"1\",\"3\",\"1\",\"3\",\"1\",\"1\",\"1\",\"1\",\"1\",\"1\",\"1\",\"1\",\"1\",\"1\",\"1\",\"1\",\"1\",\"1\",\"1\",\"1\",\"1\",\"2\",\"2\",\"2\",\"3\",\"3\",\"2\",\"1\",\"3\",\"1\",\"2\",\"1\",\"1\",\"1\",\"1\",\"1\",\"1\",\"1\",\"1\",\"1\",\"1\",\"1\",\"3\",\"1\",\"1\",\"1\",\"1\",\"2\",\"2\",\"2\",\"2\",\"1\",\"3\",\"3\",\"1\",\"3\",\"1\",\"1\",\"1\",\"1\",\"1\",\"1\",\"1\",\"1\",\"1\",\"1\",\"1\",\"1\",\"1\",\"1\",\"1\",\"1\",\"1\",\"2\",\"1\",\"1\",\"1\",\"1\",\"1\",\"3\",\"1\",\"3\",\"3\",\"1\",\"1\",\"2\",\"1\",\"1\",\"2\",\"2\",\"2\",\"2\",\"1\",\"2\",\"3\",\"1\",\"1\",\"1\",\"1\",\"3\",\"1\",\"3\",\"1\",\"1\",\"1\",\"1\",\"1\",\"1\",\"1\",\"1\",\"1\",\"2\",\"2\",\"2\",\"3\",\"3\",\"1\",\"2\",\"2\",\"3\",\"3\",\"2\",\"1\",\"1\",\"1\",\"1\",\"1\",\"1\",\"1\",\"1\",\"1\",\"1\",\"1\",\"1\",\"1\",\"1\",\"1\",\"3\",\"1\",\"1\",\"1\",\"3\",\"2\",\"3\",\"1\",\"2\",\"1\",\"2\",\"2\",\"2\",\"2\",\"3\",\"2\",\"2\",\"1\",\"1\",\"2\",\"1\",\"1\",\"1\",\"1\",\"1\",\"1\",\"1\",\"1\",\"1\",\"1\",\"2\",\"3\",\"1\",\"1\",\"1\",\"1\",\"2\",\"3\",\"3\",\"1\",\"2\",\"1\",\"2\",\"3\",\"2\",\"1\",\"1\",\"1\",\"1\",\"3\",\"1\",\"2\",\"1\",\"3\",\"1\",\"1\",\"1\",\"1\",\"1\",\"1\",\"1\",\"1\",\"1\",\"1\",\"1\",\"1\",\"2\",\"1\",\"3\",\"1\",\"1\",\"1\",\"3\",\"2\",\"3\",\"2\",\"3\",\"2\",\"1\",\"3\",\"3\",\"3\",\"1\",\"1\",\"1\",\"1\",\"1\",\"1\",\"1\",\"1\",\"1\",\"1\",\"1\",\"1\",\"1\",\"1\",\"1\",\"1\",\"1\",\"1\",\"3\",\"3\",\"1\",\"3\",\"1\",\"1\",\"3\",\"2\",\"2\",\"2\",\"2\",\"2\",\"3\",\"1\",\"1\",\"1\",\"1\",\"1\",\"1\",\"1\",\"1\",\"1\",\"1\",\"1\",\"1\",\"1\",\"2\",\"3\",\"1\",\"1\",\"2\",\"1\",\"2\",\"1\",\"1\",\"1\",\"3\",\"2\",\"1\",\"1\",\"1\",\"1\",\"2\",\"3\",\"1\",\"3\",\"1\",\"1\",\"1\",\"1\",\"2\",\"3\",\"3\",\"3\",\"3\",\"3\",\"1\",\"3\",\"2\",\"2\",\"2\",\"2\",\"3\",\"3\",\"2\",\"3\",\"3\",\"2\",\"3\",\"1\",\"1\",\"1\",\"1\",\"1\",\"3\",\"1\",\"3\",\"3\",\"3\",\"3\",\"3\",\"1\",\"1\",\"1\",\"2\",\"3\",\"3\",\"3\",\"3\",\"2\",\"2\",\"3\",\"3\",\"1\",\"1\",\"1\",\"1\",\"1\",\"1\",\"1\",\"1\",\"1\",\"1\",\"1\",\"2\",\"3\",\"3\",\"1\",\"1\",\"3\",\"3\",\"3\",\"3\",\"3\",\"3\",\"1\",\"1\",\"1\",\"1\",\"3\",\"1\",\"1\",\"1\",\"2\",\"1\",\"1\",\"1\"],\"weight\":[3504,3693,3436,3433,3449,4341,4354,4312,4425,3850,3563,3609,3761,3086,2372,2833,2774,2587,2130,1835,2672,2430,2375,2234,2648,4615,4376,4382,4732,2130,2264,2228,2634,3439,3329,3302,3288,4209,4464,4154,4096,4955,4746,5140,2962,2408,3282,3139,2220,2123,2074,2065,1773,1613,1834,1955,2278,2126,2254,2408,2226,4274,4385,4135,4129,3672,4633,4502,4456,4422,2330,3892,4098,4294,4077,2933,2511,2979,2189,2395,2288,2506,2164,2100,4100,3672,3988,4042,3777,4952,4464,4363,4237,4735,4951,3821,3121,3278,2945,3021,2904,1950,4997,4906,4654,4499,2789,2279,2401,2379,2124,2310,2472,2265,4082,4278,1867,2158,2582,2868,3399,2660,2807,3664,3102,2901,3336,1950,2451,1836,2542,3781,3632,3613,4141,4699,4457,4638,4257,2219,1963,2300,1649,2003,2125,2108,2246,2489,2391,2000,3264,3459,3432,3158,4668,4440,4498,4657,3907,3897,3730,3785,3039,3221,3169,2171,2639,2914,2592,2702,2223,2545,2984,1937,3211,2694,2957,2945,2671,1795,2464,2220,2572,2255,2202,4215,4190,3962,4215,3233,3353,3012,3085,2035,2164,1937,1795,3651,3574,3645,3193,1825,1990,2155,2565,3150,3940,3270,2930,3820,4380,4055,3870,3755,2045,2155,1825,2300,1945,3880,4060,4140,4295,3520,3425,3630,3525,4220,4165,4325,4335,1940,2740,2265,2755,2051,2075,1985,2190,2815,2600,2720,1985,1800,1985,2070,1800,3365,3735,3570,3535,3155,2965,2720,3430,3210,3380,3070,3620,3410,3425,3445,3205,4080,2155,2560,2300,2230,2515,2745,2855,2405,2830,3140,2795,3410,1990,2135,3245,2990,2890,3265,3360,3840,3725,3955,3830,4360,4054,3605,3940,1925,1975,1915,2670,3530,3900,3190,3420,2200,2150,2020,2130,2670,2595,2700,2556,2144,1968,2120,2019,2678,2870,3003,3381,2188,2711,2542,2434,2265,2110,2800,2110,2085,2335,2950,3250,1850,2145,1845,2910,2420,2500,2290,2490,2635,2620,2725,2385,1755,1875,1760,2065,1975,2050,1985,2215,2045,2380,2190,2210,2350,2615,2635,3230,3160,2900,2930,3415,3725,3060,3465,2605,2640,2395,2575,2525,2735,2865,1980,2025,1970,2125,2125,2160,2205,2245,1965,1965,1995,2945,3015,2585,2835,2665,2370,2950,2790,2130,2295,2625,2720],\"yr\":[70,70,70,70,70,70,70,70,70,70,70,70,70,70,70,70,70,70,70,70,70,70,70,70,70,70,70,70,70,71,71,71,71,71,71,71,71,71,71,71,71,71,71,71,71,71,71,71,71,71,71,71,71,71,71,71,72,72,72,72,72,72,72,72,72,72,72,72,72,72,72,72,72,72,72,72,72,72,72,72,72,72,72,72,73,73,73,73,73,73,73,73,73,73,73,73,73,73,73,73,73,73,73,73,73,73,73,73,73,73,73,73,73,73,73,73,73,73,73,73,73,73,73,73,74,74,74,74,74,74,74,74,74,74,74,74,74,74,74,74,74,74,74,74,74,74,74,74,74,74,75,75,75,75,75,75,75,75,75,75,75,75,75,75,75,75,75,75,75,75,75,75,75,75,75,75,75,75,75,75,76,76,76,76,76,76,76,76,76,76,76,76,76,76,76,76,76,76,76,76,76,76,76,76,76,76,76,76,76,76,76,76,76,76,77,77,77,77,77,77,77,77,77,77,77,77,77,77,77,77,77,77,77,77,77,77,77,77,77,77,77,77,78,78,78,78,78,78,78,78,78,78,78,78,78,78,78,78,78,78,78,78,78,78,78,78,78,78,78,78,78,78,78,78,78,78,78,78,79,79,79,79,79,79,79,79,79,79,79,79,79,79,79,79,79,79,79,79,79,79,79,79,79,79,79,79,79,80,80,80,80,80,80,80,80,80,80,80,80,80,80,80,80,80,80,80,80,80,80,80,80,80,80,80,81,81,81,81,81,81,81,81,81,81,81,81,81,81,81,81,81,81,81,81,81,81,81,81,81,81,81,81,82,82,82,82,82,82,82,82,82,82,82,82,82,82,82,82,82,82,82,82,82,82,82,82,82,82,82,82,82,82]},\"selected\":null,\"selection_policy\":null},\"id\":\"08b2253c-fbf8-4cec-a9d5-92ec56b9ca16\",\"type\":\"ColumnDataSource\"},{\"attributes\":{},\"id\":\"70e8946b-d7cb-4a00-b66b-9443440fffac\",\"type\":\"BasicTickFormatter\"},{\"attributes\":{\"callback\":null},\"id\":\"ac552efa-40c4-4900-80d4-9b7af3e87e5e\",\"type\":\"DataRange1d\"},{\"attributes\":{},\"id\":\"fe829f0a-566f-4fc0-828d-341b6bdd9d51\",\"type\":\"WheelZoomTool\"},{\"attributes\":{\"plot\":null,\"text\":\"\"},\"id\":\"4e0c918e-193f-4e77-a29b-6838a24b8aeb\",\"type\":\"Title\"},{\"attributes\":{\"overlay\":{\"id\":\"d34ca1a6-45d9-4dc5-b37d-48b2efe3400e\",\"type\":\"BoxAnnotation\"}},\"id\":\"37ccad79-efb1-4525-af79-85355635406e\",\"type\":\"BoxZoomTool\"},{\"attributes\":{\"callback\":null},\"id\":\"eb6d394d-615f-41dd-a766-9649a29622de\",\"type\":\"DataRange1d\"},{\"attributes\":{},\"id\":\"0e53cc79-7a84-4530-9e7c-dd81699b2a74\",\"type\":\"SaveTool\"},{\"attributes\":{},\"id\":\"cbd773cd-175f-4751-8327-3ea86bbf61a9\",\"type\":\"LinearScale\"},{\"attributes\":{},\"id\":\"e666b0bd-fc30-421e-80fe-0d041b4fef44\",\"type\":\"ResetTool\"},{\"attributes\":{},\"id\":\"57e240dd-1a8e-4ee0-8251-412398923250\",\"type\":\"LinearScale\"},{\"attributes\":{},\"id\":\"9b38374d-c7ac-4577-86a6-a91961f8a181\",\"type\":\"HelpTool\"},{\"attributes\":{\"plot\":{\"id\":\"02545452-3439-4060-af99-1e8fbc41a8bc\",\"subtype\":\"Figure\",\"type\":\"Plot\"},\"ticker\":{\"id\":\"4ad6dd13-37a2-4aa2-a0d6-ff3fdf04d171\",\"type\":\"BasicTicker\"}},\"id\":\"16f99f18-a323-488d-ab53-054f43ecb093\",\"type\":\"Grid\"}],\"root_ids\":[\"02545452-3439-4060-af99-1e8fbc41a8bc\"]},\"title\":\"Bokeh Application\",\"version\":\"0.12.15\"}};\n",
       "  var render_items = [{\"docid\":\"ac37b556-6ae8-491c-8b7f-66e49f36ea20\",\"elementid\":\"47904058-9591-4244-b140-3b27d634480d\",\"modelid\":\"02545452-3439-4060-af99-1e8fbc41a8bc\"}];\n",
       "  root.Bokeh.embed.embed_items_notebook(docs_json, render_items);\n",
       "\n",
       "  }\n",
       "  if (root.Bokeh !== undefined) {\n",
       "    embed_document(root);\n",
       "  } else {\n",
       "    var attempts = 0;\n",
       "    var timer = setInterval(function(root) {\n",
       "      if (root.Bokeh !== undefined) {\n",
       "        embed_document(root);\n",
       "        clearInterval(timer);\n",
       "      }\n",
       "      attempts++;\n",
       "      if (attempts > 100) {\n",
       "        console.log(\"Bokeh: ERROR: Unable to run BokehJS code because BokehJS library is missing\")\n",
       "        clearInterval(timer);\n",
       "      }\n",
       "    }, 10, root)\n",
       "  }\n",
       "})(window);"
      ],
      "application/vnd.bokehjs_exec.v0+json": ""
     },
     "metadata": {
      "application/vnd.bokehjs_exec.v0+json": {
       "id": "02545452-3439-4060-af99-1e8fbc41a8bc"
      }
     },
     "output_type": "display_data"
    }
   ],
   "source": [
    "p = figure()\n",
    "p.circle('weight', 'mpg', source = source,\n",
    "        color = {'field': 'origin', 'transform': color_mapper},\n",
    "        legend = 'origin')\n",
    "show(p)"
   ]
  },
  {
   "cell_type": "code",
   "execution_count": 54,
   "metadata": {},
   "outputs": [
    {
     "data": {
      "text/html": [
       "<div>\n",
       "<style scoped>\n",
       "    .dataframe tbody tr th:only-of-type {\n",
       "        vertical-align: middle;\n",
       "    }\n",
       "\n",
       "    .dataframe tbody tr th {\n",
       "        vertical-align: top;\n",
       "    }\n",
       "\n",
       "    .dataframe thead th {\n",
       "        text-align: right;\n",
       "    }\n",
       "</style>\n",
       "<table border=\"1\" class=\"dataframe\">\n",
       "  <thead>\n",
       "    <tr style=\"text-align: right;\">\n",
       "      <th></th>\n",
       "      <th>Name</th>\n",
       "      <th>Country</th>\n",
       "      <th>Medal</th>\n",
       "      <th>Time</th>\n",
       "      <th>Year</th>\n",
       "    </tr>\n",
       "  </thead>\n",
       "  <tbody>\n",
       "    <tr>\n",
       "      <th>0</th>\n",
       "      <td>Usain Bolt</td>\n",
       "      <td>JAM</td>\n",
       "      <td>GOLD</td>\n",
       "      <td>9.63</td>\n",
       "      <td>2012</td>\n",
       "    </tr>\n",
       "    <tr>\n",
       "      <th>1</th>\n",
       "      <td>Yohan Blake</td>\n",
       "      <td>JAM</td>\n",
       "      <td>SILVER</td>\n",
       "      <td>9.75</td>\n",
       "      <td>2012</td>\n",
       "    </tr>\n",
       "    <tr>\n",
       "      <th>2</th>\n",
       "      <td>Justin Gatlin</td>\n",
       "      <td>USA</td>\n",
       "      <td>BRONZE</td>\n",
       "      <td>9.79</td>\n",
       "      <td>2012</td>\n",
       "    </tr>\n",
       "    <tr>\n",
       "      <th>3</th>\n",
       "      <td>Usain Bolt</td>\n",
       "      <td>JAM</td>\n",
       "      <td>GOLD</td>\n",
       "      <td>9.69</td>\n",
       "      <td>2008</td>\n",
       "    </tr>\n",
       "    <tr>\n",
       "      <th>4</th>\n",
       "      <td>Richard Thompson</td>\n",
       "      <td>TRI</td>\n",
       "      <td>SILVER</td>\n",
       "      <td>9.89</td>\n",
       "      <td>2008</td>\n",
       "    </tr>\n",
       "  </tbody>\n",
       "</table>\n",
       "</div>"
      ],
      "text/plain": [
       "               Name Country   Medal  Time  Year\n",
       "0        Usain Bolt     JAM    GOLD  9.63  2012\n",
       "1       Yohan Blake     JAM  SILVER  9.75  2012\n",
       "2     Justin Gatlin     USA  BRONZE  9.79  2012\n",
       "3        Usain Bolt     JAM    GOLD  9.69  2008\n",
       "4  Richard Thompson     TRI  SILVER  9.89  2008"
      ]
     },
     "execution_count": 54,
     "metadata": {},
     "output_type": "execute_result"
    }
   ],
   "source": [
    "fileData = pd.read_csv(\"100m.csv\")\n",
    "fileData.drop('color', axis = 1, inplace = True)\n",
    "fileData.head()"
   ]
  },
  {
   "cell_type": "code",
   "execution_count": 55,
   "metadata": {},
   "outputs": [
    {
     "data": {
      "text/html": [
       "\n",
       "<div class=\"bk-root\">\n",
       "    <div class=\"bk-plotdiv\" id=\"e654e122-c635-40f1-a63f-482afa814c7e\"></div>\n",
       "</div>"
      ]
     },
     "metadata": {},
     "output_type": "display_data"
    },
    {
     "data": {
      "application/javascript": [
       "(function(root) {\n",
       "  function embed_document(root) {\n",
       "    \n",
       "  var docs_json = {\"e891b191-31b6-4adf-b76c-4085b235ce56\":{\"roots\":{\"references\":[{\"attributes\":{\"callback\":null},\"id\":\"e528cbfe-1bdc-4514-ab47-46848c6b8077\",\"type\":\"DataRange1d\"},{\"attributes\":{\"bottom_units\":\"screen\",\"fill_alpha\":{\"value\":0.5},\"fill_color\":{\"value\":\"lightgrey\"},\"left_units\":\"screen\",\"level\":\"overlay\",\"line_alpha\":{\"value\":1.0},\"line_color\":{\"value\":\"black\"},\"line_dash\":[4,4],\"line_width\":{\"value\":2},\"plot\":null,\"render_mode\":\"css\",\"right_units\":\"screen\",\"top_units\":\"screen\"},\"id\":\"3fbceb0c-7457-418f-836e-56b8dde56b15\",\"type\":\"BoxAnnotation\"},{\"attributes\":{\"active_drag\":\"auto\",\"active_inspect\":\"auto\",\"active_scroll\":\"auto\",\"active_tap\":\"auto\",\"tools\":[{\"id\":\"6712e3ae-9458-4ead-a955-01f8d643363b\",\"type\":\"PanTool\"},{\"id\":\"2db636ba-7d0a-4760-b83c-ab7cfa8d57b5\",\"type\":\"WheelZoomTool\"},{\"id\":\"825bd1b6-c17a-4110-8fc7-186e575f7eba\",\"type\":\"BoxZoomTool\"},{\"id\":\"2e1841b0-1b1c-4466-8dd4-dbf93571d052\",\"type\":\"SaveTool\"},{\"id\":\"aa6846a6-8e81-4a22-9153-9ecf23162489\",\"type\":\"ResetTool\"},{\"id\":\"719f162e-25a9-4f71-8e35-00fab30a1da8\",\"type\":\"HelpTool\"}]},\"id\":\"09a57087-d7e8-4c57-9415-93cd9d500ee7\",\"type\":\"Toolbar\"},{\"attributes\":{\"overlay\":{\"id\":\"3fbceb0c-7457-418f-836e-56b8dde56b15\",\"type\":\"BoxAnnotation\"}},\"id\":\"825bd1b6-c17a-4110-8fc7-186e575f7eba\",\"type\":\"BoxZoomTool\"},{\"attributes\":{\"items\":[{\"id\":\"cd87f8a8-83b5-444f-8d61-8f7b0987478c\",\"type\":\"LegendItem\"}],\"plot\":{\"id\":\"f198eb58-b87f-47ec-b26f-fa73b7324da9\",\"subtype\":\"Figure\",\"type\":\"Plot\"}},\"id\":\"6d29c83d-c36e-4abc-83af-a4c2ea95bd8d\",\"type\":\"Legend\"},{\"attributes\":{\"source\":{\"id\":\"134020ba-148e-4868-be59-b1e5ba630615\",\"type\":\"ColumnDataSource\"}},\"id\":\"1136965f-6003-4e88-87c2-bf619a52baf3\",\"type\":\"CDSView\"},{\"attributes\":{},\"id\":\"2e1841b0-1b1c-4466-8dd4-dbf93571d052\",\"type\":\"SaveTool\"},{\"attributes\":{},\"id\":\"fc8764a7-f258-4c6a-a311-5ec19f7a0d45\",\"type\":\"LinearScale\"},{\"attributes\":{},\"id\":\"ec14ff7f-37f4-4e1b-8b8b-0aa0aa7906d6\",\"type\":\"LinearScale\"},{\"attributes\":{},\"id\":\"aa6846a6-8e81-4a22-9153-9ecf23162489\",\"type\":\"ResetTool\"},{\"attributes\":{},\"id\":\"c66b4ee3-7820-44a8-a223-fadf933ba205\",\"type\":\"BasicTicker\"},{\"attributes\":{},\"id\":\"719f162e-25a9-4f71-8e35-00fab30a1da8\",\"type\":\"HelpTool\"},{\"attributes\":{\"formatter\":{\"id\":\"441a6110-ab49-47ee-b7f2-805a7654e954\",\"type\":\"BasicTickFormatter\"},\"plot\":{\"id\":\"f198eb58-b87f-47ec-b26f-fa73b7324da9\",\"subtype\":\"Figure\",\"type\":\"Plot\"},\"ticker\":{\"id\":\"c66b4ee3-7820-44a8-a223-fadf933ba205\",\"type\":\"BasicTicker\"}},\"id\":\"41f21f48-5257-4563-8c29-707f834bd5d3\",\"type\":\"LinearAxis\"},{\"attributes\":{},\"id\":\"b802fabb-69a4-4538-87f5-c5e0672e7d6b\",\"type\":\"BasicTickFormatter\"},{\"attributes\":{\"fill_alpha\":{\"value\":0.1},\"fill_color\":{\"value\":\"#1f77b4\"},\"line_alpha\":{\"value\":0.1},\"line_color\":{\"value\":\"#1f77b4\"},\"size\":{\"units\":\"screen\",\"value\":8},\"x\":{\"field\":\"Year\"},\"y\":{\"field\":\"Time\"}},\"id\":\"d334f6fe-5e20-4397-a331-f6ac60ba9595\",\"type\":\"Circle\"},{\"attributes\":{\"plot\":{\"id\":\"f198eb58-b87f-47ec-b26f-fa73b7324da9\",\"subtype\":\"Figure\",\"type\":\"Plot\"},\"ticker\":{\"id\":\"c66b4ee3-7820-44a8-a223-fadf933ba205\",\"type\":\"BasicTicker\"}},\"id\":\"9b8bd3a7-5ac9-4c60-b349-97932dfca60f\",\"type\":\"Grid\"},{\"attributes\":{\"callback\":null,\"column_names\":[\"Name\",\"Country\",\"Medal\",\"Time\",\"Year\",\"index\"],\"data\":{\"Country\":[\"JAM\",\"JAM\",\"USA\",\"JAM\",\"TRI\",\"USA\",\"USA\",\"POR\",\"USA\",\"USA\",\"TRI\",\"BAR\",\"CAN\",\"NAM\",\"TRI\",\"GBR\",\"NAM\",\"USA\",\"USA\",\"GBR\",\"USA\",\"USA\",\"USA\",\"CAN\",\"GBR\",\"CUB\",\"BUL\",\"TRI\",\"JAM\",\"URS\",\"URS\",\"USA\",\"JAM\",\"USA\",\"JAM\",\"USA\",\"USA\",\"CUB\",\"CAN\",\"EUA\",\"USA\",\"GBR\",\"USA\",\"USA\",\"AUS\",\"USA\",\"JAM\",\"GBR\",\"USA\",\"USA\",\"PAN\",\"USA\",\"USA\",\"NED\",\"USA\",\"USA\",\"GER\",\"CAN\",\"GBR\",\"GER\",\"GBR\",\"USA\",\"NZL\",\"USA\",\"USA\",\"GBR\",\"USA\",\"USA\",\"USA\",\"RSA\",\"USA\",\"CAN\",\"USA\",\"USA\",\"AUS\",\"USA\",\"USA\",\"USA\",\"USA\",\"USA\",\"AUS\",\"USA\",\"GER\",\"HUN\",\"USA\"],\"Medal\":[\"GOLD\",\"SILVER\",\"BRONZE\",\"GOLD\",\"SILVER\",\"BRONZE\",\"GOLD\",\"SILVER\",\"BRONZE\",\"GOLD\",\"SILVER\",\"BRONZE\",\"GOLD\",\"SILVER\",\"BRONZE\",\"GOLD\",\"SILVER\",\"BRONZE\",\"GOLD\",\"SILVER\",\"BRONZE\",\"GOLD\",\"SILVER\",\"BRONZE\",\"GOLD\",\"SILVER\",\"BRONZE\",\"GOLD\",\"SILVER\",\"BRONZE\",\"GOLD\",\"SILVER\",\"BRONZE\",\"GOLD\",\"SILVER\",\"BRONZE\",\"GOLD\",\"SILVER\",\"BRONZE\",\"GOLD\",\"SILVER\",\"BRONZE\",\"GOLD\",\"SILVER\",\"BRONZE\",\"GOLD\",\"SILVER\",\"BRONZE\",\"GOLD\",\"SILVER\",\"BRONZE\",\"GOLD\",\"SILVER\",\"BRONZE\",\"GOLD\",\"SILVER\",\"BRONZE\",\"GOLD\",\"SILVER\",\"BRONZE\",\"GOLD\",\"SILVER\",\"BRONZE\",\"GOLD\",\"SILVER\",\"BRONZE\",\"GOLD\",\"SILVER\",\"BRONZE\",\"GOLD\",\"SILVER\",\"BRONZE\",\"GOLD\",\"SILVER\",\"BRONZE\",\"GOLD\",\"SILVER\",\"BRONZE\",\"GOLD\",\"SILVER\",\"BRONZE\",\"GOLD\",\"SILVER\",\"BRONZE\",\"BRONZE\"],\"Name\":[\"Usain Bolt\",\"Yohan Blake\",\"Justin Gatlin\",\"Usain Bolt\",\"Richard Thompson\",\"Walter Dix\",\"Justin Gatlin\",\"Francis Obikwelu\",\"Maurice Greene\",\"Maurice Greene\",\"Ato Boldon\",\"Obadele Thompson\",\"Donovan Bailey\",\"Frankie Fredericks\",\"Ato Boldon\",\"Linford Christie\",\"Frankie Fredericks\",\"Dennis Mitchell\",\"Carl Lewis\",\"Linford Christie\",\"Calvin Smith\",\"Carl Lewis\",\"Sam Graddy\",\"Ben Johnson\",\"Allan Wells\",\"Silvio Leonard Tartabull\",\"Petar Petrov\",\"Hasely Crawford\",\"Donald Quarrie\",\"Valery Borzov\",\"Valery Borzov\",\"Robert Taylor\",\"Lennox Miller\",\"Jim Hines\",\"Lennox Miller\",\"Charles Greene\",\"Bob Hayes\",\"Enrique Figuerola Camue\",\"Harry Jerome\",\"Armin Hary\",\"David Sime\",\"Peter Radford\",\"Bobby Joe Morrow\",\"W. Thane Baker\",\"Hector Hogan\",\"Lindy Remigino\",\"Herbert McKenley\",\"E. McDonald Bailey\",\"W. Harrison Dillard\",\"H. Norwood \\\"Barney\\\" Ewell\",\"Lloyd LaBeach\",\"Jesse Owens\",\"Ralph Metcalfe\",\"Martinus Osendarp\",\"T. \\\"Eddie\\\" Tolan\",\"Ralph Metcalfe\",\"Arthur Jonath\",\"Percy Williams\",\"John \\\"Jack\\\" London\",\"Georg Lammers\",\"Harold Abrahams\",\"Jackson Scholz\",\"Arthur Porritt\",\"Charles Paddock\",\"Morris Kirksey\",\"Harry Edward\",\"Ralph Craig\",\"Alvah Meyer\",\"Donald Lippincott\",\"Reginald Walker\",\"James Rector\",\"Robert Kerr\",\"Charles \\\"Archie\\\" Hahn\",\"Fay Moulton\",\"Nigel Barker\",\"Charles \\\"Archie\\\" Hahn\",\"Nathaniel Cartmell\",\"Bill Hogenson\",\"Frank Jarvis\",\"J. Walter Tewksbury\",\"Stanley Rowley\",\"Thomas Burke\",\"Fritz Hofmann\",\"Alojz Sokol\",\"Francis Lane\"],\"Time\":{\"__ndarray__\":\"w/UoXI9CI0AAAAAAAIAjQBSuR+F6lCNA4XoUrkdhI0BI4XoUrscjQFK4HoXr0SNAMzMzMzOzI0C4HoXrUbgjQD0K16NwvSNAPQrXo3C9I0B7FK5H4fojQBSuR+F6FCRArkfhehSuI0BI4XoUrscjQM3MzMzMzCNA7FG4HoXrI0AK16NwPQokQBSuR+F6FCRA16NwPQrXI0BxPQrXo/AjQHsUrkfh+iNAexSuR+H6I0DhehSuR2EkQHE9CtejcCRAAAAAAACAJEAAAAAAAIAkQEjhehSuxyRAH4XrUbgeJEApXI/C9SgkQEjhehSuRyRASOF6FK5HJEB7FK5H4XokQClcj8L1qCRAZmZmZmbmI0AUrkfhehQkQKRwPQrXIyRAAAAAAAAAJEBmZmZmZmYkQGZmZmZmZiRAZmZmZmZmJEBmZmZmZmYkQJqZmZmZmSRAAAAAAAAAJUAAAAAAAAAlQDMzMzMzMyVAzczMzMzMJEDNzMzMzMwkQM3MzMzMzCRAmpmZmZmZJEDNzMzMzMwkQM3MzMzMzCRAmpmZmZmZJEDNzMzMzMwkQAAAAAAAACVAmpmZmZmZJECamZmZmZkkQM3MzMzMzCRAmpmZmZmZJUDNzMzMzMwlQM3MzMzMzCVAMzMzMzMzJUCamZmZmZklQM3MzMzMzCVAmpmZmZmZJUDNzMzMzMwlQM3MzMzMzCVAmpmZmZmZJUDNzMzMzMwlQM3MzMzMzCVAmpmZmZmZJUAAAAAAAAAmQAAAAAAAACZAZmZmZmZmJkCamZmZmZkmQJqZmZmZmSZAAAAAAAAAJkBmZmZmZmYmQGZmZmZmZiZAAAAAAAAAJkAzMzMzMzMmQGZmZmZmZiZAAAAAAAAAKEBmZmZmZmYoQDMzMzMzMylAMzMzMzMzKUA=\",\"dtype\":\"float64\",\"shape\":[85]},\"Year\":[2012,2012,2012,2008,2008,2008,2004,2004,2004,2000,2000,2000,1996,1996,1996,1992,1992,1992,1988,1988,1988,1984,1984,1984,1980,1980,1980,1976,1976,1976,1972,1972,1972,1968,1968,1968,1964,1964,1964,1960,1960,1960,1956,1956,1956,1952,1952,1952,1948,1948,1948,1936,1936,1936,1932,1932,1932,1928,1928,1928,1924,1924,1924,1920,1920,1920,1912,1912,1912,1908,1908,1908,1906,1906,1906,1904,1904,1904,1900,1900,1900,1896,1896,1896,1896],\"index\":[0,1,2,3,4,5,6,7,8,9,10,11,12,13,14,15,16,17,18,19,20,21,22,23,24,25,26,27,28,29,30,31,32,33,34,35,36,37,38,39,40,41,42,43,44,45,46,47,48,49,50,51,52,53,54,55,56,57,58,59,60,61,62,63,64,65,66,67,68,69,70,71,72,73,74,75,76,77,78,79,80,81,82,83,84]},\"selected\":null,\"selection_policy\":null},\"id\":\"134020ba-148e-4868-be59-b1e5ba630615\",\"type\":\"ColumnDataSource\"},{\"attributes\":{\"label\":{\"field\":\"Medal\"},\"renderers\":[{\"id\":\"5c6e88e1-81a4-480f-b06b-51d50b949485\",\"type\":\"GlyphRenderer\"}]},\"id\":\"cd87f8a8-83b5-444f-8d61-8f7b0987478c\",\"type\":\"LegendItem\"},{\"attributes\":{\"formatter\":{\"id\":\"b802fabb-69a4-4538-87f5-c5e0672e7d6b\",\"type\":\"BasicTickFormatter\"},\"plot\":{\"id\":\"f198eb58-b87f-47ec-b26f-fa73b7324da9\",\"subtype\":\"Figure\",\"type\":\"Plot\"},\"ticker\":{\"id\":\"007201da-5fab-4b41-a179-b014f2a89c9d\",\"type\":\"BasicTicker\"}},\"id\":\"807e58f6-f0da-4f94-b21e-8e6d7b36ce81\",\"type\":\"LinearAxis\"},{\"attributes\":{\"factors\":[\"GOLD\",\"SILVER\",\"BRONZE\"],\"palette\":[\"goldenrod\",\"silver\",\"saddlebrown\"]},\"id\":\"62d3c502-ff48-4321-b52e-e35d025d9970\",\"type\":\"CategoricalColorMapper\"},{\"attributes\":{},\"id\":\"007201da-5fab-4b41-a179-b014f2a89c9d\",\"type\":\"BasicTicker\"},{\"attributes\":{\"dimension\":1,\"plot\":{\"id\":\"f198eb58-b87f-47ec-b26f-fa73b7324da9\",\"subtype\":\"Figure\",\"type\":\"Plot\"},\"ticker\":{\"id\":\"007201da-5fab-4b41-a179-b014f2a89c9d\",\"type\":\"BasicTicker\"}},\"id\":\"aecb1e20-d9a9-4eda-bb13-7340e411a738\",\"type\":\"Grid\"},{\"attributes\":{\"plot\":null,\"text\":\"\"},\"id\":\"31d49592-4ba7-48ba-ab93-08962a21cf58\",\"type\":\"Title\"},{\"attributes\":{\"fill_color\":{\"field\":\"Medal\",\"transform\":{\"id\":\"62d3c502-ff48-4321-b52e-e35d025d9970\",\"type\":\"CategoricalColorMapper\"}},\"line_color\":{\"field\":\"Medal\",\"transform\":{\"id\":\"62d3c502-ff48-4321-b52e-e35d025d9970\",\"type\":\"CategoricalColorMapper\"}},\"size\":{\"units\":\"screen\",\"value\":8},\"x\":{\"field\":\"Year\"},\"y\":{\"field\":\"Time\"}},\"id\":\"26ff2c22-23fd-4a69-bf3e-df8a9e92d247\",\"type\":\"Circle\"},{\"attributes\":{\"below\":[{\"id\":\"41f21f48-5257-4563-8c29-707f834bd5d3\",\"type\":\"LinearAxis\"}],\"left\":[{\"id\":\"807e58f6-f0da-4f94-b21e-8e6d7b36ce81\",\"type\":\"LinearAxis\"}],\"plot_height\":400,\"plot_width\":400,\"renderers\":[{\"id\":\"41f21f48-5257-4563-8c29-707f834bd5d3\",\"type\":\"LinearAxis\"},{\"id\":\"9b8bd3a7-5ac9-4c60-b349-97932dfca60f\",\"type\":\"Grid\"},{\"id\":\"807e58f6-f0da-4f94-b21e-8e6d7b36ce81\",\"type\":\"LinearAxis\"},{\"id\":\"aecb1e20-d9a9-4eda-bb13-7340e411a738\",\"type\":\"Grid\"},{\"id\":\"3fbceb0c-7457-418f-836e-56b8dde56b15\",\"type\":\"BoxAnnotation\"},{\"id\":\"6d29c83d-c36e-4abc-83af-a4c2ea95bd8d\",\"type\":\"Legend\"},{\"id\":\"5c6e88e1-81a4-480f-b06b-51d50b949485\",\"type\":\"GlyphRenderer\"}],\"title\":{\"id\":\"31d49592-4ba7-48ba-ab93-08962a21cf58\",\"type\":\"Title\"},\"toolbar\":{\"id\":\"09a57087-d7e8-4c57-9415-93cd9d500ee7\",\"type\":\"Toolbar\"},\"x_range\":{\"id\":\"e528cbfe-1bdc-4514-ab47-46848c6b8077\",\"type\":\"DataRange1d\"},\"x_scale\":{\"id\":\"ec14ff7f-37f4-4e1b-8b8b-0aa0aa7906d6\",\"type\":\"LinearScale\"},\"y_range\":{\"id\":\"f6d5767a-922a-450c-8010-feaf6673a259\",\"type\":\"DataRange1d\"},\"y_scale\":{\"id\":\"fc8764a7-f258-4c6a-a311-5ec19f7a0d45\",\"type\":\"LinearScale\"}},\"id\":\"f198eb58-b87f-47ec-b26f-fa73b7324da9\",\"subtype\":\"Figure\",\"type\":\"Plot\"},{\"attributes\":{},\"id\":\"441a6110-ab49-47ee-b7f2-805a7654e954\",\"type\":\"BasicTickFormatter\"},{\"attributes\":{},\"id\":\"6712e3ae-9458-4ead-a955-01f8d643363b\",\"type\":\"PanTool\"},{\"attributes\":{\"callback\":null},\"id\":\"f6d5767a-922a-450c-8010-feaf6673a259\",\"type\":\"DataRange1d\"},{\"attributes\":{},\"id\":\"2db636ba-7d0a-4760-b83c-ab7cfa8d57b5\",\"type\":\"WheelZoomTool\"},{\"attributes\":{\"data_source\":{\"id\":\"134020ba-148e-4868-be59-b1e5ba630615\",\"type\":\"ColumnDataSource\"},\"glyph\":{\"id\":\"26ff2c22-23fd-4a69-bf3e-df8a9e92d247\",\"type\":\"Circle\"},\"hover_glyph\":null,\"muted_glyph\":null,\"nonselection_glyph\":{\"id\":\"d334f6fe-5e20-4397-a331-f6ac60ba9595\",\"type\":\"Circle\"},\"selection_glyph\":null,\"view\":{\"id\":\"1136965f-6003-4e88-87c2-bf619a52baf3\",\"type\":\"CDSView\"}},\"id\":\"5c6e88e1-81a4-480f-b06b-51d50b949485\",\"type\":\"GlyphRenderer\"}],\"root_ids\":[\"f198eb58-b87f-47ec-b26f-fa73b7324da9\"]},\"title\":\"Bokeh Application\",\"version\":\"0.12.15\"}};\n",
       "  var render_items = [{\"docid\":\"e891b191-31b6-4adf-b76c-4085b235ce56\",\"elementid\":\"e654e122-c635-40f1-a63f-482afa814c7e\",\"modelid\":\"f198eb58-b87f-47ec-b26f-fa73b7324da9\"}];\n",
       "  root.Bokeh.embed.embed_items_notebook(docs_json, render_items);\n",
       "\n",
       "  }\n",
       "  if (root.Bokeh !== undefined) {\n",
       "    embed_document(root);\n",
       "  } else {\n",
       "    var attempts = 0;\n",
       "    var timer = setInterval(function(root) {\n",
       "      if (root.Bokeh !== undefined) {\n",
       "        embed_document(root);\n",
       "        clearInterval(timer);\n",
       "      }\n",
       "      attempts++;\n",
       "      if (attempts > 100) {\n",
       "        console.log(\"Bokeh: ERROR: Unable to run BokehJS code because BokehJS library is missing\")\n",
       "        clearInterval(timer);\n",
       "      }\n",
       "    }, 10, root)\n",
       "  }\n",
       "})(window);"
      ],
      "application/vnd.bokehjs_exec.v0+json": ""
     },
     "metadata": {
      "application/vnd.bokehjs_exec.v0+json": {
       "id": "f198eb58-b87f-47ec-b26f-fa73b7324da9"
      }
     },
     "output_type": "display_data"
    }
   ],
   "source": [
    "color_mapper = CategoricalColorMapper(factors = ['GOLD', 'SILVER', 'BRONZE'], palette = ['goldenrod', 'silver', 'saddlebrown'])\n",
    "\n",
    "dataSource = ColumnDataSource(fileData)\n",
    "\n",
    "p = figure(plot_width = 400, plot_height = 400)\n",
    "p.circle('Year', 'Time', source = dataSource, color = {'field' : 'Medal', 'transform': color_mapper}, legend = 'Medal', size = 8)\n",
    "show(p)"
   ]
  },
  {
   "cell_type": "markdown",
   "metadata": {},
   "source": [
    "### Bokeh Model tools"
   ]
  },
  {
   "cell_type": "code",
   "execution_count": 56,
   "metadata": {},
   "outputs": [
    {
     "data": {
      "text/html": [
       "\n",
       "<div class=\"bk-root\">\n",
       "    <div class=\"bk-plotdiv\" id=\"b7e82c06-0bd4-4f66-932d-277393a135b8\"></div>\n",
       "</div>"
      ]
     },
     "metadata": {},
     "output_type": "display_data"
    },
    {
     "data": {
      "application/javascript": [
       "(function(root) {\n",
       "  function embed_document(root) {\n",
       "    \n",
       "  var docs_json = {\"056d9e50-5860-4bf8-8095-c93e3162f273\":{\"roots\":{\"references\":[{\"attributes\":{\"callback\":null},\"id\":\"957c230b-ae01-485a-8ee7-8442442e5e60\",\"type\":\"DataRange1d\"},{\"attributes\":{\"fill_color\":{\"value\":\"red\"},\"line_color\":{\"value\":\"red\"},\"x\":{\"field\":\"Year\"},\"y\":{\"field\":\"Time\"}},\"id\":\"471acc7e-66a1-41cd-9299-cd3a4352154c\",\"type\":\"Circle\"},{\"attributes\":{\"dimension\":1,\"plot\":{\"id\":\"afdfb870-b58c-4d14-b60f-be0927b25127\",\"subtype\":\"Figure\",\"type\":\"Plot\"},\"ticker\":{\"id\":\"eb047ee7-a38a-4eaf-915d-578c6c152e54\",\"type\":\"BasicTicker\"}},\"id\":\"585731ba-e067-4863-a255-12efc37fe646\",\"type\":\"Grid\"},{\"attributes\":{},\"id\":\"eb047ee7-a38a-4eaf-915d-578c6c152e54\",\"type\":\"BasicTicker\"},{\"attributes\":{\"callback\":null,\"overlay\":{\"id\":\"d6f89f24-c455-41e4-a3f5-756cd69c7772\",\"type\":\"BoxAnnotation\"},\"renderers\":[{\"id\":\"31c22bb3-dfee-46f0-ab95-d734764e7d0c\",\"type\":\"GlyphRenderer\"}]},\"id\":\"39547ac1-5269-4d71-bead-340666af5447\",\"type\":\"BoxSelectTool\"},{\"attributes\":{\"axis_label\":\"Time(s)\",\"formatter\":{\"id\":\"0b86f04a-8ee0-4478-85b5-2682b4dc7eb9\",\"type\":\"BasicTickFormatter\"},\"plot\":{\"id\":\"afdfb870-b58c-4d14-b60f-be0927b25127\",\"subtype\":\"Figure\",\"type\":\"Plot\"},\"ticker\":{\"id\":\"eb047ee7-a38a-4eaf-915d-578c6c152e54\",\"type\":\"BasicTicker\"}},\"id\":\"056f6365-57c4-4705-89b6-809dd084718e\",\"type\":\"LinearAxis\"},{\"attributes\":{\"fill_alpha\":{\"value\":0.3},\"fill_color\":{\"value\":\"#1f77b4\"},\"line_alpha\":{\"value\":0.3},\"line_color\":{\"value\":\"#1f77b4\"},\"x\":{\"field\":\"Year\"},\"y\":{\"field\":\"Time\"}},\"id\":\"7cb8f85f-8931-4887-b37b-31f83e4a0c59\",\"type\":\"Circle\"},{\"attributes\":{},\"id\":\"0203d43e-4461-472c-986a-ef5111cdbe52\",\"type\":\"BasicTicker\"},{\"attributes\":{\"axis_label\":\"Year\",\"formatter\":{\"id\":\"a1651aff-c079-49f7-b5b3-ce92c592ec85\",\"type\":\"BasicTickFormatter\"},\"plot\":{\"id\":\"afdfb870-b58c-4d14-b60f-be0927b25127\",\"subtype\":\"Figure\",\"type\":\"Plot\"},\"ticker\":{\"id\":\"0203d43e-4461-472c-986a-ef5111cdbe52\",\"type\":\"BasicTicker\"}},\"id\":\"776b57b8-e704-4fa7-9d55-bc3548b7c297\",\"type\":\"LinearAxis\"},{\"attributes\":{\"bottom_units\":\"screen\",\"fill_alpha\":{\"value\":0.5},\"fill_color\":{\"value\":\"lightgrey\"},\"left_units\":\"screen\",\"level\":\"overlay\",\"line_alpha\":{\"value\":1.0},\"line_color\":{\"value\":\"black\"},\"line_dash\":[4,4],\"line_width\":{\"value\":2},\"plot\":null,\"render_mode\":\"css\",\"right_units\":\"screen\",\"top_units\":\"screen\"},\"id\":\"d6f89f24-c455-41e4-a3f5-756cd69c7772\",\"type\":\"BoxAnnotation\"},{\"attributes\":{},\"id\":\"ee935364-5021-49f8-bf46-977ec0368370\",\"type\":\"LinearScale\"},{\"attributes\":{\"plot\":{\"id\":\"afdfb870-b58c-4d14-b60f-be0927b25127\",\"subtype\":\"Figure\",\"type\":\"Plot\"},\"ticker\":{\"id\":\"0203d43e-4461-472c-986a-ef5111cdbe52\",\"type\":\"BasicTicker\"}},\"id\":\"788565a2-cb09-438a-b7ad-6c5d77f3fa75\",\"type\":\"Grid\"},{\"attributes\":{\"callback\":null,\"column_names\":[\"Name\",\"Country\",\"Medal\",\"Time\",\"Year\",\"index\"],\"data\":{\"Country\":[\"JAM\",\"JAM\",\"USA\",\"JAM\",\"TRI\",\"USA\",\"USA\",\"POR\",\"USA\",\"USA\",\"TRI\",\"BAR\",\"CAN\",\"NAM\",\"TRI\",\"GBR\",\"NAM\",\"USA\",\"USA\",\"GBR\",\"USA\",\"USA\",\"USA\",\"CAN\",\"GBR\",\"CUB\",\"BUL\",\"TRI\",\"JAM\",\"URS\",\"URS\",\"USA\",\"JAM\",\"USA\",\"JAM\",\"USA\",\"USA\",\"CUB\",\"CAN\",\"EUA\",\"USA\",\"GBR\",\"USA\",\"USA\",\"AUS\",\"USA\",\"JAM\",\"GBR\",\"USA\",\"USA\",\"PAN\",\"USA\",\"USA\",\"NED\",\"USA\",\"USA\",\"GER\",\"CAN\",\"GBR\",\"GER\",\"GBR\",\"USA\",\"NZL\",\"USA\",\"USA\",\"GBR\",\"USA\",\"USA\",\"USA\",\"RSA\",\"USA\",\"CAN\",\"USA\",\"USA\",\"AUS\",\"USA\",\"USA\",\"USA\",\"USA\",\"USA\",\"AUS\",\"USA\",\"GER\",\"HUN\",\"USA\"],\"Medal\":[\"GOLD\",\"SILVER\",\"BRONZE\",\"GOLD\",\"SILVER\",\"BRONZE\",\"GOLD\",\"SILVER\",\"BRONZE\",\"GOLD\",\"SILVER\",\"BRONZE\",\"GOLD\",\"SILVER\",\"BRONZE\",\"GOLD\",\"SILVER\",\"BRONZE\",\"GOLD\",\"SILVER\",\"BRONZE\",\"GOLD\",\"SILVER\",\"BRONZE\",\"GOLD\",\"SILVER\",\"BRONZE\",\"GOLD\",\"SILVER\",\"BRONZE\",\"GOLD\",\"SILVER\",\"BRONZE\",\"GOLD\",\"SILVER\",\"BRONZE\",\"GOLD\",\"SILVER\",\"BRONZE\",\"GOLD\",\"SILVER\",\"BRONZE\",\"GOLD\",\"SILVER\",\"BRONZE\",\"GOLD\",\"SILVER\",\"BRONZE\",\"GOLD\",\"SILVER\",\"BRONZE\",\"GOLD\",\"SILVER\",\"BRONZE\",\"GOLD\",\"SILVER\",\"BRONZE\",\"GOLD\",\"SILVER\",\"BRONZE\",\"GOLD\",\"SILVER\",\"BRONZE\",\"GOLD\",\"SILVER\",\"BRONZE\",\"GOLD\",\"SILVER\",\"BRONZE\",\"GOLD\",\"SILVER\",\"BRONZE\",\"GOLD\",\"SILVER\",\"BRONZE\",\"GOLD\",\"SILVER\",\"BRONZE\",\"GOLD\",\"SILVER\",\"BRONZE\",\"GOLD\",\"SILVER\",\"BRONZE\",\"BRONZE\"],\"Name\":[\"Usain Bolt\",\"Yohan Blake\",\"Justin Gatlin\",\"Usain Bolt\",\"Richard Thompson\",\"Walter Dix\",\"Justin Gatlin\",\"Francis Obikwelu\",\"Maurice Greene\",\"Maurice Greene\",\"Ato Boldon\",\"Obadele Thompson\",\"Donovan Bailey\",\"Frankie Fredericks\",\"Ato Boldon\",\"Linford Christie\",\"Frankie Fredericks\",\"Dennis Mitchell\",\"Carl Lewis\",\"Linford Christie\",\"Calvin Smith\",\"Carl Lewis\",\"Sam Graddy\",\"Ben Johnson\",\"Allan Wells\",\"Silvio Leonard Tartabull\",\"Petar Petrov\",\"Hasely Crawford\",\"Donald Quarrie\",\"Valery Borzov\",\"Valery Borzov\",\"Robert Taylor\",\"Lennox Miller\",\"Jim Hines\",\"Lennox Miller\",\"Charles Greene\",\"Bob Hayes\",\"Enrique Figuerola Camue\",\"Harry Jerome\",\"Armin Hary\",\"David Sime\",\"Peter Radford\",\"Bobby Joe Morrow\",\"W. Thane Baker\",\"Hector Hogan\",\"Lindy Remigino\",\"Herbert McKenley\",\"E. McDonald Bailey\",\"W. Harrison Dillard\",\"H. Norwood \\\"Barney\\\" Ewell\",\"Lloyd LaBeach\",\"Jesse Owens\",\"Ralph Metcalfe\",\"Martinus Osendarp\",\"T. \\\"Eddie\\\" Tolan\",\"Ralph Metcalfe\",\"Arthur Jonath\",\"Percy Williams\",\"John \\\"Jack\\\" London\",\"Georg Lammers\",\"Harold Abrahams\",\"Jackson Scholz\",\"Arthur Porritt\",\"Charles Paddock\",\"Morris Kirksey\",\"Harry Edward\",\"Ralph Craig\",\"Alvah Meyer\",\"Donald Lippincott\",\"Reginald Walker\",\"James Rector\",\"Robert Kerr\",\"Charles \\\"Archie\\\" Hahn\",\"Fay Moulton\",\"Nigel Barker\",\"Charles \\\"Archie\\\" Hahn\",\"Nathaniel Cartmell\",\"Bill Hogenson\",\"Frank Jarvis\",\"J. Walter Tewksbury\",\"Stanley Rowley\",\"Thomas Burke\",\"Fritz Hofmann\",\"Alojz Sokol\",\"Francis Lane\"],\"Time\":{\"__ndarray__\":\"w/UoXI9CI0AAAAAAAIAjQBSuR+F6lCNA4XoUrkdhI0BI4XoUrscjQFK4HoXr0SNAMzMzMzOzI0C4HoXrUbgjQD0K16NwvSNAPQrXo3C9I0B7FK5H4fojQBSuR+F6FCRArkfhehSuI0BI4XoUrscjQM3MzMzMzCNA7FG4HoXrI0AK16NwPQokQBSuR+F6FCRA16NwPQrXI0BxPQrXo/AjQHsUrkfh+iNAexSuR+H6I0DhehSuR2EkQHE9CtejcCRAAAAAAACAJEAAAAAAAIAkQEjhehSuxyRAH4XrUbgeJEApXI/C9SgkQEjhehSuRyRASOF6FK5HJEB7FK5H4XokQClcj8L1qCRAZmZmZmbmI0AUrkfhehQkQKRwPQrXIyRAAAAAAAAAJEBmZmZmZmYkQGZmZmZmZiRAZmZmZmZmJEBmZmZmZmYkQJqZmZmZmSRAAAAAAAAAJUAAAAAAAAAlQDMzMzMzMyVAzczMzMzMJEDNzMzMzMwkQM3MzMzMzCRAmpmZmZmZJEDNzMzMzMwkQM3MzMzMzCRAmpmZmZmZJEDNzMzMzMwkQAAAAAAAACVAmpmZmZmZJECamZmZmZkkQM3MzMzMzCRAmpmZmZmZJUDNzMzMzMwlQM3MzMzMzCVAMzMzMzMzJUCamZmZmZklQM3MzMzMzCVAmpmZmZmZJUDNzMzMzMwlQM3MzMzMzCVAmpmZmZmZJUDNzMzMzMwlQM3MzMzMzCVAmpmZmZmZJUAAAAAAAAAmQAAAAAAAACZAZmZmZmZmJkCamZmZmZkmQJqZmZmZmSZAAAAAAAAAJkBmZmZmZmYmQGZmZmZmZiZAAAAAAAAAJkAzMzMzMzMmQGZmZmZmZiZAAAAAAAAAKEBmZmZmZmYoQDMzMzMzMylAMzMzMzMzKUA=\",\"dtype\":\"float64\",\"shape\":[85]},\"Year\":[2012,2012,2012,2008,2008,2008,2004,2004,2004,2000,2000,2000,1996,1996,1996,1992,1992,1992,1988,1988,1988,1984,1984,1984,1980,1980,1980,1976,1976,1976,1972,1972,1972,1968,1968,1968,1964,1964,1964,1960,1960,1960,1956,1956,1956,1952,1952,1952,1948,1948,1948,1936,1936,1936,1932,1932,1932,1928,1928,1928,1924,1924,1924,1920,1920,1920,1912,1912,1912,1908,1908,1908,1906,1906,1906,1904,1904,1904,1900,1900,1900,1896,1896,1896,1896],\"index\":[0,1,2,3,4,5,6,7,8,9,10,11,12,13,14,15,16,17,18,19,20,21,22,23,24,25,26,27,28,29,30,31,32,33,34,35,36,37,38,39,40,41,42,43,44,45,46,47,48,49,50,51,52,53,54,55,56,57,58,59,60,61,62,63,64,65,66,67,68,69,70,71,72,73,74,75,76,77,78,79,80,81,82,83,84]},\"selected\":null,\"selection_policy\":null},\"id\":\"134020ba-148e-4868-be59-b1e5ba630615\",\"type\":\"ColumnDataSource\"},{\"attributes\":{\"data_source\":{\"id\":\"134020ba-148e-4868-be59-b1e5ba630615\",\"type\":\"ColumnDataSource\"},\"glyph\":{\"id\":\"4a96621a-c322-4082-8d09-dcf1d6b5e3c2\",\"type\":\"Circle\"},\"hover_glyph\":null,\"muted_glyph\":null,\"nonselection_glyph\":{\"id\":\"7cb8f85f-8931-4887-b37b-31f83e4a0c59\",\"type\":\"Circle\"},\"selection_glyph\":{\"id\":\"471acc7e-66a1-41cd-9299-cd3a4352154c\",\"type\":\"Circle\"},\"view\":{\"id\":\"c37b9f5c-f271-4d87-8b31-3b4cf3fd5f95\",\"type\":\"CDSView\"}},\"id\":\"31c22bb3-dfee-46f0-ab95-d734764e7d0c\",\"type\":\"GlyphRenderer\"},{\"attributes\":{},\"id\":\"42a1120a-5682-4cff-b5f6-8c75e311172e\",\"type\":\"LinearScale\"},{\"attributes\":{\"callback\":null},\"id\":\"ef493e41-bb22-41c4-a4c7-4907635a4c8b\",\"type\":\"DataRange1d\"},{\"attributes\":{\"plot\":null,\"text\":\"\"},\"id\":\"74a0e9e2-213f-4408-88c2-154c40f0d162\",\"type\":\"Title\"},{\"attributes\":{},\"id\":\"0b86f04a-8ee0-4478-85b5-2682b4dc7eb9\",\"type\":\"BasicTickFormatter\"},{\"attributes\":{\"below\":[{\"id\":\"776b57b8-e704-4fa7-9d55-bc3548b7c297\",\"type\":\"LinearAxis\"}],\"left\":[{\"id\":\"056f6365-57c4-4705-89b6-809dd084718e\",\"type\":\"LinearAxis\"}],\"renderers\":[{\"id\":\"776b57b8-e704-4fa7-9d55-bc3548b7c297\",\"type\":\"LinearAxis\"},{\"id\":\"788565a2-cb09-438a-b7ad-6c5d77f3fa75\",\"type\":\"Grid\"},{\"id\":\"056f6365-57c4-4705-89b6-809dd084718e\",\"type\":\"LinearAxis\"},{\"id\":\"585731ba-e067-4863-a255-12efc37fe646\",\"type\":\"Grid\"},{\"id\":\"1b5c8fd3-c066-4992-81b6-079338745d6c\",\"type\":\"PolyAnnotation\"},{\"id\":\"d6f89f24-c455-41e4-a3f5-756cd69c7772\",\"type\":\"BoxAnnotation\"},{\"id\":\"31c22bb3-dfee-46f0-ab95-d734764e7d0c\",\"type\":\"GlyphRenderer\"}],\"title\":{\"id\":\"74a0e9e2-213f-4408-88c2-154c40f0d162\",\"type\":\"Title\"},\"toolbar\":{\"id\":\"ac34a98a-6c83-4265-ad9f-0fbda177fb69\",\"type\":\"Toolbar\"},\"x_range\":{\"id\":\"957c230b-ae01-485a-8ee7-8442442e5e60\",\"type\":\"DataRange1d\"},\"x_scale\":{\"id\":\"42a1120a-5682-4cff-b5f6-8c75e311172e\",\"type\":\"LinearScale\"},\"y_range\":{\"id\":\"ef493e41-bb22-41c4-a4c7-4907635a4c8b\",\"type\":\"DataRange1d\"},\"y_scale\":{\"id\":\"ee935364-5021-49f8-bf46-977ec0368370\",\"type\":\"LinearScale\"}},\"id\":\"afdfb870-b58c-4d14-b60f-be0927b25127\",\"subtype\":\"Figure\",\"type\":\"Plot\"},{\"attributes\":{\"source\":{\"id\":\"134020ba-148e-4868-be59-b1e5ba630615\",\"type\":\"ColumnDataSource\"}},\"id\":\"c37b9f5c-f271-4d87-8b31-3b4cf3fd5f95\",\"type\":\"CDSView\"},{\"attributes\":{\"callback\":null,\"overlay\":{\"id\":\"1b5c8fd3-c066-4992-81b6-079338745d6c\",\"type\":\"PolyAnnotation\"}},\"id\":\"6459a155-8fc2-4daa-ad26-49e4afeddc91\",\"type\":\"LassoSelectTool\"},{\"attributes\":{},\"id\":\"a1651aff-c079-49f7-b5b3-ce92c592ec85\",\"type\":\"BasicTickFormatter\"},{\"attributes\":{},\"id\":\"83b1b484-d3e0-4a85-a529-c1cf76514936\",\"type\":\"ResetTool\"},{\"attributes\":{\"fill_color\":{\"value\":\"#1f77b4\"},\"line_color\":{\"value\":\"#1f77b4\"},\"x\":{\"field\":\"Year\"},\"y\":{\"field\":\"Time\"}},\"id\":\"4a96621a-c322-4082-8d09-dcf1d6b5e3c2\",\"type\":\"Circle\"},{\"attributes\":{\"active_drag\":\"auto\",\"active_inspect\":\"auto\",\"active_scroll\":\"auto\",\"active_tap\":\"auto\",\"tools\":[{\"id\":\"6459a155-8fc2-4daa-ad26-49e4afeddc91\",\"type\":\"LassoSelectTool\"},{\"id\":\"39547ac1-5269-4d71-bead-340666af5447\",\"type\":\"BoxSelectTool\"},{\"id\":\"83b1b484-d3e0-4a85-a529-c1cf76514936\",\"type\":\"ResetTool\"}]},\"id\":\"ac34a98a-6c83-4265-ad9f-0fbda177fb69\",\"type\":\"Toolbar\"},{\"attributes\":{\"fill_alpha\":{\"value\":0.5},\"fill_color\":{\"value\":\"lightgrey\"},\"level\":\"overlay\",\"line_alpha\":{\"value\":1.0},\"line_color\":{\"value\":\"black\"},\"line_dash\":[4,4],\"line_width\":{\"value\":2},\"plot\":null,\"xs_units\":\"screen\",\"ys_units\":\"screen\"},\"id\":\"1b5c8fd3-c066-4992-81b6-079338745d6c\",\"type\":\"PolyAnnotation\"}],\"root_ids\":[\"afdfb870-b58c-4d14-b60f-be0927b25127\"]},\"title\":\"Bokeh Application\",\"version\":\"0.12.15\"}};\n",
       "  var render_items = [{\"docid\":\"056d9e50-5860-4bf8-8095-c93e3162f273\",\"elementid\":\"b7e82c06-0bd4-4f66-932d-277393a135b8\",\"modelid\":\"afdfb870-b58c-4d14-b60f-be0927b25127\"}];\n",
       "  root.Bokeh.embed.embed_items_notebook(docs_json, render_items);\n",
       "\n",
       "  }\n",
       "  if (root.Bokeh !== undefined) {\n",
       "    embed_document(root);\n",
       "  } else {\n",
       "    var attempts = 0;\n",
       "    var timer = setInterval(function(root) {\n",
       "      if (root.Bokeh !== undefined) {\n",
       "        embed_document(root);\n",
       "        clearInterval(timer);\n",
       "      }\n",
       "      attempts++;\n",
       "      if (attempts > 100) {\n",
       "        console.log(\"Bokeh: ERROR: Unable to run BokehJS code because BokehJS library is missing\")\n",
       "        clearInterval(timer);\n",
       "      }\n",
       "    }, 10, root)\n",
       "  }\n",
       "})(window);"
      ],
      "application/vnd.bokehjs_exec.v0+json": ""
     },
     "metadata": {
      "application/vnd.bokehjs_exec.v0+json": {
       "id": "afdfb870-b58c-4d14-b60f-be0927b25127"
      }
     },
     "output_type": "display_data"
    }
   ],
   "source": [
    "p = figure(tools = 'lasso_select, box_select, reset', x_axis_label = \"Year\", y_axis_label = \"Time(s)\")\n",
    "p.circle('Year', 'Time', source = dataSource, selection_color = 'red', nonselection_alpha = 0.3)\n",
    "show(p)"
   ]
  },
  {
   "cell_type": "markdown",
   "metadata": {},
   "source": [
    "### Ejemplo Models"
   ]
  },
  {
   "cell_type": "code",
   "execution_count": 57,
   "metadata": {},
   "outputs": [],
   "source": [
    "x = np.random.uniform(size = 1000)\n",
    "y = np.random.uniform(size = 1000)"
   ]
  },
  {
   "cell_type": "code",
   "execution_count": 58,
   "metadata": {},
   "outputs": [
    {
     "data": {
      "text/html": [
       "\n",
       "<div class=\"bk-root\">\n",
       "    <div class=\"bk-plotdiv\" id=\"d50d4a1b-29dc-4fb4-9076-96d4d78b21c2\"></div>\n",
       "</div>"
      ]
     },
     "metadata": {},
     "output_type": "display_data"
    },
    {
     "data": {
      "application/javascript": [
       "(function(root) {\n",
       "  function embed_document(root) {\n",
       "    \n",
       "  var docs_json = {\"80106726-6842-43ba-8be8-cb64b420040b\":{\"roots\":{\"references\":[{\"attributes\":{\"fill_alpha\":{\"value\":0.1},\"fill_color\":{\"value\":\"#1f77b4\"},\"line_alpha\":{\"value\":0.1},\"line_color\":{\"value\":\"#1f77b4\"},\"size\":{\"units\":\"screen\",\"value\":15},\"x\":{\"field\":\"x\"},\"y\":{\"field\":\"y\"}},\"id\":\"525cc588-ffa5-4fdb-a700-d945197974f3\",\"type\":\"Circle\"},{\"attributes\":{\"callback\":null},\"id\":\"2cb42934-6170-4eae-92a1-86b43ec1c2bd\",\"type\":\"DataRange1d\"},{\"attributes\":{\"active_drag\":\"auto\",\"active_inspect\":\"auto\",\"active_scroll\":\"auto\",\"active_tap\":\"auto\",\"tools\":[{\"id\":\"3104ff7f-ea3a-4e4c-8a98-06ea3749ff63\",\"type\":\"HoverTool\"},{\"id\":\"ddbdda2b-034b-49e2-888a-03daf7e8bd32\",\"type\":\"CrosshairTool\"}]},\"id\":\"cbfee510-d55b-44c7-b641-3a764c1163b7\",\"type\":\"Toolbar\"},{\"attributes\":{\"dimension\":1,\"plot\":{\"id\":\"4af5ab7b-ca98-4a2f-bf67-86eddba34591\",\"subtype\":\"Figure\",\"type\":\"Plot\"},\"ticker\":{\"id\":\"36594f27-546a-4ad9-b760-ff786a947e39\",\"type\":\"BasicTicker\"}},\"id\":\"1168a094-a480-4acd-b174-9c7efdcafb3f\",\"type\":\"Grid\"},{\"attributes\":{\"plot\":{\"id\":\"4af5ab7b-ca98-4a2f-bf67-86eddba34591\",\"subtype\":\"Figure\",\"type\":\"Plot\"},\"ticker\":{\"id\":\"863216c2-5a13-4d57-965f-0c1e05a96ea8\",\"type\":\"BasicTicker\"}},\"id\":\"083a1ff4-b8a9-429d-b50e-2a3fb1c7f0c2\",\"type\":\"Grid\"},{\"attributes\":{\"fill_color\":{\"value\":\"red\"},\"line_color\":{\"value\":\"red\"},\"size\":{\"units\":\"screen\",\"value\":15},\"x\":{\"field\":\"x\"},\"y\":{\"field\":\"y\"}},\"id\":\"a72df1c5-613d-4a8c-b7dc-fbb3471b7103\",\"type\":\"Circle\"},{\"attributes\":{},\"id\":\"ab561e75-b3b5-4c6e-a0cd-df1f6d4d37dc\",\"type\":\"LinearScale\"},{\"attributes\":{\"below\":[{\"id\":\"8d698ca0-f8c5-47c1-b152-2f73166af122\",\"type\":\"LinearAxis\"}],\"left\":[{\"id\":\"ebd0e832-3954-4836-b7f8-ee10c770b3ef\",\"type\":\"LinearAxis\"}],\"renderers\":[{\"id\":\"8d698ca0-f8c5-47c1-b152-2f73166af122\",\"type\":\"LinearAxis\"},{\"id\":\"083a1ff4-b8a9-429d-b50e-2a3fb1c7f0c2\",\"type\":\"Grid\"},{\"id\":\"ebd0e832-3954-4836-b7f8-ee10c770b3ef\",\"type\":\"LinearAxis\"},{\"id\":\"1168a094-a480-4acd-b174-9c7efdcafb3f\",\"type\":\"Grid\"},{\"id\":\"6645e745-e93d-46cb-b0b4-f955b676cf99\",\"type\":\"GlyphRenderer\"}],\"title\":{\"id\":\"7fec9f59-d51b-404a-a309-599057c97ef8\",\"type\":\"Title\"},\"toolbar\":{\"id\":\"cbfee510-d55b-44c7-b641-3a764c1163b7\",\"type\":\"Toolbar\"},\"x_range\":{\"id\":\"2cb42934-6170-4eae-92a1-86b43ec1c2bd\",\"type\":\"DataRange1d\"},\"x_scale\":{\"id\":\"14e3bffa-9f3b-4b4f-9348-7b3ea5f235de\",\"type\":\"LinearScale\"},\"y_range\":{\"id\":\"22fc9c94-baad-4ac6-a4b9-12a9048c57f8\",\"type\":\"DataRange1d\"},\"y_scale\":{\"id\":\"ab561e75-b3b5-4c6e-a0cd-df1f6d4d37dc\",\"type\":\"LinearScale\"}},\"id\":\"4af5ab7b-ca98-4a2f-bf67-86eddba34591\",\"subtype\":\"Figure\",\"type\":\"Plot\"},{\"attributes\":{\"fill_color\":{\"value\":\"#1f77b4\"},\"line_color\":{\"value\":\"#1f77b4\"},\"size\":{\"units\":\"screen\",\"value\":15},\"x\":{\"field\":\"x\"},\"y\":{\"field\":\"y\"}},\"id\":\"fe6a04d3-7e22-464e-8847-0e47a53991ca\",\"type\":\"Circle\"},{\"attributes\":{\"formatter\":{\"id\":\"0170fce0-dd8c-48dc-92de-eb9f64c6fa8c\",\"type\":\"BasicTickFormatter\"},\"plot\":{\"id\":\"4af5ab7b-ca98-4a2f-bf67-86eddba34591\",\"subtype\":\"Figure\",\"type\":\"Plot\"},\"ticker\":{\"id\":\"863216c2-5a13-4d57-965f-0c1e05a96ea8\",\"type\":\"BasicTicker\"}},\"id\":\"8d698ca0-f8c5-47c1-b152-2f73166af122\",\"type\":\"LinearAxis\"},{\"attributes\":{},\"id\":\"36594f27-546a-4ad9-b760-ff786a947e39\",\"type\":\"BasicTicker\"},{\"attributes\":{\"formatter\":{\"id\":\"8639d289-f4f8-4704-9d01-f0c2b82734a1\",\"type\":\"BasicTickFormatter\"},\"plot\":{\"id\":\"4af5ab7b-ca98-4a2f-bf67-86eddba34591\",\"subtype\":\"Figure\",\"type\":\"Plot\"},\"ticker\":{\"id\":\"36594f27-546a-4ad9-b760-ff786a947e39\",\"type\":\"BasicTicker\"}},\"id\":\"ebd0e832-3954-4836-b7f8-ee10c770b3ef\",\"type\":\"LinearAxis\"},{\"attributes\":{},\"id\":\"ddbdda2b-034b-49e2-888a-03daf7e8bd32\",\"type\":\"CrosshairTool\"},{\"attributes\":{},\"id\":\"8639d289-f4f8-4704-9d01-f0c2b82734a1\",\"type\":\"BasicTickFormatter\"},{\"attributes\":{\"callback\":null},\"id\":\"22fc9c94-baad-4ac6-a4b9-12a9048c57f8\",\"type\":\"DataRange1d\"},{\"attributes\":{\"data_source\":{\"id\":\"fefacd6a-ce12-4978-8cef-52c5df836317\",\"type\":\"ColumnDataSource\"},\"glyph\":{\"id\":\"fe6a04d3-7e22-464e-8847-0e47a53991ca\",\"type\":\"Circle\"},\"hover_glyph\":{\"id\":\"a72df1c5-613d-4a8c-b7dc-fbb3471b7103\",\"type\":\"Circle\"},\"muted_glyph\":null,\"nonselection_glyph\":{\"id\":\"525cc588-ffa5-4fdb-a700-d945197974f3\",\"type\":\"Circle\"},\"selection_glyph\":null,\"view\":{\"id\":\"6c96b191-13b1-47cb-9a5a-b5e6872adca1\",\"type\":\"CDSView\"}},\"id\":\"6645e745-e93d-46cb-b0b4-f955b676cf99\",\"type\":\"GlyphRenderer\"},{\"attributes\":{},\"id\":\"14e3bffa-9f3b-4b4f-9348-7b3ea5f235de\",\"type\":\"LinearScale\"},{\"attributes\":{\"callback\":null,\"column_names\":[\"x\",\"y\"],\"data\":{\"x\":{\"__ndarray__\":\"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\",\"dtype\":\"float64\",\"shape\":[1000]},\"y\":{\"__ndarray__\":\"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\",\"dtype\":\"float64\",\"shape\":[1000]}},\"selected\":null,\"selection_policy\":null},\"id\":\"fefacd6a-ce12-4978-8cef-52c5df836317\",\"type\":\"ColumnDataSource\"},{\"attributes\":{},\"id\":\"863216c2-5a13-4d57-965f-0c1e05a96ea8\",\"type\":\"BasicTicker\"},{\"attributes\":{\"callback\":null,\"mode\":\"hline\",\"tooltips\":null},\"id\":\"3104ff7f-ea3a-4e4c-8a98-06ea3749ff63\",\"type\":\"HoverTool\"},{\"attributes\":{\"plot\":null,\"text\":\"\"},\"id\":\"7fec9f59-d51b-404a-a309-599057c97ef8\",\"type\":\"Title\"},{\"attributes\":{\"source\":{\"id\":\"fefacd6a-ce12-4978-8cef-52c5df836317\",\"type\":\"ColumnDataSource\"}},\"id\":\"6c96b191-13b1-47cb-9a5a-b5e6872adca1\",\"type\":\"CDSView\"},{\"attributes\":{},\"id\":\"0170fce0-dd8c-48dc-92de-eb9f64c6fa8c\",\"type\":\"BasicTickFormatter\"}],\"root_ids\":[\"4af5ab7b-ca98-4a2f-bf67-86eddba34591\"]},\"title\":\"Bokeh Application\",\"version\":\"0.12.15\"}};\n",
       "  var render_items = [{\"docid\":\"80106726-6842-43ba-8be8-cb64b420040b\",\"elementid\":\"d50d4a1b-29dc-4fb4-9076-96d4d78b21c2\",\"modelid\":\"4af5ab7b-ca98-4a2f-bf67-86eddba34591\"}];\n",
       "  root.Bokeh.embed.embed_items_notebook(docs_json, render_items);\n",
       "\n",
       "  }\n",
       "  if (root.Bokeh !== undefined) {\n",
       "    embed_document(root);\n",
       "  } else {\n",
       "    var attempts = 0;\n",
       "    var timer = setInterval(function(root) {\n",
       "      if (root.Bokeh !== undefined) {\n",
       "        embed_document(root);\n",
       "        clearInterval(timer);\n",
       "      }\n",
       "      attempts++;\n",
       "      if (attempts > 100) {\n",
       "        console.log(\"Bokeh: ERROR: Unable to run BokehJS code because BokehJS library is missing\")\n",
       "        clearInterval(timer);\n",
       "      }\n",
       "    }, 10, root)\n",
       "  }\n",
       "})(window);"
      ],
      "application/vnd.bokehjs_exec.v0+json": ""
     },
     "metadata": {
      "application/vnd.bokehjs_exec.v0+json": {
       "id": "4af5ab7b-ca98-4a2f-bf67-86eddba34591"
      }
     },
     "output_type": "display_data"
    }
   ],
   "source": [
    "from bokeh.models import HoverTool\n",
    "hover= HoverTool(tooltips = None, mode = 'hline')\n",
    "p = figure(tools = [hover, 'crosshair'])\n",
    "p.circle(x, y, size = 15, hover_color = 'red')\n",
    "show(p)"
   ]
  },
  {
   "cell_type": "code",
   "execution_count": 59,
   "metadata": {},
   "outputs": [
    {
     "data": {
      "text/html": [
       "<div>\n",
       "<style scoped>\n",
       "    .dataframe tbody tr th:only-of-type {\n",
       "        vertical-align: middle;\n",
       "    }\n",
       "\n",
       "    .dataframe tbody tr th {\n",
       "        vertical-align: top;\n",
       "    }\n",
       "\n",
       "    .dataframe thead th {\n",
       "        text-align: right;\n",
       "    }\n",
       "</style>\n",
       "<table border=\"1\" class=\"dataframe\">\n",
       "  <thead>\n",
       "    <tr style=\"text-align: right;\">\n",
       "      <th></th>\n",
       "      <th>datetime</th>\n",
       "      <th>isig</th>\n",
       "      <th>glucose</th>\n",
       "    </tr>\n",
       "  </thead>\n",
       "  <tbody>\n",
       "    <tr>\n",
       "      <th>0</th>\n",
       "      <td>2010-10-07 00:03:00</td>\n",
       "      <td>22.10</td>\n",
       "      <td>150</td>\n",
       "    </tr>\n",
       "    <tr>\n",
       "      <th>1</th>\n",
       "      <td>2010-10-07 00:08:00</td>\n",
       "      <td>21.46</td>\n",
       "      <td>152</td>\n",
       "    </tr>\n",
       "    <tr>\n",
       "      <th>2</th>\n",
       "      <td>2010-10-07 00:13:00</td>\n",
       "      <td>21.06</td>\n",
       "      <td>149</td>\n",
       "    </tr>\n",
       "    <tr>\n",
       "      <th>3</th>\n",
       "      <td>2010-10-07 00:18:00</td>\n",
       "      <td>20.96</td>\n",
       "      <td>147</td>\n",
       "    </tr>\n",
       "    <tr>\n",
       "      <th>4</th>\n",
       "      <td>2010-10-07 00:23:00</td>\n",
       "      <td>21.52</td>\n",
       "      <td>148</td>\n",
       "    </tr>\n",
       "  </tbody>\n",
       "</table>\n",
       "</div>"
      ],
      "text/plain": [
       "             datetime   isig  glucose\n",
       "0 2010-10-07 00:03:00  22.10      150\n",
       "1 2010-10-07 00:08:00  21.46      152\n",
       "2 2010-10-07 00:13:00  21.06      149\n",
       "3 2010-10-07 00:18:00  20.96      147\n",
       "4 2010-10-07 00:23:00  21.52      148"
      ]
     },
     "execution_count": 59,
     "metadata": {},
     "output_type": "execute_result"
    }
   ],
   "source": [
    "df = pd.read_csv('glucose.csv', parse_dates = ['datetime'])\n",
    "df.head()"
   ]
  },
  {
   "cell_type": "code",
   "execution_count": 60,
   "metadata": {},
   "outputs": [
    {
     "data": {
      "text/html": [
       "\n",
       "<div class=\"bk-root\">\n",
       "    <div class=\"bk-plotdiv\" id=\"b53ff982-aea4-44ef-982c-b28ea1adcf9a\"></div>\n",
       "</div>"
      ]
     },
     "metadata": {},
     "output_type": "display_data"
    },
    {
     "data": {
      "application/javascript": [
       "(function(root) {\n",
       "  function embed_document(root) {\n",
       "    \n",
       "  var docs_json = {\"e6b237a7-147d-43d9-bc98-f5454d6b88d1\":{\"roots\":{\"references\":[{\"attributes\":{\"num_minor_ticks\":5,\"tickers\":[{\"id\":\"5d104935-c8ed-4cb3-9870-2a63c1aeb40d\",\"type\":\"AdaptiveTicker\"},{\"id\":\"71b7c495-f7ac-4b05-af93-81a6c9a3619b\",\"type\":\"AdaptiveTicker\"},{\"id\":\"53111378-850d-4bbc-b388-a8f22245b05e\",\"type\":\"AdaptiveTicker\"},{\"id\":\"42923fcf-2823-4d51-abdc-5ccc29832db8\",\"type\":\"DaysTicker\"},{\"id\":\"b17300c0-d02c-4e83-ba78-7e7695f66c31\",\"type\":\"DaysTicker\"},{\"id\":\"0df05423-48f3-4da3-9ac4-300c2f988a05\",\"type\":\"DaysTicker\"},{\"id\":\"4a40ea18-0c57-462c-974d-b1f415b3d9ea\",\"type\":\"DaysTicker\"},{\"id\":\"c53e6061-0b06-47d6-a36b-43f3252ff8ea\",\"type\":\"MonthsTicker\"},{\"id\":\"330767e2-d6d6-484e-b370-098bab16895d\",\"type\":\"MonthsTicker\"},{\"id\":\"4d9d4bce-f3e6-4365-98fe-09d8b8e16ec0\",\"type\":\"MonthsTicker\"},{\"id\":\"9ec92a0b-fdd3-4f03-9482-3ebbd1e2e699\",\"type\":\"MonthsTicker\"},{\"id\":\"6c2cac6b-163d-48bb-aa69-114eaa5dcd50\",\"type\":\"YearsTicker\"}]},\"id\":\"d3767a7a-3766-4f8b-805e-4677b25d4295\",\"type\":\"DatetimeTicker\"},{\"attributes\":{\"data_source\":{\"id\":\"182c5868-3394-4fab-86ad-b26b92feb5cf\",\"type\":\"ColumnDataSource\"},\"glyph\":{\"id\":\"8e4d2de1-720a-42a8-85d9-124f4f7d41bb\",\"type\":\"Line\"},\"hover_glyph\":null,\"muted_glyph\":null,\"nonselection_glyph\":{\"id\":\"bc971369-5dba-46f9-bc6c-d4ce706d1ced\",\"type\":\"Line\"},\"selection_glyph\":null,\"view\":{\"id\":\"8bae25f2-40e1-4a83-9634-43695d38bdf4\",\"type\":\"CDSView\"}},\"id\":\"f5eee4b2-1a32-4dc2-81c0-801a5c6cbfb1\",\"type\":\"GlyphRenderer\"},{\"attributes\":{\"axis_label\":\"Blood Glucose (mg/dL)\",\"formatter\":{\"id\":\"d45cd31f-8021-4303-9b8e-e047fd657594\",\"type\":\"BasicTickFormatter\"},\"plot\":{\"id\":\"69d2b3e8-5862-4d87-9122-efdf1909712a\",\"subtype\":\"Figure\",\"type\":\"Plot\"},\"ticker\":{\"id\":\"c4d09ae8-3a05-499b-8410-724b3e026dad\",\"type\":\"BasicTicker\"}},\"id\":\"a0b08a89-0e53-4a86-93b3-e2c938358ade\",\"type\":\"LinearAxis\"},{\"attributes\":{},\"id\":\"c4d09ae8-3a05-499b-8410-724b3e026dad\",\"type\":\"BasicTicker\"},{\"attributes\":{\"mantissas\":[1,2,5],\"max_interval\":500.0,\"num_minor_ticks\":0},\"id\":\"5d104935-c8ed-4cb3-9870-2a63c1aeb40d\",\"type\":\"AdaptiveTicker\"},{\"attributes\":{\"dimension\":1,\"plot\":{\"id\":\"69d2b3e8-5862-4d87-9122-efdf1909712a\",\"subtype\":\"Figure\",\"type\":\"Plot\"},\"ticker\":{\"id\":\"c4d09ae8-3a05-499b-8410-724b3e026dad\",\"type\":\"BasicTicker\"}},\"id\":\"cb5743db-4bbb-4c5d-bc2c-54fed54d61e3\",\"type\":\"Grid\"},{\"attributes\":{\"plot\":null,\"text\":\"\"},\"id\":\"1029686b-0802-4939-973a-b9a82e779e03\",\"type\":\"Title\"},{\"attributes\":{\"days\":[1,8,15,22]},\"id\":\"0df05423-48f3-4da3-9ac4-300c2f988a05\",\"type\":\"DaysTicker\"},{\"attributes\":{\"line_alpha\":0.9,\"line_color\":\"#1f77b4\",\"line_dash\":[2,4],\"x\":{\"field\":\"datetime\"},\"y\":{\"field\":\"glucose\"}},\"id\":\"8e4d2de1-720a-42a8-85d9-124f4f7d41bb\",\"type\":\"Line\"},{\"attributes\":{\"bottom_units\":\"screen\",\"fill_alpha\":{\"value\":0.5},\"fill_color\":{\"value\":\"lightgrey\"},\"left_units\":\"screen\",\"level\":\"overlay\",\"line_alpha\":{\"value\":1.0},\"line_color\":{\"value\":\"black\"},\"line_dash\":[4,4],\"line_width\":{\"value\":2},\"plot\":null,\"render_mode\":\"css\",\"right_units\":\"screen\",\"top_units\":\"screen\"},\"id\":\"38e160e5-c7b6-4920-9ee2-58800cde2d66\",\"type\":\"BoxAnnotation\"},{\"attributes\":{},\"id\":\"ed53c675-a409-41e9-81aa-72e9f9fe17a1\",\"type\":\"PanTool\"},{\"attributes\":{\"days\":[1,15]},\"id\":\"4a40ea18-0c57-462c-974d-b1f415b3d9ea\",\"type\":\"DaysTicker\"},{\"attributes\":{},\"id\":\"9677283c-08c3-40ec-8a11-9ed040bda0cb\",\"type\":\"WheelZoomTool\"},{\"attributes\":{\"overlay\":{\"id\":\"38e160e5-c7b6-4920-9ee2-58800cde2d66\",\"type\":\"BoxAnnotation\"}},\"id\":\"7a9d1dbf-1a6d-49a1-a222-4e0a49681238\",\"type\":\"BoxZoomTool\"},{\"attributes\":{},\"id\":\"aaa08acd-806a-4c41-9fb3-1d7651437507\",\"type\":\"SaveTool\"},{\"attributes\":{},\"id\":\"39a58678-017a-4d39-946d-6c4c81b33890\",\"type\":\"ResetTool\"},{\"attributes\":{},\"id\":\"dc94430c-5e14-403c-ab08-a24ce6b9a15e\",\"type\":\"HelpTool\"},{\"attributes\":{\"months\":[0,4,8]},\"id\":\"4d9d4bce-f3e6-4365-98fe-09d8b8e16ec0\",\"type\":\"MonthsTicker\"},{\"attributes\":{\"months\":[0,1,2,3,4,5,6,7,8,9,10,11]},\"id\":\"c53e6061-0b06-47d6-a36b-43f3252ff8ea\",\"type\":\"MonthsTicker\"},{\"attributes\":{\"months\":[0,2,4,6,8,10]},\"id\":\"330767e2-d6d6-484e-b370-098bab16895d\",\"type\":\"MonthsTicker\"},{\"attributes\":{\"months\":[0,6]},\"id\":\"9ec92a0b-fdd3-4f03-9482-3ebbd1e2e699\",\"type\":\"MonthsTicker\"},{\"attributes\":{},\"id\":\"6c2cac6b-163d-48bb-aa69-114eaa5dcd50\",\"type\":\"YearsTicker\"},{\"attributes\":{\"below\":[{\"id\":\"36501e1c-cdbb-42a0-833c-49edc2cd7922\",\"type\":\"DatetimeAxis\"}],\"left\":[{\"id\":\"a0b08a89-0e53-4a86-93b3-e2c938358ade\",\"type\":\"LinearAxis\"}],\"renderers\":[{\"id\":\"36501e1c-cdbb-42a0-833c-49edc2cd7922\",\"type\":\"DatetimeAxis\"},{\"id\":\"d7cca3d0-f036-4811-8c3a-9562b87302ba\",\"type\":\"Grid\"},{\"id\":\"a0b08a89-0e53-4a86-93b3-e2c938358ade\",\"type\":\"LinearAxis\"},{\"id\":\"cb5743db-4bbb-4c5d-bc2c-54fed54d61e3\",\"type\":\"Grid\"},{\"id\":\"38e160e5-c7b6-4920-9ee2-58800cde2d66\",\"type\":\"BoxAnnotation\"},{\"id\":\"f5eee4b2-1a32-4dc2-81c0-801a5c6cbfb1\",\"type\":\"GlyphRenderer\"},{\"id\":\"1df5ff91-4ba0-4bdd-9001-1805168d1e20\",\"type\":\"GlyphRenderer\"}],\"title\":{\"id\":\"1029686b-0802-4939-973a-b9a82e779e03\",\"type\":\"Title\"},\"toolbar\":{\"id\":\"5c4e3aa9-e4d6-4647-a621-11386e9f20df\",\"type\":\"Toolbar\"},\"x_range\":{\"id\":\"55a62ad6-a07c-481e-8dd5-de30a37991ee\",\"type\":\"DataRange1d\"},\"x_scale\":{\"id\":\"44461fdc-6adf-4c40-9185-1677b8205eae\",\"type\":\"LinearScale\"},\"y_range\":{\"id\":\"81646648-d26d-41f9-a53d-98a425b8334b\",\"type\":\"DataRange1d\"},\"y_scale\":{\"id\":\"92070720-2653-4c15-9d29-ecfede38357a\",\"type\":\"LinearScale\"}},\"id\":\"69d2b3e8-5862-4d87-9122-efdf1909712a\",\"subtype\":\"Figure\",\"type\":\"Plot\"},{\"attributes\":{\"callback\":null,\"mode\":\"hline\",\"tooltips\":null},\"id\":\"8d7dedc4-6d3a-43a3-8079-9e556893414f\",\"type\":\"HoverTool\"},{\"attributes\":{\"callback\":null,\"column_names\":[\"datetime\",\"isig\",\"glucose\",\"index\"],\"data\":{\"datetime\":{\"__ndarray__\":\"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\",\"dtype\":\"float64\",\"shape\":[288]},\"glucose\":[150,152,149,147,148,150,152,152,152,151,151,150,149,147,146,143,140,138,136,137,138,140,138,135,132,130,129,129,129,130,130,129,128,128,128,129,129,128,127,126,125,125,125,125,124,124,121,120,120,123,124,123,122,120,115,113,114,114,115,116,115,112,111,111,109,108,107,107,110,113,114,115,115,115,114,113,113,116,119,120,121,121,122,123,124,125,126,126,126,126,126,127,127,125,122,118,115,111,112,115,117,120,124,127,131,137,143,148,153,159,166,172,178,184,191,199,206,212,217,223,229,232,233,235,237,240,241,243,246,247,246,243,240,234,229,225,221,217,216,215,215,215,212,208,203,199,196,194,190,185,180,177,163,158,152,149,153,163,174,182,188,192,195,197,201,204,205,203,199,195,189,184,176,169,162,150,138,128,119,110,100,90,80,73,68,64,63,63,66,68,70,71,72,74,80,94,116,141,164,183,198,210,220,228,233,237,241,247,252,256,260,259,258,256,251,245,238,234,227,221,215,208,207,207,203,201,201,199,179,176,171,163,152,137,119,98,77,61,50,45,47,59,71,86,99,109,116,117,115,111,107,102,96,91,90,94,97,97,95,92,87,84,84,83,84,86,86,86,84,82,82,81,81,82,84,87,89,91,92,94,93,93,94,96,100,101,99,97],\"index\":[0,1,2,3,4,5,6,7,8,9,10,11,12,13,14,15,16,17,18,19,20,21,22,23,24,25,26,27,28,29,30,31,32,33,34,35,36,37,38,39,40,41,42,43,44,45,46,47,48,49,50,51,52,53,54,55,56,57,58,59,60,61,62,63,64,65,66,67,68,69,70,71,72,73,74,75,76,77,78,79,80,81,82,83,84,85,86,87,88,89,90,91,92,93,94,95,96,97,98,99,100,101,102,103,104,105,106,107,108,109,110,111,112,113,114,115,116,117,118,119,120,121,122,123,124,125,126,127,128,129,130,131,132,133,134,135,136,137,138,139,140,141,142,143,144,145,146,147,148,149,150,151,152,153,154,155,156,157,158,159,160,161,162,163,164,165,166,167,168,169,170,171,172,173,174,175,176,177,178,179,180,181,182,183,184,185,186,187,188,189,190,191,192,193,194,195,196,197,198,199,200,201,202,203,204,205,206,207,208,209,210,211,212,213,214,215,216,217,218,219,220,221,222,223,224,225,226,227,228,229,230,231,232,233,234,235,236,237,238,239,240,241,242,243,244,245,246,247,248,249,250,251,252,253,254,255,256,257,258,259,260,261,262,263,264,265,266,267,268,269,270,271,272,273,274,275,276,277,278,279,280,281,282,283,284,285,286,287],\"isig\":{\"__ndarray__\":\"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\",\"dtype\":\"float64\",\"shape\":[288]}},\"selected\":null,\"selection_policy\":null},\"id\":\"182c5868-3394-4fab-86ad-b26b92feb5cf\",\"type\":\"ColumnDataSource\"},{\"attributes\":{\"fill_alpha\":{\"value\":0.5},\"fill_color\":{\"value\":\"firebrick\"},\"line_alpha\":{\"value\":0.5},\"line_color\":{\"value\":\"white\"},\"size\":{\"units\":\"screen\",\"value\":10},\"x\":{\"field\":\"datetime\"},\"y\":{\"field\":\"glucose\"}},\"id\":\"94bc19c9-78e1-42f7-b4d9-82c12ddca935\",\"type\":\"Circle\"},{\"attributes\":{\"days\":[1,4,7,10,13,16,19,22,25,28]},\"id\":\"b17300c0-d02c-4e83-ba78-7e7695f66c31\",\"type\":\"DaysTicker\"},{\"attributes\":{\"fill_alpha\":{\"value\":0.1},\"fill_color\":{\"value\":\"#1f77b4\"},\"line_alpha\":{\"value\":0.1},\"line_color\":{\"value\":null},\"size\":{\"units\":\"screen\",\"value\":10},\"x\":{\"field\":\"datetime\"},\"y\":{\"field\":\"glucose\"}},\"id\":\"5871caa5-c934-4878-9791-1d345aa365f9\",\"type\":\"Circle\"},{\"attributes\":{\"base\":24,\"mantissas\":[1,2,4,6,8,12],\"max_interval\":43200000.0,\"min_interval\":3600000.0,\"num_minor_ticks\":0},\"id\":\"53111378-850d-4bbc-b388-a8f22245b05e\",\"type\":\"AdaptiveTicker\"},{\"attributes\":{\"fill_alpha\":{\"value\":0.1},\"fill_color\":{\"value\":\"#1f77b4\"},\"line_alpha\":{\"value\":0.1},\"line_color\":{\"value\":\"#1f77b4\"},\"size\":{\"units\":\"screen\",\"value\":10},\"x\":{\"field\":\"datetime\"},\"y\":{\"field\":\"glucose\"}},\"id\":\"d61cbb01-0b0f-403c-9766-32ea85ab1f66\",\"type\":\"Circle\"},{\"attributes\":{\"data_source\":{\"id\":\"182c5868-3394-4fab-86ad-b26b92feb5cf\",\"type\":\"ColumnDataSource\"},\"glyph\":{\"id\":\"5871caa5-c934-4878-9791-1d345aa365f9\",\"type\":\"Circle\"},\"hover_glyph\":{\"id\":\"94bc19c9-78e1-42f7-b4d9-82c12ddca935\",\"type\":\"Circle\"},\"muted_glyph\":null,\"nonselection_glyph\":{\"id\":\"d61cbb01-0b0f-403c-9766-32ea85ab1f66\",\"type\":\"Circle\"},\"selection_glyph\":null,\"view\":{\"id\":\"0e0eea8c-6eeb-46c7-a414-afb233d7d771\",\"type\":\"CDSView\"}},\"id\":\"1df5ff91-4ba0-4bdd-9001-1805168d1e20\",\"type\":\"GlyphRenderer\"},{\"attributes\":{},\"id\":\"33fa8e01-ce6a-43f7-9ed2-8d77bb2aa09a\",\"type\":\"DatetimeTickFormatter\"},{\"attributes\":{\"callback\":null},\"id\":\"55a62ad6-a07c-481e-8dd5-de30a37991ee\",\"type\":\"DataRange1d\"},{\"attributes\":{\"source\":{\"id\":\"182c5868-3394-4fab-86ad-b26b92feb5cf\",\"type\":\"ColumnDataSource\"}},\"id\":\"0e0eea8c-6eeb-46c7-a414-afb233d7d771\",\"type\":\"CDSView\"},{\"attributes\":{\"active_drag\":\"auto\",\"active_inspect\":\"auto\",\"active_scroll\":\"auto\",\"active_tap\":\"auto\",\"tools\":[{\"id\":\"ed53c675-a409-41e9-81aa-72e9f9fe17a1\",\"type\":\"PanTool\"},{\"id\":\"9677283c-08c3-40ec-8a11-9ed040bda0cb\",\"type\":\"WheelZoomTool\"},{\"id\":\"7a9d1dbf-1a6d-49a1-a222-4e0a49681238\",\"type\":\"BoxZoomTool\"},{\"id\":\"aaa08acd-806a-4c41-9fb3-1d7651437507\",\"type\":\"SaveTool\"},{\"id\":\"39a58678-017a-4d39-946d-6c4c81b33890\",\"type\":\"ResetTool\"},{\"id\":\"dc94430c-5e14-403c-ab08-a24ce6b9a15e\",\"type\":\"HelpTool\"},{\"id\":\"8d7dedc4-6d3a-43a3-8079-9e556893414f\",\"type\":\"HoverTool\"}]},\"id\":\"5c4e3aa9-e4d6-4647-a621-11386e9f20df\",\"type\":\"Toolbar\"},{\"attributes\":{},\"id\":\"d45cd31f-8021-4303-9b8e-e047fd657594\",\"type\":\"BasicTickFormatter\"},{\"attributes\":{\"days\":[1,2,3,4,5,6,7,8,9,10,11,12,13,14,15,16,17,18,19,20,21,22,23,24,25,26,27,28,29,30,31]},\"id\":\"42923fcf-2823-4d51-abdc-5ccc29832db8\",\"type\":\"DaysTicker\"},{\"attributes\":{\"source\":{\"id\":\"182c5868-3394-4fab-86ad-b26b92feb5cf\",\"type\":\"ColumnDataSource\"}},\"id\":\"8bae25f2-40e1-4a83-9634-43695d38bdf4\",\"type\":\"CDSView\"},{\"attributes\":{\"base\":60,\"mantissas\":[1,2,5,10,15,20,30],\"max_interval\":1800000.0,\"min_interval\":1000.0,\"num_minor_ticks\":0},\"id\":\"71b7c495-f7ac-4b05-af93-81a6c9a3619b\",\"type\":\"AdaptiveTicker\"},{\"attributes\":{\"line_alpha\":0.1,\"line_color\":\"#1f77b4\",\"line_dash\":[2,4],\"x\":{\"field\":\"datetime\"},\"y\":{\"field\":\"glucose\"}},\"id\":\"bc971369-5dba-46f9-bc6c-d4ce706d1ced\",\"type\":\"Line\"},{\"attributes\":{\"callback\":null},\"id\":\"81646648-d26d-41f9-a53d-98a425b8334b\",\"type\":\"DataRange1d\"},{\"attributes\":{},\"id\":\"44461fdc-6adf-4c40-9185-1677b8205eae\",\"type\":\"LinearScale\"},{\"attributes\":{},\"id\":\"92070720-2653-4c15-9d29-ecfede38357a\",\"type\":\"LinearScale\"},{\"attributes\":{\"plot\":{\"id\":\"69d2b3e8-5862-4d87-9122-efdf1909712a\",\"subtype\":\"Figure\",\"type\":\"Plot\"},\"ticker\":{\"id\":\"d3767a7a-3766-4f8b-805e-4677b25d4295\",\"type\":\"DatetimeTicker\"}},\"id\":\"d7cca3d0-f036-4811-8c3a-9562b87302ba\",\"type\":\"Grid\"},{\"attributes\":{\"axis_label\":\"Time of the day\",\"formatter\":{\"id\":\"33fa8e01-ce6a-43f7-9ed2-8d77bb2aa09a\",\"type\":\"DatetimeTickFormatter\"},\"plot\":{\"id\":\"69d2b3e8-5862-4d87-9122-efdf1909712a\",\"subtype\":\"Figure\",\"type\":\"Plot\"},\"ticker\":{\"id\":\"d3767a7a-3766-4f8b-805e-4677b25d4295\",\"type\":\"DatetimeTicker\"}},\"id\":\"36501e1c-cdbb-42a0-833c-49edc2cd7922\",\"type\":\"DatetimeAxis\"}],\"root_ids\":[\"69d2b3e8-5862-4d87-9122-efdf1909712a\"]},\"title\":\"Bokeh Application\",\"version\":\"0.12.15\"}};\n",
       "  var render_items = [{\"docid\":\"e6b237a7-147d-43d9-bc98-f5454d6b88d1\",\"elementid\":\"b53ff982-aea4-44ef-982c-b28ea1adcf9a\",\"modelid\":\"69d2b3e8-5862-4d87-9122-efdf1909712a\"}];\n",
       "  root.Bokeh.embed.embed_items_notebook(docs_json, render_items);\n",
       "\n",
       "  }\n",
       "  if (root.Bokeh !== undefined) {\n",
       "    embed_document(root);\n",
       "  } else {\n",
       "    var attempts = 0;\n",
       "    var timer = setInterval(function(root) {\n",
       "      if (root.Bokeh !== undefined) {\n",
       "        embed_document(root);\n",
       "        clearInterval(timer);\n",
       "      }\n",
       "      attempts++;\n",
       "      if (attempts > 100) {\n",
       "        console.log(\"Bokeh: ERROR: Unable to run BokehJS code because BokehJS library is missing\")\n",
       "        clearInterval(timer);\n",
       "      }\n",
       "    }, 10, root)\n",
       "  }\n",
       "})(window);"
      ],
      "application/vnd.bokehjs_exec.v0+json": ""
     },
     "metadata": {
      "application/vnd.bokehjs_exec.v0+json": {
       "id": "69d2b3e8-5862-4d87-9122-efdf1909712a"
      }
     },
     "output_type": "display_data"
    }
   ],
   "source": [
    "source = ColumnDataSource(df)\n",
    "p = figure(x_axis_type = \"datetime\", x_axis_label = 'Time of the day', y_axis_label = 'Blood Glucose (mg/dL)')\n",
    "p.line('datetime', 'glucose', line_dash = 'dotted', alpha = 0.9, source = source)\n",
    "p.circle('datetime', 'glucose', source = source, alpha = 0.1, line_color = None, size = 10, hover_fill_color = 'firebrick',\n",
    "        hover_line_color = 'white', hover_alpha = 0.5)\n",
    "hover = HoverTool(tooltips = None, mode = 'hline')\n",
    "p.add_tools(hover)\n",
    "show(p)"
   ]
  },
  {
   "cell_type": "markdown",
   "metadata": {},
   "source": [
    "### Ejercicio 4 - "
   ]
  },
  {
   "cell_type": "code",
   "execution_count": 123,
   "metadata": {},
   "outputs": [
    {
     "data": {
      "text/html": [
       "<div>\n",
       "<style scoped>\n",
       "    .dataframe tbody tr th:only-of-type {\n",
       "        vertical-align: middle;\n",
       "    }\n",
       "\n",
       "    .dataframe tbody tr th {\n",
       "        vertical-align: top;\n",
       "    }\n",
       "\n",
       "    .dataframe thead th {\n",
       "        text-align: right;\n",
       "    }\n",
       "</style>\n",
       "<table border=\"1\" class=\"dataframe\">\n",
       "  <thead>\n",
       "    <tr style=\"text-align: right;\">\n",
       "      <th></th>\n",
       "      <th>Country</th>\n",
       "      <th>Continent</th>\n",
       "      <th>female literacy</th>\n",
       "      <th>fertility</th>\n",
       "      <th>population</th>\n",
       "      <th>scaledPopulation</th>\n",
       "    </tr>\n",
       "  </thead>\n",
       "  <tbody>\n",
       "    <tr>\n",
       "      <th>0</th>\n",
       "      <td>Chine</td>\n",
       "      <td>ASI</td>\n",
       "      <td>90.5</td>\n",
       "      <td>1.769</td>\n",
       "      <td>1.324655e+09</td>\n",
       "      <td>91.831452</td>\n",
       "    </tr>\n",
       "    <tr>\n",
       "      <th>1</th>\n",
       "      <td>Inde</td>\n",
       "      <td>ASI</td>\n",
       "      <td>50.8</td>\n",
       "      <td>2.682</td>\n",
       "      <td>1.139965e+09</td>\n",
       "      <td>85.189449</td>\n",
       "    </tr>\n",
       "    <tr>\n",
       "      <th>2</th>\n",
       "      <td>USA</td>\n",
       "      <td>NAM</td>\n",
       "      <td>99.0</td>\n",
       "      <td>2.077</td>\n",
       "      <td>3.040600e+08</td>\n",
       "      <td>43.996660</td>\n",
       "    </tr>\n",
       "    <tr>\n",
       "      <th>3</th>\n",
       "      <td>Indonésie</td>\n",
       "      <td>ASI</td>\n",
       "      <td>88.8</td>\n",
       "      <td>2.132</td>\n",
       "      <td>2.273451e+08</td>\n",
       "      <td>38.043708</td>\n",
       "    </tr>\n",
       "    <tr>\n",
       "      <th>4</th>\n",
       "      <td>Brésil</td>\n",
       "      <td>LAT</td>\n",
       "      <td>90.2</td>\n",
       "      <td>1.827</td>\n",
       "      <td>1.919715e+08</td>\n",
       "      <td>34.958955</td>\n",
       "    </tr>\n",
       "  </tbody>\n",
       "</table>\n",
       "</div>"
      ],
      "text/plain": [
       "    Country  Continent  female literacy  fertility    population  \\\n",
       "0      Chine       ASI             90.5      1.769  1.324655e+09   \n",
       "1       Inde       ASI             50.8      2.682  1.139965e+09   \n",
       "2        USA       NAM             99.0      2.077  3.040600e+08   \n",
       "3  Indonésie       ASI             88.8      2.132  2.273451e+08   \n",
       "4     Brésil       LAT             90.2      1.827  1.919715e+08   \n",
       "\n",
       "   scaledPopulation  \n",
       "0         91.831452  \n",
       "1         85.189449  \n",
       "2         43.996660  \n",
       "3         38.043708  \n",
       "4         34.958955  "
      ]
     },
     "execution_count": 123,
     "metadata": {},
     "output_type": "execute_result"
    }
   ],
   "source": [
    "fileData = pd.read_csv(\"female_literacy_birth_rate.csv\")\n",
    "scaleFactor = 0.00001\n",
    "fileData['scaledPopulation'] = np.sqrt((fileData['population'] * scaleFactor) / (2 * np.pi)) * 2\n",
    "dataSource = ColumnDataSource(fileData)\n",
    "fileData.head()"
   ]
  },
  {
   "cell_type": "code",
   "execution_count": 124,
   "metadata": {},
   "outputs": [
    {
     "data": {
      "text/plain": [
       "['#1f77b4', '#ff7f0e', '#2ca02c', '#d62728', '#9467bd', '#8c564b']"
      ]
     },
     "execution_count": 124,
     "metadata": {},
     "output_type": "execute_result"
    }
   ],
   "source": [
    "from bokeh.palettes import d3\n",
    "d3['Category10'][6]"
   ]
  },
  {
   "cell_type": "code",
   "execution_count": 125,
   "metadata": {},
   "outputs": [
    {
     "data": {
      "text/plain": [
       "['ASI', 'NAM', 'LAT', 'AF', 'EUR', 'OCE']"
      ]
     },
     "execution_count": 125,
     "metadata": {},
     "output_type": "execute_result"
    }
   ],
   "source": [
    "factores = list(fileData['Continent'].unique())\n",
    "factores"
   ]
  },
  {
   "cell_type": "code",
   "execution_count": 126,
   "metadata": {},
   "outputs": [],
   "source": [
    "color_mapper = CategoricalColorMapper(factors = factores, \n",
    "                                      palette = d3['Category10'][6])"
   ]
  },
  {
   "cell_type": "code",
   "execution_count": 127,
   "metadata": {},
   "outputs": [
    {
     "data": {
      "text/html": [
       "\n",
       "<div class=\"bk-root\">\n",
       "    <div class=\"bk-plotdiv\" id=\"98812b84-c531-46a8-8195-6e7be1629191\"></div>\n",
       "</div>"
      ]
     },
     "metadata": {},
     "output_type": "display_data"
    },
    {
     "data": {
      "application/javascript": [
       "(function(root) {\n",
       "  function embed_document(root) {\n",
       "    \n",
       "  var docs_json = {\"400853a7-439e-4a75-a252-3e07141ba5b3\":{\"roots\":{\"references\":[{\"attributes\":{\"fill_alpha\":{\"value\":0.1},\"fill_color\":{\"value\":\"#1f77b4\"},\"line_alpha\":{\"value\":0.1},\"line_color\":{\"value\":\"#1f77b4\"},\"line_width\":{\"value\":0.5},\"size\":{\"field\":\"scaledPopulation\",\"units\":\"screen\"},\"x\":{\"field\":\"female literacy\"},\"y\":{\"field\":\"fertility\"}},\"id\":\"9058589c-5c3e-4fe5-84ff-82f7560a1b03\",\"type\":\"Circle\"},{\"attributes\":{},\"id\":\"2c876ec1-67d3-4e19-977f-d3b43e0fcd51\",\"type\":\"ResetTool\"},{\"attributes\":{\"callback\":null},\"id\":\"927ddd17-2c83-43db-9bd6-9c512e9af0e1\",\"type\":\"DataRange1d\"},{\"attributes\":{\"factors\":[\"ASI\",\"NAM\",\"LAT\",\"AF\",\"EUR\",\"OCE\"],\"palette\":[\"#1f77b4\",\"#ff7f0e\",\"#2ca02c\",\"#d62728\",\"#9467bd\",\"#8c564b\"]},\"id\":\"9e6f9ca3-216a-4395-bcb9-e79d057a4209\",\"type\":\"CategoricalColorMapper\"},{\"attributes\":{},\"id\":\"6d0531db-4ac2-4293-ae49-07626e8b80da\",\"type\":\"HelpTool\"},{\"attributes\":{\"plot\":{\"id\":\"49c0a8b0-e0bf-44f2-ab8b-c692d09b849b\",\"subtype\":\"Figure\",\"type\":\"Plot\"},\"ticker\":{\"id\":\"0b3f038a-ed55-4f1a-94c4-9cac805ae0f4\",\"type\":\"BasicTicker\"}},\"id\":\"0760386c-3b19-41b5-b9cf-4a764f31ea0d\",\"type\":\"Grid\"},{\"attributes\":{\"axis_label\":\"Adult female literacy (%)\",\"formatter\":{\"id\":\"835ed185-079c-436d-b96d-407ce7c20204\",\"type\":\"BasicTickFormatter\"},\"plot\":{\"id\":\"49c0a8b0-e0bf-44f2-ab8b-c692d09b849b\",\"subtype\":\"Figure\",\"type\":\"Plot\"},\"ticker\":{\"id\":\"0b3f038a-ed55-4f1a-94c4-9cac805ae0f4\",\"type\":\"BasicTicker\"}},\"id\":\"3751b335-c795-47f4-a67d-e711d50fbb5c\",\"type\":\"LinearAxis\"},{\"attributes\":{\"source\":{\"id\":\"2d4e4a52-b786-434c-9bdf-75b681a671cf\",\"type\":\"ColumnDataSource\"}},\"id\":\"1aed635b-5cbd-4ed6-94ee-2612d1272744\",\"type\":\"CDSView\"},{\"attributes\":{\"plot\":null,\"text\":\"\"},\"id\":\"d2ca474e-212c-4a10-aaf3-3555e3fc6e83\",\"type\":\"Title\"},{\"attributes\":{},\"id\":\"0b3f038a-ed55-4f1a-94c4-9cac805ae0f4\",\"type\":\"BasicTicker\"},{\"attributes\":{\"axis_label\":\"fertility (children per woman)\",\"formatter\":{\"id\":\"1464d375-37d5-4acb-85e8-01445253a48e\",\"type\":\"BasicTickFormatter\"},\"plot\":{\"id\":\"49c0a8b0-e0bf-44f2-ab8b-c692d09b849b\",\"subtype\":\"Figure\",\"type\":\"Plot\"},\"ticker\":{\"id\":\"af173003-45b2-47f5-9586-60e914a77099\",\"type\":\"BasicTicker\"}},\"id\":\"adebffa1-c953-4cbc-b10b-178ab4b41c3e\",\"type\":\"LinearAxis\"},{\"attributes\":{},\"id\":\"af173003-45b2-47f5-9586-60e914a77099\",\"type\":\"BasicTicker\"},{\"attributes\":{},\"id\":\"1464d375-37d5-4acb-85e8-01445253a48e\",\"type\":\"BasicTickFormatter\"},{\"attributes\":{},\"id\":\"835ed185-079c-436d-b96d-407ce7c20204\",\"type\":\"BasicTickFormatter\"},{\"attributes\":{\"label\":{\"field\":\"Continent\"},\"renderers\":[{\"id\":\"6bfe9c8a-6813-4598-a695-a7929a59563f\",\"type\":\"GlyphRenderer\"}]},\"id\":\"d3b5754c-d90e-403c-9174-9413b5f61f4b\",\"type\":\"LegendItem\"},{\"attributes\":{\"dimension\":1,\"plot\":{\"id\":\"49c0a8b0-e0bf-44f2-ab8b-c692d09b849b\",\"subtype\":\"Figure\",\"type\":\"Plot\"},\"ticker\":{\"id\":\"af173003-45b2-47f5-9586-60e914a77099\",\"type\":\"BasicTicker\"}},\"id\":\"fad0e25e-1d7b-4a34-a86b-936ff3577b01\",\"type\":\"Grid\"},{\"attributes\":{\"callback\":null},\"id\":\"61e30ec9-aad4-4cee-ac2a-d0abdb9c9c2c\",\"type\":\"DataRange1d\"},{\"attributes\":{\"items\":[{\"id\":\"d3b5754c-d90e-403c-9174-9413b5f61f4b\",\"type\":\"LegendItem\"}],\"location\":\"bottom_left\",\"plot\":{\"id\":\"49c0a8b0-e0bf-44f2-ab8b-c692d09b849b\",\"subtype\":\"Figure\",\"type\":\"Plot\"}},\"id\":\"8487b9fc-f9af-42f1-9beb-de0db9532726\",\"type\":\"Legend\"},{\"attributes\":{\"data_source\":{\"id\":\"2d4e4a52-b786-434c-9bdf-75b681a671cf\",\"type\":\"ColumnDataSource\"},\"glyph\":{\"id\":\"a628258a-bd02-48c1-9d6c-1b1d3a2f9fd8\",\"type\":\"Circle\"},\"hover_glyph\":null,\"muted_glyph\":null,\"nonselection_glyph\":{\"id\":\"9058589c-5c3e-4fe5-84ff-82f7560a1b03\",\"type\":\"Circle\"},\"selection_glyph\":null,\"view\":{\"id\":\"1aed635b-5cbd-4ed6-94ee-2612d1272744\",\"type\":\"CDSView\"}},\"id\":\"6bfe9c8a-6813-4598-a695-a7929a59563f\",\"type\":\"GlyphRenderer\"},{\"attributes\":{\"fill_alpha\":{\"value\":0.8},\"fill_color\":{\"field\":\"Continent\",\"transform\":{\"id\":\"9e6f9ca3-216a-4395-bcb9-e79d057a4209\",\"type\":\"CategoricalColorMapper\"}},\"line_alpha\":{\"value\":0.8},\"line_color\":{\"value\":\"gray\"},\"line_width\":{\"value\":0.5},\"size\":{\"field\":\"scaledPopulation\",\"units\":\"screen\"},\"x\":{\"field\":\"female literacy\"},\"y\":{\"field\":\"fertility\"}},\"id\":\"a628258a-bd02-48c1-9d6c-1b1d3a2f9fd8\",\"type\":\"Circle\"},{\"attributes\":{},\"id\":\"6cf6faa1-8a87-4d75-a83e-92f2ddc30d1e\",\"type\":\"LinearScale\"},{\"attributes\":{\"bottom_units\":\"screen\",\"fill_alpha\":{\"value\":0.5},\"fill_color\":{\"value\":\"lightgrey\"},\"left_units\":\"screen\",\"level\":\"overlay\",\"line_alpha\":{\"value\":1.0},\"line_color\":{\"value\":\"black\"},\"line_dash\":[4,4],\"line_width\":{\"value\":2},\"plot\":null,\"render_mode\":\"css\",\"right_units\":\"screen\",\"top_units\":\"screen\"},\"id\":\"388310f9-9964-4409-b816-41f6a7517c6b\",\"type\":\"BoxAnnotation\"},{\"attributes\":{},\"id\":\"916713c1-95e9-477f-8516-c12a1d5537ef\",\"type\":\"LinearScale\"},{\"attributes\":{},\"id\":\"ba165b97-0f3e-4d65-b298-b4f1d0c6347a\",\"type\":\"PanTool\"},{\"attributes\":{\"callback\":null,\"column_names\":[\"Country \",\"Continent\",\"female literacy\",\"fertility\",\"population\",\"scaledPopulation\",\"index\"],\"data\":{\"Continent\":[\"ASI\",\"ASI\",\"NAM\",\"ASI\",\"LAT\",\"ASI\",\"ASI\",\"AF\",\"EUR\",\"ASI\",\"LAT\",\"ASI\",\"ASI\",\"EUR\",\"AF\",\"AF\",\"ASI\",\"ASI\",\"ASI\",\"AF\",\"EUR\",\"EUR\",\"EUR\",\"ASI\",\"AF\",\"ASI\",\"EUR\",\"EUR\",\"LAT\",\"AF\",\"AF\",\"LAT\",\"AF\",\"EUR\",\"AF\",\"NAM\",\"AF\",\"AF\",\"ASI\",\"ASI\",\"LAT\",\"ASI\",\"LAT\",\"ASI\",\"ASI\",\"ASI\",\"ASI\",\"AF\",\"ASI\",\"AF\",\"EUR\",\"AF\",\"ASI\",\"ASI\",\"AF\",\"AF\",\"AF\",\"LAT\",\"EUR\",\"ASI\",\"AF\",\"AF\",\"AF\",\"ASI\",\"LAT\",\"LAT\",\"AF\",\"AF\",\"AF\",\"AF\",\"EUR\",\"LAT\",\"AF\",\"EUR\",\"EUR\",\"EUR\",\"AF\",\"EUR\",\"LAT\",\"AF\",\"AF\",\"LAT\",\"EUR\",\"EUR\",\"ASI\",\"AF\",\"AF\",\"EUR\",\"EUR\",\"EUR\",\"LAT\",\"ASI\",\"ASI\",\"OCE\",\"AF\",\"AF\",\"LAT\",\"ASI\",\"LAT\",\"ASI\",\"LAT\",\"AF\",\"EUR\",\"EUR\",\"ASI\",\"ASI\",\"AF\",\"ASI\",\"EUR\",\"LAT\",\"ASI\",\"EUR\",\"EUR\",\"AF\",\"ASI\",\"OCE\",\"ASI\",\"AF\",\"EUR\",\"EUR\",\"LAT\",\"EUR\",\"LAT\",\"AF\",\"EUR\",\"ASI\",\"ASI\",\"ASI\",\"LAT\",\"ASI\",\"EUR\",\"AF\",\"AF\",\"EUR\",\"EUR\",\"AF\",\"AF\",\"AF\",\"AF\",\"EUR\",\"LAT\",\"ASI\",\"AF\",\"AF\",\"EUR\",\"ASI\",\"ASI\",\"AF\",\"AF\",\"ASI\",\"LAT\",\"AF\",\"EUR\",\"ASI\",\"LAT\",\"EUR\",\"ASI\",\"OCE\",\"OCE\",\"AF\",\"LAT\",\"ASI\"],\"Country \":[\"Chine\",\"Inde\",\"USA\",\"Indon\\u00e9sie\",\"Br\\u00e9sil\",\"Pakistan\",\"Bangladesh\",\"Nig\\u00e9ria\",\"F\\u00e9d\\u00e9ration de Russie\",\"Japan\",\"Mexique\",\"Philippines\",\"Viet Nam\",\"Germany\",\"Egypte\",\"Ethiopie\",\"Turquie\",\"Iran R\\u00e9publique islamique d'\",\"Tha\\u00eflande\",\"R\\u00e9p. D\\u00e9mocratique du Congo\",\"France\",\"UK\",\"Italie\",\"Myanmar\",\"Afrique du Sud\",\"South Korea\",\"Ukraine\",\"Espagne\",\"Colombie\",\"R\\u00e9publique-Unie de Tanzanie\",\"Soudan\",\"Argentine\",\"Kenya\",\"Pologne\",\"Alg\\u00e9rie\",\"Canada\",\"Ouganda\",\"Maroc\",\"Iraq\",\"Afghanistan\",\"P\\u00e9rou\",\"N\\u00e9pal\",\"Venezuela\",\"Ouzb\\u00e9kistan\",\"Malaisie\",\"Arabie saoudite\",\"R\\u00e9p. populaire d\\u00e9mocratique de Cor\\u00e9e\",\"Ghana\",\"Y\\u00e9men\",\"Mozambique\",\"Roumanie\",\"C\\u00f4te d'Ivoire\",\"R\\u00e9publique arabe syrienne\",\"Sri Lanka\",\"Madagascar\",\"Cameroun\",\"Angola\",\"Chili\",\"Netherlands\",\"Kazakhstan\",\"Burkina Faso\",\"Malawi\",\"Niger\",\"Cambodge\",\"Guatemala\",\"Equateur\",\"Mali\",\"Zambie\",\"Zimbabwe\",\"S\\u00e9n\\u00e9gal\",\"Gr\\u00e8ce\",\"Cuba\",\"Tchad\",\"Belgium\",\"Portugal\",\"Czech rep\",\"Tunisie\",\"Hongrie\",\"R\\u00e9publique dominicaine\",\"Guin\\u00e9e\",\"Rwanda\",\"Bolivie\",\"B\\u00e9larus\",\"Sweden\",\"Azerba\\u00efdjan\",\"B\\u00e9nin\",\"Burundi\",\"Switzerland\",\"Bulgarie\",\"Serbie\",\"Honduras\",\"Israel\",\"Tadjikistan\",\"Papouasie-Nouvelle-Guin\\u00e9e\",\"Togo\",\"Jamahiriya arabe libyenne\",\"Paraguay\",\"R\\u00e9p. d\\u00e9mocratique populaire lao\",\"El Salvador\",\"Jordanie\",\"Nicaragua\",\"Sierra Leone\",\"Denmark\",\"Finland\",\"Kirghizistan\",\"Turkm\\u00e9nistan\",\"Erythr\\u00e9e\",\"Singapour\",\"Norway\",\"Costa Rica\",\"Emirats arabes unis\",\"Croatie\",\"Ireland\",\"R\\u00e9publique centrafricaine\",\"G\\u00e9orgie\",\"New Zealand\",\"Liban\",\"Lib\\u00e9ria\",\"Bosnie-Herz\\u00e9govine\",\"R\\u00e9publique de Moldova\",\"Panama\",\"Lituanie\",\"Uruguay\",\"Mauritanie\",\"Albanie\",\"Arm\\u00e9nie\",\"Oman\",\"Kowe\\u00eft\",\"Jama\\u00efque\",\"Mongolie\",\"Lettonie\",\"Namibie\",\"Lesotho\",\"L'ex-R\\u00e9p. yougoslave de Mac\\u00e9doine\",\"Slov\\u00e9nie\",\"Botswana\",\"Gambie\",\"Guin\\u00e9e-Bissau\",\"Gabon\",\"Estonie\",\"Trinit\\u00e9-et-Tobago\",\"Qatar\",\"Maurice\",\"Swaziland\",\"Chypre\",\"Bahre\\u00efn\",\"Bhoutan\",\"Guin\\u00e9e \\u00e9quatoriale\",\"Comores\",\"Macao Chine\",\"Suriname\",\"Cap-Vert\",\"Malte\",\"Brun\\u00e9i Darussalam\",\"Bahamas\",\"Iceland\",\"Maldives\",\"Vanuatu\",\"Samoa\",\"Sao Tom\\u00e9-et-Principe\",\"Aruba\",\"Tonga\"],\"female literacy\":{\"__ndarray__\":\"AAAAAACgVkBmZmZmZmZJQAAAAAAAwFhAMzMzMzMzVkDNzMzMzIxWQAAAAAAAAERAZmZmZmbmSEBmZmZmZmZIQJqZmZmZ2VhAAAAAAADAWEAAAAAAAOBWQJqZmZmZeVdAzczMzMyMVkAAAAAAAMBYQGZmZmZm5kxAzczMzMzMNkAzMzMzM1NUQM3MzMzMTFNAAAAAAADgVkDNzMzMzAxMQAAAAAAAwFhAAAAAAADAWEAAAAAAAKBYQM3MzMzMTFZAZmZmZmYGVkBmZmZmZiZYQGZmZmZm5lhAmpmZmZk5WECamZmZmVlXQDMzMzMzk1BAzczMzMzMTUDNzMzMzGxYQDMzMzMzs1RAMzMzMzPTWEAzMzMzM/NPQAAAAAAAwFhAMzMzMzOzUEDNzMzMzAxGQM3MzMzMTFFAMzMzMzMzKUBmZmZmZiZVQDMzMzMzs0ZAmpmZmZm5V0CamZmZmblYQDMzMzMzc1ZAzczMzMwMVEAAAAAAAABZQGZmZmZmpk1AZmZmZmZmRUDNzMzMzAxEQJqZmZmZOVhAZmZmZmYmRkDNzMzMzExTQGZmZmZmRlZAMzMzMzNTUEAzMzMzM/NQQAAAAAAAgExAzczMzMysWEAAAAAAAMBYQAAAAAAA4FhAmpmZmZmZNUAzMzMzM3NQQDMzMzMzMy5AmpmZmZm5UUDNzMzMzCxRQM3MzMzMbFRAMzMzMzMzMkAAAAAAAIBOQDMzMzMzM1ZAAAAAAACAQECamZmZmflXQDMzMzMz81hAZmZmZmbmNUAAAAAAAMBYQJqZmZmZOVdAAAAAAADAWEAAAAAAAMBRQJqZmZmZuVhAMzMzMzMTVkBmZmZmZmY6QGZmZmZmhlBAAAAAAACAVUDNzMzMzOxYQAAAAAAAwFhAzczMzMzMWECamZmZmRk8QDMzMzMz801AAAAAAADAWECamZmZmXlYQM3MzMzMDFhAAAAAAADgVECamZmZmflXQAAAAAAA4FhAzczMzMzMS0CamZmZmdlKQDMzMzMzU1RAAAAAAABgV0CamZmZmZlPQJqZmZmZWVRAmpmZmZk5VkCamZmZmXlTQGZmZmZm5jxAAAAAAADAWEAAAAAAAABZQGZmZmZmxlhAMzMzMzPTWEAAAAAAAEBLQGZmZmZm5lZAAAAAAAAAWUDNzMzMzAxYQAAAAAAA4FZAAAAAAACAWEAAAAAAAMBYQM3MzMzMjERAzczMzMzsWEAAAAAAAMBYQAAAAAAAgFVAAAAAAACASkCamZmZmflXQDMzMzMzc1hAMzMzMzMzV0DNzMzMzOxYQAAAAAAAoFhAAAAAAADASEDNzMzMzKxYQJqZmZmZ2VhAmpmZmZk5VEBmZmZmZkZXQDMzMzMzs1ZAMzMzMzNzWEAzMzMzM/NYQM3MzMzM7FVAZmZmZmbGV0CamZmZmdlXQM3MzMzM7FhAAAAAAADgVEBmZmZmZiZBQAAAAAAAQEJAzczMzMzMVEAzMzMzM/NYQM3MzMzMjFhAmpmZmZmZVkAzMzMzMzNVQGZmZmZmZlVAzczMzMwsWECamZmZmVlWQJqZmZmZWUNAZmZmZmZGVkAzMzMzM/NQQM3MzMzMrFZAmpmZmZkZVkAzMzMzM9NTQAAAAAAAYFdAMzMzMzNTV0AAAAAAACBYQAAAAAAAwFhAmpmZmZmZWEAAAAAAAOBTQAAAAAAAoFhAMzMzMzPTVEAAAAAAAIBYQGZmZmZmxlhA\",\"dtype\":\"float64\",\"shape\":[162]},\"fertility\":{\"__ndarray__\":\"6Pup8dJN/D/b+X5qvHQFQARWDi2ynQBAdJMYBFYOAUAIrBxaZDv9P2Dl0CLb+Q5A6Pup8dJNAkD91HjpJrEUQH0/NV66SfY//tR46SYx9D9zaJHtfD8BQGmR7Xw/NQhA3SQGgZVDAEDJdr6fGi/1P7tJDAIrhwZA8tJNYhDYFEDNzMzMzMwAQOXQItv5fvw/8/3UeOkm/T9uEoPAyqEXQH9qvHSTGP4/bhKDwMqh/T89CtejcD32P3Noke18PwJACtejcD0KBEAv3SQGgZXzPy2yne+nxvU/sXJoke189z8IrBxaZDsDQBSuR+F6FBZACKwcWmQ7EEBjEFg5tMgBQFYOLbKdbxNAE4PAyqFF9D8j2/l+arwCQN0kBoGVQ/k/arx0kxgEGUB56SYxCKwCQOSlm8QgsA9AhetRuB4FGkA9CtejcD0EQC/dJAaBlQZAlkOLbOf7A0CWQ4ts5/sBQKrx0k1iEARAUrgehetRCEBEi2zn+6n9P+F6FK5H4RBAZmZmZmZmFECR7Xw/Nd4TQDMzMzMzM/U/dJMYBFYOEkD8qfHSTWIJQBFYObTIdgJAexSuR+F6EkBEi2zn+ykSQEA1XrpJjBZAN4lBYOXQ/j/AyqFFtvP7PycxCKwcWgJAd76fGi9dF0BSuB6F69EVQC2yne+nRhxArBxaZDvfBkDfT42XbhIQQLTIdr6fGgRAH4XrUbieFUCmm8QgsPIWQIGVQ4ts5wpAj8L1KFyPE0ApXI/C9Sj2PxSuR+F6FPg/bef7qfFSGEAlBoGVQ4v8P0A1XrpJDPY/MzMzMzMz9z/b+X5qvHT9P+xRuB6F6/U/TDeJQWDlBEA3iUFg5VAVQFK4HoXrURVALIcW2c73CkDl0CLb+X70P1YOLbKd7/0/001iEFg5AUBPjZduEoMVQM3MzMzMzBFAXI/C9Shc9z9g5dAi2/n2P5duEoPAyvk/hetRuB6FCUBqvHSTGAQGQM3MzMzMzApACtejcD0KEEBEi2zn+6kQQIlBYOXQIgVAN4lBYOXQB0BSuB6F61ELQFyPwvUoXAJA8/3UeOkmCEARWDm0yHYFQClcj8L1qBRAL90kBoGV/T/GSzeJQWD9P7+fGi/dJARAcT0K16NwA0DqJjEIrBwSQGiR7Xw/NfQ/KVyPwvUo/j9KDAIrhxb/P/yp8dJNYv4/30+Nl24S9z9zaJHtfD//P30/NV66yRJAHFpkO99P+T8zMzMzMzMAQNv5fmq8dP0/JQaBlUMLFEAxCKwcWmTzP9R46SYxCPg/VOOlm8QgBECsHFpkO9/1P4PAyqFFtgBAWmQ730+NEUBEi2zn+6n9PyyHFtnO9/s/bef7qfHSB0Cd76fGSzcBQEw3iUFg5QJAAyuHFtnO/z83iUFg5dD2P1K4HoXrUQpA6SYxCKwcCkBg5dAi2/n2P30/NV66SfY/+n5qvHSTBkDGSzeJQeATQIlBYOXQohZA7FG4HoXrCUBKDAIrhxb7PyYxCKwcWvo/4XoUrkfhAkB46SYxCKz8P5qZmZmZmQtAqMZLN4lB+D93vp8aL90BQBsv3SQGgQRAbhKDwMohFUAUrkfhehQPQLbz/dR46e4/lkOLbOf7AkDo+6nx0k0FQGq8dJMYBPQ/0SLb+X5qAEAshxbZzvcKQFg5tMh2vgBAAAAAAAAAAECq8dJNYhAPQDeJQWDl0A5AWDm0yHa+DUCDwMqhRbb7PwaBlUOLbA9A\",\"dtype\":\"float64\",\"shape\":[162]},\"index\":[0,1,2,3,4,5,6,7,8,9,10,11,12,13,14,15,16,17,18,19,20,21,22,23,24,25,26,27,28,29,30,31,32,33,34,35,36,37,38,39,40,41,42,43,44,45,46,47,48,49,50,51,52,53,54,55,56,57,58,59,60,61,62,63,64,65,66,67,68,69,70,71,72,73,74,75,76,77,78,79,80,81,82,83,84,85,86,87,88,89,90,91,92,93,94,95,96,97,98,99,100,101,102,103,104,105,106,107,108,109,110,111,112,113,114,115,116,117,118,119,120,121,122,123,124,125,126,127,128,129,130,131,132,133,134,135,136,137,138,139,140,141,142,143,144,145,146,147,148,149,150,151,152,153,154,155,156,157,158,159,160,161],\"population\":{\"__ndarray__\":\"AAAAZii900EAAAABn/zQQQAAAGCWH7JBAAAAdAUaq0EAAABkgeKmQQAAAP5RzaNBAAAAANESo0EAAAC8oQaiQQAAAGD466BBAAAAAG9ynkEAAACIHVuZQQAAAFRuipVBAAAAdOONlEEAAABEmpOTQQAAABAGcJNBAAAAaFs+k0EAAABQXp+RQQAAAIjdJ5FBAAAAPPAQkEEAAADY06OOQQAAAMA5so1BAAAAcNVIjUEAAACYu4eMQQAAAFgsoodBAAAAwDw3h0EAAADAeC2HQQAAAMDADoZBAAAAIAC5hUEAAAAApHaFQQAAAJgGQoRBAAAAWFS3g0EAAAAghwSDQQAAAAAYfIJBAAAA+AUugkEAAACQ+WOAQQAAAICqxH9BAAAAELowfkEAAAAANyR+QQAAAADXSX1BAAAAsDqte0EAAADANYB7QQAAAGCTeXtBAAAAgBGkekEAAABAYgx6QQAAABBMw3lBAAAAYAOBd0EAAAAQILd2QQAAAPDoRHZBAAAA0BbbdUEAAABQfFh1QQAAAGBZhHRBAAAAYCyjc0EAAACguqBzQQAAAMDyOHNBAAAA0ME5ckEAAAAQQDRyQQAAAMCTL3FBAAAAAIcGcEEAAAAgE15vQQAAACC65W1BAAAAgGsObUEAAADAHFFsQQAAAMDXC2xBAAAAAFvGa0EAAAAArhpqQQAAAAC6tmlBAAAAAPk7aEEAAABgNxJoQQAAAOBjxWdBAAAAoH1KZ0EAAADA3G5lQQAAAOAPX2VBAAAAYPDQZEEAAAAgumxkQQAAAKC5QmRBAAAAAALiY0EAAAAA37JjQQAAAIB1JWNBAAAA4Lj7YkEAAADgS8FiQQAAAMBuimJBAAAAIHR9YkEAAABA+nZiQQAAAKDGlWFBAAAAgFSOYEEAAADAiIVgQQAAAIADzV5BAAAAwG4sXUEAAADAuBRdQQAAAEDzCVxBAAAAQEHrW0EAAAAAgOFbQQAAAMDcE1pBAAAAgK0WWUEAAABAO6NYQQAAAECpAlhBAAAAwKfLV0EAAABA56tXQQAAAIAlZldBAAAAwJ6HVkEAAABAf55VQQAAAECLNVVBAAAAQN30VEEAAADA3URUQQAAAAAzIlRBAAAAgGg9U0EAAABAZ8tSQQAAAAD6dVJBAAAAAHUwUkEAAACANT1RQQAAAMDRG1FBAAAAABTqUEEAAADA8uFQQQAAAMCPjVBBAAAAwBBuUEEAAAAA2UhQQQAAAADv/k9BAAAAAPzwTEEAAAAAVslMQQAAAIBsuEtBAAAAgFPuSUEAAACA0Z5JQQAAAADSb0lBAAAAgGGHSEEAAACAPftHQQAAAIDveUdBAAAAgChARUEAAACANNBEQQAAAABwgERBAAAAAKAmREEAAAAA90lBQQAAAADfP0BBAAAAAJVFP0EAAAAA/iU/QQAAAADE1z5BAAAAAGJQPUEAAAAAKFU5QQAAAAAWCjhBAAAAAN8YNkEAAAAAA3U0QQAAAACMWDRBAAAAAF6LM0EAAAAAdlwzQQAAAADa0TFBAAAAAMRRKkEAAAAAQqsnQQAAAACK9SRBAAAAAPodJEEAAAAA5qMjQQAAAADEDiBBAAAAANBwH0EAAAAAwG8eQQAAAAC4JBlBAAAAAGDxF0EAAAAAEJwUQQAAAACYXxNBAAAAAAyeEkEAAAAAUIwMQQAAAACo1QVBAAAAAHCNA0EAAAAA8L75QAAAAADgSPlA\",\"dtype\":\"float64\",\"shape\":[162]},\"scaledPopulation\":{\"__ndarray__\":\"RcUHhDb1VkABbBTtH0xVQIb3+IyS/0VAan8MPJgFQ0DVcCkNv3pBQLBqTD91QkBAunb3VlfqP0CigdFMzAY/QKZy512xDz5A8h5pYFGDPECWu0onKAU6QLYK75Sa+zdAiyt0oF5tN0DYnFhC/9w2QE2eZhkvyDZAu0XmQgGrNkBSqG7pNbE1QAE7raUqZzVAauL3b1K2NEBXVn61uTk0QIWueF1c6TNA4KR0hufFM0BIfWOlSYQzQKoN9f5awzFAMc20R/2aMUAJU2v3SJcxQNhV0SYiKTFA/kxt/aUHMUCV1rLtju0wQAmr7WcZcjBAhxQadms5MECo+sXDYN4vQPerV3VAay9AL4blc6AoL0Bf3Ae77pUtQDfNpHwCIC1AGL1bfHxkLED1PO62mV4sQOeNsRwY9ytAzLkPglIvK0CWJ7NrLRkrQHbWtnboFStAYIkaKturKkCJXlESgF8qQKYHAkdmOipANNrEuUgNKUAfPL8txqAoQP7ciwGNYihAv/4Oj1coKEAY0DebvN8nQMs+FUnuZydAG3YKHxXmJkDEzGY9qOQmQGddUoLRpyZA1Z1xwG4PJkDoobBRGQwmQNXUwJj5ayVAuqUzXZuvJEBn/8761XYkQCaThQaZ+iNAS7k7KSWyI0DZydAGknEjQPoXNkW7WSNAALxrrbNBI0Cp+9twJasiQPvrfElFhyJAzhDKh8r8IUAI4/28RO0hQIaEdyaS0CFAXdf5pUiiIUApQKdpfeogQNhjIA9A5CBA0BL48barIEDQdI6BZYMgQEER4RJiciBAwBF2VPFKIEALajzBlTcgQOvPNmns+R9AuYm9JP/WH0CGYKfb2aUfQMT2o7ptdx9AW8eWS2hsH0B2FwEN52YfQLk9KWkSpR5A5PppKhC8HUCDNb0JKbQdQCHF9cabrRxAuSYQhArpG0CAlGSgsN0bQJIqq/61XBtAT/mLtrdNG0Ce1mAx8kgbQO1tPPtIYxpAODn61vLhGUDqwwfoIKYZQMwfBlACUhlA9lPWv/A0GUCeP8TUGSQZQEq4VDTz/hhAa3fg/veGGEBO4RyiwwYYQHLNqksqzBdAKa2GGMWnF0CcLzwZnEMXQBl5in2uLxdA5zlMMHKqFkBnckl/5mYWQJlHk7fCMxZAiwhMKs0JFkBL0sbcdnQVQNqjFLWlXxVAxwNT8nxAFUAfBinZYDsVQBileq0NBhVAraYdygPyFEAPIxsrPdoUQFqdd0kMqxRA4IljpyioE0Co7iQbrZoTQMyRh7jePBNAObCTkkKbEkBV1nctpn4SQHSarL+nbRJAc+ljG7EYEkD5eyBztOQRQI6KRnE1tBFA2HWjHAXYEEAb9E+2a6sQQNTOQl5bixBAOxLeWvZmEEDts0UmvGIOQCjCJBRHdQ1AI1KScoblDECTRPFf6tYMQNkup76csgxAW0CnmTf6C0DjgAg6GQIKQJPORDzsVQlAXPMvgWRKCEBfbFcGLV8HQJUTGLvkTgdACLl9pC/YBkBFrGJXtbwGQPmoCegx0AVA/3XbpM2+AkC0Yo2oxMYBQB8XEGNYugBANpG46XBjAEBkxr/OajEAQD/uuH+iSP0///hrxXj5/D+yeCqrD4L8P6W9YvUv6fk/Lrk3VONI+T8agY4ZcXX3Py5XPzCMvvY/YV3JKM5L9j+sX8uW2oXzPzeGi9fdEvE/8Iz5wyUo8D9LoCwTLjjqP0xlbIrK++k/\",\"dtype\":\"float64\",\"shape\":[162]}},\"selected\":null,\"selection_policy\":null},\"id\":\"2d4e4a52-b786-434c-9bdf-75b681a671cf\",\"type\":\"ColumnDataSource\"},{\"attributes\":{},\"id\":\"d58439c1-71bd-476f-917f-1e65c57a8229\",\"type\":\"WheelZoomTool\"},{\"attributes\":{\"below\":[{\"id\":\"3751b335-c795-47f4-a67d-e711d50fbb5c\",\"type\":\"LinearAxis\"}],\"left\":[{\"id\":\"adebffa1-c953-4cbc-b10b-178ab4b41c3e\",\"type\":\"LinearAxis\"}],\"plot_height\":400,\"renderers\":[{\"id\":\"3751b335-c795-47f4-a67d-e711d50fbb5c\",\"type\":\"LinearAxis\"},{\"id\":\"0760386c-3b19-41b5-b9cf-4a764f31ea0d\",\"type\":\"Grid\"},{\"id\":\"adebffa1-c953-4cbc-b10b-178ab4b41c3e\",\"type\":\"LinearAxis\"},{\"id\":\"fad0e25e-1d7b-4a34-a86b-936ff3577b01\",\"type\":\"Grid\"},{\"id\":\"388310f9-9964-4409-b816-41f6a7517c6b\",\"type\":\"BoxAnnotation\"},{\"id\":\"8487b9fc-f9af-42f1-9beb-de0db9532726\",\"type\":\"Legend\"},{\"id\":\"6bfe9c8a-6813-4598-a695-a7929a59563f\",\"type\":\"GlyphRenderer\"}],\"title\":{\"id\":\"d2ca474e-212c-4a10-aaf3-3555e3fc6e83\",\"type\":\"Title\"},\"toolbar\":{\"id\":\"c9fda952-d229-49b1-81b3-1a8de3f10d9b\",\"type\":\"Toolbar\"},\"x_range\":{\"id\":\"927ddd17-2c83-43db-9bd6-9c512e9af0e1\",\"type\":\"DataRange1d\"},\"x_scale\":{\"id\":\"916713c1-95e9-477f-8516-c12a1d5537ef\",\"type\":\"LinearScale\"},\"y_range\":{\"id\":\"61e30ec9-aad4-4cee-ac2a-d0abdb9c9c2c\",\"type\":\"DataRange1d\"},\"y_scale\":{\"id\":\"6cf6faa1-8a87-4d75-a83e-92f2ddc30d1e\",\"type\":\"LinearScale\"}},\"id\":\"49c0a8b0-e0bf-44f2-ab8b-c692d09b849b\",\"subtype\":\"Figure\",\"type\":\"Plot\"},{\"attributes\":{\"overlay\":{\"id\":\"388310f9-9964-4409-b816-41f6a7517c6b\",\"type\":\"BoxAnnotation\"}},\"id\":\"0f732386-452c-408b-8ce2-a4fbb97e0608\",\"type\":\"BoxZoomTool\"},{\"attributes\":{},\"id\":\"c879e219-6613-4365-b140-c55d4f27a7b9\",\"type\":\"SaveTool\"},{\"attributes\":{\"active_drag\":\"auto\",\"active_inspect\":\"auto\",\"active_scroll\":\"auto\",\"active_tap\":\"auto\",\"tools\":[{\"id\":\"ba165b97-0f3e-4d65-b298-b4f1d0c6347a\",\"type\":\"PanTool\"},{\"id\":\"d58439c1-71bd-476f-917f-1e65c57a8229\",\"type\":\"WheelZoomTool\"},{\"id\":\"0f732386-452c-408b-8ce2-a4fbb97e0608\",\"type\":\"BoxZoomTool\"},{\"id\":\"c879e219-6613-4365-b140-c55d4f27a7b9\",\"type\":\"SaveTool\"},{\"id\":\"2c876ec1-67d3-4e19-977f-d3b43e0fcd51\",\"type\":\"ResetTool\"},{\"id\":\"6d0531db-4ac2-4293-ae49-07626e8b80da\",\"type\":\"HelpTool\"}]},\"id\":\"c9fda952-d229-49b1-81b3-1a8de3f10d9b\",\"type\":\"Toolbar\"}],\"root_ids\":[\"49c0a8b0-e0bf-44f2-ab8b-c692d09b849b\"]},\"title\":\"Bokeh Application\",\"version\":\"0.12.15\"}};\n",
       "  var render_items = [{\"docid\":\"400853a7-439e-4a75-a252-3e07141ba5b3\",\"elementid\":\"98812b84-c531-46a8-8195-6e7be1629191\",\"modelid\":\"49c0a8b0-e0bf-44f2-ab8b-c692d09b849b\"}];\n",
       "  root.Bokeh.embed.embed_items_notebook(docs_json, render_items);\n",
       "\n",
       "  }\n",
       "  if (root.Bokeh !== undefined) {\n",
       "    embed_document(root);\n",
       "  } else {\n",
       "    var attempts = 0;\n",
       "    var timer = setInterval(function(root) {\n",
       "      if (root.Bokeh !== undefined) {\n",
       "        embed_document(root);\n",
       "        clearInterval(timer);\n",
       "      }\n",
       "      attempts++;\n",
       "      if (attempts > 100) {\n",
       "        console.log(\"Bokeh: ERROR: Unable to run BokehJS code because BokehJS library is missing\")\n",
       "        clearInterval(timer);\n",
       "      }\n",
       "    }, 10, root)\n",
       "  }\n",
       "})(window);"
      ],
      "application/vnd.bokehjs_exec.v0+json": ""
     },
     "metadata": {
      "application/vnd.bokehjs_exec.v0+json": {
       "id": "49c0a8b0-e0bf-44f2-ab8b-c692d09b849b"
      }
     },
     "output_type": "display_data"
    }
   ],
   "source": [
    "p = figure(x_axis_label = 'Adult female literacy (%)', y_axis_label = 'fertility (children per woman)',\n",
    "          plot_width = 600, plot_height = 400)\n",
    "p.circle('female literacy', 'fertility', source = dataSource, \n",
    "         color = {'field' : 'Continent', 'transform': color_mapper}, \n",
    "         legend = 'Continent', size = 'scaledPopulation', alpha = 0.8, line_color = 'gray',\n",
    "        line_width = 0.5)\n",
    "p.legend.location = 'bottom_left'\n",
    "show(p)"
   ]
  },
  {
   "cell_type": "code",
   "execution_count": null,
   "metadata": {},
   "outputs": [],
   "source": []
  }
 ],
 "metadata": {
  "kernelspec": {
   "display_name": "Python 3",
   "language": "python",
   "name": "python3"
  },
  "language_info": {
   "codemirror_mode": {
    "name": "ipython",
    "version": 3
   },
   "file_extension": ".py",
   "mimetype": "text/x-python",
   "name": "python",
   "nbconvert_exporter": "python",
   "pygments_lexer": "ipython3",
   "version": "3.6.5"
  }
 },
 "nbformat": 4,
 "nbformat_minor": 2
}
