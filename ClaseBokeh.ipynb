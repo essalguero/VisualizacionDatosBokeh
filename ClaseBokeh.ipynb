{
 "cells": [
  {
   "cell_type": "markdown",
   "metadata": {},
   "source": [
    "# Bokeh "
   ]
  },
  {
   "cell_type": "code",
   "execution_count": 1,
   "metadata": {},
   "outputs": [],
   "source": [
    "import pandas as pd"
   ]
  },
  {
   "cell_type": "code",
   "execution_count": 2,
   "metadata": {},
   "outputs": [],
   "source": [
    "from bokeh.plotting import figure"
   ]
  },
  {
   "cell_type": "code",
   "execution_count": 3,
   "metadata": {},
   "outputs": [],
   "source": [
    "from bokeh.io import show, output_notebook, output_file"
   ]
  },
  {
   "cell_type": "markdown",
   "metadata": {},
   "source": [
    "## Ejemplo plot"
   ]
  },
  {
   "cell_type": "code",
   "execution_count": 4,
   "metadata": {},
   "outputs": [
    {
     "data": {
      "text/html": [
       "\n",
       "    <div class=\"bk-root\">\n",
       "        <a href=\"https://bokeh.pydata.org\" target=\"_blank\" class=\"bk-logo bk-logo-small bk-logo-notebook\"></a>\n",
       "        <span id=\"edef5912-59d7-4095-a21d-9e45c50b30ed\">Loading BokehJS ...</span>\n",
       "    </div>"
      ]
     },
     "metadata": {},
     "output_type": "display_data"
    },
    {
     "data": {
      "application/javascript": [
       "\n",
       "(function(root) {\n",
       "  function now() {\n",
       "    return new Date();\n",
       "  }\n",
       "\n",
       "  var force = true;\n",
       "\n",
       "  if (typeof (root._bokeh_onload_callbacks) === \"undefined\" || force === true) {\n",
       "    root._bokeh_onload_callbacks = [];\n",
       "    root._bokeh_is_loading = undefined;\n",
       "  }\n",
       "\n",
       "  var JS_MIME_TYPE = 'application/javascript';\n",
       "  var HTML_MIME_TYPE = 'text/html';\n",
       "  var EXEC_MIME_TYPE = 'application/vnd.bokehjs_exec.v0+json';\n",
       "  var CLASS_NAME = 'output_bokeh rendered_html';\n",
       "\n",
       "  /**\n",
       "   * Render data to the DOM node\n",
       "   */\n",
       "  function render(props, node) {\n",
       "    var script = document.createElement(\"script\");\n",
       "    node.appendChild(script);\n",
       "  }\n",
       "\n",
       "  /**\n",
       "   * Handle when an output is cleared or removed\n",
       "   */\n",
       "  function handleClearOutput(event, handle) {\n",
       "    var cell = handle.cell;\n",
       "\n",
       "    var id = cell.output_area._bokeh_element_id;\n",
       "    var server_id = cell.output_area._bokeh_server_id;\n",
       "    // Clean up Bokeh references\n",
       "    if (id !== undefined) {\n",
       "      Bokeh.index[id].model.document.clear();\n",
       "      delete Bokeh.index[id];\n",
       "    }\n",
       "\n",
       "    if (server_id !== undefined) {\n",
       "      // Clean up Bokeh references\n",
       "      var cmd = \"from bokeh.io.state import curstate; print(curstate().uuid_to_server['\" + server_id + \"'].get_sessions()[0].document.roots[0]._id)\";\n",
       "      cell.notebook.kernel.execute(cmd, {\n",
       "        iopub: {\n",
       "          output: function(msg) {\n",
       "            var element_id = msg.content.text.trim();\n",
       "            Bokeh.index[element_id].model.document.clear();\n",
       "            delete Bokeh.index[element_id];\n",
       "          }\n",
       "        }\n",
       "      });\n",
       "      // Destroy server and session\n",
       "      var cmd = \"import bokeh.io.notebook as ion; ion.destroy_server('\" + server_id + \"')\";\n",
       "      cell.notebook.kernel.execute(cmd);\n",
       "    }\n",
       "  }\n",
       "\n",
       "  /**\n",
       "   * Handle when a new output is added\n",
       "   */\n",
       "  function handleAddOutput(event, handle) {\n",
       "    var output_area = handle.output_area;\n",
       "    var output = handle.output;\n",
       "\n",
       "    // limit handleAddOutput to display_data with EXEC_MIME_TYPE content only\n",
       "    if ((output.output_type != \"display_data\") || (!output.data.hasOwnProperty(EXEC_MIME_TYPE))) {\n",
       "      return\n",
       "    }\n",
       "\n",
       "    var toinsert = output_area.element.find(\".\" + CLASS_NAME.split(' ')[0]);\n",
       "\n",
       "    if (output.metadata[EXEC_MIME_TYPE][\"id\"] !== undefined) {\n",
       "      toinsert[toinsert.length - 1].firstChild.textContent = output.data[JS_MIME_TYPE];\n",
       "      // store reference to embed id on output_area\n",
       "      output_area._bokeh_element_id = output.metadata[EXEC_MIME_TYPE][\"id\"];\n",
       "    }\n",
       "    if (output.metadata[EXEC_MIME_TYPE][\"server_id\"] !== undefined) {\n",
       "      var bk_div = document.createElement(\"div\");\n",
       "      bk_div.innerHTML = output.data[HTML_MIME_TYPE];\n",
       "      var script_attrs = bk_div.children[0].attributes;\n",
       "      for (var i = 0; i < script_attrs.length; i++) {\n",
       "        toinsert[toinsert.length - 1].firstChild.setAttribute(script_attrs[i].name, script_attrs[i].value);\n",
       "      }\n",
       "      // store reference to server id on output_area\n",
       "      output_area._bokeh_server_id = output.metadata[EXEC_MIME_TYPE][\"server_id\"];\n",
       "    }\n",
       "  }\n",
       "\n",
       "  function register_renderer(events, OutputArea) {\n",
       "\n",
       "    function append_mime(data, metadata, element) {\n",
       "      // create a DOM node to render to\n",
       "      var toinsert = this.create_output_subarea(\n",
       "        metadata,\n",
       "        CLASS_NAME,\n",
       "        EXEC_MIME_TYPE\n",
       "      );\n",
       "      this.keyboard_manager.register_events(toinsert);\n",
       "      // Render to node\n",
       "      var props = {data: data, metadata: metadata[EXEC_MIME_TYPE]};\n",
       "      render(props, toinsert[toinsert.length - 1]);\n",
       "      element.append(toinsert);\n",
       "      return toinsert\n",
       "    }\n",
       "\n",
       "    /* Handle when an output is cleared or removed */\n",
       "    events.on('clear_output.CodeCell', handleClearOutput);\n",
       "    events.on('delete.Cell', handleClearOutput);\n",
       "\n",
       "    /* Handle when a new output is added */\n",
       "    events.on('output_added.OutputArea', handleAddOutput);\n",
       "\n",
       "    /**\n",
       "     * Register the mime type and append_mime function with output_area\n",
       "     */\n",
       "    OutputArea.prototype.register_mime_type(EXEC_MIME_TYPE, append_mime, {\n",
       "      /* Is output safe? */\n",
       "      safe: true,\n",
       "      /* Index of renderer in `output_area.display_order` */\n",
       "      index: 0\n",
       "    });\n",
       "  }\n",
       "\n",
       "  // register the mime type if in Jupyter Notebook environment and previously unregistered\n",
       "  if (root.Jupyter !== undefined) {\n",
       "    var events = require('base/js/events');\n",
       "    var OutputArea = require('notebook/js/outputarea').OutputArea;\n",
       "\n",
       "    if (OutputArea.prototype.mime_types().indexOf(EXEC_MIME_TYPE) == -1) {\n",
       "      register_renderer(events, OutputArea);\n",
       "    }\n",
       "  }\n",
       "\n",
       "  \n",
       "  if (typeof (root._bokeh_timeout) === \"undefined\" || force === true) {\n",
       "    root._bokeh_timeout = Date.now() + 5000;\n",
       "    root._bokeh_failed_load = false;\n",
       "  }\n",
       "\n",
       "  var NB_LOAD_WARNING = {'data': {'text/html':\n",
       "     \"<div style='background-color: #fdd'>\\n\"+\n",
       "     \"<p>\\n\"+\n",
       "     \"BokehJS does not appear to have successfully loaded. If loading BokehJS from CDN, this \\n\"+\n",
       "     \"may be due to a slow or bad network connection. Possible fixes:\\n\"+\n",
       "     \"</p>\\n\"+\n",
       "     \"<ul>\\n\"+\n",
       "     \"<li>re-rerun `output_notebook()` to attempt to load from CDN again, or</li>\\n\"+\n",
       "     \"<li>use INLINE resources instead, as so:</li>\\n\"+\n",
       "     \"</ul>\\n\"+\n",
       "     \"<code>\\n\"+\n",
       "     \"from bokeh.resources import INLINE\\n\"+\n",
       "     \"output_notebook(resources=INLINE)\\n\"+\n",
       "     \"</code>\\n\"+\n",
       "     \"</div>\"}};\n",
       "\n",
       "  function display_loaded() {\n",
       "    var el = document.getElementById(\"edef5912-59d7-4095-a21d-9e45c50b30ed\");\n",
       "    if (el != null) {\n",
       "      el.textContent = \"BokehJS is loading...\";\n",
       "    }\n",
       "    if (root.Bokeh !== undefined) {\n",
       "      if (el != null) {\n",
       "        el.textContent = \"BokehJS \" + root.Bokeh.version + \" successfully loaded.\";\n",
       "      }\n",
       "    } else if (Date.now() < root._bokeh_timeout) {\n",
       "      setTimeout(display_loaded, 100)\n",
       "    }\n",
       "  }\n",
       "\n",
       "\n",
       "  function run_callbacks() {\n",
       "    try {\n",
       "      root._bokeh_onload_callbacks.forEach(function(callback) { callback() });\n",
       "    }\n",
       "    finally {\n",
       "      delete root._bokeh_onload_callbacks\n",
       "    }\n",
       "    console.info(\"Bokeh: all callbacks have finished\");\n",
       "  }\n",
       "\n",
       "  function load_libs(js_urls, callback) {\n",
       "    root._bokeh_onload_callbacks.push(callback);\n",
       "    if (root._bokeh_is_loading > 0) {\n",
       "      console.log(\"Bokeh: BokehJS is being loaded, scheduling callback at\", now());\n",
       "      return null;\n",
       "    }\n",
       "    if (js_urls == null || js_urls.length === 0) {\n",
       "      run_callbacks();\n",
       "      return null;\n",
       "    }\n",
       "    console.log(\"Bokeh: BokehJS not loaded, scheduling load and callback at\", now());\n",
       "    root._bokeh_is_loading = js_urls.length;\n",
       "    for (var i = 0; i < js_urls.length; i++) {\n",
       "      var url = js_urls[i];\n",
       "      var s = document.createElement('script');\n",
       "      s.src = url;\n",
       "      s.async = false;\n",
       "      s.onreadystatechange = s.onload = function() {\n",
       "        root._bokeh_is_loading--;\n",
       "        if (root._bokeh_is_loading === 0) {\n",
       "          console.log(\"Bokeh: all BokehJS libraries loaded\");\n",
       "          run_callbacks()\n",
       "        }\n",
       "      };\n",
       "      s.onerror = function() {\n",
       "        console.warn(\"failed to load library \" + url);\n",
       "      };\n",
       "      console.log(\"Bokeh: injecting script tag for BokehJS library: \", url);\n",
       "      document.getElementsByTagName(\"head\")[0].appendChild(s);\n",
       "    }\n",
       "  };var element = document.getElementById(\"edef5912-59d7-4095-a21d-9e45c50b30ed\");\n",
       "  if (element == null) {\n",
       "    console.log(\"Bokeh: ERROR: autoload.js configured with elementid 'edef5912-59d7-4095-a21d-9e45c50b30ed' but no matching script tag was found. \")\n",
       "    return false;\n",
       "  }\n",
       "\n",
       "  var js_urls = [\"https://cdn.pydata.org/bokeh/release/bokeh-0.12.15.min.js\", \"https://cdn.pydata.org/bokeh/release/bokeh-widgets-0.12.15.min.js\", \"https://cdn.pydata.org/bokeh/release/bokeh-tables-0.12.15.min.js\", \"https://cdn.pydata.org/bokeh/release/bokeh-gl-0.12.15.min.js\"];\n",
       "\n",
       "  var inline_js = [\n",
       "    function(Bokeh) {\n",
       "      Bokeh.set_log_level(\"info\");\n",
       "    },\n",
       "    \n",
       "    function(Bokeh) {\n",
       "      \n",
       "    },\n",
       "    function(Bokeh) {\n",
       "      console.log(\"Bokeh: injecting CSS: https://cdn.pydata.org/bokeh/release/bokeh-0.12.15.min.css\");\n",
       "      Bokeh.embed.inject_css(\"https://cdn.pydata.org/bokeh/release/bokeh-0.12.15.min.css\");\n",
       "      console.log(\"Bokeh: injecting CSS: https://cdn.pydata.org/bokeh/release/bokeh-widgets-0.12.15.min.css\");\n",
       "      Bokeh.embed.inject_css(\"https://cdn.pydata.org/bokeh/release/bokeh-widgets-0.12.15.min.css\");\n",
       "      console.log(\"Bokeh: injecting CSS: https://cdn.pydata.org/bokeh/release/bokeh-tables-0.12.15.min.css\");\n",
       "      Bokeh.embed.inject_css(\"https://cdn.pydata.org/bokeh/release/bokeh-tables-0.12.15.min.css\");\n",
       "    }\n",
       "  ];\n",
       "\n",
       "  function run_inline_js() {\n",
       "    \n",
       "    if ((root.Bokeh !== undefined) || (force === true)) {\n",
       "      for (var i = 0; i < inline_js.length; i++) {\n",
       "        inline_js[i].call(root, root.Bokeh);\n",
       "      }if (force === true) {\n",
       "        display_loaded();\n",
       "      }} else if (Date.now() < root._bokeh_timeout) {\n",
       "      setTimeout(run_inline_js, 100);\n",
       "    } else if (!root._bokeh_failed_load) {\n",
       "      console.log(\"Bokeh: BokehJS failed to load within specified timeout.\");\n",
       "      root._bokeh_failed_load = true;\n",
       "    } else if (force !== true) {\n",
       "      var cell = $(document.getElementById(\"edef5912-59d7-4095-a21d-9e45c50b30ed\")).parents('.cell').data().cell;\n",
       "      cell.output_area.append_execute_result(NB_LOAD_WARNING)\n",
       "    }\n",
       "\n",
       "  }\n",
       "\n",
       "  if (root._bokeh_is_loading === 0) {\n",
       "    console.log(\"Bokeh: BokehJS loaded, going straight to plotting\");\n",
       "    run_inline_js();\n",
       "  } else {\n",
       "    load_libs(js_urls, function() {\n",
       "      console.log(\"Bokeh: BokehJS plotting callback run at\", now());\n",
       "      run_inline_js();\n",
       "    });\n",
       "  }\n",
       "}(window));"
      ],
      "application/vnd.bokehjs_load.v0+json": "\n(function(root) {\n  function now() {\n    return new Date();\n  }\n\n  var force = true;\n\n  if (typeof (root._bokeh_onload_callbacks) === \"undefined\" || force === true) {\n    root._bokeh_onload_callbacks = [];\n    root._bokeh_is_loading = undefined;\n  }\n\n  \n\n  \n  if (typeof (root._bokeh_timeout) === \"undefined\" || force === true) {\n    root._bokeh_timeout = Date.now() + 5000;\n    root._bokeh_failed_load = false;\n  }\n\n  var NB_LOAD_WARNING = {'data': {'text/html':\n     \"<div style='background-color: #fdd'>\\n\"+\n     \"<p>\\n\"+\n     \"BokehJS does not appear to have successfully loaded. If loading BokehJS from CDN, this \\n\"+\n     \"may be due to a slow or bad network connection. Possible fixes:\\n\"+\n     \"</p>\\n\"+\n     \"<ul>\\n\"+\n     \"<li>re-rerun `output_notebook()` to attempt to load from CDN again, or</li>\\n\"+\n     \"<li>use INLINE resources instead, as so:</li>\\n\"+\n     \"</ul>\\n\"+\n     \"<code>\\n\"+\n     \"from bokeh.resources import INLINE\\n\"+\n     \"output_notebook(resources=INLINE)\\n\"+\n     \"</code>\\n\"+\n     \"</div>\"}};\n\n  function display_loaded() {\n    var el = document.getElementById(\"edef5912-59d7-4095-a21d-9e45c50b30ed\");\n    if (el != null) {\n      el.textContent = \"BokehJS is loading...\";\n    }\n    if (root.Bokeh !== undefined) {\n      if (el != null) {\n        el.textContent = \"BokehJS \" + root.Bokeh.version + \" successfully loaded.\";\n      }\n    } else if (Date.now() < root._bokeh_timeout) {\n      setTimeout(display_loaded, 100)\n    }\n  }\n\n\n  function run_callbacks() {\n    try {\n      root._bokeh_onload_callbacks.forEach(function(callback) { callback() });\n    }\n    finally {\n      delete root._bokeh_onload_callbacks\n    }\n    console.info(\"Bokeh: all callbacks have finished\");\n  }\n\n  function load_libs(js_urls, callback) {\n    root._bokeh_onload_callbacks.push(callback);\n    if (root._bokeh_is_loading > 0) {\n      console.log(\"Bokeh: BokehJS is being loaded, scheduling callback at\", now());\n      return null;\n    }\n    if (js_urls == null || js_urls.length === 0) {\n      run_callbacks();\n      return null;\n    }\n    console.log(\"Bokeh: BokehJS not loaded, scheduling load and callback at\", now());\n    root._bokeh_is_loading = js_urls.length;\n    for (var i = 0; i < js_urls.length; i++) {\n      var url = js_urls[i];\n      var s = document.createElement('script');\n      s.src = url;\n      s.async = false;\n      s.onreadystatechange = s.onload = function() {\n        root._bokeh_is_loading--;\n        if (root._bokeh_is_loading === 0) {\n          console.log(\"Bokeh: all BokehJS libraries loaded\");\n          run_callbacks()\n        }\n      };\n      s.onerror = function() {\n        console.warn(\"failed to load library \" + url);\n      };\n      console.log(\"Bokeh: injecting script tag for BokehJS library: \", url);\n      document.getElementsByTagName(\"head\")[0].appendChild(s);\n    }\n  };var element = document.getElementById(\"edef5912-59d7-4095-a21d-9e45c50b30ed\");\n  if (element == null) {\n    console.log(\"Bokeh: ERROR: autoload.js configured with elementid 'edef5912-59d7-4095-a21d-9e45c50b30ed' but no matching script tag was found. \")\n    return false;\n  }\n\n  var js_urls = [\"https://cdn.pydata.org/bokeh/release/bokeh-0.12.15.min.js\", \"https://cdn.pydata.org/bokeh/release/bokeh-widgets-0.12.15.min.js\", \"https://cdn.pydata.org/bokeh/release/bokeh-tables-0.12.15.min.js\", \"https://cdn.pydata.org/bokeh/release/bokeh-gl-0.12.15.min.js\"];\n\n  var inline_js = [\n    function(Bokeh) {\n      Bokeh.set_log_level(\"info\");\n    },\n    \n    function(Bokeh) {\n      \n    },\n    function(Bokeh) {\n      console.log(\"Bokeh: injecting CSS: https://cdn.pydata.org/bokeh/release/bokeh-0.12.15.min.css\");\n      Bokeh.embed.inject_css(\"https://cdn.pydata.org/bokeh/release/bokeh-0.12.15.min.css\");\n      console.log(\"Bokeh: injecting CSS: https://cdn.pydata.org/bokeh/release/bokeh-widgets-0.12.15.min.css\");\n      Bokeh.embed.inject_css(\"https://cdn.pydata.org/bokeh/release/bokeh-widgets-0.12.15.min.css\");\n      console.log(\"Bokeh: injecting CSS: https://cdn.pydata.org/bokeh/release/bokeh-tables-0.12.15.min.css\");\n      Bokeh.embed.inject_css(\"https://cdn.pydata.org/bokeh/release/bokeh-tables-0.12.15.min.css\");\n    }\n  ];\n\n  function run_inline_js() {\n    \n    if ((root.Bokeh !== undefined) || (force === true)) {\n      for (var i = 0; i < inline_js.length; i++) {\n        inline_js[i].call(root, root.Bokeh);\n      }if (force === true) {\n        display_loaded();\n      }} else if (Date.now() < root._bokeh_timeout) {\n      setTimeout(run_inline_js, 100);\n    } else if (!root._bokeh_failed_load) {\n      console.log(\"Bokeh: BokehJS failed to load within specified timeout.\");\n      root._bokeh_failed_load = true;\n    } else if (force !== true) {\n      var cell = $(document.getElementById(\"edef5912-59d7-4095-a21d-9e45c50b30ed\")).parents('.cell').data().cell;\n      cell.output_area.append_execute_result(NB_LOAD_WARNING)\n    }\n\n  }\n\n  if (root._bokeh_is_loading === 0) {\n    console.log(\"Bokeh: BokehJS loaded, going straight to plotting\");\n    run_inline_js();\n  } else {\n    load_libs(js_urls, function() {\n      console.log(\"Bokeh: BokehJS plotting callback run at\", now());\n      run_inline_js();\n    });\n  }\n}(window));"
     },
     "metadata": {},
     "output_type": "display_data"
    }
   ],
   "source": [
    "output_notebook()"
   ]
  },
  {
   "cell_type": "code",
   "execution_count": 5,
   "metadata": {},
   "outputs": [
    {
     "data": {
      "text/html": [
       "\n",
       "<div class=\"bk-root\">\n",
       "    <div class=\"bk-plotdiv\" id=\"7e977c98-ee28-4080-9d9a-f7f63d73477d\"></div>\n",
       "</div>"
      ]
     },
     "metadata": {},
     "output_type": "display_data"
    },
    {
     "data": {
      "application/javascript": [
       "(function(root) {\n",
       "  function embed_document(root) {\n",
       "    \n",
       "  var docs_json = {\"70a1c7c0-7f51-4d27-961a-8639062e2338\":{\"roots\":{\"references\":[{\"attributes\":{},\"id\":\"346cd993-6b2a-43f5-90c1-4dd4afafa970\",\"type\":\"BasicTicker\"},{\"attributes\":{\"fill_alpha\":{\"field\":\"fill_alpha\"},\"fill_color\":{\"value\":\"orange\"},\"line_color\":{\"value\":\"navy\"},\"size\":{\"field\":\"size\",\"units\":\"screen\"},\"x\":{\"field\":\"x\"},\"y\":{\"field\":\"y\"}},\"id\":\"8746bc7b-a6aa-4d46-a7e7-caf9100629e1\",\"type\":\"Circle\"},{\"attributes\":{\"dimension\":1,\"plot\":{\"id\":\"542a1a97-032b-4cf3-90e0-9e61766c4483\",\"subtype\":\"Figure\",\"type\":\"Plot\"},\"ticker\":{\"id\":\"346cd993-6b2a-43f5-90c1-4dd4afafa970\",\"type\":\"BasicTicker\"}},\"id\":\"887a74b9-4930-49d9-b5b7-77095905a817\",\"type\":\"Grid\"},{\"attributes\":{\"below\":[{\"id\":\"284c1196-5f79-44b0-8ac1-c870e136b7fc\",\"type\":\"LinearAxis\"}],\"left\":[{\"id\":\"a43b3e10-25fb-4e8b-8fc1-20f7e1249dfe\",\"type\":\"LinearAxis\"}],\"plot_height\":400,\"plot_width\":400,\"renderers\":[{\"id\":\"284c1196-5f79-44b0-8ac1-c870e136b7fc\",\"type\":\"LinearAxis\"},{\"id\":\"da910d68-84ec-429b-99db-1e9ff6fb6f1c\",\"type\":\"Grid\"},{\"id\":\"a43b3e10-25fb-4e8b-8fc1-20f7e1249dfe\",\"type\":\"LinearAxis\"},{\"id\":\"887a74b9-4930-49d9-b5b7-77095905a817\",\"type\":\"Grid\"},{\"id\":\"d67cb9ba-77de-4262-8d24-cc39cd697e98\",\"type\":\"BoxAnnotation\"},{\"id\":\"0c8e90b1-b946-4778-93f4-3efa8a57c2ad\",\"type\":\"GlyphRenderer\"}],\"title\":{\"id\":\"1ffc1437-8dc6-4320-a98c-12125e155263\",\"type\":\"Title\"},\"toolbar\":{\"id\":\"2168f3e1-d85f-4cc5-841c-27e062e3ae7b\",\"type\":\"Toolbar\"},\"x_range\":{\"id\":\"36032822-76d3-4ee3-8a7e-b7829910e442\",\"type\":\"DataRange1d\"},\"x_scale\":{\"id\":\"47c67baa-cb54-4cb1-afda-11ef603a6543\",\"type\":\"LinearScale\"},\"y_range\":{\"id\":\"d6c3da11-8dfa-4e6b-8481-6745f7fa5bef\",\"type\":\"DataRange1d\"},\"y_scale\":{\"id\":\"14207ded-1ac1-4a3b-961b-1ce69a0bfbb3\",\"type\":\"LinearScale\"}},\"id\":\"542a1a97-032b-4cf3-90e0-9e61766c4483\",\"subtype\":\"Figure\",\"type\":\"Plot\"},{\"attributes\":{\"fill_alpha\":{\"value\":0.1},\"fill_color\":{\"value\":\"#1f77b4\"},\"line_alpha\":{\"value\":0.1},\"line_color\":{\"value\":\"#1f77b4\"},\"size\":{\"field\":\"size\",\"units\":\"screen\"},\"x\":{\"field\":\"x\"},\"y\":{\"field\":\"y\"}},\"id\":\"6410b31e-fc6b-405c-b643-c7aa41da5f81\",\"type\":\"Circle\"},{\"attributes\":{\"source\":{\"id\":\"1e3317d4-0847-4b68-b5e3-17a251edc1cb\",\"type\":\"ColumnDataSource\"}},\"id\":\"1bee4ea8-cb03-45b0-ac46-a07ab64a848c\",\"type\":\"CDSView\"},{\"attributes\":{\"callback\":null,\"column_names\":[\"size\",\"x\",\"y\",\"fill_alpha\"],\"data\":{\"fill_alpha\":[0.5,0.2,0.2,1,1],\"size\":[10,15,20,25,30],\"x\":[1,2,3,4,5],\"y\":[6,7,2,4,5]},\"selected\":null,\"selection_policy\":null},\"id\":\"1e3317d4-0847-4b68-b5e3-17a251edc1cb\",\"type\":\"ColumnDataSource\"},{\"attributes\":{},\"id\":\"b1ea884e-fc61-4d58-a43a-7f50ca0dc306\",\"type\":\"PanTool\"},{\"attributes\":{\"data_source\":{\"id\":\"1e3317d4-0847-4b68-b5e3-17a251edc1cb\",\"type\":\"ColumnDataSource\"},\"glyph\":{\"id\":\"8746bc7b-a6aa-4d46-a7e7-caf9100629e1\",\"type\":\"Circle\"},\"hover_glyph\":null,\"muted_glyph\":null,\"nonselection_glyph\":{\"id\":\"6410b31e-fc6b-405c-b643-c7aa41da5f81\",\"type\":\"Circle\"},\"selection_glyph\":null,\"view\":{\"id\":\"1bee4ea8-cb03-45b0-ac46-a07ab64a848c\",\"type\":\"CDSView\"}},\"id\":\"0c8e90b1-b946-4778-93f4-3efa8a57c2ad\",\"type\":\"GlyphRenderer\"},{\"attributes\":{\"active_drag\":\"auto\",\"active_inspect\":\"auto\",\"active_scroll\":\"auto\",\"active_tap\":\"auto\",\"tools\":[{\"id\":\"b1ea884e-fc61-4d58-a43a-7f50ca0dc306\",\"type\":\"PanTool\"},{\"id\":\"3444efa0-ef66-49ed-8cf0-351f8b2f0745\",\"type\":\"WheelZoomTool\"},{\"id\":\"58c3bb91-3375-4762-a514-ab48d9495ab5\",\"type\":\"BoxZoomTool\"},{\"id\":\"c3d9db8d-eb1e-447c-aa57-e1943823141c\",\"type\":\"SaveTool\"},{\"id\":\"2de81e63-8b65-4fb6-ba93-5d1f7a2aeefb\",\"type\":\"ResetTool\"},{\"id\":\"3647a0d9-2e60-48c3-ada5-db59f9d3792c\",\"type\":\"HelpTool\"}]},\"id\":\"2168f3e1-d85f-4cc5-841c-27e062e3ae7b\",\"type\":\"Toolbar\"},{\"attributes\":{\"plot\":null,\"text\":\"\"},\"id\":\"1ffc1437-8dc6-4320-a98c-12125e155263\",\"type\":\"Title\"},{\"attributes\":{},\"id\":\"cdeb6754-4b54-4ccc-920d-cfa354a0e82a\",\"type\":\"BasicTickFormatter\"},{\"attributes\":{},\"id\":\"3444efa0-ef66-49ed-8cf0-351f8b2f0745\",\"type\":\"WheelZoomTool\"},{\"attributes\":{},\"id\":\"888342a0-88d9-4d22-95e4-d74881c3894c\",\"type\":\"BasicTickFormatter\"},{\"attributes\":{\"callback\":null},\"id\":\"36032822-76d3-4ee3-8a7e-b7829910e442\",\"type\":\"DataRange1d\"},{\"attributes\":{\"overlay\":{\"id\":\"d67cb9ba-77de-4262-8d24-cc39cd697e98\",\"type\":\"BoxAnnotation\"}},\"id\":\"58c3bb91-3375-4762-a514-ab48d9495ab5\",\"type\":\"BoxZoomTool\"},{\"attributes\":{},\"id\":\"c3d9db8d-eb1e-447c-aa57-e1943823141c\",\"type\":\"SaveTool\"},{\"attributes\":{\"callback\":null},\"id\":\"d6c3da11-8dfa-4e6b-8481-6745f7fa5bef\",\"type\":\"DataRange1d\"},{\"attributes\":{},\"id\":\"2de81e63-8b65-4fb6-ba93-5d1f7a2aeefb\",\"type\":\"ResetTool\"},{\"attributes\":{},\"id\":\"47c67baa-cb54-4cb1-afda-11ef603a6543\",\"type\":\"LinearScale\"},{\"attributes\":{},\"id\":\"3647a0d9-2e60-48c3-ada5-db59f9d3792c\",\"type\":\"HelpTool\"},{\"attributes\":{},\"id\":\"14207ded-1ac1-4a3b-961b-1ce69a0bfbb3\",\"type\":\"LinearScale\"},{\"attributes\":{\"bottom_units\":\"screen\",\"fill_alpha\":{\"value\":0.5},\"fill_color\":{\"value\":\"lightgrey\"},\"left_units\":\"screen\",\"level\":\"overlay\",\"line_alpha\":{\"value\":1.0},\"line_color\":{\"value\":\"black\"},\"line_dash\":[4,4],\"line_width\":{\"value\":2},\"plot\":null,\"render_mode\":\"css\",\"right_units\":\"screen\",\"top_units\":\"screen\"},\"id\":\"d67cb9ba-77de-4262-8d24-cc39cd697e98\",\"type\":\"BoxAnnotation\"},{\"attributes\":{\"formatter\":{\"id\":\"cdeb6754-4b54-4ccc-920d-cfa354a0e82a\",\"type\":\"BasicTickFormatter\"},\"plot\":{\"id\":\"542a1a97-032b-4cf3-90e0-9e61766c4483\",\"subtype\":\"Figure\",\"type\":\"Plot\"},\"ticker\":{\"id\":\"63a456ea-58a8-4383-86a1-3c2ad6397eea\",\"type\":\"BasicTicker\"}},\"id\":\"284c1196-5f79-44b0-8ac1-c870e136b7fc\",\"type\":\"LinearAxis\"},{\"attributes\":{},\"id\":\"63a456ea-58a8-4383-86a1-3c2ad6397eea\",\"type\":\"BasicTicker\"},{\"attributes\":{\"plot\":{\"id\":\"542a1a97-032b-4cf3-90e0-9e61766c4483\",\"subtype\":\"Figure\",\"type\":\"Plot\"},\"ticker\":{\"id\":\"63a456ea-58a8-4383-86a1-3c2ad6397eea\",\"type\":\"BasicTicker\"}},\"id\":\"da910d68-84ec-429b-99db-1e9ff6fb6f1c\",\"type\":\"Grid\"},{\"attributes\":{\"formatter\":{\"id\":\"888342a0-88d9-4d22-95e4-d74881c3894c\",\"type\":\"BasicTickFormatter\"},\"plot\":{\"id\":\"542a1a97-032b-4cf3-90e0-9e61766c4483\",\"subtype\":\"Figure\",\"type\":\"Plot\"},\"ticker\":{\"id\":\"346cd993-6b2a-43f5-90c1-4dd4afafa970\",\"type\":\"BasicTicker\"}},\"id\":\"a43b3e10-25fb-4e8b-8fc1-20f7e1249dfe\",\"type\":\"LinearAxis\"}],\"root_ids\":[\"542a1a97-032b-4cf3-90e0-9e61766c4483\"]},\"title\":\"Bokeh Application\",\"version\":\"0.12.15\"}};\n",
       "  var render_items = [{\"docid\":\"70a1c7c0-7f51-4d27-961a-8639062e2338\",\"elementid\":\"7e977c98-ee28-4080-9d9a-f7f63d73477d\",\"modelid\":\"542a1a97-032b-4cf3-90e0-9e61766c4483\"}];\n",
       "  root.Bokeh.embed.embed_items_notebook(docs_json, render_items);\n",
       "\n",
       "  }\n",
       "  if (root.Bokeh !== undefined) {\n",
       "    embed_document(root);\n",
       "  } else {\n",
       "    var attempts = 0;\n",
       "    var timer = setInterval(function(root) {\n",
       "      if (root.Bokeh !== undefined) {\n",
       "        embed_document(root);\n",
       "        clearInterval(timer);\n",
       "      }\n",
       "      attempts++;\n",
       "      if (attempts > 100) {\n",
       "        console.log(\"Bokeh: ERROR: Unable to run BokehJS code because BokehJS library is missing\")\n",
       "        clearInterval(timer);\n",
       "      }\n",
       "    }, 10, root)\n",
       "  }\n",
       "})(window);"
      ],
      "application/vnd.bokehjs_exec.v0+json": ""
     },
     "metadata": {
      "application/vnd.bokehjs_exec.v0+json": {
       "id": "542a1a97-032b-4cf3-90e0-9e61766c4483"
      }
     },
     "output_type": "display_data"
    }
   ],
   "source": [
    "# Create a plot\n",
    "p = figure(plot_width = 400, plot_height = 400)\n",
    "\n",
    "# Display a scater plot (several points)\n",
    "p.circle([1, 2, 3, 4, 5], [6, 7, 2, 4, 5], size = [10, 15, 20, 25, 30], line_color = \"navy\", \n",
    "         fill_color = \"orange\", fill_alpha = [0.5, 0.2, 0.2, 1, 1])\n",
    "\n",
    "# Display plot\n",
    "show(p)"
   ]
  },
  {
   "cell_type": "markdown",
   "metadata": {},
   "source": [
    "## Pandas Dataframe"
   ]
  },
  {
   "cell_type": "code",
   "execution_count": 6,
   "metadata": {},
   "outputs": [],
   "source": [
    "import pandas as pd"
   ]
  },
  {
   "cell_type": "code",
   "execution_count": 7,
   "metadata": {},
   "outputs": [],
   "source": [
    "df = pd.read_csv(\"female_literacy_birth_rate.csv\")"
   ]
  },
  {
   "cell_type": "code",
   "execution_count": 8,
   "metadata": {},
   "outputs": [
    {
     "data": {
      "text/html": [
       "<div>\n",
       "<style scoped>\n",
       "    .dataframe tbody tr th:only-of-type {\n",
       "        vertical-align: middle;\n",
       "    }\n",
       "\n",
       "    .dataframe tbody tr th {\n",
       "        vertical-align: top;\n",
       "    }\n",
       "\n",
       "    .dataframe thead th {\n",
       "        text-align: right;\n",
       "    }\n",
       "</style>\n",
       "<table border=\"1\" class=\"dataframe\">\n",
       "  <thead>\n",
       "    <tr style=\"text-align: right;\">\n",
       "      <th></th>\n",
       "      <th>Country</th>\n",
       "      <th>Continent</th>\n",
       "      <th>female literacy</th>\n",
       "      <th>fertility</th>\n",
       "      <th>population</th>\n",
       "    </tr>\n",
       "  </thead>\n",
       "  <tbody>\n",
       "    <tr>\n",
       "      <th>0</th>\n",
       "      <td>Chine</td>\n",
       "      <td>ASI</td>\n",
       "      <td>90.5</td>\n",
       "      <td>1.769</td>\n",
       "      <td>1.324655e+09</td>\n",
       "    </tr>\n",
       "    <tr>\n",
       "      <th>1</th>\n",
       "      <td>Inde</td>\n",
       "      <td>ASI</td>\n",
       "      <td>50.8</td>\n",
       "      <td>2.682</td>\n",
       "      <td>1.139965e+09</td>\n",
       "    </tr>\n",
       "    <tr>\n",
       "      <th>2</th>\n",
       "      <td>USA</td>\n",
       "      <td>NAM</td>\n",
       "      <td>99.0</td>\n",
       "      <td>2.077</td>\n",
       "      <td>3.040600e+08</td>\n",
       "    </tr>\n",
       "    <tr>\n",
       "      <th>3</th>\n",
       "      <td>Indonésie</td>\n",
       "      <td>ASI</td>\n",
       "      <td>88.8</td>\n",
       "      <td>2.132</td>\n",
       "      <td>2.273451e+08</td>\n",
       "    </tr>\n",
       "    <tr>\n",
       "      <th>4</th>\n",
       "      <td>Brésil</td>\n",
       "      <td>LAT</td>\n",
       "      <td>90.2</td>\n",
       "      <td>1.827</td>\n",
       "      <td>1.919715e+08</td>\n",
       "    </tr>\n",
       "  </tbody>\n",
       "</table>\n",
       "</div>"
      ],
      "text/plain": [
       "    Country  Continent  female literacy  fertility    population\n",
       "0      Chine       ASI             90.5      1.769  1.324655e+09\n",
       "1       Inde       ASI             50.8      2.682  1.139965e+09\n",
       "2        USA       NAM             99.0      2.077  3.040600e+08\n",
       "3  Indonésie       ASI             88.8      2.132  2.273451e+08\n",
       "4     Brésil       LAT             90.2      1.827  1.919715e+08"
      ]
     },
     "execution_count": 8,
     "metadata": {},
     "output_type": "execute_result"
    }
   ],
   "source": [
    "df.head()"
   ]
  },
  {
   "cell_type": "code",
   "execution_count": 9,
   "metadata": {},
   "outputs": [
    {
     "data": {
      "text/html": [
       "<div>\n",
       "<style scoped>\n",
       "    .dataframe tbody tr th:only-of-type {\n",
       "        vertical-align: middle;\n",
       "    }\n",
       "\n",
       "    .dataframe tbody tr th {\n",
       "        vertical-align: top;\n",
       "    }\n",
       "\n",
       "    .dataframe thead th {\n",
       "        text-align: right;\n",
       "    }\n",
       "</style>\n",
       "<table border=\"1\" class=\"dataframe\">\n",
       "  <thead>\n",
       "    <tr style=\"text-align: right;\">\n",
       "      <th></th>\n",
       "      <th>Country</th>\n",
       "      <th>Continent</th>\n",
       "      <th>female literacy</th>\n",
       "      <th>fertility</th>\n",
       "      <th>population</th>\n",
       "    </tr>\n",
       "  </thead>\n",
       "  <tbody>\n",
       "    <tr>\n",
       "      <th>157</th>\n",
       "      <td>Vanuatu</td>\n",
       "      <td>OCE</td>\n",
       "      <td>79.5</td>\n",
       "      <td>3.883</td>\n",
       "      <td>233866.0</td>\n",
       "    </tr>\n",
       "    <tr>\n",
       "      <th>158</th>\n",
       "      <td>Samoa</td>\n",
       "      <td>OCE</td>\n",
       "      <td>98.5</td>\n",
       "      <td>3.852</td>\n",
       "      <td>178869.0</td>\n",
       "    </tr>\n",
       "    <tr>\n",
       "      <th>159</th>\n",
       "      <td>Sao Tomé-et-Principe</td>\n",
       "      <td>AF</td>\n",
       "      <td>83.3</td>\n",
       "      <td>3.718</td>\n",
       "      <td>160174.0</td>\n",
       "    </tr>\n",
       "    <tr>\n",
       "      <th>160</th>\n",
       "      <td>Aruba</td>\n",
       "      <td>LAT</td>\n",
       "      <td>98.0</td>\n",
       "      <td>1.732</td>\n",
       "      <td>105455.0</td>\n",
       "    </tr>\n",
       "    <tr>\n",
       "      <th>161</th>\n",
       "      <td>Tonga</td>\n",
       "      <td>ASI</td>\n",
       "      <td>99.1</td>\n",
       "      <td>3.928</td>\n",
       "      <td>103566.0</td>\n",
       "    </tr>\n",
       "  </tbody>\n",
       "</table>\n",
       "</div>"
      ],
      "text/plain": [
       "                 Country  Continent  female literacy  fertility  population\n",
       "157               Vanuatu       OCE             79.5      3.883    233866.0\n",
       "158                 Samoa       OCE             98.5      3.852    178869.0\n",
       "159  Sao Tomé-et-Principe        AF             83.3      3.718    160174.0\n",
       "160                 Aruba       LAT             98.0      1.732    105455.0\n",
       "161                 Tonga       ASI             99.1      3.928    103566.0"
      ]
     },
     "execution_count": 9,
     "metadata": {},
     "output_type": "execute_result"
    }
   ],
   "source": [
    "df.tail()"
   ]
  },
  {
   "cell_type": "code",
   "execution_count": 10,
   "metadata": {},
   "outputs": [
    {
     "data": {
      "text/plain": [
       "Index(['Country ', 'Continent', 'female literacy', 'fertility', 'population'], dtype='object')"
      ]
     },
     "execution_count": 10,
     "metadata": {},
     "output_type": "execute_result"
    }
   ],
   "source": [
    "# See defined columns\n",
    "df.columns"
   ]
  },
  {
   "cell_type": "code",
   "execution_count": 11,
   "metadata": {},
   "outputs": [
    {
     "data": {
      "text/plain": [
       "(162, 5)"
      ]
     },
     "execution_count": 11,
     "metadata": {},
     "output_type": "execute_result"
    }
   ],
   "source": [
    "# Devuelve forma de los datos -> filas y columnas\n",
    "df.shape"
   ]
  },
  {
   "cell_type": "code",
   "execution_count": 12,
   "metadata": {},
   "outputs": [
    {
     "name": "stdout",
     "output_type": "stream",
     "text": [
      "<class 'pandas.core.frame.DataFrame'>\n",
      "RangeIndex: 162 entries, 0 to 161\n",
      "Data columns (total 5 columns):\n",
      "Country            162 non-null object\n",
      "Continent          162 non-null object\n",
      "female literacy    162 non-null float64\n",
      "fertility          162 non-null float64\n",
      "population         162 non-null float64\n",
      "dtypes: float64(3), object(2)\n",
      "memory usage: 6.4+ KB\n"
     ]
    }
   ],
   "source": [
    "# information about the objects -> How the data is specified and interpreted\n",
    "df.info()"
   ]
  },
  {
   "cell_type": "code",
   "execution_count": 13,
   "metadata": {},
   "outputs": [
    {
     "data": {
      "text/plain": [
       "0      ASI\n",
       "1      ASI\n",
       "2      NAM\n",
       "3      ASI\n",
       "4      LAT\n",
       "5      ASI\n",
       "6      ASI\n",
       "7       AF\n",
       "8      EUR\n",
       "9      ASI\n",
       "10     LAT\n",
       "11     ASI\n",
       "12     ASI\n",
       "13     EUR\n",
       "14      AF\n",
       "15      AF\n",
       "16     ASI\n",
       "17     ASI\n",
       "18     ASI\n",
       "19      AF\n",
       "20     EUR\n",
       "21     EUR\n",
       "22     EUR\n",
       "23     ASI\n",
       "24      AF\n",
       "25     ASI\n",
       "26     EUR\n",
       "27     EUR\n",
       "28     LAT\n",
       "29      AF\n",
       "      ... \n",
       "132     AF\n",
       "133    EUR\n",
       "134    EUR\n",
       "135     AF\n",
       "136     AF\n",
       "137     AF\n",
       "138     AF\n",
       "139    EUR\n",
       "140    LAT\n",
       "141    ASI\n",
       "142     AF\n",
       "143     AF\n",
       "144    EUR\n",
       "145    ASI\n",
       "146    ASI\n",
       "147     AF\n",
       "148     AF\n",
       "149    ASI\n",
       "150    LAT\n",
       "151     AF\n",
       "152    EUR\n",
       "153    ASI\n",
       "154    LAT\n",
       "155    EUR\n",
       "156    ASI\n",
       "157    OCE\n",
       "158    OCE\n",
       "159     AF\n",
       "160    LAT\n",
       "161    ASI\n",
       "Name: Continent, Length: 162, dtype: object"
      ]
     },
     "execution_count": 13,
     "metadata": {},
     "output_type": "execute_result"
    }
   ],
   "source": [
    "#Access to a column -> accesing the column directly\n",
    "df.Continent"
   ]
  },
  {
   "cell_type": "code",
   "execution_count": 14,
   "metadata": {},
   "outputs": [
    {
     "data": {
      "text/plain": [
       "99.0    15\n",
       "99.7     4\n",
       "99.8     3\n",
       "91.5     3\n",
       "98.5     3\n",
       "Name: female literacy, dtype: int64"
      ]
     },
     "execution_count": 14,
     "metadata": {},
     "output_type": "execute_result"
    }
   ],
   "source": [
    "# Also with square-braquets\n",
    "df['female literacy'].value_counts().head()"
   ]
  },
  {
   "cell_type": "code",
   "execution_count": 15,
   "metadata": {
    "scrolled": true
   },
   "outputs": [
    {
     "data": {
      "text/html": [
       "<div>\n",
       "<style scoped>\n",
       "    .dataframe tbody tr th:only-of-type {\n",
       "        vertical-align: middle;\n",
       "    }\n",
       "\n",
       "    .dataframe tbody tr th {\n",
       "        vertical-align: top;\n",
       "    }\n",
       "\n",
       "    .dataframe thead th {\n",
       "        text-align: right;\n",
       "    }\n",
       "</style>\n",
       "<table border=\"1\" class=\"dataframe\">\n",
       "  <thead>\n",
       "    <tr style=\"text-align: right;\">\n",
       "      <th></th>\n",
       "      <th>female literacy</th>\n",
       "      <th>fertility</th>\n",
       "      <th>population</th>\n",
       "    </tr>\n",
       "  </thead>\n",
       "  <tbody>\n",
       "    <tr>\n",
       "      <th>count</th>\n",
       "      <td>162.000000</td>\n",
       "      <td>162.000000</td>\n",
       "      <td>1.620000e+02</td>\n",
       "    </tr>\n",
       "    <tr>\n",
       "      <th>mean</th>\n",
       "      <td>80.107407</td>\n",
       "      <td>2.878673</td>\n",
       "      <td>4.068708e+07</td>\n",
       "    </tr>\n",
       "    <tr>\n",
       "      <th>std</th>\n",
       "      <td>23.052415</td>\n",
       "      <td>1.427597</td>\n",
       "      <td>1.409695e+08</td>\n",
       "    </tr>\n",
       "    <tr>\n",
       "      <th>min</th>\n",
       "      <td>12.600000</td>\n",
       "      <td>0.966000</td>\n",
       "      <td>1.035660e+05</td>\n",
       "    </tr>\n",
       "    <tr>\n",
       "      <th>25%</th>\n",
       "      <td>66.425000</td>\n",
       "      <td>1.823250</td>\n",
       "      <td>3.368292e+06</td>\n",
       "    </tr>\n",
       "    <tr>\n",
       "      <th>50%</th>\n",
       "      <td>90.000000</td>\n",
       "      <td>2.367500</td>\n",
       "      <td>9.707404e+06</td>\n",
       "    </tr>\n",
       "    <tr>\n",
       "      <th>75%</th>\n",
       "      <td>98.500000</td>\n",
       "      <td>3.880250</td>\n",
       "      <td>2.882991e+07</td>\n",
       "    </tr>\n",
       "    <tr>\n",
       "      <th>max</th>\n",
       "      <td>100.000000</td>\n",
       "      <td>7.069000</td>\n",
       "      <td>1.324655e+09</td>\n",
       "    </tr>\n",
       "  </tbody>\n",
       "</table>\n",
       "</div>"
      ],
      "text/plain": [
       "       female literacy   fertility    population\n",
       "count       162.000000  162.000000  1.620000e+02\n",
       "mean         80.107407    2.878673  4.068708e+07\n",
       "std          23.052415    1.427597  1.409695e+08\n",
       "min          12.600000    0.966000  1.035660e+05\n",
       "25%          66.425000    1.823250  3.368292e+06\n",
       "50%          90.000000    2.367500  9.707404e+06\n",
       "75%          98.500000    3.880250  2.882991e+07\n",
       "max         100.000000    7.069000  1.324655e+09"
      ]
     },
     "execution_count": 15,
     "metadata": {},
     "output_type": "execute_result"
    }
   ],
   "source": [
    "# Statistics data about the columns\n",
    "df.describe()"
   ]
  },
  {
   "cell_type": "markdown",
   "metadata": {},
   "source": [
    "### Visualizar Dataframes"
   ]
  },
  {
   "cell_type": "code",
   "execution_count": 16,
   "metadata": {},
   "outputs": [
    {
     "data": {
      "text/html": [
       "<div>\n",
       "<style scoped>\n",
       "    .dataframe tbody tr th:only-of-type {\n",
       "        vertical-align: middle;\n",
       "    }\n",
       "\n",
       "    .dataframe tbody tr th {\n",
       "        vertical-align: top;\n",
       "    }\n",
       "\n",
       "    .dataframe thead th {\n",
       "        text-align: right;\n",
       "    }\n",
       "</style>\n",
       "<table border=\"1\" class=\"dataframe\">\n",
       "  <thead>\n",
       "    <tr style=\"text-align: right;\">\n",
       "      <th></th>\n",
       "      <th>Country</th>\n",
       "      <th>Continent</th>\n",
       "      <th>female literacy</th>\n",
       "      <th>fertility</th>\n",
       "      <th>population</th>\n",
       "    </tr>\n",
       "  </thead>\n",
       "  <tbody>\n",
       "    <tr>\n",
       "      <th>0</th>\n",
       "      <td>Chine</td>\n",
       "      <td>ASI</td>\n",
       "      <td>90.5</td>\n",
       "      <td>1.769</td>\n",
       "      <td>1.324655e+09</td>\n",
       "    </tr>\n",
       "    <tr>\n",
       "      <th>1</th>\n",
       "      <td>Inde</td>\n",
       "      <td>ASI</td>\n",
       "      <td>50.8</td>\n",
       "      <td>2.682</td>\n",
       "      <td>1.139965e+09</td>\n",
       "    </tr>\n",
       "    <tr>\n",
       "      <th>2</th>\n",
       "      <td>USA</td>\n",
       "      <td>NAM</td>\n",
       "      <td>99.0</td>\n",
       "      <td>2.077</td>\n",
       "      <td>3.040600e+08</td>\n",
       "    </tr>\n",
       "    <tr>\n",
       "      <th>3</th>\n",
       "      <td>Indonésie</td>\n",
       "      <td>ASI</td>\n",
       "      <td>88.8</td>\n",
       "      <td>2.132</td>\n",
       "      <td>2.273451e+08</td>\n",
       "    </tr>\n",
       "    <tr>\n",
       "      <th>4</th>\n",
       "      <td>Brésil</td>\n",
       "      <td>LAT</td>\n",
       "      <td>90.2</td>\n",
       "      <td>1.827</td>\n",
       "      <td>1.919715e+08</td>\n",
       "    </tr>\n",
       "  </tbody>\n",
       "</table>\n",
       "</div>"
      ],
      "text/plain": [
       "    Country  Continent  female literacy  fertility    population\n",
       "0      Chine       ASI             90.5      1.769  1.324655e+09\n",
       "1       Inde       ASI             50.8      2.682  1.139965e+09\n",
       "2        USA       NAM             99.0      2.077  3.040600e+08\n",
       "3  Indonésie       ASI             88.8      2.132  2.273451e+08\n",
       "4     Brésil       LAT             90.2      1.827  1.919715e+08"
      ]
     },
     "execution_count": 16,
     "metadata": {},
     "output_type": "execute_result"
    }
   ],
   "source": [
    "df.head()"
   ]
  },
  {
   "cell_type": "code",
   "execution_count": 17,
   "metadata": {},
   "outputs": [
    {
     "data": {
      "text/html": [
       "\n",
       "<div class=\"bk-root\">\n",
       "    <div class=\"bk-plotdiv\" id=\"fa866e24-625e-4d25-a9f1-9182917d4a11\"></div>\n",
       "</div>"
      ]
     },
     "metadata": {},
     "output_type": "display_data"
    },
    {
     "data": {
      "application/javascript": [
       "(function(root) {\n",
       "  function embed_document(root) {\n",
       "    \n",
       "  var docs_json = {\"5895d758-4996-4063-b7ed-aea445533229\":{\"roots\":{\"references\":[{\"attributes\":{\"data_source\":{\"id\":\"edd6ce4a-1773-4d07-a928-c2147903fca7\",\"type\":\"ColumnDataSource\"},\"glyph\":{\"id\":\"44a35950-0d21-49e1-bc1f-272ef5829d2e\",\"type\":\"Circle\"},\"hover_glyph\":null,\"muted_glyph\":null,\"nonselection_glyph\":{\"id\":\"9191245e-475e-4e4f-ab72-2cf4912f781f\",\"type\":\"Circle\"},\"selection_glyph\":null,\"view\":{\"id\":\"082c81e5-4b37-496f-bc0d-89aecc088e3f\",\"type\":\"CDSView\"}},\"id\":\"953fe51b-d16a-43a1-918f-78d990c84001\",\"type\":\"GlyphRenderer\"},{\"attributes\":{\"bottom_units\":\"screen\",\"fill_alpha\":{\"value\":0.5},\"fill_color\":{\"value\":\"lightgrey\"},\"left_units\":\"screen\",\"level\":\"overlay\",\"line_alpha\":{\"value\":1.0},\"line_color\":{\"value\":\"black\"},\"line_dash\":[4,4],\"line_width\":{\"value\":2},\"plot\":null,\"render_mode\":\"css\",\"right_units\":\"screen\",\"top_units\":\"screen\"},\"id\":\"24d90f19-bc7c-4a20-9d66-21d0f11d2adf\",\"type\":\"BoxAnnotation\"},{\"attributes\":{\"below\":[{\"id\":\"f6fc72ef-4a91-4448-9eec-133c8dfdd8b0\",\"type\":\"LinearAxis\"}],\"left\":[{\"id\":\"2eb639f0-845c-4d2f-9898-8da33df33026\",\"type\":\"LinearAxis\"}],\"renderers\":[{\"id\":\"f6fc72ef-4a91-4448-9eec-133c8dfdd8b0\",\"type\":\"LinearAxis\"},{\"id\":\"95845c30-d81f-4e62-ac6c-15ed1ff044e9\",\"type\":\"Grid\"},{\"id\":\"2eb639f0-845c-4d2f-9898-8da33df33026\",\"type\":\"LinearAxis\"},{\"id\":\"729ef9a3-7520-4e6e-bd49-9f400d0445af\",\"type\":\"Grid\"},{\"id\":\"24d90f19-bc7c-4a20-9d66-21d0f11d2adf\",\"type\":\"BoxAnnotation\"},{\"id\":\"953fe51b-d16a-43a1-918f-78d990c84001\",\"type\":\"GlyphRenderer\"}],\"title\":{\"id\":\"6ff214e4-e1bd-47cd-bc78-d5011f721d2a\",\"type\":\"Title\"},\"toolbar\":{\"id\":\"7009f06c-50cf-4b27-828f-d85e073d4dff\",\"type\":\"Toolbar\"},\"x_range\":{\"id\":\"74acb359-bf7e-4bbc-85bf-1656dfc723fe\",\"type\":\"DataRange1d\"},\"x_scale\":{\"id\":\"8b7f749f-94d2-47e3-a8bd-cf24828a287b\",\"type\":\"LinearScale\"},\"y_range\":{\"id\":\"7b207178-0d2a-4061-871b-dd4f0813da14\",\"type\":\"DataRange1d\"},\"y_scale\":{\"id\":\"bfa14258-410a-42ea-9079-11e93853efe0\",\"type\":\"LinearScale\"}},\"id\":\"adcf53a0-f20c-4136-8886-c7ad628ddc10\",\"subtype\":\"Figure\",\"type\":\"Plot\"},{\"attributes\":{\"source\":{\"id\":\"edd6ce4a-1773-4d07-a928-c2147903fca7\",\"type\":\"ColumnDataSource\"}},\"id\":\"082c81e5-4b37-496f-bc0d-89aecc088e3f\",\"type\":\"CDSView\"},{\"attributes\":{},\"id\":\"ee340533-6b89-4147-84b0-062c36e3427d\",\"type\":\"PanTool\"},{\"attributes\":{\"callback\":null,\"column_names\":[\"size\",\"x\",\"y\"],\"data\":{\"size\":{\"__ndarray__\":\"N4lBYOWOYEDtK2qLxn9cQA4tsp3vZz5A0qS5ugi8NkAEYzN2eDIzQC9+vz10nDBA1pS/1gAAMECY43BBET4uQKNwPQrXYyxAQq1p3nGKKUDPFJVoJEUlQHrxjwjXESJADYbf8v09IUANR6F2CWwgQMkS5/IwTiBAJpJDH4ckIEBlNzP60ZAdQJkttM5TyBxAyko4mV30GkBRZ+4h4bMZQKmLb4M16RhAec5xycyQGEAAXlWs0O4XQCBpJs5A0xNACyQofox5E0A2qz5XW3ETQBu7RPXWgBJAd1jywuc4EkDVw+EWPQESQBlQFI1a/hBAdqDzvwGKEEAfniXICOgPQJpjL8oiAw9AYiQgyyeADkBOLiF6rX8LQPUtc7ospgpAERyXcVNTCUCN8ieF1EgJQO38kdikkQhAwS4vZYU3B0CLprOTwREHQP+bcuAwDAdADAIrhxZZBkBENLqD2NkFQIp/jkWJnAVA8Pz9vW+3A0CWMyWjFA4DQNYG3RRFrgJApkHRPIBVAkAHUJ1Y8ecBQA3OlmL9NQFAw6UZQRl5AEDul09WDHcAQBk0mZb9HwBAwUExaNeT/j/4hy09mor+P2ZRM/9D1fw/oq/FE+bi+j+LUp1pHVD6PyNraF5pFPk/OLHRg8xf+D8AvoAD/8D3P3/5v37jhvc/aovGNZlM9z8bMQ6J1uX1P36d5cP9kfU/ZZOy+0RU9D9dXzXgPTH0P4ZovpTL8PM/yNsAIrOJ8z8TUzO1tvrxP/ON6J517fE/WBjH7Tx28T9gQIqVLCLxP09ev7vw/vA/VAbE2s6t8D/1Zz9SRIbwP2rCUU2kD/A/H+0kx0LZ7z/+Qo8YPXfvP6snTkkxG+8/WO672GoF7z/t8NdkjfruP0cscwS6gO0/EDtT6LzG6z8+chAZ+7frPwO23spt1uk/02Uxsfl46D8kXp7OFWXoP6/KKhFNhec/ET2ETI1r5z+InSl0XmPnP+TFeIMe4OU/oCmFirsL5T8U56ij46rkP6tVYG0xJOQ/HQJHAg324z98sDFUatvjP8AklSnmoOM/KRAs/Trm4j/7kSIyrCLiP+PQEa+hyuE/Ii6l01+U4T/J6rGIvADhP6T8pNqn4+A/EUGLW7sj4D+qDan9MYjfP7d6Tnrf+N4/w4YCET2E3j8An2nTIuzcPyb9vRQetNw/N/jCZKpg3D9QcLGiBlPcP0j019Byxds/e3q2WJuQ2z/8Uj9vKlLbPy73bpgN19o/ECOERxtH2D9nCp3X2CXYP3yFu2npQNc/DFC/sKHA1T+duYeE733VP+c+lMOCVtU/8H6BxYaT1D9dlyvN9x3UP491zNR/sdM/PVgQFInT0T/eve1Tn3XRP9/98V61MtE/TbOKSF7n0D/dq/tsiQHNP+BCwwcbQ8s/JhGGppE7yj8yYH/IESHKP9F7vsFy38k/cdAU8CGXyD+Orz2zJEDFP86oVORrKsQ/WGw40VOJwj/wbfqzHynBP2nZpOw+EcE/NtII7CBlwD8igavhxz3APzk3t1OE5b0/yu9+JgwUtj9q3Qa139qzP3ndbL3wlLE/boGpCx3gsD9c8cP3tHmwP+n7X2S48Ko//kutUtVfqj9AQ0mSMYipP/J2hNOCF6U/OsssQrEVpD/CkmHL4UmhPzvH26VoQKA/gUDCixk8nz+2lagoqPKXP1V3G4rxUJI/C/WqhN1mkD/IsfUM4ZiFP6PMYVLXNYU/\",\"dtype\":\"float64\",\"shape\":[162]},\"x\":{\"__ndarray__\":\"6Pup8dJN/D/b+X5qvHQFQARWDi2ynQBAdJMYBFYOAUAIrBxaZDv9P2Dl0CLb+Q5A6Pup8dJNAkD91HjpJrEUQH0/NV66SfY//tR46SYx9D9zaJHtfD8BQGmR7Xw/NQhA3SQGgZVDAEDJdr6fGi/1P7tJDAIrhwZA8tJNYhDYFEDNzMzMzMwAQOXQItv5fvw/8/3UeOkm/T9uEoPAyqEXQH9qvHSTGP4/bhKDwMqh/T89CtejcD32P3Noke18PwJACtejcD0KBEAv3SQGgZXzPy2yne+nxvU/sXJoke189z8IrBxaZDsDQBSuR+F6FBZACKwcWmQ7EEBjEFg5tMgBQFYOLbKdbxNAE4PAyqFF9D8j2/l+arwCQN0kBoGVQ/k/arx0kxgEGUB56SYxCKwCQOSlm8QgsA9AhetRuB4FGkA9CtejcD0EQC/dJAaBlQZAlkOLbOf7A0CWQ4ts5/sBQKrx0k1iEARAUrgehetRCEBEi2zn+6n9P+F6FK5H4RBAZmZmZmZmFECR7Xw/Nd4TQDMzMzMzM/U/dJMYBFYOEkD8qfHSTWIJQBFYObTIdgJAexSuR+F6EkBEi2zn+ykSQEA1XrpJjBZAN4lBYOXQ/j/AyqFFtvP7PycxCKwcWgJAd76fGi9dF0BSuB6F69EVQC2yne+nRhxArBxaZDvfBkDfT42XbhIQQLTIdr6fGgRAH4XrUbieFUCmm8QgsPIWQIGVQ4ts5wpAj8L1KFyPE0ApXI/C9Sj2PxSuR+F6FPg/bef7qfFSGEAlBoGVQ4v8P0A1XrpJDPY/MzMzMzMz9z/b+X5qvHT9P+xRuB6F6/U/TDeJQWDlBEA3iUFg5VAVQFK4HoXrURVALIcW2c73CkDl0CLb+X70P1YOLbKd7/0/001iEFg5AUBPjZduEoMVQM3MzMzMzBFAXI/C9Shc9z9g5dAi2/n2P5duEoPAyvk/hetRuB6FCUBqvHSTGAQGQM3MzMzMzApACtejcD0KEEBEi2zn+6kQQIlBYOXQIgVAN4lBYOXQB0BSuB6F61ELQFyPwvUoXAJA8/3UeOkmCEARWDm0yHYFQClcj8L1qBRAL90kBoGV/T/GSzeJQWD9P7+fGi/dJARAcT0K16NwA0DqJjEIrBwSQGiR7Xw/NfQ/KVyPwvUo/j9KDAIrhxb/P/yp8dJNYv4/30+Nl24S9z9zaJHtfD//P30/NV66yRJAHFpkO99P+T8zMzMzMzMAQNv5fmq8dP0/JQaBlUMLFEAxCKwcWmTzP9R46SYxCPg/VOOlm8QgBECsHFpkO9/1P4PAyqFFtgBAWmQ730+NEUBEi2zn+6n9PyyHFtnO9/s/bef7qfHSB0Cd76fGSzcBQEw3iUFg5QJAAyuHFtnO/z83iUFg5dD2P1K4HoXrUQpA6SYxCKwcCkBg5dAi2/n2P30/NV66SfY/+n5qvHSTBkDGSzeJQeATQIlBYOXQohZA7FG4HoXrCUBKDAIrhxb7PyYxCKwcWvo/4XoUrkfhAkB46SYxCKz8P5qZmZmZmQtAqMZLN4lB+D93vp8aL90BQBsv3SQGgQRAbhKDwMohFUAUrkfhehQPQLbz/dR46e4/lkOLbOf7AkDo+6nx0k0FQGq8dJMYBPQ/0SLb+X5qAEAshxbZzvcKQFg5tMh2vgBAAAAAAAAAAECq8dJNYhAPQDeJQWDl0A5AWDm0yHa+DUCDwMqhRbb7PwaBlUOLbA9A\",\"dtype\":\"float64\",\"shape\":[162]},\"y\":{\"__ndarray__\":\"AAAAAACgVkBmZmZmZmZJQAAAAAAAwFhAMzMzMzMzVkDNzMzMzIxWQAAAAAAAAERAZmZmZmbmSEBmZmZmZmZIQJqZmZmZ2VhAAAAAAADAWEAAAAAAAOBWQJqZmZmZeVdAzczMzMyMVkAAAAAAAMBYQGZmZmZm5kxAzczMzMzMNkAzMzMzM1NUQM3MzMzMTFNAAAAAAADgVkDNzMzMzAxMQAAAAAAAwFhAAAAAAADAWEAAAAAAAKBYQM3MzMzMTFZAZmZmZmYGVkBmZmZmZiZYQGZmZmZm5lhAmpmZmZk5WECamZmZmVlXQDMzMzMzk1BAzczMzMzMTUDNzMzMzGxYQDMzMzMzs1RAMzMzMzPTWEAzMzMzM/NPQAAAAAAAwFhAMzMzMzOzUEDNzMzMzAxGQM3MzMzMTFFAMzMzMzMzKUBmZmZmZiZVQDMzMzMzs0ZAmpmZmZm5V0CamZmZmblYQDMzMzMzc1ZAzczMzMwMVEAAAAAAAABZQGZmZmZmpk1AZmZmZmZmRUDNzMzMzAxEQJqZmZmZOVhAZmZmZmYmRkDNzMzMzExTQGZmZmZmRlZAMzMzMzNTUEAzMzMzM/NQQAAAAAAAgExAzczMzMysWEAAAAAAAMBYQAAAAAAA4FhAmpmZmZmZNUAzMzMzM3NQQDMzMzMzMy5AmpmZmZm5UUDNzMzMzCxRQM3MzMzMbFRAMzMzMzMzMkAAAAAAAIBOQDMzMzMzM1ZAAAAAAACAQECamZmZmflXQDMzMzMz81hAZmZmZmbmNUAAAAAAAMBYQJqZmZmZOVdAAAAAAADAWEAAAAAAAMBRQJqZmZmZuVhAMzMzMzMTVkBmZmZmZmY6QGZmZmZmhlBAAAAAAACAVUDNzMzMzOxYQAAAAAAAwFhAzczMzMzMWECamZmZmRk8QDMzMzMz801AAAAAAADAWECamZmZmXlYQM3MzMzMDFhAAAAAAADgVECamZmZmflXQAAAAAAA4FhAzczMzMzMS0CamZmZmdlKQDMzMzMzU1RAAAAAAABgV0CamZmZmZlPQJqZmZmZWVRAmpmZmZk5VkCamZmZmXlTQGZmZmZm5jxAAAAAAADAWEAAAAAAAABZQGZmZmZmxlhAMzMzMzPTWEAAAAAAAEBLQGZmZmZm5lZAAAAAAAAAWUDNzMzMzAxYQAAAAAAA4FZAAAAAAACAWEAAAAAAAMBYQM3MzMzMjERAzczMzMzsWEAAAAAAAMBYQAAAAAAAgFVAAAAAAACASkCamZmZmflXQDMzMzMzc1hAMzMzMzMzV0DNzMzMzOxYQAAAAAAAoFhAAAAAAADASEDNzMzMzKxYQJqZmZmZ2VhAmpmZmZk5VEBmZmZmZkZXQDMzMzMzs1ZAMzMzMzNzWEAzMzMzM/NYQM3MzMzM7FVAZmZmZmbGV0CamZmZmdlXQM3MzMzM7FhAAAAAAADgVEBmZmZmZiZBQAAAAAAAQEJAzczMzMzMVEAzMzMzM/NYQM3MzMzMjFhAmpmZmZmZVkAzMzMzMzNVQGZmZmZmZlVAzczMzMwsWECamZmZmVlWQJqZmZmZWUNAZmZmZmZGVkAzMzMzM/NQQM3MzMzMrFZAmpmZmZkZVkAzMzMzM9NTQAAAAAAAYFdAMzMzMzNTV0AAAAAAACBYQAAAAAAAwFhAmpmZmZmZWEAAAAAAAOBTQAAAAAAAoFhAMzMzMzPTVEAAAAAAAIBYQGZmZmZmxlhA\",\"dtype\":\"float64\",\"shape\":[162]}},\"selected\":null,\"selection_policy\":null},\"id\":\"edd6ce4a-1773-4d07-a928-c2147903fca7\",\"type\":\"ColumnDataSource\"},{\"attributes\":{\"plot\":null,\"text\":\"\"},\"id\":\"6ff214e4-e1bd-47cd-bc78-d5011f721d2a\",\"type\":\"Title\"},{\"attributes\":{},\"id\":\"28119c2d-e8c8-49a4-9be3-9a723db10938\",\"type\":\"WheelZoomTool\"},{\"attributes\":{\"active_drag\":\"auto\",\"active_inspect\":\"auto\",\"active_scroll\":\"auto\",\"active_tap\":\"auto\",\"tools\":[{\"id\":\"ee340533-6b89-4147-84b0-062c36e3427d\",\"type\":\"PanTool\"},{\"id\":\"28119c2d-e8c8-49a4-9be3-9a723db10938\",\"type\":\"WheelZoomTool\"},{\"id\":\"ea17be55-e089-4e6c-96c5-7df338b500b5\",\"type\":\"BoxZoomTool\"},{\"id\":\"5d48b4ee-ca25-40d2-b9b8-27d2824f1332\",\"type\":\"SaveTool\"},{\"id\":\"11b50d9c-5fee-4f19-8fbd-ff6f7b3dda90\",\"type\":\"ResetTool\"},{\"id\":\"688da038-0f88-4d88-988f-0b021d7c3b23\",\"type\":\"HelpTool\"}]},\"id\":\"7009f06c-50cf-4b27-828f-d85e073d4dff\",\"type\":\"Toolbar\"},{\"attributes\":{\"overlay\":{\"id\":\"24d90f19-bc7c-4a20-9d66-21d0f11d2adf\",\"type\":\"BoxAnnotation\"}},\"id\":\"ea17be55-e089-4e6c-96c5-7df338b500b5\",\"type\":\"BoxZoomTool\"},{\"attributes\":{\"callback\":null},\"id\":\"74acb359-bf7e-4bbc-85bf-1656dfc723fe\",\"type\":\"DataRange1d\"},{\"attributes\":{},\"id\":\"5d48b4ee-ca25-40d2-b9b8-27d2824f1332\",\"type\":\"SaveTool\"},{\"attributes\":{},\"id\":\"11b50d9c-5fee-4f19-8fbd-ff6f7b3dda90\",\"type\":\"ResetTool\"},{\"attributes\":{\"callback\":null},\"id\":\"7b207178-0d2a-4061-871b-dd4f0813da14\",\"type\":\"DataRange1d\"},{\"attributes\":{},\"id\":\"688da038-0f88-4d88-988f-0b021d7c3b23\",\"type\":\"HelpTool\"},{\"attributes\":{},\"id\":\"8b7f749f-94d2-47e3-a8bd-cf24828a287b\",\"type\":\"LinearScale\"},{\"attributes\":{},\"id\":\"bfa14258-410a-42ea-9079-11e93853efe0\",\"type\":\"LinearScale\"},{\"attributes\":{\"plot\":{\"id\":\"adcf53a0-f20c-4136-8886-c7ad628ddc10\",\"subtype\":\"Figure\",\"type\":\"Plot\"},\"ticker\":{\"id\":\"6f7717c5-a9e2-4118-beba-e8308c16e71e\",\"type\":\"BasicTicker\"}},\"id\":\"95845c30-d81f-4e62-ac6c-15ed1ff044e9\",\"type\":\"Grid\"},{\"attributes\":{},\"id\":\"ee378e36-6b84-4ac7-85a7-63776fa6af25\",\"type\":\"BasicTickFormatter\"},{\"attributes\":{\"axis_label\":\"fertility (children per woman)\",\"formatter\":{\"id\":\"3fa5b5a2-e840-4a1d-b65d-035c380a5342\",\"type\":\"BasicTickFormatter\"},\"plot\":{\"id\":\"adcf53a0-f20c-4136-8886-c7ad628ddc10\",\"subtype\":\"Figure\",\"type\":\"Plot\"},\"ticker\":{\"id\":\"6f7717c5-a9e2-4118-beba-e8308c16e71e\",\"type\":\"BasicTicker\"}},\"id\":\"f6fc72ef-4a91-4448-9eec-133c8dfdd8b0\",\"type\":\"LinearAxis\"},{\"attributes\":{},\"id\":\"6f7717c5-a9e2-4118-beba-e8308c16e71e\",\"type\":\"BasicTicker\"},{\"attributes\":{\"axis_label\":\"female literacy (% population)\",\"formatter\":{\"id\":\"ee378e36-6b84-4ac7-85a7-63776fa6af25\",\"type\":\"BasicTickFormatter\"},\"plot\":{\"id\":\"adcf53a0-f20c-4136-8886-c7ad628ddc10\",\"subtype\":\"Figure\",\"type\":\"Plot\"},\"ticker\":{\"id\":\"8892a3c1-7f51-4984-963d-a7a8e50085b2\",\"type\":\"BasicTicker\"}},\"id\":\"2eb639f0-845c-4d2f-9898-8da33df33026\",\"type\":\"LinearAxis\"},{\"attributes\":{},\"id\":\"8892a3c1-7f51-4984-963d-a7a8e50085b2\",\"type\":\"BasicTicker\"},{\"attributes\":{\"fill_alpha\":{\"value\":0.5},\"fill_color\":{\"value\":\"#1f77b4\"},\"line_color\":{\"value\":\"#1f77b4\"},\"size\":{\"field\":\"size\",\"units\":\"screen\"},\"x\":{\"field\":\"x\"},\"y\":{\"field\":\"y\"}},\"id\":\"44a35950-0d21-49e1-bc1f-272ef5829d2e\",\"type\":\"Circle\"},{\"attributes\":{\"fill_alpha\":{\"value\":0.1},\"fill_color\":{\"value\":\"#1f77b4\"},\"line_alpha\":{\"value\":0.1},\"line_color\":{\"value\":\"#1f77b4\"},\"size\":{\"field\":\"size\",\"units\":\"screen\"},\"x\":{\"field\":\"x\"},\"y\":{\"field\":\"y\"}},\"id\":\"9191245e-475e-4e4f-ab72-2cf4912f781f\",\"type\":\"Circle\"},{\"attributes\":{\"dimension\":1,\"plot\":{\"id\":\"adcf53a0-f20c-4136-8886-c7ad628ddc10\",\"subtype\":\"Figure\",\"type\":\"Plot\"},\"ticker\":{\"id\":\"8892a3c1-7f51-4984-963d-a7a8e50085b2\",\"type\":\"BasicTicker\"}},\"id\":\"729ef9a3-7520-4e6e-bd49-9f400d0445af\",\"type\":\"Grid\"},{\"attributes\":{},\"id\":\"3fa5b5a2-e840-4a1d-b65d-035c380a5342\",\"type\":\"BasicTickFormatter\"}],\"root_ids\":[\"adcf53a0-f20c-4136-8886-c7ad628ddc10\"]},\"title\":\"Bokeh Application\",\"version\":\"0.12.15\"}};\n",
       "  var render_items = [{\"docid\":\"5895d758-4996-4063-b7ed-aea445533229\",\"elementid\":\"fa866e24-625e-4d25-a9f1-9182917d4a11\",\"modelid\":\"adcf53a0-f20c-4136-8886-c7ad628ddc10\"}];\n",
       "  root.Bokeh.embed.embed_items_notebook(docs_json, render_items);\n",
       "\n",
       "  }\n",
       "  if (root.Bokeh !== undefined) {\n",
       "    embed_document(root);\n",
       "  } else {\n",
       "    var attempts = 0;\n",
       "    var timer = setInterval(function(root) {\n",
       "      if (root.Bokeh !== undefined) {\n",
       "        embed_document(root);\n",
       "        clearInterval(timer);\n",
       "      }\n",
       "      attempts++;\n",
       "      if (attempts > 100) {\n",
       "        console.log(\"Bokeh: ERROR: Unable to run BokehJS code because BokehJS library is missing\")\n",
       "        clearInterval(timer);\n",
       "      }\n",
       "    }, 10, root)\n",
       "  }\n",
       "})(window);"
      ],
      "application/vnd.bokehjs_exec.v0+json": ""
     },
     "metadata": {
      "application/vnd.bokehjs_exec.v0+json": {
       "id": "adcf53a0-f20c-4136-8886-c7ad628ddc10"
      }
     },
     "output_type": "display_data"
    }
   ],
   "source": [
    "p = figure(plot_width = 600, plot_height = 600, \n",
    "           x_axis_label = 'fertility (children per woman)',\n",
    "           y_axis_label = 'female literacy (% population)')\n",
    "p.circle(df['fertility'], df['female literacy'], size = 0.0000001 * df['population'], fill_alpha = 0.5)\n",
    "show(p)"
   ]
  },
  {
   "cell_type": "code",
   "execution_count": 18,
   "metadata": {},
   "outputs": [],
   "source": [
    "# Crear dos datasets con los datos solo de Latinoamerica y africa\n",
    "df_LAT = df[df.Continent =='LAT']\n",
    "df_AF = df[df.Continent == 'AF']"
   ]
  },
  {
   "cell_type": "code",
   "execution_count": 19,
   "metadata": {},
   "outputs": [
    {
     "data": {
      "text/html": [
       "\n",
       "<div class=\"bk-root\">\n",
       "    <div class=\"bk-plotdiv\" id=\"9744217d-109a-44ae-9884-ba17d36d9dfd\"></div>\n",
       "</div>"
      ]
     },
     "metadata": {},
     "output_type": "display_data"
    },
    {
     "data": {
      "application/javascript": [
       "(function(root) {\n",
       "  function embed_document(root) {\n",
       "    \n",
       "  var docs_json = {\"8ea3193a-28dd-4485-af7a-1c85659a6bfd\":{\"roots\":{\"references\":[{\"attributes\":{\"data_source\":{\"id\":\"e034fd55-4b36-42c0-8b22-112dc9bb6da6\",\"type\":\"ColumnDataSource\"},\"glyph\":{\"id\":\"a35b98ec-4023-4790-b453-f98e092710f3\",\"type\":\"X\"},\"hover_glyph\":null,\"muted_glyph\":null,\"nonselection_glyph\":{\"id\":\"898ddea3-7416-4412-98fb-da5d2126f352\",\"type\":\"X\"},\"selection_glyph\":null,\"view\":{\"id\":\"fdc457f6-2223-4bae-9600-aa54e92def1d\",\"type\":\"CDSView\"}},\"id\":\"4b0a3def-a6e0-4637-a6fa-f7de32bc1529\",\"type\":\"GlyphRenderer\"},{\"attributes\":{\"fill_alpha\":{\"value\":0.1},\"fill_color\":{\"value\":\"#1f77b4\"},\"line_alpha\":{\"value\":0.1},\"line_color\":{\"value\":\"#1f77b4\"},\"x\":{\"field\":\"x\"},\"y\":{\"field\":\"y\"}},\"id\":\"898ddea3-7416-4412-98fb-da5d2126f352\",\"type\":\"X\"},{\"attributes\":{\"below\":[{\"id\":\"79eded53-fc0e-4a0a-bcc7-c435d2da2a6f\",\"type\":\"LinearAxis\"}],\"left\":[{\"id\":\"b9daa057-8656-4401-8a65-8de131ed9cc9\",\"type\":\"LinearAxis\"}],\"renderers\":[{\"id\":\"79eded53-fc0e-4a0a-bcc7-c435d2da2a6f\",\"type\":\"LinearAxis\"},{\"id\":\"b7391c2b-1c7e-47bc-bc70-d6bd47b0d05b\",\"type\":\"Grid\"},{\"id\":\"b9daa057-8656-4401-8a65-8de131ed9cc9\",\"type\":\"LinearAxis\"},{\"id\":\"887a3bd7-b944-4b56-9359-917cfae7e329\",\"type\":\"Grid\"},{\"id\":\"bf4ca63d-73fb-432e-bb68-088ce36392a9\",\"type\":\"BoxAnnotation\"},{\"id\":\"89adb36d-88da-4b13-b5c9-0969271bcae7\",\"type\":\"GlyphRenderer\"},{\"id\":\"4b0a3def-a6e0-4637-a6fa-f7de32bc1529\",\"type\":\"GlyphRenderer\"}],\"title\":{\"id\":\"75eba5d4-c70a-4b47-b011-4cbca069de6e\",\"type\":\"Title\"},\"toolbar\":{\"id\":\"8b4bd24b-6bf0-48aa-bad8-b2be25b42911\",\"type\":\"Toolbar\"},\"x_range\":{\"id\":\"742a128f-799c-429c-b61d-5dd5b9e09d38\",\"type\":\"DataRange1d\"},\"x_scale\":{\"id\":\"c09e2539-7d78-45c6-a76b-d65a0c24ebef\",\"type\":\"LinearScale\"},\"y_range\":{\"id\":\"74382b08-8fb7-4d41-86ef-67e9ff0c107c\",\"type\":\"DataRange1d\"},\"y_scale\":{\"id\":\"a44da8f5-474a-454e-a206-6d52ce86ea3e\",\"type\":\"LinearScale\"}},\"id\":\"6089b8a2-1065-455b-aa37-49bede70c3a0\",\"subtype\":\"Figure\",\"type\":\"Plot\"},{\"attributes\":{\"source\":{\"id\":\"e034fd55-4b36-42c0-8b22-112dc9bb6da6\",\"type\":\"ColumnDataSource\"}},\"id\":\"fdc457f6-2223-4bae-9600-aa54e92def1d\",\"type\":\"CDSView\"},{\"attributes\":{\"fill_alpha\":{\"value\":0.1},\"fill_color\":{\"value\":\"#1f77b4\"},\"line_alpha\":{\"value\":0.1},\"line_color\":{\"value\":\"#1f77b4\"},\"x\":{\"field\":\"x\"},\"y\":{\"field\":\"y\"}},\"id\":\"a2f8af5e-7a10-4300-83ce-6a890d660b05\",\"type\":\"Circle\"},{\"attributes\":{\"active_drag\":\"auto\",\"active_inspect\":\"auto\",\"active_scroll\":\"auto\",\"active_tap\":\"auto\",\"tools\":[{\"id\":\"8cbdae44-468e-45d7-851f-b9cd3f838f8a\",\"type\":\"PanTool\"},{\"id\":\"13c5ef3f-9bee-4576-a5f3-9204f3620ef8\",\"type\":\"WheelZoomTool\"},{\"id\":\"195e621b-4068-472d-afda-9285d2da427e\",\"type\":\"BoxZoomTool\"},{\"id\":\"d5733acc-886f-4c2a-962d-b3fcdf40c367\",\"type\":\"SaveTool\"},{\"id\":\"e6dfea86-768b-4ea0-adf8-487af91fe140\",\"type\":\"ResetTool\"},{\"id\":\"c9e7e4c8-cc20-48ac-a94b-f940e470f049\",\"type\":\"HelpTool\"}]},\"id\":\"8b4bd24b-6bf0-48aa-bad8-b2be25b42911\",\"type\":\"Toolbar\"},{\"attributes\":{\"callback\":null},\"id\":\"742a128f-799c-429c-b61d-5dd5b9e09d38\",\"type\":\"DataRange1d\"},{\"attributes\":{\"fill_color\":{\"value\":\"#1f77b4\"},\"line_color\":{\"value\":\"#1f77b4\"},\"x\":{\"field\":\"x\"},\"y\":{\"field\":\"y\"}},\"id\":\"a35b98ec-4023-4790-b453-f98e092710f3\",\"type\":\"X\"},{\"attributes\":{\"callback\":null},\"id\":\"74382b08-8fb7-4d41-86ef-67e9ff0c107c\",\"type\":\"DataRange1d\"},{\"attributes\":{},\"id\":\"c09e2539-7d78-45c6-a76b-d65a0c24ebef\",\"type\":\"LinearScale\"},{\"attributes\":{},\"id\":\"a44da8f5-474a-454e-a206-6d52ce86ea3e\",\"type\":\"LinearScale\"},{\"attributes\":{\"plot\":{\"id\":\"6089b8a2-1065-455b-aa37-49bede70c3a0\",\"subtype\":\"Figure\",\"type\":\"Plot\"},\"ticker\":{\"id\":\"86dd5e67-00dc-43e9-8ff7-de7b593a6994\",\"type\":\"BasicTicker\"}},\"id\":\"b7391c2b-1c7e-47bc-bc70-d6bd47b0d05b\",\"type\":\"Grid\"},{\"attributes\":{\"axis_label\":\"fertility (children per woman)\",\"formatter\":{\"id\":\"689b2a5e-5317-47c3-8018-dda10b71ce01\",\"type\":\"BasicTickFormatter\"},\"plot\":{\"id\":\"6089b8a2-1065-455b-aa37-49bede70c3a0\",\"subtype\":\"Figure\",\"type\":\"Plot\"},\"ticker\":{\"id\":\"86dd5e67-00dc-43e9-8ff7-de7b593a6994\",\"type\":\"BasicTicker\"}},\"id\":\"79eded53-fc0e-4a0a-bcc7-c435d2da2a6f\",\"type\":\"LinearAxis\"},{\"attributes\":{},\"id\":\"86dd5e67-00dc-43e9-8ff7-de7b593a6994\",\"type\":\"BasicTicker\"},{\"attributes\":{\"axis_label\":\"female literacy (% population)\",\"formatter\":{\"id\":\"2a493f2a-0e8b-4abd-b445-2797722fea86\",\"type\":\"BasicTickFormatter\"},\"plot\":{\"id\":\"6089b8a2-1065-455b-aa37-49bede70c3a0\",\"subtype\":\"Figure\",\"type\":\"Plot\"},\"ticker\":{\"id\":\"809217fb-90c3-49a3-904b-0f27f4b957d9\",\"type\":\"BasicTicker\"}},\"id\":\"b9daa057-8656-4401-8a65-8de131ed9cc9\",\"type\":\"LinearAxis\"},{\"attributes\":{},\"id\":\"809217fb-90c3-49a3-904b-0f27f4b957d9\",\"type\":\"BasicTicker\"},{\"attributes\":{\"dimension\":1,\"plot\":{\"id\":\"6089b8a2-1065-455b-aa37-49bede70c3a0\",\"subtype\":\"Figure\",\"type\":\"Plot\"},\"ticker\":{\"id\":\"809217fb-90c3-49a3-904b-0f27f4b957d9\",\"type\":\"BasicTicker\"}},\"id\":\"887a3bd7-b944-4b56-9359-917cfae7e329\",\"type\":\"Grid\"},{\"attributes\":{\"fill_color\":{\"value\":\"#1f77b4\"},\"line_color\":{\"value\":\"#1f77b4\"},\"x\":{\"field\":\"x\"},\"y\":{\"field\":\"y\"}},\"id\":\"d877fed3-ae10-4c69-ba0b-71a14a6918c7\",\"type\":\"Circle\"},{\"attributes\":{\"callback\":null,\"column_names\":[\"x\",\"y\"],\"data\":{\"x\":{\"__ndarray__\":\"CKwcWmQ7/T9zaJHtfD8BQAisHFpkOwNAYxBYObTIAUA9CtejcD0EQJZDi2zn+wNAN4lBYOXQ/j/fT42XbhIQQLTIdr6fGgRAFK5H4XoU+D9MN4lBYOUEQCyHFtnO9wpAhetRuB6FCUA3iUFg5dAHQFyPwvUoXAJAEVg5tMh2BUBKDAIrhxb/P1TjpZvEIARAg8DKoUW2AEBMN4lBYOUCQCYxCKwcWvo/lkOLbOf7AkAshxbZzvcKQIPAyqFFtvs/\",\"dtype\":\"float64\",\"shape\":[24]},\"y\":{\"__ndarray__\":\"zczMzMyMVkAAAAAAAOBWQJqZmZmZWVdAzczMzMxsWEBmZmZmZiZVQJqZmZmZuVdAzczMzMysWEDNzMzMzCxRQM3MzMzMbFRAMzMzMzPzWEAzMzMzMxNWQAAAAAAAgFVAAAAAAADgVEAAAAAAAGBXQJqZmZmZWVRAmpmZmZl5U0DNzMzMzAxYQDMzMzMzM1dAAAAAAACgWEAzMzMzM7NWQM3MzMzMjFhAmpmZmZkZVkAAAAAAACBYQAAAAAAAgFhA\",\"dtype\":\"float64\",\"shape\":[24]}},\"selected\":null,\"selection_policy\":null},\"id\":\"b409e99c-8dc1-4f0f-bb42-44f611eed59d\",\"type\":\"ColumnDataSource\"},{\"attributes\":{\"bottom_units\":\"screen\",\"fill_alpha\":{\"value\":0.5},\"fill_color\":{\"value\":\"lightgrey\"},\"left_units\":\"screen\",\"level\":\"overlay\",\"line_alpha\":{\"value\":1.0},\"line_color\":{\"value\":\"black\"},\"line_dash\":[4,4],\"line_width\":{\"value\":2},\"plot\":null,\"render_mode\":\"css\",\"right_units\":\"screen\",\"top_units\":\"screen\"},\"id\":\"bf4ca63d-73fb-432e-bb68-088ce36392a9\",\"type\":\"BoxAnnotation\"},{\"attributes\":{},\"id\":\"8cbdae44-468e-45d7-851f-b9cd3f838f8a\",\"type\":\"PanTool\"},{\"attributes\":{\"data_source\":{\"id\":\"b409e99c-8dc1-4f0f-bb42-44f611eed59d\",\"type\":\"ColumnDataSource\"},\"glyph\":{\"id\":\"d877fed3-ae10-4c69-ba0b-71a14a6918c7\",\"type\":\"Circle\"},\"hover_glyph\":null,\"muted_glyph\":null,\"nonselection_glyph\":{\"id\":\"a2f8af5e-7a10-4300-83ce-6a890d660b05\",\"type\":\"Circle\"},\"selection_glyph\":null,\"view\":{\"id\":\"7df33b4e-87fd-4eb8-b1cb-c93515b66f4d\",\"type\":\"CDSView\"}},\"id\":\"89adb36d-88da-4b13-b5c9-0969271bcae7\",\"type\":\"GlyphRenderer\"},{\"attributes\":{},\"id\":\"13c5ef3f-9bee-4576-a5f3-9204f3620ef8\",\"type\":\"WheelZoomTool\"},{\"attributes\":{\"overlay\":{\"id\":\"bf4ca63d-73fb-432e-bb68-088ce36392a9\",\"type\":\"BoxAnnotation\"}},\"id\":\"195e621b-4068-472d-afda-9285d2da427e\",\"type\":\"BoxZoomTool\"},{\"attributes\":{},\"id\":\"d5733acc-886f-4c2a-962d-b3fcdf40c367\",\"type\":\"SaveTool\"},{\"attributes\":{},\"id\":\"e6dfea86-768b-4ea0-adf8-487af91fe140\",\"type\":\"ResetTool\"},{\"attributes\":{},\"id\":\"c9e7e4c8-cc20-48ac-a94b-f940e470f049\",\"type\":\"HelpTool\"},{\"attributes\":{\"plot\":null,\"text\":\"\"},\"id\":\"75eba5d4-c70a-4b47-b011-4cbca069de6e\",\"type\":\"Title\"},{\"attributes\":{\"source\":{\"id\":\"b409e99c-8dc1-4f0f-bb42-44f611eed59d\",\"type\":\"ColumnDataSource\"}},\"id\":\"7df33b4e-87fd-4eb8-b1cb-c93515b66f4d\",\"type\":\"CDSView\"},{\"attributes\":{},\"id\":\"689b2a5e-5317-47c3-8018-dda10b71ce01\",\"type\":\"BasicTickFormatter\"},{\"attributes\":{},\"id\":\"2a493f2a-0e8b-4abd-b445-2797722fea86\",\"type\":\"BasicTickFormatter\"},{\"attributes\":{\"callback\":null,\"column_names\":[\"x\",\"y\"],\"data\":{\"x\":{\"__ndarray__\":\"/dR46SaxFEC7SQwCK4cGQPLSTWIQ2BRAbhKDwMqhF0AK16NwPQoEQBSuR+F6FBZACKwcWmQ7EEBWDi2ynW8TQCPb+X5qvAJAarx0kxgEGUB56SYxCKwCQOF6FK5H4RBAke18PzXeE0B0kxgEVg4SQHsUrkfhehJARIts5/spEkBANV66SYwWQHe+nxovXRdAUrgehevRFUAtsp3vp0YcQB+F61G4nhVAppvEILDyFkCBlUOLbOcKQI/C9ShcjxNAbef7qfFSGEDb+X5qvHT9PzeJQWDlUBVAUrgehetRFUBPjZduEoMVQM3MzMzMzBFARIts5/upEECJQWDl0CIFQClcj8L1qBRA6iYxCKwcEkB9PzVeuskSQCUGgZVDCxRAWmQ730+NEUBSuB6F61EKQOkmMQisHApA+n5qvHSTBkDGSzeJQeATQIlBYOXQohZA7FG4HoXrCUB46SYxCKz8P5qZmZmZmQtAbhKDwMohFUAUrkfhehQPQOj7qfHSTQVAWDm0yHa+DUA=\",\"dtype\":\"float64\",\"shape\":[49]},\"y\":{\"__ndarray__\":\"ZmZmZmZmSEBmZmZmZuZMQM3MzMzMzDZAzczMzMwMTEBmZmZmZgZWQDMzMzMzk1BAzczMzMzMTUAzMzMzM7NUQDMzMzMz809AMzMzMzOzUEDNzMzMzAxGQGZmZmZmpk1AzczMzMwMREBmZmZmZiZGQDMzMzMzU1BAMzMzMzPzUEAAAAAAAIBMQJqZmZmZmTVAMzMzMzNzUEAzMzMzMzMuQDMzMzMzMzJAAAAAAACATkAzMzMzMzNWQAAAAAAAgEBAZmZmZmbmNUAAAAAAAMBRQGZmZmZmZjpAZmZmZmaGUECamZmZmRk8QDMzMzMz801AmpmZmZnZSkAzMzMzM1NUQGZmZmZm5jxAAAAAAABAS0DNzMzMzIxEQAAAAAAAgEpAAAAAAADASEDNzMzMzOxVQGZmZmZmxldAAAAAAADgVEBmZmZmZiZBQAAAAAAAQEJAzczMzMzMVEAzMzMzMzNVQGZmZmZmZlVAZmZmZmZGVkAzMzMzM/NQQDMzMzMz01NAMzMzMzPTVEA=\",\"dtype\":\"float64\",\"shape\":[49]}},\"selected\":null,\"selection_policy\":null},\"id\":\"e034fd55-4b36-42c0-8b22-112dc9bb6da6\",\"type\":\"ColumnDataSource\"}],\"root_ids\":[\"6089b8a2-1065-455b-aa37-49bede70c3a0\"]},\"title\":\"Bokeh Application\",\"version\":\"0.12.15\"}};\n",
       "  var render_items = [{\"docid\":\"8ea3193a-28dd-4485-af7a-1c85659a6bfd\",\"elementid\":\"9744217d-109a-44ae-9884-ba17d36d9dfd\",\"modelid\":\"6089b8a2-1065-455b-aa37-49bede70c3a0\"}];\n",
       "  root.Bokeh.embed.embed_items_notebook(docs_json, render_items);\n",
       "\n",
       "  }\n",
       "  if (root.Bokeh !== undefined) {\n",
       "    embed_document(root);\n",
       "  } else {\n",
       "    var attempts = 0;\n",
       "    var timer = setInterval(function(root) {\n",
       "      if (root.Bokeh !== undefined) {\n",
       "        embed_document(root);\n",
       "        clearInterval(timer);\n",
       "      }\n",
       "      attempts++;\n",
       "      if (attempts > 100) {\n",
       "        console.log(\"Bokeh: ERROR: Unable to run BokehJS code because BokehJS library is missing\")\n",
       "        clearInterval(timer);\n",
       "      }\n",
       "    }, 10, root)\n",
       "  }\n",
       "})(window);"
      ],
      "application/vnd.bokehjs_exec.v0+json": ""
     },
     "metadata": {
      "application/vnd.bokehjs_exec.v0+json": {
       "id": "6089b8a2-1065-455b-aa37-49bede70c3a0"
      }
     },
     "output_type": "display_data"
    }
   ],
   "source": [
    "# Hacer el mismo gráfico con los datasets filtrados (conjuntamente, cada uno una marca distinta en el gráfico)\n",
    "p = figure(plot_width = 600, plot_height = 600, \n",
    "           x_axis_label = 'fertility (children per woman)',\n",
    "           y_axis_label = 'female literacy (% population)')\n",
    "p.circle(df_LAT['fertility'], df_LAT['female literacy'])\n",
    "p.x(df_AF['fertility'], df_AF['female literacy'])\n",
    "show(p)"
   ]
  },
  {
   "cell_type": "code",
   "execution_count": 20,
   "metadata": {},
   "outputs": [
    {
     "data": {
      "text/html": [
       "\n",
       "<div class=\"bk-root\">\n",
       "    <div class=\"bk-plotdiv\" id=\"382462a3-90c9-4c22-a4a4-b353f45fc9f3\"></div>\n",
       "</div>"
      ]
     },
     "metadata": {},
     "output_type": "display_data"
    },
    {
     "data": {
      "application/javascript": [
       "(function(root) {\n",
       "  function embed_document(root) {\n",
       "    \n",
       "  var docs_json = {\"fd5c56c3-6fc8-4479-86f8-363c2152e36b\":{\"roots\":{\"references\":[{\"attributes\":{\"bottom_units\":\"screen\",\"fill_alpha\":{\"value\":0.5},\"fill_color\":{\"value\":\"lightgrey\"},\"left_units\":\"screen\",\"level\":\"overlay\",\"line_alpha\":{\"value\":1.0},\"line_color\":{\"value\":\"black\"},\"line_dash\":[4,4],\"line_width\":{\"value\":2},\"plot\":null,\"render_mode\":\"css\",\"right_units\":\"screen\",\"top_units\":\"screen\"},\"id\":\"5495655b-d5cc-499a-b5c8-e2ed0e7debf2\",\"type\":\"BoxAnnotation\"},{\"attributes\":{},\"id\":\"f1141aa8-55c3-4fa1-81b6-c322951449d7\",\"type\":\"PanTool\"},{\"attributes\":{\"fill_alpha\":{\"value\":0.7},\"fill_color\":{\"value\":\"blue\"},\"line_alpha\":{\"value\":0.7},\"line_color\":{\"value\":\"blue\"},\"size\":{\"units\":\"screen\",\"value\":10},\"x\":{\"field\":\"x\"},\"y\":{\"field\":\"y\"}},\"id\":\"1e43b2ae-fcfb-41e7-9cb4-6c5733b8b4c4\",\"type\":\"Circle\"},{\"attributes\":{},\"id\":\"eafd4525-8c73-4b95-8f19-44a0d8b12e61\",\"type\":\"BasicTickFormatter\"},{\"attributes\":{},\"id\":\"2c8f6897-ff87-4e03-a7ec-b5b446b7c351\",\"type\":\"WheelZoomTool\"},{\"attributes\":{\"dimension\":1,\"plot\":{\"id\":\"517a77c2-7b96-423e-bd17-2f2b7a041175\",\"subtype\":\"Figure\",\"type\":\"Plot\"},\"ticker\":{\"id\":\"85589b7e-1076-4a16-afe4-709a2528203d\",\"type\":\"BasicTicker\"}},\"id\":\"b7f28dc8-f1b7-4b38-9f68-eb5b97543e64\",\"type\":\"Grid\"},{\"attributes\":{\"overlay\":{\"id\":\"5495655b-d5cc-499a-b5c8-e2ed0e7debf2\",\"type\":\"BoxAnnotation\"}},\"id\":\"5e0f4d6a-aa17-487e-9ec1-0a38cc9d97a0\",\"type\":\"BoxZoomTool\"},{\"attributes\":{},\"id\":\"57e4a294-2a7e-43b7-ad85-e877f75e71e5\",\"type\":\"SaveTool\"},{\"attributes\":{},\"id\":\"04d5adcb-6f66-4382-aaa9-f41c08b99215\",\"type\":\"ResetTool\"},{\"attributes\":{},\"id\":\"51036307-e8b0-436e-927a-f35a01413e8b\",\"type\":\"HelpTool\"},{\"attributes\":{\"axis_label\":\"female literacy (% population)\",\"formatter\":{\"id\":\"83f8f5f9-4e20-4ab8-8725-e629453a0f3a\",\"type\":\"BasicTickFormatter\"},\"plot\":{\"id\":\"517a77c2-7b96-423e-bd17-2f2b7a041175\",\"subtype\":\"Figure\",\"type\":\"Plot\"},\"ticker\":{\"id\":\"85589b7e-1076-4a16-afe4-709a2528203d\",\"type\":\"BasicTicker\"}},\"id\":\"accb888a-931b-4324-9226-b59032d96c6a\",\"type\":\"LinearAxis\"},{\"attributes\":{\"callback\":null,\"column_names\":[\"x\",\"y\"],\"data\":{\"x\":{\"__ndarray__\":\"CKwcWmQ7/T9zaJHtfD8BQAisHFpkOwNAYxBYObTIAUA9CtejcD0EQJZDi2zn+wNAN4lBYOXQ/j/fT42XbhIQQLTIdr6fGgRAFK5H4XoU+D9MN4lBYOUEQCyHFtnO9wpAhetRuB6FCUA3iUFg5dAHQFyPwvUoXAJAEVg5tMh2BUBKDAIrhxb/P1TjpZvEIARAg8DKoUW2AEBMN4lBYOUCQCYxCKwcWvo/lkOLbOf7AkAshxbZzvcKQIPAyqFFtvs/\",\"dtype\":\"float64\",\"shape\":[24]},\"y\":{\"__ndarray__\":\"zczMzMyMVkAAAAAAAOBWQJqZmZmZWVdAzczMzMxsWEBmZmZmZiZVQJqZmZmZuVdAzczMzMysWEDNzMzMzCxRQM3MzMzMbFRAMzMzMzPzWEAzMzMzMxNWQAAAAAAAgFVAAAAAAADgVEAAAAAAAGBXQJqZmZmZWVRAmpmZmZl5U0DNzMzMzAxYQDMzMzMzM1dAAAAAAACgWEAzMzMzM7NWQM3MzMzMjFhAmpmZmZkZVkAAAAAAACBYQAAAAAAAgFhA\",\"dtype\":\"float64\",\"shape\":[24]}},\"selected\":null,\"selection_policy\":null},\"id\":\"9a912416-cfc9-4d8f-a7fe-7b0d3f6012aa\",\"type\":\"ColumnDataSource\"},{\"attributes\":{\"fill_alpha\":{\"value\":0.7},\"fill_color\":{\"value\":\"red\"},\"line_alpha\":{\"value\":0.7},\"line_color\":{\"value\":\"red\"},\"size\":{\"units\":\"screen\",\"value\":10},\"x\":{\"field\":\"x\"},\"y\":{\"field\":\"y\"}},\"id\":\"73a40b76-7214-43f8-b6ec-ad6ac67dc8e9\",\"type\":\"Circle\"},{\"attributes\":{},\"id\":\"d77fcccb-9bef-4b7f-83ea-0bd1b5b535b9\",\"type\":\"BasicTicker\"},{\"attributes\":{\"fill_alpha\":{\"value\":0.1},\"fill_color\":{\"value\":\"#1f77b4\"},\"line_alpha\":{\"value\":0.1},\"line_color\":{\"value\":\"#1f77b4\"},\"size\":{\"units\":\"screen\",\"value\":10},\"x\":{\"field\":\"x\"},\"y\":{\"field\":\"y\"}},\"id\":\"ccd5d5b4-0e24-4956-93d0-c3c65b7e2734\",\"type\":\"Circle\"},{\"attributes\":{\"data_source\":{\"id\":\"94a405e7-e428-406f-82a6-46d38002e10b\",\"type\":\"ColumnDataSource\"},\"glyph\":{\"id\":\"73a40b76-7214-43f8-b6ec-ad6ac67dc8e9\",\"type\":\"Circle\"},\"hover_glyph\":null,\"muted_glyph\":null,\"nonselection_glyph\":{\"id\":\"ccd5d5b4-0e24-4956-93d0-c3c65b7e2734\",\"type\":\"Circle\"},\"selection_glyph\":null,\"view\":{\"id\":\"8ed21c75-c583-45b6-bae9-87dfa9784c45\",\"type\":\"CDSView\"}},\"id\":\"f7f1f206-4ad7-4289-898c-c52e88543b55\",\"type\":\"GlyphRenderer\"},{\"attributes\":{\"plot\":null,\"text\":\"\"},\"id\":\"aa516b7a-a2fb-47fc-b62c-6e0ca2c1664a\",\"type\":\"Title\"},{\"attributes\":{\"source\":{\"id\":\"94a405e7-e428-406f-82a6-46d38002e10b\",\"type\":\"ColumnDataSource\"}},\"id\":\"8ed21c75-c583-45b6-bae9-87dfa9784c45\",\"type\":\"CDSView\"},{\"attributes\":{},\"id\":\"83f8f5f9-4e20-4ab8-8725-e629453a0f3a\",\"type\":\"BasicTickFormatter\"},{\"attributes\":{\"callback\":null},\"id\":\"cea81533-b4be-4658-aabd-14ba223cd2ab\",\"type\":\"DataRange1d\"},{\"attributes\":{\"source\":{\"id\":\"9a912416-cfc9-4d8f-a7fe-7b0d3f6012aa\",\"type\":\"ColumnDataSource\"}},\"id\":\"d8b1d4a7-be2d-4dc1-b568-43b25692fd1e\",\"type\":\"CDSView\"},{\"attributes\":{\"active_drag\":\"auto\",\"active_inspect\":\"auto\",\"active_scroll\":\"auto\",\"active_tap\":\"auto\",\"tools\":[{\"id\":\"f1141aa8-55c3-4fa1-81b6-c322951449d7\",\"type\":\"PanTool\"},{\"id\":\"2c8f6897-ff87-4e03-a7ec-b5b446b7c351\",\"type\":\"WheelZoomTool\"},{\"id\":\"5e0f4d6a-aa17-487e-9ec1-0a38cc9d97a0\",\"type\":\"BoxZoomTool\"},{\"id\":\"57e4a294-2a7e-43b7-ad85-e877f75e71e5\",\"type\":\"SaveTool\"},{\"id\":\"04d5adcb-6f66-4382-aaa9-f41c08b99215\",\"type\":\"ResetTool\"},{\"id\":\"51036307-e8b0-436e-927a-f35a01413e8b\",\"type\":\"HelpTool\"}]},\"id\":\"9167b9c0-17f4-463b-8e15-a523ebccbbcd\",\"type\":\"Toolbar\"},{\"attributes\":{},\"id\":\"85589b7e-1076-4a16-afe4-709a2528203d\",\"type\":\"BasicTicker\"},{\"attributes\":{\"below\":[{\"id\":\"562a4a10-d393-4d7b-b915-d4516ed9aeb5\",\"type\":\"LinearAxis\"}],\"left\":[{\"id\":\"accb888a-931b-4324-9226-b59032d96c6a\",\"type\":\"LinearAxis\"}],\"renderers\":[{\"id\":\"562a4a10-d393-4d7b-b915-d4516ed9aeb5\",\"type\":\"LinearAxis\"},{\"id\":\"03604843-bb5f-4a03-8526-09237ea2f009\",\"type\":\"Grid\"},{\"id\":\"accb888a-931b-4324-9226-b59032d96c6a\",\"type\":\"LinearAxis\"},{\"id\":\"b7f28dc8-f1b7-4b38-9f68-eb5b97543e64\",\"type\":\"Grid\"},{\"id\":\"5495655b-d5cc-499a-b5c8-e2ed0e7debf2\",\"type\":\"BoxAnnotation\"},{\"id\":\"68ed94ac-a4ce-4952-8717-acf1030e7edc\",\"type\":\"GlyphRenderer\"},{\"id\":\"f7f1f206-4ad7-4289-898c-c52e88543b55\",\"type\":\"GlyphRenderer\"}],\"title\":{\"id\":\"aa516b7a-a2fb-47fc-b62c-6e0ca2c1664a\",\"type\":\"Title\"},\"toolbar\":{\"id\":\"9167b9c0-17f4-463b-8e15-a523ebccbbcd\",\"type\":\"Toolbar\"},\"x_range\":{\"id\":\"cea81533-b4be-4658-aabd-14ba223cd2ab\",\"type\":\"DataRange1d\"},\"x_scale\":{\"id\":\"2e9d437f-2f83-400e-bd3f-a49b2ec01dd6\",\"type\":\"LinearScale\"},\"y_range\":{\"id\":\"60e0f1cc-6100-416e-b253-a7113826515c\",\"type\":\"DataRange1d\"},\"y_scale\":{\"id\":\"b60a268e-8c8e-44d7-a9fe-4f45080790fc\",\"type\":\"LinearScale\"}},\"id\":\"517a77c2-7b96-423e-bd17-2f2b7a041175\",\"subtype\":\"Figure\",\"type\":\"Plot\"},{\"attributes\":{\"fill_alpha\":{\"value\":0.1},\"fill_color\":{\"value\":\"#1f77b4\"},\"line_alpha\":{\"value\":0.1},\"line_color\":{\"value\":\"#1f77b4\"},\"size\":{\"units\":\"screen\",\"value\":10},\"x\":{\"field\":\"x\"},\"y\":{\"field\":\"y\"}},\"id\":\"b587e7d2-0b76-44be-be20-990f7f10f5b1\",\"type\":\"Circle\"},{\"attributes\":{\"callback\":null},\"id\":\"60e0f1cc-6100-416e-b253-a7113826515c\",\"type\":\"DataRange1d\"},{\"attributes\":{},\"id\":\"2e9d437f-2f83-400e-bd3f-a49b2ec01dd6\",\"type\":\"LinearScale\"},{\"attributes\":{},\"id\":\"b60a268e-8c8e-44d7-a9fe-4f45080790fc\",\"type\":\"LinearScale\"},{\"attributes\":{\"axis_label\":\"fertility (children per woman)\",\"formatter\":{\"id\":\"eafd4525-8c73-4b95-8f19-44a0d8b12e61\",\"type\":\"BasicTickFormatter\"},\"plot\":{\"id\":\"517a77c2-7b96-423e-bd17-2f2b7a041175\",\"subtype\":\"Figure\",\"type\":\"Plot\"},\"ticker\":{\"id\":\"d77fcccb-9bef-4b7f-83ea-0bd1b5b535b9\",\"type\":\"BasicTicker\"}},\"id\":\"562a4a10-d393-4d7b-b915-d4516ed9aeb5\",\"type\":\"LinearAxis\"},{\"attributes\":{\"plot\":{\"id\":\"517a77c2-7b96-423e-bd17-2f2b7a041175\",\"subtype\":\"Figure\",\"type\":\"Plot\"},\"ticker\":{\"id\":\"d77fcccb-9bef-4b7f-83ea-0bd1b5b535b9\",\"type\":\"BasicTicker\"}},\"id\":\"03604843-bb5f-4a03-8526-09237ea2f009\",\"type\":\"Grid\"},{\"attributes\":{\"data_source\":{\"id\":\"9a912416-cfc9-4d8f-a7fe-7b0d3f6012aa\",\"type\":\"ColumnDataSource\"},\"glyph\":{\"id\":\"1e43b2ae-fcfb-41e7-9cb4-6c5733b8b4c4\",\"type\":\"Circle\"},\"hover_glyph\":null,\"muted_glyph\":null,\"nonselection_glyph\":{\"id\":\"b587e7d2-0b76-44be-be20-990f7f10f5b1\",\"type\":\"Circle\"},\"selection_glyph\":null,\"view\":{\"id\":\"d8b1d4a7-be2d-4dc1-b568-43b25692fd1e\",\"type\":\"CDSView\"}},\"id\":\"68ed94ac-a4ce-4952-8717-acf1030e7edc\",\"type\":\"GlyphRenderer\"},{\"attributes\":{\"callback\":null,\"column_names\":[\"x\",\"y\"],\"data\":{\"x\":{\"__ndarray__\":\"/dR46SaxFEC7SQwCK4cGQPLSTWIQ2BRAbhKDwMqhF0AK16NwPQoEQBSuR+F6FBZACKwcWmQ7EEBWDi2ynW8TQCPb+X5qvAJAarx0kxgEGUB56SYxCKwCQOF6FK5H4RBAke18PzXeE0B0kxgEVg4SQHsUrkfhehJARIts5/spEkBANV66SYwWQHe+nxovXRdAUrgehevRFUAtsp3vp0YcQB+F61G4nhVAppvEILDyFkCBlUOLbOcKQI/C9ShcjxNAbef7qfFSGEDb+X5qvHT9PzeJQWDlUBVAUrgehetRFUBPjZduEoMVQM3MzMzMzBFARIts5/upEECJQWDl0CIFQClcj8L1qBRA6iYxCKwcEkB9PzVeuskSQCUGgZVDCxRAWmQ730+NEUBSuB6F61EKQOkmMQisHApA+n5qvHSTBkDGSzeJQeATQIlBYOXQohZA7FG4HoXrCUB46SYxCKz8P5qZmZmZmQtAbhKDwMohFUAUrkfhehQPQOj7qfHSTQVAWDm0yHa+DUA=\",\"dtype\":\"float64\",\"shape\":[49]},\"y\":{\"__ndarray__\":\"ZmZmZmZmSEBmZmZmZuZMQM3MzMzMzDZAzczMzMwMTEBmZmZmZgZWQDMzMzMzk1BAzczMzMzMTUAzMzMzM7NUQDMzMzMz809AMzMzMzOzUEDNzMzMzAxGQGZmZmZmpk1AzczMzMwMREBmZmZmZiZGQDMzMzMzU1BAMzMzMzPzUEAAAAAAAIBMQJqZmZmZmTVAMzMzMzNzUEAzMzMzMzMuQDMzMzMzMzJAAAAAAACATkAzMzMzMzNWQAAAAAAAgEBAZmZmZmbmNUAAAAAAAMBRQGZmZmZmZjpAZmZmZmaGUECamZmZmRk8QDMzMzMz801AmpmZmZnZSkAzMzMzM1NUQGZmZmZm5jxAAAAAAABAS0DNzMzMzIxEQAAAAAAAgEpAAAAAAADASEDNzMzMzOxVQGZmZmZmxldAAAAAAADgVEBmZmZmZiZBQAAAAAAAQEJAzczMzMzMVEAzMzMzMzNVQGZmZmZmZlVAZmZmZmZGVkAzMzMzM/NQQDMzMzMz01NAMzMzMzPTVEA=\",\"dtype\":\"float64\",\"shape\":[49]}},\"selected\":null,\"selection_policy\":null},\"id\":\"94a405e7-e428-406f-82a6-46d38002e10b\",\"type\":\"ColumnDataSource\"}],\"root_ids\":[\"517a77c2-7b96-423e-bd17-2f2b7a041175\"]},\"title\":\"Bokeh Application\",\"version\":\"0.12.15\"}};\n",
       "  var render_items = [{\"docid\":\"fd5c56c3-6fc8-4479-86f8-363c2152e36b\",\"elementid\":\"382462a3-90c9-4c22-a4a4-b353f45fc9f3\",\"modelid\":\"517a77c2-7b96-423e-bd17-2f2b7a041175\"}];\n",
       "  root.Bokeh.embed.embed_items_notebook(docs_json, render_items);\n",
       "\n",
       "  }\n",
       "  if (root.Bokeh !== undefined) {\n",
       "    embed_document(root);\n",
       "  } else {\n",
       "    var attempts = 0;\n",
       "    var timer = setInterval(function(root) {\n",
       "      if (root.Bokeh !== undefined) {\n",
       "        embed_document(root);\n",
       "        clearInterval(timer);\n",
       "      }\n",
       "      attempts++;\n",
       "      if (attempts > 100) {\n",
       "        console.log(\"Bokeh: ERROR: Unable to run BokehJS code because BokehJS library is missing\")\n",
       "        clearInterval(timer);\n",
       "      }\n",
       "    }, 10, root)\n",
       "  }\n",
       "})(window);"
      ],
      "application/vnd.bokehjs_exec.v0+json": ""
     },
     "metadata": {
      "application/vnd.bokehjs_exec.v0+json": {
       "id": "517a77c2-7b96-423e-bd17-2f2b7a041175"
      }
     },
     "output_type": "display_data"
    }
   ],
   "source": [
    "# Hacer el mismo gráfico con los datasets filtrados (conjuntamente, cada uno una marca distinta en el gráfico)\n",
    "p = figure(plot_width = 600, plot_height = 600, \n",
    "           x_axis_label = 'fertility (children per woman)',\n",
    "           y_axis_label = 'female literacy (% population)')\n",
    "p.circle(df_LAT['fertility'], df_LAT['female literacy'], size = 10, color = 'blue', alpha = 0.7)\n",
    "p.circle(df_AF['fertility'], df_AF['female literacy'], size = 10, color = 'red', alpha = 0.7)\n",
    "show(p)"
   ]
  },
  {
   "cell_type": "code",
   "execution_count": 21,
   "metadata": {},
   "outputs": [
    {
     "data": {
      "text/html": [
       "\n",
       "<div class=\"bk-root\">\n",
       "    <div class=\"bk-plotdiv\" id=\"9335ead5-933f-4bc7-b2bd-39066671ab82\"></div>\n",
       "</div>"
      ]
     },
     "metadata": {},
     "output_type": "display_data"
    },
    {
     "data": {
      "application/javascript": [
       "(function(root) {\n",
       "  function embed_document(root) {\n",
       "    \n",
       "  var docs_json = {\"c5ded808-3e97-49d0-a05d-1b0cad75a7a4\":{\"roots\":{\"references\":[{\"attributes\":{},\"id\":\"1f0138d8-b45e-4dbb-8677-3c84376ea13c\",\"type\":\"WheelZoomTool\"},{\"attributes\":{\"plot\":{\"id\":\"2b3a0817-ad0e-4f7f-a8ee-bb86ee808ed5\",\"subtype\":\"Figure\",\"type\":\"Plot\"},\"ticker\":{\"id\":\"e2848176-1574-4093-a509-7052cedff1fa\",\"type\":\"BasicTicker\"}},\"id\":\"f093c323-5b14-46a4-a819-873e63a448cb\",\"type\":\"Grid\"},{\"attributes\":{\"label\":{\"value\":\"AF\"},\"renderers\":[{\"id\":\"6e8d245d-eea4-4413-997b-b572d9db836d\",\"type\":\"GlyphRenderer\"}]},\"id\":\"033ce45f-23b5-4a7e-bd87-eea184718154\",\"type\":\"LegendItem\"},{\"attributes\":{},\"id\":\"e2848176-1574-4093-a509-7052cedff1fa\",\"type\":\"BasicTicker\"},{\"attributes\":{\"data_source\":{\"id\":\"c9d4e7cf-dfee-48c1-90c2-38ec0c64cd39\",\"type\":\"ColumnDataSource\"},\"glyph\":{\"id\":\"40a93a70-cb51-42f9-8f58-a0d7fc5743ed\",\"type\":\"Circle\"},\"hover_glyph\":null,\"muted_glyph\":null,\"nonselection_glyph\":{\"id\":\"7b180ac2-f531-44a4-a20c-750af3fd8d96\",\"type\":\"Circle\"},\"selection_glyph\":null,\"view\":{\"id\":\"4469f460-c195-47c8-943c-04adafeebdb0\",\"type\":\"CDSView\"}},\"id\":\"ff8a35af-c50f-4bb9-8494-281b603c00ec\",\"type\":\"GlyphRenderer\"},{\"attributes\":{},\"id\":\"2fc0baca-b1a7-4061-8d51-a60ca12c56f2\",\"type\":\"ResetTool\"},{\"attributes\":{\"fill_alpha\":{\"value\":0.1},\"fill_color\":{\"value\":\"#1f77b4\"},\"line_alpha\":{\"value\":0.1},\"line_color\":{\"value\":\"#1f77b4\"},\"size\":{\"units\":\"screen\",\"value\":10},\"x\":{\"field\":\"x\"},\"y\":{\"field\":\"y\"}},\"id\":\"7b180ac2-f531-44a4-a20c-750af3fd8d96\",\"type\":\"Circle\"},{\"attributes\":{\"label\":{\"value\":\"LAT\"},\"renderers\":[{\"id\":\"ff8a35af-c50f-4bb9-8494-281b603c00ec\",\"type\":\"GlyphRenderer\"}]},\"id\":\"e473b707-c015-46cf-b086-4b13ed923009\",\"type\":\"LegendItem\"},{\"attributes\":{\"plot\":null,\"text\":\"\"},\"id\":\"015c36d2-3348-45e5-8c4d-83ce14c9f930\",\"type\":\"Title\"},{\"attributes\":{\"bottom_units\":\"screen\",\"fill_alpha\":{\"value\":0.5},\"fill_color\":{\"value\":\"lightgrey\"},\"left_units\":\"screen\",\"level\":\"overlay\",\"line_alpha\":{\"value\":1.0},\"line_color\":{\"value\":\"black\"},\"line_dash\":[4,4],\"line_width\":{\"value\":2},\"plot\":null,\"render_mode\":\"css\",\"right_units\":\"screen\",\"top_units\":\"screen\"},\"id\":\"c0e69b54-7319-4586-832f-037adc11e431\",\"type\":\"BoxAnnotation\"},{\"attributes\":{\"items\":[{\"id\":\"e473b707-c015-46cf-b086-4b13ed923009\",\"type\":\"LegendItem\"},{\"id\":\"033ce45f-23b5-4a7e-bd87-eea184718154\",\"type\":\"LegendItem\"}],\"location\":\"bottom_left\",\"plot\":{\"id\":\"2b3a0817-ad0e-4f7f-a8ee-bb86ee808ed5\",\"subtype\":\"Figure\",\"type\":\"Plot\"}},\"id\":\"3c2dee4a-5507-45d9-89fb-286f3742e6fd\",\"type\":\"Legend\"},{\"attributes\":{},\"id\":\"8100d1a9-3c89-4372-9045-0aa60baf541c\",\"type\":\"BasicTickFormatter\"},{\"attributes\":{},\"id\":\"0349d7fe-399b-4886-8825-1b01279a2c4c\",\"type\":\"SaveTool\"},{\"attributes\":{\"callback\":null},\"id\":\"5a82d88a-8a48-4d9b-9acf-fc5019724e62\",\"type\":\"DataRange1d\"},{\"attributes\":{},\"id\":\"5a7d2a6b-9dd2-4cf8-b610-0a2acbc2a40c\",\"type\":\"HelpTool\"},{\"attributes\":{\"callback\":null},\"id\":\"96e20483-6ace-4e41-a0fd-2755be51da83\",\"type\":\"DataRange1d\"},{\"attributes\":{\"callback\":null,\"column_names\":[\"x\",\"y\"],\"data\":{\"x\":{\"__ndarray__\":\"/dR46SaxFEC7SQwCK4cGQPLSTWIQ2BRAbhKDwMqhF0AK16NwPQoEQBSuR+F6FBZACKwcWmQ7EEBWDi2ynW8TQCPb+X5qvAJAarx0kxgEGUB56SYxCKwCQOF6FK5H4RBAke18PzXeE0B0kxgEVg4SQHsUrkfhehJARIts5/spEkBANV66SYwWQHe+nxovXRdAUrgehevRFUAtsp3vp0YcQB+F61G4nhVAppvEILDyFkCBlUOLbOcKQI/C9ShcjxNAbef7qfFSGEDb+X5qvHT9PzeJQWDlUBVAUrgehetRFUBPjZduEoMVQM3MzMzMzBFARIts5/upEECJQWDl0CIFQClcj8L1qBRA6iYxCKwcEkB9PzVeuskSQCUGgZVDCxRAWmQ730+NEUBSuB6F61EKQOkmMQisHApA+n5qvHSTBkDGSzeJQeATQIlBYOXQohZA7FG4HoXrCUB46SYxCKz8P5qZmZmZmQtAbhKDwMohFUAUrkfhehQPQOj7qfHSTQVAWDm0yHa+DUA=\",\"dtype\":\"float64\",\"shape\":[49]},\"y\":{\"__ndarray__\":\"ZmZmZmZmSEBmZmZmZuZMQM3MzMzMzDZAzczMzMwMTEBmZmZmZgZWQDMzMzMzk1BAzczMzMzMTUAzMzMzM7NUQDMzMzMz809AMzMzMzOzUEDNzMzMzAxGQGZmZmZmpk1AzczMzMwMREBmZmZmZiZGQDMzMzMzU1BAMzMzMzPzUEAAAAAAAIBMQJqZmZmZmTVAMzMzMzNzUEAzMzMzMzMuQDMzMzMzMzJAAAAAAACATkAzMzMzMzNWQAAAAAAAgEBAZmZmZmbmNUAAAAAAAMBRQGZmZmZmZjpAZmZmZmaGUECamZmZmRk8QDMzMzMz801AmpmZmZnZSkAzMzMzM1NUQGZmZmZm5jxAAAAAAABAS0DNzMzMzIxEQAAAAAAAgEpAAAAAAADASEDNzMzMzOxVQGZmZmZmxldAAAAAAADgVEBmZmZmZiZBQAAAAAAAQEJAzczMzMzMVEAzMzMzMzNVQGZmZmZmZlVAZmZmZmZGVkAzMzMzM/NQQDMzMzMz01NAMzMzMzPTVEA=\",\"dtype\":\"float64\",\"shape\":[49]}},\"selected\":null,\"selection_policy\":null},\"id\":\"0535f6aa-6475-4a3c-9616-782694d478f4\",\"type\":\"ColumnDataSource\"},{\"attributes\":{\"axis_label\":\"fertility (children per woman)\",\"formatter\":{\"id\":\"298d45ca-dedf-42df-8fd3-ab05e8528648\",\"type\":\"BasicTickFormatter\"},\"plot\":{\"id\":\"2b3a0817-ad0e-4f7f-a8ee-bb86ee808ed5\",\"subtype\":\"Figure\",\"type\":\"Plot\"},\"ticker\":{\"id\":\"e2848176-1574-4093-a509-7052cedff1fa\",\"type\":\"BasicTicker\"}},\"id\":\"655bc416-ee03-4d59-b329-c8a8bc481a8f\",\"type\":\"LinearAxis\"},{\"attributes\":{\"fill_alpha\":{\"value\":0.1},\"fill_color\":{\"value\":\"#1f77b4\"},\"line_alpha\":{\"value\":0.1},\"line_color\":{\"value\":\"#1f77b4\"},\"size\":{\"units\":\"screen\",\"value\":10},\"x\":{\"field\":\"x\"},\"y\":{\"field\":\"y\"}},\"id\":\"efb237e7-33c2-4a07-aa0d-436f97ccb7ca\",\"type\":\"Circle\"},{\"attributes\":{\"source\":{\"id\":\"0535f6aa-6475-4a3c-9616-782694d478f4\",\"type\":\"ColumnDataSource\"}},\"id\":\"9c60905e-28a4-4c06-8f1e-df67516ad24c\",\"type\":\"CDSView\"},{\"attributes\":{\"overlay\":{\"id\":\"c0e69b54-7319-4586-832f-037adc11e431\",\"type\":\"BoxAnnotation\"}},\"id\":\"de6887c9-bdf1-4555-bdbd-b70ab348b271\",\"type\":\"BoxZoomTool\"},{\"attributes\":{\"fill_alpha\":{\"value\":0.7},\"fill_color\":{\"value\":\"red\"},\"line_alpha\":{\"value\":0.7},\"line_color\":{\"value\":\"red\"},\"size\":{\"units\":\"screen\",\"value\":10},\"x\":{\"field\":\"x\"},\"y\":{\"field\":\"y\"}},\"id\":\"1740c5d7-0de0-49e2-9322-9e387734769d\",\"type\":\"Circle\"},{\"attributes\":{},\"id\":\"298d45ca-dedf-42df-8fd3-ab05e8528648\",\"type\":\"BasicTickFormatter\"},{\"attributes\":{\"source\":{\"id\":\"c9d4e7cf-dfee-48c1-90c2-38ec0c64cd39\",\"type\":\"ColumnDataSource\"}},\"id\":\"4469f460-c195-47c8-943c-04adafeebdb0\",\"type\":\"CDSView\"},{\"attributes\":{},\"id\":\"f3a863fc-913d-46f8-9e9c-52a4035b97aa\",\"type\":\"BasicTicker\"},{\"attributes\":{\"dimension\":1,\"plot\":{\"id\":\"2b3a0817-ad0e-4f7f-a8ee-bb86ee808ed5\",\"subtype\":\"Figure\",\"type\":\"Plot\"},\"ticker\":{\"id\":\"f3a863fc-913d-46f8-9e9c-52a4035b97aa\",\"type\":\"BasicTicker\"}},\"id\":\"a9ff7f80-9f62-41e9-ac1a-2f4ceaa257a8\",\"type\":\"Grid\"},{\"attributes\":{},\"id\":\"b121317d-6257-4b1f-8e64-debe5aad6f38\",\"type\":\"PanTool\"},{\"attributes\":{},\"id\":\"c87434ab-c64d-48f2-b54d-ab0848fea5e6\",\"type\":\"LinearScale\"},{\"attributes\":{\"data_source\":{\"id\":\"0535f6aa-6475-4a3c-9616-782694d478f4\",\"type\":\"ColumnDataSource\"},\"glyph\":{\"id\":\"1740c5d7-0de0-49e2-9322-9e387734769d\",\"type\":\"Circle\"},\"hover_glyph\":null,\"muted_glyph\":null,\"nonselection_glyph\":{\"id\":\"efb237e7-33c2-4a07-aa0d-436f97ccb7ca\",\"type\":\"Circle\"},\"selection_glyph\":null,\"view\":{\"id\":\"9c60905e-28a4-4c06-8f1e-df67516ad24c\",\"type\":\"CDSView\"}},\"id\":\"6e8d245d-eea4-4413-997b-b572d9db836d\",\"type\":\"GlyphRenderer\"},{\"attributes\":{},\"id\":\"f1969943-7ef5-491d-b16a-90ce25eaa928\",\"type\":\"LinearScale\"},{\"attributes\":{\"callback\":null,\"column_names\":[\"x\",\"y\"],\"data\":{\"x\":{\"__ndarray__\":\"CKwcWmQ7/T9zaJHtfD8BQAisHFpkOwNAYxBYObTIAUA9CtejcD0EQJZDi2zn+wNAN4lBYOXQ/j/fT42XbhIQQLTIdr6fGgRAFK5H4XoU+D9MN4lBYOUEQCyHFtnO9wpAhetRuB6FCUA3iUFg5dAHQFyPwvUoXAJAEVg5tMh2BUBKDAIrhxb/P1TjpZvEIARAg8DKoUW2AEBMN4lBYOUCQCYxCKwcWvo/lkOLbOf7AkAshxbZzvcKQIPAyqFFtvs/\",\"dtype\":\"float64\",\"shape\":[24]},\"y\":{\"__ndarray__\":\"zczMzMyMVkAAAAAAAOBWQJqZmZmZWVdAzczMzMxsWEBmZmZmZiZVQJqZmZmZuVdAzczMzMysWEDNzMzMzCxRQM3MzMzMbFRAMzMzMzPzWEAzMzMzMxNWQAAAAAAAgFVAAAAAAADgVEAAAAAAAGBXQJqZmZmZWVRAmpmZmZl5U0DNzMzMzAxYQDMzMzMzM1dAAAAAAACgWEAzMzMzM7NWQM3MzMzMjFhAmpmZmZkZVkAAAAAAACBYQAAAAAAAgFhA\",\"dtype\":\"float64\",\"shape\":[24]}},\"selected\":null,\"selection_policy\":null},\"id\":\"c9d4e7cf-dfee-48c1-90c2-38ec0c64cd39\",\"type\":\"ColumnDataSource\"},{\"attributes\":{\"active_drag\":\"auto\",\"active_inspect\":\"auto\",\"active_scroll\":\"auto\",\"active_tap\":\"auto\",\"tools\":[{\"id\":\"b121317d-6257-4b1f-8e64-debe5aad6f38\",\"type\":\"PanTool\"},{\"id\":\"1f0138d8-b45e-4dbb-8677-3c84376ea13c\",\"type\":\"WheelZoomTool\"},{\"id\":\"de6887c9-bdf1-4555-bdbd-b70ab348b271\",\"type\":\"BoxZoomTool\"},{\"id\":\"0349d7fe-399b-4886-8825-1b01279a2c4c\",\"type\":\"SaveTool\"},{\"id\":\"2fc0baca-b1a7-4061-8d51-a60ca12c56f2\",\"type\":\"ResetTool\"},{\"id\":\"5a7d2a6b-9dd2-4cf8-b610-0a2acbc2a40c\",\"type\":\"HelpTool\"}]},\"id\":\"d54826fc-4d98-4de5-88fe-71915dd13c2f\",\"type\":\"Toolbar\"},{\"attributes\":{\"below\":[{\"id\":\"655bc416-ee03-4d59-b329-c8a8bc481a8f\",\"type\":\"LinearAxis\"}],\"left\":[{\"id\":\"8e543d9d-cb9a-4191-8a1f-bbfaa9a89cdf\",\"type\":\"LinearAxis\"}],\"renderers\":[{\"id\":\"655bc416-ee03-4d59-b329-c8a8bc481a8f\",\"type\":\"LinearAxis\"},{\"id\":\"f093c323-5b14-46a4-a819-873e63a448cb\",\"type\":\"Grid\"},{\"id\":\"8e543d9d-cb9a-4191-8a1f-bbfaa9a89cdf\",\"type\":\"LinearAxis\"},{\"id\":\"a9ff7f80-9f62-41e9-ac1a-2f4ceaa257a8\",\"type\":\"Grid\"},{\"id\":\"c0e69b54-7319-4586-832f-037adc11e431\",\"type\":\"BoxAnnotation\"},{\"id\":\"3c2dee4a-5507-45d9-89fb-286f3742e6fd\",\"type\":\"Legend\"},{\"id\":\"ff8a35af-c50f-4bb9-8494-281b603c00ec\",\"type\":\"GlyphRenderer\"},{\"id\":\"6e8d245d-eea4-4413-997b-b572d9db836d\",\"type\":\"GlyphRenderer\"}],\"title\":{\"id\":\"015c36d2-3348-45e5-8c4d-83ce14c9f930\",\"type\":\"Title\"},\"toolbar\":{\"id\":\"d54826fc-4d98-4de5-88fe-71915dd13c2f\",\"type\":\"Toolbar\"},\"x_range\":{\"id\":\"96e20483-6ace-4e41-a0fd-2755be51da83\",\"type\":\"DataRange1d\"},\"x_scale\":{\"id\":\"f1969943-7ef5-491d-b16a-90ce25eaa928\",\"type\":\"LinearScale\"},\"y_range\":{\"id\":\"5a82d88a-8a48-4d9b-9acf-fc5019724e62\",\"type\":\"DataRange1d\"},\"y_scale\":{\"id\":\"c87434ab-c64d-48f2-b54d-ab0848fea5e6\",\"type\":\"LinearScale\"}},\"id\":\"2b3a0817-ad0e-4f7f-a8ee-bb86ee808ed5\",\"subtype\":\"Figure\",\"type\":\"Plot\"},{\"attributes\":{\"axis_label\":\"female literacy (% population)\",\"formatter\":{\"id\":\"8100d1a9-3c89-4372-9045-0aa60baf541c\",\"type\":\"BasicTickFormatter\"},\"plot\":{\"id\":\"2b3a0817-ad0e-4f7f-a8ee-bb86ee808ed5\",\"subtype\":\"Figure\",\"type\":\"Plot\"},\"ticker\":{\"id\":\"f3a863fc-913d-46f8-9e9c-52a4035b97aa\",\"type\":\"BasicTicker\"}},\"id\":\"8e543d9d-cb9a-4191-8a1f-bbfaa9a89cdf\",\"type\":\"LinearAxis\"},{\"attributes\":{\"fill_alpha\":{\"value\":0.7},\"fill_color\":{\"value\":\"blue\"},\"line_alpha\":{\"value\":0.7},\"line_color\":{\"value\":\"blue\"},\"size\":{\"units\":\"screen\",\"value\":10},\"x\":{\"field\":\"x\"},\"y\":{\"field\":\"y\"}},\"id\":\"40a93a70-cb51-42f9-8f58-a0d7fc5743ed\",\"type\":\"Circle\"}],\"root_ids\":[\"2b3a0817-ad0e-4f7f-a8ee-bb86ee808ed5\"]},\"title\":\"Bokeh Application\",\"version\":\"0.12.15\"}};\n",
       "  var render_items = [{\"docid\":\"c5ded808-3e97-49d0-a05d-1b0cad75a7a4\",\"elementid\":\"9335ead5-933f-4bc7-b2bd-39066671ab82\",\"modelid\":\"2b3a0817-ad0e-4f7f-a8ee-bb86ee808ed5\"}];\n",
       "  root.Bokeh.embed.embed_items_notebook(docs_json, render_items);\n",
       "\n",
       "  }\n",
       "  if (root.Bokeh !== undefined) {\n",
       "    embed_document(root);\n",
       "  } else {\n",
       "    var attempts = 0;\n",
       "    var timer = setInterval(function(root) {\n",
       "      if (root.Bokeh !== undefined) {\n",
       "        embed_document(root);\n",
       "        clearInterval(timer);\n",
       "      }\n",
       "      attempts++;\n",
       "      if (attempts > 100) {\n",
       "        console.log(\"Bokeh: ERROR: Unable to run BokehJS code because BokehJS library is missing\")\n",
       "        clearInterval(timer);\n",
       "      }\n",
       "    }, 10, root)\n",
       "  }\n",
       "})(window);"
      ],
      "application/vnd.bokehjs_exec.v0+json": ""
     },
     "metadata": {
      "application/vnd.bokehjs_exec.v0+json": {
       "id": "2b3a0817-ad0e-4f7f-a8ee-bb86ee808ed5"
      }
     },
     "output_type": "display_data"
    }
   ],
   "source": [
    "# Hacer el mismo gráfico con los datasets filtrados incluyendo una leyenda\n",
    "p = figure(plot_width = 600, plot_height = 600, \n",
    "           x_axis_label = 'fertility (children per woman)',\n",
    "           y_axis_label = 'female literacy (% population)')\n",
    "p.circle(df_LAT['fertility'], df_LAT['female literacy'], size = 10, color = 'blue', alpha = 0.7, legend = 'LAT')\n",
    "p.circle(df_AF['fertility'], df_AF['female literacy'], size = 10, color = 'red', alpha = 0.7, legend = 'AF')\n",
    "p.legend.location = 'bottom_left'\n",
    "show(p)"
   ]
  },
  {
   "cell_type": "code",
   "execution_count": 22,
   "metadata": {},
   "outputs": [
    {
     "data": {
      "text/html": [
       "\n",
       "<div class=\"bk-root\">\n",
       "    <div class=\"bk-plotdiv\" id=\"df4bb712-eef8-4055-aa8d-ab5da6a3d8f0\"></div>\n",
       "</div>"
      ]
     },
     "metadata": {},
     "output_type": "display_data"
    },
    {
     "data": {
      "application/javascript": [
       "(function(root) {\n",
       "  function embed_document(root) {\n",
       "    \n",
       "  var docs_json = {\"dbe1db0c-2778-4384-bee4-86f456d1e82f\":{\"roots\":{\"references\":[{\"attributes\":{},\"id\":\"9ace2b1d-04e7-4c25-a3a0-abb31add2462\",\"type\":\"BasicTickFormatter\"},{\"attributes\":{\"overlay\":{\"id\":\"347902d6-0143-4528-9787-0ebb6297c1e5\",\"type\":\"BoxAnnotation\"}},\"id\":\"5769efb4-fb19-4fea-a6a2-1138ed184c80\",\"type\":\"BoxZoomTool\"},{\"attributes\":{},\"id\":\"9bfa3eff-9a5a-43a2-bd19-683455ac2280\",\"type\":\"LinearScale\"},{\"attributes\":{},\"id\":\"3c6053f8-bbdb-4f08-a3e7-0bb98392a278\",\"type\":\"BasicTickFormatter\"},{\"attributes\":{\"source\":{\"id\":\"70df49e2-36c1-40b7-80a3-a59c00723b74\",\"type\":\"ColumnDataSource\"}},\"id\":\"07ae4281-cfe4-4d50-8fbd-9111e28fa7b8\",\"type\":\"CDSView\"},{\"attributes\":{\"active_drag\":\"auto\",\"active_inspect\":\"auto\",\"active_scroll\":\"auto\",\"active_tap\":\"auto\",\"tools\":[{\"id\":\"60c82555-bee7-4130-ac75-a2b05fc9a243\",\"type\":\"PanTool\"},{\"id\":\"dd126ef9-115b-495f-9890-9d758d9f6871\",\"type\":\"WheelZoomTool\"},{\"id\":\"5769efb4-fb19-4fea-a6a2-1138ed184c80\",\"type\":\"BoxZoomTool\"},{\"id\":\"06e9c0b3-cb93-4ab0-924e-58c5086ef999\",\"type\":\"SaveTool\"},{\"id\":\"cd47e44a-d57a-4b2e-a23f-7164434fd2b7\",\"type\":\"ResetTool\"},{\"id\":\"bbf8b948-bb3f-446d-83d5-a345d6edbbec\",\"type\":\"HelpTool\"}]},\"id\":\"f61d3cf8-0941-4e8e-9c95-26976e76b307\",\"type\":\"Toolbar\"},{\"attributes\":{\"dimension\":1,\"plot\":{\"id\":\"933c56b8-60e7-4cd9-8667-3d0b3da9d449\",\"subtype\":\"Figure\",\"type\":\"Plot\"},\"ticker\":{\"id\":\"b178be4a-b99d-4a8e-b404-c9f2ebb2fdf0\",\"type\":\"BasicTicker\"}},\"id\":\"4a66595c-169f-4626-b16a-a0ffb572786f\",\"type\":\"Grid\"},{\"attributes\":{},\"id\":\"b178be4a-b99d-4a8e-b404-c9f2ebb2fdf0\",\"type\":\"BasicTicker\"},{\"attributes\":{\"callback\":null,\"column_names\":[\"x\",\"y\"],\"data\":{\"x\":[1,2,3,4,5],\"y\":[6,7,2,4,5]},\"selected\":null,\"selection_policy\":null},\"id\":\"70df49e2-36c1-40b7-80a3-a59c00723b74\",\"type\":\"ColumnDataSource\"},{\"attributes\":{\"below\":[{\"id\":\"5c267060-f588-4287-ba6b-0f7dbd3f32e5\",\"type\":\"LinearAxis\"}],\"left\":[{\"id\":\"116b3fdb-8597-4315-bdaf-b804d2ea7ea0\",\"type\":\"LinearAxis\"}],\"plot_height\":300,\"plot_width\":300,\"renderers\":[{\"id\":\"5c267060-f588-4287-ba6b-0f7dbd3f32e5\",\"type\":\"LinearAxis\"},{\"id\":\"30525672-9ff7-4718-9999-dc7db1319741\",\"type\":\"Grid\"},{\"id\":\"116b3fdb-8597-4315-bdaf-b804d2ea7ea0\",\"type\":\"LinearAxis\"},{\"id\":\"4a66595c-169f-4626-b16a-a0ffb572786f\",\"type\":\"Grid\"},{\"id\":\"347902d6-0143-4528-9787-0ebb6297c1e5\",\"type\":\"BoxAnnotation\"},{\"id\":\"ab11fa2f-cb66-4507-be81-73fccf0e7419\",\"type\":\"GlyphRenderer\"}],\"title\":{\"id\":\"feedeca5-6420-4979-bfc0-3b594badfcd3\",\"type\":\"Title\"},\"toolbar\":{\"id\":\"f61d3cf8-0941-4e8e-9c95-26976e76b307\",\"type\":\"Toolbar\"},\"x_range\":{\"id\":\"0cc5b0a3-cd89-4ff0-8d6b-520a2ca015bb\",\"type\":\"DataRange1d\"},\"x_scale\":{\"id\":\"c52151da-70ea-4388-842f-042501652cff\",\"type\":\"LinearScale\"},\"y_range\":{\"id\":\"cc47f628-aa16-4029-bb35-a94ccb453944\",\"type\":\"DataRange1d\"},\"y_scale\":{\"id\":\"9bfa3eff-9a5a-43a2-bd19-683455ac2280\",\"type\":\"LinearScale\"}},\"id\":\"933c56b8-60e7-4cd9-8667-3d0b3da9d449\",\"subtype\":\"Figure\",\"type\":\"Plot\"},{\"attributes\":{},\"id\":\"06e9c0b3-cb93-4ab0-924e-58c5086ef999\",\"type\":\"SaveTool\"},{\"attributes\":{\"formatter\":{\"id\":\"9ace2b1d-04e7-4c25-a3a0-abb31add2462\",\"type\":\"BasicTickFormatter\"},\"plot\":{\"id\":\"933c56b8-60e7-4cd9-8667-3d0b3da9d449\",\"subtype\":\"Figure\",\"type\":\"Plot\"},\"ticker\":{\"id\":\"b178be4a-b99d-4a8e-b404-c9f2ebb2fdf0\",\"type\":\"BasicTicker\"}},\"id\":\"116b3fdb-8597-4315-bdaf-b804d2ea7ea0\",\"type\":\"LinearAxis\"},{\"attributes\":{\"line_color\":\"red\",\"line_width\":5,\"x\":{\"field\":\"x\"},\"y\":{\"field\":\"y\"}},\"id\":\"1961b611-6fd0-4038-b52e-09f30d07280d\",\"type\":\"Line\"},{\"attributes\":{\"data_source\":{\"id\":\"70df49e2-36c1-40b7-80a3-a59c00723b74\",\"type\":\"ColumnDataSource\"},\"glyph\":{\"id\":\"1961b611-6fd0-4038-b52e-09f30d07280d\",\"type\":\"Line\"},\"hover_glyph\":null,\"muted_glyph\":null,\"nonselection_glyph\":{\"id\":\"38c83d1f-a808-4b29-bbbf-0359fbdeeace\",\"type\":\"Line\"},\"selection_glyph\":null,\"view\":{\"id\":\"07ae4281-cfe4-4d50-8fbd-9111e28fa7b8\",\"type\":\"CDSView\"}},\"id\":\"ab11fa2f-cb66-4507-be81-73fccf0e7419\",\"type\":\"GlyphRenderer\"},{\"attributes\":{\"callback\":null},\"id\":\"cc47f628-aa16-4029-bb35-a94ccb453944\",\"type\":\"DataRange1d\"},{\"attributes\":{},\"id\":\"cd47e44a-d57a-4b2e-a23f-7164434fd2b7\",\"type\":\"ResetTool\"},{\"attributes\":{},\"id\":\"c52151da-70ea-4388-842f-042501652cff\",\"type\":\"LinearScale\"},{\"attributes\":{},\"id\":\"dd126ef9-115b-495f-9890-9d758d9f6871\",\"type\":\"WheelZoomTool\"},{\"attributes\":{\"plot\":null,\"text\":\"\"},\"id\":\"feedeca5-6420-4979-bfc0-3b594badfcd3\",\"type\":\"Title\"},{\"attributes\":{\"line_alpha\":0.1,\"line_color\":\"#1f77b4\",\"line_width\":5,\"x\":{\"field\":\"x\"},\"y\":{\"field\":\"y\"}},\"id\":\"38c83d1f-a808-4b29-bbbf-0359fbdeeace\",\"type\":\"Line\"},{\"attributes\":{},\"id\":\"60c82555-bee7-4130-ac75-a2b05fc9a243\",\"type\":\"PanTool\"},{\"attributes\":{},\"id\":\"0b8ac123-af08-491d-b49a-88b68a7c3976\",\"type\":\"BasicTicker\"},{\"attributes\":{},\"id\":\"bbf8b948-bb3f-446d-83d5-a345d6edbbec\",\"type\":\"HelpTool\"},{\"attributes\":{\"callback\":null},\"id\":\"0cc5b0a3-cd89-4ff0-8d6b-520a2ca015bb\",\"type\":\"DataRange1d\"},{\"attributes\":{\"bottom_units\":\"screen\",\"fill_alpha\":{\"value\":0.5},\"fill_color\":{\"value\":\"lightgrey\"},\"left_units\":\"screen\",\"level\":\"overlay\",\"line_alpha\":{\"value\":1.0},\"line_color\":{\"value\":\"black\"},\"line_dash\":[4,4],\"line_width\":{\"value\":2},\"plot\":null,\"render_mode\":\"css\",\"right_units\":\"screen\",\"top_units\":\"screen\"},\"id\":\"347902d6-0143-4528-9787-0ebb6297c1e5\",\"type\":\"BoxAnnotation\"},{\"attributes\":{\"formatter\":{\"id\":\"3c6053f8-bbdb-4f08-a3e7-0bb98392a278\",\"type\":\"BasicTickFormatter\"},\"plot\":{\"id\":\"933c56b8-60e7-4cd9-8667-3d0b3da9d449\",\"subtype\":\"Figure\",\"type\":\"Plot\"},\"ticker\":{\"id\":\"0b8ac123-af08-491d-b49a-88b68a7c3976\",\"type\":\"BasicTicker\"}},\"id\":\"5c267060-f588-4287-ba6b-0f7dbd3f32e5\",\"type\":\"LinearAxis\"},{\"attributes\":{\"plot\":{\"id\":\"933c56b8-60e7-4cd9-8667-3d0b3da9d449\",\"subtype\":\"Figure\",\"type\":\"Plot\"},\"ticker\":{\"id\":\"0b8ac123-af08-491d-b49a-88b68a7c3976\",\"type\":\"BasicTicker\"}},\"id\":\"30525672-9ff7-4718-9999-dc7db1319741\",\"type\":\"Grid\"}],\"root_ids\":[\"933c56b8-60e7-4cd9-8667-3d0b3da9d449\"]},\"title\":\"Bokeh Application\",\"version\":\"0.12.15\"}};\n",
       "  var render_items = [{\"docid\":\"dbe1db0c-2778-4384-bee4-86f456d1e82f\",\"elementid\":\"df4bb712-eef8-4055-aa8d-ab5da6a3d8f0\",\"modelid\":\"933c56b8-60e7-4cd9-8667-3d0b3da9d449\"}];\n",
       "  root.Bokeh.embed.embed_items_notebook(docs_json, render_items);\n",
       "\n",
       "  }\n",
       "  if (root.Bokeh !== undefined) {\n",
       "    embed_document(root);\n",
       "  } else {\n",
       "    var attempts = 0;\n",
       "    var timer = setInterval(function(root) {\n",
       "      if (root.Bokeh !== undefined) {\n",
       "        embed_document(root);\n",
       "        clearInterval(timer);\n",
       "      }\n",
       "      attempts++;\n",
       "      if (attempts > 100) {\n",
       "        console.log(\"Bokeh: ERROR: Unable to run BokehJS code because BokehJS library is missing\")\n",
       "        clearInterval(timer);\n",
       "      }\n",
       "    }, 10, root)\n",
       "  }\n",
       "})(window);"
      ],
      "application/vnd.bokehjs_exec.v0+json": ""
     },
     "metadata": {
      "application/vnd.bokehjs_exec.v0+json": {
       "id": "933c56b8-60e7-4cd9-8667-3d0b3da9d449"
      }
     },
     "output_type": "display_data"
    }
   ],
   "source": [
    "p = figure(plot_width = 300, plot_height = 300)\n",
    "p.line([1, 2, 3, 4, 5], [6, 7, 2, 4, 5], line_color = \"red\", line_width = 5)\n",
    "show(p)"
   ]
  },
  {
   "cell_type": "code",
   "execution_count": 23,
   "metadata": {},
   "outputs": [],
   "source": [
    "AAPL = pd.read_csv(\"https://api.iextrading.com/1.0/stock/aapl/chart/5y?format=csv\", parse_dates=['date'])"
   ]
  },
  {
   "cell_type": "code",
   "execution_count": 24,
   "metadata": {},
   "outputs": [
    {
     "data": {
      "text/plain": [
       "Index(['date', 'open', 'high', 'low', 'close', 'volume', 'unadjustedVolume',\n",
       "       'change', 'changePercent', 'vwap', 'label', 'changeOverTime'],\n",
       "      dtype='object')"
      ]
     },
     "execution_count": 24,
     "metadata": {},
     "output_type": "execute_result"
    }
   ],
   "source": [
    "AAPL.columns"
   ]
  },
  {
   "cell_type": "code",
   "execution_count": 25,
   "metadata": {},
   "outputs": [
    {
     "data": {
      "text/html": [
       "<div>\n",
       "<style scoped>\n",
       "    .dataframe tbody tr th:only-of-type {\n",
       "        vertical-align: middle;\n",
       "    }\n",
       "\n",
       "    .dataframe tbody tr th {\n",
       "        vertical-align: top;\n",
       "    }\n",
       "\n",
       "    .dataframe thead th {\n",
       "        text-align: right;\n",
       "    }\n",
       "</style>\n",
       "<table border=\"1\" class=\"dataframe\">\n",
       "  <thead>\n",
       "    <tr style=\"text-align: right;\">\n",
       "      <th></th>\n",
       "      <th>date</th>\n",
       "      <th>open</th>\n",
       "      <th>high</th>\n",
       "      <th>low</th>\n",
       "      <th>close</th>\n",
       "      <th>volume</th>\n",
       "      <th>unadjustedVolume</th>\n",
       "      <th>change</th>\n",
       "      <th>changePercent</th>\n",
       "      <th>vwap</th>\n",
       "      <th>label</th>\n",
       "      <th>changeOverTime</th>\n",
       "    </tr>\n",
       "  </thead>\n",
       "  <tbody>\n",
       "    <tr>\n",
       "      <th>0</th>\n",
       "      <td>2013-04-29</td>\n",
       "      <td>54.6770</td>\n",
       "      <td>56.3893</td>\n",
       "      <td>54.6185</td>\n",
       "      <td>55.9345</td>\n",
       "      <td>159958876</td>\n",
       "      <td>22851268</td>\n",
       "      <td>1.679500</td>\n",
       "      <td>3.096</td>\n",
       "      <td>55.7966</td>\n",
       "      <td>Apr 29, 13</td>\n",
       "      <td>0.000000</td>\n",
       "    </tr>\n",
       "    <tr>\n",
       "      <th>1</th>\n",
       "      <td>2013-04-30</td>\n",
       "      <td>56.5821</td>\n",
       "      <td>57.9021</td>\n",
       "      <td>56.1881</td>\n",
       "      <td>57.5809</td>\n",
       "      <td>172737600</td>\n",
       "      <td>24676800</td>\n",
       "      <td>1.646400</td>\n",
       "      <td>2.943</td>\n",
       "      <td>57.1781</td>\n",
       "      <td>Apr 30, 13</td>\n",
       "      <td>0.029434</td>\n",
       "    </tr>\n",
       "    <tr>\n",
       "      <th>2</th>\n",
       "      <td>2013-05-01</td>\n",
       "      <td>57.7993</td>\n",
       "      <td>57.8604</td>\n",
       "      <td>56.4898</td>\n",
       "      <td>57.1270</td>\n",
       "      <td>126720237</td>\n",
       "      <td>18102891</td>\n",
       "      <td>-0.453855</td>\n",
       "      <td>-0.788</td>\n",
       "      <td>57.1217</td>\n",
       "      <td>May 1, 13</td>\n",
       "      <td>0.021320</td>\n",
       "    </tr>\n",
       "    <tr>\n",
       "      <th>3</th>\n",
       "      <td>2013-05-02</td>\n",
       "      <td>57.4508</td>\n",
       "      <td>58.3364</td>\n",
       "      <td>57.3013</td>\n",
       "      <td>57.9372</td>\n",
       "      <td>105449078</td>\n",
       "      <td>15064154</td>\n",
       "      <td>0.810175</td>\n",
       "      <td>1.418</td>\n",
       "      <td>58.0741</td>\n",
       "      <td>May 2, 13</td>\n",
       "      <td>0.035804</td>\n",
       "    </tr>\n",
       "    <tr>\n",
       "      <th>4</th>\n",
       "      <td>2013-05-03</td>\n",
       "      <td>58.6901</td>\n",
       "      <td>58.9398</td>\n",
       "      <td>58.4092</td>\n",
       "      <td>58.5172</td>\n",
       "      <td>90319201</td>\n",
       "      <td>12902743</td>\n",
       "      <td>0.579995</td>\n",
       "      <td>1.001</td>\n",
       "      <td>58.6445</td>\n",
       "      <td>May 3, 13</td>\n",
       "      <td>0.046174</td>\n",
       "    </tr>\n",
       "  </tbody>\n",
       "</table>\n",
       "</div>"
      ],
      "text/plain": [
       "        date     open     high      low    close     volume  unadjustedVolume  \\\n",
       "0 2013-04-29  54.6770  56.3893  54.6185  55.9345  159958876          22851268   \n",
       "1 2013-04-30  56.5821  57.9021  56.1881  57.5809  172737600          24676800   \n",
       "2 2013-05-01  57.7993  57.8604  56.4898  57.1270  126720237          18102891   \n",
       "3 2013-05-02  57.4508  58.3364  57.3013  57.9372  105449078          15064154   \n",
       "4 2013-05-03  58.6901  58.9398  58.4092  58.5172   90319201          12902743   \n",
       "\n",
       "     change  changePercent     vwap       label  changeOverTime  \n",
       "0  1.679500          3.096  55.7966  Apr 29, 13        0.000000  \n",
       "1  1.646400          2.943  57.1781  Apr 30, 13        0.029434  \n",
       "2 -0.453855         -0.788  57.1217   May 1, 13        0.021320  \n",
       "3  0.810175          1.418  58.0741   May 2, 13        0.035804  \n",
       "4  0.579995          1.001  58.6445   May 3, 13        0.046174  "
      ]
     },
     "execution_count": 25,
     "metadata": {},
     "output_type": "execute_result"
    }
   ],
   "source": [
    "AAPL.head()"
   ]
  },
  {
   "cell_type": "code",
   "execution_count": 26,
   "metadata": {},
   "outputs": [
    {
     "data": {
      "text/html": [
       "\n",
       "<div class=\"bk-root\">\n",
       "    <div class=\"bk-plotdiv\" id=\"4d5806ff-bc91-4bee-bd07-8058d0c93c78\"></div>\n",
       "</div>"
      ]
     },
     "metadata": {},
     "output_type": "display_data"
    },
    {
     "data": {
      "application/javascript": [
       "(function(root) {\n",
       "  function embed_document(root) {\n",
       "    \n",
       "  var docs_json = {\"528e0c9f-29e9-4a56-b7a2-70dc2b9e69eb\":{\"roots\":{\"references\":[{\"attributes\":{\"num_minor_ticks\":5,\"tickers\":[{\"id\":\"7cfc82db-6a09-4a83-94c3-cfc08f7f429c\",\"type\":\"AdaptiveTicker\"},{\"id\":\"13476b68-7934-4e23-96e5-74521b8deac2\",\"type\":\"AdaptiveTicker\"},{\"id\":\"4c9a1566-0f24-4bce-acc1-7b3f5405ce6f\",\"type\":\"AdaptiveTicker\"},{\"id\":\"69efdf99-08b1-4bc5-88cb-4f57e561a79d\",\"type\":\"DaysTicker\"},{\"id\":\"b4c27b8a-6d01-418f-902a-fab429d87bc8\",\"type\":\"DaysTicker\"},{\"id\":\"7b2dd664-bea4-4a9e-85a6-f73bbfb64f63\",\"type\":\"DaysTicker\"},{\"id\":\"7de7a4d6-9aae-49f0-84a2-0f2d8903bae5\",\"type\":\"DaysTicker\"},{\"id\":\"691bfa1c-5616-42ea-b5cc-bc573f5a1d53\",\"type\":\"MonthsTicker\"},{\"id\":\"be7288f0-c580-4ff0-a6d3-f9f67f29656b\",\"type\":\"MonthsTicker\"},{\"id\":\"64e57c38-3ed7-412c-8ea1-d8150a09b89f\",\"type\":\"MonthsTicker\"},{\"id\":\"119564c2-1379-42f3-9bf4-28d3fd6f2ad2\",\"type\":\"MonthsTicker\"},{\"id\":\"b0b32cc6-e4ca-44b5-9823-f9e3685b6541\",\"type\":\"YearsTicker\"}]},\"id\":\"9bfed30b-95f4-4aa1-9b68-06b90052cd0f\",\"type\":\"DatetimeTicker\"},{\"attributes\":{\"axis_label\":\"US Dollards\",\"formatter\":{\"id\":\"7aac4c6e-f9a7-4ceb-98fb-63d4b18f1c28\",\"type\":\"BasicTickFormatter\"},\"plot\":{\"id\":\"f76db3ae-1fc2-4215-9c3b-9edec7f67f99\",\"subtype\":\"Figure\",\"type\":\"Plot\"},\"ticker\":{\"id\":\"9191666c-9749-47a6-b8a9-debf3f6564e7\",\"type\":\"BasicTicker\"}},\"id\":\"50c6d097-6f3a-4179-a6fd-7a338ec05d25\",\"type\":\"LinearAxis\"},{\"attributes\":{},\"id\":\"9191666c-9749-47a6-b8a9-debf3f6564e7\",\"type\":\"BasicTicker\"},{\"attributes\":{\"dimension\":1,\"plot\":{\"id\":\"f76db3ae-1fc2-4215-9c3b-9edec7f67f99\",\"subtype\":\"Figure\",\"type\":\"Plot\"},\"ticker\":{\"id\":\"9191666c-9749-47a6-b8a9-debf3f6564e7\",\"type\":\"BasicTicker\"}},\"id\":\"4dac7cc5-61ba-422c-b61e-9716a27f9b1d\",\"type\":\"Grid\"},{\"attributes\":{\"callback\":null,\"column_names\":[\"x\",\"y\"],\"data\":{\"x\":{\"__ndarray__\":\"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\",\"dtype\":\"float64\",\"shape\":[1260]},\"y\":{\"__ndarray__\":\"2/ks6V2qAEJSuD6BzoYCQoCVMd7J9/pB9GwerGbC9kF+HcyPYrDzQTMzMukArvtBg8ACAVnG+kG7uBmemYT6QUcDdp38LPZBs3veV0t58kFF2Bx3XpHxQTvf0z2PKvhBRIuI6LdfA0KJY7MDC/X/QVdbLyYCmvZBnMSQzsJW+EHWVjy12Gz4Qeaueqzx1PdBTmKimNYG80GgiThsIPntQUFgumfJwPRBxLFmN5Tu8UHEIHincHbzQWdm1vmEBPVB3Ebb4NJs9EHcaNDuwu3vQaNwvXZofu9BnMTKd1BJ9kGKH7NHZsn1QVFrWmA7FfhBu0nMrgSH7kE2q8Qq9vHrQQPneso3Yu5BB85h0HyB7EEtsqlZfU/rQVfs32Tih+RBBOeLh/AH8EHHSxlibyjyQRb72yVjQfhBjgZwmKuT90Fos/5yBdfuQdiBHYE92PFBiUHvSxAw8EEs1GjUHff7QcKGJ5lvgfNBuB5fA7T390EPCzniVbjoQfOObxzO4+tBHVqESqgq7kFz10qXaCfyQaMjCVymxOxBj8JhOEP/8EEwTH4s6RHtQem3Vd5uNulBLbJhKtur5kGpE5BRauDkQdbFLV9UCOdB7nx/BmLX60Ho+5lGO5nlQT0KH6owm/JByuVcZ+DJ/0HQs+cqV4noQYcWjUbGhOVBqFdKNkUW60H8OogFNBTxQVg5zqWOy/FBP1f9T8fr5kH7yyQXF+PuQX9q5HB5OPJBTmItsHYe80HsUZjTsArxQUp7G7k48exBtRUbmJXK7UHP1cLI/eD0QcL1ISspZApCMJkOemgTB0K5ayB4J+39QWHl2zdrTvZBQII+C8XF/0FokaL+hwX2QZHt1uHRqvRBKxhFh34P7kEofmgHqVfrQYtsmrgFWPRB9iga3vZn+UFTdC5fPIHyQe/J49v13uxBAADwDylI8EEtIUNx++fzQXWTeK+IEPVBidK2y0Wl7EEBADzsteb1QbkefWJ+F/VBOIk6rw2FBkLFj+JpIr4JQnZP3sICaPdB3gInOgMF8UHx9Fg8UDv+QRDp4hDWS/ZBZ9U3SuXx+UEGgdbDpmX3QWTMeN7iBgRC3pO30QHiBkK5jThDscD1QeeMOJAPs/JBPU7TBXU07EHP9ysoh+3qQQ3gS5DCWu5B6Pudeb0j9UGq8dJTOETxQeSlmwIJIvNBVcEwb1Kr7kG+Ugo38KfyQYXrr2PKGPFBL0ym6BD98UF2vhXzm73wQWUZrvY4MfBB0UTM8azi70E2q+SYfJbzQVMFfUgu4u5Bzsze/6Nm70HZzuXzASXyQfhT1TexePlBJXVyVDkJAUIJrBqdBTb0QTeJLOujHflBPgoZbozN9UGRD4A/gOUBQvLSnrA9KARCexTA/zjQ9kEGgbRgRa/xQbIM8ZH3ivFBumtT5HCg70FTdHGMTx7xQWkAv4byuexBCtdfdgWd8EHcaPrepPLxQRx8vXA/Je1B7ut+QGA/6kHvp9afQFnpQYcW2sJ/afJBikHsEiCa9EEBvAWKjVzvQcPTTaeJzOpBrWk6PTOw6EE/Nauh/NrwQRFYeVOVtexBNBFE1uyo7UEMAiu/Z236QXnHIDs+fvhBlUPN1wfW9UHRIgtHihMAQlz+z8dNhv9Bam+0pllZ+kF8PwLPDGD/QV1LCE3TzfdBFR32YYNo9kH6frhbBG3zQcBbihX47PhBKH6mVeQl8kHlYURP9Mb2QcKGf8llcvNB9ihqZ9J/70ETYcSCLTwDQiZ1nTr9kfVBHFo+xEKT/UFqTfFPbqMBQka2GURBe+dBppuUl3Nm7EHcaOxAtzvvQU3znihHXPFBvsE/9Yjs7kEyCHrQbQ7wQekm1R/sQfpBorSjhiPC+0HgLVa9Ei71QZLt/Vt9W/FBYFRcuaKE8kFxPVopLBX0QQ6+EImLF/lBZ0TsQ/CW9kHChht0Vxn7QWMQYGF2dO9B91MGZdzx/EFVUt+Mq0z2QcPTvfC+7flBe/Kwq866+0EvTPMC9jj9QRIU/xKOmQNClSVQ+bmuEEKKsKlQbSP/QdiSwYQZ8gRCY13gxjHB/EHdJEbFner4QfvtlanBrvdBZMwhUrTV9EG7JyxmLGvwQecd+S+hK/hBsi4uEwa39kFqvAAqUdDyQe84bcnQh/RBCyTADbnP9EGutt54AYDyQWx4ynDptfFBheuVO5L39EFz17I7qDD0QaRwCPL1MvJB16MwaUr28kGlcJ2PODXuQesENBC2w/FBC7XmC5fN80EtsqZCAVT4QVBr6jtRSO9BMlXgu/Ye8UHeJGwmGXrqQe7rjDn2eehBEViDTU8z7UGPwpG/KZLnQdDVkHk2sfJB30+Fye/B6kEpXJxUyPvwQdIALjaQ6O5BseEJF4Ia6kHYo2YM9qrrQdbFpSxlp+1BuR5/tvpc60HeJNNR5Mb4QQTFmELA0PdB9P2wfZwa80H7XI06txf0QZ7v/yTgou1BukkCJ7W96kExCLR/wXvmQdV4/4Z6AetBTmIqID4k6EFlqozal8HlQcP1yVhZLfJBLbJdMD7X8kEWjBqiV7TvQRsv0TFZJ+tBGi8xJfgn70Ej2y3mLYvxQRkEwHonqepBOInuM9gj8UEHgWmcMLTrQeeurftJivJBmN0vVwsZ6EEubnvPq8LqQXRGgr8RvPlBsJR/grjJCkK5/APIs7f7QRsvDfXCsQhCp3mL9qbQ+EHWRXOCKb0AQuGcHx687/FBsb9ER0Ev7EGJQaSuD2z1QRZINWifpftBY+6qjCvO9EH/srhCA9TwQfyHUBQFOPVBgnM6hMBt70GjIyWo4JLnQavPHazYj+hBchvuuWPk8EFX7MWMhIX0QTMz05Xa3/dBTDdVKNSl8UHl0GYC6K/tQYtsU+S1Ue5B7XzHqea48UGamS6Ywh/7Qb+f0i8ce/hBzxlN+wy6/UFrvO5/Mi8GQjm0oS372vxBVg4l2FY190F+HcjkLeL6QYLiB1zKcPhBpb1oT0oe/EHk8rOOqZb4QSPbj5mVlvRBBvA2aMbW7UGASPjZ9pTxQb+f+m+IUfFBGi+lml3R5kFOYn62jQzjQcxd8zrmf+VBvHQ7y1O25kFHlPBY6+r/QY6XWp6vnutBJlN1IZ6G6EHCF9RXPS/nQXL5AQAxpORBOgFKlzN+9EEehS+BCwnwQU3zDr6O4OhBqKTifqSE4kEpXH+iw/XdQcrDGF5O2/JBPL2Y0ruj9UHy0t34MzDoQRlRejVGP+pBGy81fO+K5kFOYoBOO7zsQVdbkdsmUO5BH4XyZSul8UGX/1rZYY/yQfH0nu3UbPBBFa7PEkaM6UGMbJSfQjHyQfW58q9zbP9BXW2RZQTh7kGKsEP5BYztQUp7mOdcD/NBv5/kxMiJ7UGitNXsNYzmQQAi+amz6PJBbecNbRw68EGKjuTd75TqQUXYN3tLg/JBEhQ3hUR76UE6IxJhuN3uQZEPFIV1vetBhlpbdaaP6EEJG27MBa/mQeF6FID5q+VBzH9EpBYs40ERNvVstsXwQZlMfWAEf/BBhxZx5bRl+EFZhqCZo4jyQQwkdMvZjOdBFK53PExP70HeJBiVMJnsQWlvMOxyZOdBcF+0bQy08kHEIHZzknr4QWezKKAm+O9BbcWC+m5Z80FPwLJgdbIFQjj4s/1raf1BcD26dU079EHFjwkNzePvQZcuovp2QxBC5BRd3C/QAUJUUqOeCyL2QZ88YVhZyfZB8Kfu5qrK9UFCz9zFR5n3QQispMhzpPVB002yMc2N6kF56VZERgj5QaUsYa7Up/JBRPqptMDB9kHWxW3Q+2j1QSCwkLLMIAFC/mVwX2z59UGlTshLF2zxQXctOH55ePNBzTtwnNDb8UEtssW+HK/wQYtsM71qSe5Bzhl5j5rQ6UFdjxTnhRLtQWsrrDscPPRBw/X05ZNV+0Gt+mTUf133QaRwpcHJs/JBheu/Nkb+9UHD9RhZwzYBQoC3m//ZSfhBOPjKwmJJ90GNKGXu3Qr7Qch27r4W9ABCcaw7PMqV+EEtkIBHFQ76QamC/Z9BUPFBeqU++Ogh6UEsZbvsg/DxQTq0/hryxvNBt2LdQhhr7kGe741v6NvwQY/CN2NpAPRB5/vVZdGT70EgsJ5kjIDsQRiVRoMes+pBQmDPb03M6UEQ6dOwI8rkQcGohKVZJeVBH/Qz8G1X8kFYOWFf0JX3QRWuMjiOq/FBUwXT4AS38kEuIR1hUO/xQaAajw243PBBvVK4GxS68UFJv4lGvGP3QY9TTFPsxPNBmG7ymdFu/EEukArrvRDxQaW9fYbUuuRBB/DifLLvAEKS7SAJweT3QSPbOYujiPFBObTIl1kZ8UGq8YrcHfTuQXsUxPaQw/ZBf/vGa7Ah+EF8YbhmtYXxQbTIekgBQvBBLNSwLamX9UGu2CM1sIz5QS6QXUxhyvZB4C0efSqG9EFPjYcrY1j3QdnOXTOtWwFCF0jeKofq8UFWnw3DYJPkQQr5VMjjyNZBs+ov2gsA60Ge7xcFMRXmQRkEzAMNnudB+g8i4P4M8EEbL0WD9m30QXbgcc0u/fdBV+zbji2O+EEVjDrTzFruQZmZOrsdVPdBBOeNGwIg9UHTTS7YDQ3zQQ5P95LC+PlBEHr6mhLh8kEVHfkZ4YP2QR1apwECOv1BBqOZiL4N80Eep4ZBkrDyQe5afeGfPPVBayv2VO9v8kEl5JTOaRf2QT/XO+v+UAJCFYzLbg2pDULAW8D0RaEBQl66AWvVOgFC16NEn8wj+kH5oIKrTaL1QeYdVRHgdP1B3SSGFcHd8UGh1szGAVTyQW40IU+lavBBVp/hPrit+kHrYvsGEDIAQk3znWebmgBCjLm/VIRR+EEUrpVr53b8Qfs6d/i9X/RBrK3PGALs8EECK3kgiFn2QW8SJ0RRpABCtvOpXJQhAEJ1Av/Et/YAQuGL06kn/QRCI0rqfOkW/EGTOpWEYuT1Qcnl186yP/FBpHBtDEu07EFaZHcF2TD5QfypWUsKQgBC9A6+l+fXA0JdSzLXvTr+QY0om7q9tv1BTtEC09Q49UEwu4BcypX2QZDCnfVDnO9BT0ATPvja9kGync8vEJH9QfUoxOPsl/RBTYQtD8l+/kFbsaPbEOrwQZ7vp45+V+1BRGmGFcx49kGTqVmHFdf0QdO8GuKVL/FBtvMvNZL89EGEnpb1e3fyQa367lLhy/FBbVYTh4F57EG4HubFjLPwQf5lF8TQHO9BcM5pryGI8EFQjS8d6/3sQfMfy96lAvJBz/eUOtxD8EE5RZGz3LvmQSZ1WuGl5ulBYcM3YMA96UGIY8Hwqtr2QZzEns6jK/VBXW0r3TwH7UE5tNQaqBPxQRri7O5X7fRBzcwYgCN09EHMf/IKf6wGQgAAxuycXwtC9GzhwzbA/EGKsFFRKlsCQi3UfAuymvpBYOVmqmAj90GL2yiX8tr1QWznsYduzP9Bf2rSTfx880Eep6ZK8Rn5QTJ3/moRzfJBE/JB72129UHLobFob/XuQVYOLTKHo/RBPE5HTaVr8UGoxv3AjHT3QYXrOcEwjvRBwMqhdKbJ8EHQs1V7r3vyQbWmRQXHZfVBqvGKCSY5AEKaCDejt231QSEfMnIWruxB8YVVgOJ490HSkdBXKq/tQQbwfIwB/O5BEoO4kKGM7EHu67I3d5zxQT4K97J8OvBBEOll5ePV90Etsi37gkz5QWZmRs0p1vFBqDXBmw0d8EEHX1BC35vwQU5itqOgxPNBJCjAxjJ17EFJnSIqraztQUjhusIrCPBBXdzMaO+G+EGUGJh0ksLuQdO8wYp9OutBNl6w4VAT+UGPwhWMGtbsQetR9DrNxvNBH4U7aDCt9UE0EXoAa7TzQbUVV2j/G+tB1Vb82zBd6EFW7CnQhQnpQWdmETuS5PRBQxzlEKJe+kHswMC06bQAQiNKQej7x/pBO9/32x9w8kHpJtfp+UHsQZqZeacfOO5B1ee2E1p78EFANVof6y/1QUi/nSQFi/tBat6GIGPEAUKMuYSU9JcJQk8e6k3HmfZBYjLNxQCW8kFzaHE+FVPzQYzbYkxSX+1Bp1fJlhge8EH+1MgSByTtQYXrdZkpa/JBV33OSGRY/UHXo1CrxDEJQpjMJt8bSgRCpHA9l8Op9UHJdtqxA8fvQe7r1ZwrZvdBLEN81A2YA0JI4e4X4tYEQonSg5PV4PNB76eaWrK08UHJdj7VeAnxQVg5xNMjpOxBvp96kYrA80F7pbTQQnL7QVdsRUdIIAhCrK2Ygg2/DUIFRXjR/hwDQspDXWK14AJC+FNrgff9AEIhH0FvGGz1QVTBco0bjfZBhxY1ny9x/UF0JOeEgrr4QYlBsHu75fRBCkbQAEpu80EldS53X+j1QUCkJcMNpwBC/yGtfWEu+UGUZcIrxEb0QaHWywS97/dBuB5vasns8UEt1Kh8W8juQRKlB7Y4+vlBt/OTU5v5/UGJQU6IXpT0QTLmCbpsTvRBnYDeJe4T7UE9CippgYr0QetReP3d6PZBDeASKeXW9EG4r0OiUnX8QX9qy2zzE/pBkMJRWY3q+EGTy+kpNcf2QXDOyhSrg/RBc9ekAa9X80HXo7QrJm3yQdCzcpWFI/hBku1cZcwK9UEFxSdb1C/oQcgpClYDSOpB24pJqMNt8UFqvARDMfrtQSQo4HA2/e5BhzjOEfqm50HhekcwmNDzQfT9sNZJIPFBns0pkZUc8UHG/kgK4iT5QdzXq3zAMvtBR+H6uf14/EFv8AH3XiUCQulIKLL69fVB1Cvjv1P79EH9h2JwdcLrQfs6cNAP2PNBKVwTPSF680F/avzFaxXxQc6IllOQk+xBLbIVvMcs7UF3vievg6n4QVfsz6X1wPJBaQDHPIXj6kFqTRQhI2LyQeC+KvUAFe9BUB6+fChu5kGxUC2p/I3zQSPbhaCVXvJBcF9Xqc447UEXt5F7AVPrQdlf9nX9LPJBTtF57tkI4kGoxrtA4fXVQRKDDCxhjvBB+6kdxTQ37UE/6I0Y7rvrQQg9beT+GvFBwcofeqqQ+EFWn9fRVBzrQSlcWwCL+uxBrIssw5Ql80FNhH9ocz7oQWUZowB09PJB4QuNXecd+kFmZrcUewv1QT0KzI++XfZBSb+Dd8ht8UGJQTZo4EMCQgAAuuLHPvJBTfPiSzoe6UG62kKBwlbpQYtshy2Z/NRBheud69xg5EGDwDj3QQfoQQkbqELAVONB0bNxFMzD7kEgsKaM93T5QRZqfdrpd/RBJLkUj7if+EFeS1wSNvD7QXKKTtgfhfhBvjAEUWyB8UGn6Fnp+ozxQZoIY9SZuPVBaJFtjbJ09kEDeOxZrbL7QRIUEv9TVPJBy+553hkC+UHBygSZSPHxQRue3K5j1vdBH4UYsbBl8kHsL/+7htD6QWdmJMyTQAZCAACnQoC28kEkKDbAtWX2Qcgp2OyeNOxBl27eHO426UGcolONVaPvQd6TFx1FH/BBLbL9o85Y70HNzDnAzm7yQTq0NCcYP+5BqMbVod+r7EG9dPX5wNnwQZ2iZ5fEPetBnzxYnsMG8UEFxQU6O57vQRBYLT23+upBRUdEb+tm6EHuWtbMxtrnQZOpzluhueVB46VZK5kG6UFfusVjfSvjQbFQC4IULuRByHaE3h916EGJQfEL7DLyQc3M3DLcAOhBeqUEGz7x6kF7FJIusAnxQUw37QyXR+pBehR8h0jn5kFAEz0kyMHjQTOirDF5WuhBVTC646Mh5EHyQYMpG3fiQZOpCij3GO5BfvvQFpwn7UGQwmU6RSjqQXicedzB0PBB9P2k++8B60EAAJbXrN7oQarxuKgAmONBne+ze7TV40EZ4qiJGlXdQUQcg2yZH+hBhsnkME7x8UEHPe3vPUTkQYXrTQbpcORBDXFUTsbQ7UEsZclYo/bkQf5DykI4C+VBAACE+QXL6EGmmwzSpWfiQRe36XIcB+dBPQq1NSua5UH/shsliMPqQYPANOHXguRBaQCLypOE8kH+Q+b0Gnr3QZEPMPFQ3uhBDi0uR/yN50GF69clJwToQVVSDaFYkelBtFmNYDUo5UGBlYSpEf70QZF+Bj1UIQRCGQQOQloC/EECTeSAQhL3QdSaxqYpMvBBnl5LRyNt80EUrhMBW8HrQWZmTrbILuhBN4m9KspH7UEQerY90BXmQRBY0fzjveZBeHqtIv8y40FOYmqRFOn4QRkE3Nv2Ce1BBvDmG6PH9EGyUI/fcbLvQeVhYSsYvuxBMzOTPQy55EHWxU2ZfgnmQeALaeg6fupBBcUDGUzc6EGoVyLTfdHrQSZT4dLmb/RBexTO4Yla6kFq3il1u4fuQWq8CAPYweRBuR5l88hh7EFb02y8nyvkQVvTzOn/meBBFa7ju3UJ4EES8pkf58/dQSPbWULvJ+NBrK0I5iSm5kH0/aijkL7qQWuaJztBfeZBhetbB3mr5EHl0FIkXhXmQRfZkhefA/VBysPkRiWm50EIrHjo/qLoQSv2X8flLORBjnXB6rZj5kFCz3JyaGr5QQRWHiBnAu9BWyCdpI9a60EfhavTqOvoQQN4Q0TnwehB+FNrD+4I4kFOYphflgTjQa5HYYiMXeVBseHJNOlt4UFoIugmETPkQQ4tUswLreBB1eeEbIwD4UHxY1ofCiDiQX2uVHbDyOtBDi2qATmD5UFYys5sw1PqQeJYR1l8KeFBz9VWMwX74kG2Yq8IR3/nQbra5lu+L+RBX7o/Bvtn7EGsrWYE3KTzQawcwKfbLAFClfa0POQP7kHImPvAouLkQef74xcdQO1BZvfMmTaI6UE5I7wu5RbnQfYojGM6FeVBEHr2ZBer70GWQwMKYBPmQWBUIq7PzeRBK4eEMszW4kEAABDIeI3lQe7JE/d1Vd1BeelkY5ST5EGgGi9/U9vqQSPbeVIDH+RBlUNlFWxs4UGR7UwtEyjkQebQMss5W+RBvw5cV9LP4EFSuHRwI5XiQcl2HgM7m+NBLGXNgOmS5UHC9ciDMmHjQS2yiyIkJuNBqMZ/krjd5kEAIrEisbTkQQAAGNeU+uRB844hXbII5UG4r0sXOq3wQY0oc1Q/UfRBT6+05kpx8UEOLaZuV1nxQa5HE/8KYvhBTYTS2aHOBkIm0z4shgUDQoof12HzrABCPL1Aevtm80EAAHg/wXrsQV2PlMbus+1BlPaG67fg6UE0gL5qDX31QWpNPzZAf+hBayuuShI45EGQwjerS4roQY/C8bvxP+1B5x0blH7h7UHrUbhq3r3hQVCNNZsLauhB4C0q7/me4UH0/YyHb9DnQcIXSvulL+RBXLFfvZaN7kEpy44Lkg77QfmgP3mtBfBBY38FOjbp7UEubnvAW3juQf+y+8xhLeRBTtGVc8H05EFeS2DUXgzhQbdi6f7phORB5dAA0eWl40GzeyB56R7kQXWTTHXUrPRBFGEtekvF+0G8dE+ZWL/sQTSAL4lpSO9BaW8EvFPL5UH2Bh9HFMDxQdnwWkRq+OZBrWlqsxqa5UH/sqH8uILoQQAAAPzjQOpBDr66sumr40HtDUnbdfX3QTLm8vbNfPZBsHLs6nEJ60GIhVpW4MDzQawcsjLXPOlBesdJ6bOh90EYJp1A6S/mQc4ZPW2S2eZBC7VwpOLg50H+QwYfKzPlQTQzu1VIR+ZB8rBoxtW80kE8vfZMPCjmQQAAoPDHOOdBWDncV+Mv7UGIFs1vhaftQSKOZ05/SuVB9ihs2rJZ60F+HcxHnwjlQTC7xUT5UuhBMEx+P9sp5kFYOYgI66DsQRlzPcKU0uVBd766RhVl8kEIrDBU06DsQWDl0Ob5rPNBv5+Ow+PH8kHiWF2EqKnnQaabPARoTOJBmG5GJOZU5EGx4U26SSfmQVioJfwrQNhBIbAKTyRW30GppDZ7fNPhQTTvfMktpNlBH4V72dbe6UH+1Czy4mnoQdej8OKY5OFBNBEgzlnm4kEAANiPS1frQeY/LPgPKu1B2j15yzlH5UE9eVqVdCDoQaRw3WSqludBrrb6TzSz5kH2ly8vYy7uQcnlQYVtx+RBGQSQcxVk5kESFFftJ5HsQUa2LyYkVuNBPuglQfdV5EEv/z2lKwHtQdc0XzI3dOdBj8L1ECZQ4kE7AdV1mPvqQZCg/IMTzfVBlUOTuMhSCkKWQ9MUVKTvQZ2iER8ZGudBZYibzy6L6UH2KBXJtFbyQdxoAIyjLuZBvw7SIdeI60GdEUGwuHHjQe5aVEAZheZBBcX7KL9z8EEzMweT9bPxQS2yn2hna+ZBS+r6ytkY5kGXbkJdWJLoQaCrPc5V9ORBxNN7PyXR5EGDwNK019PlQb7Bb2RMWORBSOGyBjmY50EQWEIm+aryQYEmohHmtupB5NBeSn0d5kEeOA9cezrmQdUJVrNi2uFB+zpwb3IS40F5WKgvNonmQZ3v64/yA+RB0bNDqHrJ4UFKDNakhTbfQWyaZzLJd+pBn6v5GG/Y40HXEqLsm4f2QYv98ebPWeZBYcOrTK1F9EFmZhwQ0NLqQYqww6KUB+VBXf5jjAga50HtLx+5I1zoQU+Nm8WumfFBjGyz+/ja7kGM24gMPmPmQZ7NlrmTt+RBqcY7EH4Q5UEc61aR/h7lQSTbUUlpR+1Bu5b4eclI5kHyQcfdgIPhQTWA+yq34eNBDZNp7M2O70EAAIA0LyrlQXjpJtI8cOJBN6uSu+k/4UHPiPKwUXHeQQAArCE84eFB7Q3e7tlc6EHxhUk1+hLiQZ2A+Ho1DeJBke1YFkQB5EEbnry2uB7lQfMfamWjDN5BbAk5bIf65UFF2KXTLhDyQUQcZ1ufiPhBxtxVZRKl+EGbM+LLUx7pQVG42CRl2+1BTDcPhT1b+0H2l4yyChn2QSjttcUKAu1BsS5a2vPm7kHT3phdg7LyQfoPvQBO0+1BZMzN6Kb05kFOYoZNvhb8QX0/w40T2/JBRWnfLE1k7kEfhQFP4wvqQZf/zpHyj+ZBmZlxPGG05UHmjBTyWszlQb3jEg6VzuhB3uBjwlLH5kHImLviPoLrQdob/JWTgeJB5dBMtirL70F0tZ0PubfsQfw6aKEnSe5BFD82OgIc6EGAasyP2UHoQTH32tknzAFC002HNzJcA0JYObOAUnHyQaMjWfDK2vBBA3iiYzAX8UFEafPlTWL6QekmpXg5ifFB2hv8q7OX6kF0tftbjtjmQULPUloDfuRBf4w7dQIX80Gmm6JDjZfrQQy1Hv0qNupBuY0Gdn+350HLEDeXfKrwQdbFsfvVa+hBQxyrX9st3kE+eRz3uOPmQb4w3UQcXelB9pdd47dj5EG3YueNMIjmQbUV887EM+VBn6vtDrC16kHdk9XoqWzrQYtsmbsXGeZBW2SbrUQ16kGPwqX7JsDjQezAq6dxRedB9P0MGL4X40Hjpf+j2A3tQcUgUPUnE+hB6pV6nXY15UGdopN68dXhQRsv64FyAfJB+1yti/Pz4kGF61HZFb3lQe18o3YdwehBrkfhnA48BELHuliJ7QvvQc07Fn82rudBoBpnAWaU6UHNXfubuFf1Qe+nSvwj/+5BTYS05AJu90Fl95RnqZLuQcvuAS2KJepB7zjtHmWa8UF++6KXBXfwQZhuqBpITvBBhxZTI73w70G6/Of7ZabuQY6XVBXnhelB5q594Dvy5kEVro/NulbnQX0/y8nTHe5BCvnQoPv/7kHLoQWa2sbxQQ1x3BO5d/BBdk/mxkw98EHkg2qYvx/kQa7YJ3qlsvFBqhO8OXTr6UHYgatLSyXqQXe+KHlfx/BB8tJdPuva8kELtW1Py1IFQnUCS8krgfpBqRPsB4nO60GkkvIrjAf9QUw3da4VlfBBRkfiGm1s6EGOBtixJ43+QfkPZCqARfVBVHRnODcx+kHJdjb/UrT4QS2yK/YywfRBv5/kVFsV7UHBynvRZvDoQfCn0nEh+O1B3nEW8NFD5UE2zasru4niQQAA8JK04eZBlWWk9QV06EEu/+3J+vzjQaikrq0iveJBkDH7r2EA4kG0yFadcJHjQRWuNw9ameJBRUfSNIoH40Fb09yOpoPsQR+FXREviuZBdSTf93BX40HV5xghP474QUI+/KZZsutBgLdaOohi6UEOLRJTRKDkQbYVG1xqhuhBcazDKzbJ40EIrPxuvcv6QZoqoJsNjftBvp/GdL+G9kF4C5b+5sD0QbPqFwWnuflBn7wnSofwAkJ88n5uMJD2Qa1HE3C7fO9ByjLMsrLO70G0WdF2CPryQZqZ3VyvS/BBXI9CWyLs5UFHA4RiJ4LvQdrOC/OQSvJBoYmQjbQC7kGiRVZBUKbrQTervOgNg+RBaZGsrs4k8EGamaw6TJzwQQg9n+gXNuJB3k8llBXD6kGpgoGCbPjwQZAPxn0hM/pBjLl9TjZ6+kGASC+Ubzv5QS/dBExQgPRBqYK3bMY28UEAAACanujxQc2qf5fKIPBBidJSjDZa7UHXgWud+Zj2QdV43XmMuuhB0GblF3Vy7kHD08dO5CrqQd9PNip07flBZvfce+tB80FB8ZtyXsTxQVYOdX4JX+5B+u37ecg060G62pJwXTvlQYy5a0RPAPVB2az6fvk260FsCcH2y+vkQeqVWowYU/BBrBzwbEdV8EG0WeNoqtzyQaMj8/r8zexBBaPmhE+57kE5tPhW9ZvqQbtJ5Nq06+tB2c67Oq/87kEExTP1pkfoQSUGAShUs/BBv59tmLpT80Fqb9y0htn2QVg59PMFv/RB2T0sthl49UHCqMidWc3xQSPb/Y/FePVBAADF3EqEAEJm95iNUF36QQ8tV/1p6PhBBz0tTpiO/0FYOfM6tIb8QbpJlp/4LPRBOpIJP5Zm/UGF64oJUcgJQlpkyHm5HQVCaQDAXKWjBELufGPkUIz+QV5LVKQTT/9BcT3KWOmWBEIfhbVdwW4CQlK4ds5T7fNBKVxDyplX+UHsUbrpB3sAQnsUsqajzvlBAAAwBte49UGPwil1T+H3QQAAII1y6vNBAADAWysb9kHheow3fHH5Qf//q0ev3vlBw/VIc/4R+UEAAOAatdD/QQAAGK4RPvlBhesBBEm18kHWo2AbC1DvQY/CnTv+q/RBXI+SQ29X70H1KAzZVZT1QbgedbKKzfVBexTi56U/9UFxPUpeuIXzQWdmFl/mRe5B9ijcKdsh+kHNzMTwmdf1QQAAwEOsp+lBNDPXv2Wk90EzM3/iKxn6QSlcD9XJNflBH4X77ocp+EGQwk0Mxqn5QZmZuXqe1/lBZmYOQwwA+EF7FD7LvFb3QT0KX+ZT/vJB2KP0OYkf9kGamZk/dFbxQTMzo2gj9fVBZ2Ye3t5h8kEAAFTywnfyQTMzM5DW0exBzMw8z5Oy7UFmZkLXl1rwQczMjO1SROxBrkfhb3iq8UGkcL3D/3/rQQAAAEBQaPZBZmZGgTQ3BEIVrrf0S3r2QRSuH6Z1c/RBmpnpzo5N8UGuR/HIWhvxQRSup+aJj/VB\",\"dtype\":\"float64\",\"shape\":[1260]}},\"selected\":null,\"selection_policy\":null},\"id\":\"dc62f1d8-310a-4fc0-844b-23aa0876de86\",\"type\":\"ColumnDataSource\"},{\"attributes\":{\"bottom_units\":\"screen\",\"fill_alpha\":{\"value\":0.5},\"fill_color\":{\"value\":\"lightgrey\"},\"left_units\":\"screen\",\"level\":\"overlay\",\"line_alpha\":{\"value\":1.0},\"line_color\":{\"value\":\"black\"},\"line_dash\":[4,4],\"line_width\":{\"value\":2},\"plot\":null,\"render_mode\":\"css\",\"right_units\":\"screen\",\"top_units\":\"screen\"},\"id\":\"ffcc1fe8-9f9a-46e7-80ba-8f5e3ccbac6b\",\"type\":\"BoxAnnotation\"},{\"attributes\":{},\"id\":\"a6cbc8c1-5982-4803-9f23-8aac262cde0a\",\"type\":\"PanTool\"},{\"attributes\":{},\"id\":\"60d1404b-9819-44ed-95ab-de8f05d87868\",\"type\":\"WheelZoomTool\"},{\"attributes\":{\"overlay\":{\"id\":\"ffcc1fe8-9f9a-46e7-80ba-8f5e3ccbac6b\",\"type\":\"BoxAnnotation\"}},\"id\":\"50b3c491-da3a-4fff-838e-053254bd91fa\",\"type\":\"BoxZoomTool\"},{\"attributes\":{},\"id\":\"b456493a-ca13-46e3-a6c6-9d0d88e63aab\",\"type\":\"SaveTool\"},{\"attributes\":{},\"id\":\"43604d67-9f73-4359-9490-af77b4cd3cad\",\"type\":\"ResetTool\"},{\"attributes\":{},\"id\":\"b3dfe708-ec25-4538-bded-3c76a3c3a48e\",\"type\":\"HelpTool\"},{\"attributes\":{},\"id\":\"053ca8f7-2617-437b-9550-c290cb7a4921\",\"type\":\"DatetimeTickFormatter\"},{\"attributes\":{\"line_color\":\"#1f77b4\",\"x\":{\"field\":\"x\"},\"y\":{\"field\":\"y\"}},\"id\":\"8ee3579e-74cf-4d3c-a6a7-908c62eefa23\",\"type\":\"Line\"},{\"attributes\":{\"line_alpha\":0.1,\"line_color\":\"#1f77b4\",\"x\":{\"field\":\"x\"},\"y\":{\"field\":\"y\"}},\"id\":\"4978e82e-19d7-4aad-a225-f80a2f23247b\",\"type\":\"Line\"},{\"attributes\":{\"data_source\":{\"id\":\"dc62f1d8-310a-4fc0-844b-23aa0876de86\",\"type\":\"ColumnDataSource\"},\"glyph\":{\"id\":\"8ee3579e-74cf-4d3c-a6a7-908c62eefa23\",\"type\":\"Line\"},\"hover_glyph\":null,\"muted_glyph\":null,\"nonselection_glyph\":{\"id\":\"4978e82e-19d7-4aad-a225-f80a2f23247b\",\"type\":\"Line\"},\"selection_glyph\":null,\"view\":{\"id\":\"c0602dd7-ef7f-4dde-89c4-205c80729e53\",\"type\":\"CDSView\"}},\"id\":\"11a086bc-dfd8-474a-a421-c77c4ad6711a\",\"type\":\"GlyphRenderer\"},{\"attributes\":{},\"id\":\"7aac4c6e-f9a7-4ceb-98fb-63d4b18f1c28\",\"type\":\"BasicTickFormatter\"},{\"attributes\":{\"days\":[1,2,3,4,5,6,7,8,9,10,11,12,13,14,15,16,17,18,19,20,21,22,23,24,25,26,27,28,29,30,31]},\"id\":\"69efdf99-08b1-4bc5-88cb-4f57e561a79d\",\"type\":\"DaysTicker\"},{\"attributes\":{\"source\":{\"id\":\"dc62f1d8-310a-4fc0-844b-23aa0876de86\",\"type\":\"ColumnDataSource\"}},\"id\":\"c0602dd7-ef7f-4dde-89c4-205c80729e53\",\"type\":\"CDSView\"},{\"attributes\":{\"plot\":null,\"text\":\"\"},\"id\":\"1bb7442a-7158-479a-b8f2-516d2b67e756\",\"type\":\"Title\"},{\"attributes\":{\"days\":[1,4,7,10,13,16,19,22,25,28]},\"id\":\"b4c27b8a-6d01-418f-902a-fab429d87bc8\",\"type\":\"DaysTicker\"},{\"attributes\":{\"mantissas\":[1,2,5],\"max_interval\":500.0,\"num_minor_ticks\":0},\"id\":\"7cfc82db-6a09-4a83-94c3-cfc08f7f429c\",\"type\":\"AdaptiveTicker\"},{\"attributes\":{\"base\":60,\"mantissas\":[1,2,5,10,15,20,30],\"max_interval\":1800000.0,\"min_interval\":1000.0,\"num_minor_ticks\":0},\"id\":\"13476b68-7934-4e23-96e5-74521b8deac2\",\"type\":\"AdaptiveTicker\"},{\"attributes\":{\"below\":[{\"id\":\"6d0c982e-fca3-4d1b-bb28-cbd6fec6069e\",\"type\":\"DatetimeAxis\"}],\"left\":[{\"id\":\"50c6d097-6f3a-4179-a6fd-7a338ec05d25\",\"type\":\"LinearAxis\"}],\"plot_height\":400,\"plot_width\":400,\"renderers\":[{\"id\":\"6d0c982e-fca3-4d1b-bb28-cbd6fec6069e\",\"type\":\"DatetimeAxis\"},{\"id\":\"00eef872-86b6-47d1-a914-99e468d1027f\",\"type\":\"Grid\"},{\"id\":\"50c6d097-6f3a-4179-a6fd-7a338ec05d25\",\"type\":\"LinearAxis\"},{\"id\":\"4dac7cc5-61ba-422c-b61e-9716a27f9b1d\",\"type\":\"Grid\"},{\"id\":\"ffcc1fe8-9f9a-46e7-80ba-8f5e3ccbac6b\",\"type\":\"BoxAnnotation\"},{\"id\":\"11a086bc-dfd8-474a-a421-c77c4ad6711a\",\"type\":\"GlyphRenderer\"}],\"title\":{\"id\":\"1bb7442a-7158-479a-b8f2-516d2b67e756\",\"type\":\"Title\"},\"toolbar\":{\"id\":\"8a762475-135e-4671-a1ae-81a06a255465\",\"type\":\"Toolbar\"},\"x_range\":{\"id\":\"06154789-94a5-477a-9a7b-304bd30607f6\",\"type\":\"DataRange1d\"},\"x_scale\":{\"id\":\"ab41bac6-9c2f-416a-a3f7-5f4bd7b3356e\",\"type\":\"LinearScale\"},\"y_range\":{\"id\":\"89809079-e8a6-4558-844f-39eb8197fb80\",\"type\":\"DataRange1d\"},\"y_scale\":{\"id\":\"f894311d-6e79-41c6-bae1-b574cb1af7d1\",\"type\":\"LinearScale\"}},\"id\":\"f76db3ae-1fc2-4215-9c3b-9edec7f67f99\",\"subtype\":\"Figure\",\"type\":\"Plot\"},{\"attributes\":{\"base\":24,\"mantissas\":[1,2,4,6,8,12],\"max_interval\":43200000.0,\"min_interval\":3600000.0,\"num_minor_ticks\":0},\"id\":\"4c9a1566-0f24-4bce-acc1-7b3f5405ce6f\",\"type\":\"AdaptiveTicker\"},{\"attributes\":{\"days\":[1,8,15,22]},\"id\":\"7b2dd664-bea4-4a9e-85a6-f73bbfb64f63\",\"type\":\"DaysTicker\"},{\"attributes\":{\"active_drag\":\"auto\",\"active_inspect\":\"auto\",\"active_scroll\":\"auto\",\"active_tap\":\"auto\",\"tools\":[{\"id\":\"a6cbc8c1-5982-4803-9f23-8aac262cde0a\",\"type\":\"PanTool\"},{\"id\":\"60d1404b-9819-44ed-95ab-de8f05d87868\",\"type\":\"WheelZoomTool\"},{\"id\":\"50b3c491-da3a-4fff-838e-053254bd91fa\",\"type\":\"BoxZoomTool\"},{\"id\":\"b456493a-ca13-46e3-a6c6-9d0d88e63aab\",\"type\":\"SaveTool\"},{\"id\":\"43604d67-9f73-4359-9490-af77b4cd3cad\",\"type\":\"ResetTool\"},{\"id\":\"b3dfe708-ec25-4538-bded-3c76a3c3a48e\",\"type\":\"HelpTool\"}]},\"id\":\"8a762475-135e-4671-a1ae-81a06a255465\",\"type\":\"Toolbar\"},{\"attributes\":{\"days\":[1,15]},\"id\":\"7de7a4d6-9aae-49f0-84a2-0f2d8903bae5\",\"type\":\"DaysTicker\"},{\"attributes\":{\"callback\":null},\"id\":\"06154789-94a5-477a-9a7b-304bd30607f6\",\"type\":\"DataRange1d\"},{\"attributes\":{\"months\":[0,1,2,3,4,5,6,7,8,9,10,11]},\"id\":\"691bfa1c-5616-42ea-b5cc-bc573f5a1d53\",\"type\":\"MonthsTicker\"},{\"attributes\":{\"months\":[0,2,4,6,8,10]},\"id\":\"be7288f0-c580-4ff0-a6d3-f9f67f29656b\",\"type\":\"MonthsTicker\"},{\"attributes\":{\"callback\":null},\"id\":\"89809079-e8a6-4558-844f-39eb8197fb80\",\"type\":\"DataRange1d\"},{\"attributes\":{\"months\":[0,4,8]},\"id\":\"64e57c38-3ed7-412c-8ea1-d8150a09b89f\",\"type\":\"MonthsTicker\"},{\"attributes\":{},\"id\":\"ab41bac6-9c2f-416a-a3f7-5f4bd7b3356e\",\"type\":\"LinearScale\"},{\"attributes\":{\"months\":[0,6]},\"id\":\"119564c2-1379-42f3-9bf4-28d3fd6f2ad2\",\"type\":\"MonthsTicker\"},{\"attributes\":{},\"id\":\"f894311d-6e79-41c6-bae1-b574cb1af7d1\",\"type\":\"LinearScale\"},{\"attributes\":{},\"id\":\"b0b32cc6-e4ca-44b5-9823-f9e3685b6541\",\"type\":\"YearsTicker\"},{\"attributes\":{\"plot\":{\"id\":\"f76db3ae-1fc2-4215-9c3b-9edec7f67f99\",\"subtype\":\"Figure\",\"type\":\"Plot\"},\"ticker\":{\"id\":\"9bfed30b-95f4-4aa1-9b68-06b90052cd0f\",\"type\":\"DatetimeTicker\"}},\"id\":\"00eef872-86b6-47d1-a914-99e468d1027f\",\"type\":\"Grid\"},{\"attributes\":{\"axis_label\":\"Date\",\"formatter\":{\"id\":\"053ca8f7-2617-437b-9550-c290cb7a4921\",\"type\":\"DatetimeTickFormatter\"},\"plot\":{\"id\":\"f76db3ae-1fc2-4215-9c3b-9edec7f67f99\",\"subtype\":\"Figure\",\"type\":\"Plot\"},\"ticker\":{\"id\":\"9bfed30b-95f4-4aa1-9b68-06b90052cd0f\",\"type\":\"DatetimeTicker\"}},\"id\":\"6d0c982e-fca3-4d1b-bb28-cbd6fec6069e\",\"type\":\"DatetimeAxis\"}],\"root_ids\":[\"f76db3ae-1fc2-4215-9c3b-9edec7f67f99\"]},\"title\":\"Bokeh Application\",\"version\":\"0.12.15\"}};\n",
       "  var render_items = [{\"docid\":\"528e0c9f-29e9-4a56-b7a2-70dc2b9e69eb\",\"elementid\":\"4d5806ff-bc91-4bee-bd07-8058d0c93c78\",\"modelid\":\"f76db3ae-1fc2-4215-9c3b-9edec7f67f99\"}];\n",
       "  root.Bokeh.embed.embed_items_notebook(docs_json, render_items);\n",
       "\n",
       "  }\n",
       "  if (root.Bokeh !== undefined) {\n",
       "    embed_document(root);\n",
       "  } else {\n",
       "    var attempts = 0;\n",
       "    var timer = setInterval(function(root) {\n",
       "      if (root.Bokeh !== undefined) {\n",
       "        embed_document(root);\n",
       "        clearInterval(timer);\n",
       "      }\n",
       "      attempts++;\n",
       "      if (attempts > 100) {\n",
       "        console.log(\"Bokeh: ERROR: Unable to run BokehJS code because BokehJS library is missing\")\n",
       "        clearInterval(timer);\n",
       "      }\n",
       "    }, 10, root)\n",
       "  }\n",
       "})(window);"
      ],
      "application/vnd.bokehjs_exec.v0+json": ""
     },
     "metadata": {
      "application/vnd.bokehjs_exec.v0+json": {
       "id": "f76db3ae-1fc2-4215-9c3b-9edec7f67f99"
      }
     },
     "output_type": "display_data"
    }
   ],
   "source": [
    "applePlot = figure(plot_height = 400, plot_width = 400, x_axis_type = \"datetime\", x_axis_label = 'Date', y_axis_label = 'US Dollards')\n",
    "companyValue = AAPL['close'] * AAPL['volume']\n",
    "applePlot.line(AAPL['date'], companyValue)\n",
    "show(applePlot)"
   ]
  },
  {
   "cell_type": "code",
   "execution_count": 27,
   "metadata": {},
   "outputs": [
    {
     "data": {
      "text/html": [
       "\n",
       "<div class=\"bk-root\">\n",
       "    <div class=\"bk-plotdiv\" id=\"3d1dd0e7-32c1-40b1-ac48-51663816f629\"></div>\n",
       "</div>"
      ]
     },
     "metadata": {},
     "output_type": "display_data"
    },
    {
     "data": {
      "application/javascript": [
       "(function(root) {\n",
       "  function embed_document(root) {\n",
       "    \n",
       "  var docs_json = {\"55419ec2-8975-492a-93f1-aa86cb69bbd3\":{\"roots\":{\"references\":[{\"attributes\":{},\"id\":\"ec8b8c4b-5794-4cc0-992f-4caa794804c3\",\"type\":\"HelpTool\"},{\"attributes\":{\"plot\":null,\"text\":\"\"},\"id\":\"81c6c244-84e8-4dd4-8bbd-e15a612ded2b\",\"type\":\"Title\"},{\"attributes\":{},\"id\":\"5a509ad2-463a-4a4c-9a1f-f5b7fd50042e\",\"type\":\"BasicTickFormatter\"},{\"attributes\":{\"below\":[{\"id\":\"80a44471-451c-44d6-ad67-ee2570ebc786\",\"type\":\"LinearAxis\"}],\"left\":[{\"id\":\"48adc9cf-498e-4bdb-9c6c-1f906f1b523e\",\"type\":\"LinearAxis\"}],\"plot_height\":300,\"plot_width\":300,\"renderers\":[{\"id\":\"80a44471-451c-44d6-ad67-ee2570ebc786\",\"type\":\"LinearAxis\"},{\"id\":\"d603d03a-2c01-422d-bf19-9efcd1c0df7c\",\"type\":\"Grid\"},{\"id\":\"48adc9cf-498e-4bdb-9c6c-1f906f1b523e\",\"type\":\"LinearAxis\"},{\"id\":\"832d24a9-9063-439f-8e6d-5c314b8809c8\",\"type\":\"Grid\"},{\"id\":\"1c28478f-fc08-4348-8bad-3dfbe362f22d\",\"type\":\"BoxAnnotation\"},{\"id\":\"b33087b4-d2c4-4a69-846b-ea5aaad97aaf\",\"type\":\"GlyphRenderer\"}],\"title\":{\"id\":\"81c6c244-84e8-4dd4-8bbd-e15a612ded2b\",\"type\":\"Title\"},\"toolbar\":{\"id\":\"4353cc89-fdf6-497f-bbd5-02f227fc756d\",\"type\":\"Toolbar\"},\"x_range\":{\"id\":\"0cfa99ca-8992-4929-8680-a37f33098275\",\"type\":\"DataRange1d\"},\"x_scale\":{\"id\":\"327c885b-1f7f-4537-aaa6-1e6ede2eda79\",\"type\":\"LinearScale\"},\"y_range\":{\"id\":\"5c3c0a4e-eb76-4937-9df7-ad57ca0df9b1\",\"type\":\"DataRange1d\"},\"y_scale\":{\"id\":\"fc320a10-67df-4fa2-985d-f71f84f2c8a9\",\"type\":\"LinearScale\"}},\"id\":\"4e8dd5dd-0011-4063-8135-7c36ca8d322a\",\"subtype\":\"Figure\",\"type\":\"Plot\"},{\"attributes\":{\"plot\":{\"id\":\"4e8dd5dd-0011-4063-8135-7c36ca8d322a\",\"subtype\":\"Figure\",\"type\":\"Plot\"},\"ticker\":{\"id\":\"823f8125-eece-4841-8f0c-68b9b921b66e\",\"type\":\"BasicTicker\"}},\"id\":\"d603d03a-2c01-422d-bf19-9efcd1c0df7c\",\"type\":\"Grid\"},{\"attributes\":{\"source\":{\"id\":\"fe589f31-44a4-451b-aece-156a50832103\",\"type\":\"ColumnDataSource\"}},\"id\":\"83c1f8c2-c6a1-46ec-a0c6-847cca79ec3c\",\"type\":\"CDSView\"},{\"attributes\":{\"callback\":null,\"column_names\":[\"x\",\"top\"],\"data\":{\"top\":[6,7,2,4,5],\"x\":[1,2,3,4,5]},\"selected\":null,\"selection_policy\":null},\"id\":\"fe589f31-44a4-451b-aece-156a50832103\",\"type\":\"ColumnDataSource\"},{\"attributes\":{\"formatter\":{\"id\":\"5a509ad2-463a-4a4c-9a1f-f5b7fd50042e\",\"type\":\"BasicTickFormatter\"},\"plot\":{\"id\":\"4e8dd5dd-0011-4063-8135-7c36ca8d322a\",\"subtype\":\"Figure\",\"type\":\"Plot\"},\"ticker\":{\"id\":\"823f8125-eece-4841-8f0c-68b9b921b66e\",\"type\":\"BasicTicker\"}},\"id\":\"80a44471-451c-44d6-ad67-ee2570ebc786\",\"type\":\"LinearAxis\"},{\"attributes\":{\"active_drag\":\"auto\",\"active_inspect\":\"auto\",\"active_scroll\":\"auto\",\"active_tap\":\"auto\",\"tools\":[{\"id\":\"a6dfc812-cc2f-4b9b-bfcb-fe9c48413116\",\"type\":\"PanTool\"},{\"id\":\"0d33e8b3-b1f7-4a0c-9c6d-fd1f019f79ca\",\"type\":\"WheelZoomTool\"},{\"id\":\"013ade32-a4e1-488a-957d-53574ec1d7a3\",\"type\":\"BoxZoomTool\"},{\"id\":\"5262814f-1789-47fa-81af-9e261be40a89\",\"type\":\"SaveTool\"},{\"id\":\"30e81189-b807-4045-9037-2483c7a691b7\",\"type\":\"ResetTool\"},{\"id\":\"ec8b8c4b-5794-4cc0-992f-4caa794804c3\",\"type\":\"HelpTool\"}]},\"id\":\"4353cc89-fdf6-497f-bbd5-02f227fc756d\",\"type\":\"Toolbar\"},{\"attributes\":{},\"id\":\"823f8125-eece-4841-8f0c-68b9b921b66e\",\"type\":\"BasicTicker\"},{\"attributes\":{\"formatter\":{\"id\":\"474e037f-e21c-4c11-b8c1-90ffbb55ff7a\",\"type\":\"BasicTickFormatter\"},\"plot\":{\"id\":\"4e8dd5dd-0011-4063-8135-7c36ca8d322a\",\"subtype\":\"Figure\",\"type\":\"Plot\"},\"ticker\":{\"id\":\"fee59819-c2b9-43c0-8547-c0091770c516\",\"type\":\"BasicTicker\"}},\"id\":\"48adc9cf-498e-4bdb-9c6c-1f906f1b523e\",\"type\":\"LinearAxis\"},{\"attributes\":{},\"id\":\"fc320a10-67df-4fa2-985d-f71f84f2c8a9\",\"type\":\"LinearScale\"},{\"attributes\":{},\"id\":\"fee59819-c2b9-43c0-8547-c0091770c516\",\"type\":\"BasicTicker\"},{\"attributes\":{\"dimension\":1,\"plot\":{\"id\":\"4e8dd5dd-0011-4063-8135-7c36ca8d322a\",\"subtype\":\"Figure\",\"type\":\"Plot\"},\"ticker\":{\"id\":\"fee59819-c2b9-43c0-8547-c0091770c516\",\"type\":\"BasicTicker\"}},\"id\":\"832d24a9-9063-439f-8e6d-5c314b8809c8\",\"type\":\"Grid\"},{\"attributes\":{\"data_source\":{\"id\":\"fe589f31-44a4-451b-aece-156a50832103\",\"type\":\"ColumnDataSource\"},\"glyph\":{\"id\":\"a2c36883-883c-4c7d-8c47-dfeeb90b9ebd\",\"type\":\"VBar\"},\"hover_glyph\":null,\"muted_glyph\":null,\"nonselection_glyph\":{\"id\":\"6b8c5da9-1f25-46f2-a65b-296400df5442\",\"type\":\"VBar\"},\"selection_glyph\":null,\"view\":{\"id\":\"83c1f8c2-c6a1-46ec-a0c6-847cca79ec3c\",\"type\":\"CDSView\"}},\"id\":\"b33087b4-d2c4-4a69-846b-ea5aaad97aaf\",\"type\":\"GlyphRenderer\"},{\"attributes\":{},\"id\":\"327c885b-1f7f-4537-aaa6-1e6ede2eda79\",\"type\":\"LinearScale\"},{\"attributes\":{\"fill_alpha\":{\"value\":0.1},\"fill_color\":{\"value\":\"#1f77b4\"},\"line_alpha\":{\"value\":0.1},\"line_color\":{\"value\":\"#1f77b4\"},\"top\":{\"field\":\"top\"},\"width\":{\"value\":0.5},\"x\":{\"field\":\"x\"}},\"id\":\"6b8c5da9-1f25-46f2-a65b-296400df5442\",\"type\":\"VBar\"},{\"attributes\":{\"bottom_units\":\"screen\",\"fill_alpha\":{\"value\":0.5},\"fill_color\":{\"value\":\"lightgrey\"},\"left_units\":\"screen\",\"level\":\"overlay\",\"line_alpha\":{\"value\":1.0},\"line_color\":{\"value\":\"black\"},\"line_dash\":[4,4],\"line_width\":{\"value\":2},\"plot\":null,\"render_mode\":\"css\",\"right_units\":\"screen\",\"top_units\":\"screen\"},\"id\":\"1c28478f-fc08-4348-8bad-3dfbe362f22d\",\"type\":\"BoxAnnotation\"},{\"attributes\":{},\"id\":\"a6dfc812-cc2f-4b9b-bfcb-fe9c48413116\",\"type\":\"PanTool\"},{\"attributes\":{\"callback\":null},\"id\":\"5c3c0a4e-eb76-4937-9df7-ad57ca0df9b1\",\"type\":\"DataRange1d\"},{\"attributes\":{},\"id\":\"474e037f-e21c-4c11-b8c1-90ffbb55ff7a\",\"type\":\"BasicTickFormatter\"},{\"attributes\":{\"fill_color\":{\"value\":\"firebrick\"},\"line_color\":{\"value\":\"firebrick\"},\"top\":{\"field\":\"top\"},\"width\":{\"value\":0.5},\"x\":{\"field\":\"x\"}},\"id\":\"a2c36883-883c-4c7d-8c47-dfeeb90b9ebd\",\"type\":\"VBar\"},{\"attributes\":{},\"id\":\"0d33e8b3-b1f7-4a0c-9c6d-fd1f019f79ca\",\"type\":\"WheelZoomTool\"},{\"attributes\":{\"overlay\":{\"id\":\"1c28478f-fc08-4348-8bad-3dfbe362f22d\",\"type\":\"BoxAnnotation\"}},\"id\":\"013ade32-a4e1-488a-957d-53574ec1d7a3\",\"type\":\"BoxZoomTool\"},{\"attributes\":{},\"id\":\"5262814f-1789-47fa-81af-9e261be40a89\",\"type\":\"SaveTool\"},{\"attributes\":{},\"id\":\"30e81189-b807-4045-9037-2483c7a691b7\",\"type\":\"ResetTool\"},{\"attributes\":{\"callback\":null},\"id\":\"0cfa99ca-8992-4929-8680-a37f33098275\",\"type\":\"DataRange1d\"}],\"root_ids\":[\"4e8dd5dd-0011-4063-8135-7c36ca8d322a\"]},\"title\":\"Bokeh Application\",\"version\":\"0.12.15\"}};\n",
       "  var render_items = [{\"docid\":\"55419ec2-8975-492a-93f1-aa86cb69bbd3\",\"elementid\":\"3d1dd0e7-32c1-40b1-ac48-51663816f629\",\"modelid\":\"4e8dd5dd-0011-4063-8135-7c36ca8d322a\"}];\n",
       "  root.Bokeh.embed.embed_items_notebook(docs_json, render_items);\n",
       "\n",
       "  }\n",
       "  if (root.Bokeh !== undefined) {\n",
       "    embed_document(root);\n",
       "  } else {\n",
       "    var attempts = 0;\n",
       "    var timer = setInterval(function(root) {\n",
       "      if (root.Bokeh !== undefined) {\n",
       "        embed_document(root);\n",
       "        clearInterval(timer);\n",
       "      }\n",
       "      attempts++;\n",
       "      if (attempts > 100) {\n",
       "        console.log(\"Bokeh: ERROR: Unable to run BokehJS code because BokehJS library is missing\")\n",
       "        clearInterval(timer);\n",
       "      }\n",
       "    }, 10, root)\n",
       "  }\n",
       "})(window);"
      ],
      "application/vnd.bokehjs_exec.v0+json": ""
     },
     "metadata": {
      "application/vnd.bokehjs_exec.v0+json": {
       "id": "4e8dd5dd-0011-4063-8135-7c36ca8d322a"
      }
     },
     "output_type": "display_data"
    }
   ],
   "source": [
    "p = figure(plot_width = 300, plot_height = 300)\n",
    "p.vbar(x = [1, 2, 3, 4, 5], width = 0.5, top = [6, 7, 2, 4, 5], color = \"firebrick\")\n",
    "show(p)"
   ]
  },
  {
   "cell_type": "code",
   "execution_count": 28,
   "metadata": {},
   "outputs": [
    {
     "data": {
      "text/html": [
       "\n",
       "<div class=\"bk-root\">\n",
       "    <div class=\"bk-plotdiv\" id=\"e0ce4cbe-b591-4a7a-8167-1bf1565cdf4a\"></div>\n",
       "</div>"
      ]
     },
     "metadata": {},
     "output_type": "display_data"
    },
    {
     "data": {
      "application/javascript": [
       "(function(root) {\n",
       "  function embed_document(root) {\n",
       "    \n",
       "  var docs_json = {\"5a23801f-9332-4227-a2fb-03763ae0c177\":{\"roots\":{\"references\":[{\"attributes\":{\"below\":[{\"id\":\"f71f8db5-4855-4b10-ac9d-b74f24d0f54f\",\"type\":\"LinearAxis\"}],\"left\":[{\"id\":\"b0721a70-01de-4362-bbcd-81793d631ca3\",\"type\":\"LinearAxis\"}],\"renderers\":[{\"id\":\"f71f8db5-4855-4b10-ac9d-b74f24d0f54f\",\"type\":\"LinearAxis\"},{\"id\":\"549dc2a4-38ab-4444-b38a-8266d306ae21\",\"type\":\"Grid\"},{\"id\":\"b0721a70-01de-4362-bbcd-81793d631ca3\",\"type\":\"LinearAxis\"},{\"id\":\"e6a9e8f8-2c1d-4173-9105-f5aba4b37847\",\"type\":\"Grid\"},{\"id\":\"807a63f5-200d-4a4f-b869-7e4d24513bc5\",\"type\":\"BoxAnnotation\"},{\"id\":\"f0e6b7a8-712a-4126-b37c-d06bb616ef5a\",\"type\":\"GlyphRenderer\"}],\"title\":{\"id\":\"33f10219-5768-420e-8dc9-9ea3af94d07d\",\"type\":\"Title\"},\"toolbar\":{\"id\":\"4946e91e-bf73-4c09-ae4c-57ffc889c381\",\"type\":\"Toolbar\"},\"x_range\":{\"id\":\"023d4b4f-75ec-4b96-849f-35bab9935c30\",\"type\":\"DataRange1d\"},\"x_scale\":{\"id\":\"5ee6803c-b3fb-45e1-b672-05fee5a2a5db\",\"type\":\"LinearScale\"},\"y_range\":{\"id\":\"d8422da7-1ef0-424e-a39c-bd851528e74a\",\"type\":\"DataRange1d\"},\"y_scale\":{\"id\":\"0bd046f1-10ce-4a69-a279-376e8c36385d\",\"type\":\"LinearScale\"}},\"id\":\"66b1754a-a3e6-4cf3-8a73-64a6fcf18a3a\",\"subtype\":\"Figure\",\"type\":\"Plot\"},{\"attributes\":{},\"id\":\"8ff3891c-c91f-46de-b1af-1bad41f19e03\",\"type\":\"WheelZoomTool\"},{\"attributes\":{\"callback\":null,\"column_names\":[\"xs\",\"ys\",\"fill_color\"],\"data\":{\"fill_color\":[\"red\",\"blue\",\"green\"],\"xs\":[[1,1,2,2],[2,2,4],[2,2,3,3]],\"ys\":[[2,5,5,2],[3,5,5],[2,3,4,2]]},\"selected\":null,\"selection_policy\":null},\"id\":\"4a8ce35e-6cfb-4376-9707-70782909b655\",\"type\":\"ColumnDataSource\"},{\"attributes\":{\"callback\":null},\"id\":\"023d4b4f-75ec-4b96-849f-35bab9935c30\",\"type\":\"DataRange1d\"},{\"attributes\":{\"plot\":null,\"text\":\"\"},\"id\":\"33f10219-5768-420e-8dc9-9ea3af94d07d\",\"type\":\"Title\"},{\"attributes\":{\"active_drag\":\"auto\",\"active_inspect\":\"auto\",\"active_scroll\":\"auto\",\"active_tap\":\"auto\",\"tools\":[{\"id\":\"a2f5e137-1499-4baf-a4ca-fea4c2506ead\",\"type\":\"PanTool\"},{\"id\":\"8ff3891c-c91f-46de-b1af-1bad41f19e03\",\"type\":\"WheelZoomTool\"},{\"id\":\"27091375-ad81-4d5d-92c0-57db35ea24e6\",\"type\":\"BoxZoomTool\"},{\"id\":\"d2be7199-6f4b-4c3d-ab0e-cc6dfdbe09fa\",\"type\":\"SaveTool\"},{\"id\":\"118f2423-9a85-4709-8299-f05117d723e1\",\"type\":\"ResetTool\"},{\"id\":\"9198ddf7-ddae-4905-9f15-c56f22b45fe5\",\"type\":\"HelpTool\"}]},\"id\":\"4946e91e-bf73-4c09-ae4c-57ffc889c381\",\"type\":\"Toolbar\"},{\"attributes\":{},\"id\":\"ce0bbc66-b3a5-4998-902b-1bc0389b8f43\",\"type\":\"BasicTicker\"},{\"attributes\":{\"formatter\":{\"id\":\"3c5a7e09-3f45-40d7-89fe-df2adc4efe0e\",\"type\":\"BasicTickFormatter\"},\"plot\":{\"id\":\"66b1754a-a3e6-4cf3-8a73-64a6fcf18a3a\",\"subtype\":\"Figure\",\"type\":\"Plot\"},\"ticker\":{\"id\":\"ce0bbc66-b3a5-4998-902b-1bc0389b8f43\",\"type\":\"BasicTicker\"}},\"id\":\"f71f8db5-4855-4b10-ac9d-b74f24d0f54f\",\"type\":\"LinearAxis\"},{\"attributes\":{},\"id\":\"a2f5e137-1499-4baf-a4ca-fea4c2506ead\",\"type\":\"PanTool\"},{\"attributes\":{},\"id\":\"3c5a7e09-3f45-40d7-89fe-df2adc4efe0e\",\"type\":\"BasicTickFormatter\"},{\"attributes\":{},\"id\":\"0bd046f1-10ce-4a69-a279-376e8c36385d\",\"type\":\"LinearScale\"},{\"attributes\":{},\"id\":\"5ee6803c-b3fb-45e1-b672-05fee5a2a5db\",\"type\":\"LinearScale\"},{\"attributes\":{\"callback\":null},\"id\":\"d8422da7-1ef0-424e-a39c-bd851528e74a\",\"type\":\"DataRange1d\"},{\"attributes\":{\"formatter\":{\"id\":\"72b56378-c05f-4eb5-9360-ded7d0d85025\",\"type\":\"BasicTickFormatter\"},\"plot\":{\"id\":\"66b1754a-a3e6-4cf3-8a73-64a6fcf18a3a\",\"subtype\":\"Figure\",\"type\":\"Plot\"},\"ticker\":{\"id\":\"93c48e65-29a9-4b97-a65a-4b807e5c66f1\",\"type\":\"BasicTicker\"}},\"id\":\"b0721a70-01de-4362-bbcd-81793d631ca3\",\"type\":\"LinearAxis\"},{\"attributes\":{},\"id\":\"118f2423-9a85-4709-8299-f05117d723e1\",\"type\":\"ResetTool\"},{\"attributes\":{},\"id\":\"93c48e65-29a9-4b97-a65a-4b807e5c66f1\",\"type\":\"BasicTicker\"},{\"attributes\":{\"dimension\":1,\"plot\":{\"id\":\"66b1754a-a3e6-4cf3-8a73-64a6fcf18a3a\",\"subtype\":\"Figure\",\"type\":\"Plot\"},\"ticker\":{\"id\":\"93c48e65-29a9-4b97-a65a-4b807e5c66f1\",\"type\":\"BasicTicker\"}},\"id\":\"e6a9e8f8-2c1d-4173-9105-f5aba4b37847\",\"type\":\"Grid\"},{\"attributes\":{\"data_source\":{\"id\":\"4a8ce35e-6cfb-4376-9707-70782909b655\",\"type\":\"ColumnDataSource\"},\"glyph\":{\"id\":\"223da78a-578f-4f7f-80c9-0e0752b3ec50\",\"type\":\"Patches\"},\"hover_glyph\":null,\"muted_glyph\":null,\"nonselection_glyph\":{\"id\":\"bacf07de-5de7-41af-907f-f875b238ee5d\",\"type\":\"Patches\"},\"selection_glyph\":null,\"view\":{\"id\":\"1d67116c-988f-4a3d-ad02-eae5a469f018\",\"type\":\"CDSView\"}},\"id\":\"f0e6b7a8-712a-4126-b37c-d06bb616ef5a\",\"type\":\"GlyphRenderer\"},{\"attributes\":{\"fill_alpha\":{\"value\":0.1},\"fill_color\":{\"value\":\"#1f77b4\"},\"line_alpha\":{\"value\":0.1},\"line_color\":{\"value\":\"#1f77b4\"},\"xs\":{\"field\":\"xs\"},\"ys\":{\"field\":\"ys\"}},\"id\":\"bacf07de-5de7-41af-907f-f875b238ee5d\",\"type\":\"Patches\"},{\"attributes\":{},\"id\":\"9198ddf7-ddae-4905-9f15-c56f22b45fe5\",\"type\":\"HelpTool\"},{\"attributes\":{\"bottom_units\":\"screen\",\"fill_alpha\":{\"value\":0.5},\"fill_color\":{\"value\":\"lightgrey\"},\"left_units\":\"screen\",\"level\":\"overlay\",\"line_alpha\":{\"value\":1.0},\"line_color\":{\"value\":\"black\"},\"line_dash\":[4,4],\"line_width\":{\"value\":2},\"plot\":null,\"render_mode\":\"css\",\"right_units\":\"screen\",\"top_units\":\"screen\"},\"id\":\"807a63f5-200d-4a4f-b869-7e4d24513bc5\",\"type\":\"BoxAnnotation\"},{\"attributes\":{},\"id\":\"72b56378-c05f-4eb5-9360-ded7d0d85025\",\"type\":\"BasicTickFormatter\"},{\"attributes\":{\"fill_color\":{\"field\":\"fill_color\"},\"line_color\":{\"value\":\"white\"},\"xs\":{\"field\":\"xs\"},\"ys\":{\"field\":\"ys\"}},\"id\":\"223da78a-578f-4f7f-80c9-0e0752b3ec50\",\"type\":\"Patches\"},{\"attributes\":{},\"id\":\"d2be7199-6f4b-4c3d-ab0e-cc6dfdbe09fa\",\"type\":\"SaveTool\"},{\"attributes\":{\"plot\":{\"id\":\"66b1754a-a3e6-4cf3-8a73-64a6fcf18a3a\",\"subtype\":\"Figure\",\"type\":\"Plot\"},\"ticker\":{\"id\":\"ce0bbc66-b3a5-4998-902b-1bc0389b8f43\",\"type\":\"BasicTicker\"}},\"id\":\"549dc2a4-38ab-4444-b38a-8266d306ae21\",\"type\":\"Grid\"},{\"attributes\":{\"overlay\":{\"id\":\"807a63f5-200d-4a4f-b869-7e4d24513bc5\",\"type\":\"BoxAnnotation\"}},\"id\":\"27091375-ad81-4d5d-92c0-57db35ea24e6\",\"type\":\"BoxZoomTool\"},{\"attributes\":{\"source\":{\"id\":\"4a8ce35e-6cfb-4376-9707-70782909b655\",\"type\":\"ColumnDataSource\"}},\"id\":\"1d67116c-988f-4a3d-ad02-eae5a469f018\",\"type\":\"CDSView\"}],\"root_ids\":[\"66b1754a-a3e6-4cf3-8a73-64a6fcf18a3a\"]},\"title\":\"Bokeh Application\",\"version\":\"0.12.15\"}};\n",
       "  var render_items = [{\"docid\":\"5a23801f-9332-4227-a2fb-03763ae0c177\",\"elementid\":\"e0ce4cbe-b591-4a7a-8167-1bf1565cdf4a\",\"modelid\":\"66b1754a-a3e6-4cf3-8a73-64a6fcf18a3a\"}];\n",
       "  root.Bokeh.embed.embed_items_notebook(docs_json, render_items);\n",
       "\n",
       "  }\n",
       "  if (root.Bokeh !== undefined) {\n",
       "    embed_document(root);\n",
       "  } else {\n",
       "    var attempts = 0;\n",
       "    var timer = setInterval(function(root) {\n",
       "      if (root.Bokeh !== undefined) {\n",
       "        embed_document(root);\n",
       "        clearInterval(timer);\n",
       "      }\n",
       "      attempts++;\n",
       "      if (attempts > 100) {\n",
       "        console.log(\"Bokeh: ERROR: Unable to run BokehJS code because BokehJS library is missing\")\n",
       "        clearInterval(timer);\n",
       "      }\n",
       "    }, 10, root)\n",
       "  }\n",
       "})(window);"
      ],
      "application/vnd.bokehjs_exec.v0+json": ""
     },
     "metadata": {
      "application/vnd.bokehjs_exec.v0+json": {
       "id": "66b1754a-a3e6-4cf3-8a73-64a6fcf18a3a"
      }
     },
     "output_type": "display_data"
    }
   ],
   "source": [
    "xs = [[1, 1, 2, 2], [2, 2, 4], [2, 2, 3, 3]]\n",
    "ys = [[2, 5, 5, 2], [3, 5, 5], [2, 3, 4, 2]]\n",
    "p = figure()\n",
    "p.patches(xs, ys, fill_color = [\"red\", \"blue\", \"green\"], line_color = \"white\")\n",
    "show(p)"
   ]
  },
  {
   "cell_type": "code",
   "execution_count": 29,
   "metadata": {},
   "outputs": [],
   "source": [
    "import json"
   ]
  },
  {
   "cell_type": "code",
   "execution_count": 30,
   "metadata": {},
   "outputs": [],
   "source": [
    "with open(\"states.json\", 'r') as f:\n",
    "    states = json.load(f)"
   ]
  },
  {
   "cell_type": "code",
   "execution_count": 31,
   "metadata": {},
   "outputs": [
    {
     "data": {
      "text/plain": [
       "dict_keys(['az', 'co', 'nm', 'ut'])"
      ]
     },
     "execution_count": 31,
     "metadata": {},
     "output_type": "execute_result"
    }
   ],
   "source": [
    "states.keys()"
   ]
  },
  {
   "cell_type": "code",
   "execution_count": 32,
   "metadata": {},
   "outputs": [
    {
     "data": {
      "text/plain": [
       "dict_keys(['lons', 'lats'])"
      ]
     },
     "execution_count": 32,
     "metadata": {},
     "output_type": "execute_result"
    }
   ],
   "source": [
    "states['az'].keys()"
   ]
  },
  {
   "cell_type": "code",
   "execution_count": 33,
   "metadata": {},
   "outputs": [
    {
     "data": {
      "text/html": [
       "\n",
       "<div class=\"bk-root\">\n",
       "    <div class=\"bk-plotdiv\" id=\"d9221a64-be46-4d58-9716-de8db2e0b9c4\"></div>\n",
       "</div>"
      ]
     },
     "metadata": {},
     "output_type": "display_data"
    },
    {
     "data": {
      "application/javascript": [
       "(function(root) {\n",
       "  function embed_document(root) {\n",
       "    \n",
       "  var docs_json = {\"b2bb278c-77d5-40f7-9370-f1fe54d50682\":{\"roots\":{\"references\":[{\"attributes\":{\"callback\":null},\"id\":\"49b6f73d-e9f2-4459-88ca-160131544658\",\"type\":\"DataRange1d\"},{\"attributes\":{\"fill_alpha\":{\"value\":0.1},\"fill_color\":{\"value\":\"#1f77b4\"},\"line_alpha\":{\"value\":0.1},\"line_color\":{\"value\":\"#1f77b4\"},\"xs\":{\"field\":\"xs\"},\"ys\":{\"field\":\"ys\"}},\"id\":\"a4cc7f5a-e027-409d-b996-7e2ab6a30a33\",\"type\":\"Patches\"},{\"attributes\":{\"callback\":null},\"id\":\"949a27b8-b929-4923-9c78-13bdaf1eb732\",\"type\":\"DataRange1d\"},{\"attributes\":{\"dimension\":1,\"plot\":{\"id\":\"4469244a-6738-4f80-b28d-5d4bc674731d\",\"subtype\":\"Figure\",\"type\":\"Plot\"},\"ticker\":{\"id\":\"5211347b-dfa1-450f-b6d8-bf37427c9144\",\"type\":\"BasicTicker\"}},\"id\":\"d2438111-263e-4fa9-8f55-017f9a3bcf9c\",\"type\":\"Grid\"},{\"attributes\":{\"source\":{\"id\":\"373b6617-948e-47f1-a28a-430537a18ee5\",\"type\":\"ColumnDataSource\"}},\"id\":\"62dc7ce6-58f2-42ab-a28c-501b44d43757\",\"type\":\"CDSView\"},{\"attributes\":{},\"id\":\"5211347b-dfa1-450f-b6d8-bf37427c9144\",\"type\":\"BasicTicker\"},{\"attributes\":{},\"id\":\"b2c3c29d-755d-4d86-9b47-c8e1ed52993b\",\"type\":\"BasicTicker\"},{\"attributes\":{\"formatter\":{\"id\":\"931464b6-a0c0-4fec-9d8a-73d38c716b1c\",\"type\":\"BasicTickFormatter\"},\"plot\":{\"id\":\"4469244a-6738-4f80-b28d-5d4bc674731d\",\"subtype\":\"Figure\",\"type\":\"Plot\"},\"ticker\":{\"id\":\"5211347b-dfa1-450f-b6d8-bf37427c9144\",\"type\":\"BasicTicker\"}},\"id\":\"4b7de2d8-c730-4ba2-8015-d45390450dfd\",\"type\":\"LinearAxis\"},{\"attributes\":{},\"id\":\"3b8e5470-db85-405c-9770-34c688fcc139\",\"type\":\"ResetTool\"},{\"attributes\":{\"formatter\":{\"id\":\"48bea2ec-06a2-4080-8acf-b3c8e8ab36de\",\"type\":\"BasicTickFormatter\"},\"plot\":{\"id\":\"4469244a-6738-4f80-b28d-5d4bc674731d\",\"subtype\":\"Figure\",\"type\":\"Plot\"},\"ticker\":{\"id\":\"b2c3c29d-755d-4d86-9b47-c8e1ed52993b\",\"type\":\"BasicTicker\"}},\"id\":\"5945bc1e-d817-4b3f-a2d3-efd05b4fc934\",\"type\":\"LinearAxis\"},{\"attributes\":{},\"id\":\"8f3b5ce1-a317-46d7-89f9-79c5ba74da52\",\"type\":\"HelpTool\"},{\"attributes\":{\"plot\":{\"id\":\"4469244a-6738-4f80-b28d-5d4bc674731d\",\"subtype\":\"Figure\",\"type\":\"Plot\"},\"ticker\":{\"id\":\"b2c3c29d-755d-4d86-9b47-c8e1ed52993b\",\"type\":\"BasicTicker\"}},\"id\":\"141d482a-8db2-4247-a00f-1332f41cb210\",\"type\":\"Grid\"},{\"attributes\":{\"below\":[{\"id\":\"5945bc1e-d817-4b3f-a2d3-efd05b4fc934\",\"type\":\"LinearAxis\"}],\"left\":[{\"id\":\"4b7de2d8-c730-4ba2-8015-d45390450dfd\",\"type\":\"LinearAxis\"}],\"renderers\":[{\"id\":\"5945bc1e-d817-4b3f-a2d3-efd05b4fc934\",\"type\":\"LinearAxis\"},{\"id\":\"141d482a-8db2-4247-a00f-1332f41cb210\",\"type\":\"Grid\"},{\"id\":\"4b7de2d8-c730-4ba2-8015-d45390450dfd\",\"type\":\"LinearAxis\"},{\"id\":\"d2438111-263e-4fa9-8f55-017f9a3bcf9c\",\"type\":\"Grid\"},{\"id\":\"a21641e5-fd16-49ee-9d44-bb61d767d8d3\",\"type\":\"BoxAnnotation\"},{\"id\":\"0e48f64a-3055-41be-b8d8-08b4395a3451\",\"type\":\"GlyphRenderer\"}],\"title\":{\"id\":\"21190186-df0a-46d5-be1d-71d0253f11b2\",\"type\":\"Title\"},\"toolbar\":{\"id\":\"831fe6b5-436a-4542-8779-0539c9e032aa\",\"type\":\"Toolbar\"},\"x_range\":{\"id\":\"949a27b8-b929-4923-9c78-13bdaf1eb732\",\"type\":\"DataRange1d\"},\"x_scale\":{\"id\":\"ebee21e1-ff73-47f5-81e6-b4e8b5808fbb\",\"type\":\"LinearScale\"},\"y_range\":{\"id\":\"49b6f73d-e9f2-4459-88ca-160131544658\",\"type\":\"DataRange1d\"},\"y_scale\":{\"id\":\"aa36eb0d-58ba-4cee-903c-53831391278f\",\"type\":\"LinearScale\"}},\"id\":\"4469244a-6738-4f80-b28d-5d4bc674731d\",\"subtype\":\"Figure\",\"type\":\"Plot\"},{\"attributes\":{},\"id\":\"f33f2865-1113-44c7-8cbe-2780eeb02521\",\"type\":\"SaveTool\"},{\"attributes\":{},\"id\":\"931464b6-a0c0-4fec-9d8a-73d38c716b1c\",\"type\":\"BasicTickFormatter\"},{\"attributes\":{\"overlay\":{\"id\":\"a21641e5-fd16-49ee-9d44-bb61d767d8d3\",\"type\":\"BoxAnnotation\"}},\"id\":\"3396b80f-7378-430b-9af4-2e376518ce63\",\"type\":\"BoxZoomTool\"},{\"attributes\":{},\"id\":\"54f953b2-ea73-4c23-8c77-dc02e3e1ac91\",\"type\":\"WheelZoomTool\"},{\"attributes\":{\"active_drag\":\"auto\",\"active_inspect\":\"auto\",\"active_scroll\":\"auto\",\"active_tap\":\"auto\",\"tools\":[{\"id\":\"a9aa058c-5d19-4c94-96fc-feffdc0adbe4\",\"type\":\"PanTool\"},{\"id\":\"54f953b2-ea73-4c23-8c77-dc02e3e1ac91\",\"type\":\"WheelZoomTool\"},{\"id\":\"3396b80f-7378-430b-9af4-2e376518ce63\",\"type\":\"BoxZoomTool\"},{\"id\":\"f33f2865-1113-44c7-8cbe-2780eeb02521\",\"type\":\"SaveTool\"},{\"id\":\"3b8e5470-db85-405c-9770-34c688fcc139\",\"type\":\"ResetTool\"},{\"id\":\"8f3b5ce1-a317-46d7-89f9-79c5ba74da52\",\"type\":\"HelpTool\"}]},\"id\":\"831fe6b5-436a-4542-8779-0539c9e032aa\",\"type\":\"Toolbar\"},{\"attributes\":{\"plot\":null,\"text\":\"\"},\"id\":\"21190186-df0a-46d5-be1d-71d0253f11b2\",\"type\":\"Title\"},{\"attributes\":{},\"id\":\"48bea2ec-06a2-4080-8acf-b3c8e8ab36de\",\"type\":\"BasicTickFormatter\"},{\"attributes\":{\"fill_color\":{\"field\":\"fill_color\"},\"line_color\":{\"value\":\"white\"},\"xs\":{\"field\":\"xs\"},\"ys\":{\"field\":\"ys\"}},\"id\":\"4dad040f-accc-49bf-bf91-1191fe1f7a7b\",\"type\":\"Patches\"},{\"attributes\":{},\"id\":\"a9aa058c-5d19-4c94-96fc-feffdc0adbe4\",\"type\":\"PanTool\"},{\"attributes\":{\"bottom_units\":\"screen\",\"fill_alpha\":{\"value\":0.5},\"fill_color\":{\"value\":\"lightgrey\"},\"left_units\":\"screen\",\"level\":\"overlay\",\"line_alpha\":{\"value\":1.0},\"line_color\":{\"value\":\"black\"},\"line_dash\":[4,4],\"line_width\":{\"value\":2},\"plot\":null,\"render_mode\":\"css\",\"right_units\":\"screen\",\"top_units\":\"screen\"},\"id\":\"a21641e5-fd16-49ee-9d44-bb61d767d8d3\",\"type\":\"BoxAnnotation\"},{\"attributes\":{\"callback\":null,\"column_names\":[\"xs\",\"ys\",\"fill_color\"],\"data\":{\"fill_color\":[\"red\",\"blue\",\"green\",\"yellow\"],\"xs\":[[-114.63332,-114.63349,-114.63423,-114.60899,-114.63064,-114.57354,-114.58031,-114.61121,-114.6768,-114.66076,-114.65449,-114.68702,-114.69704,-114.70415,-114.67489,-114.70883,-114.74365,-114.73513,-114.6729,-114.51122,-114.32346,-114.22646,-114.1139,-114.04404,-114.04338,-114.04736,-114.05013999999998,-114.0506,-114.0506,-114.05052,-113.94557,-113.86852,-113.62465,-113.4727,-113.32097,-113.17698,-113.02079,-112.99281,-112.96895,-112.75086,-112.48455,-112.32985,-111.99142,-111.58602,-111.39598,-111.2523,-111.03957,-110.73783,-110.54945,-110.272,-110.13851,-109.83491,-109.43568,-109.26993,-109.04538,-109.04522,-109.04522,-109.04531,-109.04544,-109.04547,-109.04579,-109.04575,-109.04601,-109.04578,-109.04606,-109.04621000000002,-109.04636,-109.04662,-109.04644,-109.04598,-109.04603,-109.04633,-109.04692,-109.047,-109.04691,-109.0474,-109.04762,-109.04764,-109.04811,-109.04905,-109.04911,-109.05004,-109.0587,-109.25062,-109.30069,-109.33682,-109.38186,-109.45105,-109.5287,-109.62562,-109.79302,-109.97582,-110.20503,-110.49327,-110.56918,-110.65415,-110.77828,-110.87564,-110.93778,-110.94286,-110.97553,-111.12565,-111.24082,-111.29191000000002,-111.32558,-111.3574,-111.38483,-111.44337,-111.47861,-111.49725,-111.53479,-111.56975,-111.62412,-111.66,-111.73365,-111.79498,-111.9182,-111.97172,-111.99115,-112.02937,-112.09378999999998,-112.13972,-112.15906,-112.21295,-112.32605,-112.39932,-112.43603,-112.52208,-112.57141,-112.63294,-112.67695,-112.72356,-112.75567,-112.8055,-112.83423,-112.8711,-112.90863,-113.20884,-113.2279,-113.30313999999998,-113.61086,-113.78489,-113.90756,-113.97121,-114.11135,-114.20719,-114.25558999999998,-114.28755,-114.38472,-114.61337,-114.77804,-114.81394,-114.81518,-114.80524,-114.81037,-114.81335,-114.80551,-114.80529,-114.79282,-114.79206,-114.79555,-114.81362,-114.80894,-114.80404,-114.80093,-114.80804,-114.80891,-114.80192,-114.79518,-114.7819,-114.77309,-114.76427,-114.74805,-114.74638,-114.74505,-114.74456,-114.74203,-114.74,-114.73874,-114.73062,-114.72924,-114.72377,-114.71994,-114.71919,-114.69096,-114.63501,-114.58576,-114.46563,-114.48131,-114.62973,-114.68157,-114.72123,-114.61185,-114.5402,-114.49649,-114.52801,-114.51318,-114.49813,-114.4355,-114.35765,-114.26017,-114.14737,-114.29195,-114.38169,-114.44166,-114.48236,-114.56953,-114.63305],[-109.04984,-109.06017,-109.06015,-109.05655,-109.05305,-109.05158,-109.05119,-109.05077,-109.05132,-109.05077,-109.05087,-109.05088,-109.05093,-109.05088,-109.05051,-109.04899,-109.04907,-109.05008,-109.03134,-108.83854,-108.6996,-108.59802,-108.46524,-108.25764,-108.10567,-107.91411,-107.75063,-107.55479,-107.35937,-107.27483,-107.12561,-106.9166,-106.59389,-106.32621,-106.06118,-105.82273,-105.60473,-105.46928,-105.2756,-105.07514,-104.86787,-104.58704,-104.24506,-104.0535,-104.05325,-104.05153,-103.90732,-103.61529,-103.46471,-103.30624,-103.00202,-102.88728,-102.76668,-102.55879,-102.38345,-102.23951,-102.12861,-102.05156,-102.05154,-102.05152,-102.05145,-102.05143,-102.05144,-102.05144,-102.0515,-102.0515,-102.05152,-102.05131,-102.05145,-102.05176,-102.05176,-102.05174,-102.05174,-102.05139,-102.0506,-102.04955,-102.04907,-102.04875,-102.04802,-102.04541,-102.04514,-102.04524,-102.04494,-102.04501,-102.04479,-102.04452,-102.04447,-102.04431,-102.04456,-102.04402,-102.04286,-102.04166,-102.04179,-102.04178,-102.04192,-102.04196,-102.04199,-102.0421,-102.04209,-102.04538,-102.05418,-102.07425,-102.09059,-102.17511,-102.19751,-102.24848,-102.26493,-102.29933,-102.34378,-102.35537,-102.40232,-102.49444,-102.52468,-102.57091,-102.62547,-102.68337,-102.7059,-102.77324,-102.81507,-102.86545,-102.89315,-102.9279,-102.97961,-102.98698,-103.00214,-103.0022,-103.01356,-103.26061,-103.53892,-103.92627,-104.17265,-104.49245,-104.76311,-105.15658,-105.50752,-105.6576,-105.93761,-106.15386,-106.4654,-106.61906,-106.73137,-106.89142,-107.00562,-107.25094,-107.4121,-107.49519,-107.8669,-108.20233,-108.52833,-108.7496,-108.8978,-109.04518,-109.04522,-109.04531,-109.04519,-109.04583,-109.04582,-109.04191000000002,-109.04159,-109.04304,-109.04232,-109.0498],[-103.55583,-104.00265,-104.64165,-105.14679,-105.90075,-106.55721,-106.63119,-106.62216,-106.63325,-106.61103,-106.54568,-106.52834,-106.52861,-106.53181,-106.55963,-106.56993,-106.60042,-106.61408,-106.62967,-106.67613,-106.68194,-106.7505,-106.75874,-106.77057,-106.82052,-106.87555,-106.89949,-106.93928,-106.96546,-106.98754,-106.99317,-106.99823,-106.99882,-107.00056,-107.12556,-107.2773,-107.29766,-107.3093,-107.32402,-107.35469,-107.37629,-107.39716,-107.42244,-107.47074,-107.50261,-107.53069,-107.5835,-107.62497,-107.6266,-107.62774,-107.62988,-107.63241,-107.63786,-107.64356,-107.65173,-107.66987,-107.70084,-107.70821,-107.75058,-107.7889,-107.84105,-107.86238,-107.8711,-107.88551,-107.90473,-107.964,-108.00059,-108.044,-108.05664,-108.07876,-108.08267,-108.1052,-108.15227,-108.17096,-108.1986,-108.20839,-108.20844,-108.20841,-108.2084,-108.20838,-108.20837,-108.2083,-108.20814,-108.20819,-108.20835,-108.20869,-108.20855,-108.20852,-108.20849,-108.20839,-108.20848,-108.20854,-108.20857,-108.36757,-108.38904,-108.44606,-108.47535,-108.53011,-108.61731,-108.65709,-108.70766,-108.71907,-108.72702,-108.73503,-108.73904,-108.7506,-108.75906,-108.82206,-108.86103,-108.88692,-109.00061,-109.05004,-109.05004,-109.04911,-109.04905,-109.04811,-109.04764,-109.04762,-109.0474,-109.04691,-109.047,-109.04692,-109.04633,-109.04603,-109.04598,-109.04644,-109.04662,-109.04636,-109.04621000000002,-109.04606,-109.04578,-109.04601,-109.04575,-109.04579,-109.04547,-109.04544,-109.04531,-109.04522,-109.04522,-109.04518,-108.8978,-108.7496,-108.52833,-108.20233,-107.8669,-107.49519,-107.4121,-107.25094,-107.00562,-106.89142,-106.73137,-106.61906,-106.4654,-106.15386,-105.93761,-105.6576,-105.50752,-105.15658,-104.76311,-104.49245,-104.17265,-103.92627,-103.53892,-103.26061,-103.01356,-103.0022,-103.0022,-103.00232,-103.00232,-103.00228,-103.00227,-103.00224,-103.00223,-103.00218,-103.00206,-103.00213,-103.00215,-103.0021,-103.00214,-103.00218,-103.00237,-103.00218,-103.0023,-103.00226,-103.00223,-103.00226,-103.0023,-103.00233,-103.00233,-103.00228,-103.00228,-103.00245,-103.00243,-103.02394,-103.04133,-103.04249,-103.04239,-103.04283,-103.04312,-103.04338,-103.04362,-103.04374,-103.04376,-103.04993,-103.05727,-103.06464,-103.06478,-103.53275],[-114.04392,-114.04391,-114.04375,-114.04195,-114.04061000000002,-114.04055,-114.0398,-114.04172,-114.0391,-113.80254,-113.64886,-113.49562,-113.36362,-113.20505,-113.10627,-112.96233,-112.83266,-112.78175,-112.68558,-112.58229,-112.45023,-112.26534,-112.1985,-112.10309,-111.98965,-111.9304,-111.88098,-111.82932,-111.73177,-111.51913,-111.4087,-111.26009,-111.14884,-111.04934,-111.04668999999998,-111.04682,-111.04631,-111.04601,-111.0458,-111.04611,-111.04648,-111.04667,-111.04688,-111.04686,-110.94406,-110.86384,-110.70521,-110.55878,-110.43401,-110.34177,-110.25071,-110.14713,-110.0004,-109.90645,-109.75044,-109.67348,-109.63381,-109.51776,-109.43099,-109.30329,-109.05847,-109.05008,-109.04907,-109.04899,-109.05051,-109.05088,-109.05093,-109.05088,-109.05087,-109.05077,-109.05132,-109.05077,-109.05119,-109.05158,-109.05305,-109.05655,-109.06015,-109.06017,-109.04984,-109.0498,-109.04232,-109.04304,-109.04159,-109.04191000000002,-109.04582,-109.04583,-109.04519,-109.04531,-109.04522,-109.04538,-109.26993,-109.43568,-109.83491,-110.13851,-110.272,-110.54945,-110.73783,-111.03957,-111.2523,-111.39598,-111.58602,-111.99142,-112.32985,-112.48455,-112.75086,-112.96895,-112.99281,-113.02079,-113.17698,-113.32097,-113.4727,-113.62465,-113.86852,-113.94557,-114.05052,-114.0506,-114.05187,-114.05264,-114.05198,-114.04939,-114.05013,-114.04997,-114.04992,-114.04916,-114.04833,-114.04885,-114.04841,-114.04779,-114.0473,-114.04757,-114.04727,-114.04658,-114.04644,-114.04619,-114.04558]],\"ys\":[[34.87057,35.00186,35.00332,35.07971,35.117909999999995,35.142309999999995,35.21811,35.37012,35.49125,35.5417,35.60517,35.66942,35.73579,35.81412,35.86436,35.9167,35.98542,36.05493,36.11546,36.15058,36.10119,36.01461,36.09833,36.21464,36.37619,36.60322,36.817,36.99997000000001,37.0004,37.0004,36.99998,36.99998,36.99998,36.99998,36.99998,36.99998,37.00022,37.00017,37.00012,37.00048,37.00094,37.00105,37.00097,37.00166,37.00147,37.00102,37.00247,37.00325,37.00383,36.99828,36.99845,36.99831,36.9991,36.99926,36.99908,36.99908,36.99897,36.8531,36.70384,36.54513,36.41637,36.29154000000001,36.18724,36.03128,35.93088,35.81044,35.65092,35.45859,35.30697,34.91388,34.71264,34.44558,34.08446,33.71335,33.3477,33.07165,32.70386,32.40743,32.1771,31.870690000000003,31.63698,31.3325,31.33252,31.3338,31.33396,31.334,31.33394,31.33406,31.33393,31.33408,31.333990000000004,31.33341,31.33363,31.33296,31.33299,31.33305,31.33363,31.33328,31.33281,31.33283,31.33257,31.34898,31.38586,31.40231,31.41305,31.42333,31.43196,31.45068,31.46195,31.4678,31.47995,31.490990000000004,31.50825,31.51945,31.54305,31.56227,31.6012,31.61823,31.62425,31.63623,31.65645,31.67094,31.67701,31.69377,31.72891,31.75165,31.76301,31.78954,31.80473,31.82357,31.837020000000006,31.8513,31.861320000000006,31.87666,31.885140000000003,31.89671,31.907870000000006,31.99917,32.0054,32.02905,32.12566,32.17992,32.21797,32.2376,32.28088,32.31044,32.32538,32.33509,32.36468,32.43408,32.48373,32.495259999999995,32.50602,32.50999,32.518390000000004,32.524190000000004,32.53277,32.54351,32.55396,32.56772,32.56625,32.56133,32.57093,32.58137,32.5955,32.60317,32.61295,32.6238,32.62325,32.6247,32.63705,32.65006,32.66489,32.66985,32.67414,32.6785,32.68221,32.68517,32.68732,32.6986,32.70545,32.71192,32.71829,32.71943,32.73946,32.73137,32.73487,32.87408,32.97206,33.03255,33.23376,33.39691,33.471309999999995,33.58709,33.6969,33.84446,33.91285,33.96372,34.04257,34.12866,34.17212,34.31087,34.41527,34.47903,34.64288,34.71453,34.79181,34.86997],[38.215,38.40118,38.60929,38.81393,38.95788,39.11656,39.22605,39.36423,39.56752,39.79876,40.03782,40.18844,40.2929,40.41493,40.50615,40.68445,40.87296,41.00066,41.00051,41.00013,41.0001,40.99996,41.00008,41.00011,41.00139,41.00205,41.00197,41.00228,41.00305,41.00283,41.00305,41.00315,41.00213,40.99927,40.997,40.99701,40.99722,40.99766,40.99818,40.9983,40.99826,41.00153,41.00162,41.00139,41.00141,41.00153,41.00166,41.0017,41.00185,41.00191,41.00239000000001,41.00231,41.00234,41.00243,41.00245,41.00235,41.00247,40.97899,40.9255,40.87501,40.82214000000001,40.75901,40.71742,40.69984,40.65115,40.61334,40.55651,40.48846,40.31022,40.1605,40.01399,40.00308,40.00061,39.87098,39.67645,39.53889,39.40853,39.33572,39.24305,38.84279,38.66387,38.59586,38.52933,38.47219000000001,38.41997,38.30634000000001,38.26504,38.17556,38.05734,37.94303,37.80941,37.68749,37.49347,37.45597,37.3385,37.22191,37.10676,36.99352,36.99302,36.99306,36.99305,36.99311,36.99325,36.99357,36.99367,36.9942,36.99439,36.99425,36.99441,36.99457,36.99479,36.99494,36.99487,36.99513,36.99504,36.9952,36.99557,36.99885,36.99977,36.99959000000001,36.99944,36.99908,36.99855,36.99852,37.0001,37.0001,37.00021,36.99956,36.99892,36.99669,36.99511,36.99367,36.9935,36.99527,36.99589,36.99578,36.99556,36.99469000000001,36.99378,36.99303,36.99263,37.00014,37.00001,37.00001,37.0,37.00001,37.0,36.99924,36.99927,36.99887,36.99885,36.99908,36.99908,37.01706,37.09597,37.20443,37.35363,37.5667,37.7899,37.97469,38.10272,38.21472],[32.00032,32.00001,32.000409999999995,32.0005,32.00198,32.00076,31.98981,31.93601,31.90997,31.84661,31.8054,31.78318,31.78328,31.78391,31.78394,31.78395,31.783990000000006,31.784,31.784090000000006,31.78395,31.78393,31.78371,31.78394,31.78404,31.78385,31.78384,31.783790000000003,31.78378,31.78381,31.7837,31.783690000000004,31.78367,31.78367,31.78355,31.78354,31.78377,31.78367,31.78366,31.78367,31.78365,31.78367,31.78365,31.7836,31.78365,31.78366,31.78365,31.783690000000004,31.78365,31.78374,31.78374,31.78374,31.78374,31.7837,31.78371,31.78371,31.78368,31.78368,31.78368,31.78361,31.78363,31.78365,31.7836,31.783590000000004,31.783590000000004,31.7836,31.78363,31.78365,31.78361,31.78357,31.78351,31.7835,31.78353,31.78357,31.78358,31.783590000000004,31.7836,31.74465,31.72969,31.72323,31.7194,31.71733,31.68878,31.62561,31.58935,31.5608,31.52581,31.50105,31.4998,31.47883,31.429170000000006,31.37656,31.3561,31.3334,31.3334,31.33341,31.33347,31.333440000000003,31.33336,31.33329,31.33323,31.33319,31.333070000000006,31.33298,31.3329,31.33285,31.33273,31.33261,31.33226,31.332320000000006,31.33231,31.33217,31.33224,31.3325,31.63698,31.870690000000003,32.1771,32.40743,32.70386,33.07165,33.3477,33.71335,34.08446,34.44558,34.71264,34.91388,35.30697,35.45859,35.65092,35.81044,35.93088,36.03128,36.18724,36.29154000000001,36.41637,36.54513,36.70384,36.8531,36.99897,36.99908,36.99908,36.99885,36.99887,36.99927,36.99924,37.0,37.00001,37.0,37.00001,37.00001,37.00014,36.99263,36.99303,36.99378,36.99469000000001,36.99556,36.99578,36.99589,36.99527,36.9935,36.99367,36.99511,36.99669,36.99892,36.99956,37.00021,37.0001,37.00006,36.9686,36.95031,36.91582,36.91402,36.90243,36.89755,36.86996,36.81735,36.76898,36.74295,36.7193,36.7013,36.68525,36.67653,36.65329000000001,36.6278,36.60265,36.5919,36.56927,36.56386,36.54875,36.52963,36.51475,36.50609,36.50046,36.5004,36.50042,35.76515,35.21202,35.1362,34.88888,34.67259,34.53564,34.40999,34.271809999999995,34.03983,33.71754,33.35051,33.00011,32.59516,32.00034],[40.68928,40.68985,40.76026,41.05548,41.36,41.59062,41.89425,41.99372,41.99367,41.98895,41.99102,41.99331,41.99384000000001,41.99645,41.99735,41.99841,41.99938,41.99973,42.00021,42.00054,42.00099,42.00111,42.00116,41.99763,41.99834,41.99861,41.99856,41.99875,41.99926,41.99951,42.00063,42.00132,42.00154000000001,42.00159,42.00157,42.00034,41.83664,41.64119,41.52149,41.41513,41.36572,41.20441,41.10318,41.00917000000001,40.9976,40.99725,40.99635,40.99635,40.99485,40.99533,40.99609,40.99634,40.99734,40.99766,40.99797,40.99841,40.9983,40.99871,40.99964,41.00064,41.00069000000001,41.00066,40.87296,40.68445,40.50615,40.41493,40.2929,40.18844,40.03782,39.79876,39.56752,39.36423,39.22605,39.11656,38.95788,38.81393,38.60929,38.40118,38.215,38.21472,38.10272,37.97469,37.7899,37.5667,37.35363,37.20443,37.09597,37.01706,36.99908,36.99908,36.99926,36.9991,36.99831,36.99845,36.99828,37.00383,37.00325,37.00247,37.00102,37.00147,37.00166,37.00097,37.00105,37.00094,37.00048,37.00012,37.00017,37.00022,36.99998,36.99998,36.99998,36.99998,36.99998,36.99998,37.0004,37.0004,37.13439,37.47222,37.70735,37.77873,37.95499,38.20495,38.55049,38.75165,38.90545,39.08777,39.23851,39.36296,39.45715,39.61018,39.75817,39.99994,40.09896,40.30302,40.4958]]},\"selected\":null,\"selection_policy\":null},\"id\":\"373b6617-948e-47f1-a28a-430537a18ee5\",\"type\":\"ColumnDataSource\"},{\"attributes\":{},\"id\":\"aa36eb0d-58ba-4cee-903c-53831391278f\",\"type\":\"LinearScale\"},{\"attributes\":{\"data_source\":{\"id\":\"373b6617-948e-47f1-a28a-430537a18ee5\",\"type\":\"ColumnDataSource\"},\"glyph\":{\"id\":\"4dad040f-accc-49bf-bf91-1191fe1f7a7b\",\"type\":\"Patches\"},\"hover_glyph\":null,\"muted_glyph\":null,\"nonselection_glyph\":{\"id\":\"a4cc7f5a-e027-409d-b996-7e2ab6a30a33\",\"type\":\"Patches\"},\"selection_glyph\":null,\"view\":{\"id\":\"62dc7ce6-58f2-42ab-a28c-501b44d43757\",\"type\":\"CDSView\"}},\"id\":\"0e48f64a-3055-41be-b8d8-08b4395a3451\",\"type\":\"GlyphRenderer\"},{\"attributes\":{},\"id\":\"ebee21e1-ff73-47f5-81e6-b4e8b5808fbb\",\"type\":\"LinearScale\"}],\"root_ids\":[\"4469244a-6738-4f80-b28d-5d4bc674731d\"]},\"title\":\"Bokeh Application\",\"version\":\"0.12.15\"}};\n",
       "  var render_items = [{\"docid\":\"b2bb278c-77d5-40f7-9370-f1fe54d50682\",\"elementid\":\"d9221a64-be46-4d58-9716-de8db2e0b9c4\",\"modelid\":\"4469244a-6738-4f80-b28d-5d4bc674731d\"}];\n",
       "  root.Bokeh.embed.embed_items_notebook(docs_json, render_items);\n",
       "\n",
       "  }\n",
       "  if (root.Bokeh !== undefined) {\n",
       "    embed_document(root);\n",
       "  } else {\n",
       "    var attempts = 0;\n",
       "    var timer = setInterval(function(root) {\n",
       "      if (root.Bokeh !== undefined) {\n",
       "        embed_document(root);\n",
       "        clearInterval(timer);\n",
       "      }\n",
       "      attempts++;\n",
       "      if (attempts > 100) {\n",
       "        console.log(\"Bokeh: ERROR: Unable to run BokehJS code because BokehJS library is missing\")\n",
       "        clearInterval(timer);\n",
       "      }\n",
       "    }, 10, root)\n",
       "  }\n",
       "})(window);"
      ],
      "application/vnd.bokehjs_exec.v0+json": ""
     },
     "metadata": {
      "application/vnd.bokehjs_exec.v0+json": {
       "id": "4469244a-6738-4f80-b28d-5d4bc674731d"
      }
     },
     "output_type": "display_data"
    }
   ],
   "source": [
    "states_xs = []\n",
    "states_ys = []\n",
    "for key in states.keys():\n",
    "    states_xs.append(states[key]['lons'])\n",
    "    states_ys.append(states[key]['lats'])\n",
    "    \n",
    "p = figure()\n",
    "p.patches(states_xs, states_ys, fill_color = [\"red\", \"blue\", \"green\", \"yellow\"], line_color = \"white\")\n",
    "show(p)"
   ]
  },
  {
   "cell_type": "code",
   "execution_count": 34,
   "metadata": {},
   "outputs": [],
   "source": [
    "import numpy as np"
   ]
  },
  {
   "cell_type": "code",
   "execution_count": 35,
   "metadata": {},
   "outputs": [
    {
     "data": {
      "text/html": [
       "\n",
       "<div class=\"bk-root\">\n",
       "    <div class=\"bk-plotdiv\" id=\"e249dff5-2534-4cb6-96b0-5267cdb46a11\"></div>\n",
       "</div>"
      ]
     },
     "metadata": {},
     "output_type": "display_data"
    },
    {
     "data": {
      "application/javascript": [
       "(function(root) {\n",
       "  function embed_document(root) {\n",
       "    \n",
       "  var docs_json = {\"11ee5528-a789-4f7d-ab5d-c36a9e0886f9\":{\"roots\":{\"references\":[{\"attributes\":{\"below\":[{\"id\":\"6d17503f-6f77-40e6-85fa-509d8422ac79\",\"type\":\"LinearAxis\"}],\"left\":[{\"id\":\"e566d840-6b66-496a-8bdd-00806a9f933c\",\"type\":\"LinearAxis\"}],\"renderers\":[{\"id\":\"6d17503f-6f77-40e6-85fa-509d8422ac79\",\"type\":\"LinearAxis\"},{\"id\":\"1ef09264-a773-4260-89e2-8cc72cd11846\",\"type\":\"Grid\"},{\"id\":\"e566d840-6b66-496a-8bdd-00806a9f933c\",\"type\":\"LinearAxis\"},{\"id\":\"4b508d3b-a49a-4734-ad6d-effad4c076b1\",\"type\":\"Grid\"},{\"id\":\"7280eb50-b8b9-4153-8666-ec1a27681d55\",\"type\":\"BoxAnnotation\"},{\"id\":\"0d1af47d-c747-4ab4-8868-306d10d6fbe7\",\"type\":\"GlyphRenderer\"}],\"title\":{\"id\":\"9d9bcddc-5b81-48f0-8a1b-a99b5239ac62\",\"type\":\"Title\"},\"toolbar\":{\"id\":\"700f2764-21da-424e-bfba-6d5a1200b9f1\",\"type\":\"Toolbar\"},\"x_range\":{\"id\":\"a4fbc921-cd05-4f9d-972c-a1efdcd745fe\",\"type\":\"DataRange1d\"},\"x_scale\":{\"id\":\"bafea716-9519-4641-ab19-fed24a18ceb2\",\"type\":\"LinearScale\"},\"y_range\":{\"id\":\"9484a01e-14cc-4de3-bfff-b9d89ae0c5be\",\"type\":\"DataRange1d\"},\"y_scale\":{\"id\":\"cd644f39-18f3-40a3-ab24-bbebfd62ea8e\",\"type\":\"LinearScale\"}},\"id\":\"7720ed3d-c283-451b-8664-fa5e78bbc45c\",\"subtype\":\"Figure\",\"type\":\"Plot\"},{\"attributes\":{\"active_drag\":\"auto\",\"active_inspect\":\"auto\",\"active_scroll\":\"auto\",\"active_tap\":\"auto\",\"tools\":[{\"id\":\"58befae7-d3aa-4fd0-8e2c-17459e8fc83a\",\"type\":\"PanTool\"},{\"id\":\"6a757b01-3d51-425b-97b0-e7c049131bc3\",\"type\":\"WheelZoomTool\"},{\"id\":\"507b19a1-b47c-49c1-baa0-7d149e83376e\",\"type\":\"BoxZoomTool\"},{\"id\":\"ba3e5c39-5480-4990-9b89-026c15cb08eb\",\"type\":\"SaveTool\"},{\"id\":\"7ceed793-b000-49e2-9a48-a58fd7666b0d\",\"type\":\"ResetTool\"},{\"id\":\"c9cb36e5-1ff5-4fa1-a31e-f485c3c1a95f\",\"type\":\"HelpTool\"}]},\"id\":\"700f2764-21da-424e-bfba-6d5a1200b9f1\",\"type\":\"Toolbar\"},{\"attributes\":{\"plot\":null,\"text\":\"\"},\"id\":\"9d9bcddc-5b81-48f0-8a1b-a99b5239ac62\",\"type\":\"Title\"},{\"attributes\":{},\"id\":\"7df1948e-28b8-4887-81b4-ec38b291fb95\",\"type\":\"BasicTicker\"},{\"attributes\":{},\"id\":\"6a757b01-3d51-425b-97b0-e7c049131bc3\",\"type\":\"WheelZoomTool\"},{\"attributes\":{},\"id\":\"8752ff67-09db-4ef0-8c81-f1d2ca95a966\",\"type\":\"BasicTicker\"},{\"attributes\":{\"data_source\":{\"id\":\"9eee30e6-abd9-451f-984d-b1a93a330355\",\"type\":\"ColumnDataSource\"},\"glyph\":{\"id\":\"5509a80b-5fce-40e1-af3c-b0fb9d31764d\",\"type\":\"Circle\"},\"hover_glyph\":null,\"muted_glyph\":null,\"nonselection_glyph\":{\"id\":\"7c0d23dd-7fca-42fa-a668-46ae6e6529ed\",\"type\":\"Circle\"},\"selection_glyph\":null,\"view\":{\"id\":\"250506d6-188c-4274-b203-56d3f4eb9945\",\"type\":\"CDSView\"}},\"id\":\"0d1af47d-c747-4ab4-8868-306d10d6fbe7\",\"type\":\"GlyphRenderer\"},{\"attributes\":{\"bottom_units\":\"screen\",\"fill_alpha\":{\"value\":0.5},\"fill_color\":{\"value\":\"lightgrey\"},\"left_units\":\"screen\",\"level\":\"overlay\",\"line_alpha\":{\"value\":1.0},\"line_color\":{\"value\":\"black\"},\"line_dash\":[4,4],\"line_width\":{\"value\":2},\"plot\":null,\"render_mode\":\"css\",\"right_units\":\"screen\",\"top_units\":\"screen\"},\"id\":\"7280eb50-b8b9-4153-8666-ec1a27681d55\",\"type\":\"BoxAnnotation\"},{\"attributes\":{\"formatter\":{\"id\":\"6d22a1e5-4826-407e-8c37-bcb053b0b7c4\",\"type\":\"BasicTickFormatter\"},\"plot\":{\"id\":\"7720ed3d-c283-451b-8664-fa5e78bbc45c\",\"subtype\":\"Figure\",\"type\":\"Plot\"},\"ticker\":{\"id\":\"7df1948e-28b8-4887-81b4-ec38b291fb95\",\"type\":\"BasicTicker\"}},\"id\":\"e566d840-6b66-496a-8bdd-00806a9f933c\",\"type\":\"LinearAxis\"},{\"attributes\":{},\"id\":\"d93cf06c-ec36-45c2-8b05-3b2ec2e3310e\",\"type\":\"BasicTickFormatter\"},{\"attributes\":{\"plot\":{\"id\":\"7720ed3d-c283-451b-8664-fa5e78bbc45c\",\"subtype\":\"Figure\",\"type\":\"Plot\"},\"ticker\":{\"id\":\"8752ff67-09db-4ef0-8c81-f1d2ca95a966\",\"type\":\"BasicTicker\"}},\"id\":\"1ef09264-a773-4260-89e2-8cc72cd11846\",\"type\":\"Grid\"},{\"attributes\":{\"formatter\":{\"id\":\"d93cf06c-ec36-45c2-8b05-3b2ec2e3310e\",\"type\":\"BasicTickFormatter\"},\"plot\":{\"id\":\"7720ed3d-c283-451b-8664-fa5e78bbc45c\",\"subtype\":\"Figure\",\"type\":\"Plot\"},\"ticker\":{\"id\":\"8752ff67-09db-4ef0-8c81-f1d2ca95a966\",\"type\":\"BasicTicker\"}},\"id\":\"6d17503f-6f77-40e6-85fa-509d8422ac79\",\"type\":\"LinearAxis\"},{\"attributes\":{\"callback\":null,\"column_names\":[\"x\",\"y\"],\"data\":{\"x\":{\"__ndarray__\":\"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\",\"dtype\":\"float64\",\"shape\":[200]},\"y\":{\"__ndarray__\":\"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\",\"dtype\":\"float64\",\"shape\":[200]}},\"selected\":null,\"selection_policy\":null},\"id\":\"9eee30e6-abd9-451f-984d-b1a93a330355\",\"type\":\"ColumnDataSource\"},{\"attributes\":{\"fill_color\":{\"value\":\"#1f77b4\"},\"line_color\":{\"value\":\"#1f77b4\"},\"x\":{\"field\":\"x\"},\"y\":{\"field\":\"y\"}},\"id\":\"5509a80b-5fce-40e1-af3c-b0fb9d31764d\",\"type\":\"Circle\"},{\"attributes\":{\"callback\":null},\"id\":\"9484a01e-14cc-4de3-bfff-b9d89ae0c5be\",\"type\":\"DataRange1d\"},{\"attributes\":{\"callback\":null},\"id\":\"a4fbc921-cd05-4f9d-972c-a1efdcd745fe\",\"type\":\"DataRange1d\"},{\"attributes\":{\"source\":{\"id\":\"9eee30e6-abd9-451f-984d-b1a93a330355\",\"type\":\"ColumnDataSource\"}},\"id\":\"250506d6-188c-4274-b203-56d3f4eb9945\",\"type\":\"CDSView\"},{\"attributes\":{},\"id\":\"ba3e5c39-5480-4990-9b89-026c15cb08eb\",\"type\":\"SaveTool\"},{\"attributes\":{},\"id\":\"cd644f39-18f3-40a3-ab24-bbebfd62ea8e\",\"type\":\"LinearScale\"},{\"attributes\":{},\"id\":\"6d22a1e5-4826-407e-8c37-bcb053b0b7c4\",\"type\":\"BasicTickFormatter\"},{\"attributes\":{},\"id\":\"bafea716-9519-4641-ab19-fed24a18ceb2\",\"type\":\"LinearScale\"},{\"attributes\":{\"fill_alpha\":{\"value\":0.1},\"fill_color\":{\"value\":\"#1f77b4\"},\"line_alpha\":{\"value\":0.1},\"line_color\":{\"value\":\"#1f77b4\"},\"x\":{\"field\":\"x\"},\"y\":{\"field\":\"y\"}},\"id\":\"7c0d23dd-7fca-42fa-a668-46ae6e6529ed\",\"type\":\"Circle\"},{\"attributes\":{},\"id\":\"c9cb36e5-1ff5-4fa1-a31e-f485c3c1a95f\",\"type\":\"HelpTool\"},{\"attributes\":{},\"id\":\"7ceed793-b000-49e2-9a48-a58fd7666b0d\",\"type\":\"ResetTool\"},{\"attributes\":{\"overlay\":{\"id\":\"7280eb50-b8b9-4153-8666-ec1a27681d55\",\"type\":\"BoxAnnotation\"}},\"id\":\"507b19a1-b47c-49c1-baa0-7d149e83376e\",\"type\":\"BoxZoomTool\"},{\"attributes\":{\"dimension\":1,\"plot\":{\"id\":\"7720ed3d-c283-451b-8664-fa5e78bbc45c\",\"subtype\":\"Figure\",\"type\":\"Plot\"},\"ticker\":{\"id\":\"7df1948e-28b8-4887-81b4-ec38b291fb95\",\"type\":\"BasicTicker\"}},\"id\":\"4b508d3b-a49a-4734-ad6d-effad4c076b1\",\"type\":\"Grid\"},{\"attributes\":{},\"id\":\"58befae7-d3aa-4fd0-8e2c-17459e8fc83a\",\"type\":\"PanTool\"}],\"root_ids\":[\"7720ed3d-c283-451b-8664-fa5e78bbc45c\"]},\"title\":\"Bokeh Application\",\"version\":\"0.12.15\"}};\n",
       "  var render_items = [{\"docid\":\"11ee5528-a789-4f7d-ab5d-c36a9e0886f9\",\"elementid\":\"e249dff5-2534-4cb6-96b0-5267cdb46a11\",\"modelid\":\"7720ed3d-c283-451b-8664-fa5e78bbc45c\"}];\n",
       "  root.Bokeh.embed.embed_items_notebook(docs_json, render_items);\n",
       "\n",
       "  }\n",
       "  if (root.Bokeh !== undefined) {\n",
       "    embed_document(root);\n",
       "  } else {\n",
       "    var attempts = 0;\n",
       "    var timer = setInterval(function(root) {\n",
       "      if (root.Bokeh !== undefined) {\n",
       "        embed_document(root);\n",
       "        clearInterval(timer);\n",
       "      }\n",
       "      attempts++;\n",
       "      if (attempts > 100) {\n",
       "        console.log(\"Bokeh: ERROR: Unable to run BokehJS code because BokehJS library is missing\")\n",
       "        clearInterval(timer);\n",
       "      }\n",
       "    }, 10, root)\n",
       "  }\n",
       "})(window);"
      ],
      "application/vnd.bokehjs_exec.v0+json": ""
     },
     "metadata": {
      "application/vnd.bokehjs_exec.v0+json": {
       "id": "7720ed3d-c283-451b-8664-fa5e78bbc45c"
      }
     },
     "output_type": "display_data"
    }
   ],
   "source": [
    "x = np.linspace(0, 2 * np.pi, 200)\n",
    "y = np.cos(x)\n",
    "\n",
    "p = figure()\n",
    "p.circle(x, y)\n",
    "show(p)"
   ]
  },
  {
   "cell_type": "markdown",
   "metadata": {},
   "source": [
    "### Ejemplo linea con puntos"
   ]
  },
  {
   "cell_type": "code",
   "execution_count": 36,
   "metadata": {},
   "outputs": [
    {
     "data": {
      "text/html": [
       "\n",
       "<div class=\"bk-root\">\n",
       "    <div class=\"bk-plotdiv\" id=\"c0d80a8f-9d4e-44af-b1f1-dbf51d332c21\"></div>\n",
       "</div>"
      ]
     },
     "metadata": {},
     "output_type": "display_data"
    },
    {
     "data": {
      "application/javascript": [
       "(function(root) {\n",
       "  function embed_document(root) {\n",
       "    \n",
       "  var docs_json = {\"55cad99e-5855-43e6-bad2-4edaf1da6c59\":{\"roots\":{\"references\":[{\"attributes\":{\"line_alpha\":0.1,\"line_color\":\"#1f77b4\",\"line_width\":2,\"x\":{\"field\":\"x\"},\"y\":{\"field\":\"y\"}},\"id\":\"fdb2a6e1-4899-46e8-aa2f-9c52b65f9126\",\"type\":\"Line\"},{\"attributes\":{},\"id\":\"3e8dac00-0dab-4601-bcc4-0ab5db79426e\",\"type\":\"LinearScale\"},{\"attributes\":{},\"id\":\"5d8e461d-5217-4da5-b7ab-1e9fce11cbd5\",\"type\":\"LinearScale\"},{\"attributes\":{\"below\":[{\"id\":\"69bcf4cf-50eb-45d0-8068-452ad69ff5f4\",\"type\":\"LinearAxis\"}],\"left\":[{\"id\":\"d5871d45-3a14-4af5-8d68-5dd35c21fc03\",\"type\":\"LinearAxis\"}],\"plot_height\":400,\"plot_width\":400,\"renderers\":[{\"id\":\"69bcf4cf-50eb-45d0-8068-452ad69ff5f4\",\"type\":\"LinearAxis\"},{\"id\":\"3955622b-26b6-4cab-b563-ba8c5ed9b23c\",\"type\":\"Grid\"},{\"id\":\"d5871d45-3a14-4af5-8d68-5dd35c21fc03\",\"type\":\"LinearAxis\"},{\"id\":\"a67dd82a-2994-4971-b72e-eeb4e4f619cf\",\"type\":\"Grid\"},{\"id\":\"7976574a-70b7-4632-80c9-185e094d5846\",\"type\":\"BoxAnnotation\"},{\"id\":\"016b55a3-21ef-4a14-ba6d-195d3b43c4b9\",\"type\":\"GlyphRenderer\"},{\"id\":\"7c7ebe53-4bf3-4a60-b110-1557b19af8ac\",\"type\":\"GlyphRenderer\"}],\"title\":{\"id\":\"93fc9f40-24d8-4a3a-a452-32e1357ae2d9\",\"type\":\"Title\"},\"toolbar\":{\"id\":\"11af288a-b873-4e33-b024-ea6d2bff528d\",\"type\":\"Toolbar\"},\"x_range\":{\"id\":\"87d27515-ccb9-4900-88cb-9d93bd70d941\",\"type\":\"DataRange1d\"},\"x_scale\":{\"id\":\"3e8dac00-0dab-4601-bcc4-0ab5db79426e\",\"type\":\"LinearScale\"},\"y_range\":{\"id\":\"ab3cfb80-d888-47b7-932a-8360b700f372\",\"type\":\"DataRange1d\"},\"y_scale\":{\"id\":\"5d8e461d-5217-4da5-b7ab-1e9fce11cbd5\",\"type\":\"LinearScale\"}},\"id\":\"3064b03d-7154-4de4-ae87-6e7465deee53\",\"subtype\":\"Figure\",\"type\":\"Plot\"},{\"attributes\":{\"plot\":{\"id\":\"3064b03d-7154-4de4-ae87-6e7465deee53\",\"subtype\":\"Figure\",\"type\":\"Plot\"},\"ticker\":{\"id\":\"2c26b075-278e-48d8-9cf9-6270d30604b8\",\"type\":\"BasicTicker\"}},\"id\":\"3955622b-26b6-4cab-b563-ba8c5ed9b23c\",\"type\":\"Grid\"},{\"attributes\":{\"callback\":null},\"id\":\"ab3cfb80-d888-47b7-932a-8360b700f372\",\"type\":\"DataRange1d\"},{\"attributes\":{\"formatter\":{\"id\":\"24de02a7-5e70-4d0d-a241-7b5aa76f871b\",\"type\":\"BasicTickFormatter\"},\"plot\":{\"id\":\"3064b03d-7154-4de4-ae87-6e7465deee53\",\"subtype\":\"Figure\",\"type\":\"Plot\"},\"ticker\":{\"id\":\"2c26b075-278e-48d8-9cf9-6270d30604b8\",\"type\":\"BasicTicker\"}},\"id\":\"69bcf4cf-50eb-45d0-8068-452ad69ff5f4\",\"type\":\"LinearAxis\"},{\"attributes\":{\"callback\":null},\"id\":\"87d27515-ccb9-4900-88cb-9d93bd70d941\",\"type\":\"DataRange1d\"},{\"attributes\":{},\"id\":\"2c26b075-278e-48d8-9cf9-6270d30604b8\",\"type\":\"BasicTicker\"},{\"attributes\":{\"formatter\":{\"id\":\"13edef4e-ddf9-4740-9db8-ce6f49f757b8\",\"type\":\"BasicTickFormatter\"},\"plot\":{\"id\":\"3064b03d-7154-4de4-ae87-6e7465deee53\",\"subtype\":\"Figure\",\"type\":\"Plot\"},\"ticker\":{\"id\":\"c9855015-213c-43b1-972a-961913f10175\",\"type\":\"BasicTicker\"}},\"id\":\"d5871d45-3a14-4af5-8d68-5dd35c21fc03\",\"type\":\"LinearAxis\"},{\"attributes\":{},\"id\":\"c9855015-213c-43b1-972a-961913f10175\",\"type\":\"BasicTicker\"},{\"attributes\":{\"dimension\":1,\"plot\":{\"id\":\"3064b03d-7154-4de4-ae87-6e7465deee53\",\"subtype\":\"Figure\",\"type\":\"Plot\"},\"ticker\":{\"id\":\"c9855015-213c-43b1-972a-961913f10175\",\"type\":\"BasicTicker\"}},\"id\":\"a67dd82a-2994-4971-b72e-eeb4e4f619cf\",\"type\":\"Grid\"},{\"attributes\":{\"data_source\":{\"id\":\"8d2438de-e32c-48cc-98e2-5b985167cffe\",\"type\":\"ColumnDataSource\"},\"glyph\":{\"id\":\"031770ff-f170-4249-9305-3584b1f1f9d7\",\"type\":\"Line\"},\"hover_glyph\":null,\"muted_glyph\":null,\"nonselection_glyph\":{\"id\":\"fdb2a6e1-4899-46e8-aa2f-9c52b65f9126\",\"type\":\"Line\"},\"selection_glyph\":null,\"view\":{\"id\":\"ec1833a2-efd8-447a-bcc8-713bafc007e1\",\"type\":\"CDSView\"}},\"id\":\"016b55a3-21ef-4a14-ba6d-195d3b43c4b9\",\"type\":\"GlyphRenderer\"},{\"attributes\":{\"fill_color\":{\"value\":\"white\"},\"line_color\":{\"value\":\"#1f77b4\"},\"size\":{\"units\":\"screen\",\"value\":8},\"x\":{\"field\":\"x\"},\"y\":{\"field\":\"y\"}},\"id\":\"4b4919b9-f3bc-42da-9f27-fc0ccbd2f3ff\",\"type\":\"Circle\"},{\"attributes\":{\"bottom_units\":\"screen\",\"fill_alpha\":{\"value\":0.5},\"fill_color\":{\"value\":\"lightgrey\"},\"left_units\":\"screen\",\"level\":\"overlay\",\"line_alpha\":{\"value\":1.0},\"line_color\":{\"value\":\"black\"},\"line_dash\":[4,4],\"line_width\":{\"value\":2},\"plot\":null,\"render_mode\":\"css\",\"right_units\":\"screen\",\"top_units\":\"screen\"},\"id\":\"7976574a-70b7-4632-80c9-185e094d5846\",\"type\":\"BoxAnnotation\"},{\"attributes\":{},\"id\":\"7bda5d07-8016-4b1b-b5a0-8cc4f0664510\",\"type\":\"PanTool\"},{\"attributes\":{},\"id\":\"2545e327-1029-48d0-b3dd-c8ce5056bda4\",\"type\":\"WheelZoomTool\"},{\"attributes\":{\"overlay\":{\"id\":\"7976574a-70b7-4632-80c9-185e094d5846\",\"type\":\"BoxAnnotation\"}},\"id\":\"33c99cbc-13bc-498f-83d5-4bc78ec32b1a\",\"type\":\"BoxZoomTool\"},{\"attributes\":{},\"id\":\"f89c4a23-e31c-4fa9-a5a0-9b77ca878513\",\"type\":\"SaveTool\"},{\"attributes\":{},\"id\":\"f0d90a10-33fa-4148-bd3a-8f0a4f0ef709\",\"type\":\"ResetTool\"},{\"attributes\":{},\"id\":\"b88a4db6-500e-4445-96fc-5eeef0c76160\",\"type\":\"HelpTool\"},{\"attributes\":{},\"id\":\"24de02a7-5e70-4d0d-a241-7b5aa76f871b\",\"type\":\"BasicTickFormatter\"},{\"attributes\":{\"fill_alpha\":{\"value\":0.1},\"fill_color\":{\"value\":\"#1f77b4\"},\"line_alpha\":{\"value\":0.1},\"line_color\":{\"value\":\"#1f77b4\"},\"size\":{\"units\":\"screen\",\"value\":8},\"x\":{\"field\":\"x\"},\"y\":{\"field\":\"y\"}},\"id\":\"e235e681-79e8-4dd2-8f83-853d014c3905\",\"type\":\"Circle\"},{\"attributes\":{\"source\":{\"id\":\"8d2438de-e32c-48cc-98e2-5b985167cffe\",\"type\":\"ColumnDataSource\"}},\"id\":\"ec1833a2-efd8-447a-bcc8-713bafc007e1\",\"type\":\"CDSView\"},{\"attributes\":{\"plot\":null,\"text\":\"\"},\"id\":\"93fc9f40-24d8-4a3a-a452-32e1357ae2d9\",\"type\":\"Title\"},{\"attributes\":{},\"id\":\"13edef4e-ddf9-4740-9db8-ce6f49f757b8\",\"type\":\"BasicTickFormatter\"},{\"attributes\":{\"source\":{\"id\":\"f8af93a0-fcdf-462e-b75d-7a121a88fbc8\",\"type\":\"ColumnDataSource\"}},\"id\":\"109d6d36-e4cc-4ad9-8da3-677bd04f4c21\",\"type\":\"CDSView\"},{\"attributes\":{\"active_drag\":\"auto\",\"active_inspect\":\"auto\",\"active_scroll\":\"auto\",\"active_tap\":\"auto\",\"tools\":[{\"id\":\"7bda5d07-8016-4b1b-b5a0-8cc4f0664510\",\"type\":\"PanTool\"},{\"id\":\"2545e327-1029-48d0-b3dd-c8ce5056bda4\",\"type\":\"WheelZoomTool\"},{\"id\":\"33c99cbc-13bc-498f-83d5-4bc78ec32b1a\",\"type\":\"BoxZoomTool\"},{\"id\":\"f89c4a23-e31c-4fa9-a5a0-9b77ca878513\",\"type\":\"SaveTool\"},{\"id\":\"f0d90a10-33fa-4148-bd3a-8f0a4f0ef709\",\"type\":\"ResetTool\"},{\"id\":\"b88a4db6-500e-4445-96fc-5eeef0c76160\",\"type\":\"HelpTool\"}]},\"id\":\"11af288a-b873-4e33-b024-ea6d2bff528d\",\"type\":\"Toolbar\"},{\"attributes\":{\"data_source\":{\"id\":\"f8af93a0-fcdf-462e-b75d-7a121a88fbc8\",\"type\":\"ColumnDataSource\"},\"glyph\":{\"id\":\"4b4919b9-f3bc-42da-9f27-fc0ccbd2f3ff\",\"type\":\"Circle\"},\"hover_glyph\":null,\"muted_glyph\":null,\"nonselection_glyph\":{\"id\":\"e235e681-79e8-4dd2-8f83-853d014c3905\",\"type\":\"Circle\"},\"selection_glyph\":null,\"view\":{\"id\":\"109d6d36-e4cc-4ad9-8da3-677bd04f4c21\",\"type\":\"CDSView\"}},\"id\":\"7c7ebe53-4bf3-4a60-b110-1557b19af8ac\",\"type\":\"GlyphRenderer\"},{\"attributes\":{\"callback\":null,\"column_names\":[\"x\",\"y\"],\"data\":{\"x\":[1,2,3,4,5],\"y\":[6,7,8,7,3]},\"selected\":null,\"selection_policy\":null},\"id\":\"f8af93a0-fcdf-462e-b75d-7a121a88fbc8\",\"type\":\"ColumnDataSource\"},{\"attributes\":{\"line_color\":\"#1f77b4\",\"line_width\":2,\"x\":{\"field\":\"x\"},\"y\":{\"field\":\"y\"}},\"id\":\"031770ff-f170-4249-9305-3584b1f1f9d7\",\"type\":\"Line\"},{\"attributes\":{\"callback\":null,\"column_names\":[\"x\",\"y\"],\"data\":{\"x\":[1,2,3,4,5],\"y\":[6,7,8,7,3]},\"selected\":null,\"selection_policy\":null},\"id\":\"8d2438de-e32c-48cc-98e2-5b985167cffe\",\"type\":\"ColumnDataSource\"}],\"root_ids\":[\"3064b03d-7154-4de4-ae87-6e7465deee53\"]},\"title\":\"Bokeh Application\",\"version\":\"0.12.15\"}};\n",
       "  var render_items = [{\"docid\":\"55cad99e-5855-43e6-bad2-4edaf1da6c59\",\"elementid\":\"c0d80a8f-9d4e-44af-b1f1-dbf51d332c21\",\"modelid\":\"3064b03d-7154-4de4-ae87-6e7465deee53\"}];\n",
       "  root.Bokeh.embed.embed_items_notebook(docs_json, render_items);\n",
       "\n",
       "  }\n",
       "  if (root.Bokeh !== undefined) {\n",
       "    embed_document(root);\n",
       "  } else {\n",
       "    var attempts = 0;\n",
       "    var timer = setInterval(function(root) {\n",
       "      if (root.Bokeh !== undefined) {\n",
       "        embed_document(root);\n",
       "        clearInterval(timer);\n",
       "      }\n",
       "      attempts++;\n",
       "      if (attempts > 100) {\n",
       "        console.log(\"Bokeh: ERROR: Unable to run BokehJS code because BokehJS library is missing\")\n",
       "        clearInterval(timer);\n",
       "      }\n",
       "    }, 10, root)\n",
       "  }\n",
       "})(window);"
      ],
      "application/vnd.bokehjs_exec.v0+json": ""
     },
     "metadata": {
      "application/vnd.bokehjs_exec.v0+json": {
       "id": "3064b03d-7154-4de4-ae87-6e7465deee53"
      }
     },
     "output_type": "display_data"
    }
   ],
   "source": [
    "x = [1, 2, 3, 4, 5]\n",
    "y = [6, 7, 8, 7, 3]\n",
    "\n",
    "p = figure(plot_width = 400, plot_height = 400)\n",
    "p.line(x, y, line_width = 2)\n",
    "p.circle(x, y, fill_color = 'white', size = 8)\n",
    "#output_file(\"ejemplo.html\")\n",
    "show(p)"
   ]
  },
  {
   "cell_type": "markdown",
   "metadata": {},
   "source": [
    "### Generar column data source manualmente"
   ]
  },
  {
   "cell_type": "code",
   "execution_count": 37,
   "metadata": {},
   "outputs": [
    {
     "data": {
      "text/html": [
       "\n",
       "<div class=\"bk-root\">\n",
       "    <div class=\"bk-plotdiv\" id=\"1ebe558c-e79f-4555-b0fa-ecfe6d6aaf57\"></div>\n",
       "</div>"
      ]
     },
     "metadata": {},
     "output_type": "display_data"
    },
    {
     "data": {
      "application/javascript": [
       "(function(root) {\n",
       "  function embed_document(root) {\n",
       "    \n",
       "  var docs_json = {\"d5010bb3-9f99-49e6-ba6c-a722a82dbb89\":{\"roots\":{\"references\":[{\"attributes\":{\"formatter\":{\"id\":\"b9cc73e3-c296-4b13-adde-d7054b44d6a7\",\"type\":\"BasicTickFormatter\"},\"plot\":{\"id\":\"42e316ab-177d-49eb-bc76-3e2bd4655dd3\",\"subtype\":\"Figure\",\"type\":\"Plot\"},\"ticker\":{\"id\":\"c7f4cfe8-8f4c-4766-9684-7935937bee5e\",\"type\":\"BasicTicker\"}},\"id\":\"f70d09e6-4343-48d1-915e-b8084ff2b9b3\",\"type\":\"LinearAxis\"},{\"attributes\":{\"source\":{\"id\":\"145f90e4-be52-4393-a069-5f0f09fc2c87\",\"type\":\"ColumnDataSource\"}},\"id\":\"7cce6102-16de-468c-90a0-e97e064bed4e\",\"type\":\"CDSView\"},{\"attributes\":{},\"id\":\"d686d87b-4f5e-4bcf-9ce3-a3542d7dad44\",\"type\":\"BasicTickFormatter\"},{\"attributes\":{\"plot\":{\"id\":\"42e316ab-177d-49eb-bc76-3e2bd4655dd3\",\"subtype\":\"Figure\",\"type\":\"Plot\"},\"ticker\":{\"id\":\"c7f4cfe8-8f4c-4766-9684-7935937bee5e\",\"type\":\"BasicTicker\"}},\"id\":\"d2853221-ae66-4e8a-8626-65f38caa5e8e\",\"type\":\"Grid\"},{\"attributes\":{},\"id\":\"c39c5f7d-07e2-4aff-8762-b3a82bca3556\",\"type\":\"BasicTicker\"},{\"attributes\":{},\"id\":\"f892e63e-b9d6-4e05-bc0f-7baee8e89a1b\",\"type\":\"HelpTool\"},{\"attributes\":{\"bottom_units\":\"screen\",\"fill_alpha\":{\"value\":0.5},\"fill_color\":{\"value\":\"lightgrey\"},\"left_units\":\"screen\",\"level\":\"overlay\",\"line_alpha\":{\"value\":1.0},\"line_color\":{\"value\":\"black\"},\"line_dash\":[4,4],\"line_width\":{\"value\":2},\"plot\":null,\"render_mode\":\"css\",\"right_units\":\"screen\",\"top_units\":\"screen\"},\"id\":\"02b63ef2-ee20-4803-b548-2daf7c82f343\",\"type\":\"BoxAnnotation\"},{\"attributes\":{},\"id\":\"757cb936-2e2b-4716-99d2-09021e518e17\",\"type\":\"LinearScale\"},{\"attributes\":{\"active_drag\":\"auto\",\"active_inspect\":\"auto\",\"active_scroll\":\"auto\",\"active_tap\":\"auto\",\"tools\":[{\"id\":\"21c602fb-b10f-4a4d-93b1-3d7b35f6acd9\",\"type\":\"PanTool\"},{\"id\":\"a02a0670-8cd2-4c6e-9fc5-cbe5d85cad0b\",\"type\":\"WheelZoomTool\"},{\"id\":\"ec6dfde8-ad36-44e4-8220-edd41d04b401\",\"type\":\"BoxZoomTool\"},{\"id\":\"d484aab3-6e71-458c-9dc2-38e1c6c78cd8\",\"type\":\"SaveTool\"},{\"id\":\"8ef3f10b-8932-4a73-b354-2b2d49b75dc6\",\"type\":\"ResetTool\"},{\"id\":\"f892e63e-b9d6-4e05-bc0f-7baee8e89a1b\",\"type\":\"HelpTool\"}]},\"id\":\"90befee8-8dcd-4119-8a9a-6767cd7ea95f\",\"type\":\"Toolbar\"},{\"attributes\":{},\"id\":\"d484aab3-6e71-458c-9dc2-38e1c6c78cd8\",\"type\":\"SaveTool\"},{\"attributes\":{\"overlay\":{\"id\":\"02b63ef2-ee20-4803-b548-2daf7c82f343\",\"type\":\"BoxAnnotation\"}},\"id\":\"ec6dfde8-ad36-44e4-8220-edd41d04b401\",\"type\":\"BoxZoomTool\"},{\"attributes\":{},\"id\":\"c7f4cfe8-8f4c-4766-9684-7935937bee5e\",\"type\":\"BasicTicker\"},{\"attributes\":{},\"id\":\"b72449c6-c8e9-4a41-ad6e-f3687faece56\",\"type\":\"LinearScale\"},{\"attributes\":{},\"id\":\"8ef3f10b-8932-4a73-b354-2b2d49b75dc6\",\"type\":\"ResetTool\"},{\"attributes\":{\"below\":[{\"id\":\"f70d09e6-4343-48d1-915e-b8084ff2b9b3\",\"type\":\"LinearAxis\"}],\"left\":[{\"id\":\"9d118bff-6f89-49e6-bcbf-50d314230455\",\"type\":\"LinearAxis\"}],\"plot_height\":400,\"plot_width\":400,\"renderers\":[{\"id\":\"f70d09e6-4343-48d1-915e-b8084ff2b9b3\",\"type\":\"LinearAxis\"},{\"id\":\"d2853221-ae66-4e8a-8626-65f38caa5e8e\",\"type\":\"Grid\"},{\"id\":\"9d118bff-6f89-49e6-bcbf-50d314230455\",\"type\":\"LinearAxis\"},{\"id\":\"010a3639-232d-4d70-bc4b-0a1f4aa9996f\",\"type\":\"Grid\"},{\"id\":\"02b63ef2-ee20-4803-b548-2daf7c82f343\",\"type\":\"BoxAnnotation\"},{\"id\":\"af2f48b1-1e8b-49e1-8896-df4cba0ee694\",\"type\":\"GlyphRenderer\"}],\"title\":{\"id\":\"6533f4ef-3eb5-4a59-a020-3a3cd152e47e\",\"type\":\"Title\"},\"toolbar\":{\"id\":\"90befee8-8dcd-4119-8a9a-6767cd7ea95f\",\"type\":\"Toolbar\"},\"x_range\":{\"id\":\"12b4de65-e93a-473b-87da-7dc6e13441bd\",\"type\":\"DataRange1d\"},\"x_scale\":{\"id\":\"757cb936-2e2b-4716-99d2-09021e518e17\",\"type\":\"LinearScale\"},\"y_range\":{\"id\":\"1b38c197-1239-4af3-a47f-eed835e5d1b2\",\"type\":\"DataRange1d\"},\"y_scale\":{\"id\":\"b72449c6-c8e9-4a41-ad6e-f3687faece56\",\"type\":\"LinearScale\"}},\"id\":\"42e316ab-177d-49eb-bc76-3e2bd4655dd3\",\"subtype\":\"Figure\",\"type\":\"Plot\"},{\"attributes\":{\"callback\":null},\"id\":\"12b4de65-e93a-473b-87da-7dc6e13441bd\",\"type\":\"DataRange1d\"},{\"attributes\":{\"formatter\":{\"id\":\"d686d87b-4f5e-4bcf-9ce3-a3542d7dad44\",\"type\":\"BasicTickFormatter\"},\"plot\":{\"id\":\"42e316ab-177d-49eb-bc76-3e2bd4655dd3\",\"subtype\":\"Figure\",\"type\":\"Plot\"},\"ticker\":{\"id\":\"c39c5f7d-07e2-4aff-8762-b3a82bca3556\",\"type\":\"BasicTicker\"}},\"id\":\"9d118bff-6f89-49e6-bcbf-50d314230455\",\"type\":\"LinearAxis\"},{\"attributes\":{\"fill_alpha\":{\"field\":\"fill_alpha\"},\"fill_color\":{\"value\":\"orange\"},\"line_color\":{\"value\":\"navy\"},\"size\":{\"field\":\"size\",\"units\":\"screen\"},\"x\":{\"field\":\"x\"},\"y\":{\"field\":\"y\"}},\"id\":\"42eb27da-7f1f-4ddd-94e1-91e744d16f50\",\"type\":\"Circle\"},{\"attributes\":{},\"id\":\"b9cc73e3-c296-4b13-adde-d7054b44d6a7\",\"type\":\"BasicTickFormatter\"},{\"attributes\":{},\"id\":\"a02a0670-8cd2-4c6e-9fc5-cbe5d85cad0b\",\"type\":\"WheelZoomTool\"},{\"attributes\":{\"data_source\":{\"id\":\"145f90e4-be52-4393-a069-5f0f09fc2c87\",\"type\":\"ColumnDataSource\"},\"glyph\":{\"id\":\"42eb27da-7f1f-4ddd-94e1-91e744d16f50\",\"type\":\"Circle\"},\"hover_glyph\":null,\"muted_glyph\":null,\"nonselection_glyph\":{\"id\":\"cc8ee700-408f-4838-9e04-2c5366f3d110\",\"type\":\"Circle\"},\"selection_glyph\":null,\"view\":{\"id\":\"7cce6102-16de-468c-90a0-e97e064bed4e\",\"type\":\"CDSView\"}},\"id\":\"af2f48b1-1e8b-49e1-8896-df4cba0ee694\",\"type\":\"GlyphRenderer\"},{\"attributes\":{\"fill_alpha\":{\"value\":0.1},\"fill_color\":{\"value\":\"#1f77b4\"},\"line_alpha\":{\"value\":0.1},\"line_color\":{\"value\":\"#1f77b4\"},\"size\":{\"field\":\"size\",\"units\":\"screen\"},\"x\":{\"field\":\"x\"},\"y\":{\"field\":\"y\"}},\"id\":\"cc8ee700-408f-4838-9e04-2c5366f3d110\",\"type\":\"Circle\"},{\"attributes\":{\"callback\":null,\"column_names\":[\"size\",\"x\",\"y\",\"fill_alpha\"],\"data\":{\"fill_alpha\":[0.5,0.2,0.2,1,1],\"size\":[10,15,20,25,30],\"x\":[1,2,3,4,5],\"y\":[6,7,2,4,5]},\"selected\":null,\"selection_policy\":null},\"id\":\"145f90e4-be52-4393-a069-5f0f09fc2c87\",\"type\":\"ColumnDataSource\"},{\"attributes\":{\"dimension\":1,\"plot\":{\"id\":\"42e316ab-177d-49eb-bc76-3e2bd4655dd3\",\"subtype\":\"Figure\",\"type\":\"Plot\"},\"ticker\":{\"id\":\"c39c5f7d-07e2-4aff-8762-b3a82bca3556\",\"type\":\"BasicTicker\"}},\"id\":\"010a3639-232d-4d70-bc4b-0a1f4aa9996f\",\"type\":\"Grid\"},{\"attributes\":{\"plot\":null,\"text\":\"\"},\"id\":\"6533f4ef-3eb5-4a59-a020-3a3cd152e47e\",\"type\":\"Title\"},{\"attributes\":{},\"id\":\"21c602fb-b10f-4a4d-93b1-3d7b35f6acd9\",\"type\":\"PanTool\"},{\"attributes\":{\"callback\":null},\"id\":\"1b38c197-1239-4af3-a47f-eed835e5d1b2\",\"type\":\"DataRange1d\"}],\"root_ids\":[\"42e316ab-177d-49eb-bc76-3e2bd4655dd3\"]},\"title\":\"Bokeh Application\",\"version\":\"0.12.15\"}};\n",
       "  var render_items = [{\"docid\":\"d5010bb3-9f99-49e6-ba6c-a722a82dbb89\",\"elementid\":\"1ebe558c-e79f-4555-b0fa-ecfe6d6aaf57\",\"modelid\":\"42e316ab-177d-49eb-bc76-3e2bd4655dd3\"}];\n",
       "  root.Bokeh.embed.embed_items_notebook(docs_json, render_items);\n",
       "\n",
       "  }\n",
       "  if (root.Bokeh !== undefined) {\n",
       "    embed_document(root);\n",
       "  } else {\n",
       "    var attempts = 0;\n",
       "    var timer = setInterval(function(root) {\n",
       "      if (root.Bokeh !== undefined) {\n",
       "        embed_document(root);\n",
       "        clearInterval(timer);\n",
       "      }\n",
       "      attempts++;\n",
       "      if (attempts > 100) {\n",
       "        console.log(\"Bokeh: ERROR: Unable to run BokehJS code because BokehJS library is missing\")\n",
       "        clearInterval(timer);\n",
       "      }\n",
       "    }, 10, root)\n",
       "  }\n",
       "})(window);"
      ],
      "application/vnd.bokehjs_exec.v0+json": ""
     },
     "metadata": {
      "application/vnd.bokehjs_exec.v0+json": {
       "id": "42e316ab-177d-49eb-bc76-3e2bd4655dd3"
      }
     },
     "output_type": "display_data"
    }
   ],
   "source": [
    "# Create a plot\n",
    "p = figure(plot_width = 400, plot_height = 400)\n",
    "\n",
    "# Display a scater plot (several points)\n",
    "p.circle([1, 2, 3, 4, 5], [6, 7, 2, 4, 5], size = [10, 15, 20, 25, 30], line_color = \"navy\", \n",
    "         fill_color = \"orange\", fill_alpha = [0.5, 0.2, 0.2, 1, 1])\n",
    "\n",
    "# Display plot\n",
    "show(p)"
   ]
  },
  {
   "cell_type": "code",
   "execution_count": 38,
   "metadata": {},
   "outputs": [],
   "source": [
    "from bokeh.plotting import ColumnDataSource\n",
    "datos = {\n",
    "    'edad':[1, 2, 3, 4, 5],\n",
    "    'altura':[6, 7, 2, 4, 5]\n",
    "}\n",
    "source1 = ColumnDataSource(data = datos)"
   ]
  },
  {
   "cell_type": "code",
   "execution_count": 39,
   "metadata": {},
   "outputs": [
    {
     "data": {
      "text/html": [
       "\n",
       "<div class=\"bk-root\">\n",
       "    <div class=\"bk-plotdiv\" id=\"bf9f6979-3005-44cb-94e3-815e3877b583\"></div>\n",
       "</div>"
      ]
     },
     "metadata": {},
     "output_type": "display_data"
    },
    {
     "data": {
      "application/javascript": [
       "(function(root) {\n",
       "  function embed_document(root) {\n",
       "    \n",
       "  var docs_json = {\"0b63936f-599b-4c4d-9642-f8ffb104ffb2\":{\"roots\":{\"references\":[{\"attributes\":{\"bottom_units\":\"screen\",\"fill_alpha\":{\"value\":0.5},\"fill_color\":{\"value\":\"lightgrey\"},\"left_units\":\"screen\",\"level\":\"overlay\",\"line_alpha\":{\"value\":1.0},\"line_color\":{\"value\":\"black\"},\"line_dash\":[4,4],\"line_width\":{\"value\":2},\"plot\":null,\"render_mode\":\"css\",\"right_units\":\"screen\",\"top_units\":\"screen\"},\"id\":\"43520146-886b-4945-9442-70202db6d32e\",\"type\":\"BoxAnnotation\"},{\"attributes\":{\"source\":{\"id\":\"120adb4d-06a8-4b86-91ba-12823bdb6b2e\",\"type\":\"ColumnDataSource\"}},\"id\":\"1601ea8e-7901-4da2-8fdd-4cbe9eab513e\",\"type\":\"CDSView\"},{\"attributes\":{},\"id\":\"0fe483a5-907e-461a-9107-0729bd0bd0ba\",\"type\":\"PanTool\"},{\"attributes\":{},\"id\":\"42e1e9cb-5050-4da0-a01f-462d12f4d91b\",\"type\":\"BasicTickFormatter\"},{\"attributes\":{},\"id\":\"47101cfa-46f7-4d78-a094-64cf71344d4a\",\"type\":\"WheelZoomTool\"},{\"attributes\":{\"overlay\":{\"id\":\"43520146-886b-4945-9442-70202db6d32e\",\"type\":\"BoxAnnotation\"}},\"id\":\"b40a8244-ec5e-44bb-ae11-c36af2e131de\",\"type\":\"BoxZoomTool\"},{\"attributes\":{},\"id\":\"2eda80c7-068b-47bc-a1a1-7aed22bbf109\",\"type\":\"SaveTool\"},{\"attributes\":{\"fill_alpha\":{\"value\":0.5},\"fill_color\":{\"value\":\"orange\"},\"line_color\":{\"value\":\"navy\"},\"size\":{\"units\":\"screen\",\"value\":15},\"x\":{\"field\":\"edad\"},\"y\":{\"field\":\"altura\"}},\"id\":\"14b799a5-5a6e-48c2-b476-b291a3ca71df\",\"type\":\"Circle\"},{\"attributes\":{},\"id\":\"f539f6ec-c040-4dff-a145-f552a86b949e\",\"type\":\"ResetTool\"},{\"attributes\":{},\"id\":\"e0f67c60-1363-44cb-b507-be20698bbf5a\",\"type\":\"HelpTool\"},{\"attributes\":{},\"id\":\"6beb60a2-93e5-4320-ac3e-76c376a8c4b7\",\"type\":\"LinearScale\"},{\"attributes\":{\"formatter\":{\"id\":\"42e1e9cb-5050-4da0-a01f-462d12f4d91b\",\"type\":\"BasicTickFormatter\"},\"plot\":{\"id\":\"2807af25-5963-404b-9fd1-4cc47625785d\",\"subtype\":\"Figure\",\"type\":\"Plot\"},\"ticker\":{\"id\":\"a533f366-677f-44a7-9362-5a10ae9adaaf\",\"type\":\"BasicTicker\"}},\"id\":\"19b613ff-f526-4d6e-83bf-e5efcab3e373\",\"type\":\"LinearAxis\"},{\"attributes\":{\"callback\":null},\"id\":\"654c36ff-ea16-46f3-906a-f8ea52b42775\",\"type\":\"DataRange1d\"},{\"attributes\":{\"fill_alpha\":{\"value\":0.1},\"fill_color\":{\"value\":\"#1f77b4\"},\"line_alpha\":{\"value\":0.1},\"line_color\":{\"value\":\"#1f77b4\"},\"size\":{\"units\":\"screen\",\"value\":15},\"x\":{\"field\":\"edad\"},\"y\":{\"field\":\"altura\"}},\"id\":\"09711e51-c7df-400f-81bd-57314d71b13e\",\"type\":\"Circle\"},{\"attributes\":{},\"id\":\"9fbde282-0bcc-4707-92ba-a2005bd14c60\",\"type\":\"BasicTickFormatter\"},{\"attributes\":{\"data_source\":{\"id\":\"120adb4d-06a8-4b86-91ba-12823bdb6b2e\",\"type\":\"ColumnDataSource\"},\"glyph\":{\"id\":\"14b799a5-5a6e-48c2-b476-b291a3ca71df\",\"type\":\"Circle\"},\"hover_glyph\":null,\"muted_glyph\":null,\"nonselection_glyph\":{\"id\":\"09711e51-c7df-400f-81bd-57314d71b13e\",\"type\":\"Circle\"},\"selection_glyph\":null,\"view\":{\"id\":\"1601ea8e-7901-4da2-8fdd-4cbe9eab513e\",\"type\":\"CDSView\"}},\"id\":\"0f5e374c-9b04-4596-adca-0e4e299af3bc\",\"type\":\"GlyphRenderer\"},{\"attributes\":{\"active_drag\":\"auto\",\"active_inspect\":\"auto\",\"active_scroll\":\"auto\",\"active_tap\":\"auto\",\"tools\":[{\"id\":\"0fe483a5-907e-461a-9107-0729bd0bd0ba\",\"type\":\"PanTool\"},{\"id\":\"47101cfa-46f7-4d78-a094-64cf71344d4a\",\"type\":\"WheelZoomTool\"},{\"id\":\"b40a8244-ec5e-44bb-ae11-c36af2e131de\",\"type\":\"BoxZoomTool\"},{\"id\":\"2eda80c7-068b-47bc-a1a1-7aed22bbf109\",\"type\":\"SaveTool\"},{\"id\":\"f539f6ec-c040-4dff-a145-f552a86b949e\",\"type\":\"ResetTool\"},{\"id\":\"e0f67c60-1363-44cb-b507-be20698bbf5a\",\"type\":\"HelpTool\"}]},\"id\":\"a6e962ea-9c22-4c2a-9402-59d7727914ca\",\"type\":\"Toolbar\"},{\"attributes\":{},\"id\":\"a533f366-677f-44a7-9362-5a10ae9adaaf\",\"type\":\"BasicTicker\"},{\"attributes\":{\"dimension\":1,\"plot\":{\"id\":\"2807af25-5963-404b-9fd1-4cc47625785d\",\"subtype\":\"Figure\",\"type\":\"Plot\"},\"ticker\":{\"id\":\"4a0b9074-3085-4ee3-96ad-c78db9eb4b99\",\"type\":\"BasicTicker\"}},\"id\":\"661f662e-6a45-45c0-99bc-6ba6c1f98a35\",\"type\":\"Grid\"},{\"attributes\":{\"callback\":null},\"id\":\"a7794625-822f-4720-b1e1-706f32cee626\",\"type\":\"DataRange1d\"},{\"attributes\":{},\"id\":\"567d3b2a-4392-4905-b854-83b5403622ff\",\"type\":\"LinearScale\"},{\"attributes\":{\"plot\":{\"id\":\"2807af25-5963-404b-9fd1-4cc47625785d\",\"subtype\":\"Figure\",\"type\":\"Plot\"},\"ticker\":{\"id\":\"a533f366-677f-44a7-9362-5a10ae9adaaf\",\"type\":\"BasicTicker\"}},\"id\":\"1da56563-15de-421d-9b0b-74ae8b43cb5d\",\"type\":\"Grid\"},{\"attributes\":{\"formatter\":{\"id\":\"9fbde282-0bcc-4707-92ba-a2005bd14c60\",\"type\":\"BasicTickFormatter\"},\"plot\":{\"id\":\"2807af25-5963-404b-9fd1-4cc47625785d\",\"subtype\":\"Figure\",\"type\":\"Plot\"},\"ticker\":{\"id\":\"4a0b9074-3085-4ee3-96ad-c78db9eb4b99\",\"type\":\"BasicTicker\"}},\"id\":\"da8fe860-d42a-41df-bb0b-20951cd9388a\",\"type\":\"LinearAxis\"},{\"attributes\":{},\"id\":\"4a0b9074-3085-4ee3-96ad-c78db9eb4b99\",\"type\":\"BasicTicker\"},{\"attributes\":{\"plot\":null,\"text\":\"\"},\"id\":\"d379be35-1502-4034-b46e-ffde6ebe4465\",\"type\":\"Title\"},{\"attributes\":{\"callback\":null,\"column_names\":[\"edad\",\"altura\"],\"data\":{\"altura\":[6,7,2,4,5],\"edad\":[1,2,3,4,5]},\"selected\":null,\"selection_policy\":null},\"id\":\"120adb4d-06a8-4b86-91ba-12823bdb6b2e\",\"type\":\"ColumnDataSource\"},{\"attributes\":{\"below\":[{\"id\":\"19b613ff-f526-4d6e-83bf-e5efcab3e373\",\"type\":\"LinearAxis\"}],\"left\":[{\"id\":\"da8fe860-d42a-41df-bb0b-20951cd9388a\",\"type\":\"LinearAxis\"}],\"plot_height\":400,\"plot_width\":400,\"renderers\":[{\"id\":\"19b613ff-f526-4d6e-83bf-e5efcab3e373\",\"type\":\"LinearAxis\"},{\"id\":\"1da56563-15de-421d-9b0b-74ae8b43cb5d\",\"type\":\"Grid\"},{\"id\":\"da8fe860-d42a-41df-bb0b-20951cd9388a\",\"type\":\"LinearAxis\"},{\"id\":\"661f662e-6a45-45c0-99bc-6ba6c1f98a35\",\"type\":\"Grid\"},{\"id\":\"43520146-886b-4945-9442-70202db6d32e\",\"type\":\"BoxAnnotation\"},{\"id\":\"0f5e374c-9b04-4596-adca-0e4e299af3bc\",\"type\":\"GlyphRenderer\"}],\"title\":{\"id\":\"d379be35-1502-4034-b46e-ffde6ebe4465\",\"type\":\"Title\"},\"toolbar\":{\"id\":\"a6e962ea-9c22-4c2a-9402-59d7727914ca\",\"type\":\"Toolbar\"},\"x_range\":{\"id\":\"a7794625-822f-4720-b1e1-706f32cee626\",\"type\":\"DataRange1d\"},\"x_scale\":{\"id\":\"6beb60a2-93e5-4320-ac3e-76c376a8c4b7\",\"type\":\"LinearScale\"},\"y_range\":{\"id\":\"654c36ff-ea16-46f3-906a-f8ea52b42775\",\"type\":\"DataRange1d\"},\"y_scale\":{\"id\":\"567d3b2a-4392-4905-b854-83b5403622ff\",\"type\":\"LinearScale\"}},\"id\":\"2807af25-5963-404b-9fd1-4cc47625785d\",\"subtype\":\"Figure\",\"type\":\"Plot\"}],\"root_ids\":[\"2807af25-5963-404b-9fd1-4cc47625785d\"]},\"title\":\"Bokeh Application\",\"version\":\"0.12.15\"}};\n",
       "  var render_items = [{\"docid\":\"0b63936f-599b-4c4d-9642-f8ffb104ffb2\",\"elementid\":\"bf9f6979-3005-44cb-94e3-815e3877b583\",\"modelid\":\"2807af25-5963-404b-9fd1-4cc47625785d\"}];\n",
       "  root.Bokeh.embed.embed_items_notebook(docs_json, render_items);\n",
       "\n",
       "  }\n",
       "  if (root.Bokeh !== undefined) {\n",
       "    embed_document(root);\n",
       "  } else {\n",
       "    var attempts = 0;\n",
       "    var timer = setInterval(function(root) {\n",
       "      if (root.Bokeh !== undefined) {\n",
       "        embed_document(root);\n",
       "        clearInterval(timer);\n",
       "      }\n",
       "      attempts++;\n",
       "      if (attempts > 100) {\n",
       "        console.log(\"Bokeh: ERROR: Unable to run BokehJS code because BokehJS library is missing\")\n",
       "        clearInterval(timer);\n",
       "      }\n",
       "    }, 10, root)\n",
       "  }\n",
       "})(window);"
      ],
      "application/vnd.bokehjs_exec.v0+json": ""
     },
     "metadata": {
      "application/vnd.bokehjs_exec.v0+json": {
       "id": "2807af25-5963-404b-9fd1-4cc47625785d"
      }
     },
     "output_type": "display_data"
    }
   ],
   "source": [
    "p = figure(plot_width = 400, plot_height = 400)\n",
    "p.circle('edad', 'altura', size = 15, line_color = \"navy\", fill_color = \"orange\", fill_alpha = 0.5, source = source1)\n",
    "show(p)"
   ]
  },
  {
   "cell_type": "markdown",
   "metadata": {},
   "source": [
    "### Ejemplo de flores"
   ]
  },
  {
   "cell_type": "code",
   "execution_count": 40,
   "metadata": {},
   "outputs": [
    {
     "data": {
      "text/html": [
       "<div>\n",
       "<style scoped>\n",
       "    .dataframe tbody tr th:only-of-type {\n",
       "        vertical-align: middle;\n",
       "    }\n",
       "\n",
       "    .dataframe tbody tr th {\n",
       "        vertical-align: top;\n",
       "    }\n",
       "\n",
       "    .dataframe thead th {\n",
       "        text-align: right;\n",
       "    }\n",
       "</style>\n",
       "<table border=\"1\" class=\"dataframe\">\n",
       "  <thead>\n",
       "    <tr style=\"text-align: right;\">\n",
       "      <th></th>\n",
       "      <th>sepal_length</th>\n",
       "      <th>sepal_width</th>\n",
       "      <th>petal_length</th>\n",
       "      <th>petal_width</th>\n",
       "      <th>species</th>\n",
       "    </tr>\n",
       "  </thead>\n",
       "  <tbody>\n",
       "    <tr>\n",
       "      <th>0</th>\n",
       "      <td>5.1</td>\n",
       "      <td>3.5</td>\n",
       "      <td>1.4</td>\n",
       "      <td>0.2</td>\n",
       "      <td>setosa</td>\n",
       "    </tr>\n",
       "    <tr>\n",
       "      <th>1</th>\n",
       "      <td>4.9</td>\n",
       "      <td>3.0</td>\n",
       "      <td>1.4</td>\n",
       "      <td>0.2</td>\n",
       "      <td>setosa</td>\n",
       "    </tr>\n",
       "    <tr>\n",
       "      <th>2</th>\n",
       "      <td>4.7</td>\n",
       "      <td>3.2</td>\n",
       "      <td>1.3</td>\n",
       "      <td>0.2</td>\n",
       "      <td>setosa</td>\n",
       "    </tr>\n",
       "    <tr>\n",
       "      <th>3</th>\n",
       "      <td>4.6</td>\n",
       "      <td>3.1</td>\n",
       "      <td>1.5</td>\n",
       "      <td>0.2</td>\n",
       "      <td>setosa</td>\n",
       "    </tr>\n",
       "    <tr>\n",
       "      <th>4</th>\n",
       "      <td>5.0</td>\n",
       "      <td>3.6</td>\n",
       "      <td>1.4</td>\n",
       "      <td>0.2</td>\n",
       "      <td>setosa</td>\n",
       "    </tr>\n",
       "  </tbody>\n",
       "</table>\n",
       "</div>"
      ],
      "text/plain": [
       "   sepal_length  sepal_width  petal_length  petal_width species\n",
       "0           5.1          3.5           1.4          0.2  setosa\n",
       "1           4.9          3.0           1.4          0.2  setosa\n",
       "2           4.7          3.2           1.3          0.2  setosa\n",
       "3           4.6          3.1           1.5          0.2  setosa\n",
       "4           5.0          3.6           1.4          0.2  setosa"
      ]
     },
     "execution_count": 40,
     "metadata": {},
     "output_type": "execute_result"
    }
   ],
   "source": [
    "from bokeh.sampledata.iris import flowers as df\n",
    "df.head()"
   ]
  },
  {
   "cell_type": "code",
   "execution_count": 41,
   "metadata": {},
   "outputs": [],
   "source": [
    "source = ColumnDataSource(df)"
   ]
  },
  {
   "cell_type": "code",
   "execution_count": 42,
   "metadata": {},
   "outputs": [
    {
     "data": {
      "text/html": [
       "\n",
       "<div class=\"bk-root\">\n",
       "    <div class=\"bk-plotdiv\" id=\"9f80fb39-b04b-4f62-8571-7beadc6796a9\"></div>\n",
       "</div>"
      ]
     },
     "metadata": {},
     "output_type": "display_data"
    },
    {
     "data": {
      "application/javascript": [
       "(function(root) {\n",
       "  function embed_document(root) {\n",
       "    \n",
       "  var docs_json = {\"9cd8308d-33b2-4649-ae3f-f145153c30fb\":{\"roots\":{\"references\":[{\"attributes\":{},\"id\":\"ada0f293-5f7e-42f7-8290-dc4c6af99b23\",\"type\":\"BasicTicker\"},{\"attributes\":{\"data_source\":{\"id\":\"3816fcbc-8019-4f1c-adbc-701f6fd3d211\",\"type\":\"ColumnDataSource\"},\"glyph\":{\"id\":\"5d08e5a5-ab19-4499-95b2-c8ba22ec8448\",\"type\":\"Circle\"},\"hover_glyph\":null,\"muted_glyph\":null,\"nonselection_glyph\":{\"id\":\"574d85a0-fd30-4f67-b383-027f4e0691b7\",\"type\":\"Circle\"},\"selection_glyph\":null,\"view\":{\"id\":\"2719b80f-fd3c-4c08-9adc-72c7557a8f2f\",\"type\":\"CDSView\"}},\"id\":\"44b60e04-fd9b-48c1-bc42-c87b6c51b3ae\",\"type\":\"GlyphRenderer\"},{\"attributes\":{},\"id\":\"d8fe6e24-c2cd-4c33-96b5-83f2edeb8150\",\"type\":\"HelpTool\"},{\"attributes\":{},\"id\":\"aaaf836c-007a-428f-a7f6-768ece1fe37e\",\"type\":\"ResetTool\"},{\"attributes\":{\"callback\":null,\"column_names\":[\"sepal_length\",\"sepal_width\",\"petal_length\",\"petal_width\",\"species\",\"index\"],\"data\":{\"index\":[0,1,2,3,4,5,6,7,8,9,10,11,12,13,14,15,16,17,18,19,20,21,22,23,24,25,26,27,28,29,30,31,32,33,34,35,36,37,38,39,40,41,42,43,44,45,46,47,48,49,50,51,52,53,54,55,56,57,58,59,60,61,62,63,64,65,66,67,68,69,70,71,72,73,74,75,76,77,78,79,80,81,82,83,84,85,86,87,88,89,90,91,92,93,94,95,96,97,98,99,100,101,102,103,104,105,106,107,108,109,110,111,112,113,114,115,116,117,118,119,120,121,122,123,124,125,126,127,128,129,130,131,132,133,134,135,136,137,138,139,140,141,142,143,144,145,146,147,148,149],\"petal_length\":{\"__ndarray__\":\"ZmZmZmZm9j9mZmZmZmb2P83MzMzMzPQ/AAAAAAAA+D9mZmZmZmb2PzMzMzMzM/s/ZmZmZmZm9j8AAAAAAAD4P2ZmZmZmZvY/AAAAAAAA+D8AAAAAAAD4P5qZmZmZmfk/ZmZmZmZm9j+amZmZmZnxPzMzMzMzM/M/AAAAAAAA+D/NzMzMzMz0P2ZmZmZmZvY/MzMzMzMz+z8AAAAAAAD4PzMzMzMzM/s/AAAAAAAA+D8AAAAAAADwPzMzMzMzM/s/ZmZmZmZm/j+amZmZmZn5P5qZmZmZmfk/AAAAAAAA+D9mZmZmZmb2P5qZmZmZmfk/mpmZmZmZ+T8AAAAAAAD4PwAAAAAAAPg/ZmZmZmZm9j8AAAAAAAD4PzMzMzMzM/M/zczMzMzM9D9mZmZmZmb2P83MzMzMzPQ/AAAAAAAA+D/NzMzMzMz0P83MzMzMzPQ/zczMzMzM9D+amZmZmZn5P2ZmZmZmZv4/ZmZmZmZm9j+amZmZmZn5P2ZmZmZmZvY/AAAAAAAA+D9mZmZmZmb2P83MzMzMzBJAAAAAAAAAEkCamZmZmZkTQAAAAAAAABBAZmZmZmZmEkAAAAAAAAASQM3MzMzMzBJAZmZmZmZmCkBmZmZmZmYSQDMzMzMzMw9AAAAAAAAADEDNzMzMzMwQQAAAAAAAABBAzczMzMzMEkDNzMzMzMwMQJqZmZmZmRFAAAAAAAAAEkBmZmZmZmYQQAAAAAAAABJAMzMzMzMzD0AzMzMzMzMTQAAAAAAAABBAmpmZmZmZE0DNzMzMzMwSQDMzMzMzMxFAmpmZmZmZEUAzMzMzMzMTQAAAAAAAABRAAAAAAAAAEkAAAAAAAAAMQGZmZmZmZg5AmpmZmZmZDUAzMzMzMzMPQGZmZmZmZhRAAAAAAAAAEkAAAAAAAAASQM3MzMzMzBJAmpmZmZmZEUBmZmZmZmYQQAAAAAAAABBAmpmZmZmZEUBmZmZmZmYSQAAAAAAAABBAZmZmZmZmCkDNzMzMzMwQQM3MzMzMzBBAzczMzMzMEEAzMzMzMzMRQAAAAAAAAAhAZmZmZmZmEEAAAAAAAAAYQGZmZmZmZhRAmpmZmZmZF0BmZmZmZmYWQDMzMzMzMxdAZmZmZmZmGkAAAAAAAAASQDMzMzMzMxlAMzMzMzMzF0BmZmZmZmYYQGZmZmZmZhRAMzMzMzMzFUAAAAAAAAAWQAAAAAAAABRAZmZmZmZmFEAzMzMzMzMVQAAAAAAAABZAzczMzMzMGkCamZmZmZkbQAAAAAAAABRAzczMzMzMFkCamZmZmZkTQM3MzMzMzBpAmpmZmZmZE0DNzMzMzMwWQAAAAAAAABhAMzMzMzMzE0CamZmZmZkTQGZmZmZmZhZAMzMzMzMzF0BmZmZmZmYYQJqZmZmZmRlAZmZmZmZmFkBmZmZmZmYUQGZmZmZmZhZAZmZmZmZmGEBmZmZmZmYWQAAAAAAAABZAMzMzMzMzE0CamZmZmZkVQGZmZmZmZhZAZmZmZmZmFEBmZmZmZmYUQJqZmZmZmRdAzczMzMzMFkDNzMzMzMwUQAAAAAAAABRAzczMzMzMFECamZmZmZkVQGZmZmZmZhRA\",\"dtype\":\"float64\",\"shape\":[150]},\"petal_width\":{\"__ndarray__\":\"mpmZmZmZyT+amZmZmZnJP5qZmZmZmck/mpmZmZmZyT+amZmZmZnJP5qZmZmZmdk/MzMzMzMz0z+amZmZmZnJP5qZmZmZmck/mpmZmZmZuT+amZmZmZnJP5qZmZmZmck/mpmZmZmZuT+amZmZmZm5P5qZmZmZmck/mpmZmZmZ2T+amZmZmZnZPzMzMzMzM9M/MzMzMzMz0z8zMzMzMzPTP5qZmZmZmck/mpmZmZmZ2T+amZmZmZnJPwAAAAAAAOA/mpmZmZmZyT+amZmZmZnJP5qZmZmZmdk/mpmZmZmZyT+amZmZmZnJP5qZmZmZmck/mpmZmZmZyT+amZmZmZnZP5qZmZmZmbk/mpmZmZmZyT+amZmZmZnJP5qZmZmZmck/mpmZmZmZyT+amZmZmZm5P5qZmZmZmck/mpmZmZmZyT8zMzMzMzPTPzMzMzMzM9M/mpmZmZmZyT8zMzMzMzPjP5qZmZmZmdk/MzMzMzMz0z+amZmZmZnJP5qZmZmZmck/mpmZmZmZyT+amZmZmZnJP2ZmZmZmZvY/AAAAAAAA+D8AAAAAAAD4P83MzMzMzPQ/AAAAAAAA+D/NzMzMzMz0P5qZmZmZmfk/AAAAAAAA8D/NzMzMzMz0P2ZmZmZmZvY/AAAAAAAA8D8AAAAAAAD4PwAAAAAAAPA/ZmZmZmZm9j/NzMzMzMz0P2ZmZmZmZvY/AAAAAAAA+D8AAAAAAADwPwAAAAAAAPg/mpmZmZmZ8T/NzMzMzMz8P83MzMzMzPQ/AAAAAAAA+D8zMzMzMzPzP83MzMzMzPQ/ZmZmZmZm9j9mZmZmZmb2PzMzMzMzM/s/AAAAAAAA+D8AAAAAAADwP5qZmZmZmfE/AAAAAAAA8D8zMzMzMzPzP5qZmZmZmfk/AAAAAAAA+D+amZmZmZn5PwAAAAAAAPg/zczMzMzM9D/NzMzMzMz0P83MzMzMzPQ/MzMzMzMz8z9mZmZmZmb2PzMzMzMzM/M/AAAAAAAA8D/NzMzMzMz0PzMzMzMzM/M/zczMzMzM9D/NzMzMzMz0P5qZmZmZmfE/zczMzMzM9D8AAAAAAAAEQGZmZmZmZv4/zczMzMzMAEDNzMzMzMz8P5qZmZmZmQFAzczMzMzMAEAzMzMzMzP7P83MzMzMzPw/zczMzMzM/D8AAAAAAAAEQAAAAAAAAABAZmZmZmZm/j/NzMzMzMwAQAAAAAAAAABAMzMzMzMzA0BmZmZmZmYCQM3MzMzMzPw/mpmZmZmZAUBmZmZmZmYCQAAAAAAAAPg/ZmZmZmZmAkAAAAAAAAAAQAAAAAAAAABAzczMzMzM/D/NzMzMzMwAQM3MzMzMzPw/zczMzMzM/D/NzMzMzMz8P83MzMzMzABAmpmZmZmZ+T9mZmZmZmb+PwAAAAAAAABAmpmZmZmZAUAAAAAAAAD4P2ZmZmZmZvY/ZmZmZmZmAkAzMzMzMzMDQM3MzMzMzPw/zczMzMzM/D/NzMzMzMwAQDMzMzMzMwNAZmZmZmZmAkBmZmZmZmb+P2ZmZmZmZgJAAAAAAAAABEBmZmZmZmYCQGZmZmZmZv4/AAAAAAAAAEBmZmZmZmYCQM3MzMzMzPw/\",\"dtype\":\"float64\",\"shape\":[150]},\"sepal_length\":{\"__ndarray__\":\"ZmZmZmZmFECamZmZmZkTQM3MzMzMzBJAZmZmZmZmEkAAAAAAAAAUQJqZmZmZmRVAZmZmZmZmEkAAAAAAAAAUQJqZmZmZmRFAmpmZmZmZE0CamZmZmZkVQDMzMzMzMxNAMzMzMzMzE0AzMzMzMzMRQDMzMzMzMxdAzczMzMzMFkCamZmZmZkVQGZmZmZmZhRAzczMzMzMFkBmZmZmZmYUQJqZmZmZmRVAZmZmZmZmFEBmZmZmZmYSQGZmZmZmZhRAMzMzMzMzE0AAAAAAAAAUQAAAAAAAABRAzczMzMzMFEDNzMzMzMwUQM3MzMzMzBJAMzMzMzMzE0CamZmZmZkVQM3MzMzMzBRAAAAAAAAAFkCamZmZmZkTQAAAAAAAABRAAAAAAAAAFkCamZmZmZkTQJqZmZmZmRFAZmZmZmZmFEAAAAAAAAAUQAAAAAAAABJAmpmZmZmZEUAAAAAAAAAUQGZmZmZmZhRAMzMzMzMzE0BmZmZmZmYUQGZmZmZmZhJAMzMzMzMzFUAAAAAAAAAUQAAAAAAAABxAmpmZmZmZGUCamZmZmZkbQAAAAAAAABZAAAAAAAAAGkDNzMzMzMwWQDMzMzMzMxlAmpmZmZmZE0BmZmZmZmYaQM3MzMzMzBRAAAAAAAAAFECamZmZmZkXQAAAAAAAABhAZmZmZmZmGEBmZmZmZmYWQM3MzMzMzBpAZmZmZmZmFkAzMzMzMzMXQM3MzMzMzBhAZmZmZmZmFkCamZmZmZkXQGZmZmZmZhhAMzMzMzMzGUBmZmZmZmYYQJqZmZmZmRlAZmZmZmZmGkAzMzMzMzMbQM3MzMzMzBpAAAAAAAAAGEDNzMzMzMwWQAAAAAAAABZAAAAAAAAAFkAzMzMzMzMXQAAAAAAAABhAmpmZmZmZFUAAAAAAAAAYQM3MzMzMzBpAMzMzMzMzGUBmZmZmZmYWQAAAAAAAABZAAAAAAAAAFkBmZmZmZmYYQDMzMzMzMxdAAAAAAAAAFEBmZmZmZmYWQM3MzMzMzBZAzczMzMzMFkDNzMzMzMwYQGZmZmZmZhRAzczMzMzMFkAzMzMzMzMZQDMzMzMzMxdAZmZmZmZmHEAzMzMzMzMZQAAAAAAAABpAZmZmZmZmHkCamZmZmZkTQDMzMzMzMx1AzczMzMzMGkDNzMzMzMwcQAAAAAAAABpAmpmZmZmZGUAzMzMzMzMbQM3MzMzMzBZAMzMzMzMzF0CamZmZmZkZQAAAAAAAABpAzczMzMzMHkDNzMzMzMweQAAAAAAAABhAmpmZmZmZG0BmZmZmZmYWQM3MzMzMzB5AMzMzMzMzGUDNzMzMzMwaQM3MzMzMzBxAzczMzMzMGEBmZmZmZmYYQJqZmZmZmRlAzczMzMzMHECamZmZmZkdQJqZmZmZmR9AmpmZmZmZGUAzMzMzMzMZQGZmZmZmZhhAzczMzMzMHkAzMzMzMzMZQJqZmZmZmRlAAAAAAAAAGECamZmZmZkbQM3MzMzMzBpAmpmZmZmZG0AzMzMzMzMXQDMzMzMzMxtAzczMzMzMGkDNzMzMzMwaQDMzMzMzMxlAAAAAAAAAGkDNzMzMzMwYQJqZmZmZmRdA\",\"dtype\":\"float64\",\"shape\":[150]},\"sepal_width\":{\"__ndarray__\":\"AAAAAAAADEAAAAAAAAAIQJqZmZmZmQlAzczMzMzMCEDNzMzMzMwMQDMzMzMzMw9AMzMzMzMzC0AzMzMzMzMLQDMzMzMzMwdAzczMzMzMCECamZmZmZkNQDMzMzMzMwtAAAAAAAAACEAAAAAAAAAIQAAAAAAAABBAmpmZmZmZEUAzMzMzMzMPQAAAAAAAAAxAZmZmZmZmDkBmZmZmZmYOQDMzMzMzMwtAmpmZmZmZDUDNzMzMzMwMQGZmZmZmZgpAMzMzMzMzC0AAAAAAAAAIQDMzMzMzMwtAAAAAAAAADEAzMzMzMzMLQJqZmZmZmQlAzczMzMzMCEAzMzMzMzMLQGZmZmZmZhBAzczMzMzMEEDNzMzMzMwIQJqZmZmZmQlAAAAAAAAADEDNzMzMzMwMQAAAAAAAAAhAMzMzMzMzC0AAAAAAAAAMQGZmZmZmZgJAmpmZmZmZCUAAAAAAAAAMQGZmZmZmZg5AAAAAAAAACEBmZmZmZmYOQJqZmZmZmQlAmpmZmZmZDUBmZmZmZmYKQJqZmZmZmQlAmpmZmZmZCUDNzMzMzMwIQGZmZmZmZgJAZmZmZmZmBkBmZmZmZmYGQGZmZmZmZgpAMzMzMzMzA0AzMzMzMzMHQJqZmZmZmQVAAAAAAAAAAEAAAAAAAAAIQJqZmZmZmQFAMzMzMzMzB0AzMzMzMzMHQM3MzMzMzAhAAAAAAAAACECamZmZmZkFQJqZmZmZmQFAAAAAAAAABECamZmZmZkJQGZmZmZmZgZAAAAAAAAABEBmZmZmZmYGQDMzMzMzMwdAAAAAAAAACEBmZmZmZmYGQAAAAAAAAAhAMzMzMzMzB0DNzMzMzMwEQDMzMzMzMwNAMzMzMzMzA0CamZmZmZkFQJqZmZmZmQVAAAAAAAAACEAzMzMzMzMLQM3MzMzMzAhAZmZmZmZmAkAAAAAAAAAIQAAAAAAAAARAzczMzMzMBEAAAAAAAAAIQM3MzMzMzARAZmZmZmZmAkCamZmZmZkFQAAAAAAAAAhAMzMzMzMzB0AzMzMzMzMHQAAAAAAAAARAZmZmZmZmBkBmZmZmZmYKQJqZmZmZmQVAAAAAAAAACEAzMzMzMzMHQAAAAAAAAAhAAAAAAAAACEAAAAAAAAAEQDMzMzMzMwdAAAAAAAAABEDNzMzMzMwMQJqZmZmZmQlAmpmZmZmZBUAAAAAAAAAIQAAAAAAAAARAZmZmZmZmBkCamZmZmZkJQAAAAAAAAAhAZmZmZmZmDkDNzMzMzMwEQJqZmZmZmQFAmpmZmZmZCUBmZmZmZmYGQGZmZmZmZgZAmpmZmZmZBUBmZmZmZmYKQJqZmZmZmQlAZmZmZmZmBkAAAAAAAAAIQGZmZmZmZgZAAAAAAAAACEBmZmZmZmYGQGZmZmZmZg5AZmZmZmZmBkBmZmZmZmYGQM3MzMzMzARAAAAAAAAACEAzMzMzMzMLQM3MzMzMzAhAAAAAAAAACEDNzMzMzMwIQM3MzMzMzAhAzczMzMzMCECamZmZmZkFQJqZmZmZmQlAZmZmZmZmCkAAAAAAAAAIQAAAAAAAAARAAAAAAAAACEAzMzMzMzMLQAAAAAAAAAhA\",\"dtype\":\"float64\",\"shape\":[150]},\"species\":[\"setosa\",\"setosa\",\"setosa\",\"setosa\",\"setosa\",\"setosa\",\"setosa\",\"setosa\",\"setosa\",\"setosa\",\"setosa\",\"setosa\",\"setosa\",\"setosa\",\"setosa\",\"setosa\",\"setosa\",\"setosa\",\"setosa\",\"setosa\",\"setosa\",\"setosa\",\"setosa\",\"setosa\",\"setosa\",\"setosa\",\"setosa\",\"setosa\",\"setosa\",\"setosa\",\"setosa\",\"setosa\",\"setosa\",\"setosa\",\"setosa\",\"setosa\",\"setosa\",\"setosa\",\"setosa\",\"setosa\",\"setosa\",\"setosa\",\"setosa\",\"setosa\",\"setosa\",\"setosa\",\"setosa\",\"setosa\",\"setosa\",\"setosa\",\"versicolor\",\"versicolor\",\"versicolor\",\"versicolor\",\"versicolor\",\"versicolor\",\"versicolor\",\"versicolor\",\"versicolor\",\"versicolor\",\"versicolor\",\"versicolor\",\"versicolor\",\"versicolor\",\"versicolor\",\"versicolor\",\"versicolor\",\"versicolor\",\"versicolor\",\"versicolor\",\"versicolor\",\"versicolor\",\"versicolor\",\"versicolor\",\"versicolor\",\"versicolor\",\"versicolor\",\"versicolor\",\"versicolor\",\"versicolor\",\"versicolor\",\"versicolor\",\"versicolor\",\"versicolor\",\"versicolor\",\"versicolor\",\"versicolor\",\"versicolor\",\"versicolor\",\"versicolor\",\"versicolor\",\"versicolor\",\"versicolor\",\"versicolor\",\"versicolor\",\"versicolor\",\"versicolor\",\"versicolor\",\"versicolor\",\"versicolor\",\"virginica\",\"virginica\",\"virginica\",\"virginica\",\"virginica\",\"virginica\",\"virginica\",\"virginica\",\"virginica\",\"virginica\",\"virginica\",\"virginica\",\"virginica\",\"virginica\",\"virginica\",\"virginica\",\"virginica\",\"virginica\",\"virginica\",\"virginica\",\"virginica\",\"virginica\",\"virginica\",\"virginica\",\"virginica\",\"virginica\",\"virginica\",\"virginica\",\"virginica\",\"virginica\",\"virginica\",\"virginica\",\"virginica\",\"virginica\",\"virginica\",\"virginica\",\"virginica\",\"virginica\",\"virginica\",\"virginica\",\"virginica\",\"virginica\",\"virginica\",\"virginica\",\"virginica\",\"virginica\",\"virginica\",\"virginica\",\"virginica\",\"virginica\"]},\"selected\":null,\"selection_policy\":null},\"id\":\"3816fcbc-8019-4f1c-adbc-701f6fd3d211\",\"type\":\"ColumnDataSource\"},{\"attributes\":{\"below\":[{\"id\":\"d8376cda-f1a4-4c59-94dd-e13413a1add8\",\"type\":\"LinearAxis\"}],\"left\":[{\"id\":\"ae33021b-2853-4739-9ac3-6aaaf5419eb2\",\"type\":\"LinearAxis\"}],\"plot_height\":400,\"plot_width\":400,\"renderers\":[{\"id\":\"d8376cda-f1a4-4c59-94dd-e13413a1add8\",\"type\":\"LinearAxis\"},{\"id\":\"dafac2d3-d479-4717-89ad-2f8aead685b8\",\"type\":\"Grid\"},{\"id\":\"ae33021b-2853-4739-9ac3-6aaaf5419eb2\",\"type\":\"LinearAxis\"},{\"id\":\"09f75245-72a7-46ba-ba2e-df5aa2b1b06a\",\"type\":\"Grid\"},{\"id\":\"9f372054-ab45-43c6-95c2-547028281a45\",\"type\":\"BoxAnnotation\"},{\"id\":\"44b60e04-fd9b-48c1-bc42-c87b6c51b3ae\",\"type\":\"GlyphRenderer\"}],\"title\":{\"id\":\"4abd934b-eca5-43d7-b65c-ef6c4acf79ae\",\"type\":\"Title\"},\"toolbar\":{\"id\":\"d4b5a0af-b96c-4cef-a2ef-11ab1d1de4df\",\"type\":\"Toolbar\"},\"x_range\":{\"id\":\"5ad95111-c7bd-4604-aa40-ce3f441ef7b1\",\"type\":\"DataRange1d\"},\"x_scale\":{\"id\":\"56807517-41c7-4e9a-b283-112a443c447f\",\"type\":\"LinearScale\"},\"y_range\":{\"id\":\"ee002edb-aa1f-479d-9d7b-2e9bb10a1bd7\",\"type\":\"DataRange1d\"},\"y_scale\":{\"id\":\"6ac9e6ca-ad41-4b3b-b9e5-d3da672b76b2\",\"type\":\"LinearScale\"}},\"id\":\"79ce103d-bbfe-498a-85fb-44b5e976ecbc\",\"subtype\":\"Figure\",\"type\":\"Plot\"},{\"attributes\":{\"plot\":{\"id\":\"79ce103d-bbfe-498a-85fb-44b5e976ecbc\",\"subtype\":\"Figure\",\"type\":\"Plot\"},\"ticker\":{\"id\":\"ada0f293-5f7e-42f7-8290-dc4c6af99b23\",\"type\":\"BasicTicker\"}},\"id\":\"dafac2d3-d479-4717-89ad-2f8aead685b8\",\"type\":\"Grid\"},{\"attributes\":{},\"id\":\"bb547738-ef7e-42a1-8f9c-b63ae858fb9a\",\"type\":\"BasicTickFormatter\"},{\"attributes\":{\"active_drag\":\"auto\",\"active_inspect\":\"auto\",\"active_scroll\":\"auto\",\"active_tap\":\"auto\",\"tools\":[{\"id\":\"3203f8e6-d407-4379-91bc-86b199e93a35\",\"type\":\"PanTool\"},{\"id\":\"903c6000-c89c-44db-a646-6a2f817e7a73\",\"type\":\"WheelZoomTool\"},{\"id\":\"92417e62-8520-4b5e-903c-03351d26b8c5\",\"type\":\"BoxZoomTool\"},{\"id\":\"be14fdff-76e9-420a-a1e8-9b2a9d8079bb\",\"type\":\"SaveTool\"},{\"id\":\"aaaf836c-007a-428f-a7f6-768ece1fe37e\",\"type\":\"ResetTool\"},{\"id\":\"d8fe6e24-c2cd-4c33-96b5-83f2edeb8150\",\"type\":\"HelpTool\"}]},\"id\":\"d4b5a0af-b96c-4cef-a2ef-11ab1d1de4df\",\"type\":\"Toolbar\"},{\"attributes\":{\"fill_alpha\":{\"value\":0.1},\"fill_color\":{\"value\":\"#1f77b4\"},\"line_alpha\":{\"value\":0.1},\"line_color\":{\"value\":\"#1f77b4\"},\"x\":{\"field\":\"petal_length\"},\"y\":{\"field\":\"petal_width\"}},\"id\":\"574d85a0-fd30-4f67-b383-027f4e0691b7\",\"type\":\"Circle\"},{\"attributes\":{},\"id\":\"49ab4ea7-b1ee-41b1-93a4-e055ee2442e5\",\"type\":\"BasicTickFormatter\"},{\"attributes\":{\"bottom_units\":\"screen\",\"fill_alpha\":{\"value\":0.5},\"fill_color\":{\"value\":\"lightgrey\"},\"left_units\":\"screen\",\"level\":\"overlay\",\"line_alpha\":{\"value\":1.0},\"line_color\":{\"value\":\"black\"},\"line_dash\":[4,4],\"line_width\":{\"value\":2},\"plot\":null,\"render_mode\":\"css\",\"right_units\":\"screen\",\"top_units\":\"screen\"},\"id\":\"9f372054-ab45-43c6-95c2-547028281a45\",\"type\":\"BoxAnnotation\"},{\"attributes\":{},\"id\":\"8a6544cb-598f-41b3-86ed-ef5333c4fab8\",\"type\":\"BasicTicker\"},{\"attributes\":{\"formatter\":{\"id\":\"bb547738-ef7e-42a1-8f9c-b63ae858fb9a\",\"type\":\"BasicTickFormatter\"},\"plot\":{\"id\":\"79ce103d-bbfe-498a-85fb-44b5e976ecbc\",\"subtype\":\"Figure\",\"type\":\"Plot\"},\"ticker\":{\"id\":\"ada0f293-5f7e-42f7-8290-dc4c6af99b23\",\"type\":\"BasicTicker\"}},\"id\":\"d8376cda-f1a4-4c59-94dd-e13413a1add8\",\"type\":\"LinearAxis\"},{\"attributes\":{\"dimension\":1,\"plot\":{\"id\":\"79ce103d-bbfe-498a-85fb-44b5e976ecbc\",\"subtype\":\"Figure\",\"type\":\"Plot\"},\"ticker\":{\"id\":\"8a6544cb-598f-41b3-86ed-ef5333c4fab8\",\"type\":\"BasicTicker\"}},\"id\":\"09f75245-72a7-46ba-ba2e-df5aa2b1b06a\",\"type\":\"Grid\"},{\"attributes\":{\"plot\":null,\"text\":\"\"},\"id\":\"4abd934b-eca5-43d7-b65c-ef6c4acf79ae\",\"type\":\"Title\"},{\"attributes\":{},\"id\":\"3203f8e6-d407-4379-91bc-86b199e93a35\",\"type\":\"PanTool\"},{\"attributes\":{\"callback\":null},\"id\":\"5ad95111-c7bd-4604-aa40-ce3f441ef7b1\",\"type\":\"DataRange1d\"},{\"attributes\":{},\"id\":\"6ac9e6ca-ad41-4b3b-b9e5-d3da672b76b2\",\"type\":\"LinearScale\"},{\"attributes\":{\"source\":{\"id\":\"3816fcbc-8019-4f1c-adbc-701f6fd3d211\",\"type\":\"ColumnDataSource\"}},\"id\":\"2719b80f-fd3c-4c08-9adc-72c7557a8f2f\",\"type\":\"CDSView\"},{\"attributes\":{},\"id\":\"56807517-41c7-4e9a-b283-112a443c447f\",\"type\":\"LinearScale\"},{\"attributes\":{},\"id\":\"903c6000-c89c-44db-a646-6a2f817e7a73\",\"type\":\"WheelZoomTool\"},{\"attributes\":{\"overlay\":{\"id\":\"9f372054-ab45-43c6-95c2-547028281a45\",\"type\":\"BoxAnnotation\"}},\"id\":\"92417e62-8520-4b5e-903c-03351d26b8c5\",\"type\":\"BoxZoomTool\"},{\"attributes\":{\"fill_color\":{\"value\":\"#1f77b4\"},\"line_color\":{\"value\":\"#1f77b4\"},\"x\":{\"field\":\"petal_length\"},\"y\":{\"field\":\"petal_width\"}},\"id\":\"5d08e5a5-ab19-4499-95b2-c8ba22ec8448\",\"type\":\"Circle\"},{\"attributes\":{\"formatter\":{\"id\":\"49ab4ea7-b1ee-41b1-93a4-e055ee2442e5\",\"type\":\"BasicTickFormatter\"},\"plot\":{\"id\":\"79ce103d-bbfe-498a-85fb-44b5e976ecbc\",\"subtype\":\"Figure\",\"type\":\"Plot\"},\"ticker\":{\"id\":\"8a6544cb-598f-41b3-86ed-ef5333c4fab8\",\"type\":\"BasicTicker\"}},\"id\":\"ae33021b-2853-4739-9ac3-6aaaf5419eb2\",\"type\":\"LinearAxis\"},{\"attributes\":{\"callback\":null},\"id\":\"ee002edb-aa1f-479d-9d7b-2e9bb10a1bd7\",\"type\":\"DataRange1d\"},{\"attributes\":{},\"id\":\"be14fdff-76e9-420a-a1e8-9b2a9d8079bb\",\"type\":\"SaveTool\"}],\"root_ids\":[\"79ce103d-bbfe-498a-85fb-44b5e976ecbc\"]},\"title\":\"Bokeh Application\",\"version\":\"0.12.15\"}};\n",
       "  var render_items = [{\"docid\":\"9cd8308d-33b2-4649-ae3f-f145153c30fb\",\"elementid\":\"9f80fb39-b04b-4f62-8571-7beadc6796a9\",\"modelid\":\"79ce103d-bbfe-498a-85fb-44b5e976ecbc\"}];\n",
       "  root.Bokeh.embed.embed_items_notebook(docs_json, render_items);\n",
       "\n",
       "  }\n",
       "  if (root.Bokeh !== undefined) {\n",
       "    embed_document(root);\n",
       "  } else {\n",
       "    var attempts = 0;\n",
       "    var timer = setInterval(function(root) {\n",
       "      if (root.Bokeh !== undefined) {\n",
       "        embed_document(root);\n",
       "        clearInterval(timer);\n",
       "      }\n",
       "      attempts++;\n",
       "      if (attempts > 100) {\n",
       "        console.log(\"Bokeh: ERROR: Unable to run BokehJS code because BokehJS library is missing\")\n",
       "        clearInterval(timer);\n",
       "      }\n",
       "    }, 10, root)\n",
       "  }\n",
       "})(window);"
      ],
      "application/vnd.bokehjs_exec.v0+json": ""
     },
     "metadata": {
      "application/vnd.bokehjs_exec.v0+json": {
       "id": "79ce103d-bbfe-498a-85fb-44b5e976ecbc"
      }
     },
     "output_type": "display_data"
    }
   ],
   "source": [
    "p = figure(plot_width = 400, plot_height = 400)\n",
    "p.circle('petal_length', 'petal_width', source = source)\n",
    "show(p)"
   ]
  },
  {
   "cell_type": "markdown",
   "metadata": {},
   "source": [
    "### Ejemplo 100m"
   ]
  },
  {
   "cell_type": "code",
   "execution_count": 43,
   "metadata": {},
   "outputs": [],
   "source": [
    "fileData = pd.read_csv(\"100m.csv\")"
   ]
  },
  {
   "cell_type": "code",
   "execution_count": 44,
   "metadata": {},
   "outputs": [
    {
     "data": {
      "text/plain": [
       "Index(['Name', 'Country', 'Medal', 'Time', 'Year', 'color'], dtype='object')"
      ]
     },
     "execution_count": 44,
     "metadata": {},
     "output_type": "execute_result"
    }
   ],
   "source": [
    "fileData.columns"
   ]
  },
  {
   "cell_type": "code",
   "execution_count": 45,
   "metadata": {},
   "outputs": [
    {
     "data": {
      "text/html": [
       "\n",
       "<div class=\"bk-root\">\n",
       "    <div class=\"bk-plotdiv\" id=\"9a3ed2c5-eaf6-4dd8-9819-5f7a208db042\"></div>\n",
       "</div>"
      ]
     },
     "metadata": {},
     "output_type": "display_data"
    },
    {
     "data": {
      "application/javascript": [
       "(function(root) {\n",
       "  function embed_document(root) {\n",
       "    \n",
       "  var docs_json = {\"181ce4d1-a2c9-4ad2-9ebe-9f0fd8a16439\":{\"roots\":{\"references\":[{\"attributes\":{\"dimension\":1,\"plot\":{\"id\":\"e98f7f3f-adca-4ffd-ad9c-77386d939bb3\",\"subtype\":\"Figure\",\"type\":\"Plot\"},\"ticker\":{\"id\":\"4f3e8a08-c88f-4e0c-8312-4402d8bd4410\",\"type\":\"BasicTicker\"}},\"id\":\"ef164ff6-7ac6-4647-b0bf-8c9c553f801d\",\"type\":\"Grid\"},{\"attributes\":{\"data_source\":{\"id\":\"9e408cc7-7177-42c3-85bf-b72c6fa4ca75\",\"type\":\"ColumnDataSource\"},\"glyph\":{\"id\":\"c69eef55-550c-4ee3-b869-b1bce0bbc699\",\"type\":\"Circle\"},\"hover_glyph\":null,\"muted_glyph\":null,\"nonselection_glyph\":{\"id\":\"6f703617-95d1-4eeb-8743-13db65562cd6\",\"type\":\"Circle\"},\"selection_glyph\":null,\"view\":{\"id\":\"7af15e67-cb48-486f-ba79-1f8815ce6289\",\"type\":\"CDSView\"}},\"id\":\"f01e3979-d507-4e35-a8df-754b1c409e0d\",\"type\":\"GlyphRenderer\"},{\"attributes\":{\"below\":[{\"id\":\"3d55dd43-c26f-4f26-a59b-4ca3df371f95\",\"type\":\"LinearAxis\"}],\"left\":[{\"id\":\"8b751b0b-722a-4701-aa30-b51e81cf11f0\",\"type\":\"LinearAxis\"}],\"plot_height\":400,\"plot_width\":400,\"renderers\":[{\"id\":\"3d55dd43-c26f-4f26-a59b-4ca3df371f95\",\"type\":\"LinearAxis\"},{\"id\":\"707fe6f4-e487-48f1-9cf8-5298c923e8f2\",\"type\":\"Grid\"},{\"id\":\"8b751b0b-722a-4701-aa30-b51e81cf11f0\",\"type\":\"LinearAxis\"},{\"id\":\"ef164ff6-7ac6-4647-b0bf-8c9c553f801d\",\"type\":\"Grid\"},{\"id\":\"3d865e41-40b8-411d-8f03-99235fa031b2\",\"type\":\"BoxAnnotation\"},{\"id\":\"f01e3979-d507-4e35-a8df-754b1c409e0d\",\"type\":\"GlyphRenderer\"}],\"title\":{\"id\":\"07a2dcdf-cd98-466a-9f45-dffb09282f4d\",\"type\":\"Title\"},\"toolbar\":{\"id\":\"f7296b2f-18e2-4fe4-8119-b985748c3b05\",\"type\":\"Toolbar\"},\"x_range\":{\"id\":\"19eaa2d5-ea57-4d7e-8257-a778cc9a89f7\",\"type\":\"DataRange1d\"},\"x_scale\":{\"id\":\"05838b10-3a6d-4a7d-806a-5293cef3fc09\",\"type\":\"LinearScale\"},\"y_range\":{\"id\":\"f1963ce4-9c5c-4cbf-a98f-c5f7f27f324e\",\"type\":\"DataRange1d\"},\"y_scale\":{\"id\":\"e3c15b12-f855-440d-be63-61ea74e1f9a2\",\"type\":\"LinearScale\"}},\"id\":\"e98f7f3f-adca-4ffd-ad9c-77386d939bb3\",\"subtype\":\"Figure\",\"type\":\"Plot\"},{\"attributes\":{\"fill_color\":{\"field\":\"color\"},\"line_color\":{\"field\":\"color\"},\"x\":{\"field\":\"Year\"},\"y\":{\"field\":\"Time\"}},\"id\":\"c69eef55-550c-4ee3-b869-b1bce0bbc699\",\"type\":\"Circle\"},{\"attributes\":{\"callback\":null,\"column_names\":[\"Name\",\"Country\",\"Medal\",\"Time\",\"Year\",\"color\",\"index\"],\"data\":{\"Country\":[\"JAM\",\"JAM\",\"USA\",\"JAM\",\"TRI\",\"USA\",\"USA\",\"POR\",\"USA\",\"USA\",\"TRI\",\"BAR\",\"CAN\",\"NAM\",\"TRI\",\"GBR\",\"NAM\",\"USA\",\"USA\",\"GBR\",\"USA\",\"USA\",\"USA\",\"CAN\",\"GBR\",\"CUB\",\"BUL\",\"TRI\",\"JAM\",\"URS\",\"URS\",\"USA\",\"JAM\",\"USA\",\"JAM\",\"USA\",\"USA\",\"CUB\",\"CAN\",\"EUA\",\"USA\",\"GBR\",\"USA\",\"USA\",\"AUS\",\"USA\",\"JAM\",\"GBR\",\"USA\",\"USA\",\"PAN\",\"USA\",\"USA\",\"NED\",\"USA\",\"USA\",\"GER\",\"CAN\",\"GBR\",\"GER\",\"GBR\",\"USA\",\"NZL\",\"USA\",\"USA\",\"GBR\",\"USA\",\"USA\",\"USA\",\"RSA\",\"USA\",\"CAN\",\"USA\",\"USA\",\"AUS\",\"USA\",\"USA\",\"USA\",\"USA\",\"USA\",\"AUS\",\"USA\",\"GER\",\"HUN\",\"USA\"],\"Medal\":[\"GOLD\",\"SILVER\",\"BRONZE\",\"GOLD\",\"SILVER\",\"BRONZE\",\"GOLD\",\"SILVER\",\"BRONZE\",\"GOLD\",\"SILVER\",\"BRONZE\",\"GOLD\",\"SILVER\",\"BRONZE\",\"GOLD\",\"SILVER\",\"BRONZE\",\"GOLD\",\"SILVER\",\"BRONZE\",\"GOLD\",\"SILVER\",\"BRONZE\",\"GOLD\",\"SILVER\",\"BRONZE\",\"GOLD\",\"SILVER\",\"BRONZE\",\"GOLD\",\"SILVER\",\"BRONZE\",\"GOLD\",\"SILVER\",\"BRONZE\",\"GOLD\",\"SILVER\",\"BRONZE\",\"GOLD\",\"SILVER\",\"BRONZE\",\"GOLD\",\"SILVER\",\"BRONZE\",\"GOLD\",\"SILVER\",\"BRONZE\",\"GOLD\",\"SILVER\",\"BRONZE\",\"GOLD\",\"SILVER\",\"BRONZE\",\"GOLD\",\"SILVER\",\"BRONZE\",\"GOLD\",\"SILVER\",\"BRONZE\",\"GOLD\",\"SILVER\",\"BRONZE\",\"GOLD\",\"SILVER\",\"BRONZE\",\"GOLD\",\"SILVER\",\"BRONZE\",\"GOLD\",\"SILVER\",\"BRONZE\",\"GOLD\",\"SILVER\",\"BRONZE\",\"GOLD\",\"SILVER\",\"BRONZE\",\"GOLD\",\"SILVER\",\"BRONZE\",\"GOLD\",\"SILVER\",\"BRONZE\",\"BRONZE\"],\"Name\":[\"Usain Bolt\",\"Yohan Blake\",\"Justin Gatlin\",\"Usain Bolt\",\"Richard Thompson\",\"Walter Dix\",\"Justin Gatlin\",\"Francis Obikwelu\",\"Maurice Greene\",\"Maurice Greene\",\"Ato Boldon\",\"Obadele Thompson\",\"Donovan Bailey\",\"Frankie Fredericks\",\"Ato Boldon\",\"Linford Christie\",\"Frankie Fredericks\",\"Dennis Mitchell\",\"Carl Lewis\",\"Linford Christie\",\"Calvin Smith\",\"Carl Lewis\",\"Sam Graddy\",\"Ben Johnson\",\"Allan Wells\",\"Silvio Leonard Tartabull\",\"Petar Petrov\",\"Hasely Crawford\",\"Donald Quarrie\",\"Valery Borzov\",\"Valery Borzov\",\"Robert Taylor\",\"Lennox Miller\",\"Jim Hines\",\"Lennox Miller\",\"Charles Greene\",\"Bob Hayes\",\"Enrique Figuerola Camue\",\"Harry Jerome\",\"Armin Hary\",\"David Sime\",\"Peter Radford\",\"Bobby Joe Morrow\",\"W. Thane Baker\",\"Hector Hogan\",\"Lindy Remigino\",\"Herbert McKenley\",\"E. McDonald Bailey\",\"W. Harrison Dillard\",\"H. Norwood \\\"Barney\\\" Ewell\",\"Lloyd LaBeach\",\"Jesse Owens\",\"Ralph Metcalfe\",\"Martinus Osendarp\",\"T. \\\"Eddie\\\" Tolan\",\"Ralph Metcalfe\",\"Arthur Jonath\",\"Percy Williams\",\"John \\\"Jack\\\" London\",\"Georg Lammers\",\"Harold Abrahams\",\"Jackson Scholz\",\"Arthur Porritt\",\"Charles Paddock\",\"Morris Kirksey\",\"Harry Edward\",\"Ralph Craig\",\"Alvah Meyer\",\"Donald Lippincott\",\"Reginald Walker\",\"James Rector\",\"Robert Kerr\",\"Charles \\\"Archie\\\" Hahn\",\"Fay Moulton\",\"Nigel Barker\",\"Charles \\\"Archie\\\" Hahn\",\"Nathaniel Cartmell\",\"Bill Hogenson\",\"Frank Jarvis\",\"J. Walter Tewksbury\",\"Stanley Rowley\",\"Thomas Burke\",\"Fritz Hofmann\",\"Alojz Sokol\",\"Francis Lane\"],\"Time\":{\"__ndarray__\":\"w/UoXI9CI0AAAAAAAIAjQBSuR+F6lCNA4XoUrkdhI0BI4XoUrscjQFK4HoXr0SNAMzMzMzOzI0C4HoXrUbgjQD0K16NwvSNAPQrXo3C9I0B7FK5H4fojQBSuR+F6FCRArkfhehSuI0BI4XoUrscjQM3MzMzMzCNA7FG4HoXrI0AK16NwPQokQBSuR+F6FCRA16NwPQrXI0BxPQrXo/AjQHsUrkfh+iNAexSuR+H6I0DhehSuR2EkQHE9CtejcCRAAAAAAACAJEAAAAAAAIAkQEjhehSuxyRAH4XrUbgeJEApXI/C9SgkQEjhehSuRyRASOF6FK5HJEB7FK5H4XokQClcj8L1qCRAZmZmZmbmI0AUrkfhehQkQKRwPQrXIyRAAAAAAAAAJEBmZmZmZmYkQGZmZmZmZiRAZmZmZmZmJEBmZmZmZmYkQJqZmZmZmSRAAAAAAAAAJUAAAAAAAAAlQDMzMzMzMyVAzczMzMzMJEDNzMzMzMwkQM3MzMzMzCRAmpmZmZmZJEDNzMzMzMwkQM3MzMzMzCRAmpmZmZmZJEDNzMzMzMwkQAAAAAAAACVAmpmZmZmZJECamZmZmZkkQM3MzMzMzCRAmpmZmZmZJUDNzMzMzMwlQM3MzMzMzCVAMzMzMzMzJUCamZmZmZklQM3MzMzMzCVAmpmZmZmZJUDNzMzMzMwlQM3MzMzMzCVAmpmZmZmZJUDNzMzMzMwlQM3MzMzMzCVAmpmZmZmZJUAAAAAAAAAmQAAAAAAAACZAZmZmZmZmJkCamZmZmZkmQJqZmZmZmSZAAAAAAAAAJkBmZmZmZmYmQGZmZmZmZiZAAAAAAAAAJkAzMzMzMzMmQGZmZmZmZiZAAAAAAAAAKEBmZmZmZmYoQDMzMzMzMylAMzMzMzMzKUA=\",\"dtype\":\"float64\",\"shape\":[85]},\"Year\":[2012,2012,2012,2008,2008,2008,2004,2004,2004,2000,2000,2000,1996,1996,1996,1992,1992,1992,1988,1988,1988,1984,1984,1984,1980,1980,1980,1976,1976,1976,1972,1972,1972,1968,1968,1968,1964,1964,1964,1960,1960,1960,1956,1956,1956,1952,1952,1952,1948,1948,1948,1936,1936,1936,1932,1932,1932,1928,1928,1928,1924,1924,1924,1920,1920,1920,1912,1912,1912,1908,1908,1908,1906,1906,1906,1904,1904,1904,1900,1900,1900,1896,1896,1896,1896],\"color\":[\"goldenrod\",\"silver\",\"saddlebrown\",\"goldenrod\",\"silver\",\"saddlebrown\",\"goldenrod\",\"silver\",\"saddlebrown\",\"goldenrod\",\"silver\",\"saddlebrown\",\"goldenrod\",\"silver\",\"saddlebrown\",\"goldenrod\",\"silver\",\"saddlebrown\",\"goldenrod\",\"silver\",\"saddlebrown\",\"goldenrod\",\"silver\",\"saddlebrown\",\"goldenrod\",\"silver\",\"saddlebrown\",\"goldenrod\",\"silver\",\"saddlebrown\",\"goldenrod\",\"silver\",\"saddlebrown\",\"goldenrod\",\"silver\",\"saddlebrown\",\"goldenrod\",\"silver\",\"saddlebrown\",\"goldenrod\",\"silver\",\"saddlebrown\",\"goldenrod\",\"silver\",\"saddlebrown\",\"goldenrod\",\"silver\",\"saddlebrown\",\"goldenrod\",\"silver\",\"saddlebrown\",\"goldenrod\",\"silver\",\"saddlebrown\",\"goldenrod\",\"silver\",\"saddlebrown\",\"goldenrod\",\"silver\",\"saddlebrown\",\"goldenrod\",\"silver\",\"saddlebrown\",\"goldenrod\",\"silver\",\"saddlebrown\",\"goldenrod\",\"silver\",\"saddlebrown\",\"goldenrod\",\"silver\",\"saddlebrown\",\"goldenrod\",\"silver\",\"saddlebrown\",\"goldenrod\",\"silver\",\"saddlebrown\",\"goldenrod\",\"silver\",\"saddlebrown\",\"goldenrod\",\"silver\",\"saddlebrown\",\"saddlebrown\"],\"index\":[0,1,2,3,4,5,6,7,8,9,10,11,12,13,14,15,16,17,18,19,20,21,22,23,24,25,26,27,28,29,30,31,32,33,34,35,36,37,38,39,40,41,42,43,44,45,46,47,48,49,50,51,52,53,54,55,56,57,58,59,60,61,62,63,64,65,66,67,68,69,70,71,72,73,74,75,76,77,78,79,80,81,82,83,84]},\"selected\":null,\"selection_policy\":null},\"id\":\"9e408cc7-7177-42c3-85bf-b72c6fa4ca75\",\"type\":\"ColumnDataSource\"},{\"attributes\":{\"plot\":null,\"text\":\"\"},\"id\":\"07a2dcdf-cd98-466a-9f45-dffb09282f4d\",\"type\":\"Title\"},{\"attributes\":{},\"id\":\"b6a01cf9-6707-47bf-be9e-07fb4c17f5fe\",\"type\":\"BasicTickFormatter\"},{\"attributes\":{},\"id\":\"86a0aed6-5652-4a24-a5fa-eb0ee353f438\",\"type\":\"PanTool\"},{\"attributes\":{\"source\":{\"id\":\"9e408cc7-7177-42c3-85bf-b72c6fa4ca75\",\"type\":\"ColumnDataSource\"}},\"id\":\"7af15e67-cb48-486f-ba79-1f8815ce6289\",\"type\":\"CDSView\"},{\"attributes\":{},\"id\":\"e3c15b12-f855-440d-be63-61ea74e1f9a2\",\"type\":\"LinearScale\"},{\"attributes\":{},\"id\":\"58358ac7-3fff-4db3-b10a-8349c26202cf\",\"type\":\"WheelZoomTool\"},{\"attributes\":{},\"id\":\"05838b10-3a6d-4a7d-806a-5293cef3fc09\",\"type\":\"LinearScale\"},{\"attributes\":{\"overlay\":{\"id\":\"3d865e41-40b8-411d-8f03-99235fa031b2\",\"type\":\"BoxAnnotation\"}},\"id\":\"755a1472-4508-454a-bd2b-1f7a86b8aebe\",\"type\":\"BoxZoomTool\"},{\"attributes\":{\"callback\":null},\"id\":\"f1963ce4-9c5c-4cbf-a98f-c5f7f27f324e\",\"type\":\"DataRange1d\"},{\"attributes\":{},\"id\":\"9d8daf11-d160-443f-b911-0b34ee4d2d5e\",\"type\":\"SaveTool\"},{\"attributes\":{\"fill_alpha\":{\"value\":0.1},\"fill_color\":{\"value\":\"#1f77b4\"},\"line_alpha\":{\"value\":0.1},\"line_color\":{\"value\":\"#1f77b4\"},\"x\":{\"field\":\"Year\"},\"y\":{\"field\":\"Time\"}},\"id\":\"6f703617-95d1-4eeb-8743-13db65562cd6\",\"type\":\"Circle\"},{\"attributes\":{},\"id\":\"51aff810-058a-40a7-9029-05c33cf2f350\",\"type\":\"ResetTool\"},{\"attributes\":{\"callback\":null},\"id\":\"19eaa2d5-ea57-4d7e-8257-a778cc9a89f7\",\"type\":\"DataRange1d\"},{\"attributes\":{},\"id\":\"d2ecd159-1cfc-4371-a20a-c0859e66d42d\",\"type\":\"HelpTool\"},{\"attributes\":{\"bottom_units\":\"screen\",\"fill_alpha\":{\"value\":0.5},\"fill_color\":{\"value\":\"lightgrey\"},\"left_units\":\"screen\",\"level\":\"overlay\",\"line_alpha\":{\"value\":1.0},\"line_color\":{\"value\":\"black\"},\"line_dash\":[4,4],\"line_width\":{\"value\":2},\"plot\":null,\"render_mode\":\"css\",\"right_units\":\"screen\",\"top_units\":\"screen\"},\"id\":\"3d865e41-40b8-411d-8f03-99235fa031b2\",\"type\":\"BoxAnnotation\"},{\"attributes\":{\"active_drag\":\"auto\",\"active_inspect\":\"auto\",\"active_scroll\":\"auto\",\"active_tap\":\"auto\",\"tools\":[{\"id\":\"86a0aed6-5652-4a24-a5fa-eb0ee353f438\",\"type\":\"PanTool\"},{\"id\":\"58358ac7-3fff-4db3-b10a-8349c26202cf\",\"type\":\"WheelZoomTool\"},{\"id\":\"755a1472-4508-454a-bd2b-1f7a86b8aebe\",\"type\":\"BoxZoomTool\"},{\"id\":\"9d8daf11-d160-443f-b911-0b34ee4d2d5e\",\"type\":\"SaveTool\"},{\"id\":\"51aff810-058a-40a7-9029-05c33cf2f350\",\"type\":\"ResetTool\"},{\"id\":\"d2ecd159-1cfc-4371-a20a-c0859e66d42d\",\"type\":\"HelpTool\"}]},\"id\":\"f7296b2f-18e2-4fe4-8119-b985748c3b05\",\"type\":\"Toolbar\"},{\"attributes\":{},\"id\":\"5da0a10a-d6af-4d7c-9df4-2ab0baa5aad4\",\"type\":\"BasicTickFormatter\"},{\"attributes\":{\"plot\":{\"id\":\"e98f7f3f-adca-4ffd-ad9c-77386d939bb3\",\"subtype\":\"Figure\",\"type\":\"Plot\"},\"ticker\":{\"id\":\"2796332f-bbcd-42d0-8dd1-8142af2986ad\",\"type\":\"BasicTicker\"}},\"id\":\"707fe6f4-e487-48f1-9cf8-5298c923e8f2\",\"type\":\"Grid\"},{\"attributes\":{\"formatter\":{\"id\":\"5da0a10a-d6af-4d7c-9df4-2ab0baa5aad4\",\"type\":\"BasicTickFormatter\"},\"plot\":{\"id\":\"e98f7f3f-adca-4ffd-ad9c-77386d939bb3\",\"subtype\":\"Figure\",\"type\":\"Plot\"},\"ticker\":{\"id\":\"2796332f-bbcd-42d0-8dd1-8142af2986ad\",\"type\":\"BasicTicker\"}},\"id\":\"3d55dd43-c26f-4f26-a59b-4ca3df371f95\",\"type\":\"LinearAxis\"},{\"attributes\":{},\"id\":\"2796332f-bbcd-42d0-8dd1-8142af2986ad\",\"type\":\"BasicTicker\"},{\"attributes\":{\"formatter\":{\"id\":\"b6a01cf9-6707-47bf-be9e-07fb4c17f5fe\",\"type\":\"BasicTickFormatter\"},\"plot\":{\"id\":\"e98f7f3f-adca-4ffd-ad9c-77386d939bb3\",\"subtype\":\"Figure\",\"type\":\"Plot\"},\"ticker\":{\"id\":\"4f3e8a08-c88f-4e0c-8312-4402d8bd4410\",\"type\":\"BasicTicker\"}},\"id\":\"8b751b0b-722a-4701-aa30-b51e81cf11f0\",\"type\":\"LinearAxis\"},{\"attributes\":{},\"id\":\"4f3e8a08-c88f-4e0c-8312-4402d8bd4410\",\"type\":\"BasicTicker\"}],\"root_ids\":[\"e98f7f3f-adca-4ffd-ad9c-77386d939bb3\"]},\"title\":\"Bokeh Application\",\"version\":\"0.12.15\"}};\n",
       "  var render_items = [{\"docid\":\"181ce4d1-a2c9-4ad2-9ebe-9f0fd8a16439\",\"elementid\":\"9a3ed2c5-eaf6-4dd8-9819-5f7a208db042\",\"modelid\":\"e98f7f3f-adca-4ffd-ad9c-77386d939bb3\"}];\n",
       "  root.Bokeh.embed.embed_items_notebook(docs_json, render_items);\n",
       "\n",
       "  }\n",
       "  if (root.Bokeh !== undefined) {\n",
       "    embed_document(root);\n",
       "  } else {\n",
       "    var attempts = 0;\n",
       "    var timer = setInterval(function(root) {\n",
       "      if (root.Bokeh !== undefined) {\n",
       "        embed_document(root);\n",
       "        clearInterval(timer);\n",
       "      }\n",
       "      attempts++;\n",
       "      if (attempts > 100) {\n",
       "        console.log(\"Bokeh: ERROR: Unable to run BokehJS code because BokehJS library is missing\")\n",
       "        clearInterval(timer);\n",
       "      }\n",
       "    }, 10, root)\n",
       "  }\n",
       "})(window);"
      ],
      "application/vnd.bokehjs_exec.v0+json": ""
     },
     "metadata": {
      "application/vnd.bokehjs_exec.v0+json": {
       "id": "e98f7f3f-adca-4ffd-ad9c-77386d939bb3"
      }
     },
     "output_type": "display_data"
    }
   ],
   "source": [
    "dataSource = ColumnDataSource(fileData)\n",
    "p = figure(plot_width = 400, plot_height = 400)\n",
    "p.circle('Year', 'Time', source = dataSource, fill_color = 'color', line_color = 'color')\n",
    "show(p)"
   ]
  },
  {
   "cell_type": "code",
   "execution_count": null,
   "metadata": {},
   "outputs": [],
   "source": []
  }
 ],
 "metadata": {
  "kernelspec": {
   "display_name": "Python 3",
   "language": "python",
   "name": "python3"
  },
  "language_info": {
   "codemirror_mode": {
    "name": "ipython",
    "version": 3
   },
   "file_extension": ".py",
   "mimetype": "text/x-python",
   "name": "python",
   "nbconvert_exporter": "python",
   "pygments_lexer": "ipython3",
   "version": "3.6.5"
  }
 },
 "nbformat": 4,
 "nbformat_minor": 2
}
